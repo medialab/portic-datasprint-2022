{
 "cells": [
  {
   "cell_type": "code",
   "execution_count": null,
   "id": "68bd3aaa-5564-4eaa-af86-c40018a65cc2",
   "metadata": {},
   "outputs": [],
   "source": [
    "import csv\n",
    "\n",
    "destinations_navigo = {}\n",
    "with open('../../data/navigo_all_flows_1787.csv', newline='') as csvfile:\n",
    "  flows = csv.DictReader(csvfile)\n",
    "  commodity_fields = ['commodity_standardized_fr', 'commodity_standardized2_fr', 'commodity_standardized3_fr', 'commodity_standardized4_fr']\n",
    "  stop_commodities = set(['lest', 'lège', 'vide', 'futailles vides'])\n",
    "  total_commodities = set()\n",
    "  for flow in flows:\n",
    "    destination = flow['destination_partner_balance_1789']\n",
    "    transformation_map = {\n",
    "      'Quatre villes hanséatiques': 'Villes hanséatiques',\n",
    "      'Etats-Unis': 'États-Unis d\\'Amérique',\n",
    "      # 'Etats de l\\'Empereur':''\n",
    "    }\n",
    "    if destination in transformation_map:\n",
    "      destination = transformation_map[destination]\n",
    "    departure = flow['departure_state_1789_fr']\n",
    "    tonnage = float(flow['tonnage'] or 0)\n",
    "    if flow['departure_function'] == 'O' \\\n",
    "      and departure == 'France' \\\n",
    "      and destination != '' \\\n",
    "      and destination != 'France' \\\n",
    "      and flow['destination_state_1789_fr'] != 'France' :\n",
    "      commodities = [flow[field].lower() for field in commodity_fields if flow[field] != '']\n",
    "      not_stop = [commodity for commodity in commodities if commodity not in stop_commodities]\n",
    "      if len(commodities) == 0 or len(not_stop) > 0:\n",
    "        for c in not_stop:\n",
    "          total_commodities.add(c)\n",
    "        # print(departure + '->' + destination, flow['tonnage'] + '->' + str(tonnage))\n",
    "        # at this point we have all the flows we want\n",
    "        if destination not in destinations_navigo:\n",
    "          destinations_navigo[destination] = 0\n",
    "        destinations_navigo[destination] += tonnage\n",
    "print('destinations navigo:')\n",
    "print(destinations_navigo)"
   ]
  },
  {
   "cell_type": "code",
   "execution_count": null,
   "id": "aee563a8-45d4-40f4-bba8-0b102ce534d7",
   "metadata": {},
   "outputs": [],
   "source": [
    "print('coucou')\n",
    "pr"
   ]
  },
  {
   "cell_type": "code",
   "execution_count": null,
   "id": "6fc7369d-0c80-4614-b571-d6d64134b19e",
   "metadata": {},
   "outputs": [],
   "source": [
    "from IPython.display import display\n",
    "import pandas as pd\n",
    "\n",
    "def VegaLite(spec):\n",
    "    bundle = {}\n",
    "    bundle['application/vnd.vegalite.v4+json'] = spec\n",
    "    display(bundle, raw=True)"
   ]
  }
 ],
 "metadata": {
  "kernelspec": {
   "display_name": "Python 3 (ipykernel)",
   "language": "python",
   "name": "python3"
  },
  "language_info": {
   "name": ""
  }
 },
 "nbformat": 4,
 "nbformat_minor": 5
}
