{
 "cells": [
  {
   "cell_type": "code",
   "execution_count": null,
   "id": "372b991c-289d-449d-b023-1c39bf14f835",
   "metadata": {},
   "outputs": [],
   "source": [
    "import csv\n",
    "\n",
    "destinations_navigo = {}\n",
    "with open('../../data/navigo_all_flows_1787.csv', newline='') as csvfile:\n",
    "  flows = csv.DictReader(csvfile)\n",
    "  commodity_fields = ['commodity_standardized_fr', 'commodity_standardized2_fr', 'commodity_standardized3_fr', 'commodity_standardized4_fr']\n",
    "  stop_commodities = set(['lest', 'lège', 'vide', 'futailles vides'])\n",
    "  total_commodities = set()\n",
    "  for flow in flows:\n",
    "    destination = flow['destination_partner_balance_1789']\n",
    "    transformation_map = {\n",
    "      'Quatre villes hanséatiques': 'Villes hanséatiques',\n",
    "      'Etats-Unis': 'États-Unis d\\'Amérique',\n",
    "      # 'Etats de l\\'Empereur':''\n",
    "    }\n",
    "    if destination in transformation_map:\n",
    "      destination = transformation_map[destination]\n",
    "    departure = flow['departure_state_1789_fr']\n",
    "    tonnage = float(flow['tonnage'] or 0)\n",
    "    if flow['departure_function'] == 'O' \\\n",
    "      and departure == 'France' \\\n",
    "      and destination != '' \\\n",
    "      and destination != 'France' \\\n",
    "      and flow['destination_state_1789_fr'] != 'France' :\n",
    "      commodities = [flow[field].lower() for field in commodity_fields if flow[field] != '']\n",
    "      not_stop = [commodity for commodity in commodities if commodity not in stop_commodities]\n",
    "      if len(commodities) == 0 or len(not_stop) > 0:\n",
    "        for c in not_stop:\n",
    "          total_commodities.add(c)\n",
    "        # print(departure + '->' + destination, flow['tonnage'] + '->' + str(tonnage))\n",
    "        # at this point we have all the flows we want\n",
    "        if destination not in destinations_navigo:\n",
    "          destinations_navigo[destination] = 0\n",
    "        destinations_navigo[destination] += tonnage\n",
    "print('destinations navigo:')\n",
    "print(destinations_navigo)"
   ]
  },
  {
   "cell_type": "code",
   "execution_count": null,
   "id": "c084f1b7-7486-4558-b800-271d3aa0e189",
   "metadata": {},
   "outputs": [],
   "source": [
    "print('\\n'.join([{\"destination\": destination, \"tonnage\": tonnage} for destination, tonnage in destinations_navigo.items()]))"
   ]
  },
  {
   "cell_type": "code",
   "execution_count": null,
   "id": "aa751e41-a63b-4525-a950-97c9d86f75f5",
   "metadata": {},
   "outputs": [],
   "source": [
    "from IPython.display import display\n",
    "import pandas as pd\n",
    "\n",
    "def VegaLite(spec):\n",
    "    bundle = {}\n",
    "    bundle['application/vnd.vegalite.v4+json'] = spec\n",
    "    display(bundle, raw=True)"
   ]
  },
  {
   "cell_type": "code",
   "execution_count": 56,
   "id": "2d6a8fd8-1384-46cf-aecf-18d03d95a3b8",
   "metadata": {},
   "outputs": [],
   "source": [
    "import json\n",
    "\n",
    "with open(\"data/import_export_ports_francs.json\", \"r\") as f:\n",
    "    data = json.load(f)"
   ]
  },
  {
   "cell_type": "code",
   "execution_count": 53,
   "id": "e5536b8c-a4ea-4e73-9a47-ff4a0f762ef7",
   "metadata": {},
   "outputs": [],
   "source": [
    "SORT_LABELS = [\"colonies\", \"Monde\", \"France\", \"Fraude ?\"]\n",
    "PALETTE = [\"purple\", \"darkblue\", \"olive\", \"lightgrey\", \"darkgrey\"]"
   ]
  },
  {
   "cell_type": "code",
   "execution_count": 54,
   "id": "0c46e8b3-4b0b-48f7-9102-0576468e9942",
   "metadata": {},
   "outputs": [],
   "source": [
    "from itertools import groupby\n",
    "\n",
    "def pyramide_port_franc(port_franc, report, row_field, bloc_field, product_title):\n",
    "    \n",
    "    key = lambda d: (d['importsexports'], d[bloc_field])\n",
    "    sd = sorted(report, key=key)\n",
    "    max_scale = max([sum(t[\"value\"] for t in totals) for group, totals in groupby(sd, key=key)])\n",
    "    max_total = max([sum(t[\"value\"] for t in totals) for exp_imp, totals in groupby(sd, key=lambda d: d['importsexports'])])\n",
    "    report = sorted(report, key= lambda row: (row[row_field], row[\"importsexports\"], SORT_LABELS.index(row[bloc_field])))\n",
    "    VegaLite({\n",
    "      \"title\": f\"{port_franc.upper()}\\n Répartition des imports/exports en 1789 par {product_title}\",\n",
    "      \"data\": {\"values\": report},\n",
    "      \"spacing\": 0,\n",
    "      \"vconcat\": [{\"hconcat\": [{\n",
    "            \"transform\": [{\n",
    "              \"filter\": {\"field\": \"importsexports\", \"equal\": \"Imports\"}\n",
    "            }],\n",
    "            \"title\": \"import\",\n",
    "            \"mark\": {\"type\":\"bar\", \"tooltip\": {\"content\": \"data\"}},\n",
    "            \"encoding\": {\n",
    "              \"y\": {\n",
    "                \"field\": row_field, \"title\": None, \"sort\": \"-x\", \"type\": \"ordinal\"\n",
    "              },\n",
    "              \"x\": {\n",
    "                \"field\": \"value\",\n",
    "                \"type\": \"quantitative\",\n",
    "                \"title\": \"Valeur (Lt)\",\n",
    "                  \"sort\": \"descending\"\n",
    "              },\n",
    "              \"color\": {\n",
    "                \"field\": bloc_field,\n",
    "                \"type\": \"nominal\", \n",
    "               \n",
    "                \"scale\": {\n",
    "                    \"domain\": SORT_LABELS,\n",
    "                    \"range\": PALETTE\n",
    "                },\n",
    "\n",
    "              }\n",
    "            }\n",
    "          },\n",
    "          {\n",
    "            \"transform\": [{\n",
    "              \"filter\": {\"field\": \"importsexports\", \"equal\": \"Exports\"}\n",
    "            }],\n",
    "            \"title\": \"export\",\n",
    "            \"mark\": {\"type\":\"bar\", \"tooltip\": {\"content\": \"data\"}},\n",
    "            \"encoding\": {\n",
    "              \"y\": {\n",
    "                \"field\": row_field, \"sort\": \"-x\", \"title\": None, \"axis\": None, \"type\": \"ordinal\"\n",
    "\n",
    "              },\n",
    "              \"x\": {\n",
    "                \"field\": \"value\",\n",
    "                \"type\": \"quantitative\",\n",
    "                \"title\": \"Valeur (Lt)\",\n",
    "                \"sort\": \"ascending\"\n",
    "              },\n",
    "              \"color\": {\n",
    "                \"field\": bloc_field,\n",
    "                \"type\": \"nominal\", \n",
    "                \"sort\": SORT_LABELS, \n",
    "                \"scale\": {\n",
    "                    \"domain\": SORT_LABELS,\n",
    "                    \"range\": PALETTE\n",
    "                },\n",
    "              }\n",
    "            }\n",
    "          }\n",
    "          ]}, {\"hconcat\": [{\n",
    "            \"transform\": [\n",
    "                {\n",
    "              \"filter\": {\"field\": \"importsexports\", \"equal\": \"Imports\"}\n",
    "            },\n",
    "            {\n",
    "                  \"aggregate\": [{\n",
    "                   \"op\": \"sum\",\n",
    "                   \"field\": \"value\",\n",
    "                   \"as\": \"total_value\"\n",
    "                  }],\n",
    "                  \"groupby\": [bloc_field]\n",
    "            }\n",
    "            ],\n",
    "            \"mark\": {\"type\":\"bar\", \"tooltip\": {\"content\": \"data\"}},\n",
    "            \"encoding\": {\n",
    "              \"y\": {\n",
    "                \"field\": bloc_field, \n",
    "                \"title\": None, \n",
    "                \"type\": \"ordinal\",\n",
    "                \"sort\": SORT_LABELS,\n",
    "                \"scale\": {\"domain\": SORT_LABELS},\n",
    "\n",
    "              },\n",
    "              \"x\": {\n",
    "                \"field\": \"total_value\",\n",
    "                \"type\": \"quantitative\",\n",
    "                \"title\": \"Valeur tous produits (Lt)\",\n",
    "                \"sort\": \"descending\",\n",
    "                \"scale\": {\"domain\": [0, max_scale]}\n",
    "              },\n",
    "              \"color\": {\n",
    "                \"field\": bloc_field,\n",
    "                \"type\": \"nominal\", \n",
    "                \"sort\": SORT_LABELS, \n",
    "                \"scale\": {\n",
    "                    \"domain\": SORT_LABELS,\n",
    "                    \"range\": PALETTE\n",
    "                },\n",
    "              }\n",
    "            }\n",
    "          },\n",
    "          {\n",
    "            \"transform\": [\n",
    "                {\n",
    "              \"filter\": {\"field\": \"importsexports\", \"equal\": \"Exports\"}\n",
    "            },\n",
    "            {\n",
    "                  \"aggregate\": [{\n",
    "                   \"op\": \"sum\",\n",
    "                   \"field\": \"value\",\n",
    "                   \"as\": \"total_value\"\n",
    "                  }],\n",
    "                  \"groupby\": [bloc_field]\n",
    "            }\n",
    "            ],\n",
    "            \"mark\": {\"type\":\"bar\", \"tooltip\": {\"content\": \"data\"}},\n",
    "            \"encoding\": {\n",
    "              \"y\": {\n",
    "                \"field\": bloc_field, \n",
    "                \"title\": None, \n",
    "                \"axis\": None, \n",
    "                \"type\": \"ordinal\",\n",
    "                \"sort\": SORT_LABELS,\n",
    "                \"scale\": {\"domain\": SORT_LABELS},\n",
    "\n",
    "              },\n",
    "              \"x\": {\n",
    "                \"field\": \"total_value\",\n",
    "                \"type\": \"quantitative\",\n",
    "                \"title\": \"Valeur tous produits (Lt)\",\n",
    "                \"sort\": \"ascending\", \n",
    "                \"scale\": {\"domain\": [0, max_scale]}\n",
    "              },\n",
    "              \"color\": {\n",
    "                \"field\": bloc_field,\n",
    "                \"type\": \"nominal\", \n",
    "                \"sort\": SORT_LABELS, \n",
    "                \"scale\": {\n",
    "                    \"domain\": SORT_LABELS,\n",
    "                    \"range\": PALETTE\n",
    "                },\n",
    "              }\n",
    "            }\n",
    "          }\n",
    "          ]},\n",
    "          {\"hconcat\": [{\n",
    "            \"transform\": [\n",
    "            {\n",
    "              \"filter\": {\"field\": \"importsexports\", \"equal\": \"Imports\"}\n",
    "            },\n",
    "                        {\n",
    "              \"filter\": f\"indexof(datum.{bloc_field},'?')==-1\"\n",
    "            },\n",
    "\n",
    "            {\n",
    "                  \"aggregate\": [{\n",
    "                   \"op\": \"sum\",\n",
    "                   \"field\": \"value\",\n",
    "                   \"as\": \"total_value\"\n",
    "                  }]\n",
    "            }\n",
    "            ],\n",
    "            \"mark\": {\"type\":\"bar\", \"tooltip\": {\"content\": \"data\"}},\n",
    "            \"encoding\": {\n",
    "              \"x\": {\n",
    "                \"field\": \"total_value\",\n",
    "                \"type\": \"quantitative\",\n",
    "                \"title\": \"Valeur tous produits (Lt)\",\n",
    "                \"sort\": \"descending\",\n",
    "                 \"scale\": {\"domain\": [0, max_total]}\n",
    "              },\n",
    "            }\n",
    "          },\n",
    "          {\n",
    "            \"transform\": [\n",
    "            {\n",
    "              \"filter\": {\"field\": \"importsexports\", \"equal\": \"Exports\"}\n",
    "            },\n",
    "                {\n",
    "              \"filter\": f\"indexof(datum.{bloc_field},'?')==-1\"\n",
    "            },\n",
    "            {\n",
    "                  \"aggregate\": [{\n",
    "                   \"op\": \"sum\",\n",
    "                   \"field\": \"value\",\n",
    "                   \"as\": \"total_value\"\n",
    "                  }]\n",
    "            }\n",
    "            ],\n",
    "            \"mark\": {\"type\":\"bar\", \"tooltip\": {\"content\": \"data\"}},\n",
    "            \"encoding\": {\n",
    "              \"x\": {\n",
    "                \"field\": \"total_value\",\n",
    "                \"type\": \"quantitative\",\n",
    "                \"title\": \"Totaux (Lt)\",\n",
    "                \"sort\": \"ascending\",\n",
    "                \"scale\": {\"domain\": [0, max_total]}\n",
    "              }\n",
    "            }\n",
    "          }\n",
    "          ]},\n",
    "          \n",
    "        ]\n",
    "    }\n",
    "    )"
   ]
  },
  {
   "cell_type": "markdown",
   "id": "ed3c3b5c",
   "metadata": {},
   "source": [
    "## Différence entre Importations et Exportations des produits coloniaux/autres\n",
    "\n",
    "Dans TOFLIT18, les statistiques des ports francs en 1789 décrivent toutes les importations mais uniqument les exportations de produits coloniaux.\n",
    "Aussi si l'on calcule la différence entre importations et les exportations, on estime la masse des flux qui : \n",
    "- pour les produits non coloniaux : les réexportations vers le monde\n",
    "- pour les produits coloniaux : le volume d'exportations non déclarées (fraude)\n",
    "\n",
    "En utilisant la classification Reexportation qui isole les produits qui sont probablement des produits coloniaux on compare les valeurs des importations et des exportations pour les ports francs.\n",
    "\n",
    "Pour Dunkerque on constate une part très importante d'exportations manquante des produits coloniaux.\n",
    "\n",
    "Pour Marseille, les différences sont bien moins importantes en valeur. Il semble y avoir tout de même une part de fraude dans les réexportations des produits coloniaux. A moins que cette part soit due à une transformation par l'industrie locale avatn réexporation transformée.\n",
    "\n",
    "Pour Lorient, si il y a une légère anomalie également dans la réexportation des produits coloniaux il y a surtout une différence importante entre les deux autre catégories.\n",
    "\n",
    "Pour Bayonne il semble il y avoir un problème dans les statistiques. A étudier."
   ]
  },
  {
   "cell_type": "code",
   "execution_count": 57,
   "id": "c19eb72b-d3ee-4419-b046-e068bafe79ed",
   "metadata": {},
   "outputs": [
    {
     "data": {
      "application/vnd.vegalite.v4+json": {
       "data": {
        "values": [
         {
          "importsexports": "Exports",
          "partner_type": "colonies",
          "port": "Dunkerque",
          "product_type": "autres produits",
          "value": 1411503
         },
         {
          "importsexports": "Exports",
          "partner_type": "France",
          "port": "Dunkerque",
          "product_type": "autres produits",
          "value": 3440432.1238665055
         },
         {
          "importsexports": "Exports",
          "partner_type": "Fraude ?",
          "port": "Dunkerque",
          "product_type": "autres produits",
          "value": 33028037.135796636
         },
         {
          "importsexports": "Imports",
          "partner_type": "Monde",
          "port": "Dunkerque",
          "product_type": "autres produits",
          "value": 34261785
         },
         {
          "importsexports": "Imports",
          "partner_type": "France",
          "port": "Dunkerque",
          "product_type": "autres produits",
          "value": 3618187.25966314
         },
         {
          "importsexports": "Exports",
          "partner_type": "Monde",
          "port": "Dunkerque",
          "product_type": "produits coloniaux",
          "value": 4560525
         },
         {
          "importsexports": "Exports",
          "partner_type": "Fraude ?",
          "port": "Dunkerque",
          "product_type": "produits coloniaux",
          "value": 4109630
         },
         {
          "importsexports": "Imports",
          "partner_type": "colonies",
          "port": "Dunkerque",
          "product_type": "produits coloniaux",
          "value": 8670155
         }
        ]
       },
       "spacing": 0,
       "title": "DUNKERQUE\n Répartition des imports/exports en 1789 par type de produits",
       "vconcat": [
        {
         "hconcat": [
          {
           "encoding": {
            "color": {
             "field": "partner_type",
             "scale": {
              "domain": [
               "colonies",
               "Monde",
               "France",
               "Fraude ?"
              ],
              "range": [
               "purple",
               "darkblue",
               "olive",
               "lightgrey",
               "darkgrey"
              ]
             },
             "type": "nominal"
            },
            "x": {
             "field": "value",
             "sort": "descending",
             "title": "Valeur (Lt)",
             "type": "quantitative"
            },
            "y": {
             "field": "product_type",
             "sort": "-x",
             "title": null,
             "type": "ordinal"
            }
           },
           "mark": {
            "tooltip": {
             "content": "data"
            },
            "type": "bar"
           },
           "title": "import",
           "transform": [
            {
             "filter": {
              "equal": "Imports",
              "field": "importsexports"
             }
            }
           ]
          },
          {
           "encoding": {
            "color": {
             "field": "partner_type",
             "scale": {
              "domain": [
               "colonies",
               "Monde",
               "France",
               "Fraude ?"
              ],
              "range": [
               "purple",
               "darkblue",
               "olive",
               "lightgrey",
               "darkgrey"
              ]
             },
             "sort": [
              "colonies",
              "Monde",
              "France",
              "Fraude ?"
             ],
             "type": "nominal"
            },
            "x": {
             "field": "value",
             "sort": "ascending",
             "title": "Valeur (Lt)",
             "type": "quantitative"
            },
            "y": {
             "axis": null,
             "field": "product_type",
             "sort": "-x",
             "title": null,
             "type": "ordinal"
            }
           },
           "mark": {
            "tooltip": {
             "content": "data"
            },
            "type": "bar"
           },
           "title": "export",
           "transform": [
            {
             "filter": {
              "equal": "Exports",
              "field": "importsexports"
             }
            }
           ]
          }
         ]
        },
        {
         "hconcat": [
          {
           "encoding": {
            "color": {
             "field": "partner_type",
             "scale": {
              "domain": [
               "colonies",
               "Monde",
               "France",
               "Fraude ?"
              ],
              "range": [
               "purple",
               "darkblue",
               "olive",
               "lightgrey",
               "darkgrey"
              ]
             },
             "sort": [
              "colonies",
              "Monde",
              "France",
              "Fraude ?"
             ],
             "type": "nominal"
            },
            "x": {
             "field": "total_value",
             "scale": {
              "domain": [
               0,
               37137667.13579664
              ]
             },
             "sort": "descending",
             "title": "Valeur tous produits (Lt)",
             "type": "quantitative"
            },
            "y": {
             "field": "partner_type",
             "scale": {
              "domain": [
               "colonies",
               "Monde",
               "France",
               "Fraude ?"
              ]
             },
             "sort": [
              "colonies",
              "Monde",
              "France",
              "Fraude ?"
             ],
             "title": null,
             "type": "ordinal"
            }
           },
           "mark": {
            "tooltip": {
             "content": "data"
            },
            "type": "bar"
           },
           "transform": [
            {
             "filter": {
              "equal": "Imports",
              "field": "importsexports"
             }
            },
            {
             "aggregate": [
              {
               "as": "total_value",
               "field": "value",
               "op": "sum"
              }
             ],
             "groupby": [
              "partner_type"
             ]
            }
           ]
          },
          {
           "encoding": {
            "color": {
             "field": "partner_type",
             "scale": {
              "domain": [
               "colonies",
               "Monde",
               "France",
               "Fraude ?"
              ],
              "range": [
               "purple",
               "darkblue",
               "olive",
               "lightgrey",
               "darkgrey"
              ]
             },
             "sort": [
              "colonies",
              "Monde",
              "France",
              "Fraude ?"
             ],
             "type": "nominal"
            },
            "x": {
             "field": "total_value",
             "scale": {
              "domain": [
               0,
               37137667.13579664
              ]
             },
             "sort": "ascending",
             "title": "Valeur tous produits (Lt)",
             "type": "quantitative"
            },
            "y": {
             "axis": null,
             "field": "partner_type",
             "scale": {
              "domain": [
               "colonies",
               "Monde",
               "France",
               "Fraude ?"
              ]
             },
             "sort": [
              "colonies",
              "Monde",
              "France",
              "Fraude ?"
             ],
             "title": null,
             "type": "ordinal"
            }
           },
           "mark": {
            "tooltip": {
             "content": "data"
            },
            "type": "bar"
           },
           "transform": [
            {
             "filter": {
              "equal": "Exports",
              "field": "importsexports"
             }
            },
            {
             "aggregate": [
              {
               "as": "total_value",
               "field": "value",
               "op": "sum"
              }
             ],
             "groupby": [
              "partner_type"
             ]
            }
           ]
          }
         ]
        },
        {
         "hconcat": [
          {
           "encoding": {
            "x": {
             "field": "total_value",
             "scale": {
              "domain": [
               0,
               46550127.25966314
              ]
             },
             "sort": "descending",
             "title": "Valeur tous produits (Lt)",
             "type": "quantitative"
            }
           },
           "mark": {
            "tooltip": {
             "content": "data"
            },
            "type": "bar"
           },
           "transform": [
            {
             "filter": {
              "equal": "Imports",
              "field": "importsexports"
             }
            },
            {
             "filter": "indexof(datum.partner_type,'?')==-1"
            },
            {
             "aggregate": [
              {
               "as": "total_value",
               "field": "value",
               "op": "sum"
              }
             ]
            }
           ]
          },
          {
           "encoding": {
            "x": {
             "field": "total_value",
             "scale": {
              "domain": [
               0,
               46550127.25966314
              ]
             },
             "sort": "ascending",
             "title": "Totaux (Lt)",
             "type": "quantitative"
            }
           },
           "mark": {
            "tooltip": {
             "content": "data"
            },
            "type": "bar"
           },
           "transform": [
            {
             "filter": {
              "equal": "Exports",
              "field": "importsexports"
             }
            },
            {
             "filter": "indexof(datum.partner_type,'?')==-1"
            },
            {
             "aggregate": [
              {
               "as": "total_value",
               "field": "value",
               "op": "sum"
              }
             ]
            }
           ]
          }
         ]
        }
       ]
      },
      "image/png": "[encoded data removed]"
     },
     "metadata": {},
     "output_type": "display_data"
    },
    {
     "data": {
      "application/vnd.vegalite.v4+json": {
       "data": {
        "values": [
         {
          "importsexports": "Exports",
          "partner_type": "colonies",
          "port": "Bayonne",
          "product_type": "tout produit",
          "value": 500164
         },
         {
          "importsexports": "Exports",
          "partner_type": "Monde",
          "port": "Bayonne",
          "product_type": "tout produit",
          "value": 3559266
         },
         {
          "importsexports": "Exports",
          "partner_type": "France",
          "port": "Bayonne",
          "product_type": "tout produit",
          "value": 3139840.4455255987
         },
         {
          "importsexports": "Exports",
          "partner_type": "Fraude ?",
          "port": "Bayonne",
          "product_type": "tout produit",
          "value": 7221729.179697159
         },
         {
          "importsexports": "Imports",
          "partner_type": "colonies",
          "port": "Bayonne",
          "product_type": "tout produit",
          "value": 890608
         },
         {
          "importsexports": "Imports",
          "partner_type": "Monde",
          "port": "Bayonne",
          "product_type": "tout produit",
          "value": 8370185
         },
         {
          "importsexports": "Imports",
          "partner_type": "France",
          "port": "Bayonne",
          "product_type": "tout produit",
          "value": 5160206.625222757
         }
        ]
       },
       "spacing": 0,
       "title": "BAYONNE\n Répartition des imports/exports en 1789 par type de produits",
       "vconcat": [
        {
         "hconcat": [
          {
           "encoding": {
            "color": {
             "field": "partner_type",
             "scale": {
              "domain": [
               "colonies",
               "Monde",
               "France",
               "Fraude ?"
              ],
              "range": [
               "purple",
               "darkblue",
               "olive",
               "lightgrey",
               "darkgrey"
              ]
             },
             "type": "nominal"
            },
            "x": {
             "field": "value",
             "sort": "descending",
             "title": "Valeur (Lt)",
             "type": "quantitative"
            },
            "y": {
             "field": "product_type",
             "sort": "-x",
             "title": null,
             "type": "ordinal"
            }
           },
           "mark": {
            "tooltip": {
             "content": "data"
            },
            "type": "bar"
           },
           "title": "import",
           "transform": [
            {
             "filter": {
              "equal": "Imports",
              "field": "importsexports"
             }
            }
           ]
          },
          {
           "encoding": {
            "color": {
             "field": "partner_type",
             "scale": {
              "domain": [
               "colonies",
               "Monde",
               "France",
               "Fraude ?"
              ],
              "range": [
               "purple",
               "darkblue",
               "olive",
               "lightgrey",
               "darkgrey"
              ]
             },
             "sort": [
              "colonies",
              "Monde",
              "France",
              "Fraude ?"
             ],
             "type": "nominal"
            },
            "x": {
             "field": "value",
             "sort": "ascending",
             "title": "Valeur (Lt)",
             "type": "quantitative"
            },
            "y": {
             "axis": null,
             "field": "product_type",
             "sort": "-x",
             "title": null,
             "type": "ordinal"
            }
           },
           "mark": {
            "tooltip": {
             "content": "data"
            },
            "type": "bar"
           },
           "title": "export",
           "transform": [
            {
             "filter": {
              "equal": "Exports",
              "field": "importsexports"
             }
            }
           ]
          }
         ]
        },
        {
         "hconcat": [
          {
           "encoding": {
            "color": {
             "field": "partner_type",
             "scale": {
              "domain": [
               "colonies",
               "Monde",
               "France",
               "Fraude ?"
              ],
              "range": [
               "purple",
               "darkblue",
               "olive",
               "lightgrey",
               "darkgrey"
              ]
             },
             "sort": [
              "colonies",
              "Monde",
              "France",
              "Fraude ?"
             ],
             "type": "nominal"
            },
            "x": {
             "field": "total_value",
             "scale": {
              "domain": [
               0,
               8370185
              ]
             },
             "sort": "descending",
             "title": "Valeur tous produits (Lt)",
             "type": "quantitative"
            },
            "y": {
             "field": "partner_type",
             "scale": {
              "domain": [
               "colonies",
               "Monde",
               "France",
               "Fraude ?"
              ]
             },
             "sort": [
              "colonies",
              "Monde",
              "France",
              "Fraude ?"
             ],
             "title": null,
             "type": "ordinal"
            }
           },
           "mark": {
            "tooltip": {
             "content": "data"
            },
            "type": "bar"
           },
           "transform": [
            {
             "filter": {
              "equal": "Imports",
              "field": "importsexports"
             }
            },
            {
             "aggregate": [
              {
               "as": "total_value",
               "field": "value",
               "op": "sum"
              }
             ],
             "groupby": [
              "partner_type"
             ]
            }
           ]
          },
          {
           "encoding": {
            "color": {
             "field": "partner_type",
             "scale": {
              "domain": [
               "colonies",
               "Monde",
               "France",
               "Fraude ?"
              ],
              "range": [
               "purple",
               "darkblue",
               "olive",
               "lightgrey",
               "darkgrey"
              ]
             },
             "sort": [
              "colonies",
              "Monde",
              "France",
              "Fraude ?"
             ],
             "type": "nominal"
            },
            "x": {
             "field": "total_value",
             "scale": {
              "domain": [
               0,
               8370185
              ]
             },
             "sort": "ascending",
             "title": "Valeur tous produits (Lt)",
             "type": "quantitative"
            },
            "y": {
             "axis": null,
             "field": "partner_type",
             "scale": {
              "domain": [
               "colonies",
               "Monde",
               "France",
               "Fraude ?"
              ]
             },
             "sort": [
              "colonies",
              "Monde",
              "France",
              "Fraude ?"
             ],
             "title": null,
             "type": "ordinal"
            }
           },
           "mark": {
            "tooltip": {
             "content": "data"
            },
            "type": "bar"
           },
           "transform": [
            {
             "filter": {
              "equal": "Exports",
              "field": "importsexports"
             }
            },
            {
             "aggregate": [
              {
               "as": "total_value",
               "field": "value",
               "op": "sum"
              }
             ],
             "groupby": [
              "partner_type"
             ]
            }
           ]
          }
         ]
        },
        {
         "hconcat": [
          {
           "encoding": {
            "x": {
             "field": "total_value",
             "scale": {
              "domain": [
               0,
               14420999.625222757
              ]
             },
             "sort": "descending",
             "title": "Valeur tous produits (Lt)",
             "type": "quantitative"
            }
           },
           "mark": {
            "tooltip": {
             "content": "data"
            },
            "type": "bar"
           },
           "transform": [
            {
             "filter": {
              "equal": "Imports",
              "field": "importsexports"
             }
            },
            {
             "filter": "indexof(datum.partner_type,'?')==-1"
            },
            {
             "aggregate": [
              {
               "as": "total_value",
               "field": "value",
               "op": "sum"
              }
             ]
            }
           ]
          },
          {
           "encoding": {
            "x": {
             "field": "total_value",
             "scale": {
              "domain": [
               0,
               14420999.625222757
              ]
             },
             "sort": "ascending",
             "title": "Totaux (Lt)",
             "type": "quantitative"
            }
           },
           "mark": {
            "tooltip": {
             "content": "data"
            },
            "type": "bar"
           },
           "transform": [
            {
             "filter": {
              "equal": "Exports",
              "field": "importsexports"
             }
            },
            {
             "filter": "indexof(datum.partner_type,'?')==-1"
            },
            {
             "aggregate": [
              {
               "as": "total_value",
               "field": "value",
               "op": "sum"
              }
             ]
            }
           ]
          }
         ]
        }
       ]
      },
      "image/png": "[encoded data removed]"
     },
     "metadata": {},
     "output_type": "display_data"
    },
    {
     "data": {
      "application/vnd.vegalite.v4+json": {
       "data": {
        "values": [
         {
          "importsexports": "Exports",
          "partner_type": "colonies",
          "port": "Marseille",
          "product_type": "tout produit",
          "value": 16611629
         },
         {
          "importsexports": "Exports",
          "partner_type": "Monde",
          "port": "Marseille",
          "product_type": "tout produit",
          "value": 65429151.09017971
         },
         {
          "importsexports": "Exports",
          "partner_type": "France",
          "port": "Marseille",
          "product_type": "tout produit",
          "value": 26351491.29229197
         },
         {
          "importsexports": "Exports",
          "partner_type": "Fraude ?",
          "port": "Marseille",
          "product_type": "tout produit",
          "value": 23182426.1200902
         },
         {
          "importsexports": "Imports",
          "partner_type": "colonies",
          "port": "Marseille",
          "product_type": "tout produit",
          "value": 31647025
         },
         {
          "importsexports": "Imports",
          "partner_type": "Monde",
          "port": "Marseille",
          "product_type": "tout produit",
          "value": 98943860.15101588
         },
         {
          "importsexports": "Imports",
          "partner_type": "France",
          "port": "Marseille",
          "product_type": "tout produit",
          "value": 983812.3515460002
         }
        ]
       },
       "spacing": 0,
       "title": "MARSEILLE\n Répartition des imports/exports en 1789 par type de produits",
       "vconcat": [
        {
         "hconcat": [
          {
           "encoding": {
            "color": {
             "field": "partner_type",
             "scale": {
              "domain": [
               "colonies",
               "Monde",
               "France",
               "Fraude ?"
              ],
              "range": [
               "purple",
               "darkblue",
               "olive",
               "lightgrey",
               "darkgrey"
              ]
             },
             "type": "nominal"
            },
            "x": {
             "field": "value",
             "sort": "descending",
             "title": "Valeur (Lt)",
             "type": "quantitative"
            },
            "y": {
             "field": "product_type",
             "sort": "-x",
             "title": null,
             "type": "ordinal"
            }
           },
           "mark": {
            "tooltip": {
             "content": "data"
            },
            "type": "bar"
           },
           "title": "import",
           "transform": [
            {
             "filter": {
              "equal": "Imports",
              "field": "importsexports"
             }
            }
           ]
          },
          {
           "encoding": {
            "color": {
             "field": "partner_type",
             "scale": {
              "domain": [
               "colonies",
               "Monde",
               "France",
               "Fraude ?"
              ],
              "range": [
               "purple",
               "darkblue",
               "olive",
               "lightgrey",
               "darkgrey"
              ]
             },
             "sort": [
              "colonies",
              "Monde",
              "France",
              "Fraude ?"
             ],
             "type": "nominal"
            },
            "x": {
             "field": "value",
             "sort": "ascending",
             "title": "Valeur (Lt)",
             "type": "quantitative"
            },
            "y": {
             "axis": null,
             "field": "product_type",
             "sort": "-x",
             "title": null,
             "type": "ordinal"
            }
           },
           "mark": {
            "tooltip": {
             "content": "data"
            },
            "type": "bar"
           },
           "title": "export",
           "transform": [
            {
             "filter": {
              "equal": "Exports",
              "field": "importsexports"
             }
            }
           ]
          }
         ]
        },
        {
         "hconcat": [
          {
           "encoding": {
            "color": {
             "field": "partner_type",
             "scale": {
              "domain": [
               "colonies",
               "Monde",
               "France",
               "Fraude ?"
              ],
              "range": [
               "purple",
               "darkblue",
               "olive",
               "lightgrey",
               "darkgrey"
              ]
             },
             "sort": [
              "colonies",
              "Monde",
              "France",
              "Fraude ?"
             ],
             "type": "nominal"
            },
            "x": {
             "field": "total_value",
             "scale": {
              "domain": [
               0,
               98943860.15101588
              ]
             },
             "sort": "descending",
             "title": "Valeur tous produits (Lt)",
             "type": "quantitative"
            },
            "y": {
             "field": "partner_type",
             "scale": {
              "domain": [
               "colonies",
               "Monde",
               "France",
               "Fraude ?"
              ]
             },
             "sort": [
              "colonies",
              "Monde",
              "France",
              "Fraude ?"
             ],
             "title": null,
             "type": "ordinal"
            }
           },
           "mark": {
            "tooltip": {
             "content": "data"
            },
            "type": "bar"
           },
           "transform": [
            {
             "filter": {
              "equal": "Imports",
              "field": "importsexports"
             }
            },
            {
             "aggregate": [
              {
               "as": "total_value",
               "field": "value",
               "op": "sum"
              }
             ],
             "groupby": [
              "partner_type"
             ]
            }
           ]
          },
          {
           "encoding": {
            "color": {
             "field": "partner_type",
             "scale": {
              "domain": [
               "colonies",
               "Monde",
               "France",
               "Fraude ?"
              ],
              "range": [
               "purple",
               "darkblue",
               "olive",
               "lightgrey",
               "darkgrey"
              ]
             },
             "sort": [
              "colonies",
              "Monde",
              "France",
              "Fraude ?"
             ],
             "type": "nominal"
            },
            "x": {
             "field": "total_value",
             "scale": {
              "domain": [
               0,
               98943860.15101588
              ]
             },
             "sort": "ascending",
             "title": "Valeur tous produits (Lt)",
             "type": "quantitative"
            },
            "y": {
             "axis": null,
             "field": "partner_type",
             "scale": {
              "domain": [
               "colonies",
               "Monde",
               "France",
               "Fraude ?"
              ]
             },
             "sort": [
              "colonies",
              "Monde",
              "France",
              "Fraude ?"
             ],
             "title": null,
             "type": "ordinal"
            }
           },
           "mark": {
            "tooltip": {
             "content": "data"
            },
            "type": "bar"
           },
           "transform": [
            {
             "filter": {
              "equal": "Exports",
              "field": "importsexports"
             }
            },
            {
             "aggregate": [
              {
               "as": "total_value",
               "field": "value",
               "op": "sum"
              }
             ],
             "groupby": [
              "partner_type"
             ]
            }
           ]
          }
         ]
        },
        {
         "hconcat": [
          {
           "encoding": {
            "x": {
             "field": "total_value",
             "scale": {
              "domain": [
               0,
               131574697.50256188
              ]
             },
             "sort": "descending",
             "title": "Valeur tous produits (Lt)",
             "type": "quantitative"
            }
           },
           "mark": {
            "tooltip": {
             "content": "data"
            },
            "type": "bar"
           },
           "transform": [
            {
             "filter": {
              "equal": "Imports",
              "field": "importsexports"
             }
            },
            {
             "filter": "indexof(datum.partner_type,'?')==-1"
            },
            {
             "aggregate": [
              {
               "as": "total_value",
               "field": "value",
               "op": "sum"
              }
             ]
            }
           ]
          },
          {
           "encoding": {
            "x": {
             "field": "total_value",
             "scale": {
              "domain": [
               0,
               131574697.50256188
              ]
             },
             "sort": "ascending",
             "title": "Totaux (Lt)",
             "type": "quantitative"
            }
           },
           "mark": {
            "tooltip": {
             "content": "data"
            },
            "type": "bar"
           },
           "transform": [
            {
             "filter": {
              "equal": "Exports",
              "field": "importsexports"
             }
            },
            {
             "filter": "indexof(datum.partner_type,'?')==-1"
            },
            {
             "aggregate": [
              {
               "as": "total_value",
               "field": "value",
               "op": "sum"
              }
             ]
            }
           ]
          }
         ]
        }
       ]
      },
      "image/png": "[encoded data removed]"
     },
     "metadata": {},
     "output_type": "display_data"
    },
    {
     "data": {
      "application/vnd.vegalite.v4+json": {
       "data": {
        "values": [
         {
          "importsexports": "Exports",
          "partner_type": "colonies",
          "port": "Lorient",
          "product_type": "tout produit",
          "value": 1067534
         },
         {
          "importsexports": "Exports",
          "partner_type": "Monde",
          "port": "Lorient",
          "product_type": "tout produit",
          "value": 1565730.68502171
         },
         {
          "importsexports": "Exports",
          "partner_type": "France",
          "port": "Lorient",
          "product_type": "tout produit",
          "value": 80456.500093
         },
         {
          "importsexports": "Exports",
          "partner_type": "Fraude ?",
          "port": "Lorient",
          "product_type": "tout produit",
          "value": 234800.36319906032
         },
         {
          "importsexports": "Imports",
          "partner_type": "Monde",
          "port": "Lorient",
          "product_type": "tout produit",
          "value": 2834871.9988
         },
         {
          "importsexports": "Imports",
          "partner_type": "France",
          "port": "Lorient",
          "product_type": "tout produit",
          "value": 113649.54951377
         }
        ]
       },
       "spacing": 0,
       "title": "LORIENT\n Répartition des imports/exports en 1789 par type de produits",
       "vconcat": [
        {
         "hconcat": [
          {
           "encoding": {
            "color": {
             "field": "partner_type",
             "scale": {
              "domain": [
               "colonies",
               "Monde",
               "France",
               "Fraude ?"
              ],
              "range": [
               "purple",
               "darkblue",
               "olive",
               "lightgrey",
               "darkgrey"
              ]
             },
             "type": "nominal"
            },
            "x": {
             "field": "value",
             "sort": "descending",
             "title": "Valeur (Lt)",
             "type": "quantitative"
            },
            "y": {
             "field": "product_type",
             "sort": "-x",
             "title": null,
             "type": "ordinal"
            }
           },
           "mark": {
            "tooltip": {
             "content": "data"
            },
            "type": "bar"
           },
           "title": "import",
           "transform": [
            {
             "filter": {
              "equal": "Imports",
              "field": "importsexports"
             }
            }
           ]
          },
          {
           "encoding": {
            "color": {
             "field": "partner_type",
             "scale": {
              "domain": [
               "colonies",
               "Monde",
               "France",
               "Fraude ?"
              ],
              "range": [
               "purple",
               "darkblue",
               "olive",
               "lightgrey",
               "darkgrey"
              ]
             },
             "sort": [
              "colonies",
              "Monde",
              "France",
              "Fraude ?"
             ],
             "type": "nominal"
            },
            "x": {
             "field": "value",
             "sort": "ascending",
             "title": "Valeur (Lt)",
             "type": "quantitative"
            },
            "y": {
             "axis": null,
             "field": "product_type",
             "sort": "-x",
             "title": null,
             "type": "ordinal"
            }
           },
           "mark": {
            "tooltip": {
             "content": "data"
            },
            "type": "bar"
           },
           "title": "export",
           "transform": [
            {
             "filter": {
              "equal": "Exports",
              "field": "importsexports"
             }
            }
           ]
          }
         ]
        },
        {
         "hconcat": [
          {
           "encoding": {
            "color": {
             "field": "partner_type",
             "scale": {
              "domain": [
               "colonies",
               "Monde",
               "France",
               "Fraude ?"
              ],
              "range": [
               "purple",
               "darkblue",
               "olive",
               "lightgrey",
               "darkgrey"
              ]
             },
             "sort": [
              "colonies",
              "Monde",
              "France",
              "Fraude ?"
             ],
             "type": "nominal"
            },
            "x": {
             "field": "total_value",
             "scale": {
              "domain": [
               0,
               2834871.9988
              ]
             },
             "sort": "descending",
             "title": "Valeur tous produits (Lt)",
             "type": "quantitative"
            },
            "y": {
             "field": "partner_type",
             "scale": {
              "domain": [
               "colonies",
               "Monde",
               "France",
               "Fraude ?"
              ]
             },
             "sort": [
              "colonies",
              "Monde",
              "France",
              "Fraude ?"
             ],
             "title": null,
             "type": "ordinal"
            }
           },
           "mark": {
            "tooltip": {
             "content": "data"
            },
            "type": "bar"
           },
           "transform": [
            {
             "filter": {
              "equal": "Imports",
              "field": "importsexports"
             }
            },
            {
             "aggregate": [
              {
               "as": "total_value",
               "field": "value",
               "op": "sum"
              }
             ],
             "groupby": [
              "partner_type"
             ]
            }
           ]
          },
          {
           "encoding": {
            "color": {
             "field": "partner_type",
             "scale": {
              "domain": [
               "colonies",
               "Monde",
               "France",
               "Fraude ?"
              ],
              "range": [
               "purple",
               "darkblue",
               "olive",
               "lightgrey",
               "darkgrey"
              ]
             },
             "sort": [
              "colonies",
              "Monde",
              "France",
              "Fraude ?"
             ],
             "type": "nominal"
            },
            "x": {
             "field": "total_value",
             "scale": {
              "domain": [
               0,
               2834871.9988
              ]
             },
             "sort": "ascending",
             "title": "Valeur tous produits (Lt)",
             "type": "quantitative"
            },
            "y": {
             "axis": null,
             "field": "partner_type",
             "scale": {
              "domain": [
               "colonies",
               "Monde",
               "France",
               "Fraude ?"
              ]
             },
             "sort": [
              "colonies",
              "Monde",
              "France",
              "Fraude ?"
             ],
             "title": null,
             "type": "ordinal"
            }
           },
           "mark": {
            "tooltip": {
             "content": "data"
            },
            "type": "bar"
           },
           "transform": [
            {
             "filter": {
              "equal": "Exports",
              "field": "importsexports"
             }
            },
            {
             "aggregate": [
              {
               "as": "total_value",
               "field": "value",
               "op": "sum"
              }
             ],
             "groupby": [
              "partner_type"
             ]
            }
           ]
          }
         ]
        },
        {
         "hconcat": [
          {
           "encoding": {
            "x": {
             "field": "total_value",
             "scale": {
              "domain": [
               0,
               2948521.5483137704
              ]
             },
             "sort": "descending",
             "title": "Valeur tous produits (Lt)",
             "type": "quantitative"
            }
           },
           "mark": {
            "tooltip": {
             "content": "data"
            },
            "type": "bar"
           },
           "transform": [
            {
             "filter": {
              "equal": "Imports",
              "field": "importsexports"
             }
            },
            {
             "filter": "indexof(datum.partner_type,'?')==-1"
            },
            {
             "aggregate": [
              {
               "as": "total_value",
               "field": "value",
               "op": "sum"
              }
             ]
            }
           ]
          },
          {
           "encoding": {
            "x": {
             "field": "total_value",
             "scale": {
              "domain": [
               0,
               2948521.5483137704
              ]
             },
             "sort": "ascending",
             "title": "Totaux (Lt)",
             "type": "quantitative"
            }
           },
           "mark": {
            "tooltip": {
             "content": "data"
            },
            "type": "bar"
           },
           "transform": [
            {
             "filter": {
              "equal": "Exports",
              "field": "importsexports"
             }
            },
            {
             "filter": "indexof(datum.partner_type,'?')==-1"
            },
            {
             "aggregate": [
              {
               "as": "total_value",
               "field": "value",
               "op": "sum"
              }
             ]
            }
           ]
          }
         ]
        }
       ]
      },
      "image/png": "[encoded data removed]"
     },
     "metadata": {},
     "output_type": "display_data"
    }
   ],
   "source": [
    "for city in [\"Dunkerque\", \"Bayonne\", \"Marseille\", \"Lorient\"]:\n",
    "    pyramide_port_franc(city, data[city][\"total_trade\"],\"product_type\", \"partner_type\", \"type de produits\")"
   ]
  },
  {
   "cell_type": "markdown",
   "id": "d68a0afa-dc31-4c90-8e3f-79620fef5d9c",
   "metadata": {},
   "source": [
    "# Focus sur les exportations\n",
    "\n",
    "Nous allons dans un premier temps détailler les produits coloniaux pour identifier les produits concernés par les anomalies d'exporations."
   ]
  },
  {
   "cell_type": "code",
   "execution_count": 59,
   "id": "ed1ba3b0-7c1a-4e91-8a2c-b5027694817c",
   "metadata": {},
   "outputs": [
    {
     "ename": "NameError",
     "evalue": "name 'port' is not defined",
     "output_type": "error",
     "traceback": [
      "\u001b[0;31m---------------------------------------------------------------------------\u001b[0m",
      "\u001b[0;31mNameError\u001b[0m                                 Traceback (most recent call last)",
      "\u001b[1;32m/home/paul/dev/portic-datasprint-2022/post_datasprint/module_08/vegalite.ipynb Cell 8'\u001b[0m in \u001b[0;36m<cell line: 1>\u001b[0;34m()\u001b[0m\n\u001b[1;32m      <a href='vscode-notebook-cell:/home/paul/dev/portic-datasprint-2022/post_datasprint/module_08/vegalite.ipynb#ch0000007?line=0'>1</a>\u001b[0m \u001b[39mfor\u001b[39;00m city \u001b[39min\u001b[39;00m [\u001b[39m\"\u001b[39m\u001b[39mDunkerque\u001b[39m\u001b[39m\"\u001b[39m, \u001b[39m\"\u001b[39m\u001b[39mBayonne\u001b[39m\u001b[39m\"\u001b[39m, \u001b[39m\"\u001b[39m\u001b[39mMarseille\u001b[39m\u001b[39m\"\u001b[39m, \u001b[39m\"\u001b[39m\u001b[39mLorient\u001b[39m\u001b[39m\"\u001b[39m]:\n\u001b[0;32m----> <a href='vscode-notebook-cell:/home/paul/dev/portic-datasprint-2022/post_datasprint/module_08/vegalite.ipynb#ch0000007?line=1'>2</a>\u001b[0m     pyramide_port_franc(city, data[city][\u001b[39m\"\u001b[39m\u001b[39mcolonial_products\u001b[39m\u001b[39m\"\u001b[39m], \u001b[39m\"\u001b[39m\u001b[39mproduct\u001b[39m\u001b[39m\"\u001b[39m, \u001b[39m\"\u001b[39m\u001b[39mpartner_type\u001b[39m\u001b[39m\"\u001b[39m, \u001b[39m\"\u001b[39m\u001b[39mproduits coloniaux (révolution et empire)\u001b[39m\u001b[39m\"\u001b[39m \u001b[39mif\u001b[39;00m port \u001b[39m==\u001b[39m \u001b[39m\"\u001b[39m\u001b[39mDunkerque\u001b[39m\u001b[39m\"\u001b[39m \u001b[39melse\u001b[39;00m \u001b[39m\"\u001b[39m\u001b[39mtout produit\u001b[39m\u001b[39m\"\u001b[39m)\n",
      "\u001b[0;31mNameError\u001b[0m: name 'port' is not defined"
     ]
    }
   ],
   "source": [
    "for city in [\"Dunkerque\", \"Bayonne\", \"Marseille\", \"Lorient\"]:\n",
    "    pyramide_port_franc(city, data[city][\"colonial_products\"], \"product\", \"partner_type\", \"produits coloniaux (révolution et empire)\" if city == \"Dunkerque\" else \"tout produit\")"
   ]
  }
 ],
 "metadata": {
  "kernelspec": {
   "display_name": "Python 3 (ipykernel)",
   "language": "python",
   "name": "python3"
  },
  "language_info": {
   "codemirror_mode": {
    "name": "ipython",
    "version": 3
   },
   "file_extension": ".py",
   "mimetype": "text/x-python",
   "name": "python",
   "nbconvert_exporter": "python",
   "pygments_lexer": "ipython3",
   "version": "3.8.3"
  }
 },
 "nbformat": 4,
 "nbformat_minor": 5
}
