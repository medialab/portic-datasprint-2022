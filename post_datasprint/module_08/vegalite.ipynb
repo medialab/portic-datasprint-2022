{
 "cells": [
  {
   "cell_type": "code",
   "execution_count": 2,
   "id": "aa751e41-a63b-4525-a950-97c9d86f75f5",
   "metadata": {},
   "outputs": [],
   "source": [
    "from IPython.display import display\n",
    "import json\n",
    "\n",
    "\n",
    "def VegaLite(spec):\n",
    "    bundle = {}\n",
    "    bundle['application/vnd.vegalite.v4+json'] = spec\n",
    "    display(bundle, raw=True)"
   ]
  },
  {
   "cell_type": "code",
   "execution_count": 53,
   "id": "2d6a8fd8-1384-46cf-aecf-18d03d95a3b8",
   "metadata": {},
   "outputs": [],
   "source": [
    "\n",
    "with open(\"data/import_export_ports_francs.json\", \"r\") as f:\n",
    "    data = json.load(f)"
   ]
  },
  {
   "cell_type": "code",
   "execution_count": 4,
   "id": "e5536b8c-a4ea-4e73-9a47-ff4a0f762ef7",
   "metadata": {},
   "outputs": [],
   "source": [
    "SORT_LABELS = [\"colonies\", \"Monde\", \"France\", \"Fraude ?\"]\n",
    "PALETTE = [\"purple\", \"darkblue\", \"olive\", \"lightgrey\", \"darkgrey\"]"
   ]
  },
  {
   "cell_type": "code",
   "execution_count": 50,
   "id": "0c46e8b3-4b0b-48f7-9102-0576468e9942",
   "metadata": {},
   "outputs": [],
   "source": [
    "from itertools import groupby\n",
    "\n",
    "def pyramide_port_franc(port_franc, report, row_field, bloc_field, product_title):\n",
    "    \n",
    "    key = lambda d: (d['importsexports'], d[bloc_field])\n",
    "    sd = sorted(report, key=key)\n",
    "    max_scale = max([sum(t[\"value\"] for t in totals) for group, totals in groupby(sd, key=key)])\n",
    "    max_total = max([sum(t[\"value\"] for t in totals) for exp_imp, totals in groupby(sd, key=lambda d: d['importsexports'])])\n",
    "    VegaLite({\n",
    "      \"title\": f\"{port_franc.upper()}\\n Répartition des imports/exports en 1789 par {product_title}\",\n",
    "      \"data\": {\"values\": report},\n",
    "      \"spacing\": 0,\n",
    "      \"vconcat\": [{\"hconcat\": [{\n",
    "            \"transform\": [{\n",
    "              \"filter\": {\"field\": \"importsexports\", \"equal\": \"Imports\"}\n",
    "            }],\n",
    "            \"title\": \"import\",\n",
    "            \"mark\": {\"type\":\"bar\", \"tooltip\": {\"content\": \"data\"}},\n",
    "            \"encoding\": {\n",
    "              \"y\": {\n",
    "                \"field\": row_field, \"title\": None, \"sort\": \"-x\", \"type\": \"ordinal\"\n",
    "              },\n",
    "              \"x\": {\n",
    "                \"field\": \"value\",\n",
    "                \"type\": \"quantitative\",\n",
    "                \"title\": \"Valeur (Lt)\",\n",
    "                \"sort\": \"descending\"\n",
    "              },\n",
    "              \"color\": {\n",
    "                \"field\": bloc_field,\n",
    "                \"type\": \"nominal\", \n",
    "               \n",
    "                \"scale\": {\n",
    "                    \"domain\": SORT_LABELS,\n",
    "                    \"range\": PALETTE\n",
    "                },\n",
    "\n",
    "              },\n",
    "              \"order\": {\"expr\": f\"-1*indexof({SORT_LABELS}, datum.{bloc_field})\", \"type\": \"ordinal\"}\n",
    "            }\n",
    "          },\n",
    "          {\n",
    "            \"transform\": [{\n",
    "              \"filter\": {\"field\": \"importsexports\", \"equal\": \"Exports\"},\n",
    "              \n",
    "            }],\n",
    "            \"title\": \"export\",\n",
    "            \"mark\": {\"type\":\"bar\", \"tooltip\": {\"content\": \"data\"}},\n",
    "            \"encoding\": {\n",
    "              \"y\": {\n",
    "                \"field\": row_field, \"sort\": \"-x\", \"title\": None, \"axis\": None, \"type\": \"ordinal\"\n",
    "\n",
    "              },\n",
    "              \"x\": {\n",
    "                \"field\": \"value\",\n",
    "                \"type\": \"quantitative\",\n",
    "                \"title\": \"Valeur (Lt)\",\n",
    "              },\n",
    "              \"color\": {\n",
    "                \"field\": bloc_field,\n",
    "                \"type\": \"nominal\", \n",
    "                \"sort\": SORT_LABELS, \n",
    "                \"scale\": {\n",
    "                    \"domain\": SORT_LABELS,\n",
    "                    \"range\": PALETTE\n",
    "                },\n",
    "              },\n",
    "              \"order\": {\"expr\": f\"indexof({SORT_LABELS}, datum.{bloc_field})\", \"type\": \"ordinal\"}\n",
    "            }\n",
    "          }\n",
    "          ]}, {\"hconcat\": [{\n",
    "            \"transform\": [\n",
    "                {\n",
    "              \"filter\": {\"field\": \"importsexports\", \"equal\": \"Imports\"}\n",
    "            },\n",
    "            {\n",
    "                  \"aggregate\": [{\n",
    "                   \"op\": \"sum\",\n",
    "                   \"field\": \"value\",\n",
    "                   \"as\": \"total_value\"\n",
    "                  }],\n",
    "                  \"groupby\": [bloc_field]\n",
    "            }\n",
    "            ],\n",
    "            \"mark\": {\"type\":\"bar\", \"tooltip\": {\"content\": \"data\"}},\n",
    "            \"encoding\": {\n",
    "              \"y\": {\n",
    "                \"field\": bloc_field, \n",
    "                \"title\": None, \n",
    "                \"type\": \"ordinal\",\n",
    "                \"sort\": SORT_LABELS,\n",
    "                \"scale\": {\"domain\": SORT_LABELS},\n",
    "\n",
    "              },\n",
    "              \"x\": {\n",
    "                \"field\": \"total_value\",\n",
    "                \"type\": \"quantitative\",\n",
    "                \"title\": \"Valeur tous produits (Lt)\",\n",
    "                \"sort\": \"descending\",\n",
    "                \"scale\": {\"domain\": [0, max_scale]}\n",
    "              },\n",
    "              \"color\": {\n",
    "                \"field\": bloc_field,\n",
    "                \"type\": \"nominal\", \n",
    "                \"sort\": SORT_LABELS, \n",
    "                \"scale\": {\n",
    "                    \"domain\": SORT_LABELS,\n",
    "                    \"range\": PALETTE\n",
    "                },\n",
    "              }\n",
    "            }\n",
    "          },\n",
    "          {\n",
    "            \"transform\": [\n",
    "                {\n",
    "              \"filter\": {\"field\": \"importsexports\", \"equal\": \"Exports\"}\n",
    "            },\n",
    "            {\n",
    "                  \"aggregate\": [{\n",
    "                   \"op\": \"sum\",\n",
    "                   \"field\": \"value\",\n",
    "                   \"as\": \"total_value\"\n",
    "                  }],\n",
    "                  \"groupby\": [bloc_field]\n",
    "            }\n",
    "            ],\n",
    "            \"mark\": {\"type\":\"bar\", \"tooltip\": {\"content\": \"data\"}},\n",
    "            \"encoding\": {\n",
    "              \"y\": {\n",
    "                \"field\": bloc_field, \n",
    "                \"title\": None, \n",
    "                \"axis\": None, \n",
    "                \"type\": \"ordinal\",\n",
    "                \"sort\": SORT_LABELS,\n",
    "                \"scale\": {\"domain\": SORT_LABELS},\n",
    "\n",
    "              },\n",
    "              \"x\": {\n",
    "                \"field\": \"total_value\",\n",
    "                \"type\": \"quantitative\",\n",
    "                \"title\": \"Valeur tous produits (Lt)\",\n",
    "                \"sort\": \"ascending\", \n",
    "                \"scale\": {\"domain\": [0, max_scale]}\n",
    "              },\n",
    "              \"color\": {\n",
    "                \"field\": bloc_field,\n",
    "                \"type\": \"nominal\", \n",
    "                \"sort\": SORT_LABELS, \n",
    "                \"scale\": {\n",
    "                    \"domain\": SORT_LABELS,\n",
    "                    \"range\": PALETTE\n",
    "                },\n",
    "              }\n",
    "            }\n",
    "          }\n",
    "          ]},\n",
    "          {\"hconcat\": [{\n",
    "            \"transform\": [\n",
    "            {\n",
    "              \"filter\": {\"field\": \"importsexports\", \"equal\": \"Imports\"}\n",
    "            },\n",
    "                        {\n",
    "              \"filter\": f\"indexof(datum.{bloc_field},'?')==-1\"\n",
    "            },\n",
    "\n",
    "            {\n",
    "                  \"aggregate\": [{\n",
    "                   \"op\": \"sum\",\n",
    "                   \"field\": \"value\",\n",
    "                   \"as\": \"total_value\"\n",
    "                  }]\n",
    "            }\n",
    "            ],\n",
    "            \"mark\": {\"type\":\"bar\", \"tooltip\": {\"content\": \"data\"}},\n",
    "            \"encoding\": {\n",
    "              \"x\": {\n",
    "                \"field\": \"total_value\",\n",
    "                \"type\": \"quantitative\",\n",
    "                \"title\": \"Valeur tous produits (Lt)\",\n",
    "                \"sort\": \"descending\",\n",
    "                 \"scale\": {\"domain\": [0, max_total]}\n",
    "              },\n",
    "            }\n",
    "          },\n",
    "          {\n",
    "            \"transform\": [\n",
    "            {\n",
    "              \"filter\": {\"field\": \"importsexports\", \"equal\": \"Exports\"}\n",
    "            },\n",
    "                {\n",
    "              \"filter\": f\"indexof(datum.{bloc_field},'?')==-1\"\n",
    "            },\n",
    "            {\n",
    "                  \"aggregate\": [{\n",
    "                   \"op\": \"sum\",\n",
    "                   \"field\": \"value\",\n",
    "                   \"as\": \"total_value\"\n",
    "                  }]\n",
    "            }\n",
    "            ],\n",
    "            \"mark\": {\"type\":\"bar\", \"tooltip\": {\"content\": \"data\"}},\n",
    "            \"encoding\": {\n",
    "              \"x\": {\n",
    "                \"field\": \"total_value\",\n",
    "                \"type\": \"quantitative\",\n",
    "                \"title\": \"Totaux (Lt)\",\n",
    "                \"sort\": \"ascending\",\n",
    "                \"scale\": {\"domain\": [0, max_total]}\n",
    "              }\n",
    "            }\n",
    "          }\n",
    "          ]},\n",
    "          \n",
    "        ]\n",
    "    }\n",
    "    )"
   ]
  },
  {
   "cell_type": "markdown",
   "id": "ed3c3b5c",
   "metadata": {},
   "source": [
    "## Différence entre Importations et Exportations des produits coloniaux/autres\n",
    "\n",
    "Dans TOFLIT18, les statistiques des ports francs en 1789 décrivent toutes les importations mais uniqument les exportations de produits coloniaux.\n",
    "Aussi si l'on calcule la différence entre importations et les exportations, on estime la masse des flux qui : \n",
    "- pour les produits non coloniaux : les réexportations vers le monde\n",
    "- pour les produits coloniaux : le volume d'exportations non déclarées (fraude)\n",
    "\n",
    "En utilisant la classification Reexportation qui isole les produits qui sont probablement des produits coloniaux on compare les valeurs des importations et des exportations pour les ports francs.\n",
    "\n",
    "Pour Dunkerque on constate une part très importante d'exportations manquante des produits coloniaux.\n",
    "\n",
    "Pour Marseille, les différences sont bien moins importantes en valeur. Il semble y avoir tout de même une part de fraude dans les réexportations des produits coloniaux. A moins que cette part soit due à une transformation par l'industrie locale avatn réexporation transformée.\n",
    "\n",
    "Pour Lorient, si il y a une légère anomalie également dans la réexportation des produits coloniaux il y a surtout une différence importante entre les deux autre catégories.\n",
    "\n",
    "Pour Bayonne il semble il y avoir un problème dans les statistiques. A étudier."
   ]
  },
  {
   "cell_type": "code",
   "execution_count": 54,
   "id": "c19eb72b-d3ee-4419-b046-e068bafe79ed",
   "metadata": {},
   "outputs": [
    {
     "data": {
      "application/vnd.vegalite.v4+json": {
       "data": {
        "values": [
         {
          "importsexports": "Exports",
          "partner_type": "colonies",
          "port": "Dunkerque",
          "product_type": "autres produits",
          "value": 1411503
         },
         {
          "importsexports": "Imports",
          "partner_type": "colonies",
          "port": "Dunkerque",
          "product_type": "produits coloniaux",
          "value": 8670155
         },
         {
          "importsexports": "Imports",
          "partner_type": "Monde",
          "port": "Dunkerque",
          "product_type": "autres produits",
          "value": 34261785
         },
         {
          "importsexports": "Exports",
          "partner_type": "Monde",
          "port": "Dunkerque",
          "product_type": "produits coloniaux",
          "value": 4560525
         },
         {
          "importsexports": "Exports",
          "partner_type": "France",
          "port": "Dunkerque",
          "product_type": "autres produits",
          "value": 3440432.1238665055
         },
         {
          "importsexports": "Imports",
          "partner_type": "France",
          "port": "Dunkerque",
          "product_type": "autres produits",
          "value": 3618187.25966314
         },
         {
          "importsexports": "Exports",
          "partner_type": "Fraude ?",
          "port": "Dunkerque",
          "product_type": "autres produits",
          "value": 33028037.135796636
         },
         {
          "importsexports": "Exports",
          "partner_type": "Fraude ?",
          "port": "Dunkerque",
          "product_type": "produits coloniaux",
          "value": 4109630
         }
        ]
       },
       "spacing": 0,
       "title": "DUNKERQUE\n Répartition des imports/exports en 1789 par type de produits",
       "vconcat": [
        {
         "hconcat": [
          {
           "encoding": {
            "color": {
             "field": "partner_type",
             "scale": {
              "domain": [
               "colonies",
               "Monde",
               "France",
               "Fraude ?"
              ],
              "range": [
               "purple",
               "darkblue",
               "olive",
               "lightgrey",
               "darkgrey"
              ]
             },
             "type": "nominal"
            },
            "order": {
             "expr": "-1*indexof(['colonies', 'Monde', 'France', 'Fraude ?'], datum.partner_type)",
             "type": "ordinal"
            },
            "x": {
             "field": "value",
             "sort": "descending",
             "title": "Valeur (Lt)",
             "type": "quantitative"
            },
            "y": {
             "field": "product_type",
             "sort": "-x",
             "title": null,
             "type": "ordinal"
            }
           },
           "mark": {
            "tooltip": {
             "content": "data"
            },
            "type": "bar"
           },
           "title": "import",
           "transform": [
            {
             "filter": {
              "equal": "Imports",
              "field": "importsexports"
             }
            }
           ]
          },
          {
           "encoding": {
            "color": {
             "field": "partner_type",
             "scale": {
              "domain": [
               "colonies",
               "Monde",
               "France",
               "Fraude ?"
              ],
              "range": [
               "purple",
               "darkblue",
               "olive",
               "lightgrey",
               "darkgrey"
              ]
             },
             "sort": [
              "colonies",
              "Monde",
              "France",
              "Fraude ?"
             ],
             "type": "nominal"
            },
            "order": {
             "expr": "indexof(['colonies', 'Monde', 'France', 'Fraude ?'], datum.partner_type)",
             "type": "ordinal"
            },
            "x": {
             "field": "value",
             "title": "Valeur (Lt)",
             "type": "quantitative"
            },
            "y": {
             "axis": null,
             "field": "product_type",
             "sort": "-x",
             "title": null,
             "type": "ordinal"
            }
           },
           "mark": {
            "tooltip": {
             "content": "data"
            },
            "type": "bar"
           },
           "title": "export",
           "transform": [
            {
             "filter": {
              "equal": "Exports",
              "field": "importsexports"
             }
            }
           ]
          }
         ]
        },
        {
         "hconcat": [
          {
           "encoding": {
            "color": {
             "field": "partner_type",
             "scale": {
              "domain": [
               "colonies",
               "Monde",
               "France",
               "Fraude ?"
              ],
              "range": [
               "purple",
               "darkblue",
               "olive",
               "lightgrey",
               "darkgrey"
              ]
             },
             "sort": [
              "colonies",
              "Monde",
              "France",
              "Fraude ?"
             ],
             "type": "nominal"
            },
            "x": {
             "field": "total_value",
             "scale": {
              "domain": [
               0,
               37137667.13579664
              ]
             },
             "sort": "descending",
             "title": "Valeur tous produits (Lt)",
             "type": "quantitative"
            },
            "y": {
             "field": "partner_type",
             "scale": {
              "domain": [
               "colonies",
               "Monde",
               "France",
               "Fraude ?"
              ]
             },
             "sort": [
              "colonies",
              "Monde",
              "France",
              "Fraude ?"
             ],
             "title": null,
             "type": "ordinal"
            }
           },
           "mark": {
            "tooltip": {
             "content": "data"
            },
            "type": "bar"
           },
           "transform": [
            {
             "filter": {
              "equal": "Imports",
              "field": "importsexports"
             }
            },
            {
             "aggregate": [
              {
               "as": "total_value",
               "field": "value",
               "op": "sum"
              }
             ],
             "groupby": [
              "partner_type"
             ]
            }
           ]
          },
          {
           "encoding": {
            "color": {
             "field": "partner_type",
             "scale": {
              "domain": [
               "colonies",
               "Monde",
               "France",
               "Fraude ?"
              ],
              "range": [
               "purple",
               "darkblue",
               "olive",
               "lightgrey",
               "darkgrey"
              ]
             },
             "sort": [
              "colonies",
              "Monde",
              "France",
              "Fraude ?"
             ],
             "type": "nominal"
            },
            "x": {
             "field": "total_value",
             "scale": {
              "domain": [
               0,
               37137667.13579664
              ]
             },
             "sort": "ascending",
             "title": "Valeur tous produits (Lt)",
             "type": "quantitative"
            },
            "y": {
             "axis": null,
             "field": "partner_type",
             "scale": {
              "domain": [
               "colonies",
               "Monde",
               "France",
               "Fraude ?"
              ]
             },
             "sort": [
              "colonies",
              "Monde",
              "France",
              "Fraude ?"
             ],
             "title": null,
             "type": "ordinal"
            }
           },
           "mark": {
            "tooltip": {
             "content": "data"
            },
            "type": "bar"
           },
           "transform": [
            {
             "filter": {
              "equal": "Exports",
              "field": "importsexports"
             }
            },
            {
             "aggregate": [
              {
               "as": "total_value",
               "field": "value",
               "op": "sum"
              }
             ],
             "groupby": [
              "partner_type"
             ]
            }
           ]
          }
         ]
        },
        {
         "hconcat": [
          {
           "encoding": {
            "x": {
             "field": "total_value",
             "scale": {
              "domain": [
               0,
               46550127.25966314
              ]
             },
             "sort": "descending",
             "title": "Valeur tous produits (Lt)",
             "type": "quantitative"
            }
           },
           "mark": {
            "tooltip": {
             "content": "data"
            },
            "type": "bar"
           },
           "transform": [
            {
             "filter": {
              "equal": "Imports",
              "field": "importsexports"
             }
            },
            {
             "filter": "indexof(datum.partner_type,'?')==-1"
            },
            {
             "aggregate": [
              {
               "as": "total_value",
               "field": "value",
               "op": "sum"
              }
             ]
            }
           ]
          },
          {
           "encoding": {
            "x": {
             "field": "total_value",
             "scale": {
              "domain": [
               0,
               46550127.25966314
              ]
             },
             "sort": "ascending",
             "title": "Totaux (Lt)",
             "type": "quantitative"
            }
           },
           "mark": {
            "tooltip": {
             "content": "data"
            },
            "type": "bar"
           },
           "transform": [
            {
             "filter": {
              "equal": "Exports",
              "field": "importsexports"
             }
            },
            {
             "filter": "indexof(datum.partner_type,'?')==-1"
            },
            {
             "aggregate": [
              {
               "as": "total_value",
               "field": "value",
               "op": "sum"
              }
             ]
            }
           ]
          }
         ]
        }
       ]
      }
     },
     "metadata": {},
     "output_type": "display_data"
    },
    {
     "data": {
      "application/vnd.vegalite.v4+json": {
       "data": {
        "values": [
         {
          "importsexports": "Exports",
          "partner_type": "colonies",
          "port": "Bayonne",
          "product_type": "autres produits",
          "value": 500164
         },
         {
          "importsexports": "Imports",
          "partner_type": "colonies",
          "port": "Bayonne",
          "product_type": "produits coloniaux",
          "value": 890608
         },
         {
          "importsexports": "Exports",
          "partner_type": "Monde",
          "port": "Bayonne",
          "product_type": "autres produits",
          "value": 3141882
         },
         {
          "importsexports": "Imports",
          "partner_type": "Monde",
          "port": "Bayonne",
          "product_type": "autres produits",
          "value": 8370185
         },
         {
          "importsexports": "Exports",
          "partner_type": "Monde",
          "port": "Bayonne",
          "product_type": "produits coloniaux",
          "value": 417384
         },
         {
          "importsexports": "Imports",
          "partner_type": "France",
          "port": "Bayonne",
          "product_type": "autres produits",
          "value": 5160206.625222757
         },
         {
          "importsexports": "Exports",
          "partner_type": "France",
          "port": "Bayonne",
          "product_type": "autres produits",
          "value": 3139840.4455255987
         },
         {
          "importsexports": "Exports",
          "partner_type": "Fraude ?",
          "port": "Bayonne",
          "product_type": "autres produits",
          "value": 6748505.179697159
         },
         {
          "importsexports": "Exports",
          "partner_type": "Fraude ?",
          "port": "Bayonne",
          "product_type": "produits coloniaux",
          "value": 473224
         }
        ]
       },
       "spacing": 0,
       "title": "BAYONNE\n Répartition des imports/exports en 1789 par type de produits",
       "vconcat": [
        {
         "hconcat": [
          {
           "encoding": {
            "color": {
             "field": "partner_type",
             "scale": {
              "domain": [
               "colonies",
               "Monde",
               "France",
               "Fraude ?"
              ],
              "range": [
               "purple",
               "darkblue",
               "olive",
               "lightgrey",
               "darkgrey"
              ]
             },
             "type": "nominal"
            },
            "order": {
             "expr": "-1*indexof(['colonies', 'Monde', 'France', 'Fraude ?'], datum.partner_type)",
             "type": "ordinal"
            },
            "x": {
             "field": "value",
             "sort": "descending",
             "title": "Valeur (Lt)",
             "type": "quantitative"
            },
            "y": {
             "field": "product_type",
             "sort": "-x",
             "title": null,
             "type": "ordinal"
            }
           },
           "mark": {
            "tooltip": {
             "content": "data"
            },
            "type": "bar"
           },
           "title": "import",
           "transform": [
            {
             "filter": {
              "equal": "Imports",
              "field": "importsexports"
             }
            }
           ]
          },
          {
           "encoding": {
            "color": {
             "field": "partner_type",
             "scale": {
              "domain": [
               "colonies",
               "Monde",
               "France",
               "Fraude ?"
              ],
              "range": [
               "purple",
               "darkblue",
               "olive",
               "lightgrey",
               "darkgrey"
              ]
             },
             "sort": [
              "colonies",
              "Monde",
              "France",
              "Fraude ?"
             ],
             "type": "nominal"
            },
            "order": {
             "expr": "indexof(['colonies', 'Monde', 'France', 'Fraude ?'], datum.partner_type)",
             "type": "ordinal"
            },
            "x": {
             "field": "value",
             "title": "Valeur (Lt)",
             "type": "quantitative"
            },
            "y": {
             "axis": null,
             "field": "product_type",
             "sort": "-x",
             "title": null,
             "type": "ordinal"
            }
           },
           "mark": {
            "tooltip": {
             "content": "data"
            },
            "type": "bar"
           },
           "title": "export",
           "transform": [
            {
             "filter": {
              "equal": "Exports",
              "field": "importsexports"
             }
            }
           ]
          }
         ]
        },
        {
         "hconcat": [
          {
           "encoding": {
            "color": {
             "field": "partner_type",
             "scale": {
              "domain": [
               "colonies",
               "Monde",
               "France",
               "Fraude ?"
              ],
              "range": [
               "purple",
               "darkblue",
               "olive",
               "lightgrey",
               "darkgrey"
              ]
             },
             "sort": [
              "colonies",
              "Monde",
              "France",
              "Fraude ?"
             ],
             "type": "nominal"
            },
            "x": {
             "field": "total_value",
             "scale": {
              "domain": [
               0,
               8370185
              ]
             },
             "sort": "descending",
             "title": "Valeur tous produits (Lt)",
             "type": "quantitative"
            },
            "y": {
             "field": "partner_type",
             "scale": {
              "domain": [
               "colonies",
               "Monde",
               "France",
               "Fraude ?"
              ]
             },
             "sort": [
              "colonies",
              "Monde",
              "France",
              "Fraude ?"
             ],
             "title": null,
             "type": "ordinal"
            }
           },
           "mark": {
            "tooltip": {
             "content": "data"
            },
            "type": "bar"
           },
           "transform": [
            {
             "filter": {
              "equal": "Imports",
              "field": "importsexports"
             }
            },
            {
             "aggregate": [
              {
               "as": "total_value",
               "field": "value",
               "op": "sum"
              }
             ],
             "groupby": [
              "partner_type"
             ]
            }
           ]
          },
          {
           "encoding": {
            "color": {
             "field": "partner_type",
             "scale": {
              "domain": [
               "colonies",
               "Monde",
               "France",
               "Fraude ?"
              ],
              "range": [
               "purple",
               "darkblue",
               "olive",
               "lightgrey",
               "darkgrey"
              ]
             },
             "sort": [
              "colonies",
              "Monde",
              "France",
              "Fraude ?"
             ],
             "type": "nominal"
            },
            "x": {
             "field": "total_value",
             "scale": {
              "domain": [
               0,
               8370185
              ]
             },
             "sort": "ascending",
             "title": "Valeur tous produits (Lt)",
             "type": "quantitative"
            },
            "y": {
             "axis": null,
             "field": "partner_type",
             "scale": {
              "domain": [
               "colonies",
               "Monde",
               "France",
               "Fraude ?"
              ]
             },
             "sort": [
              "colonies",
              "Monde",
              "France",
              "Fraude ?"
             ],
             "title": null,
             "type": "ordinal"
            }
           },
           "mark": {
            "tooltip": {
             "content": "data"
            },
            "type": "bar"
           },
           "transform": [
            {
             "filter": {
              "equal": "Exports",
              "field": "importsexports"
             }
            },
            {
             "aggregate": [
              {
               "as": "total_value",
               "field": "value",
               "op": "sum"
              }
             ],
             "groupby": [
              "partner_type"
             ]
            }
           ]
          }
         ]
        },
        {
         "hconcat": [
          {
           "encoding": {
            "x": {
             "field": "total_value",
             "scale": {
              "domain": [
               0,
               14420999.625222757
              ]
             },
             "sort": "descending",
             "title": "Valeur tous produits (Lt)",
             "type": "quantitative"
            }
           },
           "mark": {
            "tooltip": {
             "content": "data"
            },
            "type": "bar"
           },
           "transform": [
            {
             "filter": {
              "equal": "Imports",
              "field": "importsexports"
             }
            },
            {
             "filter": "indexof(datum.partner_type,'?')==-1"
            },
            {
             "aggregate": [
              {
               "as": "total_value",
               "field": "value",
               "op": "sum"
              }
             ]
            }
           ]
          },
          {
           "encoding": {
            "x": {
             "field": "total_value",
             "scale": {
              "domain": [
               0,
               14420999.625222757
              ]
             },
             "sort": "ascending",
             "title": "Totaux (Lt)",
             "type": "quantitative"
            }
           },
           "mark": {
            "tooltip": {
             "content": "data"
            },
            "type": "bar"
           },
           "transform": [
            {
             "filter": {
              "equal": "Exports",
              "field": "importsexports"
             }
            },
            {
             "filter": "indexof(datum.partner_type,'?')==-1"
            },
            {
             "aggregate": [
              {
               "as": "total_value",
               "field": "value",
               "op": "sum"
              }
             ]
            }
           ]
          }
         ]
        }
       ]
      }
     },
     "metadata": {},
     "output_type": "display_data"
    },
    {
     "data": {
      "application/vnd.vegalite.v4+json": {
       "data": {
        "values": [
         {
          "importsexports": "Imports",
          "partner_type": "colonies",
          "port": "Marseille",
          "product_type": "produits coloniaux",
          "value": 31647025
         },
         {
          "importsexports": "Exports",
          "partner_type": "colonies",
          "port": "Marseille",
          "product_type": "autres produits",
          "value": 16611629
         },
         {
          "importsexports": "Exports",
          "partner_type": "Monde",
          "port": "Marseille",
          "product_type": "produits coloniaux",
          "value": 24912626
         },
         {
          "importsexports": "Exports",
          "partner_type": "Monde",
          "port": "Marseille",
          "product_type": "autres produits",
          "value": 40516525.090179704
         },
         {
          "importsexports": "Imports",
          "partner_type": "Monde",
          "port": "Marseille",
          "product_type": "autres produits",
          "value": 98943860.15101588
         },
         {
          "importsexports": "Exports",
          "partner_type": "France",
          "port": "Marseille",
          "product_type": "autres produits",
          "value": 26351491.29229197
         },
         {
          "importsexports": "Imports",
          "partner_type": "France",
          "port": "Marseille",
          "product_type": "autres produits",
          "value": 983812.3515460002
         },
         {
          "importsexports": "Exports",
          "partner_type": "Fraude ?",
          "port": "Marseille",
          "product_type": "produits coloniaux",
          "value": 6734399
         },
         {
          "importsexports": "Exports",
          "partner_type": "Fraude ?",
          "port": "Marseille",
          "product_type": "autres produits",
          "value": 16448027.120090201
         }
        ]
       },
       "spacing": 0,
       "title": "MARSEILLE\n Répartition des imports/exports en 1789 par type de produits",
       "vconcat": [
        {
         "hconcat": [
          {
           "encoding": {
            "color": {
             "field": "partner_type",
             "scale": {
              "domain": [
               "colonies",
               "Monde",
               "France",
               "Fraude ?"
              ],
              "range": [
               "purple",
               "darkblue",
               "olive",
               "lightgrey",
               "darkgrey"
              ]
             },
             "type": "nominal"
            },
            "order": {
             "expr": "-1*indexof(['colonies', 'Monde', 'France', 'Fraude ?'], datum.partner_type)",
             "type": "ordinal"
            },
            "x": {
             "field": "value",
             "sort": "descending",
             "title": "Valeur (Lt)",
             "type": "quantitative"
            },
            "y": {
             "field": "product_type",
             "sort": "-x",
             "title": null,
             "type": "ordinal"
            }
           },
           "mark": {
            "tooltip": {
             "content": "data"
            },
            "type": "bar"
           },
           "title": "import",
           "transform": [
            {
             "filter": {
              "equal": "Imports",
              "field": "importsexports"
             }
            }
           ]
          },
          {
           "encoding": {
            "color": {
             "field": "partner_type",
             "scale": {
              "domain": [
               "colonies",
               "Monde",
               "France",
               "Fraude ?"
              ],
              "range": [
               "purple",
               "darkblue",
               "olive",
               "lightgrey",
               "darkgrey"
              ]
             },
             "sort": [
              "colonies",
              "Monde",
              "France",
              "Fraude ?"
             ],
             "type": "nominal"
            },
            "order": {
             "expr": "indexof(['colonies', 'Monde', 'France', 'Fraude ?'], datum.partner_type)",
             "type": "ordinal"
            },
            "x": {
             "field": "value",
             "title": "Valeur (Lt)",
             "type": "quantitative"
            },
            "y": {
             "axis": null,
             "field": "product_type",
             "sort": "-x",
             "title": null,
             "type": "ordinal"
            }
           },
           "mark": {
            "tooltip": {
             "content": "data"
            },
            "type": "bar"
           },
           "title": "export",
           "transform": [
            {
             "filter": {
              "equal": "Exports",
              "field": "importsexports"
             }
            }
           ]
          }
         ]
        },
        {
         "hconcat": [
          {
           "encoding": {
            "color": {
             "field": "partner_type",
             "scale": {
              "domain": [
               "colonies",
               "Monde",
               "France",
               "Fraude ?"
              ],
              "range": [
               "purple",
               "darkblue",
               "olive",
               "lightgrey",
               "darkgrey"
              ]
             },
             "sort": [
              "colonies",
              "Monde",
              "France",
              "Fraude ?"
             ],
             "type": "nominal"
            },
            "x": {
             "field": "total_value",
             "scale": {
              "domain": [
               0,
               98943860.15101588
              ]
             },
             "sort": "descending",
             "title": "Valeur tous produits (Lt)",
             "type": "quantitative"
            },
            "y": {
             "field": "partner_type",
             "scale": {
              "domain": [
               "colonies",
               "Monde",
               "France",
               "Fraude ?"
              ]
             },
             "sort": [
              "colonies",
              "Monde",
              "France",
              "Fraude ?"
             ],
             "title": null,
             "type": "ordinal"
            }
           },
           "mark": {
            "tooltip": {
             "content": "data"
            },
            "type": "bar"
           },
           "transform": [
            {
             "filter": {
              "equal": "Imports",
              "field": "importsexports"
             }
            },
            {
             "aggregate": [
              {
               "as": "total_value",
               "field": "value",
               "op": "sum"
              }
             ],
             "groupby": [
              "partner_type"
             ]
            }
           ]
          },
          {
           "encoding": {
            "color": {
             "field": "partner_type",
             "scale": {
              "domain": [
               "colonies",
               "Monde",
               "France",
               "Fraude ?"
              ],
              "range": [
               "purple",
               "darkblue",
               "olive",
               "lightgrey",
               "darkgrey"
              ]
             },
             "sort": [
              "colonies",
              "Monde",
              "France",
              "Fraude ?"
             ],
             "type": "nominal"
            },
            "x": {
             "field": "total_value",
             "scale": {
              "domain": [
               0,
               98943860.15101588
              ]
             },
             "sort": "ascending",
             "title": "Valeur tous produits (Lt)",
             "type": "quantitative"
            },
            "y": {
             "axis": null,
             "field": "partner_type",
             "scale": {
              "domain": [
               "colonies",
               "Monde",
               "France",
               "Fraude ?"
              ]
             },
             "sort": [
              "colonies",
              "Monde",
              "France",
              "Fraude ?"
             ],
             "title": null,
             "type": "ordinal"
            }
           },
           "mark": {
            "tooltip": {
             "content": "data"
            },
            "type": "bar"
           },
           "transform": [
            {
             "filter": {
              "equal": "Exports",
              "field": "importsexports"
             }
            },
            {
             "aggregate": [
              {
               "as": "total_value",
               "field": "value",
               "op": "sum"
              }
             ],
             "groupby": [
              "partner_type"
             ]
            }
           ]
          }
         ]
        },
        {
         "hconcat": [
          {
           "encoding": {
            "x": {
             "field": "total_value",
             "scale": {
              "domain": [
               0,
               131574697.50256188
              ]
             },
             "sort": "descending",
             "title": "Valeur tous produits (Lt)",
             "type": "quantitative"
            }
           },
           "mark": {
            "tooltip": {
             "content": "data"
            },
            "type": "bar"
           },
           "transform": [
            {
             "filter": {
              "equal": "Imports",
              "field": "importsexports"
             }
            },
            {
             "filter": "indexof(datum.partner_type,'?')==-1"
            },
            {
             "aggregate": [
              {
               "as": "total_value",
               "field": "value",
               "op": "sum"
              }
             ]
            }
           ]
          },
          {
           "encoding": {
            "x": {
             "field": "total_value",
             "scale": {
              "domain": [
               0,
               131574697.50256188
              ]
             },
             "sort": "ascending",
             "title": "Totaux (Lt)",
             "type": "quantitative"
            }
           },
           "mark": {
            "tooltip": {
             "content": "data"
            },
            "type": "bar"
           },
           "transform": [
            {
             "filter": {
              "equal": "Exports",
              "field": "importsexports"
             }
            },
            {
             "filter": "indexof(datum.partner_type,'?')==-1"
            },
            {
             "aggregate": [
              {
               "as": "total_value",
               "field": "value",
               "op": "sum"
              }
             ]
            }
           ]
          }
         ]
        }
       ]
      }
     },
     "metadata": {},
     "output_type": "display_data"
    },
    {
     "data": {
      "application/vnd.vegalite.v4+json": {
       "data": {
        "values": [
         {
          "importsexports": "Exports",
          "partner_type": "colonies",
          "port": "Lorient",
          "product_type": "autres produits",
          "value": 1067534
         },
         {
          "importsexports": "Exports",
          "partner_type": "Monde",
          "port": "Lorient",
          "product_type": "autres produits",
          "value": 1563858.68502171
         },
         {
          "importsexports": "Imports",
          "partner_type": "Monde",
          "port": "Lorient",
          "product_type": "autres produits",
          "value": 2834871.9988
         },
         {
          "importsexports": "Exports",
          "partner_type": "Monde",
          "port": "Lorient",
          "product_type": "produits coloniaux",
          "value": 1872
         },
         {
          "importsexports": "Exports",
          "partner_type": "France",
          "port": "Lorient",
          "product_type": "autres produits",
          "value": 80456.500093
         },
         {
          "importsexports": "Imports",
          "partner_type": "France",
          "port": "Lorient",
          "product_type": "autres produits",
          "value": 113649.54951377
         },
         {
          "importsexports": "Exports",
          "partner_type": "Fraude ?",
          "port": "Lorient",
          "product_type": "autres produits",
          "value": 236672.36319906032
         },
         {
          "importsexports": "Imports",
          "partner_type": "Fraude ?",
          "port": "Lorient",
          "product_type": "produits coloniaux",
          "value": 1872
         }
        ]
       },
       "spacing": 0,
       "title": "LORIENT\n Répartition des imports/exports en 1789 par type de produits",
       "vconcat": [
        {
         "hconcat": [
          {
           "encoding": {
            "color": {
             "field": "partner_type",
             "scale": {
              "domain": [
               "colonies",
               "Monde",
               "France",
               "Fraude ?"
              ],
              "range": [
               "purple",
               "darkblue",
               "olive",
               "lightgrey",
               "darkgrey"
              ]
             },
             "type": "nominal"
            },
            "order": {
             "expr": "-1*indexof(['colonies', 'Monde', 'France', 'Fraude ?'], datum.partner_type)",
             "type": "ordinal"
            },
            "x": {
             "field": "value",
             "sort": "descending",
             "title": "Valeur (Lt)",
             "type": "quantitative"
            },
            "y": {
             "field": "product_type",
             "sort": "-x",
             "title": null,
             "type": "ordinal"
            }
           },
           "mark": {
            "tooltip": {
             "content": "data"
            },
            "type": "bar"
           },
           "title": "import",
           "transform": [
            {
             "filter": {
              "equal": "Imports",
              "field": "importsexports"
             }
            }
           ]
          },
          {
           "encoding": {
            "color": {
             "field": "partner_type",
             "scale": {
              "domain": [
               "colonies",
               "Monde",
               "France",
               "Fraude ?"
              ],
              "range": [
               "purple",
               "darkblue",
               "olive",
               "lightgrey",
               "darkgrey"
              ]
             },
             "sort": [
              "colonies",
              "Monde",
              "France",
              "Fraude ?"
             ],
             "type": "nominal"
            },
            "order": {
             "expr": "indexof(['colonies', 'Monde', 'France', 'Fraude ?'], datum.partner_type)",
             "type": "ordinal"
            },
            "x": {
             "field": "value",
             "title": "Valeur (Lt)",
             "type": "quantitative"
            },
            "y": {
             "axis": null,
             "field": "product_type",
             "sort": "-x",
             "title": null,
             "type": "ordinal"
            }
           },
           "mark": {
            "tooltip": {
             "content": "data"
            },
            "type": "bar"
           },
           "title": "export",
           "transform": [
            {
             "filter": {
              "equal": "Exports",
              "field": "importsexports"
             }
            }
           ]
          }
         ]
        },
        {
         "hconcat": [
          {
           "encoding": {
            "color": {
             "field": "partner_type",
             "scale": {
              "domain": [
               "colonies",
               "Monde",
               "France",
               "Fraude ?"
              ],
              "range": [
               "purple",
               "darkblue",
               "olive",
               "lightgrey",
               "darkgrey"
              ]
             },
             "sort": [
              "colonies",
              "Monde",
              "France",
              "Fraude ?"
             ],
             "type": "nominal"
            },
            "x": {
             "field": "total_value",
             "scale": {
              "domain": [
               0,
               2834871.9988
              ]
             },
             "sort": "descending",
             "title": "Valeur tous produits (Lt)",
             "type": "quantitative"
            },
            "y": {
             "field": "partner_type",
             "scale": {
              "domain": [
               "colonies",
               "Monde",
               "France",
               "Fraude ?"
              ]
             },
             "sort": [
              "colonies",
              "Monde",
              "France",
              "Fraude ?"
             ],
             "title": null,
             "type": "ordinal"
            }
           },
           "mark": {
            "tooltip": {
             "content": "data"
            },
            "type": "bar"
           },
           "transform": [
            {
             "filter": {
              "equal": "Imports",
              "field": "importsexports"
             }
            },
            {
             "aggregate": [
              {
               "as": "total_value",
               "field": "value",
               "op": "sum"
              }
             ],
             "groupby": [
              "partner_type"
             ]
            }
           ]
          },
          {
           "encoding": {
            "color": {
             "field": "partner_type",
             "scale": {
              "domain": [
               "colonies",
               "Monde",
               "France",
               "Fraude ?"
              ],
              "range": [
               "purple",
               "darkblue",
               "olive",
               "lightgrey",
               "darkgrey"
              ]
             },
             "sort": [
              "colonies",
              "Monde",
              "France",
              "Fraude ?"
             ],
             "type": "nominal"
            },
            "x": {
             "field": "total_value",
             "scale": {
              "domain": [
               0,
               2834871.9988
              ]
             },
             "sort": "ascending",
             "title": "Valeur tous produits (Lt)",
             "type": "quantitative"
            },
            "y": {
             "axis": null,
             "field": "partner_type",
             "scale": {
              "domain": [
               "colonies",
               "Monde",
               "France",
               "Fraude ?"
              ]
             },
             "sort": [
              "colonies",
              "Monde",
              "France",
              "Fraude ?"
             ],
             "title": null,
             "type": "ordinal"
            }
           },
           "mark": {
            "tooltip": {
             "content": "data"
            },
            "type": "bar"
           },
           "transform": [
            {
             "filter": {
              "equal": "Exports",
              "field": "importsexports"
             }
            },
            {
             "aggregate": [
              {
               "as": "total_value",
               "field": "value",
               "op": "sum"
              }
             ],
             "groupby": [
              "partner_type"
             ]
            }
           ]
          }
         ]
        },
        {
         "hconcat": [
          {
           "encoding": {
            "x": {
             "field": "total_value",
             "scale": {
              "domain": [
               0,
               2950393.5483137704
              ]
             },
             "sort": "descending",
             "title": "Valeur tous produits (Lt)",
             "type": "quantitative"
            }
           },
           "mark": {
            "tooltip": {
             "content": "data"
            },
            "type": "bar"
           },
           "transform": [
            {
             "filter": {
              "equal": "Imports",
              "field": "importsexports"
             }
            },
            {
             "filter": "indexof(datum.partner_type,'?')==-1"
            },
            {
             "aggregate": [
              {
               "as": "total_value",
               "field": "value",
               "op": "sum"
              }
             ]
            }
           ]
          },
          {
           "encoding": {
            "x": {
             "field": "total_value",
             "scale": {
              "domain": [
               0,
               2950393.5483137704
              ]
             },
             "sort": "ascending",
             "title": "Totaux (Lt)",
             "type": "quantitative"
            }
           },
           "mark": {
            "tooltip": {
             "content": "data"
            },
            "type": "bar"
           },
           "transform": [
            {
             "filter": {
              "equal": "Exports",
              "field": "importsexports"
             }
            },
            {
             "filter": "indexof(datum.partner_type,'?')==-1"
            },
            {
             "aggregate": [
              {
               "as": "total_value",
               "field": "value",
               "op": "sum"
              }
             ]
            }
           ]
          }
         ]
        }
       ]
      }
     },
     "metadata": {},
     "output_type": "display_data"
    }
   ],
   "source": [
    "for city in [\"Dunkerque\", \"Bayonne\", \"Marseille\", \"Lorient\"]:\n",
    "    pyramide_port_franc(city, data[city][\"total_trade\"],\"product_type\", \"partner_type\", \"type de produits\")"
   ]
  },
  {
   "cell_type": "markdown",
   "id": "d68a0afa-dc31-4c90-8e3f-79620fef5d9c",
   "metadata": {},
   "source": [
    "# Focus sur les exportations\n",
    "\n",
    "Nous allons dans un premier temps détailler les produits coloniaux pour identifier les produits concernés par les anomalies d'exporations."
   ]
  },
  {
   "cell_type": "code",
   "execution_count": 56,
   "id": "ed1ba3b0-7c1a-4e91-8a2c-b5027694817c",
   "metadata": {},
   "outputs": [
    {
     "data": {
      "application/vnd.vegalite.v4+json": {
       "data": {
        "values": [
         {
          "importsexports": "Imports",
          "partner_type": "colonies",
          "port": "Dunkerque",
          "product": "Café",
          "value": 4071453
         },
         {
          "importsexports": "Imports",
          "partner_type": "colonies",
          "port": "Dunkerque",
          "product": "Coton non transformé",
          "value": 1082427
         },
         {
          "importsexports": "Imports",
          "partner_type": "colonies",
          "port": "Dunkerque",
          "product": "Indigo",
          "value": 89556
         },
         {
          "importsexports": "Imports",
          "partner_type": "colonies",
          "port": "Dunkerque",
          "product": "Sucre",
          "value": 3269855
         },
         {
          "importsexports": "Imports",
          "partner_type": "colonies",
          "port": "Dunkerque",
          "product": "Cacao et chocolat",
          "value": 4414
         },
         {
          "importsexports": "Imports",
          "partner_type": "colonies",
          "port": "Dunkerque",
          "product": "Bois divers hors combustible",
          "value": 2724
         },
         {
          "importsexports": "Imports",
          "partner_type": "colonies",
          "port": "Dunkerque",
          "product": "Matières brutes et transformées pour teinture",
          "value": 16367
         },
         {
          "importsexports": "Imports",
          "partner_type": "colonies",
          "port": "Dunkerque",
          "product": "Fils divers",
          "value": 1376
         },
         {
          "importsexports": "Imports",
          "partner_type": "colonies",
          "port": "Dunkerque",
          "product": "Subsistances diverses et mélangées",
          "value": 150
         },
         {
          "importsexports": "Imports",
          "partner_type": "colonies",
          "port": "Dunkerque",
          "product": "Cuirs, peaux et pelleterie",
          "value": 61376
         },
         {
          "importsexports": "Imports",
          "partner_type": "colonies",
          "port": "Dunkerque",
          "product": "Eaux-de-vie et liqueurs",
          "value": 19963
         },
         {
          "importsexports": "Imports",
          "partner_type": "colonies",
          "port": "Dunkerque",
          "product": "Sirop et mélasse",
          "value": 210
         },
         {
          "importsexports": "Imports",
          "partner_type": "colonies",
          "port": "Dunkerque",
          "product": "Tabac",
          "value": 48931
         },
         {
          "importsexports": "Imports",
          "partner_type": "colonies",
          "port": "Dunkerque",
          "product": "Divers mélangés",
          "value": 1353
         },
         {
          "importsexports": "Exports",
          "partner_type": "Monde",
          "port": "Dunkerque",
          "product": "Café",
          "value": 1182957
         },
         {
          "importsexports": "Exports",
          "partner_type": "Monde",
          "port": "Dunkerque",
          "product": "Coton non transformé",
          "value": 719051
         },
         {
          "importsexports": "Exports",
          "partner_type": "Monde",
          "port": "Dunkerque",
          "product": "Indigo",
          "value": 101042
         },
         {
          "importsexports": "Exports",
          "partner_type": "Monde",
          "port": "Dunkerque",
          "product": "Sucre",
          "value": 2211754
         },
         {
          "importsexports": "Exports",
          "partner_type": "Fraude ?",
          "port": "Dunkerque",
          "product": "Café",
          "value": 2888496
         },
         {
          "importsexports": "Exports",
          "partner_type": "Fraude ?",
          "port": "Dunkerque",
          "product": "Coton non transformé",
          "value": 363376
         },
         {
          "importsexports": "Imports",
          "partner_type": "Fraude ?",
          "port": "Dunkerque",
          "product": "Indigo",
          "value": 11486
         },
         {
          "importsexports": "Exports",
          "partner_type": "Fraude ?",
          "port": "Dunkerque",
          "product": "Sucre",
          "value": 1058101
         },
         {
          "importsexports": "Exports",
          "partner_type": "Fraude ?",
          "port": "Dunkerque",
          "product": "Cacao et chocolat",
          "value": 4414
         },
         {
          "importsexports": "Exports",
          "partner_type": "Fraude ?",
          "port": "Dunkerque",
          "product": "Bois divers hors combustible",
          "value": 2724
         },
         {
          "importsexports": "Exports",
          "partner_type": "Fraude ?",
          "port": "Dunkerque",
          "product": "Matières brutes et transformées pour teinture",
          "value": 16367
         },
         {
          "importsexports": "Exports",
          "partner_type": "Fraude ?",
          "port": "Dunkerque",
          "product": "Fils divers",
          "value": 1376
         },
         {
          "importsexports": "Exports",
          "partner_type": "Fraude ?",
          "port": "Dunkerque",
          "product": "Subsistances diverses et mélangées",
          "value": 150
         },
         {
          "importsexports": "Exports",
          "partner_type": "Fraude ?",
          "port": "Dunkerque",
          "product": "Cuirs, peaux et pelleterie",
          "value": 61376
         },
         {
          "importsexports": "Exports",
          "partner_type": "Fraude ?",
          "port": "Dunkerque",
          "product": "Eaux-de-vie et liqueurs",
          "value": 19963
         },
         {
          "importsexports": "Exports",
          "partner_type": "Fraude ?",
          "port": "Dunkerque",
          "product": "Sirop et mélasse",
          "value": 210
         },
         {
          "importsexports": "Exports",
          "partner_type": "Fraude ?",
          "port": "Dunkerque",
          "product": "Tabac",
          "value": 48931
         },
         {
          "importsexports": "Exports",
          "partner_type": "Fraude ?",
          "port": "Dunkerque",
          "product": "Divers mélangés",
          "value": 1353
         }
        ]
       },
       "spacing": 0,
       "title": "DUNKERQUE\n Répartition des imports/exports en 1789 par produits coloniaux (révolution et empire)",
       "vconcat": [
        {
         "hconcat": [
          {
           "encoding": {
            "color": {
             "field": "partner_type",
             "scale": {
              "domain": [
               "colonies",
               "Monde",
               "France",
               "Fraude ?"
              ],
              "range": [
               "purple",
               "darkblue",
               "olive",
               "lightgrey",
               "darkgrey"
              ]
             },
             "type": "nominal"
            },
            "order": {
             "expr": "-1*indexof(['colonies', 'Monde', 'France', 'Fraude ?'], datum.partner_type)",
             "type": "ordinal"
            },
            "x": {
             "field": "value",
             "sort": "descending",
             "title": "Valeur (Lt)",
             "type": "quantitative"
            },
            "y": {
             "field": "product",
             "sort": "-x",
             "title": null,
             "type": "ordinal"
            }
           },
           "mark": {
            "tooltip": {
             "content": "data"
            },
            "type": "bar"
           },
           "title": "import",
           "transform": [
            {
             "filter": {
              "equal": "Imports",
              "field": "importsexports"
             }
            }
           ]
          },
          {
           "encoding": {
            "color": {
             "field": "partner_type",
             "scale": {
              "domain": [
               "colonies",
               "Monde",
               "France",
               "Fraude ?"
              ],
              "range": [
               "purple",
               "darkblue",
               "olive",
               "lightgrey",
               "darkgrey"
              ]
             },
             "sort": [
              "colonies",
              "Monde",
              "France",
              "Fraude ?"
             ],
             "type": "nominal"
            },
            "order": {
             "expr": "indexof(['colonies', 'Monde', 'France', 'Fraude ?'], datum.partner_type)",
             "type": "ordinal"
            },
            "x": {
             "field": "value",
             "title": "Valeur (Lt)",
             "type": "quantitative"
            },
            "y": {
             "axis": null,
             "field": "product",
             "sort": "-x",
             "title": null,
             "type": "ordinal"
            }
           },
           "mark": {
            "tooltip": {
             "content": "data"
            },
            "type": "bar"
           },
           "title": "export",
           "transform": [
            {
             "filter": {
              "equal": "Exports",
              "field": "importsexports"
             }
            }
           ]
          }
         ]
        },
        {
         "hconcat": [
          {
           "encoding": {
            "color": {
             "field": "partner_type",
             "scale": {
              "domain": [
               "colonies",
               "Monde",
               "France",
               "Fraude ?"
              ],
              "range": [
               "purple",
               "darkblue",
               "olive",
               "lightgrey",
               "darkgrey"
              ]
             },
             "sort": [
              "colonies",
              "Monde",
              "France",
              "Fraude ?"
             ],
             "type": "nominal"
            },
            "x": {
             "field": "total_value",
             "scale": {
              "domain": [
               0,
               8670155
              ]
             },
             "sort": "descending",
             "title": "Valeur tous produits (Lt)",
             "type": "quantitative"
            },
            "y": {
             "field": "partner_type",
             "scale": {
              "domain": [
               "colonies",
               "Monde",
               "France",
               "Fraude ?"
              ]
             },
             "sort": [
              "colonies",
              "Monde",
              "France",
              "Fraude ?"
             ],
             "title": null,
             "type": "ordinal"
            }
           },
           "mark": {
            "tooltip": {
             "content": "data"
            },
            "type": "bar"
           },
           "transform": [
            {
             "filter": {
              "equal": "Imports",
              "field": "importsexports"
             }
            },
            {
             "aggregate": [
              {
               "as": "total_value",
               "field": "value",
               "op": "sum"
              }
             ],
             "groupby": [
              "partner_type"
             ]
            }
           ]
          },
          {
           "encoding": {
            "color": {
             "field": "partner_type",
             "scale": {
              "domain": [
               "colonies",
               "Monde",
               "France",
               "Fraude ?"
              ],
              "range": [
               "purple",
               "darkblue",
               "olive",
               "lightgrey",
               "darkgrey"
              ]
             },
             "sort": [
              "colonies",
              "Monde",
              "France",
              "Fraude ?"
             ],
             "type": "nominal"
            },
            "x": {
             "field": "total_value",
             "scale": {
              "domain": [
               0,
               8670155
              ]
             },
             "sort": "ascending",
             "title": "Valeur tous produits (Lt)",
             "type": "quantitative"
            },
            "y": {
             "axis": null,
             "field": "partner_type",
             "scale": {
              "domain": [
               "colonies",
               "Monde",
               "France",
               "Fraude ?"
              ]
             },
             "sort": [
              "colonies",
              "Monde",
              "France",
              "Fraude ?"
             ],
             "title": null,
             "type": "ordinal"
            }
           },
           "mark": {
            "tooltip": {
             "content": "data"
            },
            "type": "bar"
           },
           "transform": [
            {
             "filter": {
              "equal": "Exports",
              "field": "importsexports"
             }
            },
            {
             "aggregate": [
              {
               "as": "total_value",
               "field": "value",
               "op": "sum"
              }
             ],
             "groupby": [
              "partner_type"
             ]
            }
           ]
          }
         ]
        },
        {
         "hconcat": [
          {
           "encoding": {
            "x": {
             "field": "total_value",
             "scale": {
              "domain": [
               0,
               8681641
              ]
             },
             "sort": "descending",
             "title": "Valeur tous produits (Lt)",
             "type": "quantitative"
            }
           },
           "mark": {
            "tooltip": {
             "content": "data"
            },
            "type": "bar"
           },
           "transform": [
            {
             "filter": {
              "equal": "Imports",
              "field": "importsexports"
             }
            },
            {
             "filter": "indexof(datum.partner_type,'?')==-1"
            },
            {
             "aggregate": [
              {
               "as": "total_value",
               "field": "value",
               "op": "sum"
              }
             ]
            }
           ]
          },
          {
           "encoding": {
            "x": {
             "field": "total_value",
             "scale": {
              "domain": [
               0,
               8681641
              ]
             },
             "sort": "ascending",
             "title": "Totaux (Lt)",
             "type": "quantitative"
            }
           },
           "mark": {
            "tooltip": {
             "content": "data"
            },
            "type": "bar"
           },
           "transform": [
            {
             "filter": {
              "equal": "Exports",
              "field": "importsexports"
             }
            },
            {
             "filter": "indexof(datum.partner_type,'?')==-1"
            },
            {
             "aggregate": [
              {
               "as": "total_value",
               "field": "value",
               "op": "sum"
              }
             ]
            }
           ]
          }
         ]
        }
       ]
      }
     },
     "metadata": {},
     "output_type": "display_data"
    },
    {
     "data": {
      "application/vnd.vegalite.v4+json": {
       "data": {
        "values": [
         {
          "importsexports": "Exports",
          "partner_type": "colonies",
          "port": "Bayonne",
          "product": "Brai, goudron et résines",
          "value": 8611
         },
         {
          "importsexports": "Exports",
          "partner_type": "colonies",
          "port": "Bayonne",
          "product": "Chairs et œufs",
          "value": 71880
         },
         {
          "importsexports": "Exports",
          "partner_type": "colonies",
          "port": "Bayonne",
          "product": "Eaux-de-vie et liqueurs",
          "value": 41581
         },
         {
          "importsexports": "Imports",
          "partner_type": "colonies",
          "port": "Bayonne",
          "product": "Eaux-de-vie et liqueurs",
          "value": 2194
         },
         {
          "importsexports": "Exports",
          "partner_type": "colonies",
          "port": "Bayonne",
          "product": "Bouchons principalement en liège",
          "value": 536
         },
         {
          "importsexports": "Exports",
          "partner_type": "colonies",
          "port": "Bayonne",
          "product": "Divers mélangés",
          "value": 620
         },
         {
          "importsexports": "Imports",
          "partner_type": "colonies",
          "port": "Bayonne",
          "product": "Divers mélangés",
          "value": 300
         },
         {
          "importsexports": "Exports",
          "partner_type": "colonies",
          "port": "Bayonne",
          "product": "Plumes brutes",
          "value": 3000
         },
         {
          "importsexports": "Exports",
          "partner_type": "colonies",
          "port": "Bayonne",
          "product": "Habits et lingerie",
          "value": 2330
         },
         {
          "importsexports": "Exports",
          "partner_type": "colonies",
          "port": "Bayonne",
          "product": "Bois divers hors combustible",
          "value": 1619
         },
         {
          "importsexports": "Imports",
          "partner_type": "colonies",
          "port": "Bayonne",
          "product": "Bois divers hors combustible",
          "value": 460
         },
         {
          "importsexports": "Exports",
          "partner_type": "colonies",
          "port": "Bayonne",
          "product": "Ouvrages de bois, liège et jonc",
          "value": 1090
         },
         {
          "importsexports": "Exports",
          "partner_type": "colonies",
          "port": "Bayonne",
          "product": "Chapeaux hors paille et écorce",
          "value": 600
         },
         {
          "importsexports": "Exports",
          "partner_type": "colonies",
          "port": "Bayonne",
          "product": "Cordage et filets",
          "value": 44444
         },
         {
          "importsexports": "Imports",
          "partner_type": "colonies",
          "port": "Bayonne",
          "product": "Cuirs, peaux et pelleterie",
          "value": 34875
         },
         {
          "importsexports": "Exports",
          "partner_type": "colonies",
          "port": "Bayonne",
          "product": "Ouvrages métalliques",
          "value": 29483
         },
         {
          "importsexports": "Imports",
          "partner_type": "colonies",
          "port": "Bayonne",
          "product": "Fils divers",
          "value": 1045
         },
         {
          "importsexports": "Exports",
          "partner_type": "colonies",
          "port": "Bayonne",
          "product": "Blé et autres grains comestibles",
          "value": 1392
         },
         {
          "importsexports": "Exports",
          "partner_type": "colonies",
          "port": "Bayonne",
          "product": "Châles et mouchoirs hors soie",
          "value": 14356
         },
         {
          "importsexports": "Exports",
          "partner_type": "colonies",
          "port": "Bayonne",
          "product": "Ouvrages divers et mélangés",
          "value": 11198
         },
         {
          "importsexports": "Exports",
          "partner_type": "colonies",
          "port": "Bayonne",
          "product": "Pêche et fruits de mer",
          "value": 74358
         },
         {
          "importsexports": "Exports",
          "partner_type": "colonies",
          "port": "Bayonne",
          "product": "Graisses diverses",
          "value": 2699
         },
         {
          "importsexports": "Exports",
          "partner_type": "colonies",
          "port": "Bayonne",
          "product": "Vins divers",
          "value": 121196
         },
         {
          "importsexports": "Exports",
          "partner_type": "colonies",
          "port": "Bayonne",
          "product": "Bière, cidre et vinaigre",
          "value": 620
         },
         {
          "importsexports": "Exports",
          "partner_type": "colonies",
          "port": "Bayonne",
          "product": "Farine, gruau, biscuits et pâtes",
          "value": 12250
         },
         {
          "importsexports": "Exports",
          "partner_type": "colonies",
          "port": "Bayonne",
          "product": "Matières brutes et transformées pour teinture",
          "value": 3184
         },
         {
          "importsexports": "Imports",
          "partner_type": "colonies",
          "port": "Bayonne",
          "product": "Matières brutes et transformées pour teinture",
          "value": 621
         },
         {
          "importsexports": "Imports",
          "partner_type": "colonies",
          "port": "Bayonne",
          "product": "Cacao et chocolat",
          "value": 38815
         },
         {
          "importsexports": "Exports",
          "partner_type": "colonies",
          "port": "Bayonne",
          "product": "Chanvre",
          "value": 1200
         },
         {
          "importsexports": "Imports",
          "partner_type": "colonies",
          "port": "Bayonne",
          "product": "Indigo",
          "value": 5548
         },
         {
          "importsexports": "Exports",
          "partner_type": "colonies",
          "port": "Bayonne",
          "product": "Quincaillerie",
          "value": 10805
         },
         {
          "importsexports": "Exports",
          "partner_type": "colonies",
          "port": "Bayonne",
          "product": "Huiles diverses",
          "value": 1917
         },
         {
          "importsexports": "Exports",
          "partner_type": "colonies",
          "port": "Bayonne",
          "product": "Produits inconnus",
          "value": 781
         },
         {
          "importsexports": "Imports",
          "partner_type": "colonies",
          "port": "Bayonne",
          "product": "Tabac",
          "value": 2372
         },
         {
          "importsexports": "Imports",
          "partner_type": "colonies",
          "port": "Bayonne",
          "product": "Café",
          "value": 192366
         },
         {
          "importsexports": "Imports",
          "partner_type": "colonies",
          "port": "Bayonne",
          "product": "Sirop et mélasse",
          "value": 60
         },
         {
          "importsexports": "Imports",
          "partner_type": "colonies",
          "port": "Bayonne",
          "product": "Sucre",
          "value": 599740
         },
         {
          "importsexports": "Exports",
          "partner_type": "colonies",
          "port": "Bayonne",
          "product": "Bougies, chandelles et flambeaux",
          "value": 160
         },
         {
          "importsexports": "Imports",
          "partner_type": "colonies",
          "port": "Bayonne",
          "product": "Coton non transformé",
          "value": 6718
         },
         {
          "importsexports": "Imports",
          "partner_type": "colonies",
          "port": "Bayonne",
          "product": "Drogues médicinales diverses",
          "value": 1714
         },
         {
          "importsexports": "Imports",
          "partner_type": "colonies",
          "port": "Bayonne",
          "product": "Riz",
          "value": 3524
         },
         {
          "importsexports": "Exports",
          "partner_type": "colonies",
          "port": "Bayonne",
          "product": "Argenterie et orfèvrerie",
          "value": 21010
         },
         {
          "importsexports": "Exports",
          "partner_type": "colonies",
          "port": "Bayonne",
          "product": "Cordonnerie et sellerie",
          "value": 2312
         },
         {
          "importsexports": "Exports",
          "partner_type": "colonies",
          "port": "Bayonne",
          "product": "Beurre",
          "value": 8172
         },
         {
          "importsexports": "Exports",
          "partner_type": "colonies",
          "port": "Bayonne",
          "product": "Subsistances diverses et mélangées",
          "value": 4860
         },
         {
          "importsexports": "Imports",
          "partner_type": "colonies",
          "port": "Bayonne",
          "product": "Subsistances diverses et mélangées",
          "value": 256
         },
         {
          "importsexports": "Exports",
          "partner_type": "colonies",
          "port": "Bayonne",
          "product": "Céruse et blanc de plomb",
          "value": 1200
         },
         {
          "importsexports": "Exports",
          "partner_type": "colonies",
          "port": "Bayonne",
          "product": "Fer-blanc",
          "value": 700
         },
         {
          "importsexports": "Exports",
          "partner_type": "Monde",
          "port": "Bayonne",
          "product": "Brai, goudron et résines",
          "value": 141456
         },
         {
          "importsexports": "Imports",
          "partner_type": "Monde",
          "port": "Bayonne",
          "product": "Brai, goudron et résines",
          "value": 400
         },
         {
          "importsexports": "Exports",
          "partner_type": "Monde",
          "port": "Bayonne",
          "product": "Chairs et œufs",
          "value": 45738
         },
         {
          "importsexports": "Imports",
          "partner_type": "Monde",
          "port": "Bayonne",
          "product": "Chairs et œufs",
          "value": 720
         },
         {
          "importsexports": "Exports",
          "partner_type": "Monde",
          "port": "Bayonne",
          "product": "Réglisse",
          "value": 92762
         },
         {
          "importsexports": "Imports",
          "partner_type": "Monde",
          "port": "Bayonne",
          "product": "Réglisse",
          "value": 29102
         },
         {
          "importsexports": "Exports",
          "partner_type": "Monde",
          "port": "Bayonne",
          "product": "Eaux-de-vie et liqueurs",
          "value": 617367
         },
         {
          "importsexports": "Exports",
          "partner_type": "Monde",
          "port": "Bayonne",
          "product": "Laines non transformées diverses",
          "value": 60100
         },
         {
          "importsexports": "Imports",
          "partner_type": "Monde",
          "port": "Bayonne",
          "product": "Laines non transformées diverses",
          "value": 7850
         },
         {
          "importsexports": "Exports",
          "partner_type": "Monde",
          "port": "Bayonne",
          "product": "Divers mélangés",
          "value": 394
         },
         {
          "importsexports": "Imports",
          "partner_type": "Monde",
          "port": "Bayonne",
          "product": "Divers mélangés",
          "value": 80
         },
         {
          "importsexports": "Exports",
          "partner_type": "Monde",
          "port": "Bayonne",
          "product": "Plumes brutes",
          "value": 2200
         },
         {
          "importsexports": "Exports",
          "partner_type": "Monde",
          "port": "Bayonne",
          "product": "Animaux",
          "value": 435
         },
         {
          "importsexports": "Exports",
          "partner_type": "Monde",
          "port": "Bayonne",
          "product": "Habits et lingerie",
          "value": 300
         },
         {
          "importsexports": "Imports",
          "partner_type": "Monde",
          "port": "Bayonne",
          "product": "Habits et lingerie",
          "value": 15950
         },
         {
          "importsexports": "Exports",
          "partner_type": "Monde",
          "port": "Bayonne",
          "product": "Combustibles dont charbons et bois",
          "value": 3683
         },
         {
          "importsexports": "Imports",
          "partner_type": "Monde",
          "port": "Bayonne",
          "product": "Combustibles dont charbons et bois",
          "value": 6887
         },
         {
          "importsexports": "Exports",
          "partner_type": "Monde",
          "port": "Bayonne",
          "product": "Bois divers hors combustible",
          "value": 190
         },
         {
          "importsexports": "Imports",
          "partner_type": "Monde",
          "port": "Bayonne",
          "product": "Bois divers hors combustible",
          "value": 960
         },
         {
          "importsexports": "Exports",
          "partner_type": "Monde",
          "port": "Bayonne",
          "product": "Ouvrages de bois, liège et jonc",
          "value": 43300
         },
         {
          "importsexports": "Imports",
          "partner_type": "Monde",
          "port": "Bayonne",
          "product": "Ouvrages de bois, liège et jonc",
          "value": 6800
         },
         {
          "importsexports": "Exports",
          "partner_type": "Monde",
          "port": "Bayonne",
          "product": "Cordage et filets",
          "value": 4207
         },
         {
          "importsexports": "Imports",
          "partner_type": "Monde",
          "port": "Bayonne",
          "product": "Cordage et filets",
          "value": 11732
         },
         {
          "importsexports": "Exports",
          "partner_type": "Monde",
          "port": "Bayonne",
          "product": "Cuirs, peaux et pelleterie",
          "value": 20950
         },
         {
          "importsexports": "Imports",
          "partner_type": "Monde",
          "port": "Bayonne",
          "product": "Cuirs, peaux et pelleterie",
          "value": 275942
         },
         {
          "importsexports": "Exports",
          "partner_type": "Monde",
          "port": "Bayonne",
          "product": "Ouvrages métalliques",
          "value": 8430
         },
         {
          "importsexports": "Imports",
          "partner_type": "Monde",
          "port": "Bayonne",
          "product": "Ouvrages métalliques",
          "value": 190440
         },
         {
          "importsexports": "Exports",
          "partner_type": "Monde",
          "port": "Bayonne",
          "product": "Porcelaine, poterie, faïence et ouvrages de terre",
          "value": 13952
         },
         {
          "importsexports": "Imports",
          "partner_type": "Monde",
          "port": "Bayonne",
          "product": "Porcelaine, poterie, faïence et ouvrages de terre",
          "value": 24984
         },
         {
          "importsexports": "Exports",
          "partner_type": "Monde",
          "port": "Bayonne",
          "product": "Fils divers",
          "value": 9240
         },
         {
          "importsexports": "Imports",
          "partner_type": "Monde",
          "port": "Bayonne",
          "product": "Fils divers",
          "value": 80300
         },
         {
          "importsexports": "Exports",
          "partner_type": "Monde",
          "port": "Bayonne",
          "product": "Matières premières diverses",
          "value": 1090
         },
         {
          "importsexports": "Imports",
          "partner_type": "Monde",
          "port": "Bayonne",
          "product": "Matières premières diverses",
          "value": 1873
         },
         {
          "importsexports": "Imports",
          "partner_type": "Monde",
          "port": "Bayonne",
          "product": "Blé et autres grains comestibles",
          "value": 1101366
         },
         {
          "importsexports": "Exports",
          "partner_type": "Monde",
          "port": "Bayonne",
          "product": "Légumes",
          "value": 32074
         },
         {
          "importsexports": "Imports",
          "partner_type": "Monde",
          "port": "Bayonne",
          "product": "Légumes",
          "value": 28922
         },
         {
          "importsexports": "Exports",
          "partner_type": "Monde",
          "port": "Bayonne",
          "product": "Mercerie",
          "value": 19768
         },
         {
          "importsexports": "Imports",
          "partner_type": "Monde",
          "port": "Bayonne",
          "product": "Mercerie",
          "value": 35722
         },
         {
          "importsexports": "Imports",
          "partner_type": "Monde",
          "port": "Bayonne",
          "product": "Châles et mouchoirs hors soie",
          "value": 16500
         },
         {
          "importsexports": "Imports",
          "partner_type": "Monde",
          "port": "Bayonne",
          "product": "Ouvrages divers et mélangés",
          "value": 660
         },
         {
          "importsexports": "Exports",
          "partner_type": "Monde",
          "port": "Bayonne",
          "product": "Drogues diverses",
          "value": 300
         },
         {
          "importsexports": "Exports",
          "partner_type": "Monde",
          "port": "Bayonne",
          "product": "Pêche et fruits de mer",
          "value": 19760
         },
         {
          "importsexports": "Imports",
          "partner_type": "Monde",
          "port": "Bayonne",
          "product": "Pêche et fruits de mer",
          "value": 404022
         },
         {
          "importsexports": "Imports",
          "partner_type": "Monde",
          "port": "Bayonne",
          "product": "Graisses diverses",
          "value": 45185
         },
         {
          "importsexports": "Imports",
          "partner_type": "Monde",
          "port": "Bayonne",
          "product": "Toiles de chanvre et de lin",
          "value": 261950
         },
         {
          "importsexports": "Exports",
          "partner_type": "Monde",
          "port": "Bayonne",
          "product": "Verrerie",
          "value": 1200
         },
         {
          "importsexports": "Imports",
          "partner_type": "Monde",
          "port": "Bayonne",
          "product": "Verrerie",
          "value": 1250
         },
         {
          "importsexports": "Exports",
          "partner_type": "Monde",
          "port": "Bayonne",
          "product": "Vins divers",
          "value": 670831
         },
         {
          "importsexports": "Imports",
          "partner_type": "Monde",
          "port": "Bayonne",
          "product": "Vins divers",
          "value": 13522
         },
         {
          "importsexports": "Exports",
          "partner_type": "Monde",
          "port": "Bayonne",
          "product": "Bière, cidre et vinaigre",
          "value": 2771
         },
         {
          "importsexports": "Imports",
          "partner_type": "Monde",
          "port": "Bayonne",
          "product": "Bière, cidre et vinaigre",
          "value": 3186
         },
         {
          "importsexports": "Exports",
          "partner_type": "Monde",
          "port": "Bayonne",
          "product": "Farine, gruau, biscuits et pâtes",
          "value": 2520
         },
         {
          "importsexports": "Imports",
          "partner_type": "Monde",
          "port": "Bayonne",
          "product": "Farine, gruau, biscuits et pâtes",
          "value": 66067
         },
         {
          "importsexports": "Exports",
          "partner_type": "Monde",
          "port": "Bayonne",
          "product": "Bâtiments de mer et apparaux",
          "value": 6027
         },
         {
          "importsexports": "Imports",
          "partner_type": "Monde",
          "port": "Bayonne",
          "product": "Bâtiments de mer et apparaux",
          "value": 16075
         },
         {
          "importsexports": "Exports",
          "partner_type": "Monde",
          "port": "Bayonne",
          "product": "Matières brutes et transformées pour teinture",
          "value": 12810
         },
         {
          "importsexports": "Imports",
          "partner_type": "Monde",
          "port": "Bayonne",
          "product": "Matières brutes et transformées pour teinture",
          "value": 57209
         },
         {
          "importsexports": "Exports",
          "partner_type": "Monde",
          "port": "Bayonne",
          "product": "Cacao et chocolat",
          "value": 569085
         },
         {
          "importsexports": "Imports",
          "partner_type": "Monde",
          "port": "Bayonne",
          "product": "Cacao et chocolat",
          "value": 1184822
         },
         {
          "importsexports": "Exports",
          "partner_type": "Monde",
          "port": "Bayonne",
          "product": "Chanvre",
          "value": 12970
         },
         {
          "importsexports": "Imports",
          "partner_type": "Monde",
          "port": "Bayonne",
          "product": "Chanvre",
          "value": 190990
         },
         {
          "importsexports": "Exports",
          "partner_type": "Monde",
          "port": "Bayonne",
          "product": "Cire",
          "value": 17800
         },
         {
          "importsexports": "Imports",
          "partner_type": "Monde",
          "port": "Bayonne",
          "product": "Cire",
          "value": 140800
         },
         {
          "importsexports": "Exports",
          "partner_type": "Monde",
          "port": "Bayonne",
          "product": "Cuivre",
          "value": 7600
         },
         {
          "importsexports": "Imports",
          "partner_type": "Monde",
          "port": "Bayonne",
          "product": "Cuivre",
          "value": 13400
         },
         {
          "importsexports": "Exports",
          "partner_type": "Monde",
          "port": "Bayonne",
          "product": "Indigo",
          "value": 442620
         },
         {
          "importsexports": "Imports",
          "partner_type": "Monde",
          "port": "Bayonne",
          "product": "Indigo",
          "value": 910100
         },
         {
          "importsexports": "Exports",
          "partner_type": "Monde",
          "port": "Bayonne",
          "product": "Térébenthine",
          "value": 58334
         },
         {
          "importsexports": "Exports",
          "partner_type": "Monde",
          "port": "Bayonne",
          "product": "Cannelle",
          "value": 2400
         },
         {
          "importsexports": "Imports",
          "partner_type": "Monde",
          "port": "Bayonne",
          "product": "Cannelle",
          "value": 10000
         },
         {
          "importsexports": "Exports",
          "partner_type": "Monde",
          "port": "Bayonne",
          "product": "Toiles de coton",
          "value": 520
         },
         {
          "importsexports": "Imports",
          "partner_type": "Monde",
          "port": "Bayonne",
          "product": "Toiles de coton",
          "value": 1085572
         },
         {
          "importsexports": "Exports",
          "partner_type": "Monde",
          "port": "Bayonne",
          "product": "Quincaillerie",
          "value": 30100
         },
         {
          "importsexports": "Imports",
          "partner_type": "Monde",
          "port": "Bayonne",
          "product": "Quincaillerie",
          "value": 62510
         },
         {
          "importsexports": "Exports",
          "partner_type": "Monde",
          "port": "Bayonne",
          "product": "Huile de poisson",
          "value": 480
         },
         {
          "importsexports": "Imports",
          "partner_type": "Monde",
          "port": "Bayonne",
          "product": "Huile de poisson",
          "value": 16820
         },
         {
          "importsexports": "Exports",
          "partner_type": "Monde",
          "port": "Bayonne",
          "product": "Huiles diverses",
          "value": 300
         },
         {
          "importsexports": "Imports",
          "partner_type": "Monde",
          "port": "Bayonne",
          "product": "Huiles diverses",
          "value": 9740
         },
         {
          "importsexports": "Exports",
          "partner_type": "Monde",
          "port": "Bayonne",
          "product": "Meubles, glaces et miroirs",
          "value": 340
         },
         {
          "importsexports": "Exports",
          "partner_type": "Monde",
          "port": "Bayonne",
          "product": "Papier",
          "value": 27616
         },
         {
          "importsexports": "Imports",
          "partner_type": "Monde",
          "port": "Bayonne",
          "product": "Papier",
          "value": 8160
         },
         {
          "importsexports": "Exports",
          "partner_type": "Monde",
          "port": "Bayonne",
          "product": "Savon",
          "value": 78250
         },
         {
          "importsexports": "Imports",
          "partner_type": "Monde",
          "port": "Bayonne",
          "product": "Savon",
          "value": 9760
         },
         {
          "importsexports": "Exports",
          "partner_type": "Monde",
          "port": "Bayonne",
          "product": "Sel",
          "value": 2612
         },
         {
          "importsexports": "Imports",
          "partner_type": "Monde",
          "port": "Bayonne",
          "product": "Sel",
          "value": 2600
         },
         {
          "importsexports": "Exports",
          "partner_type": "Monde",
          "port": "Bayonne",
          "product": "Produits inconnus",
          "value": 950
         },
         {
          "importsexports": "Exports",
          "partner_type": "Monde",
          "port": "Bayonne",
          "product": "Salpêtre et soufre",
          "value": 870
         },
         {
          "importsexports": "Exports",
          "partner_type": "Monde",
          "port": "Bayonne",
          "product": "Tabac",
          "value": 46850
         },
         {
          "importsexports": "Imports",
          "partner_type": "Monde",
          "port": "Bayonne",
          "product": "Tabac",
          "value": 161645
         },
         {
          "importsexports": "Exports",
          "partner_type": "Monde",
          "port": "Bayonne",
          "product": "Vins de Bordeaux",
          "value": 2600
         },
         {
          "importsexports": "Exports",
          "partner_type": "Monde",
          "port": "Bayonne",
          "product": "Vin de liqueurs",
          "value": 1500
         },
         {
          "importsexports": "Imports",
          "partner_type": "Monde",
          "port": "Bayonne",
          "product": "Vin de liqueurs",
          "value": 3230
         },
         {
          "importsexports": "Exports",
          "partner_type": "Monde",
          "port": "Bayonne",
          "product": "Café",
          "value": 90500
         },
         {
          "importsexports": "Exports",
          "partner_type": "Monde",
          "port": "Bayonne",
          "product": "Sirop et mélasse",
          "value": 4230
         },
         {
          "importsexports": "Exports",
          "partner_type": "Monde",
          "port": "Bayonne",
          "product": "Sucre",
          "value": 326884
         },
         {
          "importsexports": "Imports",
          "partner_type": "Monde",
          "port": "Bayonne",
          "product": "Sucre",
          "value": 46610
         },
         {
          "importsexports": "Imports",
          "partner_type": "Monde",
          "port": "Bayonne",
          "product": "Fruits secs et noix",
          "value": 1200
         },
         {
          "importsexports": "Imports",
          "partner_type": "Monde",
          "port": "Bayonne",
          "product": "Coton non transformé",
          "value": 1660
         },
         {
          "importsexports": "Imports",
          "partner_type": "Monde",
          "port": "Bayonne",
          "product": "Étoffes de laine",
          "value": 246220
         },
         {
          "importsexports": "Imports",
          "partner_type": "Monde",
          "port": "Bayonne",
          "product": "Fer",
          "value": 660
         },
         {
          "importsexports": "Imports",
          "partner_type": "Monde",
          "port": "Bayonne",
          "product": "Fromage",
          "value": 105280
         },
         {
          "importsexports": "Imports",
          "partner_type": "Monde",
          "port": "Bayonne",
          "product": "Fruits frais",
          "value": 170
         },
         {
          "importsexports": "Imports",
          "partner_type": "Monde",
          "port": "Bayonne",
          "product": "Huile d'olive à manger",
          "value": 127422
         },
         {
          "importsexports": "Imports",
          "partner_type": "Monde",
          "port": "Bayonne",
          "product": "Cordonnerie et sellerie",
          "value": 985
         },
         {
          "importsexports": "Imports",
          "partner_type": "Monde",
          "port": "Bayonne",
          "product": "Toiles diverses",
          "value": 885335
         },
         {
          "importsexports": "Imports",
          "partner_type": "Monde",
          "port": "Bayonne",
          "product": "Beurre",
          "value": 1019
         },
         {
          "importsexports": "Imports",
          "partner_type": "Monde",
          "port": "Bayonne",
          "product": "Céruse et blanc de plomb",
          "value": 375
         },
         {
          "importsexports": "Imports",
          "partner_type": "Monde",
          "port": "Bayonne",
          "product": "Fer-blanc",
          "value": 13090
         },
         {
          "importsexports": "Imports",
          "partner_type": "Monde",
          "port": "Bayonne",
          "product": "Acier",
          "value": 4760
         },
         {
          "importsexports": "Imports",
          "partner_type": "Monde",
          "port": "Bayonne",
          "product": "Quinquina",
          "value": 16850
         },
         {
          "importsexports": "Imports",
          "partner_type": "Monde",
          "port": "Bayonne",
          "product": "Poivre et piment",
          "value": 25900
         },
         {
          "importsexports": "Imports",
          "partner_type": "Monde",
          "port": "Bayonne",
          "product": "Lin",
          "value": 289231
         },
         {
          "importsexports": "Imports",
          "partner_type": "Monde",
          "port": "Bayonne",
          "product": "Rubanerie et passementerie de soie",
          "value": 1713
         },
         {
          "importsexports": "Imports",
          "partner_type": "Monde",
          "port": "Bayonne",
          "product": "Étoffes diverses",
          "value": 3000
         },
         {
          "importsexports": "Imports",
          "partner_type": "Monde",
          "port": "Bayonne",
          "product": "Mousseline, basin et nankin",
          "value": 82900
         },
         {
          "importsexports": "Imports",
          "partner_type": "France",
          "port": "Bayonne",
          "product": "Bois des Indes",
          "value": 8982
         },
         {
          "importsexports": "Imports",
          "partner_type": "France",
          "port": "Bayonne",
          "product": "Brai, goudron et résines",
          "value": 383756.2585921
         },
         {
          "importsexports": "Exports",
          "partner_type": "France",
          "port": "Bayonne",
          "product": "Brai, goudron et résines",
          "value": 84546.89867504999
         },
         {
          "importsexports": "Imports",
          "partner_type": "France",
          "port": "Bayonne",
          "product": "Chairs et œufs",
          "value": 18447.099989399998
         },
         {
          "importsexports": "Exports",
          "partner_type": "France",
          "port": "Bayonne",
          "product": "Chairs et œufs",
          "value": 5919.70008254
         },
         {
          "importsexports": "Imports",
          "partner_type": "France",
          "port": "Bayonne",
          "product": "Réglisse",
          "value": 70842.59997
         },
         {
          "importsexports": "Imports",
          "partner_type": "France",
          "port": "Bayonne",
          "product": "Eaux-de-vie et liqueurs",
          "value": 111020
         },
         {
          "importsexports": "Exports",
          "partner_type": "France",
          "port": "Bayonne",
          "product": "Eaux-de-vie et liqueurs",
          "value": 34491.89997435
         },
         {
          "importsexports": "Imports",
          "partner_type": "France",
          "port": "Bayonne",
          "product": "Laines non transformées diverses",
          "value": 1667255
         },
         {
          "importsexports": "Imports",
          "partner_type": "France",
          "port": "Bayonne",
          "product": "Bouchons principalement en liège",
          "value": 3512.5
         },
         {
          "importsexports": "Imports",
          "partner_type": "France",
          "port": "Bayonne",
          "product": "Divers mélangés",
          "value": 7017.00005
         },
         {
          "importsexports": "Exports",
          "partner_type": "France",
          "port": "Bayonne",
          "product": "Divers mélangés",
          "value": 2567
         },
         {
          "importsexports": "Imports",
          "partner_type": "France",
          "port": "Bayonne",
          "product": "Plumes brutes",
          "value": 12240
         },
         {
          "importsexports": "Exports",
          "partner_type": "France",
          "port": "Bayonne",
          "product": "Plumes brutes",
          "value": 13453
         },
         {
          "importsexports": "Exports",
          "partner_type": "France",
          "port": "Bayonne",
          "product": "Animaux",
          "value": 88520
         },
         {
          "importsexports": "Imports",
          "partner_type": "France",
          "port": "Bayonne",
          "product": "Animaux",
          "value": 32945
         },
         {
          "importsexports": "Exports",
          "partner_type": "France",
          "port": "Bayonne",
          "product": "Habits et lingerie",
          "value": 8406
         },
         {
          "importsexports": "Imports",
          "partner_type": "France",
          "port": "Bayonne",
          "product": "Habits et lingerie",
          "value": 6843
         },
         {
          "importsexports": "Exports",
          "partner_type": "France",
          "port": "Bayonne",
          "product": "Bonneterie hors soie",
          "value": 1524
         },
         {
          "importsexports": "Exports",
          "partner_type": "France",
          "port": "Bayonne",
          "product": "Combustibles dont charbons et bois",
          "value": 7656
         },
         {
          "importsexports": "Imports",
          "partner_type": "France",
          "port": "Bayonne",
          "product": "Combustibles dont charbons et bois",
          "value": 159
         },
         {
          "importsexports": "Exports",
          "partner_type": "France",
          "port": "Bayonne",
          "product": "Bois divers hors combustible",
          "value": 30439.2
         },
         {
          "importsexports": "Imports",
          "partner_type": "France",
          "port": "Bayonne",
          "product": "Bois divers hors combustible",
          "value": 162655
         },
         {
          "importsexports": "Exports",
          "partner_type": "France",
          "port": "Bayonne",
          "product": "Ouvrages de bois, liège et jonc",
          "value": 58753.89889308001
         },
         {
          "importsexports": "Imports",
          "partner_type": "France",
          "port": "Bayonne",
          "product": "Ouvrages de bois, liège et jonc",
          "value": 29432.5
         },
         {
          "importsexports": "Exports",
          "partner_type": "France",
          "port": "Bayonne",
          "product": "Chapeaux hors paille et écorce",
          "value": 1140
         },
         {
          "importsexports": "Exports",
          "partner_type": "France",
          "port": "Bayonne",
          "product": "Cordage et filets",
          "value": 8983.60021559
         },
         {
          "importsexports": "Imports",
          "partner_type": "France",
          "port": "Bayonne",
          "product": "Cordage et filets",
          "value": 10480
         },
         {
          "importsexports": "Exports",
          "partner_type": "France",
          "port": "Bayonne",
          "product": "Cuirs, peaux et pelleterie",
          "value": 20367.69988184
         },
         {
          "importsexports": "Imports",
          "partner_type": "France",
          "port": "Bayonne",
          "product": "Cuirs, peaux et pelleterie",
          "value": 149201
         },
         {
          "importsexports": "Exports",
          "partner_type": "France",
          "port": "Bayonne",
          "product": "Ouvrages métalliques",
          "value": 15820.5
         },
         {
          "importsexports": "Imports",
          "partner_type": "France",
          "port": "Bayonne",
          "product": "Ouvrages métalliques",
          "value": 277283.96001100005
         },
         {
          "importsexports": "Exports",
          "partner_type": "France",
          "port": "Bayonne",
          "product": "Porcelaine, poterie, faïence et ouvrages de terre",
          "value": 4268
         },
         {
          "importsexports": "Imports",
          "partner_type": "France",
          "port": "Bayonne",
          "product": "Porcelaine, poterie, faïence et ouvrages de terre",
          "value": 9316
         },
         {
          "importsexports": "Exports",
          "partner_type": "France",
          "port": "Bayonne",
          "product": "Fils divers",
          "value": 8003.5
         },
         {
          "importsexports": "Imports",
          "partner_type": "France",
          "port": "Bayonne",
          "product": "Fils divers",
          "value": 979
         },
         {
          "importsexports": "Exports",
          "partner_type": "France",
          "port": "Bayonne",
          "product": "Matières premières diverses",
          "value": 6868.00001
         },
         {
          "importsexports": "Imports",
          "partner_type": "France",
          "port": "Bayonne",
          "product": "Matières premières diverses",
          "value": 20766
         },
         {
          "importsexports": "Exports",
          "partner_type": "France",
          "port": "Bayonne",
          "product": "Blé et autres grains comestibles",
          "value": 1272742.214505826
         },
         {
          "importsexports": "Imports",
          "partner_type": "France",
          "port": "Bayonne",
          "product": "Blé et autres grains comestibles",
          "value": 1200981.9492438799
         },
         {
          "importsexports": "Exports",
          "partner_type": "France",
          "port": "Bayonne",
          "product": "Légumes",
          "value": 75980.0000534
         },
         {
          "importsexports": "Imports",
          "partner_type": "France",
          "port": "Bayonne",
          "product": "Légumes",
          "value": 10576
         },
         {
          "importsexports": "Exports",
          "partner_type": "France",
          "port": "Bayonne",
          "product": "Mercerie",
          "value": 11840
         },
         {
          "importsexports": "Imports",
          "partner_type": "France",
          "port": "Bayonne",
          "product": "Mercerie",
          "value": 1800
         },
         {
          "importsexports": "Exports",
          "partner_type": "France",
          "port": "Bayonne",
          "product": "Châles et mouchoirs hors soie",
          "value": 41130
         },
         {
          "importsexports": "Exports",
          "partner_type": "France",
          "port": "Bayonne",
          "product": "Ouvrages divers et mélangés",
          "value": 6141.000008049999
         },
         {
          "importsexports": "Imports",
          "partner_type": "France",
          "port": "Bayonne",
          "product": "Ouvrages divers et mélangés",
          "value": 5165.2
         },
         {
          "importsexports": "Exports",
          "partner_type": "France",
          "port": "Bayonne",
          "product": "Drogues diverses",
          "value": 9700.000003500001
         },
         {
          "importsexports": "Exports",
          "partner_type": "France",
          "port": "Bayonne",
          "product": "Pêche et fruits de mer",
          "value": 38965.2
         },
         {
          "importsexports": "Imports",
          "partner_type": "France",
          "port": "Bayonne",
          "product": "Pêche et fruits de mer",
          "value": 9048
         },
         {
          "importsexports": "Exports",
          "partner_type": "France",
          "port": "Bayonne",
          "product": "Graisses diverses",
          "value": 8933.5
         },
         {
          "importsexports": "Imports",
          "partner_type": "France",
          "port": "Bayonne",
          "product": "Graisses diverses",
          "value": 25346.4498512
         },
         {
          "importsexports": "Exports",
          "partner_type": "France",
          "port": "Bayonne",
          "product": "Toiles de chanvre et de lin",
          "value": 127380.5
         },
         {
          "importsexports": "Imports",
          "partner_type": "France",
          "port": "Bayonne",
          "product": "Toiles de chanvre et de lin",
          "value": 1744
         },
         {
          "importsexports": "Exports",
          "partner_type": "France",
          "port": "Bayonne",
          "product": "Verrerie",
          "value": 3798.15995337
         },
         {
          "importsexports": "Imports",
          "partner_type": "France",
          "port": "Bayonne",
          "product": "Verrerie",
          "value": 5065.08
         },
         {
          "importsexports": "Exports",
          "partner_type": "France",
          "port": "Bayonne",
          "product": "Vins divers",
          "value": 557448
         },
         {
          "importsexports": "Imports",
          "partner_type": "France",
          "port": "Bayonne",
          "product": "Vins divers",
          "value": 31189.5
         },
         {
          "importsexports": "Exports",
          "partner_type": "France",
          "port": "Bayonne",
          "product": "Bière, cidre et vinaigre",
          "value": 368
         },
         {
          "importsexports": "Exports",
          "partner_type": "France",
          "port": "Bayonne",
          "product": "Farine, gruau, biscuits et pâtes",
          "value": 31730.5
         },
         {
          "importsexports": "Imports",
          "partner_type": "France",
          "port": "Bayonne",
          "product": "Farine, gruau, biscuits et pâtes",
          "value": 15903.83
         },
         {
          "importsexports": "Imports",
          "partner_type": "France",
          "port": "Bayonne",
          "product": "Bâtiments de mer et apparaux",
          "value": 32581.700568660002
         },
         {
          "importsexports": "Exports",
          "partner_type": "France",
          "port": "Bayonne",
          "product": "Bâtiments de mer et apparaux",
          "value": 1400
         },
         {
          "importsexports": "Exports",
          "partner_type": "France",
          "port": "Bayonne",
          "product": "Matières brutes et transformées pour teinture",
          "value": 2450
         },
         {
          "importsexports": "Imports",
          "partner_type": "France",
          "port": "Bayonne",
          "product": "Matières brutes et transformées pour teinture",
          "value": 9674.75
         },
         {
          "importsexports": "Imports",
          "partner_type": "France",
          "port": "Bayonne",
          "product": "Cacao et chocolat",
          "value": 8450.5
         },
         {
          "importsexports": "Exports",
          "partner_type": "France",
          "port": "Bayonne",
          "product": "Cacao et chocolat",
          "value": 1580
         },
         {
          "importsexports": "Exports",
          "partner_type": "France",
          "port": "Bayonne",
          "product": "Chanvre",
          "value": 5852.000106400001
         },
         {
          "importsexports": "Imports",
          "partner_type": "France",
          "port": "Bayonne",
          "product": "Chanvre",
          "value": 8977.30006492
         },
         {
          "importsexports": "Exports",
          "partner_type": "France",
          "port": "Bayonne",
          "product": "Cire",
          "value": 25807.6665
         },
         {
          "importsexports": "Imports",
          "partner_type": "France",
          "port": "Bayonne",
          "product": "Cire",
          "value": 648
         },
         {
          "importsexports": "Exports",
          "partner_type": "France",
          "port": "Bayonne",
          "product": "Cuivre",
          "value": 2070
         },
         {
          "importsexports": "Imports",
          "partner_type": "France",
          "port": "Bayonne",
          "product": "Cuivre",
          "value": 1515
         },
         {
          "importsexports": "Exports",
          "partner_type": "France",
          "port": "Bayonne",
          "product": "Indigo",
          "value": 2488
         },
         {
          "importsexports": "Imports",
          "partner_type": "France",
          "port": "Bayonne",
          "product": "Indigo",
          "value": 10224
         },
         {
          "importsexports": "Exports",
          "partner_type": "France",
          "port": "Bayonne",
          "product": "Térébenthine",
          "value": 6796.7999865
         },
         {
          "importsexports": "Imports",
          "partner_type": "France",
          "port": "Bayonne",
          "product": "Térébenthine",
          "value": 941
         },
         {
          "importsexports": "Exports",
          "partner_type": "France",
          "port": "Bayonne",
          "product": "Cannelle",
          "value": 2655
         },
         {
          "importsexports": "Imports",
          "partner_type": "France",
          "port": "Bayonne",
          "product": "Cannelle",
          "value": 28091
         },
         {
          "importsexports": "Exports",
          "partner_type": "France",
          "port": "Bayonne",
          "product": "Toiles de coton",
          "value": 10012
         },
         {
          "importsexports": "Imports",
          "partner_type": "France",
          "port": "Bayonne",
          "product": "Toiles de coton",
          "value": 165924
         },
         {
          "importsexports": "Imports",
          "partner_type": "France",
          "port": "Bayonne",
          "product": "Quincaillerie",
          "value": 1066
         },
         {
          "importsexports": "Exports",
          "partner_type": "France",
          "port": "Bayonne",
          "product": "Quincaillerie",
          "value": 39951.75
         },
         {
          "importsexports": "Exports",
          "partner_type": "France",
          "port": "Bayonne",
          "product": "Huiles diverses",
          "value": 2105
         },
         {
          "importsexports": "Imports",
          "partner_type": "France",
          "port": "Bayonne",
          "product": "Huiles diverses",
          "value": 19799.550450000002
         },
         {
          "importsexports": "Exports",
          "partner_type": "France",
          "port": "Bayonne",
          "product": "Meubles, glaces et miroirs",
          "value": 1585
         },
         {
          "importsexports": "Imports",
          "partner_type": "France",
          "port": "Bayonne",
          "product": "Meubles, glaces et miroirs",
          "value": 120
         },
         {
          "importsexports": "Exports",
          "partner_type": "France",
          "port": "Bayonne",
          "product": "Papier",
          "value": 976
         },
         {
          "importsexports": "Imports",
          "partner_type": "France",
          "port": "Bayonne",
          "product": "Papier",
          "value": 350
         },
         {
          "importsexports": "Exports",
          "partner_type": "France",
          "port": "Bayonne",
          "product": "Savon",
          "value": 484.0000108
         },
         {
          "importsexports": "Imports",
          "partner_type": "France",
          "port": "Bayonne",
          "product": "Savon",
          "value": 53450.4
         },
         {
          "importsexports": "Exports",
          "partner_type": "France",
          "port": "Bayonne",
          "product": "Sel",
          "value": 142204.17636921248
         },
         {
          "importsexports": "Imports",
          "partner_type": "France",
          "port": "Bayonne",
          "product": "Sel",
          "value": 62188
         },
         {
          "importsexports": "Imports",
          "partner_type": "France",
          "port": "Bayonne",
          "product": "Produits inconnus",
          "value": 2379.6
         },
         {
          "importsexports": "Imports",
          "partner_type": "France",
          "port": "Bayonne",
          "product": "Salpêtre et soufre",
          "value": 663.3
         },
         {
          "importsexports": "Imports",
          "partner_type": "France",
          "port": "Bayonne",
          "product": "Tabac",
          "value": 2032
         },
         {
          "importsexports": "Exports",
          "partner_type": "France",
          "port": "Bayonne",
          "product": "Tabac",
          "value": 98580.6
         },
         {
          "importsexports": "Imports",
          "partner_type": "France",
          "port": "Bayonne",
          "product": "Vin de liqueurs",
          "value": 14547.116
         },
         {
          "importsexports": "Exports",
          "partner_type": "France",
          "port": "Bayonne",
          "product": "Café",
          "value": 256.8
         },
         {
          "importsexports": "Imports",
          "partner_type": "France",
          "port": "Bayonne",
          "product": "Sucre",
          "value": 182940.3
         },
         {
          "importsexports": "Exports",
          "partner_type": "France",
          "port": "Bayonne",
          "product": "Fruits secs et noix",
          "value": 15200.100092319999
         },
         {
          "importsexports": "Imports",
          "partner_type": "France",
          "port": "Bayonne",
          "product": "Fruits secs et noix",
          "value": 768
         },
         {
          "importsexports": "Exports",
          "partner_type": "France",
          "port": "Bayonne",
          "product": "Armes, munitions, poudre et pierres à fusil",
          "value": 1845.38
         },
         {
          "importsexports": "Exports",
          "partner_type": "France",
          "port": "Bayonne",
          "product": "Cendres diverses",
          "value": 2170
         },
         {
          "importsexports": "Exports",
          "partner_type": "France",
          "port": "Bayonne",
          "product": "Bougies, chandelles et flambeaux",
          "value": 4903.75006705
         },
         {
          "importsexports": "Imports",
          "partner_type": "France",
          "port": "Bayonne",
          "product": "Bougies, chandelles et flambeaux",
          "value": 2828.3
         },
         {
          "importsexports": "Exports",
          "partner_type": "France",
          "port": "Bayonne",
          "product": "Coton non transformé",
          "value": 1013
         },
         {
          "importsexports": "Exports",
          "partner_type": "France",
          "port": "Bayonne",
          "product": "Étoffes de laine",
          "value": 49883
         },
         {
          "importsexports": "Imports",
          "partner_type": "France",
          "port": "Bayonne",
          "product": "Étoffes de laine",
          "value": 5550
         },
         {
          "importsexports": "Exports",
          "partner_type": "France",
          "port": "Bayonne",
          "product": "Drogues médicinales diverses",
          "value": 891.8000172
         },
         {
          "importsexports": "Imports",
          "partner_type": "France",
          "port": "Bayonne",
          "product": "Drogues médicinales diverses",
          "value": 4512
         },
         {
          "importsexports": "Exports",
          "partner_type": "France",
          "port": "Bayonne",
          "product": "Fer",
          "value": 749
         },
         {
          "importsexports": "Imports",
          "partner_type": "France",
          "port": "Bayonne",
          "product": "Fer",
          "value": 1633
         },
         {
          "importsexports": "Exports",
          "partner_type": "France",
          "port": "Bayonne",
          "product": "Fromage",
          "value": 420
         },
         {
          "importsexports": "Imports",
          "partner_type": "France",
          "port": "Bayonne",
          "product": "Fromage",
          "value": 24379.6
         },
         {
          "importsexports": "Exports",
          "partner_type": "France",
          "port": "Bayonne",
          "product": "Fruits frais",
          "value": 1836
         },
         {
          "importsexports": "Imports",
          "partner_type": "France",
          "port": "Bayonne",
          "product": "Fruits frais",
          "value": 879
         },
         {
          "importsexports": "Exports",
          "partner_type": "France",
          "port": "Bayonne",
          "product": "Soieries diverses",
          "value": 2393
         },
         {
          "importsexports": "Exports",
          "partner_type": "France",
          "port": "Bayonne",
          "product": "Riz",
          "value": 5040.600121920001
         },
         {
          "importsexports": "Imports",
          "partner_type": "France",
          "port": "Bayonne",
          "product": "Riz",
          "value": 576.3
         },
         {
          "importsexports": "Exports",
          "partner_type": "France",
          "port": "Bayonne",
          "product": "Graines diverses et mélangées",
          "value": 253
         },
         {
          "importsexports": "Exports",
          "partner_type": "France",
          "port": "Bayonne",
          "product": "Graines grasses",
          "value": 6076.8
         },
         {
          "importsexports": "Exports",
          "partner_type": "France",
          "port": "Bayonne",
          "product": "Huile d'olive à manger",
          "value": 5717.55
         },
         {
          "importsexports": "Imports",
          "partner_type": "France",
          "port": "Bayonne",
          "product": "Huile d'olive à manger",
          "value": 43542.200000000004
         },
         {
          "importsexports": "Exports",
          "partner_type": "France",
          "port": "Bayonne",
          "product": "Marbre brut et ouvré",
          "value": 464
         },
         {
          "importsexports": "Exports",
          "partner_type": "France",
          "port": "Bayonne",
          "product": "Miel",
          "value": 107.9999976
         },
         {
          "importsexports": "Exports",
          "partner_type": "France",
          "port": "Bayonne",
          "product": "Argenterie et orfèvrerie",
          "value": 1035
         },
         {
          "importsexports": "Imports",
          "partner_type": "France",
          "port": "Bayonne",
          "product": "Argenterie et orfèvrerie",
          "value": 14231.4
         },
         {
          "importsexports": "Exports",
          "partner_type": "France",
          "port": "Bayonne",
          "product": "Cordonnerie et sellerie",
          "value": 200
         },
         {
          "importsexports": "Exports",
          "partner_type": "France",
          "port": "Bayonne",
          "product": "Fleurs artificielles et ouvrages de mode",
          "value": 1786
         },
         {
          "importsexports": "Exports",
          "partner_type": "France",
          "port": "Bayonne",
          "product": "Chapeaux d'écorce et de paille",
          "value": 870
         },
         {
          "importsexports": "Exports",
          "partner_type": "France",
          "port": "Bayonne",
          "product": "Toiles diverses",
          "value": 9114
         },
         {
          "importsexports": "Imports",
          "partner_type": "France",
          "port": "Bayonne",
          "product": "Beurre",
          "value": 1576.6499999999999
         },
         {
          "importsexports": "Exports",
          "partner_type": "France",
          "port": "Bayonne",
          "product": "Beurre",
          "value": 217.2
         },
         {
          "importsexports": "Imports",
          "partner_type": "France",
          "port": "Bayonne",
          "product": "Subsistances diverses et mélangées",
          "value": 900
         },
         {
          "importsexports": "Exports",
          "partner_type": "France",
          "port": "Bayonne",
          "product": "Subsistances diverses et mélangées",
          "value": 481.5
         },
         {
          "importsexports": "Imports",
          "partner_type": "France",
          "port": "Bayonne",
          "product": "Céruse et blanc de plomb",
          "value": 1201.2
         },
         {
          "importsexports": "Imports",
          "partner_type": "France",
          "port": "Bayonne",
          "product": "Fer-blanc",
          "value": 4431
         },
         {
          "importsexports": "Imports",
          "partner_type": "France",
          "port": "Bayonne",
          "product": "Acier",
          "value": 3304.4
         },
         {
          "importsexports": "Imports",
          "partner_type": "France",
          "port": "Bayonne",
          "product": "Quinquina",
          "value": 13416
         },
         {
          "importsexports": "Imports",
          "partner_type": "France",
          "port": "Bayonne",
          "product": "Poivre et piment",
          "value": 37549.5
         },
         {
          "importsexports": "Imports",
          "partner_type": "France",
          "port": "Bayonne",
          "product": "Lin",
          "value": 44177.700000000004
         },
         {
          "importsexports": "Exports",
          "partner_type": "France",
          "port": "Bayonne",
          "product": "Étoffes diverses",
          "value": 56498
         },
         {
          "importsexports": "Imports",
          "partner_type": "France",
          "port": "Bayonne",
          "product": "Bijouterie et pierres fines",
          "value": 1170
         },
         {
          "importsexports": "Imports",
          "partner_type": "France",
          "port": "Bayonne",
          "product": "Textiles manufacturés divers et mélangés",
          "value": 2128
         },
         {
          "importsexports": "Exports",
          "partner_type": "France",
          "port": "Bayonne",
          "product": "Textiles manufacturés divers et mélangés",
          "value": 2560
         },
         {
          "importsexports": "Imports",
          "partner_type": "France",
          "port": "Bayonne",
          "product": "Manne et médicaments",
          "value": 8873
         },
         {
          "importsexports": "Imports",
          "partner_type": "France",
          "port": "Bayonne",
          "product": "Séné",
          "value": 758.75
         },
         {
          "importsexports": "Imports",
          "partner_type": "France",
          "port": "Bayonne",
          "product": "Garance",
          "value": 648
         },
         {
          "importsexports": "Imports",
          "partner_type": "France",
          "port": "Bayonne",
          "product": "Girofle",
          "value": 7812
         },
         {
          "importsexports": "Imports",
          "partner_type": "France",
          "port": "Bayonne",
          "product": "Muscades",
          "value": 180
         },
         {
          "importsexports": "Imports",
          "partner_type": "France",
          "port": "Bayonne",
          "product": "Étain",
          "value": 765
         },
         {
          "importsexports": "Imports",
          "partner_type": "France",
          "port": "Bayonne",
          "product": "Étoffes de soie",
          "value": 1825
         },
         {
          "importsexports": "Exports",
          "partner_type": "France",
          "port": "Bayonne",
          "product": "Étoffes de soie",
          "value": 14215
         },
         {
          "importsexports": "Imports",
          "partner_type": "France",
          "port": "Bayonne",
          "product": "Librairie",
          "value": 439
         },
         {
          "importsexports": "Imports",
          "partner_type": "France",
          "port": "Bayonne",
          "product": "Parfumerie et toilette",
          "value": 165
         },
         {
          "importsexports": "Imports",
          "partner_type": "France",
          "port": "Bayonne",
          "product": "Plomb",
          "value": 14883.18
         },
         {
          "importsexports": "Imports",
          "partner_type": "France",
          "port": "Bayonne",
          "product": "Faucilles, faux et limes",
          "value": 1544
         },
         {
          "importsexports": "Imports",
          "partner_type": "France",
          "port": "Bayonne",
          "product": "Rubanerie et passementerie diverse",
          "value": 238
         },
         {
          "importsexports": "Exports",
          "partner_type": "France",
          "port": "Bayonne",
          "product": "Rubanerie et passementerie diverse",
          "value": 3990
         },
         {
          "importsexports": "Imports",
          "partner_type": "France",
          "port": "Bayonne",
          "product": "Soie",
          "value": 900
         },
         {
          "importsexports": "Imports",
          "partner_type": "France",
          "port": "Bayonne",
          "product": "Thé",
          "value": 147
         },
         {
          "importsexports": "Exports",
          "partner_type": "France",
          "port": "Bayonne",
          "product": "Bonneterie de soie",
          "value": 14208
         },
         {
          "importsexports": "Imports",
          "partner_type": "France",
          "port": "Bayonne",
          "product": "Salsepareille",
          "value": 1710
         },
         {
          "importsexports": "Imports",
          "partner_type": "France",
          "port": "Bayonne",
          "product": "Poils et crin",
          "value": 12948.0004316
         },
         {
          "importsexports": "Exports",
          "partner_type": "France",
          "port": "Bayonne",
          "product": "Sels chimiques",
          "value": 560
         },
         {
          "importsexports": "Imports",
          "partner_type": "France",
          "port": "Bayonne",
          "product": "Métaux divers et mélangés",
          "value": 1100
         },
         {
          "importsexports": "Exports",
          "partner_type": "Fraude ?",
          "port": "Bayonne",
          "product": "Bois des Indes",
          "value": 8982
         },
         {
          "importsexports": "Exports",
          "partner_type": "Fraude ?",
          "port": "Bayonne",
          "product": "Brai, goudron et résines",
          "value": 149542.35991705
         },
         {
          "importsexports": "Imports",
          "partner_type": "Fraude ?",
          "port": "Bayonne",
          "product": "Chairs et œufs",
          "value": 104370.60009314
         },
         {
          "importsexports": "Exports",
          "partner_type": "Fraude ?",
          "port": "Bayonne",
          "product": "Réglisse",
          "value": 7182.599969999996
         },
         {
          "importsexports": "Imports",
          "partner_type": "Fraude ?",
          "port": "Bayonne",
          "product": "Eaux-de-vie et liqueurs",
          "value": 580225.89997435
         },
         {
          "importsexports": "Exports",
          "partner_type": "Fraude ?",
          "port": "Bayonne",
          "product": "Laines non transformées diverses",
          "value": 1615005
         },
         {
          "importsexports": "Exports",
          "partner_type": "Fraude ?",
          "port": "Bayonne",
          "product": "Bouchons principalement en liège",
          "value": 2976.5
         },
         {
          "importsexports": "Exports",
          "partner_type": "Fraude ?",
          "port": "Bayonne",
          "product": "Divers mélangés",
          "value": 3816.0000499999996
         },
         {
          "importsexports": "Imports",
          "partner_type": "Fraude ?",
          "port": "Bayonne",
          "product": "Plumes brutes",
          "value": 6413
         },
         {
          "importsexports": "Imports",
          "partner_type": "Fraude ?",
          "port": "Bayonne",
          "product": "Animaux",
          "value": 56010
         },
         {
          "importsexports": "Exports",
          "partner_type": "Fraude ?",
          "port": "Bayonne",
          "product": "Habits et lingerie",
          "value": 11757
         },
         {
          "importsexports": "Imports",
          "partner_type": "Fraude ?",
          "port": "Bayonne",
          "product": "Bonneterie hors soie",
          "value": 1524
         },
         {
          "importsexports": "Imports",
          "partner_type": "Fraude ?",
          "port": "Bayonne",
          "product": "Combustibles dont charbons et bois",
          "value": 4293
         },
         {
          "importsexports": "Exports",
          "partner_type": "Fraude ?",
          "port": "Bayonne",
          "product": "Bois divers hors combustible",
          "value": 131826.8
         },
         {
          "importsexports": "Imports",
          "partner_type": "Fraude ?",
          "port": "Bayonne",
          "product": "Ouvrages de bois, liège et jonc",
          "value": 66911.39889308001
         },
         {
          "importsexports": "Imports",
          "partner_type": "Fraude ?",
          "port": "Bayonne",
          "product": "Chapeaux hors paille et écorce",
          "value": 1740
         },
         {
          "importsexports": "Imports",
          "partner_type": "Fraude ?",
          "port": "Bayonne",
          "product": "Cordage et filets",
          "value": 35422.60021559
         },
         {
          "importsexports": "Exports",
          "partner_type": "Fraude ?",
          "port": "Bayonne",
          "product": "Cuirs, peaux et pelleterie",
          "value": 418700.30011815997
         },
         {
          "importsexports": "Exports",
          "partner_type": "Fraude ?",
          "port": "Bayonne",
          "product": "Ouvrages métalliques",
          "value": 413990.46001100005
         },
         {
          "importsexports": "Exports",
          "partner_type": "Fraude ?",
          "port": "Bayonne",
          "product": "Porcelaine, poterie, faïence et ouvrages de terre",
          "value": 16080
         },
         {
          "importsexports": "Exports",
          "partner_type": "Fraude ?",
          "port": "Bayonne",
          "product": "Fils divers",
          "value": 65080.5
         },
         {
          "importsexports": "Exports",
          "partner_type": "Fraude ?",
          "port": "Bayonne",
          "product": "Matières premières diverses",
          "value": 14680.99999
         },
         {
          "importsexports": "Exports",
          "partner_type": "Fraude ?",
          "port": "Bayonne",
          "product": "Blé et autres grains comestibles",
          "value": 1028213.734738054
         },
         {
          "importsexports": "Imports",
          "partner_type": "Fraude ?",
          "port": "Bayonne",
          "product": "Légumes",
          "value": 68556.0000534
         },
         {
          "importsexports": "Exports",
          "partner_type": "Fraude ?",
          "port": "Bayonne",
          "product": "Mercerie",
          "value": 5914
         },
         {
          "importsexports": "Imports",
          "partner_type": "Fraude ?",
          "port": "Bayonne",
          "product": "Châles et mouchoirs hors soie",
          "value": 38986
         },
         {
          "importsexports": "Imports",
          "partner_type": "Fraude ?",
          "port": "Bayonne",
          "product": "Ouvrages divers et mélangés",
          "value": 11513.800008049999
         },
         {
          "importsexports": "Imports",
          "partner_type": "Fraude ?",
          "port": "Bayonne",
          "product": "Drogues diverses",
          "value": 10000.000003500001
         },
         {
          "importsexports": "Exports",
          "partner_type": "Fraude ?",
          "port": "Bayonne",
          "product": "Pêche et fruits de mer",
          "value": 279986.8
         },
         {
          "importsexports": "Exports",
          "partner_type": "Fraude ?",
          "port": "Bayonne",
          "product": "Graisses diverses",
          "value": 58898.9498512
         },
         {
          "importsexports": "Exports",
          "partner_type": "Fraude ?",
          "port": "Bayonne",
          "product": "Toiles de chanvre et de lin",
          "value": 136313.5
         },
         {
          "importsexports": "Exports",
          "partner_type": "Fraude ?",
          "port": "Bayonne",
          "product": "Verrerie",
          "value": 1316.92004663
         },
         {
          "importsexports": "Imports",
          "partner_type": "Fraude ?",
          "port": "Bayonne",
          "product": "Vins divers",
          "value": 1304763.5
         },
         {
          "importsexports": "Imports",
          "partner_type": "Fraude ?",
          "port": "Bayonne",
          "product": "Bière, cidre et vinaigre",
          "value": 573
         },
         {
          "importsexports": "Exports",
          "partner_type": "Fraude ?",
          "port": "Bayonne",
          "product": "Farine, gruau, biscuits et pâtes",
          "value": 35470.33
         },
         {
          "importsexports": "Exports",
          "partner_type": "Fraude ?",
          "port": "Bayonne",
          "product": "Bâtiments de mer et apparaux",
          "value": 41229.70056866
         },
         {
          "importsexports": "Exports",
          "partner_type": "Fraude ?",
          "port": "Bayonne",
          "product": "Matières brutes et transformées pour teinture",
          "value": 49060.75
         },
         {
          "importsexports": "Exports",
          "partner_type": "Fraude ?",
          "port": "Bayonne",
          "product": "Cacao et chocolat",
          "value": 661422.5
         },
         {
          "importsexports": "Exports",
          "partner_type": "Fraude ?",
          "port": "Bayonne",
          "product": "Chanvre",
          "value": 179945.29995852002
         },
         {
          "importsexports": "Exports",
          "partner_type": "Fraude ?",
          "port": "Bayonne",
          "product": "Cire",
          "value": 97840.33350000001
         },
         {
          "importsexports": "Exports",
          "partner_type": "Fraude ?",
          "port": "Bayonne",
          "product": "Cuivre",
          "value": 5245
         },
         {
          "importsexports": "Exports",
          "partner_type": "Fraude ?",
          "port": "Bayonne",
          "product": "Indigo",
          "value": 480764
         },
         {
          "importsexports": "Imports",
          "partner_type": "Fraude ?",
          "port": "Bayonne",
          "product": "Térébenthine",
          "value": 64189.7999865
         },
         {
          "importsexports": "Exports",
          "partner_type": "Fraude ?",
          "port": "Bayonne",
          "product": "Cannelle",
          "value": 33036
         },
         {
          "importsexports": "Exports",
          "partner_type": "Fraude ?",
          "port": "Bayonne",
          "product": "Toiles de coton",
          "value": 1240964
         },
         {
          "importsexports": "Imports",
          "partner_type": "Fraude ?",
          "port": "Bayonne",
          "product": "Quincaillerie",
          "value": 17280.75
         },
         {
          "importsexports": "Exports",
          "partner_type": "Fraude ?",
          "port": "Bayonne",
          "product": "Huile de poisson",
          "value": 16340
         },
         {
          "importsexports": "Exports",
          "partner_type": "Fraude ?",
          "port": "Bayonne",
          "product": "Huiles diverses",
          "value": 25217.550450000002
         },
         {
          "importsexports": "Imports",
          "partner_type": "Fraude ?",
          "port": "Bayonne",
          "product": "Meubles, glaces et miroirs",
          "value": 1805
         },
         {
          "importsexports": "Imports",
          "partner_type": "Fraude ?",
          "port": "Bayonne",
          "product": "Papier",
          "value": 20082
         },
         {
          "importsexports": "Imports",
          "partner_type": "Fraude ?",
          "port": "Bayonne",
          "product": "Savon",
          "value": 15523.600010799993
         },
         {
          "importsexports": "Imports",
          "partner_type": "Fraude ?",
          "port": "Bayonne",
          "product": "Sel",
          "value": 80028.17636921248
         },
         {
          "importsexports": "Exports",
          "partner_type": "Fraude ?",
          "port": "Bayonne",
          "product": "Produits inconnus",
          "value": 648.5999999999999
         },
         {
          "importsexports": "Imports",
          "partner_type": "Fraude ?",
          "port": "Bayonne",
          "product": "Salpêtre et soufre",
          "value": 206.70000000000005
         },
         {
          "importsexports": "Exports",
          "partner_type": "Fraude ?",
          "port": "Bayonne",
          "product": "Tabac",
          "value": 20618.399999999994
         },
         {
          "importsexports": "Imports",
          "partner_type": "Fraude ?",
          "port": "Bayonne",
          "product": "Vins de Bordeaux",
          "value": 2600
         },
         {
          "importsexports": "Exports",
          "partner_type": "Fraude ?",
          "port": "Bayonne",
          "product": "Vin de liqueurs",
          "value": 16277.116000000002
         },
         {
          "importsexports": "Exports",
          "partner_type": "Fraude ?",
          "port": "Bayonne",
          "product": "Café",
          "value": 101609.2
         },
         {
          "importsexports": "Imports",
          "partner_type": "Fraude ?",
          "port": "Bayonne",
          "product": "Sirop et mélasse",
          "value": 4170
         },
         {
          "importsexports": "Exports",
          "partner_type": "Fraude ?",
          "port": "Bayonne",
          "product": "Sucre",
          "value": 502406.30000000005
         },
         {
          "importsexports": "Imports",
          "partner_type": "Fraude ?",
          "port": "Bayonne",
          "product": "Fruits secs et noix",
          "value": 13232.100092319999
         },
         {
          "importsexports": "Imports",
          "partner_type": "Fraude ?",
          "port": "Bayonne",
          "product": "Armes, munitions, poudre et pierres à fusil",
          "value": 1845.38
         },
         {
          "importsexports": "Imports",
          "partner_type": "Fraude ?",
          "port": "Bayonne",
          "product": "Cendres diverses",
          "value": 2170
         },
         {
          "importsexports": "Imports",
          "partner_type": "Fraude ?",
          "port": "Bayonne",
          "product": "Bougies, chandelles et flambeaux",
          "value": 2235.45006705
         },
         {
          "importsexports": "Exports",
          "partner_type": "Fraude ?",
          "port": "Bayonne",
          "product": "Coton non transformé",
          "value": 7365
         },
         {
          "importsexports": "Exports",
          "partner_type": "Fraude ?",
          "port": "Bayonne",
          "product": "Étoffes de laine",
          "value": 201887
         },
         {
          "importsexports": "Exports",
          "partner_type": "Fraude ?",
          "port": "Bayonne",
          "product": "Drogues médicinales diverses",
          "value": 5334.1999828
         },
         {
          "importsexports": "Exports",
          "partner_type": "Fraude ?",
          "port": "Bayonne",
          "product": "Fer",
          "value": 1544
         },
         {
          "importsexports": "Exports",
          "partner_type": "Fraude ?",
          "port": "Bayonne",
          "product": "Fromage",
          "value": 129239.6
         },
         {
          "importsexports": "Imports",
          "partner_type": "Fraude ?",
          "port": "Bayonne",
          "product": "Fruits frais",
          "value": 787
         },
         {
          "importsexports": "Imports",
          "partner_type": "Fraude ?",
          "port": "Bayonne",
          "product": "Soieries diverses",
          "value": 2393
         },
         {
          "importsexports": "Imports",
          "partner_type": "Fraude ?",
          "port": "Bayonne",
          "product": "Riz",
          "value": 940.3001219200005
         },
         {
          "importsexports": "Imports",
          "partner_type": "Fraude ?",
          "port": "Bayonne",
          "product": "Graines diverses et mélangées",
          "value": 253
         },
         {
          "importsexports": "Imports",
          "partner_type": "Fraude ?",
          "port": "Bayonne",
          "product": "Graines grasses",
          "value": 6076.8
         },
         {
          "importsexports": "Exports",
          "partner_type": "Fraude ?",
          "port": "Bayonne",
          "product": "Huile d'olive à manger",
          "value": 165246.65000000002
         },
         {
          "importsexports": "Imports",
          "partner_type": "Fraude ?",
          "port": "Bayonne",
          "product": "Marbre brut et ouvré",
          "value": 464
         },
         {
          "importsexports": "Imports",
          "partner_type": "Fraude ?",
          "port": "Bayonne",
          "product": "Miel",
          "value": 107.9999976
         },
         {
          "importsexports": "Imports",
          "partner_type": "Fraude ?",
          "port": "Bayonne",
          "product": "Argenterie et orfèvrerie",
          "value": 7813.6
         },
         {
          "importsexports": "Imports",
          "partner_type": "Fraude ?",
          "port": "Bayonne",
          "product": "Cordonnerie et sellerie",
          "value": 1527
         },
         {
          "importsexports": "Imports",
          "partner_type": "Fraude ?",
          "port": "Bayonne",
          "product": "Fleurs artificielles et ouvrages de mode",
          "value": 1786
         },
         {
          "importsexports": "Imports",
          "partner_type": "Fraude ?",
          "port": "Bayonne",
          "product": "Chapeaux d'écorce et de paille",
          "value": 870
         },
         {
          "importsexports": "Exports",
          "partner_type": "Fraude ?",
          "port": "Bayonne",
          "product": "Toiles diverses",
          "value": 876221
         },
         {
          "importsexports": "Imports",
          "partner_type": "Fraude ?",
          "port": "Bayonne",
          "product": "Beurre",
          "value": 5793.550000000001
         },
         {
          "importsexports": "Imports",
          "partner_type": "Fraude ?",
          "port": "Bayonne",
          "product": "Subsistances diverses et mélangées",
          "value": 4185.5
         },
         {
          "importsexports": "Exports",
          "partner_type": "Fraude ?",
          "port": "Bayonne",
          "product": "Céruse et blanc de plomb",
          "value": 376.20000000000005
         },
         {
          "importsexports": "Exports",
          "partner_type": "Fraude ?",
          "port": "Bayonne",
          "product": "Fer-blanc",
          "value": 16821
         },
         {
          "importsexports": "Exports",
          "partner_type": "Fraude ?",
          "port": "Bayonne",
          "product": "Acier",
          "value": 8064.4
         },
         {
          "importsexports": "Exports",
          "partner_type": "Fraude ?",
          "port": "Bayonne",
          "product": "Quinquina",
          "value": 30266
         },
         {
          "importsexports": "Exports",
          "partner_type": "Fraude ?",
          "port": "Bayonne",
          "product": "Poivre et piment",
          "value": 63449.5
         },
         {
          "importsexports": "Exports",
          "partner_type": "Fraude ?",
          "port": "Bayonne",
          "product": "Lin",
          "value": 333408.7
         },
         {
          "importsexports": "Exports",
          "partner_type": "Fraude ?",
          "port": "Bayonne",
          "product": "Rubanerie et passementerie de soie",
          "value": 1713
         },
         {
          "importsexports": "Imports",
          "partner_type": "Fraude ?",
          "port": "Bayonne",
          "product": "Étoffes diverses",
          "value": 53498
         },
         {
          "importsexports": "Exports",
          "partner_type": "Fraude ?",
          "port": "Bayonne",
          "product": "Mousseline, basin et nankin",
          "value": 82900
         },
         {
          "importsexports": "Exports",
          "partner_type": "Fraude ?",
          "port": "Bayonne",
          "product": "Bijouterie et pierres fines",
          "value": 1170
         },
         {
          "importsexports": "Imports",
          "partner_type": "Fraude ?",
          "port": "Bayonne",
          "product": "Textiles manufacturés divers et mélangés",
          "value": 432
         },
         {
          "importsexports": "Exports",
          "partner_type": "Fraude ?",
          "port": "Bayonne",
          "product": "Manne et médicaments",
          "value": 8873
         },
         {
          "importsexports": "Exports",
          "partner_type": "Fraude ?",
          "port": "Bayonne",
          "product": "Séné",
          "value": 758.75
         },
         {
          "importsexports": "Exports",
          "partner_type": "Fraude ?",
          "port": "Bayonne",
          "product": "Garance",
          "value": 648
         },
         {
          "importsexports": "Exports",
          "partner_type": "Fraude ?",
          "port": "Bayonne",
          "product": "Girofle",
          "value": 7812
         },
         {
          "importsexports": "Exports",
          "partner_type": "Fraude ?",
          "port": "Bayonne",
          "product": "Muscades",
          "value": 180
         },
         {
          "importsexports": "Exports",
          "partner_type": "Fraude ?",
          "port": "Bayonne",
          "product": "Étain",
          "value": 765
         },
         {
          "importsexports": "Imports",
          "partner_type": "Fraude ?",
          "port": "Bayonne",
          "product": "Étoffes de soie",
          "value": 12390
         },
         {
          "importsexports": "Exports",
          "partner_type": "Fraude ?",
          "port": "Bayonne",
          "product": "Librairie",
          "value": 439
         },
         {
          "importsexports": "Exports",
          "partner_type": "Fraude ?",
          "port": "Bayonne",
          "product": "Parfumerie et toilette",
          "value": 165
         },
         {
          "importsexports": "Exports",
          "partner_type": "Fraude ?",
          "port": "Bayonne",
          "product": "Plomb",
          "value": 14883.18
         },
         {
          "importsexports": "Exports",
          "partner_type": "Fraude ?",
          "port": "Bayonne",
          "product": "Faucilles, faux et limes",
          "value": 1544
         },
         {
          "importsexports": "Imports",
          "partner_type": "Fraude ?",
          "port": "Bayonne",
          "product": "Rubanerie et passementerie diverse",
          "value": 3752
         },
         {
          "importsexports": "Exports",
          "partner_type": "Fraude ?",
          "port": "Bayonne",
          "product": "Soie",
          "value": 900
         },
         {
          "importsexports": "Exports",
          "partner_type": "Fraude ?",
          "port": "Bayonne",
          "product": "Thé",
          "value": 147
         },
         {
          "importsexports": "Imports",
          "partner_type": "Fraude ?",
          "port": "Bayonne",
          "product": "Bonneterie de soie",
          "value": 14208
         },
         {
          "importsexports": "Exports",
          "partner_type": "Fraude ?",
          "port": "Bayonne",
          "product": "Salsepareille",
          "value": 1710
         },
         {
          "importsexports": "Exports",
          "partner_type": "Fraude ?",
          "port": "Bayonne",
          "product": "Poils et crin",
          "value": 12948.0004316
         },
         {
          "importsexports": "Imports",
          "partner_type": "Fraude ?",
          "port": "Bayonne",
          "product": "Sels chimiques",
          "value": 560
         },
         {
          "importsexports": "Exports",
          "partner_type": "Fraude ?",
          "port": "Bayonne",
          "product": "Métaux divers et mélangés",
          "value": 1100
         }
        ]
       },
       "spacing": 0,
       "title": "BAYONNE\n Répartition des imports/exports en 1789 par tout produit",
       "vconcat": [
        {
         "hconcat": [
          {
           "encoding": {
            "color": {
             "field": "partner_type",
             "scale": {
              "domain": [
               "colonies",
               "Monde",
               "France",
               "Fraude ?"
              ],
              "range": [
               "purple",
               "darkblue",
               "olive",
               "lightgrey",
               "darkgrey"
              ]
             },
             "type": "nominal"
            },
            "order": {
             "expr": "-1*indexof(['colonies', 'Monde', 'France', 'Fraude ?'], datum.partner_type)",
             "type": "ordinal"
            },
            "x": {
             "field": "value",
             "sort": "descending",
             "title": "Valeur (Lt)",
             "type": "quantitative"
            },
            "y": {
             "field": "product",
             "sort": "-x",
             "title": null,
             "type": "ordinal"
            }
           },
           "mark": {
            "tooltip": {
             "content": "data"
            },
            "type": "bar"
           },
           "title": "import",
           "transform": [
            {
             "filter": {
              "equal": "Imports",
              "field": "importsexports"
             }
            }
           ]
          },
          {
           "encoding": {
            "color": {
             "field": "partner_type",
             "scale": {
              "domain": [
               "colonies",
               "Monde",
               "France",
               "Fraude ?"
              ],
              "range": [
               "purple",
               "darkblue",
               "olive",
               "lightgrey",
               "darkgrey"
              ]
             },
             "sort": [
              "colonies",
              "Monde",
              "France",
              "Fraude ?"
             ],
             "type": "nominal"
            },
            "order": {
             "expr": "indexof(['colonies', 'Monde', 'France', 'Fraude ?'], datum.partner_type)",
             "type": "ordinal"
            },
            "x": {
             "field": "value",
             "title": "Valeur (Lt)",
             "type": "quantitative"
            },
            "y": {
             "axis": null,
             "field": "product",
             "sort": "-x",
             "title": null,
             "type": "ordinal"
            }
           },
           "mark": {
            "tooltip": {
             "content": "data"
            },
            "type": "bar"
           },
           "title": "export",
           "transform": [
            {
             "filter": {
              "equal": "Exports",
              "field": "importsexports"
             }
            }
           ]
          }
         ]
        },
        {
         "hconcat": [
          {
           "encoding": {
            "color": {
             "field": "partner_type",
             "scale": {
              "domain": [
               "colonies",
               "Monde",
               "France",
               "Fraude ?"
              ],
              "range": [
               "purple",
               "darkblue",
               "olive",
               "lightgrey",
               "darkgrey"
              ]
             },
             "sort": [
              "colonies",
              "Monde",
              "France",
              "Fraude ?"
             ],
             "type": "nominal"
            },
            "x": {
             "field": "total_value",
             "scale": {
              "domain": [
               0,
               9856238.685583672
              ]
             },
             "sort": "descending",
             "title": "Valeur tous produits (Lt)",
             "type": "quantitative"
            },
            "y": {
             "field": "partner_type",
             "scale": {
              "domain": [
               "colonies",
               "Monde",
               "France",
               "Fraude ?"
              ]
             },
             "sort": [
              "colonies",
              "Monde",
              "France",
              "Fraude ?"
             ],
             "title": null,
             "type": "ordinal"
            }
           },
           "mark": {
            "tooltip": {
             "content": "data"
            },
            "type": "bar"
           },
           "transform": [
            {
             "filter": {
              "equal": "Imports",
              "field": "importsexports"
             }
            },
            {
             "aggregate": [
              {
               "as": "total_value",
               "field": "value",
               "op": "sum"
              }
             ],
             "groupby": [
              "partner_type"
             ]
            }
           ]
          },
          {
           "encoding": {
            "color": {
             "field": "partner_type",
             "scale": {
              "domain": [
               "colonies",
               "Monde",
               "France",
               "Fraude ?"
              ],
              "range": [
               "purple",
               "darkblue",
               "olive",
               "lightgrey",
               "darkgrey"
              ]
             },
             "sort": [
              "colonies",
              "Monde",
              "France",
              "Fraude ?"
             ],
             "type": "nominal"
            },
            "x": {
             "field": "total_value",
             "scale": {
              "domain": [
               0,
               9856238.685583672
              ]
             },
             "sort": "ascending",
             "title": "Valeur tous produits (Lt)",
             "type": "quantitative"
            },
            "y": {
             "axis": null,
             "field": "partner_type",
             "scale": {
              "domain": [
               "colonies",
               "Monde",
               "France",
               "Fraude ?"
              ]
             },
             "sort": [
              "colonies",
              "Monde",
              "France",
              "Fraude ?"
             ],
             "title": null,
             "type": "ordinal"
            }
           },
           "mark": {
            "tooltip": {
             "content": "data"
            },
            "type": "bar"
           },
           "transform": [
            {
             "filter": {
              "equal": "Exports",
              "field": "importsexports"
             }
            },
            {
             "aggregate": [
              {
               "as": "total_value",
               "field": "value",
               "op": "sum"
              }
             ],
             "groupby": [
              "partner_type"
             ]
            }
           ]
          }
         ]
        },
        {
         "hconcat": [
          {
           "encoding": {
            "x": {
             "field": "total_value",
             "scale": {
              "domain": [
               0,
               17055509.131109275
              ]
             },
             "sort": "descending",
             "title": "Valeur tous produits (Lt)",
             "type": "quantitative"
            }
           },
           "mark": {
            "tooltip": {
             "content": "data"
            },
            "type": "bar"
           },
           "transform": [
            {
             "filter": {
              "equal": "Imports",
              "field": "importsexports"
             }
            },
            {
             "filter": "indexof(datum.partner_type,'?')==-1"
            },
            {
             "aggregate": [
              {
               "as": "total_value",
               "field": "value",
               "op": "sum"
              }
             ]
            }
           ]
          },
          {
           "encoding": {
            "x": {
             "field": "total_value",
             "scale": {
              "domain": [
               0,
               17055509.131109275
              ]
             },
             "sort": "ascending",
             "title": "Totaux (Lt)",
             "type": "quantitative"
            }
           },
           "mark": {
            "tooltip": {
             "content": "data"
            },
            "type": "bar"
           },
           "transform": [
            {
             "filter": {
              "equal": "Exports",
              "field": "importsexports"
             }
            },
            {
             "filter": "indexof(datum.partner_type,'?')==-1"
            },
            {
             "aggregate": [
              {
               "as": "total_value",
               "field": "value",
               "op": "sum"
              }
             ]
            }
           ]
          }
         ]
        }
       ]
      }
     },
     "metadata": {},
     "output_type": "display_data"
    },
    {
     "data": {
      "application/vnd.vegalite.v4+json": {
       "data": {
        "values": [
         {
          "importsexports": "Exports",
          "partner_type": "colonies",
          "port": "Marseille",
          "product": "Cacao et chocolat",
          "value": 14630
         },
         {
          "importsexports": "Imports",
          "partner_type": "colonies",
          "port": "Marseille",
          "product": "Cacao et chocolat",
          "value": 98113
         },
         {
          "importsexports": "Imports",
          "partner_type": "colonies",
          "port": "Marseille",
          "product": "Café",
          "value": 15241441
         },
         {
          "importsexports": "Imports",
          "partner_type": "colonies",
          "port": "Marseille",
          "product": "Coton non transformé",
          "value": 971005
         },
         {
          "importsexports": "Exports",
          "partner_type": "colonies",
          "port": "Marseille",
          "product": "Denrées coloniales et épiceries diverses",
          "value": 1536
         },
         {
          "importsexports": "Imports",
          "partner_type": "colonies",
          "port": "Marseille",
          "product": "Denrées coloniales et épiceries diverses",
          "value": 9540
         },
         {
          "importsexports": "Imports",
          "partner_type": "colonies",
          "port": "Marseille",
          "product": "Indigo",
          "value": 812862
         },
         {
          "importsexports": "Imports",
          "partner_type": "colonies",
          "port": "Marseille",
          "product": "Rocou",
          "value": 53337
         },
         {
          "importsexports": "Imports",
          "partner_type": "colonies",
          "port": "Marseille",
          "product": "Sucre",
          "value": 13853256
         },
         {
          "importsexports": "Exports",
          "partner_type": "colonies",
          "port": "Marseille",
          "product": "Armes, munitions, poudre et pierres à fusil",
          "value": 16725
         },
         {
          "importsexports": "Exports",
          "partner_type": "colonies",
          "port": "Marseille",
          "product": "Bijouterie et pierres fines",
          "value": 12759
         },
         {
          "importsexports": "Exports",
          "partner_type": "colonies",
          "port": "Marseille",
          "product": "Habits et lingerie",
          "value": 113448
         },
         {
          "importsexports": "Exports",
          "partner_type": "colonies",
          "port": "Marseille",
          "product": "Bonneterie hors soie",
          "value": 144
         },
         {
          "importsexports": "Exports",
          "partner_type": "colonies",
          "port": "Marseille",
          "product": "Soieries diverses",
          "value": 144744
         },
         {
          "importsexports": "Exports",
          "partner_type": "colonies",
          "port": "Marseille",
          "product": "Gants",
          "value": 25981
         },
         {
          "importsexports": "Exports",
          "partner_type": "colonies",
          "port": "Marseille",
          "product": "Chapeaux hors paille et écorce",
          "value": 1056147
         },
         {
          "importsexports": "Exports",
          "partner_type": "colonies",
          "port": "Marseille",
          "product": "Étoffes de laine",
          "value": 259960
         },
         {
          "importsexports": "Exports",
          "partner_type": "colonies",
          "port": "Marseille",
          "product": "Dentelles",
          "value": 1800
         },
         {
          "importsexports": "Exports",
          "partner_type": "colonies",
          "port": "Marseille",
          "product": "Dorure",
          "value": 22515
         },
         {
          "importsexports": "Exports",
          "partner_type": "colonies",
          "port": "Marseille",
          "product": "Toiles de chanvre et de lin",
          "value": 335345
         },
         {
          "importsexports": "Exports",
          "partner_type": "colonies",
          "port": "Marseille",
          "product": "Drogues médicinales diverses",
          "value": 129238
         },
         {
          "importsexports": "Imports",
          "partner_type": "colonies",
          "port": "Marseille",
          "product": "Drogues médicinales diverses",
          "value": 77092
         },
         {
          "importsexports": "Exports",
          "partner_type": "colonies",
          "port": "Marseille",
          "product": "Étoffes diverses",
          "value": 32357
         },
         {
          "importsexports": "Exports",
          "partner_type": "colonies",
          "port": "Marseille",
          "product": "Textiles manufacturés divers et mélangés",
          "value": 7149
         },
         {
          "importsexports": "Exports",
          "partner_type": "colonies",
          "port": "Marseille",
          "product": "Toiles de coton",
          "value": 969333
         },
         {
          "importsexports": "Exports",
          "partner_type": "colonies",
          "port": "Marseille",
          "product": "Étoffes de soie",
          "value": 462358
         },
         {
          "importsexports": "Exports",
          "partner_type": "colonies",
          "port": "Marseille",
          "product": "Fils divers",
          "value": 90756
         },
         {
          "importsexports": "Imports",
          "partner_type": "colonies",
          "port": "Marseille",
          "product": "Fils divers",
          "value": 23958
         },
         {
          "importsexports": "Exports",
          "partner_type": "colonies",
          "port": "Marseille",
          "product": "Châles et mouchoirs hors soie",
          "value": 365647
         },
         {
          "importsexports": "Exports",
          "partner_type": "colonies",
          "port": "Marseille",
          "product": "Meubles, glaces et miroirs",
          "value": 71575
         },
         {
          "importsexports": "Exports",
          "partner_type": "colonies",
          "port": "Marseille",
          "product": "Ouvrages divers et mélangés",
          "value": 294212
         },
         {
          "importsexports": "Exports",
          "partner_type": "colonies",
          "port": "Marseille",
          "product": "Librairie",
          "value": 5161
         },
         {
          "importsexports": "Exports",
          "partner_type": "colonies",
          "port": "Marseille",
          "product": "Mercerie",
          "value": 230921
         },
         {
          "importsexports": "Exports",
          "partner_type": "colonies",
          "port": "Marseille",
          "product": "Châles et mouchoirs de soie",
          "value": 2880
         },
         {
          "importsexports": "Exports",
          "partner_type": "colonies",
          "port": "Marseille",
          "product": "Argenterie et orfèvrerie",
          "value": 20392
         },
         {
          "importsexports": "Exports",
          "partner_type": "colonies",
          "port": "Marseille",
          "product": "Ouvrages de bois, liège et jonc",
          "value": 67270
         },
         {
          "importsexports": "Imports",
          "partner_type": "colonies",
          "port": "Marseille",
          "product": "Ouvrages de bois, liège et jonc",
          "value": 17645
         },
         {
          "importsexports": "Exports",
          "partner_type": "colonies",
          "port": "Marseille",
          "product": "Ouvrages métalliques",
          "value": 110616
         },
         {
          "importsexports": "Exports",
          "partner_type": "colonies",
          "port": "Marseille",
          "product": "Fleurs artificielles et ouvrages de mode",
          "value": 8574
         },
         {
          "importsexports": "Exports",
          "partner_type": "colonies",
          "port": "Marseille",
          "product": "Papier",
          "value": 134165
         },
         {
          "importsexports": "Exports",
          "partner_type": "colonies",
          "port": "Marseille",
          "product": "Divers mélangés",
          "value": 44188
         },
         {
          "importsexports": "Imports",
          "partner_type": "colonies",
          "port": "Marseille",
          "product": "Divers mélangés",
          "value": 17782
         },
         {
          "importsexports": "Exports",
          "partner_type": "colonies",
          "port": "Marseille",
          "product": "Porcelaine, poterie, faïence et ouvrages de terre",
          "value": 199533
         },
         {
          "importsexports": "Exports",
          "partner_type": "colonies",
          "port": "Marseille",
          "product": "Quincaillerie",
          "value": 349104
         },
         {
          "importsexports": "Exports",
          "partner_type": "colonies",
          "port": "Marseille",
          "product": "Rubanerie et passementerie diverse",
          "value": 2142
         },
         {
          "importsexports": "Exports",
          "partner_type": "colonies",
          "port": "Marseille",
          "product": "Rubanerie et passementerie de soie",
          "value": 155012
         },
         {
          "importsexports": "Exports",
          "partner_type": "colonies",
          "port": "Marseille",
          "product": "Soie",
          "value": 2312
         },
         {
          "importsexports": "Exports",
          "partner_type": "colonies",
          "port": "Marseille",
          "product": "Mousseline, basin et nankin",
          "value": 886250
         },
         {
          "importsexports": "Exports",
          "partner_type": "colonies",
          "port": "Marseille",
          "product": "Toiles diverses",
          "value": 38074
         },
         {
          "importsexports": "Exports",
          "partner_type": "colonies",
          "port": "Marseille",
          "product": "Verrerie",
          "value": 51630
         },
         {
          "importsexports": "Exports",
          "partner_type": "colonies",
          "port": "Marseille",
          "product": "Bière, cidre et vinaigre",
          "value": 1533
         },
         {
          "importsexports": "Exports",
          "partner_type": "colonies",
          "port": "Marseille",
          "product": "Matières premières diverses",
          "value": 5659
         },
         {
          "importsexports": "Exports",
          "partner_type": "colonies",
          "port": "Marseille",
          "product": "Fruits secs et noix",
          "value": 163812
         },
         {
          "importsexports": "Exports",
          "partner_type": "colonies",
          "port": "Marseille",
          "product": "Bois divers hors combustible",
          "value": 4028
         },
         {
          "importsexports": "Imports",
          "partner_type": "colonies",
          "port": "Marseille",
          "product": "Bois divers hors combustible",
          "value": 37492
         },
         {
          "importsexports": "Exports",
          "partner_type": "colonies",
          "port": "Marseille",
          "product": "Matières brutes et transformées pour teinture",
          "value": 8089
         },
         {
          "importsexports": "Imports",
          "partner_type": "colonies",
          "port": "Marseille",
          "product": "Matières brutes et transformées pour teinture",
          "value": 38976
         },
         {
          "importsexports": "Exports",
          "partner_type": "colonies",
          "port": "Marseille",
          "product": "Brai, goudron et résines",
          "value": 2485
         },
         {
          "importsexports": "Exports",
          "partner_type": "colonies",
          "port": "Marseille",
          "product": "Drogues diverses",
          "value": 39632
         },
         {
          "importsexports": "Exports",
          "partner_type": "colonies",
          "port": "Marseille",
          "product": "Chairs et œufs",
          "value": 225356
         },
         {
          "importsexports": "Exports",
          "partner_type": "colonies",
          "port": "Marseille",
          "product": "Subsistances diverses et mélangées",
          "value": 129131
         },
         {
          "importsexports": "Imports",
          "partner_type": "colonies",
          "port": "Marseille",
          "product": "Subsistances diverses et mélangées",
          "value": 5958
         },
         {
          "importsexports": "Exports",
          "partner_type": "colonies",
          "port": "Marseille",
          "product": "Chapeaux d'écorce et de paille",
          "value": 4356
         },
         {
          "importsexports": "Exports",
          "partner_type": "colonies",
          "port": "Marseille",
          "product": "Bougies, chandelles et flambeaux",
          "value": 1405697
         },
         {
          "importsexports": "Exports",
          "partner_type": "colonies",
          "port": "Marseille",
          "product": "Colles diverses",
          "value": 396
         },
         {
          "importsexports": "Exports",
          "partner_type": "colonies",
          "port": "Marseille",
          "product": "Cordage et filets",
          "value": 57642
         },
         {
          "importsexports": "Exports",
          "partner_type": "colonies",
          "port": "Marseille",
          "product": "Cuirs, peaux et pelleterie",
          "value": 209864
         },
         {
          "importsexports": "Imports",
          "partner_type": "colonies",
          "port": "Marseille",
          "product": "Cuirs, peaux et pelleterie",
          "value": 299730
         },
         {
          "importsexports": "Exports",
          "partner_type": "colonies",
          "port": "Marseille",
          "product": "Parfumerie et toilette",
          "value": 16831
         },
         {
          "importsexports": "Exports",
          "partner_type": "colonies",
          "port": "Marseille",
          "product": "Gommes diverses",
          "value": 2320
         },
         {
          "importsexports": "Exports",
          "partner_type": "colonies",
          "port": "Marseille",
          "product": "Manne et médicaments",
          "value": 61007
         },
         {
          "importsexports": "Exports",
          "partner_type": "colonies",
          "port": "Marseille",
          "product": "Quinquina",
          "value": 38332
         },
         {
          "importsexports": "Exports",
          "partner_type": "colonies",
          "port": "Marseille",
          "product": "Safran",
          "value": 1392
         },
         {
          "importsexports": "Exports",
          "partner_type": "colonies",
          "port": "Marseille",
          "product": "Salsepareille",
          "value": 57848
         },
         {
          "importsexports": "Exports",
          "partner_type": "colonies",
          "port": "Marseille",
          "product": "Séné",
          "value": 7075
         },
         {
          "importsexports": "Exports",
          "partner_type": "colonies",
          "port": "Marseille",
          "product": "Réglisse",
          "value": 265
         },
         {
          "importsexports": "Exports",
          "partner_type": "colonies",
          "port": "Marseille",
          "product": "Alun",
          "value": 275
         },
         {
          "importsexports": "Exports",
          "partner_type": "colonies",
          "port": "Marseille",
          "product": "Alquifoux, mine de plomb et graphite",
          "value": 177
         },
         {
          "importsexports": "Exports",
          "partner_type": "colonies",
          "port": "Marseille",
          "product": "Céruse et blanc de plomb",
          "value": 2094
         },
         {
          "importsexports": "Exports",
          "partner_type": "colonies",
          "port": "Marseille",
          "product": "Cochenille",
          "value": 240
         },
         {
          "importsexports": "Exports",
          "partner_type": "colonies",
          "port": "Marseille",
          "product": "Galle",
          "value": 419
         },
         {
          "importsexports": "Exports",
          "partner_type": "colonies",
          "port": "Marseille",
          "product": "Verdet",
          "value": 482
         },
         {
          "importsexports": "Exports",
          "partner_type": "colonies",
          "port": "Marseille",
          "product": "Eaux-de-vie et liqueurs",
          "value": 236751
         },
         {
          "importsexports": "Imports",
          "partner_type": "colonies",
          "port": "Marseille",
          "product": "Eaux-de-vie et liqueurs",
          "value": 55403
         },
         {
          "importsexports": "Imports",
          "partner_type": "colonies",
          "port": "Marseille",
          "product": "Cornes, corail, écailles, ivoire et nacre",
          "value": 9996
         },
         {
          "importsexports": "Exports",
          "partner_type": "colonies",
          "port": "Marseille",
          "product": "Cannelle",
          "value": 11940
         },
         {
          "importsexports": "Exports",
          "partner_type": "colonies",
          "port": "Marseille",
          "product": "Girofle",
          "value": 6252
         },
         {
          "importsexports": "Exports",
          "partner_type": "colonies",
          "port": "Marseille",
          "product": "Poivre et piment",
          "value": 33242
         },
         {
          "importsexports": "Exports",
          "partner_type": "colonies",
          "port": "Marseille",
          "product": "Farine, gruau, biscuits et pâtes",
          "value": 127578
         },
         {
          "importsexports": "Exports",
          "partner_type": "colonies",
          "port": "Marseille",
          "product": "Bâtiments de mer et apparaux",
          "value": 5917
         },
         {
          "importsexports": "Exports",
          "partner_type": "colonies",
          "port": "Marseille",
          "product": "Fer-blanc",
          "value": 830
         },
         {
          "importsexports": "Exports",
          "partner_type": "colonies",
          "port": "Marseille",
          "product": "Fromage",
          "value": 291479
         },
         {
          "importsexports": "Exports",
          "partner_type": "colonies",
          "port": "Marseille",
          "product": "Fruits frais",
          "value": 48910
         },
         {
          "importsexports": "Exports",
          "partner_type": "colonies",
          "port": "Marseille",
          "product": "Blé et autres grains comestibles",
          "value": 7066
         },
         {
          "importsexports": "Exports",
          "partner_type": "colonies",
          "port": "Marseille",
          "product": "Riz",
          "value": 65521
         },
         {
          "importsexports": "Exports",
          "partner_type": "colonies",
          "port": "Marseille",
          "product": "Graines diverses et mélangées",
          "value": 7277
         },
         {
          "importsexports": "Exports",
          "partner_type": "colonies",
          "port": "Marseille",
          "product": "Graines de jardin",
          "value": 1698
         },
         {
          "importsexports": "Exports",
          "partner_type": "colonies",
          "port": "Marseille",
          "product": "Huiles diverses",
          "value": 378
         },
         {
          "importsexports": "Exports",
          "partner_type": "colonies",
          "port": "Marseille",
          "product": "Huile d'olive à manger",
          "value": 856930
         },
         {
          "importsexports": "Exports",
          "partner_type": "colonies",
          "port": "Marseille",
          "product": "Huile de poisson",
          "value": 140
         },
         {
          "importsexports": "Exports",
          "partner_type": "colonies",
          "port": "Marseille",
          "product": "Laines non transformées diverses",
          "value": 33128
         },
         {
          "importsexports": "Exports",
          "partner_type": "colonies",
          "port": "Marseille",
          "product": "Légumes",
          "value": 78607
         },
         {
          "importsexports": "Exports",
          "partner_type": "colonies",
          "port": "Marseille",
          "product": "Bouchons principalement en liège",
          "value": 49414
         },
         {
          "importsexports": "Exports",
          "partner_type": "colonies",
          "port": "Marseille",
          "product": "Marbre brut et ouvré",
          "value": 59646
         },
         {
          "importsexports": "Exports",
          "partner_type": "colonies",
          "port": "Marseille",
          "product": "Miel",
          "value": 282
         },
         {
          "importsexports": "Exports",
          "partner_type": "colonies",
          "port": "Marseille",
          "product": "Savon",
          "value": 1466356
         },
         {
          "importsexports": "Exports",
          "partner_type": "colonies",
          "port": "Marseille",
          "product": "Plumes ouvrées",
          "value": 5505
         },
         {
          "importsexports": "Exports",
          "partner_type": "colonies",
          "port": "Marseille",
          "product": "Pêche et fruits de mer",
          "value": 57421
         },
         {
          "importsexports": "Exports",
          "partner_type": "colonies",
          "port": "Marseille",
          "product": "Salpêtre et soufre",
          "value": 1124
         },
         {
          "importsexports": "Exports",
          "partner_type": "colonies",
          "port": "Marseille",
          "product": "Graisses diverses",
          "value": 98309
         },
         {
          "importsexports": "Imports",
          "partner_type": "colonies",
          "port": "Marseille",
          "product": "Tabac",
          "value": 19965
         },
         {
          "importsexports": "Exports",
          "partner_type": "colonies",
          "port": "Marseille",
          "product": "Vins divers",
          "value": 1226923
         },
         {
          "importsexports": "Exports",
          "partner_type": "colonies",
          "port": "Marseille",
          "product": "Poils et crin",
          "value": 40169
         },
         {
          "importsexports": "Exports",
          "partner_type": "colonies",
          "port": "Marseille",
          "product": "Mercure",
          "value": 1689
         },
         {
          "importsexports": "Exports",
          "partner_type": "colonies",
          "port": "Marseille",
          "product": "Sels chimiques",
          "value": 7846
         },
         {
          "importsexports": "Exports",
          "partner_type": "colonies",
          "port": "Marseille",
          "product": "Muscades",
          "value": 1155
         },
         {
          "importsexports": "Exports",
          "partner_type": "colonies",
          "port": "Marseille",
          "product": "Graines grasses",
          "value": 145
         },
         {
          "importsexports": "Exports",
          "partner_type": "colonies",
          "port": "Marseille",
          "product": "Sirop et mélasse",
          "value": 34554
         },
         {
          "importsexports": "Imports",
          "partner_type": "colonies",
          "port": "Marseille",
          "product": "Sirop et mélasse",
          "value": 3474
         },
         {
          "importsexports": "Exports",
          "partner_type": "colonies",
          "port": "Marseille",
          "product": "Monnaies et métaux précieux",
          "value": 36989
         },
         {
          "importsexports": "Exports",
          "partner_type": "colonies",
          "port": "Marseille",
          "product": "Cordonnerie et sellerie",
          "value": 866754
         },
         {
          "importsexports": "Exports",
          "partner_type": "colonies",
          "port": "Marseille",
          "product": "Divers incertains",
          "value": 1660684
         },
         {
          "importsexports": "Exports",
          "partner_type": "Monde",
          "port": "Marseille",
          "product": "Cacao et chocolat",
          "value": 196188.600018
         },
         {
          "importsexports": "Imports",
          "partner_type": "Monde",
          "port": "Marseille",
          "product": "Cacao et chocolat",
          "value": 125262.99799475001
         },
         {
          "importsexports": "Exports",
          "partner_type": "Monde",
          "port": "Marseille",
          "product": "Café",
          "value": 10338559
         },
         {
          "importsexports": "Imports",
          "partner_type": "Monde",
          "port": "Marseille",
          "product": "Café",
          "value": 466215.2
         },
         {
          "importsexports": "Exports",
          "partner_type": "Monde",
          "port": "Marseille",
          "product": "Coton non transformé",
          "value": 449563.70104
         },
         {
          "importsexports": "Imports",
          "partner_type": "Monde",
          "port": "Marseille",
          "product": "Coton non transformé",
          "value": 8103817
         },
         {
          "importsexports": "Exports",
          "partner_type": "Monde",
          "port": "Marseille",
          "product": "Denrées coloniales et épiceries diverses",
          "value": 278137.64996701
         },
         {
          "importsexports": "Imports",
          "partner_type": "Monde",
          "port": "Marseille",
          "product": "Denrées coloniales et épiceries diverses",
          "value": 8389.900062
         },
         {
          "importsexports": "Exports",
          "partner_type": "Monde",
          "port": "Marseille",
          "product": "Indigo",
          "value": 1879838
         },
         {
          "importsexports": "Imports",
          "partner_type": "Monde",
          "port": "Marseille",
          "product": "Indigo",
          "value": 1258750.25
         },
         {
          "importsexports": "Exports",
          "partner_type": "Monde",
          "port": "Marseille",
          "product": "Rocou",
          "value": 38674
         },
         {
          "importsexports": "Imports",
          "partner_type": "Monde",
          "port": "Marseille",
          "product": "Rocou",
          "value": 3162.5
         },
         {
          "importsexports": "Exports",
          "partner_type": "Monde",
          "port": "Marseille",
          "product": "Sucre",
          "value": 12200117.3999885
         },
         {
          "importsexports": "Exports",
          "partner_type": "Monde",
          "port": "Marseille",
          "product": "Armes, munitions, poudre et pierres à fusil",
          "value": 15486.799799999999
         },
         {
          "importsexports": "Exports",
          "partner_type": "Monde",
          "port": "Marseille",
          "product": "Bijouterie et pierres fines",
          "value": 9800
         },
         {
          "importsexports": "Imports",
          "partner_type": "Monde",
          "port": "Marseille",
          "product": "Bijouterie et pierres fines",
          "value": 99178.5
         },
         {
          "importsexports": "Exports",
          "partner_type": "Monde",
          "port": "Marseille",
          "product": "Habits et lingerie",
          "value": 11103.599952
         },
         {
          "importsexports": "Imports",
          "partner_type": "Monde",
          "port": "Marseille",
          "product": "Habits et lingerie",
          "value": 89582.251735
         },
         {
          "importsexports": "Exports",
          "partner_type": "Monde",
          "port": "Marseille",
          "product": "Bonneterie hors soie",
          "value": 564164
         },
         {
          "importsexports": "Imports",
          "partner_type": "Monde",
          "port": "Marseille",
          "product": "Bonneterie hors soie",
          "value": 18946.199969
         },
         {
          "importsexports": "Exports",
          "partner_type": "Monde",
          "port": "Marseille",
          "product": "Soieries diverses",
          "value": 2205
         },
         {
          "importsexports": "Imports",
          "partner_type": "Monde",
          "port": "Marseille",
          "product": "Soieries diverses",
          "value": 3864951
         },
         {
          "importsexports": "Exports",
          "partner_type": "Monde",
          "port": "Marseille",
          "product": "Chapeaux hors paille et écorce",
          "value": 222120
         },
         {
          "importsexports": "Exports",
          "partner_type": "Monde",
          "port": "Marseille",
          "product": "Étoffes de laine",
          "value": 11418622.097937202
         },
         {
          "importsexports": "Imports",
          "partner_type": "Monde",
          "port": "Marseille",
          "product": "Étoffes de laine",
          "value": 5056473.5901420005
         },
         {
          "importsexports": "Imports",
          "partner_type": "Monde",
          "port": "Marseille",
          "product": "Dentelles",
          "value": 600
         },
         {
          "importsexports": "Exports",
          "partner_type": "Monde",
          "port": "Marseille",
          "product": "Dorure",
          "value": 211565
         },
         {
          "importsexports": "Exports",
          "partner_type": "Monde",
          "port": "Marseille",
          "product": "Toiles de chanvre et de lin",
          "value": 821258.9937
         },
         {
          "importsexports": "Imports",
          "partner_type": "Monde",
          "port": "Marseille",
          "product": "Toiles de chanvre et de lin",
          "value": 694781.6090200001
         },
         {
          "importsexports": "Exports",
          "partner_type": "Monde",
          "port": "Marseille",
          "product": "Drogues médicinales diverses",
          "value": 34876.700054
         },
         {
          "importsexports": "Imports",
          "partner_type": "Monde",
          "port": "Marseille",
          "product": "Drogues médicinales diverses",
          "value": 80989.79970750002
         },
         {
          "importsexports": "Exports",
          "partner_type": "Monde",
          "port": "Marseille",
          "product": "Étain",
          "value": 168184.79981199998
         },
         {
          "importsexports": "Imports",
          "partner_type": "Monde",
          "port": "Marseille",
          "product": "Étain",
          "value": 117814.99
         },
         {
          "importsexports": "Exports",
          "partner_type": "Monde",
          "port": "Marseille",
          "product": "Étoffes diverses",
          "value": 161390.102059
         },
         {
          "importsexports": "Imports",
          "partner_type": "Monde",
          "port": "Marseille",
          "product": "Étoffes diverses",
          "value": 347916
         },
         {
          "importsexports": "Imports",
          "partner_type": "Monde",
          "port": "Marseille",
          "product": "Textiles manufacturés divers et mélangés",
          "value": 7988
         },
         {
          "importsexports": "Exports",
          "partner_type": "Monde",
          "port": "Marseille",
          "product": "Toiles de coton",
          "value": 283385.50632000004
         },
         {
          "importsexports": "Imports",
          "partner_type": "Monde",
          "port": "Marseille",
          "product": "Toiles de coton",
          "value": 408936.8
         },
         {
          "importsexports": "Exports",
          "partner_type": "Monde",
          "port": "Marseille",
          "product": "Étoffes de soie",
          "value": 2862414
         },
         {
          "importsexports": "Imports",
          "partner_type": "Monde",
          "port": "Marseille",
          "product": "Étoffes de soie",
          "value": 159800
         },
         {
          "importsexports": "Exports",
          "partner_type": "Monde",
          "port": "Marseille",
          "product": "Fer",
          "value": 9985.279999999999
         },
         {
          "importsexports": "Imports",
          "partner_type": "Monde",
          "port": "Marseille",
          "product": "Fer",
          "value": 19013.11944
         },
         {
          "importsexports": "Exports",
          "partner_type": "Monde",
          "port": "Marseille",
          "product": "Fils divers",
          "value": 3292143.419804
         },
         {
          "importsexports": "Imports",
          "partner_type": "Monde",
          "port": "Marseille",
          "product": "Fils divers",
          "value": 6568105.2019956
         },
         {
          "importsexports": "Exports",
          "partner_type": "Monde",
          "port": "Marseille",
          "product": "Meubles, glaces et miroirs",
          "value": 7956
         },
         {
          "importsexports": "Exports",
          "partner_type": "Monde",
          "port": "Marseille",
          "product": "Ouvrages divers et mélangés",
          "value": 78687.8300806
         },
         {
          "importsexports": "Imports",
          "partner_type": "Monde",
          "port": "Marseille",
          "product": "Ouvrages divers et mélangés",
          "value": 137180.67475
         },
         {
          "importsexports": "Exports",
          "partner_type": "Monde",
          "port": "Marseille",
          "product": "Horlogerie",
          "value": 21462
         },
         {
          "importsexports": "Imports",
          "partner_type": "Monde",
          "port": "Marseille",
          "product": "Horlogerie",
          "value": 54765
         },
         {
          "importsexports": "Exports",
          "partner_type": "Monde",
          "port": "Marseille",
          "product": "Librairie",
          "value": 175835.9976528
         },
         {
          "importsexports": "Imports",
          "partner_type": "Monde",
          "port": "Marseille",
          "product": "Librairie",
          "value": 15068
         },
         {
          "importsexports": "Exports",
          "partner_type": "Monde",
          "port": "Marseille",
          "product": "Mercerie",
          "value": 877223.550605
         },
         {
          "importsexports": "Imports",
          "partner_type": "Monde",
          "port": "Marseille",
          "product": "Mercerie",
          "value": 199737.99842879997
         },
         {
          "importsexports": "Exports",
          "partner_type": "Monde",
          "port": "Marseille",
          "product": "Châles et mouchoirs de soie",
          "value": 82035
         },
         {
          "importsexports": "Imports",
          "partner_type": "Monde",
          "port": "Marseille",
          "product": "Châles et mouchoirs de soie",
          "value": 61204
         },
         {
          "importsexports": "Exports",
          "partner_type": "Monde",
          "port": "Marseille",
          "product": "Argenterie et orfèvrerie",
          "value": 3008
         },
         {
          "importsexports": "Imports",
          "partner_type": "Monde",
          "port": "Marseille",
          "product": "Argenterie et orfèvrerie",
          "value": 6912
         },
         {
          "importsexports": "Exports",
          "partner_type": "Monde",
          "port": "Marseille",
          "product": "Ouvrages de bois, liège et jonc",
          "value": 109704.38996400002
         },
         {
          "importsexports": "Imports",
          "partner_type": "Monde",
          "port": "Marseille",
          "product": "Ouvrages de bois, liège et jonc",
          "value": 884729.9085799999
         },
         {
          "importsexports": "Exports",
          "partner_type": "Monde",
          "port": "Marseille",
          "product": "Ouvrages métalliques",
          "value": 1232755.9719470001
         },
         {
          "importsexports": "Imports",
          "partner_type": "Monde",
          "port": "Marseille",
          "product": "Ouvrages métalliques",
          "value": 2729927.1041840003
         },
         {
          "importsexports": "Exports",
          "partner_type": "Monde",
          "port": "Marseille",
          "product": "Papier",
          "value": 271942.50025
         },
         {
          "importsexports": "Imports",
          "partner_type": "Monde",
          "port": "Marseille",
          "product": "Papier",
          "value": 17159
         },
         {
          "importsexports": "Exports",
          "partner_type": "Monde",
          "port": "Marseille",
          "product": "Divers mélangés",
          "value": 621
         },
         {
          "importsexports": "Imports",
          "partner_type": "Monde",
          "port": "Marseille",
          "product": "Divers mélangés",
          "value": 5668.489906
         },
         {
          "importsexports": "Imports",
          "partner_type": "Monde",
          "port": "Marseille",
          "product": "Plumes brutes",
          "value": 10574.19972
         },
         {
          "importsexports": "Exports",
          "partner_type": "Monde",
          "port": "Marseille",
          "product": "Porcelaine, poterie, faïence et ouvrages de terre",
          "value": 51911.69018360001
         },
         {
          "importsexports": "Imports",
          "partner_type": "Monde",
          "port": "Marseille",
          "product": "Porcelaine, poterie, faïence et ouvrages de terre",
          "value": 163355.91595818
         },
         {
          "importsexports": "Exports",
          "partner_type": "Monde",
          "port": "Marseille",
          "product": "Quincaillerie",
          "value": 277272.302915
         },
         {
          "importsexports": "Imports",
          "partner_type": "Monde",
          "port": "Marseille",
          "product": "Quincaillerie",
          "value": 142751.59100000001
         },
         {
          "importsexports": "Exports",
          "partner_type": "Monde",
          "port": "Marseille",
          "product": "Rubanerie et passementerie diverse",
          "value": 1317
         },
         {
          "importsexports": "Imports",
          "partner_type": "Monde",
          "port": "Marseille",
          "product": "Rubanerie et passementerie diverse",
          "value": 17817.5
         },
         {
          "importsexports": "Exports",
          "partner_type": "Monde",
          "port": "Marseille",
          "product": "Rubanerie et passementerie de soie",
          "value": 161250
         },
         {
          "importsexports": "Imports",
          "partner_type": "Monde",
          "port": "Marseille",
          "product": "Rubanerie et passementerie de soie",
          "value": 95080
         },
         {
          "importsexports": "Exports",
          "partner_type": "Monde",
          "port": "Marseille",
          "product": "Soie",
          "value": 640244
         },
         {
          "importsexports": "Imports",
          "partner_type": "Monde",
          "port": "Marseille",
          "product": "Soie",
          "value": 4655569
         },
         {
          "importsexports": "Exports",
          "partner_type": "Monde",
          "port": "Marseille",
          "product": "Toiles diverses",
          "value": 22783.439784000002
         },
         {
          "importsexports": "Imports",
          "partner_type": "Monde",
          "port": "Marseille",
          "product": "Toiles diverses",
          "value": 468640.4
         },
         {
          "importsexports": "Exports",
          "partner_type": "Monde",
          "port": "Marseille",
          "product": "Verrerie",
          "value": 42857.70003
         },
         {
          "importsexports": "Imports",
          "partner_type": "Monde",
          "port": "Marseille",
          "product": "Verrerie",
          "value": 26139.619339999997
         },
         {
          "importsexports": "Exports",
          "partner_type": "Monde",
          "port": "Marseille",
          "product": "Bière, cidre et vinaigre",
          "value": 6002.89011
         },
         {
          "importsexports": "Imports",
          "partner_type": "Monde",
          "port": "Marseille",
          "product": "Bière, cidre et vinaigre",
          "value": 10454.00015
         },
         {
          "importsexports": "Exports",
          "partner_type": "Monde",
          "port": "Marseille",
          "product": "Acier",
          "value": 8881.80006
         },
         {
          "importsexports": "Imports",
          "partner_type": "Monde",
          "port": "Marseille",
          "product": "Acier",
          "value": 39224.930810000005
         },
         {
          "importsexports": "Exports",
          "partner_type": "Monde",
          "port": "Marseille",
          "product": "Matières premières diverses",
          "value": 37475.5301435
         },
         {
          "importsexports": "Imports",
          "partner_type": "Monde",
          "port": "Marseille",
          "product": "Matières premières diverses",
          "value": 380614.91541979957
         },
         {
          "importsexports": "Exports",
          "partner_type": "Monde",
          "port": "Marseille",
          "product": "Fruits secs et noix",
          "value": 787772.7802889998
         },
         {
          "importsexports": "Imports",
          "partner_type": "Monde",
          "port": "Marseille",
          "product": "Fruits secs et noix",
          "value": 333428.077204
         },
         {
          "importsexports": "Exports",
          "partner_type": "Monde",
          "port": "Marseille",
          "product": "Beurre",
          "value": 6665.75013
         },
         {
          "importsexports": "Imports",
          "partner_type": "Monde",
          "port": "Marseille",
          "product": "Beurre",
          "value": 2968.199988
         },
         {
          "importsexports": "Exports",
          "partner_type": "Monde",
          "port": "Marseille",
          "product": "Bois divers hors combustible",
          "value": 14103.470012
         },
         {
          "importsexports": "Imports",
          "partner_type": "Monde",
          "port": "Marseille",
          "product": "Bois divers hors combustible",
          "value": 39321.310604
         },
         {
          "importsexports": "Exports",
          "partner_type": "Monde",
          "port": "Marseille",
          "product": "Bois des Indes",
          "value": 1719
         },
         {
          "importsexports": "Imports",
          "partner_type": "Monde",
          "port": "Marseille",
          "product": "Bois des Indes",
          "value": 22766.130026
         },
         {
          "importsexports": "Exports",
          "partner_type": "Monde",
          "port": "Marseille",
          "product": "Matières brutes et transformées pour teinture",
          "value": 549525.410595
         },
         {
          "importsexports": "Imports",
          "partner_type": "Monde",
          "port": "Marseille",
          "product": "Matières brutes et transformées pour teinture",
          "value": 483081.9210750001
         },
         {
          "importsexports": "Exports",
          "partner_type": "Monde",
          "port": "Marseille",
          "product": "Bonneterie de soie",
          "value": 477216
         },
         {
          "importsexports": "Exports",
          "partner_type": "Monde",
          "port": "Marseille",
          "product": "Filoselle, fleuret et bourre de soie",
          "value": 5025
         },
         {
          "importsexports": "Imports",
          "partner_type": "Monde",
          "port": "Marseille",
          "product": "Filoselle, fleuret et bourre de soie",
          "value": 5706
         },
         {
          "importsexports": "Exports",
          "partner_type": "Monde",
          "port": "Marseille",
          "product": "Brai, goudron et résines",
          "value": 67269.31982
         },
         {
          "importsexports": "Imports",
          "partner_type": "Monde",
          "port": "Marseille",
          "product": "Brai, goudron et résines",
          "value": 142509.41787
         },
         {
          "importsexports": "Exports",
          "partner_type": "Monde",
          "port": "Marseille",
          "product": "Drogues diverses",
          "value": 526648.0238910001
         },
         {
          "importsexports": "Imports",
          "partner_type": "Monde",
          "port": "Marseille",
          "product": "Drogues diverses",
          "value": 626064.4102335
         },
         {
          "importsexports": "Exports",
          "partner_type": "Monde",
          "port": "Marseille",
          "product": "Cendres diverses",
          "value": 92083.00011000001
         },
         {
          "importsexports": "Imports",
          "partner_type": "Monde",
          "port": "Marseille",
          "product": "Cendres diverses",
          "value": 1763700.61919
         },
         {
          "importsexports": "Exports",
          "partner_type": "Monde",
          "port": "Marseille",
          "product": "Gravelée, potasse et védasse",
          "value": 74158.5
         },
         {
          "importsexports": "Imports",
          "partner_type": "Monde",
          "port": "Marseille",
          "product": "Gravelée, potasse et védasse",
          "value": 344167.88
         },
         {
          "importsexports": "Imports",
          "partner_type": "Monde",
          "port": "Marseille",
          "product": "Alcalis",
          "value": 1404790.97632
         },
         {
          "importsexports": "Exports",
          "partner_type": "Monde",
          "port": "Marseille",
          "product": "Chairs et œufs",
          "value": 9812.649815
         },
         {
          "importsexports": "Imports",
          "partner_type": "Monde",
          "port": "Marseille",
          "product": "Chairs et œufs",
          "value": 27443.6105618
         },
         {
          "importsexports": "Exports",
          "partner_type": "Monde",
          "port": "Marseille",
          "product": "Subsistances diverses et mélangées",
          "value": 84118.539712
         },
         {
          "importsexports": "Imports",
          "partner_type": "Monde",
          "port": "Marseille",
          "product": "Subsistances diverses et mélangées",
          "value": 93067.24097117
         },
         {
          "importsexports": "Exports",
          "partner_type": "Monde",
          "port": "Marseille",
          "product": "Chanvre",
          "value": 249203.39177499997
         },
         {
          "importsexports": "Imports",
          "partner_type": "Monde",
          "port": "Marseille",
          "product": "Chanvre",
          "value": 1624047.255225
         },
         {
          "importsexports": "Exports",
          "partner_type": "Monde",
          "port": "Marseille",
          "product": "Chapeaux d'écorce et de paille",
          "value": 2160
         },
         {
          "importsexports": "Imports",
          "partner_type": "Monde",
          "port": "Marseille",
          "product": "Chapeaux d'écorce et de paille",
          "value": 15740.300544
         },
         {
          "importsexports": "Exports",
          "partner_type": "Monde",
          "port": "Marseille",
          "product": "Combustibles dont charbons et bois",
          "value": 7879
         },
         {
          "importsexports": "Imports",
          "partner_type": "Monde",
          "port": "Marseille",
          "product": "Combustibles dont charbons et bois",
          "value": 136788.59797499998
         },
         {
          "importsexports": "Exports",
          "partner_type": "Monde",
          "port": "Marseille",
          "product": "Bougies, chandelles et flambeaux",
          "value": 48359.50115000001
         },
         {
          "importsexports": "Imports",
          "partner_type": "Monde",
          "port": "Marseille",
          "product": "Bougies, chandelles et flambeaux",
          "value": 7022.949901
         },
         {
          "importsexports": "Exports",
          "partner_type": "Monde",
          "port": "Marseille",
          "product": "Cire",
          "value": 835037.376284
         },
         {
          "importsexports": "Imports",
          "partner_type": "Monde",
          "port": "Marseille",
          "product": "Cire",
          "value": 740468.117086
         },
         {
          "importsexports": "Exports",
          "partner_type": "Monde",
          "port": "Marseille",
          "product": "Colles diverses",
          "value": 8906.9198592
         },
         {
          "importsexports": "Imports",
          "partner_type": "Monde",
          "port": "Marseille",
          "product": "Colles diverses",
          "value": 35779.88123
         },
         {
          "importsexports": "Exports",
          "partner_type": "Monde",
          "port": "Marseille",
          "product": "Cordage et filets",
          "value": 39869.38039005
         },
         {
          "importsexports": "Imports",
          "partner_type": "Monde",
          "port": "Marseille",
          "product": "Cordage et filets",
          "value": 76746.49945
         },
         {
          "importsexports": "Exports",
          "partner_type": "Monde",
          "port": "Marseille",
          "product": "Produits inconnus",
          "value": 1753.499925
         },
         {
          "importsexports": "Exports",
          "partner_type": "Monde",
          "port": "Marseille",
          "product": "Cuirs, peaux et pelleterie",
          "value": 811221.1462857
         },
         {
          "importsexports": "Imports",
          "partner_type": "Monde",
          "port": "Marseille",
          "product": "Cuirs, peaux et pelleterie",
          "value": 2922917.9605372
         },
         {
          "importsexports": "Exports",
          "partner_type": "Monde",
          "port": "Marseille",
          "product": "Cuivre",
          "value": 103163.64829999999
         },
         {
          "importsexports": "Imports",
          "partner_type": "Monde",
          "port": "Marseille",
          "product": "Cuivre",
          "value": 1240159.05
         },
         {
          "importsexports": "Exports",
          "partner_type": "Monde",
          "port": "Marseille",
          "product": "Parfumerie et toilette",
          "value": 317575.700056
         },
         {
          "importsexports": "Imports",
          "partner_type": "Monde",
          "port": "Marseille",
          "product": "Parfumerie et toilette",
          "value": 153631.897653
         },
         {
          "importsexports": "Exports",
          "partner_type": "Monde",
          "port": "Marseille",
          "product": "Gommes diverses",
          "value": 228042.750815
         },
         {
          "importsexports": "Imports",
          "partner_type": "Monde",
          "port": "Marseille",
          "product": "Gommes diverses",
          "value": 834691.2976
         },
         {
          "importsexports": "Exports",
          "partner_type": "Monde",
          "port": "Marseille",
          "product": "Manne et médicaments",
          "value": 80288.55135
         },
         {
          "importsexports": "Imports",
          "partner_type": "Monde",
          "port": "Marseille",
          "product": "Manne et médicaments",
          "value": 270478.99875
         },
         {
          "importsexports": "Exports",
          "partner_type": "Monde",
          "port": "Marseille",
          "product": "Quinquina",
          "value": 55762.5
         },
         {
          "importsexports": "Imports",
          "partner_type": "Monde",
          "port": "Marseille",
          "product": "Quinquina",
          "value": 61586
         },
         {
          "importsexports": "Exports",
          "partner_type": "Monde",
          "port": "Marseille",
          "product": "Safran",
          "value": 62857.75064175
         },
         {
          "importsexports": "Imports",
          "partner_type": "Monde",
          "port": "Marseille",
          "product": "Safran",
          "value": 486699.28945965995
         },
         {
          "importsexports": "Exports",
          "partner_type": "Monde",
          "port": "Marseille",
          "product": "Salsepareille",
          "value": 35665.00025
         },
         {
          "importsexports": "Imports",
          "partner_type": "Monde",
          "port": "Marseille",
          "product": "Salsepareille",
          "value": 196711.2072
         },
         {
          "importsexports": "Exports",
          "partner_type": "Monde",
          "port": "Marseille",
          "product": "Séné",
          "value": 46027.500875
         },
         {
          "importsexports": "Imports",
          "partner_type": "Monde",
          "port": "Marseille",
          "product": "Séné",
          "value": 304606.047501
         },
         {
          "importsexports": "Exports",
          "partner_type": "Monde",
          "port": "Marseille",
          "product": "Réglisse",
          "value": 103585
         },
         {
          "importsexports": "Imports",
          "partner_type": "Monde",
          "port": "Marseille",
          "product": "Réglisse",
          "value": 173172.78445500002
         },
         {
          "importsexports": "Exports",
          "partner_type": "Monde",
          "port": "Marseille",
          "product": "Alun",
          "value": 86868.3743125
         },
         {
          "importsexports": "Imports",
          "partner_type": "Monde",
          "port": "Marseille",
          "product": "Alun",
          "value": 230449.48621
         },
         {
          "importsexports": "Exports",
          "partner_type": "Monde",
          "port": "Marseille",
          "product": "Alquifoux, mine de plomb et graphite",
          "value": 72447.002575
         },
         {
          "importsexports": "Imports",
          "partner_type": "Monde",
          "port": "Marseille",
          "product": "Alquifoux, mine de plomb et graphite",
          "value": 89006.25099999999
         },
         {
          "importsexports": "Exports",
          "partner_type": "Monde",
          "port": "Marseille",
          "product": "Céruse et blanc de plomb",
          "value": 2399.7600220000004
         },
         {
          "importsexports": "Imports",
          "partner_type": "Monde",
          "port": "Marseille",
          "product": "Céruse et blanc de plomb",
          "value": 21850.8
         },
         {
          "importsexports": "Exports",
          "partner_type": "Monde",
          "port": "Marseille",
          "product": "Cochenille",
          "value": 1826664
         },
         {
          "importsexports": "Imports",
          "partner_type": "Monde",
          "port": "Marseille",
          "product": "Cochenille",
          "value": 2122500
         },
         {
          "importsexports": "Exports",
          "partner_type": "Monde",
          "port": "Marseille",
          "product": "Galle",
          "value": 118921.50138
         },
         {
          "importsexports": "Imports",
          "partner_type": "Monde",
          "port": "Marseille",
          "product": "Galle",
          "value": 939939
         },
         {
          "importsexports": "Exports",
          "partner_type": "Monde",
          "port": "Marseille",
          "product": "Garance",
          "value": 317139.082813
         },
         {
          "importsexports": "Imports",
          "partner_type": "Monde",
          "port": "Marseille",
          "product": "Garance",
          "value": 227133.00312
         },
         {
          "importsexports": "Exports",
          "partner_type": "Monde",
          "port": "Marseille",
          "product": "Verdet",
          "value": 233704.899948
         },
         {
          "importsexports": "Imports",
          "partner_type": "Monde",
          "port": "Marseille",
          "product": "Verdet",
          "value": 1353
         },
         {
          "importsexports": "Exports",
          "partner_type": "Monde",
          "port": "Marseille",
          "product": "Eaux-de-vie et liqueurs",
          "value": 360540.9891789
         },
         {
          "importsexports": "Imports",
          "partner_type": "Monde",
          "port": "Marseille",
          "product": "Eaux-de-vie et liqueurs",
          "value": 11654
         },
         {
          "importsexports": "Exports",
          "partner_type": "Monde",
          "port": "Marseille",
          "product": "Cornes, corail, écailles, ivoire et nacre",
          "value": 15998.749749999999
         },
         {
          "importsexports": "Imports",
          "partner_type": "Monde",
          "port": "Marseille",
          "product": "Cornes, corail, écailles, ivoire et nacre",
          "value": 31038.029888
         },
         {
          "importsexports": "Exports",
          "partner_type": "Monde",
          "port": "Marseille",
          "product": "Cannelle",
          "value": 42720
         },
         {
          "importsexports": "Imports",
          "partner_type": "Monde",
          "port": "Marseille",
          "product": "Cannelle",
          "value": 227614
         },
         {
          "importsexports": "Exports",
          "partner_type": "Monde",
          "port": "Marseille",
          "product": "Girofle",
          "value": 147180
         },
         {
          "importsexports": "Imports",
          "partner_type": "Monde",
          "port": "Marseille",
          "product": "Girofle",
          "value": 383394
         },
         {
          "importsexports": "Exports",
          "partner_type": "Monde",
          "port": "Marseille",
          "product": "Poivre et piment",
          "value": 318939.203104
         },
         {
          "importsexports": "Imports",
          "partner_type": "Monde",
          "port": "Marseille",
          "product": "Poivre et piment",
          "value": 1123298.2267190001
         },
         {
          "importsexports": "Exports",
          "partner_type": "Monde",
          "port": "Marseille",
          "product": "Farine, gruau, biscuits et pâtes",
          "value": 19188.349961
         },
         {
          "importsexports": "Imports",
          "partner_type": "Monde",
          "port": "Marseille",
          "product": "Farine, gruau, biscuits et pâtes",
          "value": 445031.28969599993
         },
         {
          "importsexports": "Exports",
          "partner_type": "Monde",
          "port": "Marseille",
          "product": "Bâtiments de mer et apparaux",
          "value": 1506.75
         },
         {
          "importsexports": "Imports",
          "partner_type": "Monde",
          "port": "Marseille",
          "product": "Bâtiments de mer et apparaux",
          "value": 32570.340088
         },
         {
          "importsexports": "Exports",
          "partner_type": "Monde",
          "port": "Marseille",
          "product": "Fer-blanc",
          "value": 32772.6
         },
         {
          "importsexports": "Imports",
          "partner_type": "Monde",
          "port": "Marseille",
          "product": "Fer-blanc",
          "value": 113026.6
         },
         {
          "importsexports": "Exports",
          "partner_type": "Monde",
          "port": "Marseille",
          "product": "Fromage",
          "value": 81120.5492055
         },
         {
          "importsexports": "Imports",
          "partner_type": "Monde",
          "port": "Marseille",
          "product": "Fromage",
          "value": 366042.755665
         },
         {
          "importsexports": "Exports",
          "partner_type": "Monde",
          "port": "Marseille",
          "product": "Fruits frais",
          "value": 17445.199943
         },
         {
          "importsexports": "Imports",
          "partner_type": "Monde",
          "port": "Marseille",
          "product": "Fruits frais",
          "value": 449393.7100875
         },
         {
          "importsexports": "Exports",
          "partner_type": "Monde",
          "port": "Marseille",
          "product": "Blé et autres grains comestibles",
          "value": 1345479.37
         },
         {
          "importsexports": "Imports",
          "partner_type": "Monde",
          "port": "Marseille",
          "product": "Blé et autres grains comestibles",
          "value": 12705418.801439999
         },
         {
          "importsexports": "Exports",
          "partner_type": "Monde",
          "port": "Marseille",
          "product": "Riz",
          "value": 177186.09999999998
         },
         {
          "importsexports": "Imports",
          "partner_type": "Monde",
          "port": "Marseille",
          "product": "Riz",
          "value": 1076381.77251
         },
         {
          "importsexports": "Exports",
          "partner_type": "Monde",
          "port": "Marseille",
          "product": "Graines diverses et mélangées",
          "value": 16828.749886
         },
         {
          "importsexports": "Imports",
          "partner_type": "Monde",
          "port": "Marseille",
          "product": "Graines diverses et mélangées",
          "value": 42549.549615
         },
         {
          "importsexports": "Exports",
          "partner_type": "Monde",
          "port": "Marseille",
          "product": "Graines de jardin",
          "value": 26443
         },
         {
          "importsexports": "Exports",
          "partner_type": "Monde",
          "port": "Marseille",
          "product": "Huiles diverses",
          "value": 326.36
         },
         {
          "importsexports": "Imports",
          "partner_type": "Monde",
          "port": "Marseille",
          "product": "Huiles diverses",
          "value": 19005678.949804
         },
         {
          "importsexports": "Exports",
          "partner_type": "Monde",
          "port": "Marseille",
          "product": "Huile d'olive à manger",
          "value": 1106722
         },
         {
          "importsexports": "Exports",
          "partner_type": "Monde",
          "port": "Marseille",
          "product": "Huile de poisson",
          "value": 3979.875
         },
         {
          "importsexports": "Exports",
          "partner_type": "Monde",
          "port": "Marseille",
          "product": "Boissons diverses et mélangées",
          "value": 180525.95784
         },
         {
          "importsexports": "Imports",
          "partner_type": "Monde",
          "port": "Marseille",
          "product": "Boissons diverses et mélangées",
          "value": 18645.879664
         },
         {
          "importsexports": "Exports",
          "partner_type": "Monde",
          "port": "Marseille",
          "product": "Laines non transformées diverses",
          "value": 885324.8654309999
         },
         {
          "importsexports": "Imports",
          "partner_type": "Monde",
          "port": "Marseille",
          "product": "Laines non transformées diverses",
          "value": 4006678.296806
         },
         {
          "importsexports": "Exports",
          "partner_type": "Monde",
          "port": "Marseille",
          "product": "Légumes",
          "value": 214014.18830499996
         },
         {
          "importsexports": "Imports",
          "partner_type": "Monde",
          "port": "Marseille",
          "product": "Légumes",
          "value": 427915.620114
         },
         {
          "importsexports": "Exports",
          "partner_type": "Monde",
          "port": "Marseille",
          "product": "Bouchons principalement en liège",
          "value": 15628.90035
         },
         {
          "importsexports": "Imports",
          "partner_type": "Monde",
          "port": "Marseille",
          "product": "Bouchons principalement en liège",
          "value": 16637.7009
         },
         {
          "importsexports": "Exports",
          "partner_type": "Monde",
          "port": "Marseille",
          "product": "Lin",
          "value": 3673.64981
         },
         {
          "importsexports": "Imports",
          "partner_type": "Monde",
          "port": "Marseille",
          "product": "Lin",
          "value": 2655
         },
         {
          "importsexports": "Exports",
          "partner_type": "Monde",
          "port": "Marseille",
          "product": "Marbre brut et ouvré",
          "value": 20916.48
         },
         {
          "importsexports": "Imports",
          "partner_type": "Monde",
          "port": "Marseille",
          "product": "Marbre brut et ouvré",
          "value": 386119.599918
         },
         {
          "importsexports": "Exports",
          "partner_type": "Monde",
          "port": "Marseille",
          "product": "Miel",
          "value": 13384.439694
         },
         {
          "importsexports": "Imports",
          "partner_type": "Monde",
          "port": "Marseille",
          "product": "Miel",
          "value": 611.700003
         },
         {
          "importsexports": "Exports",
          "partner_type": "Monde",
          "port": "Marseille",
          "product": "Savon",
          "value": 708541.99956
         },
         {
          "importsexports": "Imports",
          "partner_type": "Monde",
          "port": "Marseille",
          "product": "Savon",
          "value": 4941.9998
         },
         {
          "importsexports": "Exports",
          "partner_type": "Monde",
          "port": "Marseille",
          "product": "Plomb",
          "value": 2613
         },
         {
          "importsexports": "Imports",
          "partner_type": "Monde",
          "port": "Marseille",
          "product": "Plomb",
          "value": 65348
         },
         {
          "importsexports": "Exports",
          "partner_type": "Monde",
          "port": "Marseille",
          "product": "Plumes ouvrées",
          "value": 9500
         },
         {
          "importsexports": "Exports",
          "partner_type": "Monde",
          "port": "Marseille",
          "product": "Pêche et fruits de mer",
          "value": 1044601.1696899999
         },
         {
          "importsexports": "Imports",
          "partner_type": "Monde",
          "port": "Marseille",
          "product": "Pêche et fruits de mer",
          "value": 658123.07804
         },
         {
          "importsexports": "Exports",
          "partner_type": "Monde",
          "port": "Marseille",
          "product": "Salpêtre et soufre",
          "value": 167733.72615749997
         },
         {
          "importsexports": "Imports",
          "partner_type": "Monde",
          "port": "Marseille",
          "product": "Salpêtre et soufre",
          "value": 252549.151989
         },
         {
          "importsexports": "Exports",
          "partner_type": "Monde",
          "port": "Marseille",
          "product": "Graisses diverses",
          "value": 346.3199964
         },
         {
          "importsexports": "Imports",
          "partner_type": "Monde",
          "port": "Marseille",
          "product": "Graisses diverses",
          "value": 595291.5771379999
         },
         {
          "importsexports": "Exports",
          "partner_type": "Monde",
          "port": "Marseille",
          "product": "Tabac",
          "value": 148856.7983707
         },
         {
          "importsexports": "Imports",
          "partner_type": "Monde",
          "port": "Marseille",
          "product": "Tabac",
          "value": 335974.392
         },
         {
          "importsexports": "Exports",
          "partner_type": "Monde",
          "port": "Marseille",
          "product": "Thé",
          "value": 2155
         },
         {
          "importsexports": "Imports",
          "partner_type": "Monde",
          "port": "Marseille",
          "product": "Thé",
          "value": 13395
         },
         {
          "importsexports": "Exports",
          "partner_type": "Monde",
          "port": "Marseille",
          "product": "Vins divers",
          "value": 313982.72153603
         },
         {
          "importsexports": "Imports",
          "partner_type": "Monde",
          "port": "Marseille",
          "product": "Vins divers",
          "value": 142099.8034354
         },
         {
          "importsexports": "Exports",
          "partner_type": "Monde",
          "port": "Marseille",
          "product": "Vins de Bordeaux",
          "value": 10341.09985227
         },
         {
          "importsexports": "Imports",
          "partner_type": "Monde",
          "port": "Marseille",
          "product": "Poils et crin",
          "value": 55667.850189
         },
         {
          "importsexports": "Imports",
          "partner_type": "Monde",
          "port": "Marseille",
          "product": "Sels chimiques",
          "value": 33523.198704
         },
         {
          "importsexports": "Imports",
          "partner_type": "Monde",
          "port": "Marseille",
          "product": "Muscades",
          "value": 11214
         },
         {
          "importsexports": "Imports",
          "partner_type": "Monde",
          "port": "Marseille",
          "product": "Graines grasses",
          "value": 13009.07949
         },
         {
          "importsexports": "Imports",
          "partner_type": "Monde",
          "port": "Marseille",
          "product": "Monnaies et métaux précieux",
          "value": 31317
         },
         {
          "importsexports": "Imports",
          "partner_type": "Monde",
          "port": "Marseille",
          "product": "Métaux divers et mélangés",
          "value": 9240
         },
         {
          "importsexports": "Imports",
          "partner_type": "Monde",
          "port": "Marseille",
          "product": "Azur et cobalt",
          "value": 4628.25
         },
         {
          "importsexports": "Imports",
          "partner_type": "Monde",
          "port": "Marseille",
          "product": "Faucilles, faux et limes",
          "value": 13240.20006
         },
         {
          "importsexports": "Imports",
          "partner_type": "Monde",
          "port": "Marseille",
          "product": "Vin de liqueurs",
          "value": 6197.12
         },
         {
          "importsexports": "Imports",
          "partner_type": "France",
          "port": "Marseille",
          "product": "Café",
          "value": 1055.6
         },
         {
          "importsexports": "Exports",
          "partner_type": "France",
          "port": "Marseille",
          "product": "Coton non transformé",
          "value": 10286.89961
         },
         {
          "importsexports": "Imports",
          "partner_type": "France",
          "port": "Marseille",
          "product": "Coton non transformé",
          "value": 12148
         },
         {
          "importsexports": "Exports",
          "partner_type": "France",
          "port": "Marseille",
          "product": "Armes, munitions, poudre et pierres à fusil",
          "value": 23529
         },
         {
          "importsexports": "Exports",
          "partner_type": "France",
          "port": "Marseille",
          "product": "Bijouterie et pierres fines",
          "value": 1250
         },
         {
          "importsexports": "Exports",
          "partner_type": "France",
          "port": "Marseille",
          "product": "Habits et lingerie",
          "value": 152873
         },
         {
          "importsexports": "Exports",
          "partner_type": "France",
          "port": "Marseille",
          "product": "Bonneterie hors soie",
          "value": 348916
         },
         {
          "importsexports": "Exports",
          "partner_type": "France",
          "port": "Marseille",
          "product": "Soieries diverses",
          "value": 1239195
         },
         {
          "importsexports": "Exports",
          "partner_type": "France",
          "port": "Marseille",
          "product": "Gants",
          "value": 25272
         },
         {
          "importsexports": "Exports",
          "partner_type": "France",
          "port": "Marseille",
          "product": "Chapeaux hors paille et écorce",
          "value": 398880
         },
         {
          "importsexports": "Exports",
          "partner_type": "France",
          "port": "Marseille",
          "product": "Étoffes de laine",
          "value": 12341832
         },
         {
          "importsexports": "Exports",
          "partner_type": "France",
          "port": "Marseille",
          "product": "Dentelles",
          "value": 500
         },
         {
          "importsexports": "Exports",
          "partner_type": "France",
          "port": "Marseille",
          "product": "Dorure",
          "value": 1023850
         },
         {
          "importsexports": "Exports",
          "partner_type": "France",
          "port": "Marseille",
          "product": "Toiles de chanvre et de lin",
          "value": 295222.4999775
         },
         {
          "importsexports": "Imports",
          "partner_type": "France",
          "port": "Marseille",
          "product": "Toiles de chanvre et de lin",
          "value": 20631.59978
         },
         {
          "importsexports": "Exports",
          "partner_type": "France",
          "port": "Marseille",
          "product": "Drogues médicinales diverses",
          "value": 2577
         },
         {
          "importsexports": "Exports",
          "partner_type": "France",
          "port": "Marseille",
          "product": "Étain",
          "value": 675
         },
         {
          "importsexports": "Exports",
          "partner_type": "France",
          "port": "Marseille",
          "product": "Étoffes diverses",
          "value": 973853.75
         },
         {
          "importsexports": "Exports",
          "partner_type": "France",
          "port": "Marseille",
          "product": "Textiles manufacturés divers et mélangés",
          "value": 34724
         },
         {
          "importsexports": "Exports",
          "partner_type": "France",
          "port": "Marseille",
          "product": "Toiles de coton",
          "value": 308834.2508
         },
         {
          "importsexports": "Imports",
          "partner_type": "France",
          "port": "Marseille",
          "product": "Toiles de coton",
          "value": 6900
         },
         {
          "importsexports": "Exports",
          "partner_type": "France",
          "port": "Marseille",
          "product": "Étoffes de soie",
          "value": 3005011
         },
         {
          "importsexports": "Exports",
          "partner_type": "France",
          "port": "Marseille",
          "product": "Fer",
          "value": 1297
         },
         {
          "importsexports": "Exports",
          "partner_type": "France",
          "port": "Marseille",
          "product": "Fils divers",
          "value": 24881
         },
         {
          "importsexports": "Exports",
          "partner_type": "France",
          "port": "Marseille",
          "product": "Châles et mouchoirs hors soie",
          "value": 89518
         },
         {
          "importsexports": "Imports",
          "partner_type": "France",
          "port": "Marseille",
          "product": "Châles et mouchoirs hors soie",
          "value": 17082
         },
         {
          "importsexports": "Exports",
          "partner_type": "France",
          "port": "Marseille",
          "product": "Meubles, glaces et miroirs",
          "value": 119234
         },
         {
          "importsexports": "Exports",
          "partner_type": "France",
          "port": "Marseille",
          "product": "Ouvrages divers et mélangés",
          "value": 59877
         },
         {
          "importsexports": "Exports",
          "partner_type": "France",
          "port": "Marseille",
          "product": "Horlogerie",
          "value": 4930
         },
         {
          "importsexports": "Exports",
          "partner_type": "France",
          "port": "Marseille",
          "product": "Librairie",
          "value": 14688.00022
         },
         {
          "importsexports": "Exports",
          "partner_type": "France",
          "port": "Marseille",
          "product": "Mercerie",
          "value": 1288456.50049
         },
         {
          "importsexports": "Imports",
          "partner_type": "France",
          "port": "Marseille",
          "product": "Mercerie",
          "value": 3128.32
         },
         {
          "importsexports": "Exports",
          "partner_type": "France",
          "port": "Marseille",
          "product": "Châles et mouchoirs de soie",
          "value": 140700
         },
         {
          "importsexports": "Exports",
          "partner_type": "France",
          "port": "Marseille",
          "product": "Argenterie et orfèvrerie",
          "value": 52880.16
         },
         {
          "importsexports": "Exports",
          "partner_type": "France",
          "port": "Marseille",
          "product": "Ouvrages de bois, liège et jonc",
          "value": 11360
         },
         {
          "importsexports": "Imports",
          "partner_type": "France",
          "port": "Marseille",
          "product": "Ouvrages de bois, liège et jonc",
          "value": 9734.48007
         },
         {
          "importsexports": "Exports",
          "partner_type": "France",
          "port": "Marseille",
          "product": "Ouvrages métalliques",
          "value": 108543.51014500001
         },
         {
          "importsexports": "Exports",
          "partner_type": "France",
          "port": "Marseille",
          "product": "Fleurs artificielles et ouvrages de mode",
          "value": 21899
         },
         {
          "importsexports": "Exports",
          "partner_type": "France",
          "port": "Marseille",
          "product": "Papier",
          "value": 26990
         },
         {
          "importsexports": "Exports",
          "partner_type": "France",
          "port": "Marseille",
          "product": "Divers mélangés",
          "value": 3549
         },
         {
          "importsexports": "Imports",
          "partner_type": "France",
          "port": "Marseille",
          "product": "Divers mélangés",
          "value": 184
         },
         {
          "importsexports": "Exports",
          "partner_type": "France",
          "port": "Marseille",
          "product": "Plumes brutes",
          "value": 48900
         },
         {
          "importsexports": "Exports",
          "partner_type": "France",
          "port": "Marseille",
          "product": "Porcelaine, poterie, faïence et ouvrages de terre",
          "value": 25753.760044
         },
         {
          "importsexports": "Imports",
          "partner_type": "France",
          "port": "Marseille",
          "product": "Porcelaine, poterie, faïence et ouvrages de terre",
          "value": 86580.00140000001
         },
         {
          "importsexports": "Exports",
          "partner_type": "France",
          "port": "Marseille",
          "product": "Quincaillerie",
          "value": 196919.399905
         },
         {
          "importsexports": "Imports",
          "partner_type": "France",
          "port": "Marseille",
          "product": "Quincaillerie",
          "value": 3740.25
         },
         {
          "importsexports": "Exports",
          "partner_type": "France",
          "port": "Marseille",
          "product": "Rubanerie et passementerie diverse",
          "value": 11250
         },
         {
          "importsexports": "Exports",
          "partner_type": "France",
          "port": "Marseille",
          "product": "Rubanerie et passementerie de soie",
          "value": 959145
         },
         {
          "importsexports": "Exports",
          "partner_type": "France",
          "port": "Marseille",
          "product": "Soie",
          "value": 15382
         },
         {
          "importsexports": "Exports",
          "partner_type": "France",
          "port": "Marseille",
          "product": "Mousseline, basin et nankin",
          "value": 1348224.5
         },
         {
          "importsexports": "Imports",
          "partner_type": "France",
          "port": "Marseille",
          "product": "Mousseline, basin et nankin",
          "value": 27530
         },
         {
          "importsexports": "Exports",
          "partner_type": "France",
          "port": "Marseille",
          "product": "Toiles diverses",
          "value": 461429
         },
         {
          "importsexports": "Imports",
          "partner_type": "France",
          "port": "Marseille",
          "product": "Toiles diverses",
          "value": 12586
         },
         {
          "importsexports": "Exports",
          "partner_type": "France",
          "port": "Marseille",
          "product": "Verrerie",
          "value": 26180
         },
         {
          "importsexports": "Imports",
          "partner_type": "France",
          "port": "Marseille",
          "product": "Verrerie",
          "value": 214.92
         },
         {
          "importsexports": "Exports",
          "partner_type": "France",
          "port": "Marseille",
          "product": "Bière, cidre et vinaigre",
          "value": 366
         },
         {
          "importsexports": "Exports",
          "partner_type": "France",
          "port": "Marseille",
          "product": "Matières premières diverses",
          "value": 1479
         },
         {
          "importsexports": "Imports",
          "partner_type": "France",
          "port": "Marseille",
          "product": "Matières premières diverses",
          "value": 2259.3700000000003
         },
         {
          "importsexports": "Exports",
          "partner_type": "France",
          "port": "Marseille",
          "product": "Fruits secs et noix",
          "value": 87629.21072
         },
         {
          "importsexports": "Imports",
          "partner_type": "France",
          "port": "Marseille",
          "product": "Bois divers hors combustible",
          "value": 5001.6
         },
         {
          "importsexports": "Exports",
          "partner_type": "France",
          "port": "Marseille",
          "product": "Bois des Indes",
          "value": 154
         },
         {
          "importsexports": "Exports",
          "partner_type": "France",
          "port": "Marseille",
          "product": "Matières brutes et transformées pour teinture",
          "value": 3735.28
         },
         {
          "importsexports": "Imports",
          "partner_type": "France",
          "port": "Marseille",
          "product": "Matières brutes et transformées pour teinture",
          "value": 306
         },
         {
          "importsexports": "Imports",
          "partner_type": "France",
          "port": "Marseille",
          "product": "Brai, goudron et résines",
          "value": 15837.28
         },
         {
          "importsexports": "Exports",
          "partner_type": "France",
          "port": "Marseille",
          "product": "Drogues diverses",
          "value": 21657.19964
         },
         {
          "importsexports": "Imports",
          "partner_type": "France",
          "port": "Marseille",
          "product": "Drogues diverses",
          "value": 257.25
         },
         {
          "importsexports": "Imports",
          "partner_type": "France",
          "port": "Marseille",
          "product": "Cendres diverses",
          "value": 2200.08
         },
         {
          "importsexports": "Exports",
          "partner_type": "France",
          "port": "Marseille",
          "product": "Alcalis",
          "value": 2535.04
         },
         {
          "importsexports": "Exports",
          "partner_type": "France",
          "port": "Marseille",
          "product": "Chanvre",
          "value": 575.05000775
         },
         {
          "importsexports": "Exports",
          "partner_type": "France",
          "port": "Marseille",
          "product": "Combustibles dont charbons et bois",
          "value": 964.40004
         },
         {
          "importsexports": "Imports",
          "partner_type": "France",
          "port": "Marseille",
          "product": "Combustibles dont charbons et bois",
          "value": 142822.38
         },
         {
          "importsexports": "Exports",
          "partner_type": "France",
          "port": "Marseille",
          "product": "Bougies, chandelles et flambeaux",
          "value": 3763.9
         },
         {
          "importsexports": "Imports",
          "partner_type": "France",
          "port": "Marseille",
          "product": "Cire",
          "value": 19466.7
         },
         {
          "importsexports": "Exports",
          "partner_type": "France",
          "port": "Marseille",
          "product": "Cuirs, peaux et pelleterie",
          "value": 23571.05034
         },
         {
          "importsexports": "Imports",
          "partner_type": "France",
          "port": "Marseille",
          "product": "Cuirs, peaux et pelleterie",
          "value": 433200.290206
         },
         {
          "importsexports": "Exports",
          "partner_type": "France",
          "port": "Marseille",
          "product": "Parfumerie et toilette",
          "value": 2518.5
         },
         {
          "importsexports": "Exports",
          "partner_type": "France",
          "port": "Marseille",
          "product": "Gommes diverses",
          "value": 5870.39976
         },
         {
          "importsexports": "Exports",
          "partner_type": "France",
          "port": "Marseille",
          "product": "Manne et médicaments",
          "value": 19886.850270000003
         },
         {
          "importsexports": "Exports",
          "partner_type": "France",
          "port": "Marseille",
          "product": "Safran",
          "value": 1304.79001403
         },
         {
          "importsexports": "Exports",
          "partner_type": "France",
          "port": "Marseille",
          "product": "Séné",
          "value": 8854.999749999999
         },
         {
          "importsexports": "Exports",
          "partner_type": "France",
          "port": "Marseille",
          "product": "Réglisse",
          "value": 20138.0005
         },
         {
          "importsexports": "Exports",
          "partner_type": "France",
          "port": "Marseille",
          "product": "Galle",
          "value": 6660.79977
         },
         {
          "importsexports": "Exports",
          "partner_type": "France",
          "port": "Marseille",
          "product": "Verdet",
          "value": 1372.8
         },
         {
          "importsexports": "Exports",
          "partner_type": "France",
          "port": "Marseille",
          "product": "Eaux-de-vie et liqueurs",
          "value": 33452.1409183
         },
         {
          "importsexports": "Imports",
          "partner_type": "France",
          "port": "Marseille",
          "product": "Eaux-de-vie et liqueurs",
          "value": 265.00001
         },
         {
          "importsexports": "Exports",
          "partner_type": "France",
          "port": "Marseille",
          "product": "Girofle",
          "value": 41364
         },
         {
          "importsexports": "Exports",
          "partner_type": "France",
          "port": "Marseille",
          "product": "Farine, gruau, biscuits et pâtes",
          "value": 63633.0025
         },
         {
          "importsexports": "Exports",
          "partner_type": "France",
          "port": "Marseille",
          "product": "Fruits frais",
          "value": 2418.879943
         },
         {
          "importsexports": "Exports",
          "partner_type": "France",
          "port": "Marseille",
          "product": "Blé et autres grains comestibles",
          "value": 26250
         },
         {
          "importsexports": "Imports",
          "partner_type": "France",
          "port": "Marseille",
          "product": "Blé et autres grains comestibles",
          "value": 100610.04
         },
         {
          "importsexports": "Exports",
          "partner_type": "France",
          "port": "Marseille",
          "product": "Riz",
          "value": 743.860013
         },
         {
          "importsexports": "Exports",
          "partner_type": "France",
          "port": "Marseille",
          "product": "Graines diverses et mélangées",
          "value": 374
         },
         {
          "importsexports": "Imports",
          "partner_type": "France",
          "port": "Marseille",
          "product": "Huiles diverses",
          "value": 1736.00008
         },
         {
          "importsexports": "Exports",
          "partner_type": "France",
          "port": "Marseille",
          "product": "Huile d'olive à manger",
          "value": 147989
         },
         {
          "importsexports": "Exports",
          "partner_type": "France",
          "port": "Marseille",
          "product": "Huile de poisson",
          "value": 153.74999625
         },
         {
          "importsexports": "Imports",
          "partner_type": "France",
          "port": "Marseille",
          "product": "Huile de poisson",
          "value": 157.5
         },
         {
          "importsexports": "Exports",
          "partner_type": "France",
          "port": "Marseille",
          "product": "Boissons diverses et mélangées",
          "value": 4741.920072
         },
         {
          "importsexports": "Exports",
          "partner_type": "France",
          "port": "Marseille",
          "product": "Laines non transformées diverses",
          "value": 76372.2976
         },
         {
          "importsexports": "Exports",
          "partner_type": "France",
          "port": "Marseille",
          "product": "Légumes",
          "value": 135
         },
         {
          "importsexports": "Exports",
          "partner_type": "France",
          "port": "Marseille",
          "product": "Marbre brut et ouvré",
          "value": 561
         },
         {
          "importsexports": "Exports",
          "partner_type": "France",
          "port": "Marseille",
          "product": "Savon",
          "value": 313446.5
         },
         {
          "importsexports": "Exports",
          "partner_type": "France",
          "port": "Marseille",
          "product": "Plomb",
          "value": 1010
         },
         {
          "importsexports": "Exports",
          "partner_type": "France",
          "port": "Marseille",
          "product": "Pêche et fruits de mer",
          "value": 29772.73938
         },
         {
          "importsexports": "Imports",
          "partner_type": "France",
          "port": "Marseille",
          "product": "Pêche et fruits de mer",
          "value": 43527
         },
         {
          "importsexports": "Exports",
          "partner_type": "France",
          "port": "Marseille",
          "product": "Salpêtre et soufre",
          "value": 24550.62375
         },
         {
          "importsexports": "Exports",
          "partner_type": "France",
          "port": "Marseille",
          "product": "Graisses diverses",
          "value": 9544.32
         },
         {
          "importsexports": "Imports",
          "partner_type": "France",
          "port": "Marseille",
          "product": "Graisses diverses",
          "value": 2131.69
         },
         {
          "importsexports": "Exports",
          "partner_type": "France",
          "port": "Marseille",
          "product": "Tabac",
          "value": 99466.796
         },
         {
          "importsexports": "Imports",
          "partner_type": "France",
          "port": "Marseille",
          "product": "Thé",
          "value": 6275
         },
         {
          "importsexports": "Exports",
          "partner_type": "France",
          "port": "Marseille",
          "product": "Vins divers",
          "value": 13205.96011614
         },
         {
          "importsexports": "Imports",
          "partner_type": "France",
          "port": "Marseille",
          "product": "Vins divers",
          "value": 6244
         },
         {
          "importsexports": "Exports",
          "partner_type": "Fraude ?",
          "port": "Marseille",
          "product": "Cacao et chocolat",
          "value": 12557.397976750013
         },
         {
          "importsexports": "Exports",
          "partner_type": "Fraude ?",
          "port": "Marseille",
          "product": "Café",
          "value": 5370152.799999999
         },
         {
          "importsexports": "Exports",
          "partner_type": "Fraude ?",
          "port": "Marseille",
          "product": "Coton non transformé",
          "value": 8627119.39935
         },
         {
          "importsexports": "Imports",
          "partner_type": "Fraude ?",
          "port": "Marseille",
          "product": "Denrées coloniales et épiceries diverses",
          "value": 261743.74990501002
         },
         {
          "importsexports": "Exports",
          "partner_type": "Fraude ?",
          "port": "Marseille",
          "product": "Indigo",
          "value": 191774.25
         },
         {
          "importsexports": "Exports",
          "partner_type": "Fraude ?",
          "port": "Marseille",
          "product": "Rocou",
          "value": 17825.5
         },
         {
          "importsexports": "Exports",
          "partner_type": "Fraude ?",
          "port": "Marseille",
          "product": "Sucre",
          "value": 1653138.6000114996
         },
         {
          "importsexports": "Imports",
          "partner_type": "Fraude ?",
          "port": "Marseille",
          "product": "Armes, munitions, poudre et pierres à fusil",
          "value": 55740.7998
         },
         {
          "importsexports": "Exports",
          "partner_type": "Fraude ?",
          "port": "Marseille",
          "product": "Bijouterie et pierres fines",
          "value": 75369.5
         },
         {
          "importsexports": "Imports",
          "partner_type": "Fraude ?",
          "port": "Marseille",
          "product": "Habits et lingerie",
          "value": 187842.34821699996
         },
         {
          "importsexports": "Imports",
          "partner_type": "Fraude ?",
          "port": "Marseille",
          "product": "Bonneterie hors soie",
          "value": 894277.800031
         },
         {
          "importsexports": "Exports",
          "partner_type": "Fraude ?",
          "port": "Marseille",
          "product": "Soieries diverses",
          "value": 2478807
         },
         {
          "importsexports": "Imports",
          "partner_type": "Fraude ?",
          "port": "Marseille",
          "product": "Gants",
          "value": 51253
         },
         {
          "importsexports": "Imports",
          "partner_type": "Fraude ?",
          "port": "Marseille",
          "product": "Chapeaux hors paille et écorce",
          "value": 1677147
         },
         {
          "importsexports": "Imports",
          "partner_type": "Fraude ?",
          "port": "Marseille",
          "product": "Étoffes de laine",
          "value": 18963940.507795203
         },
         {
          "importsexports": "Imports",
          "partner_type": "Fraude ?",
          "port": "Marseille",
          "product": "Dentelles",
          "value": 1700
         },
         {
          "importsexports": "Imports",
          "partner_type": "Fraude ?",
          "port": "Marseille",
          "product": "Dorure",
          "value": 1257930
         },
         {
          "importsexports": "Imports",
          "partner_type": "Fraude ?",
          "port": "Marseille",
          "product": "Toiles de chanvre et de lin",
          "value": 736413.2848774998
         },
         {
          "importsexports": "Imports",
          "partner_type": "Fraude ?",
          "port": "Marseille",
          "product": "Drogues médicinales diverses",
          "value": 8609.900346499984
         },
         {
          "importsexports": "Imports",
          "partner_type": "Fraude ?",
          "port": "Marseille",
          "product": "Étain",
          "value": 51044.80981199998
         },
         {
          "importsexports": "Imports",
          "partner_type": "Fraude ?",
          "port": "Marseille",
          "product": "Étoffes diverses",
          "value": 819684.8520589999
         },
         {
          "importsexports": "Imports",
          "partner_type": "Fraude ?",
          "port": "Marseille",
          "product": "Textiles manufacturés divers et mélangés",
          "value": 33885
         },
         {
          "importsexports": "Imports",
          "partner_type": "Fraude ?",
          "port": "Marseille",
          "product": "Toiles de coton",
          "value": 1145715.95712
         },
         {
          "importsexports": "Imports",
          "partner_type": "Fraude ?",
          "port": "Marseille",
          "product": "Étoffes de soie",
          "value": 6169983
         },
         {
          "importsexports": "Exports",
          "partner_type": "Fraude ?",
          "port": "Marseille",
          "product": "Fer",
          "value": 7730.83944
         },
         {
          "importsexports": "Exports",
          "partner_type": "Fraude ?",
          "port": "Marseille",
          "product": "Fils divers",
          "value": 3184282.7821916
         },
         {
          "importsexports": "Imports",
          "partner_type": "Fraude ?",
          "port": "Marseille",
          "product": "Châles et mouchoirs hors soie",
          "value": 438083
         },
         {
          "importsexports": "Imports",
          "partner_type": "Fraude ?",
          "port": "Marseille",
          "product": "Meubles, glaces et miroirs",
          "value": 198765
         },
         {
          "importsexports": "Imports",
          "partner_type": "Fraude ?",
          "port": "Marseille",
          "product": "Ouvrages divers et mélangés",
          "value": 295596.1553306
         },
         {
          "importsexports": "Exports",
          "partner_type": "Fraude ?",
          "port": "Marseille",
          "product": "Horlogerie",
          "value": 28373
         },
         {
          "importsexports": "Imports",
          "partner_type": "Fraude ?",
          "port": "Marseille",
          "product": "Librairie",
          "value": 180616.99787279998
         },
         {
          "importsexports": "Imports",
          "partner_type": "Fraude ?",
          "port": "Marseille",
          "product": "Mercerie",
          "value": 2193734.7326662
         },
         {
          "importsexports": "Imports",
          "partner_type": "Fraude ?",
          "port": "Marseille",
          "product": "Châles et mouchoirs de soie",
          "value": 164411
         },
         {
          "importsexports": "Imports",
          "partner_type": "Fraude ?",
          "port": "Marseille",
          "product": "Argenterie et orfèvrerie",
          "value": 69368.16
         },
         {
          "importsexports": "Exports",
          "partner_type": "Fraude ?",
          "port": "Marseille",
          "product": "Ouvrages de bois, liège et jonc",
          "value": 723774.998686
         },
         {
          "importsexports": "Exports",
          "partner_type": "Fraude ?",
          "port": "Marseille",
          "product": "Ouvrages métalliques",
          "value": 1278011.6220920002
         },
         {
          "importsexports": "Imports",
          "partner_type": "Fraude ?",
          "port": "Marseille",
          "product": "Fleurs artificielles et ouvrages de mode",
          "value": 30473
         },
         {
          "importsexports": "Imports",
          "partner_type": "Fraude ?",
          "port": "Marseille",
          "product": "Papier",
          "value": 415938.50025
         },
         {
          "importsexports": "Imports",
          "partner_type": "Fraude ?",
          "port": "Marseille",
          "product": "Divers mélangés",
          "value": 24723.510094
         },
         {
          "importsexports": "Imports",
          "partner_type": "Fraude ?",
          "port": "Marseille",
          "product": "Plumes brutes",
          "value": 38325.800279999996
         },
         {
          "importsexports": "Imports",
          "partner_type": "Fraude ?",
          "port": "Marseille",
          "product": "Porcelaine, poterie, faïence et ouvrages de terre",
          "value": 27262.532869419985
         },
         {
          "importsexports": "Imports",
          "partner_type": "Fraude ?",
          "port": "Marseille",
          "product": "Quincaillerie",
          "value": 676803.86182
         },
         {
          "importsexports": "Exports",
          "partner_type": "Fraude ?",
          "port": "Marseille",
          "product": "Rubanerie et passementerie diverse",
          "value": 3108.5
         },
         {
          "importsexports": "Imports",
          "partner_type": "Fraude ?",
          "port": "Marseille",
          "product": "Rubanerie et passementerie de soie",
          "value": 1180327
         },
         {
          "importsexports": "Exports",
          "partner_type": "Fraude ?",
          "port": "Marseille",
          "product": "Soie",
          "value": 3997631
         },
         {
          "importsexports": "Imports",
          "partner_type": "Fraude ?",
          "port": "Marseille",
          "product": "Mousseline, basin et nankin",
          "value": 2206944.5
         },
         {
          "importsexports": "Imports",
          "partner_type": "Fraude ?",
          "port": "Marseille",
          "product": "Toiles diverses",
          "value": 41060.039783999964
         },
         {
          "importsexports": "Imports",
          "partner_type": "Fraude ?",
          "port": "Marseille",
          "product": "Verrerie",
          "value": 94313.16069000002
         },
         {
          "importsexports": "Exports",
          "partner_type": "Fraude ?",
          "port": "Marseille",
          "product": "Bière, cidre et vinaigre",
          "value": 2552.1100399999996
         },
         {
          "importsexports": "Exports",
          "partner_type": "Fraude ?",
          "port": "Marseille",
          "product": "Acier",
          "value": 30343.130750000004
         },
         {
          "importsexports": "Exports",
          "partner_type": "Fraude ?",
          "port": "Marseille",
          "product": "Matières premières diverses",
          "value": 338260.75527629955
         },
         {
          "importsexports": "Imports",
          "partner_type": "Fraude ?",
          "port": "Marseille",
          "product": "Fruits secs et noix",
          "value": 705785.9138049998
         },
         {
          "importsexports": "Imports",
          "partner_type": "Fraude ?",
          "port": "Marseille",
          "product": "Beurre",
          "value": 3697.5501420000005
         },
         {
          "importsexports": "Exports",
          "partner_type": "Fraude ?",
          "port": "Marseille",
          "product": "Bois divers hors combustible",
          "value": 63683.440592000006
         },
         {
          "importsexports": "Exports",
          "partner_type": "Fraude ?",
          "port": "Marseille",
          "product": "Bois des Indes",
          "value": 20893.130026
         },
         {
          "importsexports": "Imports",
          "partner_type": "Fraude ?",
          "port": "Marseille",
          "product": "Matières brutes et transformées pour teinture",
          "value": 38985.76951999997
         },
         {
          "importsexports": "Imports",
          "partner_type": "Fraude ?",
          "port": "Marseille",
          "product": "Bonneterie de soie",
          "value": 477216
         },
         {
          "importsexports": "Exports",
          "partner_type": "Fraude ?",
          "port": "Marseille",
          "product": "Filoselle, fleuret et bourre de soie",
          "value": 681
         },
         {
          "importsexports": "Exports",
          "partner_type": "Fraude ?",
          "port": "Marseille",
          "product": "Brai, goudron et résines",
          "value": 88592.37805
         },
         {
          "importsexports": "Exports",
          "partner_type": "Fraude ?",
          "port": "Marseille",
          "product": "Drogues diverses",
          "value": 38384.436702499865
         },
         {
          "importsexports": "Exports",
          "partner_type": "Fraude ?",
          "port": "Marseille",
          "product": "Cendres diverses",
          "value": 1673817.6990800002
         },
         {
          "importsexports": "Exports",
          "partner_type": "Fraude ?",
          "port": "Marseille",
          "product": "Gravelée, potasse et védasse",
          "value": 270009.38
         },
         {
          "importsexports": "Exports",
          "partner_type": "Fraude ?",
          "port": "Marseille",
          "product": "Alcalis",
          "value": 1402255.9363199999
         },
         {
          "importsexports": "Imports",
          "partner_type": "Fraude ?",
          "port": "Marseille",
          "product": "Chairs et œufs",
          "value": 207725.0392532
         },
         {
          "importsexports": "Imports",
          "partner_type": "Fraude ?",
          "port": "Marseille",
          "product": "Subsistances diverses et mélangées",
          "value": 114224.29874083
         },
         {
          "importsexports": "Exports",
          "partner_type": "Fraude ?",
          "port": "Marseille",
          "product": "Chanvre",
          "value": 1374268.81344225
         },
         {
          "importsexports": "Exports",
          "partner_type": "Fraude ?",
          "port": "Marseille",
          "product": "Chapeaux d'écorce et de paille",
          "value": 9224.300544
         },
         {
          "importsexports": "Exports",
          "partner_type": "Fraude ?",
          "port": "Marseille",
          "product": "Combustibles dont charbons et bois",
          "value": 270767.577935
         },
         {
          "importsexports": "Imports",
          "partner_type": "Fraude ?",
          "port": "Marseille",
          "product": "Bougies, chandelles et flambeaux",
          "value": 1450797.4512490002
         },
         {
          "importsexports": "Imports",
          "partner_type": "Fraude ?",
          "port": "Marseille",
          "product": "Cire",
          "value": 75102.559198
         },
         {
          "importsexports": "Exports",
          "partner_type": "Fraude ?",
          "port": "Marseille",
          "product": "Colles diverses",
          "value": 26476.9613708
         },
         {
          "importsexports": "Imports",
          "partner_type": "Fraude ?",
          "port": "Marseille",
          "product": "Cordage et filets",
          "value": 20764.880940050003
         },
         {
          "importsexports": "Imports",
          "partner_type": "Fraude ?",
          "port": "Marseille",
          "product": "Produits inconnus",
          "value": 1753.499925
         },
         {
          "importsexports": "Exports",
          "partner_type": "Fraude ?",
          "port": "Marseille",
          "product": "Cuirs, peaux et pelleterie",
          "value": 2611192.0541175
         },
         {
          "importsexports": "Exports",
          "partner_type": "Fraude ?",
          "port": "Marseille",
          "product": "Cuivre",
          "value": 1136995.4017
         },
         {
          "importsexports": "Imports",
          "partner_type": "Fraude ?",
          "port": "Marseille",
          "product": "Parfumerie et toilette",
          "value": 183293.30240299998
         },
         {
          "importsexports": "Exports",
          "partner_type": "Fraude ?",
          "port": "Marseille",
          "product": "Gommes diverses",
          "value": 598458.1470250001
         },
         {
          "importsexports": "Exports",
          "partner_type": "Fraude ?",
          "port": "Marseille",
          "product": "Manne et médicaments",
          "value": 109296.59713000004
         },
         {
          "importsexports": "Imports",
          "partner_type": "Fraude ?",
          "port": "Marseille",
          "product": "Quinquina",
          "value": 32508.5
         },
         {
          "importsexports": "Exports",
          "partner_type": "Fraude ?",
          "port": "Marseille",
          "product": "Safran",
          "value": 421144.74880387995
         },
         {
          "importsexports": "Exports",
          "partner_type": "Fraude ?",
          "port": "Marseille",
          "product": "Salsepareille",
          "value": 103198.20695
         },
         {
          "importsexports": "Exports",
          "partner_type": "Fraude ?",
          "port": "Marseille",
          "product": "Séné",
          "value": 242648.546876
         },
         {
          "importsexports": "Exports",
          "partner_type": "Fraude ?",
          "port": "Marseille",
          "product": "Réglisse",
          "value": 49184.78395500002
         },
         {
          "importsexports": "Exports",
          "partner_type": "Fraude ?",
          "port": "Marseille",
          "product": "Alun",
          "value": 143306.1118975
         },
         {
          "importsexports": "Exports",
          "partner_type": "Fraude ?",
          "port": "Marseille",
          "product": "Alquifoux, mine de plomb et graphite",
          "value": 16382.248424999983
         },
         {
          "importsexports": "Exports",
          "partner_type": "Fraude ?",
          "port": "Marseille",
          "product": "Céruse et blanc de plomb",
          "value": 17357.039978
         },
         {
          "importsexports": "Exports",
          "partner_type": "Fraude ?",
          "port": "Marseille",
          "product": "Cochenille",
          "value": 295596
         },
         {
          "importsexports": "Exports",
          "partner_type": "Fraude ?",
          "port": "Marseille",
          "product": "Galle",
          "value": 813937.69885
         },
         {
          "importsexports": "Imports",
          "partner_type": "Fraude ?",
          "port": "Marseille",
          "product": "Garance",
          "value": 90006.079693
         },
         {
          "importsexports": "Imports",
          "partner_type": "Fraude ?",
          "port": "Marseille",
          "product": "Verdet",
          "value": 234206.699948
         },
         {
          "importsexports": "Imports",
          "partner_type": "Fraude ?",
          "port": "Marseille",
          "product": "Eaux-de-vie et liqueurs",
          "value": 563422.1300872001
         },
         {
          "importsexports": "Exports",
          "partner_type": "Fraude ?",
          "port": "Marseille",
          "product": "Cornes, corail, écailles, ivoire et nacre",
          "value": 25035.280138000006
         },
         {
          "importsexports": "Exports",
          "partner_type": "Fraude ?",
          "port": "Marseille",
          "product": "Cannelle",
          "value": 172954
         },
         {
          "importsexports": "Exports",
          "partner_type": "Fraude ?",
          "port": "Marseille",
          "product": "Girofle",
          "value": 188598
         },
         {
          "importsexports": "Exports",
          "partner_type": "Fraude ?",
          "port": "Marseille",
          "product": "Poivre et piment",
          "value": 771117.0236150001
         },
         {
          "importsexports": "Exports",
          "partner_type": "Fraude ?",
          "port": "Marseille",
          "product": "Farine, gruau, biscuits et pâtes",
          "value": 234631.93723499993
         },
         {
          "importsexports": "Exports",
          "partner_type": "Fraude ?",
          "port": "Marseille",
          "product": "Bâtiments de mer et apparaux",
          "value": 25146.590088
         },
         {
          "importsexports": "Exports",
          "partner_type": "Fraude ?",
          "port": "Marseille",
          "product": "Fer-blanc",
          "value": 79424
         },
         {
          "importsexports": "Imports",
          "partner_type": "Fraude ?",
          "port": "Marseille",
          "product": "Fromage",
          "value": 6556.793540499988
         },
         {
          "importsexports": "Exports",
          "partner_type": "Fraude ?",
          "port": "Marseille",
          "product": "Fruits frais",
          "value": 380619.6302015
         },
         {
          "importsexports": "Exports",
          "partner_type": "Fraude ?",
          "port": "Marseille",
          "product": "Blé et autres grains comestibles",
          "value": 11427233.471439999
         },
         {
          "importsexports": "Exports",
          "partner_type": "Fraude ?",
          "port": "Marseille",
          "product": "Riz",
          "value": 832930.8124970001
         },
         {
          "importsexports": "Exports",
          "partner_type": "Fraude ?",
          "port": "Marseille",
          "product": "Graines diverses et mélangées",
          "value": 18069.799729000002
         },
         {
          "importsexports": "Imports",
          "partner_type": "Fraude ?",
          "port": "Marseille",
          "product": "Graines de jardin",
          "value": 28141
         },
         {
          "importsexports": "Exports",
          "partner_type": "Fraude ?",
          "port": "Marseille",
          "product": "Huiles diverses",
          "value": 19006710.589884
         },
         {
          "importsexports": "Imports",
          "partner_type": "Fraude ?",
          "port": "Marseille",
          "product": "Huile d'olive à manger",
          "value": 2111641
         },
         {
          "importsexports": "Imports",
          "partner_type": "Fraude ?",
          "port": "Marseille",
          "product": "Huile de poisson",
          "value": 4116.12499625
         },
         {
          "importsexports": "Imports",
          "partner_type": "Fraude ?",
          "port": "Marseille",
          "product": "Boissons diverses et mélangées",
          "value": 166621.998248
         },
         {
          "importsexports": "Exports",
          "partner_type": "Fraude ?",
          "port": "Marseille",
          "product": "Laines non transformées diverses",
          "value": 3011853.1337750005
         },
         {
          "importsexports": "Exports",
          "partner_type": "Fraude ?",
          "port": "Marseille",
          "product": "Légumes",
          "value": 135159.43180900003
         },
         {
          "importsexports": "Imports",
          "partner_type": "Fraude ?",
          "port": "Marseille",
          "product": "Bouchons principalement en liège",
          "value": 48405.19945
         },
         {
          "importsexports": "Imports",
          "partner_type": "Fraude ?",
          "port": "Marseille",
          "product": "Lin",
          "value": 1018.6498099999999
         },
         {
          "importsexports": "Exports",
          "partner_type": "Fraude ?",
          "port": "Marseille",
          "product": "Marbre brut et ouvré",
          "value": 304996.119918
         },
         {
          "importsexports": "Imports",
          "partner_type": "Fraude ?",
          "port": "Marseille",
          "product": "Miel",
          "value": 13054.739691
         },
         {
          "importsexports": "Imports",
          "partner_type": "Fraude ?",
          "port": "Marseille",
          "product": "Savon",
          "value": 2483402.49976
         },
         {
          "importsexports": "Exports",
          "partner_type": "Fraude ?",
          "port": "Marseille",
          "product": "Plomb",
          "value": 61725
         },
         {
          "importsexports": "Imports",
          "partner_type": "Fraude ?",
          "port": "Marseille",
          "product": "Plumes ouvrées",
          "value": 15005
         },
         {
          "importsexports": "Imports",
          "partner_type": "Fraude ?",
          "port": "Marseille",
          "product": "Pêche et fruits de mer",
          "value": 430144.83102999977
         },
         {
          "importsexports": "Exports",
          "partner_type": "Fraude ?",
          "port": "Marseille",
          "product": "Salpêtre et soufre",
          "value": 59140.802081500035
         },
         {
          "importsexports": "Exports",
          "partner_type": "Fraude ?",
          "port": "Marseille",
          "product": "Graisses diverses",
          "value": 489223.6271415999
         },
         {
          "importsexports": "Exports",
          "partner_type": "Fraude ?",
          "port": "Marseille",
          "product": "Tabac",
          "value": 107615.79762929998
         },
         {
          "importsexports": "Exports",
          "partner_type": "Fraude ?",
          "port": "Marseille",
          "product": "Thé",
          "value": 17515
         },
         {
          "importsexports": "Imports",
          "partner_type": "Fraude ?",
          "port": "Marseille",
          "product": "Vins divers",
          "value": 1405767.87821677
         },
         {
          "importsexports": "Imports",
          "partner_type": "Fraude ?",
          "port": "Marseille",
          "product": "Vins de Bordeaux",
          "value": 10341.09985227
         },
         {
          "importsexports": "Exports",
          "partner_type": "Fraude ?",
          "port": "Marseille",
          "product": "Poils et crin",
          "value": 15498.850188999997
         },
         {
          "importsexports": "Imports",
          "partner_type": "Fraude ?",
          "port": "Marseille",
          "product": "Mercure",
          "value": 1689
         },
         {
          "importsexports": "Exports",
          "partner_type": "Fraude ?",
          "port": "Marseille",
          "product": "Sels chimiques",
          "value": 25677.198704000002
         },
         {
          "importsexports": "Exports",
          "partner_type": "Fraude ?",
          "port": "Marseille",
          "product": "Muscades",
          "value": 10059
         },
         {
          "importsexports": "Exports",
          "partner_type": "Fraude ?",
          "port": "Marseille",
          "product": "Graines grasses",
          "value": 12864.07949
         },
         {
          "importsexports": "Imports",
          "partner_type": "Fraude ?",
          "port": "Marseille",
          "product": "Sirop et mélasse",
          "value": 31080
         },
         {
          "importsexports": "Imports",
          "partner_type": "Fraude ?",
          "port": "Marseille",
          "product": "Monnaies et métaux précieux",
          "value": 5672
         },
         {
          "importsexports": "Imports",
          "partner_type": "Fraude ?",
          "port": "Marseille",
          "product": "Cordonnerie et sellerie",
          "value": 866754
         },
         {
          "importsexports": "Imports",
          "partner_type": "Fraude ?",
          "port": "Marseille",
          "product": "Divers incertains",
          "value": 1660684
         },
         {
          "importsexports": "Exports",
          "partner_type": "Fraude ?",
          "port": "Marseille",
          "product": "Métaux divers et mélangés",
          "value": 9240
         },
         {
          "importsexports": "Exports",
          "partner_type": "Fraude ?",
          "port": "Marseille",
          "product": "Azur et cobalt",
          "value": 4628.25
         },
         {
          "importsexports": "Exports",
          "partner_type": "Fraude ?",
          "port": "Marseille",
          "product": "Faucilles, faux et limes",
          "value": 13240.20006
         },
         {
          "importsexports": "Exports",
          "partner_type": "Fraude ?",
          "port": "Marseille",
          "product": "Vin de liqueurs",
          "value": 6197.12
         }
        ]
       },
       "spacing": 0,
       "title": "MARSEILLE\n Répartition des imports/exports en 1789 par tout produit",
       "vconcat": [
        {
         "hconcat": [
          {
           "encoding": {
            "color": {
             "field": "partner_type",
             "scale": {
              "domain": [
               "colonies",
               "Monde",
               "France",
               "Fraude ?"
              ],
              "range": [
               "purple",
               "darkblue",
               "olive",
               "lightgrey",
               "darkgrey"
              ]
             },
             "type": "nominal"
            },
            "order": {
             "expr": "-1*indexof(['colonies', 'Monde', 'France', 'Fraude ?'], datum.partner_type)",
             "type": "ordinal"
            },
            "x": {
             "field": "value",
             "sort": "descending",
             "title": "Valeur (Lt)",
             "type": "quantitative"
            },
            "y": {
             "field": "product",
             "sort": "-x",
             "title": null,
             "type": "ordinal"
            }
           },
           "mark": {
            "tooltip": {
             "content": "data"
            },
            "type": "bar"
           },
           "title": "import",
           "transform": [
            {
             "filter": {
              "equal": "Imports",
              "field": "importsexports"
             }
            }
           ]
          },
          {
           "encoding": {
            "color": {
             "field": "partner_type",
             "scale": {
              "domain": [
               "colonies",
               "Monde",
               "France",
               "Fraude ?"
              ],
              "range": [
               "purple",
               "darkblue",
               "olive",
               "lightgrey",
               "darkgrey"
              ]
             },
             "sort": [
              "colonies",
              "Monde",
              "France",
              "Fraude ?"
             ],
             "type": "nominal"
            },
            "order": {
             "expr": "indexof(['colonies', 'Monde', 'France', 'Fraude ?'], datum.partner_type)",
             "type": "ordinal"
            },
            "x": {
             "field": "value",
             "title": "Valeur (Lt)",
             "type": "quantitative"
            },
            "y": {
             "axis": null,
             "field": "product",
             "sort": "-x",
             "title": null,
             "type": "ordinal"
            }
           },
           "mark": {
            "tooltip": {
             "content": "data"
            },
            "type": "bar"
           },
           "title": "export",
           "transform": [
            {
             "filter": {
              "equal": "Exports",
              "field": "importsexports"
             }
            }
           ]
          }
         ]
        },
        {
         "hconcat": [
          {
           "encoding": {
            "color": {
             "field": "partner_type",
             "scale": {
              "domain": [
               "colonies",
               "Monde",
               "France",
               "Fraude ?"
              ],
              "range": [
               "purple",
               "darkblue",
               "olive",
               "lightgrey",
               "darkgrey"
              ]
             },
             "sort": [
              "colonies",
              "Monde",
              "France",
              "Fraude ?"
             ],
             "type": "nominal"
            },
            "x": {
             "field": "total_value",
             "scale": {
              "domain": [
               0,
               98943860.15101588
              ]
             },
             "sort": "descending",
             "title": "Valeur tous produits (Lt)",
             "type": "quantitative"
            },
            "y": {
             "field": "partner_type",
             "scale": {
              "domain": [
               "colonies",
               "Monde",
               "France",
               "Fraude ?"
              ]
             },
             "sort": [
              "colonies",
              "Monde",
              "France",
              "Fraude ?"
             ],
             "title": null,
             "type": "ordinal"
            }
           },
           "mark": {
            "tooltip": {
             "content": "data"
            },
            "type": "bar"
           },
           "transform": [
            {
             "filter": {
              "equal": "Imports",
              "field": "importsexports"
             }
            },
            {
             "aggregate": [
              {
               "as": "total_value",
               "field": "value",
               "op": "sum"
              }
             ],
             "groupby": [
              "partner_type"
             ]
            }
           ]
          },
          {
           "encoding": {
            "color": {
             "field": "partner_type",
             "scale": {
              "domain": [
               "colonies",
               "Monde",
               "France",
               "Fraude ?"
              ],
              "range": [
               "purple",
               "darkblue",
               "olive",
               "lightgrey",
               "darkgrey"
              ]
             },
             "sort": [
              "colonies",
              "Monde",
              "France",
              "Fraude ?"
             ],
             "type": "nominal"
            },
            "x": {
             "field": "total_value",
             "scale": {
              "domain": [
               0,
               98943860.15101588
              ]
             },
             "sort": "ascending",
             "title": "Valeur tous produits (Lt)",
             "type": "quantitative"
            },
            "y": {
             "axis": null,
             "field": "partner_type",
             "scale": {
              "domain": [
               "colonies",
               "Monde",
               "France",
               "Fraude ?"
              ]
             },
             "sort": [
              "colonies",
              "Monde",
              "France",
              "Fraude ?"
             ],
             "title": null,
             "type": "ordinal"
            }
           },
           "mark": {
            "tooltip": {
             "content": "data"
            },
            "type": "bar"
           },
           "transform": [
            {
             "filter": {
              "equal": "Exports",
              "field": "importsexports"
             }
            },
            {
             "aggregate": [
              {
               "as": "total_value",
               "field": "value",
               "op": "sum"
              }
             ],
             "groupby": [
              "partner_type"
             ]
            }
           ]
          }
         ]
        },
        {
         "hconcat": [
          {
           "encoding": {
            "x": {
             "field": "total_value",
             "scale": {
              "domain": [
               0,
               185657941.95368117
              ]
             },
             "sort": "descending",
             "title": "Valeur tous produits (Lt)",
             "type": "quantitative"
            }
           },
           "mark": {
            "tooltip": {
             "content": "data"
            },
            "type": "bar"
           },
           "transform": [
            {
             "filter": {
              "equal": "Imports",
              "field": "importsexports"
             }
            },
            {
             "filter": "indexof(datum.partner_type,'?')==-1"
            },
            {
             "aggregate": [
              {
               "as": "total_value",
               "field": "value",
               "op": "sum"
              }
             ]
            }
           ]
          },
          {
           "encoding": {
            "x": {
             "field": "total_value",
             "scale": {
              "domain": [
               0,
               185657941.95368117
              ]
             },
             "sort": "ascending",
             "title": "Totaux (Lt)",
             "type": "quantitative"
            }
           },
           "mark": {
            "tooltip": {
             "content": "data"
            },
            "type": "bar"
           },
           "transform": [
            {
             "filter": {
              "equal": "Exports",
              "field": "importsexports"
             }
            },
            {
             "filter": "indexof(datum.partner_type,'?')==-1"
            },
            {
             "aggregate": [
              {
               "as": "total_value",
               "field": "value",
               "op": "sum"
              }
             ]
            }
           ]
          }
         ]
        }
       ]
      }
     },
     "metadata": {},
     "output_type": "display_data"
    },
    {
     "data": {
      "application/vnd.vegalite.v4+json": {
       "data": {
        "values": [
         {
          "importsexports": "Exports",
          "partner_type": "colonies",
          "port": "Lorient",
          "product": "Divers incertains",
          "value": 1067534
         },
         {
          "importsexports": "Exports",
          "partner_type": "Monde",
          "port": "Lorient",
          "product": "Ouvrages de bois, liège et jonc",
          "value": 4160
         },
         {
          "importsexports": "Imports",
          "partner_type": "Monde",
          "port": "Lorient",
          "product": "Ouvrages de bois, liège et jonc",
          "value": 114773
         },
         {
          "importsexports": "Exports",
          "partner_type": "Monde",
          "port": "Lorient",
          "product": "Matières brutes et transformées pour teinture",
          "value": 31170
         },
         {
          "importsexports": "Imports",
          "partner_type": "Monde",
          "port": "Lorient",
          "product": "Matières brutes et transformées pour teinture",
          "value": 1370
         },
         {
          "importsexports": "Exports",
          "partner_type": "Monde",
          "port": "Lorient",
          "product": "Cordage et filets",
          "value": 13500
         },
         {
          "importsexports": "Exports",
          "partner_type": "Monde",
          "port": "Lorient",
          "product": "Eaux-de-vie et liqueurs",
          "value": 348081.25
         },
         {
          "importsexports": "Imports",
          "partner_type": "Monde",
          "port": "Lorient",
          "product": "Eaux-de-vie et liqueurs",
          "value": 4370
         },
         {
          "importsexports": "Exports",
          "partner_type": "Monde",
          "port": "Lorient",
          "product": "Drogues diverses",
          "value": 546
         },
         {
          "importsexports": "Imports",
          "partner_type": "Monde",
          "port": "Lorient",
          "product": "Drogues diverses",
          "value": 800
         },
         {
          "importsexports": "Exports",
          "partner_type": "Monde",
          "port": "Lorient",
          "product": "Poivre et piment",
          "value": 5250
         },
         {
          "importsexports": "Imports",
          "partner_type": "Monde",
          "port": "Lorient",
          "product": "Poivre et piment",
          "value": 9000
         },
         {
          "importsexports": "Exports",
          "partner_type": "Monde",
          "port": "Lorient",
          "product": "Divers mélangés",
          "value": 500000
         },
         {
          "importsexports": "Imports",
          "partner_type": "Monde",
          "port": "Lorient",
          "product": "Divers mélangés",
          "value": 275
         },
         {
          "importsexports": "Exports",
          "partner_type": "Monde",
          "port": "Lorient",
          "product": "Miel",
          "value": 57417
         },
         {
          "importsexports": "Exports",
          "partner_type": "Monde",
          "port": "Lorient",
          "product": "Châles et mouchoirs de soie",
          "value": 42861
         },
         {
          "importsexports": "Exports",
          "partner_type": "Monde",
          "port": "Lorient",
          "product": "Papier",
          "value": 100
         },
         {
          "importsexports": "Imports",
          "partner_type": "Monde",
          "port": "Lorient",
          "product": "Papier",
          "value": 7480
         },
         {
          "importsexports": "Exports",
          "partner_type": "Monde",
          "port": "Lorient",
          "product": "Parfumerie et toilette",
          "value": 225
         },
         {
          "importsexports": "Exports",
          "partner_type": "Monde",
          "port": "Lorient",
          "product": "Pêche et fruits de mer",
          "value": 24600
         },
         {
          "importsexports": "Imports",
          "partner_type": "Monde",
          "port": "Lorient",
          "product": "Pêche et fruits de mer",
          "value": 828
         },
         {
          "importsexports": "Exports",
          "partner_type": "Monde",
          "port": "Lorient",
          "product": "Porcelaine, poterie, faïence et ouvrages de terre",
          "value": 400
         },
         {
          "importsexports": "Imports",
          "partner_type": "Monde",
          "port": "Lorient",
          "product": "Porcelaine, poterie, faïence et ouvrages de terre",
          "value": 40113
         },
         {
          "importsexports": "Exports",
          "partner_type": "Monde",
          "port": "Lorient",
          "product": "Sel",
          "value": 178937.035
         },
         {
          "importsexports": "Exports",
          "partner_type": "Monde",
          "port": "Lorient",
          "product": "Tabac",
          "value": 146778
         },
         {
          "importsexports": "Imports",
          "partner_type": "Monde",
          "port": "Lorient",
          "product": "Tabac",
          "value": 486100
         },
         {
          "importsexports": "Exports",
          "partner_type": "Monde",
          "port": "Lorient",
          "product": "Étoffes diverses",
          "value": 14040
         },
         {
          "importsexports": "Exports",
          "partner_type": "Monde",
          "port": "Lorient",
          "product": "Vins divers",
          "value": 1212
         },
         {
          "importsexports": "Imports",
          "partner_type": "Monde",
          "port": "Lorient",
          "product": "Beurre",
          "value": 6475
         },
         {
          "importsexports": "Imports",
          "partner_type": "Monde",
          "port": "Lorient",
          "product": "Combustibles dont charbons et bois",
          "value": 14760
         },
         {
          "importsexports": "Exports",
          "partner_type": "Monde",
          "port": "Lorient",
          "product": "Cuirs, peaux et pelleterie",
          "value": 49752.5
         },
         {
          "importsexports": "Imports",
          "partner_type": "Monde",
          "port": "Lorient",
          "product": "Cuirs, peaux et pelleterie",
          "value": 1000
         },
         {
          "importsexports": "Imports",
          "partner_type": "Monde",
          "port": "Lorient",
          "product": "Matières premières diverses",
          "value": 125247
         },
         {
          "importsexports": "Exports",
          "partner_type": "Monde",
          "port": "Lorient",
          "product": "Fils divers",
          "value": 2524
         },
         {
          "importsexports": "Exports",
          "partner_type": "Monde",
          "port": "Lorient",
          "product": "Graisses diverses",
          "value": 868.40002171
         },
         {
          "importsexports": "Imports",
          "partner_type": "Monde",
          "port": "Lorient",
          "product": "Graisses diverses",
          "value": 9400
         },
         {
          "importsexports": "Exports",
          "partner_type": "Monde",
          "port": "Lorient",
          "product": "Thé",
          "value": 3200
         },
         {
          "importsexports": "Exports",
          "partner_type": "Monde",
          "port": "Lorient",
          "product": "Toiles de chanvre et de lin",
          "value": 131896.5
         },
         {
          "importsexports": "Exports",
          "partner_type": "Monde",
          "port": "Lorient",
          "product": "Verrerie",
          "value": 150
         },
         {
          "importsexports": "Imports",
          "partner_type": "Monde",
          "port": "Lorient",
          "product": "Verrerie",
          "value": 2998
         },
         {
          "importsexports": "Exports",
          "partner_type": "Monde",
          "port": "Lorient",
          "product": "Denrées coloniales et épiceries diverses",
          "value": 1872
         },
         {
          "importsexports": "Exports",
          "partner_type": "Monde",
          "port": "Lorient",
          "product": "Ouvrages divers et mélangés",
          "value": 1600
         },
         {
          "importsexports": "Imports",
          "partner_type": "Monde",
          "port": "Lorient",
          "product": "Ouvrages divers et mélangés",
          "value": 3000
         },
         {
          "importsexports": "Exports",
          "partner_type": "Monde",
          "port": "Lorient",
          "product": "Rubanerie et passementerie de soie",
          "value": 4590
         },
         {
          "importsexports": "Imports",
          "partner_type": "Monde",
          "port": "Lorient",
          "product": "Toiles diverses",
          "value": 35220
         },
         {
          "importsexports": "Imports",
          "partner_type": "Monde",
          "port": "Lorient",
          "product": "Toiles de coton",
          "value": 48685
         },
         {
          "importsexports": "Imports",
          "partner_type": "Monde",
          "port": "Lorient",
          "product": "Divers incertains",
          "value": 1150
         },
         {
          "importsexports": "Imports",
          "partner_type": "Monde",
          "port": "Lorient",
          "product": "Acier",
          "value": 21746
         },
         {
          "importsexports": "Imports",
          "partner_type": "Monde",
          "port": "Lorient",
          "product": "Bâtiments de mer et apparaux",
          "value": 175269
         },
         {
          "importsexports": "Imports",
          "partner_type": "Monde",
          "port": "Lorient",
          "product": "Bière, cidre et vinaigre",
          "value": 23224
         },
         {
          "importsexports": "Imports",
          "partner_type": "Monde",
          "port": "Lorient",
          "product": "Bonneterie hors soie",
          "value": 5975
         },
         {
          "importsexports": "Imports",
          "partner_type": "Monde",
          "port": "Lorient",
          "product": "Bois divers hors combustible",
          "value": 243251
         },
         {
          "importsexports": "Imports",
          "partner_type": "Monde",
          "port": "Lorient",
          "product": "Ouvrages métalliques",
          "value": 581187
         },
         {
          "importsexports": "Imports",
          "partner_type": "Monde",
          "port": "Lorient",
          "product": "Brai, goudron et résines",
          "value": 25079
         },
         {
          "importsexports": "Imports",
          "partner_type": "Monde",
          "port": "Lorient",
          "product": "Mercerie",
          "value": 35310
         },
         {
          "importsexports": "Imports",
          "partner_type": "Monde",
          "port": "Lorient",
          "product": "Gravelée, potasse et védasse",
          "value": 16180
         },
         {
          "importsexports": "Imports",
          "partner_type": "Monde",
          "port": "Lorient",
          "product": "Chairs et œufs",
          "value": 16392
         },
         {
          "importsexports": "Imports",
          "partner_type": "Monde",
          "port": "Lorient",
          "product": "Subsistances diverses et mélangées",
          "value": 13273
         },
         {
          "importsexports": "Imports",
          "partner_type": "Monde",
          "port": "Lorient",
          "product": "Chanvre",
          "value": 221498
         },
         {
          "importsexports": "Imports",
          "partner_type": "Monde",
          "port": "Lorient",
          "product": "Cire",
          "value": 2213
         },
         {
          "importsexports": "Imports",
          "partner_type": "Monde",
          "port": "Lorient",
          "product": "Étoffes de laine",
          "value": 35343
         },
         {
          "importsexports": "Imports",
          "partner_type": "Monde",
          "port": "Lorient",
          "product": "Azur et cobalt",
          "value": 300
         },
         {
          "importsexports": "Imports",
          "partner_type": "Monde",
          "port": "Lorient",
          "product": "Indigo",
          "value": 7800
         },
         {
          "importsexports": "Imports",
          "partner_type": "Monde",
          "port": "Lorient",
          "product": "Farine, gruau, biscuits et pâtes",
          "value": 41844
         },
         {
          "importsexports": "Imports",
          "partner_type": "Monde",
          "port": "Lorient",
          "product": "Fer-blanc",
          "value": 6990
         },
         {
          "importsexports": "Imports",
          "partner_type": "Monde",
          "port": "Lorient",
          "product": "Quincaillerie",
          "value": 18342
         },
         {
          "importsexports": "Imports",
          "partner_type": "Monde",
          "port": "Lorient",
          "product": "Fromage",
          "value": 24404.2
         },
         {
          "importsexports": "Imports",
          "partner_type": "Monde",
          "port": "Lorient",
          "product": "Graines grasses",
          "value": 17920
         },
         {
          "importsexports": "Imports",
          "partner_type": "Monde",
          "port": "Lorient",
          "product": "Graines diverses et mélangées",
          "value": 600
         },
         {
          "importsexports": "Imports",
          "partner_type": "Monde",
          "port": "Lorient",
          "product": "Blé et autres grains comestibles",
          "value": 24960
         },
         {
          "importsexports": "Imports",
          "partner_type": "Monde",
          "port": "Lorient",
          "product": "Riz",
          "value": 168621
         },
         {
          "importsexports": "Imports",
          "partner_type": "Monde",
          "port": "Lorient",
          "product": "Huile de poisson",
          "value": 66630
         },
         {
          "importsexports": "Imports",
          "partner_type": "Monde",
          "port": "Lorient",
          "product": "Huiles diverses",
          "value": 107498.79879999999
         },
         {
          "importsexports": "Imports",
          "partner_type": "Monde",
          "port": "Lorient",
          "product": "Lin",
          "value": 4192
         },
         {
          "importsexports": "Imports",
          "partner_type": "Monde",
          "port": "Lorient",
          "product": "Bijouterie et pierres fines",
          "value": 1400
         },
         {
          "importsexports": "Imports",
          "partner_type": "Monde",
          "port": "Lorient",
          "product": "Poils et crin",
          "value": 1654
         },
         {
          "importsexports": "Imports",
          "partner_type": "Monde",
          "port": "Lorient",
          "product": "Produits inconnus",
          "value": 954
         },
         {
          "importsexports": "Imports",
          "partner_type": "Monde",
          "port": "Lorient",
          "product": "Sucre",
          "value": 7000
         },
         {
          "importsexports": "Imports",
          "partner_type": "Monde",
          "port": "Lorient",
          "product": "Bougies, chandelles et flambeaux",
          "value": 3250
         },
         {
          "importsexports": "Imports",
          "partner_type": "Monde",
          "port": "Lorient",
          "product": "Meubles, glaces et miroirs",
          "value": 525
         },
         {
          "importsexports": "Imports",
          "partner_type": "Monde",
          "port": "Lorient",
          "product": "Mousseline, basin et nankin",
          "value": 1003
         },
         {
          "importsexports": "Exports",
          "partner_type": "France",
          "port": "Lorient",
          "product": "Ouvrages de bois, liège et jonc",
          "value": 8363
         },
         {
          "importsexports": "Imports",
          "partner_type": "France",
          "port": "Lorient",
          "product": "Ouvrages de bois, liège et jonc",
          "value": 460
         },
         {
          "importsexports": "Imports",
          "partner_type": "France",
          "port": "Lorient",
          "product": "Eaux-de-vie et liqueurs",
          "value": 6100
         },
         {
          "importsexports": "Exports",
          "partner_type": "France",
          "port": "Lorient",
          "product": "Drogues diverses",
          "value": 1177.5
         },
         {
          "importsexports": "Imports",
          "partner_type": "France",
          "port": "Lorient",
          "product": "Drogues diverses",
          "value": 1000
         },
         {
          "importsexports": "Imports",
          "partner_type": "France",
          "port": "Lorient",
          "product": "Divers mélangés",
          "value": 1088
         },
         {
          "importsexports": "Exports",
          "partner_type": "France",
          "port": "Lorient",
          "product": "Étoffes diverses",
          "value": 3945
         },
         {
          "importsexports": "Exports",
          "partner_type": "France",
          "port": "Lorient",
          "product": "Vins divers",
          "value": 349.5
         },
         {
          "importsexports": "Imports",
          "partner_type": "France",
          "port": "Lorient",
          "product": "Vins divers",
          "value": 14797.5
         },
         {
          "importsexports": "Exports",
          "partner_type": "France",
          "port": "Lorient",
          "product": "Beurre",
          "value": 3800.000095
         },
         {
          "importsexports": "Exports",
          "partner_type": "France",
          "port": "Lorient",
          "product": "Combustibles dont charbons et bois",
          "value": 216
         },
         {
          "importsexports": "Imports",
          "partner_type": "France",
          "port": "Lorient",
          "product": "Combustibles dont charbons et bois",
          "value": 894
         },
         {
          "importsexports": "Exports",
          "partner_type": "France",
          "port": "Lorient",
          "product": "Cuirs, peaux et pelleterie",
          "value": 3653
         },
         {
          "importsexports": "Exports",
          "partner_type": "France",
          "port": "Lorient",
          "product": "Matières premières diverses",
          "value": 119.999998
         },
         {
          "importsexports": "Imports",
          "partner_type": "France",
          "port": "Lorient",
          "product": "Fils divers",
          "value": 228
         },
         {
          "importsexports": "Imports",
          "partner_type": "France",
          "port": "Lorient",
          "product": "Graisses diverses",
          "value": 328
         },
         {
          "importsexports": "Imports",
          "partner_type": "France",
          "port": "Lorient",
          "product": "Thé",
          "value": 120
         },
         {
          "importsexports": "Exports",
          "partner_type": "France",
          "port": "Lorient",
          "product": "Toiles de chanvre et de lin",
          "value": 8883
         },
         {
          "importsexports": "Exports",
          "partner_type": "France",
          "port": "Lorient",
          "product": "Verrerie",
          "value": 390
         },
         {
          "importsexports": "Imports",
          "partner_type": "France",
          "port": "Lorient",
          "product": "Verrerie",
          "value": 115
         },
         {
          "importsexports": "Exports",
          "partner_type": "France",
          "port": "Lorient",
          "product": "Ouvrages divers et mélangés",
          "value": 1032
         },
         {
          "importsexports": "Imports",
          "partner_type": "France",
          "port": "Lorient",
          "product": "Ouvrages divers et mélangés",
          "value": 508
         },
         {
          "importsexports": "Exports",
          "partner_type": "France",
          "port": "Lorient",
          "product": "Rubanerie et passementerie diverse",
          "value": 642
         },
         {
          "importsexports": "Exports",
          "partner_type": "France",
          "port": "Lorient",
          "product": "Rubanerie et passementerie de soie",
          "value": 28975
         },
         {
          "importsexports": "Exports",
          "partner_type": "France",
          "port": "Lorient",
          "product": "Toiles diverses",
          "value": 13180
         },
         {
          "importsexports": "Exports",
          "partner_type": "France",
          "port": "Lorient",
          "product": "Toiles de coton",
          "value": 5730.5
         },
         {
          "importsexports": "Imports",
          "partner_type": "France",
          "port": "Lorient",
          "product": "Acier",
          "value": 180
         },
         {
          "importsexports": "Imports",
          "partner_type": "France",
          "port": "Lorient",
          "product": "Bonneterie hors soie",
          "value": 160
         },
         {
          "importsexports": "Imports",
          "partner_type": "France",
          "port": "Lorient",
          "product": "Ouvrages métalliques",
          "value": 25038
         },
         {
          "importsexports": "Imports",
          "partner_type": "France",
          "port": "Lorient",
          "product": "Mercerie",
          "value": 1264
         },
         {
          "importsexports": "Imports",
          "partner_type": "France",
          "port": "Lorient",
          "product": "Chairs et œufs",
          "value": 307.79999316
         },
         {
          "importsexports": "Imports",
          "partner_type": "France",
          "port": "Lorient",
          "product": "Fer-blanc",
          "value": 578.5
         },
         {
          "importsexports": "Imports",
          "partner_type": "France",
          "port": "Lorient",
          "product": "Fromage",
          "value": 20.4
         },
         {
          "importsexports": "Imports",
          "partner_type": "France",
          "port": "Lorient",
          "product": "Graines grasses",
          "value": 1186.4
         },
         {
          "importsexports": "Imports",
          "partner_type": "France",
          "port": "Lorient",
          "product": "Riz",
          "value": 1957.500075
         },
         {
          "importsexports": "Imports",
          "partner_type": "France",
          "port": "Lorient",
          "product": "Lin",
          "value": 153
         },
         {
          "importsexports": "Imports",
          "partner_type": "France",
          "port": "Lorient",
          "product": "Bougies, chandelles et flambeaux",
          "value": 132.00000165
         },
         {
          "importsexports": "Imports",
          "partner_type": "France",
          "port": "Lorient",
          "product": "Métaux divers et mélangés",
          "value": 422.79999396
         },
         {
          "importsexports": "Imports",
          "partner_type": "France",
          "port": "Lorient",
          "product": "Alun",
          "value": 1095
         },
         {
          "importsexports": "Imports",
          "partner_type": "France",
          "port": "Lorient",
          "product": "Sels chimiques",
          "value": 6720
         },
         {
          "importsexports": "Imports",
          "partner_type": "France",
          "port": "Lorient",
          "product": "Huile d'olive à manger",
          "value": 896
         },
         {
          "importsexports": "Imports",
          "partner_type": "France",
          "port": "Lorient",
          "product": "Meubles, glaces et miroirs",
          "value": 812
         },
         {
          "importsexports": "Imports",
          "partner_type": "France",
          "port": "Lorient",
          "product": "Châles et mouchoirs hors soie",
          "value": 744
         },
         {
          "importsexports": "Imports",
          "partner_type": "France",
          "port": "Lorient",
          "product": "Savon",
          "value": 12013.64945
         },
         {
          "importsexports": "Imports",
          "partner_type": "France",
          "port": "Lorient",
          "product": "Sirop et mélasse",
          "value": 435
         },
         {
          "importsexports": "Imports",
          "partner_type": "France",
          "port": "Lorient",
          "product": "Vins de Bordeaux",
          "value": 32856
         },
         {
          "importsexports": "Imports",
          "partner_type": "France",
          "port": "Lorient",
          "product": "Vin de liqueurs",
          "value": 1039
         },
         {
          "importsexports": "Exports",
          "partner_type": "Fraude ?",
          "port": "Lorient",
          "product": "Ouvrages de bois, liège et jonc",
          "value": 102710
         },
         {
          "importsexports": "Imports",
          "partner_type": "Fraude ?",
          "port": "Lorient",
          "product": "Matières brutes et transformées pour teinture",
          "value": 29800
         },
         {
          "importsexports": "Imports",
          "partner_type": "Fraude ?",
          "port": "Lorient",
          "product": "Cordage et filets",
          "value": 13500
         },
         {
          "importsexports": "Imports",
          "partner_type": "Fraude ?",
          "port": "Lorient",
          "product": "Eaux-de-vie et liqueurs",
          "value": 337611.25
         },
         {
          "importsexports": "Exports",
          "partner_type": "Fraude ?",
          "port": "Lorient",
          "product": "Drogues diverses",
          "value": 76.5
         },
         {
          "importsexports": "Exports",
          "partner_type": "Fraude ?",
          "port": "Lorient",
          "product": "Poivre et piment",
          "value": 3750
         },
         {
          "importsexports": "Imports",
          "partner_type": "Fraude ?",
          "port": "Lorient",
          "product": "Divers mélangés",
          "value": 498637
         },
         {
          "importsexports": "Imports",
          "partner_type": "Fraude ?",
          "port": "Lorient",
          "product": "Miel",
          "value": 57417
         },
         {
          "importsexports": "Imports",
          "partner_type": "Fraude ?",
          "port": "Lorient",
          "product": "Châles et mouchoirs de soie",
          "value": 42861
         },
         {
          "importsexports": "Exports",
          "partner_type": "Fraude ?",
          "port": "Lorient",
          "product": "Papier",
          "value": 7380
         },
         {
          "importsexports": "Imports",
          "partner_type": "Fraude ?",
          "port": "Lorient",
          "product": "Parfumerie et toilette",
          "value": 225
         },
         {
          "importsexports": "Imports",
          "partner_type": "Fraude ?",
          "port": "Lorient",
          "product": "Pêche et fruits de mer",
          "value": 23772
         },
         {
          "importsexports": "Exports",
          "partner_type": "Fraude ?",
          "port": "Lorient",
          "product": "Porcelaine, poterie, faïence et ouvrages de terre",
          "value": 39713
         },
         {
          "importsexports": "Imports",
          "partner_type": "Fraude ?",
          "port": "Lorient",
          "product": "Sel",
          "value": 178937.035
         },
         {
          "importsexports": "Exports",
          "partner_type": "Fraude ?",
          "port": "Lorient",
          "product": "Tabac",
          "value": 339322
         },
         {
          "importsexports": "Imports",
          "partner_type": "Fraude ?",
          "port": "Lorient",
          "product": "Étoffes diverses",
          "value": 17985
         },
         {
          "importsexports": "Exports",
          "partner_type": "Fraude ?",
          "port": "Lorient",
          "product": "Vins divers",
          "value": 13236
         },
         {
          "importsexports": "Exports",
          "partner_type": "Fraude ?",
          "port": "Lorient",
          "product": "Beurre",
          "value": 2674.999905
         },
         {
          "importsexports": "Exports",
          "partner_type": "Fraude ?",
          "port": "Lorient",
          "product": "Combustibles dont charbons et bois",
          "value": 15438
         },
         {
          "importsexports": "Imports",
          "partner_type": "Fraude ?",
          "port": "Lorient",
          "product": "Cuirs, peaux et pelleterie",
          "value": 52405.5
         },
         {
          "importsexports": "Exports",
          "partner_type": "Fraude ?",
          "port": "Lorient",
          "product": "Matières premières diverses",
          "value": 125127.000002
         },
         {
          "importsexports": "Imports",
          "partner_type": "Fraude ?",
          "port": "Lorient",
          "product": "Fils divers",
          "value": 2296
         },
         {
          "importsexports": "Exports",
          "partner_type": "Fraude ?",
          "port": "Lorient",
          "product": "Graisses diverses",
          "value": 8859.59997829
         },
         {
          "importsexports": "Imports",
          "partner_type": "Fraude ?",
          "port": "Lorient",
          "product": "Thé",
          "value": 3080
         },
         {
          "importsexports": "Imports",
          "partner_type": "Fraude ?",
          "port": "Lorient",
          "product": "Toiles de chanvre et de lin",
          "value": 140779.5
         },
         {
          "importsexports": "Exports",
          "partner_type": "Fraude ?",
          "port": "Lorient",
          "product": "Verrerie",
          "value": 2573
         },
         {
          "importsexports": "Imports",
          "partner_type": "Fraude ?",
          "port": "Lorient",
          "product": "Denrées coloniales et épiceries diverses",
          "value": 1872
         },
         {
          "importsexports": "Exports",
          "partner_type": "Fraude ?",
          "port": "Lorient",
          "product": "Ouvrages divers et mélangés",
          "value": 876
         },
         {
          "importsexports": "Imports",
          "partner_type": "Fraude ?",
          "port": "Lorient",
          "product": "Rubanerie et passementerie diverse",
          "value": 642
         },
         {
          "importsexports": "Imports",
          "partner_type": "Fraude ?",
          "port": "Lorient",
          "product": "Rubanerie et passementerie de soie",
          "value": 33565
         },
         {
          "importsexports": "Exports",
          "partner_type": "Fraude ?",
          "port": "Lorient",
          "product": "Toiles diverses",
          "value": 22040
         },
         {
          "importsexports": "Exports",
          "partner_type": "Fraude ?",
          "port": "Lorient",
          "product": "Toiles de coton",
          "value": 42954.5
         },
         {
          "importsexports": "Imports",
          "partner_type": "Fraude ?",
          "port": "Lorient",
          "product": "Divers incertains",
          "value": 1066384
         },
         {
          "importsexports": "Exports",
          "partner_type": "Fraude ?",
          "port": "Lorient",
          "product": "Acier",
          "value": 21926
         },
         {
          "importsexports": "Exports",
          "partner_type": "Fraude ?",
          "port": "Lorient",
          "product": "Bâtiments de mer et apparaux",
          "value": 175269
         },
         {
          "importsexports": "Exports",
          "partner_type": "Fraude ?",
          "port": "Lorient",
          "product": "Bière, cidre et vinaigre",
          "value": 23224
         },
         {
          "importsexports": "Exports",
          "partner_type": "Fraude ?",
          "port": "Lorient",
          "product": "Bonneterie hors soie",
          "value": 6135
         },
         {
          "importsexports": "Exports",
          "partner_type": "Fraude ?",
          "port": "Lorient",
          "product": "Bois divers hors combustible",
          "value": 243251
         },
         {
          "importsexports": "Exports",
          "partner_type": "Fraude ?",
          "port": "Lorient",
          "product": "Ouvrages métalliques",
          "value": 606225
         },
         {
          "importsexports": "Exports",
          "partner_type": "Fraude ?",
          "port": "Lorient",
          "product": "Brai, goudron et résines",
          "value": 25079
         },
         {
          "importsexports": "Exports",
          "partner_type": "Fraude ?",
          "port": "Lorient",
          "product": "Mercerie",
          "value": 36574
         },
         {
          "importsexports": "Exports",
          "partner_type": "Fraude ?",
          "port": "Lorient",
          "product": "Gravelée, potasse et védasse",
          "value": 16180
         },
         {
          "importsexports": "Exports",
          "partner_type": "Fraude ?",
          "port": "Lorient",
          "product": "Chairs et œufs",
          "value": 16699.79999316
         },
         {
          "importsexports": "Exports",
          "partner_type": "Fraude ?",
          "port": "Lorient",
          "product": "Subsistances diverses et mélangées",
          "value": 13273
         },
         {
          "importsexports": "Exports",
          "partner_type": "Fraude ?",
          "port": "Lorient",
          "product": "Chanvre",
          "value": 221498
         },
         {
          "importsexports": "Exports",
          "partner_type": "Fraude ?",
          "port": "Lorient",
          "product": "Cire",
          "value": 2213
         },
         {
          "importsexports": "Exports",
          "partner_type": "Fraude ?",
          "port": "Lorient",
          "product": "Étoffes de laine",
          "value": 35343
         },
         {
          "importsexports": "Exports",
          "partner_type": "Fraude ?",
          "port": "Lorient",
          "product": "Azur et cobalt",
          "value": 300
         },
         {
          "importsexports": "Exports",
          "partner_type": "Fraude ?",
          "port": "Lorient",
          "product": "Indigo",
          "value": 7800
         },
         {
          "importsexports": "Exports",
          "partner_type": "Fraude ?",
          "port": "Lorient",
          "product": "Farine, gruau, biscuits et pâtes",
          "value": 41844
         },
         {
          "importsexports": "Exports",
          "partner_type": "Fraude ?",
          "port": "Lorient",
          "product": "Fer-blanc",
          "value": 7568.5
         },
         {
          "importsexports": "Exports",
          "partner_type": "Fraude ?",
          "port": "Lorient",
          "product": "Quincaillerie",
          "value": 18342
         },
         {
          "importsexports": "Exports",
          "partner_type": "Fraude ?",
          "port": "Lorient",
          "product": "Fromage",
          "value": 24424.600000000002
         },
         {
          "importsexports": "Exports",
          "partner_type": "Fraude ?",
          "port": "Lorient",
          "product": "Graines grasses",
          "value": 19106.4
         },
         {
          "importsexports": "Exports",
          "partner_type": "Fraude ?",
          "port": "Lorient",
          "product": "Graines diverses et mélangées",
          "value": 600
         },
         {
          "importsexports": "Exports",
          "partner_type": "Fraude ?",
          "port": "Lorient",
          "product": "Blé et autres grains comestibles",
          "value": 24960
         },
         {
          "importsexports": "Exports",
          "partner_type": "Fraude ?",
          "port": "Lorient",
          "product": "Riz",
          "value": 170578.500075
         },
         {
          "importsexports": "Exports",
          "partner_type": "Fraude ?",
          "port": "Lorient",
          "product": "Huile de poisson",
          "value": 66630
         },
         {
          "importsexports": "Exports",
          "partner_type": "Fraude ?",
          "port": "Lorient",
          "product": "Huiles diverses",
          "value": 107498.79879999999
         },
         {
          "importsexports": "Exports",
          "partner_type": "Fraude ?",
          "port": "Lorient",
          "product": "Lin",
          "value": 4345
         },
         {
          "importsexports": "Exports",
          "partner_type": "Fraude ?",
          "port": "Lorient",
          "product": "Bijouterie et pierres fines",
          "value": 1400
         },
         {
          "importsexports": "Exports",
          "partner_type": "Fraude ?",
          "port": "Lorient",
          "product": "Poils et crin",
          "value": 1654
         },
         {
          "importsexports": "Exports",
          "partner_type": "Fraude ?",
          "port": "Lorient",
          "product": "Produits inconnus",
          "value": 954
         },
         {
          "importsexports": "Exports",
          "partner_type": "Fraude ?",
          "port": "Lorient",
          "product": "Sucre",
          "value": 7000
         },
         {
          "importsexports": "Exports",
          "partner_type": "Fraude ?",
          "port": "Lorient",
          "product": "Bougies, chandelles et flambeaux",
          "value": 3382.00000165
         },
         {
          "importsexports": "Exports",
          "partner_type": "Fraude ?",
          "port": "Lorient",
          "product": "Métaux divers et mélangés",
          "value": 422.79999396
         },
         {
          "importsexports": "Exports",
          "partner_type": "Fraude ?",
          "port": "Lorient",
          "product": "Alun",
          "value": 1095
         },
         {
          "importsexports": "Exports",
          "partner_type": "Fraude ?",
          "port": "Lorient",
          "product": "Sels chimiques",
          "value": 6720
         },
         {
          "importsexports": "Exports",
          "partner_type": "Fraude ?",
          "port": "Lorient",
          "product": "Huile d'olive à manger",
          "value": 896
         },
         {
          "importsexports": "Exports",
          "partner_type": "Fraude ?",
          "port": "Lorient",
          "product": "Meubles, glaces et miroirs",
          "value": 1337
         },
         {
          "importsexports": "Exports",
          "partner_type": "Fraude ?",
          "port": "Lorient",
          "product": "Châles et mouchoirs hors soie",
          "value": 744
         },
         {
          "importsexports": "Exports",
          "partner_type": "Fraude ?",
          "port": "Lorient",
          "product": "Savon",
          "value": 12013.64945
         },
         {
          "importsexports": "Exports",
          "partner_type": "Fraude ?",
          "port": "Lorient",
          "product": "Sirop et mélasse",
          "value": 435
         },
         {
          "importsexports": "Exports",
          "partner_type": "Fraude ?",
          "port": "Lorient",
          "product": "Mousseline, basin et nankin",
          "value": 1003
         },
         {
          "importsexports": "Exports",
          "partner_type": "Fraude ?",
          "port": "Lorient",
          "product": "Vins de Bordeaux",
          "value": 32856
         },
         {
          "importsexports": "Exports",
          "partner_type": "Fraude ?",
          "port": "Lorient",
          "product": "Vin de liqueurs",
          "value": 1039
         }
        ]
       },
       "spacing": 0,
       "title": "LORIENT\n Répartition des imports/exports en 1789 par tout produit",
       "vconcat": [
        {
         "hconcat": [
          {
           "encoding": {
            "color": {
             "field": "partner_type",
             "scale": {
              "domain": [
               "colonies",
               "Monde",
               "France",
               "Fraude ?"
              ],
              "range": [
               "purple",
               "darkblue",
               "olive",
               "lightgrey",
               "darkgrey"
              ]
             },
             "type": "nominal"
            },
            "order": {
             "expr": "-1*indexof(['colonies', 'Monde', 'France', 'Fraude ?'], datum.partner_type)",
             "type": "ordinal"
            },
            "x": {
             "field": "value",
             "sort": "descending",
             "title": "Valeur (Lt)",
             "type": "quantitative"
            },
            "y": {
             "field": "product",
             "sort": "-x",
             "title": null,
             "type": "ordinal"
            }
           },
           "mark": {
            "tooltip": {
             "content": "data"
            },
            "type": "bar"
           },
           "title": "import",
           "transform": [
            {
             "filter": {
              "equal": "Imports",
              "field": "importsexports"
             }
            }
           ]
          },
          {
           "encoding": {
            "color": {
             "field": "partner_type",
             "scale": {
              "domain": [
               "colonies",
               "Monde",
               "France",
               "Fraude ?"
              ],
              "range": [
               "purple",
               "darkblue",
               "olive",
               "lightgrey",
               "darkgrey"
              ]
             },
             "sort": [
              "colonies",
              "Monde",
              "France",
              "Fraude ?"
             ],
             "type": "nominal"
            },
            "order": {
             "expr": "indexof(['colonies', 'Monde', 'France', 'Fraude ?'], datum.partner_type)",
             "type": "ordinal"
            },
            "x": {
             "field": "value",
             "title": "Valeur (Lt)",
             "type": "quantitative"
            },
            "y": {
             "axis": null,
             "field": "product",
             "sort": "-x",
             "title": null,
             "type": "ordinal"
            }
           },
           "mark": {
            "tooltip": {
             "content": "data"
            },
            "type": "bar"
           },
           "title": "export",
           "transform": [
            {
             "filter": {
              "equal": "Exports",
              "field": "importsexports"
             }
            }
           ]
          }
         ]
        },
        {
         "hconcat": [
          {
           "encoding": {
            "color": {
             "field": "partner_type",
             "scale": {
              "domain": [
               "colonies",
               "Monde",
               "France",
               "Fraude ?"
              ],
              "range": [
               "purple",
               "darkblue",
               "olive",
               "lightgrey",
               "darkgrey"
              ]
             },
             "sort": [
              "colonies",
              "Monde",
              "France",
              "Fraude ?"
             ],
             "type": "nominal"
            },
            "x": {
             "field": "total_value",
             "scale": {
              "domain": [
               0,
               2834871.9988
              ]
             },
             "sort": "descending",
             "title": "Valeur tous produits (Lt)",
             "type": "quantitative"
            },
            "y": {
             "field": "partner_type",
             "scale": {
              "domain": [
               "colonies",
               "Monde",
               "France",
               "Fraude ?"
              ]
             },
             "sort": [
              "colonies",
              "Monde",
              "France",
              "Fraude ?"
             ],
             "title": null,
             "type": "ordinal"
            }
           },
           "mark": {
            "tooltip": {
             "content": "data"
            },
            "type": "bar"
           },
           "transform": [
            {
             "filter": {
              "equal": "Imports",
              "field": "importsexports"
             }
            },
            {
             "aggregate": [
              {
               "as": "total_value",
               "field": "value",
               "op": "sum"
              }
             ],
             "groupby": [
              "partner_type"
             ]
            }
           ]
          },
          {
           "encoding": {
            "color": {
             "field": "partner_type",
             "scale": {
              "domain": [
               "colonies",
               "Monde",
               "France",
               "Fraude ?"
              ],
              "range": [
               "purple",
               "darkblue",
               "olive",
               "lightgrey",
               "darkgrey"
              ]
             },
             "sort": [
              "colonies",
              "Monde",
              "France",
              "Fraude ?"
             ],
             "type": "nominal"
            },
            "x": {
             "field": "total_value",
             "scale": {
              "domain": [
               0,
               2834871.9988
              ]
             },
             "sort": "ascending",
             "title": "Valeur tous produits (Lt)",
             "type": "quantitative"
            },
            "y": {
             "axis": null,
             "field": "partner_type",
             "scale": {
              "domain": [
               "colonies",
               "Monde",
               "France",
               "Fraude ?"
              ]
             },
             "sort": [
              "colonies",
              "Monde",
              "France",
              "Fraude ?"
             ],
             "title": null,
             "type": "ordinal"
            }
           },
           "mark": {
            "tooltip": {
             "content": "data"
            },
            "type": "bar"
           },
           "transform": [
            {
             "filter": {
              "equal": "Exports",
              "field": "importsexports"
             }
            },
            {
             "aggregate": [
              {
               "as": "total_value",
               "field": "value",
               "op": "sum"
              }
             ],
             "groupby": [
              "partner_type"
             ]
            }
           ]
          }
         ]
        },
        {
         "hconcat": [
          {
           "encoding": {
            "x": {
             "field": "total_value",
             "scale": {
              "domain": [
               0,
               5450290.833313771
              ]
             },
             "sort": "descending",
             "title": "Valeur tous produits (Lt)",
             "type": "quantitative"
            }
           },
           "mark": {
            "tooltip": {
             "content": "data"
            },
            "type": "bar"
           },
           "transform": [
            {
             "filter": {
              "equal": "Imports",
              "field": "importsexports"
             }
            },
            {
             "filter": "indexof(datum.partner_type,'?')==-1"
            },
            {
             "aggregate": [
              {
               "as": "total_value",
               "field": "value",
               "op": "sum"
              }
             ]
            }
           ]
          },
          {
           "encoding": {
            "x": {
             "field": "total_value",
             "scale": {
              "domain": [
               0,
               5450290.833313771
              ]
             },
             "sort": "ascending",
             "title": "Totaux (Lt)",
             "type": "quantitative"
            }
           },
           "mark": {
            "tooltip": {
             "content": "data"
            },
            "type": "bar"
           },
           "transform": [
            {
             "filter": {
              "equal": "Exports",
              "field": "importsexports"
             }
            },
            {
             "filter": "indexof(datum.partner_type,'?')==-1"
            },
            {
             "aggregate": [
              {
               "as": "total_value",
               "field": "value",
               "op": "sum"
              }
             ]
            }
           ]
          }
         ]
        }
       ]
      }
     },
     "metadata": {},
     "output_type": "display_data"
    }
   ],
   "source": [
    "for city in [\"Dunkerque\", \"Bayonne\", \"Marseille\", \"Lorient\"]:\n",
    "    pyramide_port_franc(city, data[city][\"detail_products\"], \"product\", \"partner_type\", \"produits coloniaux (révolution et empire)\" if city == \"Dunkerque\" else \"tout produit\")"
   ]
  }
 ],
 "metadata": {
  "kernelspec": {
   "display_name": "Python 3",
   "language": "python",
   "name": "python3"
  },
  "language_info": {
   "codemirror_mode": {
    "name": "ipython",
    "version": 3
   },
   "file_extension": ".py",
   "mimetype": "text/x-python",
   "name": "python",
   "nbconvert_exporter": "python",
   "pygments_lexer": "ipython3",
   "version": "3.8.3"
  }
 },
 "nbformat": 4,
 "nbformat_minor": 5
}
