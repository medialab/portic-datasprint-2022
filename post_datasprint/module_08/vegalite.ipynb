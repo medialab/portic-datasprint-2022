{
 "cells": [
  {
   "cell_type": "code",
   "execution_count": 1,
   "id": "aa751e41-a63b-4525-a950-97c9d86f75f5",
   "metadata": {},
   "outputs": [],
   "source": [
    "from IPython.display import display\n",
    "import pandas as pd\n",
    "\n",
    "def VegaLite(spec):\n",
    "    bundle = {}\n",
    "    bundle['application/vnd.vegalite.v4+json'] = spec\n",
    "    display(bundle, raw=True)"
   ]
  },
  {
   "cell_type": "code",
   "execution_count": 35,
   "id": "2d6a8fd8-1384-46cf-aecf-18d03d95a3b8",
   "metadata": {},
   "outputs": [],
   "source": [
    "import json\n",
    "\n",
    "with open(\"data/import_export_ports_francs.json\", \"r\") as f:\n",
    "    data = json.load(f)"
   ]
  },
  {
   "cell_type": "code",
   "execution_count": 3,
   "id": "e5536b8c-a4ea-4e73-9a47-ff4a0f762ef7",
   "metadata": {},
   "outputs": [],
   "source": [
    "SORT_LABELS = [\"colonies\", \"Monde\", \"France\", \"Fraude ?\"]\n",
    "PALETTE = [\"purple\", \"darkblue\", \"olive\", \"lightgrey\", \"darkgrey\"]"
   ]
  },
  {
   "cell_type": "code",
   "execution_count": 38,
   "id": "0c46e8b3-4b0b-48f7-9102-0576468e9942",
   "metadata": {},
   "outputs": [],
   "source": [
    "from itertools import groupby\n",
    "\n",
    "def pyramide_port_franc(port_franc, report, row_field, bloc_field, product_title):\n",
    "    \n",
    "    key = lambda d: (d['importsexports'], d[bloc_field])\n",
    "    sd = sorted(report, key=key)\n",
    "    max_scale = max([sum(t[\"value\"] for t in totals) for group, totals in groupby(sd, key=key)])\n",
    "    max_total = max([sum(t[\"value\"] for t in totals) for exp_imp, totals in groupby(sd, key=lambda d: d['importsexports'])])\n",
    "    report = sorted(report, key= lambda row: (row[row_field], row[\"importsexports\"], SORT_LABELS.index(row[bloc_field])))\n",
    "    VegaLite({\n",
    "      \"title\": f\"{port_franc.upper()}\\n Répartition des imports/exports en 1789 par {product_title}\",\n",
    "      \"data\": {\"values\": report},\n",
    "      \"spacing\": 0,\n",
    "      \"vconcat\": [{\"hconcat\": [{\n",
    "            \"transform\": [{\n",
    "              \"filter\": {\"field\": \"importsexports\", \"equal\": \"Imports\"}\n",
    "            }],\n",
    "            \"title\": \"import\",\n",
    "            \"mark\": {\"type\":\"bar\", \"tooltip\": {\"content\": \"data\"}},\n",
    "            \"encoding\": {\n",
    "              \"y\": {\n",
    "                \"field\": row_field, \"title\": None, \"sort\": \"-x\", \"type\": \"ordinal\"\n",
    "              },\n",
    "              \"x\": {\n",
    "                \"field\": \"value\",\n",
    "                \"type\": \"quantitative\",\n",
    "                \"title\": \"Valeur (Lt)\",\n",
    "                  \"sort\": \"descending\"\n",
    "              },\n",
    "              \"color\": {\n",
    "                \"field\": bloc_field,\n",
    "                \"type\": \"nominal\", \n",
    "               \n",
    "                \"scale\": {\n",
    "                    \"domain\": SORT_LABELS,\n",
    "                    \"range\": PALETTE\n",
    "                },\n",
    "\n",
    "              }\n",
    "            }\n",
    "          },\n",
    "          {\n",
    "            \"transform\": [{\n",
    "              \"filter\": {\"field\": \"importsexports\", \"equal\": \"Exports\"}\n",
    "            }],\n",
    "            \"title\": \"export\",\n",
    "            \"mark\": {\"type\":\"bar\", \"tooltip\": {\"content\": \"data\"}},\n",
    "            \"encoding\": {\n",
    "              \"y\": {\n",
    "                \"field\": row_field, \"sort\": \"-x\", \"title\": None, \"axis\": None, \"type\": \"ordinal\"\n",
    "\n",
    "              },\n",
    "              \"x\": {\n",
    "                \"field\": \"value\",\n",
    "                \"type\": \"quantitative\",\n",
    "                \"title\": \"Valeur (Lt)\",\n",
    "                \"sort\": \"ascending\"\n",
    "              },\n",
    "              \"color\": {\n",
    "                \"field\": bloc_field,\n",
    "                \"type\": \"nominal\", \n",
    "                \"sort\": SORT_LABELS, \n",
    "                \"scale\": {\n",
    "                    \"domain\": SORT_LABELS,\n",
    "                    \"range\": PALETTE\n",
    "                },\n",
    "              }\n",
    "            }\n",
    "          }\n",
    "          ]}, {\"hconcat\": [{\n",
    "            \"transform\": [\n",
    "                {\n",
    "              \"filter\": {\"field\": \"importsexports\", \"equal\": \"Imports\"}\n",
    "            },\n",
    "            {\n",
    "                  \"aggregate\": [{\n",
    "                   \"op\": \"sum\",\n",
    "                   \"field\": \"value\",\n",
    "                   \"as\": \"total_value\"\n",
    "                  }],\n",
    "                  \"groupby\": [bloc_field]\n",
    "            }\n",
    "            ],\n",
    "            \"mark\": {\"type\":\"bar\", \"tooltip\": {\"content\": \"data\"}},\n",
    "            \"encoding\": {\n",
    "              \"y\": {\n",
    "                \"field\": bloc_field, \n",
    "                \"title\": None, \n",
    "                \"type\": \"ordinal\",\n",
    "                \"sort\": SORT_LABELS,\n",
    "                \"scale\": {\"domain\": SORT_LABELS},\n",
    "\n",
    "              },\n",
    "              \"x\": {\n",
    "                \"field\": \"total_value\",\n",
    "                \"type\": \"quantitative\",\n",
    "                \"title\": \"Valeur tous produits (Lt)\",\n",
    "                \"sort\": \"descending\",\n",
    "                \"scale\": {\"domain\": [0, max_scale]}\n",
    "              },\n",
    "              \"color\": {\n",
    "                \"field\": bloc_field,\n",
    "                \"type\": \"nominal\", \n",
    "                \"sort\": SORT_LABELS, \n",
    "                \"scale\": {\n",
    "                    \"domain\": SORT_LABELS,\n",
    "                    \"range\": PALETTE\n",
    "                },\n",
    "              }\n",
    "            }\n",
    "          },\n",
    "          {\n",
    "            \"transform\": [\n",
    "                {\n",
    "              \"filter\": {\"field\": \"importsexports\", \"equal\": \"Exports\"}\n",
    "            },\n",
    "            {\n",
    "                  \"aggregate\": [{\n",
    "                   \"op\": \"sum\",\n",
    "                   \"field\": \"value\",\n",
    "                   \"as\": \"total_value\"\n",
    "                  }],\n",
    "                  \"groupby\": [bloc_field]\n",
    "            }\n",
    "            ],\n",
    "            \"mark\": {\"type\":\"bar\", \"tooltip\": {\"content\": \"data\"}},\n",
    "            \"encoding\": {\n",
    "              \"y\": {\n",
    "                \"field\": bloc_field, \n",
    "                \"title\": None, \n",
    "                \"axis\": None, \n",
    "                \"type\": \"ordinal\",\n",
    "                \"sort\": SORT_LABELS,\n",
    "                \"scale\": {\"domain\": SORT_LABELS},\n",
    "\n",
    "              },\n",
    "              \"x\": {\n",
    "                \"field\": \"total_value\",\n",
    "                \"type\": \"quantitative\",\n",
    "                \"title\": \"Valeur tous produits (Lt)\",\n",
    "                \"sort\": \"ascending\", \n",
    "                \"scale\": {\"domain\": [0, max_scale]}\n",
    "              },\n",
    "              \"color\": {\n",
    "                \"field\": bloc_field,\n",
    "                \"type\": \"nominal\", \n",
    "                \"sort\": SORT_LABELS, \n",
    "                \"scale\": {\n",
    "                    \"domain\": SORT_LABELS,\n",
    "                    \"range\": PALETTE\n",
    "                },\n",
    "              }\n",
    "            }\n",
    "          }\n",
    "          ]},\n",
    "          {\"hconcat\": [{\n",
    "            \"transform\": [\n",
    "            {\n",
    "              \"filter\": {\"field\": \"importsexports\", \"equal\": \"Imports\"}\n",
    "            },\n",
    "                        {\n",
    "              \"filter\": f\"indexof(datum.{bloc_field},'?')==-1\"\n",
    "            },\n",
    "\n",
    "            {\n",
    "                  \"aggregate\": [{\n",
    "                   \"op\": \"sum\",\n",
    "                   \"field\": \"value\",\n",
    "                   \"as\": \"total_value\"\n",
    "                  }]\n",
    "            }\n",
    "            ],\n",
    "            \"mark\": {\"type\":\"bar\", \"tooltip\": {\"content\": \"data\"}},\n",
    "            \"encoding\": {\n",
    "              \"x\": {\n",
    "                \"field\": \"total_value\",\n",
    "                \"type\": \"quantitative\",\n",
    "                \"title\": \"Valeur tous produits (Lt)\",\n",
    "                \"sort\": \"descending\",\n",
    "                 \"scale\": {\"domain\": [0, max_total]}\n",
    "              },\n",
    "            }\n",
    "          },\n",
    "          {\n",
    "            \"transform\": [\n",
    "            {\n",
    "              \"filter\": {\"field\": \"importsexports\", \"equal\": \"Exports\"}\n",
    "            },\n",
    "                {\n",
    "              \"filter\": f\"indexof(datum.{bloc_field},'?')==-1\"\n",
    "            },\n",
    "            {\n",
    "                  \"aggregate\": [{\n",
    "                   \"op\": \"sum\",\n",
    "                   \"field\": \"value\",\n",
    "                   \"as\": \"total_value\"\n",
    "                  }]\n",
    "            }\n",
    "            ],\n",
    "            \"mark\": {\"type\":\"bar\", \"tooltip\": {\"content\": \"data\"}},\n",
    "            \"encoding\": {\n",
    "              \"x\": {\n",
    "                \"field\": \"total_value\",\n",
    "                \"type\": \"quantitative\",\n",
    "                \"title\": \"Totaux (Lt)\",\n",
    "                \"sort\": \"ascending\",\n",
    "                \"scale\": {\"domain\": [0, max_total]}\n",
    "              }\n",
    "            }\n",
    "          }\n",
    "          ]},\n",
    "          \n",
    "        ]\n",
    "    }\n",
    "    )"
   ]
  },
  {
   "cell_type": "markdown",
   "id": "ed3c3b5c",
   "metadata": {},
   "source": [
    "## Différence entre Importations et Exportations des produits coloniaux/autres\n",
    "\n",
    "Dans TOFLIT18, les statistiques des ports francs en 1789 décrivent toutes les importations mais uniqument les exportations de produits coloniaux.\n",
    "Aussi si l'on calcule la différence entre importations et les exportations, on estime la masse des flux qui : \n",
    "- pour les produits non coloniaux : les réexportations vers le monde\n",
    "- pour les produits coloniaux : le volume d'exportations non déclarées (fraude)\n",
    "\n",
    "En utilisant la classification Reexportation qui isole les produits qui sont probablement des produits coloniaux on compare les valeurs des importations et des exportations pour les ports francs.\n",
    "\n",
    "Pour Dunkerque on constate une part très importante d'exportations manquante des produits coloniaux.\n",
    "\n",
    "Pour Marseille, les différences sont bien moins importantes en valeur. Il semble y avoir tout de même une part de fraude dans les réexportations des produits coloniaux. A moins que cette part soit due à une transformation par l'industrie locale avatn réexporation transformée.\n",
    "\n",
    "Pour Lorient, si il y a une légère anomalie également dans la réexportation des produits coloniaux il y a surtout une différence importante entre les deux autre catégories.\n",
    "\n",
    "Pour Bayonne il semble il y avoir un problème dans les statistiques. A étudier."
   ]
  },
  {
   "cell_type": "code",
   "execution_count": 39,
   "id": "c19eb72b-d3ee-4419-b046-e068bafe79ed",
   "metadata": {},
   "outputs": [
    {
     "data": {
      "application/vnd.vegalite.v4+json": {
       "data": {
        "values": [
         {
          "importsexports": "Exports",
          "partner_type": "colonies",
          "port": "Dunkerque",
          "product_type": "autres produits",
          "value": 1411503
         },
         {
          "importsexports": "Exports",
          "partner_type": "France",
          "port": "Dunkerque",
          "product_type": "autres produits",
          "value": 3618187.25966314
         },
         {
          "importsexports": "Exports",
          "partner_type": "Fraude ?",
          "port": "Dunkerque",
          "product_type": "autres produits",
          "value": 29232094.740336858
         },
         {
          "importsexports": "Imports",
          "partner_type": "Monde",
          "port": "Dunkerque",
          "product_type": "autres produits",
          "value": 34261785
         },
         {
          "importsexports": "Exports",
          "partner_type": "Monde",
          "port": "Dunkerque",
          "product_type": "produits coloniaux",
          "value": 4560525
         },
         {
          "importsexports": "Exports",
          "partner_type": "Fraude ?",
          "port": "Dunkerque",
          "product_type": "produits coloniaux",
          "value": 4109630
         },
         {
          "importsexports": "Imports",
          "partner_type": "colonies",
          "port": "Dunkerque",
          "product_type": "produits coloniaux",
          "value": 8670155
         }
        ]
       },
       "spacing": 0,
       "title": "DUNKERQUE\n Répartition des imports/exports en 1789 par type de produits",
       "vconcat": [
        {
         "hconcat": [
          {
           "encoding": {
            "color": {
             "field": "partner_type",
             "scale": {
              "domain": [
               "colonies",
               "Monde",
               "France",
               "Fraude ?"
              ],
              "range": [
               "purple",
               "darkblue",
               "olive",
               "lightgrey",
               "darkgrey"
              ]
             },
             "type": "nominal"
            },
            "x": {
             "field": "value",
             "sort": "descending",
             "title": "Valeur (Lt)",
             "type": "quantitative"
            },
            "y": {
             "field": "product_type",
             "sort": "-x",
             "title": null,
             "type": "ordinal"
            }
           },
           "mark": {
            "tooltip": {
             "content": "data"
            },
            "type": "bar"
           },
           "title": "import",
           "transform": [
            {
             "filter": {
              "equal": "Imports",
              "field": "importsexports"
             }
            }
           ]
          },
          {
           "encoding": {
            "color": {
             "field": "partner_type",
             "scale": {
              "domain": [
               "colonies",
               "Monde",
               "France",
               "Fraude ?"
              ],
              "range": [
               "purple",
               "darkblue",
               "olive",
               "lightgrey",
               "darkgrey"
              ]
             },
             "sort": [
              "colonies",
              "Monde",
              "France",
              "Fraude ?"
             ],
             "type": "nominal"
            },
            "x": {
             "field": "value",
             "sort": "ascending",
             "title": "Valeur (Lt)",
             "type": "quantitative"
            },
            "y": {
             "axis": null,
             "field": "product_type",
             "sort": "-x",
             "title": null,
             "type": "ordinal"
            }
           },
           "mark": {
            "tooltip": {
             "content": "data"
            },
            "type": "bar"
           },
           "title": "export",
           "transform": [
            {
             "filter": {
              "equal": "Exports",
              "field": "importsexports"
             }
            }
           ]
          }
         ]
        },
        {
         "hconcat": [
          {
           "encoding": {
            "color": {
             "field": "partner_type",
             "scale": {
              "domain": [
               "colonies",
               "Monde",
               "France",
               "Fraude ?"
              ],
              "range": [
               "purple",
               "darkblue",
               "olive",
               "lightgrey",
               "darkgrey"
              ]
             },
             "sort": [
              "colonies",
              "Monde",
              "France",
              "Fraude ?"
             ],
             "type": "nominal"
            },
            "x": {
             "field": "total_value",
             "scale": {
              "domain": [
               0,
               34261785
              ]
             },
             "sort": "descending",
             "title": "Valeur tous produits (Lt)",
             "type": "quantitative"
            },
            "y": {
             "field": "partner_type",
             "scale": {
              "domain": [
               "colonies",
               "Monde",
               "France",
               "Fraude ?"
              ]
             },
             "sort": [
              "colonies",
              "Monde",
              "France",
              "Fraude ?"
             ],
             "title": null,
             "type": "ordinal"
            }
           },
           "mark": {
            "tooltip": {
             "content": "data"
            },
            "type": "bar"
           },
           "transform": [
            {
             "filter": {
              "equal": "Imports",
              "field": "importsexports"
             }
            },
            {
             "aggregate": [
              {
               "as": "total_value",
               "field": "value",
               "op": "sum"
              }
             ],
             "groupby": [
              "partner_type"
             ]
            }
           ]
          },
          {
           "encoding": {
            "color": {
             "field": "partner_type",
             "scale": {
              "domain": [
               "colonies",
               "Monde",
               "France",
               "Fraude ?"
              ],
              "range": [
               "purple",
               "darkblue",
               "olive",
               "lightgrey",
               "darkgrey"
              ]
             },
             "sort": [
              "colonies",
              "Monde",
              "France",
              "Fraude ?"
             ],
             "type": "nominal"
            },
            "x": {
             "field": "total_value",
             "scale": {
              "domain": [
               0,
               34261785
              ]
             },
             "sort": "ascending",
             "title": "Valeur tous produits (Lt)",
             "type": "quantitative"
            },
            "y": {
             "axis": null,
             "field": "partner_type",
             "scale": {
              "domain": [
               "colonies",
               "Monde",
               "France",
               "Fraude ?"
              ]
             },
             "sort": [
              "colonies",
              "Monde",
              "France",
              "Fraude ?"
             ],
             "title": null,
             "type": "ordinal"
            }
           },
           "mark": {
            "tooltip": {
             "content": "data"
            },
            "type": "bar"
           },
           "transform": [
            {
             "filter": {
              "equal": "Exports",
              "field": "importsexports"
             }
            },
            {
             "aggregate": [
              {
               "as": "total_value",
               "field": "value",
               "op": "sum"
              }
             ],
             "groupby": [
              "partner_type"
             ]
            }
           ]
          }
         ]
        },
        {
         "hconcat": [
          {
           "encoding": {
            "x": {
             "field": "total_value",
             "scale": {
              "domain": [
               0,
               42931940
              ]
             },
             "sort": "descending",
             "title": "Valeur tous produits (Lt)",
             "type": "quantitative"
            }
           },
           "mark": {
            "tooltip": {
             "content": "data"
            },
            "type": "bar"
           },
           "transform": [
            {
             "filter": {
              "equal": "Imports",
              "field": "importsexports"
             }
            },
            {
             "filter": "indexof(datum.partner_type,'?')==-1"
            },
            {
             "aggregate": [
              {
               "as": "total_value",
               "field": "value",
               "op": "sum"
              }
             ]
            }
           ]
          },
          {
           "encoding": {
            "x": {
             "field": "total_value",
             "scale": {
              "domain": [
               0,
               42931940
              ]
             },
             "sort": "ascending",
             "title": "Totaux (Lt)",
             "type": "quantitative"
            }
           },
           "mark": {
            "tooltip": {
             "content": "data"
            },
            "type": "bar"
           },
           "transform": [
            {
             "filter": {
              "equal": "Exports",
              "field": "importsexports"
             }
            },
            {
             "filter": "indexof(datum.partner_type,'?')==-1"
            },
            {
             "aggregate": [
              {
               "as": "total_value",
               "field": "value",
               "op": "sum"
              }
             ]
            }
           ]
          }
         ]
        }
       ]
      }
     },
     "metadata": {},
     "output_type": "display_data"
    },
    {
     "data": {
      "application/vnd.vegalite.v4+json": {
       "data": {
        "values": [
         {
          "importsexports": "Exports",
          "partner_type": "colonies",
          "port": "Bayonne",
          "product_type": "tout produit",
          "value": 500164
         },
         {
          "importsexports": "Exports",
          "partner_type": "Monde",
          "port": "Bayonne",
          "product_type": "tout produit",
          "value": 3559266
         },
         {
          "importsexports": "Exports",
          "partner_type": "Fraude ?",
          "port": "Bayonne",
          "product_type": "tout produit",
          "value": 5201363
         },
         {
          "importsexports": "Imports",
          "partner_type": "colonies",
          "port": "Bayonne",
          "product_type": "tout produit",
          "value": 890608
         },
         {
          "importsexports": "Imports",
          "partner_type": "Monde",
          "port": "Bayonne",
          "product_type": "tout produit",
          "value": 8370185
         }
        ]
       },
       "spacing": 0,
       "title": "BAYONNE\n Répartition des imports/exports en 1789 par type de produits",
       "vconcat": [
        {
         "hconcat": [
          {
           "encoding": {
            "color": {
             "field": "partner_type",
             "scale": {
              "domain": [
               "colonies",
               "Monde",
               "France",
               "Fraude ?"
              ],
              "range": [
               "purple",
               "darkblue",
               "olive",
               "lightgrey",
               "darkgrey"
              ]
             },
             "type": "nominal"
            },
            "x": {
             "field": "value",
             "sort": "descending",
             "title": "Valeur (Lt)",
             "type": "quantitative"
            },
            "y": {
             "field": "product_type",
             "sort": "-x",
             "title": null,
             "type": "ordinal"
            }
           },
           "mark": {
            "tooltip": {
             "content": "data"
            },
            "type": "bar"
           },
           "title": "import",
           "transform": [
            {
             "filter": {
              "equal": "Imports",
              "field": "importsexports"
             }
            }
           ]
          },
          {
           "encoding": {
            "color": {
             "field": "partner_type",
             "scale": {
              "domain": [
               "colonies",
               "Monde",
               "France",
               "Fraude ?"
              ],
              "range": [
               "purple",
               "darkblue",
               "olive",
               "lightgrey",
               "darkgrey"
              ]
             },
             "sort": [
              "colonies",
              "Monde",
              "France",
              "Fraude ?"
             ],
             "type": "nominal"
            },
            "x": {
             "field": "value",
             "sort": "ascending",
             "title": "Valeur (Lt)",
             "type": "quantitative"
            },
            "y": {
             "axis": null,
             "field": "product_type",
             "sort": "-x",
             "title": null,
             "type": "ordinal"
            }
           },
           "mark": {
            "tooltip": {
             "content": "data"
            },
            "type": "bar"
           },
           "title": "export",
           "transform": [
            {
             "filter": {
              "equal": "Exports",
              "field": "importsexports"
             }
            }
           ]
          }
         ]
        },
        {
         "hconcat": [
          {
           "encoding": {
            "color": {
             "field": "partner_type",
             "scale": {
              "domain": [
               "colonies",
               "Monde",
               "France",
               "Fraude ?"
              ],
              "range": [
               "purple",
               "darkblue",
               "olive",
               "lightgrey",
               "darkgrey"
              ]
             },
             "sort": [
              "colonies",
              "Monde",
              "France",
              "Fraude ?"
             ],
             "type": "nominal"
            },
            "x": {
             "field": "total_value",
             "scale": {
              "domain": [
               0,
               8370185
              ]
             },
             "sort": "descending",
             "title": "Valeur tous produits (Lt)",
             "type": "quantitative"
            },
            "y": {
             "field": "partner_type",
             "scale": {
              "domain": [
               "colonies",
               "Monde",
               "France",
               "Fraude ?"
              ]
             },
             "sort": [
              "colonies",
              "Monde",
              "France",
              "Fraude ?"
             ],
             "title": null,
             "type": "ordinal"
            }
           },
           "mark": {
            "tooltip": {
             "content": "data"
            },
            "type": "bar"
           },
           "transform": [
            {
             "filter": {
              "equal": "Imports",
              "field": "importsexports"
             }
            },
            {
             "aggregate": [
              {
               "as": "total_value",
               "field": "value",
               "op": "sum"
              }
             ],
             "groupby": [
              "partner_type"
             ]
            }
           ]
          },
          {
           "encoding": {
            "color": {
             "field": "partner_type",
             "scale": {
              "domain": [
               "colonies",
               "Monde",
               "France",
               "Fraude ?"
              ],
              "range": [
               "purple",
               "darkblue",
               "olive",
               "lightgrey",
               "darkgrey"
              ]
             },
             "sort": [
              "colonies",
              "Monde",
              "France",
              "Fraude ?"
             ],
             "type": "nominal"
            },
            "x": {
             "field": "total_value",
             "scale": {
              "domain": [
               0,
               8370185
              ]
             },
             "sort": "ascending",
             "title": "Valeur tous produits (Lt)",
             "type": "quantitative"
            },
            "y": {
             "axis": null,
             "field": "partner_type",
             "scale": {
              "domain": [
               "colonies",
               "Monde",
               "France",
               "Fraude ?"
              ]
             },
             "sort": [
              "colonies",
              "Monde",
              "France",
              "Fraude ?"
             ],
             "title": null,
             "type": "ordinal"
            }
           },
           "mark": {
            "tooltip": {
             "content": "data"
            },
            "type": "bar"
           },
           "transform": [
            {
             "filter": {
              "equal": "Exports",
              "field": "importsexports"
             }
            },
            {
             "aggregate": [
              {
               "as": "total_value",
               "field": "value",
               "op": "sum"
              }
             ],
             "groupby": [
              "partner_type"
             ]
            }
           ]
          }
         ]
        },
        {
         "hconcat": [
          {
           "encoding": {
            "x": {
             "field": "total_value",
             "scale": {
              "domain": [
               0,
               9260793
              ]
             },
             "sort": "descending",
             "title": "Valeur tous produits (Lt)",
             "type": "quantitative"
            }
           },
           "mark": {
            "tooltip": {
             "content": "data"
            },
            "type": "bar"
           },
           "transform": [
            {
             "filter": {
              "equal": "Imports",
              "field": "importsexports"
             }
            },
            {
             "filter": "indexof(datum.partner_type,'?')==-1"
            },
            {
             "aggregate": [
              {
               "as": "total_value",
               "field": "value",
               "op": "sum"
              }
             ]
            }
           ]
          },
          {
           "encoding": {
            "x": {
             "field": "total_value",
             "scale": {
              "domain": [
               0,
               9260793
              ]
             },
             "sort": "ascending",
             "title": "Totaux (Lt)",
             "type": "quantitative"
            }
           },
           "mark": {
            "tooltip": {
             "content": "data"
            },
            "type": "bar"
           },
           "transform": [
            {
             "filter": {
              "equal": "Exports",
              "field": "importsexports"
             }
            },
            {
             "filter": "indexof(datum.partner_type,'?')==-1"
            },
            {
             "aggregate": [
              {
               "as": "total_value",
               "field": "value",
               "op": "sum"
              }
             ]
            }
           ]
          }
         ]
        }
       ]
      }
     },
     "metadata": {},
     "output_type": "display_data"
    },
    {
     "data": {
      "application/vnd.vegalite.v4+json": {
       "data": {
        "values": [
         {
          "importsexports": "Exports",
          "partner_type": "colonies",
          "port": "Marseille",
          "product_type": "tout produit",
          "value": 16611629
         },
         {
          "importsexports": "Exports",
          "partner_type": "Monde",
          "port": "Marseille",
          "product_type": "tout produit",
          "value": 65429151.09017971
         },
         {
          "importsexports": "Exports",
          "partner_type": "France",
          "port": "Marseille",
          "product_type": "tout produit",
          "value": 26351491.29229197
         },
         {
          "importsexports": "Exports",
          "partner_type": "Fraude ?",
          "port": "Marseille",
          "product_type": "tout produit",
          "value": 23182426.1200902
         },
         {
          "importsexports": "Imports",
          "partner_type": "colonies",
          "port": "Marseille",
          "product_type": "tout produit",
          "value": 31647025
         },
         {
          "importsexports": "Imports",
          "partner_type": "Monde",
          "port": "Marseille",
          "product_type": "tout produit",
          "value": 98943860.15101588
         },
         {
          "importsexports": "Imports",
          "partner_type": "France",
          "port": "Marseille",
          "product_type": "tout produit",
          "value": 983812.3515460002
         }
        ]
       },
       "spacing": 0,
       "title": "MARSEILLE\n Répartition des imports/exports en 1789 par type de produits",
       "vconcat": [
        {
         "hconcat": [
          {
           "encoding": {
            "color": {
             "field": "partner_type",
             "scale": {
              "domain": [
               "colonies",
               "Monde",
               "France",
               "Fraude ?"
              ],
              "range": [
               "purple",
               "darkblue",
               "olive",
               "lightgrey",
               "darkgrey"
              ]
             },
             "type": "nominal"
            },
            "x": {
             "field": "value",
             "sort": "descending",
             "title": "Valeur (Lt)",
             "type": "quantitative"
            },
            "y": {
             "field": "product_type",
             "sort": "-x",
             "title": null,
             "type": "ordinal"
            }
           },
           "mark": {
            "tooltip": {
             "content": "data"
            },
            "type": "bar"
           },
           "title": "import",
           "transform": [
            {
             "filter": {
              "equal": "Imports",
              "field": "importsexports"
             }
            }
           ]
          },
          {
           "encoding": {
            "color": {
             "field": "partner_type",
             "scale": {
              "domain": [
               "colonies",
               "Monde",
               "France",
               "Fraude ?"
              ],
              "range": [
               "purple",
               "darkblue",
               "olive",
               "lightgrey",
               "darkgrey"
              ]
             },
             "sort": [
              "colonies",
              "Monde",
              "France",
              "Fraude ?"
             ],
             "type": "nominal"
            },
            "x": {
             "field": "value",
             "sort": "ascending",
             "title": "Valeur (Lt)",
             "type": "quantitative"
            },
            "y": {
             "axis": null,
             "field": "product_type",
             "sort": "-x",
             "title": null,
             "type": "ordinal"
            }
           },
           "mark": {
            "tooltip": {
             "content": "data"
            },
            "type": "bar"
           },
           "title": "export",
           "transform": [
            {
             "filter": {
              "equal": "Exports",
              "field": "importsexports"
             }
            }
           ]
          }
         ]
        },
        {
         "hconcat": [
          {
           "encoding": {
            "color": {
             "field": "partner_type",
             "scale": {
              "domain": [
               "colonies",
               "Monde",
               "France",
               "Fraude ?"
              ],
              "range": [
               "purple",
               "darkblue",
               "olive",
               "lightgrey",
               "darkgrey"
              ]
             },
             "sort": [
              "colonies",
              "Monde",
              "France",
              "Fraude ?"
             ],
             "type": "nominal"
            },
            "x": {
             "field": "total_value",
             "scale": {
              "domain": [
               0,
               98943860.15101588
              ]
             },
             "sort": "descending",
             "title": "Valeur tous produits (Lt)",
             "type": "quantitative"
            },
            "y": {
             "field": "partner_type",
             "scale": {
              "domain": [
               "colonies",
               "Monde",
               "France",
               "Fraude ?"
              ]
             },
             "sort": [
              "colonies",
              "Monde",
              "France",
              "Fraude ?"
             ],
             "title": null,
             "type": "ordinal"
            }
           },
           "mark": {
            "tooltip": {
             "content": "data"
            },
            "type": "bar"
           },
           "transform": [
            {
             "filter": {
              "equal": "Imports",
              "field": "importsexports"
             }
            },
            {
             "aggregate": [
              {
               "as": "total_value",
               "field": "value",
               "op": "sum"
              }
             ],
             "groupby": [
              "partner_type"
             ]
            }
           ]
          },
          {
           "encoding": {
            "color": {
             "field": "partner_type",
             "scale": {
              "domain": [
               "colonies",
               "Monde",
               "France",
               "Fraude ?"
              ],
              "range": [
               "purple",
               "darkblue",
               "olive",
               "lightgrey",
               "darkgrey"
              ]
             },
             "sort": [
              "colonies",
              "Monde",
              "France",
              "Fraude ?"
             ],
             "type": "nominal"
            },
            "x": {
             "field": "total_value",
             "scale": {
              "domain": [
               0,
               98943860.15101588
              ]
             },
             "sort": "ascending",
             "title": "Valeur tous produits (Lt)",
             "type": "quantitative"
            },
            "y": {
             "axis": null,
             "field": "partner_type",
             "scale": {
              "domain": [
               "colonies",
               "Monde",
               "France",
               "Fraude ?"
              ]
             },
             "sort": [
              "colonies",
              "Monde",
              "France",
              "Fraude ?"
             ],
             "title": null,
             "type": "ordinal"
            }
           },
           "mark": {
            "tooltip": {
             "content": "data"
            },
            "type": "bar"
           },
           "transform": [
            {
             "filter": {
              "equal": "Exports",
              "field": "importsexports"
             }
            },
            {
             "aggregate": [
              {
               "as": "total_value",
               "field": "value",
               "op": "sum"
              }
             ],
             "groupby": [
              "partner_type"
             ]
            }
           ]
          }
         ]
        },
        {
         "hconcat": [
          {
           "encoding": {
            "x": {
             "field": "total_value",
             "scale": {
              "domain": [
               0,
               131574697.50256188
              ]
             },
             "sort": "descending",
             "title": "Valeur tous produits (Lt)",
             "type": "quantitative"
            }
           },
           "mark": {
            "tooltip": {
             "content": "data"
            },
            "type": "bar"
           },
           "transform": [
            {
             "filter": {
              "equal": "Imports",
              "field": "importsexports"
             }
            },
            {
             "filter": "indexof(datum.partner_type,'?')==-1"
            },
            {
             "aggregate": [
              {
               "as": "total_value",
               "field": "value",
               "op": "sum"
              }
             ]
            }
           ]
          },
          {
           "encoding": {
            "x": {
             "field": "total_value",
             "scale": {
              "domain": [
               0,
               131574697.50256188
              ]
             },
             "sort": "ascending",
             "title": "Totaux (Lt)",
             "type": "quantitative"
            }
           },
           "mark": {
            "tooltip": {
             "content": "data"
            },
            "type": "bar"
           },
           "transform": [
            {
             "filter": {
              "equal": "Exports",
              "field": "importsexports"
             }
            },
            {
             "filter": "indexof(datum.partner_type,'?')==-1"
            },
            {
             "aggregate": [
              {
               "as": "total_value",
               "field": "value",
               "op": "sum"
              }
             ]
            }
           ]
          }
         ]
        }
       ]
      }
     },
     "metadata": {},
     "output_type": "display_data"
    },
    {
     "data": {
      "application/vnd.vegalite.v4+json": {
       "data": {
        "values": [
         {
          "importsexports": "Exports",
          "partner_type": "colonies",
          "port": "Lorient",
          "product_type": "tout produit",
          "value": 1067534
         },
         {
          "importsexports": "Exports",
          "partner_type": "Monde",
          "port": "Lorient",
          "product_type": "tout produit",
          "value": 1565730.68502171
         },
         {
          "importsexports": "Exports",
          "partner_type": "France",
          "port": "Lorient",
          "product_type": "tout produit",
          "value": 80456.500093
         },
         {
          "importsexports": "Exports",
          "partner_type": "Fraude ?",
          "port": "Lorient",
          "product_type": "tout produit",
          "value": 234800.36319906032
         },
         {
          "importsexports": "Imports",
          "partner_type": "Monde",
          "port": "Lorient",
          "product_type": "tout produit",
          "value": 2834871.9988
         },
         {
          "importsexports": "Imports",
          "partner_type": "France",
          "port": "Lorient",
          "product_type": "tout produit",
          "value": 113649.54951377
         }
        ]
       },
       "spacing": 0,
       "title": "LORIENT\n Répartition des imports/exports en 1789 par type de produits",
       "vconcat": [
        {
         "hconcat": [
          {
           "encoding": {
            "color": {
             "field": "partner_type",
             "scale": {
              "domain": [
               "colonies",
               "Monde",
               "France",
               "Fraude ?"
              ],
              "range": [
               "purple",
               "darkblue",
               "olive",
               "lightgrey",
               "darkgrey"
              ]
             },
             "type": "nominal"
            },
            "x": {
             "field": "value",
             "sort": "descending",
             "title": "Valeur (Lt)",
             "type": "quantitative"
            },
            "y": {
             "field": "product_type",
             "sort": "-x",
             "title": null,
             "type": "ordinal"
            }
           },
           "mark": {
            "tooltip": {
             "content": "data"
            },
            "type": "bar"
           },
           "title": "import",
           "transform": [
            {
             "filter": {
              "equal": "Imports",
              "field": "importsexports"
             }
            }
           ]
          },
          {
           "encoding": {
            "color": {
             "field": "partner_type",
             "scale": {
              "domain": [
               "colonies",
               "Monde",
               "France",
               "Fraude ?"
              ],
              "range": [
               "purple",
               "darkblue",
               "olive",
               "lightgrey",
               "darkgrey"
              ]
             },
             "sort": [
              "colonies",
              "Monde",
              "France",
              "Fraude ?"
             ],
             "type": "nominal"
            },
            "x": {
             "field": "value",
             "sort": "ascending",
             "title": "Valeur (Lt)",
             "type": "quantitative"
            },
            "y": {
             "axis": null,
             "field": "product_type",
             "sort": "-x",
             "title": null,
             "type": "ordinal"
            }
           },
           "mark": {
            "tooltip": {
             "content": "data"
            },
            "type": "bar"
           },
           "title": "export",
           "transform": [
            {
             "filter": {
              "equal": "Exports",
              "field": "importsexports"
             }
            }
           ]
          }
         ]
        },
        {
         "hconcat": [
          {
           "encoding": {
            "color": {
             "field": "partner_type",
             "scale": {
              "domain": [
               "colonies",
               "Monde",
               "France",
               "Fraude ?"
              ],
              "range": [
               "purple",
               "darkblue",
               "olive",
               "lightgrey",
               "darkgrey"
              ]
             },
             "sort": [
              "colonies",
              "Monde",
              "France",
              "Fraude ?"
             ],
             "type": "nominal"
            },
            "x": {
             "field": "total_value",
             "scale": {
              "domain": [
               0,
               2834871.9988
              ]
             },
             "sort": "descending",
             "title": "Valeur tous produits (Lt)",
             "type": "quantitative"
            },
            "y": {
             "field": "partner_type",
             "scale": {
              "domain": [
               "colonies",
               "Monde",
               "France",
               "Fraude ?"
              ]
             },
             "sort": [
              "colonies",
              "Monde",
              "France",
              "Fraude ?"
             ],
             "title": null,
             "type": "ordinal"
            }
           },
           "mark": {
            "tooltip": {
             "content": "data"
            },
            "type": "bar"
           },
           "transform": [
            {
             "filter": {
              "equal": "Imports",
              "field": "importsexports"
             }
            },
            {
             "aggregate": [
              {
               "as": "total_value",
               "field": "value",
               "op": "sum"
              }
             ],
             "groupby": [
              "partner_type"
             ]
            }
           ]
          },
          {
           "encoding": {
            "color": {
             "field": "partner_type",
             "scale": {
              "domain": [
               "colonies",
               "Monde",
               "France",
               "Fraude ?"
              ],
              "range": [
               "purple",
               "darkblue",
               "olive",
               "lightgrey",
               "darkgrey"
              ]
             },
             "sort": [
              "colonies",
              "Monde",
              "France",
              "Fraude ?"
             ],
             "type": "nominal"
            },
            "x": {
             "field": "total_value",
             "scale": {
              "domain": [
               0,
               2834871.9988
              ]
             },
             "sort": "ascending",
             "title": "Valeur tous produits (Lt)",
             "type": "quantitative"
            },
            "y": {
             "axis": null,
             "field": "partner_type",
             "scale": {
              "domain": [
               "colonies",
               "Monde",
               "France",
               "Fraude ?"
              ]
             },
             "sort": [
              "colonies",
              "Monde",
              "France",
              "Fraude ?"
             ],
             "title": null,
             "type": "ordinal"
            }
           },
           "mark": {
            "tooltip": {
             "content": "data"
            },
            "type": "bar"
           },
           "transform": [
            {
             "filter": {
              "equal": "Exports",
              "field": "importsexports"
             }
            },
            {
             "aggregate": [
              {
               "as": "total_value",
               "field": "value",
               "op": "sum"
              }
             ],
             "groupby": [
              "partner_type"
             ]
            }
           ]
          }
         ]
        },
        {
         "hconcat": [
          {
           "encoding": {
            "x": {
             "field": "total_value",
             "scale": {
              "domain": [
               0,
               2948521.5483137704
              ]
             },
             "sort": "descending",
             "title": "Valeur tous produits (Lt)",
             "type": "quantitative"
            }
           },
           "mark": {
            "tooltip": {
             "content": "data"
            },
            "type": "bar"
           },
           "transform": [
            {
             "filter": {
              "equal": "Imports",
              "field": "importsexports"
             }
            },
            {
             "filter": "indexof(datum.partner_type,'?')==-1"
            },
            {
             "aggregate": [
              {
               "as": "total_value",
               "field": "value",
               "op": "sum"
              }
             ]
            }
           ]
          },
          {
           "encoding": {
            "x": {
             "field": "total_value",
             "scale": {
              "domain": [
               0,
               2948521.5483137704
              ]
             },
             "sort": "ascending",
             "title": "Totaux (Lt)",
             "type": "quantitative"
            }
           },
           "mark": {
            "tooltip": {
             "content": "data"
            },
            "type": "bar"
           },
           "transform": [
            {
             "filter": {
              "equal": "Exports",
              "field": "importsexports"
             }
            },
            {
             "filter": "indexof(datum.partner_type,'?')==-1"
            },
            {
             "aggregate": [
              {
               "as": "total_value",
               "field": "value",
               "op": "sum"
              }
             ]
            }
           ]
          }
         ]
        }
       ]
      }
     },
     "metadata": {},
     "output_type": "display_data"
    }
   ],
   "source": [
    "for city in [\"Dunkerque\", \"Bayonne\", \"Marseille\", \"Lorient\"]:\n",
    "    pyramide_port_franc(city, data[city][\"total_trade\"],\"product_type\", \"partner_type\", \"type de produits\")"
   ]
  },
  {
   "cell_type": "markdown",
   "id": "d68a0afa-dc31-4c90-8e3f-79620fef5d9c",
   "metadata": {},
   "source": [
    "# Focus sur les exportations\n",
    "\n",
    "Nous allons dans un premier temps détailler les produits coloniaux pour identifier les produits concernés par les anomalies d'exporations."
   ]
  },
  {
   "cell_type": "code",
   "execution_count": 40,
   "id": "ed1ba3b0-7c1a-4e91-8a2c-b5027694817c",
   "metadata": {},
   "outputs": [
    {
     "data": {
      "application/vnd.vegalite.v4+json": {
       "data": {
        "values": [
         {
          "importsexports": "Exports",
          "partner_type": "Fraude ?",
          "port": "Dunkerque",
          "product": "Bois divers hors combustible",
          "value": 2724
         },
         {
          "importsexports": "Imports",
          "partner_type": "colonies",
          "port": "Dunkerque",
          "product": "Bois divers hors combustible",
          "value": 2724
         },
         {
          "importsexports": "Exports",
          "partner_type": "Fraude ?",
          "port": "Dunkerque",
          "product": "Cacao et chocolat",
          "value": 4414
         },
         {
          "importsexports": "Imports",
          "partner_type": "colonies",
          "port": "Dunkerque",
          "product": "Cacao et chocolat",
          "value": 4414
         },
         {
          "importsexports": "Exports",
          "partner_type": "Monde",
          "port": "Dunkerque",
          "product": "Café",
          "value": 1182957
         },
         {
          "importsexports": "Exports",
          "partner_type": "Fraude ?",
          "port": "Dunkerque",
          "product": "Café",
          "value": 2888496
         },
         {
          "importsexports": "Imports",
          "partner_type": "colonies",
          "port": "Dunkerque",
          "product": "Café",
          "value": 4071453
         },
         {
          "importsexports": "Exports",
          "partner_type": "Monde",
          "port": "Dunkerque",
          "product": "Coton non transformé",
          "value": 719051
         },
         {
          "importsexports": "Exports",
          "partner_type": "Fraude ?",
          "port": "Dunkerque",
          "product": "Coton non transformé",
          "value": 363376
         },
         {
          "importsexports": "Imports",
          "partner_type": "colonies",
          "port": "Dunkerque",
          "product": "Coton non transformé",
          "value": 1082427
         },
         {
          "importsexports": "Exports",
          "partner_type": "Fraude ?",
          "port": "Dunkerque",
          "product": "Cuirs, peaux et pelleterie",
          "value": 61376
         },
         {
          "importsexports": "Imports",
          "partner_type": "colonies",
          "port": "Dunkerque",
          "product": "Cuirs, peaux et pelleterie",
          "value": 61376
         },
         {
          "importsexports": "Exports",
          "partner_type": "Monde",
          "port": "Dunkerque",
          "product": "Denrées coloniales et épiceries diverses",
          "value": 345721
         },
         {
          "importsexports": "Imports",
          "partner_type": "Fraude ?",
          "port": "Dunkerque",
          "product": "Denrées coloniales et épiceries diverses",
          "value": 345721
         },
         {
          "importsexports": "Exports",
          "partner_type": "Fraude ?",
          "port": "Dunkerque",
          "product": "Divers mélangés",
          "value": 1353
         },
         {
          "importsexports": "Imports",
          "partner_type": "colonies",
          "port": "Dunkerque",
          "product": "Divers mélangés",
          "value": 1353
         },
         {
          "importsexports": "Exports",
          "partner_type": "Fraude ?",
          "port": "Dunkerque",
          "product": "Eaux-de-vie et liqueurs",
          "value": 19963
         },
         {
          "importsexports": "Imports",
          "partner_type": "colonies",
          "port": "Dunkerque",
          "product": "Eaux-de-vie et liqueurs",
          "value": 19963
         },
         {
          "importsexports": "Exports",
          "partner_type": "Fraude ?",
          "port": "Dunkerque",
          "product": "Fils divers",
          "value": 1376
         },
         {
          "importsexports": "Imports",
          "partner_type": "colonies",
          "port": "Dunkerque",
          "product": "Fils divers",
          "value": 1376
         },
         {
          "importsexports": "Exports",
          "partner_type": "Monde",
          "port": "Dunkerque",
          "product": "Indigo",
          "value": 101042
         },
         {
          "importsexports": "Imports",
          "partner_type": "colonies",
          "port": "Dunkerque",
          "product": "Indigo",
          "value": 89556
         },
         {
          "importsexports": "Imports",
          "partner_type": "Fraude ?",
          "port": "Dunkerque",
          "product": "Indigo",
          "value": 11486
         },
         {
          "importsexports": "Exports",
          "partner_type": "Fraude ?",
          "port": "Dunkerque",
          "product": "Matières brutes et transformées pour teinture",
          "value": 16367
         },
         {
          "importsexports": "Imports",
          "partner_type": "colonies",
          "port": "Dunkerque",
          "product": "Matières brutes et transformées pour teinture",
          "value": 16367
         },
         {
          "importsexports": "Exports",
          "partner_type": "Fraude ?",
          "port": "Dunkerque",
          "product": "Sirop et mélasse",
          "value": 210
         },
         {
          "importsexports": "Imports",
          "partner_type": "colonies",
          "port": "Dunkerque",
          "product": "Sirop et mélasse",
          "value": 210
         },
         {
          "importsexports": "Exports",
          "partner_type": "Fraude ?",
          "port": "Dunkerque",
          "product": "Subsistances diverses et mélangées",
          "value": 150
         },
         {
          "importsexports": "Imports",
          "partner_type": "colonies",
          "port": "Dunkerque",
          "product": "Subsistances diverses et mélangées",
          "value": 150
         },
         {
          "importsexports": "Exports",
          "partner_type": "Monde",
          "port": "Dunkerque",
          "product": "Sucre",
          "value": 2211754
         },
         {
          "importsexports": "Exports",
          "partner_type": "Fraude ?",
          "port": "Dunkerque",
          "product": "Sucre",
          "value": 1058101
         },
         {
          "importsexports": "Imports",
          "partner_type": "colonies",
          "port": "Dunkerque",
          "product": "Sucre",
          "value": 3269855
         },
         {
          "importsexports": "Exports",
          "partner_type": "Fraude ?",
          "port": "Dunkerque",
          "product": "Tabac",
          "value": 48931
         },
         {
          "importsexports": "Imports",
          "partner_type": "colonies",
          "port": "Dunkerque",
          "product": "Tabac",
          "value": 48931
         }
        ]
       },
       "spacing": 0,
       "title": "DUNKERQUE\n Répartition des imports/exports en 1789 par produits coloniaux (révolution et empire)",
       "vconcat": [
        {
         "hconcat": [
          {
           "encoding": {
            "color": {
             "field": "partner_type",
             "scale": {
              "domain": [
               "colonies",
               "Monde",
               "France",
               "Fraude ?"
              ],
              "range": [
               "purple",
               "darkblue",
               "olive",
               "lightgrey",
               "darkgrey"
              ]
             },
             "type": "nominal"
            },
            "x": {
             "field": "value",
             "sort": "descending",
             "title": "Valeur (Lt)",
             "type": "quantitative"
            },
            "y": {
             "field": "product",
             "sort": "-x",
             "title": null,
             "type": "ordinal"
            }
           },
           "mark": {
            "tooltip": {
             "content": "data"
            },
            "type": "bar"
           },
           "title": "import",
           "transform": [
            {
             "filter": {
              "equal": "Imports",
              "field": "importsexports"
             }
            }
           ]
          },
          {
           "encoding": {
            "color": {
             "field": "partner_type",
             "scale": {
              "domain": [
               "colonies",
               "Monde",
               "France",
               "Fraude ?"
              ],
              "range": [
               "purple",
               "darkblue",
               "olive",
               "lightgrey",
               "darkgrey"
              ]
             },
             "sort": [
              "colonies",
              "Monde",
              "France",
              "Fraude ?"
             ],
             "type": "nominal"
            },
            "x": {
             "field": "value",
             "sort": "ascending",
             "title": "Valeur (Lt)",
             "type": "quantitative"
            },
            "y": {
             "axis": null,
             "field": "product",
             "sort": "-x",
             "title": null,
             "type": "ordinal"
            }
           },
           "mark": {
            "tooltip": {
             "content": "data"
            },
            "type": "bar"
           },
           "title": "export",
           "transform": [
            {
             "filter": {
              "equal": "Exports",
              "field": "importsexports"
             }
            }
           ]
          }
         ]
        },
        {
         "hconcat": [
          {
           "encoding": {
            "color": {
             "field": "partner_type",
             "scale": {
              "domain": [
               "colonies",
               "Monde",
               "France",
               "Fraude ?"
              ],
              "range": [
               "purple",
               "darkblue",
               "olive",
               "lightgrey",
               "darkgrey"
              ]
             },
             "sort": [
              "colonies",
              "Monde",
              "France",
              "Fraude ?"
             ],
             "type": "nominal"
            },
            "x": {
             "field": "total_value",
             "scale": {
              "domain": [
               0,
               8670155
              ]
             },
             "sort": "descending",
             "title": "Valeur tous produits (Lt)",
             "type": "quantitative"
            },
            "y": {
             "field": "partner_type",
             "scale": {
              "domain": [
               "colonies",
               "Monde",
               "France",
               "Fraude ?"
              ]
             },
             "sort": [
              "colonies",
              "Monde",
              "France",
              "Fraude ?"
             ],
             "title": null,
             "type": "ordinal"
            }
           },
           "mark": {
            "tooltip": {
             "content": "data"
            },
            "type": "bar"
           },
           "transform": [
            {
             "filter": {
              "equal": "Imports",
              "field": "importsexports"
             }
            },
            {
             "aggregate": [
              {
               "as": "total_value",
               "field": "value",
               "op": "sum"
              }
             ],
             "groupby": [
              "partner_type"
             ]
            }
           ]
          },
          {
           "encoding": {
            "color": {
             "field": "partner_type",
             "scale": {
              "domain": [
               "colonies",
               "Monde",
               "France",
               "Fraude ?"
              ],
              "range": [
               "purple",
               "darkblue",
               "olive",
               "lightgrey",
               "darkgrey"
              ]
             },
             "sort": [
              "colonies",
              "Monde",
              "France",
              "Fraude ?"
             ],
             "type": "nominal"
            },
            "x": {
             "field": "total_value",
             "scale": {
              "domain": [
               0,
               8670155
              ]
             },
             "sort": "ascending",
             "title": "Valeur tous produits (Lt)",
             "type": "quantitative"
            },
            "y": {
             "axis": null,
             "field": "partner_type",
             "scale": {
              "domain": [
               "colonies",
               "Monde",
               "France",
               "Fraude ?"
              ]
             },
             "sort": [
              "colonies",
              "Monde",
              "France",
              "Fraude ?"
             ],
             "title": null,
             "type": "ordinal"
            }
           },
           "mark": {
            "tooltip": {
             "content": "data"
            },
            "type": "bar"
           },
           "transform": [
            {
             "filter": {
              "equal": "Exports",
              "field": "importsexports"
             }
            },
            {
             "aggregate": [
              {
               "as": "total_value",
               "field": "value",
               "op": "sum"
              }
             ],
             "groupby": [
              "partner_type"
             ]
            }
           ]
          }
         ]
        },
        {
         "hconcat": [
          {
           "encoding": {
            "x": {
             "field": "total_value",
             "scale": {
              "domain": [
               0,
               9027362
              ]
             },
             "sort": "descending",
             "title": "Valeur tous produits (Lt)",
             "type": "quantitative"
            }
           },
           "mark": {
            "tooltip": {
             "content": "data"
            },
            "type": "bar"
           },
           "transform": [
            {
             "filter": {
              "equal": "Imports",
              "field": "importsexports"
             }
            },
            {
             "filter": "indexof(datum.partner_type,'?')==-1"
            },
            {
             "aggregate": [
              {
               "as": "total_value",
               "field": "value",
               "op": "sum"
              }
             ]
            }
           ]
          },
          {
           "encoding": {
            "x": {
             "field": "total_value",
             "scale": {
              "domain": [
               0,
               9027362
              ]
             },
             "sort": "ascending",
             "title": "Totaux (Lt)",
             "type": "quantitative"
            }
           },
           "mark": {
            "tooltip": {
             "content": "data"
            },
            "type": "bar"
           },
           "transform": [
            {
             "filter": {
              "equal": "Exports",
              "field": "importsexports"
             }
            },
            {
             "filter": "indexof(datum.partner_type,'?')==-1"
            },
            {
             "aggregate": [
              {
               "as": "total_value",
               "field": "value",
               "op": "sum"
              }
             ]
            }
           ]
          }
         ]
        }
       ]
      }
     },
     "metadata": {},
     "output_type": "display_data"
    },
    {
     "data": {
      "application/vnd.vegalite.v4+json": {
       "data": {
        "values": [
         {
          "importsexports": "Exports",
          "partner_type": "colonies",
          "port": "Bayonne",
          "product": "Bois divers hors combustible",
          "value": 1619
         },
         {
          "importsexports": "Exports",
          "partner_type": "Monde",
          "port": "Bayonne",
          "product": "Bois divers hors combustible",
          "value": 190
         },
         {
          "importsexports": "Imports",
          "partner_type": "colonies",
          "port": "Bayonne",
          "product": "Bois divers hors combustible",
          "value": 460
         },
         {
          "importsexports": "Imports",
          "partner_type": "Monde",
          "port": "Bayonne",
          "product": "Bois divers hors combustible",
          "value": 960
         },
         {
          "importsexports": "Imports",
          "partner_type": "Fraude ?",
          "port": "Bayonne",
          "product": "Bois divers hors combustible",
          "value": 389
         },
         {
          "importsexports": "Exports",
          "partner_type": "Monde",
          "port": "Bayonne",
          "product": "Cacao et chocolat",
          "value": 569085
         },
         {
          "importsexports": "Exports",
          "partner_type": "Fraude ?",
          "port": "Bayonne",
          "product": "Cacao et chocolat",
          "value": 654552
         },
         {
          "importsexports": "Imports",
          "partner_type": "colonies",
          "port": "Bayonne",
          "product": "Cacao et chocolat",
          "value": 38815
         },
         {
          "importsexports": "Imports",
          "partner_type": "Monde",
          "port": "Bayonne",
          "product": "Cacao et chocolat",
          "value": 1184822
         },
         {
          "importsexports": "Exports",
          "partner_type": "Monde",
          "port": "Bayonne",
          "product": "Café",
          "value": 90500
         },
         {
          "importsexports": "Exports",
          "partner_type": "Fraude ?",
          "port": "Bayonne",
          "product": "Café",
          "value": 101866
         },
         {
          "importsexports": "Imports",
          "partner_type": "colonies",
          "port": "Bayonne",
          "product": "Café",
          "value": 192366
         },
         {
          "importsexports": "Exports",
          "partner_type": "Fraude ?",
          "port": "Bayonne",
          "product": "Coton non transformé",
          "value": 8378
         },
         {
          "importsexports": "Imports",
          "partner_type": "colonies",
          "port": "Bayonne",
          "product": "Coton non transformé",
          "value": 6718
         },
         {
          "importsexports": "Imports",
          "partner_type": "Monde",
          "port": "Bayonne",
          "product": "Coton non transformé",
          "value": 1660
         },
         {
          "importsexports": "Exports",
          "partner_type": "Monde",
          "port": "Bayonne",
          "product": "Cuirs, peaux et pelleterie",
          "value": 20950
         },
         {
          "importsexports": "Exports",
          "partner_type": "Fraude ?",
          "port": "Bayonne",
          "product": "Cuirs, peaux et pelleterie",
          "value": 289867
         },
         {
          "importsexports": "Imports",
          "partner_type": "colonies",
          "port": "Bayonne",
          "product": "Cuirs, peaux et pelleterie",
          "value": 34875
         },
         {
          "importsexports": "Imports",
          "partner_type": "Monde",
          "port": "Bayonne",
          "product": "Cuirs, peaux et pelleterie",
          "value": 275942
         },
         {
          "importsexports": "Exports",
          "partner_type": "colonies",
          "port": "Bayonne",
          "product": "Divers mélangés",
          "value": 620
         },
         {
          "importsexports": "Exports",
          "partner_type": "Monde",
          "port": "Bayonne",
          "product": "Divers mélangés",
          "value": 394
         },
         {
          "importsexports": "Imports",
          "partner_type": "colonies",
          "port": "Bayonne",
          "product": "Divers mélangés",
          "value": 300
         },
         {
          "importsexports": "Imports",
          "partner_type": "Monde",
          "port": "Bayonne",
          "product": "Divers mélangés",
          "value": 80
         },
         {
          "importsexports": "Imports",
          "partner_type": "Fraude ?",
          "port": "Bayonne",
          "product": "Divers mélangés",
          "value": 634
         },
         {
          "importsexports": "Exports",
          "partner_type": "Fraude ?",
          "port": "Bayonne",
          "product": "Drogues médicinales diverses",
          "value": 1714
         },
         {
          "importsexports": "Imports",
          "partner_type": "colonies",
          "port": "Bayonne",
          "product": "Drogues médicinales diverses",
          "value": 1714
         },
         {
          "importsexports": "Exports",
          "partner_type": "colonies",
          "port": "Bayonne",
          "product": "Eaux-de-vie et liqueurs",
          "value": 41581
         },
         {
          "importsexports": "Exports",
          "partner_type": "Monde",
          "port": "Bayonne",
          "product": "Eaux-de-vie et liqueurs",
          "value": 617367
         },
         {
          "importsexports": "Imports",
          "partner_type": "colonies",
          "port": "Bayonne",
          "product": "Eaux-de-vie et liqueurs",
          "value": 2194
         },
         {
          "importsexports": "Imports",
          "partner_type": "Fraude ?",
          "port": "Bayonne",
          "product": "Eaux-de-vie et liqueurs",
          "value": 656754
         },
         {
          "importsexports": "Exports",
          "partner_type": "Monde",
          "port": "Bayonne",
          "product": "Fils divers",
          "value": 9240
         },
         {
          "importsexports": "Exports",
          "partner_type": "Fraude ?",
          "port": "Bayonne",
          "product": "Fils divers",
          "value": 72105
         },
         {
          "importsexports": "Imports",
          "partner_type": "colonies",
          "port": "Bayonne",
          "product": "Fils divers",
          "value": 1045
         },
         {
          "importsexports": "Imports",
          "partner_type": "Monde",
          "port": "Bayonne",
          "product": "Fils divers",
          "value": 80300
         },
         {
          "importsexports": "Exports",
          "partner_type": "Monde",
          "port": "Bayonne",
          "product": "Indigo",
          "value": 442620
         },
         {
          "importsexports": "Exports",
          "partner_type": "Fraude ?",
          "port": "Bayonne",
          "product": "Indigo",
          "value": 473028
         },
         {
          "importsexports": "Imports",
          "partner_type": "colonies",
          "port": "Bayonne",
          "product": "Indigo",
          "value": 5548
         },
         {
          "importsexports": "Imports",
          "partner_type": "Monde",
          "port": "Bayonne",
          "product": "Indigo",
          "value": 910100
         },
         {
          "importsexports": "Exports",
          "partner_type": "colonies",
          "port": "Bayonne",
          "product": "Matières brutes et transformées pour teinture",
          "value": 3184
         },
         {
          "importsexports": "Exports",
          "partner_type": "Monde",
          "port": "Bayonne",
          "product": "Matières brutes et transformées pour teinture",
          "value": 12810
         },
         {
          "importsexports": "Exports",
          "partner_type": "Fraude ?",
          "port": "Bayonne",
          "product": "Matières brutes et transformées pour teinture",
          "value": 41836
         },
         {
          "importsexports": "Imports",
          "partner_type": "colonies",
          "port": "Bayonne",
          "product": "Matières brutes et transformées pour teinture",
          "value": 621
         },
         {
          "importsexports": "Imports",
          "partner_type": "Monde",
          "port": "Bayonne",
          "product": "Matières brutes et transformées pour teinture",
          "value": 57209
         },
         {
          "importsexports": "Exports",
          "partner_type": "Fraude ?",
          "port": "Bayonne",
          "product": "Riz",
          "value": 3524
         },
         {
          "importsexports": "Imports",
          "partner_type": "colonies",
          "port": "Bayonne",
          "product": "Riz",
          "value": 3524
         },
         {
          "importsexports": "Exports",
          "partner_type": "Monde",
          "port": "Bayonne",
          "product": "Sirop et mélasse",
          "value": 4230
         },
         {
          "importsexports": "Imports",
          "partner_type": "colonies",
          "port": "Bayonne",
          "product": "Sirop et mélasse",
          "value": 60
         },
         {
          "importsexports": "Imports",
          "partner_type": "Fraude ?",
          "port": "Bayonne",
          "product": "Sirop et mélasse",
          "value": 4170
         },
         {
          "importsexports": "Exports",
          "partner_type": "colonies",
          "port": "Bayonne",
          "product": "Subsistances diverses et mélangées",
          "value": 4860
         },
         {
          "importsexports": "Imports",
          "partner_type": "colonies",
          "port": "Bayonne",
          "product": "Subsistances diverses et mélangées",
          "value": 256
         },
         {
          "importsexports": "Imports",
          "partner_type": "Fraude ?",
          "port": "Bayonne",
          "product": "Subsistances diverses et mélangées",
          "value": 4604
         },
         {
          "importsexports": "Exports",
          "partner_type": "Monde",
          "port": "Bayonne",
          "product": "Sucre",
          "value": 326884
         },
         {
          "importsexports": "Exports",
          "partner_type": "Fraude ?",
          "port": "Bayonne",
          "product": "Sucre",
          "value": 319466
         },
         {
          "importsexports": "Imports",
          "partner_type": "colonies",
          "port": "Bayonne",
          "product": "Sucre",
          "value": 599740
         },
         {
          "importsexports": "Imports",
          "partner_type": "Monde",
          "port": "Bayonne",
          "product": "Sucre",
          "value": 46610
         },
         {
          "importsexports": "Exports",
          "partner_type": "Monde",
          "port": "Bayonne",
          "product": "Tabac",
          "value": 46850
         },
         {
          "importsexports": "Exports",
          "partner_type": "Fraude ?",
          "port": "Bayonne",
          "product": "Tabac",
          "value": 117167
         },
         {
          "importsexports": "Imports",
          "partner_type": "colonies",
          "port": "Bayonne",
          "product": "Tabac",
          "value": 2372
         },
         {
          "importsexports": "Imports",
          "partner_type": "Monde",
          "port": "Bayonne",
          "product": "Tabac",
          "value": 161645
         }
        ]
       },
       "spacing": 0,
       "title": "BAYONNE\n Répartition des imports/exports en 1789 par produits coloniaux (révolution et empire)",
       "vconcat": [
        {
         "hconcat": [
          {
           "encoding": {
            "color": {
             "field": "partner_type",
             "scale": {
              "domain": [
               "colonies",
               "Monde",
               "France",
               "Fraude ?"
              ],
              "range": [
               "purple",
               "darkblue",
               "olive",
               "lightgrey",
               "darkgrey"
              ]
             },
             "type": "nominal"
            },
            "x": {
             "field": "value",
             "sort": "descending",
             "title": "Valeur (Lt)",
             "type": "quantitative"
            },
            "y": {
             "field": "product",
             "sort": "-x",
             "title": null,
             "type": "ordinal"
            }
           },
           "mark": {
            "tooltip": {
             "content": "data"
            },
            "type": "bar"
           },
           "title": "import",
           "transform": [
            {
             "filter": {
              "equal": "Imports",
              "field": "importsexports"
             }
            }
           ]
          },
          {
           "encoding": {
            "color": {
             "field": "partner_type",
             "scale": {
              "domain": [
               "colonies",
               "Monde",
               "France",
               "Fraude ?"
              ],
              "range": [
               "purple",
               "darkblue",
               "olive",
               "lightgrey",
               "darkgrey"
              ]
             },
             "sort": [
              "colonies",
              "Monde",
              "France",
              "Fraude ?"
             ],
             "type": "nominal"
            },
            "x": {
             "field": "value",
             "sort": "ascending",
             "title": "Valeur (Lt)",
             "type": "quantitative"
            },
            "y": {
             "axis": null,
             "field": "product",
             "sort": "-x",
             "title": null,
             "type": "ordinal"
            }
           },
           "mark": {
            "tooltip": {
             "content": "data"
            },
            "type": "bar"
           },
           "title": "export",
           "transform": [
            {
             "filter": {
              "equal": "Exports",
              "field": "importsexports"
             }
            }
           ]
          }
         ]
        },
        {
         "hconcat": [
          {
           "encoding": {
            "color": {
             "field": "partner_type",
             "scale": {
              "domain": [
               "colonies",
               "Monde",
               "France",
               "Fraude ?"
              ],
              "range": [
               "purple",
               "darkblue",
               "olive",
               "lightgrey",
               "darkgrey"
              ]
             },
             "sort": [
              "colonies",
              "Monde",
              "France",
              "Fraude ?"
             ],
             "type": "nominal"
            },
            "x": {
             "field": "total_value",
             "scale": {
              "domain": [
               0,
               2719328
              ]
             },
             "sort": "descending",
             "title": "Valeur tous produits (Lt)",
             "type": "quantitative"
            },
            "y": {
             "field": "partner_type",
             "scale": {
              "domain": [
               "colonies",
               "Monde",
               "France",
               "Fraude ?"
              ]
             },
             "sort": [
              "colonies",
              "Monde",
              "France",
              "Fraude ?"
             ],
             "title": null,
             "type": "ordinal"
            }
           },
           "mark": {
            "tooltip": {
             "content": "data"
            },
            "type": "bar"
           },
           "transform": [
            {
             "filter": {
              "equal": "Imports",
              "field": "importsexports"
             }
            },
            {
             "aggregate": [
              {
               "as": "total_value",
               "field": "value",
               "op": "sum"
              }
             ],
             "groupby": [
              "partner_type"
             ]
            }
           ]
          },
          {
           "encoding": {
            "color": {
             "field": "partner_type",
             "scale": {
              "domain": [
               "colonies",
               "Monde",
               "France",
               "Fraude ?"
              ],
              "range": [
               "purple",
               "darkblue",
               "olive",
               "lightgrey",
               "darkgrey"
              ]
             },
             "sort": [
              "colonies",
              "Monde",
              "France",
              "Fraude ?"
             ],
             "type": "nominal"
            },
            "x": {
             "field": "total_value",
             "scale": {
              "domain": [
               0,
               2719328
              ]
             },
             "sort": "ascending",
             "title": "Valeur tous produits (Lt)",
             "type": "quantitative"
            },
            "y": {
             "axis": null,
             "field": "partner_type",
             "scale": {
              "domain": [
               "colonies",
               "Monde",
               "France",
               "Fraude ?"
              ]
             },
             "sort": [
              "colonies",
              "Monde",
              "France",
              "Fraude ?"
             ],
             "title": null,
             "type": "ordinal"
            }
           },
           "mark": {
            "tooltip": {
             "content": "data"
            },
            "type": "bar"
           },
           "transform": [
            {
             "filter": {
              "equal": "Exports",
              "field": "importsexports"
             }
            },
            {
             "aggregate": [
              {
               "as": "total_value",
               "field": "value",
               "op": "sum"
              }
             ],
             "groupby": [
              "partner_type"
             ]
            }
           ]
          }
         ]
        },
        {
         "hconcat": [
          {
           "encoding": {
            "x": {
             "field": "total_value",
             "scale": {
              "domain": [
               0,
               4276487
              ]
             },
             "sort": "descending",
             "title": "Valeur tous produits (Lt)",
             "type": "quantitative"
            }
           },
           "mark": {
            "tooltip": {
             "content": "data"
            },
            "type": "bar"
           },
           "transform": [
            {
             "filter": {
              "equal": "Imports",
              "field": "importsexports"
             }
            },
            {
             "filter": "indexof(datum.partner_type,'?')==-1"
            },
            {
             "aggregate": [
              {
               "as": "total_value",
               "field": "value",
               "op": "sum"
              }
             ]
            }
           ]
          },
          {
           "encoding": {
            "x": {
             "field": "total_value",
             "scale": {
              "domain": [
               0,
               4276487
              ]
             },
             "sort": "ascending",
             "title": "Totaux (Lt)",
             "type": "quantitative"
            }
           },
           "mark": {
            "tooltip": {
             "content": "data"
            },
            "type": "bar"
           },
           "transform": [
            {
             "filter": {
              "equal": "Exports",
              "field": "importsexports"
             }
            },
            {
             "filter": "indexof(datum.partner_type,'?')==-1"
            },
            {
             "aggregate": [
              {
               "as": "total_value",
               "field": "value",
               "op": "sum"
              }
             ]
            }
           ]
          }
         ]
        }
       ]
      }
     },
     "metadata": {},
     "output_type": "display_data"
    },
    {
     "data": {
      "application/vnd.vegalite.v4+json": {
       "data": {
        "values": [
         {
          "importsexports": "Exports",
          "partner_type": "colonies",
          "port": "Marseille",
          "product": "Bois divers hors combustible",
          "value": 4028
         },
         {
          "importsexports": "Exports",
          "partner_type": "Monde",
          "port": "Marseille",
          "product": "Bois divers hors combustible",
          "value": 14103.470012
         },
         {
          "importsexports": "Exports",
          "partner_type": "Fraude ?",
          "port": "Marseille",
          "product": "Bois divers hors combustible",
          "value": 63683.440592000006
         },
         {
          "importsexports": "Imports",
          "partner_type": "colonies",
          "port": "Marseille",
          "product": "Bois divers hors combustible",
          "value": 37492
         },
         {
          "importsexports": "Imports",
          "partner_type": "Monde",
          "port": "Marseille",
          "product": "Bois divers hors combustible",
          "value": 39321.310604
         },
         {
          "importsexports": "Imports",
          "partner_type": "France",
          "port": "Marseille",
          "product": "Bois divers hors combustible",
          "value": 5001.6
         },
         {
          "importsexports": "Exports",
          "partner_type": "colonies",
          "port": "Marseille",
          "product": "Cacao et chocolat",
          "value": 14630
         },
         {
          "importsexports": "Exports",
          "partner_type": "Monde",
          "port": "Marseille",
          "product": "Cacao et chocolat",
          "value": 196188.600018
         },
         {
          "importsexports": "Exports",
          "partner_type": "Fraude ?",
          "port": "Marseille",
          "product": "Cacao et chocolat",
          "value": 12557.397976750013
         },
         {
          "importsexports": "Imports",
          "partner_type": "colonies",
          "port": "Marseille",
          "product": "Cacao et chocolat",
          "value": 98113
         },
         {
          "importsexports": "Imports",
          "partner_type": "Monde",
          "port": "Marseille",
          "product": "Cacao et chocolat",
          "value": 125262.99799475001
         },
         {
          "importsexports": "Exports",
          "partner_type": "Monde",
          "port": "Marseille",
          "product": "Café",
          "value": 10338559
         },
         {
          "importsexports": "Exports",
          "partner_type": "Fraude ?",
          "port": "Marseille",
          "product": "Café",
          "value": 5370152.799999999
         },
         {
          "importsexports": "Imports",
          "partner_type": "colonies",
          "port": "Marseille",
          "product": "Café",
          "value": 15241441
         },
         {
          "importsexports": "Imports",
          "partner_type": "Monde",
          "port": "Marseille",
          "product": "Café",
          "value": 466215.2
         },
         {
          "importsexports": "Imports",
          "partner_type": "France",
          "port": "Marseille",
          "product": "Café",
          "value": 1055.6
         },
         {
          "importsexports": "Exports",
          "partner_type": "Monde",
          "port": "Marseille",
          "product": "Cornes, corail, écailles, ivoire et nacre",
          "value": 15998.749749999999
         },
         {
          "importsexports": "Exports",
          "partner_type": "Fraude ?",
          "port": "Marseille",
          "product": "Cornes, corail, écailles, ivoire et nacre",
          "value": 25035.280138000006
         },
         {
          "importsexports": "Imports",
          "partner_type": "colonies",
          "port": "Marseille",
          "product": "Cornes, corail, écailles, ivoire et nacre",
          "value": 9996
         },
         {
          "importsexports": "Imports",
          "partner_type": "Monde",
          "port": "Marseille",
          "product": "Cornes, corail, écailles, ivoire et nacre",
          "value": 31038.029888
         },
         {
          "importsexports": "Exports",
          "partner_type": "Monde",
          "port": "Marseille",
          "product": "Coton non transformé",
          "value": 449563.70104
         },
         {
          "importsexports": "Exports",
          "partner_type": "France",
          "port": "Marseille",
          "product": "Coton non transformé",
          "value": 10286.89961
         },
         {
          "importsexports": "Exports",
          "partner_type": "Fraude ?",
          "port": "Marseille",
          "product": "Coton non transformé",
          "value": 8627119.39935
         },
         {
          "importsexports": "Imports",
          "partner_type": "colonies",
          "port": "Marseille",
          "product": "Coton non transformé",
          "value": 971005
         },
         {
          "importsexports": "Imports",
          "partner_type": "Monde",
          "port": "Marseille",
          "product": "Coton non transformé",
          "value": 8103817
         },
         {
          "importsexports": "Imports",
          "partner_type": "France",
          "port": "Marseille",
          "product": "Coton non transformé",
          "value": 12148
         },
         {
          "importsexports": "Exports",
          "partner_type": "colonies",
          "port": "Marseille",
          "product": "Cuirs, peaux et pelleterie",
          "value": 209864
         },
         {
          "importsexports": "Exports",
          "partner_type": "Monde",
          "port": "Marseille",
          "product": "Cuirs, peaux et pelleterie",
          "value": 811221.1462857
         },
         {
          "importsexports": "Exports",
          "partner_type": "France",
          "port": "Marseille",
          "product": "Cuirs, peaux et pelleterie",
          "value": 23571.05034
         },
         {
          "importsexports": "Exports",
          "partner_type": "Fraude ?",
          "port": "Marseille",
          "product": "Cuirs, peaux et pelleterie",
          "value": 2611192.0541175
         },
         {
          "importsexports": "Imports",
          "partner_type": "colonies",
          "port": "Marseille",
          "product": "Cuirs, peaux et pelleterie",
          "value": 299730
         },
         {
          "importsexports": "Imports",
          "partner_type": "Monde",
          "port": "Marseille",
          "product": "Cuirs, peaux et pelleterie",
          "value": 2922917.9605372
         },
         {
          "importsexports": "Imports",
          "partner_type": "France",
          "port": "Marseille",
          "product": "Cuirs, peaux et pelleterie",
          "value": 433200.290206
         },
         {
          "importsexports": "Exports",
          "partner_type": "colonies",
          "port": "Marseille",
          "product": "Denrées coloniales et épiceries diverses",
          "value": 1536
         },
         {
          "importsexports": "Exports",
          "partner_type": "Monde",
          "port": "Marseille",
          "product": "Denrées coloniales et épiceries diverses",
          "value": 278137.64996701
         },
         {
          "importsexports": "Imports",
          "partner_type": "colonies",
          "port": "Marseille",
          "product": "Denrées coloniales et épiceries diverses",
          "value": 9540
         },
         {
          "importsexports": "Imports",
          "partner_type": "Monde",
          "port": "Marseille",
          "product": "Denrées coloniales et épiceries diverses",
          "value": 8389.900062
         },
         {
          "importsexports": "Imports",
          "partner_type": "Fraude ?",
          "port": "Marseille",
          "product": "Denrées coloniales et épiceries diverses",
          "value": 261743.74990501002
         },
         {
          "importsexports": "Exports",
          "partner_type": "colonies",
          "port": "Marseille",
          "product": "Divers mélangés",
          "value": 44188
         },
         {
          "importsexports": "Exports",
          "partner_type": "Monde",
          "port": "Marseille",
          "product": "Divers mélangés",
          "value": 621
         },
         {
          "importsexports": "Exports",
          "partner_type": "France",
          "port": "Marseille",
          "product": "Divers mélangés",
          "value": 3549
         },
         {
          "importsexports": "Imports",
          "partner_type": "colonies",
          "port": "Marseille",
          "product": "Divers mélangés",
          "value": 17782
         },
         {
          "importsexports": "Imports",
          "partner_type": "Monde",
          "port": "Marseille",
          "product": "Divers mélangés",
          "value": 5668.489906
         },
         {
          "importsexports": "Imports",
          "partner_type": "France",
          "port": "Marseille",
          "product": "Divers mélangés",
          "value": 184
         },
         {
          "importsexports": "Imports",
          "partner_type": "Fraude ?",
          "port": "Marseille",
          "product": "Divers mélangés",
          "value": 24723.510094
         },
         {
          "importsexports": "Exports",
          "partner_type": "colonies",
          "port": "Marseille",
          "product": "Drogues médicinales diverses",
          "value": 129238
         },
         {
          "importsexports": "Exports",
          "partner_type": "Monde",
          "port": "Marseille",
          "product": "Drogues médicinales diverses",
          "value": 34876.700054
         },
         {
          "importsexports": "Exports",
          "partner_type": "France",
          "port": "Marseille",
          "product": "Drogues médicinales diverses",
          "value": 2577
         },
         {
          "importsexports": "Imports",
          "partner_type": "colonies",
          "port": "Marseille",
          "product": "Drogues médicinales diverses",
          "value": 77092
         },
         {
          "importsexports": "Imports",
          "partner_type": "Monde",
          "port": "Marseille",
          "product": "Drogues médicinales diverses",
          "value": 80989.79970750002
         },
         {
          "importsexports": "Imports",
          "partner_type": "Fraude ?",
          "port": "Marseille",
          "product": "Drogues médicinales diverses",
          "value": 8609.900346499984
         },
         {
          "importsexports": "Exports",
          "partner_type": "colonies",
          "port": "Marseille",
          "product": "Eaux-de-vie et liqueurs",
          "value": 236751
         },
         {
          "importsexports": "Exports",
          "partner_type": "Monde",
          "port": "Marseille",
          "product": "Eaux-de-vie et liqueurs",
          "value": 360540.9891789
         },
         {
          "importsexports": "Exports",
          "partner_type": "France",
          "port": "Marseille",
          "product": "Eaux-de-vie et liqueurs",
          "value": 33452.1409183
         },
         {
          "importsexports": "Imports",
          "partner_type": "colonies",
          "port": "Marseille",
          "product": "Eaux-de-vie et liqueurs",
          "value": 55403
         },
         {
          "importsexports": "Imports",
          "partner_type": "Monde",
          "port": "Marseille",
          "product": "Eaux-de-vie et liqueurs",
          "value": 11654
         },
         {
          "importsexports": "Imports",
          "partner_type": "France",
          "port": "Marseille",
          "product": "Eaux-de-vie et liqueurs",
          "value": 265.00001
         },
         {
          "importsexports": "Imports",
          "partner_type": "Fraude ?",
          "port": "Marseille",
          "product": "Eaux-de-vie et liqueurs",
          "value": 563422.1300872001
         },
         {
          "importsexports": "Exports",
          "partner_type": "colonies",
          "port": "Marseille",
          "product": "Fils divers",
          "value": 90756
         },
         {
          "importsexports": "Exports",
          "partner_type": "Monde",
          "port": "Marseille",
          "product": "Fils divers",
          "value": 3292143.419804
         },
         {
          "importsexports": "Exports",
          "partner_type": "France",
          "port": "Marseille",
          "product": "Fils divers",
          "value": 24881
         },
         {
          "importsexports": "Exports",
          "partner_type": "Fraude ?",
          "port": "Marseille",
          "product": "Fils divers",
          "value": 3184282.7821916
         },
         {
          "importsexports": "Imports",
          "partner_type": "colonies",
          "port": "Marseille",
          "product": "Fils divers",
          "value": 23958
         },
         {
          "importsexports": "Imports",
          "partner_type": "Monde",
          "port": "Marseille",
          "product": "Fils divers",
          "value": 6568105.2019956
         },
         {
          "importsexports": "Exports",
          "partner_type": "Monde",
          "port": "Marseille",
          "product": "Indigo",
          "value": 1879838
         },
         {
          "importsexports": "Exports",
          "partner_type": "Fraude ?",
          "port": "Marseille",
          "product": "Indigo",
          "value": 191774.25
         },
         {
          "importsexports": "Imports",
          "partner_type": "colonies",
          "port": "Marseille",
          "product": "Indigo",
          "value": 812862
         },
         {
          "importsexports": "Imports",
          "partner_type": "Monde",
          "port": "Marseille",
          "product": "Indigo",
          "value": 1258750.25
         },
         {
          "importsexports": "Exports",
          "partner_type": "colonies",
          "port": "Marseille",
          "product": "Matières brutes et transformées pour teinture",
          "value": 8089
         },
         {
          "importsexports": "Exports",
          "partner_type": "Monde",
          "port": "Marseille",
          "product": "Matières brutes et transformées pour teinture",
          "value": 549525.410595
         },
         {
          "importsexports": "Exports",
          "partner_type": "France",
          "port": "Marseille",
          "product": "Matières brutes et transformées pour teinture",
          "value": 3735.28
         },
         {
          "importsexports": "Imports",
          "partner_type": "colonies",
          "port": "Marseille",
          "product": "Matières brutes et transformées pour teinture",
          "value": 38976
         },
         {
          "importsexports": "Imports",
          "partner_type": "Monde",
          "port": "Marseille",
          "product": "Matières brutes et transformées pour teinture",
          "value": 483081.9210750001
         },
         {
          "importsexports": "Imports",
          "partner_type": "France",
          "port": "Marseille",
          "product": "Matières brutes et transformées pour teinture",
          "value": 306
         },
         {
          "importsexports": "Imports",
          "partner_type": "Fraude ?",
          "port": "Marseille",
          "product": "Matières brutes et transformées pour teinture",
          "value": 38985.76951999997
         },
         {
          "importsexports": "Exports",
          "partner_type": "colonies",
          "port": "Marseille",
          "product": "Ouvrages de bois, liège et jonc",
          "value": 67270
         },
         {
          "importsexports": "Exports",
          "partner_type": "Monde",
          "port": "Marseille",
          "product": "Ouvrages de bois, liège et jonc",
          "value": 109704.38996400002
         },
         {
          "importsexports": "Exports",
          "partner_type": "France",
          "port": "Marseille",
          "product": "Ouvrages de bois, liège et jonc",
          "value": 11360
         },
         {
          "importsexports": "Exports",
          "partner_type": "Fraude ?",
          "port": "Marseille",
          "product": "Ouvrages de bois, liège et jonc",
          "value": 723774.998686
         },
         {
          "importsexports": "Imports",
          "partner_type": "colonies",
          "port": "Marseille",
          "product": "Ouvrages de bois, liège et jonc",
          "value": 17645
         },
         {
          "importsexports": "Imports",
          "partner_type": "Monde",
          "port": "Marseille",
          "product": "Ouvrages de bois, liège et jonc",
          "value": 884729.9085799999
         },
         {
          "importsexports": "Imports",
          "partner_type": "France",
          "port": "Marseille",
          "product": "Ouvrages de bois, liège et jonc",
          "value": 9734.48007
         },
         {
          "importsexports": "Exports",
          "partner_type": "Monde",
          "port": "Marseille",
          "product": "Rocou",
          "value": 38674
         },
         {
          "importsexports": "Exports",
          "partner_type": "Fraude ?",
          "port": "Marseille",
          "product": "Rocou",
          "value": 17825.5
         },
         {
          "importsexports": "Imports",
          "partner_type": "colonies",
          "port": "Marseille",
          "product": "Rocou",
          "value": 53337
         },
         {
          "importsexports": "Imports",
          "partner_type": "Monde",
          "port": "Marseille",
          "product": "Rocou",
          "value": 3162.5
         },
         {
          "importsexports": "Exports",
          "partner_type": "colonies",
          "port": "Marseille",
          "product": "Sirop et mélasse",
          "value": 34554
         },
         {
          "importsexports": "Imports",
          "partner_type": "colonies",
          "port": "Marseille",
          "product": "Sirop et mélasse",
          "value": 3474
         },
         {
          "importsexports": "Imports",
          "partner_type": "Fraude ?",
          "port": "Marseille",
          "product": "Sirop et mélasse",
          "value": 31080
         },
         {
          "importsexports": "Exports",
          "partner_type": "colonies",
          "port": "Marseille",
          "product": "Subsistances diverses et mélangées",
          "value": 129131
         },
         {
          "importsexports": "Exports",
          "partner_type": "Monde",
          "port": "Marseille",
          "product": "Subsistances diverses et mélangées",
          "value": 84118.539712
         },
         {
          "importsexports": "Imports",
          "partner_type": "colonies",
          "port": "Marseille",
          "product": "Subsistances diverses et mélangées",
          "value": 5958
         },
         {
          "importsexports": "Imports",
          "partner_type": "Monde",
          "port": "Marseille",
          "product": "Subsistances diverses et mélangées",
          "value": 93067.24097117
         },
         {
          "importsexports": "Imports",
          "partner_type": "Fraude ?",
          "port": "Marseille",
          "product": "Subsistances diverses et mélangées",
          "value": 114224.29874083
         },
         {
          "importsexports": "Exports",
          "partner_type": "Monde",
          "port": "Marseille",
          "product": "Sucre",
          "value": 12200117.3999885
         },
         {
          "importsexports": "Exports",
          "partner_type": "Fraude ?",
          "port": "Marseille",
          "product": "Sucre",
          "value": 1653138.6000114996
         },
         {
          "importsexports": "Imports",
          "partner_type": "colonies",
          "port": "Marseille",
          "product": "Sucre",
          "value": 13853256
         },
         {
          "importsexports": "Exports",
          "partner_type": "Monde",
          "port": "Marseille",
          "product": "Tabac",
          "value": 148856.7983707
         },
         {
          "importsexports": "Exports",
          "partner_type": "France",
          "port": "Marseille",
          "product": "Tabac",
          "value": 99466.796
         },
         {
          "importsexports": "Exports",
          "partner_type": "Fraude ?",
          "port": "Marseille",
          "product": "Tabac",
          "value": 107615.79762929998
         },
         {
          "importsexports": "Imports",
          "partner_type": "colonies",
          "port": "Marseille",
          "product": "Tabac",
          "value": 19965
         },
         {
          "importsexports": "Imports",
          "partner_type": "Monde",
          "port": "Marseille",
          "product": "Tabac",
          "value": 335974.392
         }
        ]
       },
       "spacing": 0,
       "title": "MARSEILLE\n Répartition des imports/exports en 1789 par produits coloniaux (révolution et empire)",
       "vconcat": [
        {
         "hconcat": [
          {
           "encoding": {
            "color": {
             "field": "partner_type",
             "scale": {
              "domain": [
               "colonies",
               "Monde",
               "France",
               "Fraude ?"
              ],
              "range": [
               "purple",
               "darkblue",
               "olive",
               "lightgrey",
               "darkgrey"
              ]
             },
             "type": "nominal"
            },
            "x": {
             "field": "value",
             "sort": "descending",
             "title": "Valeur (Lt)",
             "type": "quantitative"
            },
            "y": {
             "field": "product",
             "sort": "-x",
             "title": null,
             "type": "ordinal"
            }
           },
           "mark": {
            "tooltip": {
             "content": "data"
            },
            "type": "bar"
           },
           "title": "import",
           "transform": [
            {
             "filter": {
              "equal": "Imports",
              "field": "importsexports"
             }
            }
           ]
          },
          {
           "encoding": {
            "color": {
             "field": "partner_type",
             "scale": {
              "domain": [
               "colonies",
               "Monde",
               "France",
               "Fraude ?"
              ],
              "range": [
               "purple",
               "darkblue",
               "olive",
               "lightgrey",
               "darkgrey"
              ]
             },
             "sort": [
              "colonies",
              "Monde",
              "France",
              "Fraude ?"
             ],
             "type": "nominal"
            },
            "x": {
             "field": "value",
             "sort": "ascending",
             "title": "Valeur (Lt)",
             "type": "quantitative"
            },
            "y": {
             "axis": null,
             "field": "product",
             "sort": "-x",
             "title": null,
             "type": "ordinal"
            }
           },
           "mark": {
            "tooltip": {
             "content": "data"
            },
            "type": "bar"
           },
           "title": "export",
           "transform": [
            {
             "filter": {
              "equal": "Exports",
              "field": "importsexports"
             }
            }
           ]
          }
         ]
        },
        {
         "hconcat": [
          {
           "encoding": {
            "color": {
             "field": "partner_type",
             "scale": {
              "domain": [
               "colonies",
               "Monde",
               "France",
               "Fraude ?"
              ],
              "range": [
               "purple",
               "darkblue",
               "olive",
               "lightgrey",
               "darkgrey"
              ]
             },
             "sort": [
              "colonies",
              "Monde",
              "France",
              "Fraude ?"
             ],
             "type": "nominal"
            },
            "x": {
             "field": "total_value",
             "scale": {
              "domain": [
               0,
               31647025
              ]
             },
             "sort": "descending",
             "title": "Valeur tous produits (Lt)",
             "type": "quantitative"
            },
            "y": {
             "field": "partner_type",
             "scale": {
              "domain": [
               "colonies",
               "Monde",
               "France",
               "Fraude ?"
              ]
             },
             "sort": [
              "colonies",
              "Monde",
              "France",
              "Fraude ?"
             ],
             "title": null,
             "type": "ordinal"
            }
           },
           "mark": {
            "tooltip": {
             "content": "data"
            },
            "type": "bar"
           },
           "transform": [
            {
             "filter": {
              "equal": "Imports",
              "field": "importsexports"
             }
            },
            {
             "aggregate": [
              {
               "as": "total_value",
               "field": "value",
               "op": "sum"
              }
             ],
             "groupby": [
              "partner_type"
             ]
            }
           ]
          },
          {
           "encoding": {
            "color": {
             "field": "partner_type",
             "scale": {
              "domain": [
               "colonies",
               "Monde",
               "France",
               "Fraude ?"
              ],
              "range": [
               "purple",
               "darkblue",
               "olive",
               "lightgrey",
               "darkgrey"
              ]
             },
             "sort": [
              "colonies",
              "Monde",
              "France",
              "Fraude ?"
             ],
             "type": "nominal"
            },
            "x": {
             "field": "total_value",
             "scale": {
              "domain": [
               0,
               31647025
              ]
             },
             "sort": "ascending",
             "title": "Valeur tous produits (Lt)",
             "type": "quantitative"
            },
            "y": {
             "axis": null,
             "field": "partner_type",
             "scale": {
              "domain": [
               "colonies",
               "Monde",
               "France",
               "Fraude ?"
              ]
             },
             "sort": [
              "colonies",
              "Monde",
              "France",
              "Fraude ?"
             ],
             "title": null,
             "type": "ordinal"
            }
           },
           "mark": {
            "tooltip": {
             "content": "data"
            },
            "type": "bar"
           },
           "transform": [
            {
             "filter": {
              "equal": "Exports",
              "field": "importsexports"
             }
            },
            {
             "aggregate": [
              {
               "as": "total_value",
               "field": "value",
               "op": "sum"
              }
             ],
             "groupby": [
              "partner_type"
             ]
            }
           ]
          }
         ]
        },
        {
         "hconcat": [
          {
           "encoding": {
            "x": {
             "field": "total_value",
             "scale": {
              "domain": [
               0,
               54573855.43230076
              ]
             },
             "sort": "descending",
             "title": "Valeur tous produits (Lt)",
             "type": "quantitative"
            }
           },
           "mark": {
            "tooltip": {
             "content": "data"
            },
            "type": "bar"
           },
           "transform": [
            {
             "filter": {
              "equal": "Imports",
              "field": "importsexports"
             }
            },
            {
             "filter": "indexof(datum.partner_type,'?')==-1"
            },
            {
             "aggregate": [
              {
               "as": "total_value",
               "field": "value",
               "op": "sum"
              }
             ]
            }
           ]
          },
          {
           "encoding": {
            "x": {
             "field": "total_value",
             "scale": {
              "domain": [
               0,
               54573855.43230076
              ]
             },
             "sort": "ascending",
             "title": "Totaux (Lt)",
             "type": "quantitative"
            }
           },
           "mark": {
            "tooltip": {
             "content": "data"
            },
            "type": "bar"
           },
           "transform": [
            {
             "filter": {
              "equal": "Exports",
              "field": "importsexports"
             }
            },
            {
             "filter": "indexof(datum.partner_type,'?')==-1"
            },
            {
             "aggregate": [
              {
               "as": "total_value",
               "field": "value",
               "op": "sum"
              }
             ]
            }
           ]
          }
         ]
        }
       ]
      }
     },
     "metadata": {},
     "output_type": "display_data"
    },
    {
     "ename": "ValueError",
     "evalue": "max() arg is an empty sequence",
     "output_type": "error",
     "traceback": [
      "\u001b[0;31m---------------------------------------------------------------------------\u001b[0m",
      "\u001b[0;31mValueError\u001b[0m                                Traceback (most recent call last)",
      "\u001b[1;32m/home/paul/dev/portic-datasprint-2022/post_datasprint/module_08/vegalite.ipynb Cell 8'\u001b[0m in \u001b[0;36m<cell line: 1>\u001b[0;34m()\u001b[0m\n\u001b[1;32m      <a href='vscode-notebook-cell:/home/paul/dev/portic-datasprint-2022/post_datasprint/module_08/vegalite.ipynb#ch0000007?line=0'>1</a>\u001b[0m \u001b[39mfor\u001b[39;00m city \u001b[39min\u001b[39;00m [\u001b[39m\"\u001b[39m\u001b[39mDunkerque\u001b[39m\u001b[39m\"\u001b[39m, \u001b[39m\"\u001b[39m\u001b[39mBayonne\u001b[39m\u001b[39m\"\u001b[39m, \u001b[39m\"\u001b[39m\u001b[39mMarseille\u001b[39m\u001b[39m\"\u001b[39m, \u001b[39m\"\u001b[39m\u001b[39mLorient\u001b[39m\u001b[39m\"\u001b[39m]:\n\u001b[0;32m----> <a href='vscode-notebook-cell:/home/paul/dev/portic-datasprint-2022/post_datasprint/module_08/vegalite.ipynb#ch0000007?line=1'>2</a>\u001b[0m     pyramide_port_franc(city, data[city][\u001b[39m\"\u001b[39;49m\u001b[39mcolonial_products\u001b[39;49m\u001b[39m\"\u001b[39;49m], \u001b[39m\"\u001b[39;49m\u001b[39mproduct\u001b[39;49m\u001b[39m\"\u001b[39;49m, \u001b[39m\"\u001b[39;49m\u001b[39mpartner_type\u001b[39;49m\u001b[39m\"\u001b[39;49m, \u001b[39m\"\u001b[39;49m\u001b[39mproduits coloniaux (révolution et empire)\u001b[39;49m\u001b[39m\"\u001b[39;49m)\n",
      "\u001b[1;32m/home/paul/dev/portic-datasprint-2022/post_datasprint/module_08/vegalite.ipynb Cell 4'\u001b[0m in \u001b[0;36mpyramide_port_franc\u001b[0;34m(port_franc, report, row_field, bloc_field, product_title)\u001b[0m\n\u001b[1;32m      <a href='vscode-notebook-cell:/home/paul/dev/portic-datasprint-2022/post_datasprint/module_08/vegalite.ipynb#ch0000003?line=4'>5</a>\u001b[0m key \u001b[39m=\u001b[39m \u001b[39mlambda\u001b[39;00m d: (d[\u001b[39m'\u001b[39m\u001b[39mimportsexports\u001b[39m\u001b[39m'\u001b[39m], d[bloc_field])\n\u001b[1;32m      <a href='vscode-notebook-cell:/home/paul/dev/portic-datasprint-2022/post_datasprint/module_08/vegalite.ipynb#ch0000003?line=5'>6</a>\u001b[0m sd \u001b[39m=\u001b[39m \u001b[39msorted\u001b[39m(report, key\u001b[39m=\u001b[39mkey)\n\u001b[0;32m----> <a href='vscode-notebook-cell:/home/paul/dev/portic-datasprint-2022/post_datasprint/module_08/vegalite.ipynb#ch0000003?line=6'>7</a>\u001b[0m max_scale \u001b[39m=\u001b[39m \u001b[39mmax\u001b[39;49m([\u001b[39msum\u001b[39;49m(t[\u001b[39m\"\u001b[39;49m\u001b[39mvalue\u001b[39;49m\u001b[39m\"\u001b[39;49m] \u001b[39mfor\u001b[39;49;00m t \u001b[39min\u001b[39;49;00m totals) \u001b[39mfor\u001b[39;49;00m group, totals \u001b[39min\u001b[39;49;00m groupby(sd, key\u001b[39m=\u001b[39;49mkey)])\n\u001b[1;32m      <a href='vscode-notebook-cell:/home/paul/dev/portic-datasprint-2022/post_datasprint/module_08/vegalite.ipynb#ch0000003?line=7'>8</a>\u001b[0m max_total \u001b[39m=\u001b[39m \u001b[39mmax\u001b[39m([\u001b[39msum\u001b[39m(t[\u001b[39m\"\u001b[39m\u001b[39mvalue\u001b[39m\u001b[39m\"\u001b[39m] \u001b[39mfor\u001b[39;00m t \u001b[39min\u001b[39;00m totals) \u001b[39mfor\u001b[39;00m exp_imp, totals \u001b[39min\u001b[39;00m groupby(sd, key\u001b[39m=\u001b[39m\u001b[39mlambda\u001b[39;00m d: d[\u001b[39m'\u001b[39m\u001b[39mimportsexports\u001b[39m\u001b[39m'\u001b[39m])])\n\u001b[1;32m      <a href='vscode-notebook-cell:/home/paul/dev/portic-datasprint-2022/post_datasprint/module_08/vegalite.ipynb#ch0000003?line=8'>9</a>\u001b[0m report \u001b[39m=\u001b[39m \u001b[39msorted\u001b[39m(report, key\u001b[39m=\u001b[39m \u001b[39mlambda\u001b[39;00m row: (row[row_field], row[\u001b[39m\"\u001b[39m\u001b[39mimportsexports\u001b[39m\u001b[39m\"\u001b[39m], SORT_LABELS\u001b[39m.\u001b[39mindex(row[bloc_field])))\n",
      "\u001b[0;31mValueError\u001b[0m: max() arg is an empty sequence"
     ]
    }
   ],
   "source": [
    "for city in [\"Dunkerque\", \"Bayonne\", \"Marseille\", \"Lorient\"]:\n",
    "    pyramide_port_franc(city, data[city][\"colonial_products\"], \"product\", \"partner_type\", \"produits coloniaux (révolution et empire)\")"
   ]
  }
 ],
 "metadata": {
  "kernelspec": {
   "display_name": "Python 3",
   "language": "python",
   "name": "python3"
  },
  "language_info": {
   "codemirror_mode": {
    "name": "ipython",
    "version": 3
   },
   "file_extension": ".py",
   "mimetype": "text/x-python",
   "name": "python",
   "nbconvert_exporter": "python",
   "pygments_lexer": "ipython3",
   "version": "3.8.3"
  }
 },
 "nbformat": 4,
 "nbformat_minor": 5
}
