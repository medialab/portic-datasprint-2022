{
 "cells": [
  {
   "cell_type": "code",
   "execution_count": 1,
   "id": "5e1d10fe-643e-4db9-95fd-98ecb3222193",
   "metadata": {},
   "outputs": [],
   "source": [
    "from dunkerquesprint import Portic\n",
    "from ipyleaflet import Map, Marker, Popup, basemaps, basemap_to_tiles, CircleMarker\n",
    "from ipywidgets import HTML\n",
    "\n",
    "client = Portic()\n",
    "\n",
    "# this function allows to map a value from a domain of min-max to another\n",
    "def map_value(value, domain_min, domain_max, range_min, range_max):\n",
    "    left_span = domain_max - domain_min\n",
    "    right_span = range_max - range_min\n",
    "\n",
    "    # Convert the left range into a 0-1 range (float)\n",
    "    scaled = float(value - domain_min) / float(left_span)\n",
    "\n",
    "    # Convert the 0-1 range into a value in the right range.\n",
    "    return range_min + (scaled * right_span)\n",
    "\n",
    "# doc : https://ipyleaflet.readthedocs.io/en/latest/api_reference/circle_marker.html"
   ]
  },
  {
   "cell_type": "markdown",
   "id": "5aa52d37-efa7-46ff-8bd1-fd03ef810933",
   "metadata": {
    "tags": []
   },
   "source": [
    "# Flows"
   ]
  },
  {
   "cell_type": "code",
   "execution_count": 3,
   "id": "c2674ba0-98f7-4dfb-9683-305139cac7ba",
   "metadata": {},
   "outputs": [
    {
     "name": "stdout",
     "output_type": "stream",
     "text": [
      "[{'travel_id': '0000008N- 55', 'distance_dep_dest': 600.662, 'distance_homeport_dep': 199.814, 'departure': 'Dunkerque', 'departure_fr': 'Dunkerque', 'departure_en': 'Dunkirk', 'departure_uhgs_id': 'A0204180', 'departure_latitude': '51.05', 'departure_longitude': '2.366667', 'departure_admiralty': 'Dunkerque', 'departure_province': 'Flandre', 'departure_states': '[{\"1749-1815\" : \"France\"}]', 'departure_substates': None, 'departure_state_1789_fr': 'France', 'departure_substate_1789_fr': None, 'departure_state_1789_en': 'France', 'departure_substate_1789_en': None, 'departure_ferme_direction': None, 'departure_ferme_direction_uncertainty': None, 'departure_ferme_bureau': None, 'departure_ferme_bureau_uncertainty': None, 'departure_partner_balance_1789': 'Dunkerque', 'departure_partner_balance_supp_1789': 'France', 'departure_partner_balance_1789_uncertainty': 0.0, 'departure_partner_balance_supp_1789_uncertainty': 0, 'departure_shiparea': 'NOR-DOVE', 'departure_status': 'siège amirauté', 'departure_nb_conges_1787_inputdone': 2223.0, 'departure_nb_conges_1787_cr': 2231.0, 'departure_nb_conges_1789_inputdone': 2596.0, 'departure_nb_conges_1789_cr': 2599.0, 'departure_status_uncertainity': 0.0, 'departure_point': '0101000020110F000078EC48A98014104186AD7EBABF4A5941', 'departure_out_date': '1789=01=20', 'departure_action': 'Out', 'outdate_fixed': -5710089600000, 'departure_navstatus': 'PC-RF', 'departure_function': 'O', 'destination': 'Lisbonne [mais: Angleterre]', 'destination_fr': 'Angleterre (destination simulée pour)', 'destination_en': 'England (fake destination for)', 'destination_uhgs_id': 'A0394917', 'destination_latitude': '53', 'destination_longitude': '-2', 'destination_admiralty': None, 'destination_province': 'Stafford shire', 'destination_states': '[{\"1749-1815\" : \"Grande-Bretagne\"}]', 'destination_substates': '[{\"1749-1815\" : \"Angleterre\"}]', 'destination_state_1789_fr': 'Grande-Bretagne', 'destination_substate_1789_fr': 'Angleterre', 'destination_state_1789_en': 'Great Britain', 'destination_substate_1789_en': 'England', 'destination_ferme_direction': None, 'destination_ferme_direction_uncertainty': None, 'destination_ferme_bureau': None, 'destination_ferme_bureau_uncertainty': None, 'destination_partner_balance_1789': 'Angleterre', 'destination_partner_balance_supp_1789': 'Etranger', 'destination_partner_balance_1789_uncertainty': 0.0, 'destination_partner_balance_supp_1789_uncertainty': 0, 'destination_shiparea': None, 'destination_status': None, 'destination_nb_conges_1787_inputdone': None, 'destination_nb_conges_1787_cr': None, 'destination_nb_conges_1789_inputdone': None, 'destination_nb_conges_1789_cr': None, 'destination_status_uncertainity': None, 'destination_point': '0101000020110F0000310C4ADA772D0BC192AAE77A55A35A41', 'destination_in_date': '1789>01>20', 'destination_action': 'In', 'indate_fixed': -5710089600000, 'destination_navstatus': 'FC-RF', 'destination_function': 'T', 'ship_name': 'Lyon', 'ship_id': '0000008N', 'tonnage': '12', 'tonnage_unit': 'tx', 'tonnage_class': '[1-20]', 'in_crew': None, 'flag': 'British', 'ship_flag_id': 'A0395415', 'ship_flag_standardized_fr': 'britannique', 'ship_flag_standardized_en': 'British', 'class': None, 'homeport': 'Hastings', 'homeport_uhgs_id': 'A0383904', 'homeport_latitude': '50.85', 'homeport_longitude': '0.6', 'homeport_admiralty': None, 'homeport_province': 'Sussex', 'homeport_states': '[{\"1749-1815\" : \"Grande-Bretagne\"}]', 'homeport_substates': '[{\"1749-1815\" : \"Angleterre\"}]', 'homeport_status': None, 'homeport_shiparea': 'MAN-DOVE', 'homeport_point': 'SRID=3857;POINT(66791.69447596413 6594803.227460435)', 'homeport_state_1789_fr': 'Grande-Bretagne', 'homeport_substate_1789_fr': 'Angleterre', 'homeport_state_1789_en': 'Great Britain', 'homeport_substate_1789_en': 'England', 'homeport_toponyme_fr': 'Hasting', 'homeport_toponyme_en': 'Hasting', 'source_entry': 'from', 'source_doc_id': '00334797', 'source_text': 'ANF, G5-76/5778', 'source_suite': 'G5', 'source_component': 'ANF, G5-76', 'source_number': 5778.0, 'source_other': None, 'source_main_port_uhgs_id': 'A0204180', 'source_main_port_toponyme': 'Dunkerque', 'source_subset': None, 'captain_id': '00000010', 'captain_name': 'Bevill, Salomon', 'birthplace': None, 'status': None, 'citizenship': None, 'birthplace_uhgs_id': None, 'commodity_purpose': 'Etc.', 'commodity_id': '00000013', 'quantity': None, 'quantity_u': None, 'commodity_standardized': 'Sundries', 'commodity_standardized_fr': 'Diverses marchandises', 'commodity_permanent_coding': 'xx-xxxxxx-JZ-MAxxxx-xxxx', 'cargo_item_action': 'Out', 'commodity_purpose2': None, 'commodity_id2': None, 'quantity2': None, 'quantity_u2': None, 'commodity_standardized2': None, 'commodity_standardized2_fr': None, 'commodity_permanent_coding2': None, 'cargo_item_action2': None, 'commodity_purpose3': None, 'commodity_id3': None, 'quantity3': None, 'quantity_u3': None, 'commodity_standardized3': None, 'commodity_standardized3_fr': None, 'commodity_permanent_coding3': None, 'cargo_item_action3': None, 'commodity_purpose4': None, 'commodity_id4': None, 'quantity4': None, 'quantity_u4': None, 'commodity_standardized4': None, 'commodity_standardized4_fr': None, 'commodity_permanent_coding4': None, 'cargo_item_action4': None, 'all_cargos': [{'quantity': None, 'quantity_u': None, 'commodity_id': '00000013', 'cargo_item_action': 'Out', 'commodity_purpose': 'Etc.', 'link_to_pointcall': '00334797', 'commodity_standardized_en': 'Sundries', 'commodity_standardized_fr': 'Diverses marchandises', 'commodity_permanent_coding': 'xx-xxxxxx-JZ-MAxxxx-xxxx'}], 'tax_concept1': 'Droit de congé étranger', 'payment_date': None, 'q01_1': '1.0', 'q01_u': 'l.t.', 'q02_1': '17.0', 'q02_u': None, 'q03_1': '6.0', 'q03_u': None, 'taxe_amount01': 450.0, 'all_taxes': [{'q01': '1.0', 'q02': '17.0', 'q03': '6.0', 'q01_u': 'l.t.', 'q02_u': None, 'q03_u': None, 'tax_concept': 'Droit de congé étranger', 'payment_date': None, 'link_to_pointcall': '00334797'}], 'tax_concept2': None, 'q01_2': None, 'q02_2': None, 'q03_2': None, 'taxe_amount02': 0.0, 'tax_concept3': None, 'q01_3': None, 'q02_3': None, 'q03_3': None, 'taxe_amount03': 0.0, 'tax_concept4': None, 'q01_4': None, 'q02_4': None, 'q03_4': None, 'taxe_amount04': 0.0, 'tax_concept5': None, 'q01_5': None, 'q02_5': None, 'q03_5': None, 'taxe_amount05': 0.0, 'ship_uncertainity': 0, 'tonnage_uncertainity': 0, 'flag_uncertainity': -2, 'homeport_uncertainity': 0, 'departure_uncertainity': 0, 'destination_uncertainity': -1, 'captain_uncertainity': 0, 'travel_uncertainity': -1, 'cargo_uncertainity': 0, 'taxe_uncertainity': 0, 'pointcall_outdate_uncertainity': -1, 'shipclass_uncertainity': -4, 'birthplace_uhgs_id_uncertainity': -4, 'birthplace_uncertainity': -4, 'citizenship_uncertainity': -4, 'departure_pkid': 79091, 'destination_pkid': 88977, 'travel_rank': 55, 'distance_dep_dest_miles': '987', 'distance_homeport_dep_miles': None, 'subject': '0000008N', 'subject_order': 55}]\n"
     ]
    }
   ],
   "source": [
    "flows = client.get_flows(year=1789)\n",
    "print(flows[0:1])"
   ]
  },
  {
   "cell_type": "markdown",
   "id": "95987d69-cc11-4893-af98-3c8d784f834a",
   "metadata": {},
   "source": [
    "Champs de *flows* avec coordonnées géo :\n",
    "\n",
    "- `homeport_latitude`\n",
    "- `homeport_longitude`\n",
    "- `departure_latitude`\n",
    "- `departure_longitude`\n",
    "- `destination_latitude`\n",
    "- `destination_longitude`\n",
    "\n",
    "Ex :\n",
    "\n",
    "```python\n",
    "marker = Marker(\n",
    "    location=(flow[\"homeport_latitude\"], flow[\"homeport_longitude\"])\n",
    ")\n",
    "```"
   ]
  },
  {
   "cell_type": "code",
   "execution_count": 21,
   "id": "43112231-5c76-417c-affd-f44b3027bc29",
   "metadata": {},
   "outputs": [
    {
     "data": {
      "application/vnd.jupyter.widget-view+json": {
       "model_id": "2740c379d2714e57a2490e6147957fc3",
       "version_major": 2,
       "version_minor": 0
      },
      "text/plain": [
       "Map(center=[47, -1], controls=(ZoomControl(options=['position', 'zoom_in_text', 'zoom_in_title', 'zoom_out_tex…"
      ]
     },
     "metadata": {},
     "output_type": "display_data"
    }
   ],
   "source": [
    "center = (47, -1) # France\n",
    "portic_map = Map(center=center,zoom=5)\n",
    "\n",
    "for flow in [flows[1], flows[16056], flows[20034], flows[30032]]:\n",
    "    marker = Marker(location=(flow[\"departure_latitude\"], flow[\"departure_longitude\"]))\n",
    "    popup = HTML()\n",
    "    popup.value = flow[\"departure\"]\n",
    "    popup = Popup(\n",
    "        location=(flow[\"departure_latitude\"], flow[\"departure_longitude\"]),\n",
    "        child=popup\n",
    "    )\n",
    "    marker.popup = popup\n",
    "\n",
    "    portic_map.add_layer(marker)\n",
    "          \n",
    "display(portic_map)"
   ]
  },
  {
   "cell_type": "code",
   "execution_count": 5,
   "id": "52fda615-c1dd-4d8a-9528-92dfe2ece1a1",
   "metadata": {},
   "outputs": [
    {
     "data": {
      "application/vnd.jupyter.widget-view+json": {
       "model_id": "186bd8ce2db348f7a725283579884708",
       "version_major": 2,
       "version_minor": 0
      },
      "text/plain": [
       "Map(center=[45.6876849, -1.15], controls=(ZoomControl(options=['position', 'zoom_in_text', 'zoom_in_title', 'z…"
      ]
     },
     "metadata": {},
     "output_type": "display_data"
    }
   ],
   "source": [
    "ports = {}\n",
    "\n",
    "for flow in flows:\n",
    "    if flow[\"departure_uhgs_id\"] in ports:\n",
    "        ports[flow[\"departure_uhgs_id\"]][\"count\"] += 1\n",
    "    else:\n",
    "        ports[flow[\"departure_uhgs_id\"]] = {\n",
    "             \"count\": 1,\n",
    "             'departure_fr': flow['departure_fr'],\n",
    "             'departure_en': flow['departure_en'],\n",
    "             'latitude': flow['departure_latitude'],\n",
    "             'longitude': flow['departure_longitude'],\n",
    "             \"id\": flow[\"departure_uhgs_id\"]\n",
    "        }\n",
    "\n",
    "ports = [port for key,port in ports.items()]\n",
    "\n",
    "watercolor = basemap_to_tiles(basemaps.Stamen.Watercolor)\n",
    "\n",
    "center = (45.6876849, -1.15)\n",
    "\n",
    "portic_map = Map(layers=(watercolor, ), center=center, zoom=5)\n",
    "\n",
    "max_count = max([port[\"count\"] for port in ports])\n",
    "min_count = min([port[\"count\"] for port in ports])\n",
    "MIN_RADIUS = 1\n",
    "MAX_RADIUS = 20\n",
    "\n",
    "for port in ports:\n",
    "    circle_marker = CircleMarker()\n",
    "    circle_marker.location = (port[\"latitude\"], port[\"longitude\"])\n",
    "    circle_marker.radius = int(map_value(port[\"count\"], min_count, max_count, MIN_RADIUS, MAX_RADIUS))\n",
    "    circle_marker.color = \"red\"\n",
    "    circle_marker.fill_color = \"red\"\n",
    "    portic_map.add_layer(circle_marker)\n",
    "\n",
    "portic_map"
   ]
  },
  {
   "cell_type": "markdown",
   "id": "c123ffb3-8834-4c05-8373-630bdeb86d94",
   "metadata": {},
   "source": [
    "# Pointcalls"
   ]
  },
  {
   "cell_type": "code",
   "execution_count": 22,
   "id": "58ad86d6-82b4-40c6-bab3-0c474d39e1fc",
   "metadata": {},
   "outputs": [
    {
     "name": "stdout",
     "output_type": "stream",
     "text": [
      "[{'pkid': 70354, 'record_id': '00282679', 'pointcall': 'Caen', 'pointcall_uhgs_id': 'A0132409', 'toponyme_fr': 'Caen\\xa0', 'toponyme_en': 'Caen\\xa0', 'latitude': '49.183333', 'longitude': '-0.35', 'pointcall_admiralty': 'Caen', 'pointcall_province': 'Normandie', 'pointcall_states': '[{\"1749-1815\" : \"France\"}]', 'pointcall_substates': None, 'pointcall_states_en': '[{\"1749-1815\" : \"France\"}]', 'pointcall_substates_en': None, 'state_1789_fr': 'France', 'state_1789_en': 'France', 'substate_1789_fr': None, 'substate_1789_en': None, 'nb_conges_1787_inputdone': None, 'nb_conges_1787_cr': None, 'nb_conges_1789_inputdone': None, 'nb_conges_1789_cr': None, 'pointcall_status_uncertainity': 0.0, 'pointcall_status': 'siège amirauté', 'shiparea': 'MAN-WIGH', 'pointcall_point': '0101000020110F000022A2004C3A06E3C0EC5C5BA73A0E5841', 'ferme_direction': 'Caen', 'ferme_direction_uncertainty': 0.0, 'ferme_bureau': 'Caen', 'ferme_bureau_uncertainty': 0.0, 'partner_balance_1789': None, 'partner_balance_supp_1789': 'France', 'partner_balance_1789_uncertainty': None, 'partner_balance_supp_1789_uncertainty': 0.0, 'pointcall_out_date': None, 'pointcall_action': 'In', 'outdate_fixed': None, 'pointcall_in_date': '1789>05>04!', 'indate_fixed': -5701104000000, 'net_route_marker': None, 'pointcall_function': 'T', 'navigo_status': 'FC-RF', 'pointcall_rank_dedieu': '2.0', 'ship_name': 'Saint Jean', 'ship_id': None, 'tonnage': '52', 'tonnage_unit': 'Tx', 'flag': None, 'class': None, 'ship_flag_id': None, 'in_crew': None, 'homeport': None, 'homeport_uhgs_id': None, 'homeport_toponyme_fr': None, 'homeport_toponyme_en': None, 'homeport_latitude': None, 'homeport_longitude': None, 'homeport_admiralty': None, 'homeport_province': None, 'homeport_states': None, 'homeport_substates': None, 'homeport_states_en': None, 'homeport_substates_en': None, 'homeport_state_1789_fr': None, 'homeport_state_1789_en': None, 'homeport_substate_1789_fr': None, 'homeport_substate_1789_en': None, 'homeport_nb_conges_1787_inputdone': None, 'homeport_nb_conges_1787_cr': None, 'homeport_nb_conges_1789_inputdone': None, 'homeport_nb_conges_1789_cr': None, 'homeport_status_uncertainity': None, 'homeport_status': None, 'homeport_shiparea': None, 'homeport_point': None, 'homeport_ferme_direction': None, 'homeport_ferme_bureau': None, 'homeport_ferme_bureau_uncertainty': None, 'homeport_partner_balance_1789': None, 'homeport_partner_balance_supp_1789': None, 'homeport_partner_balance_1789_uncertainty': None, 'homeport_partner_balance_supp_1789_uncertainty': None, 'source_doc_id': '00281209', 'source_text': 'ANF, G5-154-1/ 1589', 'source_suite': 'G5', 'source_component': 'ANF, G5-154-1', 'source_number': 1589.0, 'source_other': None, 'source_main_port_uhgs_id': 'A0135548', 'source_main_port_toponyme': 'Saint Valery en Caux', 'source_subset': None, 'captain_id': None, 'captain_name': 'Magnan Jean', 'birthplace': None, 'birthplace_uhgs_id': None, 'status': None, 'citizenship': None, 'commodity_purpose': None, 'commodity_id': None, 'quantity': None, 'quantity_u': None, 'commodity_standardized': None, 'commodity_standardized_fr': None, 'commodity_permanent_coding': None, 'cargo_item_action': None, 'all_cargos': None, 'tax_concept1': 'Droits de congé', 'payment_date': None, 'q01_1': None, 'q01_u': None, 'q02_1': '12.0', 'q02_u': 's.t.', 'q03_1': '6.0', 'q03_u': 'd.t.', 'all_taxes': [{'q01': None, 'q02': '12.0', 'q03': '6.0', 'q01_u': None, 'q02_u': 's.t.', 'q03_u': 'd.t.', 'tax_concept': 'Droits de congé', 'payment_date': None, 'link_to_pointcall': '00281209'}], 'tax_concept2': None, 'q01_2': None, 'q02_2': None, 'q03_2': None, 'tax_concept3': None, 'q01_3': None, 'q02_3': None, 'q03_3': None, 'tax_concept4': None, 'q01_4': None, 'q02_4': None, 'q03_4': None, 'tax_concept5': None, 'q01_5': None, 'q02_5': None, 'q03_5': None, 'ship_uncertainity': -4, 'tonnage_uncertainity': 0, 'flag_uncertainity': -4, 'homeport_uncertainity': -4, 'pointcall_uncertainity': -1, 'captain_uncertainity': 0, 'shipclass_uncertainity': -4, 'birthplace_uncertainity': -4, 'citizenship_uncertainity': -4, 'birthplace_uhgs_id_uncertainity': -4, 'cargo_uncertainity': -4, 'taxe_uncertainity': 0, 'pointcall_in_date2': '1789=05=04', 'pointcall_out_date2': None, 'ship_flag_standardized_fr': None, 'ship_flag_standardized_en': None, 'tonnage_class': '[51-100]', 'commodity_purpose2': None, 'commodity_id2': None, 'quantity2': None, 'quantity_u2': None, 'commodity_standardized2': None, 'commodity_standardized2_fr': None, 'commodity_permanent_coding2': None, 'cargo_item_action2': None, 'commodity_purpose3': None, 'commodity_id3': None, 'quantity3': None, 'quantity_u3': None, 'commodity_standardized3': None, 'commodity_standardized3_fr': None, 'commodity_permanent_coding3': None, 'cargo_item_action3': None, 'commodity_purpose4': None, 'commodity_id4': None, 'quantity4': None, 'quantity_u4': None, 'commodity_standardized4': None, 'commodity_standardized4_fr': None, 'commodity_permanent_coding4': None, 'cargo_item_action4': None, 'data_block_leader_marker': 'T', 'taxe_amount01': 150.0, 'taxe_amount02': 0.0, 'taxe_amount03': 0.0, 'taxe_amount04': 0.0, 'taxe_amount05': 0.0, 'date_fixed': -5701104000000, 'pointcall_rankfull': 89, 'pointcall_outdate_uncertainity': -1}]\n"
     ]
    }
   ],
   "source": [
    "pointcalls = client.get_pointcalls(year=1789)\n",
    "print(pointcalls[0:1])"
   ]
  },
  {
   "cell_type": "markdown",
   "id": "5a4692c7-dcf2-48a0-9b25-ee892e16bbe3",
   "metadata": {},
   "source": [
    "Champs de *pointcalls* avec coordonnées géo :\n",
    "\n",
    "- `latitude`\n",
    "- `longitude`\n",
    "- `homeport_latitude`\n",
    "- `homeport_longitude`"
   ]
  }
 ],
 "metadata": {
  "kernelspec": {
   "display_name": "Python 3 (ipykernel)",
   "language": "python",
   "name": "python3"
  },
  "language_info": {
   "codemirror_mode": {
    "name": "ipython",
    "version": 3
   },
   "file_extension": ".py",
   "mimetype": "text/x-python",
   "name": "python",
   "nbconvert_exporter": "python",
   "pygments_lexer": "ipython3",
   "version": "3.10.1"
  }
 },
 "nbformat": 4,
 "nbformat_minor": 5
}
