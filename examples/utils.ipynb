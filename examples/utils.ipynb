{
 "cells": [
  {
   "cell_type": "code",
   "execution_count": 49,
   "id": "6798cb81-0e10-4be9-91fd-8f4f71a083e7",
   "metadata": {},
   "outputs": [],
   "source": [
    "from dunkerquesprint import Toflit, Portic, nest_toflit18_flow, nest_portic_pointcall, combine_commodity_purposes, get_pointcalls_port_as_toflit_partner"
   ]
  },
  {
   "cell_type": "markdown",
   "id": "e8f534e6-9a39-4d2c-ba08-a76a3e9766d0",
   "metadata": {},
   "source": [
    "## Obtenir un dictionnaire de données"
   ]
  },
  {
   "cell_type": "code",
   "execution_count": null,
   "id": "c3834da3-5e1d-4614-ad92-e397de315e70",
   "metadata": {},
   "outputs": [],
   "source": [
    "client = Toflit()\n",
    "flows = client.get_flows()"
   ]
  },
  {
   "cell_type": "markdown",
   "id": "900bbb76-93db-4128-a0d8-1196fd2b615f",
   "metadata": {},
   "source": [
    "Obtenir un dictionnaire des valeurs de Toflit18 pour un *flow* donné."
   ]
  },
  {
   "cell_type": "code",
   "execution_count": null,
   "id": "bcacd5be-ea10-43e8-b322-c31074fe788c",
   "metadata": {},
   "outputs": [],
   "source": [
    "result = nest_toflit18_flow(flows[56])\n",
    "print(result)"
   ]
  },
  {
   "cell_type": "code",
   "execution_count": 50,
   "id": "1e3fb583-146f-4a8f-b1cb-b11b9fc795ea",
   "metadata": {},
   "outputs": [],
   "source": [
    "client = Portic()\n",
    "pointcalls = client.get_pointcalls()"
   ]
  },
  {
   "cell_type": "markdown",
   "id": "ebbc9276-140c-453d-812c-9c054c9c85eb",
   "metadata": {},
   "source": [
    "Obtenir un dictionnaire des valeurs de Navigo pour un *pointcall* donné."
   ]
  },
  {
   "cell_type": "code",
   "execution_count": null,
   "id": "bbe397de-7bc6-424f-a74f-007fa9c1df85",
   "metadata": {},
   "outputs": [],
   "source": [
    "result = nest_portic_pointcall(pointcalls[23])\n",
    "print(result)"
   ]
  },
  {
   "cell_type": "code",
   "execution_count": null,
   "id": "bc4f22e7-72ef-412a-8d78-5cb46d5377ac",
   "metadata": {},
   "outputs": [],
   "source": [
    "result = combine_commodity_purposes(pointcalls[425])\n",
    "print(result['commodity_purpose'])\n",
    "print(result['commodity_purpose2'])\n",
    "print(result['commodity_purpose3'])\n",
    "print(result['commodity_purpose4'])\n",
    "print(result['commodity_purposes'])"
   ]
  },
  {
   "cell_type": "markdown",
   "id": "ba08de3e-2bd8-4da1-9d31-f6786ee0fc42",
   "metadata": {},
   "source": [
    "## Croiser Navigo et Toflit18"
   ]
  },
  {
   "cell_type": "markdown",
   "id": "74ad4688-83c1-43f4-8cee-5bbc5c3f9463",
   "metadata": {},
   "source": [
    "Obtenir la liste des classifications :\n",
    "\n",
    "```python\n",
    "client = Toflit()\n",
    "[classif['name]' for classif in client.get_product_classifications()]\n",
    "```"
   ]
  },
  {
   "cell_type": "code",
   "execution_count": null,
   "id": "ae4573de-0321-479e-8b9a-200c08307b70",
   "metadata": {},
   "outputs": [],
   "source": [
    "# classification de produit : 'product_RE_aggregate'\n",
    "results = get_pointcalls_commodity_purposes_as_toflit_product(pointcalls[0:36], 'product_RE_aggregate')\n",
    "[result['commodity_purposes'] for result in results] # see 'commodity_as_toflit'"
   ]
  },
  {
   "cell_type": "code",
   "execution_count": null,
   "id": "6ef2fd05-a9b1-4510-afa4-5cbfe54a3a29",
   "metadata": {},
   "outputs": [],
   "source": [
    "results = get_pointcalls_port_as_toflit_partner(pointcalls[0:36])\n",
    "[result['pointcall_as_toflit_partner'] for result in results]"
   ]
  },
  {
   "cell_type": "code",
   "execution_count": null,
   "id": "cfab739a-8923-4592-91b2-eac36d4d738d",
   "metadata": {},
   "outputs": [],
   "source": []
  }
 ],
 "metadata": {
  "kernelspec": {
   "display_name": "Python 3 (ipykernel)",
   "language": "python",
   "name": "python3"
  },
  "language_info": {
   "codemirror_mode": {
    "name": "ipython",
    "version": 3
   },
   "file_extension": ".py",
   "mimetype": "text/x-python",
   "name": "python",
   "nbconvert_exporter": "python",
   "pygments_lexer": "ipython3",
   "version": "3.10.1"
  }
 },
 "nbformat": 4,
 "nbformat_minor": 5
}
