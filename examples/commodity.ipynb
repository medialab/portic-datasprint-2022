{
 "cells": [
  {
   "cell_type": "markdown",
   "id": "9eaa31fe-e8f3-4ff8-b485-c986b0346461",
   "metadata": {},
   "source": [
    "# Commodity\n",
    "\n",
    "Commuler les objets de voyage (*commodity purpose*)"
   ]
  },
  {
   "cell_type": "code",
   "execution_count": 2,
   "id": "8e847924-d018-4949-85d4-8d4a2163d839",
   "metadata": {},
   "outputs": [],
   "source": [
    "from dunkerquesprint import Portic\n",
    "\n",
    "client = Portic()"
   ]
  },
  {
   "cell_type": "code",
   "execution_count": 3,
   "id": "b9a75bcb-92b1-44a8-a4c2-f06efc7e9603",
   "metadata": {},
   "outputs": [],
   "source": [
    "flows = client.get_flows(year='1789')"
   ]
  },
  {
   "cell_type": "code",
   "execution_count": 5,
   "id": "258c71f5-a55d-4ce5-9f13-22b71a68d82e",
   "metadata": {},
   "outputs": [],
   "source": [
    "fields_commodity = [\n",
    "    'commodity_standardized_fr',\n",
    "    'commodity_standardized2_fr',\n",
    "    'commodity_standardized3_fr',\n",
    "    'commodity_standardized4_fr'\n",
    "]"
   ]
  },
  {
   "cell_type": "markdown",
   "id": "25afcfa8-82ea-4b80-9444-1d21357beca0",
   "metadata": {},
   "source": [
    "Diviser le tonnage par le nombre d'objets de voyage :"
   ]
  },
  {
   "cell_type": "code",
   "execution_count": null,
   "id": "bb15888e-77db-455a-981e-51e17207cbdb",
   "metadata": {},
   "outputs": [],
   "source": [
    "def moderate_tonnage_by_commodities(flow):\n",
    "    tonnage = int(flow['tonnage'] if flow['tonnage'] is not None else 0)\n",
    "    commodity_valid_nb = 0\n",
    "    for field in fields_commodity:\n",
    "        if flow[field] != '':\n",
    "            commodity_valid_nb += 1\n",
    "    flow['tonnage'] = tonnage / commodity_valid_nb\n",
    "\n",
    "    return flow\n",
    "\n",
    "flows = [moderate_tonnage_by_commodities(flow) for flow in flows]"
   ]
  },
  {
   "cell_type": "markdown",
   "id": "60edf975-2084-4887-8759-704ed3a0d55d",
   "metadata": {},
   "source": [
    "Compter le nombre des différents objets de voyage :"
   ]
  },
  {
   "cell_type": "code",
   "execution_count": 6,
   "id": "a603da43-331b-4489-8a4a-772d8a9785f8",
   "metadata": {},
   "outputs": [
    {
     "name": "stdout",
     "output_type": "stream",
     "text": [
      "{'Diverses marchandises': 9165, None: 158632, 'Sel': 2777, 'Ustensiles de pêche': 52, 'Avoine': 175, 'Eau-de-vie': 1366, 'Passagers': 2617, 'Vide': 4661, 'Froment': 160, 'Lentilles': 8, 'Blé': 1189, 'Lest': 3699, 'Bouteilles ': 146, 'Soude': 234, 'Vin': 3536, 'Graines de lin': 20, 'Sucre': 369, 'Café': 223, 'Orge': 86, 'Bière': 16, 'Briques': 92, 'Morue': 93, 'Pois': 2, 'Fèves': 413, 'Coton': 101, 'Futailles vides': 342, 'Farine': 631, 'Ardoises': 38, 'Biscuits': 120, 'Beurre': 133, 'Huile': 1752, 'Laine': 89, 'Pêche à la sardine': 14, 'Bois merrain': 211, 'Feuillard': 209, 'Charbon': 74, 'Chaux': 845, 'Seigle': 29, 'Charbon de terre': 208, 'Son': 146, 'Pommes': 27, 'Pêche à la morue': 5, 'Fromage': 180, 'Savon': 148, 'Bois de construction': 754, 'Grain': 854, 'Bois de chauffage': 2034, 'Bois à brûler': 709, 'Goudron': 10, 'Bois': 2018, 'Pierre de taille': 38, 'Pierres': 486, 'Vivres': 2, 'Fourrage': 182, 'Ail': 95, 'Echalotte': 97, 'Oignons': 72, 'Fruits': 58, 'Planches': 1966, 'Plâtre': 553, 'Charbon de bois': 106, 'Copeaux et pièces de bois': 36, 'Cendre': 258, 'Moules ': 4, 'Fer': 141, 'Marchandises': 78, 'Vinaigre': 698, 'Suif': 71, 'Cercles': 48, 'Marchandises permises': 37, 'Morue verte': 11, 'Vinatérie': 7, 'Poterie': 139, 'Sardines': 48, 'Meubles': 34, 'Huitres': 19, \"Marchandises d'un naufrage\": 2, 'Fagots': 263, 'Chanvre': 72, 'Pêche des moules': 18, 'Sardines pressées de Bretagne': 4, 'Cendre de varech': 15, 'Moutarde': 19, 'Lin': 12, 'Tuilles': 10, 'Pêche au poisson frais': 18, 'Peaux de bœ\\x9c\\x9cuf': 13, 'Verre cassé': 21, 'Carreaux': 13, 'Salaisons': 5, 'Verge de moulin': 14, 'Poisson sec': 5, 'Cuivre': 4, 'Vaches': 36, 'Poudre à canon': 26, 'Haricots blancs': 11, 'Hardes de mer': 12, \"à l'aventure\": 41, 'Canons': 2, 'Huile de poisson': 4, 'Sardines salées': 4}\n"
     ]
    }
   ],
   "source": [
    "commodities = {}\n",
    "\n",
    "for flow in flows:\n",
    "    for field in fields_commodity:\n",
    "        commodity = flow[field]\n",
    "        if commodity != '':\n",
    "            if commodity in commodities:\n",
    "                commodities[commodity] += 1\n",
    "            else:\n",
    "                commodities[commodity] = 1\n",
    "print(commodities)"
   ]
  },
  {
   "cell_type": "code",
   "execution_count": null,
   "id": "8ce581c2-4b9c-4eb3-b686-de63fbdd61c0",
   "metadata": {},
   "outputs": [],
   "source": []
  }
 ],
 "metadata": {
  "kernelspec": {
   "display_name": "Python 3 (ipykernel)",
   "language": "python",
   "name": "python3"
  },
  "language_info": {
   "codemirror_mode": {
    "name": "ipython",
    "version": 3
   },
   "file_extension": ".py",
   "mimetype": "text/x-python",
   "name": "python",
   "nbconvert_exporter": "python",
   "pygments_lexer": "ipython3",
   "version": "3.10.1"
  }
 },
 "nbformat": 4,
 "nbformat_minor": 5
}
