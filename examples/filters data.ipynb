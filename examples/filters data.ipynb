{
 "cells": [
  {
   "cell_type": "markdown",
   "id": "3dc4ba3f-455c-4b36-adf6-45c782fb8d1b",
   "metadata": {},
   "source": [
    "# Bureaux et directions de ferme"
   ]
  },
  {
   "cell_type": "code",
   "execution_count": null,
   "id": "5cc25f67-0d4f-49cd-acc6-b2cf3d0d4503",
   "metadata": {},
   "outputs": [],
   "source": [
    "from dunkerquesprint import Toflit, Portic\n",
    "\n",
    "client = Toflit()"
   ]
  },
  {
   "cell_type": "markdown",
   "id": "ef4d9b4d-b9c9-4cab-8ace-af28122ae9a2",
   "metadata": {},
   "source": [
    "Ci-dessous des exemples permettant d'obtenir des listes filtrées d'entrées des bases de données Toflit18 et Navigo."
   ]
  },
  {
   "cell_type": "markdown",
   "id": "fe170afa-969f-467d-a047-0ea78d300356",
   "metadata": {},
   "source": [
    "## Toflit"
   ]
  },
  {
   "cell_type": "code",
   "execution_count": null,
   "id": "629b11d1-dfab-4843-b40f-d2e79a0d56fe",
   "metadata": {},
   "outputs": [],
   "source": [
    "flows = client.get_flows()"
   ]
  },
  {
   "cell_type": "markdown",
   "id": "919f1024-d6be-4830-9c17-bd7a62002760",
   "metadata": {},
   "source": [
    "### Bureau des fermes"
   ]
  },
  {
   "cell_type": "code",
   "execution_count": null,
   "id": "165957fc-bf88-4ffd-b742-5d70e9e73cd9",
   "metadata": {},
   "outputs": [],
   "source": [
    "ferme_bureau = set([flow['customs_office'] for flow in flows])\n",
    "print(ferme_bureau)"
   ]
  },
  {
   "cell_type": "code",
   "execution_count": null,
   "id": "8f4c9eff-7c3a-42e9-909d-3665e00c4ee6",
   "metadata": {},
   "outputs": [],
   "source": [
    "ferme_direction = client.get_customs_regions()\n",
    "print(ferme_direction)"
   ]
  },
  {
   "cell_type": "code",
   "execution_count": null,
   "id": "e4ae5578-a5ec-483f-9af4-6b98e7672325",
   "metadata": {},
   "outputs": [],
   "source": [
    "records_with_dunkerque_as_ferme_bureau = client.get_flows(year='1789',customs_office='Dunkerque')\n",
    "print(records_with_dunkerque_as_ferme_bureau[0:1])"
   ]
  },
  {
   "cell_type": "markdown",
   "id": "d5822bf7-bda1-450e-9f2b-43684f45b45c",
   "metadata": {},
   "source": [
    "### Direction des fermes"
   ]
  },
  {
   "cell_type": "code",
   "execution_count": null,
   "id": "dff90d13-25c5-4104-82c0-3821bf81dad1",
   "metadata": {},
   "outputs": [],
   "source": [
    "ferme_direction = set([flow['customs_region'] for flow in flows])\n",
    "print(ferme_direction)"
   ]
  },
  {
   "cell_type": "code",
   "execution_count": null,
   "id": "6bc1df0e-0fcc-4f68-a9b9-6a80a9b94178",
   "metadata": {},
   "outputs": [],
   "source": [
    "ferme_direction_of_dunkerque = set([flow['customs_region'] for flow in flows if flow['customs_office'] == 'Dunkerque'])\n",
    "print(ferme_direction_of_dunkerque) # => {'Flandre'}"
   ]
  },
  {
   "cell_type": "code",
   "execution_count": null,
   "id": "7d185f46-9065-47bf-a9fe-9cb147029db2",
   "metadata": {},
   "outputs": [],
   "source": [
    "records_with_dunkerque_as_ferme_direction = client.get_flows(year='1787',customs_region='Flandre')\n",
    "print(records_with_dunkerque_as_ferme_direction[0:1])"
   ]
  },
  {
   "cell_type": "markdown",
   "id": "6fab1995-7471-429a-8aa7-2f0209958c0a",
   "metadata": {},
   "source": [
    "### Ports partenaires"
   ]
  },
  {
   "cell_type": "code",
   "execution_count": null,
   "id": "21c51d83-ee1f-4150-958b-efcc369da634",
   "metadata": {},
   "outputs": [],
   "source": [
    "partner = set([flow['partner'] for flow in flows])\n",
    "print(partner)"
   ]
  },
  {
   "cell_type": "code",
   "execution_count": null,
   "id": "2d3ea517-321b-41d3-a1ae-3c90409acde7",
   "metadata": {},
   "outputs": [],
   "source": [
    "# Do not use : it doesn't give all the results : Dunkerque is written 'Dunkerque et Lorient' or 'dunkerquemarseille'… rarely 'Dunkerque'\n",
    "records_with_dunkerque_as_partenaire = client.get_flows(partner='Dunkerque')\n",
    "\n",
    "print( len(records_with_dunkerque_as_partenaire) ) # => 276\n",
    "\n",
    "# Do not use\n",
    "records_with_dunkerque_as_partenaire = client.get_flows(partner_simplification='Dunkerque')\n",
    "\n",
    "print( len(records_with_dunkerque_as_partenaire) ) # => 878\n",
    "\n",
    "# Use\n",
    "records_with_dunkerque_as_partenaire = [flow for flow in flows if 'dunkerque' in flow['partner_simplification'].lower()]\n",
    "print( len(records_with_dunkerque_as_partenaire) ) # => 907, better !"
   ]
  },
  {
   "cell_type": "markdown",
   "id": "18163ea4-5e04-4f3c-8d34-8695149515a7",
   "metadata": {},
   "source": [
    "## Navigo"
   ]
  },
  {
   "cell_type": "code",
   "execution_count": null,
   "id": "27de2b82-ed0e-4a9a-aeb0-ce934c4dc439",
   "metadata": {},
   "outputs": [],
   "source": [
    "client = Portic()"
   ]
  },
  {
   "cell_type": "code",
   "execution_count": null,
   "id": "12814d84-13e6-4859-831a-e73ace048b67",
   "metadata": {},
   "outputs": [],
   "source": [
    "flows = client.get_flows(year='1787',departure='Dunkerque')\n",
    "print(flows[1:10])"
   ]
  },
  {
   "cell_type": "code",
   "execution_count": null,
   "id": "5e946d3e-e6ba-4f77-9e44-1b7e5fc6fbde",
   "metadata": {},
   "outputs": [],
   "source": []
  }
 ],
 "metadata": {
  "kernelspec": {
   "display_name": "Python 3 (ipykernel)",
   "language": "python",
   "name": "python3"
  },
  "language_info": {
   "codemirror_mode": {
    "name": "ipython",
    "version": 3
   },
   "file_extension": ".py",
   "mimetype": "text/x-python",
   "name": "python",
   "nbconvert_exporter": "python",
   "pygments_lexer": "ipython3",
   "version": "3.10.1"
  }
 },
 "nbformat": 4,
 "nbformat_minor": 5
}
