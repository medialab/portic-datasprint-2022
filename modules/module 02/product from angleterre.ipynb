{
 "cells": [
  {
   "cell_type": "code",
   "execution_count": 1,
   "id": "be351d82-c4d0-4674-b14b-7dc46ab1c87d",
   "metadata": {},
   "outputs": [],
   "source": [
    "from dunkerquesprint import Toflit, Portic\n",
    "\n",
    "client = Toflit()"
   ]
  },
  {
   "cell_type": "code",
   "execution_count": 2,
   "id": "d8cae13c-7f30-4f4b-8370-a39a0278a704",
   "metadata": {},
   "outputs": [],
   "source": [
    "flows = client.get_flows()"
   ]
  },
  {
   "cell_type": "code",
   "execution_count": 9,
   "id": "46db4387-6ab6-4f02-b39c-cb280a5fb337",
   "metadata": {},
   "outputs": [
    {
     "data": {
      "text/plain": [
       "{'',\n",
       " 'Bêtes de somme',\n",
       " 'Divers',\n",
       " 'Drogues',\n",
       " 'Drogues médicinales',\n",
       " 'Industrie française et étrangère',\n",
       " \"Matières d'or et d'argent\",\n",
       " 'Matières premières',\n",
       " 'Métaux',\n",
       " 'Objets manufacturés',\n",
       " 'Subsistances',\n",
       " '[vide]'}"
      ]
     },
     "execution_count": 9,
     "metadata": {},
     "output_type": "execute_result"
    }
   ],
   "source": [
    "angleterre_partners = set([flow['partner'] for flow in flows if 'angleterre' in flow['partner'].lower()])\n",
    "angleterre_partners = list(angleterre_partners)\n",
    "products = set([flow['product_RE_aggregate'] for flow in flows if flow['partner'] in angleterre_partners])\n",
    "\n",
    "products"
   ]
  },
  {
   "cell_type": "code",
   "execution_count": null,
   "id": "853b2ace-60b3-4ab1-ad54-b7e5ec9ea988",
   "metadata": {},
   "outputs": [],
   "source": []
  }
 ],
 "metadata": {
  "kernelspec": {
   "display_name": "Python 3 (ipykernel)",
   "language": "python",
   "name": "python3"
  },
  "language_info": {
   "codemirror_mode": {
    "name": "ipython",
    "version": 3
   },
   "file_extension": ".py",
   "mimetype": "text/x-python",
   "name": "python",
   "nbconvert_exporter": "python",
   "pygments_lexer": "ipython3",
   "version": "3.10.1"
  }
 },
 "nbformat": 4,
 "nbformat_minor": 5
}
