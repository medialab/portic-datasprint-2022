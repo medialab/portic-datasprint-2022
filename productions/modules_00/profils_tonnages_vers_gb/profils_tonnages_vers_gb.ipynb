{
 "cells": [
  {
   "cell_type": "code",
   "execution_count": 1,
   "id": "d3aa2e1a",
   "metadata": {},
   "outputs": [],
   "source": [
    "import csv\n",
    "with open('../reperage_smoggleurs/result.csv', newline='') as csvfile:\n",
    "    reader = csv.DictReader(csvfile, delimiter=',', quotechar='|')\n",
    "    ports = []\n",
    "    ports_names = set()\n",
    "    for row in reader:\n",
    "        ports.append(dict(row))\n",
    "        ports_names.add(dict(row)['Nom port'])"
   ]
  },
  {
   "cell_type": "code",
   "execution_count": 3,
   "id": "54af752e",
   "metadata": {},
   "outputs": [],
   "source": [
    "from dunkerquesprint import Portic\n",
    "\n",
    "navigo = Portic()"
   ]
  },
  {
   "cell_type": "code",
   "execution_count": 4,
   "id": "3fa486e3",
   "metadata": {},
   "outputs": [],
   "source": [
    "ports = {}\n",
    "for port in list(ports_names):\n",
    "    ports[port] = {\n",
    "        \n",
    "    }"
   ]
  },
  {
   "cell_type": "code",
   "execution_count": 5,
   "id": "21fcc4ad",
   "metadata": {},
   "outputs": [],
   "source": [
    "flows_1787 = []\n",
    "\n",
    "CSV_FILE_INPUT = '../../../data/navigo_all_flows_1787.csv'\n",
    "\n",
    "substates = set()\n",
    "\n",
    "with open(CSV_FILE_INPUT, newline='') as csvfile:\n",
    "    reader = csv.DictReader(csvfile)\n",
    "\n",
    "    for flow in reader:\n",
    "        if flow['departure_function'] == 'O' \\\n",
    "            and flow['departure'] in ports_names \\\n",
    "            and flow['flag'] == 'British' \\\n",
    "            and flow['destination_state_1789_fr'] == 'Grande-Bretagne' \\\n",
    "            and flow['destination_substate_1789_fr'] != \"Colonies britanniques d'Amérique\" \\\n",
    "        :\n",
    "            port = str(flow['departure'])\n",
    "            tonnage_class = flow['tonnage_class'] if flow['tonnage_class'] != '' else 'indéfini'\n",
    "            #if tonnage_class == '[1-20]':\n",
    "            #    tonnage_class = flow['tonnage'] if flow['tonnage'] != '' else tonnage_class\n",
    "            if tonnage_class in ports[port]:\n",
    "                ports[port][tonnage_class] += 1\n",
    "            else:\n",
    "                ports[port][tonnage_class] = 1\n",
    "\n",
    "                \n",
    "ports_flat = [{\"port\": port, \"tonnages\": values} for port, values in ports.items()]    "
   ]
  },
  {
   "cell_type": "code",
   "execution_count": 12,
   "id": "6f999c59",
   "metadata": {},
   "outputs": [],
   "source": [
    "import re\n",
    "\n",
    "ports_gb = []\n",
    "\n",
    "tonnage_ordered_map = {\n",
    "    \"[1-20]\": \"1 - [1-20]\",\n",
    "    \"[21-50]\": \"2 -[21-50]\",\n",
    "    \"[51-100]\": \"3 - [51-100]\",\n",
    "    \"[101-200]\": \"4 - [101-200]\",\n",
    "    \"[201-500]\": \"5 - [201-500]\",\n",
    "}\n",
    "\n",
    "for port in ports_flat:\n",
    "    for tonnage, count in port['tonnages'].items():\n",
    "        ports_gb.append({\n",
    "            \"port\": port['port'],\n",
    "            \"tonnage\": tonnage_ordered_map[tonnage],\n",
    "            \"order\" : int(re.findall(\"\\[(\\d+)\", tonnage)[0]),\n",
    "            \"count\": count\n",
    "        })"
   ]
  },
  {
   "cell_type": "code",
   "execution_count": 13,
   "id": "4610db2d",
   "metadata": {},
   "outputs": [],
   "source": [
    "import csv\n",
    "\n",
    "with open('tonnages.csv', 'w', newline='') as csvfile:\n",
    "    fieldnames = ['port', 'tonnage', 'order', 'count']\n",
    "    writer = csv.DictWriter(csvfile, fieldnames=fieldnames)\n",
    "\n",
    "    writer.writeheader()\n",
    "    for port in ports_gb:\n",
    "        writer.writerow(port)"
   ]
  }
 ],
 "metadata": {
  "kernelspec": {
   "display_name": "Python 3 (ipykernel)",
   "language": "python",
   "name": "python3"
  },
  "language_info": {
   "codemirror_mode": {
    "name": "ipython",
    "version": 3
   },
   "file_extension": ".py",
   "mimetype": "text/x-python",
   "name": "python",
   "nbconvert_exporter": "python",
   "pygments_lexer": "ipython3",
   "version": "3.7.7"
  }
 },
 "nbformat": 4,
 "nbformat_minor": 5
}
