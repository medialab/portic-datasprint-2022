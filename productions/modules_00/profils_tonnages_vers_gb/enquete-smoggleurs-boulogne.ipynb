{
 "cells": [
  {
   "cell_type": "code",
   "execution_count": null,
   "id": "ec8c7a3d",
   "metadata": {},
   "outputs": [],
   "source": [
    "import csv\n",
    "\n",
    "flows_1787 = []\n",
    "\n",
    "CSV_FILE_INPUT = '../../../data/navigo_all_flows_1787.csv'\n",
    "\n",
    "#and flow['destination_substate_1789_fr'] != \"Colonies britanniques d'Amérique\" \\\n",
    "            # and flow['flag'] == 'British' \\\n",
    "    \n",
    "tonnage_cumule_total = {\n",
    "    'Angleterre sans port': 0,\n",
    "    'Angleterre avec port' :0\n",
    "}\n",
    "nb_total = {\n",
    "    'Angleterre sans port': 0,\n",
    "    'Angleterre avec port' :0\n",
    "}\n",
    "\n",
    "tonnage_series = {\n",
    "    \"Angleterre sans port\": {},\n",
    "    \"Angleterre avec port\": {},\n",
    "}\n",
    "\n",
    "tonnage_rounded_series = {\n",
    "    \"Angleterre sans port\": {},\n",
    "    \"Angleterre avec port\": {},\n",
    "}\n",
    "\n",
    "tonnage_class_series = {\n",
    "    \"Angleterre sans port\": {},\n",
    "    \"Angleterre avec port\": {},\n",
    "}\n",
    "\n",
    "with open(CSV_FILE_INPUT, newline='') as csvfile:\n",
    "    reader = csv.DictReader(csvfile)\n",
    "    nb_british = 0\n",
    "    for flow in reader:\n",
    "        if flow['departure_function'] == 'O' \\\n",
    "            and flow['departure'] == 'Boulogne sur Mer' \\\n",
    "            and flow['destination_state_1789_fr'] == 'Grande-Bretagne' \\\n",
    "        :\n",
    "            compteur += 1\n",
    "            \"\"\"\n",
    "            tonnage_class = flow['tonnage_class'] if flow['tonnage_class'] != '' else 'indéfini'\n",
    "            #if tonnage_class == '[1-20]':\n",
    "            #    tonnage_class = flow['tonnage'] if flow['tonnage'] != '' else tonnage_class\n",
    "            if tonnage_class in ports[port]:\n",
    "                ports[port][tonnage_class] += 1\n",
    "            else:\n",
    "                ports[port][tonnage_class] = 1\n",
    "            \"\"\"\n",
    "            destination = flow[\"destination\"]\n",
    "            destination_angleterre_or_not = 'Angleterre sans port' if destination == 'Angleterre' else \"Angleterre avec port\"\n",
    "            tonnage = int(flow['tonnage']) if flow['tonnage'] != '' else 0\n",
    "            tonnage_rounded = int(tonnage) - int(tonnage % 5)\n",
    "            tonnage_rounded = str(tonnage_rounded) + \"-\" + str(tonnage_rounded + 5)\n",
    "            tonnage_class = flow['tonnage_class']\n",
    "            tag = \"Angleterre avec port\"\n",
    "            if destination == 'Angleterre':\n",
    "                tonnage_cumule_total['Angleterre sans port'] += tonnage\n",
    "                nb_total['Angleterre sans port'] += 1\n",
    "                tag = \"Angleterre sans port\"\n",
    "            else:\n",
    "                tonnage_cumule_total['Angleterre avec port'] += tonnage\n",
    "                nb_total['Angleterre avec port'] += 1\n",
    "                if flow['flag'] == 'British':\n",
    "                    nb_british += 1\n",
    "            if tonnage in tonnage_series[tag]:\n",
    "                tonnage_series[tag][tonnage] += 1\n",
    "            else:\n",
    "                tonnage_series[tag][tonnage] = 1\n",
    "            # rounded\n",
    "            if tonnage_rounded in tonnage_rounded_series[tag]:\n",
    "                tonnage_rounded_series[tag][tonnage_rounded] += 1\n",
    "            else:\n",
    "                tonnage_rounded_series[tag][tonnage_rounded] = 1\n",
    "            # class\n",
    "            if tonnage_class in tonnage_class_series[tag]:\n",
    "                tonnage_class_series[tag][tonnage_class] += 1\n",
    "            else:\n",
    "                tonnage_class_series[tag][tonnage_class] = 1\n",
    "                \n",
    "print(\"compteur : \" + str(compteur))\n",
    "print(\"tonnage cumulé : \" + str(tonnage_cumule_total))\n",
    "print(\"nombre de départs : \" + str(nb_total))\n",
    "print(\"nb british : \" + str(nb_british))"
   ]
  },
  {
   "cell_type": "code",
   "execution_count": null,
   "id": "eaf0fa26-34cc-4235-aa7f-a77f66e130b1",
   "metadata": {},
   "outputs": [],
   "source": [
    "series = {\n",
    "    \"tonnage\" : tonnage_series,\n",
    "    \"tonnage_rounded\": tonnage_rounded_series,\n",
    "    \"tonnage_class\": tonnage_class_series\n",
    "}\n",
    "\n",
    "data = {}\n",
    "for name, values in series.items():\n",
    "    output = []\n",
    "    for group_name, group_tonnages in values.items():\n",
    "        for group, count in group_tonnages.items():\n",
    "            output.append({\n",
    "                \"series\": name,\n",
    "                \"category\": group_name,\n",
    "                \"group\" : group,\n",
    "                \"count\": count,\n",
    "            })\n",
    "    data[name] = output\n"
   ]
  },
  {
   "cell_type": "code",
   "execution_count": null,
   "id": "a3a51c46",
   "metadata": {},
   "outputs": [],
   "source": [
    "from IPython.display import display\n",
    "import pandas as pd\n",
    "\n",
    "\n",
    "def VegaLite(spec):\n",
    "    bundle = {}\n",
    "    bundle['application/vnd.vegalite.v4+json'] = spec\n",
    "    display(bundle, raw=True)"
   ]
  },
  {
   "cell_type": "code",
   "execution_count": 32,
   "id": "7ac83472-8c4c-4ed1-8a2b-dd565df489a2",
   "metadata": {},
   "outputs": [
    {
     "data": {
      "application/vnd.vegalite.v4+json": {
       "$schema": "https://vega.github.io/schema/vega-lite/v4.json",
       "data": {
        "values": [
         {
          "category": "Angleterre sans port",
          "count": 202,
          "group": 12,
          "series": "tonnage"
         },
         {
          "category": "Angleterre sans port",
          "count": 1050,
          "group": 2,
          "series": "tonnage"
         },
         {
          "category": "Angleterre sans port",
          "count": 97,
          "group": 30,
          "series": "tonnage"
         },
         {
          "category": "Angleterre sans port",
          "count": 119,
          "group": 20,
          "series": "tonnage"
         },
         {
          "category": "Angleterre sans port",
          "count": 1,
          "group": 45,
          "series": "tonnage"
         },
         {
          "category": "Angleterre sans port",
          "count": 3,
          "group": 25,
          "series": "tonnage"
         },
         {
          "category": "Angleterre avec port",
          "count": 9,
          "group": 22,
          "series": "tonnage"
         },
         {
          "category": "Angleterre avec port",
          "count": 39,
          "group": 30,
          "series": "tonnage"
         },
         {
          "category": "Angleterre avec port",
          "count": 2,
          "group": 10,
          "series": "tonnage"
         },
         {
          "category": "Angleterre avec port",
          "count": 3,
          "group": 4,
          "series": "tonnage"
         },
         {
          "category": "Angleterre avec port",
          "count": 2,
          "group": 25,
          "series": "tonnage"
         },
         {
          "category": "Angleterre avec port",
          "count": 5,
          "group": 15,
          "series": "tonnage"
         },
         {
          "category": "Angleterre avec port",
          "count": 1,
          "group": 40,
          "series": "tonnage"
         },
         {
          "category": "Angleterre avec port",
          "count": 1,
          "group": 42,
          "series": "tonnage"
         },
         {
          "category": "Angleterre avec port",
          "count": 1,
          "group": 18,
          "series": "tonnage"
         },
         {
          "category": "Angleterre avec port",
          "count": 3,
          "group": 33,
          "series": "tonnage"
         },
         {
          "category": "Angleterre avec port",
          "count": 1,
          "group": 65,
          "series": "tonnage"
         }
        ]
       },
       "encoding": {
        "facet": {
         "field": "category",
         "title": "type de départs",
         "type": "nominal"
        },
        "x": {
         "field": "group",
         "title": "tonnage",
         "type": "ordinal"
        },
        "y": {
         "field": "count",
         "title": "nombre de départs",
         "type": "quantitative"
        }
       },
       "mark": "bar",
       "title": "distribution des tonnages depuis Boulogne sur Mer vers la Grande-Bretagne, comparé par type de destination déclarée(1787)"
      },
      "image/png": "[encoded data removed]"
     },
     "metadata": {},
     "output_type": "display_data"
    }
   ],
   "source": [
    "VegaLite({\n",
    "  \"$schema\": \"https://vega.github.io/schema/vega-lite/v4.json\",\n",
    "  \"mark\": \"bar\",\n",
    "    \"title\": \"distribution des tonnages depuis Boulogne sur Mer vers la Grande-Bretagne, comparé par type de destination déclarée(1787)\",\n",
    "  \"encoding\": {\n",
    "    \"y\": {\"type\": \"quantitative\", \"field\": \"count\", \"title\": \"nombre de départs\"},\n",
    "    \"x\": {\"type\": \"ordinal\", \"field\": \"group\", \"title\": \"tonnage\"},\n",
    "    \"facet\": {\"type\": \"nominal\", \"field\": \"category\", \"title\": \"type de départs\"}\n",
    "  }, \n",
    " \"data\": {\n",
    "    \"values\": data[\"tonnage\"]\n",
    "  }\n",
    "})"
   ]
  },
  {
   "cell_type": "code",
   "execution_count": null,
   "id": "36ee659b-0142-4a71-8dec-62ac7493aee8",
   "metadata": {},
   "outputs": [],
   "source": [
    "VegaLite({\n",
    "  \"$schema\": \"https://vega.github.io/schema/vega-lite/v4.json\",\n",
    "  \"mark\": \"bar\",\n",
    "    \"title\": \"distribution des tonnages (arrondis) depuis Boulogne sur Mer vers la Grande-Bretagne, comparé par type de destination déclarée(1787)\",\n",
    "  \"encoding\": {\n",
    "    \"y\": {\"type\": \"quantitative\", \"field\": \"count\", \"title\": \"nombre de départs\"},\n",
    "    \"x\": {\"type\": \"ordinal\", \"field\": \"group\", \"title\": \"tonnage\"},\n",
    "    \"facet\": {\"type\": \"nominal\", \"field\": \"category\", \"title\": \"type de départs\"}\n",
    "  }, \n",
    " \"data\": {\n",
    "    \"values\": data[\"tonnage_rounded\"]\n",
    "  }\n",
    "})"
   ]
  },
  {
   "cell_type": "code",
   "execution_count": null,
   "id": "cf2c339b-2d7b-45db-bc9c-b5268e32a62a",
   "metadata": {},
   "outputs": [],
   "source": [
    "VegaLite({\n",
    "  \"$schema\": \"https://vega.github.io/schema/vega-lite/v4.json\",\n",
    "  \"mark\": \"bar\",\n",
    "    \"title\": \"distribution des tonnages (classés) depuis Boulogne sur Mer vers la Grande-Bretagne, comparé par type de destination déclarée(1787)\",\n",
    "  \"encoding\": {\n",
    "    \"y\": {\"type\": \"quantitative\", \"field\": \"count\", \"title\": \"nombre de départs\"},\n",
    "    \"x\": {\"type\": \"ordinal\", \"field\": \"group\", \"title\": \"tonnage\"},\n",
    "    \"facet\": {\"type\": \"nominal\", \"field\": \"category\", \"title\": \"type de départs\"}\n",
    "  }, \n",
    " \"data\": {\n",
    "    \"values\": data[\"tonnage_class\"]\n",
    "  }\n",
    "})"
   ]
  }
 ],
 "metadata": {
  "kernelspec": {
   "display_name": "Python 3 (ipykernel)",
   "language": "python",
   "name": "python3"
  },
  "language_info": {
   "codemirror_mode": {
    "name": "ipython",
    "version": 3
   },
   "file_extension": ".py",
   "mimetype": "text/x-python",
   "name": "python",
   "nbconvert_exporter": "python",
   "pygments_lexer": "ipython3",
   "version": "3.7.7"
  }
 },
 "nbformat": 4,
 "nbformat_minor": 5
}
