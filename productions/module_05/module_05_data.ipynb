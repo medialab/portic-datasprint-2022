{
 "cells": [
  {
   "cell_type": "code",
   "execution_count": null,
   "id": "cd7647d5",
   "metadata": {},
   "outputs": [],
   "source": [
    "import csv"
   ]
  },
  {
   "cell_type": "markdown",
   "id": "edcee85d",
   "metadata": {},
   "source": [
    "Le fichier principal du module n°5, _dunkerque_smugglers_clean_20220126 - dunkerque_smugglers_clean_20220126.csv_ ci-dessous, vient du drive, [à cette adresse](https://docs.google.com/spreadsheets/d/1oMqQpDWt77SVUqrkogA0GoMU4MzHla2GAuzp4bClii4/edit#gid=1993901892)"
   ]
  },
  {
   "cell_type": "code",
   "execution_count": null,
   "id": "705980eb",
   "metadata": {},
   "outputs": [],
   "source": [
    "smugglers = list(csv.DictReader(open(\"data/dunkerque_smugglers_clean_20220126 - dunkerque_smugglers_clean_20220126.csv\", 'r')))"
   ]
  },
  {
   "cell_type": "markdown",
   "id": "5aad1c39",
   "metadata": {},
   "source": [
    "Commande XSV pour isoler les flows dans toflit de produits smogglés par les bateaux smogglers identifiés dans Navigo"
   ]
  },
  {
   "cell_type": "code",
   "execution_count": null,
   "id": "b3a6dd77",
   "metadata": {},
   "outputs": [],
   "source": [
    "# exports de thé vers l'Angleterre dans les années 80\n",
    "!xsv search Angleterre -s partner ../../data/toflit18_all_flows.csv\\\n",
    "| xsv search \"178.*\" -s year\\\n",
    "| xsv search \"Thé\" -s product_revolutionempire\\\n",
    "| xsv search \"Exports\" -s export_import\\\n",
    "| xsv select line_number,year,customs_region,partner,product_orthographic,product_simplification,product_revolutionempire,value,quantity,quantity_unit,quantity_unit_orthographic,quantity_unit_metric,unit_price_metric,value_per_unit,product_revolutionempire\\\n",
    "> xsv_output_toflit18/the_price.csv"
   ]
  },
  {
   "cell_type": "code",
   "execution_count": null,
   "id": "f4fe0a85",
   "metadata": {},
   "outputs": [],
   "source": [
    "# exports de feuilles de tabac vers l'Angleterre dans les années 80\n",
    "!xsv search Angleterre -s partner ../../data/toflit18_all_flows.csv\\\n",
    "| xsv search \"178.*\" -s year \\\n",
    "| xsv search \"feuilles de tabac\" -s product_simplification\\\n",
    "| xsv search \"Exports\" -s export_import\\\n",
    "| xsv select line_number,year,customs_region,partner,product_orthographic,product_simplification,product_revolutionempire,value,quantity,quantity_unit,quantity_unit_orthographic,quantity_unit_metric,unit_price_metric,value_per_unit,product_revolutionempire\\\n",
    "> xsv_output_toflit18/tabac_price.csv"
   ]
  },
  {
   "cell_type": "code",
   "execution_count": null,
   "id": "167ffea3",
   "metadata": {},
   "outputs": [],
   "source": [
    "# exports d'eaux-de-vie (catégorie large Révolution et Empire) vers l'Angleterre dans les années 80\n",
    "!xsv search Angleterre -s partner ../../data/toflit18_all_flows.csv\\\n",
    "| xsv search \"178.*\" -s year\\\n",
    "| xsv search \"Eaux-de-vie et liqueurs\" -s product_revolutionempire\\\n",
    "| xsv search \"Exports\" -s export_import\\\n",
    "| xsv select line_number,year,customs_region,partner,product_orthographic,product_simplification,product_revolutionempire,value,quantity,quantity_unit,quantity_unit_orthographic,quantity_unit_metric,unit_price_metric,value_per_unit,product_revolutionempire\\\n",
    "> xsv_output_toflit18/eauxdevie_price.csv"
   ]
  },
  {
   "cell_type": "code",
   "execution_count": null,
   "id": "8d07c13b",
   "metadata": {},
   "outputs": [],
   "source": [
    "# PAS UTILISÉE\n",
    "# exports de soie vers l'Angleterre dans les années 80\n",
    "!xsv search Angleterre -s partner ../../data/toflit18_all_flows.csv\\\n",
    "| xsv search \"178.*\" -s year\\\n",
    "| xsv search \"Soieries diverses\" -s product_revolutionempire\\\n",
    "| xsv search \"Exports\" -s export_import\\\n",
    "| xsv select line_number,year,customs_region,partner,product_orthographic,product_simplification,product_revolutionempire,value,quantity,quantity_unit,quantity_unit_orthographic,quantity_unit_metric,unit_price_metric,value_per_unit,product_revolutionempire\\\n",
    "> xsv_output_toflit18/soieries_price.csv"
   ]
  },
  {
   "cell_type": "markdown",
   "id": "81b7ebef",
   "metadata": {},
   "source": [
    "Calculs des prix moyens/médians des produits ajoutés manuellement dans les fichiers _price.csv_, sauvegardés ensuite en _price_withaverage.csv_"
   ]
  },
  {
   "cell_type": "markdown",
   "id": "6c818838",
   "metadata": {},
   "source": [
    "### Prix moyens arbitrairement décidés par les experts que nous sommes\n",
    "\n",
    "Alcool et eaux de vie : 0.62\n",
    "Thés : 0.51\n",
    "Feuilles de tabac : 0.36"
   ]
  },
  {
   "cell_type": "markdown",
   "id": "13f29b58",
   "metadata": {},
   "source": [
    "### Quantification du smogglage\n",
    "\n",
    "Application des prix moyens/médians calculés depuis les données toflit18 (fichiers xsv_output_toflit18/*_price_withaverage.csv) sur les données du smogglage extraites de navigo (fichier dunkerque_smugglers_clean_20220126 - dunkerque_smugglers_clean_20220126.csv)"
   ]
  },
  {
   "cell_type": "code",
   "execution_count": null,
   "id": "ffb6c738",
   "metadata": {},
   "outputs": [],
   "source": [
    "tea_smuggle_quantity = 0\n",
    "tobacco_smuggle_quantity = 0\n",
    "alcool_smuggle_quantity = 0\n",
    "\n",
    "tea_smuggle_price = 0\n",
    "tobacco_smuggle_price = 0\n",
    "alcool_smuggle_price = 0\n",
    "        \n",
    "for line in smugglers:\n",
    "\n",
    "    tobacco = line[\"tabac en feuilles (livres poids)\"]\n",
    "    if tobacco:\n",
    "        tobacco_quantity = int(tobacco.replace(\"\\xa0\", \"\"))\n",
    "        tobacco_price = tobacco_quantity * 0.36\n",
    "        line[\"tobacco_price\"] = tobacco_price\n",
    "\n",
    "        tobacco_smuggle_quantity += tobacco_quantity\n",
    "        tobacco_smuggle_price += tobacco_price\n",
    "\n",
    "    tea = line[\"thé (livres poids)\"]\n",
    "    if tea:\n",
    "        tea_quantity = int(tea.replace(\"\\xa0\", \"\"))\n",
    "        tea_price = tea_quantity * 0.51\n",
    "        line[\"tea_price\"] = tea_price\n",
    "\n",
    "        tea_smuggle_quantity += tea_quantity\n",
    "        tea_smuggle_price += tea_price\n",
    "\n",
    "    genieve = line[\"geniève (pintes de Paris)\"]\n",
    "    eauxdevie = line[\"eau-de-vie (pintes de Paris)\"]\n",
    "    tafia = line[\"Taffia (pintes de Paris)\"]\n",
    "    liqueurs = line[\"liqueurs (pintes)\"]\n",
    "    if genieve:\n",
    "        genieve_quantity = int(genieve.replace(\"\\xa0\", \"\")) * 0.952\n",
    "        genieve_price = genieve_quantity * 0.62\n",
    "        alcool_smuggle_price += genieve_price\n",
    "        alcool_smuggle_quantity += genieve_quantity\n",
    "    if eauxdevie:\n",
    "        eauxdevie_quantity = int(eauxdevie.replace(\"\\xa0\", \"\")) * 0.952\n",
    "        eauxdevie_price = eauxdevie_quantity * 0.62\n",
    "        alcool_smuggle_price += eauxdevie_price\n",
    "        alcool_smuggle_quantity += eauxdevie_quantity\n",
    "    if tafia:\n",
    "        tafia_quantity = int(tafia.replace(\"\\xa0\", \"\")) * 0.952\n",
    "        tafia_price = tafia_quantity * 0.62\n",
    "        alcool_smuggle_price += tafia_price\n",
    "        alcool_smuggle_quantity += tafia_quantity\n",
    "    if liqueurs:\n",
    "        liqueurs_quantity = int(liqueurs.replace(\"\\xa0\", \"\")) * 0.952\n",
    "        liqueurs_price = liqueurs_quantity * 0.62\n",
    "        alcool_smuggle_price += liqueurs_price\n",
    "        alcool_smuggle_quantity += liqueurs_quantity"
   ]
  },
  {
   "cell_type": "code",
   "execution_count": null,
   "id": "88a59aab",
   "metadata": {},
   "outputs": [],
   "source": [
    "print(\"Export smugglés de tabac en livres tournois : \", round(tobacco_smuggle_price))\n",
    "print(\"Export smugglés de tabac en livres poids : \", tobacco_smuggle_quantity)\n",
    "print(\"Export smugglés de thés en livres tournois : \", round(tea_smuggle_price))\n",
    "print(\"Export smugglés de thés en livres poids : \", tea_smuggle_quantity)\n",
    "print(\"Export smugglés des eaux-de-vie et liqueurs en livres tournois : \", round(alcool_smuggle_price))\n",
    "print(\"Export smugglés des eaux-de-vie et liqueurs en litres : \", round(alcool_smuggle_quantity))"
   ]
  },
  {
   "cell_type": "code",
   "execution_count": null,
   "id": "8eb849b2",
   "metadata": {},
   "outputs": [],
   "source": [
    "print(\"Export smogglés totaux des 3 produits : \", round(tea_smuggle_price + tobacco_smuggle_price + alcool_smuggle_price), \" livres tournois\")"
   ]
  },
  {
   "cell_type": "markdown",
   "id": "f528284a",
   "metadata": {},
   "source": [
    "Recherche des flux toflit18 \"vins\" afin de construire un prix \"moyen\" pour les eaux-de-vie, liqueurs ET vins, puis joindre nos analyses avec le module 4"
   ]
  },
  {
   "cell_type": "code",
   "execution_count": null,
   "id": "8841681c",
   "metadata": {},
   "outputs": [],
   "source": [
    "!xsv search Angleterre -s partner ../../data/toflit18_all_flows.csv\\\n",
    "| xsv search \"178.*\" -s year\\\n",
    "| xsv search \"vins? \" -s product_revolutionempire\\\n",
    "| xsv search \"Exports\" -s export_import\\\n",
    "| xsv select line_number,year,customs_region,partner,product_orthographic,product_simplification,product_revolutionempire,value,quantity,quantity_unit,quantity_unit_orthographic,quantity_unit_metric,unit_price_metric,value_per_unit,product_revolutionempire\\\n",
    "> xsv_output_toflit18/vins_price.csv"
   ]
  },
  {
   "cell_type": "raw",
   "id": "46e55236",
   "metadata": {},
   "source": [
    "1 flux de vins divers depuis les Flandres vers l'Angleterre en 1787 dispo. Calcul du prix = 1,8 livres tournois pour 1 litre de vin.\n",
    "\n",
    "Moyenne et médiane des prix de toutes les années 80 (94 flux de vins vers l'Angleterre), respectivement 0,60 et 0,64."
   ]
  },
  {
   "cell_type": "code",
   "execution_count": null,
   "id": "2de75b1d",
   "metadata": {},
   "outputs": [],
   "source": [
    "vins_smuggle_quantity = 0\n",
    "vins_smuggle_price = 0\n",
    "    \n",
    "for line in smugglers:         \n",
    "    vin_rouge = line[\"vin rouge (pintes)\"]\n",
    "    vin_fin = line[\"vin fin (pintes)\"]\n",
    "    barriques = line[\"vin (barriques)\"]\n",
    "    pots = line[\"vin (pots)\"]\n",
    "    \n",
    "    if vin_rouge:\n",
    "        vin_rouge_quantity = int(vin_rouge.replace(\"\\xa0\", \"\"))\n",
    "        vin_rouge_price = vin_rouge_quantity * 1.8\n",
    "        vins_smuggle_price += vin_rouge_price\n",
    "        vins_smuggle_quantity += vin_rouge_quantity\n",
    "        \n",
    "    if vin_fin:\n",
    "        vin_fin_quantity = int(vin_fin.replace(\"\\xa0\", \"\"))\n",
    "        vin_fin_price = vin_fin_quantity * 1.8\n",
    "        vins_smuggle_price += vin_fin_price\n",
    "        vins_smuggle_quantity += vin_fin_quantity"
   ]
  },
  {
   "cell_type": "code",
   "execution_count": null,
   "id": "57aaf422",
   "metadata": {},
   "outputs": [],
   "source": [
    "print(\"Export smugglés de vins en livres tournois : \", round(vins_smuggle_price))\n",
    "print(\"Export smugglés de vins en litres : \", vins_smuggle_quantity)"
   ]
  },
  {
   "cell_type": "markdown",
   "id": "34964348",
   "metadata": {},
   "source": [
    "Abandon de la piste de jointure des analyses avec le module 4 : le module 4 n'a pas de données pour 1787"
   ]
  },
  {
   "cell_type": "markdown",
   "id": "d394322f",
   "metadata": {},
   "source": [
    "Recherche des flux toflit18 \"sucre brut\" afin d'en trouver le prix"
   ]
  },
  {
   "cell_type": "code",
   "execution_count": null,
   "id": "039c00f5",
   "metadata": {},
   "outputs": [],
   "source": [
    "!xsv search Angleterre -s partner_grouping ../../data/toflit18_all_flows.csv\\\n",
    "| xsv search \"178.*\" -s year| xsv search \"sucre brut\" -s product_simplification\\\n",
    "| xsv search \"Exports\" -s export_import\\\n",
    "| xsv select line_number,year,customs_region,partner,product_orthographic,product_simplification,product_revolutionempire,value,quantity,quantity_unit,quantity_unit_orthographic,quantity_unit_metric,unit_price_metric,value_per_unit\\\n",
    "> xsv_output_toflit18/sucre_price.csv"
   ]
  },
  {
   "cell_type": "code",
   "execution_count": null,
   "id": "3b1a2fe8",
   "metadata": {},
   "outputs": [],
   "source": [
    "sucre_smuggle_quantity = 0\n",
    "sucre_smuggle_price = 0\n",
    "    \n",
    "for line in smugglers:         \n",
    "    sucre = line[\"sucre brut (livres poids)\"]\n",
    "\n",
    "    if sucre:\n",
    "        sucre_quantity = int(sucre.replace(\"\\xa0\", \"\"))\n",
    "        sucre_price = sucre_quantity * 0.35\n",
    "        sucre_smuggle_price += sucre_price\n",
    "        sucre_smuggle_quantity += sucre_quantity"
   ]
  },
  {
   "cell_type": "code",
   "execution_count": null,
   "id": "eccebae4",
   "metadata": {},
   "outputs": [],
   "source": [
    "print(\"Export smugglés de sucre brut en livres tournois : \", round(sucre_smuggle_price))\n",
    "print(\"Export smugglés de sucre brut en livre poids : \", sucre_smuggle_quantity)"
   ]
  },
  {
   "cell_type": "markdown",
   "id": "31b06588",
   "metadata": {},
   "source": [
    "And now for something completely different"
   ]
  },
  {
   "cell_type": "code",
   "execution_count": null,
   "id": "f718eea7",
   "metadata": {},
   "outputs": [],
   "source": [
    "!xsv search Angleterre -s partner_grouping ../../data/toflit18_all_flows.csv\\\n",
    "| xsv search \"178.*\" -s year| xsv search \"Café\" -s product_revolutionempire\\\n",
    "| xsv search \"Exports\" -s export_import\\\n",
    "| xsv select line_number,year,customs_region,partner,product_orthographic,product_simplification,product_revolutionempire,value,quantity,quantity_unit,quantity_unit_orthographic,quantity_unit_metric,unit_price_metric,value_per_unit\\\n",
    "> xsv_output_toflit18/cafe_price.csv"
   ]
  },
  {
   "cell_type": "code",
   "execution_count": null,
   "id": "75c88bca",
   "metadata": {},
   "outputs": [],
   "source": [
    "cafe_smuggle_quantity = 0\n",
    "cafe_smuggle_price = 0\n",
    "    \n",
    "for line in smugglers:         \n",
    "    cafe = line[\"café (livres poids)\"]\n",
    "\n",
    "    if cafe:\n",
    "        cafe_quantity = int(cafe.replace(\"\\xa0\", \"\"))\n",
    "        cafe_price = cafe_quantity * 0.95\n",
    "        cafe_smuggle_price += cafe_price\n",
    "        cafe_smuggle_quantity += cafe_quantity"
   ]
  },
  {
   "cell_type": "code",
   "execution_count": null,
   "id": "d6f41890",
   "metadata": {},
   "outputs": [],
   "source": [
    "print(\"Export smugglés de café en livres tournois : \", round(cafe_smuggle_price))\n",
    "print(\"Export smugglés de café en livre poids : \", cafe_smuggle_quantity)"
   ]
  },
  {
   "cell_type": "markdown",
   "id": "aa60f344",
   "metadata": {},
   "source": [
    "Calcul du montant des produits smogglés dont la valeur est déjà présente dans les données des smugglers\n",
    "\n",
    "La catégorie Varia contient les produits suivants :\n",
    "\n",
    "mousseline des Indes (livres tournois)\n",
    "mousselines et mouchoirs (livres tournois)\n",
    "mouchoirs de soie (livres tournois)\n",
    "bandanoes (valeur livres tournois)\n",
    "soie et mousseline (livres tournois)\n",
    "marchandises des Indes (livres tournois)\n",
    "soieries (livres tournois)\n",
    "Cambray (en livres tournois)\n",
    "nacres de perle (livres tournois)\n",
    "porcelaine (livres tournois)"
   ]
  },
  {
   "cell_type": "code",
   "execution_count": null,
   "id": "643ee98b",
   "metadata": {},
   "outputs": [],
   "source": [
    "varia_smuggle_price = 0\n",
    "\n",
    "for line in smugglers:\n",
    "    for product in line.keys():\n",
    "        if \"livres tournois\" in product:\n",
    "            if line[product]:\n",
    "                varia_smuggle_price += int(line[product].replace(\"\\xa0\", \"\"))\n",
    "\n",
    "print(\"Export smugglés de catégorie varia en livres tournois : \", round(varia_smuggle_price))\n"
   ]
  }
 ],
 "metadata": {
  "kernelspec": {
   "display_name": "Python 3 (ipykernel)",
   "language": "python",
   "name": "python3"
  },
  "language_info": {
   "codemirror_mode": {
    "name": "ipython",
    "version": 3
   },
   "file_extension": ".py",
   "mimetype": "text/x-python",
   "name": "python",
   "nbconvert_exporter": "python",
   "pygments_lexer": "ipython3",
   "version": "3.9.7"
  }
 },
 "nbformat": 4,
 "nbformat_minor": 5
}
