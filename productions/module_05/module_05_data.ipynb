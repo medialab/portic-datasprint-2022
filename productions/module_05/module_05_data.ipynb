{
 "cells": [
  {
   "cell_type": "markdown",
   "id": "9b43c023",
   "metadata": {},
   "source": [
    "# Définition des prix des différents produits les plus smogglés"
   ]
  },
  {
   "cell_type": "markdown",
   "id": "5aad1c39",
   "metadata": {},
   "source": [
    "Commande XSV pour isoler les flows dans toflit de produits smogglés par les bateaux smogglers identifiés dans le fichier des bateaux smogglers 1787_10mois.\n",
    "\n",
    "Nous avons ensuite analysés ces fichiers pour décider des prix les plus juste pour les produits smogglés."
   ]
  },
  {
   "cell_type": "markdown",
   "id": "81b7ebef",
   "metadata": {},
   "source": [
    "Calculs des prix moyens/médians des produits ajoutés manuellement dans les fichiers _price.csv_, sauvegardés ensuite en _price_withaverage.csv_"
   ]
  },
  {
   "cell_type": "code",
   "execution_count": null,
   "id": "167ffea3",
   "metadata": {},
   "outputs": [],
   "source": [
    "# exports d'eaux-de-vie (catégorie large Révolution et Empire) vers l'Angleterre dans les années 80\n",
    "!xsv search Angleterre -s partner ../../data/toflit18_all_flows.csv\\\n",
    "| xsv search \"178.*\" -s year\\\n",
    "| xsv search \"Eaux-de-vie et liqueurs\" -s product_revolutionempire\\\n",
    "| xsv search \"Exports\" -s export_import\\\n",
    "| xsv select line_number,year,customs_region,partner,product_orthographic,product_simplification,product_revolutionempire,value,quantity,quantity_unit,quantity_unit_orthographic,quantity_unit_metric,unit_price_metric,value_per_unit,product_revolutionempire\\\n",
    "> xsv_output_toflit18/eauxdevie_price.csv"
   ]
  },
  {
   "cell_type": "code",
   "execution_count": null,
   "id": "f4fe0a85",
   "metadata": {},
   "outputs": [],
   "source": [
    "# exports de feuilles de tabac vers l'Angleterre dans les années 80\n",
    "!xsv search Angleterre -s partner ../../data/toflit18_all_flows.csv\\\n",
    "| xsv search \"178.*\" -s year \\\n",
    "| xsv search \"feuilles de tabac\" -s product_simplification\\\n",
    "| xsv search \"Exports\" -s export_import\\\n",
    "| xsv select line_number,year,customs_region,partner,product_orthographic,product_simplification,product_revolutionempire,value,quantity,quantity_unit,quantity_unit_orthographic,quantity_unit_metric,unit_price_metric,value_per_unit,product_revolutionempire\\\n",
    "> xsv_output_toflit18/tabac_price.csv"
   ]
  },
  {
   "cell_type": "code",
   "execution_count": null,
   "id": "b3a6dd77",
   "metadata": {},
   "outputs": [],
   "source": [
    "# exports de thé vers l'Angleterre dans les années 80\n",
    "!xsv search Angleterre -s partner ../../data/toflit18_all_flows.csv\\\n",
    "| xsv search \"178.*\" -s year\\\n",
    "| xsv search \"Thé\" -s product_revolutionempire\\\n",
    "| xsv search \"Exports\" -s export_import\\\n",
    "| xsv select line_number,year,customs_region,partner,product_orthographic,product_simplification,product_revolutionempire,value,quantity,quantity_unit,quantity_unit_orthographic,quantity_unit_metric,unit_price_metric,value_per_unit,product_revolutionempire\\\n",
    "> xsv_output_toflit18/the_price.csv"
   ]
  },
  {
   "cell_type": "code",
   "execution_count": null,
   "id": "8d07c13b",
   "metadata": {},
   "outputs": [],
   "source": [
    "# PAS UTILISÉE\n",
    "# exports de soie vers l'Angleterre dans les années 80\n",
    "!xsv search Angleterre -s partner ../../data/toflit18_all_flows.csv\\\n",
    "| xsv search \"178.*\" -s year\\\n",
    "| xsv search \"Soieries diverses\" -s product_revolutionempire\\\n",
    "| xsv search \"Exports\" -s export_import\\\n",
    "| xsv select line_number,year,customs_region,partner,product_orthographic,product_simplification,product_revolutionempire,value,quantity,quantity_unit,quantity_unit_orthographic,quantity_unit_metric,unit_price_metric,value_per_unit,product_revolutionempire\\\n",
    "> xsv_output_toflit18/soieries_price.csv"
   ]
  },
  {
   "cell_type": "markdown",
   "id": "f528284a",
   "metadata": {},
   "source": [
    "Recherche des flux toflit18 \"vins\" afin de construire un prix \"moyen\" pour les eaux-de-vie, liqueurs ET vins, puis joindre nos analyses avec le module 4"
   ]
  },
  {
   "cell_type": "code",
   "execution_count": null,
   "id": "8841681c",
   "metadata": {},
   "outputs": [],
   "source": [
    "# exports de vins\n",
    "!xsv search Angleterre -s partner ../../data/toflit18_all_flows.csv\\\n",
    "| xsv search \"178.*\" -s year\\\n",
    "| xsv search \"vins? \" -s product_revolutionempire\\\n",
    "| xsv search \"Exports\" -s export_import\\\n",
    "| xsv select line_number,year,customs_region,partner,product_orthographic,product_simplification,product_revolutionempire,value,quantity,quantity_unit,quantity_unit_orthographic,quantity_unit_metric,unit_price_metric,value_per_unit,product_revolutionempire\\\n",
    "> xsv_output_toflit18/vins_price.csv"
   ]
  },
  {
   "cell_type": "raw",
   "id": "46e55236",
   "metadata": {},
   "source": [
    "1 flux de vins divers depuis les Flandres vers l'Angleterre en 1787 dispo. Calcul du prix = 1,8 livres tournois pour 1 litre de vin.\n",
    "\n",
    "Moyenne et médiane des prix de toutes les années 80 (94 flux de vins vers l'Angleterre), respectivement 0,60 et 0,64."
   ]
  },
  {
   "cell_type": "markdown",
   "id": "34964348",
   "metadata": {},
   "source": [
    "Abandon de la piste de jointure des analyses avec le module 4 : le module 4 n'a pas de données pour 1787"
   ]
  },
  {
   "cell_type": "code",
   "execution_count": null,
   "id": "039c00f5",
   "metadata": {},
   "outputs": [],
   "source": [
    "# sucre brut\n",
    "!xsv search Angleterre -s partner_grouping ../../data/toflit18_all_flows.csv\\\n",
    "| xsv search \"178.*\" -s year| xsv search \"sucre brut\" -s product_simplification\\\n",
    "| xsv search \"Exports\" -s export_import\\\n",
    "| xsv select line_number,year,customs_region,partner,product_orthographic,product_simplification,product_revolutionempire,value,quantity,quantity_unit,quantity_unit_orthographic,quantity_unit_metric,unit_price_metric,value_per_unit\\\n",
    "> xsv_output_toflit18/sucre_price.csv"
   ]
  },
  {
   "cell_type": "code",
   "execution_count": null,
   "id": "f718eea7",
   "metadata": {},
   "outputs": [],
   "source": [
    "# café\n",
    "!xsv search Angleterre -s partner_grouping ../../data/toflit18_all_flows.csv\\\n",
    "| xsv search \"178.*\" -s year| xsv search \"Café\" -s product_revolutionempire\\\n",
    "| xsv search \"Exports\" -s export_import\\\n",
    "| xsv select line_number,year,customs_region,partner,product_orthographic,product_simplification,product_revolutionempire,value,quantity,quantity_unit,quantity_unit_orthographic,quantity_unit_metric,unit_price_metric,value_per_unit\\\n",
    "> xsv_output_toflit18/cafe_price.csv"
   ]
  },
  {
   "cell_type": "markdown",
   "id": "4006da58",
   "metadata": {},
   "source": [
    "Les fichiers extraits par ces commandes sont sauvegardés à la racine du dossier xsv_output_toflit18 afin d'être manuellement déplacés ensuite vers le sous-dossier toflit18_raw_extract s'ils sont bueno"
   ]
  },
  {
   "cell_type": "markdown",
   "id": "13f29b58",
   "metadata": {},
   "source": [
    "### Quantification du smogglage\n",
    "\n",
    "Application des prix moyens/médians calculés depuis les données toflit18 (fichiers xsv_output_toflit18/*_price_withaverage.csv) sur les données du smogglage extraites de navigo (fichier dunkerque_smugglers_clean_20220126 - dunkerque_smugglers_clean_20220126.csv)"
   ]
  },
  {
   "cell_type": "markdown",
   "id": "edcee85d",
   "metadata": {},
   "source": [
    "Le fichier principal du module n°5, _dunkerque_smugglers_clean_20220126 - dunkerque_smugglers_clean_20220126.csv_ ci-dessous, vient du drive, [à cette adresse](https://docs.google.com/spreadsheets/d/1oMqQpDWt77SVUqrkogA0GoMU4MzHla2GAuzp4bClii4/edit#gid=1993901892)"
   ]
  },
  {
   "cell_type": "code",
   "execution_count": null,
   "id": "cd7647d5",
   "metadata": {},
   "outputs": [],
   "source": [
    "import csv"
   ]
  },
  {
   "cell_type": "code",
   "execution_count": null,
   "id": "705980eb",
   "metadata": {},
   "outputs": [],
   "source": [
    "# load the data\n",
    "smugglers = list(csv.DictReader(open(\"data/dunkerque_smugglers_clean_20220126 - dunkerque_smugglers_clean_20220126.csv\", 'r')))"
   ]
  },
  {
   "cell_type": "code",
   "execution_count": null,
   "id": "1206a6eb",
   "metadata": {},
   "outputs": [],
   "source": [
    "# output csv with shipment prices\n",
    "richwealth_headers = list(smugglers[0].keys()) + [\"shipment_price\"]\n",
    "richwealth = csv.DictWriter(open(\"data/dunkerque_smugglers_shipmentprices.csv\", 'w'), fieldnames=richwealth_headers)\n",
    "richwealth.writeheader()"
   ]
  },
  {
   "cell_type": "code",
   "execution_count": null,
   "id": "372b27a2",
   "metadata": {},
   "outputs": [],
   "source": [
    "# calcul du prix d'une quantité de produit \n",
    "def get_priceandvalue(source_str_data, price, liters=False):\n",
    "    if liters:\n",
    "        quantity = int(source_str_data.replace(\"\\xa0\", \"\")) * 0.952\n",
    "    else:\n",
    "        quantity = int(source_str_data.replace(\"\\xa0\", \"\"))\n",
    "    price = quantity * price\n",
    "    return quantity, price"
   ]
  },
  {
   "cell_type": "code",
   "execution_count": null,
   "id": "1a6d26f4",
   "metadata": {},
   "outputs": [],
   "source": [
    "# variables declaration party\n",
    "\n",
    "alcool_smuggle_quantity = 0\n",
    "alcool_smuggle_price = 0\n",
    "\n",
    "tobacco_smuggle_quantity = 0\n",
    "tobacco_smuggle_price = 0\n",
    "\n",
    "tea_smuggle_quantity = 0\n",
    "tea_smuggle_price = 0\n",
    "\n",
    "cafe_smuggle_quantity = 0\n",
    "cafe_smuggle_price = 0\n",
    "\n",
    "sucre_smuggle_quantity = 0\n",
    "sucre_smuggle_price = 0\n",
    "\n",
    "vins_smuggle_quantity = 0\n",
    "vins_smuggle_price = 0\n",
    "\n",
    "varia_smuggle_price = 0"
   ]
  },
  {
   "cell_type": "code",
   "execution_count": null,
   "id": "ffb6c738",
   "metadata": {},
   "outputs": [],
   "source": [
    "# Do not forget to run the variable declaration party before re-running this\n",
    "# Global price need to be put back to zero before re-run\n",
    "\n",
    "for line in smugglers:\n",
    "    \n",
    "    # eaux de vie, geniève, tafia et liqueurs\n",
    "    genieve = line[\"geniève (pintes de Paris)\"]\n",
    "    eauxdevie = line[\"eau-de-vie (pintes de Paris)\"]\n",
    "    tafia = line[\"Taffia (pintes de Paris)\"]\n",
    "    liqueurs = line[\"liqueurs (pintes)\"]\n",
    "    liters = True\n",
    "    if genieve:\n",
    "        genieve_quantity, genieve_price = get_priceandvalue(genieve, 0.62, liters)\n",
    "        alcool_smuggle_quantity += genieve_quantity\n",
    "        alcool_smuggle_price += genieve_price\n",
    "    if eauxdevie:\n",
    "        eauxdevie_quantity, eauxdevie_price = get_priceandvalue(eauxdevie, 0.62, liters)\n",
    "        alcool_smuggle_quantity += eauxdevie_quantity\n",
    "        alcool_smuggle_price += eauxdevie_price\n",
    "    if tafia:\n",
    "        tafia_quantity, tafia_price = get_priceandvalue(tafia, 0.62, liters)\n",
    "        alcool_smuggle_quantity += tafia_quantity\n",
    "        alcool_smuggle_price += tafia_price\n",
    "    if liqueurs:\n",
    "        liqueurs_quantity, liqueurs_price = get_priceandvalue(liqueurs, 0.62, liters)\n",
    "        alcool_smuggle_quantity += liqueurs_quantity\n",
    "        alcool_smuggle_price += liqueurs_price\n",
    "\n",
    "    # feuilles de tabac\n",
    "    tobacco = line[\"tabac en feuilles (livres poids)\"]\n",
    "    if tobacco:\n",
    "        tobacco_quantity, tobacco_price = get_priceandvalue(tobacco, 0.36)\n",
    "        tobacco_smuggle_quantity += tobacco_quantity\n",
    "        tobacco_smuggle_price += tobacco_price\n",
    "\n",
    "    # thés\n",
    "    tea = line[\"thé (livres poids)\"]\n",
    "    if tea:\n",
    "        tea_quantity, tea_price = get_priceandvalue(tea, 0.51)\n",
    "        tea_smuggle_quantity += tea_quantity\n",
    "        tea_smuggle_price += tea_price\n",
    "    \n",
    "    # café\n",
    "    cafe = line[\"café (livres poids)\"]\n",
    "    if cafe:\n",
    "        cafe_quantity, cafe_price = get_priceandvalue(cafe, 0.95)\n",
    "        cafe_smuggle_quantity += cafe_quantity\n",
    "        cafe_smuggle_price += cafe_price\n",
    "        \n",
    "    # sucre brut\n",
    "    sucre = line[\"sucre brut (livres poids)\"]\n",
    "    if sucre:\n",
    "        sucre_quantity, sucre_price = get_priceandvalue(sucre, 0.35)\n",
    "        sucre_smuggle_quantity += sucre_quantity\n",
    "        sucre_smuggle_price += sucre_price\n",
    "    \n",
    "    # vins\n",
    "    vin_rouge = line[\"vin rouge (pintes)\"]\n",
    "    vin_fin = line[\"vin fin (pintes)\"]\n",
    "    liters = True\n",
    "    # values not converted\n",
    "    # barriques = line[\"vin (barriques)\"]\n",
    "    # pots = line[\"vin (pots)\"]\n",
    "    if vin_rouge:\n",
    "        vin_rouge_quantity, vin_rouge_price = get_priceandvalue(vin_rouge, 1.8, liters)\n",
    "        vins_smuggle_quantity += vin_rouge_quantity\n",
    "        vins_smuggle_price += vin_rouge_price    \n",
    "    if vin_fin:\n",
    "        vin_fin_quantity, vin_fin_price = get_priceandvalue(vin_fin, 1.8, liters)\n",
    "        vins_smuggle_quantity += vin_fin_quantity\n",
    "        vins_smuggle_price += vin_fin_price\n",
    "        \n",
    "    # varia\n",
    "    for product in line.keys():\n",
    "        if \"livres tournois\" in product:\n",
    "            if line[product]:\n",
    "                varia_smuggle_price += int(line[product].replace(\"\\xa0\", \"\"))\n",
    "\n",
    "    # shipment price\n",
    "    shipment_price = round(sum([eauxdevie_price, tafia_price, genieve_price, tobacco_price, tea_price, cafe_price, sucre_price, vin_rouge_price, vin_fin_price]))\n",
    "    line[\"shipment_price\"] = shipment_price\n",
    "    richwealth.writerow(line)"
   ]
  },
  {
   "cell_type": "markdown",
   "id": "aa60f344",
   "metadata": {},
   "source": [
    "La catégorie Varia contient les variables suivantes du fichier smugglers :\n",
    "\n",
    "mousseline des Indes (livres tournois)\n",
    "mousselines et mouchoirs (livres tournois)\n",
    "mouchoirs de soie (livres tournois)\n",
    "bandanoes (valeur livres tournois)\n",
    "soie et mousseline (livres tournois)\n",
    "marchandises des Indes (livres tournois)\n",
    "soieries (livres tournois)\n",
    "Cambray (en livres tournois)\n",
    "nacres de perle (livres tournois)\n",
    "porcelaine (livres tournois)"
   ]
  },
  {
   "cell_type": "code",
   "execution_count": null,
   "id": "88a59aab",
   "metadata": {},
   "outputs": [],
   "source": [
    "print(\"Export smugglés des eaux-de-vie et liqueurs en livres tournois : \", round(alcool_smuggle_price))\n",
    "print(\"Export smugglés des eaux-de-vie et liqueurs en litres : \", round(alcool_smuggle_quantity))\n",
    "print(\"\\n\")\n",
    "print(\"Export smugglés de tabac en livres tournois : \", round(tobacco_smuggle_price))\n",
    "print(\"Export smugglés de tabac en livres poids : \", tobacco_smuggle_quantity)\n",
    "print(\"\\n\")\n",
    "print(\"Export smugglés de thés en livres tournois : \", round(tea_smuggle_price))\n",
    "print(\"Export smugglés de thés en livres poids : \", tea_smuggle_quantity)\n",
    "print(\"\\n\")\n",
    "print(\"Export smugglés de café en livres tournois : \", round(cafe_smuggle_price))\n",
    "print(\"Export smugglés de café en livre poids : \", cafe_smuggle_quantity)\n",
    "print(\"\\n\")\n",
    "print(\"Export smugglés de sucre brut en livres tournois : \", round(sucre_smuggle_price))\n",
    "print(\"Export smugglés de sucre brut en livre poids : \", sucre_smuggle_quantity)\n",
    "print(\"\\n\")\n",
    "print(\"Export smugglés de vins en livres tournois : \", round(vins_smuggle_price))\n",
    "print(\"Export smugglés de vins en litres : \", round(vins_smuggle_quantity))\n",
    "print(\"\\n\")\n",
    "print(\"Export smugglés de catégorie varia en livres tournois : \", round(varia_smuggle_price))"
   ]
  },
  {
   "cell_type": "code",
   "execution_count": null,
   "id": "8eb849b2",
   "metadata": {},
   "outputs": [],
   "source": [
    "all_prices = sum([alcool_smuggle_price, tobacco_smuggle_price, tea_smuggle_price, cafe_smuggle_price, sucre_smuggle_price, vins_smuggle_price])\n",
    "print(\"Export smogglés totaux : \", round(all_prices), \" livres tournois\")"
   ]
  },
  {
   "cell_type": "markdown",
   "id": "31b06588",
   "metadata": {},
   "source": [
    "And now for something completely different"
   ]
  },
  {
   "cell_type": "markdown",
   "id": "5d68c7b6",
   "metadata": {},
   "source": [
    "Ajout du calcul des valeurs par bateaux dans le fichier smugglers, afin de suivre les cargaisons (en valeur) jusqu'à leurs ports d'arrivée (ship_homeport dans les données smugglers)"
   ]
  }
 ],
 "metadata": {
  "kernelspec": {
   "display_name": "Python 3 (ipykernel)",
   "language": "python",
   "name": "python3"
  },
  "language_info": {
   "codemirror_mode": {
    "name": "ipython",
    "version": 3
   },
   "file_extension": ".py",
   "mimetype": "text/x-python",
   "name": "python",
   "nbconvert_exporter": "python",
   "pygments_lexer": "ipython3",
   "version": "3.9.7"
  }
 },
 "nbformat": 4,
 "nbformat_minor": 5
}
