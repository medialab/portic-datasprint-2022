{
 "cells": [
  {
   "cell_type": "code",
   "execution_count": 5,
   "id": "5e1d10fe-643e-4db9-95fd-98ecb3222193",
   "metadata": {},
   "outputs": [],
   "source": [
    "import csv\n",
    "from pprint import pprint\n",
    "from ipywidgets import HTML\n",
    "from ipyleaflet import Map, Marker, Popup, basemaps, basemap_to_tiles, CircleMarker"
   ]
  },
  {
   "cell_type": "code",
   "execution_count": 8,
   "id": "10c54ee5",
   "metadata": {},
   "outputs": [],
   "source": [
    "smugglers = list(csv.DictReader(open(\"data/dunkerque_smugglers_clean_20220126 - dunkerque_smugglers_clean_20220126.csv\", 'r')))"
   ]
  },
  {
   "cell_type": "code",
   "execution_count": 18,
   "id": "2f14e039",
   "metadata": {},
   "outputs": [
    {
     "name": "stdout",
     "output_type": "stream",
     "text": [
      "['pointcall_outdate',\n",
      " 'different date if any',\n",
      " 'captain_name',\n",
      " 'different capt if any',\n",
      " 'ship_name',\n",
      " 'different ship_name if any',\n",
      " 'ship_homeport',\n",
      " 'different homeport if any',\n",
      " 'observations',\n",
      " 'geniève (pintes de Paris)',\n",
      " 'eau-de-vie (pintes de Paris)',\n",
      " 'Taffia (pintes de Paris)',\n",
      " 'tabac en feuilles (livres poids)',\n",
      " 'thé (livres poids)',\n",
      " 'corinthes (livres poids)',\n",
      " 'vin rouge (pintes)',\n",
      " 'vin fin (pintes)',\n",
      " 'vin (barriques)',\n",
      " 'vin (pots)',\n",
      " 'liqueurs (pintes)',\n",
      " 'tabac en poudre (livre poids)',\n",
      " 'tabac fabriqué (livres poids)',\n",
      " 'tabac en côtes (livres poids)',\n",
      " 'drogues (livres poids)',\n",
      " 'rhubarbre (livres poids)',\n",
      " 'amidon (livres poids)',\n",
      " 'café (livres poids)',\n",
      " 'sucre brut (livres poids)',\n",
      " 'sucre rafiné (livres)',\n",
      " 'sucre en pain (livres poids)',\n",
      " 'mousseline (livres poids)',\n",
      " 'mousseline (livres tounois)',\n",
      " 'mousseline des Indes (livres tournois)',\n",
      " 'mousselines et mouchoirs (livres tournois)',\n",
      " 'mouchoirs de mousseline (livres poids)',\n",
      " 'mouchoirs de mousselin (valeur en £-stg)',\n",
      " 'mouchoirs de soie (livres poids)',\n",
      " 'mouchoirs de soie (livres tournois)',\n",
      " 'perses (livres poids)',\n",
      " 'nankins (livres poids)',\n",
      " 'nankins (pièces)',\n",
      " 'mouchoirs de Bandannoes (livres poids)',\n",
      " 'Bandanoes (livres poids)',\n",
      " 'bandanoes (valeur livres tournois)',\n",
      " 'Bandanoes (pièces)',\n",
      " 'Dimity (?) (livres poids)',\n",
      " 'crêpes (livres poids)',\n",
      " 'Soie des Indes (livres poids)',\n",
      " 'soie et mousseline (livres tournois)',\n",
      " 'marchandises des Indes (livres tournois)',\n",
      " 'soieries (livres tournois)',\n",
      " 'Jalap (livres poids)',\n",
      " 'Taffetas (livres poids)',\n",
      " 'Cambray (en livres tournois)',\n",
      " 'Cambray (en £ stg)',\n",
      " 'cambray (livres poids)',\n",
      " 'Gauzes (livres poids)',\n",
      " 'mercerie fine (livres poids)',\n",
      " 'sené (livres poids)',\n",
      " 'nacres de perle (livres tournois)',\n",
      " 'pots de vess (en bouteiilles) /  potjevleesch???',\n",
      " 'porcelaine (livres tournois)',\n",
      " 'voiture',\n",
      " 'Chocolat (livres poids)',\n",
      " 'cartes à jouer (en livres poids)',\n",
      " 'poudre à poudrer (livres poids)',\n",
      " 'ship_id',\n",
      " 'ship_tonnage',\n",
      " 'pointcall_name',\n",
      " 'homeport_uhgs_id',\n",
      " 'ship_flag_standardized_fr',\n",
      " 'source_doc_id',\n",
      " 'homeport_lat',\n",
      " 'homeport_long',\n",
      " 'homeport_standardized_fr',\n",
      " 'mois',\n",
      " 'outdate',\n",
      " 'homeport_geom4326',\n",
      " 'homeport_comte',\n",
      " 'homeport_substate_1789_fr',\n",
      " 'homeport_state_1789_fr',\n",
      " 'pointcall_uhgs_id',\n",
      " 'pointcall_toponyme_fr',\n",
      " 'pointcall_toponyme_en',\n",
      " 'pointcall_lat',\n",
      " 'pointcall_long',\n",
      " 'pointcall_substate_1789_fr',\n",
      " 'pointcall_state_1789_fr',\n",
      " 'pointcall_partner_balance_1789',\n",
      " 'pointcall_partner_balance_supp_1789',\n",
      " 'pointcall_geom4326']\n"
     ]
    }
   ],
   "source": [
    "pprint(list(smugglers[0].keys()))"
   ]
  },
  {
   "cell_type": "markdown",
   "id": "95987d69-cc11-4893-af98-3c8d784f834a",
   "metadata": {},
   "source": [
    "Champs de *smugglers* avec coordonnées géo :\n",
    "\n",
    "- `homeport_lat`\n",
    "- `homeport_long`\n",
    "- `pointcall_lat`\n",
    "- `pointcall_long`\n",
    "- `homeport_geom4326`\n",
    "- `pointcall_geom4326`\n",
    "\n",
    "Ex :\n",
    "\n",
    "```python\n",
    "marker = Marker(\n",
    "    location=(flow[\"homeport_latitude\"], flow[\"homeport_longitude\"])\n",
    ")\n",
    "```"
   ]
  },
  {
   "cell_type": "code",
   "execution_count": 37,
   "id": "43112231-5c76-417c-affd-f44b3027bc29",
   "metadata": {},
   "outputs": [
    {
     "data": {
      "application/vnd.jupyter.widget-view+json": {
       "model_id": "7bcde3f42d9b46cfb4c5f11073451a1a",
       "version_major": 2,
       "version_minor": 0
      },
      "text/plain": [
       "Map(center=[51, 1], controls=(ZoomControl(options=['position', 'zoom_in_text', 'zoom_in_title', 'zoom_out_text…"
      ]
     },
     "metadata": {},
     "output_type": "display_data"
    }
   ],
   "source": [
    "center = (51, 1) # France\n",
    "smugglers_map = Map(center=center,zoom=7)\n",
    "\n",
    "for boat in smugglers:\n",
    "    marker = Marker(location=(boat['homeport_lat'].replace(',', '.'), boat['homeport_long'].replace(',', '.')))\n",
    "    popup = HTML()\n",
    "    popup.value = boat[\"ship_name\"]\n",
    "    popup = Popup(\n",
    "        location=(boat['homeport_lat'].replace(',', '.'), boat['homeport_long'].replace(',', '.')),\n",
    "        child=popup\n",
    "    )\n",
    "    marker.popup = popup\n",
    "\n",
    "    smugglers_map.add_layer(marker)\n",
    "        \n",
    "display(smugglers_map)"
   ]
  },
  {
   "cell_type": "code",
   "execution_count": 38,
   "id": "52fda615-c1dd-4d8a-9528-92dfe2ece1a1",
   "metadata": {},
   "outputs": [
    {
     "ename": "NameError",
     "evalue": "name 'flows' is not defined",
     "output_type": "error",
     "traceback": [
      "\u001b[0;31m---------------------------------------------------------------------------\u001b[0m",
      "\u001b[0;31mNameError\u001b[0m                                 Traceback (most recent call last)",
      "Input \u001b[0;32mIn [38]\u001b[0m, in \u001b[0;36m<cell line: 5>\u001b[0;34m()\u001b[0m\n\u001b[1;32m      1\u001b[0m \u001b[38;5;66;03m# NOT USED\u001b[39;00m\n\u001b[1;32m      3\u001b[0m ports \u001b[38;5;241m=\u001b[39m {}\n\u001b[0;32m----> 5\u001b[0m \u001b[38;5;28;01mfor\u001b[39;00m flow \u001b[38;5;129;01min\u001b[39;00m \u001b[43mflows\u001b[49m:\n\u001b[1;32m      6\u001b[0m     \u001b[38;5;28;01mif\u001b[39;00m flow[\u001b[38;5;124m\"\u001b[39m\u001b[38;5;124mdeparture_uhgs_id\u001b[39m\u001b[38;5;124m\"\u001b[39m] \u001b[38;5;129;01min\u001b[39;00m ports:\n\u001b[1;32m      7\u001b[0m         ports[flow[\u001b[38;5;124m\"\u001b[39m\u001b[38;5;124mdeparture_uhgs_id\u001b[39m\u001b[38;5;124m\"\u001b[39m]][\u001b[38;5;124m\"\u001b[39m\u001b[38;5;124mcount\u001b[39m\u001b[38;5;124m\"\u001b[39m] \u001b[38;5;241m+\u001b[39m\u001b[38;5;241m=\u001b[39m \u001b[38;5;241m1\u001b[39m\n",
      "\u001b[0;31mNameError\u001b[0m: name 'flows' is not defined"
     ]
    }
   ],
   "source": [
    "# NOT USED\n",
    "\n",
    "ports = {}\n",
    "\n",
    "for flow in flows:\n",
    "    if flow[\"departure_uhgs_id\"] in ports:\n",
    "        ports[flow[\"departure_uhgs_id\"]][\"count\"] += 1\n",
    "    else:\n",
    "        ports[flow[\"departure_uhgs_id\"]] = {\n",
    "             \"count\": 1,\n",
    "             'departure_fr': flow['departure_fr'],\n",
    "             'departure_en': flow['departure_en'],\n",
    "             'latitude': flow['departure_latitude'],\n",
    "             'longitude': flow['departure_longitude'],\n",
    "             \"id\": flow[\"departure_uhgs_id\"]\n",
    "        }\n",
    "\n",
    "ports = [port for key,port in ports.items()]\n",
    "\n",
    "watercolor = basemap_to_tiles(basemaps.Stamen.Watercolor)\n",
    "\n",
    "center = (45.6876849, -1.15)\n",
    "\n",
    "portic_map = Map(layers=(watercolor, ), center=center, zoom=5)\n",
    "\n",
    "max_count = max([port[\"count\"] for port in ports])\n",
    "min_count = min([port[\"count\"] for port in ports])\n",
    "MIN_RADIUS = 1\n",
    "MAX_RADIUS = 20\n",
    "\n",
    "for port in ports:\n",
    "    circle_marker = CircleMarker()\n",
    "    circle_marker.location = (port[\"latitude\"], port[\"longitude\"])\n",
    "    circle_marker.radius = int(map_value(port[\"count\"], min_count, max_count, MIN_RADIUS, MAX_RADIUS))\n",
    "    circle_marker.color = \"red\"\n",
    "    circle_marker.fill_color = \"red\"\n",
    "    portic_map.add_layer(circle_marker)\n",
    "\n",
    "portic_map"
   ]
  },
  {
   "cell_type": "code",
   "execution_count": null,
   "id": "7af5b84c",
   "metadata": {},
   "outputs": [],
   "source": []
  }
 ],
 "metadata": {
  "kernelspec": {
   "display_name": "Python 3 (ipykernel)",
   "language": "python",
   "name": "python3"
  },
  "language_info": {
   "codemirror_mode": {
    "name": "ipython",
    "version": 3
   },
   "file_extension": ".py",
   "mimetype": "text/x-python",
   "name": "python",
   "nbconvert_exporter": "python",
   "pygments_lexer": "ipython3",
   "version": "3.9.7"
  }
 },
 "nbformat": 4,
 "nbformat_minor": 5
}
