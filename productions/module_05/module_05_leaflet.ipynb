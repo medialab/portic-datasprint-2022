{
 "cells": [
  {
   "cell_type": "code",
   "execution_count": null,
   "id": "5e1d10fe-643e-4db9-95fd-98ecb3222193",
   "metadata": {},
   "outputs": [],
   "source": [
    "import csv\n",
    "\n",
    "from math import log\n",
    "from pprint import pprint\n",
    "from collections import defaultdict\n",
    "\n",
    "from ipywidgets import HTML\n",
    "from ipywidgets.embed import embed_minimal_html\n",
    "from ipyleaflet import Map, Marker, Popup, basemaps, basemap_to_tiles, CircleMarker"
   ]
  },
  {
   "cell_type": "code",
   "execution_count": null,
   "id": "10c54ee5",
   "metadata": {},
   "outputs": [],
   "source": [
    "smugglers = list(csv.DictReader(open(\"data/dunkerque_smugglers_shipmentvalues.csv\", 'r')))"
   ]
  },
  {
   "cell_type": "code",
   "execution_count": null,
   "id": "2f14e039",
   "metadata": {},
   "outputs": [],
   "source": [
    "pprint(list(smugglers[0].keys()))"
   ]
  },
  {
   "cell_type": "code",
   "execution_count": null,
   "id": "44bc4cdc",
   "metadata": {},
   "outputs": [],
   "source": [
    "homeports_shipments = defaultdict(int)\n",
    "homeports_origin = {}\n",
    "for boat in smugglers:\n",
    "    if int(boat[\"shipment_price\"]) > 0 :\n",
    "        homeports_shipments[boat[\"homeport_standardized_fr\"].replace(\"\\xa0\", \"\")] += int(boat[\"shipment_price\"])\n",
    "        homeports_origin[boat[\"homeport_standardized_fr\"].replace(\"\\xa0\", \"\")] = (boat[\"homeport_lat\"].replace(\",\", \".\"), boat[\"homeport_long\"].replace(\",\", \".\"))\n",
    "\n",
    "homeports_origin.pop('pas identifié', None)    \n",
    "homeports_shipments.pop('pas identifié', None)  \n",
    "homeports_origin.pop('', None)    \n",
    "homeports_shipments.pop('', None)  \n",
    "pprint(homeports_shipments)"
   ]
  },
  {
   "cell_type": "markdown",
   "id": "95987d69-cc11-4893-af98-3c8d784f834a",
   "metadata": {},
   "source": [
    "Champs de *smugglers* avec coordonnées géo :\n",
    "\n",
    "- `homeport_lat`\n",
    "- `homeport_long`\n",
    "- `pointcall_lat`\n",
    "- `pointcall_long`\n",
    "- `homeport_geom4326`\n",
    "- `pointcall_geom4326`\n",
    "\n",
    "Ex :\n",
    "\n",
    "```python\n",
    "marker = Marker(\n",
    "    location=(flow[\"homeport_latitude\"], flow[\"homeport_longitude\"])\n",
    ")\n",
    "```"
   ]
  },
  {
   "cell_type": "code",
   "execution_count": null,
   "id": "43112231-5c76-417c-affd-f44b3027bc29",
   "metadata": {},
   "outputs": [],
   "source": [
    "center = (51, 1) # France\n",
    "smugglers_map = Map(center=center,zoom=7)\n",
    "\n",
    "for port in homeports_shipments:\n",
    "    \n",
    "    circle_marker = CircleMarker()\n",
    "    circle_marker.location = (homeports_origin[port][0], homeports_origin[port][1])\n",
    "    circle_marker.radius = round(log(homeports_shipments[port] / 1000, 2)+5)\n",
    "    circle_marker.color = \"black\"\n",
    "    circle_marker.fill_color = \"red\"\n",
    "    \n",
    "    popup = HTML()\n",
    "    popup.value = str(port)\n",
    "    popup = Popup(\n",
    "        location=(homeports_origin[port][0], homeports_origin[port][1]),\n",
    "        child=popup\n",
    "    )\n",
    "    circle_marker.popup = popup\n",
    "\n",
    "    smugglers_map.add_layer(circle_marker)\n",
    "        \n",
    "display(smugglers_map)\n",
    "embed_minimal_html('viz_thesmogglepart/homeports_smuggled_shipments_values.html', views=[smugglers_map])"
   ]
  },
  {
   "cell_type": "code",
   "execution_count": null,
   "id": "68c0ccbc",
   "metadata": {},
   "outputs": [],
   "source": []
  }
 ],
 "metadata": {
  "kernelspec": {
   "display_name": "Python 3 (ipykernel)",
   "language": "python",
   "name": "python3"
  },
  "language_info": {
   "codemirror_mode": {
    "name": "ipython",
    "version": 3
   },
   "file_extension": ".py",
   "mimetype": "text/x-python",
   "name": "python",
   "nbconvert_exporter": "python",
   "pygments_lexer": "ipython3",
   "version": "3.9.7"
  }
 },
 "nbformat": 4,
 "nbformat_minor": 5
}
