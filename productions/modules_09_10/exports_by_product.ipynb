{
 "cells": [
  {
   "cell_type": "code",
   "execution_count": 132,
   "id": "3a288773-8422-426a-8f69-f853b10c9a32",
   "metadata": {},
   "outputs": [],
   "source": [
    "import csv\n",
    "from collections import defaultdict\n",
    "from typing import TypedDict\n",
    "import json\n",
    "import pandas as pd\n",
    "\n",
    "class MonthDataPoint(TypedDict):\n",
    "    month: str \n",
    "    destination: str\n",
    "    product_quantity: int\n",
    "    product: str\n",
    "\n",
    "\n",
    "destination_month_destination = []\n",
    "\n",
    "total_by_destination = defaultdict(int)\n",
    "\n",
    "autres = ('autres', 'lt', \"./data/PFISTER_PORTS_NAVIRES_ANNEXE_LIII_page_589 - exportations de marchandises des Indes, nankins, dentelles, mousselines et soies en 1790 selon les ports de destination (en Lt p.csv\")\n",
    "\n",
    "MONTHS = [\"Janvier\",\"Février\",\"Mars\",\"Avril\",\"Mai\",\"Juin\",\"Juillet\",\"Août\",\"Septembre\",\"Octobre\",\"Novembre\",\"Décembre\"]\n",
    "#MONTHS_CODE = [\"01\", \"02\", \"03\", \"04\", \"05\", \"06\", \"07\", \"08\", \"09\", \"10\", \"11\", \"12\"]\n",
    "\n",
    "MONTHS_CODE = [\"Jan\",\"Fév\",\"Mar\",\"Avr\",\"Mai\",\"Juin\",\"Juil\",\"Août\",\"Sep\",\"Oct\",\"Nov\",\"Déc\"]\n",
    "\n",
    "ORDER_MONTHS = {k: v for k, v in zip(MONTHS, MONTHS_CODE)}\n",
    "\n",
    "product_file = [\n",
    "    ('Genièvre', 'pintes', \"./data/PFISTER_PORTS_NAVIRES_A_LIII_p_583 - pintes de genièvre exportées de Dkq en 1790 par mois.xlsx - Sheet1.csv\"), \n",
    "    ('Eau-de-vie', 'pintes', \"./data/PFISTER_PORTS_NAVIRES_A_LIII_p_584 - pintes d'eau-de-vie smogglées en 1790 de Dkq.xlsx - Sheet1.csv\"),\n",
    "    ('Tafia', 'pintes', \"./data/PFISTER_PORTS_NAVIRES_A_LIII_p_585 - pintes de Tafia smogglées depuis Dunkkerque en 1790.xlsx - Sheet1.csv\"),\n",
    "    ('Thé', 'lt', \"./data/PFISTER_PORTS_NAVIRES_ANNEXE_LIII_page_586 - exportations de thé en 1790 selon les ports de destination (en Lt par mois).xlsx - Feuil1.csv\"),\n",
    "    ('Tabac', 'lt', \"./data/PFISTER_PORTS_NAVIRES_ANNEXE_LIII_page_587 - exportations de tabac en 1790 selon les ports de destination (en Lt par mois).xlsx - Feuil1.csv\"),\n",
    "]\n",
    "for (product, unit, file) in product_file:\n",
    "    with open(file, \"r\") as data:\n",
    "        for row in csv.DictReader(data):\n",
    "            for month in ORDER_MONTHS:\n",
    "                if month in row and row[month] != '':\n",
    "                    data_point:MonthDataPoint = MonthDataPoint(\n",
    "                        month= ORDER_MONTHS[month],\n",
    "                        #month=month,\n",
    "                        destination= row['Port de destination'],\n",
    "                        product_quantity= int(row[month]),\n",
    "                        product= product + \" ({})\".format(unit)\n",
    "                    )\n",
    "                    destination_month_destination.append(data_point)\n",
    "                    total_by_month[month] += int(row[month])\n",
    "\n",
    "product, unit, file = autres\n",
    "with open(file, \"r\") as data:\n",
    "    for row in csv.DictReader(data):\n",
    "        for month in ORDER_MONTHS:\n",
    "            if month in row and row[month] != '' and row[\"Produit\"] == \"Marchandises des Indes\":\n",
    "                data_point:MonthDataPoint = MonthDataPoint(\n",
    "                    month= ORDER_MONTHS[month],\n",
    "                    destination= row['Port de destination'],\n",
    "                    product_quantity= int(row[month]),\n",
    "                    product= row[\"Produit\"] + \" ({})\".format(unit)\n",
    "                )\n",
    "                destination_month_destination.append(data_point)\n"
   ]
  },
  {
   "cell_type": "code",
   "execution_count": 133,
   "id": "d482b2a8-6ca1-455e-9f16-1d908772cbba",
   "metadata": {},
   "outputs": [],
   "source": [
    "from IPython.display import display\n",
    "import pandas as pd\n",
    "\n",
    "def VegaLite(spec):\n",
    "    bundle = {}\n",
    "    bundle['application/vnd.vegalite.v4+json'] = spec\n",
    "    display(bundle, raw=True)\n"
   ]
  },
  {
   "cell_type": "code",
   "execution_count": 134,
   "id": "2371bb84-6ce8-415b-bfbe-2408d4a5796d",
   "metadata": {},
   "outputs": [
    {
     "data": {
      "application/vnd.vegalite.v4+json": {
       "config": {
        "view": {
         "stroke": "transparent"
        }
       },
       "data": {
        "values": [
         {
          "destination": "Barking",
          "month": "Jan",
          "product": "Genièvre (pintes)",
          "product_quantity": 40
         },
         {
          "destination": "Barking",
          "month": "Août",
          "product": "Genièvre (pintes)",
          "product_quantity": 40
         },
         {
          "destination": "Blacwall",
          "month": "Août",
          "product": "Genièvre (pintes)",
          "product_quantity": 80
         },
         {
          "destination": "Brightlandsea",
          "month": "Jan",
          "product": "Genièvre (pintes)",
          "product_quantity": 4200
         },
         {
          "destination": "Brightlandsea",
          "month": "Fév",
          "product": "Genièvre (pintes)",
          "product_quantity": 2300
         },
         {
          "destination": "Brightlandsea",
          "month": "Mar",
          "product": "Genièvre (pintes)",
          "product_quantity": 4400
         },
         {
          "destination": "Brightlandsea",
          "month": "Avr",
          "product": "Genièvre (pintes)",
          "product_quantity": 1600
         },
         {
          "destination": "Brightlandsea",
          "month": "Mai",
          "product": "Genièvre (pintes)",
          "product_quantity": 2640
         },
         {
          "destination": "Burnham",
          "month": "Jan",
          "product": "Genièvre (pintes)",
          "product_quantity": 9660
         },
         {
          "destination": "Burnham",
          "month": "Fév",
          "product": "Genièvre (pintes)",
          "product_quantity": 2740
         },
         {
          "destination": "Burnham",
          "month": "Avr",
          "product": "Genièvre (pintes)",
          "product_quantity": 7420
         },
         {
          "destination": "Burnham",
          "month": "Mai",
          "product": "Genièvre (pintes)",
          "product_quantity": 8800
         },
         {
          "destination": "Burnham",
          "month": "Juin",
          "product": "Genièvre (pintes)",
          "product_quantity": 5660
         },
         {
          "destination": "Burnham",
          "month": "Juil",
          "product": "Genièvre (pintes)",
          "product_quantity": 4580
         },
         {
          "destination": "Burnham",
          "month": "Août",
          "product": "Genièvre (pintes)",
          "product_quantity": 4880
         },
         {
          "destination": "Burnham",
          "month": "Sep",
          "product": "Genièvre (pintes)",
          "product_quantity": 14720
         },
         {
          "destination": "Burnham",
          "month": "Oct",
          "product": "Genièvre (pintes)",
          "product_quantity": 8000
         },
         {
          "destination": "Burnham",
          "month": "Nov",
          "product": "Genièvre (pintes)",
          "product_quantity": 2180
         },
         {
          "destination": "Burnham",
          "month": "Déc",
          "product": "Genièvre (pintes)",
          "product_quantity": 4000
         },
         {
          "destination": "Chatham",
          "month": "Jan",
          "product": "Genièvre (pintes)",
          "product_quantity": 1540
         },
         {
          "destination": "Chicheston",
          "month": "Nov",
          "product": "Genièvre (pintes)",
          "product_quantity": 3000
         },
         {
          "destination": "Chicheston",
          "month": "Déc",
          "product": "Genièvre (pintes)",
          "product_quantity": 3020
         },
         {
          "destination": "Colchester",
          "month": "Jan",
          "product": "Genièvre (pintes)",
          "product_quantity": 19920
         },
         {
          "destination": "Colchester",
          "month": "Fév",
          "product": "Genièvre (pintes)",
          "product_quantity": 7960
         },
         {
          "destination": "Colchester",
          "month": "Mar",
          "product": "Genièvre (pintes)",
          "product_quantity": 14020
         },
         {
          "destination": "Colchester",
          "month": "Avr",
          "product": "Genièvre (pintes)",
          "product_quantity": 17060
         },
         {
          "destination": "Colchester",
          "month": "Mai",
          "product": "Genièvre (pintes)",
          "product_quantity": 8080
         },
         {
          "destination": "Colchester",
          "month": "Juin",
          "product": "Genièvre (pintes)",
          "product_quantity": 16500
         },
         {
          "destination": "Colchester",
          "month": "Juil",
          "product": "Genièvre (pintes)",
          "product_quantity": 13840
         },
         {
          "destination": "Colchester",
          "month": "Août",
          "product": "Genièvre (pintes)",
          "product_quantity": 7340
         },
         {
          "destination": "Colchester",
          "month": "Sep",
          "product": "Genièvre (pintes)",
          "product_quantity": 13740
         },
         {
          "destination": "Colchester",
          "month": "Oct",
          "product": "Genièvre (pintes)",
          "product_quantity": 15860
         },
         {
          "destination": "Colchester",
          "month": "Nov",
          "product": "Genièvre (pintes)",
          "product_quantity": 12880
         },
         {
          "destination": "Colchester",
          "month": "Déc",
          "product": "Genièvre (pintes)",
          "product_quantity": 12740
         },
         {
          "destination": "Colway",
          "month": "Juin",
          "product": "Genièvre (pintes)",
          "product_quantity": 2980
         },
         {
          "destination": "Cowes",
          "month": "Sep",
          "product": "Genièvre (pintes)",
          "product_quantity": 3060
         },
         {
          "destination": "Deal",
          "month": "Jan",
          "product": "Genièvre (pintes)",
          "product_quantity": 51240
         },
         {
          "destination": "Deal",
          "month": "Fév",
          "product": "Genièvre (pintes)",
          "product_quantity": 43740
         },
         {
          "destination": "Deal",
          "month": "Mar",
          "product": "Genièvre (pintes)",
          "product_quantity": 35460
         },
         {
          "destination": "Deal",
          "month": "Avr",
          "product": "Genièvre (pintes)",
          "product_quantity": 24460
         },
         {
          "destination": "Deal",
          "month": "Mai",
          "product": "Genièvre (pintes)",
          "product_quantity": 10140
         },
         {
          "destination": "Deal",
          "month": "Juin",
          "product": "Genièvre (pintes)",
          "product_quantity": 17960
         },
         {
          "destination": "Deal",
          "month": "Juil",
          "product": "Genièvre (pintes)",
          "product_quantity": 32004
         },
         {
          "destination": "Deal",
          "month": "Août",
          "product": "Genièvre (pintes)",
          "product_quantity": 27900
         },
         {
          "destination": "Deal",
          "month": "Sep",
          "product": "Genièvre (pintes)",
          "product_quantity": 24480
         },
         {
          "destination": "Deal",
          "month": "Oct",
          "product": "Genièvre (pintes)",
          "product_quantity": 23540
         },
         {
          "destination": "Deal",
          "month": "Nov",
          "product": "Genièvre (pintes)",
          "product_quantity": 25040
         },
         {
          "destination": "Deal",
          "month": "Déc",
          "product": "Genièvre (pintes)",
          "product_quantity": 37830
         },
         {
          "destination": "Douvres",
          "month": "Jan",
          "product": "Genièvre (pintes)",
          "product_quantity": 23500
         },
         {
          "destination": "Douvres",
          "month": "Fév",
          "product": "Genièvre (pintes)",
          "product_quantity": 16540
         },
         {
          "destination": "Douvres",
          "month": "Mar",
          "product": "Genièvre (pintes)",
          "product_quantity": 500
         },
         {
          "destination": "Douvres",
          "month": "Avr",
          "product": "Genièvre (pintes)",
          "product_quantity": 11940
         },
         {
          "destination": "Douvres",
          "month": "Mai",
          "product": "Genièvre (pintes)",
          "product_quantity": 18500
         },
         {
          "destination": "Douvres",
          "month": "Juin",
          "product": "Genièvre (pintes)",
          "product_quantity": 7200
         },
         {
          "destination": "Douvres",
          "month": "Juil",
          "product": "Genièvre (pintes)",
          "product_quantity": 10440
         },
         {
          "destination": "Douvres",
          "month": "Août",
          "product": "Genièvre (pintes)",
          "product_quantity": 7280
         },
         {
          "destination": "Douvres",
          "month": "Sep",
          "product": "Genièvre (pintes)",
          "product_quantity": 14860
         },
         {
          "destination": "Douvres",
          "month": "Oct",
          "product": "Genièvre (pintes)",
          "product_quantity": 28440
         },
         {
          "destination": "Douvres",
          "month": "Nov",
          "product": "Genièvre (pintes)",
          "product_quantity": 17160
         },
         {
          "destination": "Douvres",
          "month": "Déc",
          "product": "Genièvre (pintes)",
          "product_quantity": 23160
         },
         {
          "destination": "Dungeness",
          "month": "Fév",
          "product": "Genièvre (pintes)",
          "product_quantity": 60
         },
         {
          "destination": "Dungeness",
          "month": "Avr",
          "product": "Genièvre (pintes)",
          "product_quantity": 220
         },
         {
          "destination": "Dungeness",
          "month": "Mai",
          "product": "Genièvre (pintes)",
          "product_quantity": 20
         },
         {
          "destination": "Dungeness",
          "month": "Juin",
          "product": "Genièvre (pintes)",
          "product_quantity": 2020
         },
         {
          "destination": "Dungeness",
          "month": "Oct",
          "product": "Genièvre (pintes)",
          "product_quantity": 1800
         },
         {
          "destination": "Dungeness",
          "month": "Déc",
          "product": "Genièvre (pintes)",
          "product_quantity": 1600
         },
         {
          "destination": "Dymchurch",
          "month": "Fév",
          "product": "Genièvre (pintes)",
          "product_quantity": 2400
         },
         {
          "destination": "Dymchurch",
          "month": "Avr",
          "product": "Genièvre (pintes)",
          "product_quantity": 1260
         },
         {
          "destination": "Dymchurch",
          "month": "Juin",
          "product": "Genièvre (pintes)",
          "product_quantity": 400
         },
         {
          "destination": "Falmouth",
          "month": "Juin",
          "product": "Genièvre (pintes)",
          "product_quantity": 1200
         },
         {
          "destination": "Feversham",
          "month": "Jan",
          "product": "Genièvre (pintes)",
          "product_quantity": 3000
         },
         {
          "destination": "Feversham",
          "month": "Fév",
          "product": "Genièvre (pintes)",
          "product_quantity": 10760
         },
         {
          "destination": "Feversham",
          "month": "Mar",
          "product": "Genièvre (pintes)",
          "product_quantity": 2000
         },
         {
          "destination": "Feversham",
          "month": "Avr",
          "product": "Genièvre (pintes)",
          "product_quantity": 3200
         },
         {
          "destination": "Feversham",
          "month": "Mai",
          "product": "Genièvre (pintes)",
          "product_quantity": 5080
         },
         {
          "destination": "Feversham",
          "month": "Juin",
          "product": "Genièvre (pintes)",
          "product_quantity": 4320
         },
         {
          "destination": "Feversham",
          "month": "Juil",
          "product": "Genièvre (pintes)",
          "product_quantity": 12900
         },
         {
          "destination": "Feversham",
          "month": "Août",
          "product": "Genièvre (pintes)",
          "product_quantity": 15000
         },
         {
          "destination": "Feversham",
          "month": "Sep",
          "product": "Genièvre (pintes)",
          "product_quantity": 4200
         },
         {
          "destination": "Feversham",
          "month": "Oct",
          "product": "Genièvre (pintes)",
          "product_quantity": 11720
         },
         {
          "destination": "Feversham",
          "month": "Nov",
          "product": "Genièvre (pintes)",
          "product_quantity": 11240
         },
         {
          "destination": "Feversham",
          "month": "Déc",
          "product": "Genièvre (pintes)",
          "product_quantity": 16760
         },
         {
          "destination": "Folkstone",
          "month": "Jan",
          "product": "Genièvre (pintes)",
          "product_quantity": 13460
         },
         {
          "destination": "Folkstone",
          "month": "Fév",
          "product": "Genièvre (pintes)",
          "product_quantity": 20260
         },
         {
          "destination": "Folkstone",
          "month": "Mar",
          "product": "Genièvre (pintes)",
          "product_quantity": 9060
         },
         {
          "destination": "Folkstone",
          "month": "Avr",
          "product": "Genièvre (pintes)",
          "product_quantity": 9040
         },
         {
          "destination": "Folkstone",
          "month": "Mai",
          "product": "Genièvre (pintes)",
          "product_quantity": 13840
         },
         {
          "destination": "Folkstone",
          "month": "Juin",
          "product": "Genièvre (pintes)",
          "product_quantity": 6100
         },
         {
          "destination": "Folkstone",
          "month": "Juil",
          "product": "Genièvre (pintes)",
          "product_quantity": 10360
         },
         {
          "destination": "Folkstone",
          "month": "Août",
          "product": "Genièvre (pintes)",
          "product_quantity": 3500
         },
         {
          "destination": "Folkstone",
          "month": "Sep",
          "product": "Genièvre (pintes)",
          "product_quantity": 4080
         },
         {
          "destination": "Folkstone",
          "month": "Oct",
          "product": "Genièvre (pintes)",
          "product_quantity": 1800
         },
         {
          "destination": "Folkstone",
          "month": "Nov",
          "product": "Genièvre (pintes)",
          "product_quantity": 16600
         },
         {
          "destination": "Folkstone",
          "month": "Déc",
          "product": "Genièvre (pintes)",
          "product_quantity": 1760
         },
         {
          "destination": "Foy",
          "month": "Avr",
          "product": "Genièvre (pintes)",
          "product_quantity": 80
         },
         {
          "destination": "Foy",
          "month": "Mai",
          "product": "Genièvre (pintes)",
          "product_quantity": 20
         },
         {
          "destination": "Gravesend",
          "month": "Mar",
          "product": "Genièvre (pintes)",
          "product_quantity": 40
         },
         {
          "destination": "Greenwich",
          "month": "Juin",
          "product": "Genièvre (pintes)",
          "product_quantity": 40
         },
         {
          "destination": "Greenwich",
          "month": "Juil",
          "product": "Genièvre (pintes)",
          "product_quantity": 40
         },
         {
          "destination": "Guerneze",
          "month": "Avr",
          "product": "Genièvre (pintes)",
          "product_quantity": 8000
         },
         {
          "destination": "Guerneze",
          "month": "Déc",
          "product": "Genièvre (pintes)",
          "product_quantity": 1200
         },
         {
          "destination": "Harwich",
          "month": "Jan",
          "product": "Genièvre (pintes)",
          "product_quantity": 18100
         },
         {
          "destination": "Harwich",
          "month": "Fév",
          "product": "Genièvre (pintes)",
          "product_quantity": 2440
         },
         {
          "destination": "Harwich",
          "month": "Avr",
          "product": "Genièvre (pintes)",
          "product_quantity": 1600
         },
         {
          "destination": "Harwich",
          "month": "Mai",
          "product": "Genièvre (pintes)",
          "product_quantity": 80
         },
         {
          "destination": "Harwich",
          "month": "Juin",
          "product": "Genièvre (pintes)",
          "product_quantity": 320
         },
         {
          "destination": "Harwich",
          "month": "Juil",
          "product": "Genièvre (pintes)",
          "product_quantity": 4660
         },
         {
          "destination": "Harwich",
          "month": "Août",
          "product": "Genièvre (pintes)",
          "product_quantity": 2160
         },
         {
          "destination": "Harwich",
          "month": "Sep",
          "product": "Genièvre (pintes)",
          "product_quantity": 80
         },
         {
          "destination": "Harwich",
          "month": "Oct",
          "product": "Genièvre (pintes)",
          "product_quantity": 2000
         },
         {
          "destination": "Hastings",
          "month": "Jan",
          "product": "Genièvre (pintes)",
          "product_quantity": 29960
         },
         {
          "destination": "Hastings",
          "month": "Fév",
          "product": "Genièvre (pintes)",
          "product_quantity": 2000
         },
         {
          "destination": "Hastings",
          "month": "Mar",
          "product": "Genièvre (pintes)",
          "product_quantity": 10340
         },
         {
          "destination": "Hastings",
          "month": "Avr",
          "product": "Genièvre (pintes)",
          "product_quantity": 18500
         },
         {
          "destination": "Hastings",
          "month": "Mai",
          "product": "Genièvre (pintes)",
          "product_quantity": 6240
         },
         {
          "destination": "Hastings",
          "month": "Juin",
          "product": "Genièvre (pintes)",
          "product_quantity": 3100
         },
         {
          "destination": "Hastings",
          "month": "Juil",
          "product": "Genièvre (pintes)",
          "product_quantity": 2740
         },
         {
          "destination": "Hastings",
          "month": "Août",
          "product": "Genièvre (pintes)",
          "product_quantity": 1640
         },
         {
          "destination": "Hastings",
          "month": "Sep",
          "product": "Genièvre (pintes)",
          "product_quantity": 16860
         },
         {
          "destination": "Hastings",
          "month": "Oct",
          "product": "Genièvre (pintes)",
          "product_quantity": 3220
         },
         {
          "destination": "Hastings",
          "month": "Nov",
          "product": "Genièvre (pintes)",
          "product_quantity": 19620
         },
         {
          "destination": "Hastings",
          "month": "Déc",
          "product": "Genièvre (pintes)",
          "product_quantity": 15080
         },
         {
          "destination": "Hythe",
          "month": "Fév",
          "product": "Genièvre (pintes)",
          "product_quantity": 660
         },
         {
          "destination": "Hythe",
          "month": "Mar",
          "product": "Genièvre (pintes)",
          "product_quantity": 1300
         },
         {
          "destination": "Hythe",
          "month": "Mai",
          "product": "Genièvre (pintes)",
          "product_quantity": 20
         },
         {
          "destination": "Ipswich",
          "month": "Juin",
          "product": "Genièvre (pintes)",
          "product_quantity": 4040
         },
         {
          "destination": "Landsee",
          "month": "Juil",
          "product": "Genièvre (pintes)",
          "product_quantity": 1600
         },
         {
          "destination": "Lee",
          "month": "Jan",
          "product": "Genièvre (pintes)",
          "product_quantity": 3000
         },
         {
          "destination": "Lee",
          "month": "Fév",
          "product": "Genièvre (pintes)",
          "product_quantity": 1620
         },
         {
          "destination": "Lee",
          "month": "Mar",
          "product": "Genièvre (pintes)",
          "product_quantity": 2800
         },
         {
          "destination": "Lee",
          "month": "Avr",
          "product": "Genièvre (pintes)",
          "product_quantity": 3200
         },
         {
          "destination": "Lee",
          "month": "Mai",
          "product": "Genièvre (pintes)",
          "product_quantity": 2460
         },
         {
          "destination": "Lee",
          "month": "Juin",
          "product": "Genièvre (pintes)",
          "product_quantity": 7740
         },
         {
          "destination": "Lee",
          "month": "Juil",
          "product": "Genièvre (pintes)",
          "product_quantity": 4072
         },
         {
          "destination": "Lee",
          "month": "Août",
          "product": "Genièvre (pintes)",
          "product_quantity": 4260
         },
         {
          "destination": "Lee",
          "month": "Sep",
          "product": "Genièvre (pintes)",
          "product_quantity": 3080
         },
         {
          "destination": "Lee",
          "month": "Oct",
          "product": "Genièvre (pintes)",
          "product_quantity": 4680
         },
         {
          "destination": "Lee",
          "month": "Nov",
          "product": "Genièvre (pintes)",
          "product_quantity": 9420
         },
         {
          "destination": "Lee",
          "month": "Déc",
          "product": "Genièvre (pintes)",
          "product_quantity": 7460
         },
         {
          "destination": "Leith",
          "month": "Oct",
          "product": "Genièvre (pintes)",
          "product_quantity": 40
         },
         {
          "destination": "Londres",
          "month": "Mar",
          "product": "Genièvre (pintes)",
          "product_quantity": 40
         },
         {
          "destination": "Londres",
          "month": "Avr",
          "product": "Genièvre (pintes)",
          "product_quantity": 60
         },
         {
          "destination": "Londres",
          "month": "Mai",
          "product": "Genièvre (pintes)",
          "product_quantity": 40
         },
         {
          "destination": "Londres",
          "month": "Juin",
          "product": "Genièvre (pintes)",
          "product_quantity": 160
         },
         {
          "destination": "Londres",
          "month": "Juil",
          "product": "Genièvre (pintes)",
          "product_quantity": 200
         },
         {
          "destination": "Londres",
          "month": "Août",
          "product": "Genièvre (pintes)",
          "product_quantity": 80
         },
         {
          "destination": "Lynn",
          "month": "Jan",
          "product": "Genièvre (pintes)",
          "product_quantity": 2000
         },
         {
          "destination": "Lynn",
          "month": "Mar",
          "product": "Genièvre (pintes)",
          "product_quantity": 1040
         },
         {
          "destination": "Lynn",
          "month": "Mai",
          "product": "Genièvre (pintes)",
          "product_quantity": 2400
         },
         {
          "destination": "Lynn",
          "month": "Août",
          "product": "Genièvre (pintes)",
          "product_quantity": 380
         },
         {
          "destination": "Lydd",
          "month": "Avr",
          "product": "Genièvre (pintes)",
          "product_quantity": 2120
         },
         {
          "destination": "Lydd",
          "month": "Mai",
          "product": "Genièvre (pintes)",
          "product_quantity": 720
         },
         {
          "destination": "Lydd",
          "month": "Juil",
          "product": "Genièvre (pintes)",
          "product_quantity": 1400
         },
         {
          "destination": "Maldon",
          "month": "Jan",
          "product": "Genièvre (pintes)",
          "product_quantity": 13480
         },
         {
          "destination": "Maldon",
          "month": "Fév",
          "product": "Genièvre (pintes)",
          "product_quantity": 11600
         },
         {
          "destination": "Maldon",
          "month": "Mar",
          "product": "Genièvre (pintes)",
          "product_quantity": 14240
         },
         {
          "destination": "Maldon",
          "month": "Avr",
          "product": "Genièvre (pintes)",
          "product_quantity": 17620
         },
         {
          "destination": "Maldon",
          "month": "Mai",
          "product": "Genièvre (pintes)",
          "product_quantity": 7560
         },
         {
          "destination": "Maldon",
          "month": "Juin",
          "product": "Genièvre (pintes)",
          "product_quantity": 6000
         },
         {
          "destination": "Maldon",
          "month": "Juil",
          "product": "Genièvre (pintes)",
          "product_quantity": 620
         },
         {
          "destination": "Maldon",
          "month": "Août",
          "product": "Genièvre (pintes)",
          "product_quantity": 10360
         },
         {
          "destination": "Maldon",
          "month": "Sep",
          "product": "Genièvre (pintes)",
          "product_quantity": 7040
         },
         {
          "destination": "Maldon",
          "month": "Oct",
          "product": "Genièvre (pintes)",
          "product_quantity": 8860
         },
         {
          "destination": "Maldon",
          "month": "Nov",
          "product": "Genièvre (pintes)",
          "product_quantity": 4430
         },
         {
          "destination": "Maldon",
          "month": "Déc",
          "product": "Genièvre (pintes)",
          "product_quantity": 10400
         },
         {
          "destination": "Margate",
          "month": "Jan",
          "product": "Genièvre (pintes)",
          "product_quantity": 4080
         },
         {
          "destination": "Margate",
          "month": "Mar",
          "product": "Genièvre (pintes)",
          "product_quantity": 1040
         },
         {
          "destination": "Margate",
          "month": "Avr",
          "product": "Genièvre (pintes)",
          "product_quantity": 3400
         },
         {
          "destination": "Margate",
          "month": "Mai",
          "product": "Genièvre (pintes)",
          "product_quantity": 2000
         },
         {
          "destination": "Margate",
          "month": "Août",
          "product": "Genièvre (pintes)",
          "product_quantity": 2800
         },
         {
          "destination": "Margate",
          "month": "Oct",
          "product": "Genièvre (pintes)",
          "product_quantity": 2400
         },
         {
          "destination": "Margate",
          "month": "Déc",
          "product": "Genièvre (pintes)",
          "product_quantity": 1720
         },
         {
          "destination": "Milton",
          "month": "Mai",
          "product": "Genièvre (pintes)",
          "product_quantity": 2020
         },
         {
          "destination": "Milton",
          "month": "Août",
          "product": "Genièvre (pintes)",
          "product_quantity": 1200
         },
         {
          "destination": "Milton",
          "month": "Nov",
          "product": "Genièvre (pintes)",
          "product_quantity": 400
         },
         {
          "destination": "Pegwell",
          "month": "Jan",
          "product": "Genièvre (pintes)",
          "product_quantity": 2000
         },
         {
          "destination": "Pegwell",
          "month": "Fév",
          "product": "Genièvre (pintes)",
          "product_quantity": 2960
         },
         {
          "destination": "Pegwell",
          "month": "Mar",
          "product": "Genièvre (pintes)",
          "product_quantity": 1080
         },
         {
          "destination": "Pegwell",
          "month": "Avr",
          "product": "Genièvre (pintes)",
          "product_quantity": 2000
         },
         {
          "destination": "Pegwell",
          "month": "Juin",
          "product": "Genièvre (pintes)",
          "product_quantity": 2000
         },
         {
          "destination": "Pegwell",
          "month": "Août",
          "product": "Genièvre (pintes)",
          "product_quantity": 2000
         },
         {
          "destination": "Romsay",
          "month": "Juil",
          "product": "Genièvre (pintes)",
          "product_quantity": 4000
         },
         {
          "destination": "Reculver",
          "month": "Juin",
          "product": "Genièvre (pintes)",
          "product_quantity": 840
         },
         {
          "destination": "Reculver",
          "month": "Juil",
          "product": "Genièvre (pintes)",
          "product_quantity": 1820
         },
         {
          "destination": "Reculver",
          "month": "Sep",
          "product": "Genièvre (pintes)",
          "product_quantity": 2200
         },
         {
          "destination": "Reculver",
          "month": "Nov",
          "product": "Genièvre (pintes)",
          "product_quantity": 800
         },
         {
          "destination": "Rochester",
          "month": "Jan",
          "product": "Genièvre (pintes)",
          "product_quantity": 1280
         },
         {
          "destination": "Rochester",
          "month": "Fév",
          "product": "Genièvre (pintes)",
          "product_quantity": 2660
         },
         {
          "destination": "Rochester",
          "month": "Mar",
          "product": "Genièvre (pintes)",
          "product_quantity": 9920
         },
         {
          "destination": "Rochester",
          "month": "Juil",
          "product": "Genièvre (pintes)",
          "product_quantity": 40
         },
         {
          "destination": "Rochester",
          "month": "Oct",
          "product": "Genièvre (pintes)",
          "product_quantity": 4000
         },
         {
          "destination": "Rye",
          "month": "Avr",
          "product": "Genièvre (pintes)",
          "product_quantity": 860
         },
         {
          "destination": "Rye",
          "month": "Mai",
          "product": "Genièvre (pintes)",
          "product_quantity": 20
         },
         {
          "destination": "Rye",
          "month": "Juin",
          "product": "Genièvre (pintes)",
          "product_quantity": 2040
         },
         {
          "destination": "Rye",
          "month": "Juil",
          "product": "Genièvre (pintes)",
          "product_quantity": 80
         },
         {
          "destination": "Rye",
          "month": "Sep",
          "product": "Genièvre (pintes)",
          "product_quantity": 520
         },
         {
          "destination": "Rye",
          "month": "Nov",
          "product": "Genièvre (pintes)",
          "product_quantity": 2700
         },
         {
          "destination": "Rye",
          "month": "Déc",
          "product": "Genièvre (pintes)",
          "product_quantity": 3800
         },
         {
          "destination": "Southwould",
          "month": "Juil",
          "product": "Genièvre (pintes)",
          "product_quantity": 4400
         },
         {
          "destination": "Whistable",
          "month": "Jan",
          "product": "Genièvre (pintes)",
          "product_quantity": 16900
         },
         {
          "destination": "Whistable",
          "month": "Fév",
          "product": "Genièvre (pintes)",
          "product_quantity": 9020
         },
         {
          "destination": "Whistable",
          "month": "Mar",
          "product": "Genièvre (pintes)",
          "product_quantity": 3260
         },
         {
          "destination": "Whistable",
          "month": "Avr",
          "product": "Genièvre (pintes)",
          "product_quantity": 1060
         },
         {
          "destination": "Whistable",
          "month": "Mai",
          "product": "Genièvre (pintes)",
          "product_quantity": 4320
         },
         {
          "destination": "Whistable",
          "month": "Juin",
          "product": "Genièvre (pintes)",
          "product_quantity": 12640
         },
         {
          "destination": "Whistable",
          "month": "Juil",
          "product": "Genièvre (pintes)",
          "product_quantity": 14240
         },
         {
          "destination": "Whistable",
          "month": "Août",
          "product": "Genièvre (pintes)",
          "product_quantity": 9220
         },
         {
          "destination": "Whistable",
          "month": "Sep",
          "product": "Genièvre (pintes)",
          "product_quantity": 7440
         },
         {
          "destination": "Whistable",
          "month": "Oct",
          "product": "Genièvre (pintes)",
          "product_quantity": 7420
         },
         {
          "destination": "Whistable",
          "month": "Nov",
          "product": "Genièvre (pintes)",
          "product_quantity": 4380
         },
         {
          "destination": "Whistable",
          "month": "Déc",
          "product": "Genièvre (pintes)",
          "product_quantity": 23020
         },
         {
          "destination": "Wivenhoe",
          "month": "Jan",
          "product": "Genièvre (pintes)",
          "product_quantity": 6160
         },
         {
          "destination": "Wivenhoe",
          "month": "Fév",
          "product": "Genièvre (pintes)",
          "product_quantity": 2000
         },
         {
          "destination": "Wivenhoe",
          "month": "Mar",
          "product": "Genièvre (pintes)",
          "product_quantity": 6420
         },
         {
          "destination": "Wivenhoe",
          "month": "Avr",
          "product": "Genièvre (pintes)",
          "product_quantity": 4400
         },
         {
          "destination": "Woobridge",
          "month": "Avr",
          "product": "Genièvre (pintes)",
          "product_quantity": 3200
         },
         {
          "destination": "Woobridge",
          "month": "Mai",
          "product": "Genièvre (pintes)",
          "product_quantity": 4700
         },
         {
          "destination": "Yarmouth",
          "month": "Jan",
          "product": "Genièvre (pintes)",
          "product_quantity": 1000
         },
         {
          "destination": "Yarmouth",
          "month": "Mar",
          "product": "Genièvre (pintes)",
          "product_quantity": 3340
         },
         {
          "destination": "Yarmouth",
          "month": "Juin",
          "product": "Genièvre (pintes)",
          "product_quantity": 2000
         },
         {
          "destination": "Yarmouth",
          "month": "Juil",
          "product": "Genièvre (pintes)",
          "product_quantity": 2000
         },
         {
          "destination": "Yarmouth",
          "month": "Août",
          "product": "Genièvre (pintes)",
          "product_quantity": 1600
         },
         {
          "destination": "Yarmouth",
          "month": "Sep",
          "product": "Genièvre (pintes)",
          "product_quantity": 2180
         },
         {
          "destination": "Yarmouth",
          "month": "Oct",
          "product": "Genièvre (pintes)",
          "product_quantity": 5600
         },
         {
          "destination": "Yarmouth",
          "month": "Déc",
          "product": "Genièvre (pintes)",
          "product_quantity": 2480
         },
         {
          "destination": "Barking",
          "month": "Jan",
          "product": "Eau-de-vie (pintes)",
          "product_quantity": 60
         },
         {
          "destination": "Brightlandsea",
          "month": "Jan",
          "product": "Eau-de-vie (pintes)",
          "product_quantity": 680
         },
         {
          "destination": "Brightlandsea",
          "month": "Mar",
          "product": "Eau-de-vie (pintes)",
          "product_quantity": 680
         },
         {
          "destination": "Brightlandsea",
          "month": "Avr",
          "product": "Eau-de-vie (pintes)",
          "product_quantity": 400
         },
         {
          "destination": "Brightlandsea",
          "month": "Mai",
          "product": "Eau-de-vie (pintes)",
          "product_quantity": 200
         },
         {
          "destination": "Burnham",
          "month": "Jan",
          "product": "Eau-de-vie (pintes)",
          "product_quantity": 3080
         },
         {
          "destination": "Burnham",
          "month": "Avr",
          "product": "Eau-de-vie (pintes)",
          "product_quantity": 2820
         },
         {
          "destination": "Burnham",
          "month": "Mai",
          "product": "Eau-de-vie (pintes)",
          "product_quantity": 2000
         },
         {
          "destination": "Burnham",
          "month": "Juin",
          "product": "Eau-de-vie (pintes)",
          "product_quantity": 860
         },
         {
          "destination": "Burnham",
          "month": "Juil",
          "product": "Eau-de-vie (pintes)",
          "product_quantity": 1500
         },
         {
          "destination": "Burnham",
          "month": "Août",
          "product": "Eau-de-vie (pintes)",
          "product_quantity": 1800
         },
         {
          "destination": "Burnham",
          "month": "Sep",
          "product": "Eau-de-vie (pintes)",
          "product_quantity": 3200
         },
         {
          "destination": "Burnham",
          "month": "Oct",
          "product": "Eau-de-vie (pintes)",
          "product_quantity": 2900
         },
         {
          "destination": "Burnham",
          "month": "Nov",
          "product": "Eau-de-vie (pintes)",
          "product_quantity": 320
         },
         {
          "destination": "Burnham",
          "month": "Déc",
          "product": "Eau-de-vie (pintes)",
          "product_quantity": 40
         },
         {
          "destination": "Chichester",
          "month": "Nov",
          "product": "Eau-de-vie (pintes)",
          "product_quantity": 1000
         },
         {
          "destination": "Chichester",
          "month": "Déc",
          "product": "Eau-de-vie (pintes)",
          "product_quantity": 100
         },
         {
          "destination": "Colchester",
          "month": "Jan",
          "product": "Eau-de-vie (pintes)",
          "product_quantity": 2360
         },
         {
          "destination": "Colchester",
          "month": "Fév",
          "product": "Eau-de-vie (pintes)",
          "product_quantity": 1300
         },
         {
          "destination": "Colchester",
          "month": "Mar",
          "product": "Eau-de-vie (pintes)",
          "product_quantity": 1420
         },
         {
          "destination": "Colchester",
          "month": "Avr",
          "product": "Eau-de-vie (pintes)",
          "product_quantity": 4440
         },
         {
          "destination": "Colchester",
          "month": "Mai",
          "product": "Eau-de-vie (pintes)",
          "product_quantity": 560
         },
         {
          "destination": "Colchester",
          "month": "Juin",
          "product": "Eau-de-vie (pintes)",
          "product_quantity": 1440
         },
         {
          "destination": "Colchester",
          "month": "Juil",
          "product": "Eau-de-vie (pintes)",
          "product_quantity": 2980
         },
         {
          "destination": "Colchester",
          "month": "Août",
          "product": "Eau-de-vie (pintes)",
          "product_quantity": 660
         },
         {
          "destination": "Colchester",
          "month": "Sep",
          "product": "Eau-de-vie (pintes)",
          "product_quantity": 3660
         },
         {
          "destination": "Colchester",
          "month": "Oct",
          "product": "Eau-de-vie (pintes)",
          "product_quantity": 1040
         },
         {
          "destination": "Colchester",
          "month": "Nov",
          "product": "Eau-de-vie (pintes)",
          "product_quantity": 1820
         },
         {
          "destination": "Colchester",
          "month": "Déc",
          "product": "Eau-de-vie (pintes)",
          "product_quantity": 1460
         },
         {
          "destination": "Colwa",
          "month": "Juin",
          "product": "Eau-de-vie (pintes)",
          "product_quantity": 200
         },
         {
          "destination": "Cowes",
          "month": "Sep",
          "product": "Eau-de-vie (pintes)",
          "product_quantity": 320
         },
         {
          "destination": "Deal",
          "month": "Jan",
          "product": "Eau-de-vie (pintes)",
          "product_quantity": 5620
         },
         {
          "destination": "Deal",
          "month": "Fév",
          "product": "Eau-de-vie (pintes)",
          "product_quantity": 12230
         },
         {
          "destination": "Deal",
          "month": "Mar",
          "product": "Eau-de-vie (pintes)",
          "product_quantity": 7420
         },
         {
          "destination": "Deal",
          "month": "Avr",
          "product": "Eau-de-vie (pintes)",
          "product_quantity": 13780
         },
         {
          "destination": "Deal",
          "month": "Mai",
          "product": "Eau-de-vie (pintes)",
          "product_quantity": 1760
         },
         {
          "destination": "Deal",
          "month": "Juin",
          "product": "Eau-de-vie (pintes)",
          "product_quantity": 4080
         },
         {
          "destination": "Deal",
          "month": "Juil",
          "product": "Eau-de-vie (pintes)",
          "product_quantity": 7200
         },
         {
          "destination": "Deal",
          "month": "Août",
          "product": "Eau-de-vie (pintes)",
          "product_quantity": 560
         },
         {
          "destination": "Deal",
          "month": "Sep",
          "product": "Eau-de-vie (pintes)",
          "product_quantity": 10080
         },
         {
          "destination": "Deal",
          "month": "Oct",
          "product": "Eau-de-vie (pintes)",
          "product_quantity": 4940
         },
         {
          "destination": "Deal",
          "month": "Nov",
          "product": "Eau-de-vie (pintes)",
          "product_quantity": 11220
         },
         {
          "destination": "Deal",
          "month": "Déc",
          "product": "Eau-de-vie (pintes)",
          "product_quantity": 7800
         },
         {
          "destination": "Douvres",
          "month": "Jan",
          "product": "Eau-de-vie (pintes)",
          "product_quantity": 4400
         },
         {
          "destination": "Douvres",
          "month": "Fév",
          "product": "Eau-de-vie (pintes)",
          "product_quantity": 1700
         },
         {
          "destination": "Douvres",
          "month": "Mar",
          "product": "Eau-de-vie (pintes)",
          "product_quantity": 1080
         },
         {
          "destination": "Douvres",
          "month": "Avr",
          "product": "Eau-de-vie (pintes)",
          "product_quantity": 4800
         },
         {
          "destination": "Douvres",
          "month": "Mai",
          "product": "Eau-de-vie (pintes)",
          "product_quantity": 5060
         },
         {
          "destination": "Douvres",
          "month": "Juin",
          "product": "Eau-de-vie (pintes)",
          "product_quantity": 3700
         },
         {
          "destination": "Douvres",
          "month": "Juil",
          "product": "Eau-de-vie (pintes)",
          "product_quantity": 6260
         },
         {
          "destination": "Douvres",
          "month": "Août",
          "product": "Eau-de-vie (pintes)",
          "product_quantity": 7480
         },
         {
          "destination": "Douvres",
          "month": "Sep",
          "product": "Eau-de-vie (pintes)",
          "product_quantity": 8420
         },
         {
          "destination": "Douvres",
          "month": "Oct",
          "product": "Eau-de-vie (pintes)",
          "product_quantity": 10340
         },
         {
          "destination": "Douvres",
          "month": "Nov",
          "product": "Eau-de-vie (pintes)",
          "product_quantity": 6820
         },
         {
          "destination": "Douvres",
          "month": "Déc",
          "product": "Eau-de-vie (pintes)",
          "product_quantity": 6900
         },
         {
          "destination": "Dungeness",
          "month": "Jan",
          "product": "Eau-de-vie (pintes)",
          "product_quantity": 3600
         },
         {
          "destination": "Dungeness",
          "month": "Fév",
          "product": "Eau-de-vie (pintes)",
          "product_quantity": 2720
         },
         {
          "destination": "Dungeness",
          "month": "Avr",
          "product": "Eau-de-vie (pintes)",
          "product_quantity": 1720
         },
         {
          "destination": "Dungeness",
          "month": "Mai",
          "product": "Eau-de-vie (pintes)",
          "product_quantity": 3600
         },
         {
          "destination": "Dungeness",
          "month": "Juin",
          "product": "Eau-de-vie (pintes)",
          "product_quantity": 220
         },
         {
          "destination": "Dungeness",
          "month": "Juil",
          "product": "Eau-de-vie (pintes)",
          "product_quantity": 400
         },
         {
          "destination": "Dungeness",
          "month": "Août",
          "product": "Eau-de-vie (pintes)",
          "product_quantity": 3200
         },
         {
          "destination": "Dungeness",
          "month": "Sep",
          "product": "Eau-de-vie (pintes)",
          "product_quantity": 560
         },
         {
          "destination": "Dungeness",
          "month": "Oct",
          "product": "Eau-de-vie (pintes)",
          "product_quantity": 900
         },
         {
          "destination": "Dungeness",
          "month": "Déc",
          "product": "Eau-de-vie (pintes)",
          "product_quantity": 800
         },
         {
          "destination": "Dymchurch",
          "month": "Fév",
          "product": "Eau-de-vie (pintes)",
          "product_quantity": 260
         },
         {
          "destination": "Dymchurch",
          "month": "Avr",
          "product": "Eau-de-vie (pintes)",
          "product_quantity": 60
         },
         {
          "destination": "Falmouth",
          "month": "Juin",
          "product": "Eau-de-vie (pintes)",
          "product_quantity": 880
         },
         {
          "destination": "Feversham",
          "month": "Jan",
          "product": "Eau-de-vie (pintes)",
          "product_quantity": 120
         },
         {
          "destination": "Feversham",
          "month": "Fév",
          "product": "Eau-de-vie (pintes)",
          "product_quantity": 1740
         },
         {
          "destination": "Feversham",
          "month": "Mar",
          "product": "Eau-de-vie (pintes)",
          "product_quantity": 60
         },
         {
          "destination": "Feversham",
          "month": "Avr",
          "product": "Eau-de-vie (pintes)",
          "product_quantity": 1300
         },
         {
          "destination": "Feversham",
          "month": "Mai",
          "product": "Eau-de-vie (pintes)",
          "product_quantity": 32
         },
         {
          "destination": "Feversham",
          "month": "Juin",
          "product": "Eau-de-vie (pintes)",
          "product_quantity": 660
         },
         {
          "destination": "Feversham",
          "month": "Juil",
          "product": "Eau-de-vie (pintes)",
          "product_quantity": 4040
         },
         {
          "destination": "Feversham",
          "month": "Août",
          "product": "Eau-de-vie (pintes)",
          "product_quantity": 5320
         },
         {
          "destination": "Feversham",
          "month": "Sep",
          "product": "Eau-de-vie (pintes)",
          "product_quantity": 600
         },
         {
          "destination": "Feversham",
          "month": "Oct",
          "product": "Eau-de-vie (pintes)",
          "product_quantity": 1500
         },
         {
          "destination": "Feversham",
          "month": "Nov",
          "product": "Eau-de-vie (pintes)",
          "product_quantity": 2700
         },
         {
          "destination": "Feversham",
          "month": "Déc",
          "product": "Eau-de-vie (pintes)",
          "product_quantity": 2180
         },
         {
          "destination": "Folkstone",
          "month": "Jan",
          "product": "Eau-de-vie (pintes)",
          "product_quantity": 4500
         },
         {
          "destination": "Folkstone",
          "month": "Fév",
          "product": "Eau-de-vie (pintes)",
          "product_quantity": 5500
         },
         {
          "destination": "Folkstone",
          "month": "Mar",
          "product": "Eau-de-vie (pintes)",
          "product_quantity": 4780
         },
         {
          "destination": "Folkstone",
          "month": "Avr",
          "product": "Eau-de-vie (pintes)",
          "product_quantity": 1120
         },
         {
          "destination": "Folkstone",
          "month": "Mai",
          "product": "Eau-de-vie (pintes)",
          "product_quantity": 10120
         },
         {
          "destination": "Folkstone",
          "month": "Juin",
          "product": "Eau-de-vie (pintes)",
          "product_quantity": 1620
         },
         {
          "destination": "Folkstone",
          "month": "Juil",
          "product": "Eau-de-vie (pintes)",
          "product_quantity": 4500
         },
         {
          "destination": "Folkstone",
          "month": "Août",
          "product": "Eau-de-vie (pintes)",
          "product_quantity": 3200
         },
         {
          "destination": "Folkstone",
          "month": "Sep",
          "product": "Eau-de-vie (pintes)",
          "product_quantity": 1020
         },
         {
          "destination": "Folkstone",
          "month": "Oct",
          "product": "Eau-de-vie (pintes)",
          "product_quantity": 680
         },
         {
          "destination": "Folkstone",
          "month": "Nov",
          "product": "Eau-de-vie (pintes)",
          "product_quantity": 400
         },
         {
          "destination": "Folkstone",
          "month": "Déc",
          "product": "Eau-de-vie (pintes)",
          "product_quantity": 200
         },
         {
          "destination": "Foy",
          "month": "Avr",
          "product": "Eau-de-vie (pintes)",
          "product_quantity": 120
         },
         {
          "destination": "Guernezé",
          "month": "Avr",
          "product": "Eau-de-vie (pintes)",
          "product_quantity": 4000
         },
         {
          "destination": "Harwich",
          "month": "Jan",
          "product": "Eau-de-vie (pintes)",
          "product_quantity": 400
         },
         {
          "destination": "Harwich",
          "month": "Fév",
          "product": "Eau-de-vie (pintes)",
          "product_quantity": 200
         },
         {
          "destination": "Harwich",
          "month": "Avr",
          "product": "Eau-de-vie (pintes)",
          "product_quantity": 200
         },
         {
          "destination": "Harwich",
          "month": "Juil",
          "product": "Eau-de-vie (pintes)",
          "product_quantity": 660
         },
         {
          "destination": "Harwich",
          "month": "Août",
          "product": "Eau-de-vie (pintes)",
          "product_quantity": 100
         },
         {
          "destination": "Harwich",
          "month": "Sep",
          "product": "Eau-de-vie (pintes)",
          "product_quantity": 120
         },
         {
          "destination": "Harwich",
          "month": "Oct",
          "product": "Eau-de-vie (pintes)",
          "product_quantity": 400
         },
         {
          "destination": "Hastings",
          "month": "Jan",
          "product": "Eau-de-vie (pintes)",
          "product_quantity": 2080
         },
         {
          "destination": "Hastings",
          "month": "Mar",
          "product": "Eau-de-vie (pintes)",
          "product_quantity": 980
         },
         {
          "destination": "Hastings",
          "month": "Avr",
          "product": "Eau-de-vie (pintes)",
          "product_quantity": 10520
         },
         {
          "destination": "Hastings",
          "month": "Mai",
          "product": "Eau-de-vie (pintes)",
          "product_quantity": 200
         },
         {
          "destination": "Hastings",
          "month": "Juin",
          "product": "Eau-de-vie (pintes)",
          "product_quantity": 760
         },
         {
          "destination": "Hastings",
          "month": "Juil",
          "product": "Eau-de-vie (pintes)",
          "product_quantity": 1780
         },
         {
          "destination": "Hastings",
          "month": "Août",
          "product": "Eau-de-vie (pintes)",
          "product_quantity": 400
         },
         {
          "destination": "Hastings",
          "month": "Sep",
          "product": "Eau-de-vie (pintes)",
          "product_quantity": 4100
         },
         {
          "destination": "Hastings",
          "month": "Oct",
          "product": "Eau-de-vie (pintes)",
          "product_quantity": 2960
         },
         {
          "destination": "Hastings",
          "month": "Nov",
          "product": "Eau-de-vie (pintes)",
          "product_quantity": 3940
         },
         {
          "destination": "Hastings",
          "month": "Déc",
          "product": "Eau-de-vie (pintes)",
          "product_quantity": 1060
         },
         {
          "destination": "Hythe",
          "month": "Fév",
          "product": "Eau-de-vie (pintes)",
          "product_quantity": 400
         },
         {
          "destination": "Hythe",
          "month": "Mar",
          "product": "Eau-de-vie (pintes)",
          "product_quantity": 540
         },
         {
          "destination": "Ipswich",
          "month": "Juin",
          "product": "Eau-de-vie (pintes)",
          "product_quantity": 160
         },
         {
          "destination": "Ladgley",
          "month": "Juil",
          "product": "Eau-de-vie (pintes)",
          "product_quantity": 60
         },
         {
          "destination": "Lee",
          "month": "Jan",
          "product": "Eau-de-vie (pintes)",
          "product_quantity": 800
         },
         {
          "destination": "Lee",
          "month": "Mar",
          "product": "Eau-de-vie (pintes)",
          "product_quantity": 600
         },
         {
          "destination": "Lee",
          "month": "Avr",
          "product": "Eau-de-vie (pintes)",
          "product_quantity": 700
         },
         {
          "destination": "Lee",
          "month": "Mai",
          "product": "Eau-de-vie (pintes)",
          "product_quantity": 1200
         },
         {
          "destination": "Lee",
          "month": "Juin",
          "product": "Eau-de-vie (pintes)",
          "product_quantity": 1380
         },
         {
          "destination": "Lee",
          "month": "Juil",
          "product": "Eau-de-vie (pintes)",
          "product_quantity": 440
         },
         {
          "destination": "Lee",
          "month": "Août",
          "product": "Eau-de-vie (pintes)",
          "product_quantity": 1360
         },
         {
          "destination": "Lee",
          "month": "Sep",
          "product": "Eau-de-vie (pintes)",
          "product_quantity": 360
         },
         {
          "destination": "Lee",
          "month": "Oct",
          "product": "Eau-de-vie (pintes)",
          "product_quantity": 200
         },
         {
          "destination": "Lee",
          "month": "Nov",
          "product": "Eau-de-vie (pintes)",
          "product_quantity": 620
         },
         {
          "destination": "Lee",
          "month": "Déc",
          "product": "Eau-de-vie (pintes)",
          "product_quantity": 680
         },
         {
          "destination": "Leith",
          "month": "Oct",
          "product": "Eau-de-vie (pintes)",
          "product_quantity": 1640
         },
         {
          "destination": "Londres",
          "month": "Mar",
          "product": "Eau-de-vie (pintes)",
          "product_quantity": 80
         },
         {
          "destination": "Londres",
          "month": "Juil",
          "product": "Eau-de-vie (pintes)",
          "product_quantity": 40
         },
         {
          "destination": "Lynn",
          "month": "Jan",
          "product": "Eau-de-vie (pintes)",
          "product_quantity": 2000
         },
         {
          "destination": "Lynn",
          "month": "Mar",
          "product": "Eau-de-vie (pintes)",
          "product_quantity": 160
         },
         {
          "destination": "Lynn",
          "month": "Mai",
          "product": "Eau-de-vie (pintes)",
          "product_quantity": 400
         },
         {
          "destination": "Lynn",
          "month": "Août",
          "product": "Eau-de-vie (pintes)",
          "product_quantity": 1100
         },
         {
          "destination": "Lydd",
          "month": "Fév",
          "product": "Eau-de-vie (pintes)",
          "product_quantity": 2000
         },
         {
          "destination": "Lydd",
          "month": "Avr",
          "product": "Eau-de-vie (pintes)",
          "product_quantity": 360
         },
         {
          "destination": "Lydd",
          "month": "Mai",
          "product": "Eau-de-vie (pintes)",
          "product_quantity": 160
         },
         {
          "destination": "Lydd",
          "month": "Juil",
          "product": "Eau-de-vie (pintes)",
          "product_quantity": 1100
         },
         {
          "destination": "Maldene",
          "month": "Jan",
          "product": "Eau-de-vie (pintes)",
          "product_quantity": 3220
         },
         {
          "destination": "Maldene",
          "month": "Fév",
          "product": "Eau-de-vie (pintes)",
          "product_quantity": 1500
         },
         {
          "destination": "Maldene",
          "month": "Mar",
          "product": "Eau-de-vie (pintes)",
          "product_quantity": 2620
         },
         {
          "destination": "Maldene",
          "month": "Avr",
          "product": "Eau-de-vie (pintes)",
          "product_quantity": 2740
         },
         {
          "destination": "Maldene",
          "month": "Mai",
          "product": "Eau-de-vie (pintes)",
          "product_quantity": 1140
         },
         {
          "destination": "Maldene",
          "month": "Juin",
          "product": "Eau-de-vie (pintes)",
          "product_quantity": 1460
         },
         {
          "destination": "Maldene",
          "month": "Juil",
          "product": "Eau-de-vie (pintes)",
          "product_quantity": 1380
         },
         {
          "destination": "Maldene",
          "month": "Août",
          "product": "Eau-de-vie (pintes)",
          "product_quantity": 1540
         },
         {
          "destination": "Maldene",
          "month": "Sep",
          "product": "Eau-de-vie (pintes)",
          "product_quantity": 540
         },
         {
          "destination": "Maldene",
          "month": "Oct",
          "product": "Eau-de-vie (pintes)",
          "product_quantity": 1440
         },
         {
          "destination": "Maldene",
          "month": "Nov",
          "product": "Eau-de-vie (pintes)",
          "product_quantity": 720
         },
         {
          "destination": "Maldene",
          "month": "Déc",
          "product": "Eau-de-vie (pintes)",
          "product_quantity": 2180
         },
         {
          "destination": "Margate",
          "month": "Jan",
          "product": "Eau-de-vie (pintes)",
          "product_quantity": 520
         },
         {
          "destination": "Margate",
          "month": "Mar",
          "product": "Eau-de-vie (pintes)",
          "product_quantity": 400
         },
         {
          "destination": "Margate",
          "month": "Avr",
          "product": "Eau-de-vie (pintes)",
          "product_quantity": 540
         },
         {
          "destination": "Margate",
          "month": "Mai",
          "product": "Eau-de-vie (pintes)",
          "product_quantity": 1200
         },
         {
          "destination": "Margate",
          "month": "Août",
          "product": "Eau-de-vie (pintes)",
          "product_quantity": 400
         },
         {
          "destination": "Margate",
          "month": "Oct",
          "product": "Eau-de-vie (pintes)",
          "product_quantity": 160
         },
         {
          "destination": "Margate",
          "month": "Déc",
          "product": "Eau-de-vie (pintes)",
          "product_quantity": 580
         },
         {
          "destination": "Milton",
          "month": "Mai",
          "product": "Eau-de-vie (pintes)",
          "product_quantity": 800
         },
         {
          "destination": "Milton",
          "month": "Août",
          "product": "Eau-de-vie (pintes)",
          "product_quantity": 200
         },
         {
          "destination": "Milton",
          "month": "Nov",
          "product": "Eau-de-vie (pintes)",
          "product_quantity": 80
         },
         {
          "destination": "Pegwell",
          "month": "Jan",
          "product": "Eau-de-vie (pintes)",
          "product_quantity": 800
         },
         {
          "destination": "Pegwell",
          "month": "Fév",
          "product": "Eau-de-vie (pintes)",
          "product_quantity": 460
         },
         {
          "destination": "Pegwell",
          "month": "Mar",
          "product": "Eau-de-vie (pintes)",
          "product_quantity": 200
         },
         {
          "destination": "Pegwell",
          "month": "Avr",
          "product": "Eau-de-vie (pintes)",
          "product_quantity": 400
         },
         {
          "destination": "Pegwell",
          "month": "Juin",
          "product": "Eau-de-vie (pintes)",
          "product_quantity": 800
         },
         {
          "destination": "Pegwell",
          "month": "Août",
          "product": "Eau-de-vie (pintes)",
          "product_quantity": 800
         },
         {
          "destination": "Reculver",
          "month": "Juin",
          "product": "Eau-de-vie (pintes)",
          "product_quantity": 560
         },
         {
          "destination": "Reculver",
          "month": "Juil",
          "product": "Eau-de-vie (pintes)",
          "product_quantity": 160
         },
         {
          "destination": "Reculver",
          "month": "Sep",
          "product": "Eau-de-vie (pintes)",
          "product_quantity": 600
         },
         {
          "destination": "Reculver",
          "month": "Nov",
          "product": "Eau-de-vie (pintes)",
          "product_quantity": 800
         },
         {
          "destination": "Rochester",
          "month": "Jan",
          "product": "Eau-de-vie (pintes)",
          "product_quantity": 160
         },
         {
          "destination": "Rochester",
          "month": "Fév",
          "product": "Eau-de-vie (pintes)",
          "product_quantity": 260
         },
         {
          "destination": "Rochester",
          "month": "Mar",
          "product": "Eau-de-vie (pintes)",
          "product_quantity": 2540
         },
         {
          "destination": "Rochester",
          "month": "Oct",
          "product": "Eau-de-vie (pintes)",
          "product_quantity": 480
         },
         {
          "destination": "Rye",
          "month": "Fév",
          "product": "Eau-de-vie (pintes)",
          "product_quantity": 720
         },
         {
          "destination": "Rye",
          "month": "Mai",
          "product": "Eau-de-vie (pintes)",
          "product_quantity": 740
         },
         {
          "destination": "Rye",
          "month": "Juin",
          "product": "Eau-de-vie (pintes)",
          "product_quantity": 200
         },
         {
          "destination": "Rye",
          "month": "Août",
          "product": "Eau-de-vie (pintes)",
          "product_quantity": 2000
         },
         {
          "destination": "Rye",
          "month": "Sep",
          "product": "Eau-de-vie (pintes)",
          "product_quantity": 1340
         },
         {
          "destination": "Rye",
          "month": "Nov",
          "product": "Eau-de-vie (pintes)",
          "product_quantity": 640
         },
         {
          "destination": "Rye",
          "month": "Déc",
          "product": "Eau-de-vie (pintes)",
          "product_quantity": 1080
         },
         {
          "destination": "Feasalter",
          "month": "Nov",
          "product": "Eau-de-vie (pintes)",
          "product_quantity": 1340
         },
         {
          "destination": "Southwould",
          "month": "Juil",
          "product": "Eau-de-vie (pintes)",
          "product_quantity": 1060
         },
         {
          "destination": "Whistable",
          "month": "Jan",
          "product": "Eau-de-vie (pintes)",
          "product_quantity": 1560
         },
         {
          "destination": "Whistable",
          "month": "Fév",
          "product": "Eau-de-vie (pintes)",
          "product_quantity": 880
         },
         {
          "destination": "Whistable",
          "month": "Mar",
          "product": "Eau-de-vie (pintes)",
          "product_quantity": 1520
         },
         {
          "destination": "Whistable",
          "month": "Avr",
          "product": "Eau-de-vie (pintes)",
          "product_quantity": 520
         },
         {
          "destination": "Whistable",
          "month": "Mai",
          "product": "Eau-de-vie (pintes)",
          "product_quantity": 200
         },
         {
          "destination": "Whistable",
          "month": "Juin",
          "product": "Eau-de-vie (pintes)",
          "product_quantity": 3320
         },
         {
          "destination": "Whistable",
          "month": "Juil",
          "product": "Eau-de-vie (pintes)",
          "product_quantity": 2080
         },
         {
          "destination": "Whistable",
          "month": "Août",
          "product": "Eau-de-vie (pintes)",
          "product_quantity": 1760
         },
         {
          "destination": "Whistable",
          "month": "Sep",
          "product": "Eau-de-vie (pintes)",
          "product_quantity": 1680
         },
         {
          "destination": "Whistable",
          "month": "Oct",
          "product": "Eau-de-vie (pintes)",
          "product_quantity": 800
         },
         {
          "destination": "Whistable",
          "month": "Nov",
          "product": "Eau-de-vie (pintes)",
          "product_quantity": 920
         },
         {
          "destination": "Whistable",
          "month": "Déc",
          "product": "Eau-de-vie (pintes)",
          "product_quantity": 3940
         },
         {
          "destination": "Wivenhse",
          "month": "Jan",
          "product": "Eau-de-vie (pintes)",
          "product_quantity": 1800
         },
         {
          "destination": "Wivenhse",
          "month": "Fév",
          "product": "Eau-de-vie (pintes)",
          "product_quantity": 1400
         },
         {
          "destination": "Wivenhse",
          "month": "Mar",
          "product": "Eau-de-vie (pintes)",
          "product_quantity": 840
         },
         {
          "destination": "Wivenhse",
          "month": "Avr",
          "product": "Eau-de-vie (pintes)",
          "product_quantity": 2420
         },
         {
          "destination": "Woodbridge",
          "month": "Avr",
          "product": "Eau-de-vie (pintes)",
          "product_quantity": 800
         },
         {
          "destination": "Woodbridge",
          "month": "Mai",
          "product": "Eau-de-vie (pintes)",
          "product_quantity": 100
         },
         {
          "destination": "Yarmouth",
          "month": "Mar",
          "product": "Eau-de-vie (pintes)",
          "product_quantity": 420
         },
         {
          "destination": "Yarmouth",
          "month": "Juin",
          "product": "Eau-de-vie (pintes)",
          "product_quantity": 1200
         },
         {
          "destination": "Yarmouth",
          "month": "Juil",
          "product": "Eau-de-vie (pintes)",
          "product_quantity": 1200
         },
         {
          "destination": "Yarmouth",
          "month": "Août",
          "product": "Eau-de-vie (pintes)",
          "product_quantity": 200
         },
         {
          "destination": "Yarmouth",
          "month": "Sep",
          "product": "Eau-de-vie (pintes)",
          "product_quantity": 200
         },
         {
          "destination": "Yarmouth",
          "month": "Oct",
          "product": "Eau-de-vie (pintes)",
          "product_quantity": 540
         },
         {
          "destination": "Yarmouth",
          "month": "Déc",
          "product": "Eau-de-vie (pintes)",
          "product_quantity": 1000
         },
         {
          "destination": "Brightlandsee",
          "month": "Jan",
          "product": "Tafia (pintes)",
          "product_quantity": 80
         },
         {
          "destination": "Brightlandsee",
          "month": "Fév",
          "product": "Tafia (pintes)",
          "product_quantity": 20
         },
         {
          "destination": "Brightlandsee",
          "month": "Mar",
          "product": "Tafia (pintes)",
          "product_quantity": 400
         },
         {
          "destination": "Brightlandsee",
          "month": "Avr",
          "product": "Tafia (pintes)",
          "product_quantity": 400
         },
         {
          "destination": "Burnham",
          "month": "Jan",
          "product": "Tafia (pintes)",
          "product_quantity": 540
         },
         {
          "destination": "Burnham",
          "month": "Fév",
          "product": "Tafia (pintes)",
          "product_quantity": 120
         },
         {
          "destination": "Burnham",
          "month": "Juin",
          "product": "Tafia (pintes)",
          "product_quantity": 340
         },
         {
          "destination": "Burnham",
          "month": "Août",
          "product": "Tafia (pintes)",
          "product_quantity": 80
         },
         {
          "destination": "Burnham",
          "month": "Sep",
          "product": "Tafia (pintes)",
          "product_quantity": 600
         },
         {
          "destination": "Burnham",
          "month": "Oct",
          "product": "Tafia (pintes)",
          "product_quantity": 1700
         },
         {
          "destination": "Burnham",
          "month": "Nov",
          "product": "Tafia (pintes)",
          "product_quantity": 820
         },
         {
          "destination": "Burnham",
          "month": "Déc",
          "product": "Tafia (pintes)",
          "product_quantity": 40
         },
         {
          "destination": "Chichester",
          "month": "Nov",
          "product": "Tafia (pintes)",
          "product_quantity": 1000
         },
         {
          "destination": "Chichester",
          "month": "Déc",
          "product": "Tafia (pintes)",
          "product_quantity": 100
         },
         {
          "destination": "Colchester",
          "month": "Jan",
          "product": "Tafia (pintes)",
          "product_quantity": 900
         },
         {
          "destination": "Colchester",
          "month": "Fév",
          "product": "Tafia (pintes)",
          "product_quantity": 120
         },
         {
          "destination": "Colchester",
          "month": "Mar",
          "product": "Tafia (pintes)",
          "product_quantity": 2740
         },
         {
          "destination": "Colchester",
          "month": "Avr",
          "product": "Tafia (pintes)",
          "product_quantity": 520
         },
         {
          "destination": "Colchester",
          "month": "Mai",
          "product": "Tafia (pintes)",
          "product_quantity": 100
         },
         {
          "destination": "Colchester",
          "month": "Juin",
          "product": "Tafia (pintes)",
          "product_quantity": 520
         },
         {
          "destination": "Colchester",
          "month": "Juil",
          "product": "Tafia (pintes)",
          "product_quantity": 1620
         },
         {
          "destination": "Colchester",
          "month": "Août",
          "product": "Tafia (pintes)",
          "product_quantity": 100
         },
         {
          "destination": "Colchester",
          "month": "Sep",
          "product": "Tafia (pintes)",
          "product_quantity": 860
         },
         {
          "destination": "Colchester",
          "month": "Oct",
          "product": "Tafia (pintes)",
          "product_quantity": 800
         },
         {
          "destination": "Colchester",
          "month": "Nov",
          "product": "Tafia (pintes)",
          "product_quantity": 2420
         },
         {
          "destination": "Colchester",
          "month": "Déc",
          "product": "Tafia (pintes)",
          "product_quantity": 400
         },
         {
          "destination": "Colway",
          "month": "Juin",
          "product": "Tafia (pintes)",
          "product_quantity": 240
         },
         {
          "destination": "Cowes",
          "month": "Sep",
          "product": "Tafia (pintes)",
          "product_quantity": 240
         },
         {
          "destination": "Deal",
          "month": "Jan",
          "product": "Tafia (pintes)",
          "product_quantity": 1740
         },
         {
          "destination": "Deal",
          "month": "Fév",
          "product": "Tafia (pintes)",
          "product_quantity": 5140
         },
         {
          "destination": "Deal",
          "month": "Mar",
          "product": "Tafia (pintes)",
          "product_quantity": 2420
         },
         {
          "destination": "Deal",
          "month": "Avr",
          "product": "Tafia (pintes)",
          "product_quantity": 4620
         },
         {
          "destination": "Deal",
          "month": "Mai",
          "product": "Tafia (pintes)",
          "product_quantity": 1200
         },
         {
          "destination": "Deal",
          "month": "Juin",
          "product": "Tafia (pintes)",
          "product_quantity": 2500
         },
         {
          "destination": "Deal",
          "month": "Juil",
          "product": "Tafia (pintes)",
          "product_quantity": 3540
         },
         {
          "destination": "Deal",
          "month": "Août",
          "product": "Tafia (pintes)",
          "product_quantity": 4060
         },
         {
          "destination": "Deal",
          "month": "Sep",
          "product": "Tafia (pintes)",
          "product_quantity": 2180
         },
         {
          "destination": "Deal",
          "month": "Oct",
          "product": "Tafia (pintes)",
          "product_quantity": 1980
         },
         {
          "destination": "Deal",
          "month": "Nov",
          "product": "Tafia (pintes)",
          "product_quantity": 4140
         },
         {
          "destination": "Deal",
          "month": "Déc",
          "product": "Tafia (pintes)",
          "product_quantity": 4880
         },
         {
          "destination": "Douvres",
          "month": "Jan",
          "product": "Tafia (pintes)",
          "product_quantity": 1160
         },
         {
          "destination": "Douvres",
          "month": "Fév",
          "product": "Tafia (pintes)",
          "product_quantity": 700
         },
         {
          "destination": "Douvres",
          "month": "Mar",
          "product": "Tafia (pintes)",
          "product_quantity": 440
         },
         {
          "destination": "Douvres",
          "month": "Avr",
          "product": "Tafia (pintes)",
          "product_quantity": 2180
         },
         {
          "destination": "Douvres",
          "month": "Mai",
          "product": "Tafia (pintes)",
          "product_quantity": 2320
         },
         {
          "destination": "Douvres",
          "month": "Juin",
          "product": "Tafia (pintes)",
          "product_quantity": 1400
         },
         {
          "destination": "Douvres",
          "month": "Juil",
          "product": "Tafia (pintes)",
          "product_quantity": 1440
         },
         {
          "destination": "Douvres",
          "month": "Août",
          "product": "Tafia (pintes)",
          "product_quantity": 620
         },
         {
          "destination": "Douvres",
          "month": "Sep",
          "product": "Tafia (pintes)",
          "product_quantity": 3620
         },
         {
          "destination": "Douvres",
          "month": "Oct",
          "product": "Tafia (pintes)",
          "product_quantity": 5520
         },
         {
          "destination": "Douvres",
          "month": "Nov",
          "product": "Tafia (pintes)",
          "product_quantity": 7960
         },
         {
          "destination": "Douvres",
          "month": "Déc",
          "product": "Tafia (pintes)",
          "product_quantity": 6900
         },
         {
          "destination": "Dungeness",
          "month": "Jan",
          "product": "Tafia (pintes)",
          "product_quantity": 5000
         },
         {
          "destination": "Dungeness",
          "month": "Fév",
          "product": "Tafia (pintes)",
          "product_quantity": 160
         },
         {
          "destination": "Dungeness",
          "month": "Avr",
          "product": "Tafia (pintes)",
          "product_quantity": 2420
         },
         {
          "destination": "Dungeness",
          "month": "Mai",
          "product": "Tafia (pintes)",
          "product_quantity": 2400
         },
         {
          "destination": "Dungeness",
          "month": "Juin",
          "product": "Tafia (pintes)",
          "product_quantity": 120
         },
         {
          "destination": "Dungeness",
          "month": "Juil",
          "product": "Tafia (pintes)",
          "product_quantity": 110
         },
         {
          "destination": "Dungeness",
          "month": "Août",
          "product": "Tafia (pintes)",
          "product_quantity": 4200
         },
         {
          "destination": "Dungeness",
          "month": "Sep",
          "product": "Tafia (pintes)",
          "product_quantity": 1900
         },
         {
          "destination": "Dungeness",
          "month": "Oct",
          "product": "Tafia (pintes)",
          "product_quantity": 2100
         },
         {
          "destination": "Dungeness",
          "month": "Déc",
          "product": "Tafia (pintes)",
          "product_quantity": 300
         },
         {
          "destination": "Dymchurch",
          "month": "Fév",
          "product": "Tafia (pintes)",
          "product_quantity": 780
         },
         {
          "destination": "Dymchurch",
          "month": "Mar",
          "product": "Tafia (pintes)",
          "product_quantity": 1200
         },
         {
          "destination": "Dymchurch",
          "month": "Juin",
          "product": "Tafia (pintes)",
          "product_quantity": 1360
         },
         {
          "destination": "Folkstone",
          "month": "Jan",
          "product": "Tafia (pintes)",
          "product_quantity": 6700
         },
         {
          "destination": "Folkstone",
          "month": "Fév",
          "product": "Tafia (pintes)",
          "product_quantity": 2760
         },
         {
          "destination": "Folkstone",
          "month": "Mar",
          "product": "Tafia (pintes)",
          "product_quantity": 4080
         },
         {
          "destination": "Folkstone",
          "month": "Avr",
          "product": "Tafia (pintes)",
          "product_quantity": 100
         },
         {
          "destination": "Folkstone",
          "month": "Mai",
          "product": "Tafia (pintes)",
          "product_quantity": 7460
         },
         {
          "destination": "Folkstone",
          "month": "Juin",
          "product": "Tafia (pintes)",
          "product_quantity": 1600
         },
         {
          "destination": "Folkstone",
          "month": "Juil",
          "product": "Tafia (pintes)",
          "product_quantity": 1500
         },
         {
          "destination": "Folkstone",
          "month": "Août",
          "product": "Tafia (pintes)",
          "product_quantity": 1000
         },
         {
          "destination": "Folkstone",
          "month": "Sep",
          "product": "Tafia (pintes)",
          "product_quantity": 1000
         },
         {
          "destination": "Folkstone",
          "month": "Oct",
          "product": "Tafia (pintes)",
          "product_quantity": 200
         },
         {
          "destination": "Folkstone",
          "month": "Nov",
          "product": "Tafia (pintes)",
          "product_quantity": 600
         },
         {
          "destination": "Folkstone",
          "month": "Déc",
          "product": "Tafia (pintes)",
          "product_quantity": 160
         },
         {
          "destination": "Falmouth",
          "month": "Juin",
          "product": "Tafia (pintes)",
          "product_quantity": 920
         },
         {
          "destination": "Feversham",
          "month": "Jan",
          "product": "Tafia (pintes)",
          "product_quantity": 1060
         },
         {
          "destination": "Feversham",
          "month": "Fév",
          "product": "Tafia (pintes)",
          "product_quantity": 2020
         },
         {
          "destination": "Feversham",
          "month": "Mar",
          "product": "Tafia (pintes)",
          "product_quantity": 40
         },
         {
          "destination": "Feversham",
          "month": "Avr",
          "product": "Tafia (pintes)",
          "product_quantity": 1220
         },
         {
          "destination": "Feversham",
          "month": "Mai",
          "product": "Tafia (pintes)",
          "product_quantity": 200
         },
         {
          "destination": "Feversham",
          "month": "Juin",
          "product": "Tafia (pintes)",
          "product_quantity": 1380
         },
         {
          "destination": "Feversham",
          "month": "Juil",
          "product": "Tafia (pintes)",
          "product_quantity": 1000
         },
         {
          "destination": "Feversham",
          "month": "Août",
          "product": "Tafia (pintes)",
          "product_quantity": 2960
         },
         {
          "destination": "Feversham",
          "month": "Sep",
          "product": "Tafia (pintes)",
          "product_quantity": 4120
         },
         {
          "destination": "Feversham",
          "month": "Oct",
          "product": "Tafia (pintes)",
          "product_quantity": 340
         },
         {
          "destination": "Feversham",
          "month": "Nov",
          "product": "Tafia (pintes)",
          "product_quantity": 1520
         },
         {
          "destination": "Feversham",
          "month": "Déc",
          "product": "Tafia (pintes)",
          "product_quantity": 1060
         },
         {
          "destination": "Guernezé",
          "month": "Avr",
          "product": "Tafia (pintes)",
          "product_quantity": 2000
         },
         {
          "destination": "Guernezé",
          "month": "Déc",
          "product": "Tafia (pintes)",
          "product_quantity": 800
         },
         {
          "destination": "Harwich",
          "month": "Avr",
          "product": "Tafia (pintes)",
          "product_quantity": 200
         },
         {
          "destination": "Harwich",
          "month": "Juil",
          "product": "Tafia (pintes)",
          "product_quantity": 400
         },
         {
          "destination": "Harwich",
          "month": "Août",
          "product": "Tafia (pintes)",
          "product_quantity": 100
         },
         {
          "destination": "Harwich",
          "month": "Sep",
          "product": "Tafia (pintes)",
          "product_quantity": 20
         },
         {
          "destination": "Harwich",
          "month": "Oct",
          "product": "Tafia (pintes)",
          "product_quantity": 400
         },
         {
          "destination": "Hastings",
          "month": "Jan",
          "product": "Tafia (pintes)",
          "product_quantity": 8400
         },
         {
          "destination": "Hastings",
          "month": "Fév",
          "product": "Tafia (pintes)",
          "product_quantity": 1000
         },
         {
          "destination": "Hastings",
          "month": "Mar",
          "product": "Tafia (pintes)",
          "product_quantity": 2240
         },
         {
          "destination": "Hastings",
          "month": "Avr",
          "product": "Tafia (pintes)",
          "product_quantity": 6460
         },
         {
          "destination": "Hastings",
          "month": "Mai",
          "product": "Tafia (pintes)",
          "product_quantity": 200
         },
         {
          "destination": "Hastings",
          "month": "Juin",
          "product": "Tafia (pintes)",
          "product_quantity": 7020
         },
         {
          "destination": "Hastings",
          "month": "Juil",
          "product": "Tafia (pintes)",
          "product_quantity": 4000
         },
         {
          "destination": "Hastings",
          "month": "Août",
          "product": "Tafia (pintes)",
          "product_quantity": 240
         },
         {
          "destination": "Hastings",
          "month": "Sep",
          "product": "Tafia (pintes)",
          "product_quantity": 3800
         },
         {
          "destination": "Hastings",
          "month": "Oct",
          "product": "Tafia (pintes)",
          "product_quantity": 7340
         },
         {
          "destination": "Hastings",
          "month": "Nov",
          "product": "Tafia (pintes)",
          "product_quantity": 7660
         },
         {
          "destination": "Hastings",
          "month": "Déc",
          "product": "Tafia (pintes)",
          "product_quantity": 1530
         },
         {
          "destination": "Hythe",
          "month": "Fév",
          "product": "Tafia (pintes)",
          "product_quantity": 26
         },
         {
          "destination": "Hythe",
          "month": "Mar",
          "product": "Tafia (pintes)",
          "product_quantity": 240
         },
         {
          "destination": "Ipswich",
          "month": "Juin",
          "product": "Tafia (pintes)",
          "product_quantity": 80
         },
         {
          "destination": "Landeley",
          "month": "Juil",
          "product": "Tafia (pintes)",
          "product_quantity": 200
         },
         {
          "destination": "Lee",
          "month": "Jan",
          "product": "Tafia (pintes)",
          "product_quantity": 620
         },
         {
          "destination": "Lee",
          "month": "Mar",
          "product": "Tafia (pintes)",
          "product_quantity": 200
         },
         {
          "destination": "Lee",
          "month": "Avr",
          "product": "Tafia (pintes)",
          "product_quantity": 400
         },
         {
          "destination": "Lee",
          "month": "Mai",
          "product": "Tafia (pintes)",
          "product_quantity": 4220
         },
         {
          "destination": "Lee",
          "month": "Juin",
          "product": "Tafia (pintes)",
          "product_quantity": 780
         },
         {
          "destination": "Lee",
          "month": "Juil",
          "product": "Tafia (pintes)",
          "product_quantity": 120
         },
         {
          "destination": "Lee",
          "month": "Août",
          "product": "Tafia (pintes)",
          "product_quantity": 2940
         },
         {
          "destination": "Lee",
          "month": "Sep",
          "product": "Tafia (pintes)",
          "product_quantity": 160
         },
         {
          "destination": "Lee",
          "month": "Oct",
          "product": "Tafia (pintes)",
          "product_quantity": 120
         },
         {
          "destination": "Lee",
          "month": "Nov",
          "product": "Tafia (pintes)",
          "product_quantity": 340
         },
         {
          "destination": "Lee",
          "month": "Déc",
          "product": "Tafia (pintes)",
          "product_quantity": 280
         },
         {
          "destination": "Leith",
          "month": "Oct",
          "product": "Tafia (pintes)",
          "product_quantity": 2400
         },
         {
          "destination": "Londres",
          "month": "Mar",
          "product": "Tafia (pintes)",
          "product_quantity": 20
         },
         {
          "destination": "Lynn",
          "month": "Mai",
          "product": "Tafia (pintes)",
          "product_quantity": 200
         },
         {
          "destination": "Lynn",
          "month": "Août",
          "product": "Tafia (pintes)",
          "product_quantity": 2380
         },
         {
          "destination": "Lydd",
          "month": "Fév",
          "product": "Tafia (pintes)",
          "product_quantity": 200
         },
         {
          "destination": "Lydd",
          "month": "Avr",
          "product": "Tafia (pintes)",
          "product_quantity": 720
         },
         {
          "destination": "Lydd",
          "month": "Mai",
          "product": "Tafia (pintes)",
          "product_quantity": 120
         },
         {
          "destination": "Lydd",
          "month": "Juil",
          "product": "Tafia (pintes)",
          "product_quantity": 1800
         },
         {
          "destination": "Malden",
          "month": "Jan",
          "product": "Tafia (pintes)",
          "product_quantity": 1300
         },
         {
          "destination": "Malden",
          "month": "Fév",
          "product": "Tafia (pintes)",
          "product_quantity": 1940
         },
         {
          "destination": "Malden",
          "month": "Mar",
          "product": "Tafia (pintes)",
          "product_quantity": 960
         },
         {
          "destination": "Malden",
          "month": "Avr",
          "product": "Tafia (pintes)",
          "product_quantity": 2780
         },
         {
          "destination": "Malden",
          "month": "Mai",
          "product": "Tafia (pintes)",
          "product_quantity": 620
         },
         {
          "destination": "Malden",
          "month": "Juin",
          "product": "Tafia (pintes)",
          "product_quantity": 1000
         },
         {
          "destination": "Malden",
          "month": "Juil",
          "product": "Tafia (pintes)",
          "product_quantity": 320
         },
         {
          "destination": "Malden",
          "month": "Août",
          "product": "Tafia (pintes)",
          "product_quantity": 1700
         },
         {
          "destination": "Malden",
          "month": "Sep",
          "product": "Tafia (pintes)",
          "product_quantity": 280
         },
         {
          "destination": "Malden",
          "month": "Oct",
          "product": "Tafia (pintes)",
          "product_quantity": 460
         },
         {
          "destination": "Malden",
          "month": "Nov",
          "product": "Tafia (pintes)",
          "product_quantity": 2620
         },
         {
          "destination": "Malden",
          "month": "Déc",
          "product": "Tafia (pintes)",
          "product_quantity": 840
         },
         {
          "destination": "Margate",
          "month": "Jan",
          "product": "Tafia (pintes)",
          "product_quantity": 400
         },
         {
          "destination": "Margate",
          "month": "Mar",
          "product": "Tafia (pintes)",
          "product_quantity": 1080
         },
         {
          "destination": "Margate",
          "month": "Avr",
          "product": "Tafia (pintes)",
          "product_quantity": 1220
         },
         {
          "destination": "Margate",
          "month": "Mai",
          "product": "Tafia (pintes)",
          "product_quantity": 280
         },
         {
          "destination": "Margate",
          "month": "Août",
          "product": "Tafia (pintes)",
          "product_quantity": 200
         },
         {
          "destination": "Margate",
          "month": "Oct",
          "product": "Tafia (pintes)",
          "product_quantity": 100
         },
         {
          "destination": "Margate",
          "month": "Déc",
          "product": "Tafia (pintes)",
          "product_quantity": 300
         },
         {
          "destination": "Milton",
          "month": "Août",
          "product": "Tafia (pintes)",
          "product_quantity": 80
         },
         {
          "destination": "Pegwell",
          "month": "Jan",
          "product": "Tafia (pintes)",
          "product_quantity": 400
         },
         {
          "destination": "Pegwell",
          "month": "Mar",
          "product": "Tafia (pintes)",
          "product_quantity": 400
         },
         {
          "destination": "Pegwell",
          "month": "Avr",
          "product": "Tafia (pintes)",
          "product_quantity": 200
         },
         {
          "destination": "Pegwell",
          "month": "Juin",
          "product": "Tafia (pintes)",
          "product_quantity": 900
         },
         {
          "destination": "Pegwell",
          "month": "Août",
          "product": "Tafia (pintes)",
          "product_quantity": 200
         },
         {
          "destination": "Reculver",
          "month": "Juin",
          "product": "Tafia (pintes)",
          "product_quantity": 200
         },
         {
          "destination": "Reculver",
          "month": "Juil",
          "product": "Tafia (pintes)",
          "product_quantity": 380
         },
         {
          "destination": "Reculver",
          "month": "Sep",
          "product": "Tafia (pintes)",
          "product_quantity": 200
         },
         {
          "destination": "Reculver",
          "month": "Nov",
          "product": "Tafia (pintes)",
          "product_quantity": 400
         },
         {
          "destination": "Rochester",
          "month": "Jan",
          "product": "Tafia (pintes)",
          "product_quantity": 40
         },
         {
          "destination": "Rochester",
          "month": "Fév",
          "product": "Tafia (pintes)",
          "product_quantity": 200
         },
         {
          "destination": "Rochester",
          "month": "Mar",
          "product": "Tafia (pintes)",
          "product_quantity": 2140
         },
         {
          "destination": "Rochester",
          "month": "Oct",
          "product": "Tafia (pintes)",
          "product_quantity": 240
         },
         {
          "destination": "Rye",
          "month": "Fév",
          "product": "Tafia (pintes)",
          "product_quantity": 2550
         },
         {
          "destination": "Rye",
          "month": "Avr",
          "product": "Tafia (pintes)",
          "product_quantity": 3280
         },
         {
          "destination": "Rye",
          "month": "Mai",
          "product": "Tafia (pintes)",
          "product_quantity": 3300
         },
         {
          "destination": "Rye",
          "month": "Juin",
          "product": "Tafia (pintes)",
          "product_quantity": 860
         },
         {
          "destination": "Rye",
          "month": "Juil",
          "product": "Tafia (pintes)",
          "product_quantity": 800
         },
         {
          "destination": "Rye",
          "month": "Août",
          "product": "Tafia (pintes)",
          "product_quantity": 900
         },
         {
          "destination": "Rye",
          "month": "Sep",
          "product": "Tafia (pintes)",
          "product_quantity": 1120
         },
         {
          "destination": "Rye",
          "month": "Nov",
          "product": "Tafia (pintes)",
          "product_quantity": 860
         },
         {
          "destination": "Rye",
          "month": "Déc",
          "product": "Tafia (pintes)",
          "product_quantity": 720
         },
         {
          "destination": "Seasalter",
          "month": "Nov",
          "product": "Tafia (pintes)",
          "product_quantity": 180
         },
         {
          "destination": "Southwould",
          "month": "Juil",
          "product": "Tafia (pintes)",
          "product_quantity": 700
         },
         {
          "destination": "Whistable",
          "month": "Jan",
          "product": "Tafia (pintes)",
          "product_quantity": 1460
         },
         {
          "destination": "Whistable",
          "month": "Fév",
          "product": "Tafia (pintes)",
          "product_quantity": 780
         },
         {
          "destination": "Whistable",
          "month": "Mar",
          "product": "Tafia (pintes)",
          "product_quantity": 760
         },
         {
          "destination": "Whistable",
          "month": "Avr",
          "product": "Tafia (pintes)",
          "product_quantity": 720
         },
         {
          "destination": "Whistable",
          "month": "Juin",
          "product": "Tafia (pintes)",
          "product_quantity": 1640
         },
         {
          "destination": "Whistable",
          "month": "Juil",
          "product": "Tafia (pintes)",
          "product_quantity": 1160
         },
         {
          "destination": "Whistable",
          "month": "Août",
          "product": "Tafia (pintes)",
          "product_quantity": 1401
         },
         {
          "destination": "Whistable",
          "month": "Sep",
          "product": "Tafia (pintes)",
          "product_quantity": 520
         },
         {
          "destination": "Whistable",
          "month": "Oct",
          "product": "Tafia (pintes)",
          "product_quantity": 740
         },
         {
          "destination": "Whistable",
          "month": "Nov",
          "product": "Tafia (pintes)",
          "product_quantity": 760
         },
         {
          "destination": "Whistable",
          "month": "Déc",
          "product": "Tafia (pintes)",
          "product_quantity": 2100
         },
         {
          "destination": "Winchelsea",
          "month": "Août",
          "product": "Tafia (pintes)",
          "product_quantity": 1880
         },
         {
          "destination": "Wivenhoe",
          "month": "Jan",
          "product": "Tafia (pintes)",
          "product_quantity": 600
         },
         {
          "destination": "Wivenhoe",
          "month": "Fév",
          "product": "Tafia (pintes)",
          "product_quantity": 920
         },
         {
          "destination": "Wivenhoe",
          "month": "Avr",
          "product": "Tafia (pintes)",
          "product_quantity": 160
         },
         {
          "destination": "Woodbridge",
          "month": "Avr",
          "product": "Tafia (pintes)",
          "product_quantity": 400
         },
         {
          "destination": "Woodbridge",
          "month": "Mai",
          "product": "Tafia (pintes)",
          "product_quantity": 400
         },
         {
          "destination": "Yarmouth",
          "month": "Jan",
          "product": "Tafia (pintes)",
          "product_quantity": 200
         },
         {
          "destination": "Yarmouth",
          "month": "Mar",
          "product": "Tafia (pintes)",
          "product_quantity": 300
         },
         {
          "destination": "Yarmouth",
          "month": "Juil",
          "product": "Tafia (pintes)",
          "product_quantity": 200
         },
         {
          "destination": "Yarmouth",
          "month": "Août",
          "product": "Tafia (pintes)",
          "product_quantity": 200
         },
         {
          "destination": "Yarmouth",
          "month": "Sep",
          "product": "Tafia (pintes)",
          "product_quantity": 600
         },
         {
          "destination": "Yarmouth",
          "month": "Oct",
          "product": "Tafia (pintes)",
          "product_quantity": 340
         },
         {
          "destination": "Yarmouth",
          "month": "Déc",
          "product": "Tafia (pintes)",
          "product_quantity": 200
         },
         {
          "destination": "Aberdeen",
          "month": "Fév",
          "product": "Thé (lt)",
          "product_quantity": 800
         },
         {
          "destination": "Aberdeen",
          "month": "Juil",
          "product": "Thé (lt)",
          "product_quantity": 400
         },
         {
          "destination": "Burnham",
          "month": "Sep",
          "product": "Thé (lt)",
          "product_quantity": 50
         },
         {
          "destination": "Colchester",
          "month": "Avr",
          "product": "Thé (lt)",
          "product_quantity": 550
         },
         {
          "destination": "Colchester",
          "month": "Sep",
          "product": "Thé (lt)",
          "product_quantity": 50
         },
         {
          "destination": "Deal",
          "month": "Jan",
          "product": "Thé (lt)",
          "product_quantity": 1010
         },
         {
          "destination": "Deal",
          "month": "Fév",
          "product": "Thé (lt)",
          "product_quantity": 850
         },
         {
          "destination": "Deal",
          "month": "Avr",
          "product": "Thé (lt)",
          "product_quantity": 3950
         },
         {
          "destination": "Deal",
          "month": "Mai",
          "product": "Thé (lt)",
          "product_quantity": 50
         },
         {
          "destination": "Deal",
          "month": "Juin",
          "product": "Thé (lt)",
          "product_quantity": 1810
         },
         {
          "destination": "Deal",
          "month": "Juil",
          "product": "Thé (lt)",
          "product_quantity": 1050
         },
         {
          "destination": "Deal",
          "month": "Sep",
          "product": "Thé (lt)",
          "product_quantity": 6100
         },
         {
          "destination": "Deal",
          "month": "Oct",
          "product": "Thé (lt)",
          "product_quantity": 2270
         },
         {
          "destination": "Deal",
          "month": "Nov",
          "product": "Thé (lt)",
          "product_quantity": 1040
         },
         {
          "destination": "Deal",
          "month": "Déc",
          "product": "Thé (lt)",
          "product_quantity": 10190
         },
         {
          "destination": "Douvres",
          "month": "Jan",
          "product": "Thé (lt)",
          "product_quantity": 300
         },
         {
          "destination": "Douvres",
          "month": "Sep",
          "product": "Thé (lt)",
          "product_quantity": 28
         },
         {
          "destination": "Douvres",
          "month": "Oct",
          "product": "Thé (lt)",
          "product_quantity": 60
         },
         {
          "destination": "Dungeness",
          "month": "Jan",
          "product": "Thé (lt)",
          "product_quantity": 2200
         },
         {
          "destination": "Dungeness",
          "month": "Fév",
          "product": "Thé (lt)",
          "product_quantity": 400
         },
         {
          "destination": "Dungeness",
          "month": "Août",
          "product": "Thé (lt)",
          "product_quantity": 500
         },
         {
          "destination": "Dungeness",
          "month": "Sep",
          "product": "Thé (lt)",
          "product_quantity": 400
         },
         {
          "destination": "Dungeness",
          "month": "Oct",
          "product": "Thé (lt)",
          "product_quantity": 600
         },
         {
          "destination": "Folkstone",
          "month": "Jan",
          "product": "Thé (lt)",
          "product_quantity": 3350
         },
         {
          "destination": "Folkstone",
          "month": "Fév",
          "product": "Thé (lt)",
          "product_quantity": 5260
         },
         {
          "destination": "Folkstone",
          "month": "Mar",
          "product": "Thé (lt)",
          "product_quantity": 3450
         },
         {
          "destination": "Folkstone",
          "month": "Avr",
          "product": "Thé (lt)",
          "product_quantity": 3640
         },
         {
          "destination": "Folkstone",
          "month": "Juin",
          "product": "Thé (lt)",
          "product_quantity": 300
         },
         {
          "destination": "Folkstone",
          "month": "Juil",
          "product": "Thé (lt)",
          "product_quantity": 1800
         },
         {
          "destination": "Folkstone",
          "month": "Août",
          "product": "Thé (lt)",
          "product_quantity": 80
         },
         {
          "destination": "Folkstone",
          "month": "Sep",
          "product": "Thé (lt)",
          "product_quantity": 1028
         },
         {
          "destination": "Folkstone",
          "month": "Oct",
          "product": "Thé (lt)",
          "product_quantity": 1075
         },
         {
          "destination": "Feversham",
          "month": "Fév",
          "product": "Thé (lt)",
          "product_quantity": 150
         },
         {
          "destination": "Feversham",
          "month": "Juil",
          "product": "Thé (lt)",
          "product_quantity": 100
         },
         {
          "destination": "Feversham",
          "month": "Sep",
          "product": "Thé (lt)",
          "product_quantity": 100
         },
         {
          "destination": "Feversham",
          "month": "Nov",
          "product": "Thé (lt)",
          "product_quantity": 1300
         },
         {
          "destination": "Guernezé",
          "month": "Déc",
          "product": "Thé (lt)",
          "product_quantity": 840
         },
         {
          "destination": "Harwich",
          "month": "Sep",
          "product": "Thé (lt)",
          "product_quantity": 10
         },
         {
          "destination": "Hastings",
          "month": "Jan",
          "product": "Thé (lt)",
          "product_quantity": 2044
         },
         {
          "destination": "Hastings",
          "month": "Fév",
          "product": "Thé (lt)",
          "product_quantity": 360
         },
         {
          "destination": "Hastings",
          "month": "Mai",
          "product": "Thé (lt)",
          "product_quantity": 700
         },
         {
          "destination": "Hastings",
          "month": "Juin",
          "product": "Thé (lt)",
          "product_quantity": 200
         },
         {
          "destination": "Hastings",
          "month": "Nov",
          "product": "Thé (lt)",
          "product_quantity": 800
         },
         {
          "destination": "Hastings",
          "month": "Déc",
          "product": "Thé (lt)",
          "product_quantity": 1530
         },
         {
          "destination": "Lee",
          "month": "Mai",
          "product": "Thé (lt)",
          "product_quantity": 120
         },
         {
          "destination": "Lydd",
          "month": "Fév",
          "product": "Thé (lt)",
          "product_quantity": 625
         },
         {
          "destination": "Lydd",
          "month": "Juil",
          "product": "Thé (lt)",
          "product_quantity": 600
         },
         {
          "destination": "Lynn",
          "month": "Jan",
          "product": "Thé (lt)",
          "product_quantity": 400
         },
         {
          "destination": "Maldon",
          "month": "Jan",
          "product": "Thé (lt)",
          "product_quantity": 2550
         },
         {
          "destination": "Rye",
          "month": "Fév",
          "product": "Thé (lt)",
          "product_quantity": 750
         },
         {
          "destination": "Rye",
          "month": "Nov",
          "product": "Thé (lt)",
          "product_quantity": 300
         },
         {
          "destination": "Reculver",
          "month": "Juin",
          "product": "Thé (lt)",
          "product_quantity": 280
         },
         {
          "destination": "Whistable",
          "month": "Sep",
          "product": "Thé (lt)",
          "product_quantity": 50
         },
         {
          "destination": "Aberdeen",
          "month": "Juil",
          "product": "Tabac (lt)",
          "product_quantity": 5000
         },
         {
          "destination": "Brightlandsea",
          "month": "Jan",
          "product": "Tabac (lt)",
          "product_quantity": 200
         },
         {
          "destination": "Burnham",
          "month": "Jan",
          "product": "Tabac (lt)",
          "product_quantity": 300
         },
         {
          "destination": "Burnham",
          "month": "Avr",
          "product": "Tabac (lt)",
          "product_quantity": 5000
         },
         {
          "destination": "Burnham",
          "month": "Mai",
          "product": "Tabac (lt)",
          "product_quantity": 500
         },
         {
          "destination": "Burnham",
          "month": "Août",
          "product": "Tabac (lt)",
          "product_quantity": 1500
         },
         {
          "destination": "Burnham",
          "month": "Oct",
          "product": "Tabac (lt)",
          "product_quantity": 6000
         },
         {
          "destination": "Burnham",
          "month": "Déc",
          "product": "Tabac (lt)",
          "product_quantity": 1000
         },
         {
          "destination": "Colchester",
          "month": "Jan",
          "product": "Tabac (lt)",
          "product_quantity": 3300
         },
         {
          "destination": "Colchester",
          "month": "Fév",
          "product": "Tabac (lt)",
          "product_quantity": 2000
         },
         {
          "destination": "Colchester",
          "month": "Avr",
          "product": "Tabac (lt)",
          "product_quantity": 1750
         },
         {
          "destination": "Colchester",
          "month": "Juin",
          "product": "Tabac (lt)",
          "product_quantity": 400
         },
         {
          "destination": "Colchester",
          "month": "Juil",
          "product": "Tabac (lt)",
          "product_quantity": 400
         },
         {
          "destination": "Colchester",
          "month": "Août",
          "product": "Tabac (lt)",
          "product_quantity": 300
         },
         {
          "destination": "Colchester",
          "month": "Sep",
          "product": "Tabac (lt)",
          "product_quantity": 400
         },
         {
          "destination": "Colchester",
          "month": "Oct",
          "product": "Tabac (lt)",
          "product_quantity": 100
         },
         {
          "destination": "Colchester",
          "month": "Nov",
          "product": "Tabac (lt)",
          "product_quantity": 200
         },
         {
          "destination": "Colchester",
          "month": "Déc",
          "product": "Tabac (lt)",
          "product_quantity": 4000
         },
         {
          "destination": "Deal",
          "month": "Jan",
          "product": "Tabac (lt)",
          "product_quantity": 800
         },
         {
          "destination": "Deal",
          "month": "Fév",
          "product": "Tabac (lt)",
          "product_quantity": 250
         },
         {
          "destination": "Deal",
          "month": "Mar",
          "product": "Tabac (lt)",
          "product_quantity": 250
         },
         {
          "destination": "Deal",
          "month": "Avr",
          "product": "Tabac (lt)",
          "product_quantity": 2800
         },
         {
          "destination": "Deal",
          "month": "Mai",
          "product": "Tabac (lt)",
          "product_quantity": 1150
         },
         {
          "destination": "Deal",
          "month": "Juin",
          "product": "Tabac (lt)",
          "product_quantity": 3240
         },
         {
          "destination": "Deal",
          "month": "Juil",
          "product": "Tabac (lt)",
          "product_quantity": 200
         },
         {
          "destination": "Deal",
          "month": "Août",
          "product": "Tabac (lt)",
          "product_quantity": 4700
         },
         {
          "destination": "Deal",
          "month": "Sep",
          "product": "Tabac (lt)",
          "product_quantity": 11200
         },
         {
          "destination": "Deal",
          "month": "Oct",
          "product": "Tabac (lt)",
          "product_quantity": 6100
         },
         {
          "destination": "Deal",
          "month": "Nov",
          "product": "Tabac (lt)",
          "product_quantity": 9400
         },
         {
          "destination": "Deal",
          "month": "Déc",
          "product": "Tabac (lt)",
          "product_quantity": 1495
         },
         {
          "destination": "Douvres",
          "month": "Jan",
          "product": "Tabac (lt)",
          "product_quantity": 1620
         },
         {
          "destination": "Douvres",
          "month": "Mar",
          "product": "Tabac (lt)",
          "product_quantity": 3500
         },
         {
          "destination": "Douvres",
          "month": "Avr",
          "product": "Tabac (lt)",
          "product_quantity": 2800
         },
         {
          "destination": "Douvres",
          "month": "Mai",
          "product": "Tabac (lt)",
          "product_quantity": 900
         },
         {
          "destination": "Douvres",
          "month": "Juin",
          "product": "Tabac (lt)",
          "product_quantity": 50
         },
         {
          "destination": "Douvres",
          "month": "Juil",
          "product": "Tabac (lt)",
          "product_quantity": 2900
         },
         {
          "destination": "Douvres",
          "month": "Août",
          "product": "Tabac (lt)",
          "product_quantity": 2120
         },
         {
          "destination": "Douvres",
          "month": "Sep",
          "product": "Tabac (lt)",
          "product_quantity": 4600
         },
         {
          "destination": "Douvres",
          "month": "Oct",
          "product": "Tabac (lt)",
          "product_quantity": 4400
         },
         {
          "destination": "Douvres",
          "month": "Nov",
          "product": "Tabac (lt)",
          "product_quantity": 6500
         },
         {
          "destination": "Dungeness",
          "month": "Jan",
          "product": "Tabac (lt)",
          "product_quantity": 400
         },
         {
          "destination": "Dungeness",
          "month": "Fév",
          "product": "Tabac (lt)",
          "product_quantity": 1000
         },
         {
          "destination": "Dungeness",
          "month": "Avr",
          "product": "Tabac (lt)",
          "product_quantity": 4000
         },
         {
          "destination": "Dungeness",
          "month": "Mai",
          "product": "Tabac (lt)",
          "product_quantity": 2400
         },
         {
          "destination": "Dungeness",
          "month": "Août",
          "product": "Tabac (lt)",
          "product_quantity": 4000
         },
         {
          "destination": "Dungeness",
          "month": "Sep",
          "product": "Tabac (lt)",
          "product_quantity": 4600
         },
         {
          "destination": "Dungeness",
          "month": "Oct",
          "product": "Tabac (lt)",
          "product_quantity": 4800
         },
         {
          "destination": "Falmouth",
          "month": "Juin",
          "product": "Tabac (lt)",
          "product_quantity": 800
         },
         {
          "destination": "Feversham",
          "month": "Sep",
          "product": "Tabac (lt)",
          "product_quantity": 400
         },
         {
          "destination": "Feversham",
          "month": "Déc",
          "product": "Tabac (lt)",
          "product_quantity": 4300
         },
         {
          "destination": "Folkstone",
          "month": "Jan",
          "product": "Tabac (lt)",
          "product_quantity": 4690
         },
         {
          "destination": "Folkstone",
          "month": "Fév",
          "product": "Tabac (lt)",
          "product_quantity": 3400
         },
         {
          "destination": "Folkstone",
          "month": "Mar",
          "product": "Tabac (lt)",
          "product_quantity": 15200
         },
         {
          "destination": "Folkstone",
          "month": "Mai",
          "product": "Tabac (lt)",
          "product_quantity": 5600
         },
         {
          "destination": "Folkstone",
          "month": "Juin",
          "product": "Tabac (lt)",
          "product_quantity": 5000
         },
         {
          "destination": "Folkstone",
          "month": "Juil",
          "product": "Tabac (lt)",
          "product_quantity": 2800
         },
         {
          "destination": "Folkstone",
          "month": "Août",
          "product": "Tabac (lt)",
          "product_quantity": 7200
         },
         {
          "destination": "Folkstone",
          "month": "Oct",
          "product": "Tabac (lt)",
          "product_quantity": 1200
         },
         {
          "destination": "Guernezé",
          "month": "Déc",
          "product": "Tabac (lt)",
          "product_quantity": 48700
         },
         {
          "destination": "Harwich",
          "month": "Fév",
          "product": "Tabac (lt)",
          "product_quantity": 100
         },
         {
          "destination": "Harwich",
          "month": "Sep",
          "product": "Tabac (lt)",
          "product_quantity": 50
         },
         {
          "destination": "Hastings",
          "month": "Jan",
          "product": "Tabac (lt)",
          "product_quantity": 3700
         },
         {
          "destination": "Hastings",
          "month": "Avr",
          "product": "Tabac (lt)",
          "product_quantity": 2900
         },
         {
          "destination": "Hastings",
          "month": "Mai",
          "product": "Tabac (lt)",
          "product_quantity": 800
         },
         {
          "destination": "Hastings",
          "month": "Juin",
          "product": "Tabac (lt)",
          "product_quantity": 3000
         },
         {
          "destination": "Hastings",
          "month": "Juil",
          "product": "Tabac (lt)",
          "product_quantity": 4000
         },
         {
          "destination": "Hastings",
          "month": "Sep",
          "product": "Tabac (lt)",
          "product_quantity": 900
         },
         {
          "destination": "Hastings",
          "month": "Nov",
          "product": "Tabac (lt)",
          "product_quantity": 11460
         },
         {
          "destination": "Hastings",
          "month": "Déc",
          "product": "Tabac (lt)",
          "product_quantity": 33600
         },
         {
          "destination": "Lee",
          "month": "Jan",
          "product": "Tabac (lt)",
          "product_quantity": 100
         },
         {
          "destination": "Lee",
          "month": "Avr",
          "product": "Tabac (lt)",
          "product_quantity": 300
         },
         {
          "destination": "Lee",
          "month": "Mai",
          "product": "Tabac (lt)",
          "product_quantity": 3400
         },
         {
          "destination": "Lee",
          "month": "Juin",
          "product": "Tabac (lt)",
          "product_quantity": 4000
         },
         {
          "destination": "Lee",
          "month": "Août",
          "product": "Tabac (lt)",
          "product_quantity": 3000
         },
         {
          "destination": "Lee",
          "month": "Sep",
          "product": "Tabac (lt)",
          "product_quantity": 200
         },
         {
          "destination": "Lee",
          "month": "Oct",
          "product": "Tabac (lt)",
          "product_quantity": 60
         },
         {
          "destination": "Lee",
          "month": "Nov",
          "product": "Tabac (lt)",
          "product_quantity": 200
         },
         {
          "destination": "Lee",
          "month": "Déc",
          "product": "Tabac (lt)",
          "product_quantity": 8000
         },
         {
          "destination": "Leith",
          "month": "Oct",
          "product": "Tabac (lt)",
          "product_quantity": 11800
         },
         {
          "destination": "Lydd",
          "month": "Fév",
          "product": "Tabac (lt)",
          "product_quantity": 5600
         },
         {
          "destination": "Lydd",
          "month": "Juil",
          "product": "Tabac (lt)",
          "product_quantity": 1600
         },
         {
          "destination": "Maldon",
          "month": "Jan",
          "product": "Tabac (lt)",
          "product_quantity": 200
         },
         {
          "destination": "Maldon",
          "month": "Avr",
          "product": "Tabac (lt)",
          "product_quantity": 6000
         },
         {
          "destination": "Maldon",
          "month": "Sep",
          "product": "Tabac (lt)",
          "product_quantity": 4000
         },
         {
          "destination": "Maldon",
          "month": "Oct",
          "product": "Tabac (lt)",
          "product_quantity": 4500
         },
         {
          "destination": "Maldon",
          "month": "Nov",
          "product": "Tabac (lt)",
          "product_quantity": 3500
         },
         {
          "destination": "Maldon",
          "month": "Déc",
          "product": "Tabac (lt)",
          "product_quantity": 4000
         },
         {
          "destination": "Margate",
          "month": "Mar",
          "product": "Tabac (lt)",
          "product_quantity": 400
         },
         {
          "destination": "Margate",
          "month": "Avr",
          "product": "Tabac (lt)",
          "product_quantity": 150
         },
         {
          "destination": "Pegwell",
          "month": "Jan",
          "product": "Tabac (lt)",
          "product_quantity": 2000
         },
         {
          "destination": "Pegwell",
          "month": "Fév",
          "product": "Tabac (lt)",
          "product_quantity": 2400
         },
         {
          "destination": "Pegwell",
          "month": "Avr",
          "product": "Tabac (lt)",
          "product_quantity": 1000
         },
         {
          "destination": "Pegwell",
          "month": "Juin",
          "product": "Tabac (lt)",
          "product_quantity": 2000
         },
         {
          "destination": "Pegwell",
          "month": "Août",
          "product": "Tabac (lt)",
          "product_quantity": 1000
         },
         {
          "destination": "Reculver",
          "month": "Juin",
          "product": "Tabac (lt)",
          "product_quantity": 500
         },
         {
          "destination": "Ramsay",
          "month": "Juil",
          "product": "Tabac (lt)",
          "product_quantity": 400
         },
         {
          "destination": "Rye",
          "month": "Fév",
          "product": "Tabac (lt)",
          "product_quantity": 1800
         },
         {
          "destination": "Rye",
          "month": "Avr",
          "product": "Tabac (lt)",
          "product_quantity": 1600
         },
         {
          "destination": "Rye",
          "month": "Mai",
          "product": "Tabac (lt)",
          "product_quantity": 2300
         },
         {
          "destination": "Rye",
          "month": "Juin",
          "product": "Tabac (lt)",
          "product_quantity": 2080
         },
         {
          "destination": "Rye",
          "month": "Juil",
          "product": "Tabac (lt)",
          "product_quantity": 800
         },
         {
          "destination": "Rye",
          "month": "Août",
          "product": "Tabac (lt)",
          "product_quantity": 1440
         },
         {
          "destination": "Rye",
          "month": "Sep",
          "product": "Tabac (lt)",
          "product_quantity": 1210
         },
         {
          "destination": "Rye",
          "month": "Nov",
          "product": "Tabac (lt)",
          "product_quantity": 6100
         },
         {
          "destination": "Whistable",
          "month": "Jan",
          "product": "Tabac (lt)",
          "product_quantity": 25
         },
         {
          "destination": "Whistable",
          "month": "Mar",
          "product": "Tabac (lt)",
          "product_quantity": 120
         },
         {
          "destination": "Whistable",
          "month": "Juil",
          "product": "Tabac (lt)",
          "product_quantity": 880
         },
         {
          "destination": "Whistable",
          "month": "Août",
          "product": "Tabac (lt)",
          "product_quantity": 500
         },
         {
          "destination": "Whistable",
          "month": "Sep",
          "product": "Tabac (lt)",
          "product_quantity": 300
         },
         {
          "destination": "Winchelsea",
          "month": "Août",
          "product": "Tabac (lt)",
          "product_quantity": 1200
         },
         {
          "destination": "Woudbridge",
          "month": "Avr",
          "product": "Tabac (lt)",
          "product_quantity": 2000
         },
         {
          "destination": "Yarmouth",
          "month": "Août",
          "product": "Tabac (lt)",
          "product_quantity": 300
         },
         {
          "destination": "Douvres",
          "month": "Jan",
          "product": "Marchandises des Indes (lt)",
          "product_quantity": 2600
         },
         {
          "destination": "Douvres",
          "month": "Fév",
          "product": "Marchandises des Indes (lt)",
          "product_quantity": 23000
         },
         {
          "destination": "Douvres",
          "month": "Mar",
          "product": "Marchandises des Indes (lt)",
          "product_quantity": 12000
         },
         {
          "destination": "Douvres",
          "month": "Mai",
          "product": "Marchandises des Indes (lt)",
          "product_quantity": 1800
         },
         {
          "destination": "Douvres",
          "month": "Juin",
          "product": "Marchandises des Indes (lt)",
          "product_quantity": 500
         },
         {
          "destination": "Colchester",
          "month": "Avr",
          "product": "Marchandises des Indes (lt)",
          "product_quantity": 7200
         },
         {
          "destination": "Harwich",
          "month": "Juil",
          "product": "Marchandises des Indes (lt)",
          "product_quantity": 24000
         },
         {
          "destination": "Eawsand",
          "month": "Jan",
          "product": "Marchandises des Indes (lt)",
          "product_quantity": 18000
         },
         {
          "destination": "Folkstone",
          "month": "Fév",
          "product": "Marchandises des Indes (lt)",
          "product_quantity": 14000
         },
         {
          "destination": "Folkstone",
          "month": "Mar",
          "product": "Marchandises des Indes (lt)",
          "product_quantity": 52000
         },
         {
          "destination": "Folkstone",
          "month": "Avr",
          "product": "Marchandises des Indes (lt)",
          "product_quantity": 47500
         },
         {
          "destination": "Folkstone",
          "month": "Mai",
          "product": "Marchandises des Indes (lt)",
          "product_quantity": 600
         },
         {
          "destination": "Folkstone",
          "month": "Juin",
          "product": "Marchandises des Indes (lt)",
          "product_quantity": 26000
         },
         {
          "destination": "Folkstone",
          "month": "Juil",
          "product": "Marchandises des Indes (lt)",
          "product_quantity": 24000
         },
         {
          "destination": "Folkstone",
          "month": "Août",
          "product": "Marchandises des Indes (lt)",
          "product_quantity": 27400
         },
         {
          "destination": "Folkstone",
          "month": "Oct",
          "product": "Marchandises des Indes (lt)",
          "product_quantity": 10800
         },
         {
          "destination": "Foy",
          "month": "Avr",
          "product": "Marchandises des Indes (lt)",
          "product_quantity": 4800
         },
         {
          "destination": "Hastings",
          "month": "Avr",
          "product": "Marchandises des Indes (lt)",
          "product_quantity": 26200
         },
         {
          "destination": "Hastings",
          "month": "Mai",
          "product": "Marchandises des Indes (lt)",
          "product_quantity": 4800
         },
         {
          "destination": "Hastings",
          "month": "Oct",
          "product": "Marchandises des Indes (lt)",
          "product_quantity": 30000
         },
         {
          "destination": "Hastings",
          "month": "Déc",
          "product": "Marchandises des Indes (lt)",
          "product_quantity": 12000
         },
         {
          "destination": "Londres",
          "month": "Mar",
          "product": "Marchandises des Indes (lt)",
          "product_quantity": 4320
         }
        ]
       },
       "encoding": {
        "color": {
         "field": "quantity_all_dest",
         "title": "quantité totale",
         "type": "quantitative"
        },
        "x": {
         "field": "month",
         "sort": [
          "Jan",
          "Fév",
          "Mar",
          "Avr",
          "Mai",
          "Juin",
          "Juil",
          "Août",
          "Sep",
          "Oct",
          "Nov",
          "Déc"
         ],
         "title": "Mois",
         "type": "ordinal"
        },
        "y": {
         "field": "product",
         "sort": {
          "field": "product",
          "order": "descending"
         },
         "title": "Produit",
         "type": "ordinal"
        }
       },
       "mark": {
        "tooltip": {
         "content": "data"
        },
        "type": "rect"
       },
       "title": "Quantité par mois toute destination",
       "transform": [
        {
         "aggregate": [
          {
           "as": "quantity_all_dest",
           "field": "product_quantity",
           "op": "sum"
          }
         ],
         "groupby": [
          "product",
          "month"
         ]
        }
       ]
      },
      "image/png": "[encoded data removed]"
     },
     "metadata": {},
     "output_type": "display_data"
    }
   ],
   "source": [
    "VegaLite({\n",
    "  \"title\": \"Quantité par mois toute destination\",\n",
    "  \"data\": {\"values\": destination_month_destination},\n",
    "  \"transform\": [\n",
    "    {\n",
    "      \"aggregate\": [{\n",
    "       \"op\": \"sum\",\n",
    "       \"field\": \"product_quantity\",\n",
    "       \"as\": \"quantity_all_dest\"\n",
    "      }],\n",
    "      \"groupby\": [\"product\", \"month\"]\n",
    "    }\n",
    "  ],\n",
    "  \"mark\": {\"type\":\"rect\", \"tooltip\": {\"content\": \"data\"}},\n",
    "  \"encoding\": {\n",
    "    \"x\": {\n",
    "      \"field\": \"month\",\n",
    "      \"title\": \"Mois\",\n",
    "      \"type\": \"ordinal\",\n",
    "      \n",
    "      \"sort\": MONTHS_CODE,\n",
    "    },\n",
    "    \"y\": {\n",
    "      \"title\": \"Produit\",\n",
    "      \"field\":\"product\",\n",
    "      \"type\": \"ordinal\",\n",
    "      \"sort\": { \"field\":\"product\", \"order\": \"descending\"}\n",
    "    },\n",
    "    \"color\": {\n",
    "      \"field\": \"quantity_all_dest\",\n",
    "      \"title\": \"quantité totale\",\n",
    "      \"type\": \"quantitative\"\n",
    "    }\n",
    "  },\n",
    "  \"config\": {\n",
    "    \"view\": {\n",
    "      \"stroke\": \"transparent\"\n",
    "    }\n",
    "  }\n",
    "})"
   ]
  },
  {
   "cell_type": "code",
   "execution_count": 135,
   "id": "6c01688f-eb58-4843-8953-a92626c201d1",
   "metadata": {},
   "outputs": [
    {
     "data": {
      "application/vnd.vegalite.v4+json": {
       "data": {
        "values": [
         {
          "destination": "Barking",
          "month": "Jan",
          "product": "Genièvre (pintes)",
          "product_quantity": 40
         },
         {
          "destination": "Barking",
          "month": "Août",
          "product": "Genièvre (pintes)",
          "product_quantity": 40
         },
         {
          "destination": "Blacwall",
          "month": "Août",
          "product": "Genièvre (pintes)",
          "product_quantity": 80
         },
         {
          "destination": "Brightlandsea",
          "month": "Jan",
          "product": "Genièvre (pintes)",
          "product_quantity": 4200
         },
         {
          "destination": "Brightlandsea",
          "month": "Fév",
          "product": "Genièvre (pintes)",
          "product_quantity": 2300
         },
         {
          "destination": "Brightlandsea",
          "month": "Mar",
          "product": "Genièvre (pintes)",
          "product_quantity": 4400
         },
         {
          "destination": "Brightlandsea",
          "month": "Avr",
          "product": "Genièvre (pintes)",
          "product_quantity": 1600
         },
         {
          "destination": "Brightlandsea",
          "month": "Mai",
          "product": "Genièvre (pintes)",
          "product_quantity": 2640
         },
         {
          "destination": "Burnham",
          "month": "Jan",
          "product": "Genièvre (pintes)",
          "product_quantity": 9660
         },
         {
          "destination": "Burnham",
          "month": "Fév",
          "product": "Genièvre (pintes)",
          "product_quantity": 2740
         },
         {
          "destination": "Burnham",
          "month": "Avr",
          "product": "Genièvre (pintes)",
          "product_quantity": 7420
         },
         {
          "destination": "Burnham",
          "month": "Mai",
          "product": "Genièvre (pintes)",
          "product_quantity": 8800
         },
         {
          "destination": "Burnham",
          "month": "Juin",
          "product": "Genièvre (pintes)",
          "product_quantity": 5660
         },
         {
          "destination": "Burnham",
          "month": "Juil",
          "product": "Genièvre (pintes)",
          "product_quantity": 4580
         },
         {
          "destination": "Burnham",
          "month": "Août",
          "product": "Genièvre (pintes)",
          "product_quantity": 4880
         },
         {
          "destination": "Burnham",
          "month": "Sep",
          "product": "Genièvre (pintes)",
          "product_quantity": 14720
         },
         {
          "destination": "Burnham",
          "month": "Oct",
          "product": "Genièvre (pintes)",
          "product_quantity": 8000
         },
         {
          "destination": "Burnham",
          "month": "Nov",
          "product": "Genièvre (pintes)",
          "product_quantity": 2180
         },
         {
          "destination": "Burnham",
          "month": "Déc",
          "product": "Genièvre (pintes)",
          "product_quantity": 4000
         },
         {
          "destination": "Chatham",
          "month": "Jan",
          "product": "Genièvre (pintes)",
          "product_quantity": 1540
         },
         {
          "destination": "Chicheston",
          "month": "Nov",
          "product": "Genièvre (pintes)",
          "product_quantity": 3000
         },
         {
          "destination": "Chicheston",
          "month": "Déc",
          "product": "Genièvre (pintes)",
          "product_quantity": 3020
         },
         {
          "destination": "Colchester",
          "month": "Jan",
          "product": "Genièvre (pintes)",
          "product_quantity": 19920
         },
         {
          "destination": "Colchester",
          "month": "Fév",
          "product": "Genièvre (pintes)",
          "product_quantity": 7960
         },
         {
          "destination": "Colchester",
          "month": "Mar",
          "product": "Genièvre (pintes)",
          "product_quantity": 14020
         },
         {
          "destination": "Colchester",
          "month": "Avr",
          "product": "Genièvre (pintes)",
          "product_quantity": 17060
         },
         {
          "destination": "Colchester",
          "month": "Mai",
          "product": "Genièvre (pintes)",
          "product_quantity": 8080
         },
         {
          "destination": "Colchester",
          "month": "Juin",
          "product": "Genièvre (pintes)",
          "product_quantity": 16500
         },
         {
          "destination": "Colchester",
          "month": "Juil",
          "product": "Genièvre (pintes)",
          "product_quantity": 13840
         },
         {
          "destination": "Colchester",
          "month": "Août",
          "product": "Genièvre (pintes)",
          "product_quantity": 7340
         },
         {
          "destination": "Colchester",
          "month": "Sep",
          "product": "Genièvre (pintes)",
          "product_quantity": 13740
         },
         {
          "destination": "Colchester",
          "month": "Oct",
          "product": "Genièvre (pintes)",
          "product_quantity": 15860
         },
         {
          "destination": "Colchester",
          "month": "Nov",
          "product": "Genièvre (pintes)",
          "product_quantity": 12880
         },
         {
          "destination": "Colchester",
          "month": "Déc",
          "product": "Genièvre (pintes)",
          "product_quantity": 12740
         },
         {
          "destination": "Colway",
          "month": "Juin",
          "product": "Genièvre (pintes)",
          "product_quantity": 2980
         },
         {
          "destination": "Cowes",
          "month": "Sep",
          "product": "Genièvre (pintes)",
          "product_quantity": 3060
         },
         {
          "destination": "Deal",
          "month": "Jan",
          "product": "Genièvre (pintes)",
          "product_quantity": 51240
         },
         {
          "destination": "Deal",
          "month": "Fév",
          "product": "Genièvre (pintes)",
          "product_quantity": 43740
         },
         {
          "destination": "Deal",
          "month": "Mar",
          "product": "Genièvre (pintes)",
          "product_quantity": 35460
         },
         {
          "destination": "Deal",
          "month": "Avr",
          "product": "Genièvre (pintes)",
          "product_quantity": 24460
         },
         {
          "destination": "Deal",
          "month": "Mai",
          "product": "Genièvre (pintes)",
          "product_quantity": 10140
         },
         {
          "destination": "Deal",
          "month": "Juin",
          "product": "Genièvre (pintes)",
          "product_quantity": 17960
         },
         {
          "destination": "Deal",
          "month": "Juil",
          "product": "Genièvre (pintes)",
          "product_quantity": 32004
         },
         {
          "destination": "Deal",
          "month": "Août",
          "product": "Genièvre (pintes)",
          "product_quantity": 27900
         },
         {
          "destination": "Deal",
          "month": "Sep",
          "product": "Genièvre (pintes)",
          "product_quantity": 24480
         },
         {
          "destination": "Deal",
          "month": "Oct",
          "product": "Genièvre (pintes)",
          "product_quantity": 23540
         },
         {
          "destination": "Deal",
          "month": "Nov",
          "product": "Genièvre (pintes)",
          "product_quantity": 25040
         },
         {
          "destination": "Deal",
          "month": "Déc",
          "product": "Genièvre (pintes)",
          "product_quantity": 37830
         },
         {
          "destination": "Douvres",
          "month": "Jan",
          "product": "Genièvre (pintes)",
          "product_quantity": 23500
         },
         {
          "destination": "Douvres",
          "month": "Fév",
          "product": "Genièvre (pintes)",
          "product_quantity": 16540
         },
         {
          "destination": "Douvres",
          "month": "Mar",
          "product": "Genièvre (pintes)",
          "product_quantity": 500
         },
         {
          "destination": "Douvres",
          "month": "Avr",
          "product": "Genièvre (pintes)",
          "product_quantity": 11940
         },
         {
          "destination": "Douvres",
          "month": "Mai",
          "product": "Genièvre (pintes)",
          "product_quantity": 18500
         },
         {
          "destination": "Douvres",
          "month": "Juin",
          "product": "Genièvre (pintes)",
          "product_quantity": 7200
         },
         {
          "destination": "Douvres",
          "month": "Juil",
          "product": "Genièvre (pintes)",
          "product_quantity": 10440
         },
         {
          "destination": "Douvres",
          "month": "Août",
          "product": "Genièvre (pintes)",
          "product_quantity": 7280
         },
         {
          "destination": "Douvres",
          "month": "Sep",
          "product": "Genièvre (pintes)",
          "product_quantity": 14860
         },
         {
          "destination": "Douvres",
          "month": "Oct",
          "product": "Genièvre (pintes)",
          "product_quantity": 28440
         },
         {
          "destination": "Douvres",
          "month": "Nov",
          "product": "Genièvre (pintes)",
          "product_quantity": 17160
         },
         {
          "destination": "Douvres",
          "month": "Déc",
          "product": "Genièvre (pintes)",
          "product_quantity": 23160
         },
         {
          "destination": "Dungeness",
          "month": "Fév",
          "product": "Genièvre (pintes)",
          "product_quantity": 60
         },
         {
          "destination": "Dungeness",
          "month": "Avr",
          "product": "Genièvre (pintes)",
          "product_quantity": 220
         },
         {
          "destination": "Dungeness",
          "month": "Mai",
          "product": "Genièvre (pintes)",
          "product_quantity": 20
         },
         {
          "destination": "Dungeness",
          "month": "Juin",
          "product": "Genièvre (pintes)",
          "product_quantity": 2020
         },
         {
          "destination": "Dungeness",
          "month": "Oct",
          "product": "Genièvre (pintes)",
          "product_quantity": 1800
         },
         {
          "destination": "Dungeness",
          "month": "Déc",
          "product": "Genièvre (pintes)",
          "product_quantity": 1600
         },
         {
          "destination": "Dymchurch",
          "month": "Fév",
          "product": "Genièvre (pintes)",
          "product_quantity": 2400
         },
         {
          "destination": "Dymchurch",
          "month": "Avr",
          "product": "Genièvre (pintes)",
          "product_quantity": 1260
         },
         {
          "destination": "Dymchurch",
          "month": "Juin",
          "product": "Genièvre (pintes)",
          "product_quantity": 400
         },
         {
          "destination": "Falmouth",
          "month": "Juin",
          "product": "Genièvre (pintes)",
          "product_quantity": 1200
         },
         {
          "destination": "Feversham",
          "month": "Jan",
          "product": "Genièvre (pintes)",
          "product_quantity": 3000
         },
         {
          "destination": "Feversham",
          "month": "Fév",
          "product": "Genièvre (pintes)",
          "product_quantity": 10760
         },
         {
          "destination": "Feversham",
          "month": "Mar",
          "product": "Genièvre (pintes)",
          "product_quantity": 2000
         },
         {
          "destination": "Feversham",
          "month": "Avr",
          "product": "Genièvre (pintes)",
          "product_quantity": 3200
         },
         {
          "destination": "Feversham",
          "month": "Mai",
          "product": "Genièvre (pintes)",
          "product_quantity": 5080
         },
         {
          "destination": "Feversham",
          "month": "Juin",
          "product": "Genièvre (pintes)",
          "product_quantity": 4320
         },
         {
          "destination": "Feversham",
          "month": "Juil",
          "product": "Genièvre (pintes)",
          "product_quantity": 12900
         },
         {
          "destination": "Feversham",
          "month": "Août",
          "product": "Genièvre (pintes)",
          "product_quantity": 15000
         },
         {
          "destination": "Feversham",
          "month": "Sep",
          "product": "Genièvre (pintes)",
          "product_quantity": 4200
         },
         {
          "destination": "Feversham",
          "month": "Oct",
          "product": "Genièvre (pintes)",
          "product_quantity": 11720
         },
         {
          "destination": "Feversham",
          "month": "Nov",
          "product": "Genièvre (pintes)",
          "product_quantity": 11240
         },
         {
          "destination": "Feversham",
          "month": "Déc",
          "product": "Genièvre (pintes)",
          "product_quantity": 16760
         },
         {
          "destination": "Folkstone",
          "month": "Jan",
          "product": "Genièvre (pintes)",
          "product_quantity": 13460
         },
         {
          "destination": "Folkstone",
          "month": "Fév",
          "product": "Genièvre (pintes)",
          "product_quantity": 20260
         },
         {
          "destination": "Folkstone",
          "month": "Mar",
          "product": "Genièvre (pintes)",
          "product_quantity": 9060
         },
         {
          "destination": "Folkstone",
          "month": "Avr",
          "product": "Genièvre (pintes)",
          "product_quantity": 9040
         },
         {
          "destination": "Folkstone",
          "month": "Mai",
          "product": "Genièvre (pintes)",
          "product_quantity": 13840
         },
         {
          "destination": "Folkstone",
          "month": "Juin",
          "product": "Genièvre (pintes)",
          "product_quantity": 6100
         },
         {
          "destination": "Folkstone",
          "month": "Juil",
          "product": "Genièvre (pintes)",
          "product_quantity": 10360
         },
         {
          "destination": "Folkstone",
          "month": "Août",
          "product": "Genièvre (pintes)",
          "product_quantity": 3500
         },
         {
          "destination": "Folkstone",
          "month": "Sep",
          "product": "Genièvre (pintes)",
          "product_quantity": 4080
         },
         {
          "destination": "Folkstone",
          "month": "Oct",
          "product": "Genièvre (pintes)",
          "product_quantity": 1800
         },
         {
          "destination": "Folkstone",
          "month": "Nov",
          "product": "Genièvre (pintes)",
          "product_quantity": 16600
         },
         {
          "destination": "Folkstone",
          "month": "Déc",
          "product": "Genièvre (pintes)",
          "product_quantity": 1760
         },
         {
          "destination": "Foy",
          "month": "Avr",
          "product": "Genièvre (pintes)",
          "product_quantity": 80
         },
         {
          "destination": "Foy",
          "month": "Mai",
          "product": "Genièvre (pintes)",
          "product_quantity": 20
         },
         {
          "destination": "Gravesend",
          "month": "Mar",
          "product": "Genièvre (pintes)",
          "product_quantity": 40
         },
         {
          "destination": "Greenwich",
          "month": "Juin",
          "product": "Genièvre (pintes)",
          "product_quantity": 40
         },
         {
          "destination": "Greenwich",
          "month": "Juil",
          "product": "Genièvre (pintes)",
          "product_quantity": 40
         },
         {
          "destination": "Guerneze",
          "month": "Avr",
          "product": "Genièvre (pintes)",
          "product_quantity": 8000
         },
         {
          "destination": "Guerneze",
          "month": "Déc",
          "product": "Genièvre (pintes)",
          "product_quantity": 1200
         },
         {
          "destination": "Harwich",
          "month": "Jan",
          "product": "Genièvre (pintes)",
          "product_quantity": 18100
         },
         {
          "destination": "Harwich",
          "month": "Fév",
          "product": "Genièvre (pintes)",
          "product_quantity": 2440
         },
         {
          "destination": "Harwich",
          "month": "Avr",
          "product": "Genièvre (pintes)",
          "product_quantity": 1600
         },
         {
          "destination": "Harwich",
          "month": "Mai",
          "product": "Genièvre (pintes)",
          "product_quantity": 80
         },
         {
          "destination": "Harwich",
          "month": "Juin",
          "product": "Genièvre (pintes)",
          "product_quantity": 320
         },
         {
          "destination": "Harwich",
          "month": "Juil",
          "product": "Genièvre (pintes)",
          "product_quantity": 4660
         },
         {
          "destination": "Harwich",
          "month": "Août",
          "product": "Genièvre (pintes)",
          "product_quantity": 2160
         },
         {
          "destination": "Harwich",
          "month": "Sep",
          "product": "Genièvre (pintes)",
          "product_quantity": 80
         },
         {
          "destination": "Harwich",
          "month": "Oct",
          "product": "Genièvre (pintes)",
          "product_quantity": 2000
         },
         {
          "destination": "Hastings",
          "month": "Jan",
          "product": "Genièvre (pintes)",
          "product_quantity": 29960
         },
         {
          "destination": "Hastings",
          "month": "Fév",
          "product": "Genièvre (pintes)",
          "product_quantity": 2000
         },
         {
          "destination": "Hastings",
          "month": "Mar",
          "product": "Genièvre (pintes)",
          "product_quantity": 10340
         },
         {
          "destination": "Hastings",
          "month": "Avr",
          "product": "Genièvre (pintes)",
          "product_quantity": 18500
         },
         {
          "destination": "Hastings",
          "month": "Mai",
          "product": "Genièvre (pintes)",
          "product_quantity": 6240
         },
         {
          "destination": "Hastings",
          "month": "Juin",
          "product": "Genièvre (pintes)",
          "product_quantity": 3100
         },
         {
          "destination": "Hastings",
          "month": "Juil",
          "product": "Genièvre (pintes)",
          "product_quantity": 2740
         },
         {
          "destination": "Hastings",
          "month": "Août",
          "product": "Genièvre (pintes)",
          "product_quantity": 1640
         },
         {
          "destination": "Hastings",
          "month": "Sep",
          "product": "Genièvre (pintes)",
          "product_quantity": 16860
         },
         {
          "destination": "Hastings",
          "month": "Oct",
          "product": "Genièvre (pintes)",
          "product_quantity": 3220
         },
         {
          "destination": "Hastings",
          "month": "Nov",
          "product": "Genièvre (pintes)",
          "product_quantity": 19620
         },
         {
          "destination": "Hastings",
          "month": "Déc",
          "product": "Genièvre (pintes)",
          "product_quantity": 15080
         },
         {
          "destination": "Hythe",
          "month": "Fév",
          "product": "Genièvre (pintes)",
          "product_quantity": 660
         },
         {
          "destination": "Hythe",
          "month": "Mar",
          "product": "Genièvre (pintes)",
          "product_quantity": 1300
         },
         {
          "destination": "Hythe",
          "month": "Mai",
          "product": "Genièvre (pintes)",
          "product_quantity": 20
         },
         {
          "destination": "Ipswich",
          "month": "Juin",
          "product": "Genièvre (pintes)",
          "product_quantity": 4040
         },
         {
          "destination": "Landsee",
          "month": "Juil",
          "product": "Genièvre (pintes)",
          "product_quantity": 1600
         },
         {
          "destination": "Lee",
          "month": "Jan",
          "product": "Genièvre (pintes)",
          "product_quantity": 3000
         },
         {
          "destination": "Lee",
          "month": "Fév",
          "product": "Genièvre (pintes)",
          "product_quantity": 1620
         },
         {
          "destination": "Lee",
          "month": "Mar",
          "product": "Genièvre (pintes)",
          "product_quantity": 2800
         },
         {
          "destination": "Lee",
          "month": "Avr",
          "product": "Genièvre (pintes)",
          "product_quantity": 3200
         },
         {
          "destination": "Lee",
          "month": "Mai",
          "product": "Genièvre (pintes)",
          "product_quantity": 2460
         },
         {
          "destination": "Lee",
          "month": "Juin",
          "product": "Genièvre (pintes)",
          "product_quantity": 7740
         },
         {
          "destination": "Lee",
          "month": "Juil",
          "product": "Genièvre (pintes)",
          "product_quantity": 4072
         },
         {
          "destination": "Lee",
          "month": "Août",
          "product": "Genièvre (pintes)",
          "product_quantity": 4260
         },
         {
          "destination": "Lee",
          "month": "Sep",
          "product": "Genièvre (pintes)",
          "product_quantity": 3080
         },
         {
          "destination": "Lee",
          "month": "Oct",
          "product": "Genièvre (pintes)",
          "product_quantity": 4680
         },
         {
          "destination": "Lee",
          "month": "Nov",
          "product": "Genièvre (pintes)",
          "product_quantity": 9420
         },
         {
          "destination": "Lee",
          "month": "Déc",
          "product": "Genièvre (pintes)",
          "product_quantity": 7460
         },
         {
          "destination": "Leith",
          "month": "Oct",
          "product": "Genièvre (pintes)",
          "product_quantity": 40
         },
         {
          "destination": "Londres",
          "month": "Mar",
          "product": "Genièvre (pintes)",
          "product_quantity": 40
         },
         {
          "destination": "Londres",
          "month": "Avr",
          "product": "Genièvre (pintes)",
          "product_quantity": 60
         },
         {
          "destination": "Londres",
          "month": "Mai",
          "product": "Genièvre (pintes)",
          "product_quantity": 40
         },
         {
          "destination": "Londres",
          "month": "Juin",
          "product": "Genièvre (pintes)",
          "product_quantity": 160
         },
         {
          "destination": "Londres",
          "month": "Juil",
          "product": "Genièvre (pintes)",
          "product_quantity": 200
         },
         {
          "destination": "Londres",
          "month": "Août",
          "product": "Genièvre (pintes)",
          "product_quantity": 80
         },
         {
          "destination": "Lynn",
          "month": "Jan",
          "product": "Genièvre (pintes)",
          "product_quantity": 2000
         },
         {
          "destination": "Lynn",
          "month": "Mar",
          "product": "Genièvre (pintes)",
          "product_quantity": 1040
         },
         {
          "destination": "Lynn",
          "month": "Mai",
          "product": "Genièvre (pintes)",
          "product_quantity": 2400
         },
         {
          "destination": "Lynn",
          "month": "Août",
          "product": "Genièvre (pintes)",
          "product_quantity": 380
         },
         {
          "destination": "Lydd",
          "month": "Avr",
          "product": "Genièvre (pintes)",
          "product_quantity": 2120
         },
         {
          "destination": "Lydd",
          "month": "Mai",
          "product": "Genièvre (pintes)",
          "product_quantity": 720
         },
         {
          "destination": "Lydd",
          "month": "Juil",
          "product": "Genièvre (pintes)",
          "product_quantity": 1400
         },
         {
          "destination": "Maldon",
          "month": "Jan",
          "product": "Genièvre (pintes)",
          "product_quantity": 13480
         },
         {
          "destination": "Maldon",
          "month": "Fév",
          "product": "Genièvre (pintes)",
          "product_quantity": 11600
         },
         {
          "destination": "Maldon",
          "month": "Mar",
          "product": "Genièvre (pintes)",
          "product_quantity": 14240
         },
         {
          "destination": "Maldon",
          "month": "Avr",
          "product": "Genièvre (pintes)",
          "product_quantity": 17620
         },
         {
          "destination": "Maldon",
          "month": "Mai",
          "product": "Genièvre (pintes)",
          "product_quantity": 7560
         },
         {
          "destination": "Maldon",
          "month": "Juin",
          "product": "Genièvre (pintes)",
          "product_quantity": 6000
         },
         {
          "destination": "Maldon",
          "month": "Juil",
          "product": "Genièvre (pintes)",
          "product_quantity": 620
         },
         {
          "destination": "Maldon",
          "month": "Août",
          "product": "Genièvre (pintes)",
          "product_quantity": 10360
         },
         {
          "destination": "Maldon",
          "month": "Sep",
          "product": "Genièvre (pintes)",
          "product_quantity": 7040
         },
         {
          "destination": "Maldon",
          "month": "Oct",
          "product": "Genièvre (pintes)",
          "product_quantity": 8860
         },
         {
          "destination": "Maldon",
          "month": "Nov",
          "product": "Genièvre (pintes)",
          "product_quantity": 4430
         },
         {
          "destination": "Maldon",
          "month": "Déc",
          "product": "Genièvre (pintes)",
          "product_quantity": 10400
         },
         {
          "destination": "Margate",
          "month": "Jan",
          "product": "Genièvre (pintes)",
          "product_quantity": 4080
         },
         {
          "destination": "Margate",
          "month": "Mar",
          "product": "Genièvre (pintes)",
          "product_quantity": 1040
         },
         {
          "destination": "Margate",
          "month": "Avr",
          "product": "Genièvre (pintes)",
          "product_quantity": 3400
         },
         {
          "destination": "Margate",
          "month": "Mai",
          "product": "Genièvre (pintes)",
          "product_quantity": 2000
         },
         {
          "destination": "Margate",
          "month": "Août",
          "product": "Genièvre (pintes)",
          "product_quantity": 2800
         },
         {
          "destination": "Margate",
          "month": "Oct",
          "product": "Genièvre (pintes)",
          "product_quantity": 2400
         },
         {
          "destination": "Margate",
          "month": "Déc",
          "product": "Genièvre (pintes)",
          "product_quantity": 1720
         },
         {
          "destination": "Milton",
          "month": "Mai",
          "product": "Genièvre (pintes)",
          "product_quantity": 2020
         },
         {
          "destination": "Milton",
          "month": "Août",
          "product": "Genièvre (pintes)",
          "product_quantity": 1200
         },
         {
          "destination": "Milton",
          "month": "Nov",
          "product": "Genièvre (pintes)",
          "product_quantity": 400
         },
         {
          "destination": "Pegwell",
          "month": "Jan",
          "product": "Genièvre (pintes)",
          "product_quantity": 2000
         },
         {
          "destination": "Pegwell",
          "month": "Fév",
          "product": "Genièvre (pintes)",
          "product_quantity": 2960
         },
         {
          "destination": "Pegwell",
          "month": "Mar",
          "product": "Genièvre (pintes)",
          "product_quantity": 1080
         },
         {
          "destination": "Pegwell",
          "month": "Avr",
          "product": "Genièvre (pintes)",
          "product_quantity": 2000
         },
         {
          "destination": "Pegwell",
          "month": "Juin",
          "product": "Genièvre (pintes)",
          "product_quantity": 2000
         },
         {
          "destination": "Pegwell",
          "month": "Août",
          "product": "Genièvre (pintes)",
          "product_quantity": 2000
         },
         {
          "destination": "Romsay",
          "month": "Juil",
          "product": "Genièvre (pintes)",
          "product_quantity": 4000
         },
         {
          "destination": "Reculver",
          "month": "Juin",
          "product": "Genièvre (pintes)",
          "product_quantity": 840
         },
         {
          "destination": "Reculver",
          "month": "Juil",
          "product": "Genièvre (pintes)",
          "product_quantity": 1820
         },
         {
          "destination": "Reculver",
          "month": "Sep",
          "product": "Genièvre (pintes)",
          "product_quantity": 2200
         },
         {
          "destination": "Reculver",
          "month": "Nov",
          "product": "Genièvre (pintes)",
          "product_quantity": 800
         },
         {
          "destination": "Rochester",
          "month": "Jan",
          "product": "Genièvre (pintes)",
          "product_quantity": 1280
         },
         {
          "destination": "Rochester",
          "month": "Fév",
          "product": "Genièvre (pintes)",
          "product_quantity": 2660
         },
         {
          "destination": "Rochester",
          "month": "Mar",
          "product": "Genièvre (pintes)",
          "product_quantity": 9920
         },
         {
          "destination": "Rochester",
          "month": "Juil",
          "product": "Genièvre (pintes)",
          "product_quantity": 40
         },
         {
          "destination": "Rochester",
          "month": "Oct",
          "product": "Genièvre (pintes)",
          "product_quantity": 4000
         },
         {
          "destination": "Rye",
          "month": "Avr",
          "product": "Genièvre (pintes)",
          "product_quantity": 860
         },
         {
          "destination": "Rye",
          "month": "Mai",
          "product": "Genièvre (pintes)",
          "product_quantity": 20
         },
         {
          "destination": "Rye",
          "month": "Juin",
          "product": "Genièvre (pintes)",
          "product_quantity": 2040
         },
         {
          "destination": "Rye",
          "month": "Juil",
          "product": "Genièvre (pintes)",
          "product_quantity": 80
         },
         {
          "destination": "Rye",
          "month": "Sep",
          "product": "Genièvre (pintes)",
          "product_quantity": 520
         },
         {
          "destination": "Rye",
          "month": "Nov",
          "product": "Genièvre (pintes)",
          "product_quantity": 2700
         },
         {
          "destination": "Rye",
          "month": "Déc",
          "product": "Genièvre (pintes)",
          "product_quantity": 3800
         },
         {
          "destination": "Southwould",
          "month": "Juil",
          "product": "Genièvre (pintes)",
          "product_quantity": 4400
         },
         {
          "destination": "Whistable",
          "month": "Jan",
          "product": "Genièvre (pintes)",
          "product_quantity": 16900
         },
         {
          "destination": "Whistable",
          "month": "Fév",
          "product": "Genièvre (pintes)",
          "product_quantity": 9020
         },
         {
          "destination": "Whistable",
          "month": "Mar",
          "product": "Genièvre (pintes)",
          "product_quantity": 3260
         },
         {
          "destination": "Whistable",
          "month": "Avr",
          "product": "Genièvre (pintes)",
          "product_quantity": 1060
         },
         {
          "destination": "Whistable",
          "month": "Mai",
          "product": "Genièvre (pintes)",
          "product_quantity": 4320
         },
         {
          "destination": "Whistable",
          "month": "Juin",
          "product": "Genièvre (pintes)",
          "product_quantity": 12640
         },
         {
          "destination": "Whistable",
          "month": "Juil",
          "product": "Genièvre (pintes)",
          "product_quantity": 14240
         },
         {
          "destination": "Whistable",
          "month": "Août",
          "product": "Genièvre (pintes)",
          "product_quantity": 9220
         },
         {
          "destination": "Whistable",
          "month": "Sep",
          "product": "Genièvre (pintes)",
          "product_quantity": 7440
         },
         {
          "destination": "Whistable",
          "month": "Oct",
          "product": "Genièvre (pintes)",
          "product_quantity": 7420
         },
         {
          "destination": "Whistable",
          "month": "Nov",
          "product": "Genièvre (pintes)",
          "product_quantity": 4380
         },
         {
          "destination": "Whistable",
          "month": "Déc",
          "product": "Genièvre (pintes)",
          "product_quantity": 23020
         },
         {
          "destination": "Wivenhoe",
          "month": "Jan",
          "product": "Genièvre (pintes)",
          "product_quantity": 6160
         },
         {
          "destination": "Wivenhoe",
          "month": "Fév",
          "product": "Genièvre (pintes)",
          "product_quantity": 2000
         },
         {
          "destination": "Wivenhoe",
          "month": "Mar",
          "product": "Genièvre (pintes)",
          "product_quantity": 6420
         },
         {
          "destination": "Wivenhoe",
          "month": "Avr",
          "product": "Genièvre (pintes)",
          "product_quantity": 4400
         },
         {
          "destination": "Woobridge",
          "month": "Avr",
          "product": "Genièvre (pintes)",
          "product_quantity": 3200
         },
         {
          "destination": "Woobridge",
          "month": "Mai",
          "product": "Genièvre (pintes)",
          "product_quantity": 4700
         },
         {
          "destination": "Yarmouth",
          "month": "Jan",
          "product": "Genièvre (pintes)",
          "product_quantity": 1000
         },
         {
          "destination": "Yarmouth",
          "month": "Mar",
          "product": "Genièvre (pintes)",
          "product_quantity": 3340
         },
         {
          "destination": "Yarmouth",
          "month": "Juin",
          "product": "Genièvre (pintes)",
          "product_quantity": 2000
         },
         {
          "destination": "Yarmouth",
          "month": "Juil",
          "product": "Genièvre (pintes)",
          "product_quantity": 2000
         },
         {
          "destination": "Yarmouth",
          "month": "Août",
          "product": "Genièvre (pintes)",
          "product_quantity": 1600
         },
         {
          "destination": "Yarmouth",
          "month": "Sep",
          "product": "Genièvre (pintes)",
          "product_quantity": 2180
         },
         {
          "destination": "Yarmouth",
          "month": "Oct",
          "product": "Genièvre (pintes)",
          "product_quantity": 5600
         },
         {
          "destination": "Yarmouth",
          "month": "Déc",
          "product": "Genièvre (pintes)",
          "product_quantity": 2480
         },
         {
          "destination": "Barking",
          "month": "Jan",
          "product": "Eau-de-vie (pintes)",
          "product_quantity": 60
         },
         {
          "destination": "Brightlandsea",
          "month": "Jan",
          "product": "Eau-de-vie (pintes)",
          "product_quantity": 680
         },
         {
          "destination": "Brightlandsea",
          "month": "Mar",
          "product": "Eau-de-vie (pintes)",
          "product_quantity": 680
         },
         {
          "destination": "Brightlandsea",
          "month": "Avr",
          "product": "Eau-de-vie (pintes)",
          "product_quantity": 400
         },
         {
          "destination": "Brightlandsea",
          "month": "Mai",
          "product": "Eau-de-vie (pintes)",
          "product_quantity": 200
         },
         {
          "destination": "Burnham",
          "month": "Jan",
          "product": "Eau-de-vie (pintes)",
          "product_quantity": 3080
         },
         {
          "destination": "Burnham",
          "month": "Avr",
          "product": "Eau-de-vie (pintes)",
          "product_quantity": 2820
         },
         {
          "destination": "Burnham",
          "month": "Mai",
          "product": "Eau-de-vie (pintes)",
          "product_quantity": 2000
         },
         {
          "destination": "Burnham",
          "month": "Juin",
          "product": "Eau-de-vie (pintes)",
          "product_quantity": 860
         },
         {
          "destination": "Burnham",
          "month": "Juil",
          "product": "Eau-de-vie (pintes)",
          "product_quantity": 1500
         },
         {
          "destination": "Burnham",
          "month": "Août",
          "product": "Eau-de-vie (pintes)",
          "product_quantity": 1800
         },
         {
          "destination": "Burnham",
          "month": "Sep",
          "product": "Eau-de-vie (pintes)",
          "product_quantity": 3200
         },
         {
          "destination": "Burnham",
          "month": "Oct",
          "product": "Eau-de-vie (pintes)",
          "product_quantity": 2900
         },
         {
          "destination": "Burnham",
          "month": "Nov",
          "product": "Eau-de-vie (pintes)",
          "product_quantity": 320
         },
         {
          "destination": "Burnham",
          "month": "Déc",
          "product": "Eau-de-vie (pintes)",
          "product_quantity": 40
         },
         {
          "destination": "Chichester",
          "month": "Nov",
          "product": "Eau-de-vie (pintes)",
          "product_quantity": 1000
         },
         {
          "destination": "Chichester",
          "month": "Déc",
          "product": "Eau-de-vie (pintes)",
          "product_quantity": 100
         },
         {
          "destination": "Colchester",
          "month": "Jan",
          "product": "Eau-de-vie (pintes)",
          "product_quantity": 2360
         },
         {
          "destination": "Colchester",
          "month": "Fév",
          "product": "Eau-de-vie (pintes)",
          "product_quantity": 1300
         },
         {
          "destination": "Colchester",
          "month": "Mar",
          "product": "Eau-de-vie (pintes)",
          "product_quantity": 1420
         },
         {
          "destination": "Colchester",
          "month": "Avr",
          "product": "Eau-de-vie (pintes)",
          "product_quantity": 4440
         },
         {
          "destination": "Colchester",
          "month": "Mai",
          "product": "Eau-de-vie (pintes)",
          "product_quantity": 560
         },
         {
          "destination": "Colchester",
          "month": "Juin",
          "product": "Eau-de-vie (pintes)",
          "product_quantity": 1440
         },
         {
          "destination": "Colchester",
          "month": "Juil",
          "product": "Eau-de-vie (pintes)",
          "product_quantity": 2980
         },
         {
          "destination": "Colchester",
          "month": "Août",
          "product": "Eau-de-vie (pintes)",
          "product_quantity": 660
         },
         {
          "destination": "Colchester",
          "month": "Sep",
          "product": "Eau-de-vie (pintes)",
          "product_quantity": 3660
         },
         {
          "destination": "Colchester",
          "month": "Oct",
          "product": "Eau-de-vie (pintes)",
          "product_quantity": 1040
         },
         {
          "destination": "Colchester",
          "month": "Nov",
          "product": "Eau-de-vie (pintes)",
          "product_quantity": 1820
         },
         {
          "destination": "Colchester",
          "month": "Déc",
          "product": "Eau-de-vie (pintes)",
          "product_quantity": 1460
         },
         {
          "destination": "Colwa",
          "month": "Juin",
          "product": "Eau-de-vie (pintes)",
          "product_quantity": 200
         },
         {
          "destination": "Cowes",
          "month": "Sep",
          "product": "Eau-de-vie (pintes)",
          "product_quantity": 320
         },
         {
          "destination": "Deal",
          "month": "Jan",
          "product": "Eau-de-vie (pintes)",
          "product_quantity": 5620
         },
         {
          "destination": "Deal",
          "month": "Fév",
          "product": "Eau-de-vie (pintes)",
          "product_quantity": 12230
         },
         {
          "destination": "Deal",
          "month": "Mar",
          "product": "Eau-de-vie (pintes)",
          "product_quantity": 7420
         },
         {
          "destination": "Deal",
          "month": "Avr",
          "product": "Eau-de-vie (pintes)",
          "product_quantity": 13780
         },
         {
          "destination": "Deal",
          "month": "Mai",
          "product": "Eau-de-vie (pintes)",
          "product_quantity": 1760
         },
         {
          "destination": "Deal",
          "month": "Juin",
          "product": "Eau-de-vie (pintes)",
          "product_quantity": 4080
         },
         {
          "destination": "Deal",
          "month": "Juil",
          "product": "Eau-de-vie (pintes)",
          "product_quantity": 7200
         },
         {
          "destination": "Deal",
          "month": "Août",
          "product": "Eau-de-vie (pintes)",
          "product_quantity": 560
         },
         {
          "destination": "Deal",
          "month": "Sep",
          "product": "Eau-de-vie (pintes)",
          "product_quantity": 10080
         },
         {
          "destination": "Deal",
          "month": "Oct",
          "product": "Eau-de-vie (pintes)",
          "product_quantity": 4940
         },
         {
          "destination": "Deal",
          "month": "Nov",
          "product": "Eau-de-vie (pintes)",
          "product_quantity": 11220
         },
         {
          "destination": "Deal",
          "month": "Déc",
          "product": "Eau-de-vie (pintes)",
          "product_quantity": 7800
         },
         {
          "destination": "Douvres",
          "month": "Jan",
          "product": "Eau-de-vie (pintes)",
          "product_quantity": 4400
         },
         {
          "destination": "Douvres",
          "month": "Fév",
          "product": "Eau-de-vie (pintes)",
          "product_quantity": 1700
         },
         {
          "destination": "Douvres",
          "month": "Mar",
          "product": "Eau-de-vie (pintes)",
          "product_quantity": 1080
         },
         {
          "destination": "Douvres",
          "month": "Avr",
          "product": "Eau-de-vie (pintes)",
          "product_quantity": 4800
         },
         {
          "destination": "Douvres",
          "month": "Mai",
          "product": "Eau-de-vie (pintes)",
          "product_quantity": 5060
         },
         {
          "destination": "Douvres",
          "month": "Juin",
          "product": "Eau-de-vie (pintes)",
          "product_quantity": 3700
         },
         {
          "destination": "Douvres",
          "month": "Juil",
          "product": "Eau-de-vie (pintes)",
          "product_quantity": 6260
         },
         {
          "destination": "Douvres",
          "month": "Août",
          "product": "Eau-de-vie (pintes)",
          "product_quantity": 7480
         },
         {
          "destination": "Douvres",
          "month": "Sep",
          "product": "Eau-de-vie (pintes)",
          "product_quantity": 8420
         },
         {
          "destination": "Douvres",
          "month": "Oct",
          "product": "Eau-de-vie (pintes)",
          "product_quantity": 10340
         },
         {
          "destination": "Douvres",
          "month": "Nov",
          "product": "Eau-de-vie (pintes)",
          "product_quantity": 6820
         },
         {
          "destination": "Douvres",
          "month": "Déc",
          "product": "Eau-de-vie (pintes)",
          "product_quantity": 6900
         },
         {
          "destination": "Dungeness",
          "month": "Jan",
          "product": "Eau-de-vie (pintes)",
          "product_quantity": 3600
         },
         {
          "destination": "Dungeness",
          "month": "Fév",
          "product": "Eau-de-vie (pintes)",
          "product_quantity": 2720
         },
         {
          "destination": "Dungeness",
          "month": "Avr",
          "product": "Eau-de-vie (pintes)",
          "product_quantity": 1720
         },
         {
          "destination": "Dungeness",
          "month": "Mai",
          "product": "Eau-de-vie (pintes)",
          "product_quantity": 3600
         },
         {
          "destination": "Dungeness",
          "month": "Juin",
          "product": "Eau-de-vie (pintes)",
          "product_quantity": 220
         },
         {
          "destination": "Dungeness",
          "month": "Juil",
          "product": "Eau-de-vie (pintes)",
          "product_quantity": 400
         },
         {
          "destination": "Dungeness",
          "month": "Août",
          "product": "Eau-de-vie (pintes)",
          "product_quantity": 3200
         },
         {
          "destination": "Dungeness",
          "month": "Sep",
          "product": "Eau-de-vie (pintes)",
          "product_quantity": 560
         },
         {
          "destination": "Dungeness",
          "month": "Oct",
          "product": "Eau-de-vie (pintes)",
          "product_quantity": 900
         },
         {
          "destination": "Dungeness",
          "month": "Déc",
          "product": "Eau-de-vie (pintes)",
          "product_quantity": 800
         },
         {
          "destination": "Dymchurch",
          "month": "Fév",
          "product": "Eau-de-vie (pintes)",
          "product_quantity": 260
         },
         {
          "destination": "Dymchurch",
          "month": "Avr",
          "product": "Eau-de-vie (pintes)",
          "product_quantity": 60
         },
         {
          "destination": "Falmouth",
          "month": "Juin",
          "product": "Eau-de-vie (pintes)",
          "product_quantity": 880
         },
         {
          "destination": "Feversham",
          "month": "Jan",
          "product": "Eau-de-vie (pintes)",
          "product_quantity": 120
         },
         {
          "destination": "Feversham",
          "month": "Fév",
          "product": "Eau-de-vie (pintes)",
          "product_quantity": 1740
         },
         {
          "destination": "Feversham",
          "month": "Mar",
          "product": "Eau-de-vie (pintes)",
          "product_quantity": 60
         },
         {
          "destination": "Feversham",
          "month": "Avr",
          "product": "Eau-de-vie (pintes)",
          "product_quantity": 1300
         },
         {
          "destination": "Feversham",
          "month": "Mai",
          "product": "Eau-de-vie (pintes)",
          "product_quantity": 32
         },
         {
          "destination": "Feversham",
          "month": "Juin",
          "product": "Eau-de-vie (pintes)",
          "product_quantity": 660
         },
         {
          "destination": "Feversham",
          "month": "Juil",
          "product": "Eau-de-vie (pintes)",
          "product_quantity": 4040
         },
         {
          "destination": "Feversham",
          "month": "Août",
          "product": "Eau-de-vie (pintes)",
          "product_quantity": 5320
         },
         {
          "destination": "Feversham",
          "month": "Sep",
          "product": "Eau-de-vie (pintes)",
          "product_quantity": 600
         },
         {
          "destination": "Feversham",
          "month": "Oct",
          "product": "Eau-de-vie (pintes)",
          "product_quantity": 1500
         },
         {
          "destination": "Feversham",
          "month": "Nov",
          "product": "Eau-de-vie (pintes)",
          "product_quantity": 2700
         },
         {
          "destination": "Feversham",
          "month": "Déc",
          "product": "Eau-de-vie (pintes)",
          "product_quantity": 2180
         },
         {
          "destination": "Folkstone",
          "month": "Jan",
          "product": "Eau-de-vie (pintes)",
          "product_quantity": 4500
         },
         {
          "destination": "Folkstone",
          "month": "Fév",
          "product": "Eau-de-vie (pintes)",
          "product_quantity": 5500
         },
         {
          "destination": "Folkstone",
          "month": "Mar",
          "product": "Eau-de-vie (pintes)",
          "product_quantity": 4780
         },
         {
          "destination": "Folkstone",
          "month": "Avr",
          "product": "Eau-de-vie (pintes)",
          "product_quantity": 1120
         },
         {
          "destination": "Folkstone",
          "month": "Mai",
          "product": "Eau-de-vie (pintes)",
          "product_quantity": 10120
         },
         {
          "destination": "Folkstone",
          "month": "Juin",
          "product": "Eau-de-vie (pintes)",
          "product_quantity": 1620
         },
         {
          "destination": "Folkstone",
          "month": "Juil",
          "product": "Eau-de-vie (pintes)",
          "product_quantity": 4500
         },
         {
          "destination": "Folkstone",
          "month": "Août",
          "product": "Eau-de-vie (pintes)",
          "product_quantity": 3200
         },
         {
          "destination": "Folkstone",
          "month": "Sep",
          "product": "Eau-de-vie (pintes)",
          "product_quantity": 1020
         },
         {
          "destination": "Folkstone",
          "month": "Oct",
          "product": "Eau-de-vie (pintes)",
          "product_quantity": 680
         },
         {
          "destination": "Folkstone",
          "month": "Nov",
          "product": "Eau-de-vie (pintes)",
          "product_quantity": 400
         },
         {
          "destination": "Folkstone",
          "month": "Déc",
          "product": "Eau-de-vie (pintes)",
          "product_quantity": 200
         },
         {
          "destination": "Foy",
          "month": "Avr",
          "product": "Eau-de-vie (pintes)",
          "product_quantity": 120
         },
         {
          "destination": "Guernezé",
          "month": "Avr",
          "product": "Eau-de-vie (pintes)",
          "product_quantity": 4000
         },
         {
          "destination": "Harwich",
          "month": "Jan",
          "product": "Eau-de-vie (pintes)",
          "product_quantity": 400
         },
         {
          "destination": "Harwich",
          "month": "Fév",
          "product": "Eau-de-vie (pintes)",
          "product_quantity": 200
         },
         {
          "destination": "Harwich",
          "month": "Avr",
          "product": "Eau-de-vie (pintes)",
          "product_quantity": 200
         },
         {
          "destination": "Harwich",
          "month": "Juil",
          "product": "Eau-de-vie (pintes)",
          "product_quantity": 660
         },
         {
          "destination": "Harwich",
          "month": "Août",
          "product": "Eau-de-vie (pintes)",
          "product_quantity": 100
         },
         {
          "destination": "Harwich",
          "month": "Sep",
          "product": "Eau-de-vie (pintes)",
          "product_quantity": 120
         },
         {
          "destination": "Harwich",
          "month": "Oct",
          "product": "Eau-de-vie (pintes)",
          "product_quantity": 400
         },
         {
          "destination": "Hastings",
          "month": "Jan",
          "product": "Eau-de-vie (pintes)",
          "product_quantity": 2080
         },
         {
          "destination": "Hastings",
          "month": "Mar",
          "product": "Eau-de-vie (pintes)",
          "product_quantity": 980
         },
         {
          "destination": "Hastings",
          "month": "Avr",
          "product": "Eau-de-vie (pintes)",
          "product_quantity": 10520
         },
         {
          "destination": "Hastings",
          "month": "Mai",
          "product": "Eau-de-vie (pintes)",
          "product_quantity": 200
         },
         {
          "destination": "Hastings",
          "month": "Juin",
          "product": "Eau-de-vie (pintes)",
          "product_quantity": 760
         },
         {
          "destination": "Hastings",
          "month": "Juil",
          "product": "Eau-de-vie (pintes)",
          "product_quantity": 1780
         },
         {
          "destination": "Hastings",
          "month": "Août",
          "product": "Eau-de-vie (pintes)",
          "product_quantity": 400
         },
         {
          "destination": "Hastings",
          "month": "Sep",
          "product": "Eau-de-vie (pintes)",
          "product_quantity": 4100
         },
         {
          "destination": "Hastings",
          "month": "Oct",
          "product": "Eau-de-vie (pintes)",
          "product_quantity": 2960
         },
         {
          "destination": "Hastings",
          "month": "Nov",
          "product": "Eau-de-vie (pintes)",
          "product_quantity": 3940
         },
         {
          "destination": "Hastings",
          "month": "Déc",
          "product": "Eau-de-vie (pintes)",
          "product_quantity": 1060
         },
         {
          "destination": "Hythe",
          "month": "Fév",
          "product": "Eau-de-vie (pintes)",
          "product_quantity": 400
         },
         {
          "destination": "Hythe",
          "month": "Mar",
          "product": "Eau-de-vie (pintes)",
          "product_quantity": 540
         },
         {
          "destination": "Ipswich",
          "month": "Juin",
          "product": "Eau-de-vie (pintes)",
          "product_quantity": 160
         },
         {
          "destination": "Ladgley",
          "month": "Juil",
          "product": "Eau-de-vie (pintes)",
          "product_quantity": 60
         },
         {
          "destination": "Lee",
          "month": "Jan",
          "product": "Eau-de-vie (pintes)",
          "product_quantity": 800
         },
         {
          "destination": "Lee",
          "month": "Mar",
          "product": "Eau-de-vie (pintes)",
          "product_quantity": 600
         },
         {
          "destination": "Lee",
          "month": "Avr",
          "product": "Eau-de-vie (pintes)",
          "product_quantity": 700
         },
         {
          "destination": "Lee",
          "month": "Mai",
          "product": "Eau-de-vie (pintes)",
          "product_quantity": 1200
         },
         {
          "destination": "Lee",
          "month": "Juin",
          "product": "Eau-de-vie (pintes)",
          "product_quantity": 1380
         },
         {
          "destination": "Lee",
          "month": "Juil",
          "product": "Eau-de-vie (pintes)",
          "product_quantity": 440
         },
         {
          "destination": "Lee",
          "month": "Août",
          "product": "Eau-de-vie (pintes)",
          "product_quantity": 1360
         },
         {
          "destination": "Lee",
          "month": "Sep",
          "product": "Eau-de-vie (pintes)",
          "product_quantity": 360
         },
         {
          "destination": "Lee",
          "month": "Oct",
          "product": "Eau-de-vie (pintes)",
          "product_quantity": 200
         },
         {
          "destination": "Lee",
          "month": "Nov",
          "product": "Eau-de-vie (pintes)",
          "product_quantity": 620
         },
         {
          "destination": "Lee",
          "month": "Déc",
          "product": "Eau-de-vie (pintes)",
          "product_quantity": 680
         },
         {
          "destination": "Leith",
          "month": "Oct",
          "product": "Eau-de-vie (pintes)",
          "product_quantity": 1640
         },
         {
          "destination": "Londres",
          "month": "Mar",
          "product": "Eau-de-vie (pintes)",
          "product_quantity": 80
         },
         {
          "destination": "Londres",
          "month": "Juil",
          "product": "Eau-de-vie (pintes)",
          "product_quantity": 40
         },
         {
          "destination": "Lynn",
          "month": "Jan",
          "product": "Eau-de-vie (pintes)",
          "product_quantity": 2000
         },
         {
          "destination": "Lynn",
          "month": "Mar",
          "product": "Eau-de-vie (pintes)",
          "product_quantity": 160
         },
         {
          "destination": "Lynn",
          "month": "Mai",
          "product": "Eau-de-vie (pintes)",
          "product_quantity": 400
         },
         {
          "destination": "Lynn",
          "month": "Août",
          "product": "Eau-de-vie (pintes)",
          "product_quantity": 1100
         },
         {
          "destination": "Lydd",
          "month": "Fév",
          "product": "Eau-de-vie (pintes)",
          "product_quantity": 2000
         },
         {
          "destination": "Lydd",
          "month": "Avr",
          "product": "Eau-de-vie (pintes)",
          "product_quantity": 360
         },
         {
          "destination": "Lydd",
          "month": "Mai",
          "product": "Eau-de-vie (pintes)",
          "product_quantity": 160
         },
         {
          "destination": "Lydd",
          "month": "Juil",
          "product": "Eau-de-vie (pintes)",
          "product_quantity": 1100
         },
         {
          "destination": "Maldene",
          "month": "Jan",
          "product": "Eau-de-vie (pintes)",
          "product_quantity": 3220
         },
         {
          "destination": "Maldene",
          "month": "Fév",
          "product": "Eau-de-vie (pintes)",
          "product_quantity": 1500
         },
         {
          "destination": "Maldene",
          "month": "Mar",
          "product": "Eau-de-vie (pintes)",
          "product_quantity": 2620
         },
         {
          "destination": "Maldene",
          "month": "Avr",
          "product": "Eau-de-vie (pintes)",
          "product_quantity": 2740
         },
         {
          "destination": "Maldene",
          "month": "Mai",
          "product": "Eau-de-vie (pintes)",
          "product_quantity": 1140
         },
         {
          "destination": "Maldene",
          "month": "Juin",
          "product": "Eau-de-vie (pintes)",
          "product_quantity": 1460
         },
         {
          "destination": "Maldene",
          "month": "Juil",
          "product": "Eau-de-vie (pintes)",
          "product_quantity": 1380
         },
         {
          "destination": "Maldene",
          "month": "Août",
          "product": "Eau-de-vie (pintes)",
          "product_quantity": 1540
         },
         {
          "destination": "Maldene",
          "month": "Sep",
          "product": "Eau-de-vie (pintes)",
          "product_quantity": 540
         },
         {
          "destination": "Maldene",
          "month": "Oct",
          "product": "Eau-de-vie (pintes)",
          "product_quantity": 1440
         },
         {
          "destination": "Maldene",
          "month": "Nov",
          "product": "Eau-de-vie (pintes)",
          "product_quantity": 720
         },
         {
          "destination": "Maldene",
          "month": "Déc",
          "product": "Eau-de-vie (pintes)",
          "product_quantity": 2180
         },
         {
          "destination": "Margate",
          "month": "Jan",
          "product": "Eau-de-vie (pintes)",
          "product_quantity": 520
         },
         {
          "destination": "Margate",
          "month": "Mar",
          "product": "Eau-de-vie (pintes)",
          "product_quantity": 400
         },
         {
          "destination": "Margate",
          "month": "Avr",
          "product": "Eau-de-vie (pintes)",
          "product_quantity": 540
         },
         {
          "destination": "Margate",
          "month": "Mai",
          "product": "Eau-de-vie (pintes)",
          "product_quantity": 1200
         },
         {
          "destination": "Margate",
          "month": "Août",
          "product": "Eau-de-vie (pintes)",
          "product_quantity": 400
         },
         {
          "destination": "Margate",
          "month": "Oct",
          "product": "Eau-de-vie (pintes)",
          "product_quantity": 160
         },
         {
          "destination": "Margate",
          "month": "Déc",
          "product": "Eau-de-vie (pintes)",
          "product_quantity": 580
         },
         {
          "destination": "Milton",
          "month": "Mai",
          "product": "Eau-de-vie (pintes)",
          "product_quantity": 800
         },
         {
          "destination": "Milton",
          "month": "Août",
          "product": "Eau-de-vie (pintes)",
          "product_quantity": 200
         },
         {
          "destination": "Milton",
          "month": "Nov",
          "product": "Eau-de-vie (pintes)",
          "product_quantity": 80
         },
         {
          "destination": "Pegwell",
          "month": "Jan",
          "product": "Eau-de-vie (pintes)",
          "product_quantity": 800
         },
         {
          "destination": "Pegwell",
          "month": "Fév",
          "product": "Eau-de-vie (pintes)",
          "product_quantity": 460
         },
         {
          "destination": "Pegwell",
          "month": "Mar",
          "product": "Eau-de-vie (pintes)",
          "product_quantity": 200
         },
         {
          "destination": "Pegwell",
          "month": "Avr",
          "product": "Eau-de-vie (pintes)",
          "product_quantity": 400
         },
         {
          "destination": "Pegwell",
          "month": "Juin",
          "product": "Eau-de-vie (pintes)",
          "product_quantity": 800
         },
         {
          "destination": "Pegwell",
          "month": "Août",
          "product": "Eau-de-vie (pintes)",
          "product_quantity": 800
         },
         {
          "destination": "Reculver",
          "month": "Juin",
          "product": "Eau-de-vie (pintes)",
          "product_quantity": 560
         },
         {
          "destination": "Reculver",
          "month": "Juil",
          "product": "Eau-de-vie (pintes)",
          "product_quantity": 160
         },
         {
          "destination": "Reculver",
          "month": "Sep",
          "product": "Eau-de-vie (pintes)",
          "product_quantity": 600
         },
         {
          "destination": "Reculver",
          "month": "Nov",
          "product": "Eau-de-vie (pintes)",
          "product_quantity": 800
         },
         {
          "destination": "Rochester",
          "month": "Jan",
          "product": "Eau-de-vie (pintes)",
          "product_quantity": 160
         },
         {
          "destination": "Rochester",
          "month": "Fév",
          "product": "Eau-de-vie (pintes)",
          "product_quantity": 260
         },
         {
          "destination": "Rochester",
          "month": "Mar",
          "product": "Eau-de-vie (pintes)",
          "product_quantity": 2540
         },
         {
          "destination": "Rochester",
          "month": "Oct",
          "product": "Eau-de-vie (pintes)",
          "product_quantity": 480
         },
         {
          "destination": "Rye",
          "month": "Fév",
          "product": "Eau-de-vie (pintes)",
          "product_quantity": 720
         },
         {
          "destination": "Rye",
          "month": "Mai",
          "product": "Eau-de-vie (pintes)",
          "product_quantity": 740
         },
         {
          "destination": "Rye",
          "month": "Juin",
          "product": "Eau-de-vie (pintes)",
          "product_quantity": 200
         },
         {
          "destination": "Rye",
          "month": "Août",
          "product": "Eau-de-vie (pintes)",
          "product_quantity": 2000
         },
         {
          "destination": "Rye",
          "month": "Sep",
          "product": "Eau-de-vie (pintes)",
          "product_quantity": 1340
         },
         {
          "destination": "Rye",
          "month": "Nov",
          "product": "Eau-de-vie (pintes)",
          "product_quantity": 640
         },
         {
          "destination": "Rye",
          "month": "Déc",
          "product": "Eau-de-vie (pintes)",
          "product_quantity": 1080
         },
         {
          "destination": "Feasalter",
          "month": "Nov",
          "product": "Eau-de-vie (pintes)",
          "product_quantity": 1340
         },
         {
          "destination": "Southwould",
          "month": "Juil",
          "product": "Eau-de-vie (pintes)",
          "product_quantity": 1060
         },
         {
          "destination": "Whistable",
          "month": "Jan",
          "product": "Eau-de-vie (pintes)",
          "product_quantity": 1560
         },
         {
          "destination": "Whistable",
          "month": "Fév",
          "product": "Eau-de-vie (pintes)",
          "product_quantity": 880
         },
         {
          "destination": "Whistable",
          "month": "Mar",
          "product": "Eau-de-vie (pintes)",
          "product_quantity": 1520
         },
         {
          "destination": "Whistable",
          "month": "Avr",
          "product": "Eau-de-vie (pintes)",
          "product_quantity": 520
         },
         {
          "destination": "Whistable",
          "month": "Mai",
          "product": "Eau-de-vie (pintes)",
          "product_quantity": 200
         },
         {
          "destination": "Whistable",
          "month": "Juin",
          "product": "Eau-de-vie (pintes)",
          "product_quantity": 3320
         },
         {
          "destination": "Whistable",
          "month": "Juil",
          "product": "Eau-de-vie (pintes)",
          "product_quantity": 2080
         },
         {
          "destination": "Whistable",
          "month": "Août",
          "product": "Eau-de-vie (pintes)",
          "product_quantity": 1760
         },
         {
          "destination": "Whistable",
          "month": "Sep",
          "product": "Eau-de-vie (pintes)",
          "product_quantity": 1680
         },
         {
          "destination": "Whistable",
          "month": "Oct",
          "product": "Eau-de-vie (pintes)",
          "product_quantity": 800
         },
         {
          "destination": "Whistable",
          "month": "Nov",
          "product": "Eau-de-vie (pintes)",
          "product_quantity": 920
         },
         {
          "destination": "Whistable",
          "month": "Déc",
          "product": "Eau-de-vie (pintes)",
          "product_quantity": 3940
         },
         {
          "destination": "Wivenhse",
          "month": "Jan",
          "product": "Eau-de-vie (pintes)",
          "product_quantity": 1800
         },
         {
          "destination": "Wivenhse",
          "month": "Fév",
          "product": "Eau-de-vie (pintes)",
          "product_quantity": 1400
         },
         {
          "destination": "Wivenhse",
          "month": "Mar",
          "product": "Eau-de-vie (pintes)",
          "product_quantity": 840
         },
         {
          "destination": "Wivenhse",
          "month": "Avr",
          "product": "Eau-de-vie (pintes)",
          "product_quantity": 2420
         },
         {
          "destination": "Woodbridge",
          "month": "Avr",
          "product": "Eau-de-vie (pintes)",
          "product_quantity": 800
         },
         {
          "destination": "Woodbridge",
          "month": "Mai",
          "product": "Eau-de-vie (pintes)",
          "product_quantity": 100
         },
         {
          "destination": "Yarmouth",
          "month": "Mar",
          "product": "Eau-de-vie (pintes)",
          "product_quantity": 420
         },
         {
          "destination": "Yarmouth",
          "month": "Juin",
          "product": "Eau-de-vie (pintes)",
          "product_quantity": 1200
         },
         {
          "destination": "Yarmouth",
          "month": "Juil",
          "product": "Eau-de-vie (pintes)",
          "product_quantity": 1200
         },
         {
          "destination": "Yarmouth",
          "month": "Août",
          "product": "Eau-de-vie (pintes)",
          "product_quantity": 200
         },
         {
          "destination": "Yarmouth",
          "month": "Sep",
          "product": "Eau-de-vie (pintes)",
          "product_quantity": 200
         },
         {
          "destination": "Yarmouth",
          "month": "Oct",
          "product": "Eau-de-vie (pintes)",
          "product_quantity": 540
         },
         {
          "destination": "Yarmouth",
          "month": "Déc",
          "product": "Eau-de-vie (pintes)",
          "product_quantity": 1000
         },
         {
          "destination": "Brightlandsee",
          "month": "Jan",
          "product": "Tafia (pintes)",
          "product_quantity": 80
         },
         {
          "destination": "Brightlandsee",
          "month": "Fév",
          "product": "Tafia (pintes)",
          "product_quantity": 20
         },
         {
          "destination": "Brightlandsee",
          "month": "Mar",
          "product": "Tafia (pintes)",
          "product_quantity": 400
         },
         {
          "destination": "Brightlandsee",
          "month": "Avr",
          "product": "Tafia (pintes)",
          "product_quantity": 400
         },
         {
          "destination": "Burnham",
          "month": "Jan",
          "product": "Tafia (pintes)",
          "product_quantity": 540
         },
         {
          "destination": "Burnham",
          "month": "Fév",
          "product": "Tafia (pintes)",
          "product_quantity": 120
         },
         {
          "destination": "Burnham",
          "month": "Juin",
          "product": "Tafia (pintes)",
          "product_quantity": 340
         },
         {
          "destination": "Burnham",
          "month": "Août",
          "product": "Tafia (pintes)",
          "product_quantity": 80
         },
         {
          "destination": "Burnham",
          "month": "Sep",
          "product": "Tafia (pintes)",
          "product_quantity": 600
         },
         {
          "destination": "Burnham",
          "month": "Oct",
          "product": "Tafia (pintes)",
          "product_quantity": 1700
         },
         {
          "destination": "Burnham",
          "month": "Nov",
          "product": "Tafia (pintes)",
          "product_quantity": 820
         },
         {
          "destination": "Burnham",
          "month": "Déc",
          "product": "Tafia (pintes)",
          "product_quantity": 40
         },
         {
          "destination": "Chichester",
          "month": "Nov",
          "product": "Tafia (pintes)",
          "product_quantity": 1000
         },
         {
          "destination": "Chichester",
          "month": "Déc",
          "product": "Tafia (pintes)",
          "product_quantity": 100
         },
         {
          "destination": "Colchester",
          "month": "Jan",
          "product": "Tafia (pintes)",
          "product_quantity": 900
         },
         {
          "destination": "Colchester",
          "month": "Fév",
          "product": "Tafia (pintes)",
          "product_quantity": 120
         },
         {
          "destination": "Colchester",
          "month": "Mar",
          "product": "Tafia (pintes)",
          "product_quantity": 2740
         },
         {
          "destination": "Colchester",
          "month": "Avr",
          "product": "Tafia (pintes)",
          "product_quantity": 520
         },
         {
          "destination": "Colchester",
          "month": "Mai",
          "product": "Tafia (pintes)",
          "product_quantity": 100
         },
         {
          "destination": "Colchester",
          "month": "Juin",
          "product": "Tafia (pintes)",
          "product_quantity": 520
         },
         {
          "destination": "Colchester",
          "month": "Juil",
          "product": "Tafia (pintes)",
          "product_quantity": 1620
         },
         {
          "destination": "Colchester",
          "month": "Août",
          "product": "Tafia (pintes)",
          "product_quantity": 100
         },
         {
          "destination": "Colchester",
          "month": "Sep",
          "product": "Tafia (pintes)",
          "product_quantity": 860
         },
         {
          "destination": "Colchester",
          "month": "Oct",
          "product": "Tafia (pintes)",
          "product_quantity": 800
         },
         {
          "destination": "Colchester",
          "month": "Nov",
          "product": "Tafia (pintes)",
          "product_quantity": 2420
         },
         {
          "destination": "Colchester",
          "month": "Déc",
          "product": "Tafia (pintes)",
          "product_quantity": 400
         },
         {
          "destination": "Colway",
          "month": "Juin",
          "product": "Tafia (pintes)",
          "product_quantity": 240
         },
         {
          "destination": "Cowes",
          "month": "Sep",
          "product": "Tafia (pintes)",
          "product_quantity": 240
         },
         {
          "destination": "Deal",
          "month": "Jan",
          "product": "Tafia (pintes)",
          "product_quantity": 1740
         },
         {
          "destination": "Deal",
          "month": "Fév",
          "product": "Tafia (pintes)",
          "product_quantity": 5140
         },
         {
          "destination": "Deal",
          "month": "Mar",
          "product": "Tafia (pintes)",
          "product_quantity": 2420
         },
         {
          "destination": "Deal",
          "month": "Avr",
          "product": "Tafia (pintes)",
          "product_quantity": 4620
         },
         {
          "destination": "Deal",
          "month": "Mai",
          "product": "Tafia (pintes)",
          "product_quantity": 1200
         },
         {
          "destination": "Deal",
          "month": "Juin",
          "product": "Tafia (pintes)",
          "product_quantity": 2500
         },
         {
          "destination": "Deal",
          "month": "Juil",
          "product": "Tafia (pintes)",
          "product_quantity": 3540
         },
         {
          "destination": "Deal",
          "month": "Août",
          "product": "Tafia (pintes)",
          "product_quantity": 4060
         },
         {
          "destination": "Deal",
          "month": "Sep",
          "product": "Tafia (pintes)",
          "product_quantity": 2180
         },
         {
          "destination": "Deal",
          "month": "Oct",
          "product": "Tafia (pintes)",
          "product_quantity": 1980
         },
         {
          "destination": "Deal",
          "month": "Nov",
          "product": "Tafia (pintes)",
          "product_quantity": 4140
         },
         {
          "destination": "Deal",
          "month": "Déc",
          "product": "Tafia (pintes)",
          "product_quantity": 4880
         },
         {
          "destination": "Douvres",
          "month": "Jan",
          "product": "Tafia (pintes)",
          "product_quantity": 1160
         },
         {
          "destination": "Douvres",
          "month": "Fév",
          "product": "Tafia (pintes)",
          "product_quantity": 700
         },
         {
          "destination": "Douvres",
          "month": "Mar",
          "product": "Tafia (pintes)",
          "product_quantity": 440
         },
         {
          "destination": "Douvres",
          "month": "Avr",
          "product": "Tafia (pintes)",
          "product_quantity": 2180
         },
         {
          "destination": "Douvres",
          "month": "Mai",
          "product": "Tafia (pintes)",
          "product_quantity": 2320
         },
         {
          "destination": "Douvres",
          "month": "Juin",
          "product": "Tafia (pintes)",
          "product_quantity": 1400
         },
         {
          "destination": "Douvres",
          "month": "Juil",
          "product": "Tafia (pintes)",
          "product_quantity": 1440
         },
         {
          "destination": "Douvres",
          "month": "Août",
          "product": "Tafia (pintes)",
          "product_quantity": 620
         },
         {
          "destination": "Douvres",
          "month": "Sep",
          "product": "Tafia (pintes)",
          "product_quantity": 3620
         },
         {
          "destination": "Douvres",
          "month": "Oct",
          "product": "Tafia (pintes)",
          "product_quantity": 5520
         },
         {
          "destination": "Douvres",
          "month": "Nov",
          "product": "Tafia (pintes)",
          "product_quantity": 7960
         },
         {
          "destination": "Douvres",
          "month": "Déc",
          "product": "Tafia (pintes)",
          "product_quantity": 6900
         },
         {
          "destination": "Dungeness",
          "month": "Jan",
          "product": "Tafia (pintes)",
          "product_quantity": 5000
         },
         {
          "destination": "Dungeness",
          "month": "Fév",
          "product": "Tafia (pintes)",
          "product_quantity": 160
         },
         {
          "destination": "Dungeness",
          "month": "Avr",
          "product": "Tafia (pintes)",
          "product_quantity": 2420
         },
         {
          "destination": "Dungeness",
          "month": "Mai",
          "product": "Tafia (pintes)",
          "product_quantity": 2400
         },
         {
          "destination": "Dungeness",
          "month": "Juin",
          "product": "Tafia (pintes)",
          "product_quantity": 120
         },
         {
          "destination": "Dungeness",
          "month": "Juil",
          "product": "Tafia (pintes)",
          "product_quantity": 110
         },
         {
          "destination": "Dungeness",
          "month": "Août",
          "product": "Tafia (pintes)",
          "product_quantity": 4200
         },
         {
          "destination": "Dungeness",
          "month": "Sep",
          "product": "Tafia (pintes)",
          "product_quantity": 1900
         },
         {
          "destination": "Dungeness",
          "month": "Oct",
          "product": "Tafia (pintes)",
          "product_quantity": 2100
         },
         {
          "destination": "Dungeness",
          "month": "Déc",
          "product": "Tafia (pintes)",
          "product_quantity": 300
         },
         {
          "destination": "Dymchurch",
          "month": "Fév",
          "product": "Tafia (pintes)",
          "product_quantity": 780
         },
         {
          "destination": "Dymchurch",
          "month": "Mar",
          "product": "Tafia (pintes)",
          "product_quantity": 1200
         },
         {
          "destination": "Dymchurch",
          "month": "Juin",
          "product": "Tafia (pintes)",
          "product_quantity": 1360
         },
         {
          "destination": "Folkstone",
          "month": "Jan",
          "product": "Tafia (pintes)",
          "product_quantity": 6700
         },
         {
          "destination": "Folkstone",
          "month": "Fév",
          "product": "Tafia (pintes)",
          "product_quantity": 2760
         },
         {
          "destination": "Folkstone",
          "month": "Mar",
          "product": "Tafia (pintes)",
          "product_quantity": 4080
         },
         {
          "destination": "Folkstone",
          "month": "Avr",
          "product": "Tafia (pintes)",
          "product_quantity": 100
         },
         {
          "destination": "Folkstone",
          "month": "Mai",
          "product": "Tafia (pintes)",
          "product_quantity": 7460
         },
         {
          "destination": "Folkstone",
          "month": "Juin",
          "product": "Tafia (pintes)",
          "product_quantity": 1600
         },
         {
          "destination": "Folkstone",
          "month": "Juil",
          "product": "Tafia (pintes)",
          "product_quantity": 1500
         },
         {
          "destination": "Folkstone",
          "month": "Août",
          "product": "Tafia (pintes)",
          "product_quantity": 1000
         },
         {
          "destination": "Folkstone",
          "month": "Sep",
          "product": "Tafia (pintes)",
          "product_quantity": 1000
         },
         {
          "destination": "Folkstone",
          "month": "Oct",
          "product": "Tafia (pintes)",
          "product_quantity": 200
         },
         {
          "destination": "Folkstone",
          "month": "Nov",
          "product": "Tafia (pintes)",
          "product_quantity": 600
         },
         {
          "destination": "Folkstone",
          "month": "Déc",
          "product": "Tafia (pintes)",
          "product_quantity": 160
         },
         {
          "destination": "Falmouth",
          "month": "Juin",
          "product": "Tafia (pintes)",
          "product_quantity": 920
         },
         {
          "destination": "Feversham",
          "month": "Jan",
          "product": "Tafia (pintes)",
          "product_quantity": 1060
         },
         {
          "destination": "Feversham",
          "month": "Fév",
          "product": "Tafia (pintes)",
          "product_quantity": 2020
         },
         {
          "destination": "Feversham",
          "month": "Mar",
          "product": "Tafia (pintes)",
          "product_quantity": 40
         },
         {
          "destination": "Feversham",
          "month": "Avr",
          "product": "Tafia (pintes)",
          "product_quantity": 1220
         },
         {
          "destination": "Feversham",
          "month": "Mai",
          "product": "Tafia (pintes)",
          "product_quantity": 200
         },
         {
          "destination": "Feversham",
          "month": "Juin",
          "product": "Tafia (pintes)",
          "product_quantity": 1380
         },
         {
          "destination": "Feversham",
          "month": "Juil",
          "product": "Tafia (pintes)",
          "product_quantity": 1000
         },
         {
          "destination": "Feversham",
          "month": "Août",
          "product": "Tafia (pintes)",
          "product_quantity": 2960
         },
         {
          "destination": "Feversham",
          "month": "Sep",
          "product": "Tafia (pintes)",
          "product_quantity": 4120
         },
         {
          "destination": "Feversham",
          "month": "Oct",
          "product": "Tafia (pintes)",
          "product_quantity": 340
         },
         {
          "destination": "Feversham",
          "month": "Nov",
          "product": "Tafia (pintes)",
          "product_quantity": 1520
         },
         {
          "destination": "Feversham",
          "month": "Déc",
          "product": "Tafia (pintes)",
          "product_quantity": 1060
         },
         {
          "destination": "Guernezé",
          "month": "Avr",
          "product": "Tafia (pintes)",
          "product_quantity": 2000
         },
         {
          "destination": "Guernezé",
          "month": "Déc",
          "product": "Tafia (pintes)",
          "product_quantity": 800
         },
         {
          "destination": "Harwich",
          "month": "Avr",
          "product": "Tafia (pintes)",
          "product_quantity": 200
         },
         {
          "destination": "Harwich",
          "month": "Juil",
          "product": "Tafia (pintes)",
          "product_quantity": 400
         },
         {
          "destination": "Harwich",
          "month": "Août",
          "product": "Tafia (pintes)",
          "product_quantity": 100
         },
         {
          "destination": "Harwich",
          "month": "Sep",
          "product": "Tafia (pintes)",
          "product_quantity": 20
         },
         {
          "destination": "Harwich",
          "month": "Oct",
          "product": "Tafia (pintes)",
          "product_quantity": 400
         },
         {
          "destination": "Hastings",
          "month": "Jan",
          "product": "Tafia (pintes)",
          "product_quantity": 8400
         },
         {
          "destination": "Hastings",
          "month": "Fév",
          "product": "Tafia (pintes)",
          "product_quantity": 1000
         },
         {
          "destination": "Hastings",
          "month": "Mar",
          "product": "Tafia (pintes)",
          "product_quantity": 2240
         },
         {
          "destination": "Hastings",
          "month": "Avr",
          "product": "Tafia (pintes)",
          "product_quantity": 6460
         },
         {
          "destination": "Hastings",
          "month": "Mai",
          "product": "Tafia (pintes)",
          "product_quantity": 200
         },
         {
          "destination": "Hastings",
          "month": "Juin",
          "product": "Tafia (pintes)",
          "product_quantity": 7020
         },
         {
          "destination": "Hastings",
          "month": "Juil",
          "product": "Tafia (pintes)",
          "product_quantity": 4000
         },
         {
          "destination": "Hastings",
          "month": "Août",
          "product": "Tafia (pintes)",
          "product_quantity": 240
         },
         {
          "destination": "Hastings",
          "month": "Sep",
          "product": "Tafia (pintes)",
          "product_quantity": 3800
         },
         {
          "destination": "Hastings",
          "month": "Oct",
          "product": "Tafia (pintes)",
          "product_quantity": 7340
         },
         {
          "destination": "Hastings",
          "month": "Nov",
          "product": "Tafia (pintes)",
          "product_quantity": 7660
         },
         {
          "destination": "Hastings",
          "month": "Déc",
          "product": "Tafia (pintes)",
          "product_quantity": 1530
         },
         {
          "destination": "Hythe",
          "month": "Fév",
          "product": "Tafia (pintes)",
          "product_quantity": 26
         },
         {
          "destination": "Hythe",
          "month": "Mar",
          "product": "Tafia (pintes)",
          "product_quantity": 240
         },
         {
          "destination": "Ipswich",
          "month": "Juin",
          "product": "Tafia (pintes)",
          "product_quantity": 80
         },
         {
          "destination": "Landeley",
          "month": "Juil",
          "product": "Tafia (pintes)",
          "product_quantity": 200
         },
         {
          "destination": "Lee",
          "month": "Jan",
          "product": "Tafia (pintes)",
          "product_quantity": 620
         },
         {
          "destination": "Lee",
          "month": "Mar",
          "product": "Tafia (pintes)",
          "product_quantity": 200
         },
         {
          "destination": "Lee",
          "month": "Avr",
          "product": "Tafia (pintes)",
          "product_quantity": 400
         },
         {
          "destination": "Lee",
          "month": "Mai",
          "product": "Tafia (pintes)",
          "product_quantity": 4220
         },
         {
          "destination": "Lee",
          "month": "Juin",
          "product": "Tafia (pintes)",
          "product_quantity": 780
         },
         {
          "destination": "Lee",
          "month": "Juil",
          "product": "Tafia (pintes)",
          "product_quantity": 120
         },
         {
          "destination": "Lee",
          "month": "Août",
          "product": "Tafia (pintes)",
          "product_quantity": 2940
         },
         {
          "destination": "Lee",
          "month": "Sep",
          "product": "Tafia (pintes)",
          "product_quantity": 160
         },
         {
          "destination": "Lee",
          "month": "Oct",
          "product": "Tafia (pintes)",
          "product_quantity": 120
         },
         {
          "destination": "Lee",
          "month": "Nov",
          "product": "Tafia (pintes)",
          "product_quantity": 340
         },
         {
          "destination": "Lee",
          "month": "Déc",
          "product": "Tafia (pintes)",
          "product_quantity": 280
         },
         {
          "destination": "Leith",
          "month": "Oct",
          "product": "Tafia (pintes)",
          "product_quantity": 2400
         },
         {
          "destination": "Londres",
          "month": "Mar",
          "product": "Tafia (pintes)",
          "product_quantity": 20
         },
         {
          "destination": "Lynn",
          "month": "Mai",
          "product": "Tafia (pintes)",
          "product_quantity": 200
         },
         {
          "destination": "Lynn",
          "month": "Août",
          "product": "Tafia (pintes)",
          "product_quantity": 2380
         },
         {
          "destination": "Lydd",
          "month": "Fév",
          "product": "Tafia (pintes)",
          "product_quantity": 200
         },
         {
          "destination": "Lydd",
          "month": "Avr",
          "product": "Tafia (pintes)",
          "product_quantity": 720
         },
         {
          "destination": "Lydd",
          "month": "Mai",
          "product": "Tafia (pintes)",
          "product_quantity": 120
         },
         {
          "destination": "Lydd",
          "month": "Juil",
          "product": "Tafia (pintes)",
          "product_quantity": 1800
         },
         {
          "destination": "Malden",
          "month": "Jan",
          "product": "Tafia (pintes)",
          "product_quantity": 1300
         },
         {
          "destination": "Malden",
          "month": "Fév",
          "product": "Tafia (pintes)",
          "product_quantity": 1940
         },
         {
          "destination": "Malden",
          "month": "Mar",
          "product": "Tafia (pintes)",
          "product_quantity": 960
         },
         {
          "destination": "Malden",
          "month": "Avr",
          "product": "Tafia (pintes)",
          "product_quantity": 2780
         },
         {
          "destination": "Malden",
          "month": "Mai",
          "product": "Tafia (pintes)",
          "product_quantity": 620
         },
         {
          "destination": "Malden",
          "month": "Juin",
          "product": "Tafia (pintes)",
          "product_quantity": 1000
         },
         {
          "destination": "Malden",
          "month": "Juil",
          "product": "Tafia (pintes)",
          "product_quantity": 320
         },
         {
          "destination": "Malden",
          "month": "Août",
          "product": "Tafia (pintes)",
          "product_quantity": 1700
         },
         {
          "destination": "Malden",
          "month": "Sep",
          "product": "Tafia (pintes)",
          "product_quantity": 280
         },
         {
          "destination": "Malden",
          "month": "Oct",
          "product": "Tafia (pintes)",
          "product_quantity": 460
         },
         {
          "destination": "Malden",
          "month": "Nov",
          "product": "Tafia (pintes)",
          "product_quantity": 2620
         },
         {
          "destination": "Malden",
          "month": "Déc",
          "product": "Tafia (pintes)",
          "product_quantity": 840
         },
         {
          "destination": "Margate",
          "month": "Jan",
          "product": "Tafia (pintes)",
          "product_quantity": 400
         },
         {
          "destination": "Margate",
          "month": "Mar",
          "product": "Tafia (pintes)",
          "product_quantity": 1080
         },
         {
          "destination": "Margate",
          "month": "Avr",
          "product": "Tafia (pintes)",
          "product_quantity": 1220
         },
         {
          "destination": "Margate",
          "month": "Mai",
          "product": "Tafia (pintes)",
          "product_quantity": 280
         },
         {
          "destination": "Margate",
          "month": "Août",
          "product": "Tafia (pintes)",
          "product_quantity": 200
         },
         {
          "destination": "Margate",
          "month": "Oct",
          "product": "Tafia (pintes)",
          "product_quantity": 100
         },
         {
          "destination": "Margate",
          "month": "Déc",
          "product": "Tafia (pintes)",
          "product_quantity": 300
         },
         {
          "destination": "Milton",
          "month": "Août",
          "product": "Tafia (pintes)",
          "product_quantity": 80
         },
         {
          "destination": "Pegwell",
          "month": "Jan",
          "product": "Tafia (pintes)",
          "product_quantity": 400
         },
         {
          "destination": "Pegwell",
          "month": "Mar",
          "product": "Tafia (pintes)",
          "product_quantity": 400
         },
         {
          "destination": "Pegwell",
          "month": "Avr",
          "product": "Tafia (pintes)",
          "product_quantity": 200
         },
         {
          "destination": "Pegwell",
          "month": "Juin",
          "product": "Tafia (pintes)",
          "product_quantity": 900
         },
         {
          "destination": "Pegwell",
          "month": "Août",
          "product": "Tafia (pintes)",
          "product_quantity": 200
         },
         {
          "destination": "Reculver",
          "month": "Juin",
          "product": "Tafia (pintes)",
          "product_quantity": 200
         },
         {
          "destination": "Reculver",
          "month": "Juil",
          "product": "Tafia (pintes)",
          "product_quantity": 380
         },
         {
          "destination": "Reculver",
          "month": "Sep",
          "product": "Tafia (pintes)",
          "product_quantity": 200
         },
         {
          "destination": "Reculver",
          "month": "Nov",
          "product": "Tafia (pintes)",
          "product_quantity": 400
         },
         {
          "destination": "Rochester",
          "month": "Jan",
          "product": "Tafia (pintes)",
          "product_quantity": 40
         },
         {
          "destination": "Rochester",
          "month": "Fév",
          "product": "Tafia (pintes)",
          "product_quantity": 200
         },
         {
          "destination": "Rochester",
          "month": "Mar",
          "product": "Tafia (pintes)",
          "product_quantity": 2140
         },
         {
          "destination": "Rochester",
          "month": "Oct",
          "product": "Tafia (pintes)",
          "product_quantity": 240
         },
         {
          "destination": "Rye",
          "month": "Fév",
          "product": "Tafia (pintes)",
          "product_quantity": 2550
         },
         {
          "destination": "Rye",
          "month": "Avr",
          "product": "Tafia (pintes)",
          "product_quantity": 3280
         },
         {
          "destination": "Rye",
          "month": "Mai",
          "product": "Tafia (pintes)",
          "product_quantity": 3300
         },
         {
          "destination": "Rye",
          "month": "Juin",
          "product": "Tafia (pintes)",
          "product_quantity": 860
         },
         {
          "destination": "Rye",
          "month": "Juil",
          "product": "Tafia (pintes)",
          "product_quantity": 800
         },
         {
          "destination": "Rye",
          "month": "Août",
          "product": "Tafia (pintes)",
          "product_quantity": 900
         },
         {
          "destination": "Rye",
          "month": "Sep",
          "product": "Tafia (pintes)",
          "product_quantity": 1120
         },
         {
          "destination": "Rye",
          "month": "Nov",
          "product": "Tafia (pintes)",
          "product_quantity": 860
         },
         {
          "destination": "Rye",
          "month": "Déc",
          "product": "Tafia (pintes)",
          "product_quantity": 720
         },
         {
          "destination": "Seasalter",
          "month": "Nov",
          "product": "Tafia (pintes)",
          "product_quantity": 180
         },
         {
          "destination": "Southwould",
          "month": "Juil",
          "product": "Tafia (pintes)",
          "product_quantity": 700
         },
         {
          "destination": "Whistable",
          "month": "Jan",
          "product": "Tafia (pintes)",
          "product_quantity": 1460
         },
         {
          "destination": "Whistable",
          "month": "Fév",
          "product": "Tafia (pintes)",
          "product_quantity": 780
         },
         {
          "destination": "Whistable",
          "month": "Mar",
          "product": "Tafia (pintes)",
          "product_quantity": 760
         },
         {
          "destination": "Whistable",
          "month": "Avr",
          "product": "Tafia (pintes)",
          "product_quantity": 720
         },
         {
          "destination": "Whistable",
          "month": "Juin",
          "product": "Tafia (pintes)",
          "product_quantity": 1640
         },
         {
          "destination": "Whistable",
          "month": "Juil",
          "product": "Tafia (pintes)",
          "product_quantity": 1160
         },
         {
          "destination": "Whistable",
          "month": "Août",
          "product": "Tafia (pintes)",
          "product_quantity": 1401
         },
         {
          "destination": "Whistable",
          "month": "Sep",
          "product": "Tafia (pintes)",
          "product_quantity": 520
         },
         {
          "destination": "Whistable",
          "month": "Oct",
          "product": "Tafia (pintes)",
          "product_quantity": 740
         },
         {
          "destination": "Whistable",
          "month": "Nov",
          "product": "Tafia (pintes)",
          "product_quantity": 760
         },
         {
          "destination": "Whistable",
          "month": "Déc",
          "product": "Tafia (pintes)",
          "product_quantity": 2100
         },
         {
          "destination": "Winchelsea",
          "month": "Août",
          "product": "Tafia (pintes)",
          "product_quantity": 1880
         },
         {
          "destination": "Wivenhoe",
          "month": "Jan",
          "product": "Tafia (pintes)",
          "product_quantity": 600
         },
         {
          "destination": "Wivenhoe",
          "month": "Fév",
          "product": "Tafia (pintes)",
          "product_quantity": 920
         },
         {
          "destination": "Wivenhoe",
          "month": "Avr",
          "product": "Tafia (pintes)",
          "product_quantity": 160
         },
         {
          "destination": "Woodbridge",
          "month": "Avr",
          "product": "Tafia (pintes)",
          "product_quantity": 400
         },
         {
          "destination": "Woodbridge",
          "month": "Mai",
          "product": "Tafia (pintes)",
          "product_quantity": 400
         },
         {
          "destination": "Yarmouth",
          "month": "Jan",
          "product": "Tafia (pintes)",
          "product_quantity": 200
         },
         {
          "destination": "Yarmouth",
          "month": "Mar",
          "product": "Tafia (pintes)",
          "product_quantity": 300
         },
         {
          "destination": "Yarmouth",
          "month": "Juil",
          "product": "Tafia (pintes)",
          "product_quantity": 200
         },
         {
          "destination": "Yarmouth",
          "month": "Août",
          "product": "Tafia (pintes)",
          "product_quantity": 200
         },
         {
          "destination": "Yarmouth",
          "month": "Sep",
          "product": "Tafia (pintes)",
          "product_quantity": 600
         },
         {
          "destination": "Yarmouth",
          "month": "Oct",
          "product": "Tafia (pintes)",
          "product_quantity": 340
         },
         {
          "destination": "Yarmouth",
          "month": "Déc",
          "product": "Tafia (pintes)",
          "product_quantity": 200
         },
         {
          "destination": "Aberdeen",
          "month": "Fév",
          "product": "Thé (lt)",
          "product_quantity": 800
         },
         {
          "destination": "Aberdeen",
          "month": "Juil",
          "product": "Thé (lt)",
          "product_quantity": 400
         },
         {
          "destination": "Burnham",
          "month": "Sep",
          "product": "Thé (lt)",
          "product_quantity": 50
         },
         {
          "destination": "Colchester",
          "month": "Avr",
          "product": "Thé (lt)",
          "product_quantity": 550
         },
         {
          "destination": "Colchester",
          "month": "Sep",
          "product": "Thé (lt)",
          "product_quantity": 50
         },
         {
          "destination": "Deal",
          "month": "Jan",
          "product": "Thé (lt)",
          "product_quantity": 1010
         },
         {
          "destination": "Deal",
          "month": "Fév",
          "product": "Thé (lt)",
          "product_quantity": 850
         },
         {
          "destination": "Deal",
          "month": "Avr",
          "product": "Thé (lt)",
          "product_quantity": 3950
         },
         {
          "destination": "Deal",
          "month": "Mai",
          "product": "Thé (lt)",
          "product_quantity": 50
         },
         {
          "destination": "Deal",
          "month": "Juin",
          "product": "Thé (lt)",
          "product_quantity": 1810
         },
         {
          "destination": "Deal",
          "month": "Juil",
          "product": "Thé (lt)",
          "product_quantity": 1050
         },
         {
          "destination": "Deal",
          "month": "Sep",
          "product": "Thé (lt)",
          "product_quantity": 6100
         },
         {
          "destination": "Deal",
          "month": "Oct",
          "product": "Thé (lt)",
          "product_quantity": 2270
         },
         {
          "destination": "Deal",
          "month": "Nov",
          "product": "Thé (lt)",
          "product_quantity": 1040
         },
         {
          "destination": "Deal",
          "month": "Déc",
          "product": "Thé (lt)",
          "product_quantity": 10190
         },
         {
          "destination": "Douvres",
          "month": "Jan",
          "product": "Thé (lt)",
          "product_quantity": 300
         },
         {
          "destination": "Douvres",
          "month": "Sep",
          "product": "Thé (lt)",
          "product_quantity": 28
         },
         {
          "destination": "Douvres",
          "month": "Oct",
          "product": "Thé (lt)",
          "product_quantity": 60
         },
         {
          "destination": "Dungeness",
          "month": "Jan",
          "product": "Thé (lt)",
          "product_quantity": 2200
         },
         {
          "destination": "Dungeness",
          "month": "Fév",
          "product": "Thé (lt)",
          "product_quantity": 400
         },
         {
          "destination": "Dungeness",
          "month": "Août",
          "product": "Thé (lt)",
          "product_quantity": 500
         },
         {
          "destination": "Dungeness",
          "month": "Sep",
          "product": "Thé (lt)",
          "product_quantity": 400
         },
         {
          "destination": "Dungeness",
          "month": "Oct",
          "product": "Thé (lt)",
          "product_quantity": 600
         },
         {
          "destination": "Folkstone",
          "month": "Jan",
          "product": "Thé (lt)",
          "product_quantity": 3350
         },
         {
          "destination": "Folkstone",
          "month": "Fév",
          "product": "Thé (lt)",
          "product_quantity": 5260
         },
         {
          "destination": "Folkstone",
          "month": "Mar",
          "product": "Thé (lt)",
          "product_quantity": 3450
         },
         {
          "destination": "Folkstone",
          "month": "Avr",
          "product": "Thé (lt)",
          "product_quantity": 3640
         },
         {
          "destination": "Folkstone",
          "month": "Juin",
          "product": "Thé (lt)",
          "product_quantity": 300
         },
         {
          "destination": "Folkstone",
          "month": "Juil",
          "product": "Thé (lt)",
          "product_quantity": 1800
         },
         {
          "destination": "Folkstone",
          "month": "Août",
          "product": "Thé (lt)",
          "product_quantity": 80
         },
         {
          "destination": "Folkstone",
          "month": "Sep",
          "product": "Thé (lt)",
          "product_quantity": 1028
         },
         {
          "destination": "Folkstone",
          "month": "Oct",
          "product": "Thé (lt)",
          "product_quantity": 1075
         },
         {
          "destination": "Feversham",
          "month": "Fév",
          "product": "Thé (lt)",
          "product_quantity": 150
         },
         {
          "destination": "Feversham",
          "month": "Juil",
          "product": "Thé (lt)",
          "product_quantity": 100
         },
         {
          "destination": "Feversham",
          "month": "Sep",
          "product": "Thé (lt)",
          "product_quantity": 100
         },
         {
          "destination": "Feversham",
          "month": "Nov",
          "product": "Thé (lt)",
          "product_quantity": 1300
         },
         {
          "destination": "Guernezé",
          "month": "Déc",
          "product": "Thé (lt)",
          "product_quantity": 840
         },
         {
          "destination": "Harwich",
          "month": "Sep",
          "product": "Thé (lt)",
          "product_quantity": 10
         },
         {
          "destination": "Hastings",
          "month": "Jan",
          "product": "Thé (lt)",
          "product_quantity": 2044
         },
         {
          "destination": "Hastings",
          "month": "Fév",
          "product": "Thé (lt)",
          "product_quantity": 360
         },
         {
          "destination": "Hastings",
          "month": "Mai",
          "product": "Thé (lt)",
          "product_quantity": 700
         },
         {
          "destination": "Hastings",
          "month": "Juin",
          "product": "Thé (lt)",
          "product_quantity": 200
         },
         {
          "destination": "Hastings",
          "month": "Nov",
          "product": "Thé (lt)",
          "product_quantity": 800
         },
         {
          "destination": "Hastings",
          "month": "Déc",
          "product": "Thé (lt)",
          "product_quantity": 1530
         },
         {
          "destination": "Lee",
          "month": "Mai",
          "product": "Thé (lt)",
          "product_quantity": 120
         },
         {
          "destination": "Lydd",
          "month": "Fév",
          "product": "Thé (lt)",
          "product_quantity": 625
         },
         {
          "destination": "Lydd",
          "month": "Juil",
          "product": "Thé (lt)",
          "product_quantity": 600
         },
         {
          "destination": "Lynn",
          "month": "Jan",
          "product": "Thé (lt)",
          "product_quantity": 400
         },
         {
          "destination": "Maldon",
          "month": "Jan",
          "product": "Thé (lt)",
          "product_quantity": 2550
         },
         {
          "destination": "Rye",
          "month": "Fév",
          "product": "Thé (lt)",
          "product_quantity": 750
         },
         {
          "destination": "Rye",
          "month": "Nov",
          "product": "Thé (lt)",
          "product_quantity": 300
         },
         {
          "destination": "Reculver",
          "month": "Juin",
          "product": "Thé (lt)",
          "product_quantity": 280
         },
         {
          "destination": "Whistable",
          "month": "Sep",
          "product": "Thé (lt)",
          "product_quantity": 50
         },
         {
          "destination": "Aberdeen",
          "month": "Juil",
          "product": "Tabac (lt)",
          "product_quantity": 5000
         },
         {
          "destination": "Brightlandsea",
          "month": "Jan",
          "product": "Tabac (lt)",
          "product_quantity": 200
         },
         {
          "destination": "Burnham",
          "month": "Jan",
          "product": "Tabac (lt)",
          "product_quantity": 300
         },
         {
          "destination": "Burnham",
          "month": "Avr",
          "product": "Tabac (lt)",
          "product_quantity": 5000
         },
         {
          "destination": "Burnham",
          "month": "Mai",
          "product": "Tabac (lt)",
          "product_quantity": 500
         },
         {
          "destination": "Burnham",
          "month": "Août",
          "product": "Tabac (lt)",
          "product_quantity": 1500
         },
         {
          "destination": "Burnham",
          "month": "Oct",
          "product": "Tabac (lt)",
          "product_quantity": 6000
         },
         {
          "destination": "Burnham",
          "month": "Déc",
          "product": "Tabac (lt)",
          "product_quantity": 1000
         },
         {
          "destination": "Colchester",
          "month": "Jan",
          "product": "Tabac (lt)",
          "product_quantity": 3300
         },
         {
          "destination": "Colchester",
          "month": "Fév",
          "product": "Tabac (lt)",
          "product_quantity": 2000
         },
         {
          "destination": "Colchester",
          "month": "Avr",
          "product": "Tabac (lt)",
          "product_quantity": 1750
         },
         {
          "destination": "Colchester",
          "month": "Juin",
          "product": "Tabac (lt)",
          "product_quantity": 400
         },
         {
          "destination": "Colchester",
          "month": "Juil",
          "product": "Tabac (lt)",
          "product_quantity": 400
         },
         {
          "destination": "Colchester",
          "month": "Août",
          "product": "Tabac (lt)",
          "product_quantity": 300
         },
         {
          "destination": "Colchester",
          "month": "Sep",
          "product": "Tabac (lt)",
          "product_quantity": 400
         },
         {
          "destination": "Colchester",
          "month": "Oct",
          "product": "Tabac (lt)",
          "product_quantity": 100
         },
         {
          "destination": "Colchester",
          "month": "Nov",
          "product": "Tabac (lt)",
          "product_quantity": 200
         },
         {
          "destination": "Colchester",
          "month": "Déc",
          "product": "Tabac (lt)",
          "product_quantity": 4000
         },
         {
          "destination": "Deal",
          "month": "Jan",
          "product": "Tabac (lt)",
          "product_quantity": 800
         },
         {
          "destination": "Deal",
          "month": "Fév",
          "product": "Tabac (lt)",
          "product_quantity": 250
         },
         {
          "destination": "Deal",
          "month": "Mar",
          "product": "Tabac (lt)",
          "product_quantity": 250
         },
         {
          "destination": "Deal",
          "month": "Avr",
          "product": "Tabac (lt)",
          "product_quantity": 2800
         },
         {
          "destination": "Deal",
          "month": "Mai",
          "product": "Tabac (lt)",
          "product_quantity": 1150
         },
         {
          "destination": "Deal",
          "month": "Juin",
          "product": "Tabac (lt)",
          "product_quantity": 3240
         },
         {
          "destination": "Deal",
          "month": "Juil",
          "product": "Tabac (lt)",
          "product_quantity": 200
         },
         {
          "destination": "Deal",
          "month": "Août",
          "product": "Tabac (lt)",
          "product_quantity": 4700
         },
         {
          "destination": "Deal",
          "month": "Sep",
          "product": "Tabac (lt)",
          "product_quantity": 11200
         },
         {
          "destination": "Deal",
          "month": "Oct",
          "product": "Tabac (lt)",
          "product_quantity": 6100
         },
         {
          "destination": "Deal",
          "month": "Nov",
          "product": "Tabac (lt)",
          "product_quantity": 9400
         },
         {
          "destination": "Deal",
          "month": "Déc",
          "product": "Tabac (lt)",
          "product_quantity": 1495
         },
         {
          "destination": "Douvres",
          "month": "Jan",
          "product": "Tabac (lt)",
          "product_quantity": 1620
         },
         {
          "destination": "Douvres",
          "month": "Mar",
          "product": "Tabac (lt)",
          "product_quantity": 3500
         },
         {
          "destination": "Douvres",
          "month": "Avr",
          "product": "Tabac (lt)",
          "product_quantity": 2800
         },
         {
          "destination": "Douvres",
          "month": "Mai",
          "product": "Tabac (lt)",
          "product_quantity": 900
         },
         {
          "destination": "Douvres",
          "month": "Juin",
          "product": "Tabac (lt)",
          "product_quantity": 50
         },
         {
          "destination": "Douvres",
          "month": "Juil",
          "product": "Tabac (lt)",
          "product_quantity": 2900
         },
         {
          "destination": "Douvres",
          "month": "Août",
          "product": "Tabac (lt)",
          "product_quantity": 2120
         },
         {
          "destination": "Douvres",
          "month": "Sep",
          "product": "Tabac (lt)",
          "product_quantity": 4600
         },
         {
          "destination": "Douvres",
          "month": "Oct",
          "product": "Tabac (lt)",
          "product_quantity": 4400
         },
         {
          "destination": "Douvres",
          "month": "Nov",
          "product": "Tabac (lt)",
          "product_quantity": 6500
         },
         {
          "destination": "Dungeness",
          "month": "Jan",
          "product": "Tabac (lt)",
          "product_quantity": 400
         },
         {
          "destination": "Dungeness",
          "month": "Fév",
          "product": "Tabac (lt)",
          "product_quantity": 1000
         },
         {
          "destination": "Dungeness",
          "month": "Avr",
          "product": "Tabac (lt)",
          "product_quantity": 4000
         },
         {
          "destination": "Dungeness",
          "month": "Mai",
          "product": "Tabac (lt)",
          "product_quantity": 2400
         },
         {
          "destination": "Dungeness",
          "month": "Août",
          "product": "Tabac (lt)",
          "product_quantity": 4000
         },
         {
          "destination": "Dungeness",
          "month": "Sep",
          "product": "Tabac (lt)",
          "product_quantity": 4600
         },
         {
          "destination": "Dungeness",
          "month": "Oct",
          "product": "Tabac (lt)",
          "product_quantity": 4800
         },
         {
          "destination": "Falmouth",
          "month": "Juin",
          "product": "Tabac (lt)",
          "product_quantity": 800
         },
         {
          "destination": "Feversham",
          "month": "Sep",
          "product": "Tabac (lt)",
          "product_quantity": 400
         },
         {
          "destination": "Feversham",
          "month": "Déc",
          "product": "Tabac (lt)",
          "product_quantity": 4300
         },
         {
          "destination": "Folkstone",
          "month": "Jan",
          "product": "Tabac (lt)",
          "product_quantity": 4690
         },
         {
          "destination": "Folkstone",
          "month": "Fév",
          "product": "Tabac (lt)",
          "product_quantity": 3400
         },
         {
          "destination": "Folkstone",
          "month": "Mar",
          "product": "Tabac (lt)",
          "product_quantity": 15200
         },
         {
          "destination": "Folkstone",
          "month": "Mai",
          "product": "Tabac (lt)",
          "product_quantity": 5600
         },
         {
          "destination": "Folkstone",
          "month": "Juin",
          "product": "Tabac (lt)",
          "product_quantity": 5000
         },
         {
          "destination": "Folkstone",
          "month": "Juil",
          "product": "Tabac (lt)",
          "product_quantity": 2800
         },
         {
          "destination": "Folkstone",
          "month": "Août",
          "product": "Tabac (lt)",
          "product_quantity": 7200
         },
         {
          "destination": "Folkstone",
          "month": "Oct",
          "product": "Tabac (lt)",
          "product_quantity": 1200
         },
         {
          "destination": "Guernezé",
          "month": "Déc",
          "product": "Tabac (lt)",
          "product_quantity": 48700
         },
         {
          "destination": "Harwich",
          "month": "Fév",
          "product": "Tabac (lt)",
          "product_quantity": 100
         },
         {
          "destination": "Harwich",
          "month": "Sep",
          "product": "Tabac (lt)",
          "product_quantity": 50
         },
         {
          "destination": "Hastings",
          "month": "Jan",
          "product": "Tabac (lt)",
          "product_quantity": 3700
         },
         {
          "destination": "Hastings",
          "month": "Avr",
          "product": "Tabac (lt)",
          "product_quantity": 2900
         },
         {
          "destination": "Hastings",
          "month": "Mai",
          "product": "Tabac (lt)",
          "product_quantity": 800
         },
         {
          "destination": "Hastings",
          "month": "Juin",
          "product": "Tabac (lt)",
          "product_quantity": 3000
         },
         {
          "destination": "Hastings",
          "month": "Juil",
          "product": "Tabac (lt)",
          "product_quantity": 4000
         },
         {
          "destination": "Hastings",
          "month": "Sep",
          "product": "Tabac (lt)",
          "product_quantity": 900
         },
         {
          "destination": "Hastings",
          "month": "Nov",
          "product": "Tabac (lt)",
          "product_quantity": 11460
         },
         {
          "destination": "Hastings",
          "month": "Déc",
          "product": "Tabac (lt)",
          "product_quantity": 33600
         },
         {
          "destination": "Lee",
          "month": "Jan",
          "product": "Tabac (lt)",
          "product_quantity": 100
         },
         {
          "destination": "Lee",
          "month": "Avr",
          "product": "Tabac (lt)",
          "product_quantity": 300
         },
         {
          "destination": "Lee",
          "month": "Mai",
          "product": "Tabac (lt)",
          "product_quantity": 3400
         },
         {
          "destination": "Lee",
          "month": "Juin",
          "product": "Tabac (lt)",
          "product_quantity": 4000
         },
         {
          "destination": "Lee",
          "month": "Août",
          "product": "Tabac (lt)",
          "product_quantity": 3000
         },
         {
          "destination": "Lee",
          "month": "Sep",
          "product": "Tabac (lt)",
          "product_quantity": 200
         },
         {
          "destination": "Lee",
          "month": "Oct",
          "product": "Tabac (lt)",
          "product_quantity": 60
         },
         {
          "destination": "Lee",
          "month": "Nov",
          "product": "Tabac (lt)",
          "product_quantity": 200
         },
         {
          "destination": "Lee",
          "month": "Déc",
          "product": "Tabac (lt)",
          "product_quantity": 8000
         },
         {
          "destination": "Leith",
          "month": "Oct",
          "product": "Tabac (lt)",
          "product_quantity": 11800
         },
         {
          "destination": "Lydd",
          "month": "Fév",
          "product": "Tabac (lt)",
          "product_quantity": 5600
         },
         {
          "destination": "Lydd",
          "month": "Juil",
          "product": "Tabac (lt)",
          "product_quantity": 1600
         },
         {
          "destination": "Maldon",
          "month": "Jan",
          "product": "Tabac (lt)",
          "product_quantity": 200
         },
         {
          "destination": "Maldon",
          "month": "Avr",
          "product": "Tabac (lt)",
          "product_quantity": 6000
         },
         {
          "destination": "Maldon",
          "month": "Sep",
          "product": "Tabac (lt)",
          "product_quantity": 4000
         },
         {
          "destination": "Maldon",
          "month": "Oct",
          "product": "Tabac (lt)",
          "product_quantity": 4500
         },
         {
          "destination": "Maldon",
          "month": "Nov",
          "product": "Tabac (lt)",
          "product_quantity": 3500
         },
         {
          "destination": "Maldon",
          "month": "Déc",
          "product": "Tabac (lt)",
          "product_quantity": 4000
         },
         {
          "destination": "Margate",
          "month": "Mar",
          "product": "Tabac (lt)",
          "product_quantity": 400
         },
         {
          "destination": "Margate",
          "month": "Avr",
          "product": "Tabac (lt)",
          "product_quantity": 150
         },
         {
          "destination": "Pegwell",
          "month": "Jan",
          "product": "Tabac (lt)",
          "product_quantity": 2000
         },
         {
          "destination": "Pegwell",
          "month": "Fév",
          "product": "Tabac (lt)",
          "product_quantity": 2400
         },
         {
          "destination": "Pegwell",
          "month": "Avr",
          "product": "Tabac (lt)",
          "product_quantity": 1000
         },
         {
          "destination": "Pegwell",
          "month": "Juin",
          "product": "Tabac (lt)",
          "product_quantity": 2000
         },
         {
          "destination": "Pegwell",
          "month": "Août",
          "product": "Tabac (lt)",
          "product_quantity": 1000
         },
         {
          "destination": "Reculver",
          "month": "Juin",
          "product": "Tabac (lt)",
          "product_quantity": 500
         },
         {
          "destination": "Ramsay",
          "month": "Juil",
          "product": "Tabac (lt)",
          "product_quantity": 400
         },
         {
          "destination": "Rye",
          "month": "Fév",
          "product": "Tabac (lt)",
          "product_quantity": 1800
         },
         {
          "destination": "Rye",
          "month": "Avr",
          "product": "Tabac (lt)",
          "product_quantity": 1600
         },
         {
          "destination": "Rye",
          "month": "Mai",
          "product": "Tabac (lt)",
          "product_quantity": 2300
         },
         {
          "destination": "Rye",
          "month": "Juin",
          "product": "Tabac (lt)",
          "product_quantity": 2080
         },
         {
          "destination": "Rye",
          "month": "Juil",
          "product": "Tabac (lt)",
          "product_quantity": 800
         },
         {
          "destination": "Rye",
          "month": "Août",
          "product": "Tabac (lt)",
          "product_quantity": 1440
         },
         {
          "destination": "Rye",
          "month": "Sep",
          "product": "Tabac (lt)",
          "product_quantity": 1210
         },
         {
          "destination": "Rye",
          "month": "Nov",
          "product": "Tabac (lt)",
          "product_quantity": 6100
         },
         {
          "destination": "Whistable",
          "month": "Jan",
          "product": "Tabac (lt)",
          "product_quantity": 25
         },
         {
          "destination": "Whistable",
          "month": "Mar",
          "product": "Tabac (lt)",
          "product_quantity": 120
         },
         {
          "destination": "Whistable",
          "month": "Juil",
          "product": "Tabac (lt)",
          "product_quantity": 880
         },
         {
          "destination": "Whistable",
          "month": "Août",
          "product": "Tabac (lt)",
          "product_quantity": 500
         },
         {
          "destination": "Whistable",
          "month": "Sep",
          "product": "Tabac (lt)",
          "product_quantity": 300
         },
         {
          "destination": "Winchelsea",
          "month": "Août",
          "product": "Tabac (lt)",
          "product_quantity": 1200
         },
         {
          "destination": "Woudbridge",
          "month": "Avr",
          "product": "Tabac (lt)",
          "product_quantity": 2000
         },
         {
          "destination": "Yarmouth",
          "month": "Août",
          "product": "Tabac (lt)",
          "product_quantity": 300
         },
         {
          "destination": "Douvres",
          "month": "Jan",
          "product": "Marchandises des Indes (lt)",
          "product_quantity": 2600
         },
         {
          "destination": "Douvres",
          "month": "Fév",
          "product": "Marchandises des Indes (lt)",
          "product_quantity": 23000
         },
         {
          "destination": "Douvres",
          "month": "Mar",
          "product": "Marchandises des Indes (lt)",
          "product_quantity": 12000
         },
         {
          "destination": "Douvres",
          "month": "Mai",
          "product": "Marchandises des Indes (lt)",
          "product_quantity": 1800
         },
         {
          "destination": "Douvres",
          "month": "Juin",
          "product": "Marchandises des Indes (lt)",
          "product_quantity": 500
         },
         {
          "destination": "Colchester",
          "month": "Avr",
          "product": "Marchandises des Indes (lt)",
          "product_quantity": 7200
         },
         {
          "destination": "Harwich",
          "month": "Juil",
          "product": "Marchandises des Indes (lt)",
          "product_quantity": 24000
         },
         {
          "destination": "Eawsand",
          "month": "Jan",
          "product": "Marchandises des Indes (lt)",
          "product_quantity": 18000
         },
         {
          "destination": "Folkstone",
          "month": "Fév",
          "product": "Marchandises des Indes (lt)",
          "product_quantity": 14000
         },
         {
          "destination": "Folkstone",
          "month": "Mar",
          "product": "Marchandises des Indes (lt)",
          "product_quantity": 52000
         },
         {
          "destination": "Folkstone",
          "month": "Avr",
          "product": "Marchandises des Indes (lt)",
          "product_quantity": 47500
         },
         {
          "destination": "Folkstone",
          "month": "Mai",
          "product": "Marchandises des Indes (lt)",
          "product_quantity": 600
         },
         {
          "destination": "Folkstone",
          "month": "Juin",
          "product": "Marchandises des Indes (lt)",
          "product_quantity": 26000
         },
         {
          "destination": "Folkstone",
          "month": "Juil",
          "product": "Marchandises des Indes (lt)",
          "product_quantity": 24000
         },
         {
          "destination": "Folkstone",
          "month": "Août",
          "product": "Marchandises des Indes (lt)",
          "product_quantity": 27400
         },
         {
          "destination": "Folkstone",
          "month": "Oct",
          "product": "Marchandises des Indes (lt)",
          "product_quantity": 10800
         },
         {
          "destination": "Foy",
          "month": "Avr",
          "product": "Marchandises des Indes (lt)",
          "product_quantity": 4800
         },
         {
          "destination": "Hastings",
          "month": "Avr",
          "product": "Marchandises des Indes (lt)",
          "product_quantity": 26200
         },
         {
          "destination": "Hastings",
          "month": "Mai",
          "product": "Marchandises des Indes (lt)",
          "product_quantity": 4800
         },
         {
          "destination": "Hastings",
          "month": "Oct",
          "product": "Marchandises des Indes (lt)",
          "product_quantity": 30000
         },
         {
          "destination": "Hastings",
          "month": "Déc",
          "product": "Marchandises des Indes (lt)",
          "product_quantity": 12000
         },
         {
          "destination": "Londres",
          "month": "Mar",
          "product": "Marchandises des Indes (lt)",
          "product_quantity": 4320
         }
        ]
       },
       "encoding": {
        "facet": {
         "columns": 3,
         "field": "product",
         "sort": [
          "Eau-de-vie (pintes)",
          "Genièvre (pintes)",
          "Tafia (pintes)",
          "Thé (lt)",
          "Tabac (lt)",
          "Marchandise des Indes (lt)"
         ],
         "title": false
        },
        "x": {
         "field": "month",
         "sort": [
          "Jan",
          "Fév",
          "Mar",
          "Avr",
          "Mai",
          "Juin",
          "Juil",
          "Août",
          "Sep",
          "Oct",
          "Nov",
          "Déc"
         ],
         "title": false,
         "type": "ordinal"
        },
        "y": {
         "aggregate": "sum",
         "field": "product_quantity",
         "scale": "y",
         "title": false,
         "type": "quantitative"
        }
       },
       "mark": {
        "tooltip": {
         "content": "data"
        },
        "type": "bar"
       },
       "name": "trellis_barley"
      },
      "image/png": "[encoded data removed]"
     },
     "metadata": {},
     "output_type": "display_data"
    }
   ],
   "source": [
    "VegaLite({\n",
    "  \"name\": \"trellis_barley\",\n",
    "  \"data\": {\"values\": destination_month_destination},\n",
    "    \"mark\": {\"type\":\"bar\", \"tooltip\": {\"content\": \"data\"}},\n",
    "  \"encoding\": {\n",
    "    \"facet\": {\n",
    "      \"title\": False,\n",
    "      \"field\": \"product\",\n",
    "      \"columns\": 3,\n",
    "      \"sort\": [\"Eau-de-vie (pintes)\", \"Genièvre (pintes)\", \"Tafia (pintes)\", \"Thé (lt)\", \"Tabac (lt)\", \"Marchandise des Indes (lt)\"],\n",
    "    },\n",
    "    \"x\": {\n",
    "      \"field\": \"month\",\n",
    "      \"title\": False,\n",
    "      \"type\": \"ordinal\",\n",
    "      \n",
    "      \"sort\": MONTHS_CODE,\n",
    "    },\n",
    "    \"y\": {\n",
    "        \"aggregate\": \"sum\", \n",
    "        \"type\": \"quantitative\", \n",
    "        \"field\": \"product_quantity\", \n",
    "        \"title\": False,\n",
    "        \"scale\": \"y\"\n",
    "    }\n",
    "  }\n",
    "})"
   ]
  },
  {
   "cell_type": "code",
   "execution_count": null,
   "id": "97ec045a-2ffc-4cd8-aa76-692f06046f03",
   "metadata": {},
   "outputs": [],
   "source": []
  },
  {
   "cell_type": "code",
   "execution_count": null,
   "id": "35abbaa1-3a2e-4b03-bbf9-ac96c901021b",
   "metadata": {},
   "outputs": [],
   "source": []
  },
  {
   "cell_type": "code",
   "execution_count": null,
   "id": "d9a2d1d4-fd35-4b6e-be08-9a162111b4d8",
   "metadata": {},
   "outputs": [],
   "source": []
  }
 ],
 "metadata": {
  "kernelspec": {
   "display_name": "Python 3 (ipykernel)",
   "language": "python",
   "name": "python3"
  },
  "language_info": {
   "codemirror_mode": {
    "name": "ipython",
    "version": 3
   },
   "file_extension": ".py",
   "mimetype": "text/x-python",
   "name": "python",
   "nbconvert_exporter": "python",
   "pygments_lexer": "ipython3",
   "version": "3.8.0"
  }
 },
 "nbformat": 4,
 "nbformat_minor": 5
}
