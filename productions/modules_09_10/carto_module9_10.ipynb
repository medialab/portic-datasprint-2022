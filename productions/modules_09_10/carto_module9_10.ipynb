{
 "cells": [
  {
   "cell_type": "markdown",
   "metadata": {},
   "source": [
    "# Test de vega sous windows\n",
    "\n",
    "## Avec super environnement python virtuel très propre python 3.9.10\n",
    "\n",
    "jupyter --version\n",
    "\n",
    "'''\n",
    "Selected Jupyter core packages...\n",
    "IPython          : 8.1.1\n",
    "ipykernel        : 6.9.2\n",
    "ipywidgets       : 7.7.0\n",
    "jupyter_client   : 7.1.2\n",
    "jupyter_core     : 4.9.2\n",
    "jupyter_server   : 1.15.6\n",
    "jupyterlab       : 3.3.2\n",
    "nbclient         : 0.5.13\n",
    "nbconvert        : 6.4.4\n",
    "nbformat         : 5.2.0\n",
    "notebook         : 6.4.10\n",
    "qtconsole        : 5.2.2\n",
    "traitlets        : 5.1.1\n",
    "'''\n",
    "\n",
    "## Si j'utilise le conda\n",
    "\n",
    "'''\n",
    "Selected Jupyter core packages...\n",
    "IPython          : 8.2.0\n",
    "ipykernel        : 6.12.1\n",
    "ipywidgets       : 7.7.0\n",
    "jupyter_client   : 7.2.1\n",
    "jupyter_core     : 4.9.2\n",
    "jupyter_server   : 1.16.0\n",
    "jupyterlab       : 3.3.2\n",
    "nbclient         : 0.5.13\n",
    "nbconvert        : 6.4.5\n",
    "nbformat         : 5.3.0\n",
    "notebook         : 6.4.10\n",
    "qtconsole        : 5.3.0\n",
    "traitlets        : 5.1.1\n",
    "'''\n",
    "\n",
    "## Résultat\n",
    "\n",
    "Après la mise à jour de VSCode, plus de pb de MIME type. \n",
    "Mais l'objet Vega n'est pas JSON serializable. \n",
    "Voir https://github.com/microsoft/vscode-jupyter/issues/4382\n",
    "\n",
    "Avec l'extension Vega de VSCode, je peux définir une spec et regarder le resultat. Mais pas satisfaisant pour les données. \n",
    "\n",
    "Option qui fonctionnne : Altaïr. \n",
    "\n",
    "pip install altair vega_datasets panel altair_saver bokeh jupyter_bokeh\n"
   ]
  },
  {
   "cell_type": "code",
   "execution_count": 4,
   "metadata": {},
   "outputs": [
    {
     "data": {
      "application/javascript": "\n(function(root) {\n  function now() {\n    return new Date();\n  }\n\n  var force = true;\n\n  if (typeof root._bokeh_onload_callbacks === \"undefined\" || force === true) {\n    root._bokeh_onload_callbacks = [];\n    root._bokeh_is_loading = undefined;\n  }\n\n  if (typeof (root._bokeh_timeout) === \"undefined\" || force === true) {\n    root._bokeh_timeout = Date.now() + 5000;\n    root._bokeh_failed_load = false;\n  }\n\n  function run_callbacks() {\n    try {\n      root._bokeh_onload_callbacks.forEach(function(callback) {\n        if (callback != null)\n          callback();\n      });\n    } finally {\n      delete root._bokeh_onload_callbacks\n    }\n    console.debug(\"Bokeh: all callbacks have finished\");\n  }\n\n  function load_libs(css_urls, js_urls, js_modules, callback) {\n    if (css_urls == null) css_urls = [];\n    if (js_urls == null) js_urls = [];\n    if (js_modules == null) js_modules = [];\n\n    root._bokeh_onload_callbacks.push(callback);\n    if (root._bokeh_is_loading > 0) {\n      console.debug(\"Bokeh: BokehJS is being loaded, scheduling callback at\", now());\n      return null;\n    }\n    if (js_urls.length === 0 && js_modules.length === 0) {\n      run_callbacks();\n      return null;\n    }\n    console.debug(\"Bokeh: BokehJS not loaded, scheduling load and callback at\", now());\n\n    function on_load() {\n      root._bokeh_is_loading--;\n      if (root._bokeh_is_loading === 0) {\n        console.debug(\"Bokeh: all BokehJS libraries/stylesheets loaded\");\n        run_callbacks()\n      }\n    }\n\n    function on_error() {\n      console.error(\"failed to load \" + url);\n    }\n\n    for (var i = 0; i < css_urls.length; i++) {\n      var url = css_urls[i];\n      const element = document.createElement(\"link\");\n      element.onload = on_load;\n      element.onerror = on_error;\n      element.rel = \"stylesheet\";\n      element.type = \"text/css\";\n      element.href = url;\n      console.debug(\"Bokeh: injecting link tag for BokehJS stylesheet: \", url);\n      document.body.appendChild(element);\n    }\n\n    var skip = [];\n    if (window.requirejs) {\n      window.requirejs.config({'packages': {}, 'paths': {'vega-embed': 'https://cdn.jsdelivr.net/npm/vega-embed@6/build/vega-embed.min', 'vega-lite': 'https://cdn.jsdelivr.net/npm/vega-lite@4/build/vega-lite.min', 'vega': 'https://cdn.jsdelivr.net/npm/vega@5/build/vega.min'}, 'shim': {}});\n      \n      require([\"vega-embed\"], function(vegaEmbed) {\n\t\n\twindow.vegaEmbed = vegaEmbed\n\t\n\ton_load()\n      })\n      \n      require([\"vega-lite\"], function(vl) {\n\t\n\twindow.vl = vl\n\t\n\ton_load()\n      })\n      \n      require([\"vega\"], function(vega) {\n\t\n\twindow.vega = vega\n\t\n\ton_load()\n      })\n      \n      root._bokeh_is_loading = css_urls.length + 3;\n    } else {\n      root._bokeh_is_loading = css_urls.length + js_urls.length + js_modules.length;\n    }\n    if (((window['vega'] !== undefined) && (!(window['vega'] instanceof HTMLElement))) || window.requirejs) {\n      var urls = ['https://cdn.jsdelivr.net/npm/vega@5'];\n      for (var i = 0; i < urls.length; i++) {\n        skip.push(urls[i])\n      }\n    }\n    if (((window['vegaLite'] !== undefined) && (!(window['vegaLite'] instanceof HTMLElement))) || window.requirejs) {\n      var urls = ['https://cdn.jsdelivr.net/npm/vega-lite@4'];\n      for (var i = 0; i < urls.length; i++) {\n        skip.push(urls[i])\n      }\n    }\n    if (((window['vegaEmbed'] !== undefined) && (!(window['vegaEmbed'] instanceof HTMLElement))) || window.requirejs) {\n      var urls = ['https://cdn.jsdelivr.net/npm/vega-embed@6'];\n      for (var i = 0; i < urls.length; i++) {\n        skip.push(urls[i])\n      }\n    }\n    for (var i = 0; i < js_urls.length; i++) {\n      var url = js_urls[i];\n      if (skip.indexOf(url) >= 0) {\n\tif (!window.requirejs) {\n\t  on_load();\n\t}\n\tcontinue;\n      }\n      var element = document.createElement('script');\n      element.onload = on_load;\n      element.onerror = on_error;\n      element.async = false;\n      element.src = url;\n      console.debug(\"Bokeh: injecting script tag for BokehJS library: \", url);\n      document.head.appendChild(element);\n    }\n    for (var i = 0; i < js_modules.length; i++) {\n      var url = js_modules[i];\n      if (skip.indexOf(url) >= 0) {\n\tif (!window.requirejs) {\n\t  on_load();\n\t}\n\tcontinue;\n      }\n      var element = document.createElement('script');\n      element.onload = on_load;\n      element.onerror = on_error;\n      element.async = false;\n      element.src = url;\n      element.type = \"module\";\n      console.debug(\"Bokeh: injecting script tag for BokehJS library: \", url);\n      document.head.appendChild(element);\n    }\n    if (!js_urls.length && !js_modules.length) {\n      on_load()\n    }\n  };\n\n  function inject_raw_css(css) {\n    const element = document.createElement(\"style\");\n    element.appendChild(document.createTextNode(css));\n    document.body.appendChild(element);\n  }\n\n  var js_urls = [\"https://cdn.jsdelivr.net/npm/vega@5\", \"https://cdn.jsdelivr.net/npm/vega-lite@4\", \"https://cdn.jsdelivr.net/npm/vega-embed@6\", \"https://cdn.bokeh.org/bokeh/release/bokeh-2.4.2.min.js\", \"https://cdn.bokeh.org/bokeh/release/bokeh-gl-2.4.2.min.js\", \"https://cdn.bokeh.org/bokeh/release/bokeh-widgets-2.4.2.min.js\", \"https://cdn.bokeh.org/bokeh/release/bokeh-tables-2.4.2.min.js\", \"https://cdn.bokeh.org/bokeh/release/bokeh-mathjax-2.4.2.min.js\", \"https://unpkg.com/@holoviz/panel@0.12.7/dist/panel.min.js\"];\n  var js_modules = [];\n  var css_urls = [\"https://unpkg.com/@holoviz/panel@0.12.7/dist/css/alerts.css\", \"https://unpkg.com/@holoviz/panel@0.12.7/dist/css/card.css\", \"https://unpkg.com/@holoviz/panel@0.12.7/dist/css/dataframe.css\", \"https://unpkg.com/@holoviz/panel@0.12.7/dist/css/json.css\", \"https://unpkg.com/@holoviz/panel@0.12.7/dist/css/loading.css\", \"https://unpkg.com/@holoviz/panel@0.12.7/dist/css/markdown.css\", \"https://unpkg.com/@holoviz/panel@0.12.7/dist/css/widgets.css\"];\n  var inline_js = [\n    function(Bokeh) {\n      inject_raw_css(\"\\n    .bk.pn-loading.arcs:before {\\n      background-image: url(\\\"data:image/svg+xml;base64,PHN2ZyB4bWxucz0iaHR0cDovL3d3dy53My5vcmcvMjAwMC9zdmciIHhtbG5zOnhsaW5rPSJodHRwOi8vd3d3LnczLm9yZy8xOTk5L3hsaW5rIiBzdHlsZT0ibWFyZ2luOiBhdXRvOyBiYWNrZ3JvdW5kOiBub25lOyBkaXNwbGF5OiBibG9jazsgc2hhcGUtcmVuZGVyaW5nOiBhdXRvOyIgdmlld0JveD0iMCAwIDEwMCAxMDAiIHByZXNlcnZlQXNwZWN0UmF0aW89InhNaWRZTWlkIj4gIDxjaXJjbGUgY3g9IjUwIiBjeT0iNTAiIHI9IjMyIiBzdHJva2Utd2lkdGg9IjgiIHN0cm9rZT0iI2MzYzNjMyIgc3Ryb2tlLWRhc2hhcnJheT0iNTAuMjY1NDgyNDU3NDM2NjkgNTAuMjY1NDgyNDU3NDM2NjkiIGZpbGw9Im5vbmUiIHN0cm9rZS1saW5lY2FwPSJyb3VuZCI+ICAgIDxhbmltYXRlVHJhbnNmb3JtIGF0dHJpYnV0ZU5hbWU9InRyYW5zZm9ybSIgdHlwZT0icm90YXRlIiByZXBlYXRDb3VudD0iaW5kZWZpbml0ZSIgZHVyPSIxcyIga2V5VGltZXM9IjA7MSIgdmFsdWVzPSIwIDUwIDUwOzM2MCA1MCA1MCI+PC9hbmltYXRlVHJhbnNmb3JtPiAgPC9jaXJjbGU+PC9zdmc+\\\");\\n      max-height: 400px;\\n    }\\n    \");\n    },\n    function(Bokeh) {\n      Bokeh.set_log_level(\"info\");\n    },\n    function(Bokeh) {} // ensure no trailing comma for IE\n  ];\n\n  function run_inline_js() {\n    if ((root.Bokeh !== undefined) || (force === true)) {\n      for (var i = 0; i < inline_js.length; i++) {\n        inline_js[i].call(root, root.Bokeh);\n      }} else if (Date.now() < root._bokeh_timeout) {\n      setTimeout(run_inline_js, 100);\n    } else if (!root._bokeh_failed_load) {\n      console.log(\"Bokeh: BokehJS failed to load within specified timeout.\");\n      root._bokeh_failed_load = true;\n    }\n  }\n\n  if (root._bokeh_is_loading === 0) {\n    console.debug(\"Bokeh: BokehJS loaded, going straight to plotting\");\n    run_inline_js();\n  } else {\n    load_libs(css_urls, js_urls, js_modules, function() {\n      console.debug(\"Bokeh: BokehJS plotting callback run at\", now());\n      run_inline_js();\n    });\n  }\n}(window));",
      "application/vnd.holoviews_load.v0+json": ""
     },
     "metadata": {},
     "output_type": "display_data"
    },
    {
     "data": {
      "application/javascript": "\nif ((window.PyViz === undefined) || (window.PyViz instanceof HTMLElement)) {\n  window.PyViz = {comms: {}, comm_status:{}, kernels:{}, receivers: {}, plot_index: []}\n}\n\n\n    function JupyterCommManager() {\n    }\n\n    JupyterCommManager.prototype.register_target = function(plot_id, comm_id, msg_handler) {\n      if (window.comm_manager || ((window.Jupyter !== undefined) && (Jupyter.notebook.kernel != null))) {\n        var comm_manager = window.comm_manager || Jupyter.notebook.kernel.comm_manager;\n        comm_manager.register_target(comm_id, function(comm) {\n          comm.on_msg(msg_handler);\n        });\n      } else if ((plot_id in window.PyViz.kernels) && (window.PyViz.kernels[plot_id])) {\n        window.PyViz.kernels[plot_id].registerCommTarget(comm_id, function(comm) {\n          comm.onMsg = msg_handler;\n        });\n      } else if (typeof google != 'undefined' && google.colab.kernel != null) {\n        google.colab.kernel.comms.registerTarget(comm_id, (comm) => {\n          var messages = comm.messages[Symbol.asyncIterator]();\n          function processIteratorResult(result) {\n            var message = result.value;\n            console.log(message)\n            var content = {data: message.data, comm_id};\n            var buffers = []\n            for (var buffer of message.buffers || []) {\n              buffers.push(new DataView(buffer))\n            }\n            var metadata = message.metadata || {};\n            var msg = {content, buffers, metadata}\n            msg_handler(msg);\n            return messages.next().then(processIteratorResult);\n          }\n          return messages.next().then(processIteratorResult);\n        })\n      }\n    }\n\n    JupyterCommManager.prototype.get_client_comm = function(plot_id, comm_id, msg_handler) {\n      if (comm_id in window.PyViz.comms) {\n        return window.PyViz.comms[comm_id];\n      } else if (window.comm_manager || ((window.Jupyter !== undefined) && (Jupyter.notebook.kernel != null))) {\n        var comm_manager = window.comm_manager || Jupyter.notebook.kernel.comm_manager;\n        var comm = comm_manager.new_comm(comm_id, {}, {}, {}, comm_id);\n        if (msg_handler) {\n          comm.on_msg(msg_handler);\n        }\n      } else if ((plot_id in window.PyViz.kernels) && (window.PyViz.kernels[plot_id])) {\n        var comm = window.PyViz.kernels[plot_id].connectToComm(comm_id);\n        comm.open();\n        if (msg_handler) {\n          comm.onMsg = msg_handler;\n        }\n      } else if (typeof google != 'undefined' && google.colab.kernel != null) {\n        var comm_promise = google.colab.kernel.comms.open(comm_id)\n        comm_promise.then((comm) => {\n          window.PyViz.comms[comm_id] = comm;\n          if (msg_handler) {\n            var messages = comm.messages[Symbol.asyncIterator]();\n            function processIteratorResult(result) {\n              var message = result.value;\n              var content = {data: message.data};\n              var metadata = message.metadata || {comm_id};\n              var msg = {content, metadata}\n              msg_handler(msg);\n              return messages.next().then(processIteratorResult);\n            }\n            return messages.next().then(processIteratorResult);\n          }\n        }) \n        var sendClosure = (data, metadata, buffers, disposeOnDone) => {\n          return comm_promise.then((comm) => {\n            comm.send(data, metadata, buffers, disposeOnDone);\n          });\n        };\n        var comm = {\n          send: sendClosure\n        };\n      }\n      window.PyViz.comms[comm_id] = comm;\n      return comm;\n    }\n    window.PyViz.comm_manager = new JupyterCommManager();\n    \n\n\nvar JS_MIME_TYPE = 'application/javascript';\nvar HTML_MIME_TYPE = 'text/html';\nvar EXEC_MIME_TYPE = 'application/vnd.holoviews_exec.v0+json';\nvar CLASS_NAME = 'output';\n\n/**\n * Render data to the DOM node\n */\nfunction render(props, node) {\n  var div = document.createElement(\"div\");\n  var script = document.createElement(\"script\");\n  node.appendChild(div);\n  node.appendChild(script);\n}\n\n/**\n * Handle when a new output is added\n */\nfunction handle_add_output(event, handle) {\n  var output_area = handle.output_area;\n  var output = handle.output;\n  if ((output.data == undefined) || (!output.data.hasOwnProperty(EXEC_MIME_TYPE))) {\n    return\n  }\n  var id = output.metadata[EXEC_MIME_TYPE][\"id\"];\n  var toinsert = output_area.element.find(\".\" + CLASS_NAME.split(' ')[0]);\n  if (id !== undefined) {\n    var nchildren = toinsert.length;\n    var html_node = toinsert[nchildren-1].children[0];\n    html_node.innerHTML = output.data[HTML_MIME_TYPE];\n    var scripts = [];\n    var nodelist = html_node.querySelectorAll(\"script\");\n    for (var i in nodelist) {\n      if (nodelist.hasOwnProperty(i)) {\n        scripts.push(nodelist[i])\n      }\n    }\n\n    scripts.forEach( function (oldScript) {\n      var newScript = document.createElement(\"script\");\n      var attrs = [];\n      var nodemap = oldScript.attributes;\n      for (var j in nodemap) {\n        if (nodemap.hasOwnProperty(j)) {\n          attrs.push(nodemap[j])\n        }\n      }\n      attrs.forEach(function(attr) { newScript.setAttribute(attr.name, attr.value) });\n      newScript.appendChild(document.createTextNode(oldScript.innerHTML));\n      oldScript.parentNode.replaceChild(newScript, oldScript);\n    });\n    if (JS_MIME_TYPE in output.data) {\n      toinsert[nchildren-1].children[1].textContent = output.data[JS_MIME_TYPE];\n    }\n    output_area._hv_plot_id = id;\n    if ((window.Bokeh !== undefined) && (id in Bokeh.index)) {\n      window.PyViz.plot_index[id] = Bokeh.index[id];\n    } else {\n      window.PyViz.plot_index[id] = null;\n    }\n  } else if (output.metadata[EXEC_MIME_TYPE][\"server_id\"] !== undefined) {\n    var bk_div = document.createElement(\"div\");\n    bk_div.innerHTML = output.data[HTML_MIME_TYPE];\n    var script_attrs = bk_div.children[0].attributes;\n    for (var i = 0; i < script_attrs.length; i++) {\n      toinsert[toinsert.length - 1].childNodes[1].setAttribute(script_attrs[i].name, script_attrs[i].value);\n    }\n    // store reference to server id on output_area\n    output_area._bokeh_server_id = output.metadata[EXEC_MIME_TYPE][\"server_id\"];\n  }\n}\n\n/**\n * Handle when an output is cleared or removed\n */\nfunction handle_clear_output(event, handle) {\n  var id = handle.cell.output_area._hv_plot_id;\n  var server_id = handle.cell.output_area._bokeh_server_id;\n  if (((id === undefined) || !(id in PyViz.plot_index)) && (server_id !== undefined)) { return; }\n  var comm = window.PyViz.comm_manager.get_client_comm(\"hv-extension-comm\", \"hv-extension-comm\", function () {});\n  if (server_id !== null) {\n    comm.send({event_type: 'server_delete', 'id': server_id});\n    return;\n  } else if (comm !== null) {\n    comm.send({event_type: 'delete', 'id': id});\n  }\n  delete PyViz.plot_index[id];\n  if ((window.Bokeh !== undefined) & (id in window.Bokeh.index)) {\n    var doc = window.Bokeh.index[id].model.document\n    doc.clear();\n    const i = window.Bokeh.documents.indexOf(doc);\n    if (i > -1) {\n      window.Bokeh.documents.splice(i, 1);\n    }\n  }\n}\n\n/**\n * Handle kernel restart event\n */\nfunction handle_kernel_cleanup(event, handle) {\n  delete PyViz.comms[\"hv-extension-comm\"];\n  window.PyViz.plot_index = {}\n}\n\n/**\n * Handle update_display_data messages\n */\nfunction handle_update_output(event, handle) {\n  handle_clear_output(event, {cell: {output_area: handle.output_area}})\n  handle_add_output(event, handle)\n}\n\nfunction register_renderer(events, OutputArea) {\n  function append_mime(data, metadata, element) {\n    // create a DOM node to render to\n    var toinsert = this.create_output_subarea(\n    metadata,\n    CLASS_NAME,\n    EXEC_MIME_TYPE\n    );\n    this.keyboard_manager.register_events(toinsert);\n    // Render to node\n    var props = {data: data, metadata: metadata[EXEC_MIME_TYPE]};\n    render(props, toinsert[0]);\n    element.append(toinsert);\n    return toinsert\n  }\n\n  events.on('output_added.OutputArea', handle_add_output);\n  events.on('output_updated.OutputArea', handle_update_output);\n  events.on('clear_output.CodeCell', handle_clear_output);\n  events.on('delete.Cell', handle_clear_output);\n  events.on('kernel_ready.Kernel', handle_kernel_cleanup);\n\n  OutputArea.prototype.register_mime_type(EXEC_MIME_TYPE, append_mime, {\n    safe: true,\n    index: 0\n  });\n}\n\nif (window.Jupyter !== undefined) {\n  try {\n    var events = require('base/js/events');\n    var OutputArea = require('notebook/js/outputarea').OutputArea;\n    if (OutputArea.prototype.mime_types().indexOf(EXEC_MIME_TYPE) == -1) {\n      register_renderer(events, OutputArea);\n    }\n  } catch(err) {\n  }\n}\n",
      "application/vnd.holoviews_load.v0+json": ""
     },
     "metadata": {},
     "output_type": "display_data"
    }
   ],
   "source": [
    "import altair as alt\n",
    "from vega_datasets import data\n",
    "import panel as pn\n",
    "pn.extension('vega')\n",
    "\n",
    "from IPython.display import display\n",
    "import pandas as pd\n",
    "from vega import VegaLite\n"
   ]
  },
  {
   "cell_type": "code",
   "execution_count": 3,
   "metadata": {},
   "outputs": [],
   "source": [
    "from IPython.display import display\n",
    "import pandas as pd\n",
    "\n",
    "def VegaLite(spec):\n",
    "    bundle = {}\n",
    "    bundle['application/vnd.vegalite.v4+json'] = spec\n",
    "    display(bundle, raw=True)\n",
    "\n"
   ]
  },
  {
   "cell_type": "code",
   "execution_count": 24,
   "metadata": {},
   "outputs": [
    {
     "name": "stdout",
     "output_type": "stream",
     "text": [
      "<class 'dict'>\n"
     ]
    },
    {
     "data": {
      "application/vnd.vega.v5+json": {
       "$schema": "https://vega.github.io/schema/vega/v5.json",
       "autosize": "none",
       "data": [
        {
         "format": {
          "feature": "states",
          "type": "topojson"
         },
         "name": "states",
         "transform": [
          {
           "projection": "projection",
           "type": "geopath"
          }
         ],
         "url": "data/us-10m.json"
        },
        {
         "format": {
          "parse": "auto",
          "type": "csv"
         },
         "name": "traffic",
         "transform": [
          {
           "as": [
            "flights"
           ],
           "fields": [
            "count"
           ],
           "groupby": [
            "origin"
           ],
           "ops": [
            "sum"
           ],
           "type": "aggregate"
          }
         ],
         "url": "data/flights-airport.csv"
        },
        {
         "format": {
          "parse": "auto",
          "type": "csv"
         },
         "name": "airports",
         "transform": [
          {
           "as": [
            "traffic"
           ],
           "fields": [
            "iata"
           ],
           "from": "traffic",
           "key": "origin",
           "type": "lookup"
          },
          {
           "expr": "datum.traffic != null",
           "type": "filter"
          },
          {
           "fields": [
            "longitude",
            "latitude"
           ],
           "projection": "projection",
           "type": "geopoint"
          },
          {
           "expr": "datum.x != null && datum.y != null",
           "type": "filter"
          },
          {
           "type": "voronoi",
           "x": "x",
           "y": "y"
          },
          {
           "sort": {
            "field": "traffic.flights",
            "order": "descending"
           },
           "type": "collect"
          }
         ],
         "url": "data/airports.csv"
        },
        {
         "format": {
          "parse": "auto",
          "type": "csv"
         },
         "name": "routes",
         "transform": [
          {
           "expr": "hover && hover.iata == datum.origin",
           "type": "filter"
          },
          {
           "as": [
            "source",
            "target"
           ],
           "fields": [
            "origin",
            "destination"
           ],
           "from": "airports",
           "key": "iata",
           "type": "lookup"
          },
          {
           "expr": "datum.source && datum.target",
           "type": "filter"
          },
          {
           "shape": {
            "signal": "shape"
           },
           "type": "linkpath"
          }
         ],
         "url": "data/flights-airport.csv"
        }
       ],
       "description": "Interactive map of U.S. airport connections in 2008.",
       "height": 560,
       "marks": [
        {
         "encode": {
          "enter": {
           "fill": {
            "value": "#dedede"
           },
           "stroke": {
            "value": "white"
           }
          },
          "update": {
           "path": {
            "field": "path"
           }
          }
         },
         "from": {
          "data": "states"
         },
         "type": "path"
        },
        {
         "encode": {
          "enter": {
           "fill": {
            "value": "steelblue"
           },
           "fillOpacity": {
            "value": 0.8
           },
           "size": {
            "field": "traffic.flights",
            "scale": "size"
           },
           "stroke": {
            "value": "white"
           },
           "strokeWidth": {
            "value": 1.5
           }
          },
          "update": {
           "x": {
            "field": "x"
           },
           "y": {
            "field": "y"
           }
          }
         },
         "from": {
          "data": "airports"
         },
         "type": "symbol"
        },
        {
         "encode": {
          "enter": {
           "fill": {
            "value": "transparent"
           },
           "strokeWidth": {
            "value": 0.35
           }
          },
          "update": {
           "path": {
            "field": "path"
           },
           "stroke": {
            "signal": "cell_stroke"
           }
          }
         },
         "from": {
          "data": "airports"
         },
         "name": "cell",
         "type": "path"
        },
        {
         "encode": {
          "enter": {
           "path": {
            "field": "path"
           },
           "stroke": {
            "value": "black"
           },
           "strokeOpacity": {
            "value": 0.35
           }
          }
         },
         "from": {
          "data": "routes"
         },
         "interactive": false,
         "type": "path"
        },
        {
         "encode": {
          "enter": {
           "align": {
            "value": "right"
           },
           "fill": {
            "value": "black"
           },
           "fontSize": {
            "value": 20
           },
           "x": {
            "value": 895
           },
           "y": {
            "value": 0
           }
          },
          "update": {
           "text": {
            "signal": "title"
           }
          }
         },
         "interactive": false,
         "type": "text"
        }
       ],
       "padding": {
        "bottom": 0,
        "left": 0,
        "right": 0,
        "top": 25
       },
       "projections": [
        {
         "name": "projection",
         "scale": {
          "signal": "scale"
         },
         "translate": [
          {
           "signal": "translateX"
          },
          {
           "signal": "translateY"
          }
         ],
         "type": "albersUsa"
        }
       ],
       "scales": [
        {
         "domain": {
          "data": "traffic",
          "field": "flights"
         },
         "name": "size",
         "range": [
          16,
          1000
         ],
         "type": "linear"
        }
       ],
       "signals": [
        {
         "bind": {
          "input": "range",
          "max": 3000,
          "min": 500
         },
         "name": "scale",
         "value": 1200
        },
        {
         "bind": {
          "input": "range",
          "max": 1200,
          "min": -500
         },
         "name": "translateX",
         "value": 450
        },
        {
         "bind": {
          "input": "range",
          "max": 700,
          "min": -300
         },
         "name": "translateY",
         "value": 260
        },
        {
         "bind": {
          "input": "radio",
          "options": [
           "line",
           "curve"
          ]
         },
         "name": "shape",
         "value": "line"
        },
        {
         "name": "hover",
         "on": [
          {
           "events": "@cell:mouseover",
           "update": "datum"
          },
          {
           "events": "@cell:mouseout",
           "update": "null"
          }
         ],
         "value": null
        },
        {
         "name": "title",
         "update": "hover ? hover.name + ' (' + hover.iata + ')' : 'U.S. Airports, 2008'",
         "value": "U.S. Airports, 2008"
        },
        {
         "name": "cell_stroke",
         "on": [
          {
           "events": "dblclick",
           "update": "cell_stroke ? null : 'brown'"
          },
          {
           "events": "mousedown!",
           "update": "cell_stroke"
          }
         ],
         "value": null
        }
       ],
       "width": 900
      },
      "text/plain": [
       "<Vega 5 object>\n",
       "\n",
       "If you see this message, it means the renderer has not been properly enabled\n",
       "for the frontend that you are using. For more information, see\n",
       "https://altair-viz.github.io/user_guide/troubleshooting.html\n"
      ]
     },
     "metadata": {},
     "output_type": "display_data"
    }
   ],
   "source": [
    "import pandas as pd\n",
    "\n",
    "from vega import VegaLite\n",
    "\n",
    "import pandas as pd\n",
    "\n",
    "from IPython.display import display \n",
    "   \n",
    "v = VegaLite(\n",
    "\t{\n",
    "  \"$schema\": \"https://vega.github.io/schema/vega-lite/v5.json\",\n",
    "  \"description\": \"A simple bar chart with embedded data.\",\n",
    "  \"data\": {\n",
    "    \"values\": [\n",
    "      {\"a\": \"A\", \"b\": 28}, {\"a\": \"B\", \"b\": 55}, {\"a\": \"C\", \"b\": 43},\n",
    "      {\"a\": \"D\", \"b\": 91}, {\"a\": \"E\", \"b\": 81}, {\"a\": \"F\", \"b\": 53},\n",
    "      {\"a\": \"G\", \"b\": 19}, {\"a\": \"H\", \"b\": 87}, {\"a\": \"I\", \"b\": 52}\n",
    "    ]\n",
    "  },\n",
    "  \"mark\": \"bar\",\n",
    "  \"encoding\": {\n",
    "    \"x\": {\"field\": \"a\", \"type\": \"nominal\", \"axis\": {\"labelAngle\": 0}},\n",
    "    \"y\": {\"field\": \"b\", \"type\": \"quantitative\"}\n",
    "  }\n",
    "})\n",
    "\n",
    "#print(v)\n",
    "bundle = {}\n",
    "bundle['application/vnd.vegalite.v4+json'] = v\n",
    "#display(bundle)\n",
    "print(type(bundle))\n",
    "#json.load(bundle)\n",
    "#json_object = json.dumps(bundle, indent = 4) \n",
    "#print(json_object)\n",
    "#display(bundle, raw=True)\n",
    "#print(bundle)\n",
    "\n",
    "\n",
    "from altair.vega import vega\n",
    "import json\n",
    "with open(\"airport-connections.vg.json\") as f:\n",
    "    s = json.load(f)\n",
    "vega(s)\n",
    "#Ne s'affiche pas non plus"
   ]
  },
  {
   "cell_type": "code",
   "execution_count": 23,
   "metadata": {},
   "outputs": [
    {
     "data": {
      "application/javascript": "\n(function(root) {\n  function now() {\n    return new Date();\n  }\n\n  var force = true;\n\n  if (typeof root._bokeh_onload_callbacks === \"undefined\" || force === true) {\n    root._bokeh_onload_callbacks = [];\n    root._bokeh_is_loading = undefined;\n  }\n\n  if (typeof (root._bokeh_timeout) === \"undefined\" || force === true) {\n    root._bokeh_timeout = Date.now() + 5000;\n    root._bokeh_failed_load = false;\n  }\n\n  function run_callbacks() {\n    try {\n      root._bokeh_onload_callbacks.forEach(function(callback) {\n        if (callback != null)\n          callback();\n      });\n    } finally {\n      delete root._bokeh_onload_callbacks\n    }\n    console.debug(\"Bokeh: all callbacks have finished\");\n  }\n\n  function load_libs(css_urls, js_urls, js_modules, callback) {\n    if (css_urls == null) css_urls = [];\n    if (js_urls == null) js_urls = [];\n    if (js_modules == null) js_modules = [];\n\n    root._bokeh_onload_callbacks.push(callback);\n    if (root._bokeh_is_loading > 0) {\n      console.debug(\"Bokeh: BokehJS is being loaded, scheduling callback at\", now());\n      return null;\n    }\n    if (js_urls.length === 0 && js_modules.length === 0) {\n      run_callbacks();\n      return null;\n    }\n    console.debug(\"Bokeh: BokehJS not loaded, scheduling load and callback at\", now());\n\n    function on_load() {\n      root._bokeh_is_loading--;\n      if (root._bokeh_is_loading === 0) {\n        console.debug(\"Bokeh: all BokehJS libraries/stylesheets loaded\");\n        run_callbacks()\n      }\n    }\n\n    function on_error() {\n      console.error(\"failed to load \" + url);\n    }\n\n    for (var i = 0; i < css_urls.length; i++) {\n      var url = css_urls[i];\n      const element = document.createElement(\"link\");\n      element.onload = on_load;\n      element.onerror = on_error;\n      element.rel = \"stylesheet\";\n      element.type = \"text/css\";\n      element.href = url;\n      console.debug(\"Bokeh: injecting link tag for BokehJS stylesheet: \", url);\n      document.body.appendChild(element);\n    }\n\n    var skip = [];\n    if (window.requirejs) {\n      window.requirejs.config({'packages': {}, 'paths': {'vega-embed': 'https://cdn.jsdelivr.net/npm/vega-embed@6/build/vega-embed.min', 'vega-lite': 'https://cdn.jsdelivr.net/npm/vega-lite@4/build/vega-lite.min', 'vega': 'https://cdn.jsdelivr.net/npm/vega@5/build/vega.min'}, 'shim': {}});\n      \n      require([\"vega-embed\"], function(vegaEmbed) {\n\t\n\twindow.vegaEmbed = vegaEmbed\n\t\n\ton_load()\n      })\n      \n      require([\"vega-lite\"], function(vl) {\n\t\n\twindow.vl = vl\n\t\n\ton_load()\n      })\n      \n      require([\"vega\"], function(vega) {\n\t\n\twindow.vega = vega\n\t\n\ton_load()\n      })\n      \n      root._bokeh_is_loading = css_urls.length + 3;\n    } else {\n      root._bokeh_is_loading = css_urls.length + js_urls.length + js_modules.length;\n    }\n    if (((window['vega'] !== undefined) && (!(window['vega'] instanceof HTMLElement))) || window.requirejs) {\n      var urls = ['https://cdn.jsdelivr.net/npm/vega@5'];\n      for (var i = 0; i < urls.length; i++) {\n        skip.push(urls[i])\n      }\n    }\n    if (((window['vegaLite'] !== undefined) && (!(window['vegaLite'] instanceof HTMLElement))) || window.requirejs) {\n      var urls = ['https://cdn.jsdelivr.net/npm/vega-lite@4'];\n      for (var i = 0; i < urls.length; i++) {\n        skip.push(urls[i])\n      }\n    }\n    if (((window['vegaEmbed'] !== undefined) && (!(window['vegaEmbed'] instanceof HTMLElement))) || window.requirejs) {\n      var urls = ['https://cdn.jsdelivr.net/npm/vega-embed@6'];\n      for (var i = 0; i < urls.length; i++) {\n        skip.push(urls[i])\n      }\n    }\n    for (var i = 0; i < js_urls.length; i++) {\n      var url = js_urls[i];\n      if (skip.indexOf(url) >= 0) {\n\tif (!window.requirejs) {\n\t  on_load();\n\t}\n\tcontinue;\n      }\n      var element = document.createElement('script');\n      element.onload = on_load;\n      element.onerror = on_error;\n      element.async = false;\n      element.src = url;\n      console.debug(\"Bokeh: injecting script tag for BokehJS library: \", url);\n      document.head.appendChild(element);\n    }\n    for (var i = 0; i < js_modules.length; i++) {\n      var url = js_modules[i];\n      if (skip.indexOf(url) >= 0) {\n\tif (!window.requirejs) {\n\t  on_load();\n\t}\n\tcontinue;\n      }\n      var element = document.createElement('script');\n      element.onload = on_load;\n      element.onerror = on_error;\n      element.async = false;\n      element.src = url;\n      element.type = \"module\";\n      console.debug(\"Bokeh: injecting script tag for BokehJS library: \", url);\n      document.head.appendChild(element);\n    }\n    if (!js_urls.length && !js_modules.length) {\n      on_load()\n    }\n  };\n\n  function inject_raw_css(css) {\n    const element = document.createElement(\"style\");\n    element.appendChild(document.createTextNode(css));\n    document.body.appendChild(element);\n  }\n\n  var js_urls = [\"https://cdn.jsdelivr.net/npm/vega@5\", \"https://cdn.jsdelivr.net/npm/vega-lite@4\", \"https://cdn.jsdelivr.net/npm/vega-embed@6\", \"https://cdn.bokeh.org/bokeh/release/bokeh-2.4.2.min.js\", \"https://cdn.bokeh.org/bokeh/release/bokeh-gl-2.4.2.min.js\", \"https://cdn.bokeh.org/bokeh/release/bokeh-widgets-2.4.2.min.js\", \"https://cdn.bokeh.org/bokeh/release/bokeh-tables-2.4.2.min.js\", \"https://cdn.bokeh.org/bokeh/release/bokeh-mathjax-2.4.2.min.js\", \"https://unpkg.com/@holoviz/panel@0.12.7/dist/panel.min.js\"];\n  var js_modules = [];\n  var css_urls = [\"https://unpkg.com/@holoviz/panel@0.12.7/dist/css/alerts.css\", \"https://unpkg.com/@holoviz/panel@0.12.7/dist/css/card.css\", \"https://unpkg.com/@holoviz/panel@0.12.7/dist/css/dataframe.css\", \"https://unpkg.com/@holoviz/panel@0.12.7/dist/css/json.css\", \"https://unpkg.com/@holoviz/panel@0.12.7/dist/css/loading.css\", \"https://unpkg.com/@holoviz/panel@0.12.7/dist/css/markdown.css\", \"https://unpkg.com/@holoviz/panel@0.12.7/dist/css/widgets.css\"];\n  var inline_js = [\n    function(Bokeh) {\n      inject_raw_css(\"\\n    .bk.pn-loading.arcs:before {\\n      background-image: url(\\\"data:image/svg+xml;base64,PHN2ZyB4bWxucz0iaHR0cDovL3d3dy53My5vcmcvMjAwMC9zdmciIHhtbG5zOnhsaW5rPSJodHRwOi8vd3d3LnczLm9yZy8xOTk5L3hsaW5rIiBzdHlsZT0ibWFyZ2luOiBhdXRvOyBiYWNrZ3JvdW5kOiBub25lOyBkaXNwbGF5OiBibG9jazsgc2hhcGUtcmVuZGVyaW5nOiBhdXRvOyIgdmlld0JveD0iMCAwIDEwMCAxMDAiIHByZXNlcnZlQXNwZWN0UmF0aW89InhNaWRZTWlkIj4gIDxjaXJjbGUgY3g9IjUwIiBjeT0iNTAiIHI9IjMyIiBzdHJva2Utd2lkdGg9IjgiIHN0cm9rZT0iI2MzYzNjMyIgc3Ryb2tlLWRhc2hhcnJheT0iNTAuMjY1NDgyNDU3NDM2NjkgNTAuMjY1NDgyNDU3NDM2NjkiIGZpbGw9Im5vbmUiIHN0cm9rZS1saW5lY2FwPSJyb3VuZCI+ICAgIDxhbmltYXRlVHJhbnNmb3JtIGF0dHJpYnV0ZU5hbWU9InRyYW5zZm9ybSIgdHlwZT0icm90YXRlIiByZXBlYXRDb3VudD0iaW5kZWZpbml0ZSIgZHVyPSIxcyIga2V5VGltZXM9IjA7MSIgdmFsdWVzPSIwIDUwIDUwOzM2MCA1MCA1MCI+PC9hbmltYXRlVHJhbnNmb3JtPiAgPC9jaXJjbGU+PC9zdmc+\\\");\\n      max-height: 400px;\\n    }\\n    \");\n    },\n    function(Bokeh) {\n      Bokeh.set_log_level(\"info\");\n    },\n    function(Bokeh) {} // ensure no trailing comma for IE\n  ];\n\n  function run_inline_js() {\n    if ((root.Bokeh !== undefined) || (force === true)) {\n      for (var i = 0; i < inline_js.length; i++) {\n        inline_js[i].call(root, root.Bokeh);\n      }} else if (Date.now() < root._bokeh_timeout) {\n      setTimeout(run_inline_js, 100);\n    } else if (!root._bokeh_failed_load) {\n      console.log(\"Bokeh: BokehJS failed to load within specified timeout.\");\n      root._bokeh_failed_load = true;\n    }\n  }\n\n  if (root._bokeh_is_loading === 0) {\n    console.debug(\"Bokeh: BokehJS loaded, going straight to plotting\");\n    run_inline_js();\n  } else {\n    load_libs(css_urls, js_urls, js_modules, function() {\n      console.debug(\"Bokeh: BokehJS plotting callback run at\", now());\n      run_inline_js();\n    });\n  }\n}(window));",
      "application/vnd.holoviews_load.v0+json": ""
     },
     "metadata": {},
     "output_type": "display_data"
    },
    {
     "data": {
      "application/javascript": "\nif ((window.PyViz === undefined) || (window.PyViz instanceof HTMLElement)) {\n  window.PyViz = {comms: {}, comm_status:{}, kernels:{}, receivers: {}, plot_index: []}\n}\n\n\n    function JupyterCommManager() {\n    }\n\n    JupyterCommManager.prototype.register_target = function(plot_id, comm_id, msg_handler) {\n      if (window.comm_manager || ((window.Jupyter !== undefined) && (Jupyter.notebook.kernel != null))) {\n        var comm_manager = window.comm_manager || Jupyter.notebook.kernel.comm_manager;\n        comm_manager.register_target(comm_id, function(comm) {\n          comm.on_msg(msg_handler);\n        });\n      } else if ((plot_id in window.PyViz.kernels) && (window.PyViz.kernels[plot_id])) {\n        window.PyViz.kernels[plot_id].registerCommTarget(comm_id, function(comm) {\n          comm.onMsg = msg_handler;\n        });\n      } else if (typeof google != 'undefined' && google.colab.kernel != null) {\n        google.colab.kernel.comms.registerTarget(comm_id, (comm) => {\n          var messages = comm.messages[Symbol.asyncIterator]();\n          function processIteratorResult(result) {\n            var message = result.value;\n            console.log(message)\n            var content = {data: message.data, comm_id};\n            var buffers = []\n            for (var buffer of message.buffers || []) {\n              buffers.push(new DataView(buffer))\n            }\n            var metadata = message.metadata || {};\n            var msg = {content, buffers, metadata}\n            msg_handler(msg);\n            return messages.next().then(processIteratorResult);\n          }\n          return messages.next().then(processIteratorResult);\n        })\n      }\n    }\n\n    JupyterCommManager.prototype.get_client_comm = function(plot_id, comm_id, msg_handler) {\n      if (comm_id in window.PyViz.comms) {\n        return window.PyViz.comms[comm_id];\n      } else if (window.comm_manager || ((window.Jupyter !== undefined) && (Jupyter.notebook.kernel != null))) {\n        var comm_manager = window.comm_manager || Jupyter.notebook.kernel.comm_manager;\n        var comm = comm_manager.new_comm(comm_id, {}, {}, {}, comm_id);\n        if (msg_handler) {\n          comm.on_msg(msg_handler);\n        }\n      } else if ((plot_id in window.PyViz.kernels) && (window.PyViz.kernels[plot_id])) {\n        var comm = window.PyViz.kernels[plot_id].connectToComm(comm_id);\n        comm.open();\n        if (msg_handler) {\n          comm.onMsg = msg_handler;\n        }\n      } else if (typeof google != 'undefined' && google.colab.kernel != null) {\n        var comm_promise = google.colab.kernel.comms.open(comm_id)\n        comm_promise.then((comm) => {\n          window.PyViz.comms[comm_id] = comm;\n          if (msg_handler) {\n            var messages = comm.messages[Symbol.asyncIterator]();\n            function processIteratorResult(result) {\n              var message = result.value;\n              var content = {data: message.data};\n              var metadata = message.metadata || {comm_id};\n              var msg = {content, metadata}\n              msg_handler(msg);\n              return messages.next().then(processIteratorResult);\n            }\n            return messages.next().then(processIteratorResult);\n          }\n        }) \n        var sendClosure = (data, metadata, buffers, disposeOnDone) => {\n          return comm_promise.then((comm) => {\n            comm.send(data, metadata, buffers, disposeOnDone);\n          });\n        };\n        var comm = {\n          send: sendClosure\n        };\n      }\n      window.PyViz.comms[comm_id] = comm;\n      return comm;\n    }\n    window.PyViz.comm_manager = new JupyterCommManager();\n    \n\n\nvar JS_MIME_TYPE = 'application/javascript';\nvar HTML_MIME_TYPE = 'text/html';\nvar EXEC_MIME_TYPE = 'application/vnd.holoviews_exec.v0+json';\nvar CLASS_NAME = 'output';\n\n/**\n * Render data to the DOM node\n */\nfunction render(props, node) {\n  var div = document.createElement(\"div\");\n  var script = document.createElement(\"script\");\n  node.appendChild(div);\n  node.appendChild(script);\n}\n\n/**\n * Handle when a new output is added\n */\nfunction handle_add_output(event, handle) {\n  var output_area = handle.output_area;\n  var output = handle.output;\n  if ((output.data == undefined) || (!output.data.hasOwnProperty(EXEC_MIME_TYPE))) {\n    return\n  }\n  var id = output.metadata[EXEC_MIME_TYPE][\"id\"];\n  var toinsert = output_area.element.find(\".\" + CLASS_NAME.split(' ')[0]);\n  if (id !== undefined) {\n    var nchildren = toinsert.length;\n    var html_node = toinsert[nchildren-1].children[0];\n    html_node.innerHTML = output.data[HTML_MIME_TYPE];\n    var scripts = [];\n    var nodelist = html_node.querySelectorAll(\"script\");\n    for (var i in nodelist) {\n      if (nodelist.hasOwnProperty(i)) {\n        scripts.push(nodelist[i])\n      }\n    }\n\n    scripts.forEach( function (oldScript) {\n      var newScript = document.createElement(\"script\");\n      var attrs = [];\n      var nodemap = oldScript.attributes;\n      for (var j in nodemap) {\n        if (nodemap.hasOwnProperty(j)) {\n          attrs.push(nodemap[j])\n        }\n      }\n      attrs.forEach(function(attr) { newScript.setAttribute(attr.name, attr.value) });\n      newScript.appendChild(document.createTextNode(oldScript.innerHTML));\n      oldScript.parentNode.replaceChild(newScript, oldScript);\n    });\n    if (JS_MIME_TYPE in output.data) {\n      toinsert[nchildren-1].children[1].textContent = output.data[JS_MIME_TYPE];\n    }\n    output_area._hv_plot_id = id;\n    if ((window.Bokeh !== undefined) && (id in Bokeh.index)) {\n      window.PyViz.plot_index[id] = Bokeh.index[id];\n    } else {\n      window.PyViz.plot_index[id] = null;\n    }\n  } else if (output.metadata[EXEC_MIME_TYPE][\"server_id\"] !== undefined) {\n    var bk_div = document.createElement(\"div\");\n    bk_div.innerHTML = output.data[HTML_MIME_TYPE];\n    var script_attrs = bk_div.children[0].attributes;\n    for (var i = 0; i < script_attrs.length; i++) {\n      toinsert[toinsert.length - 1].childNodes[1].setAttribute(script_attrs[i].name, script_attrs[i].value);\n    }\n    // store reference to server id on output_area\n    output_area._bokeh_server_id = output.metadata[EXEC_MIME_TYPE][\"server_id\"];\n  }\n}\n\n/**\n * Handle when an output is cleared or removed\n */\nfunction handle_clear_output(event, handle) {\n  var id = handle.cell.output_area._hv_plot_id;\n  var server_id = handle.cell.output_area._bokeh_server_id;\n  if (((id === undefined) || !(id in PyViz.plot_index)) && (server_id !== undefined)) { return; }\n  var comm = window.PyViz.comm_manager.get_client_comm(\"hv-extension-comm\", \"hv-extension-comm\", function () {});\n  if (server_id !== null) {\n    comm.send({event_type: 'server_delete', 'id': server_id});\n    return;\n  } else if (comm !== null) {\n    comm.send({event_type: 'delete', 'id': id});\n  }\n  delete PyViz.plot_index[id];\n  if ((window.Bokeh !== undefined) & (id in window.Bokeh.index)) {\n    var doc = window.Bokeh.index[id].model.document\n    doc.clear();\n    const i = window.Bokeh.documents.indexOf(doc);\n    if (i > -1) {\n      window.Bokeh.documents.splice(i, 1);\n    }\n  }\n}\n\n/**\n * Handle kernel restart event\n */\nfunction handle_kernel_cleanup(event, handle) {\n  delete PyViz.comms[\"hv-extension-comm\"];\n  window.PyViz.plot_index = {}\n}\n\n/**\n * Handle update_display_data messages\n */\nfunction handle_update_output(event, handle) {\n  handle_clear_output(event, {cell: {output_area: handle.output_area}})\n  handle_add_output(event, handle)\n}\n\nfunction register_renderer(events, OutputArea) {\n  function append_mime(data, metadata, element) {\n    // create a DOM node to render to\n    var toinsert = this.create_output_subarea(\n    metadata,\n    CLASS_NAME,\n    EXEC_MIME_TYPE\n    );\n    this.keyboard_manager.register_events(toinsert);\n    // Render to node\n    var props = {data: data, metadata: metadata[EXEC_MIME_TYPE]};\n    render(props, toinsert[0]);\n    element.append(toinsert);\n    return toinsert\n  }\n\n  events.on('output_added.OutputArea', handle_add_output);\n  events.on('output_updated.OutputArea', handle_update_output);\n  events.on('clear_output.CodeCell', handle_clear_output);\n  events.on('delete.Cell', handle_clear_output);\n  events.on('kernel_ready.Kernel', handle_kernel_cleanup);\n\n  OutputArea.prototype.register_mime_type(EXEC_MIME_TYPE, append_mime, {\n    safe: true,\n    index: 0\n  });\n}\n\nif (window.Jupyter !== undefined) {\n  try {\n    var events = require('base/js/events');\n    var OutputArea = require('notebook/js/outputarea').OutputArea;\n    if (OutputArea.prototype.mime_types().indexOf(EXEC_MIME_TYPE) == -1) {\n      register_renderer(events, OutputArea);\n    }\n  } catch(err) {\n  }\n}\n",
      "application/vnd.holoviews_load.v0+json": ""
     },
     "metadata": {},
     "output_type": "display_data"
    },
    {
     "name": "stdout",
     "output_type": "stream",
     "text": [
      "(406, 9)\n",
      "                        Name  Miles_per_Gallon  Cylinders  Displacement  \\\n",
      "0  chevrolet chevelle malibu              18.0          8         307.0   \n",
      "1          buick skylark 320              15.0          8         350.0   \n",
      "2         plymouth satellite              18.0          8         318.0   \n",
      "3              amc rebel sst              16.0          8         304.0   \n",
      "4                ford torino              17.0          8         302.0   \n",
      "\n",
      "   Horsepower  Weight_in_lbs  Acceleration  Year Origin  \n",
      "0       130.0           3504          12.0  1970    USA  \n",
      "1       165.0           3693          11.5  1970    USA  \n",
      "2       150.0           3436          11.0  1970    USA  \n",
      "3       150.0           3433          12.0  1970    USA  \n",
      "4       140.0           3449          10.5  1970    USA  \n"
     ]
    },
    {
     "data": {
      "application/vnd.jupyter.widget-view+json": {
       "model_id": "154dae160f4248b1b10dcee2a485433f",
       "version_major": 2,
       "version_minor": 0
      },
      "text/plain": [
       "BokehModel(combine_events=True, render_bundle={'docs_json': {'68cd294d-5412-43c5-bceb-538987f71082': {'defs': …"
      ]
     },
     "metadata": {},
     "output_type": "display_data"
    },
    {
     "data": {
      "text/html": [
       "<div style=\"display: none\"></div>"
      ],
      "text/plain": [
       "Str(VegaLite, height=240)"
      ]
     },
     "execution_count": 23,
     "metadata": {},
     "output_type": "execute_result"
    }
   ],
   "source": [
    "import pandas as pd\n",
    "\n",
    "from vega import VegaLite\n",
    "\n",
    "import pandas as pd\n",
    "\n",
    "#https://panel.holoviz.org/reference/panes/Vega.html\n",
    "import panel as pn\n",
    "pn.extension('vega')\n",
    "\n",
    "df = pd.read_json('https://raw.githubusercontent.com/vega/ipyvega/master/notebooks/cars.json')\n",
    "\n",
    "print(df.shape)\n",
    "\n",
    "print(df.head())\n",
    "\n",
    "v = VegaLite({\n",
    "  \"$schema\": \"https://vega.github.io/schema/vega-lite/v5.json\",\n",
    "  \"mark\": \"point\",\n",
    "  \"encoding\": {\n",
    "    \"y\": {\"type\": \"quantitative\", \"field\": \"Acceleration\"},\n",
    "    \"x\": {\"type\": \"quantitative\", \"field\": \"Horsepower\"}\n",
    "  }\n",
    "}, df)\n",
    "\n",
    "vgl_pane = pn.panel(v, height=240)\n",
    "vgl_pane"
   ]
  },
  {
   "cell_type": "code",
   "execution_count": 26,
   "metadata": {},
   "outputs": [
    {
     "data": {
      "application/vnd.jupyter.widget-view+json": {
       "model_id": "e6ea2dbf36234097a5a3a247f152adbc",
       "version_major": 2,
       "version_minor": 0
      },
      "text/plain": [
       "BokehModel(combine_events=True, render_bundle={'docs_json': {'99a32590-2570-48ce-9862-c4549c431b9c': {'defs': …"
      ]
     },
     "metadata": {},
     "output_type": "display_data"
    },
    {
     "data": {
      "text/html": [
       "<div style=\"display: none\"></div>"
      ],
      "text/plain": [
       "Vega(Chart)"
      ]
     },
     "execution_count": 26,
     "metadata": {},
     "output_type": "execute_result"
    }
   ],
   "source": [
    "import altair as alt\n",
    "from vega_datasets import data\n",
    "pn.extension('vega')\n",
    "\n",
    "cars = data.cars()\n",
    "\n",
    "chart = alt.Chart(cars).mark_circle(size=60).encode(\n",
    "    x='Horsepower',\n",
    "    y='Miles_per_Gallon',\n",
    "    color='Origin',\n",
    "    tooltip=['Name', 'Origin', 'Horsepower', 'Miles_per_Gallon']\n",
    ").interactive()\n",
    "\n",
    "altair_pane = pn.panel(chart)\n",
    "altair_pane"
   ]
  },
  {
   "cell_type": "code",
   "execution_count": 27,
   "metadata": {},
   "outputs": [
    {
     "data": {
      "application/vnd.jupyter.widget-view+json": {
       "model_id": "687fa51c64f248adb481ec83d9fbb583",
       "version_major": 2,
       "version_minor": 0
      },
      "text/plain": [
       "BokehModel(combine_events=True, render_bundle={'docs_json': {'41967b25-1081-4e11-aed3-27b9e48cc449': {'defs': …"
      ]
     },
     "metadata": {},
     "output_type": "display_data"
    },
    {
     "data": {
      "text/html": [
       "<div style=\"display: none\"></div>"
      ],
      "text/plain": [
       "Row\n",
       "    [0] Column\n",
       "        [0] Markdown(str)\n",
       "        [1] PNG(str, align='center', height=150)\n",
       "        [2] Select(name='Variable', options=['population', ...], value='population', width=250)\n",
       "    [1] Vega(RepeatChart, margin=(10, 100, 10, 5), sizing_mode='stretch_width')"
      ]
     },
     "execution_count": 27,
     "metadata": {},
     "output_type": "execute_result"
    }
   ],
   "source": [
    "#https://panel.holoviz.org/gallery/simple/altair_choropleth.html#simple-gallery-altair-choropleth\n",
    "\n",
    "\n",
    "altair_logo = 'https://altair-viz.github.io/_static/altair-logo-light.png'\n",
    "states = alt.topo_feature(data.us_10m.url, 'states')\n",
    "states['url'] = 'https://raw.githubusercontent.com/vega/vega/master/docs/data/us-10m.json'\n",
    "#states['url'] = 'C:\\Travail\\CNRS_poitiers\\Cartographie\\PUD_avril2022\\data\\Fond_carto\\word1789_topojson.json'\n",
    "source = 'https://raw.githubusercontent.com/vega/vega/master/docs/data/population_engineers_hurricanes.csv'\n",
    "variable_list = ['population', 'engineers', 'hurricanes']\n",
    "\n",
    "def get_map(variable):\n",
    "    return alt.Chart(states).mark_geoshape().encode(\n",
    "        alt.Color(variable, type='quantitative')\n",
    "    ).transform_lookup(\n",
    "        lookup='id',\n",
    "        from_=alt.LookupData(source, 'id', [variable])\n",
    "    ).properties(\n",
    "        width=\"container\",\n",
    "        height=300,\n",
    "    ).project(\n",
    "        type='albersUsa'\n",
    "    ).repeat(\n",
    "        row=[variable]\n",
    "    )\n",
    "\n",
    "variable = pn.widgets.Select(options=variable_list, name='Variable', width=250)\n",
    "logo = pn.panel(altair_logo, height=150, align=\"center\")\n",
    "vega_panel = pn.pane.Vega(sizing_mode=\"stretch_width\", margin=(10,100,10,5))\n",
    "    \n",
    "@pn.depends(variable.param.value, watch=True)\n",
    "def update_vega_pane(variable):\n",
    "    vega_panel.object = get_map(variable)\n",
    "\n",
    "update_vega_pane(variable.value)\n",
    "    \n",
    "pn.Row(\n",
    "    pn.Column('# Altair Choropleth Maps', logo, variable),\n",
    "    vega_panel\n",
    ")"
   ]
  },
  {
   "cell_type": "code",
   "execution_count": 18,
   "metadata": {},
   "outputs": [
    {
     "data": {
      "text/html": [
       "\n",
       "<div id=\"altair-viz-fac60e36f0ba41db927ed208ca625fba\"></div>\n",
       "<script type=\"text/javascript\">\n",
       "  var VEGA_DEBUG = (typeof VEGA_DEBUG == \"undefined\") ? {} : VEGA_DEBUG;\n",
       "  (function(spec, embedOpt){\n",
       "    let outputDiv = document.currentScript.previousElementSibling;\n",
       "    if (outputDiv.id !== \"altair-viz-fac60e36f0ba41db927ed208ca625fba\") {\n",
       "      outputDiv = document.getElementById(\"altair-viz-fac60e36f0ba41db927ed208ca625fba\");\n",
       "    }\n",
       "    const paths = {\n",
       "      \"vega\": \"https://cdn.jsdelivr.net/npm//vega@5?noext\",\n",
       "      \"vega-lib\": \"https://cdn.jsdelivr.net/npm//vega-lib?noext\",\n",
       "      \"vega-lite\": \"https://cdn.jsdelivr.net/npm//vega-lite@4.17.0?noext\",\n",
       "      \"vega-embed\": \"https://cdn.jsdelivr.net/npm//vega-embed@6?noext\",\n",
       "    };\n",
       "\n",
       "    function maybeLoadScript(lib, version) {\n",
       "      var key = `${lib.replace(\"-\", \"\")}_version`;\n",
       "      return (VEGA_DEBUG[key] == version) ?\n",
       "        Promise.resolve(paths[lib]) :\n",
       "        new Promise(function(resolve, reject) {\n",
       "          var s = document.createElement('script');\n",
       "          document.getElementsByTagName(\"head\")[0].appendChild(s);\n",
       "          s.async = true;\n",
       "          s.onload = () => {\n",
       "            VEGA_DEBUG[key] = version;\n",
       "            return resolve(paths[lib]);\n",
       "          };\n",
       "          s.onerror = () => reject(`Error loading script: ${paths[lib]}`);\n",
       "          s.src = paths[lib];\n",
       "        });\n",
       "    }\n",
       "\n",
       "    function showError(err) {\n",
       "      outputDiv.innerHTML = `<div class=\"error\" style=\"color:red;\">${err}</div>`;\n",
       "      throw err;\n",
       "    }\n",
       "\n",
       "    function displayChart(vegaEmbed) {\n",
       "      vegaEmbed(outputDiv, spec, embedOpt)\n",
       "        .catch(err => showError(`Javascript Error: ${err.message}<br>This usually means there's a typo in your chart specification. See the javascript console for the full traceback.`));\n",
       "    }\n",
       "\n",
       "    if(typeof define === \"function\" && define.amd) {\n",
       "      requirejs.config({paths});\n",
       "      require([\"vega-embed\"], displayChart, err => showError(`Error loading script: ${err.message}`));\n",
       "    } else {\n",
       "      maybeLoadScript(\"vega\", \"5\")\n",
       "        .then(() => maybeLoadScript(\"vega-lite\", \"4.17.0\"))\n",
       "        .then(() => maybeLoadScript(\"vega-embed\", \"6\"))\n",
       "        .catch(showError)\n",
       "        .then(() => displayChart(vegaEmbed));\n",
       "    }\n",
       "  })({\"config\": {\"view\": {\"continuousWidth\": 500, \"continuousHeight\": 300, \"fill\": \"lightblue\"}, \"projection\": {\"center\": [6, 46]}, \"title\": {\"anchor\": \"start\", \"color\": \"blue\", \"font\": \"Calibri\", \"fontSize\": 20}}, \"data\": {\"url\": \"./word1789_topojson.json\", \"format\": {\"feature\": \"word1789_geojson\", \"type\": \"topojson\"}}, \"mark\": {\"type\": \"geoshape\", \"fill\": \"lightgray\", \"stroke\": \"white\"}, \"height\": 300, \"projection\": {\"scale\": 900, \"type\": \"conicEquidistant\"}, \"title\": \"world 1789\", \"width\": 500, \"$schema\": \"https://vega.github.io/schema/vega-lite/v4.17.0.json\"}, {\"mode\": \"vega-lite\"});\n",
       "</script>"
      ],
      "text/plain": [
       "alt.Chart(...)"
      ]
     },
     "execution_count": 18,
     "metadata": {},
     "output_type": "execute_result"
    }
   ],
   "source": [
    "#https://colab.research.google.com/github/uwdata/visualization-curriculum/blob/master/altair_cartographic.ipynb#scrollTo=wwJ-kKtPKuJ9\n",
    "#https://altair-viz.github.io/user_guide/configuration.html#config-title\n",
    "\n",
    "#https://stackoverflow.com/questions/61025130/altair-globe-map-centering\n",
    "#https://solveforums.msomimaktaba.com/threads/solved-how-to-use-multiselection-in-altair-to-select-other-elements-from-a-mapping-dictionary.651251/\n",
    "#https://vega.github.io/vega/docs/projections/\n",
    "#https://vega.github.io/vega-lite/docs/projection.html#projection-types\n",
    "#https://vega.github.io/vega-lite/examples/#maps-geographic-displays\n",
    "\n",
    "import altair as alt\n",
    "from vega_datasets import data\n",
    "\n",
    "pays_url = './word1789_topojson.json'\n",
    "pays = alt.topo_feature(pays_url, 'word1789_geojson')\n",
    "\n",
    "#projectionConfig = alt.ProjectionConfig( center = [6, 46], scale=743)\n",
    "#projection = alt.Projection('conicEquidistant', scale=743)\n",
    "\n",
    "# World 1789, center en France and England\n",
    "\n",
    "background = alt.Chart(pays).mark_geoshape(\n",
    "    fill='lightgray',\n",
    "    stroke='white'\n",
    ").properties(\n",
    "    width=500,\n",
    "    height=300,\n",
    "    title='world 1789'\n",
    ").project('conicEquidistant',scale=900).configure_projection(center = [6, 46])\n",
    "\n",
    "## Grosse galère pour faire marcher les projections avec configuration. \n",
    "# Seulement parce que j'avais oublié d'affecter la variable background après avoir appelé configure_projection, ...\n",
    "\n",
    "#.project(projection) \n",
    "#.project('conicEquidistant').configure_projection(center = [6, 46], scale=743)\n",
    "#.project(type='conicEquidistant', center = [6, 46], scale=743)\n",
    "#projection=alt.Projection(type='conicEquidistant', center = [6, 46], scale=743)\n",
    "\n",
    "#epsg3035 = \"+proj=laea +lat_0=52 +lon_0=10 +x_0=4321000 +y_0=3210000 +ellps=GRS80 +units=m +no_defs\"\n",
    "# ['albers', 'albersUsa', 'azimuthalEqualArea', 'azimuthalEquidistant', 'conicConformal', 'conicEqualArea', 'conicEquidistant', 'equalEarth', 'equirectangular', 'gnomonic', 'identity', 'mercator', 'naturalEarth1', 'orthographic', 'stereographic', 'transverseMercator'\n",
    "\n",
    "\n",
    "# Note : il faut affecter background après l'opération de configure_xxx\n",
    "\n",
    "background = background.configure_title(\n",
    "    fontSize=20,\n",
    "    font='Calibri',\n",
    "    anchor='start',\n",
    "    color='blue'\n",
    ")\n",
    "\n",
    "background = background.configure_view(\n",
    "    continuousHeight=300,\n",
    "    continuousWidth=500,\n",
    "    #strokeWidth=4,\n",
    "    fill='lightblue'\n",
    "    #stroke='red',\n",
    ")\n",
    "\n",
    "\n",
    "background\n",
    "\n",
    "#background.project('conicEquidistant').\n",
    "#background.configure_projection(center = [6, 46], scale=743) # albersUsa azimuthalEqualArea mercator conicEquidistant\n",
    "#map.configure_view(stroke=None)"
   ]
  },
  {
   "cell_type": "code",
   "execution_count": 10,
   "metadata": {},
   "outputs": [
    {
     "data": {
      "text/html": [
       "\n",
       "<div id=\"altair-viz-b4ecedbd51c741d49c7422f28937e8ca\"></div>\n",
       "<script type=\"text/javascript\">\n",
       "  var VEGA_DEBUG = (typeof VEGA_DEBUG == \"undefined\") ? {} : VEGA_DEBUG;\n",
       "  (function(spec, embedOpt){\n",
       "    let outputDiv = document.currentScript.previousElementSibling;\n",
       "    if (outputDiv.id !== \"altair-viz-b4ecedbd51c741d49c7422f28937e8ca\") {\n",
       "      outputDiv = document.getElementById(\"altair-viz-b4ecedbd51c741d49c7422f28937e8ca\");\n",
       "    }\n",
       "    const paths = {\n",
       "      \"vega\": \"https://cdn.jsdelivr.net/npm//vega@5?noext\",\n",
       "      \"vega-lib\": \"https://cdn.jsdelivr.net/npm//vega-lib?noext\",\n",
       "      \"vega-lite\": \"https://cdn.jsdelivr.net/npm//vega-lite@4.17.0?noext\",\n",
       "      \"vega-embed\": \"https://cdn.jsdelivr.net/npm//vega-embed@6?noext\",\n",
       "    };\n",
       "\n",
       "    function maybeLoadScript(lib, version) {\n",
       "      var key = `${lib.replace(\"-\", \"\")}_version`;\n",
       "      return (VEGA_DEBUG[key] == version) ?\n",
       "        Promise.resolve(paths[lib]) :\n",
       "        new Promise(function(resolve, reject) {\n",
       "          var s = document.createElement('script');\n",
       "          document.getElementsByTagName(\"head\")[0].appendChild(s);\n",
       "          s.async = true;\n",
       "          s.onload = () => {\n",
       "            VEGA_DEBUG[key] = version;\n",
       "            return resolve(paths[lib]);\n",
       "          };\n",
       "          s.onerror = () => reject(`Error loading script: ${paths[lib]}`);\n",
       "          s.src = paths[lib];\n",
       "        });\n",
       "    }\n",
       "\n",
       "    function showError(err) {\n",
       "      outputDiv.innerHTML = `<div class=\"error\" style=\"color:red;\">${err}</div>`;\n",
       "      throw err;\n",
       "    }\n",
       "\n",
       "    function displayChart(vegaEmbed) {\n",
       "      vegaEmbed(outputDiv, spec, embedOpt)\n",
       "        .catch(err => showError(`Javascript Error: ${err.message}<br>This usually means there's a typo in your chart specification. See the javascript console for the full traceback.`));\n",
       "    }\n",
       "\n",
       "    if(typeof define === \"function\" && define.amd) {\n",
       "      requirejs.config({paths});\n",
       "      require([\"vega-embed\"], displayChart, err => showError(`Error loading script: ${err.message}`));\n",
       "    } else {\n",
       "      maybeLoadScript(\"vega\", \"5\")\n",
       "        .then(() => maybeLoadScript(\"vega-lite\", \"4.17.0\"))\n",
       "        .then(() => maybeLoadScript(\"vega-embed\", \"6\"))\n",
       "        .catch(showError)\n",
       "        .then(() => displayChart(vegaEmbed));\n",
       "    }\n",
       "  })({\"config\": {\"view\": {\"continuousWidth\": 400, \"continuousHeight\": 300}, \"projection\": {\"center\": [6, 46]}}, \"data\": {\"url\": \"./data/ports_csv.csv\"}, \"mark\": \"circle\", \"encoding\": {\"color\": {\"value\": \"steelblue\"}, \"latitude\": {\"field\": \"y\", \"type\": \"quantitative\"}, \"longitude\": {\"field\": \"x\", \"type\": \"quantitative\"}, \"size\": {\"field\": \"total\", \"title\": \"Number of citations as pointcall\", \"type\": \"quantitative\"}, \"tooltip\": [{\"field\": \"toponym\", \"type\": \"nominal\"}, {\"field\": \"total\", \"type\": \"quantitative\"}]}, \"projection\": {\"scale\": 900, \"type\": \"conicEquidistant\"}, \"title\": \"Ports of navigo\", \"$schema\": \"https://vega.github.io/schema/vega-lite/v4.17.0.json\"}, {\"mode\": \"vega-lite\"});\n",
       "</script>"
      ],
      "text/plain": [
       "alt.Chart(...)"
      ]
     },
     "execution_count": 10,
     "metadata": {},
     "output_type": "execute_result"
    }
   ],
   "source": [
    "# Essais avec différentes source de ports : geojson, csv, url\n",
    "\n",
    "#url_geojson = 'http://data.portic.fr/api/ports?format=geojson'\n",
    "#ports = alt.Data(url=url_geojson, format=alt.DataFormat(property='features',type='json'))\n",
    "#url_ports_api = 'http://data.portic.fr/api/ports?format=geojson'\n",
    "#url_ports_geojson = './data/ports_navigocorpus1789_geojson.geojson'\n",
    "\n",
    "alt.data_transformers.enable('csv')\n",
    "#ports_url = 'http://data.portic.fr/api/ports?srid=4326&format=csv'\n",
    "ports_url  = \"./data/ports_csv.csv\"\n",
    "\n",
    "points = alt.Chart(ports_url).mark_circle().encode(\n",
    "    longitude='x:Q',\n",
    "    latitude='y:Q',\n",
    "    size=alt.Size('total:Q', title='Number of citations as pointcall'),\n",
    "    color=alt.value('steelblue'),\n",
    "    tooltip=['toponym:N','total:Q']\n",
    ").properties(\n",
    "    title='Ports of navigo'\n",
    ").project('conicEquidistant',scale=900).configure_projection(center = [6, 46])\n",
    "#.project('mercator',scale=900)\n",
    "\n",
    "'''\n",
    "alt.Chart(ports).mark_geoshape().encode(\n",
    "        size=alt.Size('properties.total:Q', title='Number of citations as pointcall'),\n",
    "        color=alt.value('steelblue'),\n",
    "        tooltip=['properties.toponym:N','properties.total:Q']\n",
    "    )'''\n",
    "#Ceci ne marche pas avec le geojson...\n",
    "\n",
    "points "
   ]
  },
  {
   "cell_type": "code",
   "execution_count": 7,
   "metadata": {},
   "outputs": [
    {
     "data": {
      "text/plain": [
       "\"\\nalt.Chart(ports).mark_geoshape().encode(\\n        size=alt.Size('properties.total:Q', title='Number of citations as pointcall'),\\n        color=alt.value('steelblue'),\\n        tooltip=['properties.toponym:N','properties.total:Q']\\n    )\""
      ]
     },
     "execution_count": 7,
     "metadata": {},
     "output_type": "execute_result"
    }
   ],
   "source": [
    "#https://colab.research.google.com/github/uwdata/visualization-curriculum/blob/master/altair_cartographic.ipynb#scrollTo=wwJ-kKtPKuJ9\n",
    "import altair as alt\n",
    "from vega_datasets import data\n",
    "\n",
    "#Source de type topojson\n",
    "pays_url = './word1789_topojson.json'\n",
    "pays = alt.topo_feature(pays_url, 'word1789_geojson')\n",
    "\n",
    "#Source de type csv\n",
    "alt.data_transformers.enable('csv')\n",
    "#url_ports_csv = 'http://data.portic.fr/api/ports?srid=4326&format=csv'\n",
    "url_ports_csv  = \"./data/ports_csv.csv\"\n",
    "\n",
    "ports = alt.Data(url=ports_url)\n",
    "\n",
    "ports \n",
    "\n"
   ]
  },
  {
   "cell_type": "code",
   "execution_count": 11,
   "metadata": {},
   "outputs": [
    {
     "data": {
      "text/html": [
       "\n",
       "<div id=\"altair-viz-9b6cbd7c00554276962a16aaa10cf433\"></div>\n",
       "<script type=\"text/javascript\">\n",
       "  var VEGA_DEBUG = (typeof VEGA_DEBUG == \"undefined\") ? {} : VEGA_DEBUG;\n",
       "  (function(spec, embedOpt){\n",
       "    let outputDiv = document.currentScript.previousElementSibling;\n",
       "    if (outputDiv.id !== \"altair-viz-9b6cbd7c00554276962a16aaa10cf433\") {\n",
       "      outputDiv = document.getElementById(\"altair-viz-9b6cbd7c00554276962a16aaa10cf433\");\n",
       "    }\n",
       "    const paths = {\n",
       "      \"vega\": \"https://cdn.jsdelivr.net/npm//vega@5?noext\",\n",
       "      \"vega-lib\": \"https://cdn.jsdelivr.net/npm//vega-lib?noext\",\n",
       "      \"vega-lite\": \"https://cdn.jsdelivr.net/npm//vega-lite@4.17.0?noext\",\n",
       "      \"vega-embed\": \"https://cdn.jsdelivr.net/npm//vega-embed@6?noext\",\n",
       "    };\n",
       "\n",
       "    function maybeLoadScript(lib, version) {\n",
       "      var key = `${lib.replace(\"-\", \"\")}_version`;\n",
       "      return (VEGA_DEBUG[key] == version) ?\n",
       "        Promise.resolve(paths[lib]) :\n",
       "        new Promise(function(resolve, reject) {\n",
       "          var s = document.createElement('script');\n",
       "          document.getElementsByTagName(\"head\")[0].appendChild(s);\n",
       "          s.async = true;\n",
       "          s.onload = () => {\n",
       "            VEGA_DEBUG[key] = version;\n",
       "            return resolve(paths[lib]);\n",
       "          };\n",
       "          s.onerror = () => reject(`Error loading script: ${paths[lib]}`);\n",
       "          s.src = paths[lib];\n",
       "        });\n",
       "    }\n",
       "\n",
       "    function showError(err) {\n",
       "      outputDiv.innerHTML = `<div class=\"error\" style=\"color:red;\">${err}</div>`;\n",
       "      throw err;\n",
       "    }\n",
       "\n",
       "    function displayChart(vegaEmbed) {\n",
       "      vegaEmbed(outputDiv, spec, embedOpt)\n",
       "        .catch(err => showError(`Javascript Error: ${err.message}<br>This usually means there's a typo in your chart specification. See the javascript console for the full traceback.`));\n",
       "    }\n",
       "\n",
       "    if(typeof define === \"function\" && define.amd) {\n",
       "      requirejs.config({paths});\n",
       "      require([\"vega-embed\"], displayChart, err => showError(`Error loading script: ${err.message}`));\n",
       "    } else {\n",
       "      maybeLoadScript(\"vega\", \"5\")\n",
       "        .then(() => maybeLoadScript(\"vega-lite\", \"4.17.0\"))\n",
       "        .then(() => maybeLoadScript(\"vega-embed\", \"6\"))\n",
       "        .catch(showError)\n",
       "        .then(() => displayChart(vegaEmbed));\n",
       "    }\n",
       "  })({\"config\": {\"view\": {\"continuousWidth\": 400, \"continuousHeight\": 300, \"stroke\": null}, \"projection\": {\"center\": [6, 46]}}, \"layer\": [{\"data\": {\"sphere\": true}, \"mark\": {\"type\": \"geoshape\", \"fill\": \"#e6f3ff\"}}, {\"data\": {\"graticule\": true}, \"mark\": {\"type\": \"geoshape\", \"stroke\": \"#ffffff\", \"strokeWidth\": 1}}, {\"data\": {\"url\": \"./word1789_topojson.json\", \"format\": {\"feature\": \"word1789_geojson\", \"type\": \"topojson\"}}, \"mark\": {\"type\": \"geoshape\", \"fill\": \"lightgray\", \"stroke\": \"white\", \"strokeWidth\": 0.5}}, {\"data\": {\"url\": \"./data/ports_csv.csv\"}, \"mark\": \"circle\", \"encoding\": {\"color\": {\"value\": \"steelblue\"}, \"latitude\": {\"field\": \"y\", \"type\": \"quantitative\"}, \"longitude\": {\"field\": \"x\", \"type\": \"quantitative\"}, \"size\": {\"field\": \"total\", \"title\": \"Number of citations as pointcall\", \"type\": \"quantitative\"}, \"tooltip\": [{\"field\": \"toponym\", \"type\": \"nominal\"}, {\"field\": \"total\", \"type\": \"quantitative\"}]}}], \"height\": 400, \"projection\": {\"scale\": 900, \"type\": \"conicEquidistant\"}, \"title\": \"world 1789\", \"width\": 600, \"$schema\": \"https://vega.github.io/schema/vega-lite/v4.17.0.json\"}, {\"mode\": \"vega-lite\"});\n",
       "</script>"
      ],
      "text/plain": [
       "alt.LayerChart(...)"
      ]
     },
     "execution_count": 11,
     "metadata": {},
     "output_type": "execute_result"
    }
   ],
   "source": [
    "# Les deux couches ensemble\n",
    "#Ca marche enfin ! Un peu minable pour l'instant\n",
    "\n",
    "# World 1789, center en France and England\n",
    "\n",
    "map = alt.layer(\n",
    "    # use the sphere of the Earth as the base layer\n",
    "    alt.Chart({'sphere': True}).mark_geoshape(\n",
    "        fill='#e6f3ff'\n",
    "    ),\n",
    "    # add a graticule for geographic reference lines\n",
    "    alt.Chart({'graticule': True}).mark_geoshape(\n",
    "        stroke='#ffffff', strokeWidth=1\n",
    "    ),\n",
    "    # and then the countries of the world\n",
    "    alt.Chart(pays).mark_geoshape(\n",
    "        fill='lightgray', stroke='white', strokeWidth=0.5\n",
    "    ),\n",
    "    #the ports\n",
    "    alt.Chart(ports_url).mark_circle().encode(\n",
    "        longitude='x:Q',\n",
    "        latitude='y:Q',\n",
    "        size=alt.Size('total:Q', title='Number of citations as pointcall'),\n",
    "        color=alt.value('steelblue'),\n",
    "        tooltip=['toponym:N','total:Q']\n",
    "    )\n",
    ").properties(\n",
    "    width=600,\n",
    "    height=400,\n",
    "    title='world 1789'\n",
    ").project('conicEquidistant', scale=900).configure_projection(center = [6, 46]).configure_view(stroke=None)\n",
    "\n",
    "\n",
    "map"
   ]
  },
  {
   "cell_type": "markdown",
   "metadata": {},
   "source": [
    "# Reprise des données préparées par Paul dans l'autre script"
   ]
  },
  {
   "cell_type": "code",
   "execution_count": 122,
   "metadata": {},
   "outputs": [],
   "source": [
    "import csv\n",
    "from collections import defaultdict\n",
    "from typing import TypedDict\n",
    "import json\n",
    "\n",
    "class MonthDataPoint(TypedDict):\n",
    "    month: str \n",
    "    destination: str\n",
    "    nb_conge: int\n",
    "    year: int\n",
    "\n",
    "\n",
    "destination_month_destination = []\n",
    "\n",
    "total_by_month = defaultdict(int)\n",
    "\n",
    "MONTHS = [\"01 Janvier\",\"02 Février\",\" 03 Mars\",\"04 Avril\",\"05 Mai\",\"06 Juin\",\"07 Juillet\",\"08 Août\",\"09 Septembre\",\"10 Octobre\",\"11 Novembre\",\"12 Décembre\"]\n",
    "year_file = [(1790, \"./data/PFISTER_PORTS_NAVIRES_TAB_91_p_342_1790.csv\"), (1781, \"./data/PFISTER_PORTS_NAVIRES_TAB_90_p_341_1781.csv\")]\n",
    "for (year, file) in year_file:\n",
    "    with open(file, \"r\") as data:\n",
    "        for row in csv.DictReader(data):\n",
    "            \n",
    "            for month in MONTHS:\n",
    "                if month in row and row[month] != '':\n",
    "                    data_point:MonthDataPoint = MonthDataPoint(\n",
    "                        month= month,\n",
    "                        destination= row['destination'],\n",
    "                        nb_conge= int(row[month]),\n",
    "                        year= year\n",
    "                    )\n",
    "                    destination_month_destination.append(data_point)\n",
    "                    total_by_month[month] += int(row[month])\n",
    "\n",
    "#print(json.dumps(destination_month_destination))\n",
    "\n",
    "#[{\"month\": \"01 Janvier\", \"destination\": \"Deal\", \"nb_conge\": 19, \"year\": 1790}]"
   ]
  },
  {
   "cell_type": "code",
   "execution_count": 123,
   "metadata": {},
   "outputs": [
    {
     "name": "stdout",
     "output_type": "stream",
     "text": [
      "(282, 4)\n",
      "Index(['month', 'destination', 'nb_conge', 'year'], dtype='object')\n"
     ]
    },
    {
     "data": {
      "text/plain": [
       "array(['Deal', 'Douvres', 'Colchester', 'Folkestone', 'Maldon',\n",
       "       'Whistable', 'Hasting', 'Feversham', 'Harwich', 'Burnham', 'Leigh',\n",
       "       'Rye', 'Londres', 'Dungeness', 'Rochester', 'Yarmouth',\n",
       "       'Brightlandsea', 'Margate', 'Lydd', 'Pegwell', 'Wivenhoe',\n",
       "       'Aberdeen', 'Lynn', 'Milton', 'Reculver', 'Woodbridge',\n",
       "       'Chichester', 'Dymchurch', 'Hythe', 'Barking', 'Foy', 'Guerneze',\n",
       "       'Greenwith', 'Ipswich', 'Southwold', 'Eawsand & Chatham',\n",
       "       'Gravesand', 'Colmay-Falmouth', 'Langley-Ramsay', 'Cowes', 'Leith',\n",
       "       'Seasalter', 'Chatham', 'Sandgate', 'Liestaff', 'Bradwell',\n",
       "       'Hanson', 'Norwich', 'Budleigh Salterton', 'Essex', 'Christchurch',\n",
       "       'Topsham', 'Holy Island'], dtype=object)"
      ]
     },
     "execution_count": 123,
     "metadata": {},
     "output_type": "execute_result"
    }
   ],
   "source": [
    "# Transformer en CSV (faire les agrégats et la jointure avec les données de ports pour faire la carto)\n",
    "\n",
    "#print(destination_month_destination)\n",
    "\n",
    "import pandas as pd\n",
    "decennie = pd.DataFrame(destination_month_destination)\n",
    "print(decennie.shape)\n",
    "\n",
    "print(decennie.columns)\n",
    "\n",
    "pd.unique(decennie['destination'])\n",
    "\n",
    "#decennie  = decennie.set_index('destination')\n",
    "\n"
   ]
  },
  {
   "cell_type": "markdown",
   "metadata": {},
   "source": [
    "# Récupérer les ports de navigo \n"
   ]
  },
  {
   "cell_type": "code",
   "execution_count": 124,
   "metadata": {},
   "outputs": [],
   "source": [
    "# Aller chercher les données de ports via l'API (à rajouter dans le load_data.sh)\n",
    "\n",
    "#curl -o data/navigo_ports.csv \"data.portic.fr/api/ports/?format=csv&srid=4326\"\n",
    "\n",
    "ports = pd.read_csv(\"http://data.portic.fr/api/ports/?format=csv&srid=4326\", encoding='utf8')\n",
    "\n",
    "## Il y avait un souci car l'API ne renvoyait pas les homeports (seulement les ports utilisés en pointcall)\n",
    "## Le pb est réglé depuis le 04 avril 2022\n",
    "## Du coup j'ai commité dans le module ports_09mars2022.csv avec ; comme séparateur, encodage utf8\n",
    "\n",
    "#ports = pd.read_csv(\"./data/ports_09mars2022.csv\", encoding='latin1', sep=';')"
   ]
  },
  {
   "cell_type": "code",
   "execution_count": 126,
   "metadata": {},
   "outputs": [
    {
     "name": "stdout",
     "output_type": "stream",
     "text": [
      "(1426, 26)\n",
      "Index(['Unnamed: 0', 'ogc_fid', 'uhgs_id', 'x', 'y', 'total', 'toponym',\n",
      "       'toponyme_standard_fr', 'toponyme_standard_en', 'substate_1789_fr',\n",
      "       'state_1789_fr', 'substate_1789_en', 'state_1789_en',\n",
      "       'belonging_states', 'belonging_substates', 'status', 'has_a_clerk',\n",
      "       'geonameid', 'admiralty', 'province', 'shiparea', 'ferme_direction',\n",
      "       'ferme_bureau', 'partner_balance_1789', 'partner_balance_supp_1789',\n",
      "       'point'],\n",
      "      dtype='object')\n"
     ]
    },
    {
     "data": {
      "text/html": [
       "<div>\n",
       "<style scoped>\n",
       "    .dataframe tbody tr th:only-of-type {\n",
       "        vertical-align: middle;\n",
       "    }\n",
       "\n",
       "    .dataframe tbody tr th {\n",
       "        vertical-align: top;\n",
       "    }\n",
       "\n",
       "    .dataframe thead th {\n",
       "        text-align: right;\n",
       "    }\n",
       "</style>\n",
       "<table border=\"1\" class=\"dataframe\">\n",
       "  <thead>\n",
       "    <tr style=\"text-align: right;\">\n",
       "      <th></th>\n",
       "      <th>ogc_fid</th>\n",
       "      <th>uhgs_id</th>\n",
       "      <th>x</th>\n",
       "      <th>y</th>\n",
       "      <th>total</th>\n",
       "      <th>toponym</th>\n",
       "      <th>toponyme_standard_fr</th>\n",
       "      <th>toponyme_standard_en</th>\n",
       "      <th>substate_1789_fr</th>\n",
       "      <th>state_1789_fr</th>\n",
       "      <th>...</th>\n",
       "      <th>has_a_clerk</th>\n",
       "      <th>geonameid</th>\n",
       "      <th>admiralty</th>\n",
       "      <th>province</th>\n",
       "      <th>shiparea</th>\n",
       "      <th>ferme_direction</th>\n",
       "      <th>ferme_bureau</th>\n",
       "      <th>partner_balance_1789</th>\n",
       "      <th>partner_balance_supp_1789</th>\n",
       "      <th>point</th>\n",
       "    </tr>\n",
       "    <tr>\n",
       "      <th>toponyme_standard_fr</th>\n",
       "      <th></th>\n",
       "      <th></th>\n",
       "      <th></th>\n",
       "      <th></th>\n",
       "      <th></th>\n",
       "      <th></th>\n",
       "      <th></th>\n",
       "      <th></th>\n",
       "      <th></th>\n",
       "      <th></th>\n",
       "      <th></th>\n",
       "      <th></th>\n",
       "      <th></th>\n",
       "      <th></th>\n",
       "      <th></th>\n",
       "      <th></th>\n",
       "      <th></th>\n",
       "      <th></th>\n",
       "      <th></th>\n",
       "      <th></th>\n",
       "      <th></th>\n",
       "    </tr>\n",
       "  </thead>\n",
       "  <tbody>\n",
       "    <tr>\n",
       "      <th>Terre-Neuve, île de</th>\n",
       "      <td>18</td>\n",
       "      <td>B2119892</td>\n",
       "      <td>-56.000000</td>\n",
       "      <td>49.000000</td>\n",
       "      <td>68</td>\n",
       "      <td>Terre Neuve</td>\n",
       "      <td>Terre-Neuve, île de</td>\n",
       "      <td>Newfoundland</td>\n",
       "      <td>Colonies britanniques d'Amérique</td>\n",
       "      <td>Grande-Bretagne</td>\n",
       "      <td>...</td>\n",
       "      <td>NaN</td>\n",
       "      <td>5889189.0</td>\n",
       "      <td>NaN</td>\n",
       "      <td>NaN</td>\n",
       "      <td>ACA-NEWF</td>\n",
       "      <td>NaN</td>\n",
       "      <td>NaN</td>\n",
       "      <td>Angleterre</td>\n",
       "      <td>Etranger</td>\n",
       "      <td>{\"type\":\"Point\",\"coordinates\":[-56,49]}</td>\n",
       "    </tr>\n",
       "    <tr>\n",
       "      <th>Baie de Gibraltar</th>\n",
       "      <td>853</td>\n",
       "      <td>A0354076</td>\n",
       "      <td>-5.433333</td>\n",
       "      <td>36.150000</td>\n",
       "      <td>1</td>\n",
       "      <td>Rade de Gibraltar</td>\n",
       "      <td>Baie de Gibraltar</td>\n",
       "      <td>Bay of Gibraltar</td>\n",
       "      <td>possessions anglaises en Méditerranée</td>\n",
       "      <td>Grande-Bretagne</td>\n",
       "      <td>...</td>\n",
       "      <td>NaN</td>\n",
       "      <td>2411584.0</td>\n",
       "      <td>NaN</td>\n",
       "      <td>NaN</td>\n",
       "      <td>ACE-CADI</td>\n",
       "      <td>NaN</td>\n",
       "      <td>NaN</td>\n",
       "      <td>Angleterre</td>\n",
       "      <td>Etranger</td>\n",
       "      <td>{\"type\":\"Point\",\"coordinates\":[-5.433333,36.15]}</td>\n",
       "    </tr>\n",
       "    <tr>\n",
       "      <th>Férolle</th>\n",
       "      <td>469</td>\n",
       "      <td>B2120324</td>\n",
       "      <td>-57.100000</td>\n",
       "      <td>51.016667</td>\n",
       "      <td>2</td>\n",
       "      <td>Ferol côte de Terre Neuve</td>\n",
       "      <td>Férolle</td>\n",
       "      <td>Ferolle</td>\n",
       "      <td>Colonies britanniques d'Amérique</td>\n",
       "      <td>Grande-Bretagne</td>\n",
       "      <td>...</td>\n",
       "      <td>NaN</td>\n",
       "      <td>3164433.0</td>\n",
       "      <td>NaN</td>\n",
       "      <td>NaN</td>\n",
       "      <td>ACA-NEWF</td>\n",
       "      <td>NaN</td>\n",
       "      <td>NaN</td>\n",
       "      <td>Angleterre</td>\n",
       "      <td>Etranger</td>\n",
       "      <td>{\"type\":\"Point\",\"coordinates\":[-57.1,51.016667]}</td>\n",
       "    </tr>\n",
       "    <tr>\n",
       "      <th>Lerwick</th>\n",
       "      <td>595</td>\n",
       "      <td>A0385744</td>\n",
       "      <td>-1.150000</td>\n",
       "      <td>60.150000</td>\n",
       "      <td>2</td>\n",
       "      <td>Lauwig</td>\n",
       "      <td>Lerwick</td>\n",
       "      <td>Lerwick</td>\n",
       "      <td>Ecosse</td>\n",
       "      <td>Grande-Bretagne</td>\n",
       "      <td>...</td>\n",
       "      <td>NaN</td>\n",
       "      <td>2644605.0</td>\n",
       "      <td>NaN</td>\n",
       "      <td>Ecosse</td>\n",
       "      <td>ANE-FISL</td>\n",
       "      <td>NaN</td>\n",
       "      <td>NaN</td>\n",
       "      <td>Angleterre</td>\n",
       "      <td>Etranger</td>\n",
       "      <td>{\"type\":\"Point\",\"coordinates\":[-1.15,60.15]}</td>\n",
       "    </tr>\n",
       "    <tr>\n",
       "      <th>Brompton</th>\n",
       "      <td>241</td>\n",
       "      <td>A0398458</td>\n",
       "      <td>0.533333</td>\n",
       "      <td>51.400000</td>\n",
       "      <td>1</td>\n",
       "      <td>Drompton [Brompton]</td>\n",
       "      <td>Brompton</td>\n",
       "      <td>Brompton</td>\n",
       "      <td>Angleterre</td>\n",
       "      <td>Grande-Bretagne</td>\n",
       "      <td>...</td>\n",
       "      <td>NaN</td>\n",
       "      <td>2654585.0</td>\n",
       "      <td>NaN</td>\n",
       "      <td>Kent</td>\n",
       "      <td>NOR-THAM</td>\n",
       "      <td>NaN</td>\n",
       "      <td>NaN</td>\n",
       "      <td>Angleterre</td>\n",
       "      <td>Etranger</td>\n",
       "      <td>{\"type\":\"Point\",\"coordinates\":[0.533333,51.4]}</td>\n",
       "    </tr>\n",
       "    <tr>\n",
       "      <th>...</th>\n",
       "      <td>...</td>\n",
       "      <td>...</td>\n",
       "      <td>...</td>\n",
       "      <td>...</td>\n",
       "      <td>...</td>\n",
       "      <td>...</td>\n",
       "      <td>...</td>\n",
       "      <td>...</td>\n",
       "      <td>...</td>\n",
       "      <td>...</td>\n",
       "      <td>...</td>\n",
       "      <td>...</td>\n",
       "      <td>...</td>\n",
       "      <td>...</td>\n",
       "      <td>...</td>\n",
       "      <td>...</td>\n",
       "      <td>...</td>\n",
       "      <td>...</td>\n",
       "      <td>...</td>\n",
       "      <td>...</td>\n",
       "      <td>...</td>\n",
       "    </tr>\n",
       "    <tr>\n",
       "      <th>King's Lynn</th>\n",
       "      <td>933</td>\n",
       "      <td>A0381991</td>\n",
       "      <td>0.383333</td>\n",
       "      <td>52.750000</td>\n",
       "      <td>15</td>\n",
       "      <td>Lynn</td>\n",
       "      <td>King's Lynn</td>\n",
       "      <td>King's Lynn</td>\n",
       "      <td>Angleterre</td>\n",
       "      <td>Grande-Bretagne</td>\n",
       "      <td>...</td>\n",
       "      <td>NaN</td>\n",
       "      <td>6947737.0</td>\n",
       "      <td>NaN</td>\n",
       "      <td>Norfolk</td>\n",
       "      <td>NOR-HUMB</td>\n",
       "      <td>NaN</td>\n",
       "      <td>NaN</td>\n",
       "      <td>Angleterre</td>\n",
       "      <td>Etranger</td>\n",
       "      <td>{\"type\":\"Point\",\"coordinates\":[0.383333,52.75]}</td>\n",
       "    </tr>\n",
       "    <tr>\n",
       "      <th>Biddeford</th>\n",
       "      <td>1433</td>\n",
       "      <td>B1985005</td>\n",
       "      <td>-77.466667</td>\n",
       "      <td>18.400000</td>\n",
       "      <td>0</td>\n",
       "      <td>Biddefort</td>\n",
       "      <td>Biddeford</td>\n",
       "      <td>Biddeford</td>\n",
       "      <td>Colonies britanniques d'Amérique</td>\n",
       "      <td>Grande-Bretagne</td>\n",
       "      <td>...</td>\n",
       "      <td>NaN</td>\n",
       "      <td>NaN</td>\n",
       "      <td>NaN</td>\n",
       "      <td>NaN</td>\n",
       "      <td>NaN</td>\n",
       "      <td>NaN</td>\n",
       "      <td>NaN</td>\n",
       "      <td>Angleterre</td>\n",
       "      <td>Etranger</td>\n",
       "      <td>{\"type\":\"Point\",\"coordinates\":[-77.466667,18.4]}</td>\n",
       "    </tr>\n",
       "    <tr>\n",
       "      <th>Dungeness</th>\n",
       "      <td>1180</td>\n",
       "      <td>A0386886</td>\n",
       "      <td>0.983333</td>\n",
       "      <td>50.916668</td>\n",
       "      <td>0</td>\n",
       "      <td>NaN</td>\n",
       "      <td>Dungeness</td>\n",
       "      <td>Dungeness</td>\n",
       "      <td>Angleterre</td>\n",
       "      <td>Grande-Bretagne</td>\n",
       "      <td>...</td>\n",
       "      <td>NaN</td>\n",
       "      <td>NaN</td>\n",
       "      <td>NaN</td>\n",
       "      <td>Kent</td>\n",
       "      <td>MAN-DOVE</td>\n",
       "      <td>NaN</td>\n",
       "      <td>NaN</td>\n",
       "      <td>Angleterre</td>\n",
       "      <td>Etranger</td>\n",
       "      <td>{\"type\":\"Point\",\"coordinates\":[0.983333,50.916...</td>\n",
       "    </tr>\n",
       "    <tr>\n",
       "      <th>Rochester</th>\n",
       "      <td>229</td>\n",
       "      <td>A0401283</td>\n",
       "      <td>0.504513</td>\n",
       "      <td>51.389812</td>\n",
       "      <td>10</td>\n",
       "      <td>Rochester</td>\n",
       "      <td>Rochester</td>\n",
       "      <td>Rochester</td>\n",
       "      <td>Angleterre</td>\n",
       "      <td>Grande-Bretagne</td>\n",
       "      <td>...</td>\n",
       "      <td>NaN</td>\n",
       "      <td>2639268.0</td>\n",
       "      <td>NaN</td>\n",
       "      <td>Kent</td>\n",
       "      <td>NOR-THAM</td>\n",
       "      <td>NaN</td>\n",
       "      <td>NaN</td>\n",
       "      <td>Angleterre</td>\n",
       "      <td>Etranger</td>\n",
       "      <td>{\"type\":\"Point\",\"coordinates\":[0.504513,51.389...</td>\n",
       "    </tr>\n",
       "    <tr>\n",
       "      <th>Rothesay</th>\n",
       "      <td>1306</td>\n",
       "      <td>A0381012</td>\n",
       "      <td>-5.066667</td>\n",
       "      <td>55.833333</td>\n",
       "      <td>0</td>\n",
       "      <td>Rothesay</td>\n",
       "      <td>Rothesay</td>\n",
       "      <td>Rothesay</td>\n",
       "      <td>Ecosse</td>\n",
       "      <td>Grande-Bretagne</td>\n",
       "      <td>...</td>\n",
       "      <td>NaN</td>\n",
       "      <td>NaN</td>\n",
       "      <td>NaN</td>\n",
       "      <td>Ecosse</td>\n",
       "      <td>ANE-MALI</td>\n",
       "      <td>NaN</td>\n",
       "      <td>NaN</td>\n",
       "      <td>Angleterre</td>\n",
       "      <td>Etranger</td>\n",
       "      <td>{\"type\":\"Point\",\"coordinates\":[-5.066667,55.83...</td>\n",
       "    </tr>\n",
       "  </tbody>\n",
       "</table>\n",
       "<p>240 rows × 25 columns</p>\n",
       "</div>"
      ],
      "text/plain": [
       "                      ogc_fid   uhgs_id          x          y  total  \\\n",
       "toponyme_standard_fr                                                   \n",
       "Terre-Neuve, île de        18  B2119892 -56.000000  49.000000     68   \n",
       "Baie de Gibraltar         853  A0354076  -5.433333  36.150000      1   \n",
       "Férolle                   469  B2120324 -57.100000  51.016667      2   \n",
       "Lerwick                   595  A0385744  -1.150000  60.150000      2   \n",
       "Brompton                  241  A0398458   0.533333  51.400000      1   \n",
       "...                       ...       ...        ...        ...    ...   \n",
       "King's Lynn               933  A0381991   0.383333  52.750000     15   \n",
       "Biddeford                1433  B1985005 -77.466667  18.400000      0   \n",
       "Dungeness                1180  A0386886   0.983333  50.916668      0   \n",
       "Rochester                 229  A0401283   0.504513  51.389812     10   \n",
       "Rothesay                 1306  A0381012  -5.066667  55.833333      0   \n",
       "\n",
       "                                        toponym toponyme_standard_fr  \\\n",
       "toponyme_standard_fr                                                   \n",
       "Terre-Neuve, île de                 Terre Neuve  Terre-Neuve, île de   \n",
       "Baie de Gibraltar             Rade de Gibraltar    Baie de Gibraltar   \n",
       "Férolle               Ferol côte de Terre Neuve              Férolle   \n",
       "Lerwick                                  Lauwig              Lerwick   \n",
       "Brompton                    Drompton [Brompton]             Brompton   \n",
       "...                                         ...                  ...   \n",
       "King's Lynn                                Lynn          King's Lynn   \n",
       "Biddeford                             Biddefort           Biddeford    \n",
       "Dungeness                                   NaN            Dungeness   \n",
       "Rochester                             Rochester            Rochester   \n",
       "Rothesay                               Rothesay             Rothesay   \n",
       "\n",
       "                     toponyme_standard_en  \\\n",
       "toponyme_standard_fr                        \n",
       "Terre-Neuve, île de          Newfoundland   \n",
       "Baie de Gibraltar        Bay of Gibraltar   \n",
       "Férolle                           Ferolle   \n",
       "Lerwick                           Lerwick   \n",
       "Brompton                         Brompton   \n",
       "...                                   ...   \n",
       "King's Lynn                   King's Lynn   \n",
       "Biddeford                      Biddeford    \n",
       "Dungeness                       Dungeness   \n",
       "Rochester                       Rochester   \n",
       "Rothesay                         Rothesay   \n",
       "\n",
       "                                           substate_1789_fr    state_1789_fr  \\\n",
       "toponyme_standard_fr                                                           \n",
       "Terre-Neuve, île de        Colonies britanniques d'Amérique  Grande-Bretagne   \n",
       "Baie de Gibraltar     possessions anglaises en Méditerranée  Grande-Bretagne   \n",
       "Férolle                    Colonies britanniques d'Amérique  Grande-Bretagne   \n",
       "Lerwick                                              Ecosse  Grande-Bretagne   \n",
       "Brompton                                         Angleterre  Grande-Bretagne   \n",
       "...                                                     ...              ...   \n",
       "King's Lynn                                      Angleterre  Grande-Bretagne   \n",
       "Biddeford                  Colonies britanniques d'Amérique  Grande-Bretagne   \n",
       "Dungeness                                        Angleterre  Grande-Bretagne   \n",
       "Rochester                                        Angleterre  Grande-Bretagne   \n",
       "Rothesay                                             Ecosse  Grande-Bretagne   \n",
       "\n",
       "                      ... has_a_clerk  geonameid admiralty province  shiparea  \\\n",
       "toponyme_standard_fr  ...                                                       \n",
       "Terre-Neuve, île de   ...         NaN  5889189.0       NaN      NaN  ACA-NEWF   \n",
       "Baie de Gibraltar     ...         NaN  2411584.0       NaN      NaN  ACE-CADI   \n",
       "Férolle               ...         NaN  3164433.0       NaN      NaN  ACA-NEWF   \n",
       "Lerwick               ...         NaN  2644605.0       NaN   Ecosse  ANE-FISL   \n",
       "Brompton              ...         NaN  2654585.0       NaN     Kent  NOR-THAM   \n",
       "...                   ...         ...        ...       ...      ...       ...   \n",
       "King's Lynn           ...         NaN  6947737.0       NaN  Norfolk  NOR-HUMB   \n",
       "Biddeford             ...         NaN        NaN       NaN      NaN       NaN   \n",
       "Dungeness             ...         NaN        NaN       NaN     Kent  MAN-DOVE   \n",
       "Rochester             ...         NaN  2639268.0       NaN     Kent  NOR-THAM   \n",
       "Rothesay              ...         NaN        NaN       NaN   Ecosse  ANE-MALI   \n",
       "\n",
       "                     ferme_direction  ferme_bureau partner_balance_1789  \\\n",
       "toponyme_standard_fr                                                      \n",
       "Terre-Neuve, île de              NaN           NaN           Angleterre   \n",
       "Baie de Gibraltar                NaN           NaN           Angleterre   \n",
       "Férolle                          NaN           NaN           Angleterre   \n",
       "Lerwick                          NaN           NaN           Angleterre   \n",
       "Brompton                         NaN           NaN           Angleterre   \n",
       "...                              ...           ...                  ...   \n",
       "King's Lynn                      NaN           NaN           Angleterre   \n",
       "Biddeford                        NaN           NaN           Angleterre   \n",
       "Dungeness                        NaN           NaN           Angleterre   \n",
       "Rochester                        NaN           NaN           Angleterre   \n",
       "Rothesay                         NaN           NaN           Angleterre   \n",
       "\n",
       "                     partner_balance_supp_1789  \\\n",
       "toponyme_standard_fr                             \n",
       "Terre-Neuve, île de                   Etranger   \n",
       "Baie de Gibraltar                     Etranger   \n",
       "Férolle                               Etranger   \n",
       "Lerwick                               Etranger   \n",
       "Brompton                              Etranger   \n",
       "...                                        ...   \n",
       "King's Lynn                           Etranger   \n",
       "Biddeford                             Etranger   \n",
       "Dungeness                             Etranger   \n",
       "Rochester                             Etranger   \n",
       "Rothesay                              Etranger   \n",
       "\n",
       "                                                                  point  \n",
       "toponyme_standard_fr                                                     \n",
       "Terre-Neuve, île de             {\"type\":\"Point\",\"coordinates\":[-56,49]}  \n",
       "Baie de Gibraltar      {\"type\":\"Point\",\"coordinates\":[-5.433333,36.15]}  \n",
       "Férolle                {\"type\":\"Point\",\"coordinates\":[-57.1,51.016667]}  \n",
       "Lerwick                    {\"type\":\"Point\",\"coordinates\":[-1.15,60.15]}  \n",
       "Brompton                 {\"type\":\"Point\",\"coordinates\":[0.533333,51.4]}  \n",
       "...                                                                 ...  \n",
       "King's Lynn             {\"type\":\"Point\",\"coordinates\":[0.383333,52.75]}  \n",
       "Biddeford              {\"type\":\"Point\",\"coordinates\":[-77.466667,18.4]}  \n",
       "Dungeness             {\"type\":\"Point\",\"coordinates\":[0.983333,50.916...  \n",
       "Rochester             {\"type\":\"Point\",\"coordinates\":[0.504513,51.389...  \n",
       "Rothesay              {\"type\":\"Point\",\"coordinates\":[-5.066667,55.83...  \n",
       "\n",
       "[240 rows x 25 columns]"
      ]
     },
     "execution_count": 126,
     "metadata": {},
     "output_type": "execute_result"
    }
   ],
   "source": [
    "print(ports.shape)\n",
    "#(1426, 26)\n",
    "print(ports.columns)\n",
    "\n",
    "ports.head()\n",
    "\n",
    "# quel filtre : l'Angleterre ou plus largement Grande-Bretagne ?\n",
    "test = ports.query('substate_1789_fr == \"Angleterre\"')\n",
    "#test.head()\n",
    "\n",
    "ports_anglais = ports.query('state_1789_fr == \"Grande-Bretagne\"')\n",
    "ports_anglais['toponyme_standard_fr']\n",
    "\n",
    "ports_anglais.set_index('toponyme_standard_fr',inplace = True, drop=False)\n",
    "ports_anglais.drop(['Unnamed: 0'], axis=1)\n",
    "\n"
   ]
  },
  {
   "cell_type": "code",
   "execution_count": 127,
   "metadata": {},
   "outputs": [
    {
     "name": "stdout",
     "output_type": "stream",
     "text": [
      "(21, 7)\n"
     ]
    }
   ],
   "source": [
    "#Rajouter les ports supplémentaires codés par Silvia\n",
    "\n",
    "\n",
    "#Lire les codage de ports supplémentaires\n",
    "from dunkerquesprint import get_online_csv\n",
    "\n",
    "ports_supp = get_online_csv(\"https://docs.google.com/spreadsheets/d/e/2PACX-1vRq2TJOb7Ima9hBKiO1Kde_yFYoS6grucmtb6KRh6QpF4nwzjJF34WvpsGjS4wtrQ/pub?gid=1098819207&single=true&output=csv\")\n",
    "type(ports_supp) #list\n",
    "\n",
    "#print(ports_supp)\n",
    "#toponyme_Christian\tUHGS\ttoponyme_FR\ttoponyme_GB\tlat\tlong\tfacade\n",
    "df_ports_supp = pd.DataFrame(ports_supp, columns=['toponyme_Christian', 'UHGS', 'toponyme_FR', 'toponyme_GB', 'lat', 'long',  'facade'])\n",
    "#rename columns\n",
    "df_ports_supp = df_ports_supp.rename(columns={\"UHGS\": \"uhgs_id\", \"toponyme_FR\": \"toponyme_standard_fr\", \"toponyme_GB\" : \"toponyme_standard_en\", \"lat\":\"y\", \"long\":\"x\" })\n",
    "print(df_ports_supp.shape)#(21, 7)\n",
    "\n",
    "df_ports_supp\n",
    "\n",
    "df_ports_supp.set_index('toponyme_Christian',inplace = True, drop=False)\n",
    "ports_anglais = pd.concat([ports_anglais, df_ports_supp], keys=[\"ports\", \"supp\"])\n",
    "\n",
    "#test  = pd.concat([ports_anglais, df_ports_supp])\n",
    "\n",
    "\n"
   ]
  },
  {
   "cell_type": "markdown",
   "metadata": {},
   "source": [
    "# Joindre les ports avec les flux récupéré des données de Christian par le nom des ports (fuzzy )"
   ]
  },
  {
   "cell_type": "code",
   "execution_count": 128,
   "metadata": {},
   "outputs": [
    {
     "data": {
      "text/html": [
       "<div>\n",
       "<style scoped>\n",
       "    .dataframe tbody tr th:only-of-type {\n",
       "        vertical-align: middle;\n",
       "    }\n",
       "\n",
       "    .dataframe tbody tr th {\n",
       "        vertical-align: top;\n",
       "    }\n",
       "\n",
       "    .dataframe thead th {\n",
       "        text-align: right;\n",
       "    }\n",
       "</style>\n",
       "<table border=\"1\" class=\"dataframe\">\n",
       "  <thead>\n",
       "    <tr style=\"text-align: right;\">\n",
       "      <th></th>\n",
       "      <th></th>\n",
       "      <th>Unnamed: 0</th>\n",
       "      <th>ogc_fid</th>\n",
       "      <th>uhgs_id</th>\n",
       "      <th>x</th>\n",
       "      <th>y</th>\n",
       "      <th>total</th>\n",
       "      <th>toponym</th>\n",
       "      <th>toponyme_standard_fr</th>\n",
       "      <th>toponyme_standard_en</th>\n",
       "      <th>substate_1789_fr</th>\n",
       "      <th>...</th>\n",
       "      <th>admiralty</th>\n",
       "      <th>province</th>\n",
       "      <th>shiparea</th>\n",
       "      <th>ferme_direction</th>\n",
       "      <th>ferme_bureau</th>\n",
       "      <th>partner_balance_1789</th>\n",
       "      <th>partner_balance_supp_1789</th>\n",
       "      <th>point</th>\n",
       "      <th>toponyme_Christian</th>\n",
       "      <th>facade</th>\n",
       "    </tr>\n",
       "  </thead>\n",
       "  <tbody>\n",
       "    <tr>\n",
       "      <th>ports</th>\n",
       "      <th>Deal</th>\n",
       "      <td>754.0</td>\n",
       "      <td>819.0</td>\n",
       "      <td>A0386686</td>\n",
       "      <td>1.4</td>\n",
       "      <td>51.216667</td>\n",
       "      <td>100.0</td>\n",
       "      <td>Deal</td>\n",
       "      <td>Deal</td>\n",
       "      <td>Deal</td>\n",
       "      <td>Angleterre</td>\n",
       "      <td>...</td>\n",
       "      <td>NaN</td>\n",
       "      <td>Kent</td>\n",
       "      <td>NOR-DOVE</td>\n",
       "      <td>NaN</td>\n",
       "      <td>NaN</td>\n",
       "      <td>Angleterre</td>\n",
       "      <td>Etranger</td>\n",
       "      <td>{\"type\":\"Point\",\"coordinates\":[1.4,51.216667]}</td>\n",
       "      <td>NaN</td>\n",
       "      <td>NaN</td>\n",
       "    </tr>\n",
       "  </tbody>\n",
       "</table>\n",
       "<p>1 rows × 28 columns</p>\n",
       "</div>"
      ],
      "text/plain": [
       "            Unnamed: 0  ogc_fid   uhgs_id    x          y  total toponym  \\\n",
       "ports Deal       754.0    819.0  A0386686  1.4  51.216667  100.0    Deal   \n",
       "\n",
       "           toponyme_standard_fr toponyme_standard_en substate_1789_fr  ...  \\\n",
       "ports Deal                 Deal                 Deal       Angleterre  ...   \n",
       "\n",
       "           admiralty province  shiparea ferme_direction ferme_bureau  \\\n",
       "ports Deal       NaN     Kent  NOR-DOVE             NaN          NaN   \n",
       "\n",
       "           partner_balance_1789 partner_balance_supp_1789  \\\n",
       "ports Deal           Angleterre                  Etranger   \n",
       "\n",
       "                                                     point toponyme_Christian  \\\n",
       "ports Deal  {\"type\":\"Point\",\"coordinates\":[1.4,51.216667]}                NaN   \n",
       "\n",
       "           facade  \n",
       "ports Deal    NaN  \n",
       "\n",
       "[1 rows x 28 columns]"
      ]
     },
     "execution_count": 128,
     "metadata": {},
     "output_type": "execute_result"
    }
   ],
   "source": [
    "ports_anglais\n",
    "\n",
    "#ports_anglais['toponyme']=='Deal'\n",
    "ports_anglais.query('toponyme_standard_fr == \"Deal\"')"
   ]
  },
  {
   "cell_type": "code",
   "execution_count": 129,
   "metadata": {},
   "outputs": [
    {
     "data": {
      "text/html": [
       "<div>\n",
       "<style scoped>\n",
       "    .dataframe tbody tr th:only-of-type {\n",
       "        vertical-align: middle;\n",
       "    }\n",
       "\n",
       "    .dataframe tbody tr th {\n",
       "        vertical-align: top;\n",
       "    }\n",
       "\n",
       "    .dataframe thead th {\n",
       "        text-align: right;\n",
       "    }\n",
       "</style>\n",
       "<table border=\"1\" class=\"dataframe\">\n",
       "  <thead>\n",
       "    <tr style=\"text-align: right;\">\n",
       "      <th></th>\n",
       "      <th>month</th>\n",
       "      <th>destination</th>\n",
       "      <th>nb_conge</th>\n",
       "      <th>year</th>\n",
       "    </tr>\n",
       "  </thead>\n",
       "  <tbody>\n",
       "    <tr>\n",
       "      <th>0</th>\n",
       "      <td>01 Janvier</td>\n",
       "      <td>Deal</td>\n",
       "      <td>19</td>\n",
       "      <td>1790</td>\n",
       "    </tr>\n",
       "    <tr>\n",
       "      <th>1</th>\n",
       "      <td>03 Mars</td>\n",
       "      <td>Deal</td>\n",
       "      <td>14</td>\n",
       "      <td>1790</td>\n",
       "    </tr>\n",
       "    <tr>\n",
       "      <th>2</th>\n",
       "      <td>04 Avril</td>\n",
       "      <td>Deal</td>\n",
       "      <td>15</td>\n",
       "      <td>1790</td>\n",
       "    </tr>\n",
       "    <tr>\n",
       "      <th>3</th>\n",
       "      <td>05 Mai</td>\n",
       "      <td>Deal</td>\n",
       "      <td>7</td>\n",
       "      <td>1790</td>\n",
       "    </tr>\n",
       "    <tr>\n",
       "      <th>4</th>\n",
       "      <td>06 Juin</td>\n",
       "      <td>Deal</td>\n",
       "      <td>11</td>\n",
       "      <td>1790</td>\n",
       "    </tr>\n",
       "    <tr>\n",
       "      <th>5</th>\n",
       "      <td>07 Juillet</td>\n",
       "      <td>Deal</td>\n",
       "      <td>18</td>\n",
       "      <td>1790</td>\n",
       "    </tr>\n",
       "    <tr>\n",
       "      <th>6</th>\n",
       "      <td>09 Septembre</td>\n",
       "      <td>Deal</td>\n",
       "      <td>17</td>\n",
       "      <td>1790</td>\n",
       "    </tr>\n",
       "    <tr>\n",
       "      <th>7</th>\n",
       "      <td>10 Octobre</td>\n",
       "      <td>Deal</td>\n",
       "      <td>13</td>\n",
       "      <td>1790</td>\n",
       "    </tr>\n",
       "    <tr>\n",
       "      <th>8</th>\n",
       "      <td>11 Novembre</td>\n",
       "      <td>Deal</td>\n",
       "      <td>14</td>\n",
       "      <td>1790</td>\n",
       "    </tr>\n",
       "    <tr>\n",
       "      <th>178</th>\n",
       "      <td>01 Janvier</td>\n",
       "      <td>Deal</td>\n",
       "      <td>12</td>\n",
       "      <td>1781</td>\n",
       "    </tr>\n",
       "    <tr>\n",
       "      <th>179</th>\n",
       "      <td>03 Mars</td>\n",
       "      <td>Deal</td>\n",
       "      <td>11</td>\n",
       "      <td>1781</td>\n",
       "    </tr>\n",
       "    <tr>\n",
       "      <th>180</th>\n",
       "      <td>04 Avril</td>\n",
       "      <td>Deal</td>\n",
       "      <td>20</td>\n",
       "      <td>1781</td>\n",
       "    </tr>\n",
       "    <tr>\n",
       "      <th>181</th>\n",
       "      <td>05 Mai</td>\n",
       "      <td>Deal</td>\n",
       "      <td>9</td>\n",
       "      <td>1781</td>\n",
       "    </tr>\n",
       "    <tr>\n",
       "      <th>182</th>\n",
       "      <td>06 Juin</td>\n",
       "      <td>Deal</td>\n",
       "      <td>15</td>\n",
       "      <td>1781</td>\n",
       "    </tr>\n",
       "    <tr>\n",
       "      <th>183</th>\n",
       "      <td>07 Juillet</td>\n",
       "      <td>Deal</td>\n",
       "      <td>24</td>\n",
       "      <td>1781</td>\n",
       "    </tr>\n",
       "    <tr>\n",
       "      <th>184</th>\n",
       "      <td>09 Septembre</td>\n",
       "      <td>Deal</td>\n",
       "      <td>18</td>\n",
       "      <td>1781</td>\n",
       "    </tr>\n",
       "    <tr>\n",
       "      <th>185</th>\n",
       "      <td>10 Octobre</td>\n",
       "      <td>Deal</td>\n",
       "      <td>13</td>\n",
       "      <td>1781</td>\n",
       "    </tr>\n",
       "    <tr>\n",
       "      <th>186</th>\n",
       "      <td>11 Novembre</td>\n",
       "      <td>Deal</td>\n",
       "      <td>18</td>\n",
       "      <td>1781</td>\n",
       "    </tr>\n",
       "  </tbody>\n",
       "</table>\n",
       "</div>"
      ],
      "text/plain": [
       "            month destination  nb_conge  year\n",
       "0      01 Janvier        Deal        19  1790\n",
       "1         03 Mars        Deal        14  1790\n",
       "2        04 Avril        Deal        15  1790\n",
       "3          05 Mai        Deal         7  1790\n",
       "4         06 Juin        Deal        11  1790\n",
       "5      07 Juillet        Deal        18  1790\n",
       "6    09 Septembre        Deal        17  1790\n",
       "7      10 Octobre        Deal        13  1790\n",
       "8     11 Novembre        Deal        14  1790\n",
       "178    01 Janvier        Deal        12  1781\n",
       "179       03 Mars        Deal        11  1781\n",
       "180      04 Avril        Deal        20  1781\n",
       "181        05 Mai        Deal         9  1781\n",
       "182       06 Juin        Deal        15  1781\n",
       "183    07 Juillet        Deal        24  1781\n",
       "184  09 Septembre        Deal        18  1781\n",
       "185    10 Octobre        Deal        13  1781\n",
       "186   11 Novembre        Deal        18  1781"
      ]
     },
     "execution_count": 129,
     "metadata": {},
     "output_type": "execute_result"
    }
   ],
   "source": [
    "decennie.query('destination == \"Deal\"')"
   ]
  },
  {
   "cell_type": "code",
   "execution_count": 132,
   "metadata": {},
   "outputs": [],
   "source": [
    "#result = pd.concat([df_dix_ans_smog, ports_anglais], axis=1)\n",
    "\n",
    "result = pd.merge(\n",
    "    decennie,\n",
    "    ports_anglais,\n",
    "    how=\"outer\",\n",
    "    left_on='destination',\n",
    "    right_on='toponyme_standard_fr',\n",
    "    sort=True,\n",
    "    #indicator=True,\n",
    "    indicator=\"indicator_column\"\n",
    ")"
   ]
  },
  {
   "cell_type": "code",
   "execution_count": 133,
   "metadata": {},
   "outputs": [
    {
     "data": {
      "text/plain": [
       "array(['Brightlandsea', 'Budleigh Salterton', 'Colmay-Falmouth',\n",
       "       'Eawsand & Chatham', 'Essex', 'Feversham', 'Foy', 'Gravesand',\n",
       "       'Greenwith', 'Guerneze', 'Hanson', 'Holy Island', 'Langley-Ramsay',\n",
       "       'Leigh', 'Liestaff', 'Lynn', 'Reculver', 'Seasalter'], dtype=object)"
      ]
     },
     "execution_count": 133,
     "metadata": {},
     "output_type": "execute_result"
    }
   ],
   "source": [
    "## Liste de ceux qu'on ne trouve pas dans ports\n",
    "\n",
    "#result.query('destination == \"Deal\"')\n",
    "pd.unique(result.query('indicator_column == \"left_only\"')['destination'])\n",
    "#result.query('indicator_column == \"left_only\"')\n",
    "\n"
   ]
  },
  {
   "cell_type": "code",
   "execution_count": 237,
   "metadata": {},
   "outputs": [
    {
     "name": "stdout",
     "output_type": "stream",
     "text": [
      "londres\n"
     ]
    },
    {
     "data": {
      "text/html": [
       "<div>\n",
       "<style scoped>\n",
       "    .dataframe tbody tr th:only-of-type {\n",
       "        vertical-align: middle;\n",
       "    }\n",
       "\n",
       "    .dataframe tbody tr th {\n",
       "        vertical-align: top;\n",
       "    }\n",
       "\n",
       "    .dataframe thead th {\n",
       "        text-align: right;\n",
       "    }\n",
       "</style>\n",
       "<table border=\"1\" class=\"dataframe\">\n",
       "  <thead>\n",
       "    <tr style=\"text-align: right;\">\n",
       "      <th></th>\n",
       "      <th>toponyme_standard_en</th>\n",
       "      <th>toponyme_standard_fr</th>\n",
       "      <th>shiparea</th>\n",
       "      <th>province</th>\n",
       "      <th>toustopos</th>\n",
       "    </tr>\n",
       "  </thead>\n",
       "  <tbody>\n",
       "    <tr>\n",
       "      <th>856</th>\n",
       "      <td>Lyme Regis</td>\n",
       "      <td>Lyme Regis</td>\n",
       "      <td>MAN-PORT</td>\n",
       "      <td>Devon shire</td>\n",
       "      <td>Lynn Regis</td>\n",
       "    </tr>\n",
       "    <tr>\n",
       "      <th>904</th>\n",
       "      <td>Reculvers</td>\n",
       "      <td>Reculvers</td>\n",
       "      <td>NOR-THAM</td>\n",
       "      <td>Kent</td>\n",
       "      <td>NaN</td>\n",
       "    </tr>\n",
       "  </tbody>\n",
       "</table>\n",
       "</div>"
      ],
      "text/plain": [
       "    toponyme_standard_en toponyme_standard_fr  shiparea     province  \\\n",
       "856           Lyme Regis           Lyme Regis  MAN-PORT  Devon shire   \n",
       "904            Reculvers            Reculvers  NOR-THAM         Kent   \n",
       "\n",
       "      toustopos  \n",
       "856  Lynn Regis  \n",
       "904         NaN  "
      ]
     },
     "execution_count": 237,
     "metadata": {},
     "output_type": "execute_result"
    }
   ],
   "source": [
    "#ports.query('toponyme == \"Chatham \"')\n",
    "#.str.contains(\"abc\")\n",
    "\n",
    "#ports_anglais.query('\"Chatham\" <= toponyme_standard_fr <= \"Chatham~\"')\n",
    "#(ports_anglais.query('toponyme_standard_fr.str.contains(\"Chatham\")'))['toponyme_standard_fr']\n",
    "#Chatham \n",
    "print(\"Londres\".casefold())\n",
    "\n",
    "#(ports_anglais.query('toponyme_standard_fr.str.casefold().contains(\"Londres\".casefold())'))['toponyme_standard_fr']\n",
    "\n",
    "ports_anglais.query('toponyme_standard_fr.str.contains(\"Londres\") or toponyme_standard_en.str.contains(\"Londres\")')\n",
    "#ports_anglais.query('toponyme_standard_fr.str.contains(\"Londres\")')\n",
    "ports_anglais.query('toponyme_standard_fr.str.contains(\"Londres\") or toponyme_standard_en.str.contains(\"Londres\")') #Ok\n",
    "ports_anglais.query('toponyme_standard_fr.str.contains(\"msa\") or toponyme_standard_en.str.contains(\"msa\")')[['toponyme_standard_en','toponyme_standard_fr','shiparea', 'province', 'toustopos']] #Langley-Ramsay / \n",
    "\n",
    "#Pas trouvés\n",
    "ports_anglais.query('toponyme_standard_fr.str.contains(\"Bradwell\") or toponyme_standard_en.str.contains(\"Bradwell\")') #Bradwell / \n",
    "ports_anglais.query('toponyme_standard_fr.str.contains(\"hris\") or toponyme_standard_en.str.contains(\"hris\")') #Christchurch /\n",
    "ports_anglais.query('toponyme_standard_fr.str.contains(\"yn\") or toponyme_standard_en.str.contains(\"yn\")')['toustopos'] #Dymchurch / \n",
    "ports_anglais.query('toponyme_standard_fr.str.contains(\"f\") or toponyme_standard_en.str.contains(\"f\")')[['toponyme_standard_en','toponyme_standard_fr','shiparea', 'province', 'toustopos']] #Foy / \n",
    "ports_anglais.query('toponyme_standard_fr.str.contains(\"ans\") or toponyme_standard_en.str.contains(\"ans\")')[['toponyme_standard_en','toponyme_standard_fr','shiparea', 'province']] #Hanson / \n",
    "ports_anglais.query('toponyme_standard_fr.str.contains(\"sland\") or toponyme_standard_en.str.contains(\"sland\")')[['toponyme_standard_en','toponyme_standard_fr','shiparea', 'province', 'toustopos']] #'Holy Island / \n",
    "ports_anglais.query('toponyme_standard_fr.str.contains(\"Li\") or toponyme_standard_en.str.contains(\"Li\")')[['toponyme_standard_en','toponyme_standard_fr','shiparea', 'province', 'toustopos']] #Liestaff / Liestaff\t\n",
    "ports_anglais.query('toponyme_standard_fr.str.contains(\"or\") or toponyme_standard_en.str.contains(\"wich\")')[['toponyme_standard_en','toponyme_standard_fr','shiparea', 'province', 'toustopos']] #Norwich / \t\n",
    "ports_anglais.query('toponyme_standard_fr.str.contains(\"gw\") or toponyme_standard_en.str.contains(\"gw\")')[['toponyme_standard_en','toponyme_standard_fr','shiparea', 'province', 'toustopos']] #Pegwell / \t\n",
    "ports_anglais.query('toponyme_standard_fr.str.contains(\"sel\") or toponyme_standard_en.str.contains(\"sel\")')[['toponyme_standard_en','toponyme_standard_fr','shiparea', 'province', 'toustopos']] #Seasalter / \tWells on Sea\t\n",
    "ports_anglais.query('toponyme_standard_fr.str.contains(\"lton\") or toponyme_standard_en.str.contains(\"Mi\")')[['toponyme_standard_en','toponyme_standard_fr','shiparea', 'province', 'toustopos']] #Milton / Middleton ou Walton\t?\t\n",
    "\n",
    "#Trouvés\n",
    "ports_anglais.query('toponyme_standard_fr.str.contains(\"sea\") or toponyme_standard_en.str.contains(\"sea\")') #Brightlandsea / Brightlingsea\n",
    "ports_anglais.query('toponyme_standard_fr.str.contains(\"ud\") or toponyme_standard_en.str.contains(\"ud\")') #Budleigh Salterton / Saltfleet\n",
    "ports_anglais.query('toponyme_standard_fr.str.contains(\"almouth\") or toponyme_standard_en.str.contains(\"almouth\")') #Colmay-Falmouth / Falmouth\n",
    "ports_anglais.query('toponyme_standard_fr.str.contains(\"awsand\") or toponyme_standard_en.str.contains(\"awsand\")')[['toponyme_standard_en','toponyme_standard_fr','shiparea', 'province']] #Eawsand & Chatham / Chatham \n",
    "#Cawsand\tCawsand\tMAN-PLYM\tDevon shire\n",
    "ports_anglais.query('toponyme_standard_fr.str.contains(\"Chatham\") or toponyme_standard_en.str.contains(\"Chatham\")')[['toponyme_standard_en','toponyme_standard_fr','shiparea', 'province']] #Chatham / Chatham\n",
    "#905\tChatham\tChatham\tNOR-THAM\tKent\n",
    "ports_anglais.query('toponyme_standard_fr.str.contains(\"ssex\") or toponyme_standard_en.str.contains(\"ssex\")')[['toponyme_standard_en','toponyme_standard_fr','shiparea', 'province']] #Essex / Un port de l'essex comme Colchester\n",
    "ports_anglais.query('toponyme_standard_fr.str.contains(\"Colchester\") or toponyme_standard_en.str.contains(\"Colchester\")')[['toponyme_standard_en','toponyme_standard_fr','shiparea', 'province']] #Essex / Un port de l'essex comme Colchester\n",
    "ports_anglais.query('toponyme_standard_fr.str.contains(\"raves\") or toponyme_standard_en.str.contains(\"raves\")')[['toponyme_standard_en','toponyme_standard_fr','shiparea', 'province']] #Gravesand / Gravesend\n",
    "ports_anglais.query('toponyme_standard_fr.str.contains(\"reenwi\") or toponyme_standard_en.str.contains(\"reenw\")')[['toponyme_standard_en','toponyme_standard_fr','shiparea', 'province']] #Greenwith / Greenwich\n",
    "ports_anglais.query('toponyme_standard_fr.str.contains(\"Guerne\") or toponyme_standard_en.str.contains(\"Guerne\")')[['toponyme_standard_en','toponyme_standard_fr','shiparea', 'province']] #Guerneze / Guernesey\n",
    "ports_anglais.query('toponyme_standard_fr.str.contains(\"Le\") or toponyme_standard_en.str.contains(\"Le\")')[['toponyme_standard_en','toponyme_standard_fr','shiparea', 'province', 'toustopos']] #Leigh / Leith\t\n",
    "ports_anglais.query('toponyme_standard_fr.str.contains(\"Lynn\") or toponyme_standard_en.str.contains(\"Lynn\")')[['toponyme_standard_en','toponyme_standard_fr','shiparea', 'province', 'toustopos']] #Lynn / King's Lynn\tou Lyme Regis\t?\t\n",
    "ports_anglais.query('toponyme_standard_fr.str.contains(\"ulv\") or toponyme_standard_en.str.contains(\"Re\")')[['toponyme_standard_en','toponyme_standard_fr','shiparea', 'province', 'toustopos']] #Reculver / Reculvers\t\n",
    "\n",
    "\n",
    "\n"
   ]
  },
  {
   "cell_type": "code",
   "execution_count": 135,
   "metadata": {},
   "outputs": [
    {
     "name": "stderr",
     "output_type": "stream",
     "text": [
      "C:\\Users\\cplume01\\AppData\\Local\\Temp\\ipykernel_25696\\3827759267.py:5: SettingWithCopyWarning: \n",
      "A value is trying to be set on a copy of a slice from a DataFrame.\n",
      "Try using .loc[row_indexer,col_indexer] = value instead\n",
      "\n",
      "See the caveats in the documentation: https://pandas.pydata.org/pandas-docs/stable/user_guide/indexing.html#returning-a-view-versus-a-copy\n",
      "  decennie.query('destination == \"Brightlandsea\"')['destination_fixed'] = 'Brightlingsea'\n"
     ]
    }
   ],
   "source": [
    "# On remplace dans destination les noms de ports par ceux qui vont bien\n",
    "\n",
    "#decennie.query('destination == \"Deal\"')\n",
    "decennie['destination_fixed'] = decennie['destination']  \n",
    "decennie.query('destination == \"Brightlandsea\"')['destination_fixed'] = 'Brightlingsea'\n",
    "\n",
    "decennie = decennie.replace({'destination_fixed': 'Brightlandsea'}, 'Brightlingsea')\n",
    "decennie = decennie.replace({'destination_fixed': 'Budleigh Salterton'}, 'Saltfleet')\n",
    "decennie = decennie.replace({'destination_fixed': 'Colmay-Falmouth'}, 'Falmouth')\n",
    "decennie = decennie.replace({'destination_fixed': 'Eawsand & Chatham'}, 'Chatham')  \n",
    "\n",
    "decennie = decennie.replace({'destination_fixed': 'Essex'}, 'Colchester') \n",
    "decennie = decennie.replace({'destination_fixed': 'Gravesand'}, 'Gravesend')\n",
    "decennie = decennie.replace({'destination_fixed': 'Greenwith'}, 'Greenwich')\n",
    "decennie = decennie.replace({'destination_fixed': 'Guerneze'}, 'Guernesey')\n",
    "decennie = decennie.replace({'destination_fixed': 'Leigh'}, 'Leith')\n",
    "decennie = decennie.replace({'destination_fixed': 'Lynn'}, \"King's Lynn\")\n",
    "decennie = decennie.replace({'destination_fixed': 'Reculver'}, 'Reculvers')\n",
    "decennie = decennie.replace({'destination_fixed': 'Aberseen'}, 'Aberdeen')\n",
    "decennie = decennie.replace({'destination_fixed': 'Pastow'}, 'Padstow')\n",
    "\t\t\n",
    "\n",
    "\n",
    "\t\t\n",
    "\n",
    "#decennie.query('destination == \"Brightlandsea\"')['destination_fixed'] \n",
    "\n",
    "\n",
    "\n"
   ]
  },
  {
   "cell_type": "code",
   "execution_count": 136,
   "metadata": {},
   "outputs": [
    {
     "data": {
      "text/plain": [
       "152    Reculvers\n",
       "153    Reculvers\n",
       "154    Reculvers\n",
       "155    Reculvers\n",
       "Name: destination_fixed, dtype: object"
      ]
     },
     "execution_count": 136,
     "metadata": {},
     "output_type": "execute_result"
    }
   ],
   "source": [
    "decennie.query('destination == \"Reculver\"')['destination_fixed'] \n"
   ]
  },
  {
   "cell_type": "markdown",
   "metadata": {},
   "source": [
    "Refaire la jointure"
   ]
  },
  {
   "cell_type": "code",
   "execution_count": 137,
   "metadata": {},
   "outputs": [],
   "source": [
    "result = pd.merge(\n",
    "    decennie,\n",
    "    ports_anglais,\n",
    "    how=\"outer\",\n",
    "    left_on='destination_fixed',\n",
    "    right_on='toponyme_standard_fr',\n",
    "    sort=True,\n",
    "    #indicator=True,\n",
    "    indicator=\"indicator_column\"\n",
    ")"
   ]
  },
  {
   "cell_type": "code",
   "execution_count": 138,
   "metadata": {},
   "outputs": [
    {
     "data": {
      "text/plain": [
       "array(['Feversham', 'Foy', 'Hanson', 'Holy Island', 'Langley-Ramsay',\n",
       "       'Liestaff', 'Seasalter'], dtype=object)"
      ]
     },
     "execution_count": 138,
     "metadata": {},
     "output_type": "execute_result"
    }
   ],
   "source": [
    "## Liste de ceux qu'on ne trouve pas dans ports\n",
    "\n",
    "#result.query('destination == \"Chatham\"')\n",
    "pd.unique(result.query('indicator_column == \"left_only\"')['destination'])\n",
    "#result.query('indicator_column == \"left_only\"')\n",
    "\n",
    "#Feversham', 'Foy', 'Hanson', 'Holy Island', 'Langley-Ramsay','Liestaff', 'Seasalter'"
   ]
  },
  {
   "cell_type": "code",
   "execution_count": 139,
   "metadata": {},
   "outputs": [
    {
     "name": "stdout",
     "output_type": "stream",
     "text": [
      "Index(['month', 'destination', 'nb_conge', 'year', 'destination_fixed',\n",
      "       'Unnamed: 0', 'ogc_fid', 'uhgs_id', 'x', 'y', 'total', 'toponym',\n",
      "       'toponyme_standard_fr', 'toponyme_standard_en', 'substate_1789_fr',\n",
      "       'state_1789_fr', 'substate_1789_en', 'state_1789_en',\n",
      "       'belonging_states', 'belonging_substates', 'status', 'has_a_clerk',\n",
      "       'geonameid', 'admiralty', 'province', 'shiparea', 'ferme_direction',\n",
      "       'ferme_bureau', 'partner_balance_1789', 'partner_balance_supp_1789',\n",
      "       'point', 'toponyme_Christian', 'facade', 'indicator_column'],\n",
      "      dtype='object')\n"
     ]
    },
    {
     "data": {
      "text/plain": [
       "array([  nan, 1790., 1781.])"
      ]
     },
     "execution_count": 139,
     "metadata": {},
     "output_type": "execute_result"
    }
   ],
   "source": [
    "## Those we keep to make the map\n",
    "\n",
    "tomap = result.query('indicator_column != \"left_only\"')\n",
    "\n",
    "print(tomap.columns)\n",
    "\n",
    "pd.unique(tomap['year'])\n"
   ]
  },
  {
   "cell_type": "markdown",
   "metadata": {},
   "source": [
    "## Agregate data for the map par port"
   ]
  },
  {
   "cell_type": "code",
   "execution_count": 140,
   "metadata": {},
   "outputs": [],
   "source": [
    "import matplotlib.pyplot as plt\n",
    "import pylab\n",
    "import seaborn as sns\n",
    "\n"
   ]
  },
  {
   "cell_type": "code",
   "execution_count": 141,
   "metadata": {},
   "outputs": [
    {
     "data": {
      "image/png": "[encoded data removed]",
      "text/plain": [
       "<Figure size 1008x720 with 1 Axes>"
      ]
     },
     "metadata": {
      "needs_background": "light"
     },
     "output_type": "display_data"
    }
   ],
   "source": [
    "annee=1781\n",
    "\n",
    "data_to_plot = tomap.query('year=={}'.format(annee)) #ou 1790\n",
    "\n",
    "plt.figure(figsize=(14, 10))\n",
    "by_port = sns.barplot(x = 'uhgs_id', y = 'nb_conge', data = data_to_plot)\n",
    "by_port.set_title('Flux sortis de Dunkerque vers les ports de smogglage anglais en {}'.format(annee))\n",
    "plt.setp(by_port.get_xticklabels(), rotation=45)\n",
    "pylab.savefig('Barplot_{}_par_port.jpg'.format(annee), bbox_inches='tight', dpi=300)\n",
    "\n"
   ]
  },
  {
   "cell_type": "code",
   "execution_count": 142,
   "metadata": {},
   "outputs": [
    {
     "name": "stdout",
     "output_type": "stream",
     "text": [
      "      year   uhgs_id  count\n",
      "0   1781.0  A0379402      3\n",
      "1   1781.0  A0379993      1\n",
      "2   1781.0  A0380965      1\n",
      "3   1781.0  A0382374      4\n",
      "4   1781.0  A0382747      4\n",
      "..     ...       ...    ...\n",
      "57  1790.0  A0404691      1\n",
      "58  1790.0  A0406923      1\n",
      "59  1790.0  A0407326      2\n",
      "60  1790.0  A0410522      1\n",
      "61  1790.0  A1945598      1\n",
      "\n",
      "[62 rows x 3 columns]\n",
      "           month   uhgs_id  count\n",
      "0        03 Mars  A0379402      1\n",
      "1        03 Mars  A0381691      1\n",
      "2        03 Mars  A0381991      1\n",
      "3        03 Mars  A0382374      1\n",
      "4        03 Mars  A0382747      1\n",
      "..           ...       ...    ...\n",
      "192  11 Novembre  A0392080      1\n",
      "193  11 Novembre  A0397468      1\n",
      "194  11 Novembre  A0401159      1\n",
      "195  11 Novembre  A0401683      2\n",
      "196  11 Novembre  A0404691      1\n",
      "\n",
      "[197 rows x 3 columns]\n"
     ]
    }
   ],
   "source": [
    "import pandas.core.frame as pf\n",
    "annee=1781\n",
    "#data_to_plot = tomap.query('year==1781') #ou 1790\n",
    "\n",
    "\n",
    "gdata = pf.DataFrame({'count' : tomap.groupby( [ \"year\", \"uhgs_id\"] ).size()}).reset_index()\n",
    "print(gdata)\n",
    "\n",
    "gdata_monthtly = pf.DataFrame({'count' : tomap.groupby( [ \"month\", \"uhgs_id\"] ).size()}).reset_index()\n",
    "print(gdata_monthtly)\n"
   ]
  },
  {
   "cell_type": "code",
   "execution_count": 143,
   "metadata": {},
   "outputs": [],
   "source": [
    "mapayear = pd.merge(\n",
    "    gdata,\n",
    "    ports_anglais,\n",
    "    how=\"inner\",\n",
    "    left_on='uhgs_id',\n",
    "    right_on='uhgs_id',\n",
    "    sort=True,\n",
    ")\n",
    "\n",
    "#df = pd.read_json (r'Path where the JSON file is saved\\File Name.json')\n",
    "mapayear.to_csv (r'./data/smogglage_anglais.csv', index = None)"
   ]
  },
  {
   "cell_type": "code",
   "execution_count": 144,
   "metadata": {},
   "outputs": [],
   "source": [
    "mapamonth = pd.merge(\n",
    "    gdata_monthtly,\n",
    "    ports_anglais,\n",
    "    how=\"inner\",\n",
    "    left_on='uhgs_id',\n",
    "    right_on='uhgs_id',\n",
    "    sort=True,\n",
    ")\n",
    "\n",
    "#df = pd.read_json (r'Path where the JSON file is saved\\File Name.json')\n",
    "mapamonth.to_csv (r'./data/smogglage_anglais_mensuel.csv', index = None)"
   ]
  },
  {
   "cell_type": "markdown",
   "metadata": {},
   "source": [
    "# Préparation des données à cartographier pour le module #8\n",
    "variations annuelle de fréquentation des ports smoggleurs anglais\n",
    "\n",
    "Voir le fichier de Christian en ligne : https://docs.google.com/spreadsheets/d/189kLlEZ2EYuew7FZ6XArujuPMk5AswR1/edit#gid=1722619755\n",
    "\n"
   ]
  },
  {
   "cell_type": "code",
   "execution_count": 145,
   "metadata": {},
   "outputs": [
    {
     "name": "stdout",
     "output_type": "stream",
     "text": [
      "(102, 11)\n"
     ]
    }
   ],
   "source": [
    "from dunkerquesprint import get_online_csv\n",
    "#dix_ans_smog = get_online_csv('https://docs.google.com/spreadsheets/d/e/2PACX-1vRq2TJOb7Ima9hBKiO1Kde_yFYoS6grucmtb6KRh6QpF4nwzjJF34WvpsGjS4wtrQ/pub?gid=1735395597&single=true&output=csv')\n",
    "#Attention, truc chiant : il faut repartager l'onglet sur le Web pour ce fichier et copier le bonne URL\n",
    "dix_ans_smog = get_online_csv('https://docs.google.com/spreadsheets/d/e/2PACX-1vRq2TJOb7Ima9hBKiO1Kde_yFYoS6grucmtb6KRh6QpF4nwzjJF34WvpsGjS4wtrQ/pub?gid=1735395597&single=true&output=csv')\n",
    "type(dix_ans_smog) #list\n",
    "\n",
    "df_dix_ans_smog = pd.DataFrame(dix_ans_smog, columns=['destination', '1781', '1782', '1785', '1786', '1787', '1788', '1789', '1790', '1791', 'Facade'])\n",
    "print(df_dix_ans_smog.shape) #(102, 11)\n",
    "\n",
    "#Fixer les pb d'orthographe des noms des ports\n",
    "df_dix_ans_smog['destination_fixed'] = df_dix_ans_smog['destination']  \n",
    "df_dix_ans_smog.query('destination == \"Brightlandsea\"')['destination_fixed'] = 'Brightlingsea'\n",
    "\n",
    "df_dix_ans_smog = df_dix_ans_smog.replace({'destination_fixed': 'Brightlandsea'}, 'Brightlingsea')\n",
    "df_dix_ans_smog = df_dix_ans_smog.replace({'destination_fixed': 'Budleigh Salterton'}, 'Saltfleet')\n",
    "df_dix_ans_smog = df_dix_ans_smog.replace({'destination_fixed': 'Colmay-Falmouth'}, 'Falmouth')\n",
    "df_dix_ans_smog = df_dix_ans_smog.replace({'destination_fixed': 'Eawsand & Chatham'}, 'Chatham')  \n",
    "\n",
    "df_dix_ans_smog = df_dix_ans_smog.replace({'destination_fixed': 'Essex'}, 'Colchester') \n",
    "df_dix_ans_smog = df_dix_ans_smog.replace({'destination_fixed': 'Gravesand'}, 'Gravesend')\n",
    "df_dix_ans_smog = df_dix_ans_smog.replace({'destination_fixed': 'Greenwith'}, 'Greenwich')\n",
    "df_dix_ans_smog = df_dix_ans_smog.replace({'destination_fixed': 'Guerneze'}, 'Guernesey')\n",
    "df_dix_ans_smog = df_dix_ans_smog.replace({'destination_fixed': 'Leigh'}, 'Leith')\n",
    "df_dix_ans_smog = df_dix_ans_smog.replace({'destination_fixed': 'Lynn'}, \"King's Lynn\")\n",
    "df_dix_ans_smog = df_dix_ans_smog.replace({'destination_fixed': 'Reculver'}, 'Reculvers')\n",
    "df_dix_ans_smog = df_dix_ans_smog.replace({'destination_fixed': 'Darmouth'}, 'Dartmouth')\n",
    "df_dix_ans_smog = df_dix_ans_smog.replace({'destination_fixed': 'Folkstone'}, 'Folkestone')\n",
    "df_dix_ans_smog = df_dix_ans_smog.replace({'destination_fixed': 'Greenhock'}, 'Greenock')\n",
    "df_dix_ans_smog = df_dix_ans_smog.replace({'destination_fixed': 'Ile de Whigt'}, 'île de Wight')\n",
    "df_dix_ans_smog = df_dix_ans_smog.replace({'destination_fixed': 'Lee'}, 'Lee on Solent')\n",
    "df_dix_ans_smog = df_dix_ans_smog.replace({'destination_fixed': 'Ramsay (I de Man)'}, 'île de Man')\n",
    "df_dix_ans_smog = df_dix_ans_smog.replace({'destination_fixed': 'Saint-Helen\\'s'}, 'Saint Helens')\n",
    "df_dix_ans_smog = df_dix_ans_smog.replace({'destination_fixed': 'Wateford'}, 'Waterford')\n",
    "df_dix_ans_smog = df_dix_ans_smog.replace({'destination_fixed': 'West-Mersey'}, 'Mersey')\n",
    "df_dix_ans_smog = df_dix_ans_smog.replace({'destination_fixed': 'Aberseen'}, 'Aberdeen')\n",
    "df_dix_ans_smog = df_dix_ans_smog.replace({'destination_fixed': 'Pastow'}, 'Padstow')\n",
    "\n",
    "\n",
    "#Milton/Middleton ?\n"
   ]
  },
  {
   "cell_type": "code",
   "execution_count": 146,
   "metadata": {},
   "outputs": [],
   "source": [
    "#Faire la jointure avec les données de port \n",
    "\n",
    "dix_ans_smog_map = pd.merge(\n",
    "    df_dix_ans_smog,\n",
    "    ports_anglais,\n",
    "    how=\"outer\",\n",
    "    left_on='destination_fixed',\n",
    "    right_on='toponyme_standard_fr',\n",
    "    sort=True,\n",
    "    #indicator=True,\n",
    "    indicator=\"indicator_column\"\n",
    ")\n"
   ]
  },
  {
   "cell_type": "code",
   "execution_count": 147,
   "metadata": {},
   "outputs": [
    {
     "data": {
      "text/plain": [
       "array(['Non Localisés'], dtype=object)"
      ]
     },
     "execution_count": 147,
     "metadata": {},
     "output_type": "execute_result"
    }
   ],
   "source": [
    "pd.unique(dix_ans_smog_map.query('indicator_column == \"left_only\"')['destination'])\n",
    "\n",
    "#'Non Localisés'"
   ]
  },
  {
   "cell_type": "code",
   "execution_count": 60,
   "metadata": {},
   "outputs": [
    {
     "data": {
      "text/html": [
       "<div>\n",
       "<style scoped>\n",
       "    .dataframe tbody tr th:only-of-type {\n",
       "        vertical-align: middle;\n",
       "    }\n",
       "\n",
       "    .dataframe tbody tr th {\n",
       "        vertical-align: top;\n",
       "    }\n",
       "\n",
       "    .dataframe thead th {\n",
       "        text-align: right;\n",
       "    }\n",
       "</style>\n",
       "<table border=\"1\" class=\"dataframe\">\n",
       "  <thead>\n",
       "    <tr style=\"text-align: right;\">\n",
       "      <th></th>\n",
       "      <th></th>\n",
       "      <th>uhgs_id</th>\n",
       "      <th>toponyme_standard_en</th>\n",
       "      <th>toponyme_standard_fr</th>\n",
       "      <th>shiparea</th>\n",
       "      <th>province</th>\n",
       "    </tr>\n",
       "  </thead>\n",
       "  <tbody>\n",
       "    <tr>\n",
       "      <th rowspan=\"2\" valign=\"top\">ports</th>\n",
       "      <th>île de Man</th>\n",
       "      <td>A0089345</td>\n",
       "      <td>Isle of Man</td>\n",
       "      <td>île de Man</td>\n",
       "      <td>ANE-IRSE</td>\n",
       "      <td>Isle of Man</td>\n",
       "    </tr>\n",
       "    <tr>\n",
       "      <th>île de Wight</th>\n",
       "      <td>A0396151</td>\n",
       "      <td>Isle of Wight</td>\n",
       "      <td>île de Wight</td>\n",
       "      <td>MAN-WIGH</td>\n",
       "      <td>Hampshire</td>\n",
       "    </tr>\n",
       "    <tr>\n",
       "      <th>supp</th>\n",
       "      <th>Ile de Whigt</th>\n",
       "      <td>A0396151</td>\n",
       "      <td>Isle of Wight</td>\n",
       "      <td>Île de Wight</td>\n",
       "      <td>NaN</td>\n",
       "      <td>NaN</td>\n",
       "    </tr>\n",
       "  </tbody>\n",
       "</table>\n",
       "</div>"
      ],
      "text/plain": [
       "                     uhgs_id toponyme_standard_en toponyme_standard_fr  \\\n",
       "ports île de Man    A0089345          Isle of Man           île de Man   \n",
       "      île de Wight  A0396151        Isle of Wight         île de Wight   \n",
       "supp  Ile de Whigt  A0396151        Isle of Wight         Île de Wight   \n",
       "\n",
       "                    shiparea     province  \n",
       "ports île de Man    ANE-IRSE  Isle of Man  \n",
       "      île de Wight  MAN-WIGH    Hampshire  \n",
       "supp  Ile de Whigt       NaN          NaN  "
      ]
     },
     "execution_count": 60,
     "metadata": {},
     "output_type": "execute_result"
    }
   ],
   "source": [
    "ports_anglais.query('toponyme_standard_fr.str.contains(\"Man\") or toponyme_standard_en.str.contains(\"Isle of Wight\")')[['uhgs_id', 'toponyme_standard_en','toponyme_standard_fr','shiparea', 'province']] #Reculver / Reculvers\t\n",
    "\n",
    "#Darmouth/Dartmouth\n",
    "#Folkstone/Folkestone\n",
    "#Greenhock/Greenock\n",
    "#Ile de Whigt/Isle of Wight\n",
    "#Lee/Lee on Solent\n",
    "#Milton/Middleton ?\n",
    "#Ramsay (I de Man)/Isle of Man\n",
    "#Saint-Helen's/ Saint Helens\t\n",
    "#Wateford/Waterford\n",
    "#West-Mersey/Mersey\n"
   ]
  },
  {
   "cell_type": "code",
   "execution_count": 148,
   "metadata": {},
   "outputs": [
    {
     "name": "stdout",
     "output_type": "stream",
     "text": [
      "(104, 41)\n"
     ]
    }
   ],
   "source": [
    "dix_ans_smog_map.query('indicator_column == \"both\"')['destination'] #104 (sur 102 au départ)\n",
    "print(dix_ans_smog_map.query('indicator_column == \"both\"').shape) #104, 41\n",
    "dix_ans_smog_map.query('indicator_column == \"both\"').head()\n",
    "\n",
    "#Sauver le fichier pour carto \n",
    "dix_ans_smog_map.query('indicator_column == \"both\"').to_csv (r'./data/smogglage_anglais_dix_ans.csv', index = None)"
   ]
  },
  {
   "cell_type": "markdown",
   "metadata": {},
   "source": [
    "# Carto sur les dix ans, vite fait"
   ]
  },
  {
   "cell_type": "code",
   "execution_count": 156,
   "metadata": {},
   "outputs": [
    {
     "name": "stdout",
     "output_type": "stream",
     "text": [
      "Index(['destination', '1781', '1782', '1785', '1786', '1787', '1788', '1789',\n",
      "       '1790', '1791', 'Facade', 'destination_fixed', 'Unnamed: 0', 'ogc_fid',\n",
      "       'uhgs_id', 'x', 'y', 'total', 'toponym', 'toponyme_standard_fr',\n",
      "       'toponyme_standard_en', 'substate_1789_fr', 'state_1789_fr',\n",
      "       'substate_1789_en', 'state_1789_en', 'belonging_states',\n",
      "       'belonging_substates', 'status', 'has_a_clerk', 'geonameid',\n",
      "       'admiralty', 'province', 'shiparea', 'ferme_direction', 'ferme_bureau',\n",
      "       'partner_balance_1789', 'partner_balance_supp_1789', 'point',\n",
      "       'toponyme_Christian', 'facade', 'indicator_column'],\n",
      "      dtype='object')\n"
     ]
    }
   ],
   "source": [
    "port_tomap = dix_ans_smog_map.query('indicator_column == \"both\"')\n",
    "print(port_tomap.columns)\n",
    "\n",
    "#https://colab.research.google.com/github/uwdata/visualization-curriculum/blob/master/altair_cartographic.ipynb#scrollTo=wwJ-kKtPKuJ9\n",
    "import altair as alt\n",
    "from vega_datasets import data\n",
    "\n",
    "pays_url = './word1789_topojson.json'\n",
    "pays = alt.topo_feature(pays_url, 'word1789_geojson')\n"
   ]
  },
  {
   "cell_type": "code",
   "execution_count": null,
   "metadata": {},
   "outputs": [],
   "source": [
    "#https://vega.github.io/vega/docs/projections/\n",
    "#https://github.com/vega/vega-lite/issues/3488#issuecomment-386199585\n",
    "#\"scale\": {\"domain\": [1, 25], \"range\":[0, 179], \"clamp\": true, \"zero\": false\n",
    "# World 1789, center on England\n",
    "year='1791'\n",
    "map = alt.layer(\n",
    "    # use the sphere of the Earth as the base layer\n",
    "    alt.Chart({'sphere': True}).mark_geoshape(\n",
    "        fill='#e6f3ff'\n",
    "    ),\n",
    "    # add a graticule for geographic reference lines\n",
    "    alt.Chart({'graticule': True}).mark_geoshape(\n",
    "        stroke='#ffffff', strokeWidth=1\n",
    "    ),\n",
    "    # and then the countries of the world\n",
    "    alt.Chart(pays).mark_geoshape(\n",
    "        fill='lightgray', stroke='white', strokeWidth=0.5\n",
    "    ),\n",
    "    #the ports\n",
    "    alt.Chart(port_tomap).mark_circle().encode(\n",
    "        longitude='x:Q',\n",
    "        latitude='y:Q',\n",
    "        size=alt.Size('{}:Q'.format(year), title='British smogglers in {}'.format(year), scale=alt.Scale(domain=[-1, 180], range=[10, 400], clamp=True, zero= False)), \n",
    "        color=alt.value('steelblue'),\n",
    "        tooltip=['toponyme_standard_fr:N','{}:Q'.format(year)]\n",
    "    )\n",
    ").properties(\n",
    "    width=400,\n",
    "    height=600,\n",
    "    title='British smogglers gone from Dunkirk, around 1789'\n",
    ").project('conicEquidistant', scale=3000).configure_projection(center = [-4, 54]).configure_view(stroke=None)\n",
    "\n",
    "map.save('test.png')\n"
   ]
  },
  {
   "cell_type": "code",
   "execution_count": 206,
   "metadata": {},
   "outputs": [
    {
     "data": {
      "application/vnd.jupyter.widget-view+json": {
       "model_id": "12c12a911759409a85adb4b8a0984449",
       "version_major": 2,
       "version_minor": 0
      },
      "text/plain": [
       "BokehModel(combine_events=True, render_bundle={'docs_json': {'e122218c-acb0-44cb-9c72-c6915156b03d': {'defs': …"
      ]
     },
     "metadata": {},
     "output_type": "display_data"
    },
    {
     "data": {
      "text/html": [
       "<div style=\"display: none\"></div>"
      ],
      "text/plain": [
       "Row\n",
       "    [0] Column\n",
       "        [0] Markdown(str)\n",
       "        [1] PNG(str, align='center', height=150)\n",
       "        [2] DiscreteSlider(name='Discrete Slider', options=['1781', '1782', ...], value='1787')\n",
       "    [1] Vega(LayerChart, margin=(10, 100, 10, 5), sizing_mode='stretch_width')"
      ]
     },
     "execution_count": 206,
     "metadata": {},
     "output_type": "execute_result"
    }
   ],
   "source": [
    "# https://panel.holoviz.org/gallery/simple/altair_choropleth.html#simple-gallery-altair-choropleth\n",
    "portic_logo = 'logo_portic_petit.png'\n",
    "variable_list = ['1781', '1782', '1785', '1786', '1787', '1788', '1789', '1790', '1791']\n",
    "\n",
    "#Tentative pour rajouter le zoom et le pan - pas aboutie\n",
    "#https://vega.github.io/vega/examples/zoomable-world-map/\n",
    "#https://github.com/vega/vega-lite/issues/3306\n",
    "selection = alt.selection_interval(bind='scales')\n",
    "\n",
    "def get_map(variable):\n",
    "    map = alt.layer(\n",
    "        # use the sphere of the Earth as the base layer\n",
    "        alt.Chart({'sphere': True}).mark_geoshape(\n",
    "            fill='#e6f3ff'\n",
    "        ),\n",
    "        # add a graticule for geographic reference lines\n",
    "        alt.Chart({'graticule': True}).mark_geoshape(\n",
    "            stroke='#ffffff', strokeWidth=1\n",
    "        ),\n",
    "        # and then the countries of the world\n",
    "        alt.Chart(pays).mark_geoshape(\n",
    "            fill='lightgray', stroke='white', strokeWidth=0.5\n",
    "        ),\n",
    "        #the ports\n",
    "        alt.Chart(port_tomap).mark_circle().encode(\n",
    "            longitude='x:Q',\n",
    "            latitude='y:Q',\n",
    "            size=alt.Size('{}:Q'.format(variable), title='Number of smogglers in {}'.format(variable), scale=alt.Scale(domain=[-1, 180], range=[10, 400], clamp=True, zero= False)), \n",
    "            color=alt.value('steelblue'),\n",
    "            tooltip=['toponyme_standard_fr:N','{}:Q'.format(variable)]\n",
    "        )\n",
    "    ).properties(\n",
    "        width=400,\n",
    "        height=600,\n",
    "        title='Smogglage from Dunkirk to Great-Britain around 1789 years'\n",
    "    ).project('conicEquidistant', scale=3000).configure_projection(center = [-4, 53]).configure_view(stroke=None)\n",
    "    map.add_selection(selection)\n",
    "    \n",
    "    return map\n",
    "\n",
    "\n",
    "\n",
    "#variable = pn.widgets.Select(options=variable_list, name='Variable', width=250)\n",
    "variable = pn.widgets.DiscreteSlider(name='Discrete Slider', options=variable_list, value='1787')\n",
    "\n",
    "logo = pn.panel(portic_logo, height=150, align=\"center\")\n",
    "vega_panel = pn.pane.Vega(sizing_mode=\"stretch_width\", margin=(10,100,10,5))\n",
    "    \n",
    "@pn.depends(variable.param.value, watch=True)\n",
    "def update_vega_pane(variable):\n",
    "    vega_panel.object = get_map(variable)\n",
    "\n",
    "update_vega_pane(variable.value)\n",
    "    \n",
    "row = pn.Row(\n",
    "    pn.Column('# Evolution of smogglage during [1781-1791] years', logo, variable),\n",
    "    vega_panel\n",
    ")\n",
    "\n",
    "row\n",
    "#https://panel.holoviz.org/user_guide/Deploy_and_Export.html\n",
    "#row.embed(states={variable: variable_list})\n",
    "#map.save('chart.html', embed_options={'renderer':'svg'})\n",
    "#row.save('test.png')\n",
    "\n",
    "#from bokeh.resources import INLINE\n",
    "#row.save('test.html', resources=INLINE)"
   ]
  }
 ],
 "metadata": {
  "interpreter": {
   "hash": "ec890f973dd9e3cac31a738b8560dfcf5ac073d4c5ea92d19b6fe0e1e1d90d79"
  },
  "kernelspec": {
   "display_name": "Python 3 (ipykernel)",
   "language": "python",
   "name": "python3"
  },
  "language_info": {
   "codemirror_mode": {
    "name": "ipython",
    "version": 3
   },
   "file_extension": ".py",
   "mimetype": "text/x-python",
   "name": "python",
   "nbconvert_exporter": "python",
   "pygments_lexer": "ipython3",
   "version": "3.8.3"
  }
 },
 "nbformat": 4,
 "nbformat_minor": 2
}
