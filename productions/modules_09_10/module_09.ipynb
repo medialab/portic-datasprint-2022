{
 "cells": [
  {
   "cell_type": "code",
   "execution_count": 7,
   "metadata": {},
   "outputs": [],
   "source": [
    "import csv\n",
    "from collections import defaultdict\n",
    "from typing import TypedDict\n",
    "import json\n",
    "\n",
    "class MonthDataPoint(TypedDict):\n",
    "    month: str \n",
    "    destination: str\n",
    "    nb_conge: int\n",
    "    year: int\n",
    "\n",
    "\n",
    "destination_month_destination = []\n",
    "\n",
    "total_by_month = defaultdict(int)\n",
    "\n",
    "MONTHS = [\"01 Janvier\",\"02 Février\",\" 03 Mars\",\"04 Avril\",\"05 Mai\",\"06 Juin\",\"07 Juillet\",\"08 Août\",\"09 Septembre\",\"10 Octobre\",\"11 Novembre\",\"12 Décembre\"]\n",
    "year_file = [(1790, \"./data/PFISTER_PORTS_NAVIRES_TAB_91_p_342_1790.csv\"), (1781, \"./data/PFISTER_PORTS_NAVIRES_TAB_90_p_341_1781.csv\")]\n",
    "for (year, file) in year_file:\n",
    "    with open(file, \"r\") as data:\n",
    "        for row in csv.DictReader(data):\n",
    "            for month in MONTHS:\n",
    "                if month in row and row[month] != '':\n",
    "                    data_point:MonthDataPoint = MonthDataPoint(\n",
    "                        month= month,\n",
    "                        destination= row['destination'],\n",
    "                        nb_conge= int(row[month]),\n",
    "                        year= year\n",
    "                    )\n",
    "                    destination_month_destination.append(data_point)\n",
    "                    total_by_month[month] += int(row[month])\n",
    "\n",
    "#print(json.dumps(destination_month_destination))"
   ]
  },
  {
   "cell_type": "code",
   "execution_count": 8,
   "metadata": {},
   "outputs": [
    {
     "data": {
      "application/vnd.vegalite.v4+json": {
       "config": {
        "view": {
         "stroke": "transparent"
        }
       },
       "data": {
        "values": [
         {
          "destination": "Deal",
          "month": "01 Janvier",
          "nb_conge": 19,
          "year": 1790
         },
         {
          "destination": "Deal",
          "month": "02 Février",
          "nb_conge": 21,
          "year": 1790
         },
         {
          "destination": "Deal",
          "month": " 03 Mars",
          "nb_conge": 14,
          "year": 1790
         },
         {
          "destination": "Deal",
          "month": "04 Avril",
          "nb_conge": 15,
          "year": 1790
         },
         {
          "destination": "Deal",
          "month": "05 Mai",
          "nb_conge": 7,
          "year": 1790
         },
         {
          "destination": "Deal",
          "month": "06 Juin",
          "nb_conge": 11,
          "year": 1790
         },
         {
          "destination": "Deal",
          "month": "07 Juillet",
          "nb_conge": 18,
          "year": 1790
         },
         {
          "destination": "Deal",
          "month": "08 Août",
          "nb_conge": 13,
          "year": 1790
         },
         {
          "destination": "Deal",
          "month": "09 Septembre",
          "nb_conge": 17,
          "year": 1790
         },
         {
          "destination": "Deal",
          "month": "10 Octobre",
          "nb_conge": 13,
          "year": 1790
         },
         {
          "destination": "Deal",
          "month": "11 Novembre",
          "nb_conge": 14,
          "year": 1790
         },
         {
          "destination": "Deal",
          "month": "12 Décembre",
          "nb_conge": 22,
          "year": 1790
         },
         {
          "destination": "Douvres",
          "month": "01 Janvier",
          "nb_conge": 11,
          "year": 1790
         },
         {
          "destination": "Douvres",
          "month": "02 Février",
          "nb_conge": 11,
          "year": 1790
         },
         {
          "destination": "Douvres",
          "month": " 03 Mars",
          "nb_conge": 4,
          "year": 1790
         },
         {
          "destination": "Douvres",
          "month": "04 Avril",
          "nb_conge": 6,
          "year": 1790
         },
         {
          "destination": "Douvres",
          "month": "05 Mai",
          "nb_conge": 6,
          "year": 1790
         },
         {
          "destination": "Douvres",
          "month": "06 Juin",
          "nb_conge": 5,
          "year": 1790
         },
         {
          "destination": "Douvres",
          "month": "07 Juillet",
          "nb_conge": 4,
          "year": 1790
         },
         {
          "destination": "Douvres",
          "month": "08 Août",
          "nb_conge": 5,
          "year": 1790
         },
         {
          "destination": "Douvres",
          "month": "09 Septembre",
          "nb_conge": 7,
          "year": 1790
         },
         {
          "destination": "Douvres",
          "month": "10 Octobre",
          "nb_conge": 9,
          "year": 1790
         },
         {
          "destination": "Douvres",
          "month": "11 Novembre",
          "nb_conge": 7,
          "year": 1790
         },
         {
          "destination": "Douvres",
          "month": "12 Décembre",
          "nb_conge": 9,
          "year": 1790
         },
         {
          "destination": "Colchester",
          "month": "01 Janvier",
          "nb_conge": 9,
          "year": 1790
         },
         {
          "destination": "Colchester",
          "month": "02 Février",
          "nb_conge": 4,
          "year": 1790
         },
         {
          "destination": "Colchester",
          "month": " 03 Mars",
          "nb_conge": 8,
          "year": 1790
         },
         {
          "destination": "Colchester",
          "month": "04 Avril",
          "nb_conge": 7,
          "year": 1790
         },
         {
          "destination": "Colchester",
          "month": "05 Mai",
          "nb_conge": 4,
          "year": 1790
         },
         {
          "destination": "Colchester",
          "month": "06 Juin",
          "nb_conge": 8,
          "year": 1790
         },
         {
          "destination": "Colchester",
          "month": "07 Juillet",
          "nb_conge": 7,
          "year": 1790
         },
         {
          "destination": "Colchester",
          "month": "08 Août",
          "nb_conge": 5,
          "year": 1790
         },
         {
          "destination": "Colchester",
          "month": "09 Septembre",
          "nb_conge": 7,
          "year": 1790
         },
         {
          "destination": "Colchester",
          "month": "10 Octobre",
          "nb_conge": 8,
          "year": 1790
         },
         {
          "destination": "Colchester",
          "month": "11 Novembre",
          "nb_conge": 7,
          "year": 1790
         },
         {
          "destination": "Colchester",
          "month": "12 Décembre",
          "nb_conge": 7,
          "year": 1790
         },
         {
          "destination": "Folkestone",
          "month": "01 Janvier",
          "nb_conge": 9,
          "year": 1790
         },
         {
          "destination": "Folkestone",
          "month": "02 Février",
          "nb_conge": 8,
          "year": 1790
         },
         {
          "destination": "Folkestone",
          "month": " 03 Mars",
          "nb_conge": 8,
          "year": 1790
         },
         {
          "destination": "Folkestone",
          "month": "04 Avril",
          "nb_conge": 7,
          "year": 1790
         },
         {
          "destination": "Folkestone",
          "month": "05 Mai",
          "nb_conge": 8,
          "year": 1790
         },
         {
          "destination": "Folkestone",
          "month": "06 Juin",
          "nb_conge": 4,
          "year": 1790
         },
         {
          "destination": "Folkestone",
          "month": "07 Juillet",
          "nb_conge": 6,
          "year": 1790
         },
         {
          "destination": "Folkestone",
          "month": "08 Août",
          "nb_conge": 7,
          "year": 1790
         },
         {
          "destination": "Folkestone",
          "month": "09 Septembre",
          "nb_conge": 3,
          "year": 1790
         },
         {
          "destination": "Folkestone",
          "month": "10 Octobre",
          "nb_conge": 6,
          "year": 1790
         },
         {
          "destination": "Folkestone",
          "month": "11 Novembre",
          "nb_conge": 8,
          "year": 1790
         },
         {
          "destination": "Folkestone",
          "month": "12 Décembre",
          "nb_conge": 3,
          "year": 1790
         },
         {
          "destination": "Maldon",
          "month": "01 Janvier",
          "nb_conge": 7,
          "year": 1790
         },
         {
          "destination": "Maldon",
          "month": "02 Février",
          "nb_conge": 6,
          "year": 1790
         },
         {
          "destination": "Maldon",
          "month": " 03 Mars",
          "nb_conge": 8,
          "year": 1790
         },
         {
          "destination": "Maldon",
          "month": "04 Avril",
          "nb_conge": 7,
          "year": 1790
         },
         {
          "destination": "Maldon",
          "month": "05 Mai",
          "nb_conge": 4,
          "year": 1790
         },
         {
          "destination": "Maldon",
          "month": "06 Juin",
          "nb_conge": 3,
          "year": 1790
         },
         {
          "destination": "Maldon",
          "month": "07 Juillet",
          "nb_conge": 3,
          "year": 1790
         },
         {
          "destination": "Maldon",
          "month": "08 Août",
          "nb_conge": 5,
          "year": 1790
         },
         {
          "destination": "Maldon",
          "month": "09 Septembre",
          "nb_conge": 4,
          "year": 1790
         },
         {
          "destination": "Maldon",
          "month": "10 Octobre",
          "nb_conge": 4,
          "year": 1790
         },
         {
          "destination": "Maldon",
          "month": "11 Novembre",
          "nb_conge": 3,
          "year": 1790
         },
         {
          "destination": "Maldon",
          "month": "12 Décembre",
          "nb_conge": 6,
          "year": 1790
         },
         {
          "destination": "Whistable",
          "month": "01 Janvier",
          "nb_conge": 8,
          "year": 1790
         },
         {
          "destination": "Whistable",
          "month": "02 Février",
          "nb_conge": 5,
          "year": 1790
         },
         {
          "destination": "Whistable",
          "month": " 03 Mars",
          "nb_conge": 5,
          "year": 1790
         },
         {
          "destination": "Whistable",
          "month": "04 Avril",
          "nb_conge": 1,
          "year": 1790
         },
         {
          "destination": "Whistable",
          "month": "05 Mai",
          "nb_conge": 2,
          "year": 1790
         },
         {
          "destination": "Whistable",
          "month": "06 Juin",
          "nb_conge": 5,
          "year": 1790
         },
         {
          "destination": "Whistable",
          "month": "07 Juillet",
          "nb_conge": 6,
          "year": 1790
         },
         {
          "destination": "Whistable",
          "month": "08 Août",
          "nb_conge": 5,
          "year": 1790
         },
         {
          "destination": "Whistable",
          "month": "09 Septembre",
          "nb_conge": 3,
          "year": 1790
         },
         {
          "destination": "Whistable",
          "month": "10 Octobre",
          "nb_conge": 4,
          "year": 1790
         },
         {
          "destination": "Whistable",
          "month": "11 Novembre",
          "nb_conge": 2,
          "year": 1790
         },
         {
          "destination": "Whistable",
          "month": "12 Décembre",
          "nb_conge": 9,
          "year": 1790
         },
         {
          "destination": "Hasting",
          "month": "01 Janvier",
          "nb_conge": 6,
          "year": 1790
         },
         {
          "destination": "Hasting",
          "month": "02 Février",
          "nb_conge": 1,
          "year": 1790
         },
         {
          "destination": "Hasting",
          "month": " 03 Mars",
          "nb_conge": 4,
          "year": 1790
         },
         {
          "destination": "Hasting",
          "month": "04 Avril",
          "nb_conge": 6,
          "year": 1790
         },
         {
          "destination": "Hasting",
          "month": "05 Mai",
          "nb_conge": 3,
          "year": 1790
         },
         {
          "destination": "Hasting",
          "month": "06 Juin",
          "nb_conge": 3,
          "year": 1790
         },
         {
          "destination": "Hasting",
          "month": "07 Juillet",
          "nb_conge": 3,
          "year": 1790
         },
         {
          "destination": "Hasting",
          "month": "08 Août",
          "nb_conge": 2,
          "year": 1790
         },
         {
          "destination": "Hasting",
          "month": "09 Septembre",
          "nb_conge": 3,
          "year": 1790
         },
         {
          "destination": "Hasting",
          "month": "10 Octobre",
          "nb_conge": 3,
          "year": 1790
         },
         {
          "destination": "Hasting",
          "month": "11 Novembre",
          "nb_conge": 8,
          "year": 1790
         },
         {
          "destination": "Hasting",
          "month": "12 Décembre",
          "nb_conge": 4,
          "year": 1790
         },
         {
          "destination": "Feversham",
          "month": "01 Janvier",
          "nb_conge": 2,
          "year": 1790
         },
         {
          "destination": "Feversham",
          "month": "02 Février",
          "nb_conge": 6,
          "year": 1790
         },
         {
          "destination": "Feversham",
          "month": " 03 Mars",
          "nb_conge": 1,
          "year": 1790
         },
         {
          "destination": "Feversham",
          "month": "04 Avril",
          "nb_conge": 2,
          "year": 1790
         },
         {
          "destination": "Feversham",
          "month": "05 Mai",
          "nb_conge": 2,
          "year": 1790
         },
         {
          "destination": "Feversham",
          "month": "06 Juin",
          "nb_conge": 2,
          "year": 1790
         },
         {
          "destination": "Feversham",
          "month": "07 Juillet",
          "nb_conge": 5,
          "year": 1790
         },
         {
          "destination": "Feversham",
          "month": "08 Août",
          "nb_conge": 7,
          "year": 1790
         },
         {
          "destination": "Feversham",
          "month": "09 Septembre",
          "nb_conge": 2,
          "year": 1790
         },
         {
          "destination": "Feversham",
          "month": "10 Octobre",
          "nb_conge": 5,
          "year": 1790
         },
         {
          "destination": "Feversham",
          "month": "11 Novembre",
          "nb_conge": 5,
          "year": 1790
         },
         {
          "destination": "Feversham",
          "month": "12 Décembre",
          "nb_conge": 7,
          "year": 1790
         },
         {
          "destination": "Harwich",
          "month": "01 Janvier",
          "nb_conge": 1,
          "year": 1790
         },
         {
          "destination": "Harwich",
          "month": "02 Février",
          "nb_conge": 2,
          "year": 1790
         },
         {
          "destination": "Harwich",
          "month": "04 Avril",
          "nb_conge": 1,
          "year": 1790
         },
         {
          "destination": "Harwich",
          "month": "05 Mai",
          "nb_conge": 3,
          "year": 1790
         },
         {
          "destination": "Harwich",
          "month": "06 Juin",
          "nb_conge": 10,
          "year": 1790
         },
         {
          "destination": "Harwich",
          "month": "07 Juillet",
          "nb_conge": 12,
          "year": 1790
         },
         {
          "destination": "Harwich",
          "month": "08 Août",
          "nb_conge": 4,
          "year": 1790
         },
         {
          "destination": "Harwich",
          "month": "09 Septembre",
          "nb_conge": 1,
          "year": 1790
         },
         {
          "destination": "Harwich",
          "month": "10 Octobre",
          "nb_conge": 1,
          "year": 1790
         },
         {
          "destination": "Burnsham",
          "month": "01 Janvier",
          "nb_conge": 4,
          "year": 1790
         },
         {
          "destination": "Burnsham",
          "month": "02 Février",
          "nb_conge": 2,
          "year": 1790
         },
         {
          "destination": "Burnsham",
          "month": "04 Avril",
          "nb_conge": 4,
          "year": 1790
         },
         {
          "destination": "Burnsham",
          "month": "05 Mai",
          "nb_conge": 3,
          "year": 1790
         },
         {
          "destination": "Burnsham",
          "month": "06 Juin",
          "nb_conge": 2,
          "year": 1790
         },
         {
          "destination": "Burnsham",
          "month": "07 Juillet",
          "nb_conge": 3,
          "year": 1790
         },
         {
          "destination": "Burnsham",
          "month": "08 Août",
          "nb_conge": 3,
          "year": 1790
         },
         {
          "destination": "Burnsham",
          "month": "09 Septembre",
          "nb_conge": 5,
          "year": 1790
         },
         {
          "destination": "Burnsham",
          "month": "10 Octobre",
          "nb_conge": 3,
          "year": 1790
         },
         {
          "destination": "Burnsham",
          "month": "11 Novembre",
          "nb_conge": 1,
          "year": 1790
         },
         {
          "destination": "Burnsham",
          "month": "12 Décembre",
          "nb_conge": 1,
          "year": 1790
         },
         {
          "destination": "Leigh",
          "month": "01 Janvier",
          "nb_conge": 2,
          "year": 1790
         },
         {
          "destination": "Leigh",
          "month": "02 Février",
          "nb_conge": 1,
          "year": 1790
         },
         {
          "destination": "Leigh",
          "month": " 03 Mars",
          "nb_conge": 1,
          "year": 1790
         },
         {
          "destination": "Leigh",
          "month": "04 Avril",
          "nb_conge": 2,
          "year": 1790
         },
         {
          "destination": "Leigh",
          "month": "05 Mai",
          "nb_conge": 3,
          "year": 1790
         },
         {
          "destination": "Leigh",
          "month": "06 Juin",
          "nb_conge": 5,
          "year": 1790
         },
         {
          "destination": "Leigh",
          "month": "07 Juillet",
          "nb_conge": 2,
          "year": 1790
         },
         {
          "destination": "Leigh",
          "month": "08 Août",
          "nb_conge": 3,
          "year": 1790
         },
         {
          "destination": "Leigh",
          "month": "09 Septembre",
          "nb_conge": 2,
          "year": 1790
         },
         {
          "destination": "Leigh",
          "month": "10 Octobre",
          "nb_conge": 2,
          "year": 1790
         },
         {
          "destination": "Leigh",
          "month": "11 Novembre",
          "nb_conge": 4,
          "year": 1790
         },
         {
          "destination": "Leigh",
          "month": "12 Décembre",
          "nb_conge": 3,
          "year": 1790
         },
         {
          "destination": "Rye",
          "month": "02 Février",
          "nb_conge": 3,
          "year": 1790
         },
         {
          "destination": "Rye",
          "month": " 03 Mars",
          "nb_conge": 1,
          "year": 1790
         },
         {
          "destination": "Rye",
          "month": "04 Avril",
          "nb_conge": 2,
          "year": 1790
         },
         {
          "destination": "Rye",
          "month": "05 Mai",
          "nb_conge": 2,
          "year": 1790
         },
         {
          "destination": "Rye",
          "month": "06 Juin",
          "nb_conge": 2,
          "year": 1790
         },
         {
          "destination": "Rye",
          "month": "07 Juillet",
          "nb_conge": 1,
          "year": 1790
         },
         {
          "destination": "Rye",
          "month": "08 Août",
          "nb_conge": 1,
          "year": 1790
         },
         {
          "destination": "Rye",
          "month": "09 Septembre",
          "nb_conge": 2,
          "year": 1790
         },
         {
          "destination": "Rye",
          "month": "11 Novembre",
          "nb_conge": 3,
          "year": 1790
         },
         {
          "destination": "Rye",
          "month": "12 Décembre",
          "nb_conge": 2,
          "year": 1790
         },
         {
          "destination": "Londres",
          "month": " 03 Mars",
          "nb_conge": 2,
          "year": 1790
         },
         {
          "destination": "Londres",
          "month": "04 Avril",
          "nb_conge": 2,
          "year": 1790
         },
         {
          "destination": "Londres",
          "month": "05 Mai",
          "nb_conge": 2,
          "year": 1790
         },
         {
          "destination": "Londres",
          "month": "06 Juin",
          "nb_conge": 2,
          "year": 1790
         },
         {
          "destination": "Londres",
          "month": "07 Juillet",
          "nb_conge": 5,
          "year": 1790
         },
         {
          "destination": "Londres",
          "month": "08 Août",
          "nb_conge": 2,
          "year": 1790
         },
         {
          "destination": "Dungeness",
          "month": "01 Janvier",
          "nb_conge": 2,
          "year": 1790
         },
         {
          "destination": "Dungeness",
          "month": "02 Février",
          "nb_conge": 1,
          "year": 1790
         },
         {
          "destination": "Dungeness",
          "month": "04 Avril",
          "nb_conge": 1,
          "year": 1790
         },
         {
          "destination": "Dungeness",
          "month": "05 Mai",
          "nb_conge": 1,
          "year": 1790
         },
         {
          "destination": "Dungeness",
          "month": "06 Juin",
          "nb_conge": 1,
          "year": 1790
         },
         {
          "destination": "Dungeness",
          "month": "07 Juillet",
          "nb_conge": 1,
          "year": 1790
         },
         {
          "destination": "Dungeness",
          "month": "08 Août",
          "nb_conge": 2,
          "year": 1790
         },
         {
          "destination": "Dungeness",
          "month": "09 Septembre",
          "nb_conge": 1,
          "year": 1790
         },
         {
          "destination": "Dungeness",
          "month": "10 Octobre",
          "nb_conge": 2,
          "year": 1790
         },
         {
          "destination": "Dungeness",
          "month": "12 Décembre",
          "nb_conge": 1,
          "year": 1790
         },
         {
          "destination": "Rochester",
          "month": "01 Janvier",
          "nb_conge": 1,
          "year": 1790
         },
         {
          "destination": "Rochester",
          "month": "02 Février",
          "nb_conge": 3,
          "year": 1790
         },
         {
          "destination": "Rochester",
          "month": " 03 Mars",
          "nb_conge": 4,
          "year": 1790
         },
         {
          "destination": "Rochester",
          "month": "07 Juillet",
          "nb_conge": 1,
          "year": 1790
         },
         {
          "destination": "Rochester",
          "month": "10 Octobre",
          "nb_conge": 2,
          "year": 1790
         },
         {
          "destination": "Yarmouth",
          "month": "01 Janvier",
          "nb_conge": 1,
          "year": 1790
         },
         {
          "destination": "Yarmouth",
          "month": " 03 Mars",
          "nb_conge": 1,
          "year": 1790
         },
         {
          "destination": "Yarmouth",
          "month": "06 Juin",
          "nb_conge": 1,
          "year": 1790
         },
         {
          "destination": "Yarmouth",
          "month": "07 Juillet",
          "nb_conge": 1,
          "year": 1790
         },
         {
          "destination": "Yarmouth",
          "month": "08 Août",
          "nb_conge": 1,
          "year": 1790
         },
         {
          "destination": "Yarmouth",
          "month": "09 Septembre",
          "nb_conge": 1,
          "year": 1790
         },
         {
          "destination": "Yarmouth",
          "month": "10 Octobre",
          "nb_conge": 3,
          "year": 1790
         },
         {
          "destination": "Yarmouth",
          "month": "12 Décembre",
          "nb_conge": 1,
          "year": 1790
         },
         {
          "destination": "Brightlansea",
          "month": "01 Janvier",
          "nb_conge": 3,
          "year": 1790
         },
         {
          "destination": "Brightlansea",
          "month": "02 Février",
          "nb_conge": 2,
          "year": 1790
         },
         {
          "destination": "Brightlansea",
          "month": " 03 Mars",
          "nb_conge": 2,
          "year": 1790
         },
         {
          "destination": "Brightlansea",
          "month": "04 Avril",
          "nb_conge": 1,
          "year": 1790
         },
         {
          "destination": "Brightlansea",
          "month": "05 Mai",
          "nb_conge": 2,
          "year": 1790
         },
         {
          "destination": "Margate",
          "month": "01 Janvier",
          "nb_conge": 2,
          "year": 1790
         },
         {
          "destination": "Margate",
          "month": " 03 Mars",
          "nb_conge": 1,
          "year": 1790
         },
         {
          "destination": "Margate",
          "month": "04 Avril",
          "nb_conge": 2,
          "year": 1790
         },
         {
          "destination": "Margate",
          "month": "05 Mai",
          "nb_conge": 1,
          "year": 1790
         },
         {
          "destination": "Margate",
          "month": "08 Août",
          "nb_conge": 1,
          "year": 1790
         },
         {
          "destination": "Margate",
          "month": "10 Octobre",
          "nb_conge": 1,
          "year": 1790
         },
         {
          "destination": "Margate",
          "month": "12 Décembre",
          "nb_conge": 1,
          "year": 1790
         },
         {
          "destination": "Lydd",
          "month": "02 Février",
          "nb_conge": 1,
          "year": 1790
         },
         {
          "destination": "Lydd",
          "month": "04 Avril",
          "nb_conge": 2,
          "year": 1790
         },
         {
          "destination": "Lydd",
          "month": "05 Mai",
          "nb_conge": 1,
          "year": 1790
         },
         {
          "destination": "Lydd",
          "month": "07 Juillet",
          "nb_conge": 2,
          "year": 1790
         },
         {
          "destination": "Pegwell",
          "month": "01 Janvier",
          "nb_conge": 1,
          "year": 1790
         },
         {
          "destination": "Pegwell",
          "month": "02 Février",
          "nb_conge": 1,
          "year": 1790
         },
         {
          "destination": "Pegwell",
          "month": " 03 Mars",
          "nb_conge": 1,
          "year": 1790
         },
         {
          "destination": "Pegwell",
          "month": "04 Avril",
          "nb_conge": 1,
          "year": 1790
         },
         {
          "destination": "Pegwell",
          "month": "06 Juin",
          "nb_conge": 1,
          "year": 1790
         },
         {
          "destination": "Pegwell",
          "month": "08 Août",
          "nb_conge": 1,
          "year": 1790
         },
         {
          "destination": "Wivenhoe",
          "month": "01 Janvier",
          "nb_conge": 2,
          "year": 1790
         },
         {
          "destination": "Wivenhoe",
          "month": "02 Février",
          "nb_conge": 1,
          "year": 1790
         },
         {
          "destination": "Wivenhoe",
          "month": " 03 Mars",
          "nb_conge": 2,
          "year": 1790
         },
         {
          "destination": "Wivenhoe",
          "month": "04 Avril",
          "nb_conge": 1,
          "year": 1790
         },
         {
          "destination": "Aberdeen",
          "month": "02 Février",
          "nb_conge": 1,
          "year": 1790
         },
         {
          "destination": "Aberdeen",
          "month": "05 Mai",
          "nb_conge": 1,
          "year": 1790
         },
         {
          "destination": "Aberdeen",
          "month": "07 Juillet",
          "nb_conge": 1,
          "year": 1790
         },
         {
          "destination": "Aberdeen",
          "month": "08 Août",
          "nb_conge": 1,
          "year": 1790
         },
         {
          "destination": "Aberdeen",
          "month": "10 Octobre",
          "nb_conge": 1,
          "year": 1790
         },
         {
          "destination": "Lynn",
          "month": "01 Janvier",
          "nb_conge": 1,
          "year": 1790
         },
         {
          "destination": "Lynn",
          "month": " 03 Mars",
          "nb_conge": 1,
          "year": 1790
         },
         {
          "destination": "Lynn",
          "month": "05 Mai",
          "nb_conge": 1,
          "year": 1790
         },
         {
          "destination": "Lynn",
          "month": "08 Août",
          "nb_conge": 1,
          "year": 1790
         },
         {
          "destination": "Milton",
          "month": "05 Mai",
          "nb_conge": 2,
          "year": 1790
         },
         {
          "destination": "Milton",
          "month": "08 Août",
          "nb_conge": 1,
          "year": 1790
         },
         {
          "destination": "Milton",
          "month": "11 Novembre",
          "nb_conge": 1,
          "year": 1790
         },
         {
          "destination": "Reculver",
          "month": "06 Juin",
          "nb_conge": 1,
          "year": 1790
         },
         {
          "destination": "Reculver",
          "month": "07 Juillet",
          "nb_conge": 1,
          "year": 1790
         },
         {
          "destination": "Reculver",
          "month": "09 Septembre",
          "nb_conge": 1,
          "year": 1790
         },
         {
          "destination": "Reculver",
          "month": "11 Novembre",
          "nb_conge": 1,
          "year": 1790
         },
         {
          "destination": "Woodbridge",
          "month": "04 Avril",
          "nb_conge": 2,
          "year": 1790
         },
         {
          "destination": "Woodbridge",
          "month": "05 Mai",
          "nb_conge": 2,
          "year": 1790
         },
         {
          "destination": "Chichester",
          "month": "11 Novembre",
          "nb_conge": 2,
          "year": 1790
         },
         {
          "destination": "Chichester",
          "month": "12 Décembre",
          "nb_conge": 1,
          "year": 1790
         },
         {
          "destination": "Dymchurch",
          "month": "02 Février",
          "nb_conge": 1,
          "year": 1790
         },
         {
          "destination": "Dymchurch",
          "month": "04 Avril",
          "nb_conge": 1,
          "year": 1790
         },
         {
          "destination": "Dymchurch",
          "month": "06 Juin",
          "nb_conge": 1,
          "year": 1790
         },
         {
          "destination": "Hythe",
          "month": "02 Février",
          "nb_conge": 1,
          "year": 1790
         },
         {
          "destination": "Hythe",
          "month": " 03 Mars",
          "nb_conge": 1,
          "year": 1790
         },
         {
          "destination": "Hythe",
          "month": "05 Mai",
          "nb_conge": 1,
          "year": 1790
         },
         {
          "destination": "Barking",
          "month": "01 Janvier",
          "nb_conge": 1,
          "year": 1790
         },
         {
          "destination": "Barking",
          "month": "08 Août",
          "nb_conge": 1,
          "year": 1790
         },
         {
          "destination": "Foy",
          "month": "04 Avril",
          "nb_conge": 1,
          "year": 1790
         },
         {
          "destination": "Foy",
          "month": "05 Mai",
          "nb_conge": 1,
          "year": 1790
         },
         {
          "destination": "Guerneze",
          "month": "04 Avril",
          "nb_conge": 1,
          "year": 1790
         },
         {
          "destination": "Guerneze",
          "month": "12 Décembre",
          "nb_conge": 1,
          "year": 1790
         },
         {
          "destination": "Greenwith",
          "month": "06 Juin",
          "nb_conge": 1,
          "year": 1790
         },
         {
          "destination": "Greenwith",
          "month": "07 Juillet",
          "nb_conge": 1,
          "year": 1790
         },
         {
          "destination": "Ipswich",
          "month": "06 Juin",
          "nb_conge": 2,
          "year": 1790
         },
         {
          "destination": "Southwold",
          "month": "06 Juin",
          "nb_conge": 2,
          "year": 1790
         },
         {
          "destination": "Blacwall",
          "month": "08 Août",
          "nb_conge": 2,
          "year": 1790
         },
         {
          "destination": "Eawsand & Chatham",
          "month": "01 Janvier",
          "nb_conge": 1,
          "year": 1790
         },
         {
          "destination": "Gravesand",
          "month": " 03 Mars",
          "nb_conge": 1,
          "year": 1790
         },
         {
          "destination": "Colmay-Falmouth",
          "month": "06 Juin",
          "nb_conge": 1,
          "year": 1790
         },
         {
          "destination": "Langley-Ramsay",
          "month": "07 Juillet",
          "nb_conge": 1,
          "year": 1790
         },
         {
          "destination": "Winchelsea",
          "month": "08 Août",
          "nb_conge": 1,
          "year": 1790
         },
         {
          "destination": "Cowes",
          "month": "09 Septembre",
          "nb_conge": 1,
          "year": 1790
         },
         {
          "destination": "Leith",
          "month": "10 Octobre",
          "nb_conge": 1,
          "year": 1790
         },
         {
          "destination": "Seasalter",
          "month": "11 Novembre",
          "nb_conge": 1,
          "year": 1790
         },
         {
          "destination": "Portsmouth",
          "month": "12 Décembre",
          "nb_conge": 1,
          "year": 1790
         },
         {
          "destination": "Deal",
          "month": "01 Janvier",
          "nb_conge": 12,
          "year": 1781
         },
         {
          "destination": "Deal",
          "month": "02 Février",
          "nb_conge": 8,
          "year": 1781
         },
         {
          "destination": "Deal",
          "month": " 03 Mars",
          "nb_conge": 11,
          "year": 1781
         },
         {
          "destination": "Deal",
          "month": "04 Avril",
          "nb_conge": 20,
          "year": 1781
         },
         {
          "destination": "Deal",
          "month": "05 Mai",
          "nb_conge": 9,
          "year": 1781
         },
         {
          "destination": "Deal",
          "month": "06 Juin",
          "nb_conge": 15,
          "year": 1781
         },
         {
          "destination": "Deal",
          "month": "07 Juillet",
          "nb_conge": 24,
          "year": 1781
         },
         {
          "destination": "Deal",
          "month": "08 Août",
          "nb_conge": 14,
          "year": 1781
         },
         {
          "destination": "Deal",
          "month": "09 Septembre",
          "nb_conge": 18,
          "year": 1781
         },
         {
          "destination": "Deal",
          "month": "10 Octobre",
          "nb_conge": 13,
          "year": 1781
         },
         {
          "destination": "Deal",
          "month": "11 Novembre",
          "nb_conge": 18,
          "year": 1781
         },
         {
          "destination": "Deal",
          "month": "12 Décembre",
          "nb_conge": 15,
          "year": 1781
         },
         {
          "destination": "Folkstone",
          "month": "01 Janvier",
          "nb_conge": 10,
          "year": 1781
         },
         {
          "destination": "Folkstone",
          "month": "02 Février",
          "nb_conge": 3,
          "year": 1781
         },
         {
          "destination": "Folkstone",
          "month": " 03 Mars",
          "nb_conge": 8,
          "year": 1781
         },
         {
          "destination": "Folkstone",
          "month": "04 Avril",
          "nb_conge": 7,
          "year": 1781
         },
         {
          "destination": "Folkstone",
          "month": "05 Mai",
          "nb_conge": 9,
          "year": 1781
         },
         {
          "destination": "Folkstone",
          "month": "06 Juin",
          "nb_conge": 5,
          "year": 1781
         },
         {
          "destination": "Folkstone",
          "month": "07 Juillet",
          "nb_conge": 14,
          "year": 1781
         },
         {
          "destination": "Folkstone",
          "month": "08 Août",
          "nb_conge": 4,
          "year": 1781
         },
         {
          "destination": "Folkstone",
          "month": "09 Septembre",
          "nb_conge": 8,
          "year": 1781
         },
         {
          "destination": "Folkstone",
          "month": "10 Octobre",
          "nb_conge": 5,
          "year": 1781
         },
         {
          "destination": "Folkstone",
          "month": "11 Novembre",
          "nb_conge": 3,
          "year": 1781
         },
         {
          "destination": "Folkstone",
          "month": "12 Décembre",
          "nb_conge": 5,
          "year": 1781
         },
         {
          "destination": "Margate",
          "month": "01 Janvier",
          "nb_conge": 6,
          "year": 1781
         },
         {
          "destination": "Margate",
          "month": "02 Février",
          "nb_conge": 3,
          "year": 1781
         },
         {
          "destination": "Margate",
          "month": " 03 Mars",
          "nb_conge": 12,
          "year": 1781
         },
         {
          "destination": "Margate",
          "month": "04 Avril",
          "nb_conge": 8,
          "year": 1781
         },
         {
          "destination": "Margate",
          "month": "05 Mai",
          "nb_conge": 2,
          "year": 1781
         },
         {
          "destination": "Margate",
          "month": "06 Juin",
          "nb_conge": 5,
          "year": 1781
         },
         {
          "destination": "Margate",
          "month": "07 Juillet",
          "nb_conge": 10,
          "year": 1781
         },
         {
          "destination": "Margate",
          "month": "08 Août",
          "nb_conge": 7,
          "year": 1781
         },
         {
          "destination": "Margate",
          "month": "09 Septembre",
          "nb_conge": 6,
          "year": 1781
         },
         {
          "destination": "Margate",
          "month": "10 Octobre",
          "nb_conge": 10,
          "year": 1781
         },
         {
          "destination": "Margate",
          "month": "11 Novembre",
          "nb_conge": 6,
          "year": 1781
         },
         {
          "destination": "Margate",
          "month": "12 Décembre",
          "nb_conge": 4,
          "year": 1781
         },
         {
          "destination": "Chatham",
          "month": "01 Janvier",
          "nb_conge": 11,
          "year": 1781
         },
         {
          "destination": "Chatham",
          "month": "02 Février",
          "nb_conge": 5,
          "year": 1781
         },
         {
          "destination": "Chatham",
          "month": " 03 Mars",
          "nb_conge": 4,
          "year": 1781
         },
         {
          "destination": "Chatham",
          "month": "04 Avril",
          "nb_conge": 5,
          "year": 1781
         },
         {
          "destination": "Chatham",
          "month": "05 Mai",
          "nb_conge": 2,
          "year": 1781
         },
         {
          "destination": "Chatham",
          "month": "07 Juillet",
          "nb_conge": 1,
          "year": 1781
         },
         {
          "destination": "Chatham",
          "month": "08 Août",
          "nb_conge": 3,
          "year": 1781
         },
         {
          "destination": "Chatham",
          "month": "09 Septembre",
          "nb_conge": 9,
          "year": 1781
         },
         {
          "destination": "Chatham",
          "month": "10 Octobre",
          "nb_conge": 6,
          "year": 1781
         },
         {
          "destination": "Chatham",
          "month": "11 Novembre",
          "nb_conge": 4,
          "year": 1781
         },
         {
          "destination": "Chatham",
          "month": "12 Décembre",
          "nb_conge": 6,
          "year": 1781
         },
         {
          "destination": "Colchester",
          "month": "01 Janvier",
          "nb_conge": 5,
          "year": 1781
         },
         {
          "destination": "Colchester",
          "month": "02 Février",
          "nb_conge": 4,
          "year": 1781
         },
         {
          "destination": "Colchester",
          "month": " 03 Mars",
          "nb_conge": 2,
          "year": 1781
         },
         {
          "destination": "Colchester",
          "month": "04 Avril",
          "nb_conge": 5,
          "year": 1781
         },
         {
          "destination": "Colchester",
          "month": "06 Juin",
          "nb_conge": 3,
          "year": 1781
         },
         {
          "destination": "Colchester",
          "month": "07 Juillet",
          "nb_conge": 3,
          "year": 1781
         },
         {
          "destination": "Colchester",
          "month": "08 Août",
          "nb_conge": 4,
          "year": 1781
         },
         {
          "destination": "Colchester",
          "month": "09 Septembre",
          "nb_conge": 2,
          "year": 1781
         },
         {
          "destination": "Colchester",
          "month": "10 Octobre",
          "nb_conge": 6,
          "year": 1781
         },
         {
          "destination": "Colchester",
          "month": "11 Novembre",
          "nb_conge": 3,
          "year": 1781
         },
         {
          "destination": "Colchester",
          "month": "12 Décembre",
          "nb_conge": 4,
          "year": 1781
         },
         {
          "destination": "Hasting",
          "month": "01 Janvier",
          "nb_conge": 2,
          "year": 1781
         },
         {
          "destination": "Hasting",
          "month": "02 Février",
          "nb_conge": 2,
          "year": 1781
         },
         {
          "destination": "Hasting",
          "month": " 03 Mars",
          "nb_conge": 5,
          "year": 1781
         },
         {
          "destination": "Hasting",
          "month": "04 Avril",
          "nb_conge": 4,
          "year": 1781
         },
         {
          "destination": "Hasting",
          "month": "05 Mai",
          "nb_conge": 4,
          "year": 1781
         },
         {
          "destination": "Hasting",
          "month": "06 Juin",
          "nb_conge": 9,
          "year": 1781
         },
         {
          "destination": "Hasting",
          "month": "07 Juillet",
          "nb_conge": 4,
          "year": 1781
         },
         {
          "destination": "Hasting",
          "month": "08 Août",
          "nb_conge": 3,
          "year": 1781
         },
         {
          "destination": "Hasting",
          "month": "09 Septembre",
          "nb_conge": 2,
          "year": 1781
         },
         {
          "destination": "Hasting",
          "month": "10 Octobre",
          "nb_conge": 2,
          "year": 1781
         },
         {
          "destination": "Hasting",
          "month": "11 Novembre",
          "nb_conge": 2,
          "year": 1781
         },
         {
          "destination": "Hasting",
          "month": "12 Décembre",
          "nb_conge": 3,
          "year": 1781
         },
         {
          "destination": "Burnham",
          "month": "01 Janvier",
          "nb_conge": 2,
          "year": 1781
         },
         {
          "destination": "Burnham",
          "month": "02 Février",
          "nb_conge": 4,
          "year": 1781
         },
         {
          "destination": "Burnham",
          "month": " 03 Mars",
          "nb_conge": 2,
          "year": 1781
         },
         {
          "destination": "Burnham",
          "month": "04 Avril",
          "nb_conge": 2,
          "year": 1781
         },
         {
          "destination": "Burnham",
          "month": "05 Mai",
          "nb_conge": 1,
          "year": 1781
         },
         {
          "destination": "Burnham",
          "month": "06 Juin",
          "nb_conge": 2,
          "year": 1781
         },
         {
          "destination": "Burnham",
          "month": "09 Septembre",
          "nb_conge": 3,
          "year": 1781
         },
         {
          "destination": "Burnham",
          "month": "10 Octobre",
          "nb_conge": 3,
          "year": 1781
         },
         {
          "destination": "Burnham",
          "month": "11 Novembre",
          "nb_conge": 5,
          "year": 1781
         },
         {
          "destination": "Burnham",
          "month": "12 Décembre",
          "nb_conge": 3,
          "year": 1781
         },
         {
          "destination": "Whistable",
          "month": "02 Février",
          "nb_conge": 2,
          "year": 1781
         },
         {
          "destination": "Whistable",
          "month": "04 Avril",
          "nb_conge": 1,
          "year": 1781
         },
         {
          "destination": "Whistable",
          "month": "06 Juin",
          "nb_conge": 3,
          "year": 1781
         },
         {
          "destination": "Whistable",
          "month": "07 Juillet",
          "nb_conge": 2,
          "year": 1781
         },
         {
          "destination": "Whistable",
          "month": "08 Août",
          "nb_conge": 2,
          "year": 1781
         },
         {
          "destination": "Lydd",
          "month": "01 Janvier",
          "nb_conge": 1,
          "year": 1781
         },
         {
          "destination": "Lydd",
          "month": "02 Février",
          "nb_conge": 1,
          "year": 1781
         },
         {
          "destination": "Lydd",
          "month": " 03 Mars",
          "nb_conge": 1,
          "year": 1781
         },
         {
          "destination": "Lydd",
          "month": "07 Juillet",
          "nb_conge": 1,
          "year": 1781
         },
         {
          "destination": "Lydd",
          "month": "08 Août",
          "nb_conge": 2,
          "year": 1781
         },
         {
          "destination": "Lydd",
          "month": "09 Septembre",
          "nb_conge": 2,
          "year": 1781
         },
         {
          "destination": "Harwich",
          "month": " 03 Mars",
          "nb_conge": 1,
          "year": 1781
         },
         {
          "destination": "Harwich",
          "month": "09 Septembre",
          "nb_conge": 1,
          "year": 1781
         },
         {
          "destination": "Harwich",
          "month": "10 Octobre",
          "nb_conge": 3,
          "year": 1781
         },
         {
          "destination": "Harwich",
          "month": "11 Novembre",
          "nb_conge": 2,
          "year": 1781
         },
         {
          "destination": "Harwich",
          "month": "12 Décembre",
          "nb_conge": 3,
          "year": 1781
         },
         {
          "destination": "Douvres",
          "month": "05 Mai",
          "nb_conge": 1,
          "year": 1781
         },
         {
          "destination": "Douvres",
          "month": "06 Juin",
          "nb_conge": 1,
          "year": 1781
         },
         {
          "destination": "Douvres",
          "month": "10 Octobre",
          "nb_conge": 2,
          "year": 1781
         },
         {
          "destination": "Douvres",
          "month": "11 Novembre",
          "nb_conge": 1,
          "year": 1781
         },
         {
          "destination": "Douvres",
          "month": "12 Décembre",
          "nb_conge": 2,
          "year": 1781
         },
         {
          "destination": "Dungeness",
          "month": "01 Janvier",
          "nb_conge": 1,
          "year": 1781
         },
         {
          "destination": "Dungeness",
          "month": " 03 Mars",
          "nb_conge": 1,
          "year": 1781
         },
         {
          "destination": "Dungeness",
          "month": "04 Avril",
          "nb_conge": 1,
          "year": 1781
         },
         {
          "destination": "Dungeness",
          "month": "08 Août",
          "nb_conge": 1,
          "year": 1781
         },
         {
          "destination": "Dungeness",
          "month": "10 Octobre",
          "nb_conge": 1,
          "year": 1781
         },
         {
          "destination": "Sandgate",
          "month": "01 Janvier",
          "nb_conge": 3,
          "year": 1781
         },
         {
          "destination": "Sandgate",
          "month": " 03 Mars",
          "nb_conge": 1,
          "year": 1781
         },
         {
          "destination": "Brightlandsea",
          "month": "09 Septembre",
          "nb_conge": 1,
          "year": 1781
         },
         {
          "destination": "Brightlandsea",
          "month": "10 Octobre",
          "nb_conge": 1,
          "year": 1781
         },
         {
          "destination": "Brightlandsea",
          "month": "11 Novembre",
          "nb_conge": 1,
          "year": 1781
         },
         {
          "destination": "Brightlandsea",
          "month": "12 Décembre",
          "nb_conge": 1,
          "year": 1781
         },
         {
          "destination": "Ispwich",
          "month": "01 Janvier",
          "nb_conge": 1,
          "year": 1781
         },
         {
          "destination": "Ispwich",
          "month": "02 Février",
          "nb_conge": 1,
          "year": 1781
         },
         {
          "destination": "Ispwich",
          "month": "08 Août",
          "nb_conge": 1,
          "year": 1781
         },
         {
          "destination": "Pegwell",
          "month": "04 Avril",
          "nb_conge": 1,
          "year": 1781
         },
         {
          "destination": "Pegwell",
          "month": "10 Octobre",
          "nb_conge": 1,
          "year": 1781
         },
         {
          "destination": "Pegwell",
          "month": "11 Novembre",
          "nb_conge": 1,
          "year": 1781
         },
         {
          "destination": "Liestaff",
          "month": "05 Mai",
          "nb_conge": 1,
          "year": 1781
         },
         {
          "destination": "Liestaff",
          "month": "06 Juin",
          "nb_conge": 2,
          "year": 1781
         },
         {
          "destination": "Leith",
          "month": "02 Février",
          "nb_conge": 2,
          "year": 1781
         },
         {
          "destination": "Woodbridge",
          "month": " 03 Mars",
          "nb_conge": 1,
          "year": 1781
         },
         {
          "destination": "Woodbridge",
          "month": "04 Avril",
          "nb_conge": 1,
          "year": 1781
         },
         {
          "destination": "Bradwell",
          "month": "02 Février",
          "nb_conge": 1,
          "year": 1781
         },
         {
          "destination": "Bradwell",
          "month": "06 Juin",
          "nb_conge": 1,
          "year": 1781
         },
         {
          "destination": "Hanson",
          "month": "01 Janvier",
          "nb_conge": 1,
          "year": 1781
         },
         {
          "destination": "Stroud",
          "month": "02 Février",
          "nb_conge": 1,
          "year": 1781
         },
         {
          "destination": "Walding",
          "month": "02 Février",
          "nb_conge": 1,
          "year": 1781
         },
         {
          "destination": "Londres",
          "month": "02 Février",
          "nb_conge": 1,
          "year": 1781
         },
         {
          "destination": "Norwich",
          "month": " 03 Mars",
          "nb_conge": 1,
          "year": 1781
         },
         {
          "destination": "Harwich",
          "month": " 03 Mars",
          "nb_conge": 1,
          "year": 1781
         },
         {
          "destination": "Budleigh Salterton",
          "month": "04 Avril",
          "nb_conge": 1,
          "year": 1781
         },
         {
          "destination": "Essex",
          "month": "05 Mai",
          "nb_conge": 1,
          "year": 1781
         },
         {
          "destination": "Christchurch",
          "month": "05 Mai",
          "nb_conge": 1,
          "year": 1781
         },
         {
          "destination": "Yarmouth",
          "month": "07 Juillet",
          "nb_conge": 1,
          "year": 1781
         },
         {
          "destination": "Rye",
          "month": "08 Août",
          "nb_conge": 1,
          "year": 1781
         },
         {
          "destination": "Leigh",
          "month": "09 Septembre",
          "nb_conge": 1,
          "year": 1781
         },
         {
          "destination": "Rochester",
          "month": "09 Septembre",
          "nb_conge": 1,
          "year": 1781
         },
         {
          "destination": "Topsham",
          "month": "09 Septembre",
          "nb_conge": 1,
          "year": 1781
         },
         {
          "destination": "Holy Island",
          "month": "11 Novembre",
          "nb_conge": 1,
          "year": 1781
         }
        ]
       },
       "encoding": {
        "color": {
         "field": "nb_conge_all_dest",
         "title": "nombre de congé",
         "type": "quantitative"
        },
        "x": {
         "field": "month",
         "sort": "asc",
         "title": "Mois",
         "type": "ordinal"
        },
        "y": {
         "field": "year",
         "sort": {
          "field": "year",
          "order": "descending"
         },
         "title": "Année",
         "type": "ordinal"
        }
       },
       "mark": {
        "tooltip": {
         "content": "data"
        },
        "type": "rect"
       },
       "title": "Nombre de congés par mois toute destination",
       "transform": [
        {
         "aggregate": [
          {
           "as": "nb_conge_all_dest",
           "field": "nb_conge",
           "op": "sum"
          }
         ],
         "groupby": [
          "year",
          "month"
         ]
        }
       ]
      },
      "image/png": "[encoded data removed]"
     },
     "metadata": {},
     "output_type": "display_data"
    }
   ],
   "source": [
    "from IPython.display import display\n",
    "import pandas as pd\n",
    "\n",
    "def VegaLite(spec):\n",
    "    bundle = {}\n",
    "    bundle['application/vnd.vegalite.v4+json'] = spec\n",
    "    display(bundle, raw=True)\n",
    "\n",
    "\n",
    "VegaLite({\n",
    "  \"title\": \"Nombre de congés par mois toute destination\",\n",
    "  \"data\": {\"values\": destination_month_destination},\n",
    "  \"transform\": [\n",
    "    {\n",
    "      \"aggregate\": [{\n",
    "       \"op\": \"sum\",\n",
    "       \"field\": \"nb_conge\",\n",
    "       \"as\": \"nb_conge_all_dest\"\n",
    "      }],\n",
    "      \"groupby\": [\"year\", \"month\"]\n",
    "    }\n",
    "  ],\n",
    "  \"mark\": {\"type\":\"rect\", \"tooltip\": {\"content\": \"data\"}},\n",
    "  \"encoding\": {\n",
    "    \"x\": {\n",
    "      \"field\": \"month\",\n",
    "      \"title\": \"Mois\",\n",
    "      \"type\": \"ordinal\",\n",
    "      \n",
    "      \"sort\": \"asc\"\n",
    "    },\n",
    "    \"y\": {\n",
    "      \"title\": \"Année\",\n",
    "      \"field\":\"year\",\n",
    "      \"type\": \"ordinal\",\n",
    "      \"sort\": { \"field\":\"year\", \"order\": \"descending\"}\n",
    "    },\n",
    "    \"color\": {\n",
    "      \"field\": \"nb_conge_all_dest\",\n",
    "      \"title\": \"nombre de congé\",\n",
    "      \"type\": \"quantitative\"\n",
    "    }\n",
    "  },\n",
    "  \"config\": {\n",
    "    \"view\": {\n",
    "      \"stroke\": \"transparent\"\n",
    "    }\n",
    "  }\n",
    "})\n"
   ]
  },
  {
   "cell_type": "code",
   "execution_count": 9,
   "metadata": {},
   "outputs": [
    {
     "data": {
      "application/vnd.vegalite.v4+json": {
       "config": {
        "view": {
         "stroke": "transparent"
        }
       },
       "data": {
        "values": [
         {
          "destination": "Deal",
          "month": "01 Janvier",
          "nb_conge": 19,
          "year": 1790
         },
         {
          "destination": "Deal",
          "month": "02 Février",
          "nb_conge": 21,
          "year": 1790
         },
         {
          "destination": "Deal",
          "month": " 03 Mars",
          "nb_conge": 14,
          "year": 1790
         },
         {
          "destination": "Deal",
          "month": "04 Avril",
          "nb_conge": 15,
          "year": 1790
         },
         {
          "destination": "Deal",
          "month": "05 Mai",
          "nb_conge": 7,
          "year": 1790
         },
         {
          "destination": "Deal",
          "month": "06 Juin",
          "nb_conge": 11,
          "year": 1790
         },
         {
          "destination": "Deal",
          "month": "07 Juillet",
          "nb_conge": 18,
          "year": 1790
         },
         {
          "destination": "Deal",
          "month": "08 Août",
          "nb_conge": 13,
          "year": 1790
         },
         {
          "destination": "Deal",
          "month": "09 Septembre",
          "nb_conge": 17,
          "year": 1790
         },
         {
          "destination": "Deal",
          "month": "10 Octobre",
          "nb_conge": 13,
          "year": 1790
         },
         {
          "destination": "Deal",
          "month": "11 Novembre",
          "nb_conge": 14,
          "year": 1790
         },
         {
          "destination": "Deal",
          "month": "12 Décembre",
          "nb_conge": 22,
          "year": 1790
         },
         {
          "destination": "Douvres",
          "month": "01 Janvier",
          "nb_conge": 11,
          "year": 1790
         },
         {
          "destination": "Douvres",
          "month": "02 Février",
          "nb_conge": 11,
          "year": 1790
         },
         {
          "destination": "Douvres",
          "month": " 03 Mars",
          "nb_conge": 4,
          "year": 1790
         },
         {
          "destination": "Douvres",
          "month": "04 Avril",
          "nb_conge": 6,
          "year": 1790
         },
         {
          "destination": "Douvres",
          "month": "05 Mai",
          "nb_conge": 6,
          "year": 1790
         },
         {
          "destination": "Douvres",
          "month": "06 Juin",
          "nb_conge": 5,
          "year": 1790
         },
         {
          "destination": "Douvres",
          "month": "07 Juillet",
          "nb_conge": 4,
          "year": 1790
         },
         {
          "destination": "Douvres",
          "month": "08 Août",
          "nb_conge": 5,
          "year": 1790
         },
         {
          "destination": "Douvres",
          "month": "09 Septembre",
          "nb_conge": 7,
          "year": 1790
         },
         {
          "destination": "Douvres",
          "month": "10 Octobre",
          "nb_conge": 9,
          "year": 1790
         },
         {
          "destination": "Douvres",
          "month": "11 Novembre",
          "nb_conge": 7,
          "year": 1790
         },
         {
          "destination": "Douvres",
          "month": "12 Décembre",
          "nb_conge": 9,
          "year": 1790
         },
         {
          "destination": "Colchester",
          "month": "01 Janvier",
          "nb_conge": 9,
          "year": 1790
         },
         {
          "destination": "Colchester",
          "month": "02 Février",
          "nb_conge": 4,
          "year": 1790
         },
         {
          "destination": "Colchester",
          "month": " 03 Mars",
          "nb_conge": 8,
          "year": 1790
         },
         {
          "destination": "Colchester",
          "month": "04 Avril",
          "nb_conge": 7,
          "year": 1790
         },
         {
          "destination": "Colchester",
          "month": "05 Mai",
          "nb_conge": 4,
          "year": 1790
         },
         {
          "destination": "Colchester",
          "month": "06 Juin",
          "nb_conge": 8,
          "year": 1790
         },
         {
          "destination": "Colchester",
          "month": "07 Juillet",
          "nb_conge": 7,
          "year": 1790
         },
         {
          "destination": "Colchester",
          "month": "08 Août",
          "nb_conge": 5,
          "year": 1790
         },
         {
          "destination": "Colchester",
          "month": "09 Septembre",
          "nb_conge": 7,
          "year": 1790
         },
         {
          "destination": "Colchester",
          "month": "10 Octobre",
          "nb_conge": 8,
          "year": 1790
         },
         {
          "destination": "Colchester",
          "month": "11 Novembre",
          "nb_conge": 7,
          "year": 1790
         },
         {
          "destination": "Colchester",
          "month": "12 Décembre",
          "nb_conge": 7,
          "year": 1790
         },
         {
          "destination": "Folkestone",
          "month": "01 Janvier",
          "nb_conge": 9,
          "year": 1790
         },
         {
          "destination": "Folkestone",
          "month": "02 Février",
          "nb_conge": 8,
          "year": 1790
         },
         {
          "destination": "Folkestone",
          "month": " 03 Mars",
          "nb_conge": 8,
          "year": 1790
         },
         {
          "destination": "Folkestone",
          "month": "04 Avril",
          "nb_conge": 7,
          "year": 1790
         },
         {
          "destination": "Folkestone",
          "month": "05 Mai",
          "nb_conge": 8,
          "year": 1790
         },
         {
          "destination": "Folkestone",
          "month": "06 Juin",
          "nb_conge": 4,
          "year": 1790
         },
         {
          "destination": "Folkestone",
          "month": "07 Juillet",
          "nb_conge": 6,
          "year": 1790
         },
         {
          "destination": "Folkestone",
          "month": "08 Août",
          "nb_conge": 7,
          "year": 1790
         },
         {
          "destination": "Folkestone",
          "month": "09 Septembre",
          "nb_conge": 3,
          "year": 1790
         },
         {
          "destination": "Folkestone",
          "month": "10 Octobre",
          "nb_conge": 6,
          "year": 1790
         },
         {
          "destination": "Folkestone",
          "month": "11 Novembre",
          "nb_conge": 8,
          "year": 1790
         },
         {
          "destination": "Folkestone",
          "month": "12 Décembre",
          "nb_conge": 3,
          "year": 1790
         },
         {
          "destination": "Maldon",
          "month": "01 Janvier",
          "nb_conge": 7,
          "year": 1790
         },
         {
          "destination": "Maldon",
          "month": "02 Février",
          "nb_conge": 6,
          "year": 1790
         },
         {
          "destination": "Maldon",
          "month": " 03 Mars",
          "nb_conge": 8,
          "year": 1790
         },
         {
          "destination": "Maldon",
          "month": "04 Avril",
          "nb_conge": 7,
          "year": 1790
         },
         {
          "destination": "Maldon",
          "month": "05 Mai",
          "nb_conge": 4,
          "year": 1790
         },
         {
          "destination": "Maldon",
          "month": "06 Juin",
          "nb_conge": 3,
          "year": 1790
         },
         {
          "destination": "Maldon",
          "month": "07 Juillet",
          "nb_conge": 3,
          "year": 1790
         },
         {
          "destination": "Maldon",
          "month": "08 Août",
          "nb_conge": 5,
          "year": 1790
         },
         {
          "destination": "Maldon",
          "month": "09 Septembre",
          "nb_conge": 4,
          "year": 1790
         },
         {
          "destination": "Maldon",
          "month": "10 Octobre",
          "nb_conge": 4,
          "year": 1790
         },
         {
          "destination": "Maldon",
          "month": "11 Novembre",
          "nb_conge": 3,
          "year": 1790
         },
         {
          "destination": "Maldon",
          "month": "12 Décembre",
          "nb_conge": 6,
          "year": 1790
         },
         {
          "destination": "Whistable",
          "month": "01 Janvier",
          "nb_conge": 8,
          "year": 1790
         },
         {
          "destination": "Whistable",
          "month": "02 Février",
          "nb_conge": 5,
          "year": 1790
         },
         {
          "destination": "Whistable",
          "month": " 03 Mars",
          "nb_conge": 5,
          "year": 1790
         },
         {
          "destination": "Whistable",
          "month": "04 Avril",
          "nb_conge": 1,
          "year": 1790
         },
         {
          "destination": "Whistable",
          "month": "05 Mai",
          "nb_conge": 2,
          "year": 1790
         },
         {
          "destination": "Whistable",
          "month": "06 Juin",
          "nb_conge": 5,
          "year": 1790
         },
         {
          "destination": "Whistable",
          "month": "07 Juillet",
          "nb_conge": 6,
          "year": 1790
         },
         {
          "destination": "Whistable",
          "month": "08 Août",
          "nb_conge": 5,
          "year": 1790
         },
         {
          "destination": "Whistable",
          "month": "09 Septembre",
          "nb_conge": 3,
          "year": 1790
         },
         {
          "destination": "Whistable",
          "month": "10 Octobre",
          "nb_conge": 4,
          "year": 1790
         },
         {
          "destination": "Whistable",
          "month": "11 Novembre",
          "nb_conge": 2,
          "year": 1790
         },
         {
          "destination": "Whistable",
          "month": "12 Décembre",
          "nb_conge": 9,
          "year": 1790
         },
         {
          "destination": "Hasting",
          "month": "01 Janvier",
          "nb_conge": 6,
          "year": 1790
         },
         {
          "destination": "Hasting",
          "month": "02 Février",
          "nb_conge": 1,
          "year": 1790
         },
         {
          "destination": "Hasting",
          "month": " 03 Mars",
          "nb_conge": 4,
          "year": 1790
         },
         {
          "destination": "Hasting",
          "month": "04 Avril",
          "nb_conge": 6,
          "year": 1790
         },
         {
          "destination": "Hasting",
          "month": "05 Mai",
          "nb_conge": 3,
          "year": 1790
         },
         {
          "destination": "Hasting",
          "month": "06 Juin",
          "nb_conge": 3,
          "year": 1790
         },
         {
          "destination": "Hasting",
          "month": "07 Juillet",
          "nb_conge": 3,
          "year": 1790
         },
         {
          "destination": "Hasting",
          "month": "08 Août",
          "nb_conge": 2,
          "year": 1790
         },
         {
          "destination": "Hasting",
          "month": "09 Septembre",
          "nb_conge": 3,
          "year": 1790
         },
         {
          "destination": "Hasting",
          "month": "10 Octobre",
          "nb_conge": 3,
          "year": 1790
         },
         {
          "destination": "Hasting",
          "month": "11 Novembre",
          "nb_conge": 8,
          "year": 1790
         },
         {
          "destination": "Hasting",
          "month": "12 Décembre",
          "nb_conge": 4,
          "year": 1790
         },
         {
          "destination": "Feversham",
          "month": "01 Janvier",
          "nb_conge": 2,
          "year": 1790
         },
         {
          "destination": "Feversham",
          "month": "02 Février",
          "nb_conge": 6,
          "year": 1790
         },
         {
          "destination": "Feversham",
          "month": " 03 Mars",
          "nb_conge": 1,
          "year": 1790
         },
         {
          "destination": "Feversham",
          "month": "04 Avril",
          "nb_conge": 2,
          "year": 1790
         },
         {
          "destination": "Feversham",
          "month": "05 Mai",
          "nb_conge": 2,
          "year": 1790
         },
         {
          "destination": "Feversham",
          "month": "06 Juin",
          "nb_conge": 2,
          "year": 1790
         },
         {
          "destination": "Feversham",
          "month": "07 Juillet",
          "nb_conge": 5,
          "year": 1790
         },
         {
          "destination": "Feversham",
          "month": "08 Août",
          "nb_conge": 7,
          "year": 1790
         },
         {
          "destination": "Feversham",
          "month": "09 Septembre",
          "nb_conge": 2,
          "year": 1790
         },
         {
          "destination": "Feversham",
          "month": "10 Octobre",
          "nb_conge": 5,
          "year": 1790
         },
         {
          "destination": "Feversham",
          "month": "11 Novembre",
          "nb_conge": 5,
          "year": 1790
         },
         {
          "destination": "Feversham",
          "month": "12 Décembre",
          "nb_conge": 7,
          "year": 1790
         },
         {
          "destination": "Harwich",
          "month": "01 Janvier",
          "nb_conge": 1,
          "year": 1790
         },
         {
          "destination": "Harwich",
          "month": "02 Février",
          "nb_conge": 2,
          "year": 1790
         },
         {
          "destination": "Harwich",
          "month": "04 Avril",
          "nb_conge": 1,
          "year": 1790
         },
         {
          "destination": "Harwich",
          "month": "05 Mai",
          "nb_conge": 3,
          "year": 1790
         },
         {
          "destination": "Harwich",
          "month": "06 Juin",
          "nb_conge": 10,
          "year": 1790
         },
         {
          "destination": "Harwich",
          "month": "07 Juillet",
          "nb_conge": 12,
          "year": 1790
         },
         {
          "destination": "Harwich",
          "month": "08 Août",
          "nb_conge": 4,
          "year": 1790
         },
         {
          "destination": "Harwich",
          "month": "09 Septembre",
          "nb_conge": 1,
          "year": 1790
         },
         {
          "destination": "Harwich",
          "month": "10 Octobre",
          "nb_conge": 1,
          "year": 1790
         },
         {
          "destination": "Burnsham",
          "month": "01 Janvier",
          "nb_conge": 4,
          "year": 1790
         },
         {
          "destination": "Burnsham",
          "month": "02 Février",
          "nb_conge": 2,
          "year": 1790
         },
         {
          "destination": "Burnsham",
          "month": "04 Avril",
          "nb_conge": 4,
          "year": 1790
         },
         {
          "destination": "Burnsham",
          "month": "05 Mai",
          "nb_conge": 3,
          "year": 1790
         },
         {
          "destination": "Burnsham",
          "month": "06 Juin",
          "nb_conge": 2,
          "year": 1790
         },
         {
          "destination": "Burnsham",
          "month": "07 Juillet",
          "nb_conge": 3,
          "year": 1790
         },
         {
          "destination": "Burnsham",
          "month": "08 Août",
          "nb_conge": 3,
          "year": 1790
         },
         {
          "destination": "Burnsham",
          "month": "09 Septembre",
          "nb_conge": 5,
          "year": 1790
         },
         {
          "destination": "Burnsham",
          "month": "10 Octobre",
          "nb_conge": 3,
          "year": 1790
         },
         {
          "destination": "Burnsham",
          "month": "11 Novembre",
          "nb_conge": 1,
          "year": 1790
         },
         {
          "destination": "Burnsham",
          "month": "12 Décembre",
          "nb_conge": 1,
          "year": 1790
         },
         {
          "destination": "Leigh",
          "month": "01 Janvier",
          "nb_conge": 2,
          "year": 1790
         },
         {
          "destination": "Leigh",
          "month": "02 Février",
          "nb_conge": 1,
          "year": 1790
         },
         {
          "destination": "Leigh",
          "month": " 03 Mars",
          "nb_conge": 1,
          "year": 1790
         },
         {
          "destination": "Leigh",
          "month": "04 Avril",
          "nb_conge": 2,
          "year": 1790
         },
         {
          "destination": "Leigh",
          "month": "05 Mai",
          "nb_conge": 3,
          "year": 1790
         },
         {
          "destination": "Leigh",
          "month": "06 Juin",
          "nb_conge": 5,
          "year": 1790
         },
         {
          "destination": "Leigh",
          "month": "07 Juillet",
          "nb_conge": 2,
          "year": 1790
         },
         {
          "destination": "Leigh",
          "month": "08 Août",
          "nb_conge": 3,
          "year": 1790
         },
         {
          "destination": "Leigh",
          "month": "09 Septembre",
          "nb_conge": 2,
          "year": 1790
         },
         {
          "destination": "Leigh",
          "month": "10 Octobre",
          "nb_conge": 2,
          "year": 1790
         },
         {
          "destination": "Leigh",
          "month": "11 Novembre",
          "nb_conge": 4,
          "year": 1790
         },
         {
          "destination": "Leigh",
          "month": "12 Décembre",
          "nb_conge": 3,
          "year": 1790
         },
         {
          "destination": "Rye",
          "month": "02 Février",
          "nb_conge": 3,
          "year": 1790
         },
         {
          "destination": "Rye",
          "month": " 03 Mars",
          "nb_conge": 1,
          "year": 1790
         },
         {
          "destination": "Rye",
          "month": "04 Avril",
          "nb_conge": 2,
          "year": 1790
         },
         {
          "destination": "Rye",
          "month": "05 Mai",
          "nb_conge": 2,
          "year": 1790
         },
         {
          "destination": "Rye",
          "month": "06 Juin",
          "nb_conge": 2,
          "year": 1790
         },
         {
          "destination": "Rye",
          "month": "07 Juillet",
          "nb_conge": 1,
          "year": 1790
         },
         {
          "destination": "Rye",
          "month": "08 Août",
          "nb_conge": 1,
          "year": 1790
         },
         {
          "destination": "Rye",
          "month": "09 Septembre",
          "nb_conge": 2,
          "year": 1790
         },
         {
          "destination": "Rye",
          "month": "11 Novembre",
          "nb_conge": 3,
          "year": 1790
         },
         {
          "destination": "Rye",
          "month": "12 Décembre",
          "nb_conge": 2,
          "year": 1790
         },
         {
          "destination": "Londres",
          "month": " 03 Mars",
          "nb_conge": 2,
          "year": 1790
         },
         {
          "destination": "Londres",
          "month": "04 Avril",
          "nb_conge": 2,
          "year": 1790
         },
         {
          "destination": "Londres",
          "month": "05 Mai",
          "nb_conge": 2,
          "year": 1790
         },
         {
          "destination": "Londres",
          "month": "06 Juin",
          "nb_conge": 2,
          "year": 1790
         },
         {
          "destination": "Londres",
          "month": "07 Juillet",
          "nb_conge": 5,
          "year": 1790
         },
         {
          "destination": "Londres",
          "month": "08 Août",
          "nb_conge": 2,
          "year": 1790
         },
         {
          "destination": "Dungeness",
          "month": "01 Janvier",
          "nb_conge": 2,
          "year": 1790
         },
         {
          "destination": "Dungeness",
          "month": "02 Février",
          "nb_conge": 1,
          "year": 1790
         },
         {
          "destination": "Dungeness",
          "month": "04 Avril",
          "nb_conge": 1,
          "year": 1790
         },
         {
          "destination": "Dungeness",
          "month": "05 Mai",
          "nb_conge": 1,
          "year": 1790
         },
         {
          "destination": "Dungeness",
          "month": "06 Juin",
          "nb_conge": 1,
          "year": 1790
         },
         {
          "destination": "Dungeness",
          "month": "07 Juillet",
          "nb_conge": 1,
          "year": 1790
         },
         {
          "destination": "Dungeness",
          "month": "08 Août",
          "nb_conge": 2,
          "year": 1790
         },
         {
          "destination": "Dungeness",
          "month": "09 Septembre",
          "nb_conge": 1,
          "year": 1790
         },
         {
          "destination": "Dungeness",
          "month": "10 Octobre",
          "nb_conge": 2,
          "year": 1790
         },
         {
          "destination": "Dungeness",
          "month": "12 Décembre",
          "nb_conge": 1,
          "year": 1790
         },
         {
          "destination": "Rochester",
          "month": "01 Janvier",
          "nb_conge": 1,
          "year": 1790
         },
         {
          "destination": "Rochester",
          "month": "02 Février",
          "nb_conge": 3,
          "year": 1790
         },
         {
          "destination": "Rochester",
          "month": " 03 Mars",
          "nb_conge": 4,
          "year": 1790
         },
         {
          "destination": "Rochester",
          "month": "07 Juillet",
          "nb_conge": 1,
          "year": 1790
         },
         {
          "destination": "Rochester",
          "month": "10 Octobre",
          "nb_conge": 2,
          "year": 1790
         },
         {
          "destination": "Yarmouth",
          "month": "01 Janvier",
          "nb_conge": 1,
          "year": 1790
         },
         {
          "destination": "Yarmouth",
          "month": " 03 Mars",
          "nb_conge": 1,
          "year": 1790
         },
         {
          "destination": "Yarmouth",
          "month": "06 Juin",
          "nb_conge": 1,
          "year": 1790
         },
         {
          "destination": "Yarmouth",
          "month": "07 Juillet",
          "nb_conge": 1,
          "year": 1790
         },
         {
          "destination": "Yarmouth",
          "month": "08 Août",
          "nb_conge": 1,
          "year": 1790
         },
         {
          "destination": "Yarmouth",
          "month": "09 Septembre",
          "nb_conge": 1,
          "year": 1790
         },
         {
          "destination": "Yarmouth",
          "month": "10 Octobre",
          "nb_conge": 3,
          "year": 1790
         },
         {
          "destination": "Yarmouth",
          "month": "12 Décembre",
          "nb_conge": 1,
          "year": 1790
         },
         {
          "destination": "Brightlansea",
          "month": "01 Janvier",
          "nb_conge": 3,
          "year": 1790
         },
         {
          "destination": "Brightlansea",
          "month": "02 Février",
          "nb_conge": 2,
          "year": 1790
         },
         {
          "destination": "Brightlansea",
          "month": " 03 Mars",
          "nb_conge": 2,
          "year": 1790
         },
         {
          "destination": "Brightlansea",
          "month": "04 Avril",
          "nb_conge": 1,
          "year": 1790
         },
         {
          "destination": "Brightlansea",
          "month": "05 Mai",
          "nb_conge": 2,
          "year": 1790
         },
         {
          "destination": "Margate",
          "month": "01 Janvier",
          "nb_conge": 2,
          "year": 1790
         },
         {
          "destination": "Margate",
          "month": " 03 Mars",
          "nb_conge": 1,
          "year": 1790
         },
         {
          "destination": "Margate",
          "month": "04 Avril",
          "nb_conge": 2,
          "year": 1790
         },
         {
          "destination": "Margate",
          "month": "05 Mai",
          "nb_conge": 1,
          "year": 1790
         },
         {
          "destination": "Margate",
          "month": "08 Août",
          "nb_conge": 1,
          "year": 1790
         },
         {
          "destination": "Margate",
          "month": "10 Octobre",
          "nb_conge": 1,
          "year": 1790
         },
         {
          "destination": "Margate",
          "month": "12 Décembre",
          "nb_conge": 1,
          "year": 1790
         },
         {
          "destination": "Lydd",
          "month": "02 Février",
          "nb_conge": 1,
          "year": 1790
         },
         {
          "destination": "Lydd",
          "month": "04 Avril",
          "nb_conge": 2,
          "year": 1790
         },
         {
          "destination": "Lydd",
          "month": "05 Mai",
          "nb_conge": 1,
          "year": 1790
         },
         {
          "destination": "Lydd",
          "month": "07 Juillet",
          "nb_conge": 2,
          "year": 1790
         },
         {
          "destination": "Pegwell",
          "month": "01 Janvier",
          "nb_conge": 1,
          "year": 1790
         },
         {
          "destination": "Pegwell",
          "month": "02 Février",
          "nb_conge": 1,
          "year": 1790
         },
         {
          "destination": "Pegwell",
          "month": " 03 Mars",
          "nb_conge": 1,
          "year": 1790
         },
         {
          "destination": "Pegwell",
          "month": "04 Avril",
          "nb_conge": 1,
          "year": 1790
         },
         {
          "destination": "Pegwell",
          "month": "06 Juin",
          "nb_conge": 1,
          "year": 1790
         },
         {
          "destination": "Pegwell",
          "month": "08 Août",
          "nb_conge": 1,
          "year": 1790
         },
         {
          "destination": "Wivenhoe",
          "month": "01 Janvier",
          "nb_conge": 2,
          "year": 1790
         },
         {
          "destination": "Wivenhoe",
          "month": "02 Février",
          "nb_conge": 1,
          "year": 1790
         },
         {
          "destination": "Wivenhoe",
          "month": " 03 Mars",
          "nb_conge": 2,
          "year": 1790
         },
         {
          "destination": "Wivenhoe",
          "month": "04 Avril",
          "nb_conge": 1,
          "year": 1790
         },
         {
          "destination": "Aberdeen",
          "month": "02 Février",
          "nb_conge": 1,
          "year": 1790
         },
         {
          "destination": "Aberdeen",
          "month": "05 Mai",
          "nb_conge": 1,
          "year": 1790
         },
         {
          "destination": "Aberdeen",
          "month": "07 Juillet",
          "nb_conge": 1,
          "year": 1790
         },
         {
          "destination": "Aberdeen",
          "month": "08 Août",
          "nb_conge": 1,
          "year": 1790
         },
         {
          "destination": "Aberdeen",
          "month": "10 Octobre",
          "nb_conge": 1,
          "year": 1790
         },
         {
          "destination": "Lynn",
          "month": "01 Janvier",
          "nb_conge": 1,
          "year": 1790
         },
         {
          "destination": "Lynn",
          "month": " 03 Mars",
          "nb_conge": 1,
          "year": 1790
         },
         {
          "destination": "Lynn",
          "month": "05 Mai",
          "nb_conge": 1,
          "year": 1790
         },
         {
          "destination": "Lynn",
          "month": "08 Août",
          "nb_conge": 1,
          "year": 1790
         },
         {
          "destination": "Milton",
          "month": "05 Mai",
          "nb_conge": 2,
          "year": 1790
         },
         {
          "destination": "Milton",
          "month": "08 Août",
          "nb_conge": 1,
          "year": 1790
         },
         {
          "destination": "Milton",
          "month": "11 Novembre",
          "nb_conge": 1,
          "year": 1790
         },
         {
          "destination": "Reculver",
          "month": "06 Juin",
          "nb_conge": 1,
          "year": 1790
         },
         {
          "destination": "Reculver",
          "month": "07 Juillet",
          "nb_conge": 1,
          "year": 1790
         },
         {
          "destination": "Reculver",
          "month": "09 Septembre",
          "nb_conge": 1,
          "year": 1790
         },
         {
          "destination": "Reculver",
          "month": "11 Novembre",
          "nb_conge": 1,
          "year": 1790
         },
         {
          "destination": "Woodbridge",
          "month": "04 Avril",
          "nb_conge": 2,
          "year": 1790
         },
         {
          "destination": "Woodbridge",
          "month": "05 Mai",
          "nb_conge": 2,
          "year": 1790
         },
         {
          "destination": "Chichester",
          "month": "11 Novembre",
          "nb_conge": 2,
          "year": 1790
         },
         {
          "destination": "Chichester",
          "month": "12 Décembre",
          "nb_conge": 1,
          "year": 1790
         },
         {
          "destination": "Dymchurch",
          "month": "02 Février",
          "nb_conge": 1,
          "year": 1790
         },
         {
          "destination": "Dymchurch",
          "month": "04 Avril",
          "nb_conge": 1,
          "year": 1790
         },
         {
          "destination": "Dymchurch",
          "month": "06 Juin",
          "nb_conge": 1,
          "year": 1790
         },
         {
          "destination": "Hythe",
          "month": "02 Février",
          "nb_conge": 1,
          "year": 1790
         },
         {
          "destination": "Hythe",
          "month": " 03 Mars",
          "nb_conge": 1,
          "year": 1790
         },
         {
          "destination": "Hythe",
          "month": "05 Mai",
          "nb_conge": 1,
          "year": 1790
         },
         {
          "destination": "Barking",
          "month": "01 Janvier",
          "nb_conge": 1,
          "year": 1790
         },
         {
          "destination": "Barking",
          "month": "08 Août",
          "nb_conge": 1,
          "year": 1790
         },
         {
          "destination": "Foy",
          "month": "04 Avril",
          "nb_conge": 1,
          "year": 1790
         },
         {
          "destination": "Foy",
          "month": "05 Mai",
          "nb_conge": 1,
          "year": 1790
         },
         {
          "destination": "Guerneze",
          "month": "04 Avril",
          "nb_conge": 1,
          "year": 1790
         },
         {
          "destination": "Guerneze",
          "month": "12 Décembre",
          "nb_conge": 1,
          "year": 1790
         },
         {
          "destination": "Greenwith",
          "month": "06 Juin",
          "nb_conge": 1,
          "year": 1790
         },
         {
          "destination": "Greenwith",
          "month": "07 Juillet",
          "nb_conge": 1,
          "year": 1790
         },
         {
          "destination": "Ipswich",
          "month": "06 Juin",
          "nb_conge": 2,
          "year": 1790
         },
         {
          "destination": "Southwold",
          "month": "06 Juin",
          "nb_conge": 2,
          "year": 1790
         },
         {
          "destination": "Blacwall",
          "month": "08 Août",
          "nb_conge": 2,
          "year": 1790
         },
         {
          "destination": "Eawsand & Chatham",
          "month": "01 Janvier",
          "nb_conge": 1,
          "year": 1790
         },
         {
          "destination": "Gravesand",
          "month": " 03 Mars",
          "nb_conge": 1,
          "year": 1790
         },
         {
          "destination": "Colmay-Falmouth",
          "month": "06 Juin",
          "nb_conge": 1,
          "year": 1790
         },
         {
          "destination": "Langley-Ramsay",
          "month": "07 Juillet",
          "nb_conge": 1,
          "year": 1790
         },
         {
          "destination": "Winchelsea",
          "month": "08 Août",
          "nb_conge": 1,
          "year": 1790
         },
         {
          "destination": "Cowes",
          "month": "09 Septembre",
          "nb_conge": 1,
          "year": 1790
         },
         {
          "destination": "Leith",
          "month": "10 Octobre",
          "nb_conge": 1,
          "year": 1790
         },
         {
          "destination": "Seasalter",
          "month": "11 Novembre",
          "nb_conge": 1,
          "year": 1790
         },
         {
          "destination": "Portsmouth",
          "month": "12 Décembre",
          "nb_conge": 1,
          "year": 1790
         },
         {
          "destination": "Deal",
          "month": "01 Janvier",
          "nb_conge": 12,
          "year": 1781
         },
         {
          "destination": "Deal",
          "month": "02 Février",
          "nb_conge": 8,
          "year": 1781
         },
         {
          "destination": "Deal",
          "month": " 03 Mars",
          "nb_conge": 11,
          "year": 1781
         },
         {
          "destination": "Deal",
          "month": "04 Avril",
          "nb_conge": 20,
          "year": 1781
         },
         {
          "destination": "Deal",
          "month": "05 Mai",
          "nb_conge": 9,
          "year": 1781
         },
         {
          "destination": "Deal",
          "month": "06 Juin",
          "nb_conge": 15,
          "year": 1781
         },
         {
          "destination": "Deal",
          "month": "07 Juillet",
          "nb_conge": 24,
          "year": 1781
         },
         {
          "destination": "Deal",
          "month": "08 Août",
          "nb_conge": 14,
          "year": 1781
         },
         {
          "destination": "Deal",
          "month": "09 Septembre",
          "nb_conge": 18,
          "year": 1781
         },
         {
          "destination": "Deal",
          "month": "10 Octobre",
          "nb_conge": 13,
          "year": 1781
         },
         {
          "destination": "Deal",
          "month": "11 Novembre",
          "nb_conge": 18,
          "year": 1781
         },
         {
          "destination": "Deal",
          "month": "12 Décembre",
          "nb_conge": 15,
          "year": 1781
         },
         {
          "destination": "Folkstone",
          "month": "01 Janvier",
          "nb_conge": 10,
          "year": 1781
         },
         {
          "destination": "Folkstone",
          "month": "02 Février",
          "nb_conge": 3,
          "year": 1781
         },
         {
          "destination": "Folkstone",
          "month": " 03 Mars",
          "nb_conge": 8,
          "year": 1781
         },
         {
          "destination": "Folkstone",
          "month": "04 Avril",
          "nb_conge": 7,
          "year": 1781
         },
         {
          "destination": "Folkstone",
          "month": "05 Mai",
          "nb_conge": 9,
          "year": 1781
         },
         {
          "destination": "Folkstone",
          "month": "06 Juin",
          "nb_conge": 5,
          "year": 1781
         },
         {
          "destination": "Folkstone",
          "month": "07 Juillet",
          "nb_conge": 14,
          "year": 1781
         },
         {
          "destination": "Folkstone",
          "month": "08 Août",
          "nb_conge": 4,
          "year": 1781
         },
         {
          "destination": "Folkstone",
          "month": "09 Septembre",
          "nb_conge": 8,
          "year": 1781
         },
         {
          "destination": "Folkstone",
          "month": "10 Octobre",
          "nb_conge": 5,
          "year": 1781
         },
         {
          "destination": "Folkstone",
          "month": "11 Novembre",
          "nb_conge": 3,
          "year": 1781
         },
         {
          "destination": "Folkstone",
          "month": "12 Décembre",
          "nb_conge": 5,
          "year": 1781
         },
         {
          "destination": "Margate",
          "month": "01 Janvier",
          "nb_conge": 6,
          "year": 1781
         },
         {
          "destination": "Margate",
          "month": "02 Février",
          "nb_conge": 3,
          "year": 1781
         },
         {
          "destination": "Margate",
          "month": " 03 Mars",
          "nb_conge": 12,
          "year": 1781
         },
         {
          "destination": "Margate",
          "month": "04 Avril",
          "nb_conge": 8,
          "year": 1781
         },
         {
          "destination": "Margate",
          "month": "05 Mai",
          "nb_conge": 2,
          "year": 1781
         },
         {
          "destination": "Margate",
          "month": "06 Juin",
          "nb_conge": 5,
          "year": 1781
         },
         {
          "destination": "Margate",
          "month": "07 Juillet",
          "nb_conge": 10,
          "year": 1781
         },
         {
          "destination": "Margate",
          "month": "08 Août",
          "nb_conge": 7,
          "year": 1781
         },
         {
          "destination": "Margate",
          "month": "09 Septembre",
          "nb_conge": 6,
          "year": 1781
         },
         {
          "destination": "Margate",
          "month": "10 Octobre",
          "nb_conge": 10,
          "year": 1781
         },
         {
          "destination": "Margate",
          "month": "11 Novembre",
          "nb_conge": 6,
          "year": 1781
         },
         {
          "destination": "Margate",
          "month": "12 Décembre",
          "nb_conge": 4,
          "year": 1781
         },
         {
          "destination": "Chatham",
          "month": "01 Janvier",
          "nb_conge": 11,
          "year": 1781
         },
         {
          "destination": "Chatham",
          "month": "02 Février",
          "nb_conge": 5,
          "year": 1781
         },
         {
          "destination": "Chatham",
          "month": " 03 Mars",
          "nb_conge": 4,
          "year": 1781
         },
         {
          "destination": "Chatham",
          "month": "04 Avril",
          "nb_conge": 5,
          "year": 1781
         },
         {
          "destination": "Chatham",
          "month": "05 Mai",
          "nb_conge": 2,
          "year": 1781
         },
         {
          "destination": "Chatham",
          "month": "07 Juillet",
          "nb_conge": 1,
          "year": 1781
         },
         {
          "destination": "Chatham",
          "month": "08 Août",
          "nb_conge": 3,
          "year": 1781
         },
         {
          "destination": "Chatham",
          "month": "09 Septembre",
          "nb_conge": 9,
          "year": 1781
         },
         {
          "destination": "Chatham",
          "month": "10 Octobre",
          "nb_conge": 6,
          "year": 1781
         },
         {
          "destination": "Chatham",
          "month": "11 Novembre",
          "nb_conge": 4,
          "year": 1781
         },
         {
          "destination": "Chatham",
          "month": "12 Décembre",
          "nb_conge": 6,
          "year": 1781
         },
         {
          "destination": "Colchester",
          "month": "01 Janvier",
          "nb_conge": 5,
          "year": 1781
         },
         {
          "destination": "Colchester",
          "month": "02 Février",
          "nb_conge": 4,
          "year": 1781
         },
         {
          "destination": "Colchester",
          "month": " 03 Mars",
          "nb_conge": 2,
          "year": 1781
         },
         {
          "destination": "Colchester",
          "month": "04 Avril",
          "nb_conge": 5,
          "year": 1781
         },
         {
          "destination": "Colchester",
          "month": "06 Juin",
          "nb_conge": 3,
          "year": 1781
         },
         {
          "destination": "Colchester",
          "month": "07 Juillet",
          "nb_conge": 3,
          "year": 1781
         },
         {
          "destination": "Colchester",
          "month": "08 Août",
          "nb_conge": 4,
          "year": 1781
         },
         {
          "destination": "Colchester",
          "month": "09 Septembre",
          "nb_conge": 2,
          "year": 1781
         },
         {
          "destination": "Colchester",
          "month": "10 Octobre",
          "nb_conge": 6,
          "year": 1781
         },
         {
          "destination": "Colchester",
          "month": "11 Novembre",
          "nb_conge": 3,
          "year": 1781
         },
         {
          "destination": "Colchester",
          "month": "12 Décembre",
          "nb_conge": 4,
          "year": 1781
         },
         {
          "destination": "Hasting",
          "month": "01 Janvier",
          "nb_conge": 2,
          "year": 1781
         },
         {
          "destination": "Hasting",
          "month": "02 Février",
          "nb_conge": 2,
          "year": 1781
         },
         {
          "destination": "Hasting",
          "month": " 03 Mars",
          "nb_conge": 5,
          "year": 1781
         },
         {
          "destination": "Hasting",
          "month": "04 Avril",
          "nb_conge": 4,
          "year": 1781
         },
         {
          "destination": "Hasting",
          "month": "05 Mai",
          "nb_conge": 4,
          "year": 1781
         },
         {
          "destination": "Hasting",
          "month": "06 Juin",
          "nb_conge": 9,
          "year": 1781
         },
         {
          "destination": "Hasting",
          "month": "07 Juillet",
          "nb_conge": 4,
          "year": 1781
         },
         {
          "destination": "Hasting",
          "month": "08 Août",
          "nb_conge": 3,
          "year": 1781
         },
         {
          "destination": "Hasting",
          "month": "09 Septembre",
          "nb_conge": 2,
          "year": 1781
         },
         {
          "destination": "Hasting",
          "month": "10 Octobre",
          "nb_conge": 2,
          "year": 1781
         },
         {
          "destination": "Hasting",
          "month": "11 Novembre",
          "nb_conge": 2,
          "year": 1781
         },
         {
          "destination": "Hasting",
          "month": "12 Décembre",
          "nb_conge": 3,
          "year": 1781
         },
         {
          "destination": "Burnham",
          "month": "01 Janvier",
          "nb_conge": 2,
          "year": 1781
         },
         {
          "destination": "Burnham",
          "month": "02 Février",
          "nb_conge": 4,
          "year": 1781
         },
         {
          "destination": "Burnham",
          "month": " 03 Mars",
          "nb_conge": 2,
          "year": 1781
         },
         {
          "destination": "Burnham",
          "month": "04 Avril",
          "nb_conge": 2,
          "year": 1781
         },
         {
          "destination": "Burnham",
          "month": "05 Mai",
          "nb_conge": 1,
          "year": 1781
         },
         {
          "destination": "Burnham",
          "month": "06 Juin",
          "nb_conge": 2,
          "year": 1781
         },
         {
          "destination": "Burnham",
          "month": "09 Septembre",
          "nb_conge": 3,
          "year": 1781
         },
         {
          "destination": "Burnham",
          "month": "10 Octobre",
          "nb_conge": 3,
          "year": 1781
         },
         {
          "destination": "Burnham",
          "month": "11 Novembre",
          "nb_conge": 5,
          "year": 1781
         },
         {
          "destination": "Burnham",
          "month": "12 Décembre",
          "nb_conge": 3,
          "year": 1781
         },
         {
          "destination": "Whistable",
          "month": "02 Février",
          "nb_conge": 2,
          "year": 1781
         },
         {
          "destination": "Whistable",
          "month": "04 Avril",
          "nb_conge": 1,
          "year": 1781
         },
         {
          "destination": "Whistable",
          "month": "06 Juin",
          "nb_conge": 3,
          "year": 1781
         },
         {
          "destination": "Whistable",
          "month": "07 Juillet",
          "nb_conge": 2,
          "year": 1781
         },
         {
          "destination": "Whistable",
          "month": "08 Août",
          "nb_conge": 2,
          "year": 1781
         },
         {
          "destination": "Lydd",
          "month": "01 Janvier",
          "nb_conge": 1,
          "year": 1781
         },
         {
          "destination": "Lydd",
          "month": "02 Février",
          "nb_conge": 1,
          "year": 1781
         },
         {
          "destination": "Lydd",
          "month": " 03 Mars",
          "nb_conge": 1,
          "year": 1781
         },
         {
          "destination": "Lydd",
          "month": "07 Juillet",
          "nb_conge": 1,
          "year": 1781
         },
         {
          "destination": "Lydd",
          "month": "08 Août",
          "nb_conge": 2,
          "year": 1781
         },
         {
          "destination": "Lydd",
          "month": "09 Septembre",
          "nb_conge": 2,
          "year": 1781
         },
         {
          "destination": "Harwich",
          "month": " 03 Mars",
          "nb_conge": 1,
          "year": 1781
         },
         {
          "destination": "Harwich",
          "month": "09 Septembre",
          "nb_conge": 1,
          "year": 1781
         },
         {
          "destination": "Harwich",
          "month": "10 Octobre",
          "nb_conge": 3,
          "year": 1781
         },
         {
          "destination": "Harwich",
          "month": "11 Novembre",
          "nb_conge": 2,
          "year": 1781
         },
         {
          "destination": "Harwich",
          "month": "12 Décembre",
          "nb_conge": 3,
          "year": 1781
         },
         {
          "destination": "Douvres",
          "month": "05 Mai",
          "nb_conge": 1,
          "year": 1781
         },
         {
          "destination": "Douvres",
          "month": "06 Juin",
          "nb_conge": 1,
          "year": 1781
         },
         {
          "destination": "Douvres",
          "month": "10 Octobre",
          "nb_conge": 2,
          "year": 1781
         },
         {
          "destination": "Douvres",
          "month": "11 Novembre",
          "nb_conge": 1,
          "year": 1781
         },
         {
          "destination": "Douvres",
          "month": "12 Décembre",
          "nb_conge": 2,
          "year": 1781
         },
         {
          "destination": "Dungeness",
          "month": "01 Janvier",
          "nb_conge": 1,
          "year": 1781
         },
         {
          "destination": "Dungeness",
          "month": " 03 Mars",
          "nb_conge": 1,
          "year": 1781
         },
         {
          "destination": "Dungeness",
          "month": "04 Avril",
          "nb_conge": 1,
          "year": 1781
         },
         {
          "destination": "Dungeness",
          "month": "08 Août",
          "nb_conge": 1,
          "year": 1781
         },
         {
          "destination": "Dungeness",
          "month": "10 Octobre",
          "nb_conge": 1,
          "year": 1781
         },
         {
          "destination": "Sandgate",
          "month": "01 Janvier",
          "nb_conge": 3,
          "year": 1781
         },
         {
          "destination": "Sandgate",
          "month": " 03 Mars",
          "nb_conge": 1,
          "year": 1781
         },
         {
          "destination": "Brightlandsea",
          "month": "09 Septembre",
          "nb_conge": 1,
          "year": 1781
         },
         {
          "destination": "Brightlandsea",
          "month": "10 Octobre",
          "nb_conge": 1,
          "year": 1781
         },
         {
          "destination": "Brightlandsea",
          "month": "11 Novembre",
          "nb_conge": 1,
          "year": 1781
         },
         {
          "destination": "Brightlandsea",
          "month": "12 Décembre",
          "nb_conge": 1,
          "year": 1781
         },
         {
          "destination": "Ispwich",
          "month": "01 Janvier",
          "nb_conge": 1,
          "year": 1781
         },
         {
          "destination": "Ispwich",
          "month": "02 Février",
          "nb_conge": 1,
          "year": 1781
         },
         {
          "destination": "Ispwich",
          "month": "08 Août",
          "nb_conge": 1,
          "year": 1781
         },
         {
          "destination": "Pegwell",
          "month": "04 Avril",
          "nb_conge": 1,
          "year": 1781
         },
         {
          "destination": "Pegwell",
          "month": "10 Octobre",
          "nb_conge": 1,
          "year": 1781
         },
         {
          "destination": "Pegwell",
          "month": "11 Novembre",
          "nb_conge": 1,
          "year": 1781
         },
         {
          "destination": "Liestaff",
          "month": "05 Mai",
          "nb_conge": 1,
          "year": 1781
         },
         {
          "destination": "Liestaff",
          "month": "06 Juin",
          "nb_conge": 2,
          "year": 1781
         },
         {
          "destination": "Leith",
          "month": "02 Février",
          "nb_conge": 2,
          "year": 1781
         },
         {
          "destination": "Woodbridge",
          "month": " 03 Mars",
          "nb_conge": 1,
          "year": 1781
         },
         {
          "destination": "Woodbridge",
          "month": "04 Avril",
          "nb_conge": 1,
          "year": 1781
         },
         {
          "destination": "Bradwell",
          "month": "02 Février",
          "nb_conge": 1,
          "year": 1781
         },
         {
          "destination": "Bradwell",
          "month": "06 Juin",
          "nb_conge": 1,
          "year": 1781
         },
         {
          "destination": "Hanson",
          "month": "01 Janvier",
          "nb_conge": 1,
          "year": 1781
         },
         {
          "destination": "Stroud",
          "month": "02 Février",
          "nb_conge": 1,
          "year": 1781
         },
         {
          "destination": "Walding",
          "month": "02 Février",
          "nb_conge": 1,
          "year": 1781
         },
         {
          "destination": "Londres",
          "month": "02 Février",
          "nb_conge": 1,
          "year": 1781
         },
         {
          "destination": "Norwich",
          "month": " 03 Mars",
          "nb_conge": 1,
          "year": 1781
         },
         {
          "destination": "Harwich",
          "month": " 03 Mars",
          "nb_conge": 1,
          "year": 1781
         },
         {
          "destination": "Budleigh Salterton",
          "month": "04 Avril",
          "nb_conge": 1,
          "year": 1781
         },
         {
          "destination": "Essex",
          "month": "05 Mai",
          "nb_conge": 1,
          "year": 1781
         },
         {
          "destination": "Christchurch",
          "month": "05 Mai",
          "nb_conge": 1,
          "year": 1781
         },
         {
          "destination": "Yarmouth",
          "month": "07 Juillet",
          "nb_conge": 1,
          "year": 1781
         },
         {
          "destination": "Rye",
          "month": "08 Août",
          "nb_conge": 1,
          "year": 1781
         },
         {
          "destination": "Leigh",
          "month": "09 Septembre",
          "nb_conge": 1,
          "year": 1781
         },
         {
          "destination": "Rochester",
          "month": "09 Septembre",
          "nb_conge": 1,
          "year": 1781
         },
         {
          "destination": "Topsham",
          "month": "09 Septembre",
          "nb_conge": 1,
          "year": 1781
         },
         {
          "destination": "Holy Island",
          "month": "11 Novembre",
          "nb_conge": 1,
          "year": 1781
         }
        ]
       },
       "encoding": {
        "color": {
         "field": "nb_conge_sum",
         "title": "nombre de congé",
         "type": "quantitative"
        },
        "x": {
         "field": "month",
         "sort": "asc",
         "title": "Mois",
         "type": "ordinal"
        },
        "y": {
         "field": "destination",
         "title": "Destination",
         "type": "ordinal"
        }
       },
       "mark": {
        "tooltip": {
         "content": "data"
        },
        "type": "rect"
       },
       "title": "Nombre de congés par mois en 1781 et 1790 cumulés",
       "transform": [
        {
         "aggregate": [
          {
           "as": "nb_conge_sum",
           "field": "nb_conge",
           "op": "sum"
          }
         ],
         "groupby": [
          "destination",
          "month"
         ]
        }
       ]
      },
      "image/png": "[encoded data removed]"
     },
     "metadata": {},
     "output_type": "display_data"
    }
   ],
   "source": [
    "VegaLite({\n",
    "  \"title\": \"Nombre de congés par mois en 1781 et 1790 cumulés\",\n",
    "  \"data\": { \"values\": destination_month_destination},\n",
    "\n",
    "\n",
    "  \"transform\": [\n",
    "    {\n",
    "      \"aggregate\": [{\n",
    "       \"op\": \"sum\",\n",
    "       \"field\": \"nb_conge\",\n",
    "       \"as\": \"nb_conge_sum\"\n",
    "      }],\n",
    "      \"groupby\": [\"destination\", \"month\"]\n",
    "    }\n",
    "  ],\n",
    "  \"mark\": {\"type\":\"rect\", \"tooltip\": {\"content\": \"data\"}},\n",
    "  \"encoding\": {\n",
    "    \"x\": {\n",
    "      \"field\": \"month\",\n",
    "      \"title\": \"Mois\",\n",
    "      \"type\": \"ordinal\",\n",
    "\n",
    "      \"sort\": \"asc\"\n",
    "    },\n",
    "    \"y\": {\n",
    "      \"title\": \"Destination\",\n",
    "      \"field\":\"destination\",\n",
    "      \"type\": \"ordinal\"\n",
    "      \n",
    "    },\n",
    "    \"color\": {\n",
    "      \"field\": \"nb_conge_sum\",\n",
    "      \"title\": \"nombre de congé\",\n",
    "      \"type\": \"quantitative\"\n",
    "    }\n",
    "  },\n",
    "  \"config\": {\n",
    "    \"view\": {\n",
    "      \"stroke\": \"transparent\"\n",
    "    }\n",
    "  }\n",
    "})\n",
    "\n"
   ]
  },
  {
   "cell_type": "code",
   "execution_count": null,
   "metadata": {},
   "outputs": [],
   "source": []
  }
 ],
 "metadata": {
  "interpreter": {
   "hash": "7fd56481080b6f2d77c1db892aa37ef74bede8a62eee1c365a751334add42b5a"
  },
  "kernelspec": {
   "display_name": "Python 3 (ipykernel)",
   "language": "python",
   "name": "python3"
  },
  "language_info": {
   "codemirror_mode": {
    "name": "ipython",
    "version": 3
   },
   "file_extension": ".py",
   "mimetype": "text/x-python",
   "name": "python",
   "nbconvert_exporter": "python",
   "pygments_lexer": "ipython3",
   "version": "3.8.0"
  }
 },
 "nbformat": 4,
 "nbformat_minor": 4
}
