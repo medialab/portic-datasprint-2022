{
 "cells": [
  {
   "cell_type": "markdown",
   "id": "b6cf2668-c4a3-4131-9388-135cc8eefbf5",
   "metadata": {},
   "source": [
    "# Exploration du commerce de Dunkerque"
   ]
  },
  {
   "cell_type": "code",
   "execution_count": 34,
   "id": "93e252f4-f35c-42bc-8122-ad4228896dfa",
   "metadata": {},
   "outputs": [],
   "source": [
    "import csv\n",
    "import json\n",
    "import pandas as pd\n",
    "import numpy as np\n",
    "from os.path import join\n",
    "from collections import Counter\n",
    "from dunkerquesprint import get_online_csv"
   ]
  },
  {
   "cell_type": "code",
   "execution_count": 2,
   "id": "077eba23-fe4e-40bc-afd8-1ae5e4707169",
   "metadata": {},
   "outputs": [],
   "source": [
    "DUNKERQUE_UHGS_ID = 'A0204180'"
   ]
  },
  {
   "cell_type": "markdown",
   "id": "61fe7090-b30f-4f6a-8fc1-dc6ac0de0f6b",
   "metadata": {},
   "source": [
    "## Chargement des données Navigo"
   ]
  },
  {
   "cell_type": "code",
   "execution_count": 3,
   "id": "ad07da5a-4846-46ac-9677-1d6d38393619",
   "metadata": {},
   "outputs": [
    {
     "data": {
      "text/plain": [
       "5219"
      ]
     },
     "execution_count": 3,
     "metadata": {},
     "output_type": "execute_result"
    }
   ],
   "source": [
    "NAVIGO = []\n",
    "\n",
    "def filter_row(row):\n",
    "    return row['destination_uhgs_id'] == DUNKERQUE_UHGS_ID or row['departure_uhgs_id'] == DUNKERQUE_UHGS_ID\n",
    "\n",
    "navigo_source_files = [\n",
    "    'navigo_all_flows_1787.csv',\n",
    "    'navigo_all_flows_1789.csv'\n",
    "]\n",
    "\n",
    "for source_file in navigo_source_files:\n",
    "    with open(join('../../data', source_file), encoding='utf8') as f:\n",
    "        for row in csv.DictReader(f):\n",
    "            if filter_row(row):\n",
    "                NAVIGO.append(row)\n",
    "                \n",
    "            # Parsing cargo\n",
    "            if row['all_cargos']:\n",
    "                row['cargo'] = [c['commodity_purpose'] for c in eval(row['all_cargos'])]\n",
    "            else:\n",
    "                row['cargo'] = []\n",
    "\n",
    "len(NAVIGO)"
   ]
  },
  {
   "cell_type": "code",
   "execution_count": 4,
   "id": "97ee8faf-3689-48b6-9370-8580d506769a",
   "metadata": {},
   "outputs": [],
   "source": [
    "COMMODITIES_TO_DUNKERQUE = Counter()\n",
    "COMMODITIES_FROM_DUNKERQUE = Counter()\n",
    "\n",
    "for row in NAVIGO:    \n",
    "    for commodity in row['cargo']:\n",
    "        target = COMMODITIES_TO_DUNKERQUE if row['destination_uhgs_id'] == DUNKERQUE_UHGS_ID else COMMODITIES_FROM_DUNKERQUE\n",
    "        target[commodity] += 1"
   ]
  },
  {
   "cell_type": "code",
   "execution_count": 5,
   "id": "271a1ba5-737a-4e8c-bdf7-ee42668936f3",
   "metadata": {},
   "outputs": [
    {
     "data": {
      "text/plain": [
       "[('sel', 157),\n",
       " ('Sel', 94),\n",
       " ('Vin', 56),\n",
       " ('Sucre', 13),\n",
       " ('Autres', 8),\n",
       " ('Lest', 8),\n",
       " ('Café', 8),\n",
       " ('Autres marchandises', 7),\n",
       " ('Barriques vides', 7),\n",
       " ('Eau de vie', 6)]"
      ]
     },
     "execution_count": 5,
     "metadata": {},
     "output_type": "execute_result"
    }
   ],
   "source": [
    "COMMODITIES_TO_DUNKERQUE.most_common(10)"
   ]
  },
  {
   "cell_type": "code",
   "execution_count": 6,
   "id": "02cca96d-3cc8-41b7-be50-d7110a352078",
   "metadata": {},
   "outputs": [
    {
     "data": {
      "text/plain": [
       "[('Lège', 2437),\n",
       " ('Etc.', 879),\n",
       " ('Genevre', 802),\n",
       " ('Autres marchandises', 185),\n",
       " ('genevre', 137),\n",
       " ('Sucre', 122),\n",
       " ('Eau de vie', 98),\n",
       " ('Tabac', 94),\n",
       " ('autres marchandises', 67),\n",
       " ('faire la pêche', 62)]"
      ]
     },
     "execution_count": 6,
     "metadata": {},
     "output_type": "execute_result"
    }
   ],
   "source": [
    "COMMODITIES_FROM_DUNKERQUE.most_common(10)"
   ]
  },
  {
   "cell_type": "markdown",
   "id": "23d2cb63-1749-4598-a6a3-cbcdb462655d",
   "metadata": {},
   "source": [
    "## Données de pêche"
   ]
  },
  {
   "cell_type": "code",
   "execution_count": 58,
   "id": "069c0807-3b2f-4b8e-9cc2-44b3003c6cf5",
   "metadata": {},
   "outputs": [],
   "source": [
    "PECHE_DATA = get_online_csv('https://docs.google.com/spreadsheets/d/e/2PACX-1vSRy3fIKwWXSRg4QI_A9sQRNmWKnsNSA-TpgMenVz0twxfRmJGiFKN8Q8VSpBwxNw/pub?gid=351410703&single=true&output=csv')\n",
    "\n",
    "for row in PECHE_DATA:\n",
    "    for k, v in row.items():\n",
    "        row[k] = int(v) if v else 0"
   ]
  },
  {
   "cell_type": "code",
   "execution_count": 70,
   "id": "ffbe06f8-ce64-4d1d-97e1-e4ecdd1afcb6",
   "metadata": {},
   "outputs": [
    {
     "data": {
      "text/html": [
       "<div>\n",
       "<style scoped>\n",
       "    .dataframe tbody tr th:only-of-type {\n",
       "        vertical-align: middle;\n",
       "    }\n",
       "\n",
       "    .dataframe tbody tr th {\n",
       "        vertical-align: top;\n",
       "    }\n",
       "\n",
       "    .dataframe thead th {\n",
       "        text-align: right;\n",
       "    }\n",
       "</style>\n",
       "<table border=\"1\" class=\"dataframe\">\n",
       "  <thead>\n",
       "    <tr style=\"text-align: right;\">\n",
       "      <th></th>\n",
       "      <th>Année</th>\n",
       "      <th>Islande</th>\n",
       "      <th>Hitlande</th>\n",
       "      <th>Hareng</th>\n",
       "      <th>Terre-Neuve</th>\n",
       "      <th>Dogre Banc</th>\n",
       "    </tr>\n",
       "  </thead>\n",
       "  <tbody>\n",
       "    <tr>\n",
       "      <th>0</th>\n",
       "      <td>1763</td>\n",
       "      <td>81891</td>\n",
       "      <td>64269</td>\n",
       "      <td>355800</td>\n",
       "      <td>0</td>\n",
       "      <td>0</td>\n",
       "    </tr>\n",
       "    <tr>\n",
       "      <th>1</th>\n",
       "      <td>1764</td>\n",
       "      <td>214218</td>\n",
       "      <td>81549</td>\n",
       "      <td>480560</td>\n",
       "      <td>0</td>\n",
       "      <td>0</td>\n",
       "    </tr>\n",
       "    <tr>\n",
       "      <th>2</th>\n",
       "      <td>1765</td>\n",
       "      <td>411990</td>\n",
       "      <td>91178</td>\n",
       "      <td>361658</td>\n",
       "      <td>0</td>\n",
       "      <td>0</td>\n",
       "    </tr>\n",
       "    <tr>\n",
       "      <th>3</th>\n",
       "      <td>1766</td>\n",
       "      <td>515301</td>\n",
       "      <td>49516</td>\n",
       "      <td>205002</td>\n",
       "      <td>0</td>\n",
       "      <td>0</td>\n",
       "    </tr>\n",
       "    <tr>\n",
       "      <th>4</th>\n",
       "      <td>1767</td>\n",
       "      <td>470314</td>\n",
       "      <td>67666</td>\n",
       "      <td>373652</td>\n",
       "      <td>0</td>\n",
       "      <td>0</td>\n",
       "    </tr>\n",
       "    <tr>\n",
       "      <th>5</th>\n",
       "      <td>1768</td>\n",
       "      <td>496928</td>\n",
       "      <td>71727</td>\n",
       "      <td>201899</td>\n",
       "      <td>0</td>\n",
       "      <td>0</td>\n",
       "    </tr>\n",
       "    <tr>\n",
       "      <th>6</th>\n",
       "      <td>1769</td>\n",
       "      <td>547641</td>\n",
       "      <td>96073</td>\n",
       "      <td>179246</td>\n",
       "      <td>0</td>\n",
       "      <td>0</td>\n",
       "    </tr>\n",
       "    <tr>\n",
       "      <th>7</th>\n",
       "      <td>1770</td>\n",
       "      <td>589933</td>\n",
       "      <td>68194</td>\n",
       "      <td>164453</td>\n",
       "      <td>72563</td>\n",
       "      <td>6636</td>\n",
       "    </tr>\n",
       "    <tr>\n",
       "      <th>8</th>\n",
       "      <td>1771</td>\n",
       "      <td>541443</td>\n",
       "      <td>60004</td>\n",
       "      <td>84318</td>\n",
       "      <td>106543</td>\n",
       "      <td>3240</td>\n",
       "    </tr>\n",
       "    <tr>\n",
       "      <th>9</th>\n",
       "      <td>1772</td>\n",
       "      <td>622111</td>\n",
       "      <td>67587</td>\n",
       "      <td>102971</td>\n",
       "      <td>45515</td>\n",
       "      <td>0</td>\n",
       "    </tr>\n",
       "  </tbody>\n",
       "</table>\n",
       "</div>"
      ],
      "text/plain": [
       "   Année  Islande  Hitlande  Hareng  Terre-Neuve  Dogre Banc\n",
       "0   1763    81891     64269  355800            0           0\n",
       "1   1764   214218     81549  480560            0           0\n",
       "2   1765   411990     91178  361658            0           0\n",
       "3   1766   515301     49516  205002            0           0\n",
       "4   1767   470314     67666  373652            0           0\n",
       "5   1768   496928     71727  201899            0           0\n",
       "6   1769   547641     96073  179246            0           0\n",
       "7   1770   589933     68194  164453        72563        6636\n",
       "8   1771   541443     60004   84318       106543        3240\n",
       "9   1772   622111     67587  102971        45515           0"
      ]
     },
     "execution_count": 70,
     "metadata": {},
     "output_type": "execute_result"
    }
   ],
   "source": [
    "df_peche = pd.DataFrame(data=PECHE_DATA)\n",
    "df_peche.head(10)"
   ]
  },
  {
   "cell_type": "code",
   "execution_count": 71,
   "id": "aedb7d70-b0eb-45b8-94f5-70ee1d537cb6",
   "metadata": {},
   "outputs": [
    {
     "data": {
      "text/plain": [
       "<AxesSubplot:xlabel='Année'>"
      ]
     },
     "execution_count": 71,
     "metadata": {},
     "output_type": "execute_result"
    },
    {
     "data": {
      "image/png": "[encoded data removed]",
      "text/plain": [
       "<Figure size 1080x576 with 1 Axes>"
      ]
     },
     "metadata": {
      "needs_background": "light"
     },
     "output_type": "display_data"
    }
   ],
   "source": [
    "df_peche.plot.line(figsize=(15, 8), x='Année')"
   ]
  }
 ],
 "metadata": {
  "kernelspec": {
   "display_name": "Python 3 (ipykernel)",
   "language": "python",
   "name": "python3"
  },
  "language_info": {
   "codemirror_mode": {
    "name": "ipython",
    "version": 3
   },
   "file_extension": ".py",
   "mimetype": "text/x-python",
   "name": "python",
   "nbconvert_exporter": "python",
   "pygments_lexer": "ipython3",
   "version": "3.8.5"
  }
 },
 "nbformat": 4,
 "nbformat_minor": 5
}
