{
 "cells": [
  {
   "cell_type": "markdown",
   "id": "b6cf2668-c4a3-4131-9388-135cc8eefbf5",
   "metadata": {},
   "source": [
    "# Exploration du commerce de Dunkerque"
   ]
  },
  {
   "cell_type": "code",
   "execution_count": 15,
   "id": "93e252f4-f35c-42bc-8122-ad4228896dfa",
   "metadata": {},
   "outputs": [],
   "source": [
    "import csv\n",
    "import json\n",
    "from os.path import join\n",
    "from collections import Counter"
   ]
  },
  {
   "cell_type": "code",
   "execution_count": 3,
   "id": "077eba23-fe4e-40bc-afd8-1ae5e4707169",
   "metadata": {},
   "outputs": [],
   "source": [
    "DUNKERQUE_UHGS_ID = 'A0204180'"
   ]
  },
  {
   "cell_type": "markdown",
   "id": "61fe7090-b30f-4f6a-8fc1-dc6ac0de0f6b",
   "metadata": {},
   "source": [
    "## Chargement des différentes sources de données disponibles"
   ]
  },
  {
   "cell_type": "code",
   "execution_count": 39,
   "id": "ad07da5a-4846-46ac-9677-1d6d38393619",
   "metadata": {},
   "outputs": [
    {
     "data": {
      "text/plain": [
       "5219"
      ]
     },
     "execution_count": 39,
     "metadata": {},
     "output_type": "execute_result"
    }
   ],
   "source": [
    "NAVIGO = []\n",
    "\n",
    "def filter_row(row):\n",
    "    return row['destination_uhgs_id'] == DUNKERQUE_UHGS_ID or row['departure_uhgs_id'] == DUNKERQUE_UHGS_ID\n",
    "\n",
    "navigo_source_files = [\n",
    "    'navigo_all_flows_1787.csv',\n",
    "    'navigo_all_flows_1789.csv'\n",
    "]\n",
    "\n",
    "for source_file in navigo_source_files:\n",
    "    with open(join('../../data', source_file), encoding='utf8') as f:\n",
    "        for row in csv.DictReader(f):\n",
    "            if filter_row(row):\n",
    "                NAVIGO.append(row)\n",
    "                \n",
    "            # Parsing cargo\n",
    "            if row['all_cargos']:\n",
    "                row['cargo'] = [c['commodity_purpose'] for c in eval(row['all_cargos'])]\n",
    "            else:\n",
    "                row['cargo'] = []\n",
    "\n",
    "len(NAVIGO)"
   ]
  },
  {
   "cell_type": "code",
   "execution_count": 36,
   "id": "97ee8faf-3689-48b6-9370-8580d506769a",
   "metadata": {},
   "outputs": [],
   "source": [
    "COMMODITIES_TO_DUNKERQUE = Counter()\n",
    "COMMODITIES_FROM_DUNKERQUE = Counter()\n",
    "\n",
    "for row in NAVIGO:    \n",
    "    for commodity in row['cargo']:\n",
    "        target = COMMODITIES_TO_DUNKERQUE if row['destination_uhgs_id'] == DUNKERQUE_UHGS_ID else COMMODITIES_FROM_DUNKERQUE\n",
    "        target[commodity] += 1"
   ]
  },
  {
   "cell_type": "code",
   "execution_count": 38,
   "id": "271a1ba5-737a-4e8c-bdf7-ee42668936f3",
   "metadata": {},
   "outputs": [
    {
     "data": {
      "text/plain": [
       "[('sel', 157),\n",
       " ('Sel', 94),\n",
       " ('Vin', 56),\n",
       " ('Sucre', 13),\n",
       " ('Autres', 8),\n",
       " ('Lest', 8),\n",
       " ('Café', 8),\n",
       " ('Autres marchandises', 7),\n",
       " ('Barriques vides', 7),\n",
       " ('Eau de vie', 6),\n",
       " ('Pierres', 6),\n",
       " ('Lège', 6),\n",
       " ('Prunes', 5),\n",
       " ('Café Bourbon', 4),\n",
       " ('Soude', 3),\n",
       " ('prune', 3),\n",
       " ('Réglisse', 3),\n",
       " ('Thé', 3),\n",
       " ('vin', 3),\n",
       " ('Reste de son chargement', 2),\n",
       " ('Reste du chargement', 2),\n",
       " ('Futailles vides', 2),\n",
       " ('Passagers', 2),\n",
       " ('Taffia', 2),\n",
       " ('Peau de cacao', 2)]"
      ]
     },
     "execution_count": 38,
     "metadata": {},
     "output_type": "execute_result"
    }
   ],
   "source": [
    "COMMODITIES_TO_DUNKERQUE.most_common(25)"
   ]
  },
  {
   "cell_type": "code",
   "execution_count": 37,
   "id": "02cca96d-3cc8-41b7-be50-d7110a352078",
   "metadata": {},
   "outputs": [
    {
     "data": {
      "text/plain": [
       "[('Lège', 2437),\n",
       " ('Etc.', 879),\n",
       " ('Genevre', 802),\n",
       " ('Autres marchandises', 185),\n",
       " ('genevre', 137),\n",
       " ('Sucre', 122),\n",
       " ('Eau de vie', 98),\n",
       " ('Tabac', 94),\n",
       " ('autres marchandises', 67),\n",
       " ('faire la pêche', 62),\n",
       " ('Lest', 57),\n",
       " ('sel', 57),\n",
       " ('Café', 56),\n",
       " ('Blé', 55),\n",
       " ('Genèvre', 55),\n",
       " ('Pêche à la morue', 54),\n",
       " ('Bled', 42),\n",
       " ('Morue', 41),\n",
       " ('Eau-de-vie', 39),\n",
       " ('ustencils de pêche', 36),\n",
       " ('Vin', 35),\n",
       " ('Autre (etc.)', 29),\n",
       " ('Coton', 29),\n",
       " ('Autre (etc)', 26),\n",
       " ('Cloux', 26)]"
      ]
     },
     "execution_count": 37,
     "metadata": {},
     "output_type": "execute_result"
    }
   ],
   "source": [
    "COMMODITIES_FROM_DUNKERQUE.most_common(25)"
   ]
  }
 ],
 "metadata": {
  "kernelspec": {
   "display_name": "Python 3 (ipykernel)",
   "language": "python",
   "name": "python3"
  },
  "language_info": {
   "codemirror_mode": {
    "name": "ipython",
    "version": 3
   },
   "file_extension": ".py",
   "mimetype": "text/x-python",
   "name": "python",
   "nbconvert_exporter": "python",
   "pygments_lexer": "ipython3",
   "version": "3.8.5"
  }
 },
 "nbformat": 4,
 "nbformat_minor": 5
}
