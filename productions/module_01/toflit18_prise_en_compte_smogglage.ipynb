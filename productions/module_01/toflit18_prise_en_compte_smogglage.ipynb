{
 "cells": [
  {
   "cell_type": "code",
   "execution_count": null,
   "id": "f27dadc3-0e54-4e0c-8e74-af70355cdecd",
   "metadata": {},
   "outputs": [],
   "source": [
    "from dunkerquesprint import Toflit, Portic\n",
    "\n",
    "toflit = Toflit()\n",
    "portic = Portic()"
   ]
  },
  {
   "cell_type": "code",
   "execution_count": null,
   "id": "82e155e4-4229-40a3-80b3-a7519db5a6c3",
   "metadata": {},
   "outputs": [],
   "source": [
    "import csv\n",
    "# 1. définir le bureau de ferme et la direction des fermes de chacun des 6 ports\n",
    "ports = ['Dunkerque', 'Calais', 'Boulogne sur Mer', 'Roscoff', 'Lorient', 'Bordeaux']\n",
    "\n",
    "CSV_FILE_INPUT = '../../data/navigo_all_pointcalls_1787.csv'\n",
    "\n",
    "done = {}\n",
    "\n",
    "with open(CSV_FILE_INPUT, newline='') as csvfile:\n",
    "    reader = csv.DictReader(csvfile)\n",
    "    for pointcall in reader:\n",
    "        p = dict(pointcall)\n",
    "        if p['pointcall'] in ports and p['pointcall'] not in done:\n",
    "            print('- port : ' + p['pointcall'])\n",
    "            done[p['pointcall']] = True\n",
    "            bureau = p['ferme_direction']\n",
    "            direction = p['ferme_bureau']\n",
    "            print('- bureau de ferme : ' + bureau)    \n",
    "            print('- direction de ferme : ' + direction)"
   ]
  },
  {
   "cell_type": "code",
   "execution_count": null,
   "id": "6e98fd8a-c393-457a-8bf2-6b4e547dd1b6",
   "metadata": {},
   "outputs": [],
   "source": [
    "ports_info = [\n",
    "    {\n",
    "        \"port\": \"Bordeaux\",\n",
    "        \"bureau\": \"Bordeaux\",\n",
    "        \"direction\": \"Bordeaux\"\n",
    "    },\n",
    "    {\n",
    "        \"port\": \"Lorient\",\n",
    "        \"bureau\": \"Lorient\",\n",
    "        \"direction\": \"Lorient\"\n",
    "    },\n",
    "    {\n",
    "        \"port\": \"Dunkerque\",\n",
    "        \"bureau\": \"Dunkerque\",\n",
    "        \"direction\": \"Dunkerque\"\n",
    "    },\n",
    "    {\n",
    "        \"port\": \"Calais\",\n",
    "        \"bureau\": \"Amiens\",\n",
    "        \"direction\": \"Calais\"\n",
    "    },\n",
    "    {\n",
    "        \"port\": \"Roscoff\",\n",
    "        \"bureau\": \"Lorient\",\n",
    "        \"direction\": \"Brest\"\n",
    "    },\n",
    "    {\n",
    "        \"port\": \"Boulogne sur Mer\",\n",
    "        \"bureau\": \"Amiens\",\n",
    "        \"direction\": \"Boulogne-sur-Mer\"\n",
    "    },\n",
    "    \n",
    "]"
   ]
  },
  {
   "cell_type": "code",
   "execution_count": null,
   "id": "19914962-a5ea-4217-8127-3bdff75c52f1",
   "metadata": {},
   "outputs": [],
   "source": [
    "flows_50 = toflit.get_flows(year='1750')"
   ]
  },
  {
   "cell_type": "code",
   "execution_count": null,
   "id": "3046eb90-dbcb-48f1-90fe-cf547e7e303a",
   "metadata": {},
   "outputs": [],
   "source": [
    "flows_87 = toflit.get_flows(year='1787')"
   ]
  },
  {
   "cell_type": "code",
   "execution_count": null,
   "id": "fa08d96d-5733-42ec-a4d6-beae108b65a0",
   "metadata": {},
   "outputs": [],
   "source": [
    "flows_89 = toflit.get_flows(year='1789')"
   ]
  },
  {
   "cell_type": "code",
   "execution_count": null,
   "id": "969605db-54cb-473f-9736-6b9166b130cf",
   "metadata": {},
   "outputs": [],
   "source": [
    "flows = toflit.get_flows()"
   ]
  },
  {
   "cell_type": "code",
   "execution_count": null,
   "id": "9ceb5d99-563c-4b77-9893-f64480c60037",
   "metadata": {},
   "outputs": [],
   "source": [
    "totaux = {\n",
    "}\n",
    "\n",
    "for flow in flows:\n",
    "    year = flow['year']\n",
    "    flow_type = flow['export_import']\n",
    "    value = flow[\"value\"]\n",
    "    value = value.split(\".\")[0] if value != \"\" else \"0\"\n",
    "    value = float(value) if value != \"\" else 0\n",
    "    # cataloging directions\n",
    "    if flow['customs_region'] != '':\n",
    "        for port_group in ports_info:\n",
    "            direction = port_group['direction']\n",
    "            port = port_group[\"port\"]\n",
    "            if direction == flow['customs_region']:\n",
    "                if port not in totaux:\n",
    "                    totaux[port] = {\n",
    "                        \"direction\": {},\n",
    "                        \"bureau\": {}\n",
    "                    }\n",
    "                if year not in totaux[port][\"direction\"]:\n",
    "                    totaux[port][\"direction\"][year] = {\"Exports\": 0, \"Imports\": 0}\n",
    "                # add value\n",
    "                totaux[port][\"direction\"][year][flow_type] += value\n",
    "    # cataloging bureaux\n",
    "    if flow['customs_office'] != '':\n",
    "        for port_group in ports_info:\n",
    "            bureau = port_group['bureau']\n",
    "            port = port_group[\"port\"]\n",
    "            if bureau == flow['customs_office']:\n",
    "                if port not in totaux:\n",
    "                    totaux[port] = {\n",
    "                        \"direction\": {},\n",
    "                        \"bureau\": {}\n",
    "                    }\n",
    "                if year not in totaux[port][\"bureau\"]:\n",
    "                    totaux[port][\"bureau\"][year] = {\"Exports\": 0, \"Imports\": 0}\n",
    "                # add value\n",
    "                totaux[port][\"bureau\"][year][flow_type] += value"
   ]
  },
  {
   "cell_type": "code",
   "execution_count": null,
   "id": "58678abf-a07a-4acc-b9af-fff9546fe4a5",
   "metadata": {},
   "outputs": [],
   "source": [
    "for port, categories in totaux.items():\n",
    "    print(\"- données pour le port de \" + port + \" : \")\n",
    "    for category, years in categories.items():\n",
    "        print(\"  - niveau d'agrégation \" + category + \" : \")\n",
    "        for year, types in years.items():\n",
    "            print(\"    - \" + str(year) + \" : \" + \"exports : \" + str(types['Exports']) + \", imports : \" + str(types[\"Imports\"]))"
   ]
  },
  {
   "cell_type": "code",
   "execution_count": null,
   "id": "62ce4276-b502-48d3-9453-04d4bd0da96e",
   "metadata": {},
   "outputs": [],
   "source": [
    "series_directions = []\n",
    "series_bureaux = []\n",
    "\n",
    "\n",
    "for port, categories in totaux.items():\n",
    "    years = categories['direction']\n",
    "    for year, types in years.items():\n",
    "        for type, value in types.items():\n",
    "            series_directions.append({\n",
    "                \"port\": port,\n",
    "                \"year\": year,\n",
    "                \"type\": type,\n",
    "                \"value\": value\n",
    "            })\n",
    "for port, categories in totaux.items():\n",
    "    years = categories['bureau']\n",
    "    for year, types in years.items():\n",
    "        for type, value in types.items():\n",
    "            series_bureaux.append({\n",
    "                \"port\": port,\n",
    "                \"year\": year,\n",
    "                \"type\": type,\n",
    "                \"value\": value\n",
    "            })"
   ]
  },
  {
   "cell_type": "code",
   "execution_count": null,
   "id": "79a3aa72-e53b-4fd0-91de-b2850175995e",
   "metadata": {},
   "outputs": [],
   "source": []
  },
  {
   "cell_type": "code",
   "execution_count": null,
   "id": "0cf46603-a0f4-4a5d-bf24-fb5f1f85aea3",
   "metadata": {},
   "outputs": [],
   "source": [
    "from IPython.display import display\n",
    "import pandas as pd\n",
    "\n",
    "\n",
    "def VegaLite(spec):\n",
    "    bundle = {}\n",
    "    bundle['application/vnd.vegalite.v4+json'] = spec\n",
    "    display(bundle, raw=True)\n",
    "    \n",
    "VegaLite({\n",
    "  \"$schema\": \"https://vega.github.io/schema/vega-lite/v4.json\",\n",
    "    \"mark\": {\"type\": \"line\", \"point\": True},\n",
    "    \"title\": \"Imports et exports par direction attachée aux ports smoggleurs\",\n",
    "  \"encoding\": {\n",
    "      \"color\": {\"type\": \"nominal\", \"field\": \"type\"},\n",
    "        \"y\": {\"type\": \"quantitative\", \"field\": \"value\", \"title\": \"valueur cumulée\"},\n",
    "        \"x\": {\"type\": \"temporal\", \"field\": \"year\", \"title\": \"année\"},\n",
    "    \"facet\": {\"type\": \"nominal\", \"field\": \"port\", \"title\": \"port concerné\"}\n",
    "  }, \n",
    " \"data\": {\n",
    "    \"values\": series_directions\n",
    "  }\n",
    "})"
   ]
  },
  {
   "cell_type": "code",
   "execution_count": null,
   "id": "15c5f2d9-b2b0-4ea4-9089-29ef874d6f58",
   "metadata": {},
   "outputs": [],
   "source": [
    "VegaLite({\n",
    "  \"$schema\": \"https://vega.github.io/schema/vega-lite/v4.json\",\n",
    "  \"mark\": {\"type\": \"line\", \"point\": True},\n",
    "    \"title\": \"Imports et exports par bureau attachée aux ports smoggleurs\",\n",
    "  \"encoding\": {\n",
    "      \"color\": {\"type\": \"nominal\", \"field\": \"type\"},\n",
    "        \"y\": {\"type\": \"quantitative\", \"field\": \"value\", \"title\": \"valueur cumulée\"},\n",
    "        \"x\": {\"type\": \"temporal\", \"field\": \"year\", \"title\": \"année\"},\n",
    "    \"facet\": {\"type\": \"nominal\", \"field\": \"port\", \"title\": \"port concerné\"}\n",
    "  }, \n",
    " \"data\": {\n",
    "    \"values\": series_bureaux\n",
    "  }\n",
    "})"
   ]
  }
 ],
 "metadata": {
  "kernelspec": {
   "display_name": "Python 3 (ipykernel)",
   "language": "python",
   "name": "python3"
  },
  "language_info": {
   "codemirror_mode": {
    "name": "ipython",
    "version": 3
   },
   "file_extension": ".py",
   "mimetype": "text/x-python",
   "name": "python",
   "nbconvert_exporter": "python",
   "pygments_lexer": "ipython3",
   "version": "3.7.7"
  }
 },
 "nbformat": 4,
 "nbformat_minor": 5
}
