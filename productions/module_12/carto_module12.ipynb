{
 "cells": [
  {
   "cell_type": "markdown",
   "metadata": {},
   "source": [
    "Christine Plumejeaud-Perreau, UMR MIGRINTER 7301\n",
    "\n",
    "07 avril 2022\n",
    "projet ANR PORTIC"
   ]
  },
  {
   "cell_type": "markdown",
   "metadata": {},
   "source": [
    "# Traitement des données de raw_flows pour regroupement par destination et analyse des produits et tonnages expédiés"
   ]
  },
  {
   "cell_type": "code",
   "execution_count": 3,
   "metadata": {},
   "outputs": [],
   "source": [
    "import pandas as pd\n",
    "import pandas.core.frame as pf\n",
    "\n",
    "import json, urllib\n",
    "import plotly as py\n",
    "import pandas as pd\n",
    "import numpy as np\n",
    "import plotly.graph_objects as go\n"
   ]
  },
  {
   "cell_type": "code",
   "execution_count": 15,
   "metadata": {},
   "outputs": [
    {
     "name": "stdout",
     "output_type": "stream",
     "text": [
      "(10081, 16)\n",
      "Index(['Unnamed: 0', 'departure_uhgs_id', 'departure_fr',\n",
      "       'destination_uhgs_id', 'destination_fr',\n",
      "       'destination_partner_balance_supp_1789', 'destination_substate_1789_fr',\n",
      "       'destination_state_1789_fr', 'tonnage', 'outdate_fixed',\n",
      "       'commodity_purpose', 'commodity_purpose2', 'commodity_purpose3',\n",
      "       'commodity_purpose4', 'all_cargos', 'nb_cargo'],\n",
      "      dtype='object')\n"
     ]
    },
    {
     "data": {
      "text/plain": [
       "\" 'Unnamed: 0', 'departure_uhgs_id', 'departure_fr',\\n       'destination_uhgs_id', 'destination_fr',\\n       'destination_partner_balance_supp_1789', 'destination_substate_1789_fr',\\n       'destination_state_1789_fr', 'tonnage', 'outdate_fixed',\\n       'commodity_purpose', 'commodity_purpose2', 'commodity_purpose3',\\n       'commodity_purpose4', 'all_cargos', 'nb_cargo' \""
      ]
     },
     "execution_count": 15,
     "metadata": {},
     "output_type": "execute_result"
    }
   ],
   "source": [
    "# Récupérer les raw_flows\n",
    "#http://data.portic.fr/api/rawflows/?format=csv&date=1789&params=departure_uhgs_id,departure_fr,destination_uhgs_id,destination_fr,destination_partner_balance_supp_1789,destination_substate_1789_fr,destination_state_1789_fr,tonnage,outdate_fixed,commodity_purpose,commodity_purpose2,commodity_purpose3,commodity_purpose4,all_cargos,nb_cargo\n",
    "\n",
    "#curl -o ./raw_flows_1789.csv \"data.portic.fr/api/rawflows/?format=csv&date=1789&params=departure_uhgs_id,departure_fr,destination_uhgs_id,destination_fr,destination_partner_balance_supp_1789,destination_substate_1789_fr,destination_state_1789_fr,tonnage,outdate_fixed,commodity_purpose,commodity_purpose2,commodity_purpose3,commodity_purpose4,all_cargos,nb_cargo\"\n",
    "raw_flows = pd.read_csv(\"./raw_flows_1789.csv\", encoding='utf8', sep=',')\n",
    "\n",
    "\n",
    "type(raw_flows) #list\n",
    "\n",
    "#df_dix_ans_smog = pd.DataFrame(dix_ans_smog, columns=['destination', '1781', '1782', '1785', '1786', '1787', '1788', '1789', '1790', '1791', 'Facade'])\n",
    "print(raw_flows.shape) #(10081, 16)\n",
    "\n",
    "print(raw_flows.columns)\n",
    "\n",
    "''' 'Unnamed: 0', 'departure_uhgs_id', 'departure_fr',\n",
    "       'destination_uhgs_id', 'destination_fr',\n",
    "       'destination_partner_balance_supp_1789', 'destination_substate_1789_fr',\n",
    "       'destination_state_1789_fr', 'tonnage', 'outdate_fixed',\n",
    "       'commodity_purpose', 'commodity_purpose2', 'commodity_purpose3',\n",
    "       'commodity_purpose4', 'all_cargos', 'nb_cargo' '''"
   ]
  },
  {
   "cell_type": "markdown",
   "metadata": {},
   "source": [
    "    'departure_uhgs_id', 'departure_fr',\n",
    "       'destination_uhgs_id', 'destination_fr', 'destination_substate_1789_fr',\n",
    "       'destination_state_1789_fr', 'tonnage', 'outdate_fixed',\n",
    "       'commodity_purpose', 'commodity_purpose2', 'commodity_purpose3',\n",
    "       'commodity_purpose4', 'all_cargos', 'nbproduits'"
   ]
  },
  {
   "cell_type": "code",
   "execution_count": 132,
   "metadata": {},
   "outputs": [
    {
     "name": "stdout",
     "output_type": "stream",
     "text": [
      "(2539, 16)\n",
      "(191, 16)\n",
      "Index(['Unnamed: 0', 'departure_uhgs_id', 'departure_fr',\n",
      "       'destination_uhgs_id', 'destination_fr',\n",
      "       'destination_partner_balance_supp_1789', 'destination_substate_1789_fr',\n",
      "       'destination_state_1789_fr', 'tonnage', 'outdate_fixed',\n",
      "       'commodity_purpose', 'commodity_purpose2', 'commodity_purpose3',\n",
      "       'commodity_purpose4', 'all_cargos', 'nb_cargo'],\n",
      "      dtype='object')\n",
      "(191, 14)\n"
     ]
    }
   ],
   "source": [
    "# Filtrer\n",
    "\n",
    "dunkerque = raw_flows.query('departure_fr==\"Dunkerque\"')\n",
    "print(dunkerque.shape)\n",
    "dunkerque = dunkerque.query('destination_partner_balance_supp_1789==\"Etranger\"') #Pas la France\n",
    "dunkerque = dunkerque.query('destination_state_1789_fr!=\"Grande-Bretagne\"') #Pas le smogglage vers l'angleterre\n",
    "dunkerque = dunkerque.query('destination_uhgs_id!=\"C0000009\"') #Afrique\n",
    "dunkerque = dunkerque.query('destination_uhgs_id!=\"A0146289\"') #Islande\n",
    "dunkerque = dunkerque.query('destination_uhgs_id!=\"B0000715\"')  #Terre-Neuve\n",
    "dunkerque = dunkerque.query('commodity_purpose!=\"Lège\"')  #pas à vide (Lège)\n",
    "dunkerque = dunkerque.query('commodity_purpose!=\"lest\"')  #pas à vide (lest)\n",
    "dunkerque = dunkerque.query('commodity_purpose2!=\"lest\"')  #pas à vide (lest)\n",
    "dunkerque = dunkerque.query('commodity_purpose!=\"pêche\"')  #pas pour la pêche\n",
    "print(dunkerque.shape) #(193, 16)\n",
    "\n",
    "\n",
    "print(dunkerque.columns)\n",
    "\n",
    "\n",
    "dunkerque = dunkerque.drop(['Unnamed: 0', 'all_cargos'], axis=1)\n",
    "\n",
    "print(dunkerque.shape) #(193, 14)\n",
    "dunkerque.to_csv (r'./flux_dunkerque.csv', index = None)\n"
   ]
  },
  {
   "cell_type": "markdown",
   "metadata": {},
   "source": [
    "## Premier apercu des destinations d'export de Dunkerque vers l'étranger, hors GB, hors pêche, hors navires à vide. "
   ]
  },
  {
   "cell_type": "code",
   "execution_count": 29,
   "metadata": {},
   "outputs": [
    {
     "name": "stdout",
     "output_type": "stream",
     "text": [
      "   destination_state_1789_fr destination_uhgs_id  count\n",
      "0                   Autriche            A0041886     17\n",
      "1                   Autriche            A0046492      1\n",
      "2                   Autriche            A0049808     56\n",
      "3                      Brême            A0691896      1\n",
      "4                   Danemark            A0912818      1\n",
      "5                   Danemark            A1964976      5\n",
      "6                    Espagne            A0079352      7\n",
      "7                    Espagne            B0000056      1\n",
      "8      Etats-Unis d'Amérique            B2827324      1\n",
      "9                   Hambourg            A0743522      3\n",
      "10                  Portugal            A0360085      1\n",
      "11                  Portugal            A0364551      1\n",
      "12                  Portugal            A0374720      6\n",
      "13           Provinces-Unies            A0618784      4\n",
      "14           Provinces-Unies            A0620777     10\n",
      "15           Provinces-Unies            A0622825      1\n",
      "16           Provinces-Unies            A0624785     56\n",
      "17           Provinces-Unies            A0624934      2\n",
      "18           Provinces-Unies            A0627935     13\n",
      "19       République de Gênes            A0232521      1\n",
      "20                     Suède            A1054071      1\n",
      "21                     Suède            A1086867      1\n",
      "22                   Toscane            A0251183      3\n"
     ]
    },
    {
     "data": {
      "text/html": [
       "<div>\n",
       "<style scoped>\n",
       "    .dataframe tbody tr th:only-of-type {\n",
       "        vertical-align: middle;\n",
       "    }\n",
       "\n",
       "    .dataframe tbody tr th {\n",
       "        vertical-align: top;\n",
       "    }\n",
       "\n",
       "    .dataframe thead th {\n",
       "        text-align: right;\n",
       "    }\n",
       "</style>\n",
       "<table border=\"1\" class=\"dataframe\">\n",
       "  <thead>\n",
       "    <tr style=\"text-align: right;\">\n",
       "      <th></th>\n",
       "      <th>destination_state_1789_fr</th>\n",
       "      <th>destination_uhgs_id</th>\n",
       "      <th>sum</th>\n",
       "      <th>count</th>\n",
       "    </tr>\n",
       "  </thead>\n",
       "  <tbody>\n",
       "    <tr>\n",
       "      <th>0</th>\n",
       "      <td>Autriche</td>\n",
       "      <td>A0041886</td>\n",
       "      <td>516.0</td>\n",
       "      <td>17</td>\n",
       "    </tr>\n",
       "    <tr>\n",
       "      <th>1</th>\n",
       "      <td>Autriche</td>\n",
       "      <td>A0046492</td>\n",
       "      <td>60.0</td>\n",
       "      <td>1</td>\n",
       "    </tr>\n",
       "    <tr>\n",
       "      <th>2</th>\n",
       "      <td>Autriche</td>\n",
       "      <td>A0049808</td>\n",
       "      <td>3570.0</td>\n",
       "      <td>56</td>\n",
       "    </tr>\n",
       "    <tr>\n",
       "      <th>3</th>\n",
       "      <td>Brême</td>\n",
       "      <td>A0691896</td>\n",
       "      <td>70.0</td>\n",
       "      <td>1</td>\n",
       "    </tr>\n",
       "    <tr>\n",
       "      <th>4</th>\n",
       "      <td>Danemark</td>\n",
       "      <td>A0912818</td>\n",
       "      <td>35.0</td>\n",
       "      <td>1</td>\n",
       "    </tr>\n",
       "    <tr>\n",
       "      <th>5</th>\n",
       "      <td>Danemark</td>\n",
       "      <td>A1964976</td>\n",
       "      <td>134.0</td>\n",
       "      <td>5</td>\n",
       "    </tr>\n",
       "    <tr>\n",
       "      <th>6</th>\n",
       "      <td>Espagne</td>\n",
       "      <td>A0079352</td>\n",
       "      <td>943.0</td>\n",
       "      <td>7</td>\n",
       "    </tr>\n",
       "    <tr>\n",
       "      <th>7</th>\n",
       "      <td>Espagne</td>\n",
       "      <td>B0000056</td>\n",
       "      <td>120.0</td>\n",
       "      <td>1</td>\n",
       "    </tr>\n",
       "    <tr>\n",
       "      <th>8</th>\n",
       "      <td>Etats-Unis d'Amérique</td>\n",
       "      <td>B2827324</td>\n",
       "      <td>350.0</td>\n",
       "      <td>1</td>\n",
       "    </tr>\n",
       "    <tr>\n",
       "      <th>9</th>\n",
       "      <td>Hambourg</td>\n",
       "      <td>A0743522</td>\n",
       "      <td>435.0</td>\n",
       "      <td>3</td>\n",
       "    </tr>\n",
       "    <tr>\n",
       "      <th>10</th>\n",
       "      <td>Portugal</td>\n",
       "      <td>A0360085</td>\n",
       "      <td>240.0</td>\n",
       "      <td>1</td>\n",
       "    </tr>\n",
       "    <tr>\n",
       "      <th>11</th>\n",
       "      <td>Portugal</td>\n",
       "      <td>A0364551</td>\n",
       "      <td>300.0</td>\n",
       "      <td>1</td>\n",
       "    </tr>\n",
       "    <tr>\n",
       "      <th>12</th>\n",
       "      <td>Portugal</td>\n",
       "      <td>A0374720</td>\n",
       "      <td>255.0</td>\n",
       "      <td>6</td>\n",
       "    </tr>\n",
       "    <tr>\n",
       "      <th>13</th>\n",
       "      <td>Provinces-Unies</td>\n",
       "      <td>A0618784</td>\n",
       "      <td>378.0</td>\n",
       "      <td>4</td>\n",
       "    </tr>\n",
       "    <tr>\n",
       "      <th>14</th>\n",
       "      <td>Provinces-Unies</td>\n",
       "      <td>A0620777</td>\n",
       "      <td>1176.0</td>\n",
       "      <td>10</td>\n",
       "    </tr>\n",
       "    <tr>\n",
       "      <th>15</th>\n",
       "      <td>Provinces-Unies</td>\n",
       "      <td>A0622825</td>\n",
       "      <td>100.0</td>\n",
       "      <td>1</td>\n",
       "    </tr>\n",
       "    <tr>\n",
       "      <th>16</th>\n",
       "      <td>Provinces-Unies</td>\n",
       "      <td>A0624785</td>\n",
       "      <td>2919.0</td>\n",
       "      <td>56</td>\n",
       "    </tr>\n",
       "    <tr>\n",
       "      <th>17</th>\n",
       "      <td>Provinces-Unies</td>\n",
       "      <td>A0624934</td>\n",
       "      <td>196.0</td>\n",
       "      <td>2</td>\n",
       "    </tr>\n",
       "    <tr>\n",
       "      <th>18</th>\n",
       "      <td>Provinces-Unies</td>\n",
       "      <td>A0627935</td>\n",
       "      <td>969.0</td>\n",
       "      <td>13</td>\n",
       "    </tr>\n",
       "    <tr>\n",
       "      <th>19</th>\n",
       "      <td>République de Gênes</td>\n",
       "      <td>A0232521</td>\n",
       "      <td>200.0</td>\n",
       "      <td>1</td>\n",
       "    </tr>\n",
       "    <tr>\n",
       "      <th>20</th>\n",
       "      <td>Suède</td>\n",
       "      <td>A1054071</td>\n",
       "      <td>150.0</td>\n",
       "      <td>1</td>\n",
       "    </tr>\n",
       "    <tr>\n",
       "      <th>21</th>\n",
       "      <td>Suède</td>\n",
       "      <td>A1086867</td>\n",
       "      <td>12.0</td>\n",
       "      <td>1</td>\n",
       "    </tr>\n",
       "    <tr>\n",
       "      <th>22</th>\n",
       "      <td>Toscane</td>\n",
       "      <td>A0251183</td>\n",
       "      <td>480.0</td>\n",
       "      <td>3</td>\n",
       "    </tr>\n",
       "  </tbody>\n",
       "</table>\n",
       "</div>"
      ],
      "text/plain": [
       "   destination_state_1789_fr destination_uhgs_id     sum  count\n",
       "0                   Autriche            A0041886   516.0     17\n",
       "1                   Autriche            A0046492    60.0      1\n",
       "2                   Autriche            A0049808  3570.0     56\n",
       "3                      Brême            A0691896    70.0      1\n",
       "4                   Danemark            A0912818    35.0      1\n",
       "5                   Danemark            A1964976   134.0      5\n",
       "6                    Espagne            A0079352   943.0      7\n",
       "7                    Espagne            B0000056   120.0      1\n",
       "8      Etats-Unis d'Amérique            B2827324   350.0      1\n",
       "9                   Hambourg            A0743522   435.0      3\n",
       "10                  Portugal            A0360085   240.0      1\n",
       "11                  Portugal            A0364551   300.0      1\n",
       "12                  Portugal            A0374720   255.0      6\n",
       "13           Provinces-Unies            A0618784   378.0      4\n",
       "14           Provinces-Unies            A0620777  1176.0     10\n",
       "15           Provinces-Unies            A0622825   100.0      1\n",
       "16           Provinces-Unies            A0624785  2919.0     56\n",
       "17           Provinces-Unies            A0624934   196.0      2\n",
       "18           Provinces-Unies            A0627935   969.0     13\n",
       "19       République de Gênes            A0232521   200.0      1\n",
       "20                     Suède            A1054071   150.0      1\n",
       "21                     Suède            A1086867    12.0      1\n",
       "22                   Toscane            A0251183   480.0      3"
      ]
     },
     "execution_count": 29,
     "metadata": {},
     "output_type": "execute_result"
    }
   ],
   "source": [
    "\n",
    "\n",
    "gdata = pf.DataFrame({'count' : dunkerque.groupby( [ \"destination_state_1789_fr\",\"destination_uhgs_id\"] ).size()}).reset_index()\n",
    "print(gdata)\n",
    "\n",
    "pf.DataFrame(dunkerque.groupby([ \"destination_state_1789_fr\",\"destination_uhgs_id\"])['tonnage'].agg(['sum','count'])).reset_index()\n"
   ]
  },
  {
   "cell_type": "code",
   "execution_count": 24,
   "metadata": {},
   "outputs": [],
   "source": [
    "import csv\n",
    "import json\n",
    "\n",
    "by_pointcalls = []\n",
    "\n",
    "\n",
    "for _, row in dunkerque.iterrows():\n",
    "  if row['all_cargos'] != '':\n",
    "    truc = row['all_cargos']\n",
    "    #print(truc)\n",
    "    truc = truc.replace(\"'\", '\"').replace(\"None\", 'null')\n",
    "    #.replace(\"bœ\\x9c\\x9cuf\", \"boeuf\")\n",
    "    cargos = json.loads(truc)\n",
    "    #print(type(cargos))\n",
    "    for cargo in cargos:\n",
    "      if  cargo['commodity_standardized_fr'] != 'Lest' : \n",
    "        if  cargo['commodity_standardized_fr'] != None : \n",
    "          by_pointcalls.append({\n",
    "            \"cargo\": cargo['commodity_purpose'],\n",
    "            \"cargo_standardized_fr\": cargo['commodity_standardized_fr'],\n",
    "            **row\n",
    "          })\n",
    "        else :\n",
    "          by_pointcalls.append({\n",
    "            \"cargo\": cargo['commodity_purpose'],\n",
    "            \"cargo_standardized_fr\": cargo['commodity_purpose'].lower(),\n",
    "            **row\n",
    "          })\n",
    "  else:\n",
    "    by_pointcalls.append({\n",
    "      \"cargo\": \"\",\n",
    "      \"cargo_standardized_fr\": \"\",\n",
    "      **row\n",
    "    })\n",
    "\n",
    "#"
   ]
  },
  {
   "cell_type": "code",
   "execution_count": 26,
   "metadata": {},
   "outputs": [
    {
     "name": "stdout",
     "output_type": "stream",
     "text": [
      "Index(['cargo', 'cargo_standardized_fr', 'departure_uhgs_id', 'departure_fr',\n",
      "       'destination_uhgs_id', 'destination_fr',\n",
      "       'destination_partner_balance_supp_1789', 'destination_substate_1789_fr',\n",
      "       'destination_state_1789_fr', 'tonnage', 'outdate_fixed', 'nb_cargo'],\n",
      "      dtype='object')\n",
      "(331, 12)\n"
     ]
    }
   ],
   "source": [
    "exports_dunkerque = pd.DataFrame(by_pointcalls, columns=['cargo', 'cargo_standardized_fr']+dunkerque.columns.tolist())\n",
    "\n",
    "exports_dunkerque = exports_dunkerque.drop(['Unnamed: 0', 'commodity_purpose', 'commodity_purpose2', 'commodity_purpose3', 'commodity_purpose4', 'all_cargos'], axis=1)\n",
    "\n",
    "print(exports_dunkerque.columns)\n",
    "print(exports_dunkerque.shape) #(331, 12)\n",
    "exports_dunkerque.to_csv (r'./exports_dunkerque.csv', index = None)\n",
    "#exports_dunkerque"
   ]
  },
  {
   "cell_type": "code",
   "execution_count": 135,
   "metadata": {},
   "outputs": [
    {
     "name": "stderr",
     "output_type": "stream",
     "text": [
      "C:\\Users\\cplume01\\AppData\\Local\\Temp\\ipykernel_38568\\4061757245.py:13: FutureWarning:\n",
      "\n",
      "Indexing with multiple keys (implicitly converted to a tuple of keys) will be deprecated, use a list instead.\n",
      "\n"
     ]
    }
   ],
   "source": [
    "import pandas as pd\n",
    "import pandas.core.frame as pf\n",
    "\n",
    "# Lire le fichier \n",
    "exports_dunkerque = pd.read_csv(\"./exports_dunkerque.csv\")\n",
    "exports_dunkerque['tonnage_per_product'] = exports_dunkerque['tonnage'] / exports_dunkerque['nb_cargo']\n",
    "\n",
    "gdata = pf.DataFrame({'count' : exports_dunkerque.groupby( [ \"destination_state_1789_fr\",\"cargo_standardized_fr\"] ).size()}).reset_index()\n",
    "#print(gdata)\n",
    "\n",
    "pd.DataFrame(exports_dunkerque.groupby([ \"destination_state_1789_fr\",\"cargo_standardized_fr\"])['tonnage'].agg(['sum','count', 'mean'])).reset_index()\n",
    "\n",
    "exports = pd.DataFrame(exports_dunkerque.groupby([ \"destination_state_1789_fr\",\"cargo_standardized_fr\"])['tonnage','tonnage_per_product'].agg(['count', 'sum'])).reset_index()\n",
    "exports.set_axis(['destination_state_1789_fr', 'cargo_standardized_fr', 'nb_ships', 'sum_tonnage', 'nb_ships2', 'sum_tonnage_per_product'], axis=1, inplace=True)\n",
    "exports.to_csv (r'./exports_dunkerque_par_pays_par_produits.csv', index = None)\n",
    "\n"
   ]
  },
  {
   "cell_type": "code",
   "execution_count": 136,
   "metadata": {},
   "outputs": [
    {
     "name": "stdout",
     "output_type": "stream",
     "text": [
      "[ 0  1  2  2  2  2  3  4  2  5  2  1  1  2  1  1  0  0  4  2  1  0  1  0\n",
      "  1  1  1  6  7  8  1  9  2 10  2  2  2  9  2  7  1  1  1  2  2  2  1  0\n",
      "  0  9  4 10  3  6  2  2 10  1  2 10  8 10  2  6  4  2  1  2 10  1  4  0\n",
      "  1  2]\n",
      "Index(['Espagne', 'Provinces-Unies', 'Autriche', 'Etats-Unis d'Amérique',\n",
      "       'Portugal', 'Brême', 'Hambourg', 'République de Gênes', 'Suède',\n",
      "       'Toscane', 'Danemark'],\n",
      "      dtype='object')\n",
      "[ 0  1  2  3  4  1  5  6  7  8  9  7 10 10 11  8 12 13 14 15 13 16 16 17\n",
      " 18 19 20 20 20 21 22 20 23 20 24 20 25 26 26 26 27 28 29 30 31 32 26 26\n",
      " 33 34 26 26 26 26 35 36 37 38 39 40 41 41 42 43 41 43 43 44 45 42 42 41\n",
      " 46 46]\n",
      "Index(['toile', 'cuir', 'Laine', 'Peaux de boeuf', 'cuirs', 'Charbon', 'Bois',\n",
      "       'Café', 'cottes de tabac', 'tabac faisant restant de son chargement',\n",
      "       'Sucre', 'tabac restant de la cargaison', 'Farine', 'Orge',\n",
      "       'mousseline', 'Graines de lin', 'Blé', 'Avoine', 'Futailles vides',\n",
      "       'azur', 'tabac',\n",
      "       'restant de sa cargaison pris à croisic de caffé et de vin', 'amidon',\n",
      "       'restant de son chargement qu’il a apporté ici', 'Sel', 'Coton',\n",
      "       'Diverses marchandises', 'panier', 'ozier', 'huille de térbantine',\n",
      "       'marbre', 'marbres', 'restant de son chargement', 'balloteries',\n",
      "       'cloux', 'saumons', 'saumon', 'raisins', 'Fèves', 'Fruits', 'figues',\n",
      "       'genevre', 'Eau-de-vie', 'Vin', 'taffia', 'taffias', 'Huile'],\n",
      "      dtype='object')\n"
     ]
    },
    {
     "data": {
      "text/html": [
       "<div>\n",
       "<style scoped>\n",
       "    .dataframe tbody tr th:only-of-type {\n",
       "        vertical-align: middle;\n",
       "    }\n",
       "\n",
       "    .dataframe tbody tr th {\n",
       "        vertical-align: top;\n",
       "    }\n",
       "\n",
       "    .dataframe thead th {\n",
       "        text-align: right;\n",
       "    }\n",
       "</style>\n",
       "<table border=\"1\" class=\"dataframe\">\n",
       "  <thead>\n",
       "    <tr style=\"text-align: right;\">\n",
       "      <th></th>\n",
       "      <th>destination_state_1789_fr</th>\n",
       "      <th>cargo_standardized_fr</th>\n",
       "      <th>nb_ships</th>\n",
       "      <th>sum_tonnage</th>\n",
       "      <th>nb_ships2</th>\n",
       "      <th>sum_tonnage_per_product</th>\n",
       "      <th>colors</th>\n",
       "      <th>source</th>\n",
       "      <th>target</th>\n",
       "      <th>retarget</th>\n",
       "    </tr>\n",
       "  </thead>\n",
       "  <tbody>\n",
       "    <tr>\n",
       "      <th>37</th>\n",
       "      <td>Espagne</td>\n",
       "      <td>toile</td>\n",
       "      <td>1</td>\n",
       "      <td>120.0</td>\n",
       "      <td>1</td>\n",
       "      <td>40.000000</td>\n",
       "      <td>azure</td>\n",
       "      <td>0</td>\n",
       "      <td>47</td>\n",
       "      <td>58</td>\n",
       "    </tr>\n",
       "    <tr>\n",
       "      <th>61</th>\n",
       "      <td>Provinces-Unies</td>\n",
       "      <td>cuir</td>\n",
       "      <td>1</td>\n",
       "      <td>50.0</td>\n",
       "      <td>1</td>\n",
       "      <td>25.000000</td>\n",
       "      <td>azure</td>\n",
       "      <td>1</td>\n",
       "      <td>48</td>\n",
       "      <td>59</td>\n",
       "    </tr>\n",
       "    <tr>\n",
       "      <th>7</th>\n",
       "      <td>Autriche</td>\n",
       "      <td>Laine</td>\n",
       "      <td>2</td>\n",
       "      <td>86.0</td>\n",
       "      <td>2</td>\n",
       "      <td>43.000000</td>\n",
       "      <td>azure</td>\n",
       "      <td>2</td>\n",
       "      <td>49</td>\n",
       "      <td>60</td>\n",
       "    </tr>\n",
       "    <tr>\n",
       "      <th>8</th>\n",
       "      <td>Autriche</td>\n",
       "      <td>Peaux de boeuf</td>\n",
       "      <td>1</td>\n",
       "      <td>20.0</td>\n",
       "      <td>1</td>\n",
       "      <td>10.000000</td>\n",
       "      <td>azure</td>\n",
       "      <td>3</td>\n",
       "      <td>49</td>\n",
       "      <td>60</td>\n",
       "    </tr>\n",
       "    <tr>\n",
       "      <th>13</th>\n",
       "      <td>Autriche</td>\n",
       "      <td>cuirs</td>\n",
       "      <td>3</td>\n",
       "      <td>145.0</td>\n",
       "      <td>3</td>\n",
       "      <td>48.333333</td>\n",
       "      <td>azure</td>\n",
       "      <td>4</td>\n",
       "      <td>49</td>\n",
       "      <td>60</td>\n",
       "    </tr>\n",
       "    <tr>\n",
       "      <th>...</th>\n",
       "      <td>...</td>\n",
       "      <td>...</td>\n",
       "      <td>...</td>\n",
       "      <td>...</td>\n",
       "      <td>...</td>\n",
       "      <td>...</td>\n",
       "      <td>...</td>\n",
       "      <td>...</td>\n",
       "      <td>...</td>\n",
       "      <td>...</td>\n",
       "    </tr>\n",
       "    <tr>\n",
       "      <th>51</th>\n",
       "      <td>Provinces-Unies</td>\n",
       "      <td>Eau-de-vie</td>\n",
       "      <td>1</td>\n",
       "      <td>270.0</td>\n",
       "      <td>1</td>\n",
       "      <td>270.000000</td>\n",
       "      <td>purple</td>\n",
       "      <td>42</td>\n",
       "      <td>48</td>\n",
       "      <td>59</td>\n",
       "    </tr>\n",
       "    <tr>\n",
       "      <th>45</th>\n",
       "      <td>Portugal</td>\n",
       "      <td>Eau-de-vie</td>\n",
       "      <td>2</td>\n",
       "      <td>430.0</td>\n",
       "      <td>2</td>\n",
       "      <td>280.000000</td>\n",
       "      <td>purple</td>\n",
       "      <td>42</td>\n",
       "      <td>51</td>\n",
       "      <td>62</td>\n",
       "    </tr>\n",
       "    <tr>\n",
       "      <th>36</th>\n",
       "      <td>Espagne</td>\n",
       "      <td>genevre</td>\n",
       "      <td>1</td>\n",
       "      <td>120.0</td>\n",
       "      <td>1</td>\n",
       "      <td>40.000000</td>\n",
       "      <td>purple</td>\n",
       "      <td>41</td>\n",
       "      <td>47</td>\n",
       "      <td>58</td>\n",
       "    </tr>\n",
       "    <tr>\n",
       "      <th>54</th>\n",
       "      <td>Provinces-Unies</td>\n",
       "      <td>Huile</td>\n",
       "      <td>1</td>\n",
       "      <td>50.0</td>\n",
       "      <td>1</td>\n",
       "      <td>16.666667</td>\n",
       "      <td>salmon</td>\n",
       "      <td>46</td>\n",
       "      <td>48</td>\n",
       "      <td>59</td>\n",
       "    </tr>\n",
       "    <tr>\n",
       "      <th>6</th>\n",
       "      <td>Autriche</td>\n",
       "      <td>Huile</td>\n",
       "      <td>8</td>\n",
       "      <td>852.0</td>\n",
       "      <td>8</td>\n",
       "      <td>328.666667</td>\n",
       "      <td>salmon</td>\n",
       "      <td>46</td>\n",
       "      <td>49</td>\n",
       "      <td>60</td>\n",
       "    </tr>\n",
       "  </tbody>\n",
       "</table>\n",
       "<p>74 rows × 10 columns</p>\n",
       "</div>"
      ],
      "text/plain": [
       "   destination_state_1789_fr cargo_standardized_fr  nb_ships  sum_tonnage  \\\n",
       "37                   Espagne                 toile         1        120.0   \n",
       "61           Provinces-Unies                  cuir         1         50.0   \n",
       "7                   Autriche                 Laine         2         86.0   \n",
       "8                   Autriche        Peaux de boeuf         1         20.0   \n",
       "13                  Autriche                 cuirs         3        145.0   \n",
       "..                       ...                   ...       ...          ...   \n",
       "51           Provinces-Unies            Eau-de-vie         1        270.0   \n",
       "45                  Portugal            Eau-de-vie         2        430.0   \n",
       "36                   Espagne               genevre         1        120.0   \n",
       "54           Provinces-Unies                 Huile         1         50.0   \n",
       "6                   Autriche                 Huile         8        852.0   \n",
       "\n",
       "    nb_ships2  sum_tonnage_per_product  colors  source  target  retarget  \n",
       "37          1                40.000000   azure       0      47        58  \n",
       "61          1                25.000000   azure       1      48        59  \n",
       "7           2                43.000000   azure       2      49        60  \n",
       "8           1                10.000000   azure       3      49        60  \n",
       "13          3                48.333333   azure       4      49        60  \n",
       "..        ...                      ...     ...     ...     ...       ...  \n",
       "51          1               270.000000  purple      42      48        59  \n",
       "45          2               280.000000  purple      42      51        62  \n",
       "36          1                40.000000  purple      41      47        58  \n",
       "54          1                16.666667  salmon      46      48        59  \n",
       "6           8               328.666667  salmon      46      49        60  \n",
       "\n",
       "[74 rows x 10 columns]"
      ]
     },
     "execution_count": 136,
     "metadata": {},
     "output_type": "execute_result"
    }
   ],
   "source": [
    "# Lire le fichier \n",
    "#exports = pd.read_csv(\"./exports_dunkerque_par_pays_par_produits.csv\")\n",
    "\n",
    "#https://stackoverflow.com/questions/30631841/pandas-how-do-i-assign-values-based-on-multiple-conditions-for-existing-columns\n",
    "conditions = [\n",
    "    exports['cargo_standardized_fr'].apply(str.lower).isin(['avoine','orge', 'farines', 'farine', 'lin', 'blé', 'bled']) | exports['cargo_standardized_fr'].str.contains('lin'),\n",
    "    exports['cargo_standardized_fr'].eq('Café') | exports['cargo_standardized_fr'].isin(['Café', 'Sucre', 'tabac restant de la cargaison', 'cottes de tabac', 'tabac faisant restant de son chargement']),\n",
    "    exports['cargo_standardized_fr'].apply(str.lower).isin(['vin', 'eau-de-vie', 'genevre', 'taffias', 'taffia']),\n",
    "    exports['cargo_standardized_fr'].apply(str.lower).isin(['charbon', 'bois']),\n",
    "    exports['cargo_standardized_fr'].apply(str.lower).isin(['coton', 'mousseline']),\n",
    "    exports['cargo_standardized_fr'].isin(['Peaux de boeuf', 'Laine', 'toile', 'cuir', 'cuirs']) ,\n",
    "    exports['cargo_standardized_fr'].isin(['Diverses marchandises', 'panier', 'ozier', 'balloteries', 'cloux', 'huille de térbantine','marbre', 'marbres', 'restant de son chargement']),\n",
    "    exports['cargo_standardized_fr'].isin(['Fruits', 'Fèves', 'raisins', 'figues', 'saumon','saumons' ]) ,\n",
    "    exports['cargo_standardized_fr'].eq('Huile') ,\t\n",
    "]\n",
    "#{\"bled\",\"avoine\",\"orge\",\"Avoine\",\"farines\",\"lin\",\"blé\"}'\n",
    "choices = ['gold','coral', 'purple', 'black', 'lightblue', 'azure', 'lightgreen', 'pink', 'salmon']\n",
    "\n",
    "exports['colors'] = np.select(conditions, choices, default='grey')\n",
    "\n",
    "pd.DataFrame.sort_values(exports, by=['colors'], inplace=True)\n",
    "\n",
    "\n",
    "codes, uniques = pd.factorize(exports['destination_state_1789_fr'])\n",
    "codes_p, uniques_p = pd.factorize(exports['cargo_standardized_fr'])\n",
    "\n",
    "print(codes)\n",
    "print(uniques)\n",
    "\n",
    "print(codes_p)\n",
    "print(uniques_p)\n",
    "\n",
    "exports['source'] =  codes_p\n",
    "exports['target'] =  codes+len(uniques_p)\n",
    "exports['retarget'] =  codes+len(uniques_p)+len(uniques)\n",
    "\n",
    "exports\n"
   ]
  },
  {
   "cell_type": "markdown",
   "metadata": {},
   "source": [
    "## Dessiner un diagramme alluvial montrant la répartition des produits expédiés de Dunkerque par destination"
   ]
  },
  {
   "cell_type": "code",
   "execution_count": 134,
   "metadata": {},
   "outputs": [
    {
     "name": "stdout",
     "output_type": "stream",
     "text": [
      "(74, 10)\n"
     ]
    },
    {
     "data": {
      "application/vnd.plotly.v1+json": {
       "config": {
        "plotlyServerURL": "https://plot.ly"
       },
       "data": [
        {
         "link": {
          "color": [
           "azure",
           "azure",
           "azure",
           "azure",
           "azure",
           "azure",
           "black",
           "black",
           "coral",
           "coral",
           "coral",
           "coral",
           "coral",
           "coral",
           "coral",
           "coral",
           "gold",
           "gold",
           "gold",
           "gold",
           "gold",
           "gold",
           "gold",
           "gold",
           "grey",
           "grey",
           "grey",
           "grey",
           "grey",
           "grey",
           "grey",
           "grey",
           "grey",
           "grey",
           "grey",
           "grey",
           "lightblue",
           "lightgreen",
           "lightgreen",
           "lightgreen",
           "lightgreen",
           "lightgreen",
           "lightgreen",
           "lightgreen",
           "lightgreen",
           "lightgreen",
           "lightgreen",
           "lightgreen",
           "lightgreen",
           "lightgreen",
           "lightgreen",
           "lightgreen",
           "lightgreen",
           "lightgreen",
           "pink",
           "pink",
           "pink",
           "pink",
           "pink",
           "pink",
           "purple",
           "purple",
           "purple",
           "purple",
           "purple",
           "purple",
           "purple",
           "purple",
           "purple",
           "purple",
           "purple",
           "purple",
           "salmon",
           "salmon"
          ],
          "source": [
           0,
           1,
           2,
           3,
           4,
           1,
           5,
           6,
           7,
           8,
           9,
           7,
           10,
           10,
           11,
           8,
           12,
           13,
           14,
           15,
           13,
           16,
           16,
           17,
           18,
           19,
           20,
           20,
           20,
           21,
           22,
           20,
           23,
           20,
           24,
           20,
           25,
           26,
           26,
           26,
           27,
           28,
           29,
           30,
           31,
           32,
           26,
           26,
           33,
           34,
           26,
           26,
           26,
           26,
           35,
           36,
           37,
           38,
           39,
           40,
           41,
           41,
           42,
           43,
           41,
           43,
           43,
           44,
           45,
           42,
           42,
           41,
           46,
           46
          ],
          "target": [
           47,
           48,
           49,
           49,
           49,
           49,
           50,
           51,
           49,
           52,
           49,
           48,
           48,
           49,
           48,
           48,
           47,
           47,
           51,
           49,
           48,
           47,
           48,
           47,
           48,
           48,
           48,
           53,
           54,
           55,
           48,
           56,
           49,
           57,
           49,
           49,
           49,
           56,
           49,
           54,
           48,
           48,
           48,
           49,
           49,
           49,
           48,
           47,
           47,
           56,
           51,
           57,
           50,
           53,
           49,
           49,
           57,
           48,
           49,
           57,
           55,
           57,
           49,
           53,
           51,
           49,
           48,
           49,
           57,
           48,
           51,
           47,
           48,
           49
          ],
          "value": [
           40,
           25,
           43,
           10,
           48.333333333333336,
           20,
           175,
           240,
           252.33333333333334,
           70,
           74,
           1014.6666666666666,
           1798.3333333333333,
           574.3333333333334,
           70,
           46,
           100,
           108,
           100,
           70,
           180,
           287.5,
           125,
           390,
           193,
           40,
           690,
           321.6666666666667,
           100,
           150,
           30,
           315,
           44,
           20,
           471.6666666666667,
           26.666666666666668,
           18.333333333333332,
           115,
           895.1666666666666,
           100,
           13.333333333333334,
           89,
           50,
           37.5,
           180,
           240,
           733.6666666666666,
           40,
           57.5,
           50,
           12.5,
           58.666666666666664,
           175,
           56.666666666666664,
           20.666666666666664,
           30,
           11.666666666666666,
           60,
           301.6666666666667,
           11.666666666666666,
           12,
           61,
           280,
           56.666666666666664,
           12.5,
           161.33333333333334,
           163.33333333333334,
           18.333333333333332,
           6,
           270,
           280,
           40,
           16.666666666666668,
           328.6666666666667
          ]
         },
         "node": {
          "color": "grey",
          "label": [
           "toile",
           "cuir",
           "Laine",
           "Peaux de boeuf",
           "cuirs",
           "Charbon",
           "Bois",
           "Café",
           "cottes de tabac",
           "tabac faisant restant de son chargement",
           "Sucre",
           "tabac restant de la cargaison",
           "Farine",
           "Orge",
           "mousseline",
           "Graines de lin",
           "Blé",
           "Avoine",
           "Futailles vides",
           "azur",
           "tabac",
           "restant de sa cargaison pris à croisic de caffé et de vin",
           "amidon",
           "restant de son chargement qu’il a apporté ici",
           "Sel",
           "Coton",
           "Diverses marchandises",
           "panier",
           "ozier",
           "huille de térbantine",
           "marbre",
           "marbres",
           "restant de son chargement",
           "balloteries",
           "cloux",
           "saumons",
           "saumon",
           "raisins",
           "Fèves",
           "Fruits",
           "figues",
           "genevre",
           "Eau-de-vie",
           "Vin",
           "taffia",
           "taffias",
           "Huile",
           "Espagne",
           "Provinces-Unies",
           "Autriche",
           "Etats-Unis d'Amérique",
           "Portugal",
           "Brême",
           "Hambourg",
           "République de Gênes",
           "Suède",
           "Toscane",
           "Danemark"
          ],
          "line": {
           "color": "black",
           "width": 0.5
          },
          "pad": 15,
          "thickness": 30
         },
         "type": "sankey"
        }
       ],
       "layout": {
        "font": {
         "size": 10
        },
        "height": 1000,
        "template": {
         "data": {
          "bar": [
           {
            "error_x": {
             "color": "#2a3f5f"
            },
            "error_y": {
             "color": "#2a3f5f"
            },
            "marker": {
             "line": {
              "color": "#E5ECF6",
              "width": 0.5
             },
             "pattern": {
              "fillmode": "overlay",
              "size": 10,
              "solidity": 0.2
             }
            },
            "type": "bar"
           }
          ],
          "barpolar": [
           {
            "marker": {
             "line": {
              "color": "#E5ECF6",
              "width": 0.5
             },
             "pattern": {
              "fillmode": "overlay",
              "size": 10,
              "solidity": 0.2
             }
            },
            "type": "barpolar"
           }
          ],
          "carpet": [
           {
            "aaxis": {
             "endlinecolor": "#2a3f5f",
             "gridcolor": "white",
             "linecolor": "white",
             "minorgridcolor": "white",
             "startlinecolor": "#2a3f5f"
            },
            "baxis": {
             "endlinecolor": "#2a3f5f",
             "gridcolor": "white",
             "linecolor": "white",
             "minorgridcolor": "white",
             "startlinecolor": "#2a3f5f"
            },
            "type": "carpet"
           }
          ],
          "choropleth": [
           {
            "colorbar": {
             "outlinewidth": 0,
             "ticks": ""
            },
            "type": "choropleth"
           }
          ],
          "contour": [
           {
            "colorbar": {
             "outlinewidth": 0,
             "ticks": ""
            },
            "colorscale": [
             [
              0,
              "#0d0887"
             ],
             [
              0.1111111111111111,
              "#46039f"
             ],
             [
              0.2222222222222222,
              "#7201a8"
             ],
             [
              0.3333333333333333,
              "#9c179e"
             ],
             [
              0.4444444444444444,
              "#bd3786"
             ],
             [
              0.5555555555555556,
              "#d8576b"
             ],
             [
              0.6666666666666666,
              "#ed7953"
             ],
             [
              0.7777777777777778,
              "#fb9f3a"
             ],
             [
              0.8888888888888888,
              "#fdca26"
             ],
             [
              1,
              "#f0f921"
             ]
            ],
            "type": "contour"
           }
          ],
          "contourcarpet": [
           {
            "colorbar": {
             "outlinewidth": 0,
             "ticks": ""
            },
            "type": "contourcarpet"
           }
          ],
          "heatmap": [
           {
            "colorbar": {
             "outlinewidth": 0,
             "ticks": ""
            },
            "colorscale": [
             [
              0,
              "#0d0887"
             ],
             [
              0.1111111111111111,
              "#46039f"
             ],
             [
              0.2222222222222222,
              "#7201a8"
             ],
             [
              0.3333333333333333,
              "#9c179e"
             ],
             [
              0.4444444444444444,
              "#bd3786"
             ],
             [
              0.5555555555555556,
              "#d8576b"
             ],
             [
              0.6666666666666666,
              "#ed7953"
             ],
             [
              0.7777777777777778,
              "#fb9f3a"
             ],
             [
              0.8888888888888888,
              "#fdca26"
             ],
             [
              1,
              "#f0f921"
             ]
            ],
            "type": "heatmap"
           }
          ],
          "heatmapgl": [
           {
            "colorbar": {
             "outlinewidth": 0,
             "ticks": ""
            },
            "colorscale": [
             [
              0,
              "#0d0887"
             ],
             [
              0.1111111111111111,
              "#46039f"
             ],
             [
              0.2222222222222222,
              "#7201a8"
             ],
             [
              0.3333333333333333,
              "#9c179e"
             ],
             [
              0.4444444444444444,
              "#bd3786"
             ],
             [
              0.5555555555555556,
              "#d8576b"
             ],
             [
              0.6666666666666666,
              "#ed7953"
             ],
             [
              0.7777777777777778,
              "#fb9f3a"
             ],
             [
              0.8888888888888888,
              "#fdca26"
             ],
             [
              1,
              "#f0f921"
             ]
            ],
            "type": "heatmapgl"
           }
          ],
          "histogram": [
           {
            "marker": {
             "pattern": {
              "fillmode": "overlay",
              "size": 10,
              "solidity": 0.2
             }
            },
            "type": "histogram"
           }
          ],
          "histogram2d": [
           {
            "colorbar": {
             "outlinewidth": 0,
             "ticks": ""
            },
            "colorscale": [
             [
              0,
              "#0d0887"
             ],
             [
              0.1111111111111111,
              "#46039f"
             ],
             [
              0.2222222222222222,
              "#7201a8"
             ],
             [
              0.3333333333333333,
              "#9c179e"
             ],
             [
              0.4444444444444444,
              "#bd3786"
             ],
             [
              0.5555555555555556,
              "#d8576b"
             ],
             [
              0.6666666666666666,
              "#ed7953"
             ],
             [
              0.7777777777777778,
              "#fb9f3a"
             ],
             [
              0.8888888888888888,
              "#fdca26"
             ],
             [
              1,
              "#f0f921"
             ]
            ],
            "type": "histogram2d"
           }
          ],
          "histogram2dcontour": [
           {
            "colorbar": {
             "outlinewidth": 0,
             "ticks": ""
            },
            "colorscale": [
             [
              0,
              "#0d0887"
             ],
             [
              0.1111111111111111,
              "#46039f"
             ],
             [
              0.2222222222222222,
              "#7201a8"
             ],
             [
              0.3333333333333333,
              "#9c179e"
             ],
             [
              0.4444444444444444,
              "#bd3786"
             ],
             [
              0.5555555555555556,
              "#d8576b"
             ],
             [
              0.6666666666666666,
              "#ed7953"
             ],
             [
              0.7777777777777778,
              "#fb9f3a"
             ],
             [
              0.8888888888888888,
              "#fdca26"
             ],
             [
              1,
              "#f0f921"
             ]
            ],
            "type": "histogram2dcontour"
           }
          ],
          "mesh3d": [
           {
            "colorbar": {
             "outlinewidth": 0,
             "ticks": ""
            },
            "type": "mesh3d"
           }
          ],
          "parcoords": [
           {
            "line": {
             "colorbar": {
              "outlinewidth": 0,
              "ticks": ""
             }
            },
            "type": "parcoords"
           }
          ],
          "pie": [
           {
            "automargin": true,
            "type": "pie"
           }
          ],
          "scatter": [
           {
            "fillpattern": {
             "fillmode": "overlay",
             "size": 10,
             "solidity": 0.2
            },
            "type": "scatter"
           }
          ],
          "scatter3d": [
           {
            "line": {
             "colorbar": {
              "outlinewidth": 0,
              "ticks": ""
             }
            },
            "marker": {
             "colorbar": {
              "outlinewidth": 0,
              "ticks": ""
             }
            },
            "type": "scatter3d"
           }
          ],
          "scattercarpet": [
           {
            "marker": {
             "colorbar": {
              "outlinewidth": 0,
              "ticks": ""
             }
            },
            "type": "scattercarpet"
           }
          ],
          "scattergeo": [
           {
            "marker": {
             "colorbar": {
              "outlinewidth": 0,
              "ticks": ""
             }
            },
            "type": "scattergeo"
           }
          ],
          "scattergl": [
           {
            "marker": {
             "colorbar": {
              "outlinewidth": 0,
              "ticks": ""
             }
            },
            "type": "scattergl"
           }
          ],
          "scattermapbox": [
           {
            "marker": {
             "colorbar": {
              "outlinewidth": 0,
              "ticks": ""
             }
            },
            "type": "scattermapbox"
           }
          ],
          "scatterpolar": [
           {
            "marker": {
             "colorbar": {
              "outlinewidth": 0,
              "ticks": ""
             }
            },
            "type": "scatterpolar"
           }
          ],
          "scatterpolargl": [
           {
            "marker": {
             "colorbar": {
              "outlinewidth": 0,
              "ticks": ""
             }
            },
            "type": "scatterpolargl"
           }
          ],
          "scatterternary": [
           {
            "marker": {
             "colorbar": {
              "outlinewidth": 0,
              "ticks": ""
             }
            },
            "type": "scatterternary"
           }
          ],
          "surface": [
           {
            "colorbar": {
             "outlinewidth": 0,
             "ticks": ""
            },
            "colorscale": [
             [
              0,
              "#0d0887"
             ],
             [
              0.1111111111111111,
              "#46039f"
             ],
             [
              0.2222222222222222,
              "#7201a8"
             ],
             [
              0.3333333333333333,
              "#9c179e"
             ],
             [
              0.4444444444444444,
              "#bd3786"
             ],
             [
              0.5555555555555556,
              "#d8576b"
             ],
             [
              0.6666666666666666,
              "#ed7953"
             ],
             [
              0.7777777777777778,
              "#fb9f3a"
             ],
             [
              0.8888888888888888,
              "#fdca26"
             ],
             [
              1,
              "#f0f921"
             ]
            ],
            "type": "surface"
           }
          ],
          "table": [
           {
            "cells": {
             "fill": {
              "color": "#EBF0F8"
             },
             "line": {
              "color": "white"
             }
            },
            "header": {
             "fill": {
              "color": "#C8D4E3"
             },
             "line": {
              "color": "white"
             }
            },
            "type": "table"
           }
          ]
         },
         "layout": {
          "annotationdefaults": {
           "arrowcolor": "#2a3f5f",
           "arrowhead": 0,
           "arrowwidth": 1
          },
          "autotypenumbers": "strict",
          "coloraxis": {
           "colorbar": {
            "outlinewidth": 0,
            "ticks": ""
           }
          },
          "colorscale": {
           "diverging": [
            [
             0,
             "#8e0152"
            ],
            [
             0.1,
             "#c51b7d"
            ],
            [
             0.2,
             "#de77ae"
            ],
            [
             0.3,
             "#f1b6da"
            ],
            [
             0.4,
             "#fde0ef"
            ],
            [
             0.5,
             "#f7f7f7"
            ],
            [
             0.6,
             "#e6f5d0"
            ],
            [
             0.7,
             "#b8e186"
            ],
            [
             0.8,
             "#7fbc41"
            ],
            [
             0.9,
             "#4d9221"
            ],
            [
             1,
             "#276419"
            ]
           ],
           "sequential": [
            [
             0,
             "#0d0887"
            ],
            [
             0.1111111111111111,
             "#46039f"
            ],
            [
             0.2222222222222222,
             "#7201a8"
            ],
            [
             0.3333333333333333,
             "#9c179e"
            ],
            [
             0.4444444444444444,
             "#bd3786"
            ],
            [
             0.5555555555555556,
             "#d8576b"
            ],
            [
             0.6666666666666666,
             "#ed7953"
            ],
            [
             0.7777777777777778,
             "#fb9f3a"
            ],
            [
             0.8888888888888888,
             "#fdca26"
            ],
            [
             1,
             "#f0f921"
            ]
           ],
           "sequentialminus": [
            [
             0,
             "#0d0887"
            ],
            [
             0.1111111111111111,
             "#46039f"
            ],
            [
             0.2222222222222222,
             "#7201a8"
            ],
            [
             0.3333333333333333,
             "#9c179e"
            ],
            [
             0.4444444444444444,
             "#bd3786"
            ],
            [
             0.5555555555555556,
             "#d8576b"
            ],
            [
             0.6666666666666666,
             "#ed7953"
            ],
            [
             0.7777777777777778,
             "#fb9f3a"
            ],
            [
             0.8888888888888888,
             "#fdca26"
            ],
            [
             1,
             "#f0f921"
            ]
           ]
          },
          "colorway": [
           "#636efa",
           "#EF553B",
           "#00cc96",
           "#ab63fa",
           "#FFA15A",
           "#19d3f3",
           "#FF6692",
           "#B6E880",
           "#FF97FF",
           "#FECB52"
          ],
          "font": {
           "color": "#2a3f5f"
          },
          "geo": {
           "bgcolor": "white",
           "lakecolor": "white",
           "landcolor": "#E5ECF6",
           "showlakes": true,
           "showland": true,
           "subunitcolor": "white"
          },
          "hoverlabel": {
           "align": "left"
          },
          "hovermode": "closest",
          "mapbox": {
           "style": "light"
          },
          "paper_bgcolor": "white",
          "plot_bgcolor": "#E5ECF6",
          "polar": {
           "angularaxis": {
            "gridcolor": "white",
            "linecolor": "white",
            "ticks": ""
           },
           "bgcolor": "#E5ECF6",
           "radialaxis": {
            "gridcolor": "white",
            "linecolor": "white",
            "ticks": ""
           }
          },
          "scene": {
           "xaxis": {
            "backgroundcolor": "#E5ECF6",
            "gridcolor": "white",
            "gridwidth": 2,
            "linecolor": "white",
            "showbackground": true,
            "ticks": "",
            "zerolinecolor": "white"
           },
           "yaxis": {
            "backgroundcolor": "#E5ECF6",
            "gridcolor": "white",
            "gridwidth": 2,
            "linecolor": "white",
            "showbackground": true,
            "ticks": "",
            "zerolinecolor": "white"
           },
           "zaxis": {
            "backgroundcolor": "#E5ECF6",
            "gridcolor": "white",
            "gridwidth": 2,
            "linecolor": "white",
            "showbackground": true,
            "ticks": "",
            "zerolinecolor": "white"
           }
          },
          "shapedefaults": {
           "line": {
            "color": "#2a3f5f"
           }
          },
          "ternary": {
           "aaxis": {
            "gridcolor": "white",
            "linecolor": "white",
            "ticks": ""
           },
           "baxis": {
            "gridcolor": "white",
            "linecolor": "white",
            "ticks": ""
           },
           "bgcolor": "#E5ECF6",
           "caxis": {
            "gridcolor": "white",
            "linecolor": "white",
            "ticks": ""
           }
          },
          "title": {
           "x": 0.05
          },
          "xaxis": {
           "automargin": true,
           "gridcolor": "white",
           "linecolor": "white",
           "ticks": "",
           "title": {
            "standoff": 15
           },
           "zerolinecolor": "white",
           "zerolinewidth": 2
          },
          "yaxis": {
           "automargin": true,
           "gridcolor": "white",
           "linecolor": "white",
           "ticks": "",
           "title": {
            "standoff": 15
           },
           "zerolinecolor": "white",
           "zerolinewidth": 2
          }
         }
        },
        "title": {
         "text": "Export des produits depuis Dunkerque vers l'étranger (hors Grande-Bretagne) en 1789 - (hors pêche)"
        },
        "width": 700
       }
      }
     },
     "metadata": {},
     "output_type": "display_data"
    }
   ],
   "source": [
    "#from https://chart-studio.plotly.com/~alishobeiri/1591/plotly-sankey-diagrams/#/ \n",
    "#https://medium.com/plotly/4-interactive-sankey-diagram-made-in-python-3057b9ee8616\n",
    "#https://stackoverflow.com/questions/59845407/plotly-express-vs-altair-vega-lite-for-interactive-plots\n",
    "# https://matplotlib.org/3.1.0/tutorials/colors/colors.html\n",
    "#https://towardsdatascience.com/sankey-diagram-basics-with-pythons-plotly-7a13d557401a \n",
    "#https://chart-studio.plotly.com/~alishobeiri/1591/plotly-sankey-diagrams/#/\n",
    "#https://errorsfixing.com/plotly-sankey-is-it-able-to-put-the-node-labels-to-the-right-for-last-layercolumn/ \n",
    "\n",
    "import json, urllib\n",
    "import plotly as py\n",
    "import pandas as pd\n",
    "import numpy as np\n",
    "import plotly.graph_objects as go\n",
    "\n",
    "\n",
    "print(exports.shape)#(74, 10)\n",
    "\n",
    "\n",
    "\n",
    "fig =  go.Figure(data=[go.Sankey(\n",
    "    node = dict(\n",
    "      pad = 15,\n",
    "      thickness = 30,\n",
    "      line = dict(color = \"black\", width = 0.5),\n",
    "      label = uniques_p.tolist()+uniques.tolist(),\n",
    "      color = 'grey'\n",
    "      #color = exports['colors'].dropna(axis=0, how='any')\n",
    "    ),\n",
    "    link = dict(\n",
    "      source = exports['source'],\n",
    "      target = exports['target'],\n",
    "      value = exports['sum_tonnage_per_product'].dropna(axis=0, how='any'),\n",
    "      color = exports['colors'].dropna(axis=0, how='any'),\n",
    "  )\n",
    ")])\n",
    "\n",
    "\n",
    "\n",
    "\n",
    "fig.update_layout(title_text=\"Export des produits depuis Dunkerque vers l'étranger (hors Grande-Bretagne) en 1789 - (hors pêche)\", font_size=10, height = 1000, width=700)\n",
    "fig.show()\n",
    "\n",
    "import plotly.io as pio\n",
    "\n",
    "pio.write_image(fig, './sankey_export_product_Dunkerque_1789.png', format='png', scale=1.5, height=1400, width=700)\n",
    "\n"
   ]
  },
  {
   "cell_type": "code",
   "execution_count": 125,
   "metadata": {},
   "outputs": [
    {
     "data": {
      "application/vnd.plotly.v1+json": {
       "config": {
        "linkText": "Export to plot.ly",
        "plotlyServerURL": "https://plot.ly",
        "showLink": false
       },
       "data": [
        {
         "link": {
          "label": [
           8,
           4,
           2,
           8,
           4,
           2
          ],
          "source": [
           0,
           1,
           0,
           2,
           3,
           3
          ],
          "target": [
           2,
           3,
           3,
           4,
           4,
           5
          ],
          "value": [
           8,
           4,
           2,
           8,
           4,
           2
          ]
         },
         "node": {
          "color": [
           "blue",
           "blue",
           "blue",
           "blue",
           "gray",
           "white"
          ],
          "label": [
           "A1",
           "A2",
           "B1",
           "B2",
           "C1",
           "C2"
          ],
          "line": {
           "color": "black",
           "width": 0.5
          },
          "pad": 15,
          "thickness": 20
         },
         "type": "sankey"
        }
       ],
       "layout": {
        "annotations": [
         {
          "showarrow": false,
          "text": "8",
          "x": 0.25,
          "y": 0.75
         },
         {
          "showarrow": false,
          "text": "4",
          "x": 0.75,
          "y": 0.25
         }
        ],
        "font": {
         "size": 10
        },
        "title": "Basic Sankey Diagram"
       }
      }
     },
     "metadata": {},
     "output_type": "display_data"
    }
   ],
   "source": [
    "# Un exemple de code, on s'en fout. \n",
    "\n",
    "data = dict(\n",
    "type='sankey',\n",
    "node = dict(\n",
    "  pad = 15,\n",
    "  thickness = 20,\n",
    "  line = dict(\n",
    "    color = \"black\",\n",
    "    width = 0.5\n",
    "  ),\n",
    "  label = [\"A1\", \"A2\", \"B1\", \"B2\", \"C1\", \"C2\"],\n",
    "\n",
    "  color = [\"blue\", \"blue\", \"blue\", \"blue\", \n",
    "  \"gray\", \"white\"]),#attempt to make it less visible\n",
    "\n",
    "link = dict(\n",
    "  source = [0,1,0,2,3,3],\n",
    "  target = [2,3,3,4,4,5],\n",
    "  value = [8,4,2,8,4,2],\n",
    "  # attempt to add labels\n",
    "  label= [8,4,2,8,4,2]))\n",
    "\n",
    "\n",
    "import plotly.offline as py\n",
    "layout =  dict(\n",
    "  title = \"Basic Sankey Diagram\",\n",
    "  font = dict(\n",
    "    size = 10\n",
    "  ),\n",
    "    annotations=[\n",
    "        dict(\n",
    "            x=0.25,\n",
    "            y=0.75,\n",
    "            text='8',\n",
    "            showarrow=False\n",
    "        ),\n",
    "        dict(\n",
    "            x=0.75,\n",
    "            y=0.25,\n",
    "            text='4',\n",
    "            showarrow=False\n",
    "        )\n",
    "    ]\n",
    " )\n",
    "\n",
    "fig = dict(data=[data], layout=layout)\n",
    "py.iplot(fig, validate=False)"
   ]
  },
  {
   "cell_type": "markdown",
   "metadata": {},
   "source": [
    "## Export par pays et par produit"
   ]
  },
  {
   "cell_type": "code",
   "execution_count": 138,
   "metadata": {},
   "outputs": [
    {
     "name": "stdout",
     "output_type": "stream",
     "text": [
      "Index(['destination_state_1789_fr', 'cargo_standardized_fr', 'nb_ships',\n",
      "       'sum_tonnage', 'nb_ships2', 'sum_tonnage_per_product'],\n",
      "      dtype='object')\n"
     ]
    },
    {
     "name": "stderr",
     "output_type": "stream",
     "text": [
      "C:\\Users\\cplume01\\AppData\\Local\\Temp\\ipykernel_38568\\1813640315.py:1: FutureWarning:\n",
      "\n",
      "Indexing with multiple keys (implicitly converted to a tuple of keys) will be deprecated, use a list instead.\n",
      "\n"
     ]
    }
   ],
   "source": [
    "\n",
    "# Export par pays et par produit (faire une carte chroplèthe serait alors possible)\n",
    "\n",
    "exports2 = pd.DataFrame(exports_dunkerque.groupby([ \"destination_uhgs_id\",\"cargo_standardized_fr\"])['tonnage','tonnage_per_product'].agg(['count', 'sum'])).reset_index()\n",
    "exports2.set_axis(['destination_state_1789_fr', 'cargo_standardized_fr', 'nb_ships', 'sum_tonnage', 'nb_ships2', 'sum_tonnage_per_product'], axis=1, inplace=True)\n",
    "print(exports2.columns)\n",
    "exports2.set_axis(['destination_state_1789_fr', 'cargo_standardized_fr', 'nb_ships', 'sum_tonnage', 'nb_ships2', 'sum_tonnage_per_product'], axis=1)\n",
    "exports2.to_csv (r'./exports_dunkerque_par_pays_par_produits.csv', index = None)\n",
    "\n",
    "\n",
    "\n",
    "\n"
   ]
  },
  {
   "cell_type": "markdown",
   "metadata": {},
   "source": [
    "# Fabriquer un fichier résumé par port et détaillant les arrivées par produits sur chaque ligne. "
   ]
  },
  {
   "cell_type": "code",
   "execution_count": 150,
   "metadata": {},
   "outputs": [
    {
     "name": "stdout",
     "output_type": "stream",
     "text": [
      "Index(['cargo', 'cargo_standardized_fr', 'departure_uhgs_id', 'departure_fr',\n",
      "       'destination_uhgs_id', 'destination_fr',\n",
      "       'destination_partner_balance_supp_1789', 'destination_substate_1789_fr',\n",
      "       'destination_state_1789_fr', 'tonnage', 'outdate_fixed', 'nb_cargo',\n",
      "       'tonnage_per_product'],\n",
      "      dtype='object')\n",
      "(23, 25)\n",
      "(23, 4)\n",
      "(23, 30)\n"
     ]
    },
    {
     "name": "stderr",
     "output_type": "stream",
     "text": [
      "C:\\Users\\cplume01\\AppData\\Local\\Temp\\ipykernel_38568\\2672930657.py:31: FutureWarning:\n",
      "\n",
      "Indexing with multiple keys (implicitly converted to a tuple of keys) will be deprecated, use a list instead.\n",
      "\n",
      "C:\\Users\\cplume01\\AppData\\Local\\Temp\\ipykernel_38568\\2672930657.py:50: FutureWarning:\n",
      "\n",
      "Indexing with multiple keys (implicitly converted to a tuple of keys) will be deprecated, use a list instead.\n",
      "\n"
     ]
    }
   ],
   "source": [
    "#https://stackoverflow.com/questions/30631841/pandas-how-do-i-assign-values-based-on-multiple-conditions-for-existing-columns\n",
    "\n",
    "import pandas as pd\n",
    "import pandas.core.frame as pf\n",
    "\n",
    "# Lire le fichier \n",
    "exports_dunkerque = pd.read_csv(\"./exports_dunkerque.csv\")\n",
    "exports_dunkerque['tonnage_per_product'] = exports_dunkerque['tonnage'] / exports_dunkerque['nb_cargo']\n",
    "\n",
    "print(exports_dunkerque.columns)\n",
    "# Calculer le détail par produit\n",
    "\n",
    "#Regroupement en catégories ad-hoc\n",
    "conditions = [\n",
    "    #exports_dunkerque['cargo_standardized_fr'] is not None, \n",
    "    exports_dunkerque['cargo_standardized_fr'].apply(str.lower).isin(['avoine','orge', 'farines', 'farine', 'lin', 'blé', 'bled']) \n",
    "    | exports['cargo_standardized_fr'].str.contains('lin'),\n",
    "    exports_dunkerque['cargo_standardized_fr'].eq('Café') | exports['cargo_standardized_fr'].isin(['Café', 'Sucre', 'coton', 'coton', 'mousseline', 'tabac restant de la cargaison', 'cottes de tabac', 'tabac faisant restant de son chargement']),\n",
    "    exports_dunkerque['cargo_standardized_fr'].apply(str.lower).isin(['vin', 'eau-de-vie', 'genevre', 'taffias', 'taffia']),\n",
    "    exports_dunkerque['cargo_standardized_fr'].apply(str.lower).isin(['charbon', 'bois']),\n",
    "    exports_dunkerque['cargo_standardized_fr'].isin(['Peaux de boeuf', 'Laine', 'toile', 'cuir', 'cuirs']) ,\n",
    "    exports_dunkerque['cargo_standardized_fr'].isin(['Diverses marchandises', 'panier', 'ozier', 'balloteries', 'cloux', 'marbre', 'marbres','restant de son chargement']),\n",
    "    exports_dunkerque['cargo_standardized_fr'].isin([ 'Fruits', 'Fèves', 'Huile', 'raisins', 'figues', 'saumon','saumons']) \n",
    "]\n",
    "\n",
    "choices = [ 'cereales','produits coloniaux', 'alcools', 'chauffage',  'tissus', 'divers', 'alimentation']\n",
    "\n",
    "exports_dunkerque['categorie'] = np.select(conditions, choices, default='sans categorie')\n",
    "\n",
    "#Regrouper par destination et catégorie et agréger sur tonnage et tonnage_per_product\n",
    "exports_tomap = pd.DataFrame(exports_dunkerque.groupby([ \"destination_uhgs_id\",\"categorie\"])['tonnage', 'tonnage_per_product'].agg(['count', 'sum'])).reset_index()\n",
    "exports_tomap.set_axis(['destination_uhgs_id', 'categorie', 'nb_ships', 'sum_tonnage', 'nb_ships2', 'sum_tonnage_per_product'], axis=1, inplace=True)\n",
    "exports_tomap.drop('nb_ships2', axis=1, inplace=True)\n",
    "exports_tomap = exports_tomap.round(1)\n",
    "exports_tomap.to_csv (r'./exports_dunkerque_par_port_par_categorie_produits_bad.csv', index = None)\n",
    "\n",
    "# Unstacker les produits : un par colonne\n",
    "exports_tomap.set_index([\"destination_uhgs_id\", \"categorie\"], inplace=True)\n",
    "cat_nb_ships = ['nb_ships_'+item for item in (choices+['sans categorie'])]\n",
    "cat_sum_tonnage = ['sum_tonnage_'+item for item in (choices+['sans categorie'])]\n",
    "cat_sum_tonnage_per_product = ['sum_tonnage_per_product_'+item for item in (choices+['sans categorie'])]\n",
    "exports_tomap = exports_tomap.unstack().fillna(0)\n",
    "col = cat_nb_ships + cat_sum_tonnage + cat_sum_tonnage_per_product\n",
    "#print (col)\n",
    "exports_tomap.set_axis(col, axis=1, inplace=True)\n",
    "exports_tomap = exports_tomap.reset_index(level='destination_uhgs_id', col_level=1)\n",
    "print(exports_tomap.shape) #(23, 25)\n",
    "\n",
    "#Calculer le total par port\n",
    "total = pd.DataFrame(exports_dunkerque.groupby([ \"destination_uhgs_id\"])['tonnage', 'tonnage_per_product'].agg(['count', 'sum'])).reset_index()\n",
    "total.set_axis(['destination_uhgs_id', 'nb_ships_total', 'sum_tonnage_total', 'nb_ships2', 'sum_tonnage_per_product_total'], axis=1, inplace=True)\n",
    "total.drop('nb_ships2', axis=1, inplace=True)\n",
    "print(total.shape) #(23, 4)\n",
    "\n",
    "# Fusionner les 2 dataframes\n",
    "exports_tomap = pd.merge(\n",
    "    exports_tomap,\n",
    "    total,\n",
    "    how=\"inner\",\n",
    "    left_on='destination_uhgs_id',\n",
    "    right_on='destination_uhgs_id',\n",
    "    sort=True,\n",
    "    indicator=False)\n",
    "exports_tomap['departure_uhgs_id'] = 'A0204180'\n",
    "exports_tomap['departure_fr'] = 'Dunkerque'\n",
    "\n",
    "print(exports_tomap.shape)#(23, 30)\n",
    "\n",
    "exports_tomap\n",
    "\n",
    "exports_tomap.to_csv (r'./exports_dunkerque_par_port_par_categorie_produits.csv', index = None)"
   ]
  },
  {
   "cell_type": "markdown",
   "metadata": {},
   "source": [
    "## Faire une carte avec VegaLite et Altair"
   ]
  },
  {
   "cell_type": "code",
   "execution_count": 151,
   "metadata": {},
   "outputs": [
    {
     "name": "stdout",
     "output_type": "stream",
     "text": [
      "Index(['destination_uhgs_id', 'nb_ships_cereales',\n",
      "       'nb_ships_produits coloniaux', 'nb_ships_alcools', 'nb_ships_chauffage',\n",
      "       'nb_ships_tissus', 'nb_ships_divers', 'nb_ships_alimentation',\n",
      "       'nb_ships_sans categorie', 'sum_tonnage_cereales',\n",
      "       'sum_tonnage_produits coloniaux', 'sum_tonnage_alcools',\n",
      "       'sum_tonnage_chauffage', 'sum_tonnage_tissus', 'sum_tonnage_divers',\n",
      "       'sum_tonnage_alimentation', 'sum_tonnage_sans categorie',\n",
      "       'sum_tonnage_per_product_cereales',\n",
      "       'sum_tonnage_per_product_produits coloniaux',\n",
      "       'sum_tonnage_per_product_alcools', 'sum_tonnage_per_product_chauffage',\n",
      "       'sum_tonnage_per_product_tissus', 'sum_tonnage_per_product_divers',\n",
      "       'sum_tonnage_per_product_alimentation',\n",
      "       'sum_tonnage_per_product_sans categorie', 'nb_ships_total',\n",
      "       'sum_tonnage_total', 'sum_tonnage_per_product_total',\n",
      "       'departure_uhgs_id', 'departure_fr'],\n",
      "      dtype='object')\n",
      "Index(['destination_uhgs_id', 'nb_ships_cereales',\n",
      "       'nb_ships_produits coloniaux', 'nb_ships_alcools', 'nb_ships_chauffage',\n",
      "       'nb_ships_tissus', 'nb_ships_divers', 'nb_ships_alimentation',\n",
      "       'nb_ships_sans categorie', 'sum_tonnage_cereales',\n",
      "       'sum_tonnage_produits coloniaux', 'sum_tonnage_alcools',\n",
      "       'sum_tonnage_chauffage', 'sum_tonnage_tissus', 'sum_tonnage_divers',\n",
      "       'sum_tonnage_alimentation', 'sum_tonnage_sans categorie',\n",
      "       'sum_tonnage_per_product_cereales',\n",
      "       'sum_tonnage_per_product_produits coloniaux',\n",
      "       'sum_tonnage_per_product_alcools', 'sum_tonnage_per_product_chauffage',\n",
      "       'sum_tonnage_per_product_tissus', 'sum_tonnage_per_product_divers',\n",
      "       'sum_tonnage_per_product_alimentation',\n",
      "       'sum_tonnage_per_product_sans categorie', 'nb_ships_total',\n",
      "       'sum_tonnage_total', 'sum_tonnage_per_product_total',\n",
      "       'departure_uhgs_id', 'departure_fr', 'Unnamed: 0', 'ogc_fid', 'uhgs_id',\n",
      "       'x', 'y', 'total', 'toponym', 'toponyme_standard_fr',\n",
      "       'toponyme_standard_en', 'substate_1789_fr', 'state_1789_fr',\n",
      "       'substate_1789_en', 'state_1789_en', 'belonging_states',\n",
      "       'belonging_substates', 'status', 'has_a_clerk', 'geonameid',\n",
      "       'admiralty', 'province', 'shiparea', 'ferme_direction', 'ferme_bureau',\n",
      "       'partner_balance_1789', 'partner_balance_supp_1789', 'point'],\n",
      "      dtype='object')\n"
     ]
    }
   ],
   "source": [
    "#Pré-requis\n",
    "#pip install altair vega_datasets panel altair_saver bokeh jupyter_bokeh\n",
    "\n",
    "# D'abord vers la jointure avec les données géographiques\n",
    "\n",
    "# Aller chercher les données de ports via l'API (à rajouter dans le load_data.sh)\n",
    "#curl -o data/navigo_ports.csv \"data.portic.fr/api/ports/?format=csv&srid=4326\"\n",
    "ports = pd.read_csv(\"http://data.portic.fr/api/ports/?format=csv&srid=4326\", encoding='utf8')\n",
    "\n",
    "# Fusionner les 2 dataframes\n",
    "exports_tomap = pd.merge(\n",
    "    exports_tomap,\n",
    "    ports,\n",
    "    how=\"inner\",\n",
    "    left_on='destination_uhgs_id',\n",
    "    right_on='uhgs_id',\n",
    "    sort=True,\n",
    "    indicator=False)\n",
    "\n",
    "\n"
   ]
  },
  {
   "cell_type": "code",
   "execution_count": 171,
   "metadata": {},
   "outputs": [
    {
     "data": {
      "application/javascript": "\n(function(root) {\n  function now() {\n    return new Date();\n  }\n\n  var force = true;\n\n  if (typeof root._bokeh_onload_callbacks === \"undefined\" || force === true) {\n    root._bokeh_onload_callbacks = [];\n    root._bokeh_is_loading = undefined;\n  }\n\n  if (typeof (root._bokeh_timeout) === \"undefined\" || force === true) {\n    root._bokeh_timeout = Date.now() + 5000;\n    root._bokeh_failed_load = false;\n  }\n\n  function run_callbacks() {\n    try {\n      root._bokeh_onload_callbacks.forEach(function(callback) {\n        if (callback != null)\n          callback();\n      });\n    } finally {\n      delete root._bokeh_onload_callbacks\n    }\n    console.debug(\"Bokeh: all callbacks have finished\");\n  }\n\n  function load_libs(css_urls, js_urls, js_modules, callback) {\n    if (css_urls == null) css_urls = [];\n    if (js_urls == null) js_urls = [];\n    if (js_modules == null) js_modules = [];\n\n    root._bokeh_onload_callbacks.push(callback);\n    if (root._bokeh_is_loading > 0) {\n      console.debug(\"Bokeh: BokehJS is being loaded, scheduling callback at\", now());\n      return null;\n    }\n    if (js_urls.length === 0 && js_modules.length === 0) {\n      run_callbacks();\n      return null;\n    }\n    console.debug(\"Bokeh: BokehJS not loaded, scheduling load and callback at\", now());\n\n    function on_load() {\n      root._bokeh_is_loading--;\n      if (root._bokeh_is_loading === 0) {\n        console.debug(\"Bokeh: all BokehJS libraries/stylesheets loaded\");\n        run_callbacks()\n      }\n    }\n\n    function on_error() {\n      console.error(\"failed to load \" + url);\n    }\n\n    for (var i = 0; i < css_urls.length; i++) {\n      var url = css_urls[i];\n      const element = document.createElement(\"link\");\n      element.onload = on_load;\n      element.onerror = on_error;\n      element.rel = \"stylesheet\";\n      element.type = \"text/css\";\n      element.href = url;\n      console.debug(\"Bokeh: injecting link tag for BokehJS stylesheet: \", url);\n      document.body.appendChild(element);\n    }\n\n    var skip = [];\n    if (window.requirejs) {\n      window.requirejs.config({'packages': {}, 'paths': {'vega-embed': 'https://cdn.jsdelivr.net/npm/vega-embed@6/build/vega-embed.min', 'vega-lite': 'https://cdn.jsdelivr.net/npm/vega-lite@4/build/vega-lite.min', 'vega': 'https://cdn.jsdelivr.net/npm/vega@5/build/vega.min'}, 'shim': {}});\n      \n      require([\"vega-embed\"], function(vegaEmbed) {\n\t\n\twindow.vegaEmbed = vegaEmbed\n\t\n\ton_load()\n      })\n      \n      require([\"vega-lite\"], function(vl) {\n\t\n\twindow.vl = vl\n\t\n\ton_load()\n      })\n      \n      require([\"vega\"], function(vega) {\n\t\n\twindow.vega = vega\n\t\n\ton_load()\n      })\n      \n      root._bokeh_is_loading = css_urls.length + 3;\n    } else {\n      root._bokeh_is_loading = css_urls.length + js_urls.length + js_modules.length;\n    }\n    if (((window['vega'] !== undefined) && (!(window['vega'] instanceof HTMLElement))) || window.requirejs) {\n      var urls = ['https://cdn.jsdelivr.net/npm/vega@5'];\n      for (var i = 0; i < urls.length; i++) {\n        skip.push(urls[i])\n      }\n    }\n    if (((window['vegaLite'] !== undefined) && (!(window['vegaLite'] instanceof HTMLElement))) || window.requirejs) {\n      var urls = ['https://cdn.jsdelivr.net/npm/vega-lite@4'];\n      for (var i = 0; i < urls.length; i++) {\n        skip.push(urls[i])\n      }\n    }\n    if (((window['vegaEmbed'] !== undefined) && (!(window['vegaEmbed'] instanceof HTMLElement))) || window.requirejs) {\n      var urls = ['https://cdn.jsdelivr.net/npm/vega-embed@6'];\n      for (var i = 0; i < urls.length; i++) {\n        skip.push(urls[i])\n      }\n    }\n    for (var i = 0; i < js_urls.length; i++) {\n      var url = js_urls[i];\n      if (skip.indexOf(url) >= 0) {\n\tif (!window.requirejs) {\n\t  on_load();\n\t}\n\tcontinue;\n      }\n      var element = document.createElement('script');\n      element.onload = on_load;\n      element.onerror = on_error;\n      element.async = false;\n      element.src = url;\n      console.debug(\"Bokeh: injecting script tag for BokehJS library: \", url);\n      document.head.appendChild(element);\n    }\n    for (var i = 0; i < js_modules.length; i++) {\n      var url = js_modules[i];\n      if (skip.indexOf(url) >= 0) {\n\tif (!window.requirejs) {\n\t  on_load();\n\t}\n\tcontinue;\n      }\n      var element = document.createElement('script');\n      element.onload = on_load;\n      element.onerror = on_error;\n      element.async = false;\n      element.src = url;\n      element.type = \"module\";\n      console.debug(\"Bokeh: injecting script tag for BokehJS library: \", url);\n      document.head.appendChild(element);\n    }\n    if (!js_urls.length && !js_modules.length) {\n      on_load()\n    }\n  };\n\n  function inject_raw_css(css) {\n    const element = document.createElement(\"style\");\n    element.appendChild(document.createTextNode(css));\n    document.body.appendChild(element);\n  }\n\n  var js_urls = [\"https://cdn.jsdelivr.net/npm/vega@5\", \"https://cdn.jsdelivr.net/npm/vega-lite@4\", \"https://cdn.jsdelivr.net/npm/vega-embed@6\", \"https://cdn.bokeh.org/bokeh/release/bokeh-2.4.2.min.js\", \"https://cdn.bokeh.org/bokeh/release/bokeh-gl-2.4.2.min.js\", \"https://cdn.bokeh.org/bokeh/release/bokeh-widgets-2.4.2.min.js\", \"https://cdn.bokeh.org/bokeh/release/bokeh-tables-2.4.2.min.js\", \"https://cdn.bokeh.org/bokeh/release/bokeh-mathjax-2.4.2.min.js\", \"https://unpkg.com/@holoviz/panel@0.12.7/dist/panel.min.js\"];\n  var js_modules = [];\n  var css_urls = [\"https://unpkg.com/@holoviz/panel@0.12.7/dist/css/alerts.css\", \"https://unpkg.com/@holoviz/panel@0.12.7/dist/css/card.css\", \"https://unpkg.com/@holoviz/panel@0.12.7/dist/css/dataframe.css\", \"https://unpkg.com/@holoviz/panel@0.12.7/dist/css/json.css\", \"https://unpkg.com/@holoviz/panel@0.12.7/dist/css/loading.css\", \"https://unpkg.com/@holoviz/panel@0.12.7/dist/css/markdown.css\", \"https://unpkg.com/@holoviz/panel@0.12.7/dist/css/widgets.css\"];\n  var inline_js = [\n    function(Bokeh) {\n      inject_raw_css(\"\\n    .bk.pn-loading.arcs:before {\\n      background-image: url(\\\"data:image/svg+xml;base64,PHN2ZyB4bWxucz0iaHR0cDovL3d3dy53My5vcmcvMjAwMC9zdmciIHhtbG5zOnhsaW5rPSJodHRwOi8vd3d3LnczLm9yZy8xOTk5L3hsaW5rIiBzdHlsZT0ibWFyZ2luOiBhdXRvOyBiYWNrZ3JvdW5kOiBub25lOyBkaXNwbGF5OiBibG9jazsgc2hhcGUtcmVuZGVyaW5nOiBhdXRvOyIgdmlld0JveD0iMCAwIDEwMCAxMDAiIHByZXNlcnZlQXNwZWN0UmF0aW89InhNaWRZTWlkIj4gIDxjaXJjbGUgY3g9IjUwIiBjeT0iNTAiIHI9IjMyIiBzdHJva2Utd2lkdGg9IjgiIHN0cm9rZT0iI2MzYzNjMyIgc3Ryb2tlLWRhc2hhcnJheT0iNTAuMjY1NDgyNDU3NDM2NjkgNTAuMjY1NDgyNDU3NDM2NjkiIGZpbGw9Im5vbmUiIHN0cm9rZS1saW5lY2FwPSJyb3VuZCI+ICAgIDxhbmltYXRlVHJhbnNmb3JtIGF0dHJpYnV0ZU5hbWU9InRyYW5zZm9ybSIgdHlwZT0icm90YXRlIiByZXBlYXRDb3VudD0iaW5kZWZpbml0ZSIgZHVyPSIxcyIga2V5VGltZXM9IjA7MSIgdmFsdWVzPSIwIDUwIDUwOzM2MCA1MCA1MCI+PC9hbmltYXRlVHJhbnNmb3JtPiAgPC9jaXJjbGU+PC9zdmc+\\\");\\n      max-height: 400px;\\n    }\\n    \");\n    },\n    function(Bokeh) {\n      Bokeh.set_log_level(\"info\");\n    },\n    function(Bokeh) {} // ensure no trailing comma for IE\n  ];\n\n  function run_inline_js() {\n    if ((root.Bokeh !== undefined) || (force === true)) {\n      for (var i = 0; i < inline_js.length; i++) {\n        inline_js[i].call(root, root.Bokeh);\n      }} else if (Date.now() < root._bokeh_timeout) {\n      setTimeout(run_inline_js, 100);\n    } else if (!root._bokeh_failed_load) {\n      console.log(\"Bokeh: BokehJS failed to load within specified timeout.\");\n      root._bokeh_failed_load = true;\n    }\n  }\n\n  if (root._bokeh_is_loading === 0) {\n    console.debug(\"Bokeh: BokehJS loaded, going straight to plotting\");\n    run_inline_js();\n  } else {\n    load_libs(css_urls, js_urls, js_modules, function() {\n      console.debug(\"Bokeh: BokehJS plotting callback run at\", now());\n      run_inline_js();\n    });\n  }\n}(window));",
      "application/vnd.holoviews_load.v0+json": ""
     },
     "metadata": {},
     "output_type": "display_data"
    },
    {
     "data": {
      "application/javascript": "\nif ((window.PyViz === undefined) || (window.PyViz instanceof HTMLElement)) {\n  window.PyViz = {comms: {}, comm_status:{}, kernels:{}, receivers: {}, plot_index: []}\n}\n\n\n    function JupyterCommManager() {\n    }\n\n    JupyterCommManager.prototype.register_target = function(plot_id, comm_id, msg_handler) {\n      if (window.comm_manager || ((window.Jupyter !== undefined) && (Jupyter.notebook.kernel != null))) {\n        var comm_manager = window.comm_manager || Jupyter.notebook.kernel.comm_manager;\n        comm_manager.register_target(comm_id, function(comm) {\n          comm.on_msg(msg_handler);\n        });\n      } else if ((plot_id in window.PyViz.kernels) && (window.PyViz.kernels[plot_id])) {\n        window.PyViz.kernels[plot_id].registerCommTarget(comm_id, function(comm) {\n          comm.onMsg = msg_handler;\n        });\n      } else if (typeof google != 'undefined' && google.colab.kernel != null) {\n        google.colab.kernel.comms.registerTarget(comm_id, (comm) => {\n          var messages = comm.messages[Symbol.asyncIterator]();\n          function processIteratorResult(result) {\n            var message = result.value;\n            console.log(message)\n            var content = {data: message.data, comm_id};\n            var buffers = []\n            for (var buffer of message.buffers || []) {\n              buffers.push(new DataView(buffer))\n            }\n            var metadata = message.metadata || {};\n            var msg = {content, buffers, metadata}\n            msg_handler(msg);\n            return messages.next().then(processIteratorResult);\n          }\n          return messages.next().then(processIteratorResult);\n        })\n      }\n    }\n\n    JupyterCommManager.prototype.get_client_comm = function(plot_id, comm_id, msg_handler) {\n      if (comm_id in window.PyViz.comms) {\n        return window.PyViz.comms[comm_id];\n      } else if (window.comm_manager || ((window.Jupyter !== undefined) && (Jupyter.notebook.kernel != null))) {\n        var comm_manager = window.comm_manager || Jupyter.notebook.kernel.comm_manager;\n        var comm = comm_manager.new_comm(comm_id, {}, {}, {}, comm_id);\n        if (msg_handler) {\n          comm.on_msg(msg_handler);\n        }\n      } else if ((plot_id in window.PyViz.kernels) && (window.PyViz.kernels[plot_id])) {\n        var comm = window.PyViz.kernels[plot_id].connectToComm(comm_id);\n        comm.open();\n        if (msg_handler) {\n          comm.onMsg = msg_handler;\n        }\n      } else if (typeof google != 'undefined' && google.colab.kernel != null) {\n        var comm_promise = google.colab.kernel.comms.open(comm_id)\n        comm_promise.then((comm) => {\n          window.PyViz.comms[comm_id] = comm;\n          if (msg_handler) {\n            var messages = comm.messages[Symbol.asyncIterator]();\n            function processIteratorResult(result) {\n              var message = result.value;\n              var content = {data: message.data};\n              var metadata = message.metadata || {comm_id};\n              var msg = {content, metadata}\n              msg_handler(msg);\n              return messages.next().then(processIteratorResult);\n            }\n            return messages.next().then(processIteratorResult);\n          }\n        }) \n        var sendClosure = (data, metadata, buffers, disposeOnDone) => {\n          return comm_promise.then((comm) => {\n            comm.send(data, metadata, buffers, disposeOnDone);\n          });\n        };\n        var comm = {\n          send: sendClosure\n        };\n      }\n      window.PyViz.comms[comm_id] = comm;\n      return comm;\n    }\n    window.PyViz.comm_manager = new JupyterCommManager();\n    \n\n\nvar JS_MIME_TYPE = 'application/javascript';\nvar HTML_MIME_TYPE = 'text/html';\nvar EXEC_MIME_TYPE = 'application/vnd.holoviews_exec.v0+json';\nvar CLASS_NAME = 'output';\n\n/**\n * Render data to the DOM node\n */\nfunction render(props, node) {\n  var div = document.createElement(\"div\");\n  var script = document.createElement(\"script\");\n  node.appendChild(div);\n  node.appendChild(script);\n}\n\n/**\n * Handle when a new output is added\n */\nfunction handle_add_output(event, handle) {\n  var output_area = handle.output_area;\n  var output = handle.output;\n  if ((output.data == undefined) || (!output.data.hasOwnProperty(EXEC_MIME_TYPE))) {\n    return\n  }\n  var id = output.metadata[EXEC_MIME_TYPE][\"id\"];\n  var toinsert = output_area.element.find(\".\" + CLASS_NAME.split(' ')[0]);\n  if (id !== undefined) {\n    var nchildren = toinsert.length;\n    var html_node = toinsert[nchildren-1].children[0];\n    html_node.innerHTML = output.data[HTML_MIME_TYPE];\n    var scripts = [];\n    var nodelist = html_node.querySelectorAll(\"script\");\n    for (var i in nodelist) {\n      if (nodelist.hasOwnProperty(i)) {\n        scripts.push(nodelist[i])\n      }\n    }\n\n    scripts.forEach( function (oldScript) {\n      var newScript = document.createElement(\"script\");\n      var attrs = [];\n      var nodemap = oldScript.attributes;\n      for (var j in nodemap) {\n        if (nodemap.hasOwnProperty(j)) {\n          attrs.push(nodemap[j])\n        }\n      }\n      attrs.forEach(function(attr) { newScript.setAttribute(attr.name, attr.value) });\n      newScript.appendChild(document.createTextNode(oldScript.innerHTML));\n      oldScript.parentNode.replaceChild(newScript, oldScript);\n    });\n    if (JS_MIME_TYPE in output.data) {\n      toinsert[nchildren-1].children[1].textContent = output.data[JS_MIME_TYPE];\n    }\n    output_area._hv_plot_id = id;\n    if ((window.Bokeh !== undefined) && (id in Bokeh.index)) {\n      window.PyViz.plot_index[id] = Bokeh.index[id];\n    } else {\n      window.PyViz.plot_index[id] = null;\n    }\n  } else if (output.metadata[EXEC_MIME_TYPE][\"server_id\"] !== undefined) {\n    var bk_div = document.createElement(\"div\");\n    bk_div.innerHTML = output.data[HTML_MIME_TYPE];\n    var script_attrs = bk_div.children[0].attributes;\n    for (var i = 0; i < script_attrs.length; i++) {\n      toinsert[toinsert.length - 1].childNodes[1].setAttribute(script_attrs[i].name, script_attrs[i].value);\n    }\n    // store reference to server id on output_area\n    output_area._bokeh_server_id = output.metadata[EXEC_MIME_TYPE][\"server_id\"];\n  }\n}\n\n/**\n * Handle when an output is cleared or removed\n */\nfunction handle_clear_output(event, handle) {\n  var id = handle.cell.output_area._hv_plot_id;\n  var server_id = handle.cell.output_area._bokeh_server_id;\n  if (((id === undefined) || !(id in PyViz.plot_index)) && (server_id !== undefined)) { return; }\n  var comm = window.PyViz.comm_manager.get_client_comm(\"hv-extension-comm\", \"hv-extension-comm\", function () {});\n  if (server_id !== null) {\n    comm.send({event_type: 'server_delete', 'id': server_id});\n    return;\n  } else if (comm !== null) {\n    comm.send({event_type: 'delete', 'id': id});\n  }\n  delete PyViz.plot_index[id];\n  if ((window.Bokeh !== undefined) & (id in window.Bokeh.index)) {\n    var doc = window.Bokeh.index[id].model.document\n    doc.clear();\n    const i = window.Bokeh.documents.indexOf(doc);\n    if (i > -1) {\n      window.Bokeh.documents.splice(i, 1);\n    }\n  }\n}\n\n/**\n * Handle kernel restart event\n */\nfunction handle_kernel_cleanup(event, handle) {\n  delete PyViz.comms[\"hv-extension-comm\"];\n  window.PyViz.plot_index = {}\n}\n\n/**\n * Handle update_display_data messages\n */\nfunction handle_update_output(event, handle) {\n  handle_clear_output(event, {cell: {output_area: handle.output_area}})\n  handle_add_output(event, handle)\n}\n\nfunction register_renderer(events, OutputArea) {\n  function append_mime(data, metadata, element) {\n    // create a DOM node to render to\n    var toinsert = this.create_output_subarea(\n    metadata,\n    CLASS_NAME,\n    EXEC_MIME_TYPE\n    );\n    this.keyboard_manager.register_events(toinsert);\n    // Render to node\n    var props = {data: data, metadata: metadata[EXEC_MIME_TYPE]};\n    render(props, toinsert[0]);\n    element.append(toinsert);\n    return toinsert\n  }\n\n  events.on('output_added.OutputArea', handle_add_output);\n  events.on('output_updated.OutputArea', handle_update_output);\n  events.on('clear_output.CodeCell', handle_clear_output);\n  events.on('delete.Cell', handle_clear_output);\n  events.on('kernel_ready.Kernel', handle_kernel_cleanup);\n\n  OutputArea.prototype.register_mime_type(EXEC_MIME_TYPE, append_mime, {\n    safe: true,\n    index: 0\n  });\n}\n\nif (window.Jupyter !== undefined) {\n  try {\n    var events = require('base/js/events');\n    var OutputArea = require('notebook/js/outputarea').OutputArea;\n    if (OutputArea.prototype.mime_types().indexOf(EXEC_MIME_TYPE) == -1) {\n      register_renderer(events, OutputArea);\n    }\n  } catch(err) {\n  }\n}\n",
      "application/vnd.holoviews_load.v0+json": ""
     },
     "metadata": {},
     "output_type": "display_data"
    },
    {
     "name": "stdout",
     "output_type": "stream",
     "text": [
      "Index(['destination_uhgs_id', 'nb_ships_cereales',\n",
      "       'nb_ships_produits coloniaux', 'nb_ships_alcools', 'nb_ships_chauffage',\n",
      "       'nb_ships_tissus', 'nb_ships_divers', 'nb_ships_alimentation',\n",
      "       'nb_ships_sans categorie', 'sum_tonnage_cereales',\n",
      "       'sum_tonnage_produits coloniaux', 'sum_tonnage_alcools',\n",
      "       'sum_tonnage_chauffage', 'sum_tonnage_tissus', 'sum_tonnage_divers',\n",
      "       'sum_tonnage_alimentation', 'sum_tonnage_sans categorie',\n",
      "       'sum_tonnage_per_product_cereales',\n",
      "       'sum_tonnage_per_product_produits coloniaux',\n",
      "       'sum_tonnage_per_product_alcools', 'sum_tonnage_per_product_chauffage',\n",
      "       'sum_tonnage_per_product_tissus', 'sum_tonnage_per_product_divers',\n",
      "       'sum_tonnage_per_product_alimentation',\n",
      "       'sum_tonnage_per_product_sans categorie', 'nb_ships_total',\n",
      "       'sum_tonnage_total', 'sum_tonnage_per_product_total',\n",
      "       'departure_uhgs_id', 'departure_fr', 'Unnamed: 0', 'ogc_fid', 'uhgs_id',\n",
      "       'x', 'y', 'total', 'toponym', 'toponyme_standard_fr',\n",
      "       'toponyme_standard_en', 'substate_1789_fr', 'state_1789_fr',\n",
      "       'substate_1789_en', 'state_1789_en', 'belonging_states',\n",
      "       'belonging_substates', 'status', 'has_a_clerk', 'geonameid',\n",
      "       'admiralty', 'province', 'shiparea', 'ferme_direction', 'ferme_bureau',\n",
      "       'partner_balance_1789', 'partner_balance_supp_1789', 'point'],\n",
      "      dtype='object')\n"
     ]
    },
    {
     "data": {
      "text/html": [
       "\n",
       "<div id=\"altair-viz-fd46ee6ea960441191fe0ce1cc6de2c7\"></div>\n",
       "<script type=\"text/javascript\">\n",
       "  var VEGA_DEBUG = (typeof VEGA_DEBUG == \"undefined\") ? {} : VEGA_DEBUG;\n",
       "  (function(spec, embedOpt){\n",
       "    let outputDiv = document.currentScript.previousElementSibling;\n",
       "    if (outputDiv.id !== \"altair-viz-fd46ee6ea960441191fe0ce1cc6de2c7\") {\n",
       "      outputDiv = document.getElementById(\"altair-viz-fd46ee6ea960441191fe0ce1cc6de2c7\");\n",
       "    }\n",
       "    const paths = {\n",
       "      \"vega\": \"https://cdn.jsdelivr.net/npm//vega@5?noext\",\n",
       "      \"vega-lib\": \"https://cdn.jsdelivr.net/npm//vega-lib?noext\",\n",
       "      \"vega-lite\": \"https://cdn.jsdelivr.net/npm//vega-lite@4.17.0?noext\",\n",
       "      \"vega-embed\": \"https://cdn.jsdelivr.net/npm//vega-embed@6?noext\",\n",
       "    };\n",
       "\n",
       "    function maybeLoadScript(lib, version) {\n",
       "      var key = `${lib.replace(\"-\", \"\")}_version`;\n",
       "      return (VEGA_DEBUG[key] == version) ?\n",
       "        Promise.resolve(paths[lib]) :\n",
       "        new Promise(function(resolve, reject) {\n",
       "          var s = document.createElement('script');\n",
       "          document.getElementsByTagName(\"head\")[0].appendChild(s);\n",
       "          s.async = true;\n",
       "          s.onload = () => {\n",
       "            VEGA_DEBUG[key] = version;\n",
       "            return resolve(paths[lib]);\n",
       "          };\n",
       "          s.onerror = () => reject(`Error loading script: ${paths[lib]}`);\n",
       "          s.src = paths[lib];\n",
       "        });\n",
       "    }\n",
       "\n",
       "    function showError(err) {\n",
       "      outputDiv.innerHTML = `<div class=\"error\" style=\"color:red;\">${err}</div>`;\n",
       "      throw err;\n",
       "    }\n",
       "\n",
       "    function displayChart(vegaEmbed) {\n",
       "      vegaEmbed(outputDiv, spec, embedOpt)\n",
       "        .catch(err => showError(`Javascript Error: ${err.message}<br>This usually means there's a typo in your chart specification. See the javascript console for the full traceback.`));\n",
       "    }\n",
       "\n",
       "    if(typeof define === \"function\" && define.amd) {\n",
       "      requirejs.config({paths});\n",
       "      require([\"vega-embed\"], displayChart, err => showError(`Error loading script: ${err.message}`));\n",
       "    } else {\n",
       "      maybeLoadScript(\"vega\", \"5\")\n",
       "        .then(() => maybeLoadScript(\"vega-lite\", \"4.17.0\"))\n",
       "        .then(() => maybeLoadScript(\"vega-embed\", \"6\"))\n",
       "        .catch(showError)\n",
       "        .then(() => displayChart(vegaEmbed));\n",
       "    }\n",
       "  })({\"config\": {\"view\": {\"continuousWidth\": 400, \"continuousHeight\": 300, \"stroke\": null}, \"projection\": {\"center\": [-5, 47]}}, \"layer\": [{\"data\": {\"sphere\": true}, \"mark\": {\"type\": \"geoshape\", \"fill\": \"#e6f3ff\"}}, {\"data\": {\"graticule\": true}, \"mark\": {\"type\": \"geoshape\", \"stroke\": \"#ffffff\", \"strokeWidth\": 1}}, {\"data\": {\"url\": \"https://raw.githubusercontent.com/cplumejeaud/intoZcarto/main/python/word1789_topojson.json\", \"format\": {\"feature\": \"word1789_geojson\", \"type\": \"topojson\"}}, \"mark\": {\"type\": \"geoshape\", \"fill\": \"lightgray\", \"stroke\": \"white\", \"strokeWidth\": 0.5}}, {\"data\": {\"name\": \"data-dbf4e44c2b28fc32ce47ecbb405316b6\"}, \"mark\": \"circle\", \"encoding\": {\"color\": {\"value\": \"orange\"}, \"latitude\": {\"field\": \"y\", \"type\": \"quantitative\"}, \"longitude\": {\"field\": \"x\", \"type\": \"quantitative\"}, \"size\": {\"field\": \"sum_tonnage_total\", \"scale\": {\"clamp\": true, \"domain\": [-1, 7000], \"range\": [10, 400], \"zero\": false}, \"title\": \"Analyse de la variable :  sum_tonnage_total\", \"type\": \"quantitative\"}, \"tooltip\": [{\"field\": \"toponyme_standard_fr\", \"type\": \"nominal\"}, {\"field\": \"sum_tonnage_total\", \"type\": \"quantitative\"}]}}], \"height\": 600, \"projection\": {\"scale\": 1000, \"type\": \"conicEquidistant\"}, \"title\": \"Exports de Dunkerque \\u00e0 l'Etranger en 1789\", \"width\": 500, \"$schema\": \"https://vega.github.io/schema/vega-lite/v4.17.0.json\", \"datasets\": {\"data-dbf4e44c2b28fc32ce47ecbb405316b6\": [{\"destination_uhgs_id\": \"A0041886\", \"nb_ships_cereales\": 2.0, \"nb_ships_produits coloniaux\": 0.0, \"nb_ships_alcools\": 0.0, \"nb_ships_chauffage\": 0.0, \"nb_ships_tissus\": 5.0, \"nb_ships_divers\": 1.0, \"nb_ships_alimentation\": 18.0, \"nb_ships_sans categorie\": 3.0, \"sum_tonnage_cereales\": 80.0, \"sum_tonnage_produits coloniaux\": 0.0, \"sum_tonnage_alcools\": 0.0, \"sum_tonnage_chauffage\": 0.0, \"sum_tonnage_tissus\": 180.0, \"sum_tonnage_divers\": 20.0, \"sum_tonnage_alimentation\": 516.0, \"sum_tonnage_sans categorie\": 100.0, \"sum_tonnage_per_product_cereales\": 40.0, \"sum_tonnage_per_product_produits coloniaux\": 0.0, \"sum_tonnage_per_product_alcools\": 0.0, \"sum_tonnage_per_product_chauffage\": 0.0, \"sum_tonnage_per_product_tissus\": 80.0, \"sum_tonnage_per_product_divers\": 20.0, \"sum_tonnage_per_product_alimentation\": 332.7, \"sum_tonnage_per_product_sans categorie\": 43.3, \"nb_ships_total\": 29, \"sum_tonnage_total\": 896.0, \"sum_tonnage_per_product_total\": 516.0, \"departure_uhgs_id\": \"A0204180\", \"departure_fr\": \"Dunkerque\", \"Unnamed: 0\": 798, \"ogc_fid\": 788, \"uhgs_id\": \"A0041886\", \"x\": 2.75, \"y\": 51.133333, \"total\": 33, \"toponym\": \"Nieuport\", \"toponyme_standard_fr\": \"Nieuport\", \"toponyme_standard_en\": \"Nieuwpoort\\u00a0\", \"substate_1789_fr\": \"Pays-Bas autrichiens\", \"state_1789_fr\": \"Autriche\", \"substate_1789_en\": \"Austrian Netherlands \", \"state_1789_en\": \"Austria\", \"belonging_states\": \"[{\\\"1749-1794\\\" : \\\"Autriche\\\"},{\\\"1795-1815\\\" : \\\"France\\\"}]\", \"belonging_substates\": \"[{\\\"1749-1794\\\" : \\\"Pays-Bas autrichiens\\\"}]\", \"status\": null, \"has_a_clerk\": null, \"geonameid\": 2790150.0, \"admiralty\": null, \"province\": null, \"shiparea\": \"NOR-DOVE\", \"ferme_direction\": null, \"ferme_bureau\": null, \"partner_balance_1789\": \"Etats de l'Empereur\", \"partner_balance_supp_1789\": \"Etranger\", \"point\": \"{\\\"type\\\":\\\"Point\\\",\\\"coordinates\\\":[2.75,51.133333]}\"}, {\"destination_uhgs_id\": \"A0046492\", \"nb_ships_cereales\": 0.0, \"nb_ships_produits coloniaux\": 0.0, \"nb_ships_alcools\": 0.0, \"nb_ships_chauffage\": 0.0, \"nb_ships_tissus\": 1.0, \"nb_ships_divers\": 0.0, \"nb_ships_alimentation\": 0.0, \"nb_ships_sans categorie\": 0.0, \"sum_tonnage_cereales\": 0.0, \"sum_tonnage_produits coloniaux\": 0.0, \"sum_tonnage_alcools\": 0.0, \"sum_tonnage_chauffage\": 0.0, \"sum_tonnage_tissus\": 60.0, \"sum_tonnage_divers\": 0.0, \"sum_tonnage_alimentation\": 0.0, \"sum_tonnage_sans categorie\": 0.0, \"sum_tonnage_per_product_cereales\": 0.0, \"sum_tonnage_per_product_produits coloniaux\": 0.0, \"sum_tonnage_per_product_alcools\": 0.0, \"sum_tonnage_per_product_chauffage\": 0.0, \"sum_tonnage_per_product_tissus\": 60.0, \"sum_tonnage_per_product_divers\": 0.0, \"sum_tonnage_per_product_alimentation\": 0.0, \"sum_tonnage_per_product_sans categorie\": 0.0, \"nb_ships_total\": 1, \"sum_tonnage_total\": 60.0, \"sum_tonnage_per_product_total\": 60.0, \"departure_uhgs_id\": \"A0204180\", \"departure_fr\": \"Dunkerque\", \"Unnamed: 0\": 622, \"ogc_fid\": 7, \"uhgs_id\": \"A0046492\", \"x\": 3.233333, \"y\": 51.216667, \"total\": 88, \"toponym\": \"Bruges\", \"toponyme_standard_fr\": \"Bruges\", \"toponyme_standard_en\": \"Bruges\", \"substate_1789_fr\": \"Pays-Bas autrichiens\", \"state_1789_fr\": \"Autriche\", \"substate_1789_en\": \"Austrian Netherlands \", \"state_1789_en\": \"Austria\", \"belonging_states\": \"[{\\\"1749-1794\\\" : \\\"Autriche\\\"},{\\\"1795-1815\\\" : \\\"France\\\"}]\", \"belonging_substates\": \"[{\\\"1749-1794\\\" : \\\"Pays-Bas autrichiens\\\"}]\", \"status\": null, \"has_a_clerk\": null, \"geonameid\": 2800931.0, \"admiralty\": null, \"province\": null, \"shiparea\": \"NOR-THAM\", \"ferme_direction\": null, \"ferme_bureau\": null, \"partner_balance_1789\": \"Etats de l'Empereur\", \"partner_balance_supp_1789\": \"Etranger\", \"point\": \"{\\\"type\\\":\\\"Point\\\",\\\"coordinates\\\":[3.233333,51.216667]}\"}, {\"destination_uhgs_id\": \"A0049808\", \"nb_ships_cereales\": 10.0, \"nb_ships_produits coloniaux\": 18.0, \"nb_ships_alcools\": 0.0, \"nb_ships_chauffage\": 0.0, \"nb_ships_tissus\": 32.0, \"nb_ships_divers\": 16.0, \"nb_ships_alimentation\": 30.0, \"nb_ships_sans categorie\": 4.0, \"sum_tonnage_cereales\": 625.0, \"sum_tonnage_produits coloniaux\": 1824.0, \"sum_tonnage_alcools\": 0.0, \"sum_tonnage_chauffage\": 0.0, \"sum_tonnage_tissus\": 2331.0, \"sum_tonnage_divers\": 653.0, \"sum_tonnage_alimentation\": 1332.0, \"sum_tonnage_sans categorie\": 191.0, \"sum_tonnage_per_product_cereales\": 419.7, \"sum_tonnage_per_product_produits coloniaux\": 681.0, \"sum_tonnage_per_product_alcools\": 0.0, \"sum_tonnage_per_product_chauffage\": 0.0, \"sum_tonnage_per_product_tissus\": 1212.7, \"sum_tonnage_per_product_divers\": 312.3, \"sum_tonnage_per_product_alimentation\": 866.3, \"sum_tonnage_per_product_sans categorie\": 78.0, \"nb_ships_total\": 110, \"sum_tonnage_total\": 6956.0, \"sum_tonnage_per_product_total\": 3570.0, \"departure_uhgs_id\": \"A0204180\", \"departure_fr\": \"Dunkerque\", \"Unnamed: 0\": 716, \"ogc_fid\": 38, \"uhgs_id\": \"A0049808\", \"x\": 2.916667, \"y\": 51.216667, \"total\": 274, \"toponym\": \"Ostende\", \"toponyme_standard_fr\": \"Ostende\", \"toponyme_standard_en\": \"Ostend\", \"substate_1789_fr\": \"Pays-Bas autrichiens\", \"state_1789_fr\": \"Autriche\", \"substate_1789_en\": \"Austrian Netherlands \", \"state_1789_en\": \"Austria\", \"belonging_states\": \"[{\\\"1749-1794\\\" : \\\"Autriche\\\"},{\\\"1795-1815\\\" : \\\"France\\\"}]\", \"belonging_substates\": \"[{\\\"1749-1794\\\" : \\\"Pays-Bas autrichiens\\\"}]\", \"status\": null, \"has_a_clerk\": null, \"geonameid\": 2789786.0, \"admiralty\": null, \"province\": null, \"shiparea\": \"NOR-DOVE\", \"ferme_direction\": null, \"ferme_bureau\": null, \"partner_balance_1789\": \"Etats de l'Empereur\", \"partner_balance_supp_1789\": \"Etranger\", \"point\": \"{\\\"type\\\":\\\"Point\\\",\\\"coordinates\\\":[2.916667,51.216667]}\"}, {\"destination_uhgs_id\": \"A0079352\", \"nb_ships_cereales\": 0.0, \"nb_ships_produits coloniaux\": 0.0, \"nb_ships_alcools\": 8.0, \"nb_ships_chauffage\": 0.0, \"nb_ships_tissus\": 1.0, \"nb_ships_divers\": 0.0, \"nb_ships_alimentation\": 0.0, \"nb_ships_sans categorie\": 0.0, \"sum_tonnage_cereales\": 0.0, \"sum_tonnage_produits coloniaux\": 0.0, \"sum_tonnage_alcools\": 1143.0, \"sum_tonnage_chauffage\": 0.0, \"sum_tonnage_tissus\": 115.0, \"sum_tonnage_divers\": 0.0, \"sum_tonnage_alimentation\": 0.0, \"sum_tonnage_sans categorie\": 0.0, \"sum_tonnage_per_product_cereales\": 0.0, \"sum_tonnage_per_product_produits coloniaux\": 0.0, \"sum_tonnage_per_product_alcools\": 885.5, \"sum_tonnage_per_product_chauffage\": 0.0, \"sum_tonnage_per_product_tissus\": 57.5, \"sum_tonnage_per_product_divers\": 0.0, \"sum_tonnage_per_product_alimentation\": 0.0, \"sum_tonnage_per_product_sans categorie\": 0.0, \"nb_ships_total\": 9, \"sum_tonnage_total\": 1258.0, \"sum_tonnage_per_product_total\": 943.0, \"departure_uhgs_id\": \"A0204180\", \"departure_fr\": \"Dunkerque\", \"Unnamed: 0\": 440, \"ogc_fid\": 810, \"uhgs_id\": \"A0079352\", \"x\": 2.169399, \"y\": 41.38822, \"total\": 159, \"toponym\": \"Barcelonne\", \"toponyme_standard_fr\": \"Barcelone\", \"toponyme_standard_en\": \"Barcelona\", \"substate_1789_fr\": null, \"state_1789_fr\": \"Espagne\", \"substate_1789_en\": null, \"state_1789_en\": \"Spain\", \"belonging_states\": \"[{\\\"1749-1815\\\" : \\\"Espagne\\\"}]\", \"belonging_substates\": null, \"status\": null, \"has_a_clerk\": null, \"geonameid\": 3128760.0, \"admiralty\": null, \"province\": null, \"shiparea\": \"MED-BALN\", \"ferme_direction\": null, \"ferme_bureau\": null, \"partner_balance_1789\": \"Espagne\", \"partner_balance_supp_1789\": \"Etranger\", \"point\": \"{\\\"type\\\":\\\"Point\\\",\\\"coordinates\\\":[2.169399,41.38822]}\"}, {\"destination_uhgs_id\": \"A0232521\", \"nb_ships_cereales\": 0.0, \"nb_ships_produits coloniaux\": 0.0, \"nb_ships_alcools\": 0.0, \"nb_ships_chauffage\": 0.0, \"nb_ships_tissus\": 1.0, \"nb_ships_divers\": 0.0, \"nb_ships_alimentation\": 1.0, \"nb_ships_sans categorie\": 0.0, \"sum_tonnage_cereales\": 0.0, \"sum_tonnage_produits coloniaux\": 0.0, \"sum_tonnage_alcools\": 0.0, \"sum_tonnage_chauffage\": 0.0, \"sum_tonnage_tissus\": 200.0, \"sum_tonnage_divers\": 0.0, \"sum_tonnage_alimentation\": 200.0, \"sum_tonnage_sans categorie\": 0.0, \"sum_tonnage_per_product_cereales\": 0.0, \"sum_tonnage_per_product_produits coloniaux\": 0.0, \"sum_tonnage_per_product_alcools\": 0.0, \"sum_tonnage_per_product_chauffage\": 0.0, \"sum_tonnage_per_product_tissus\": 100.0, \"sum_tonnage_per_product_divers\": 0.0, \"sum_tonnage_per_product_alimentation\": 100.0, \"sum_tonnage_per_product_sans categorie\": 0.0, \"nb_ships_total\": 2, \"sum_tonnage_total\": 400.0, \"sum_tonnage_per_product_total\": 200.0, \"departure_uhgs_id\": \"A0204180\", \"departure_fr\": \"Dunkerque\", \"Unnamed: 0\": 270, \"ogc_fid\": 428, \"uhgs_id\": \"A0232521\", \"x\": 8.95, \"y\": 44.416667, \"total\": 451, \"toponym\": \"Genes\", \"toponyme_standard_fr\": \"G\\u00eanes\", \"toponyme_standard_en\": \"Genoa\", \"substate_1789_fr\": null, \"state_1789_fr\": \"R\\u00e9publique de G\\u00eanes\", \"substate_1789_en\": null, \"state_1789_en\": \"Republic of Genoa\", \"belonging_states\": \"[{\\\"1749-1797\\\" : \\\"R\\u00e9publique de G\\u00eanes\\\"},{\\\"1797-1805\\\" : \\\"R\\u00e9publique\\u00a0ligurienne\\\"},{\\\"1805-1815\\\" : \\\"France\\\"}]\", \"belonging_substates\": null, \"status\": null, \"has_a_clerk\": null, \"geonameid\": 11837005.0, \"admiralty\": null, \"province\": null, \"shiparea\": \"MED-LIGS\", \"ferme_direction\": null, \"ferme_bureau\": null, \"partner_balance_1789\": null, \"partner_balance_supp_1789\": \"Etranger\", \"point\": \"{\\\"type\\\":\\\"Point\\\",\\\"coordinates\\\":[8.95,44.416667]}\"}, {\"destination_uhgs_id\": \"A0251183\", \"nb_ships_cereales\": 0.0, \"nb_ships_produits coloniaux\": 0.0, \"nb_ships_alcools\": 0.0, \"nb_ships_chauffage\": 0.0, \"nb_ships_tissus\": 3.0, \"nb_ships_divers\": 1.0, \"nb_ships_alimentation\": 2.0, \"nb_ships_sans categorie\": 0.0, \"sum_tonnage_cereales\": 0.0, \"sum_tonnage_produits coloniaux\": 0.0, \"sum_tonnage_alcools\": 0.0, \"sum_tonnage_chauffage\": 0.0, \"sum_tonnage_tissus\": 430.0, \"sum_tonnage_divers\": 130.0, \"sum_tonnage_alimentation\": 350.0, \"sum_tonnage_sans categorie\": 0.0, \"sum_tonnage_per_product_cereales\": 0.0, \"sum_tonnage_per_product_produits coloniaux\": 0.0, \"sum_tonnage_per_product_alcools\": 0.0, \"sum_tonnage_per_product_chauffage\": 0.0, \"sum_tonnage_per_product_tissus\": 165.0, \"sum_tonnage_per_product_divers\": 65.0, \"sum_tonnage_per_product_alimentation\": 250.0, \"sum_tonnage_per_product_sans categorie\": 0.0, \"nb_ships_total\": 6, \"sum_tonnage_total\": 910.0, \"sum_tonnage_per_product_total\": 480.0, \"departure_uhgs_id\": \"A0204180\", \"departure_fr\": \"Dunkerque\", \"Unnamed: 0\": 782, \"ogc_fid\": 206, \"uhgs_id\": \"A0251183\", \"x\": 10.316667, \"y\": 43.55, \"total\": 214, \"toponym\": \"Livourne\", \"toponyme_standard_fr\": \"Livourne\", \"toponyme_standard_en\": \"Livorno\", \"substate_1789_fr\": null, \"state_1789_fr\": \"Toscane\", \"substate_1789_en\": null, \"state_1789_en\": \"Tuscany\", \"belonging_states\": \"[{\\\"1749-1801\\\" : \\\"Toscane\\\"},{\\\"1801-1807\\\" : \\\"Royaume d'\\u00c9trurie\\\"},{\\\"1808-1814\\\" : \\\"France\\\"}]\", \"belonging_substates\": null, \"status\": null, \"has_a_clerk\": null, \"geonameid\": 3174659.0, \"admiralty\": null, \"province\": null, \"shiparea\": \"MED-TYNO\", \"ferme_direction\": null, \"ferme_bureau\": null, \"partner_balance_1789\": null, \"partner_balance_supp_1789\": \"Etranger\", \"point\": \"{\\\"type\\\":\\\"Point\\\",\\\"coordinates\\\":[10.316667,43.55]}\"}, {\"destination_uhgs_id\": \"A0360085\", \"nb_ships_cereales\": 0.0, \"nb_ships_produits coloniaux\": 0.0, \"nb_ships_alcools\": 0.0, \"nb_ships_chauffage\": 1.0, \"nb_ships_tissus\": 0.0, \"nb_ships_divers\": 0.0, \"nb_ships_alimentation\": 0.0, \"nb_ships_sans categorie\": 0.0, \"sum_tonnage_cereales\": 0.0, \"sum_tonnage_produits coloniaux\": 0.0, \"sum_tonnage_alcools\": 0.0, \"sum_tonnage_chauffage\": 240.0, \"sum_tonnage_tissus\": 0.0, \"sum_tonnage_divers\": 0.0, \"sum_tonnage_alimentation\": 0.0, \"sum_tonnage_sans categorie\": 0.0, \"sum_tonnage_per_product_cereales\": 0.0, \"sum_tonnage_per_product_produits coloniaux\": 0.0, \"sum_tonnage_per_product_alcools\": 0.0, \"sum_tonnage_per_product_chauffage\": 240.0, \"sum_tonnage_per_product_tissus\": 0.0, \"sum_tonnage_per_product_divers\": 0.0, \"sum_tonnage_per_product_alimentation\": 0.0, \"sum_tonnage_per_product_sans categorie\": 0.0, \"nb_ships_total\": 1, \"sum_tonnage_total\": 240.0, \"sum_tonnage_per_product_total\": 240.0, \"departure_uhgs_id\": \"A0204180\", \"departure_fr\": \"Dunkerque\", \"Unnamed: 0\": 471, \"ogc_fid\": 1073, \"uhgs_id\": \"A0360085\", \"x\": -9.133333, \"y\": 38.716667, \"total\": 136, \"toponym\": \"Lisbonne\", \"toponyme_standard_fr\": \"Lisbonne\", \"toponyme_standard_en\": \"Lisbon\", \"substate_1789_fr\": null, \"state_1789_fr\": \"Portugal\", \"substate_1789_en\": null, \"state_1789_en\": \"Portugal\", \"belonging_states\": \"[{\\\"1749-1815\\\" : \\\"Portugal\\\"}]\", \"belonging_substates\": null, \"status\": null, \"has_a_clerk\": null, \"geonameid\": 2267057.0, \"admiralty\": null, \"province\": null, \"shiparea\": \"ACE-SVIC\", \"ferme_direction\": null, \"ferme_bureau\": null, \"partner_balance_1789\": \"Portugal\", \"partner_balance_supp_1789\": \"Etranger\", \"point\": \"{\\\"type\\\":\\\"Point\\\",\\\"coordinates\\\":[-9.133333,38.716667]}\"}, {\"destination_uhgs_id\": \"A0364551\", \"nb_ships_cereales\": 1.0, \"nb_ships_produits coloniaux\": 0.0, \"nb_ships_alcools\": 0.0, \"nb_ships_chauffage\": 0.0, \"nb_ships_tissus\": 0.0, \"nb_ships_divers\": 0.0, \"nb_ships_alimentation\": 0.0, \"nb_ships_sans categorie\": 0.0, \"sum_tonnage_cereales\": 300.0, \"sum_tonnage_produits coloniaux\": 0.0, \"sum_tonnage_alcools\": 0.0, \"sum_tonnage_chauffage\": 0.0, \"sum_tonnage_tissus\": 0.0, \"sum_tonnage_divers\": 0.0, \"sum_tonnage_alimentation\": 0.0, \"sum_tonnage_sans categorie\": 0.0, \"sum_tonnage_per_product_cereales\": 150.0, \"sum_tonnage_per_product_produits coloniaux\": 0.0, \"sum_tonnage_per_product_alcools\": 0.0, \"sum_tonnage_per_product_chauffage\": 0.0, \"sum_tonnage_per_product_tissus\": 0.0, \"sum_tonnage_per_product_divers\": 0.0, \"sum_tonnage_per_product_alimentation\": 0.0, \"sum_tonnage_per_product_sans categorie\": 0.0, \"nb_ships_total\": 1, \"sum_tonnage_total\": 300.0, \"sum_tonnage_per_product_total\": 150.0, \"departure_uhgs_id\": \"A0204180\", \"departure_fr\": \"Dunkerque\", \"Unnamed: 0\": 376, \"ogc_fid\": 36, \"uhgs_id\": \"A0364551\", \"x\": -8.9, \"y\": 38.533333, \"total\": 50, \"toponym\": \"Setubal\", \"toponyme_standard_fr\": \"Set\\u00fabal\\u00a0\", \"toponyme_standard_en\": \"Set\\u00fabal\", \"substate_1789_fr\": null, \"state_1789_fr\": \"Portugal\", \"substate_1789_en\": null, \"state_1789_en\": \"Portugal\", \"belonging_states\": \"[{\\\"1749-1815\\\" : \\\"Portugal\\\"}]\", \"belonging_substates\": null, \"status\": null, \"has_a_clerk\": null, \"geonameid\": 2262963.0, \"admiralty\": null, \"province\": null, \"shiparea\": \"ACE-SVIC\", \"ferme_direction\": null, \"ferme_bureau\": null, \"partner_balance_1789\": \"Portugal\", \"partner_balance_supp_1789\": \"Etranger\", \"point\": \"{\\\"type\\\":\\\"Point\\\",\\\"coordinates\\\":[-8.9,38.533333]}\"}, {\"destination_uhgs_id\": \"A0374720\", \"nb_ships_cereales\": 2.0, \"nb_ships_produits coloniaux\": 0.0, \"nb_ships_alcools\": 0.0, \"nb_ships_chauffage\": 0.0, \"nb_ships_tissus\": 1.0, \"nb_ships_divers\": 0.0, \"nb_ships_alimentation\": 4.0, \"nb_ships_sans categorie\": 0.0, \"sum_tonnage_cereales\": 155.0, \"sum_tonnage_produits coloniaux\": 0.0, \"sum_tonnage_alcools\": 0.0, \"sum_tonnage_chauffage\": 0.0, \"sum_tonnage_tissus\": 25.0, \"sum_tonnage_divers\": 0.0, \"sum_tonnage_alimentation\": 100.0, \"sum_tonnage_sans categorie\": 0.0, \"sum_tonnage_per_product_cereales\": 142.5, \"sum_tonnage_per_product_produits coloniaux\": 0.0, \"sum_tonnage_per_product_alcools\": 0.0, \"sum_tonnage_per_product_chauffage\": 0.0, \"sum_tonnage_per_product_tissus\": 12.5, \"sum_tonnage_per_product_divers\": 0.0, \"sum_tonnage_per_product_alimentation\": 100.0, \"sum_tonnage_per_product_sans categorie\": 0.0, \"nb_ships_total\": 7, \"sum_tonnage_total\": 280.0, \"sum_tonnage_per_product_total\": 255.0, \"departure_uhgs_id\": \"A0204180\", \"departure_fr\": \"Dunkerque\", \"Unnamed: 0\": 1338, \"ogc_fid\": 359, \"uhgs_id\": \"A0374720\", \"x\": -17.0, \"y\": 32.733333, \"total\": 14, \"toponym\": \"Mad\\u00e8re\", \"toponyme_standard_fr\": \"Mad\\u00e8re\", \"toponyme_standard_en\": \"Madeira\", \"substate_1789_fr\": \"\\u00eeles atlantiques portugaises\", \"state_1789_fr\": \"Portugal\", \"substate_1789_en\": \"Portuguese Atlantic Islands\", \"state_1789_en\": \"Portugal\", \"belonging_states\": \"[{\\\"1749-1815\\\" : \\\"Portugal\\\"}]\", \"belonging_substates\": \"[{\\\"1749-1815\\\" : \\\"\\u00eeles atlantiques portugaises\\\"}]\", \"status\": null, \"has_a_clerk\": null, \"geonameid\": 2266874.0, \"admiralty\": null, \"province\": null, \"shiparea\": \"ACE-MADE\", \"ferme_direction\": null, \"ferme_bureau\": null, \"partner_balance_1789\": \"Portugal\", \"partner_balance_supp_1789\": \"Etranger\", \"point\": \"{\\\"type\\\":\\\"Point\\\",\\\"coordinates\\\":[-17,32.733333]}\"}, {\"destination_uhgs_id\": \"A0618784\", \"nb_ships_cereales\": 0.0, \"nb_ships_produits coloniaux\": 0.0, \"nb_ships_alcools\": 0.0, \"nb_ships_chauffage\": 0.0, \"nb_ships_tissus\": 0.0, \"nb_ships_divers\": 1.0, \"nb_ships_alimentation\": 4.0, \"nb_ships_sans categorie\": 0.0, \"sum_tonnage_cereales\": 0.0, \"sum_tonnage_produits coloniaux\": 0.0, \"sum_tonnage_alcools\": 0.0, \"sum_tonnage_chauffage\": 0.0, \"sum_tonnage_tissus\": 0.0, \"sum_tonnage_divers\": 106.0, \"sum_tonnage_alimentation\": 362.0, \"sum_tonnage_sans categorie\": 0.0, \"sum_tonnage_per_product_cereales\": 0.0, \"sum_tonnage_per_product_produits coloniaux\": 0.0, \"sum_tonnage_per_product_alcools\": 0.0, \"sum_tonnage_per_product_chauffage\": 0.0, \"sum_tonnage_per_product_tissus\": 0.0, \"sum_tonnage_per_product_divers\": 106.0, \"sum_tonnage_per_product_alimentation\": 272.0, \"sum_tonnage_per_product_sans categorie\": 0.0, \"nb_ships_total\": 5, \"sum_tonnage_total\": 468.0, \"sum_tonnage_per_product_total\": 378.0, \"departure_uhgs_id\": \"A0204180\", \"departure_fr\": \"Dunkerque\", \"Unnamed: 0\": 53, \"ogc_fid\": 1026, \"uhgs_id\": \"A0618784\", \"x\": 4.666667, \"y\": 51.8, \"total\": 61, \"toponym\": \"Doort\", \"toponyme_standard_fr\": \"Dordrecht\\u00a0\", \"toponyme_standard_en\": \"Dordrecht\\u00a0\", \"substate_1789_fr\": \"Hollande\", \"state_1789_fr\": \"Provinces-Unies\", \"substate_1789_en\": \"Holland\", \"state_1789_en\": \"United Provinces\", \"belonging_states\": \"[{\\\"1749-1794\\\" : \\\"Provinces-Unies\\\"},{\\\"1795-1805\\\" : \\\"R\\u00e9publique batave\\\"},{\\\"1806-1810\\\" : \\\"Royaume de Hollande\\\"},{\\\"1811-1813\\\" : \\\"France\\\"},{\\\"1814-1815\\\" : \\\"Royaume uni des Pays-Bas\\\"}]\", \"belonging_substates\": \"[{\\\"1749-1794\\\" : \\\"Hollande\\\"}]\", \"status\": null, \"has_a_clerk\": null, \"geonameid\": 2756669.0, \"admiralty\": null, \"province\": null, \"shiparea\": \"NOR-THAM\", \"ferme_direction\": null, \"ferme_bureau\": null, \"partner_balance_1789\": \"Hollande\", \"partner_balance_supp_1789\": \"Etranger\", \"point\": \"{\\\"type\\\":\\\"Point\\\",\\\"coordinates\\\":[4.666667,51.8]}\"}, {\"destination_uhgs_id\": \"A0620777\", \"nb_ships_cereales\": 1.0, \"nb_ships_produits coloniaux\": 0.0, \"nb_ships_alcools\": 2.0, \"nb_ships_chauffage\": 0.0, \"nb_ships_tissus\": 0.0, \"nb_ships_divers\": 5.0, \"nb_ships_alimentation\": 4.0, \"nb_ships_sans categorie\": 0.0, \"sum_tonnage_cereales\": 270.0, \"sum_tonnage_produits coloniaux\": 0.0, \"sum_tonnage_alcools\": 125.0, \"sum_tonnage_chauffage\": 0.0, \"sum_tonnage_tissus\": 0.0, \"sum_tonnage_divers\": 519.0, \"sum_tonnage_alimentation\": 469.0, \"sum_tonnage_sans categorie\": 0.0, \"sum_tonnage_per_product_cereales\": 270.0, \"sum_tonnage_per_product_produits coloniaux\": 0.0, \"sum_tonnage_per_product_alcools\": 125.0, \"sum_tonnage_per_product_chauffage\": 0.0, \"sum_tonnage_per_product_tissus\": 0.0, \"sum_tonnage_per_product_divers\": 350.5, \"sum_tonnage_per_product_alimentation\": 300.5, \"sum_tonnage_per_product_sans categorie\": 0.0, \"nb_ships_total\": 12, \"sum_tonnage_total\": 1383.0, \"sum_tonnage_per_product_total\": 1046.0, \"departure_uhgs_id\": \"A0204180\", \"departure_fr\": \"Dunkerque\", \"Unnamed: 0\": 96, \"ogc_fid\": 69, \"uhgs_id\": \"A0620777\", \"x\": 4.916667, \"y\": 52.35, \"total\": 433, \"toponym\": \"Amsterdam\", \"toponyme_standard_fr\": \"Amsterdam\", \"toponyme_standard_en\": \"Amsterdam\", \"substate_1789_fr\": \"Hollande\", \"state_1789_fr\": \"Provinces-Unies\", \"substate_1789_en\": \"Holland\", \"state_1789_en\": \"United Provinces\", \"belonging_states\": \"[{\\\"1749-1794\\\" : \\\"Provinces-Unies\\\"},{\\\"1795-1805\\\" : \\\"R\\u00e9publique batave\\\"},{\\\"1806-1810\\\" : \\\"Royaume de Hollande\\\"},{\\\"1811-1813\\\" : \\\"France\\\"},{\\\"1814-1815\\\" : \\\"Royaume uni des Pays-Bas\\\"}]\", \"belonging_substates\": \"[{\\\"1749-1794\\\" : \\\"Hollande\\\"}]\", \"status\": null, \"has_a_clerk\": null, \"geonameid\": 2749481.0, \"admiralty\": null, \"province\": null, \"shiparea\": \"NOR-THAM\", \"ferme_direction\": null, \"ferme_bureau\": null, \"partner_balance_1789\": \"Hollande\", \"partner_balance_supp_1789\": \"Etranger\", \"point\": \"{\\\"type\\\":\\\"Point\\\",\\\"coordinates\\\":[4.916667,52.35]}\"}, {\"destination_uhgs_id\": \"A0622825\", \"nb_ships_cereales\": 0.0, \"nb_ships_produits coloniaux\": 0.0, \"nb_ships_alcools\": 0.0, \"nb_ships_chauffage\": 0.0, \"nb_ships_tissus\": 1.0, \"nb_ships_divers\": 0.0, \"nb_ships_alimentation\": 1.0, \"nb_ships_sans categorie\": 0.0, \"sum_tonnage_cereales\": 0.0, \"sum_tonnage_produits coloniaux\": 0.0, \"sum_tonnage_alcools\": 0.0, \"sum_tonnage_chauffage\": 0.0, \"sum_tonnage_tissus\": 100.0, \"sum_tonnage_divers\": 0.0, \"sum_tonnage_alimentation\": 100.0, \"sum_tonnage_sans categorie\": 0.0, \"sum_tonnage_per_product_cereales\": 0.0, \"sum_tonnage_per_product_produits coloniaux\": 0.0, \"sum_tonnage_per_product_alcools\": 0.0, \"sum_tonnage_per_product_chauffage\": 0.0, \"sum_tonnage_per_product_tissus\": 50.0, \"sum_tonnage_per_product_divers\": 0.0, \"sum_tonnage_per_product_alimentation\": 50.0, \"sum_tonnage_per_product_sans categorie\": 0.0, \"nb_ships_total\": 2, \"sum_tonnage_total\": 200.0, \"sum_tonnage_per_product_total\": 100.0, \"departure_uhgs_id\": \"A0204180\", \"departure_fr\": \"Dunkerque\", \"Unnamed: 0\": 494, \"ogc_fid\": 999, \"uhgs_id\": \"A0622825\", \"x\": 3.613629, \"y\": 51.499927, \"total\": 8, \"toponym\": \"Middelbourg\", \"toponyme_standard_fr\": \"Middelbourg\", \"toponyme_standard_en\": \"Middelburg\", \"substate_1789_fr\": \"Z\\u00e9lande\", \"state_1789_fr\": \"Provinces-Unies\", \"substate_1789_en\": \"Zeeland\", \"state_1789_en\": \"United Provinces\", \"belonging_states\": \"[{\\\"1749-1794\\\" : \\\"Provinces-Unies\\\"},{\\\"1795-1805\\\" : \\\"R\\u00e9publique batave\\\"},{\\\"1806-1810\\\" : \\\"Royaume de Hollande\\\"},{\\\"1811-1813\\\" : \\\"France\\\"},{\\\"1814-1815\\\" : \\\"Royaume uni des Pays-Bas\\\"}]\", \"belonging_substates\": \"[{\\\"1749-1794\\\" : \\\"Z\\u00e9lande\\\"}]\", \"status\": null, \"has_a_clerk\": null, \"geonameid\": 2750896.0, \"admiralty\": null, \"province\": null, \"shiparea\": \"NOR-THAM\", \"ferme_direction\": null, \"ferme_bureau\": null, \"partner_balance_1789\": \"Hollande\", \"partner_balance_supp_1789\": \"Etranger\", \"point\": \"{\\\"type\\\":\\\"Point\\\",\\\"coordinates\\\":[3.613629,51.499927]}\"}, {\"destination_uhgs_id\": \"A0624785\", \"nb_ships_cereales\": 3.0, \"nb_ships_produits coloniaux\": 2.0, \"nb_ships_alcools\": 2.0, \"nb_ships_chauffage\": 0.0, \"nb_ships_tissus\": 21.0, \"nb_ships_divers\": 17.0, \"nb_ships_alimentation\": 49.0, \"nb_ships_sans categorie\": 1.0, \"sum_tonnage_cereales\": 120.0, \"sum_tonnage_produits coloniaux\": 110.0, \"sum_tonnage_alcools\": 146.0, \"sum_tonnage_chauffage\": 0.0, \"sum_tonnage_tissus\": 1085.0, \"sum_tonnage_divers\": 853.0, \"sum_tonnage_alimentation\": 2578.0, \"sum_tonnage_sans categorie\": 50.0, \"sum_tonnage_per_product_cereales\": 80.0, \"sum_tonnage_per_product_produits coloniaux\": 76.7, \"sum_tonnage_per_product_alcools\": 146.0, \"sum_tonnage_per_product_chauffage\": 0.0, \"sum_tonnage_per_product_tissus\": 508.3, \"sum_tonnage_per_product_divers\": 460.7, \"sum_tonnage_per_product_alimentation\": 1622.3, \"sum_tonnage_per_product_sans categorie\": 25.0, \"nb_ships_total\": 95, \"sum_tonnage_total\": 4942.0, \"sum_tonnage_per_product_total\": 2919.0, \"departure_uhgs_id\": \"A0204180\", \"departure_fr\": \"Dunkerque\", \"Unnamed: 0\": 474, \"ogc_fid\": 53, \"uhgs_id\": \"A0624785\", \"x\": 3.666667, \"y\": 51.55, \"total\": 104, \"toponym\": \"Terver\", \"toponyme_standard_fr\": \"Veere\", \"toponyme_standard_en\": \"Veere\", \"substate_1789_fr\": \"Z\\u00e9lande\", \"state_1789_fr\": \"Provinces-Unies\", \"substate_1789_en\": \"Zeeland\", \"state_1789_en\": \"United Provinces\", \"belonging_states\": \"[{\\\"1749-1794\\\" : \\\"Provinces-Unies\\\"},{\\\"1795-1805\\\" : \\\"R\\u00e9publique batave\\\"},{\\\"1806-1810\\\" : \\\"Royaume de Hollande\\\"},{\\\"1811-1813\\\" : \\\"France\\\"},{\\\"1814-1815\\\" : \\\"Royaume uni des Pays-Bas\\\"}]\", \"belonging_substates\": \"[{\\\"1749-1794\\\" : \\\"Z\\u00e9lande\\\"}]\", \"status\": null, \"has_a_clerk\": null, \"geonameid\": 2754824.0, \"admiralty\": null, \"province\": null, \"shiparea\": \"NOR-THAM\", \"ferme_direction\": null, \"ferme_bureau\": null, \"partner_balance_1789\": \"Hollande\", \"partner_balance_supp_1789\": \"Etranger\", \"point\": \"{\\\"type\\\":\\\"Point\\\",\\\"coordinates\\\":[3.666667,51.55]}\"}, {\"destination_uhgs_id\": \"A0624934\", \"nb_ships_cereales\": 0.0, \"nb_ships_produits coloniaux\": 0.0, \"nb_ships_alcools\": 1.0, \"nb_ships_chauffage\": 0.0, \"nb_ships_tissus\": 1.0, \"nb_ships_divers\": 0.0, \"nb_ships_alimentation\": 2.0, \"nb_ships_sans categorie\": 0.0, \"sum_tonnage_cereales\": 0.0, \"sum_tonnage_produits coloniaux\": 0.0, \"sum_tonnage_alcools\": 90.0, \"sum_tonnage_chauffage\": 0.0, \"sum_tonnage_tissus\": 106.0, \"sum_tonnage_divers\": 0.0, \"sum_tonnage_alimentation\": 196.0, \"sum_tonnage_sans categorie\": 0.0, \"sum_tonnage_per_product_cereales\": 0.0, \"sum_tonnage_per_product_produits coloniaux\": 0.0, \"sum_tonnage_per_product_alcools\": 45.0, \"sum_tonnage_per_product_chauffage\": 0.0, \"sum_tonnage_per_product_tissus\": 53.0, \"sum_tonnage_per_product_divers\": 0.0, \"sum_tonnage_per_product_alimentation\": 98.0, \"sum_tonnage_per_product_sans categorie\": 0.0, \"nb_ships_total\": 4, \"sum_tonnage_total\": 392.0, \"sum_tonnage_per_product_total\": 196.0, \"departure_uhgs_id\": \"A0204180\", \"departure_fr\": \"Dunkerque\", \"Unnamed: 0\": 749, \"ogc_fid\": 5, \"uhgs_id\": \"A0624934\", \"x\": 6.266985, \"y\": 52.221732, \"total\": 2, \"toponym\": \"Dorn [Dort]\", \"toponyme_standard_fr\": \"Dort\", \"toponyme_standard_en\": \"Dort\", \"substate_1789_fr\": \"Gueldre\", \"state_1789_fr\": \"Provinces-Unies\", \"substate_1789_en\": \"Gelderland\\u00a0\", \"state_1789_en\": \"United Provinces\", \"belonging_states\": \"[{\\\"1749-1815\\\" : \\\"Provinces-Unies\\\"}]\", \"belonging_substates\": \"[{\\\"1749-1815\\\" : \\\"Gueldre\\\"}]\", \"status\": null, \"has_a_clerk\": null, \"geonameid\": 6111662.0, \"admiralty\": null, \"province\": null, \"shiparea\": \"NOR-THAM\", \"ferme_direction\": null, \"ferme_bureau\": null, \"partner_balance_1789\": \"Hollande\", \"partner_balance_supp_1789\": \"Etranger\", \"point\": \"{\\\"type\\\":\\\"Point\\\",\\\"coordinates\\\":[6.266985,52.221732]}\"}, {\"destination_uhgs_id\": \"A0627935\", \"nb_ships_cereales\": 2.0, \"nb_ships_produits coloniaux\": 0.0, \"nb_ships_alcools\": 2.0, \"nb_ships_chauffage\": 0.0, \"nb_ships_tissus\": 6.0, \"nb_ships_divers\": 3.0, \"nb_ships_alimentation\": 8.0, \"nb_ships_sans categorie\": 0.0, \"sum_tonnage_cereales\": 110.0, \"sum_tonnage_produits coloniaux\": 0.0, \"sum_tonnage_alcools\": 140.0, \"sum_tonnage_chauffage\": 0.0, \"sum_tonnage_tissus\": 370.0, \"sum_tonnage_divers\": 291.0, \"sum_tonnage_alimentation\": 647.0, \"sum_tonnage_sans categorie\": 0.0, \"sum_tonnage_per_product_cereales\": 83.3, \"sum_tonnage_per_product_produits coloniaux\": 0.0, \"sum_tonnage_per_product_alcools\": 140.0, \"sum_tonnage_per_product_chauffage\": 0.0, \"sum_tonnage_per_product_tissus\": 171.7, \"sum_tonnage_per_product_divers\": 145.5, \"sum_tonnage_per_product_alimentation\": 428.5, \"sum_tonnage_per_product_sans categorie\": 0.0, \"nb_ships_total\": 21, \"sum_tonnage_total\": 1558.0, \"sum_tonnage_per_product_total\": 969.0, \"departure_uhgs_id\": \"A0204180\", \"departure_fr\": \"Dunkerque\", \"Unnamed: 0\": 76, \"ogc_fid\": 22, \"uhgs_id\": \"A0627935\", \"x\": 4.5, \"y\": 51.916667, \"total\": 291, \"toponym\": \"Rotterdam\", \"toponyme_standard_fr\": \"Rotterdam\", \"toponyme_standard_en\": \"Rotterdam\", \"substate_1789_fr\": \"Hollande\", \"state_1789_fr\": \"Provinces-Unies\", \"substate_1789_en\": \"Holland\", \"state_1789_en\": \"United Provinces\", \"belonging_states\": \"[{\\\"1749-1794\\\" : \\\"Provinces-Unies\\\"},{\\\"1795-1805\\\" : \\\"R\\u00e9publique batave\\\"},{\\\"1806-1810\\\" : \\\"Royaume de Hollande\\\"},{\\\"1811-1813\\\" : \\\"France\\\"},{\\\"1814-1815\\\" : \\\"Royaume uni des Pays-Bas\\\"}]\", \"belonging_substates\": \"[{\\\"1749-1794\\\" : \\\"Hollande\\\"}]\", \"status\": null, \"has_a_clerk\": null, \"geonameid\": 2747891.0, \"admiralty\": null, \"province\": null, \"shiparea\": \"NOR-THAM\", \"ferme_direction\": null, \"ferme_bureau\": null, \"partner_balance_1789\": \"Hollande\", \"partner_balance_supp_1789\": \"Etranger\", \"point\": \"{\\\"type\\\":\\\"Point\\\",\\\"coordinates\\\":[4.5,51.916667]}\"}, {\"destination_uhgs_id\": \"A0691896\", \"nb_ships_cereales\": 0.0, \"nb_ships_produits coloniaux\": 0.0, \"nb_ships_alcools\": 0.0, \"nb_ships_chauffage\": 0.0, \"nb_ships_tissus\": 0.0, \"nb_ships_divers\": 0.0, \"nb_ships_alimentation\": 1.0, \"nb_ships_sans categorie\": 0.0, \"sum_tonnage_cereales\": 0.0, \"sum_tonnage_produits coloniaux\": 0.0, \"sum_tonnage_alcools\": 0.0, \"sum_tonnage_chauffage\": 0.0, \"sum_tonnage_tissus\": 0.0, \"sum_tonnage_divers\": 0.0, \"sum_tonnage_alimentation\": 70.0, \"sum_tonnage_sans categorie\": 0.0, \"sum_tonnage_per_product_cereales\": 0.0, \"sum_tonnage_per_product_produits coloniaux\": 0.0, \"sum_tonnage_per_product_alcools\": 0.0, \"sum_tonnage_per_product_chauffage\": 0.0, \"sum_tonnage_per_product_tissus\": 0.0, \"sum_tonnage_per_product_divers\": 0.0, \"sum_tonnage_per_product_alimentation\": 70.0, \"sum_tonnage_per_product_sans categorie\": 0.0, \"nb_ships_total\": 1, \"sum_tonnage_total\": 70.0, \"sum_tonnage_per_product_total\": 70.0, \"departure_uhgs_id\": \"A0204180\", \"departure_fr\": \"Dunkerque\", \"Unnamed: 0\": 868, \"ogc_fid\": 774, \"uhgs_id\": \"A0691896\", \"x\": 8.8, \"y\": 53.083333, \"total\": 96, \"toponym\": \"Bremen\", \"toponyme_standard_fr\": \"Br\\u00eame\", \"toponyme_standard_en\": \"Bremen\", \"substate_1789_fr\": null, \"state_1789_fr\": \"Br\\u00eame\", \"substate_1789_en\": null, \"state_1789_en\": \"Bremen\", \"belonging_states\": \"[{\\\"1749-1810\\\" : \\\"Br\\u00eame\\\"},{\\\"1810-1813\\\" : \\\"France\\\"}]\", \"belonging_substates\": null, \"status\": null, \"has_a_clerk\": null, \"geonameid\": 2944388.0, \"admiralty\": null, \"province\": null, \"shiparea\": \"NOR-GBIG\", \"ferme_direction\": null, \"ferme_bureau\": null, \"partner_balance_1789\": \"Quatre villes hans\\u00e9atiques\", \"partner_balance_supp_1789\": \"Etranger\", \"point\": \"{\\\"type\\\":\\\"Point\\\",\\\"coordinates\\\":[8.8,53.083333]}\"}, {\"destination_uhgs_id\": \"A0743522\", \"nb_ships_cereales\": 1.0, \"nb_ships_produits coloniaux\": 0.0, \"nb_ships_alcools\": 0.0, \"nb_ships_chauffage\": 0.0, \"nb_ships_tissus\": 1.0, \"nb_ships_divers\": 0.0, \"nb_ships_alimentation\": 3.0, \"nb_ships_sans categorie\": 0.0, \"sum_tonnage_cereales\": 170.0, \"sum_tonnage_produits coloniaux\": 0.0, \"sum_tonnage_alcools\": 0.0, \"sum_tonnage_chauffage\": 0.0, \"sum_tonnage_tissus\": 170.0, \"sum_tonnage_divers\": 0.0, \"sum_tonnage_alimentation\": 435.0, \"sum_tonnage_sans categorie\": 0.0, \"sum_tonnage_per_product_cereales\": 56.7, \"sum_tonnage_per_product_produits coloniaux\": 0.0, \"sum_tonnage_per_product_alcools\": 0.0, \"sum_tonnage_per_product_chauffage\": 0.0, \"sum_tonnage_per_product_tissus\": 56.7, \"sum_tonnage_per_product_divers\": 0.0, \"sum_tonnage_per_product_alimentation\": 321.7, \"sum_tonnage_per_product_sans categorie\": 0.0, \"nb_ships_total\": 5, \"sum_tonnage_total\": 775.0, \"sum_tonnage_per_product_total\": 435.0, \"departure_uhgs_id\": \"A0204180\", \"departure_fr\": \"Dunkerque\", \"Unnamed: 0\": 1028, \"ogc_fid\": 463, \"uhgs_id\": \"A0743522\", \"x\": 10.0, \"y\": 53.55, \"total\": 255, \"toponym\": \"Hambourg\", \"toponyme_standard_fr\": \"Hambourg\", \"toponyme_standard_en\": \"Hamburg\", \"substate_1789_fr\": null, \"state_1789_fr\": \"Hambourg\", \"substate_1789_en\": null, \"state_1789_en\": \"Hamburg\", \"belonging_states\": \"[{\\\"1749-1810\\\" : \\\"Hambourg\\\"},{\\\"1810-1813\\\" : \\\"France\\\"}]\", \"belonging_substates\": null, \"status\": null, \"has_a_clerk\": null, \"geonameid\": 2911298.0, \"admiralty\": null, \"province\": null, \"shiparea\": \"NOR-GBIG\", \"ferme_direction\": null, \"ferme_bureau\": null, \"partner_balance_1789\": \"Quatre villes hans\\u00e9atiques\", \"partner_balance_supp_1789\": \"Etranger\", \"point\": \"{\\\"type\\\":\\\"Point\\\",\\\"coordinates\\\":[10,53.55]}\"}, {\"destination_uhgs_id\": \"A0912818\", \"nb_ships_cereales\": 0.0, \"nb_ships_produits coloniaux\": 2.0, \"nb_ships_alcools\": 0.0, \"nb_ships_chauffage\": 0.0, \"nb_ships_tissus\": 1.0, \"nb_ships_divers\": 0.0, \"nb_ships_alimentation\": 0.0, \"nb_ships_sans categorie\": 0.0, \"sum_tonnage_cereales\": 0.0, \"sum_tonnage_produits coloniaux\": 70.0, \"sum_tonnage_alcools\": 0.0, \"sum_tonnage_chauffage\": 0.0, \"sum_tonnage_tissus\": 35.0, \"sum_tonnage_divers\": 0.0, \"sum_tonnage_alimentation\": 0.0, \"sum_tonnage_sans categorie\": 0.0, \"sum_tonnage_per_product_cereales\": 0.0, \"sum_tonnage_per_product_produits coloniaux\": 23.3, \"sum_tonnage_per_product_alcools\": 0.0, \"sum_tonnage_per_product_chauffage\": 0.0, \"sum_tonnage_per_product_tissus\": 11.7, \"sum_tonnage_per_product_divers\": 0.0, \"sum_tonnage_per_product_alimentation\": 0.0, \"sum_tonnage_per_product_sans categorie\": 0.0, \"nb_ships_total\": 3, \"sum_tonnage_total\": 105.0, \"sum_tonnage_per_product_total\": 35.0, \"departure_uhgs_id\": \"A0204180\", \"departure_fr\": \"Dunkerque\", \"Unnamed: 0\": 167, \"ogc_fid\": 1031, \"uhgs_id\": \"A0912818\", \"x\": 5.324722, \"y\": 60.391111, \"total\": 82, \"toponym\": \"Bergen\", \"toponyme_standard_fr\": \"Bergue\\u00a0\", \"toponyme_standard_en\": \"Bergen\", \"substate_1789_fr\": \"Norv\\u00e8ge\", \"state_1789_fr\": \"Danemark\", \"substate_1789_en\": \"Norway\", \"state_1789_en\": \"Denmark\", \"belonging_states\": \"[{\\\"1749-1815\\\" : \\\"Danemark\\\"}]\", \"belonging_substates\": \"[{\\\"1749-1815\\\" : \\\"Norv\\u00e8ge\\\"}]\", \"status\": null, \"has_a_clerk\": null, \"geonameid\": 3161732.0, \"admiralty\": null, \"province\": null, \"shiparea\": \"NOR-UTSN\", \"ferme_direction\": null, \"ferme_bureau\": null, \"partner_balance_1789\": \"Danemark\", \"partner_balance_supp_1789\": \"Etranger\", \"point\": \"{\\\"type\\\":\\\"Point\\\",\\\"coordinates\\\":[5.324722,60.391111]}\"}, {\"destination_uhgs_id\": \"A1054071\", \"nb_ships_cereales\": 0.0, \"nb_ships_produits coloniaux\": 0.0, \"nb_ships_alcools\": 0.0, \"nb_ships_chauffage\": 0.0, \"nb_ships_tissus\": 0.0, \"nb_ships_divers\": 0.0, \"nb_ships_alimentation\": 1.0, \"nb_ships_sans categorie\": 0.0, \"sum_tonnage_cereales\": 0.0, \"sum_tonnage_produits coloniaux\": 0.0, \"sum_tonnage_alcools\": 0.0, \"sum_tonnage_chauffage\": 0.0, \"sum_tonnage_tissus\": 0.0, \"sum_tonnage_divers\": 0.0, \"sum_tonnage_alimentation\": 150.0, \"sum_tonnage_sans categorie\": 0.0, \"sum_tonnage_per_product_cereales\": 0.0, \"sum_tonnage_per_product_produits coloniaux\": 0.0, \"sum_tonnage_per_product_alcools\": 0.0, \"sum_tonnage_per_product_chauffage\": 0.0, \"sum_tonnage_per_product_tissus\": 0.0, \"sum_tonnage_per_product_divers\": 0.0, \"sum_tonnage_per_product_alimentation\": 150.0, \"sum_tonnage_per_product_sans categorie\": 0.0, \"nb_ships_total\": 1, \"sum_tonnage_total\": 150.0, \"sum_tonnage_per_product_total\": 150.0, \"departure_uhgs_id\": \"A0204180\", \"departure_fr\": \"Dunkerque\", \"Unnamed: 0\": 724, \"ogc_fid\": 1060, \"uhgs_id\": \"A1054071\", \"x\": 11.933333, \"y\": 58.366667, \"total\": 7, \"toponym\": \"Auddewall [Uddevalla]\", \"toponyme_standard_fr\": \"Uddevalla\", \"toponyme_standard_en\": \"Uddevalla\", \"substate_1789_fr\": null, \"state_1789_fr\": \"Su\\u00e8de\", \"substate_1789_en\": null, \"state_1789_en\": \"Sweden\", \"belonging_states\": \"[{\\\"1749-1815\\\" : \\\"Su\\u00e8de\\\"}]\", \"belonging_substates\": null, \"status\": null, \"has_a_clerk\": null, \"geonameid\": 2666670.0, \"admiralty\": null, \"province\": null, \"shiparea\": \"BAL-KATT\", \"ferme_direction\": null, \"ferme_bureau\": null, \"partner_balance_1789\": \"Su\\u00e8de\", \"partner_balance_supp_1789\": \"Etranger\", \"point\": \"{\\\"type\\\":\\\"Point\\\",\\\"coordinates\\\":[11.933333,58.366667]}\"}, {\"destination_uhgs_id\": \"A1086867\", \"nb_ships_cereales\": 1.0, \"nb_ships_produits coloniaux\": 0.0, \"nb_ships_alcools\": 0.0, \"nb_ships_chauffage\": 0.0, \"nb_ships_tissus\": 0.0, \"nb_ships_divers\": 0.0, \"nb_ships_alimentation\": 0.0, \"nb_ships_sans categorie\": 0.0, \"sum_tonnage_cereales\": 12.0, \"sum_tonnage_produits coloniaux\": 0.0, \"sum_tonnage_alcools\": 0.0, \"sum_tonnage_chauffage\": 0.0, \"sum_tonnage_tissus\": 0.0, \"sum_tonnage_divers\": 0.0, \"sum_tonnage_alimentation\": 0.0, \"sum_tonnage_sans categorie\": 0.0, \"sum_tonnage_per_product_cereales\": 12.0, \"sum_tonnage_per_product_produits coloniaux\": 0.0, \"sum_tonnage_per_product_alcools\": 0.0, \"sum_tonnage_per_product_chauffage\": 0.0, \"sum_tonnage_per_product_tissus\": 0.0, \"sum_tonnage_per_product_divers\": 0.0, \"sum_tonnage_per_product_alimentation\": 0.0, \"sum_tonnage_per_product_sans categorie\": 0.0, \"nb_ships_total\": 1, \"sum_tonnage_total\": 12.0, \"sum_tonnage_per_product_total\": 12.0, \"departure_uhgs_id\": \"A0204180\", \"departure_fr\": \"Dunkerque\", \"Unnamed: 0\": 998, \"ogc_fid\": 1049, \"uhgs_id\": \"A1086867\", \"x\": 11.933333, \"y\": 58.3, \"total\": 2, \"toponym\": \"Nordberg\", \"toponyme_standard_fr\": \"Nordbergen\", \"toponyme_standard_en\": \"Nordbergen\", \"substate_1789_fr\": null, \"state_1789_fr\": \"Su\\u00e8de\", \"substate_1789_en\": null, \"state_1789_en\": \"Sweden\", \"belonging_states\": \"[{\\\"1749-1815\\\" : \\\"Su\\u00e8de\\\"}]\", \"belonging_substates\": null, \"status\": null, \"has_a_clerk\": null, \"geonameid\": 5224151.0, \"admiralty\": null, \"province\": null, \"shiparea\": \"BAL-KATT\", \"ferme_direction\": null, \"ferme_bureau\": null, \"partner_balance_1789\": \"Su\\u00e8de\", \"partner_balance_supp_1789\": \"Etranger\", \"point\": \"{\\\"type\\\":\\\"Point\\\",\\\"coordinates\\\":[11.933333,58.3]}\"}, {\"destination_uhgs_id\": \"A1964976\", \"nb_ships_cereales\": 5.0, \"nb_ships_produits coloniaux\": 0.0, \"nb_ships_alcools\": 0.0, \"nb_ships_chauffage\": 0.0, \"nb_ships_tissus\": 4.0, \"nb_ships_divers\": 0.0, \"nb_ships_alimentation\": 1.0, \"nb_ships_sans categorie\": 0.0, \"sum_tonnage_cereales\": 134.0, \"sum_tonnage_produits coloniaux\": 0.0, \"sum_tonnage_alcools\": 0.0, \"sum_tonnage_chauffage\": 0.0, \"sum_tonnage_tissus\": 94.0, \"sum_tonnage_divers\": 0.0, \"sum_tonnage_alimentation\": 40.0, \"sum_tonnage_sans categorie\": 0.0, \"sum_tonnage_per_product_cereales\": 67.0, \"sum_tonnage_per_product_produits coloniaux\": 0.0, \"sum_tonnage_per_product_alcools\": 0.0, \"sum_tonnage_per_product_chauffage\": 0.0, \"sum_tonnage_per_product_tissus\": 47.0, \"sum_tonnage_per_product_divers\": 0.0, \"sum_tonnage_per_product_alimentation\": 20.0, \"sum_tonnage_per_product_sans categorie\": 0.0, \"nb_ships_total\": 10, \"sum_tonnage_total\": 268.0, \"sum_tonnage_per_product_total\": 134.0, \"departure_uhgs_id\": \"A0204180\", \"departure_fr\": \"Dunkerque\", \"Unnamed: 0\": 280, \"ogc_fid\": 1, \"uhgs_id\": \"A1964976\", \"x\": -7.072907, \"y\": 62.192805, \"total\": 92, \"toponym\": \"Nord Ferrow en Norvege\", \"toponyme_standard_fr\": \"\\u00celes\\u00a0F\\u00e9ro\\u00e9\", \"toponyme_standard_en\": \"Faroe Islands\", \"substate_1789_fr\": null, \"state_1789_fr\": \"Danemark\", \"substate_1789_en\": null, \"state_1789_en\": \"Denmark\", \"belonging_states\": \"[{\\\"1749-1815\\\" : \\\"Danemark\\\"}]\", \"belonging_substates\": null, \"status\": null, \"has_a_clerk\": null, \"geonameid\": 2619580.0, \"admiralty\": null, \"province\": null, \"shiparea\": \"ANE-FARO\", \"ferme_direction\": null, \"ferme_bureau\": null, \"partner_balance_1789\": \"Danemark\", \"partner_balance_supp_1789\": \"Etranger\", \"point\": \"{\\\"type\\\":\\\"Point\\\",\\\"coordinates\\\":[-7.072907,62.192805]}\"}, {\"destination_uhgs_id\": \"B0000056\", \"nb_ships_cereales\": 1.0, \"nb_ships_produits coloniaux\": 0.0, \"nb_ships_alcools\": 0.0, \"nb_ships_chauffage\": 0.0, \"nb_ships_tissus\": 1.0, \"nb_ships_divers\": 0.0, \"nb_ships_alimentation\": 0.0, \"nb_ships_sans categorie\": 1.0, \"sum_tonnage_cereales\": 120.0, \"sum_tonnage_produits coloniaux\": 0.0, \"sum_tonnage_alcools\": 0.0, \"sum_tonnage_chauffage\": 0.0, \"sum_tonnage_tissus\": 120.0, \"sum_tonnage_divers\": 0.0, \"sum_tonnage_alimentation\": 0.0, \"sum_tonnage_sans categorie\": 120.0, \"sum_tonnage_per_product_cereales\": 40.0, \"sum_tonnage_per_product_produits coloniaux\": 0.0, \"sum_tonnage_per_product_alcools\": 0.0, \"sum_tonnage_per_product_chauffage\": 0.0, \"sum_tonnage_per_product_tissus\": 40.0, \"sum_tonnage_per_product_divers\": 0.0, \"sum_tonnage_per_product_alimentation\": 0.0, \"sum_tonnage_per_product_sans categorie\": 40.0, \"nb_ships_total\": 3, \"sum_tonnage_total\": 360.0, \"sum_tonnage_per_product_total\": 120.0, \"departure_uhgs_id\": \"A0204180\", \"departure_fr\": \"Dunkerque\", \"Unnamed: 0\": 773, \"ogc_fid\": 84, \"uhgs_id\": \"B0000056\", \"x\": -90.126572, \"y\": 29.99098, \"total\": 7, \"toponym\": \"La Louisianne\", \"toponyme_standard_fr\": \"Louisiane\", \"toponyme_standard_en\": \"Lousiana\", \"substate_1789_fr\": \"Colonies espagnoles d'Am\\u00e9rique\", \"state_1789_fr\": \"Espagne\", \"substate_1789_en\": \"Spanish colonies in America\", \"state_1789_en\": \"Spain\", \"belonging_states\": \"[{\\\"1749-1763\\\" : \\\"France\\\"},{\\\"1763-1800\\\" : \\\"Espagne\\\"},{\\\"1800-1803\\\" : \\\"France\\\"},{\\\"1803-1815\\\" : \\\"Etats-Unis d'Am\\u00e9rique\\\"}]\", \"belonging_substates\": \"[{\\\"1749-1763\\\" : \\\"Colonies fran\\u00e7aises d'Am\\u00e9rique\\\"},{\\\"1763-1800\\\" : \\\"Colonies espagnoles d'Am\\u00e9rique\\\"},{\\\"1800-1803\\\" : \\\"Colonies fran\\u00e7aises d'Am\\u00e9rique\\\"},{\\\"1803-1815\\\" : \\\"Lousiana\\\"}]\", \"status\": null, \"has_a_clerk\": null, \"geonameid\": 7708685.0, \"admiralty\": null, \"province\": null, \"shiparea\": \"GUG-NORL\", \"ferme_direction\": null, \"ferme_bureau\": null, \"partner_balance_1789\": \"Espagne\", \"partner_balance_supp_1789\": \"Etranger\", \"point\": \"{\\\"type\\\":\\\"Point\\\",\\\"coordinates\\\":[-90.126572,29.99098]}\"}, {\"destination_uhgs_id\": \"B2827324\", \"nb_ships_cereales\": 0.0, \"nb_ships_produits coloniaux\": 0.0, \"nb_ships_alcools\": 0.0, \"nb_ships_chauffage\": 1.0, \"nb_ships_tissus\": 1.0, \"nb_ships_divers\": 0.0, \"nb_ships_alimentation\": 0.0, \"nb_ships_sans categorie\": 0.0, \"sum_tonnage_cereales\": 0.0, \"sum_tonnage_produits coloniaux\": 0.0, \"sum_tonnage_alcools\": 0.0, \"sum_tonnage_chauffage\": 350.0, \"sum_tonnage_tissus\": 350.0, \"sum_tonnage_divers\": 0.0, \"sum_tonnage_alimentation\": 0.0, \"sum_tonnage_sans categorie\": 0.0, \"sum_tonnage_per_product_cereales\": 0.0, \"sum_tonnage_per_product_produits coloniaux\": 0.0, \"sum_tonnage_per_product_alcools\": 0.0, \"sum_tonnage_per_product_chauffage\": 175.0, \"sum_tonnage_per_product_tissus\": 175.0, \"sum_tonnage_per_product_divers\": 0.0, \"sum_tonnage_per_product_alimentation\": 0.0, \"sum_tonnage_per_product_sans categorie\": 0.0, \"nb_ships_total\": 2, \"sum_tonnage_total\": 700.0, \"sum_tonnage_per_product_total\": 350.0, \"departure_uhgs_id\": \"A0204180\", \"departure_fr\": \"Dunkerque\", \"Unnamed: 0\": 541, \"ogc_fid\": 214, \"uhgs_id\": \"B2827324\", \"x\": -70.93370503, \"y\": 41.65180301, \"total\": 1, \"toponym\": \"Newbedfort\", \"toponyme_standard_fr\": \"New Bedford\", \"toponyme_standard_en\": \"New Bedford\", \"substate_1789_fr\": \"Massachussets\", \"state_1789_fr\": \"Etats-Unis d'Am\\u00e9rique\", \"substate_1789_en\": \"Massachusetts\", \"state_1789_en\": \"United States\", \"belonging_states\": \"[{\\\"1749-1775\\\" : \\\"Grande-Bretagne\\\"},{\\\"1776-1815\\\" : \\\"Etats-Unis d'Am\\u00e9rique\\\"}]\", \"belonging_substates\": \"[{\\\"1749-1775\\\" : \\\"Colonies britanniques d'Am\\u00e9rique\\\"},{\\\"1776-1815\\\" : \\\"Massachussets\\\"}]\", \"status\": null, \"has_a_clerk\": null, \"geonameid\": 7708685.0, \"admiralty\": null, \"province\": null, \"shiparea\": \"AUE-BOST\", \"ferme_direction\": null, \"ferme_bureau\": null, \"partner_balance_1789\": \"Etats-Unis\", \"partner_balance_supp_1789\": \"Etranger\", \"point\": \"{\\\"type\\\":\\\"Point\\\",\\\"coordinates\\\":[-70.93370503,41.65180301]}\"}]}}, {\"mode\": \"vega-lite\"});\n",
       "</script>"
      ],
      "text/plain": [
       "alt.LayerChart(...)"
      ]
     },
     "execution_count": 171,
     "metadata": {},
     "output_type": "execute_result"
    }
   ],
   "source": [
    "#https://vega.github.io/vega/docs/projections/\n",
    "#https://github.com/vega/vega-lite/issues/3488#issuecomment-386199585\n",
    "\n",
    "import altair as alt\n",
    "import panel as pn\n",
    "pn.extension('vega')\n",
    "\n",
    "#pays_url = './word1789_topojson.json'\n",
    "pays_url = 'https://raw.githubusercontent.com/cplumejeaud/intoZcarto/main/python/word1789_topojson.json'\n",
    "pays = alt.topo_feature(pays_url, 'word1789_geojson')\n",
    "\n",
    "print(exports_tomap.columns)\n",
    "\n",
    "\n",
    "variable = 'sum_tonnage_total' #'nb_ships_total', 'sum_tonnage_total', 'nb_ships2', 'sum_tonnage_per_product_total'\n",
    "# World 1789, center on England\n",
    "map = alt.layer(\n",
    "    # use the sphere of the Earth as the base layer\n",
    "    alt.Chart({'sphere': True}).mark_geoshape(\n",
    "        fill='#e6f3ff'\n",
    "    ),\n",
    "    # add a graticule for geographic reference lines\n",
    "    alt.Chart({'graticule': True}).mark_geoshape(\n",
    "        stroke='#ffffff', strokeWidth=1\n",
    "    ),\n",
    "    # and then the countries of the world\n",
    "    alt.Chart(pays).mark_geoshape(\n",
    "        fill='lightgray', stroke='white', strokeWidth=0.5\n",
    "    ),\n",
    "    #the ports \n",
    "    alt.Chart(exports_tomap).mark_circle().encode(\n",
    "        longitude='x:Q',\n",
    "        latitude='y:Q',\n",
    "        size=alt.Size('{}:Q'.format(variable), title='Analyse de la variable :  {}'.format(variable), scale=alt.Scale(domain=[-1, 7000], range=[10, 400], clamp=True, zero= False)), \n",
    "        color=alt.value('orange'),\n",
    "        tooltip=['toponyme_standard_fr:N','{}:Q'.format(variable)]\n",
    "    )\n",
    ").properties(\n",
    "    width=500,\n",
    "    height=600,\n",
    "    title='Exports de Dunkerque à l\\'Etranger en 1789'\n",
    ").project('conicEquidistant', scale=1000).configure_projection(center = [-5, 47]).configure_view(stroke=None)\n",
    "\n",
    "map.save('map.json')\n",
    "map.save('map_export_Dunkerque.html')\n",
    "\n",
    "map\n"
   ]
  },
  {
   "cell_type": "markdown",
   "metadata": {},
   "source": [
    "\n",
    "Christine Plumejeaud-Perreau, UMR MIGRINTER 7301\n",
    "07 avril 2022\n",
    "projet ANR PORTIC\n"
   ]
  }
 ],
 "metadata": {
  "interpreter": {
   "hash": "ec890f973dd9e3cac31a738b8560dfcf5ac073d4c5ea92d19b6fe0e1e1d90d79"
  },
  "kernelspec": {
   "display_name": "Python 3.9.10 ('dunkerque22': venv)",
   "language": "python",
   "name": "python3"
  },
  "language_info": {
   "codemirror_mode": {
    "name": "ipython",
    "version": 3
   },
   "file_extension": ".py",
   "mimetype": "text/x-python",
   "name": "python",
   "nbconvert_exporter": "python",
   "pygments_lexer": "ipython3",
   "version": "3.9.10"
  },
  "orig_nbformat": 4
 },
 "nbformat": 4,
 "nbformat_minor": 2
}
