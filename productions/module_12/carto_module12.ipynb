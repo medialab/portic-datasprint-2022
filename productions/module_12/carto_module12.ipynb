{
 "cells": [
  {
   "cell_type": "markdown",
   "metadata": {},
   "source": [
    "# Traitement des données de raw_flows pour regroupement par destination et analyse des produits et tonnages expédiés"
   ]
  },
  {
   "cell_type": "code",
   "execution_count": 3,
   "metadata": {},
   "outputs": [],
   "source": [
    "import pandas as pd\n",
    "import pandas.core.frame as pf\n",
    "\n",
    "import json, urllib\n",
    "import plotly as py\n",
    "import pandas as pd\n",
    "import numpy as np\n",
    "import plotly.graph_objects as go\n"
   ]
  },
  {
   "cell_type": "code",
   "execution_count": 23,
   "metadata": {},
   "outputs": [],
   "source": [
    "# Aller chercher les données de ports via l'API (à rajouter dans le load_data.sh)\n",
    "\n",
    "#curl -o data/navigo_ports.csv \"data.portic.fr/api/ports/?format=csv&srid=4326\"\n",
    "\n",
    "\n",
    "ports = pd.read_csv(\"http://data.portic.fr/api/ports/?format=csv&srid=4326\", encoding='utf8')\n"
   ]
  },
  {
   "cell_type": "code",
   "execution_count": 27,
   "metadata": {},
   "outputs": [
    {
     "name": "stdout",
     "output_type": "stream",
     "text": [
      "(10081, 16)\n",
      "Index(['Unnamed: 0', 'departure_uhgs_id', 'departure_fr',\n",
      "       'destination_uhgs_id', 'destination_fr',\n",
      "       'destination_partner_balance_supp_1789', 'destination_substate_1789_fr',\n",
      "       'destination_state_1789_fr', 'tonnage', 'outdate_fixed',\n",
      "       'commodity_purpose', 'commodity_purpose2', 'commodity_purpose3',\n",
      "       'commodity_purpose4', 'all_cargos', 'nb_cargo'],\n",
      "      dtype='object')\n"
     ]
    },
    {
     "data": {
      "text/plain": [
       "\" 'Unnamed: 0', 'departure_uhgs_id', 'departure_fr',\\n       'destination_uhgs_id', 'destination_fr',\\n       'destination_partner_balance_supp_1789', 'destination_substate_1789_fr',\\n       'destination_state_1789_fr', 'tonnage', 'outdate_fixed',\\n       'commodity_purpose', 'commodity_purpose2', 'commodity_purpose3',\\n       'commodity_purpose4', 'all_cargos', 'nb_cargo' \""
      ]
     },
     "execution_count": 27,
     "metadata": {},
     "output_type": "execute_result"
    }
   ],
   "source": [
    "# Récupérer les raw_flows\n",
    "#http://data.portic.fr/api/rawflows/?format=csv&date=1789&params=departure_uhgs_id,departure_fr,destination_uhgs_id,destination_fr,destination_partner_balance_supp_1789,destination_substate_1789_fr,destination_state_1789_fr,tonnage,outdate_fixed,commodity_purpose,commodity_purpose2,commodity_purpose3,commodity_purpose4,all_cargos,nb_cargo\n",
    "\n",
    "#curl -o ./raw_flows_1789.csv \"data.portic.fr/api/rawflows/?format=csv&date=1789&params=departure_uhgs_id,departure_fr,destination_uhgs_id,destination_fr,destination_partner_balance_supp_1789,destination_substate_1789_fr,destination_state_1789_fr,tonnage,outdate_fixed,commodity_purpose,commodity_purpose2,commodity_purpose3,commodity_purpose4,all_cargos,nb_cargo\"\n",
    "raw_flows = pd.read_csv(\"./raw_flows_1789.csv\", encoding='utf8', sep=',')\n",
    "\n",
    "\n",
    "type(raw_flows) #list\n",
    "\n",
    "#df_dix_ans_smog = pd.DataFrame(dix_ans_smog, columns=['destination', '1781', '1782', '1785', '1786', '1787', '1788', '1789', '1790', '1791', 'Facade'])\n",
    "print(raw_flows.shape) #(10081, 16)\n",
    "\n",
    "print(raw_flows.columns)\n",
    "\n",
    "''' 'Unnamed: 0', 'departure_uhgs_id', 'departure_fr',\n",
    "       'destination_uhgs_id', 'destination_fr',\n",
    "       'destination_partner_balance_supp_1789', 'destination_substate_1789_fr',\n",
    "       'destination_state_1789_fr', 'tonnage', 'outdate_fixed',\n",
    "       'commodity_purpose', 'commodity_purpose2', 'commodity_purpose3',\n",
    "       'commodity_purpose4', 'all_cargos', 'nb_cargo' '''"
   ]
  },
  {
   "cell_type": "markdown",
   "metadata": {},
   "source": [
    "    'departure_uhgs_id', 'departure_fr',\n",
    "       'destination_uhgs_id', 'destination_fr', 'destination_substate_1789_fr',\n",
    "       'destination_state_1789_fr', 'tonnage', 'outdate_fixed',\n",
    "       'commodity_purpose', 'commodity_purpose2', 'commodity_purpose3',\n",
    "       'commodity_purpose4', 'all_cargos', 'nbproduits'"
   ]
  },
  {
   "cell_type": "code",
   "execution_count": 28,
   "metadata": {},
   "outputs": [
    {
     "name": "stdout",
     "output_type": "stream",
     "text": [
      "(2539, 16)\n",
      "(193, 16)\n",
      "                                             all_cargos\n",
      "47    [{'quantity': None, 'quantity_u': None, 'commo...\n",
      "167   [{'quantity': None, 'quantity_u': None, 'commo...\n",
      "172   [{'quantity': None, 'quantity_u': None, 'commo...\n",
      "201   [{'quantity': None, 'quantity_u': None, 'commo...\n",
      "342   [{'quantity': None, 'quantity_u': None, 'commo...\n",
      "...                                                 ...\n",
      "9812  [{'quantity': None, 'quantity_u': None, 'commo...\n",
      "9822  [{'quantity': None, 'quantity_u': None, 'commo...\n",
      "9866  [{'quantity': None, 'quantity_u': None, 'commo...\n",
      "9910  [{'quantity': None, 'quantity_u': None, 'commo...\n",
      "9982  [{'quantity': None, 'quantity_u': None, 'commo...\n",
      "\n",
      "[193 rows x 1 columns]\n"
     ]
    }
   ],
   "source": [
    "# Filtrer\n",
    "\n",
    "dunkerque = raw_flows.query('departure_fr==\"Dunkerque\"')\n",
    "print(dunkerque.shape)\n",
    "dunkerque = dunkerque.query('destination_partner_balance_supp_1789==\"Etranger\"') #Pas la France\n",
    "dunkerque = dunkerque.query('destination_state_1789_fr!=\"Grande-Bretagne\"') #Pas le smogglage vers l'angleterre\n",
    "dunkerque = dunkerque.query('destination_uhgs_id!=\"C0000009\"') #Afrique\n",
    "dunkerque = dunkerque.query('destination_uhgs_id!=\"A0146289\"') #Islande\n",
    "dunkerque = dunkerque.query('destination_uhgs_id!=\"B0000715\"')  #Terre-Neuve\n",
    "dunkerque = dunkerque.query('commodity_purpose!=\"Lège\"')  #pas à vide (lest)\n",
    "dunkerque = dunkerque.query('commodity_purpose!=\"pêche\"')  #pas pour la pêche\n",
    "print(dunkerque.shape) #(193, 16)\n",
    "\n",
    "\n",
    "print(dunkerque[['all_cargos']])"
   ]
  },
  {
   "cell_type": "markdown",
   "metadata": {},
   "source": [
    "## Premier apercu des destinations d'export de Dunkerque vers l'étranger, hors GB, hors pêche, hors navires à vide. "
   ]
  },
  {
   "cell_type": "code",
   "execution_count": 29,
   "metadata": {},
   "outputs": [
    {
     "name": "stdout",
     "output_type": "stream",
     "text": [
      "   destination_state_1789_fr destination_uhgs_id  count\n",
      "0                   Autriche            A0041886     17\n",
      "1                   Autriche            A0046492      1\n",
      "2                   Autriche            A0049808     56\n",
      "3                      Brême            A0691896      1\n",
      "4                   Danemark            A0912818      1\n",
      "5                   Danemark            A1964976      5\n",
      "6                    Espagne            A0079352      7\n",
      "7                    Espagne            B0000056      1\n",
      "8      Etats-Unis d'Amérique            B2827324      1\n",
      "9                   Hambourg            A0743522      3\n",
      "10                  Portugal            A0360085      1\n",
      "11                  Portugal            A0364551      1\n",
      "12                  Portugal            A0374720      6\n",
      "13           Provinces-Unies            A0618784      4\n",
      "14           Provinces-Unies            A0620777     10\n",
      "15           Provinces-Unies            A0622825      1\n",
      "16           Provinces-Unies            A0624785     56\n",
      "17           Provinces-Unies            A0624934      2\n",
      "18           Provinces-Unies            A0627935     13\n",
      "19       République de Gênes            A0232521      1\n",
      "20                     Suède            A1054071      1\n",
      "21                     Suède            A1086867      1\n",
      "22                   Toscane            A0251183      3\n"
     ]
    },
    {
     "data": {
      "text/html": [
       "<div>\n",
       "<style scoped>\n",
       "    .dataframe tbody tr th:only-of-type {\n",
       "        vertical-align: middle;\n",
       "    }\n",
       "\n",
       "    .dataframe tbody tr th {\n",
       "        vertical-align: top;\n",
       "    }\n",
       "\n",
       "    .dataframe thead th {\n",
       "        text-align: right;\n",
       "    }\n",
       "</style>\n",
       "<table border=\"1\" class=\"dataframe\">\n",
       "  <thead>\n",
       "    <tr style=\"text-align: right;\">\n",
       "      <th></th>\n",
       "      <th>destination_state_1789_fr</th>\n",
       "      <th>destination_uhgs_id</th>\n",
       "      <th>sum</th>\n",
       "      <th>count</th>\n",
       "    </tr>\n",
       "  </thead>\n",
       "  <tbody>\n",
       "    <tr>\n",
       "      <th>0</th>\n",
       "      <td>Autriche</td>\n",
       "      <td>A0041886</td>\n",
       "      <td>516.0</td>\n",
       "      <td>17</td>\n",
       "    </tr>\n",
       "    <tr>\n",
       "      <th>1</th>\n",
       "      <td>Autriche</td>\n",
       "      <td>A0046492</td>\n",
       "      <td>60.0</td>\n",
       "      <td>1</td>\n",
       "    </tr>\n",
       "    <tr>\n",
       "      <th>2</th>\n",
       "      <td>Autriche</td>\n",
       "      <td>A0049808</td>\n",
       "      <td>3570.0</td>\n",
       "      <td>56</td>\n",
       "    </tr>\n",
       "    <tr>\n",
       "      <th>3</th>\n",
       "      <td>Brême</td>\n",
       "      <td>A0691896</td>\n",
       "      <td>70.0</td>\n",
       "      <td>1</td>\n",
       "    </tr>\n",
       "    <tr>\n",
       "      <th>4</th>\n",
       "      <td>Danemark</td>\n",
       "      <td>A0912818</td>\n",
       "      <td>35.0</td>\n",
       "      <td>1</td>\n",
       "    </tr>\n",
       "    <tr>\n",
       "      <th>5</th>\n",
       "      <td>Danemark</td>\n",
       "      <td>A1964976</td>\n",
       "      <td>134.0</td>\n",
       "      <td>5</td>\n",
       "    </tr>\n",
       "    <tr>\n",
       "      <th>6</th>\n",
       "      <td>Espagne</td>\n",
       "      <td>A0079352</td>\n",
       "      <td>943.0</td>\n",
       "      <td>7</td>\n",
       "    </tr>\n",
       "    <tr>\n",
       "      <th>7</th>\n",
       "      <td>Espagne</td>\n",
       "      <td>B0000056</td>\n",
       "      <td>120.0</td>\n",
       "      <td>1</td>\n",
       "    </tr>\n",
       "    <tr>\n",
       "      <th>8</th>\n",
       "      <td>Etats-Unis d'Amérique</td>\n",
       "      <td>B2827324</td>\n",
       "      <td>350.0</td>\n",
       "      <td>1</td>\n",
       "    </tr>\n",
       "    <tr>\n",
       "      <th>9</th>\n",
       "      <td>Hambourg</td>\n",
       "      <td>A0743522</td>\n",
       "      <td>435.0</td>\n",
       "      <td>3</td>\n",
       "    </tr>\n",
       "    <tr>\n",
       "      <th>10</th>\n",
       "      <td>Portugal</td>\n",
       "      <td>A0360085</td>\n",
       "      <td>240.0</td>\n",
       "      <td>1</td>\n",
       "    </tr>\n",
       "    <tr>\n",
       "      <th>11</th>\n",
       "      <td>Portugal</td>\n",
       "      <td>A0364551</td>\n",
       "      <td>300.0</td>\n",
       "      <td>1</td>\n",
       "    </tr>\n",
       "    <tr>\n",
       "      <th>12</th>\n",
       "      <td>Portugal</td>\n",
       "      <td>A0374720</td>\n",
       "      <td>255.0</td>\n",
       "      <td>6</td>\n",
       "    </tr>\n",
       "    <tr>\n",
       "      <th>13</th>\n",
       "      <td>Provinces-Unies</td>\n",
       "      <td>A0618784</td>\n",
       "      <td>378.0</td>\n",
       "      <td>4</td>\n",
       "    </tr>\n",
       "    <tr>\n",
       "      <th>14</th>\n",
       "      <td>Provinces-Unies</td>\n",
       "      <td>A0620777</td>\n",
       "      <td>1176.0</td>\n",
       "      <td>10</td>\n",
       "    </tr>\n",
       "    <tr>\n",
       "      <th>15</th>\n",
       "      <td>Provinces-Unies</td>\n",
       "      <td>A0622825</td>\n",
       "      <td>100.0</td>\n",
       "      <td>1</td>\n",
       "    </tr>\n",
       "    <tr>\n",
       "      <th>16</th>\n",
       "      <td>Provinces-Unies</td>\n",
       "      <td>A0624785</td>\n",
       "      <td>2919.0</td>\n",
       "      <td>56</td>\n",
       "    </tr>\n",
       "    <tr>\n",
       "      <th>17</th>\n",
       "      <td>Provinces-Unies</td>\n",
       "      <td>A0624934</td>\n",
       "      <td>196.0</td>\n",
       "      <td>2</td>\n",
       "    </tr>\n",
       "    <tr>\n",
       "      <th>18</th>\n",
       "      <td>Provinces-Unies</td>\n",
       "      <td>A0627935</td>\n",
       "      <td>969.0</td>\n",
       "      <td>13</td>\n",
       "    </tr>\n",
       "    <tr>\n",
       "      <th>19</th>\n",
       "      <td>République de Gênes</td>\n",
       "      <td>A0232521</td>\n",
       "      <td>200.0</td>\n",
       "      <td>1</td>\n",
       "    </tr>\n",
       "    <tr>\n",
       "      <th>20</th>\n",
       "      <td>Suède</td>\n",
       "      <td>A1054071</td>\n",
       "      <td>150.0</td>\n",
       "      <td>1</td>\n",
       "    </tr>\n",
       "    <tr>\n",
       "      <th>21</th>\n",
       "      <td>Suède</td>\n",
       "      <td>A1086867</td>\n",
       "      <td>12.0</td>\n",
       "      <td>1</td>\n",
       "    </tr>\n",
       "    <tr>\n",
       "      <th>22</th>\n",
       "      <td>Toscane</td>\n",
       "      <td>A0251183</td>\n",
       "      <td>480.0</td>\n",
       "      <td>3</td>\n",
       "    </tr>\n",
       "  </tbody>\n",
       "</table>\n",
       "</div>"
      ],
      "text/plain": [
       "   destination_state_1789_fr destination_uhgs_id     sum  count\n",
       "0                   Autriche            A0041886   516.0     17\n",
       "1                   Autriche            A0046492    60.0      1\n",
       "2                   Autriche            A0049808  3570.0     56\n",
       "3                      Brême            A0691896    70.0      1\n",
       "4                   Danemark            A0912818    35.0      1\n",
       "5                   Danemark            A1964976   134.0      5\n",
       "6                    Espagne            A0079352   943.0      7\n",
       "7                    Espagne            B0000056   120.0      1\n",
       "8      Etats-Unis d'Amérique            B2827324   350.0      1\n",
       "9                   Hambourg            A0743522   435.0      3\n",
       "10                  Portugal            A0360085   240.0      1\n",
       "11                  Portugal            A0364551   300.0      1\n",
       "12                  Portugal            A0374720   255.0      6\n",
       "13           Provinces-Unies            A0618784   378.0      4\n",
       "14           Provinces-Unies            A0620777  1176.0     10\n",
       "15           Provinces-Unies            A0622825   100.0      1\n",
       "16           Provinces-Unies            A0624785  2919.0     56\n",
       "17           Provinces-Unies            A0624934   196.0      2\n",
       "18           Provinces-Unies            A0627935   969.0     13\n",
       "19       République de Gênes            A0232521   200.0      1\n",
       "20                     Suède            A1054071   150.0      1\n",
       "21                     Suède            A1086867    12.0      1\n",
       "22                   Toscane            A0251183   480.0      3"
      ]
     },
     "execution_count": 29,
     "metadata": {},
     "output_type": "execute_result"
    }
   ],
   "source": [
    "\n",
    "\n",
    "gdata = pf.DataFrame({'count' : dunkerque.groupby( [ \"destination_state_1789_fr\",\"destination_uhgs_id\"] ).size()}).reset_index()\n",
    "print(gdata)\n",
    "\n",
    "pf.DataFrame(dunkerque.groupby([ \"destination_state_1789_fr\",\"destination_uhgs_id\"])['tonnage'].agg(['sum','count'])).reset_index()\n"
   ]
  },
  {
   "cell_type": "code",
   "execution_count": 114,
   "metadata": {},
   "outputs": [],
   "source": [
    "import csv\n",
    "import json\n",
    "\n",
    "by_pointcalls = []\n",
    "\n",
    "\n",
    "for _, row in dunkerque.iterrows():\n",
    "  if row['all_cargos'] != '':\n",
    "    truc = row['all_cargos']\n",
    "    #print(truc)\n",
    "    truc = truc.replace(\"'\", '\"').replace(\"None\", 'null')\n",
    "    #.replace(\"bœ\\x9c\\x9cuf\", \"boeuf\")\n",
    "    cargos = json.loads(truc)\n",
    "    #print(type(cargos))\n",
    "    for cargo in cargos:\n",
    "      if  cargo['commodity_standardized_fr'] != 'Lest' : \n",
    "        by_pointcalls.append({\n",
    "          \"cargo\": cargo['commodity_purpose'],\n",
    "          \"cargo_standardized_fr\": cargo['commodity_standardized_fr'],\n",
    "          **row\n",
    "        })\n",
    "  else:\n",
    "    by_pointcalls.append({\n",
    "      \"cargo\": \"\",\n",
    "      \"cargo_standardized_fr\": \"\",\n",
    "      **row\n",
    "    })\n",
    "\n"
   ]
  },
  {
   "cell_type": "code",
   "execution_count": 115,
   "metadata": {},
   "outputs": [
    {
     "name": "stdout",
     "output_type": "stream",
     "text": [
      "Index(['cargo', 'cargo_standardized_fr', 'departure_uhgs_id', 'departure_fr',\n",
      "       'destination_uhgs_id', 'destination_fr',\n",
      "       'destination_partner_balance_supp_1789', 'destination_substate_1789_fr',\n",
      "       'destination_state_1789_fr', 'tonnage', 'outdate_fixed', 'nb_cargo'],\n",
      "      dtype='object')\n",
      "(331, 12)\n"
     ]
    }
   ],
   "source": [
    "#print(dunkerque.columns)\n",
    "#print(['cargo', 'cargo_standardized_fr']+dunkerque.columns.tolist())\n",
    "exports_dunkerque = pd.DataFrame(by_pointcalls, columns=['cargo', 'cargo_standardized_fr']+dunkerque.columns.tolist())\n",
    "\n",
    "exports_dunkerque = exports_dunkerque.drop(['Unnamed: 0', 'commodity_purpose', 'commodity_purpose2', 'commodity_purpose3', 'commodity_purpose4', 'all_cargos'], axis=1)\n",
    "\n",
    "print(exports_dunkerque.columns)\n",
    "print(exports_dunkerque.shape) #(331, 12)\n",
    "exports_dunkerque.to_csv (r'./exports_dunkerque.csv', index = None)\n"
   ]
  },
  {
   "cell_type": "code",
   "execution_count": 4,
   "metadata": {},
   "outputs": [
    {
     "name": "stdout",
     "output_type": "stream",
     "text": [
      "[0 1 2 3 3 0 0 0 3 4 4 4 4 3 0 3 0 3 0 2 5 1 6 4 7 8 3 0 0 0 2 3 0 3 8 0 3]\n",
      "Index(['Autriche', 'Etats-Unis d'Amérique', 'Portugal', 'Provinces-Unies',\n",
      "       'Espagne', 'Toscane', 'République de Gênes', 'Danemark', 'Hambourg'],\n",
      "      dtype='object')\n",
      "[ 0  1  2  3  4  3  4  5  6  7  8  9  6  8 10 11 12 13 13 13 13 13 13 13\n",
      " 13 13 14 15 16 17 17 17 18 18 18 19 19]\n",
      "Index(['Laine', 'Charbon', 'Bois', 'Sucre', 'Café', 'Graines de lin', 'Orge',\n",
      "       'Avoine', 'Blé', 'Farine', 'Sel', 'Futailles vides', 'Coton',\n",
      "       'Diverses marchandises', 'Fèves', 'Fruits', 'Peaux de boeuf',\n",
      "       'Eau-de-vie', 'Vin', 'Huile'],\n",
      "      dtype='object')\n"
     ]
    },
    {
     "name": "stderr",
     "output_type": "stream",
     "text": [
      "C:\\Users\\cplume01\\AppData\\Local\\Temp\\ipykernel_38568\\2591579990.py:13: FutureWarning: Indexing with multiple keys (implicitly converted to a tuple of keys) will be deprecated, use a list instead.\n",
      "  exports = pd.DataFrame(exports_dunkerque.groupby([ \"destination_state_1789_fr\",\"cargo_standardized_fr\"])['tonnage','tonnage_per_product'].agg(['count', 'sum'])).reset_index()\n"
     ]
    },
    {
     "data": {
      "text/html": [
       "<div>\n",
       "<style scoped>\n",
       "    .dataframe tbody tr th:only-of-type {\n",
       "        vertical-align: middle;\n",
       "    }\n",
       "\n",
       "    .dataframe tbody tr th {\n",
       "        vertical-align: top;\n",
       "    }\n",
       "\n",
       "    .dataframe thead th {\n",
       "        text-align: right;\n",
       "    }\n",
       "</style>\n",
       "<table border=\"1\" class=\"dataframe\">\n",
       "  <thead>\n",
       "    <tr style=\"text-align: right;\">\n",
       "      <th></th>\n",
       "      <th>destination_state_1789_fr</th>\n",
       "      <th>cargo_standardized_fr</th>\n",
       "      <th>nb_ships</th>\n",
       "      <th>sum_tonnage</th>\n",
       "      <th>nb_ships2</th>\n",
       "      <th>sum_tonnage_per_product</th>\n",
       "      <th>colors</th>\n",
       "      <th>source</th>\n",
       "      <th>target</th>\n",
       "    </tr>\n",
       "  </thead>\n",
       "  <tbody>\n",
       "    <tr>\n",
       "      <th>7</th>\n",
       "      <td>Autriche</td>\n",
       "      <td>Laine</td>\n",
       "      <td>2</td>\n",
       "      <td>86.0</td>\n",
       "      <td>2</td>\n",
       "      <td>43.000000</td>\n",
       "      <td>azure</td>\n",
       "      <td>0</td>\n",
       "      <td>20</td>\n",
       "    </tr>\n",
       "    <tr>\n",
       "      <th>18</th>\n",
       "      <td>Etats-Unis d'Amérique</td>\n",
       "      <td>Charbon</td>\n",
       "      <td>1</td>\n",
       "      <td>350.0</td>\n",
       "      <td>1</td>\n",
       "      <td>175.000000</td>\n",
       "      <td>black</td>\n",
       "      <td>1</td>\n",
       "      <td>21</td>\n",
       "    </tr>\n",
       "    <tr>\n",
       "      <th>22</th>\n",
       "      <td>Portugal</td>\n",
       "      <td>Bois</td>\n",
       "      <td>1</td>\n",
       "      <td>240.0</td>\n",
       "      <td>1</td>\n",
       "      <td>240.000000</td>\n",
       "      <td>black</td>\n",
       "      <td>2</td>\n",
       "      <td>22</td>\n",
       "    </tr>\n",
       "    <tr>\n",
       "      <th>33</th>\n",
       "      <td>Provinces-Unies</td>\n",
       "      <td>Sucre</td>\n",
       "      <td>41</td>\n",
       "      <td>2642.0</td>\n",
       "      <td>41</td>\n",
       "      <td>1798.333333</td>\n",
       "      <td>coral</td>\n",
       "      <td>3</td>\n",
       "      <td>23</td>\n",
       "    </tr>\n",
       "    <tr>\n",
       "      <th>26</th>\n",
       "      <td>Provinces-Unies</td>\n",
       "      <td>Café</td>\n",
       "      <td>25</td>\n",
       "      <td>1713.0</td>\n",
       "      <td>25</td>\n",
       "      <td>1014.666667</td>\n",
       "      <td>coral</td>\n",
       "      <td>4</td>\n",
       "      <td>23</td>\n",
       "    </tr>\n",
       "    <tr>\n",
       "      <th>10</th>\n",
       "      <td>Autriche</td>\n",
       "      <td>Sucre</td>\n",
       "      <td>22</td>\n",
       "      <td>936.0</td>\n",
       "      <td>22</td>\n",
       "      <td>574.333333</td>\n",
       "      <td>coral</td>\n",
       "      <td>3</td>\n",
       "      <td>20</td>\n",
       "    </tr>\n",
       "    <tr>\n",
       "      <th>0</th>\n",
       "      <td>Autriche</td>\n",
       "      <td>Café</td>\n",
       "      <td>15</td>\n",
       "      <td>593.0</td>\n",
       "      <td>15</td>\n",
       "      <td>252.333333</td>\n",
       "      <td>coral</td>\n",
       "      <td>4</td>\n",
       "      <td>20</td>\n",
       "    </tr>\n",
       "    <tr>\n",
       "      <th>5</th>\n",
       "      <td>Autriche</td>\n",
       "      <td>Graines de lin</td>\n",
       "      <td>3</td>\n",
       "      <td>80.0</td>\n",
       "      <td>3</td>\n",
       "      <td>70.000000</td>\n",
       "      <td>gold</td>\n",
       "      <td>5</td>\n",
       "      <td>20</td>\n",
       "    </tr>\n",
       "    <tr>\n",
       "      <th>32</th>\n",
       "      <td>Provinces-Unies</td>\n",
       "      <td>Orge</td>\n",
       "      <td>3</td>\n",
       "      <td>180.0</td>\n",
       "      <td>3</td>\n",
       "      <td>180.000000</td>\n",
       "      <td>gold</td>\n",
       "      <td>6</td>\n",
       "      <td>23</td>\n",
       "    </tr>\n",
       "    <tr>\n",
       "      <th>13</th>\n",
       "      <td>Espagne</td>\n",
       "      <td>Avoine</td>\n",
       "      <td>3</td>\n",
       "      <td>390.0</td>\n",
       "      <td>3</td>\n",
       "      <td>390.000000</td>\n",
       "      <td>gold</td>\n",
       "      <td>7</td>\n",
       "      <td>24</td>\n",
       "    </tr>\n",
       "    <tr>\n",
       "      <th>14</th>\n",
       "      <td>Espagne</td>\n",
       "      <td>Blé</td>\n",
       "      <td>3</td>\n",
       "      <td>445.0</td>\n",
       "      <td>3</td>\n",
       "      <td>287.500000</td>\n",
       "      <td>gold</td>\n",
       "      <td>8</td>\n",
       "      <td>24</td>\n",
       "    </tr>\n",
       "    <tr>\n",
       "      <th>16</th>\n",
       "      <td>Espagne</td>\n",
       "      <td>Farine</td>\n",
       "      <td>1</td>\n",
       "      <td>200.0</td>\n",
       "      <td>1</td>\n",
       "      <td>100.000000</td>\n",
       "      <td>gold</td>\n",
       "      <td>9</td>\n",
       "      <td>24</td>\n",
       "    </tr>\n",
       "    <tr>\n",
       "      <th>17</th>\n",
       "      <td>Espagne</td>\n",
       "      <td>Orge</td>\n",
       "      <td>1</td>\n",
       "      <td>108.0</td>\n",
       "      <td>1</td>\n",
       "      <td>108.000000</td>\n",
       "      <td>gold</td>\n",
       "      <td>6</td>\n",
       "      <td>24</td>\n",
       "    </tr>\n",
       "    <tr>\n",
       "      <th>25</th>\n",
       "      <td>Provinces-Unies</td>\n",
       "      <td>Blé</td>\n",
       "      <td>2</td>\n",
       "      <td>125.0</td>\n",
       "      <td>2</td>\n",
       "      <td>125.000000</td>\n",
       "      <td>gold</td>\n",
       "      <td>8</td>\n",
       "      <td>23</td>\n",
       "    </tr>\n",
       "    <tr>\n",
       "      <th>9</th>\n",
       "      <td>Autriche</td>\n",
       "      <td>Sel</td>\n",
       "      <td>19</td>\n",
       "      <td>679.0</td>\n",
       "      <td>19</td>\n",
       "      <td>471.666667</td>\n",
       "      <td>grey</td>\n",
       "      <td>10</td>\n",
       "      <td>20</td>\n",
       "    </tr>\n",
       "    <tr>\n",
       "      <th>29</th>\n",
       "      <td>Provinces-Unies</td>\n",
       "      <td>Futailles vides</td>\n",
       "      <td>6</td>\n",
       "      <td>366.0</td>\n",
       "      <td>6</td>\n",
       "      <td>193.000000</td>\n",
       "      <td>grey</td>\n",
       "      <td>11</td>\n",
       "      <td>23</td>\n",
       "    </tr>\n",
       "    <tr>\n",
       "      <th>1</th>\n",
       "      <td>Autriche</td>\n",
       "      <td>Coton</td>\n",
       "      <td>1</td>\n",
       "      <td>55.0</td>\n",
       "      <td>1</td>\n",
       "      <td>18.333333</td>\n",
       "      <td>lightblue</td>\n",
       "      <td>12</td>\n",
       "      <td>20</td>\n",
       "    </tr>\n",
       "    <tr>\n",
       "      <th>27</th>\n",
       "      <td>Provinces-Unies</td>\n",
       "      <td>Diverses marchandises</td>\n",
       "      <td>27</td>\n",
       "      <td>1549.0</td>\n",
       "      <td>27</td>\n",
       "      <td>733.666667</td>\n",
       "      <td>lightgreen</td>\n",
       "      <td>13</td>\n",
       "      <td>23</td>\n",
       "    </tr>\n",
       "    <tr>\n",
       "      <th>2</th>\n",
       "      <td>Autriche</td>\n",
       "      <td>Diverses marchandises</td>\n",
       "      <td>34</td>\n",
       "      <td>2076.0</td>\n",
       "      <td>34</td>\n",
       "      <td>895.166667</td>\n",
       "      <td>lightgreen</td>\n",
       "      <td>13</td>\n",
       "      <td>20</td>\n",
       "    </tr>\n",
       "    <tr>\n",
       "      <th>23</th>\n",
       "      <td>Portugal</td>\n",
       "      <td>Diverses marchandises</td>\n",
       "      <td>1</td>\n",
       "      <td>25.0</td>\n",
       "      <td>1</td>\n",
       "      <td>12.500000</td>\n",
       "      <td>lightgreen</td>\n",
       "      <td>13</td>\n",
       "      <td>22</td>\n",
       "    </tr>\n",
       "    <tr>\n",
       "      <th>36</th>\n",
       "      <td>Toscane</td>\n",
       "      <td>Diverses marchandises</td>\n",
       "      <td>2</td>\n",
       "      <td>280.0</td>\n",
       "      <td>2</td>\n",
       "      <td>115.000000</td>\n",
       "      <td>lightgreen</td>\n",
       "      <td>13</td>\n",
       "      <td>25</td>\n",
       "    </tr>\n",
       "    <tr>\n",
       "      <th>19</th>\n",
       "      <td>Etats-Unis d'Amérique</td>\n",
       "      <td>Diverses marchandises</td>\n",
       "      <td>1</td>\n",
       "      <td>350.0</td>\n",
       "      <td>1</td>\n",
       "      <td>175.000000</td>\n",
       "      <td>lightgreen</td>\n",
       "      <td>13</td>\n",
       "      <td>21</td>\n",
       "    </tr>\n",
       "    <tr>\n",
       "      <th>35</th>\n",
       "      <td>République de Gênes</td>\n",
       "      <td>Diverses marchandises</td>\n",
       "      <td>1</td>\n",
       "      <td>200.0</td>\n",
       "      <td>1</td>\n",
       "      <td>100.000000</td>\n",
       "      <td>lightgreen</td>\n",
       "      <td>13</td>\n",
       "      <td>26</td>\n",
       "    </tr>\n",
       "    <tr>\n",
       "      <th>15</th>\n",
       "      <td>Espagne</td>\n",
       "      <td>Diverses marchandises</td>\n",
       "      <td>1</td>\n",
       "      <td>120.0</td>\n",
       "      <td>1</td>\n",
       "      <td>40.000000</td>\n",
       "      <td>lightgreen</td>\n",
       "      <td>13</td>\n",
       "      <td>24</td>\n",
       "    </tr>\n",
       "    <tr>\n",
       "      <th>12</th>\n",
       "      <td>Danemark</td>\n",
       "      <td>Diverses marchandises</td>\n",
       "      <td>5</td>\n",
       "      <td>129.0</td>\n",
       "      <td>5</td>\n",
       "      <td>58.666667</td>\n",
       "      <td>lightgreen</td>\n",
       "      <td>13</td>\n",
       "      <td>27</td>\n",
       "    </tr>\n",
       "    <tr>\n",
       "      <th>20</th>\n",
       "      <td>Hambourg</td>\n",
       "      <td>Diverses marchandises</td>\n",
       "      <td>1</td>\n",
       "      <td>170.0</td>\n",
       "      <td>1</td>\n",
       "      <td>56.666667</td>\n",
       "      <td>lightgreen</td>\n",
       "      <td>13</td>\n",
       "      <td>28</td>\n",
       "    </tr>\n",
       "    <tr>\n",
       "      <th>30</th>\n",
       "      <td>Provinces-Unies</td>\n",
       "      <td>Fèves</td>\n",
       "      <td>1</td>\n",
       "      <td>60.0</td>\n",
       "      <td>1</td>\n",
       "      <td>60.000000</td>\n",
       "      <td>pink</td>\n",
       "      <td>14</td>\n",
       "      <td>23</td>\n",
       "    </tr>\n",
       "    <tr>\n",
       "      <th>4</th>\n",
       "      <td>Autriche</td>\n",
       "      <td>Fruits</td>\n",
       "      <td>7</td>\n",
       "      <td>840.0</td>\n",
       "      <td>7</td>\n",
       "      <td>301.666667</td>\n",
       "      <td>pink</td>\n",
       "      <td>15</td>\n",
       "      <td>20</td>\n",
       "    </tr>\n",
       "    <tr>\n",
       "      <th>8</th>\n",
       "      <td>Autriche</td>\n",
       "      <td>Peaux de boeuf</td>\n",
       "      <td>1</td>\n",
       "      <td>20.0</td>\n",
       "      <td>1</td>\n",
       "      <td>10.000000</td>\n",
       "      <td>pink</td>\n",
       "      <td>16</td>\n",
       "      <td>20</td>\n",
       "    </tr>\n",
       "    <tr>\n",
       "      <th>3</th>\n",
       "      <td>Autriche</td>\n",
       "      <td>Eau-de-vie</td>\n",
       "      <td>2</td>\n",
       "      <td>280.0</td>\n",
       "      <td>2</td>\n",
       "      <td>280.000000</td>\n",
       "      <td>purple</td>\n",
       "      <td>17</td>\n",
       "      <td>20</td>\n",
       "    </tr>\n",
       "    <tr>\n",
       "      <th>24</th>\n",
       "      <td>Portugal</td>\n",
       "      <td>Eau-de-vie</td>\n",
       "      <td>2</td>\n",
       "      <td>430.0</td>\n",
       "      <td>2</td>\n",
       "      <td>280.000000</td>\n",
       "      <td>purple</td>\n",
       "      <td>17</td>\n",
       "      <td>22</td>\n",
       "    </tr>\n",
       "    <tr>\n",
       "      <th>28</th>\n",
       "      <td>Provinces-Unies</td>\n",
       "      <td>Eau-de-vie</td>\n",
       "      <td>1</td>\n",
       "      <td>270.0</td>\n",
       "      <td>1</td>\n",
       "      <td>270.000000</td>\n",
       "      <td>purple</td>\n",
       "      <td>17</td>\n",
       "      <td>23</td>\n",
       "    </tr>\n",
       "    <tr>\n",
       "      <th>11</th>\n",
       "      <td>Autriche</td>\n",
       "      <td>Vin</td>\n",
       "      <td>9</td>\n",
       "      <td>370.0</td>\n",
       "      <td>9</td>\n",
       "      <td>161.333333</td>\n",
       "      <td>purple</td>\n",
       "      <td>18</td>\n",
       "      <td>20</td>\n",
       "    </tr>\n",
       "    <tr>\n",
       "      <th>34</th>\n",
       "      <td>Provinces-Unies</td>\n",
       "      <td>Vin</td>\n",
       "      <td>5</td>\n",
       "      <td>230.0</td>\n",
       "      <td>5</td>\n",
       "      <td>163.333333</td>\n",
       "      <td>purple</td>\n",
       "      <td>18</td>\n",
       "      <td>23</td>\n",
       "    </tr>\n",
       "    <tr>\n",
       "      <th>21</th>\n",
       "      <td>Hambourg</td>\n",
       "      <td>Vin</td>\n",
       "      <td>1</td>\n",
       "      <td>170.0</td>\n",
       "      <td>1</td>\n",
       "      <td>56.666667</td>\n",
       "      <td>purple</td>\n",
       "      <td>18</td>\n",
       "      <td>28</td>\n",
       "    </tr>\n",
       "    <tr>\n",
       "      <th>6</th>\n",
       "      <td>Autriche</td>\n",
       "      <td>Huile</td>\n",
       "      <td>8</td>\n",
       "      <td>852.0</td>\n",
       "      <td>8</td>\n",
       "      <td>328.666667</td>\n",
       "      <td>salmon</td>\n",
       "      <td>19</td>\n",
       "      <td>20</td>\n",
       "    </tr>\n",
       "    <tr>\n",
       "      <th>31</th>\n",
       "      <td>Provinces-Unies</td>\n",
       "      <td>Huile</td>\n",
       "      <td>1</td>\n",
       "      <td>50.0</td>\n",
       "      <td>1</td>\n",
       "      <td>16.666667</td>\n",
       "      <td>salmon</td>\n",
       "      <td>19</td>\n",
       "      <td>23</td>\n",
       "    </tr>\n",
       "  </tbody>\n",
       "</table>\n",
       "</div>"
      ],
      "text/plain": [
       "   destination_state_1789_fr  cargo_standardized_fr  nb_ships  sum_tonnage  \\\n",
       "7                   Autriche                  Laine         2         86.0   \n",
       "18     Etats-Unis d'Amérique                Charbon         1        350.0   \n",
       "22                  Portugal                   Bois         1        240.0   \n",
       "33           Provinces-Unies                  Sucre        41       2642.0   \n",
       "26           Provinces-Unies                   Café        25       1713.0   \n",
       "10                  Autriche                  Sucre        22        936.0   \n",
       "0                   Autriche                   Café        15        593.0   \n",
       "5                   Autriche         Graines de lin         3         80.0   \n",
       "32           Provinces-Unies                   Orge         3        180.0   \n",
       "13                   Espagne                 Avoine         3        390.0   \n",
       "14                   Espagne                    Blé         3        445.0   \n",
       "16                   Espagne                 Farine         1        200.0   \n",
       "17                   Espagne                   Orge         1        108.0   \n",
       "25           Provinces-Unies                    Blé         2        125.0   \n",
       "9                   Autriche                    Sel        19        679.0   \n",
       "29           Provinces-Unies        Futailles vides         6        366.0   \n",
       "1                   Autriche                  Coton         1         55.0   \n",
       "27           Provinces-Unies  Diverses marchandises        27       1549.0   \n",
       "2                   Autriche  Diverses marchandises        34       2076.0   \n",
       "23                  Portugal  Diverses marchandises         1         25.0   \n",
       "36                   Toscane  Diverses marchandises         2        280.0   \n",
       "19     Etats-Unis d'Amérique  Diverses marchandises         1        350.0   \n",
       "35       République de Gênes  Diverses marchandises         1        200.0   \n",
       "15                   Espagne  Diverses marchandises         1        120.0   \n",
       "12                  Danemark  Diverses marchandises         5        129.0   \n",
       "20                  Hambourg  Diverses marchandises         1        170.0   \n",
       "30           Provinces-Unies                  Fèves         1         60.0   \n",
       "4                   Autriche                 Fruits         7        840.0   \n",
       "8                   Autriche         Peaux de boeuf         1         20.0   \n",
       "3                   Autriche             Eau-de-vie         2        280.0   \n",
       "24                  Portugal             Eau-de-vie         2        430.0   \n",
       "28           Provinces-Unies             Eau-de-vie         1        270.0   \n",
       "11                  Autriche                    Vin         9        370.0   \n",
       "34           Provinces-Unies                    Vin         5        230.0   \n",
       "21                  Hambourg                    Vin         1        170.0   \n",
       "6                   Autriche                  Huile         8        852.0   \n",
       "31           Provinces-Unies                  Huile         1         50.0   \n",
       "\n",
       "    nb_ships2  sum_tonnage_per_product      colors  source  target  \n",
       "7           2                43.000000       azure       0      20  \n",
       "18          1               175.000000       black       1      21  \n",
       "22          1               240.000000       black       2      22  \n",
       "33         41              1798.333333       coral       3      23  \n",
       "26         25              1014.666667       coral       4      23  \n",
       "10         22               574.333333       coral       3      20  \n",
       "0          15               252.333333       coral       4      20  \n",
       "5           3                70.000000        gold       5      20  \n",
       "32          3               180.000000        gold       6      23  \n",
       "13          3               390.000000        gold       7      24  \n",
       "14          3               287.500000        gold       8      24  \n",
       "16          1               100.000000        gold       9      24  \n",
       "17          1               108.000000        gold       6      24  \n",
       "25          2               125.000000        gold       8      23  \n",
       "9          19               471.666667        grey      10      20  \n",
       "29          6               193.000000        grey      11      23  \n",
       "1           1                18.333333   lightblue      12      20  \n",
       "27         27               733.666667  lightgreen      13      23  \n",
       "2          34               895.166667  lightgreen      13      20  \n",
       "23          1                12.500000  lightgreen      13      22  \n",
       "36          2               115.000000  lightgreen      13      25  \n",
       "19          1               175.000000  lightgreen      13      21  \n",
       "35          1               100.000000  lightgreen      13      26  \n",
       "15          1                40.000000  lightgreen      13      24  \n",
       "12          5                58.666667  lightgreen      13      27  \n",
       "20          1                56.666667  lightgreen      13      28  \n",
       "30          1                60.000000        pink      14      23  \n",
       "4           7               301.666667        pink      15      20  \n",
       "8           1                10.000000        pink      16      20  \n",
       "3           2               280.000000      purple      17      20  \n",
       "24          2               280.000000      purple      17      22  \n",
       "28          1               270.000000      purple      17      23  \n",
       "11          9               161.333333      purple      18      20  \n",
       "34          5               163.333333      purple      18      23  \n",
       "21          1                56.666667      purple      18      28  \n",
       "6           8               328.666667      salmon      19      20  \n",
       "31          1                16.666667      salmon      19      23  "
      ]
     },
     "execution_count": 4,
     "metadata": {},
     "output_type": "execute_result"
    }
   ],
   "source": [
    "import pandas as pd\n",
    "import pandas.core.frame as pf\n",
    "\n",
    "# Lire le fichier \n",
    "exports_dunkerque = pd.read_csv(\"./exports_dunkerque.csv\")\n",
    "exports_dunkerque['tonnage_per_product'] = exports_dunkerque['tonnage'] / exports_dunkerque['nb_cargo']\n",
    "\n",
    "gdata = pf.DataFrame({'count' : exports_dunkerque.groupby( [ \"destination_state_1789_fr\",\"cargo_standardized_fr\"] ).size()}).reset_index()\n",
    "#print(gdata)\n",
    "\n",
    "pd.DataFrame(exports_dunkerque.groupby([ \"destination_state_1789_fr\",\"cargo_standardized_fr\"])['tonnage'].agg(['sum','count', 'mean'])).reset_index()\n",
    "\n",
    "exports = pd.DataFrame(exports_dunkerque.groupby([ \"destination_state_1789_fr\",\"cargo_standardized_fr\"])['tonnage','tonnage_per_product'].agg(['count', 'sum'])).reset_index()\n",
    "exports.set_axis(['destination_state_1789_fr', 'cargo_standardized_fr', 'nb_ships', 'sum_tonnage', 'nb_ships2', 'sum_tonnage_per_product'], axis=1, inplace=True)\n",
    "#print(exports.columns)\n",
    "#exports.index.names = ['destination_state_1789_fr', 'cargo_standardized_fr', 'nb_ships', 'sum_tonnage', 'nb_ships2', 'sum_tonnage_per_product']\n",
    "exports.to_csv (r'./exports_dunkerque_par_pays_par_produits.csv', index = None)\n",
    "\n",
    "exports['destination_state_1789_fr']\n",
    "\n",
    "\n",
    "\n",
    "#https://stackoverflow.com/questions/30631841/pandas-how-do-i-assign-values-based-on-multiple-conditions-for-existing-columns\n",
    "conditions = [\n",
    "    exports['cargo_standardized_fr'].apply(str.lower).isin(['avoine','orge', 'farines', 'farine', 'lin', 'blé', 'bled']) | exports['cargo_standardized_fr'].str.contains('lin'),\n",
    "    exports['cargo_standardized_fr'].eq('Café') | exports['cargo_standardized_fr'].isin(['Café', 'Sucre']),\n",
    "    exports['cargo_standardized_fr'].apply(str.lower).isin(['vin', 'eau-de-vie']),\n",
    "    exports['cargo_standardized_fr'].apply(str.lower).isin(['charbon', 'bois']),\n",
    "    exports['cargo_standardized_fr'].apply(str.lower).isin(['coton']),\n",
    "    exports['cargo_standardized_fr'].eq('Laine') ,\n",
    "    exports['cargo_standardized_fr'].eq('Diverses marchandises'),\n",
    "    exports['cargo_standardized_fr'].isin(['Peaux de boeuf', 'Fruits', 'Fèves']) ,\n",
    "    exports['cargo_standardized_fr'].eq('Huile') ,\t\n",
    "]\n",
    "#{\"bled\",\"avoine\",\"orge\",\"Avoine\",\"farines\",\"lin\",\"blé\"}'\n",
    "choices = ['gold','coral', 'purple', 'black', 'lightblue', 'azure', 'lightgreen', 'pink', 'salmon']\n",
    "\n",
    "exports['colors'] = np.select(conditions, choices, default='grey')\n",
    "\n",
    "pd.DataFrame.sort_values(exports, by=['colors'], inplace=True)\n",
    "\n",
    "\n",
    "codes, uniques = pd.factorize(exports['destination_state_1789_fr'])\n",
    "codes_p, uniques_p = pd.factorize(exports['cargo_standardized_fr'])\n",
    "\n",
    "print(codes)\n",
    "print(uniques)\n",
    "\n",
    "print(codes_p)\n",
    "print(uniques_p)\n",
    "\n",
    "exports['source'] =  codes_p\n",
    "exports['target'] =  codes+len(uniques_p)\n",
    "\n",
    "exports\n"
   ]
  },
  {
   "cell_type": "code",
   "execution_count": 6,
   "metadata": {},
   "outputs": [
    {
     "name": "stdout",
     "output_type": "stream",
     "text": [
      "(37, 9)\n",
      "['Autriche', \"Etats-Unis d'Amérique\", 'Portugal', 'Provinces-Unies', 'Espagne', 'Toscane', 'République de Gênes', 'Danemark', 'Hambourg', 'Laine', 'Charbon', 'Bois', 'Sucre', 'Café', 'Graines de lin', 'Orge', 'Avoine', 'Blé', 'Farine', 'Sel', 'Futailles vides', 'Coton', 'Diverses marchandises', 'Fèves', 'Fruits', 'Peaux de boeuf', 'Eau-de-vie', 'Vin', 'Huile']\n"
     ]
    },
    {
     "data": {
      "application/vnd.plotly.v1+json": {
       "config": {
        "plotlyServerURL": "https://plot.ly"
       },
       "data": [
        {
         "link": {
          "color": [
           "azure",
           "black",
           "black",
           "coral",
           "coral",
           "coral",
           "coral",
           "gold",
           "gold",
           "gold",
           "gold",
           "gold",
           "gold",
           "gold",
           "grey",
           "grey",
           "lightblue",
           "lightgreen",
           "lightgreen",
           "lightgreen",
           "lightgreen",
           "lightgreen",
           "lightgreen",
           "lightgreen",
           "lightgreen",
           "lightgreen",
           "pink",
           "pink",
           "pink",
           "purple",
           "purple",
           "purple",
           "purple",
           "purple",
           "purple",
           "salmon",
           "salmon"
          ],
          "source": [
           0,
           1,
           2,
           3,
           4,
           3,
           4,
           5,
           6,
           7,
           8,
           9,
           6,
           8,
           10,
           11,
           12,
           13,
           13,
           13,
           13,
           13,
           13,
           13,
           13,
           13,
           14,
           15,
           16,
           17,
           17,
           17,
           18,
           18,
           18,
           19,
           19
          ],
          "target": [
           20,
           21,
           22,
           23,
           23,
           20,
           20,
           20,
           23,
           24,
           24,
           24,
           24,
           23,
           20,
           23,
           20,
           23,
           20,
           22,
           25,
           21,
           26,
           24,
           27,
           28,
           23,
           20,
           20,
           20,
           22,
           23,
           20,
           23,
           28,
           20,
           23
          ],
          "value": [
           43,
           175,
           240,
           1798.3333333333333,
           1014.6666666666666,
           574.3333333333334,
           252.33333333333334,
           70,
           180,
           390,
           287.5,
           100,
           108,
           125,
           471.6666666666667,
           193,
           18.333333333333332,
           733.6666666666666,
           895.1666666666666,
           12.5,
           115,
           175,
           100,
           40,
           58.666666666666664,
           56.666666666666664,
           60,
           301.6666666666667,
           10,
           280,
           280,
           270,
           161.33333333333334,
           163.33333333333334,
           56.666666666666664,
           328.6666666666667,
           16.666666666666668
          ]
         },
         "node": {
          "color": "grey",
          "label": [
           "Laine",
           "Charbon",
           "Bois",
           "Sucre",
           "Café",
           "Graines de lin",
           "Orge",
           "Avoine",
           "Blé",
           "Farine",
           "Sel",
           "Futailles vides",
           "Coton",
           "Diverses marchandises",
           "Fèves",
           "Fruits",
           "Peaux de boeuf",
           "Eau-de-vie",
           "Vin",
           "Huile",
           "Autriche",
           "Etats-Unis d'Amérique",
           "Portugal",
           "Provinces-Unies",
           "Espagne",
           "Toscane",
           "République de Gênes",
           "Danemark",
           "Hambourg"
          ],
          "line": {
           "color": "black",
           "width": 0.5
          },
          "pad": 15,
          "thickness": 30
         },
         "type": "sankey"
        }
       ],
       "layout": {
        "font": {
         "size": 10
        },
        "height": 1000,
        "template": {
         "data": {
          "bar": [
           {
            "error_x": {
             "color": "#2a3f5f"
            },
            "error_y": {
             "color": "#2a3f5f"
            },
            "marker": {
             "line": {
              "color": "#E5ECF6",
              "width": 0.5
             },
             "pattern": {
              "fillmode": "overlay",
              "size": 10,
              "solidity": 0.2
             }
            },
            "type": "bar"
           }
          ],
          "barpolar": [
           {
            "marker": {
             "line": {
              "color": "#E5ECF6",
              "width": 0.5
             },
             "pattern": {
              "fillmode": "overlay",
              "size": 10,
              "solidity": 0.2
             }
            },
            "type": "barpolar"
           }
          ],
          "carpet": [
           {
            "aaxis": {
             "endlinecolor": "#2a3f5f",
             "gridcolor": "white",
             "linecolor": "white",
             "minorgridcolor": "white",
             "startlinecolor": "#2a3f5f"
            },
            "baxis": {
             "endlinecolor": "#2a3f5f",
             "gridcolor": "white",
             "linecolor": "white",
             "minorgridcolor": "white",
             "startlinecolor": "#2a3f5f"
            },
            "type": "carpet"
           }
          ],
          "choropleth": [
           {
            "colorbar": {
             "outlinewidth": 0,
             "ticks": ""
            },
            "type": "choropleth"
           }
          ],
          "contour": [
           {
            "colorbar": {
             "outlinewidth": 0,
             "ticks": ""
            },
            "colorscale": [
             [
              0,
              "#0d0887"
             ],
             [
              0.1111111111111111,
              "#46039f"
             ],
             [
              0.2222222222222222,
              "#7201a8"
             ],
             [
              0.3333333333333333,
              "#9c179e"
             ],
             [
              0.4444444444444444,
              "#bd3786"
             ],
             [
              0.5555555555555556,
              "#d8576b"
             ],
             [
              0.6666666666666666,
              "#ed7953"
             ],
             [
              0.7777777777777778,
              "#fb9f3a"
             ],
             [
              0.8888888888888888,
              "#fdca26"
             ],
             [
              1,
              "#f0f921"
             ]
            ],
            "type": "contour"
           }
          ],
          "contourcarpet": [
           {
            "colorbar": {
             "outlinewidth": 0,
             "ticks": ""
            },
            "type": "contourcarpet"
           }
          ],
          "heatmap": [
           {
            "colorbar": {
             "outlinewidth": 0,
             "ticks": ""
            },
            "colorscale": [
             [
              0,
              "#0d0887"
             ],
             [
              0.1111111111111111,
              "#46039f"
             ],
             [
              0.2222222222222222,
              "#7201a8"
             ],
             [
              0.3333333333333333,
              "#9c179e"
             ],
             [
              0.4444444444444444,
              "#bd3786"
             ],
             [
              0.5555555555555556,
              "#d8576b"
             ],
             [
              0.6666666666666666,
              "#ed7953"
             ],
             [
              0.7777777777777778,
              "#fb9f3a"
             ],
             [
              0.8888888888888888,
              "#fdca26"
             ],
             [
              1,
              "#f0f921"
             ]
            ],
            "type": "heatmap"
           }
          ],
          "heatmapgl": [
           {
            "colorbar": {
             "outlinewidth": 0,
             "ticks": ""
            },
            "colorscale": [
             [
              0,
              "#0d0887"
             ],
             [
              0.1111111111111111,
              "#46039f"
             ],
             [
              0.2222222222222222,
              "#7201a8"
             ],
             [
              0.3333333333333333,
              "#9c179e"
             ],
             [
              0.4444444444444444,
              "#bd3786"
             ],
             [
              0.5555555555555556,
              "#d8576b"
             ],
             [
              0.6666666666666666,
              "#ed7953"
             ],
             [
              0.7777777777777778,
              "#fb9f3a"
             ],
             [
              0.8888888888888888,
              "#fdca26"
             ],
             [
              1,
              "#f0f921"
             ]
            ],
            "type": "heatmapgl"
           }
          ],
          "histogram": [
           {
            "marker": {
             "pattern": {
              "fillmode": "overlay",
              "size": 10,
              "solidity": 0.2
             }
            },
            "type": "histogram"
           }
          ],
          "histogram2d": [
           {
            "colorbar": {
             "outlinewidth": 0,
             "ticks": ""
            },
            "colorscale": [
             [
              0,
              "#0d0887"
             ],
             [
              0.1111111111111111,
              "#46039f"
             ],
             [
              0.2222222222222222,
              "#7201a8"
             ],
             [
              0.3333333333333333,
              "#9c179e"
             ],
             [
              0.4444444444444444,
              "#bd3786"
             ],
             [
              0.5555555555555556,
              "#d8576b"
             ],
             [
              0.6666666666666666,
              "#ed7953"
             ],
             [
              0.7777777777777778,
              "#fb9f3a"
             ],
             [
              0.8888888888888888,
              "#fdca26"
             ],
             [
              1,
              "#f0f921"
             ]
            ],
            "type": "histogram2d"
           }
          ],
          "histogram2dcontour": [
           {
            "colorbar": {
             "outlinewidth": 0,
             "ticks": ""
            },
            "colorscale": [
             [
              0,
              "#0d0887"
             ],
             [
              0.1111111111111111,
              "#46039f"
             ],
             [
              0.2222222222222222,
              "#7201a8"
             ],
             [
              0.3333333333333333,
              "#9c179e"
             ],
             [
              0.4444444444444444,
              "#bd3786"
             ],
             [
              0.5555555555555556,
              "#d8576b"
             ],
             [
              0.6666666666666666,
              "#ed7953"
             ],
             [
              0.7777777777777778,
              "#fb9f3a"
             ],
             [
              0.8888888888888888,
              "#fdca26"
             ],
             [
              1,
              "#f0f921"
             ]
            ],
            "type": "histogram2dcontour"
           }
          ],
          "mesh3d": [
           {
            "colorbar": {
             "outlinewidth": 0,
             "ticks": ""
            },
            "type": "mesh3d"
           }
          ],
          "parcoords": [
           {
            "line": {
             "colorbar": {
              "outlinewidth": 0,
              "ticks": ""
             }
            },
            "type": "parcoords"
           }
          ],
          "pie": [
           {
            "automargin": true,
            "type": "pie"
           }
          ],
          "scatter": [
           {
            "fillpattern": {
             "fillmode": "overlay",
             "size": 10,
             "solidity": 0.2
            },
            "type": "scatter"
           }
          ],
          "scatter3d": [
           {
            "line": {
             "colorbar": {
              "outlinewidth": 0,
              "ticks": ""
             }
            },
            "marker": {
             "colorbar": {
              "outlinewidth": 0,
              "ticks": ""
             }
            },
            "type": "scatter3d"
           }
          ],
          "scattercarpet": [
           {
            "marker": {
             "colorbar": {
              "outlinewidth": 0,
              "ticks": ""
             }
            },
            "type": "scattercarpet"
           }
          ],
          "scattergeo": [
           {
            "marker": {
             "colorbar": {
              "outlinewidth": 0,
              "ticks": ""
             }
            },
            "type": "scattergeo"
           }
          ],
          "scattergl": [
           {
            "marker": {
             "colorbar": {
              "outlinewidth": 0,
              "ticks": ""
             }
            },
            "type": "scattergl"
           }
          ],
          "scattermapbox": [
           {
            "marker": {
             "colorbar": {
              "outlinewidth": 0,
              "ticks": ""
             }
            },
            "type": "scattermapbox"
           }
          ],
          "scatterpolar": [
           {
            "marker": {
             "colorbar": {
              "outlinewidth": 0,
              "ticks": ""
             }
            },
            "type": "scatterpolar"
           }
          ],
          "scatterpolargl": [
           {
            "marker": {
             "colorbar": {
              "outlinewidth": 0,
              "ticks": ""
             }
            },
            "type": "scatterpolargl"
           }
          ],
          "scatterternary": [
           {
            "marker": {
             "colorbar": {
              "outlinewidth": 0,
              "ticks": ""
             }
            },
            "type": "scatterternary"
           }
          ],
          "surface": [
           {
            "colorbar": {
             "outlinewidth": 0,
             "ticks": ""
            },
            "colorscale": [
             [
              0,
              "#0d0887"
             ],
             [
              0.1111111111111111,
              "#46039f"
             ],
             [
              0.2222222222222222,
              "#7201a8"
             ],
             [
              0.3333333333333333,
              "#9c179e"
             ],
             [
              0.4444444444444444,
              "#bd3786"
             ],
             [
              0.5555555555555556,
              "#d8576b"
             ],
             [
              0.6666666666666666,
              "#ed7953"
             ],
             [
              0.7777777777777778,
              "#fb9f3a"
             ],
             [
              0.8888888888888888,
              "#fdca26"
             ],
             [
              1,
              "#f0f921"
             ]
            ],
            "type": "surface"
           }
          ],
          "table": [
           {
            "cells": {
             "fill": {
              "color": "#EBF0F8"
             },
             "line": {
              "color": "white"
             }
            },
            "header": {
             "fill": {
              "color": "#C8D4E3"
             },
             "line": {
              "color": "white"
             }
            },
            "type": "table"
           }
          ]
         },
         "layout": {
          "annotationdefaults": {
           "arrowcolor": "#2a3f5f",
           "arrowhead": 0,
           "arrowwidth": 1
          },
          "autotypenumbers": "strict",
          "coloraxis": {
           "colorbar": {
            "outlinewidth": 0,
            "ticks": ""
           }
          },
          "colorscale": {
           "diverging": [
            [
             0,
             "#8e0152"
            ],
            [
             0.1,
             "#c51b7d"
            ],
            [
             0.2,
             "#de77ae"
            ],
            [
             0.3,
             "#f1b6da"
            ],
            [
             0.4,
             "#fde0ef"
            ],
            [
             0.5,
             "#f7f7f7"
            ],
            [
             0.6,
             "#e6f5d0"
            ],
            [
             0.7,
             "#b8e186"
            ],
            [
             0.8,
             "#7fbc41"
            ],
            [
             0.9,
             "#4d9221"
            ],
            [
             1,
             "#276419"
            ]
           ],
           "sequential": [
            [
             0,
             "#0d0887"
            ],
            [
             0.1111111111111111,
             "#46039f"
            ],
            [
             0.2222222222222222,
             "#7201a8"
            ],
            [
             0.3333333333333333,
             "#9c179e"
            ],
            [
             0.4444444444444444,
             "#bd3786"
            ],
            [
             0.5555555555555556,
             "#d8576b"
            ],
            [
             0.6666666666666666,
             "#ed7953"
            ],
            [
             0.7777777777777778,
             "#fb9f3a"
            ],
            [
             0.8888888888888888,
             "#fdca26"
            ],
            [
             1,
             "#f0f921"
            ]
           ],
           "sequentialminus": [
            [
             0,
             "#0d0887"
            ],
            [
             0.1111111111111111,
             "#46039f"
            ],
            [
             0.2222222222222222,
             "#7201a8"
            ],
            [
             0.3333333333333333,
             "#9c179e"
            ],
            [
             0.4444444444444444,
             "#bd3786"
            ],
            [
             0.5555555555555556,
             "#d8576b"
            ],
            [
             0.6666666666666666,
             "#ed7953"
            ],
            [
             0.7777777777777778,
             "#fb9f3a"
            ],
            [
             0.8888888888888888,
             "#fdca26"
            ],
            [
             1,
             "#f0f921"
            ]
           ]
          },
          "colorway": [
           "#636efa",
           "#EF553B",
           "#00cc96",
           "#ab63fa",
           "#FFA15A",
           "#19d3f3",
           "#FF6692",
           "#B6E880",
           "#FF97FF",
           "#FECB52"
          ],
          "font": {
           "color": "#2a3f5f"
          },
          "geo": {
           "bgcolor": "white",
           "lakecolor": "white",
           "landcolor": "#E5ECF6",
           "showlakes": true,
           "showland": true,
           "subunitcolor": "white"
          },
          "hoverlabel": {
           "align": "left"
          },
          "hovermode": "closest",
          "mapbox": {
           "style": "light"
          },
          "paper_bgcolor": "white",
          "plot_bgcolor": "#E5ECF6",
          "polar": {
           "angularaxis": {
            "gridcolor": "white",
            "linecolor": "white",
            "ticks": ""
           },
           "bgcolor": "#E5ECF6",
           "radialaxis": {
            "gridcolor": "white",
            "linecolor": "white",
            "ticks": ""
           }
          },
          "scene": {
           "xaxis": {
            "backgroundcolor": "#E5ECF6",
            "gridcolor": "white",
            "gridwidth": 2,
            "linecolor": "white",
            "showbackground": true,
            "ticks": "",
            "zerolinecolor": "white"
           },
           "yaxis": {
            "backgroundcolor": "#E5ECF6",
            "gridcolor": "white",
            "gridwidth": 2,
            "linecolor": "white",
            "showbackground": true,
            "ticks": "",
            "zerolinecolor": "white"
           },
           "zaxis": {
            "backgroundcolor": "#E5ECF6",
            "gridcolor": "white",
            "gridwidth": 2,
            "linecolor": "white",
            "showbackground": true,
            "ticks": "",
            "zerolinecolor": "white"
           }
          },
          "shapedefaults": {
           "line": {
            "color": "#2a3f5f"
           }
          },
          "ternary": {
           "aaxis": {
            "gridcolor": "white",
            "linecolor": "white",
            "ticks": ""
           },
           "baxis": {
            "gridcolor": "white",
            "linecolor": "white",
            "ticks": ""
           },
           "bgcolor": "#E5ECF6",
           "caxis": {
            "gridcolor": "white",
            "linecolor": "white",
            "ticks": ""
           }
          },
          "title": {
           "x": 0.05
          },
          "xaxis": {
           "automargin": true,
           "gridcolor": "white",
           "linecolor": "white",
           "ticks": "",
           "title": {
            "standoff": 15
           },
           "zerolinecolor": "white",
           "zerolinewidth": 2
          },
          "yaxis": {
           "automargin": true,
           "gridcolor": "white",
           "linecolor": "white",
           "ticks": "",
           "title": {
            "standoff": 15
           },
           "zerolinecolor": "white",
           "zerolinewidth": 2
          }
         }
        },
        "title": {
         "text": "Export des produits depuis Dunkerque"
        },
        "width": 700
       }
      }
     },
     "metadata": {},
     "output_type": "display_data"
    }
   ],
   "source": [
    "#from https://chart-studio.plotly.com/~alishobeiri/1591/plotly-sankey-diagrams/#/ \n",
    "#https://medium.com/plotly/4-interactive-sankey-diagram-made-in-python-3057b9ee8616\n",
    "#https://stackoverflow.com/questions/59845407/plotly-express-vs-altair-vega-lite-for-interactive-plots\n",
    "# https://matplotlib.org/3.1.0/tutorials/colors/colors.html\n",
    "#https://towardsdatascience.com/sankey-diagram-basics-with-pythons-plotly-7a13d557401a \n",
    "#https://chart-studio.plotly.com/~alishobeiri/1591/plotly-sankey-diagrams/#/\n",
    "#https://errorsfixing.com/plotly-sankey-is-it-able-to-put-the-node-labels-to-the-right-for-last-layercolumn/ \n",
    "\n",
    "import json, urllib\n",
    "import plotly as py\n",
    "import pandas as pd\n",
    "import numpy as np\n",
    "import plotly.graph_objects as go\n",
    "\n",
    "# Lire le fichier \n",
    "#exports = pd.read_csv(\"./exports_dunkerque_par_pays_par_produits.csv\")\n",
    "\n",
    "print(exports.shape)\n",
    "print(pd.unique(exports['destination_state_1789_fr']).tolist()+pd.unique(exports['cargo_standardized_fr']).tolist())\n",
    "\n",
    "\n",
    "\n",
    "fig =  go.Figure(data=[go.Sankey(\n",
    "    node = dict(\n",
    "      pad = 15,\n",
    "      thickness = 30,\n",
    "      #label =  exports['Node, Label'].dropna(axis=0, how='any'),\n",
    "      #color = scottish_df['Color']\n",
    "      line = dict(color = \"black\", width = 0.5),\n",
    "      label = uniques_p.tolist()+uniques.tolist(),\n",
    "      color = 'grey'\n",
    "      #color = exports['colors'].dropna(axis=0, how='any')\n",
    "    ),\n",
    "    link = dict(\n",
    "      source = exports['source'],\n",
    "      target = exports['target'],\n",
    "      value = exports['sum_tonnage_per_product'].dropna(axis=0, how='any'),\n",
    "      color = exports['colors'].dropna(axis=0, how='any'),\n",
    "  )\n",
    ")])\n",
    "\n",
    "\n",
    "\n",
    "\n",
    "fig.update_layout(title_text=\"Export des produits depuis Dunkerque\", font_size=10, height = 1000, width=700)\n",
    "fig.show()\n",
    "\n",
    "import plotly.io as pio\n",
    "\n",
    "pio.write_image(fig, './sankey_export_product_Dunkerque_1789.png', format='png', scale=1.5, width=700, height=1000)\n",
    "\n"
   ]
  },
  {
   "cell_type": "code",
   "execution_count": 125,
   "metadata": {},
   "outputs": [
    {
     "data": {
      "application/vnd.plotly.v1+json": {
       "config": {
        "linkText": "Export to plot.ly",
        "plotlyServerURL": "https://plot.ly",
        "showLink": false
       },
       "data": [
        {
         "link": {
          "label": [
           8,
           4,
           2,
           8,
           4,
           2
          ],
          "source": [
           0,
           1,
           0,
           2,
           3,
           3
          ],
          "target": [
           2,
           3,
           3,
           4,
           4,
           5
          ],
          "value": [
           8,
           4,
           2,
           8,
           4,
           2
          ]
         },
         "node": {
          "color": [
           "blue",
           "blue",
           "blue",
           "blue",
           "gray",
           "white"
          ],
          "label": [
           "A1",
           "A2",
           "B1",
           "B2",
           "C1",
           "C2"
          ],
          "line": {
           "color": "black",
           "width": 0.5
          },
          "pad": 15,
          "thickness": 20
         },
         "type": "sankey"
        }
       ],
       "layout": {
        "annotations": [
         {
          "showarrow": false,
          "text": "8",
          "x": 0.25,
          "y": 0.75
         },
         {
          "showarrow": false,
          "text": "4",
          "x": 0.75,
          "y": 0.25
         }
        ],
        "font": {
         "size": 10
        },
        "title": "Basic Sankey Diagram"
       }
      }
     },
     "metadata": {},
     "output_type": "display_data"
    }
   ],
   "source": [
    "data = dict(\n",
    "type='sankey',\n",
    "node = dict(\n",
    "  pad = 15,\n",
    "  thickness = 20,\n",
    "  line = dict(\n",
    "    color = \"black\",\n",
    "    width = 0.5\n",
    "  ),\n",
    "  label = [\"A1\", \"A2\", \"B1\", \"B2\", \"C1\", \"C2\"],\n",
    "\n",
    "  color = [\"blue\", \"blue\", \"blue\", \"blue\", \n",
    "  \"gray\", \"white\"]),#attempt to make it less visible\n",
    "\n",
    "link = dict(\n",
    "  source = [0,1,0,2,3,3],\n",
    "  target = [2,3,3,4,4,5],\n",
    "  value = [8,4,2,8,4,2],\n",
    "  # attempt to add labels\n",
    "  label= [8,4,2,8,4,2]))\n",
    "\n",
    "\n",
    "import plotly.offline as py\n",
    "layout =  dict(\n",
    "  title = \"Basic Sankey Diagram\",\n",
    "  font = dict(\n",
    "    size = 10\n",
    "  ),\n",
    "    annotations=[\n",
    "        dict(\n",
    "            x=0.25,\n",
    "            y=0.75,\n",
    "            text='8',\n",
    "            showarrow=False\n",
    "        ),\n",
    "        dict(\n",
    "            x=0.75,\n",
    "            y=0.25,\n",
    "            text='4',\n",
    "            showarrow=False\n",
    "        )\n",
    "    ]\n",
    " )\n",
    "\n",
    "fig = dict(data=[data], layout=layout)\n",
    "py.iplot(fig, validate=False)"
   ]
  },
  {
   "cell_type": "code",
   "execution_count": null,
   "metadata": {},
   "outputs": [],
   "source": [
    "#https://vega.github.io/vega/docs/projections/\n",
    "#https://github.com/vega/vega-lite/issues/3488#issuecomment-386199585\n",
    "#\"scale\": {\"domain\": [1, 25], \"range\":[0, 179], \"clamp\": true, \"zero\": false\n",
    "# World 1789, center on England\n",
    "year='1791'\n",
    "map = alt.layer(\n",
    "    # use the sphere of the Earth as the base layer\n",
    "    alt.Chart({'sphere': True}).mark_geoshape(\n",
    "        fill='#e6f3ff'\n",
    "    ),\n",
    "    # add a graticule for geographic reference lines\n",
    "    alt.Chart({'graticule': True}).mark_geoshape(\n",
    "        stroke='#ffffff', strokeWidth=1\n",
    "    ),\n",
    "    # and then the countries of the world\n",
    "    alt.Chart(pays).mark_geoshape(\n",
    "        fill='lightgray', stroke='white', strokeWidth=0.5\n",
    "    ),\n",
    "    #the ports\n",
    "    alt.Chart(port_tomap).mark_circle().encode(\n",
    "        longitude='x:Q',\n",
    "        latitude='y:Q',\n",
    "        size=alt.Size('{}:Q'.format(year), title='British smogglers in {}'.format(year), scale=alt.Scale(domain=[-1, 180], range=[10, 400], clamp=True, zero= False)), \n",
    "        color=alt.value('steelblue'),\n",
    "        tooltip=['toponyme_standard_fr:N','{}:Q'.format(year)]\n",
    "    )\n",
    ").properties(\n",
    "    width=400,\n",
    "    height=600,\n",
    "    title='British smogglers gone from Dunkirk, around 1789'\n",
    ").project('conicEquidistant', scale=3000).configure_projection(center = [-4, 54]).configure_view(stroke=None)\n",
    "\n",
    "map.save('test.png')\n"
   ]
  }
 ],
 "metadata": {
  "interpreter": {
   "hash": "ec890f973dd9e3cac31a738b8560dfcf5ac073d4c5ea92d19b6fe0e1e1d90d79"
  },
  "kernelspec": {
   "display_name": "Python 3.9.10 ('dunkerque22': venv)",
   "language": "python",
   "name": "python3"
  },
  "language_info": {
   "codemirror_mode": {
    "name": "ipython",
    "version": 3
   },
   "file_extension": ".py",
   "mimetype": "text/x-python",
   "name": "python",
   "nbconvert_exporter": "python",
   "pygments_lexer": "ipython3",
   "version": "3.9.10"
  },
  "orig_nbformat": 4
 },
 "nbformat": 4,
 "nbformat_minor": 2
}
