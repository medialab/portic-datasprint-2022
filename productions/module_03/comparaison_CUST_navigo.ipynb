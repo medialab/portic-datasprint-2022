{
 "cells": [
  {
   "cell_type": "markdown",
   "id": "79b1d2e4-ec68-4941-b3b6-e6c63f356870",
   "metadata": {
    "tags": []
   },
   "source": [
    "# Comparaison CUST/Navigocorpus\n",
    "Objectif: quantifier et localiser le différentiel entres navires envoyés en Angleterre depuis Navigo et l'équivalent en arrivée côté CUST."
   ]
  },
  {
   "cell_type": "markdown",
   "id": "ad77f999-6851-4ba5-9a19-6bcad6a55e1c",
   "metadata": {},
   "source": [
    "*N.B.: la catégorie french_others ne fonctionne pas pour le moment car Navigo n'a pas les données adéquates pour 1789*"
   ]
  },
  {
   "cell_type": "code",
   "execution_count": 1,
   "id": "96328680-f2b7-4bd1-a19e-33194d2a629a",
   "metadata": {},
   "outputs": [],
   "source": [
    "import csv\n",
    "import pandas as pd\n",
    "import seaborn as sns\n",
    "from ebbe import grouped\n",
    "from collections import Counter\n",
    "from dunkerquesprint import get_online_csv"
   ]
  },
  {
   "cell_type": "code",
   "execution_count": 2,
   "id": "34ea8947-3b3c-49f9-adeb-eea869f55726",
   "metadata": {},
   "outputs": [],
   "source": [
    "DUNKERQUE_UHGS_ID = 'A0204180'\n",
    "GRAVELINES_UHGS_ID = 'A0189462'\n",
    "FAKE_LISBONNE_UGHS_ID = 'A0394917'"
   ]
  },
  {
   "cell_type": "markdown",
   "id": "1c0bd1c3-e967-4f8f-90d6-55c64ce8dbed",
   "metadata": {
    "tags": []
   },
   "source": [
    "## Agrégation CUST"
   ]
  },
  {
   "cell_type": "code",
   "execution_count": 3,
   "id": "17b24d6f-2ba3-4ba2-a11c-68d6577a4c68",
   "metadata": {},
   "outputs": [],
   "source": [
    "CUST = get_online_csv('https://docs.google.com/spreadsheets/d/e/2PACX-1vQ8LwvvPQUi0-srwNYbvTi1JC2eoTl_97usPeSChfsXStCMYi8SIh7onIHo1_z2mg/pub?output=csv')"
   ]
  },
  {
   "cell_type": "markdown",
   "id": "6491afc6",
   "metadata": {},
   "source": [
    "Exclure ou conserver seulement les ports anglais codés dans navigo (avec un uhgs_id)"
   ]
  },
  {
   "cell_type": "code",
   "execution_count": 4,
   "id": "81b35253-1833-4889-aacf-954acbcb13d8",
   "metadata": {},
   "outputs": [],
   "source": [
    "CUST = [r for r in CUST if r['uhgs_id'] != '#N/A']"
   ]
  },
  {
   "cell_type": "code",
   "execution_count": 5,
   "id": "a660495c-acd3-40a1-8114-a9fabd2a2494",
   "metadata": {},
   "outputs": [
    {
     "data": {
      "text/plain": [
       "45"
      ]
     },
     "execution_count": 5,
     "metadata": {},
     "output_type": "execute_result"
    }
   ],
   "source": [
    "len(CUST)"
   ]
  },
  {
   "cell_type": "code",
   "execution_count": 6,
   "id": "5f706303-f85c-4a90-b4b4-71b4c3dc49ae",
   "metadata": {},
   "outputs": [],
   "source": [
    "UHGS_ID_TO_PORT_NAME = {row['uhgs_id']: row['Names of the ports'] for row in CUST}"
   ]
  },
  {
   "cell_type": "code",
   "execution_count": 7,
   "id": "8a682b39-9f11-48ea-8dfe-880ba2d6bc12",
   "metadata": {},
   "outputs": [
    {
     "data": {
      "text/plain": [
       "{('british', 'french_flanders'): 169,\n",
       " ('british', 'french_others'): 1333,\n",
       " ('foreign', 'french_flanders'): 3,\n",
       " ('foreign', 'french_others'): 270}"
      ]
     },
     "execution_count": 7,
     "metadata": {},
     "output_type": "execute_result"
    }
   ],
   "source": [
    "CUST_AGGREGATED_FLOWS = {\n",
    "    ('british', 'french_flanders'): sum(int(row['from French Flanders_British vessels_Nb'] or '0') for row in CUST),\n",
    "    ('british', 'french_others'): sum(int(row['From France_British vessels_Nb'] or '0') for row in CUST),\n",
    "    ('foreign', 'french_flanders'): sum(int(row['from French Flanders__foreign_vessels_Nb'] or '0') for row in CUST),\n",
    "    ('foreign', 'french_others'): sum(int(row['From France_foreign vessels_Nb'] or '0') for row in CUST)\n",
    "}\n",
    "CUST_AGGREGATED_FLOWS"
   ]
  },
  {
   "cell_type": "code",
   "execution_count": 8,
   "id": "fccbfb22-5037-4813-b35c-1ea62dc7a515",
   "metadata": {},
   "outputs": [],
   "source": [
    "# Ces données sont agrégées et extrapolées à la main\n",
    "CUST_AGGREGATED_FLOWS_1787 = {\n",
    "    ('british', 'french_flanders'): 381,\n",
    "    ('british', 'french_others'): 1066,\n",
    "    ('foreign', 'french_flanders'): 34,\n",
    "    ('foreign', 'french_others'): 307\n",
    "}"
   ]
  },
  {
   "cell_type": "code",
   "execution_count": 9,
   "id": "8b2c2acc-a080-48bb-b6b8-206bf64cb8a4",
   "metadata": {},
   "outputs": [
    {
     "data": {
      "text/plain": [
       "{('british', 'french_flanders'): 18615,\n",
       " ('british', 'french_others'): 3550248,\n",
       " ('foreign', 'french_flanders'): 450,\n",
       " ('foreign', 'french_others'): 9548}"
      ]
     },
     "execution_count": 9,
     "metadata": {},
     "output_type": "execute_result"
    }
   ],
   "source": [
    "CUST_AGGREGATED_TONS = {\n",
    "    ('british', 'french_flanders'): sum(int(row['from French Flanders__British vessels_tons'] or '0') for row in CUST),\n",
    "    ('british', 'french_others'): sum(int(row['From France_British vessels_tons'] or '0') for row in CUST),\n",
    "    ('foreign', 'french_flanders'): sum(int(row['from French Flanders__foreign_vessels_tons'] or '0') for row in CUST),\n",
    "    ('foreign', 'french_others'): sum(int(row['From France_foreign vessels_tons'] or '0') for row in CUST)\n",
    "}\n",
    "CUST_AGGREGATED_TONS"
   ]
  },
  {
   "cell_type": "code",
   "execution_count": 10,
   "id": "33beaf7b-0df3-472f-8c4c-579d86b6a097",
   "metadata": {},
   "outputs": [],
   "source": [
    "# Ces données sont agrégées et extrapolées à la main\n",
    "CUST_AGGREGATED_TONS_1787 = {\n",
    "    ('british', 'french_flanders'): 36_895,\n",
    "    ('british', 'french_others'): 74_373,\n",
    "    ('foreign', 'french_flanders'): 3005,\n",
    "    ('foreign', 'french_others'): 12_548\n",
    "}"
   ]
  },
  {
   "cell_type": "code",
   "execution_count": 11,
   "id": "4a001489-9c32-4c77-ab28-742ed0d3864e",
   "metadata": {},
   "outputs": [
    {
     "data": {
      "text/plain": [
       "45"
      ]
     },
     "execution_count": 11,
     "metadata": {},
     "output_type": "execute_result"
    }
   ],
   "source": [
    "CUST_UHGS_IDS = set(row['uhgs_id'] for row in CUST)\n",
    "len(CUST_UHGS_IDS)"
   ]
  },
  {
   "cell_type": "code",
   "execution_count": 12,
   "id": "0f5eefa1-4b30-4da7-ab76-0f4cc8f0aff3",
   "metadata": {},
   "outputs": [
    {
     "name": "stdout",
     "output_type": "stream",
     "text": [
      "0.3642241379310345\n",
      "0.3924813932404225\n"
     ]
    }
   ],
   "source": [
    "# Ajustement des données 1787 CUST au doigt mouillé en enlevant une portion correspondant aux Flandres autrichiennes\n",
    "PART_FRENCH_FLANDERS_CUST_FLOWS_1789 = 169 / (169 + 295)\n",
    "print(PART_FRENCH_FLANDERS_CUST_FLOWS_1789)\n",
    "\n",
    "PART_FRENCH_FLANDERS_CUST_TONS_1789 = 18_615 / (18_615 + 28_814)\n",
    "print(PART_FRENCH_FLANDERS_CUST_TONS_1789)\n",
    "\n",
    "for k in CUST_AGGREGATED_FLOWS_1787:\n",
    "    if 'french_others' in k:\n",
    "        continue\n",
    "    CUST_AGGREGATED_FLOWS_1787[k] *= PART_FRENCH_FLANDERS_CUST_FLOWS_1789\n",
    "    \n",
    "for k in CUST_AGGREGATED_TONS_1787:\n",
    "    if 'french_others' in k:\n",
    "        continue\n",
    "    CUST_AGGREGATED_TONS_1787[k] *= PART_FRENCH_FLANDERS_CUST_TONS_1789"
   ]
  },
  {
   "cell_type": "code",
   "execution_count": 13,
   "id": "d6364504-42aa-4456-95d1-df718a7bbf78",
   "metadata": {},
   "outputs": [
    {
     "data": {
      "text/plain": [
       "({('british', 'french_flanders'): 138.76939655172413,\n",
       "  ('british', 'french_others'): 1066,\n",
       "  ('foreign', 'french_flanders'): 12.383620689655173,\n",
       "  ('foreign', 'french_others'): 307},\n",
       " {('british', 'french_flanders'): 14480.601003605389,\n",
       "  ('british', 'french_others'): 74373,\n",
       "  ('foreign', 'french_flanders'): 1179.4065866874696,\n",
       "  ('foreign', 'french_others'): 12548})"
      ]
     },
     "execution_count": 13,
     "metadata": {},
     "output_type": "execute_result"
    }
   ],
   "source": [
    "CUST_AGGREGATED_FLOWS_1787, CUST_AGGREGATED_TONS_1787"
   ]
  },
  {
   "cell_type": "markdown",
   "id": "676153a5-9409-41c5-b7cf-9c4e3a33de6d",
   "metadata": {
    "tags": []
   },
   "source": [
    "## Agrégation Navigocorpus"
   ]
  },
  {
   "cell_type": "code",
   "execution_count": 14,
   "id": "f67da690-574d-4450-9593-a5a776971f87",
   "metadata": {},
   "outputs": [],
   "source": [
    "with open('../../data/navigo_all_flows_1789.csv') as f:\n",
    "    NAVIGO = list(csv.DictReader(f))"
   ]
  },
  {
   "cell_type": "code",
   "execution_count": 15,
   "id": "285a35a9-5483-4f5c-935e-73712bf06467",
   "metadata": {},
   "outputs": [],
   "source": [
    "with open('../../data/navigo_all_flows_1787.csv') as f:\n",
    "    NAVIGO_1787 = list(csv.DictReader(f))"
   ]
  },
  {
   "cell_type": "markdown",
   "id": "2b56e9ee-ebd5-4a82-b045-f831d2004fb0",
   "metadata": {},
   "source": [
    "Variables intéressantes: `departure_*`, `flag`, `homeport_uhgs_id`, `destination_state_1789_fr`"
   ]
  },
  {
   "cell_type": "code",
   "execution_count": 16,
   "id": "0e0b73f4-e328-4f8e-9902-105293fe5993",
   "metadata": {},
   "outputs": [],
   "source": [
    "# On ne garde que les flux qui partent pour la grande bretagne\n",
    "# NAVIGO = [r for r in NAVIGO if r['destination_state_1789_fr'] == 'Grande-Bretagne']\n",
    "# NAVIGO = [r for r in NAVIGO if r['destination_substate_1789_fr'] == 'Angleterre']\n",
    "filter_uhgs = CUST_UHGS_IDS | {FAKE_LISBONNE_UGHS_ID}\n",
    "NAVIGO = [r for r in NAVIGO if r['destination_uhgs_id'] in filter_uhgs]\n",
    "NAVIGO_1787 = [r for r in NAVIGO_1787 if r['destination_uhgs_id'] in filter_uhgs]"
   ]
  },
  {
   "cell_type": "code",
   "execution_count": 17,
   "id": "f16a0eee-186f-4ff5-ad78-d4ecde62927b",
   "metadata": {},
   "outputs": [
    {
     "data": {
      "text/plain": [
       "(1460, 2772)"
      ]
     },
     "execution_count": 17,
     "metadata": {},
     "output_type": "execute_result"
    }
   ],
   "source": [
    "len(NAVIGO), len(NAVIGO_1787)"
   ]
  },
  {
   "cell_type": "code",
   "execution_count": 18,
   "id": "b4ad6a82-1be2-4e42-a6d4-d30b3c167eaa",
   "metadata": {},
   "outputs": [],
   "source": [
    "def navigo_group(row):\n",
    "    return (\n",
    "        'british' if row['ship_flag_standardized_fr'] == 'britannique' else 'foreign',\n",
    "        'french_flanders' if row['departure_uhgs_id'] in [DUNKERQUE_UHGS_ID, GRAVELINES_UHGS_ID] else 'french_other'\n",
    "    )\n",
    "\n",
    "NAVIGO_GROUPED = grouped(NAVIGO, key=navigo_group)\n",
    "NAVIGO_GROUPED_1787 = grouped(NAVIGO_1787, key=navigo_group)"
   ]
  },
  {
   "cell_type": "code",
   "execution_count": 19,
   "id": "35e5aa95-fa86-478f-8e50-59c215e4e481",
   "metadata": {},
   "outputs": [
    {
     "data": {
      "text/plain": [
       "{('british', 'french_flanders'): 1361,\n",
       " ('british', 'french_other'): 84,\n",
       " ('foreign', 'french_flanders'): 11,\n",
       " ('foreign', 'french_other'): 4}"
      ]
     },
     "execution_count": 19,
     "metadata": {},
     "output_type": "execute_result"
    }
   ],
   "source": [
    "NAVIGO_AGGREGATED_FLOWS = {k: len(v) for k, v in NAVIGO_GROUPED.items()}\n",
    "NAVIGO_AGGREGATED_FLOWS"
   ]
  },
  {
   "cell_type": "code",
   "execution_count": 20,
   "id": "19752dfa-809f-493a-83a1-5e8c17ba5d85",
   "metadata": {},
   "outputs": [
    {
     "data": {
      "text/plain": [
       "{('british', 'french_flanders'): 1225,\n",
       " ('foreign', 'french_other'): 260,\n",
       " ('british', 'french_other'): 1268,\n",
       " ('foreign', 'french_flanders'): 19}"
      ]
     },
     "execution_count": 20,
     "metadata": {},
     "output_type": "execute_result"
    }
   ],
   "source": [
    "NAVIGO_AGGREGATED_FLOWS_1787 = {k: len(v) for k, v in NAVIGO_GROUPED_1787.items()}\n",
    "NAVIGO_AGGREGATED_FLOWS_1787"
   ]
  },
  {
   "cell_type": "code",
   "execution_count": 21,
   "id": "ae0ece86-55d8-4157-b4a2-dc33dbed6545",
   "metadata": {},
   "outputs": [
    {
     "data": {
      "text/plain": [
       "{('british', 'french_flanders'): 37842,\n",
       " ('british', 'french_other'): 10152,\n",
       " ('foreign', 'french_flanders'): 499,\n",
       " ('foreign', 'french_other'): 311}"
      ]
     },
     "execution_count": 21,
     "metadata": {},
     "output_type": "execute_result"
    }
   ],
   "source": [
    "NAVIGO_AGGREGATED_TONS = {k: sum(int(row['tonnage']) for row in v if row['tonnage']) for k, v in NAVIGO_GROUPED.items()}\n",
    "NAVIGO_AGGREGATED_TONS"
   ]
  },
  {
   "cell_type": "code",
   "execution_count": 22,
   "id": "0916e4c3-1655-42db-acab-7e7f3faa0c95",
   "metadata": {},
   "outputs": [
    {
     "data": {
      "text/plain": [
       "{('british', 'french_flanders'): 31245.0,\n",
       " ('foreign', 'french_other'): 5826.0,\n",
       " ('british', 'french_other'): 70771.5,\n",
       " ('foreign', 'french_flanders'): 1055.0}"
      ]
     },
     "execution_count": 22,
     "metadata": {},
     "output_type": "execute_result"
    }
   ],
   "source": [
    "NAVIGO_AGGREGATED_TONS_1787 = {k: sum(float(row['tonnage']) for row in v if row['tonnage']) for k, v in NAVIGO_GROUPED_1787.items()}\n",
    "NAVIGO_AGGREGATED_TONS_1787"
   ]
  },
  {
   "cell_type": "markdown",
   "id": "b936ec77-244e-4a77-9509-da1a728f3335",
   "metadata": {
    "tags": []
   },
   "source": [
    "## Comparaison"
   ]
  },
  {
   "cell_type": "code",
   "execution_count": 23,
   "id": "c2294a23-d69b-4a0f-b6c5-c12e7e4ebb45",
   "metadata": {},
   "outputs": [
    {
     "name": "stdout",
     "output_type": "stream",
     "text": [
      "Flows\n",
      "For ('british', 'french_flanders') CUST: 169 NAVIGO: 1361 8.053254\n",
      "For ('foreign', 'french_flanders') CUST: 3 NAVIGO: 11 3.666667\n"
     ]
    }
   ],
   "source": [
    "print('Flows')\n",
    "for cust, navigo in zip(sorted(CUST_AGGREGATED_FLOWS.items()), sorted(NAVIGO_AGGREGATED_FLOWS.items())):\n",
    "    if cust[0][1] == 'french_others':\n",
    "        continue\n",
    "    print('For', cust[0], 'CUST:', cust[1], 'NAVIGO:', navigo[1], '%2f' % (navigo[1] / cust[1]))"
   ]
  },
  {
   "cell_type": "code",
   "execution_count": 24,
   "id": "3528c8b9-dd9c-4756-9e1b-4adcd3e74ae1",
   "metadata": {},
   "outputs": [
    {
     "name": "stdout",
     "output_type": "stream",
     "text": [
      "Tons\n",
      "For ('british', 'french_flanders') CUST: 18615 NAVIGO: 37842 2.032877\n",
      "For ('foreign', 'french_flanders') CUST: 450 NAVIGO: 499 1.108889\n"
     ]
    }
   ],
   "source": [
    "print('Tons')\n",
    "for cust, navigo in zip(sorted(CUST_AGGREGATED_TONS.items()), sorted(NAVIGO_AGGREGATED_TONS.items())):\n",
    "    if cust[0][1] == 'french_others':\n",
    "        continue\n",
    "    print('For', cust[0], 'CUST:', cust[1], 'NAVIGO:', navigo[1], '%2f' % (navigo[1] / cust[1]))"
   ]
  },
  {
   "cell_type": "code",
   "execution_count": 40,
   "id": "e5bb15f5-8a2b-4d17-9c1f-52065509f44f",
   "metadata": {},
   "outputs": [
    {
     "name": "stdout",
     "output_type": "stream",
     "text": [
      "Flows 1787\n",
      "For ('british', 'french_others') CUST: 1066 NAVIGO: 1268 1.189493\n",
      "For ('foreign', 'french_others') CUST: 307 NAVIGO: 260 0.846906\n"
     ]
    }
   ],
   "source": [
    "print('Flows 1787')\n",
    "for cust, navigo in zip(sorted(CUST_AGGREGATED_FLOWS_1787.items()), sorted(NAVIGO_AGGREGATED_FLOWS_1787.items())):\n",
    "    if cust[0][1] == 'french_flanders':\n",
    "        continue\n",
    "    print('For', cust[0], 'CUST:', cust[1], 'NAVIGO:', navigo[1], '%2f' % (navigo[1] / cust[1]))"
   ]
  },
  {
   "cell_type": "code",
   "execution_count": 39,
   "id": "43ac6764-fca7-4537-98a3-587df54d005e",
   "metadata": {},
   "outputs": [
    {
     "name": "stdout",
     "output_type": "stream",
     "text": [
      "Tons 1787\n",
      "For ('british', 'french_others') CUST: 74373 NAVIGO: 70771.5 0.951575\n",
      "For ('foreign', 'french_others') CUST: 12548 NAVIGO: 5826.0 0.464297\n"
     ]
    }
   ],
   "source": [
    "print('Tons 1787')\n",
    "for cust, navigo in zip(sorted(CUST_AGGREGATED_TONS_1787.items()), sorted(NAVIGO_AGGREGATED_TONS_1787.items())):\n",
    "    if cust[0][1] == 'french_flanders':\n",
    "        continue\n",
    "    print('For', cust[0], 'CUST:', cust[1], 'NAVIGO:', navigo[1], '%2f' % (navigo[1] / cust[1]))"
   ]
  },
  {
   "cell_type": "markdown",
   "id": "b962cc9d-f0ff-4636-8fe8-2721291a4604",
   "metadata": {
    "tags": []
   },
   "source": [
    "## Détection des smoggleurs"
   ]
  },
  {
   "cell_type": "code",
   "execution_count": 27,
   "id": "b66ba301-bff8-43b5-934b-1bed0c38ac14",
   "metadata": {},
   "outputs": [],
   "source": [
    "NAVIGO_MINUS_SMUGGLERS = [row for row in NAVIGO if row['destination_uhgs_id'] != FAKE_LISBONNE_UGHS_ID]\n",
    "NAVIGO_GROUPED_MINUS_SMUGGLERS = grouped(NAVIGO_MINUS_SMUGGLERS, key=navigo_group)"
   ]
  },
  {
   "cell_type": "code",
   "execution_count": 28,
   "id": "7c9eaf16-df42-4ff9-b324-0ecc3c581a21",
   "metadata": {},
   "outputs": [
    {
     "data": {
      "text/plain": [
       "{('british', 'french_flanders'): 406,\n",
       " ('british', 'french_other'): 84,\n",
       " ('foreign', 'french_flanders'): 4,\n",
       " ('foreign', 'french_other'): 4}"
      ]
     },
     "execution_count": 28,
     "metadata": {},
     "output_type": "execute_result"
    }
   ],
   "source": [
    "NAVIGO_AGGREGATED_FLOWS_MINUS_SMUGGLERS = {k: len(v) for k, v in NAVIGO_GROUPED_MINUS_SMUGGLERS.items()}\n",
    "NAVIGO_AGGREGATED_FLOWS_MINUS_SMUGGLERS"
   ]
  },
  {
   "cell_type": "code",
   "execution_count": 29,
   "id": "1a8060f0-a921-43db-9aee-abe0d8a789d3",
   "metadata": {},
   "outputs": [
    {
     "data": {
      "text/plain": [
       "{('british', 'french_flanders'): 26382,\n",
       " ('british', 'french_other'): 10152,\n",
       " ('foreign', 'french_flanders'): 415,\n",
       " ('foreign', 'french_other'): 311}"
      ]
     },
     "execution_count": 29,
     "metadata": {},
     "output_type": "execute_result"
    }
   ],
   "source": [
    "NAVIGO_AGGREGATED_TONS_MINUS_SMUGGLERS = {k: sum(int(row['tonnage']) for row in v if row['tonnage']) for k, v in NAVIGO_GROUPED_MINUS_SMUGGLERS.items()}\n",
    "NAVIGO_AGGREGATED_TONS_MINUS_SMUGGLERS"
   ]
  },
  {
   "cell_type": "markdown",
   "id": "688fa5fa-9c28-4855-8324-e8e3ddce0a3d",
   "metadata": {},
   "source": [
    "## Comparaisons sans smoggleurs"
   ]
  },
  {
   "cell_type": "code",
   "execution_count": 30,
   "id": "7d58ed62-cf07-45c9-ad2f-164afc76e48c",
   "metadata": {},
   "outputs": [
    {
     "name": "stdout",
     "output_type": "stream",
     "text": [
      "Flows\n",
      "For ('british', 'french_flanders') CUST: 169 NAVIGO: 406 2.402367\n",
      "For ('foreign', 'french_flanders') CUST: 3 NAVIGO: 4 1.333333\n"
     ]
    }
   ],
   "source": [
    "print('Flows')\n",
    "for cust, navigo in zip(sorted(CUST_AGGREGATED_FLOWS.items()), sorted(NAVIGO_AGGREGATED_FLOWS_MINUS_SMUGGLERS.items())):\n",
    "    if cust[0][1] == 'french_others':\n",
    "        continue\n",
    "    print('For', cust[0], 'CUST:', cust[1], 'NAVIGO:', navigo[1], '%2f' % (navigo[1] / cust[1]))"
   ]
  },
  {
   "cell_type": "code",
   "execution_count": 31,
   "id": "68606a00-215e-4c51-a43c-c211c0b47efd",
   "metadata": {},
   "outputs": [
    {
     "name": "stdout",
     "output_type": "stream",
     "text": [
      "Tons\n",
      "For ('british', 'french_flanders') CUST: 18615 NAVIGO: 26382 1.417244\n",
      "For ('foreign', 'french_flanders') CUST: 450 NAVIGO: 415 0.922222\n"
     ]
    }
   ],
   "source": [
    "print('Tons')\n",
    "for cust, navigo in zip(sorted(CUST_AGGREGATED_TONS.items()), sorted(NAVIGO_AGGREGATED_TONS_MINUS_SMUGGLERS.items())):\n",
    "    if cust[0][1] == 'french_others':\n",
    "        continue\n",
    "    print('For', cust[0], 'CUST:', cust[1], 'NAVIGO:', navigo[1], '%2f' % (navigo[1] / cust[1]))"
   ]
  },
  {
   "cell_type": "markdown",
   "id": "e30c076f-a337-493e-abe3-de3119d706ec",
   "metadata": {},
   "source": [
    "## Exploration des navires surnuméraires"
   ]
  },
  {
   "cell_type": "code",
   "execution_count": 32,
   "id": "9d735e1a-da44-40a1-a27d-3ae2b232c98a",
   "metadata": {},
   "outputs": [
    {
     "data": {
      "text/plain": [
       "<seaborn.axisgrid.FacetGrid at 0x7fc4e1256b50>"
      ]
     },
     "execution_count": 32,
     "metadata": {},
     "output_type": "execute_result"
    },
    {
     "data": {
      "image/png": "[encoded data removed]",
      "text/plain": [
       "<Figure size 360x360 with 1 Axes>"
      ]
     },
     "metadata": {
      "needs_background": "light"
     },
     "output_type": "display_data"
    }
   ],
   "source": [
    "sns.displot(pd.DataFrame(data=NAVIGO_GROUPED_MINUS_SMUGGLERS[('british', 'french_flanders')]), x='tonnage_class')"
   ]
  },
  {
   "cell_type": "code",
   "execution_count": 33,
   "id": "4ebd28b4-126c-40cd-bd64-981002f8bcf3",
   "metadata": {},
   "outputs": [
    {
     "data": {
      "text/plain": [
       "<seaborn.axisgrid.FacetGrid at 0x7fc4f1a23cd0>"
      ]
     },
     "execution_count": 33,
     "metadata": {},
     "output_type": "execute_result"
    },
    {
     "data": {
      "image/png": "[encoded data removed]",
      "text/plain": [
       "<Figure size 360x360 with 1 Axes>"
      ]
     },
     "metadata": {
      "needs_background": "light"
     },
     "output_type": "display_data"
    }
   ],
   "source": [
    "sns.displot(pd.DataFrame(data=NAVIGO_GROUPED_MINUS_SMUGGLERS[('foreign', 'french_flanders')]), x='tonnage_class')"
   ]
  },
  {
   "cell_type": "code",
   "execution_count": 34,
   "id": "fbe3b1d6-cb86-45f8-b394-8605b3ec38b1",
   "metadata": {},
   "outputs": [
    {
     "data": {
      "text/plain": [
       "[('12', 153),\n",
       " ('100', 28),\n",
       " ('110', 24),\n",
       " ('60', 18),\n",
       " ('80', 18),\n",
       " ('70', 14),\n",
       " ('180', 9),\n",
       " ('150', 9),\n",
       " ('130', 8),\n",
       " ('125', 8)]"
      ]
     },
     "execution_count": 34,
     "metadata": {},
     "output_type": "execute_result"
    }
   ],
   "source": [
    "Counter(row['tonnage'] for row in NAVIGO_GROUPED_MINUS_SMUGGLERS[('british', 'french_flanders')]).most_common(10)"
   ]
  },
  {
   "cell_type": "markdown",
   "id": "f1d4aabb-e2a7-4fa7-948d-b666c75b59ca",
   "metadata": {},
   "source": [
    "## Que transportent les bateaux de 12 tonneaux?"
   ]
  },
  {
   "cell_type": "code",
   "execution_count": 35,
   "id": "cc5d0e38-739d-4bea-9687-901b5b674d72",
   "metadata": {},
   "outputs": [
    {
     "data": {
      "text/plain": [
       "Counter({'': 152, 'Etc.': 1})"
      ]
     },
     "execution_count": 35,
     "metadata": {},
     "output_type": "execute_result"
    }
   ],
   "source": [
    "Counter(row['commodity_purpose'] for row in NAVIGO_MINUS_SMUGGLERS if row['tonnage'] == '12')"
   ]
  },
  {
   "cell_type": "markdown",
   "id": "b6f3e061-750b-4a27-9732-a47b985b92a7",
   "metadata": {},
   "source": [
    "## Exploration port par port"
   ]
  },
  {
   "cell_type": "code",
   "execution_count": 36,
   "id": "498a9d96-a52a-4e6f-b1c8-d78421b8bc1d",
   "metadata": {},
   "outputs": [],
   "source": [
    "def navigo_port_group(row):\n",
    "    return (\n",
    "        row['destination_uhgs_id'],\n",
    "        'british' if row['ship_flag_standardized_fr'] == 'britannique' else 'foreign',\n",
    "        'french_flanders' if row['departure_uhgs_id'] in [DUNKERQUE_UHGS_ID, GRAVELINES_UHGS_ID] else 'french_other'\n",
    "    )\n",
    "\n",
    "NAVIGO_GROUPED_PER_PORT = grouped(NAVIGO, key=navigo_port_group)"
   ]
  },
  {
   "cell_type": "code",
   "execution_count": 37,
   "id": "adb0ae70-9b17-4799-9903-4174cb91dda6",
   "metadata": {},
   "outputs": [],
   "source": [
    "CUST_AGGREGATED_FLOWS_PER_PORT = {}\n",
    "\n",
    "for row in CUST:\n",
    "    if row['uhgs_id'] == '#N/A':\n",
    "        continue\n",
    "    \n",
    "    CUST_AGGREGATED_FLOWS_PER_PORT[(row['uhgs_id'], 'british', 'french_flanders')] = int(row['from French Flanders_British vessels_Nb'] or '0')\n",
    "    CUST_AGGREGATED_FLOWS_PER_PORT[(row['uhgs_id'], 'foreign', 'french_flanders')] = int(row['from French Flanders__foreign_vessels_Nb'] or '0')"
   ]
  },
  {
   "cell_type": "code",
   "execution_count": 38,
   "id": "d23ada50-4fd3-4ae2-99a3-b684720dc36d",
   "metadata": {},
   "outputs": [
    {
     "name": "stdout",
     "output_type": "stream",
     "text": [
      "For: London CUST: 75 NAVIGO: 99 0.7575757575757576\n",
      "For: Bristol CUST: 0 NAVIGO: 1 0.0\n",
      "For: Chichester CUST: 0 NAVIGO: 3 0.0\n",
      "For: Colchester CUST: 0 NAVIGO: 3 0.0\n",
      "For: Deal CUST: 0 NAVIGO: 1 0.0\n",
      "For: Dover CUST: 0 NAVIGO: 86 0.0\n",
      "For: Falmouth CUST: 0 NAVIGO: 1 0.0\n",
      "For: Faversham CUST: 0 NAVIGO: 1 0.0\n",
      "For: Harwich CUST: 0 NAVIGO: 31 0.0\n",
      "For: Hull CUST: 0 NAVIGO: 14 0.0\n",
      "For: Ipswich CUST: 0 NAVIGO: 2 0.0\n",
      "For: Lynn Regis CUST: 0 NAVIGO: 11 0.0\n",
      "For: Malden CUST: 0 NAVIGO: 2 0.0\n",
      "For: Newcastle CUST: 0 NAVIGO: 19 0.0\n",
      "For: Newhaven CUST: 0 NAVIGO: 1 0.0\n",
      "For: Padstow CUST: 0 NAVIGO: 10 0.0\n",
      "For: Portsmouth CUST: 0 NAVIGO: 1 0.0\n",
      "For: Rochester CUST: 3 NAVIGO: 3 1.0\n",
      "For: Sandwich CUST: 0 NAVIGO: 4 0.0\n",
      "For: Shoreham CUST: 0 NAVIGO: 2 0.0\n",
      "For: Southampton CUST: 0 NAVIGO: 9 0.0\n",
      "For: Sunderland CUST: 91 NAVIGO: 77 1.1818181818181819\n",
      "For: Weymouth CUST: 0 NAVIGO: 3 0.0\n",
      "For: Whitby CUST: 0 NAVIGO: 1 0.0\n",
      "For: Whitehaven CUST: 0 NAVIGO: 1 0.0\n",
      "For: Woodbridge CUST: 0 NAVIGO: 1 0.0\n",
      "For: Yarmouth CUST: 0 NAVIGO: 19 0.0\n"
     ]
    }
   ],
   "source": [
    "for (cust_uhgs_id, cust_flag, cust_from), count in CUST_AGGREGATED_FLOWS_PER_PORT.items():\n",
    "    if cust_flag != 'british':\n",
    "        continue\n",
    "        \n",
    "    navigo_equivalent = NAVIGO_GROUPED_PER_PORT.get((cust_uhgs_id, cust_flag, cust_from))\n",
    "    \n",
    "    if navigo_equivalent is None or not len(navigo_equivalent):\n",
    "        continue\n",
    "    \n",
    "    port_name = UHGS_ID_TO_PORT_NAME[cust_uhgs_id]\n",
    "    \n",
    "    print('For:', port_name, 'CUST:', count, 'NAVIGO:', len(navigo_equivalent), count / len(navigo_equivalent))"
   ]
  }
 ],
 "metadata": {
  "kernelspec": {
   "display_name": "Python 3 (ipykernel)",
   "language": "python",
   "name": "python3"
  },
  "language_info": {
   "codemirror_mode": {
    "name": "ipython",
    "version": 3
   },
   "file_extension": ".py",
   "mimetype": "text/x-python",
   "name": "python",
   "nbconvert_exporter": "python",
   "pygments_lexer": "ipython3",
   "version": "3.8.5"
  }
 },
 "nbformat": 4,
 "nbformat_minor": 5
}
