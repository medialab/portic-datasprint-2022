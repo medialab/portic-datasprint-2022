{
 "cells": [
  {
   "cell_type": "markdown",
   "id": "969df921",
   "metadata": {},
   "source": [
    "# Exploration des exports vers GB\n",
    "\n",
    "Notebook réalisé dans le cadre d'une discussion stratégique portant sur l'opportunité de numériser les données anglaises (CUST) de 1789. L'objectif est d'évaluer ce qui peut être fait en comparant les données anglaises avec les sources toflit18 pour 1787 et 1789."
   ]
  },
  {
   "cell_type": "code",
   "execution_count": 1,
   "id": "ac058708",
   "metadata": {},
   "outputs": [],
   "source": [
    "from dunkerquesprint import Toflit, Portic\n",
    "\n",
    "client = Toflit()"
   ]
  },
  {
   "cell_type": "markdown",
   "id": "70891fb9",
   "metadata": {},
   "source": [
    "# Exploration des données 1787\n",
    "\n",
    "Résumé : 92 flux d'exports au niveau national vers l'Angleterre, 81 noms de produits au niveau révolution & empire"
   ]
  },
  {
   "cell_type": "code",
   "execution_count": 2,
   "id": "069f4c0b",
   "metadata": {},
   "outputs": [],
   "source": [
    "# get all flows from 1787\n",
    "flows_1787 = client.get_flows(year='1787')"
   ]
  },
  {
   "cell_type": "code",
   "execution_count": 3,
   "id": "7054dc05",
   "metadata": {},
   "outputs": [],
   "source": [
    "# filter to exports to england, recorded at the national level\n",
    "exports_nat_angleterre_1787 = [flow for flow in flows_1787 \n",
    "              if flow['partner_simplification'] == 'Angleterre' \n",
    "              and flow['export_import'] == 'Exports'\n",
    "              and flow['best_guess_national_prodxpart'] == '1'\n",
    "             ]"
   ]
  },
  {
   "cell_type": "code",
   "execution_count": 4,
   "id": "8277a27f",
   "metadata": {},
   "outputs": [
    {
     "name": "stdout",
     "output_type": "stream",
     "text": [
      "Nombre de flux pour les exports par la France vers l'Angleterre en 1787 au niveau national : 92\n"
     ]
    }
   ],
   "source": [
    "print('Nombre de flux pour les exports par la France vers l\\'Angleterre en 1787 au niveau national : ' + str(len(exports_nat_angleterre_1787)))"
   ]
  },
  {
   "cell_type": "code",
   "execution_count": 5,
   "id": "5af47176",
   "metadata": {},
   "outputs": [
    {
     "name": "stdout",
     "output_type": "stream",
     "text": [
      "Liste des produits exportés par la France vers l'Angleterre en 1787 au niveau national, en livres tournois :\n",
      "\n",
      "\n",
      "81 noms de produits au niveau révolution & empire\n",
      "\n",
      "\n",
      "Coton non transformé (7816800.0)\n",
      "Eaux-de-vie et liqueurs (7614000.0)\n",
      "Vins de Bordeaux (5602900.0)\n",
      "Dentelles (2322200.0)\n",
      "Toiles de chanvre et de lin (2189400.0)\n",
      "Tabac (986500.0)\n",
      "Thé (797800.0)\n",
      "Blé et autres grains comestibles (586200.0)\n",
      "Laines non transformées diverses (385400.0)\n",
      "Meubles, glaces et miroirs (326500.0)\n",
      "Fruits frais (324000.0)\n",
      "Sucre (298200.0)\n",
      "Soieries diverses (295900.0)\n",
      "Vins divers (279500.0)\n",
      "Gommes diverses (252200.0)\n",
      "Étoffes de soie (229200.0)\n",
      "Étoffes de laine (222100.0)\n",
      "Graines diverses et mélangées (212600.0)\n",
      "Mousseline, basin et nankin (203400.0)\n",
      "Légumes (200200.0)\n",
      "Ouvrages divers et mélangés (176100.0)\n",
      "Librairie (144700.0)\n",
      "Matières premières diverses (134300.0)\n",
      "Indigo (132800.0)\n",
      "Drogues diverses (132400.0)\n",
      "Cuirs, peaux et pelleterie (127600.0)\n",
      "Verdet (125300.0)\n",
      "Graines de trèfle, de luzerne et de prairie (116800.0)\n",
      "Sel (106600.0)\n",
      "Châles et mouchoirs hors soie (104900.0)\n",
      "Cuivre (93900.0)\n",
      "Provisions diverses (90500.0)\n",
      "Porcelaine, poterie, faïence et ouvrages de terre (85900.0)\n",
      "Cochenille (85800.0)\n",
      "Toiles de coton (85100.0)\n",
      "Animaux (80000.0)\n",
      "Farine, gruau, biscuits et pâtes (75600.0)\n",
      "Savon (75300.0)\n",
      "Papier (74600.0)\n",
      "Soie (74000.0)\n",
      "Fils divers (67000.0)\n",
      "Manne et médicaments (62800.0)\n",
      "Café (62100.0)\n",
      "Textiles manufacturés divers et mélangés (56000.0)\n",
      "Pêche et fruits de mer (55600.0)\n",
      "Chapeaux hors paille et écorce (51500.0)\n",
      "Parfumerie et toilette (50100.0)\n",
      "Mercerie (48900.0)\n",
      "Graines de jardin (44700.0)\n",
      "Huile d'olive à manger (42900.0)\n",
      "Bois divers hors combustible (42500.0)\n",
      "Gants (37400.0)\n",
      "Chevaux et bêtes de somme (35100.0)\n",
      "Toiles diverses (29900.0)\n",
      "Divers incertains (28900.0)\n",
      "Miel (27400.0)\n",
      "Quincaillerie (24700.0)\n",
      "Brai, goudron et résines (20700.0)\n",
      "Sirop et mélasse (19900.0)\n",
      "Métaux divers et mélangés (12000.0)\n",
      "Habits et lingerie (11400.0)\n",
      "Térébenthine (11300.0)\n",
      "Fleurs artificielles et ouvrages de mode (9600.0)\n",
      "Denrées coloniales et épiceries diverses (9300.0)\n",
      "Objets d'art et d'histoire naturelle (7500.0)\n",
      "Bonneterie de soie (7100.0)\n",
      "Alun (6700.0)\n",
      "Verrerie (6700.0)\n",
      "Vin de liqueurs (5800.0)\n",
      "Dorure (5200.0)\n",
      "Garance (5100.0)\n",
      "Huiles diverses (4800.0)\n",
      "Horlogerie (4300.0)\n",
      "Chairs et œufs (3500.0)\n",
      "Cire (3100.0)\n",
      "Fromage (2800.0)\n",
      "Bonneterie hors soie (2600.0)\n",
      "Fer (2300.0)\n",
      "Safran (1600.0)\n",
      "Rubanerie et passementerie de soie (1500.0)\n",
      "Rocou (1000.0)\n"
     ]
    }
   ],
   "source": [
    "# aggregate by products at the \"revolution & empire level\"\n",
    "products_gb_nat_1787 = {}\n",
    "for flow in exports_nat_angleterre_1787:\n",
    "    product = flow['product_revolutionempire']\n",
    "    value = float(flow['value'] if flow['value'] is not None else 0)\n",
    "    if product in products_gb_nat_1787:\n",
    "        products_gb_nat_1787[product] += value\n",
    "    else:\n",
    "        products_gb_nat_1787[product] = value\n",
    "        \n",
    "        \n",
    "products_gb_nat_1787 = [{\"product\": key, \"value\": value} for key, value in products_gb_nat_1787.items()]\n",
    "\n",
    "\n",
    "print('Liste des produits exportés par la France vers l\\'Angleterre en 1787 au niveau national, en livres tournois :')\n",
    "print('\\n')\n",
    "print(str(len(products_gb_nat_1787)) + ' noms de produits au niveau révolution & empire')\n",
    "print('\\n')\n",
    "for p in sorted(products_gb_nat_1787, key=lambda d : -d['value']):\n",
    "    print(p[\"product\"] + ' (' + str(p['value']) + ')')"
   ]
  },
  {
   "cell_type": "markdown",
   "id": "c1049f16",
   "metadata": {},
   "source": [
    "# Exploration des données de 1789\n",
    "\n",
    "Résumé :\n",
    "\n",
    "Au niveau national, 68 flux d'export vers l'Angleterre, 65 noms de produits au niveau révolution & empire\n",
    "\n",
    "Au niveau de Dunkerque, 22 flux d'export vers l'Angleterre, 11 noms de produits au niveau révolution & empire"
   ]
  },
  {
   "cell_type": "code",
   "execution_count": 6,
   "id": "2acf0401",
   "metadata": {},
   "outputs": [],
   "source": [
    "# get all flows from 1789\n",
    "flows_1789 = client.get_flows(year='1789')"
   ]
  },
  {
   "cell_type": "code",
   "execution_count": 7,
   "id": "6e2c2241",
   "metadata": {},
   "outputs": [],
   "source": [
    "# filter to exports to england, recorded at the national level\n",
    "exports_nat_angleterre_1789 = [flow for flow in flows_1789\n",
    "              if flow['partner_simplification'] == 'Angleterre' \n",
    "              and flow['export_import'] == 'Exports'\n",
    "              and flow['best_guess_national_prodxpart'] == '1'\n",
    "             ]"
   ]
  },
  {
   "cell_type": "code",
   "execution_count": 8,
   "id": "0a42c4c1",
   "metadata": {},
   "outputs": [
    {
     "name": "stdout",
     "output_type": "stream",
     "text": [
      "Nombre de flux pour les exports par la France vers l'Angleterre en 1789 au niveau national : 68\n"
     ]
    }
   ],
   "source": [
    "print('Nombre de flux pour les exports par la France vers l\\'Angleterre en 1789 au niveau national : ' + str(len(exports_nat_angleterre_1789)))"
   ]
  },
  {
   "cell_type": "code",
   "execution_count": 9,
   "id": "26b264e2",
   "metadata": {},
   "outputs": [
    {
     "name": "stdout",
     "output_type": "stream",
     "text": [
      "Liste des produits exportés par la France vers l'Angleterre en 1787 au niveau national, en livres tournois :\n",
      "\n",
      "\n",
      "65 noms de produits au niveau révolution & empire\n",
      "\n",
      "\n",
      "Eaux-de-vie et liqueurs (10482000.0)\n",
      "Coton non transformé (10013000.0)\n",
      "Vins de Bordeaux (2903000.0)\n",
      "Toiles de chanvre et de lin (2749000.0)\n",
      "Dentelles (1338000.0)\n",
      "Tabac (585000.0)\n",
      "Gommes diverses (582000.0)\n",
      "Meubles, glaces et miroirs (533000.0)\n",
      "Ouvrages divers et mélangés (364000.0)\n",
      "Étoffes de soie (330000.0)\n",
      "Sirop et mélasse (325000.0)\n",
      "Indigo (312000.0)\n",
      "Thé (284000.0)\n",
      "Porcelaine, poterie, faïence et ouvrages de terre (252000.0)\n",
      "Fruits frais (223000.0)\n",
      "Garance (215000.0)\n",
      "Cuirs, peaux et pelleterie (204000.0)\n",
      "Cuivre (198000.0)\n",
      "Graines de trèfle, de luzerne et de prairie (197000.0)\n",
      "Vins divers (187000.0)\n",
      "Divers incertains (164000.0)\n",
      "Matières premières diverses (157000.0)\n",
      "Sel (155000.0)\n",
      "Étoffes de laine (148000.0)\n",
      "Mousseline, basin et nankin (136000.0)\n",
      "Savon (132000.0)\n",
      "Châles et mouchoirs hors soie (124000.0)\n",
      "Librairie (118000.0)\n",
      "Toiles de coton (100000.0)\n",
      "Sucre (92000.0)\n",
      "Chevaux et bêtes de somme (87000.0)\n",
      "Habits et lingerie (87000.0)\n",
      "Papier (86000.0)\n",
      "Parfumerie et toilette (77000.0)\n",
      "Verdet (72000.0)\n",
      "Mercerie (72000.0)\n",
      "Animaux (68000.0)\n",
      "Argenterie et orfèvrerie (67000.0)\n",
      "Laines non transformées diverses (65000.0)\n",
      "Drogues diverses (60000.0)\n",
      "Gants (59000.0)\n",
      "Provisions diverses (58000.0)\n",
      "Huile d'olive à manger (57000.0)\n",
      "Graines diverses et mélangées (49000.0)\n",
      "Toiles diverses (45000.0)\n",
      "Manne et médicaments (42000.0)\n",
      "Bonneterie de soie (41000.0)\n",
      "Graines de jardin (40000.0)\n",
      "Pêche et fruits de mer (38000.0)\n",
      "Bois divers hors combustible (35000.0)\n",
      "Fils divers (34000.0)\n",
      "Objets d'art et d'histoire naturelle (20000.0)\n",
      "Térébenthine (19000.0)\n",
      "Chapeaux hors paille et écorce (18000.0)\n",
      "Rubanerie et passementerie de soie (18000.0)\n",
      "Fleurs artificielles et ouvrages de mode (16000.0)\n",
      "Café (15000.0)\n",
      "Fer (15000.0)\n",
      "Brai, goudron et résines (14000.0)\n",
      "Étoffes diverses (14000.0)\n",
      "Soieries diverses (14000.0)\n",
      "Horlogerie (14000.0)\n",
      "Verrerie (13000.0)\n",
      "Quincaillerie (12000.0)\n",
      "Safran (11000.0)\n"
     ]
    }
   ],
   "source": [
    "# aggregate by products at the \"revolution & empire level\"\n",
    "products_gb_nat_1789 = {}\n",
    "for flow in exports_nat_angleterre_1789:\n",
    "    product = flow['product_revolutionempire']\n",
    "    value = float(flow['value'] if flow['value'] is not None else 0)\n",
    "    if product in products_gb_nat_1789:\n",
    "        products_gb_nat_1789[product] += value\n",
    "    else:\n",
    "        products_gb_nat_1789[product] = value\n",
    "        \n",
    "        \n",
    "products_gb_nat_1789 = [{\"product\": key, \"value\": value} for key, value in products_gb_nat_1789.items()]\n",
    "\n",
    "\n",
    "print('Liste des produits exportés par la France vers l\\'Angleterre en 1787 au niveau national, en livres tournois :')\n",
    "print('\\n')\n",
    "print(str(len(products_gb_nat_1789)) + ' noms de produits au niveau révolution & empire')\n",
    "print('\\n')\n",
    "for p in sorted(products_gb_nat_1789, key=lambda d : -d['value']):\n",
    "    print(p[\"product\"] + ' (' + str(p['value']) + ')')"
   ]
  },
  {
   "cell_type": "code",
   "execution_count": 10,
   "id": "940f8dcd",
   "metadata": {},
   "outputs": [
    {
     "name": "stdout",
     "output_type": "stream",
     "text": [
      "Nombre de flux pour les exports par la France vers l'Angleterre en 1789 au niveau de la direction des fermes de Flandre : 26\n"
     ]
    }
   ],
   "source": [
    "# filter to exports to england, recorded at the level of Flandres\n",
    "exports_dunkerque_angleterre_1789 = [flow for flow in flows_1789\n",
    "              if flow['partner_simplification'] == 'Angleterre' \n",
    "              and flow['export_import'] == 'Exports'\n",
    "              and flow['customs_region'] == 'Flandre'\n",
    "              and flow['best_guess_region_prodxpart'] == '1'\n",
    "             ]\n",
    "print('Nombre de flux pour les exports par la France vers l\\'Angleterre en 1789 au niveau de la direction des fermes de Flandre : ' + str(len(exports_dunkerque_angleterre_1789)))"
   ]
  },
  {
   "cell_type": "code",
   "execution_count": 11,
   "id": "99a0c9de",
   "metadata": {},
   "outputs": [
    {
     "name": "stdout",
     "output_type": "stream",
     "text": [
      "Nombre de flux pour les exports par la France vers l'Angleterre en 1789 au niveau du bureau des fermes de Dunkerque : 22\n"
     ]
    }
   ],
   "source": [
    "# filter to exports to england, recorded at the level of Dunkerque\n",
    "exports_dunkerque_angleterre_1789 = [flow for flow in flows_1789\n",
    "              if flow['partner_simplification'] == 'Angleterre' \n",
    "              and flow['export_import'] == 'Exports'\n",
    "              and flow['customs_office'] == 'Dunkerque'\n",
    "              and flow['best_guess_region_prodxpart'] == '1'\n",
    "             ]\n",
    "print('Nombre de flux pour les exports par la France vers l\\'Angleterre en 1789 au niveau du bureau des fermes de Dunkerque : ' + str(len(exports_dunkerque_angleterre_1789)))"
   ]
  },
  {
   "cell_type": "code",
   "execution_count": 12,
   "id": "281ab754",
   "metadata": {},
   "outputs": [
    {
     "name": "stdout",
     "output_type": "stream",
     "text": [
      "Liste des produits exportés par le bureau des fermes de Dunkerque vers l'Angleterre en 1789, en livres tournois :\n",
      "\n",
      "\n",
      "11 noms de produits au niveau révolution & empire\n",
      "\n",
      "\n",
      "Dentelles (736125.0)\n",
      "Vins divers (43005.0)\n",
      "Toiles de chanvre et de lin (35046.0)\n",
      "Produits inconnus (29857.0)\n",
      "Porcelaine, poterie, faïence et ouvrages de terre (19230.0)\n",
      "Étoffes de laine (10228.0)\n",
      "Matières premières diverses (5525.0)\n",
      "Rubanerie et passementerie de soie (3360.0)\n",
      "Plumes ouvrées (2150.0)\n",
      "Plumes brutes (300.0)\n",
      "Cacao et chocolat (240.0)\n"
     ]
    }
   ],
   "source": [
    "# aggregate by products at the \"revolution & empire level\"\n",
    "products_gb_dunk_1789 = {}\n",
    "for flow in exports_dunkerque_angleterre_1789:\n",
    "    product = flow['product_revolutionempire']\n",
    "    value = float(flow['value'] if flow['value'] is not None else 0)\n",
    "    if product in products_gb_dunk_1789:\n",
    "        products_gb_dunk_1789[product] += value\n",
    "    else:\n",
    "        products_gb_dunk_1789[product] = value\n",
    "        \n",
    "        \n",
    "products_gb_dunk_1789 = [{\"product\": key, \"value\": value} for key, value in products_gb_dunk_1789.items()]\n",
    "\n",
    "\n",
    "print('Liste des produits exportés par le bureau des fermes de Dunkerque vers l\\'Angleterre en 1789, en livres tournois :')\n",
    "print('\\n')\n",
    "print(str(len(products_gb_dunk_1789)) + ' noms de produits au niveau révolution & empire')\n",
    "print('\\n')\n",
    "for p in sorted(products_gb_dunk_1789, key=lambda d : -d['value']):\n",
    "    print(p[\"product\"] + ' (' + str(p['value']) + ')')"
   ]
  }
 ],
 "metadata": {
  "kernelspec": {
   "display_name": "Python 3 (ipykernel)",
   "language": "python",
   "name": "python3"
  },
  "language_info": {
   "codemirror_mode": {
    "name": "ipython",
    "version": 3
   },
   "file_extension": ".py",
   "mimetype": "text/x-python",
   "name": "python",
   "nbconvert_exporter": "python",
   "pygments_lexer": "ipython3",
   "version": "3.7.7"
  }
 },
 "nbformat": 4,
 "nbformat_minor": 5
}
