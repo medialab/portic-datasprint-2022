{
 "cells": [
  {
   "cell_type": "code",
   "execution_count": null,
   "id": "aa751e41-a63b-4525-a950-97c9d86f75f5",
   "metadata": {},
   "outputs": [],
   "source": [
    "from IPython.display import display\n",
    "import pandas as pd\n",
    "\n",
    "def VegaLite(spec):\n",
    "    bundle = {}\n",
    "    bundle['application/vnd.vegalite.v4+json'] = spec\n",
    "    display(bundle, raw=True)"
   ]
  },
  {
   "cell_type": "code",
   "execution_count": null,
   "id": "2d6a8fd8-1384-46cf-aecf-18d03d95a3b8",
   "metadata": {},
   "outputs": [],
   "source": [
    "import json\n",
    "\n",
    "with open(\"data/export_dunkerque_entreprôt.json\", \"r\") as f:\n",
    "    report_dk = json.load(f)"
   ]
  },
  {
   "cell_type": "code",
   "execution_count": null,
   "id": "62521f5c-4e48-45fc-b4a0-92a5e759dfd8",
   "metadata": {},
   "outputs": [],
   "source": [
    "data_dunkerque = {\"Dunkerque\": report_dk}"
   ]
  },
  {
   "cell_type": "code",
   "execution_count": null,
   "id": "20855502-91ae-4478-bf88-68385eaad198",
   "metadata": {},
   "outputs": [],
   "source": [
    "VegaLite({\n",
    "  \"title\": \"Répartition des imports/exports de Dunkerque en 1789 par produits (SITC simpl)\",\n",
    "  \"data\": {\"values\": report_dk},\n",
    "  \"mark\": {\"type\":\"bar\", \"tooltip\": {\"content\": \"data\"}},\n",
    "  \"encoding\": {\n",
    "    \"x\": {\"field\": \"value\", \"type\": \"quantitative\", \"title\": \"Valeur (Lt)\"},\n",
    "    \"column\": {\"field\": \"group\"},\n",
    "    \"y\": {\"field\": \"product\", \"sort\": \"-x\", \"title\": \"Produits\"},\n",
    "    \"color\": {\"field\": \"partner\"}\n",
    "  }\n",
    "})"
   ]
  },
  {
   "cell_type": "code",
   "execution_count": null,
   "id": "fd840532-1429-4b88-a7a0-f3ce2665366b",
   "metadata": {},
   "outputs": [],
   "source": [
    "def pyramide_port_franc(port_franc, data):\n",
    "    report = data[port_franc]\n",
    "    VegaLite({\n",
    "      \"title\": \"Répartition des imports/exports de {} en 1789 par produits (SITC simpl)\".format(port_franc),\n",
    "      \"data\": {\"values\": report},\n",
    "      \"spacing\": 0,\n",
    "      \"hconcat\": [{\n",
    "        \"transform\": [{\n",
    "          \"filter\": {\"field\": \"group\", \"equal\": \"import\"}\n",
    "        }],\n",
    "        \"title\": \"import\",\n",
    "        \"mark\": {\"type\":\"bar\", \"tooltip\": {\"content\": \"data\"}},\n",
    "        \"encoding\": {\n",
    "          \"y\": {\n",
    "            \"field\": \"product\", \"title\": None, \"sort\": \"-x\"\n",
    "          },\n",
    "          \"x\": {\n",
    "            \"field\": \"value\",\n",
    "            \"type\": \"quantitative\",\n",
    "            \"title\": \"Valeur (Lt)\",\n",
    "              \"sort\": \"descending\"\n",
    "          },\n",
    "          \"color\": {\n",
    "            \"field\": \"partner\",\n",
    "          }\n",
    "        }\n",
    "      },\n",
    "      {\n",
    "        \"transform\": [{\n",
    "          \"filter\": {\"field\": \"group\", \"equal\": \"export\"}\n",
    "        }],\n",
    "        \"title\": \"export\",\n",
    "        \"mark\": {\"type\":\"bar\", \"tooltip\": {\"content\": \"data\"}},\n",
    "        \"encoding\": {\n",
    "          \"y\": {\n",
    "            \"field\": \"product\", \"sort\": \"-x\", \"title\": None, \"axis\": None\n",
    "\n",
    "          },\n",
    "          \"x\": {\n",
    "            \"field\": \"value\",\n",
    "            \"type\": \"quantitative\",\n",
    "            \"title\": \"Valeur (Lt)\",\n",
    "            \"sort\": \"ascending\"\n",
    "          },\n",
    "          \"color\": {\n",
    "            \"field\": \"partner\",\n",
    "          }\n",
    "        }\n",
    "      }\n",
    "      ]\n",
    "    }\n",
    "    )"
   ]
  },
  {
   "cell_type": "code",
   "execution_count": null,
   "id": "e5536b8c-a4ea-4e73-9a47-ff4a0f762ef7",
   "metadata": {},
   "outputs": [],
   "source": [
    "pyramide_port_franc(\"Dunkerque\", data_dunkerque)"
   ]
  },
  {
   "cell_type": "code",
   "execution_count": null,
   "id": "5f22ba2c-f497-4743-9d5d-cca7e2aad10d",
   "metadata": {},
   "outputs": [],
   "source": []
  },
  {
   "cell_type": "code",
   "execution_count": null,
   "id": "6169eee7-7b08-4d7f-b6c1-0d6853797296",
   "metadata": {},
   "outputs": [],
   "source": []
  }
 ],
 "metadata": {
  "kernelspec": {
   "display_name": "Python 3 (ipykernel)",
   "language": "python",
   "name": "python3"
  },
  "language_info": {
   "codemirror_mode": {
    "name": "ipython",
    "version": 3
   },
   "file_extension": ".py",
   "mimetype": "text/x-python",
   "name": "python",
   "nbconvert_exporter": "python",
   "pygments_lexer": "ipython3",
   "version": "3.8.0"
  }
 },
 "nbformat": 4,
 "nbformat_minor": 5
}
