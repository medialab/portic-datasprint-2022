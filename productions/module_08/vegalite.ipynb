{
 "cells": [
  {
   "cell_type": "code",
   "execution_count": null,
   "id": "aa751e41-a63b-4525-a950-97c9d86f75f5",
   "metadata": {},
   "outputs": [],
   "source": [
    "from IPython.display import display\n",
    "import pandas as pd\n",
    "\n",
    "def VegaLite(spec):\n",
    "    bundle = {}\n",
    "    bundle['application/vnd.vegalite.v4+json'] = spec\n",
    "    display(bundle, raw=True)"
   ]
  },
  {
   "cell_type": "code",
   "execution_count": null,
   "id": "cb0a0cea-55ad-47b2-9aef-fe6fa145c2af",
   "metadata": {},
   "outputs": [],
   "source": [
    "report_dk = [{\"value\": 27, \"product\": \"Subsistances\", \"destination\": \"fr\"}, \n",
    "             {\"value\": 7, \"product\": \"Subsistances\", \"destination\": \"colonies\"}, \n",
    "             {\"value\": 37, \"product\": \"Matières premières\", \"destination\": \"fr\"}, \n",
    "             {\"value\": 70, \"product\": \"Matières premières\", \"destination\": \"colonies\"}, \n",
    "             {\"value\": 20, \"product\": \"Drogues\", \"destination\": \"fr\"}, \n",
    "             {\"value\": 29, \"product\": \"Drogues\", \"destination\": \"colonies\"}, \n",
    "            ]\n",
    "my_other_source = [{\"value\": 27, \"product\": \"Subsistances\", \"destination\": \"fr\"}, \n",
    "             {\"value\": 7, \"product\": \"Subsistances\", \"destination\": \"colonies\"}, \n",
    "             {\"value\": 20, \"product\": \"Matières premières\", \"destination\": \"fr\"}, \n",
    "             {\"value\": 70, \"product\": \"Matières premières\", \"destination\": \"other_field\"}, \n",
    "             {\"value\": 40, \"product\": \"Drogues\", \"destination\": \"fr\"}, \n",
    "             {\"value\": 32, \"product\": \"Drogues\", \"destination\": \"other_field\"}, \n",
    "            ]"
   ]
  },
  {
   "cell_type": "code",
   "execution_count": null,
   "id": "f74f241e-7ce2-4ddd-8c86-67f8d6d8da90",
   "metadata": {},
   "outputs": [],
   "source": [
    "for row in report_dk:\n",
    "    row[\"group\"] = \"import\"\n",
    "for row in my_other_source:\n",
    "    row[\"group\"] = \"export\"\n",
    "all_data = report_dk + my_other_source"
   ]
  },
  {
   "cell_type": "code",
   "execution_count": null,
   "id": "2d6a8fd8-1384-46cf-aecf-18d03d95a3b8",
   "metadata": {},
   "outputs": [],
   "source": [
    "import json\n",
    "\n",
    "with open(\"data/export_dunkerque_entreprôt.json\", \"r\") as f:\n",
    "    report_dk = json.load(f)"
   ]
  },
  {
   "cell_type": "code",
   "execution_count": null,
   "id": "62521f5c-4e48-45fc-b4a0-92a5e759dfd8",
   "metadata": {},
   "outputs": [],
   "source": [
    "all_data[:2]"
   ]
  },
  {
   "cell_type": "code",
   "execution_count": null,
   "id": "20855502-91ae-4478-bf88-68385eaad198",
   "metadata": {},
   "outputs": [],
   "source": [
    "VegaLite({\n",
    "  \"title\": \"Répartition des exports depuis Dunkerque par destination\",\n",
    "  \"data\": {\"values\": all_data},\n",
    "  \"mark\": {\"type\":\"bar\", \"tooltip\": {\"content\": \"data\"}},\n",
    "  \"encoding\": {\n",
    "    \"x\": {\"field\": \"value\", \"type\": \"quantitative\", \"title\": \"Valeur (Lt)\"},\n",
    "    \"column\": {\"field\": \"group\"},\n",
    "    \"y\": {\"field\": \"product\", \"sort\": \"-x\", \"title\": \"Produits\"},\n",
    "    \"color\": {\"field\": \"destination\"}\n",
    "  }\n",
    "})"
   ]
  },
  {
   "cell_type": "code",
   "execution_count": null,
   "id": "e5536b8c-a4ea-4e73-9a47-ff4a0f762ef7",
   "metadata": {},
   "outputs": [],
   "source": [
    "VegaLite({\n",
    "  \"title\": \"Répartition des exports depuis Dunkerque par destination\",\n",
    "  \"data\": {\"values\": all_data},\n",
    "  \"spacing\": 0,\n",
    "  \"hconcat\": [{\n",
    "    \"transform\": [{\n",
    "      \"filter\": {\"field\": \"group\", \"equal\": \"export\"}\n",
    "    }],\n",
    "    \"title\": \"export\",\n",
    "    \"mark\": \"bar\",\n",
    "    \"encoding\": {\n",
    "      \"y\": {\n",
    "        \"field\": \"product\", \"axis\": None, \"sort\": \"-x\", \"title\": None\n",
    "      },\n",
    "      \"x\": {\n",
    "        \"field\": \"value\",\n",
    "        \"type\": \"quantitative\",\n",
    "        \"title\": \"Valeur (Lt)\",\n",
    "        \"sort\": \"descending\"\n",
    "      },\n",
    "      \"color\": {\n",
    "        \"field\": \"destination\",\n",
    "      }\n",
    "    }\n",
    "  }, {\n",
    "    \"transform\": [{\n",
    "      \"filter\": {\"field\": \"group\", \"equal\": \"import\"}\n",
    "    }],\n",
    "    \"title\": \"import\",\n",
    "    \"mark\": \"bar\",\n",
    "    \"encoding\": {\n",
    "      \"y\": {\n",
    "        \"field\": \"product\", \"title\": None,\n",
    "        \"axis\": None, \"sort\": \"-x\"\n",
    "      },\n",
    "      \"x\": {\n",
    "        \"field\": \"value\",\n",
    "        \"type\": \"quantitative\",\n",
    "        \"title\": \"Valeur (Lt)\"\n",
    "      },\n",
    "      \"color\": {\n",
    "        \"field\": \"destination\",\n",
    "      }\n",
    "    }\n",
    "  }]\n",
    "}\n",
    ")"
   ]
  },
  {
   "cell_type": "code",
   "execution_count": null,
   "id": "6169eee7-7b08-4d7f-b6c1-0d6853797296",
   "metadata": {},
   "outputs": [],
   "source": []
  }
 ],
 "metadata": {
  "kernelspec": {
   "display_name": "Python 3 (ipykernel)",
   "language": "python",
   "name": "python3"
  },
  "language_info": {
   "codemirror_mode": {
    "name": "ipython",
    "version": 3
   },
   "file_extension": ".py",
   "mimetype": "text/x-python",
   "name": "python",
   "nbconvert_exporter": "python",
   "pygments_lexer": "ipython3",
   "version": "3.8.0"
  }
 },
 "nbformat": 4,
 "nbformat_minor": 5
}
