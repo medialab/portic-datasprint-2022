{
 "cells": [
  {
   "cell_type": "code",
   "execution_count": 5,
   "id": "aa751e41-a63b-4525-a950-97c9d86f75f5",
   "metadata": {},
   "outputs": [],
   "source": [
    "from IPython.display import display\n",
    "import pandas as pd\n",
    "\n",
    "def VegaLite(spec):\n",
    "    bundle = {}\n",
    "    bundle['application/vnd.vegalite.v4+json'] = spec\n",
    "    display(bundle, raw=True)"
   ]
  },
  {
   "cell_type": "code",
   "execution_count": 3,
   "id": "cb0a0cea-55ad-47b2-9aef-fe6fa145c2af",
   "metadata": {},
   "outputs": [],
   "source": [
    "report_dk = [{\"value\": 27, \"product\": \"Subsistances\", \"destination\": \"fr\"}, \n",
    "             {\"value\": 7, \"product\": \"Subsistances\", \"destination\": \"colonies\"}, \n",
    "             {\"value\": 37, \"product\": \"Matières premières\", \"destination\": \"fr\"}, \n",
    "             {\"value\": 70, \"product\": \"Matières premières\", \"destination\": \"colonies\"}, \n",
    "             {\"value\": 20, \"product\": \"Drogues\", \"destination\": \"fr\"}, \n",
    "             {\"value\": 29, \"product\": \"Drogues\", \"destination\": \"colonies\"}, \n",
    "            ]"
   ]
  },
  {
   "cell_type": "code",
   "execution_count": 16,
   "id": "2d6a8fd8-1384-46cf-aecf-18d03d95a3b8",
   "metadata": {},
   "outputs": [],
   "source": [
    "import json\n",
    "\n",
    "with open(\"data/export_dunkerque_entreprôt.json\", \"r\") as f:\n",
    "    report_dk = json.load(f)"
   ]
  },
  {
   "cell_type": "code",
   "execution_count": 18,
   "id": "62521f5c-4e48-45fc-b4a0-92a5e759dfd8",
   "metadata": {},
   "outputs": [
    {
     "data": {
      "text/plain": [
       "[{'value': 14934610.600140002,\n",
       "  'product': 'Subsistances',\n",
       "  'destination': 'entrepôt'},\n",
       " {'value': 15432.399860000001,\n",
       "  'product': 'Subsistances',\n",
       "  'destination': 'France'}]"
      ]
     },
     "execution_count": 18,
     "metadata": {},
     "output_type": "execute_result"
    }
   ],
   "source": [
    "report_dk[:2]"
   ]
  },
  {
   "cell_type": "code",
   "execution_count": 24,
   "id": "20855502-91ae-4478-bf88-68385eaad198",
   "metadata": {},
   "outputs": [
    {
     "data": {
      "application/vnd.vegalite.v4+json": {
       "data": {
        "values": [
         {
          "destination": "entrepôt",
          "product": "Subsistances",
          "value": 14934610.600140002
         },
         {
          "destination": "France",
          "product": "Subsistances",
          "value": 15432.399860000001
         },
         {
          "destination": "colonies ou re-exp",
          "product": "Subsistances",
          "value": 4175686
         },
         {
          "destination": "entrepôt",
          "product": "Matières premières",
          "value": 5275812.000006
         },
         {
          "destination": "France",
          "product": "Matières premières",
          "value": 10319.999994
         },
         {
          "destination": "colonies ou re-exp",
          "product": "Matières premières",
          "value": 904212
         },
         {
          "destination": "entrepôt",
          "product": "Drogues",
          "value": 80596
         },
         {
          "destination": "France",
          "product": "Drogues",
          "value": 241
         },
         {
          "destination": "colonies ou re-exp",
          "product": "Drogues",
          "value": 5542
         },
         {
          "destination": "entrepôt",
          "product": "Divers",
          "value": 590607
         },
         {
          "destination": "France",
          "product": "Divers",
          "value": 937
         },
         {
          "destination": "colonies ou re-exp",
          "product": "Divers",
          "value": 1108
         },
         {
          "destination": "entrepôt",
          "product": "Industrie française et étrangère",
          "value": 2865507.58014371
         },
         {
          "destination": "France",
          "product": "Industrie française et étrangère",
          "value": 11241.419856289998
         },
         {
          "destination": "colonies ou re-exp",
          "product": "Industrie française et étrangère",
          "value": 315963
         },
         {
          "destination": "entrepôt",
          "product": "Métaux",
          "value": 144751.4998655
         },
         {
          "destination": "France",
          "product": "Métaux",
          "value": 5984.500134499999
         },
         {
          "destination": "colonies ou re-exp",
          "product": "Métaux",
          "value": 1150
         },
         {
          "destination": "entrepôt",
          "product": "Drogues médicinales",
          "value": 71659
         },
         {
          "destination": "France",
          "product": "Drogues médicinales",
          "value": 153
         },
         {
          "destination": "colonies ou re-exp",
          "product": "Drogues médicinales",
          "value": 4660
         },
         {
          "destination": "entrepôt",
          "product": "Objets manufacturés",
          "value": 12922601.40022
         },
         {
          "destination": "France",
          "product": "Objets manufacturés",
          "value": 21101.59978
         },
         {
          "destination": "colonies ou re-exp",
          "product": "Objets manufacturés",
          "value": 563257
         },
         {
          "destination": "entrepôt",
          "product": "Matières d'or et d'argent",
          "value": 456
         },
         {
          "destination": "France",
          "product": "Matières d'or et d'argent",
          "value": 0
         },
         {
          "destination": "colonies ou re-exp",
          "product": "Matières d'or et d'argent",
          "value": 450
         },
         {
          "destination": "entrepôt",
          "product": "Bêtes de somme",
          "value": 7900
         },
         {
          "destination": "France",
          "product": "Bêtes de somme",
          "value": 0
         },
         {
          "destination": "colonies ou re-exp",
          "product": "Bêtes de somme",
          "value": 0
         }
        ]
       },
       "encoding": {
        "color": {
         "field": "destination"
        },
        "x": {
         "field": "value",
         "scale": {
          "type": "log"
         },
         "title": "Valeur (Lt)",
         "type": "quantitative"
        },
        "y": {
         "field": "product",
         "sort": "-x",
         "title": "Produits"
        }
       },
       "mark": {
        "tooltip": {
         "content": "data"
        },
        "type": "bar"
       },
       "title": "Répartition des exports depuis Dunkerque par destination"
      },
      "image/png": "[encoded data removed]"
     },
     "metadata": {},
     "output_type": "display_data"
    }
   ],
   "source": [
    "VegaLite({\n",
    "  \"title\": \"Répartition des exports depuis Dunkerque par destination\",\n",
    "  \"data\": {\"values\": report_dk},\n",
    "  \"mark\": {\"type\":\"bar\", \"tooltip\": {\"content\": \"data\"}},\n",
    "  \"encoding\": {\n",
    "    \"x\": {\"field\": \"value\", \"type\": \"quantitative\", \"title\": \"Valeur (Lt)\", \"scale\": {\"type\": \"log\"}},\n",
    "    \"y\": {\"field\": \"product\", \"sort\": \"-x\", \"title\": \"Produits\"},\n",
    "    \"color\": {\"field\": \"destination\"}\n",
    "  }\n",
    "})"
   ]
  },
  {
   "cell_type": "code",
   "execution_count": null,
   "id": "e5536b8c-a4ea-4e73-9a47-ff4a0f762ef7",
   "metadata": {},
   "outputs": [],
   "source": []
  }
 ],
 "metadata": {
  "kernelspec": {
   "display_name": "Python 3 (ipykernel)",
   "language": "python",
   "name": "python3"
  },
  "language_info": {
   "codemirror_mode": {
    "name": "ipython",
    "version": 3
   },
   "file_extension": ".py",
   "mimetype": "text/x-python",
   "name": "python",
   "nbconvert_exporter": "python",
   "pygments_lexer": "ipython3",
   "version": "3.8.0"
  }
 },
 "nbformat": 4,
 "nbformat_minor": 5
}
