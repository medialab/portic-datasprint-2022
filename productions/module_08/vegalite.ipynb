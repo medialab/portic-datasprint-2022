{
 "cells": [
  {
   "cell_type": "code",
   "execution_count": null,
   "id": "aa751e41-a63b-4525-a950-97c9d86f75f5",
   "metadata": {},
   "outputs": [],
   "source": [
    "from IPython.display import display\n",
    "import pandas as pd\n",
    "\n",
    "def VegaLite(spec):\n",
    "    bundle = {}\n",
    "    bundle['application/vnd.vegalite.v4+json'] = spec\n",
    "    display(bundle, raw=True)"
   ]
  },
  {
   "cell_type": "code",
   "execution_count": 179,
   "id": "2d6a8fd8-1384-46cf-aecf-18d03d95a3b8",
   "metadata": {},
   "outputs": [],
   "source": [
    "import json\n",
    "\n",
    "with open(\"data/import_export_ports_francs.json\", \"r\") as f:\n",
    "    data = json.load(f)"
   ]
  },
  {
   "cell_type": "code",
   "execution_count": null,
   "id": "168831b6-8c13-4191-b815-96b8e2527aba",
   "metadata": {},
   "outputs": [],
   "source": [
    "data_dk = {\"Dunkerque\": data}"
   ]
  },
  {
   "cell_type": "code",
   "execution_count": null,
   "id": "20855502-91ae-4478-bf88-68385eaad198",
   "metadata": {},
   "outputs": [],
   "source": [
    "VegaLite({\n",
    "  \"title\": \"Répartition des imports/exports de Dunkerque en 1789 par produits (SITC simpl)\",\n",
    "  \"data\": {\"values\": data},\n",
    "  \"mark\": {\"type\":\"bar\", \"tooltip\": {\"content\": \"data\"}},\n",
    "  \"encoding\": {\n",
    "    \"x\": {\"field\": \"value\", \"type\": \"quantitative\", \"title\": \"Valeur (Lt)\"},\n",
    "    \"column\": {\"field\": \"group\"},\n",
    "    \"y\": {\"field\": \"product\", \"sort\": \"-x\", \"title\": \"Produits\"},\n",
    "    \"color\": {\"field\": \"partner\"}\n",
    "  }\n",
    "})"
   ]
  },
  {
   "cell_type": "code",
   "execution_count": null,
   "id": "fd840532-1429-4b88-a7a0-f3ce2665366b",
   "metadata": {},
   "outputs": [],
   "source": [
    "def pyramide_port_franc(port_franc, data):\n",
    "    report = data[port_franc]\n",
    "    VegaLite({\n",
    "      \"title\": \"Répartition des imports/exports de {} en 1789 par produits (SITC simpl)\".format(port_franc),\n",
    "      \"data\": {\"values\": report},\n",
    "      \"spacing\": 0,\n",
    "      \"hconcat\": [{\n",
    "        \"transform\": [{\n",
    "          \"filter\": {\"field\": \"group\", \"equal\": \"import\"}\n",
    "        }],\n",
    "        \"title\": \"import\",\n",
    "        \"mark\": {\"type\":\"bar\", \"tooltip\": {\"content\": \"data\"}},\n",
    "        \"encoding\": {\n",
    "          \"y\": {\n",
    "            \"field\": \"product\", \"title\": None, \"sort\": \"-x\"\n",
    "          },\n",
    "          \"x\": {\n",
    "            \"field\": \"value\",\n",
    "            \"type\": \"quantitative\",\n",
    "            \"title\": \"Valeur (Lt)\",\n",
    "              \"sort\": \"descending\"\n",
    "          },\n",
    "          \"color\": {\n",
    "            \"field\": \"partner\",\n",
    "          }\n",
    "        }\n",
    "      },\n",
    "      {\n",
    "        \"transform\": [{\n",
    "          \"filter\": {\"field\": \"group\", \"equal\": \"export\"}\n",
    "        }],\n",
    "        \"title\": \"export\",\n",
    "        \"mark\": {\"type\":\"bar\", \"tooltip\": {\"content\": \"data\"}},\n",
    "        \"encoding\": {\n",
    "          \"y\": {\n",
    "            \"field\": \"product\", \"sort\": \"-x\", \"title\": None, \"axis\": None\n",
    "\n",
    "          },\n",
    "          \"x\": {\n",
    "            \"field\": \"value\",\n",
    "            \"type\": \"quantitative\",\n",
    "            \"title\": \"Valeur (Lt)\",\n",
    "            \"sort\": \"ascending\"\n",
    "          },\n",
    "          \"color\": {\n",
    "            \"field\": \"partner\",\n",
    "          }\n",
    "        }\n",
    "      },\n",
    "      {\n",
    "      \"title\": \"valeurs totales\",\n",
    "      \"mark\": {\"type\":\"bar\", \"tooltip\": {\"content\": \"data\"}},\n",
    "      \"encoding\": {\n",
    "        \"x\": {\"field\": \"value\", \"type\": \"quantitative\", \"title\": \"Valeur (Lt)\"},\n",
    "        \"y\": {\"field\": \"partner\", \"sort\": \"-x\", \"title\": \"Partner\"},\n",
    "        \"color\": {\"field\": \"partner\"},\n",
    "        \"column\": {\"field\": \"group\"},\n",
    "      }\n",
    "      }\n",
    "      ]\n",
    "    }\n",
    "    )"
   ]
  },
  {
   "cell_type": "code",
   "execution_count": null,
   "id": "e5536b8c-a4ea-4e73-9a47-ff4a0f762ef7",
   "metadata": {},
   "outputs": [],
   "source": [
    "pyramide_port_franc(\"Dunkerque\", data_dk)"
   ]
  },
  {
   "cell_type": "code",
   "execution_count": 186,
   "id": "0c46e8b3-4b0b-48f7-9102-0576468e9942",
   "metadata": {},
   "outputs": [],
   "source": [
    "def pyramide_port_franc(port_franc, data):\n",
    "    report = data[port_franc]\n",
    "    VegaLite({\n",
    "      \"title\": \"Répartition des imports/exports de {} en 1789 par produits (SITC simpl)\".format(port_franc),\n",
    "      \"data\": {\"values\": report},\n",
    "      \"spacing\": 0,\n",
    "      \"vconcat\": [{\"hconcat\": [{\n",
    "            \"transform\": [{\n",
    "              \"filter\": {\"field\": \"group\", \"equal\": \"import\"}\n",
    "            }],\n",
    "            \"title\": \"import\",\n",
    "            \"mark\": {\"type\":\"bar\", \"tooltip\": {\"content\": \"data\"}},\n",
    "            \"encoding\": {\n",
    "              \"y\": {\n",
    "                \"field\": \"product\", \"title\": None, \"sort\": \"-x\"\n",
    "              },\n",
    "              \"x\": {\n",
    "                \"field\": \"value\",\n",
    "                \"type\": \"quantitative\",\n",
    "                \"title\": \"Valeur (Lt)\",\n",
    "                  \"sort\": \"descending\"\n",
    "              },\n",
    "              \"color\": {\n",
    "                \"field\": \"partner\",\n",
    "              }\n",
    "            }\n",
    "          },\n",
    "          {\n",
    "            \"transform\": [{\n",
    "              \"filter\": {\"field\": \"group\", \"equal\": \"export\"}\n",
    "            }],\n",
    "            \"title\": \"export\",\n",
    "            \"mark\": {\"type\":\"bar\", \"tooltip\": {\"content\": \"data\"}},\n",
    "            \"encoding\": {\n",
    "              \"y\": {\n",
    "                \"field\": \"product\", \"sort\": \"-x\", \"title\": None, \"axis\": None\n",
    "\n",
    "              },\n",
    "              \"x\": {\n",
    "                \"field\": \"value\",\n",
    "                \"type\": \"quantitative\",\n",
    "                \"title\": \"Valeur (Lt)\",\n",
    "                \"sort\": \"ascending\"\n",
    "              },\n",
    "              \"color\": {\n",
    "                \"field\": \"partner\",\n",
    "              }\n",
    "            }\n",
    "          }\n",
    "          ]}, {\"hconcat\": [{\n",
    "            \"transform\": [\n",
    "                {\n",
    "              \"filter\": {\"field\": \"group\", \"equal\": \"import\"}\n",
    "            },\n",
    "            {\n",
    "                  \"aggregate\": [{\n",
    "                   \"op\": \"sum\",\n",
    "                   \"field\": \"value\",\n",
    "                   \"as\": \"total_value\"\n",
    "                  }],\n",
    "                  \"groupby\": [\"partner\"]\n",
    "            }\n",
    "            ],\n",
    "            \"mark\": {\"type\":\"bar\", \"tooltip\": {\"content\": \"data\"}},\n",
    "            \"encoding\": {\n",
    "              \"y\": {\n",
    "                \"field\": \"partner\", \"title\": None\n",
    "              },\n",
    "              \"x\": {\n",
    "                \"field\": \"total_value\",\n",
    "                \"type\": \"quantitative\",\n",
    "                \"title\": \"Valeur tous produits (Lt)\",\n",
    "                  \"sort\": \"descending\"\n",
    "              },\n",
    "              \"color\": {\n",
    "                \"field\": \"partner\",\n",
    "              }\n",
    "            }\n",
    "          },\n",
    "          {\n",
    "            \"transform\": [\n",
    "                {\n",
    "              \"filter\": {\"field\": \"group\", \"equal\": \"export\"}\n",
    "            },\n",
    "            {\n",
    "                  \"aggregate\": [{\n",
    "                   \"op\": \"sum\",\n",
    "                   \"field\": \"value\",\n",
    "                   \"as\": \"total_value\"\n",
    "                  }],\n",
    "                  \"groupby\": [\"partner\"]\n",
    "            }\n",
    "            ],\n",
    "            \"mark\": {\"type\":\"bar\", \"tooltip\": {\"content\": \"data\"}},\n",
    "            \"encoding\": {\n",
    "              \"y\": {\n",
    "                \"field\": \"partner\", \"title\": None, \"axis\": None\n",
    "              },\n",
    "              \"x\": {\n",
    "                \"field\": \"total_value\",\n",
    "                \"type\": \"quantitative\",\n",
    "                \"title\": \"Valeur tous produits (Lt)\",\n",
    "                \"sort\": \"ascending\"\n",
    "              },\n",
    "              \"color\": {\n",
    "                \"field\": \"partner\",\n",
    "              }\n",
    "            }\n",
    "          }\n",
    "          ]}\n",
    "        ]\n",
    "    }\n",
    "    )"
   ]
  },
  {
   "cell_type": "code",
   "execution_count": 187,
   "id": "c19eb72b-d3ee-4419-b046-e068bafe79ed",
   "metadata": {},
   "outputs": [
    {
     "data": {
      "application/vnd.vegalite.v4+json": {
       "data": {
        "values": [
         {
          "group": "import",
          "partner": "France",
          "product": "Chemical products",
          "value": 280877.01974728
         },
         {
          "group": "import",
          "partner": "Monde",
          "product": "Chemical products",
          "value": 508907
         },
         {
          "group": "import",
          "partner": "colonies",
          "product": "Chemical products",
          "value": 89556
         },
         {
          "group": "import",
          "partner": "Monde",
          "product": "Chemical products",
          "value": 101042
         },
         {
          "group": "import",
          "partner": "colonies",
          "product": "Chemical products",
          "value": 16237
         },
         {
          "group": "export",
          "partner": "France",
          "product": "Chemical products",
          "value": 110962.29001099999
         },
         {
          "group": "export",
          "partner": "Re-exp ou fraude ?",
          "product": "Chemical products",
          "value": 762061.01974728
         },
         {
          "group": "import",
          "partner": "France",
          "product": "Crude materials, inedible, except combustibles",
          "value": 331649.11263924994
         },
         {
          "group": "import",
          "partner": "Monde",
          "product": "Crude materials, inedible, except combustibles",
          "value": 2490363
         },
         {
          "group": "import",
          "partner": "colonies",
          "product": "Crude materials, inedible, except combustibles",
          "value": 1101518
         },
         {
          "group": "import",
          "partner": "Monde",
          "product": "Crude materials, inedible, except combustibles",
          "value": 719051
         },
         {
          "group": "import",
          "partner": "colonies",
          "product": "Crude materials, inedible, except combustibles",
          "value": 6630
         },
         {
          "group": "export",
          "partner": "France",
          "product": "Crude materials, inedible, except combustibles",
          "value": 1340701.5201395
         },
         {
          "group": "export",
          "partner": "Re-exp ou fraude ?",
          "product": "Crude materials, inedible, except combustibles",
          "value": 3197849.11263925
         },
         {
          "group": "import",
          "partner": "France",
          "product": "Wool threads and fabrics",
          "value": 123728
         },
         {
          "group": "import",
          "partner": "Monde",
          "product": "Wool threads and fabrics",
          "value": 1721100
         },
         {
          "group": "import",
          "partner": "colonies",
          "product": "Wool threads and fabrics",
          "value": 71104
         },
         {
          "group": "export",
          "partner": "France",
          "product": "Wool threads and fabrics",
          "value": 1376
         },
         {
          "group": "export",
          "partner": "Re-exp ou fraude ?",
          "product": "Wool threads and fabrics",
          "value": 1773724
         },
         {
          "group": "import",
          "partner": "France",
          "product": "Leather, wood and paper products",
          "value": 103605.74532503
         },
         {
          "group": "import",
          "partner": "Monde",
          "product": "Leather, wood and paper products",
          "value": 664528
         },
         {
          "group": "import",
          "partner": "colonies",
          "product": "Leather, wood and paper products",
          "value": 61376
         },
         {
          "group": "import",
          "partner": "colonies",
          "product": "Leather, wood and paper products",
          "value": 32319
         },
         {
          "group": "export",
          "partner": "France",
          "product": "Leather, wood and paper products",
          "value": 155250.65
         },
         {
          "group": "export",
          "partner": "Re-exp ou fraude ?",
          "product": "Leather, wood and paper products",
          "value": 797190.7453250301
         },
         {
          "group": "import",
          "partner": "France",
          "product": "Plantation foodstuffs",
          "value": 42550
         },
         {
          "group": "import",
          "partner": "colonies",
          "product": "Plantation foodstuffs",
          "value": 7345722
         },
         {
          "group": "import",
          "partner": "Monde",
          "product": "Plantation foodstuffs",
          "value": 1649675
         },
         {
          "group": "import",
          "partner": "Monde",
          "product": "Plantation foodstuffs",
          "value": 3394711
         },
         {
          "group": "import",
          "partner": "colonies",
          "product": "Plantation foodstuffs",
          "value": 436
         },
         {
          "group": "export",
          "partner": "France",
          "product": "Plantation foodstuffs",
          "value": 57275
         },
         {
          "group": "export",
          "partner": "Fraude ?",
          "product": "Plantation foodstuffs",
          "value": 5642800
         },
         {
          "group": "import",
          "partner": "France",
          "product": "Other",
          "value": 212659
         },
         {
          "group": "import",
          "partner": "Monde",
          "product": "Other",
          "value": 760882
         },
         {
          "group": "import",
          "partner": "colonies",
          "product": "Other",
          "value": 1353
         },
         {
          "group": "import",
          "partner": "colonies",
          "product": "Other",
          "value": 8932
         },
         {
          "group": "export",
          "partner": "France",
          "product": "Other",
          "value": 14282.320080000001
         },
         {
          "group": "export",
          "partner": "Re-exp ou fraude ?",
          "product": "Other",
          "value": 965962
         },
         {
          "group": "import",
          "partner": "France",
          "product": "Silk threads and fabrics",
          "value": 218180
         },
         {
          "group": "import",
          "partner": "Monde",
          "product": "Silk threads and fabrics",
          "value": 960770
         },
         {
          "group": "import",
          "partner": "colonies",
          "product": "Silk threads and fabrics",
          "value": 2100
         },
         {
          "group": "export",
          "partner": "France",
          "product": "Silk threads and fabrics",
          "value": 0
         },
         {
          "group": "export",
          "partner": "Re-exp ou fraude ?",
          "product": "Silk threads and fabrics",
          "value": 1176850
         },
         {
          "group": "import",
          "partner": "France",
          "product": "Other industrial products",
          "value": 314846.200145
         },
         {
          "group": "import",
          "partner": "Monde",
          "product": "Other industrial products",
          "value": 2999118
         },
         {
          "group": "import",
          "partner": "colonies",
          "product": "Other industrial products",
          "value": 313967
         },
         {
          "group": "export",
          "partner": "France",
          "product": "Other industrial products",
          "value": 141543.23926685
         },
         {
          "group": "export",
          "partner": "Re-exp ou fraude ?",
          "product": "Other industrial products",
          "value": 2999997.200145
         },
         {
          "group": "import",
          "partner": "France",
          "product": "Oils",
          "value": 67874.50041114
         },
         {
          "group": "import",
          "partner": "Monde",
          "product": "Oils",
          "value": 537431
         },
         {
          "group": "import",
          "partner": "colonies",
          "product": "Oils",
          "value": 14793
         },
         {
          "group": "export",
          "partner": "France",
          "product": "Oils",
          "value": 23526.56986543
         },
         {
          "group": "export",
          "partner": "Re-exp ou fraude ?",
          "product": "Oils",
          "value": 590512.50041114
         },
         {
          "group": "import",
          "partner": "France",
          "product": "Drinks and tobacco",
          "value": 1386671.6049512897
         },
         {
          "group": "import",
          "partner": "Monde",
          "product": "Drinks and tobacco",
          "value": 4440210
         },
         {
          "group": "import",
          "partner": "colonies",
          "product": "Drinks and tobacco",
          "value": 68894
         },
         {
          "group": "import",
          "partner": "Monde",
          "product": "Drinks and tobacco",
          "value": 345721
         },
         {
          "group": "import",
          "partner": "colonies",
          "product": "Drinks and tobacco",
          "value": 93596
         },
         {
          "group": "export",
          "partner": "France",
          "product": "Drinks and tobacco",
          "value": 130892.10000436002
         },
         {
          "group": "export",
          "partner": "Re-exp ou fraude ?",
          "product": "Drinks and tobacco",
          "value": 5456458.6049512895
         },
         {
          "group": "export",
          "partner": "France",
          "product": "Precious metals",
          "value": 0
         },
         {
          "group": "export",
          "partner": "Re-exp ou fraude ?",
          "product": "Precious metals",
          "value": 0
         },
         {
          "group": "import",
          "partner": "France",
          "product": "Other threads and fabrics",
          "value": 543957
         },
         {
          "group": "import",
          "partner": "Monde",
          "product": "Other threads and fabrics",
          "value": 5767681
         },
         {
          "group": "import",
          "partner": "colonies",
          "product": "Other threads and fabrics",
          "value": 411933
         },
         {
          "group": "export",
          "partner": "France",
          "product": "Other threads and fabrics",
          "value": 27063.59978
         },
         {
          "group": "export",
          "partner": "Re-exp ou fraude ?",
          "product": "Other threads and fabrics",
          "value": 5899705
         },
         {
          "group": "import",
          "partner": "France",
          "product": "Other foodstuffs and live animals",
          "value": 369295.38427342597
         },
         {
          "group": "import",
          "partner": "Monde",
          "product": "Other foodstuffs and live animals",
          "value": 6929264
         },
         {
          "group": "import",
          "partner": "colonies",
          "product": "Other foodstuffs and live animals",
          "value": 1736
         },
         {
          "group": "import",
          "partner": "colonies",
          "product": "Other foodstuffs and live animals",
          "value": 390372
         },
         {
          "group": "export",
          "partner": "France",
          "product": "Other foodstuffs and live animals",
          "value": 1184400.059786
         },
         {
          "group": "export",
          "partner": "Re-exp ou fraude ?",
          "product": "Other foodstuffs and live animals",
          "value": 6909923.384273426
         },
         {
          "group": "import",
          "partner": "France",
          "product": "Coton threads and fabrics",
          "value": 99571
         },
         {
          "group": "import",
          "partner": "Monde",
          "product": "Coton threads and fabrics",
          "value": 4831856
         },
         {
          "group": "import",
          "partner": "colonies",
          "product": "Coton threads and fabrics",
          "value": 49084
         },
         {
          "group": "export",
          "partner": "France",
          "product": "Coton threads and fabrics",
          "value": 547605
         },
         {
          "group": "export",
          "partner": "Re-exp ou fraude ?",
          "product": "Coton threads and fabrics",
          "value": 4882343
         }
        ]
       },
       "spacing": 0,
       "title": "Répartition des imports/exports de Dunkerque en 1789 par produits (SITC simpl)",
       "vconcat": [
        {
         "hconcat": [
          {
           "encoding": {
            "color": {
             "field": "partner"
            },
            "x": {
             "field": "value",
             "sort": "descending",
             "title": "Valeur (Lt)",
             "type": "quantitative"
            },
            "y": {
             "field": "product",
             "sort": "-x",
             "title": null
            }
           },
           "mark": {
            "tooltip": {
             "content": "data"
            },
            "type": "bar"
           },
           "title": "import",
           "transform": [
            {
             "filter": {
              "equal": "import",
              "field": "group"
             }
            }
           ]
          },
          {
           "encoding": {
            "color": {
             "field": "partner"
            },
            "x": {
             "field": "value",
             "sort": "ascending",
             "title": "Valeur (Lt)",
             "type": "quantitative"
            },
            "y": {
             "axis": null,
             "field": "product",
             "sort": "-x",
             "title": null
            }
           },
           "mark": {
            "tooltip": {
             "content": "data"
            },
            "type": "bar"
           },
           "title": "export",
           "transform": [
            {
             "filter": {
              "equal": "export",
              "field": "group"
             }
            }
           ]
          }
         ]
        },
        {
         "hconcat": [
          {
           "encoding": {
            "color": {
             "field": "partner"
            },
            "x": {
             "field": "total_value",
             "sort": "descending",
             "title": "Valeur tous produits (Lt)",
             "type": "quantitative"
            },
            "y": {
             "field": "partner",
             "title": null
            }
           },
           "mark": {
            "tooltip": {
             "content": "data"
            },
            "type": "bar"
           },
           "transform": [
            {
             "filter": {
              "equal": "import",
              "field": "group"
             }
            },
            {
             "aggregate": [
              {
               "as": "total_value",
               "field": "value",
               "op": "sum"
              }
             ],
             "groupby": [
              "partner"
             ]
            }
           ]
          },
          {
           "encoding": {
            "color": {
             "field": "partner"
            },
            "x": {
             "field": "total_value",
             "sort": "ascending",
             "title": "Valeur tous produits (Lt)",
             "type": "quantitative"
            },
            "y": {
             "axis": null,
             "field": "partner",
             "title": null
            }
           },
           "mark": {
            "tooltip": {
             "content": "data"
            },
            "type": "bar"
           },
           "transform": [
            {
             "filter": {
              "equal": "export",
              "field": "group"
             }
            },
            {
             "aggregate": [
              {
               "as": "total_value",
               "field": "value",
               "op": "sum"
              }
             ],
             "groupby": [
              "partner"
             ]
            }
           ]
          }
         ]
        }
       ]
      },
      "image/png": "[encoded data removed]"
     },
     "metadata": {},
     "output_type": "display_data"
    }
   ],
   "source": [
    "pyramide_port_franc(\"Dunkerque\", data)"
   ]
  },
  {
   "cell_type": "code",
   "execution_count": null,
   "id": "5f22ba2c-f497-4743-9d5d-cca7e2aad10d",
   "metadata": {},
   "outputs": [],
   "source": [
    "ajouter la valeur totale pour tout le graphique pour chacun des 5 (6 avecceux dont on est sûrs que c'est de la fraude) partners\n",
    "entrepôt ou fraude (résidu) - pour la première ligne c'est sûr que c'est de la fraude\n",
    "regarder navigo :peut-on distinguer entre entrepôt légitime et fraude ? Y a-t-il suffisamment de navires (quel tonnage ?) qui partent avec ce genre de produits ?  --> voir qui travaille là-dessus\n",
    "pour les autres ports francs on a les exports, donc pas besoin de calculer un résidu  --> plus facile de distinguer la fraude de l'entrepôt\n",
    "regarder quand commence cet entrepôt / fraude --> lire la thèse de Christian p. 167 - 169, d'après Christian on pourrait mettre en évidence que ça commence vers 1730\n",
    "Plusieurs séries temporelles ?"
   ]
  },
  {
   "cell_type": "code",
   "execution_count": null,
   "id": "6169eee7-7b08-4d7f-b6c1-0d6853797296",
   "metadata": {},
   "outputs": [],
   "source": [
    "VegaLite({\n",
    "  \"title\": \"**************************************\",\n",
    "  \"data\": {\"values\": report_dk},\n",
    "  \"transform\": [{\n",
    "      \"aggregate\": [{\n",
    "       \"op\": \"sum\",\n",
    "       \"field\": \"value\",\n",
    "       \"as\": \"total_product\"\n",
    "      }],\n",
    "      \"groupby\": [\"partner\"]\n",
    "  }],\n",
    "  \"mark\": {\"type\":\"bar\", \"tooltip\": {\"content\": \"data\"}},\n",
    "  \"encoding\": {\n",
    "    \"x\": {\"field\": \"total_product\", \"type\": \"quantitative\", \"title\": \"Valeur (Lt)\"},\n",
    "    \"y\": {\"field\": \"partner\", \"sort\": \"-x\", \"title\": \"Partner\"},\n",
    "    \"color\": {\"field\": \"partner\"}\n",
    "  }\n",
    "})"
   ]
  },
  {
   "cell_type": "code",
   "execution_count": null,
   "id": "ed1ba3b0-7c1a-4e91-8a2c-b5027694817c",
   "metadata": {},
   "outputs": [],
   "source": []
  }
 ],
 "metadata": {
  "kernelspec": {
   "display_name": "Python 3 (ipykernel)",
   "language": "python",
   "name": "python3"
  },
  "language_info": {
   "codemirror_mode": {
    "name": "ipython",
    "version": 3
   },
   "file_extension": ".py",
   "mimetype": "text/x-python",
   "name": "python",
   "nbconvert_exporter": "python",
   "pygments_lexer": "ipython3",
   "version": "3.8.0"
  }
 },
 "nbformat": 4,
 "nbformat_minor": 5
}
