{
 "cells": [
  {
   "cell_type": "code",
   "execution_count": 234,
   "id": "aa751e41-a63b-4525-a950-97c9d86f75f5",
   "metadata": {},
   "outputs": [],
   "source": [
    "from IPython.display import display\n",
    "import pandas as pd\n",
    "\n",
    "def VegaLite(spec):\n",
    "    bundle = {}\n",
    "    bundle['application/vnd.vegalite.v4+json'] = spec\n",
    "    display(bundle, raw=True)"
   ]
  },
  {
   "cell_type": "code",
   "execution_count": 235,
   "id": "2d6a8fd8-1384-46cf-aecf-18d03d95a3b8",
   "metadata": {},
   "outputs": [],
   "source": [
    "import json\n",
    "\n",
    "with open(\"data/import_export_ports_francs.json\", \"r\") as f:\n",
    "    data = json.load(f)"
   ]
  },
  {
   "cell_type": "code",
   "execution_count": 260,
   "id": "e5536b8c-a4ea-4e73-9a47-ff4a0f762ef7",
   "metadata": {},
   "outputs": [],
   "source": [
    "SORT_LABELS = [\"colonies\", \"Monde\", \"France\", \"Fraude ?\", \"Re-exp ou fraude ?\"]"
   ]
  },
  {
   "cell_type": "code",
   "execution_count": 261,
   "id": "20855502-91ae-4478-bf88-68385eaad198",
   "metadata": {},
   "outputs": [
    {
     "data": {
      "application/vnd.vegalite.v4+json": {
       "data": {
        "values": [
         {
          "group": "import",
          "partner": "France",
          "product": "Chemical products",
          "value": 280877.01974728
         },
         {
          "group": "import",
          "partner": "Monde",
          "product": "Chemical products",
          "value": 508907
         },
         {
          "group": "import",
          "partner": "colonies",
          "product": "Chemical products",
          "value": 89556
         },
         {
          "group": "export",
          "partner": "France",
          "product": "Chemical products",
          "value": 110962.29001099999
         },
         {
          "group": "export",
          "partner": "Monde",
          "product": "Chemical products",
          "value": 101042
         },
         {
          "group": "export",
          "partner": "colonies",
          "product": "Chemical products",
          "value": 16237
         },
         {
          "group": "export",
          "partner": "Re-exp ou fraude ?",
          "product": "Chemical products",
          "value": 651098.72973628
         },
         {
          "group": "import",
          "partner": "France",
          "product": "Crude materials, inedible, except combustibles",
          "value": 331649.11263924994
         },
         {
          "group": "import",
          "partner": "Monde",
          "product": "Crude materials, inedible, except combustibles",
          "value": 2490363
         },
         {
          "group": "import",
          "partner": "colonies",
          "product": "Crude materials, inedible, except combustibles",
          "value": 1101518
         },
         {
          "group": "export",
          "partner": "France",
          "product": "Crude materials, inedible, except combustibles",
          "value": 1340701.5201395
         },
         {
          "group": "export",
          "partner": "Monde",
          "product": "Crude materials, inedible, except combustibles",
          "value": 719051
         },
         {
          "group": "export",
          "partner": "colonies",
          "product": "Crude materials, inedible, except combustibles",
          "value": 6630
         },
         {
          "group": "export",
          "partner": "Re-exp ou fraude ?",
          "product": "Crude materials, inedible, except combustibles",
          "value": 1857147.5924997497
         },
         {
          "group": "import",
          "partner": "France",
          "product": "Wool threads and fabrics",
          "value": 123728
         },
         {
          "group": "import",
          "partner": "Monde",
          "product": "Wool threads and fabrics",
          "value": 1721100
         },
         {
          "group": "export",
          "partner": "colonies",
          "product": "Wool threads and fabrics",
          "value": 71104
         },
         {
          "group": "export",
          "partner": "France",
          "product": "Wool threads and fabrics",
          "value": 1376
         },
         {
          "group": "export",
          "partner": "Re-exp ou fraude ?",
          "product": "Wool threads and fabrics",
          "value": 1772348
         },
         {
          "group": "import",
          "partner": "France",
          "product": "Leather, wood and paper products",
          "value": 103605.74532503
         },
         {
          "group": "import",
          "partner": "Monde",
          "product": "Leather, wood and paper products",
          "value": 664528
         },
         {
          "group": "import",
          "partner": "colonies",
          "product": "Leather, wood and paper products",
          "value": 61376
         },
         {
          "group": "export",
          "partner": "France",
          "product": "Leather, wood and paper products",
          "value": 155250.65
         },
         {
          "group": "export",
          "partner": "colonies",
          "product": "Leather, wood and paper products",
          "value": 32319
         },
         {
          "group": "export",
          "partner": "Re-exp ou fraude ?",
          "product": "Leather, wood and paper products",
          "value": 641940.09532503
         },
         {
          "group": "import",
          "partner": "France",
          "product": "Plantation foodstuffs",
          "value": 42550
         },
         {
          "group": "import",
          "partner": "colonies",
          "product": "Plantation foodstuffs",
          "value": 7345722
         },
         {
          "group": "import",
          "partner": "Monde",
          "product": "Plantation foodstuffs",
          "value": 1649675
         },
         {
          "group": "export",
          "partner": "France",
          "product": "Plantation foodstuffs",
          "value": 57275
         },
         {
          "group": "export",
          "partner": "Monde",
          "product": "Plantation foodstuffs",
          "value": 3394711
         },
         {
          "group": "export",
          "partner": "colonies",
          "product": "Plantation foodstuffs",
          "value": 436
         },
         {
          "group": "export",
          "partner": "Fraude ?",
          "product": "Plantation foodstuffs",
          "value": 5585525
         },
         {
          "group": "import",
          "partner": "France",
          "product": "Other",
          "value": 212659
         },
         {
          "group": "import",
          "partner": "Monde",
          "product": "Other",
          "value": 760882
         },
         {
          "group": "import",
          "partner": "colonies",
          "product": "Other",
          "value": 1353
         },
         {
          "group": "export",
          "partner": "France",
          "product": "Other",
          "value": 14282.32008
         },
         {
          "group": "export",
          "partner": "colonies",
          "product": "Other",
          "value": 8932
         },
         {
          "group": "export",
          "partner": "Re-exp ou fraude ?",
          "product": "Other",
          "value": 951679.67992
         },
         {
          "group": "import",
          "partner": "France",
          "product": "Silk threads and fabrics",
          "value": 218180
         },
         {
          "group": "import",
          "partner": "Monde",
          "product": "Silk threads and fabrics",
          "value": 960770
         },
         {
          "group": "export",
          "partner": "colonies",
          "product": "Silk threads and fabrics",
          "value": 2100
         },
         {
          "group": "export",
          "partner": "Re-exp ou fraude ?",
          "product": "Silk threads and fabrics",
          "value": 1176850
         },
         {
          "group": "import",
          "partner": "France",
          "product": "Other industrial products",
          "value": 314846.200145
         },
         {
          "group": "import",
          "partner": "Monde",
          "product": "Other industrial products",
          "value": 2999118
         },
         {
          "group": "export",
          "partner": "France",
          "product": "Other industrial products",
          "value": 141543.23926685
         },
         {
          "group": "export",
          "partner": "colonies",
          "product": "Other industrial products",
          "value": 313967
         },
         {
          "group": "export",
          "partner": "Re-exp ou fraude ?",
          "product": "Other industrial products",
          "value": 2858453.96087815
         },
         {
          "group": "import",
          "partner": "France",
          "product": "Oils",
          "value": 67874.50041114
         },
         {
          "group": "import",
          "partner": "Monde",
          "product": "Oils",
          "value": 537431
         },
         {
          "group": "export",
          "partner": "France",
          "product": "Oils",
          "value": 23526.56986543
         },
         {
          "group": "export",
          "partner": "colonies",
          "product": "Oils",
          "value": 14793
         },
         {
          "group": "export",
          "partner": "Re-exp ou fraude ?",
          "product": "Oils",
          "value": 566985.93054571
         },
         {
          "group": "import",
          "partner": "France",
          "product": "Drinks and tobacco",
          "value": 1386671.6049512897
         },
         {
          "group": "import",
          "partner": "Monde",
          "product": "Drinks and tobacco",
          "value": 4440210
         },
         {
          "group": "import",
          "partner": "colonies",
          "product": "Drinks and tobacco",
          "value": 68894
         },
         {
          "group": "export",
          "partner": "France",
          "product": "Drinks and tobacco",
          "value": 130892.10000436002
         },
         {
          "group": "export",
          "partner": "Monde",
          "product": "Drinks and tobacco",
          "value": 345721
         },
         {
          "group": "export",
          "partner": "colonies",
          "product": "Drinks and tobacco",
          "value": 93596
         },
         {
          "group": "export",
          "partner": "Re-exp ou fraude ?",
          "product": "Drinks and tobacco",
          "value": 5325566.504946929
         },
         {
          "group": "export",
          "partner": "Re-exp ou fraude ?",
          "product": "Precious metals",
          "value": 0
         },
         {
          "group": "import",
          "partner": "France",
          "product": "Other threads and fabrics",
          "value": 543957
         },
         {
          "group": "import",
          "partner": "Monde",
          "product": "Other threads and fabrics",
          "value": 5767681
         },
         {
          "group": "export",
          "partner": "France",
          "product": "Other threads and fabrics",
          "value": 27063.59978
         },
         {
          "group": "export",
          "partner": "colonies",
          "product": "Other threads and fabrics",
          "value": 411933
         },
         {
          "group": "export",
          "partner": "Re-exp ou fraude ?",
          "product": "Other threads and fabrics",
          "value": 5872641.40022
         },
         {
          "group": "import",
          "partner": "France",
          "product": "Other foodstuffs and live animals",
          "value": 369295.38427342597
         },
         {
          "group": "import",
          "partner": "Monde",
          "product": "Other foodstuffs and live animals",
          "value": 6929264
         },
         {
          "group": "import",
          "partner": "colonies",
          "product": "Other foodstuffs and live animals",
          "value": 1736
         },
         {
          "group": "export",
          "partner": "France",
          "product": "Other foodstuffs and live animals",
          "value": 1184400.059786
         },
         {
          "group": "export",
          "partner": "colonies",
          "product": "Other foodstuffs and live animals",
          "value": 390372
         },
         {
          "group": "export",
          "partner": "Re-exp ou fraude ?",
          "product": "Other foodstuffs and live animals",
          "value": 5725523.324487425
         },
         {
          "group": "import",
          "partner": "France",
          "product": "Coton threads and fabrics",
          "value": 99571
         },
         {
          "group": "import",
          "partner": "Monde",
          "product": "Coton threads and fabrics",
          "value": 4831856
         },
         {
          "group": "export",
          "partner": "colonies",
          "product": "Coton threads and fabrics",
          "value": 49084
         },
         {
          "group": "export",
          "partner": "France",
          "product": "Coton threads and fabrics",
          "value": 547605
         },
         {
          "group": "export",
          "partner": "Re-exp ou fraude ?",
          "product": "Coton threads and fabrics",
          "value": 4334738
         }
        ]
       },
       "encoding": {
        "color": {
         "field": "partner",
         "scale": {
          "domain": [
           "colonies",
           "Monde",
           "France",
           "Fraude ?",
           "Re-exp ou fraude ?"
          ]
         },
         "sort": [
          "colonies",
          "Monde",
          "France",
          "Fraude ?",
          "Re-exp ou fraude ?"
         ],
         "type": "nominal"
        },
        "column": {
         "field": "group"
        },
        "x": {
         "field": "value",
         "title": "Valeur (Lt)",
         "type": "quantitative"
        },
        "y": {
         "field": "product",
         "sort": "-x",
         "title": "Produits"
        }
       },
       "mark": {
        "tooltip": {
         "content": "data"
        },
        "type": "bar"
       },
       "title": "Répartition des imports/exports de Dunkerque en 1789 par produits (SITC simpl)"
      },
      "image/png": "[encoded data removed]"
     },
     "metadata": {},
     "output_type": "display_data"
    }
   ],
   "source": [
    "VegaLite({\n",
    "  \"title\": \"Répartition des imports/exports de Dunkerque en 1789 par produits (SITC simpl)\",\n",
    "  \"data\": {\"values\": data[\"Dunkerque\"]},\n",
    "  \"mark\": {\"type\":\"bar\", \"tooltip\": {\"content\": \"data\"}},\n",
    "  \"encoding\": {\n",
    "    \"x\": {\"field\": \"value\", \"type\": \"quantitative\", \"title\": \"Valeur (Lt)\"},\n",
    "    \"column\": {\"field\": \"group\"},\n",
    "    \"y\": {\"field\": \"product\", \"sort\": \"-x\", \"title\": \"Produits\"},\n",
    "    \"color\": {\n",
    "        \"field\": \"partner\", \n",
    "        \"scale\": {\"domain\": SORT_LABELS},\n",
    "        \"sort\": SORT_LABELS,\n",
    "        \"type\": \"nominal\"\n",
    "    }\n",
    "  }\n",
    "})"
   ]
  },
  {
   "cell_type": "code",
   "execution_count": 257,
   "id": "6169eee7-7b08-4d7f-b6c1-0d6853797296",
   "metadata": {},
   "outputs": [
    {
     "data": {
      "application/vnd.vegalite.v4+json": {
       "data": {
        "values": [
         {
          "group": "import",
          "partner": "France",
          "product": "Chemical products",
          "value": 280877.01974728
         },
         {
          "group": "import",
          "partner": "Monde",
          "product": "Chemical products",
          "value": 508907
         },
         {
          "group": "import",
          "partner": "colonies",
          "product": "Chemical products",
          "value": 89556
         },
         {
          "group": "export",
          "partner": "France",
          "product": "Chemical products",
          "value": 110962.29001099999
         },
         {
          "group": "export",
          "partner": "Monde",
          "product": "Chemical products",
          "value": 101042
         },
         {
          "group": "export",
          "partner": "colonies",
          "product": "Chemical products",
          "value": 16237
         },
         {
          "group": "export",
          "partner": "Re-exp ou fraude ?",
          "product": "Chemical products",
          "value": 651098.72973628
         },
         {
          "group": "import",
          "partner": "France",
          "product": "Crude materials, inedible, except combustibles",
          "value": 331649.11263924994
         },
         {
          "group": "import",
          "partner": "Monde",
          "product": "Crude materials, inedible, except combustibles",
          "value": 2490363
         },
         {
          "group": "import",
          "partner": "colonies",
          "product": "Crude materials, inedible, except combustibles",
          "value": 1101518
         },
         {
          "group": "export",
          "partner": "France",
          "product": "Crude materials, inedible, except combustibles",
          "value": 1340701.5201395
         },
         {
          "group": "export",
          "partner": "Monde",
          "product": "Crude materials, inedible, except combustibles",
          "value": 719051
         },
         {
          "group": "export",
          "partner": "colonies",
          "product": "Crude materials, inedible, except combustibles",
          "value": 6630
         },
         {
          "group": "export",
          "partner": "Re-exp ou fraude ?",
          "product": "Crude materials, inedible, except combustibles",
          "value": 1857147.5924997497
         },
         {
          "group": "import",
          "partner": "France",
          "product": "Wool threads and fabrics",
          "value": 123728
         },
         {
          "group": "import",
          "partner": "Monde",
          "product": "Wool threads and fabrics",
          "value": 1721100
         },
         {
          "group": "export",
          "partner": "colonies",
          "product": "Wool threads and fabrics",
          "value": 71104
         },
         {
          "group": "export",
          "partner": "France",
          "product": "Wool threads and fabrics",
          "value": 1376
         },
         {
          "group": "export",
          "partner": "Re-exp ou fraude ?",
          "product": "Wool threads and fabrics",
          "value": 1772348
         },
         {
          "group": "import",
          "partner": "France",
          "product": "Leather, wood and paper products",
          "value": 103605.74532503
         },
         {
          "group": "import",
          "partner": "Monde",
          "product": "Leather, wood and paper products",
          "value": 664528
         },
         {
          "group": "import",
          "partner": "colonies",
          "product": "Leather, wood and paper products",
          "value": 61376
         },
         {
          "group": "export",
          "partner": "France",
          "product": "Leather, wood and paper products",
          "value": 155250.65
         },
         {
          "group": "export",
          "partner": "colonies",
          "product": "Leather, wood and paper products",
          "value": 32319
         },
         {
          "group": "export",
          "partner": "Re-exp ou fraude ?",
          "product": "Leather, wood and paper products",
          "value": 641940.09532503
         },
         {
          "group": "import",
          "partner": "France",
          "product": "Plantation foodstuffs",
          "value": 42550
         },
         {
          "group": "import",
          "partner": "colonies",
          "product": "Plantation foodstuffs",
          "value": 7345722
         },
         {
          "group": "import",
          "partner": "Monde",
          "product": "Plantation foodstuffs",
          "value": 1649675
         },
         {
          "group": "export",
          "partner": "France",
          "product": "Plantation foodstuffs",
          "value": 57275
         },
         {
          "group": "export",
          "partner": "Monde",
          "product": "Plantation foodstuffs",
          "value": 3394711
         },
         {
          "group": "export",
          "partner": "colonies",
          "product": "Plantation foodstuffs",
          "value": 436
         },
         {
          "group": "export",
          "partner": "Fraude ?",
          "product": "Plantation foodstuffs",
          "value": 5585525
         },
         {
          "group": "import",
          "partner": "France",
          "product": "Other",
          "value": 212659
         },
         {
          "group": "import",
          "partner": "Monde",
          "product": "Other",
          "value": 760882
         },
         {
          "group": "import",
          "partner": "colonies",
          "product": "Other",
          "value": 1353
         },
         {
          "group": "export",
          "partner": "France",
          "product": "Other",
          "value": 14282.32008
         },
         {
          "group": "export",
          "partner": "colonies",
          "product": "Other",
          "value": 8932
         },
         {
          "group": "export",
          "partner": "Re-exp ou fraude ?",
          "product": "Other",
          "value": 951679.67992
         },
         {
          "group": "import",
          "partner": "France",
          "product": "Silk threads and fabrics",
          "value": 218180
         },
         {
          "group": "import",
          "partner": "Monde",
          "product": "Silk threads and fabrics",
          "value": 960770
         },
         {
          "group": "export",
          "partner": "colonies",
          "product": "Silk threads and fabrics",
          "value": 2100
         },
         {
          "group": "export",
          "partner": "Re-exp ou fraude ?",
          "product": "Silk threads and fabrics",
          "value": 1176850
         },
         {
          "group": "import",
          "partner": "France",
          "product": "Other industrial products",
          "value": 314846.200145
         },
         {
          "group": "import",
          "partner": "Monde",
          "product": "Other industrial products",
          "value": 2999118
         },
         {
          "group": "export",
          "partner": "France",
          "product": "Other industrial products",
          "value": 141543.23926685
         },
         {
          "group": "export",
          "partner": "colonies",
          "product": "Other industrial products",
          "value": 313967
         },
         {
          "group": "export",
          "partner": "Re-exp ou fraude ?",
          "product": "Other industrial products",
          "value": 2858453.96087815
         },
         {
          "group": "import",
          "partner": "France",
          "product": "Oils",
          "value": 67874.50041114
         },
         {
          "group": "import",
          "partner": "Monde",
          "product": "Oils",
          "value": 537431
         },
         {
          "group": "export",
          "partner": "France",
          "product": "Oils",
          "value": 23526.56986543
         },
         {
          "group": "export",
          "partner": "colonies",
          "product": "Oils",
          "value": 14793
         },
         {
          "group": "export",
          "partner": "Re-exp ou fraude ?",
          "product": "Oils",
          "value": 566985.93054571
         },
         {
          "group": "import",
          "partner": "France",
          "product": "Drinks and tobacco",
          "value": 1386671.6049512897
         },
         {
          "group": "import",
          "partner": "Monde",
          "product": "Drinks and tobacco",
          "value": 4440210
         },
         {
          "group": "import",
          "partner": "colonies",
          "product": "Drinks and tobacco",
          "value": 68894
         },
         {
          "group": "export",
          "partner": "France",
          "product": "Drinks and tobacco",
          "value": 130892.10000436002
         },
         {
          "group": "export",
          "partner": "Monde",
          "product": "Drinks and tobacco",
          "value": 345721
         },
         {
          "group": "export",
          "partner": "colonies",
          "product": "Drinks and tobacco",
          "value": 93596
         },
         {
          "group": "export",
          "partner": "Re-exp ou fraude ?",
          "product": "Drinks and tobacco",
          "value": 5325566.504946929
         },
         {
          "group": "export",
          "partner": "Re-exp ou fraude ?",
          "product": "Precious metals",
          "value": 0
         },
         {
          "group": "import",
          "partner": "France",
          "product": "Other threads and fabrics",
          "value": 543957
         },
         {
          "group": "import",
          "partner": "Monde",
          "product": "Other threads and fabrics",
          "value": 5767681
         },
         {
          "group": "export",
          "partner": "France",
          "product": "Other threads and fabrics",
          "value": 27063.59978
         },
         {
          "group": "export",
          "partner": "colonies",
          "product": "Other threads and fabrics",
          "value": 411933
         },
         {
          "group": "export",
          "partner": "Re-exp ou fraude ?",
          "product": "Other threads and fabrics",
          "value": 5872641.40022
         },
         {
          "group": "import",
          "partner": "France",
          "product": "Other foodstuffs and live animals",
          "value": 369295.38427342597
         },
         {
          "group": "import",
          "partner": "Monde",
          "product": "Other foodstuffs and live animals",
          "value": 6929264
         },
         {
          "group": "import",
          "partner": "colonies",
          "product": "Other foodstuffs and live animals",
          "value": 1736
         },
         {
          "group": "export",
          "partner": "France",
          "product": "Other foodstuffs and live animals",
          "value": 1184400.059786
         },
         {
          "group": "export",
          "partner": "colonies",
          "product": "Other foodstuffs and live animals",
          "value": 390372
         },
         {
          "group": "export",
          "partner": "Re-exp ou fraude ?",
          "product": "Other foodstuffs and live animals",
          "value": 5725523.324487425
         },
         {
          "group": "import",
          "partner": "France",
          "product": "Coton threads and fabrics",
          "value": 99571
         },
         {
          "group": "import",
          "partner": "Monde",
          "product": "Coton threads and fabrics",
          "value": 4831856
         },
         {
          "group": "export",
          "partner": "colonies",
          "product": "Coton threads and fabrics",
          "value": 49084
         },
         {
          "group": "export",
          "partner": "France",
          "product": "Coton threads and fabrics",
          "value": 547605
         },
         {
          "group": "export",
          "partner": "Re-exp ou fraude ?",
          "product": "Coton threads and fabrics",
          "value": 4334738
         }
        ]
       },
       "encoding": {
        "color": {
         "field": "partner",
         "scale": {
          "domain": [
           "colonies",
           "Monde",
           "France",
           "Fraude ?",
           "Re-exp ou fraude"
          ]
         },
         "sort": [
          "colonies",
          "Monde",
          "France",
          "Fraude ?",
          "Re-exp ou fraude"
         ],
         "type": "nominal"
        },
        "x": {
         "field": "total_product",
         "title": "Valeur (Lt)",
         "type": "quantitative"
        },
        "y": {
         "field": "partner",
         "sort": [
          "colonies",
          "Monde",
          "France",
          "Fraude ?",
          "Re-exp ou fraude"
         ],
         "title": "Partner"
        }
       },
       "mark": {
        "tooltip": {
         "content": "data"
        },
        "type": "bar"
       },
       "transform": [
        {
         "aggregate": [
          {
           "as": "total_product",
           "field": "value",
           "op": "sum"
          }
         ],
         "groupby": [
          "partner"
         ]
        }
       ]
      },
      "image/png": "[encoded data removed]"
     },
     "metadata": {},
     "output_type": "display_data"
    }
   ],
   "source": [
    "VegaLite({\n",
    "  \"data\": {\"values\": data[\"Dunkerque\"]},\n",
    "  \"transform\": [{\n",
    "      \"aggregate\": [{\n",
    "       \"op\": \"sum\",\n",
    "       \"field\": \"value\",\n",
    "       \"as\": \"total_product\"\n",
    "      }],\n",
    "      \"groupby\": [\"partner\"]\n",
    "  }],\n",
    "  \"mark\": {\"type\":\"bar\", \"tooltip\": {\"content\": \"data\"}},\n",
    "  \"encoding\": {\n",
    "    \"x\": {\"field\": \"total_product\", \"type\": \"quantitative\", \"title\": \"Valeur (Lt)\"},\n",
    "    \"y\": {\"field\": \"partner\", \"sort\": SORT_LABELS, \"title\": \"Partner\"},\n",
    "    \"color\": {\"field\": \"partner\", \"sort\": SORT_LABELS, \"type\": \"nominal\", \"scale\": {\"domain\": SORT_LABELS}}\n",
    "  }\n",
    "})"
   ]
  },
  {
   "cell_type": "code",
   "execution_count": 262,
   "id": "0c46e8b3-4b0b-48f7-9102-0576468e9942",
   "metadata": {},
   "outputs": [],
   "source": [
    "def pyramide_port_franc(port_franc, data):\n",
    "    report = data[port_franc]\n",
    "    VegaLite({\n",
    "      \"title\": \"Répartition des imports/exports de {} en 1789 par produits (SITC simpl)\".format(port_franc),\n",
    "      \"data\": {\"values\": report},\n",
    "      \"spacing\": 0,\n",
    "      \"vconcat\": [{\"hconcat\": [{\n",
    "            \"transform\": [{\n",
    "              \"filter\": {\"field\": \"group\", \"equal\": \"import\"}\n",
    "            }],\n",
    "            \"title\": \"import\",\n",
    "            \"mark\": {\"type\":\"bar\", \"tooltip\": {\"content\": \"data\"}},\n",
    "            \"encoding\": {\n",
    "              \"y\": {\n",
    "                \"field\": \"product\", \"title\": None, \"sort\": \"-x\", \"type\": \"ordinal\"\n",
    "              },\n",
    "              \"x\": {\n",
    "                \"field\": \"value\",\n",
    "                \"type\": \"quantitative\",\n",
    "                \"title\": \"Valeur (Lt)\",\n",
    "                  \"sort\": \"descending\"\n",
    "              },\n",
    "              \"color\": {\n",
    "                \"field\": \"partner\",\n",
    "                \"type\": \"nominal\", \n",
    "                \"sort\": SORT_LABELS, \n",
    "                \"scale\": {\"domain\": SORT_LABELS},\n",
    "\n",
    "              }\n",
    "            }\n",
    "          },\n",
    "          {\n",
    "            \"transform\": [{\n",
    "              \"filter\": {\"field\": \"group\", \"equal\": \"export\"}\n",
    "            }],\n",
    "            \"title\": \"export\",\n",
    "            \"mark\": {\"type\":\"bar\", \"tooltip\": {\"content\": \"data\"}},\n",
    "            \"encoding\": {\n",
    "              \"y\": {\n",
    "                \"field\": \"product\", \"sort\": \"-x\", \"title\": None, \"axis\": None, \"type\": \"ordinal\"\n",
    "\n",
    "              },\n",
    "              \"x\": {\n",
    "                \"field\": \"value\",\n",
    "                \"type\": \"quantitative\",\n",
    "                \"title\": \"Valeur (Lt)\",\n",
    "                \"sort\": \"ascending\"\n",
    "              },\n",
    "              \"color\": {\n",
    "                \"field\": \"partner\",\n",
    "                \"type\": \"nominal\", \n",
    "                \"sort\": SORT_LABELS, \n",
    "                \"scale\": {\"domain\": SORT_LABELS},\n",
    "              }\n",
    "            }\n",
    "          }\n",
    "          ]}, {\"hconcat\": [{\n",
    "            \"transform\": [\n",
    "                {\n",
    "              \"filter\": {\"field\": \"group\", \"equal\": \"import\"}\n",
    "            },\n",
    "            {\n",
    "                  \"aggregate\": [{\n",
    "                   \"op\": \"sum\",\n",
    "                   \"field\": \"value\",\n",
    "                   \"as\": \"total_value\"\n",
    "                  }],\n",
    "                  \"groupby\": [\"partner\"]\n",
    "            }\n",
    "            ],\n",
    "            \"mark\": {\"type\":\"bar\", \"tooltip\": {\"content\": \"data\"}},\n",
    "            \"encoding\": {\n",
    "              \"y\": {\n",
    "                \"field\": \"partner\", \n",
    "                \"title\": None, \n",
    "                \"type\": \"ordinal\",\n",
    "                \"sort\": SORT_LABELS\n",
    "              },\n",
    "              \"x\": {\n",
    "                \"field\": \"total_value\",\n",
    "                \"type\": \"quantitative\",\n",
    "                \"title\": \"Valeur tous produits (Lt)\",\n",
    "                  \"sort\": \"descending\"\n",
    "              },\n",
    "              \"color\": {\n",
    "                \"field\": \"partner\",\n",
    "                \"type\": \"nominal\", \n",
    "                \"sort\": SORT_LABELS, \n",
    "                \"scale\": {\"domain\": SORT_LABELS},\n",
    "              }\n",
    "            }\n",
    "          },\n",
    "          {\n",
    "            \"transform\": [\n",
    "                {\n",
    "              \"filter\": {\"field\": \"group\", \"equal\": \"export\"}\n",
    "            },\n",
    "            {\n",
    "                  \"aggregate\": [{\n",
    "                   \"op\": \"sum\",\n",
    "                   \"field\": \"value\",\n",
    "                   \"as\": \"total_value\"\n",
    "                  }],\n",
    "                  \"groupby\": [\"partner\"]\n",
    "            }\n",
    "            ],\n",
    "            \"mark\": {\"type\":\"bar\", \"tooltip\": {\"content\": \"data\"}},\n",
    "            \"encoding\": {\n",
    "              \"y\": {\n",
    "                \"field\": \"partner\", \n",
    "                \"title\": None, \n",
    "                \"axis\": {\"orient\": \"right\"}, \n",
    "                \"type\": \"ordinal\",\n",
    "                \"sort\": SORT_LABELS\n",
    "              },\n",
    "              \"x\": {\n",
    "                \"field\": \"total_value\",\n",
    "                \"type\": \"quantitative\",\n",
    "                \"title\": \"Valeur tous produits (Lt)\",\n",
    "                \"sort\": \"ascending\"\n",
    "              },\n",
    "              \"color\": {\n",
    "                \"field\": \"partner\",\n",
    "                \"type\": \"nominal\", \n",
    "                \"sort\": SORT_LABELS, \n",
    "                \"scale\": {\"domain\": SORT_LABELS},\n",
    "              }\n",
    "            }\n",
    "          }\n",
    "          ]}\n",
    "        ]\n",
    "    }\n",
    "    )"
   ]
  },
  {
   "cell_type": "code",
   "execution_count": 263,
   "id": "c19eb72b-d3ee-4419-b046-e068bafe79ed",
   "metadata": {},
   "outputs": [
    {
     "data": {
      "application/vnd.vegalite.v4+json": {
       "data": {
        "values": [
         {
          "group": "import",
          "partner": "France",
          "product": "Chemical products",
          "value": 775525.70312688
         },
         {
          "group": "import",
          "partner": "colonies",
          "product": "Chemical products",
          "value": 812862
         },
         {
          "group": "import",
          "partner": "Monde",
          "product": "Chemical products",
          "value": 7492131.653461499
         },
         {
          "group": "export",
          "partner": "France",
          "product": "Chemical products",
          "value": 22957248.910618532
         },
         {
          "group": "export",
          "partner": "Monde",
          "product": "Chemical products",
          "value": 6301990.0234013
         },
         {
          "group": "export",
          "partner": "colonies",
          "product": "Chemical products",
          "value": 1697334
         },
         {
          "group": "export",
          "partner": "Fraude ?",
          "product": "Chemical products",
          "value": -21876053.577431455
         },
         {
          "group": "import",
          "partner": "France",
          "product": "Crude materials, inedible, except combustibles",
          "value": 1109980.995850666
         },
         {
          "group": "import",
          "partner": "Monde",
          "product": "Crude materials, inedible, except combustibles",
          "value": 22946971.777691305
         },
         {
          "group": "import",
          "partner": "colonies",
          "product": "Crude materials, inedible, except combustibles",
          "value": 1187898
         },
         {
          "group": "export",
          "partner": "France",
          "product": "Crude materials, inedible, except combustibles",
          "value": 10395631.03155424
         },
         {
          "group": "export",
          "partner": "Monde",
          "product": "Crude materials, inedible, except combustibles",
          "value": 2951822.4185500015
         },
         {
          "group": "export",
          "partner": "colonies",
          "product": "Crude materials, inedible, except combustibles",
          "value": 184365
         },
         {
          "group": "export",
          "partner": "Fraude ?",
          "product": "Crude materials, inedible, except combustibles",
          "value": 11713032.32343773
         },
         {
          "group": "import",
          "partner": "France",
          "product": "Wool threads and fabrics",
          "value": 13455862.5
         },
         {
          "group": "import",
          "partner": "Monde",
          "product": "Wool threads and fabrics",
          "value": 6242776.5901420005
         },
         {
          "group": "export",
          "partner": "France",
          "product": "Wool threads and fabrics",
          "value": 17734297.355
         },
         {
          "group": "export",
          "partner": "Monde",
          "product": "Wool threads and fabrics",
          "value": 11583111.699996203
         },
         {
          "group": "export",
          "partner": "colonies",
          "product": "Wool threads and fabrics",
          "value": 197015
         },
         {
          "group": "export",
          "partner": "Fraude ?",
          "product": "Wool threads and fabrics",
          "value": -9815784.964854203
         },
         {
          "group": "import",
          "partner": "France",
          "product": "Leather, wood and paper products",
          "value": 1516085.3104912823
         },
         {
          "group": "import",
          "partner": "Monde",
          "product": "Leather, wood and paper products",
          "value": 3286488.0620812
         },
         {
          "group": "import",
          "partner": "colonies",
          "product": "Leather, wood and paper products",
          "value": 317375
         },
         {
          "group": "export",
          "partner": "France",
          "product": "Leather, wood and paper products",
          "value": 3423274.5988733224
         },
         {
          "group": "export",
          "partner": "Monde",
          "product": "Leather, wood and paper products",
          "value": 1209533.2867897
         },
         {
          "group": "export",
          "partner": "colonies",
          "product": "Leather, wood and paper products",
          "value": 460315
         },
         {
          "group": "export",
          "partner": "Fraude ?",
          "product": "Leather, wood and paper products",
          "value": 26825.486909460276
         },
         {
          "group": "import",
          "partner": "colonies",
          "product": "Plantation foodstuffs",
          "value": 29202350
         },
         {
          "group": "import",
          "partner": "Monde",
          "product": "Plantation foodstuffs",
          "value": 2351110.62477975
         },
         {
          "group": "import",
          "partner": "France",
          "product": "Plantation foodstuffs",
          "value": 16869.6
         },
         {
          "group": "export",
          "partner": "Monde",
          "product": "Plantation foodstuffs",
          "value": 23252475.2031105
         },
         {
          "group": "export",
          "partner": "France",
          "product": "Plantation foodstuffs",
          "value": 3803715.4551561004
         },
         {
          "group": "export",
          "partner": "colonies",
          "product": "Plantation foodstuffs",
          "value": 67219
         },
         {
          "group": "export",
          "partner": "Fraude ?",
          "product": "Plantation foodstuffs",
          "value": 4446920.566513151
         },
         {
          "group": "import",
          "partner": "France",
          "product": "Other",
          "value": 3157255.64217973
         },
         {
          "group": "import",
          "partner": "Monde",
          "product": "Other",
          "value": 351292.23803380004
         },
         {
          "group": "import",
          "partner": "colonies",
          "product": "Other",
          "value": 17782
         },
         {
          "group": "export",
          "partner": "France",
          "product": "Other",
          "value": 2481879.5253802594
         },
         {
          "group": "export",
          "partner": "Monde",
          "product": "Other",
          "value": 873680.1504149999
         },
         {
          "group": "export",
          "partner": "colonies",
          "product": "Other",
          "value": 1934464
         },
         {
          "group": "export",
          "partner": "Fraude ?",
          "product": "Other",
          "value": -1763693.7955817292
         },
         {
          "group": "import",
          "partner": "France",
          "product": "Silk threads and fabrics",
          "value": 4812631.71005
         },
         {
          "group": "import",
          "partner": "Monde",
          "product": "Silk threads and fabrics",
          "value": 5348675
         },
         {
          "group": "export",
          "partner": "France",
          "product": "Silk threads and fabrics",
          "value": 4679297
         },
         {
          "group": "export",
          "partner": "Monde",
          "product": "Silk threads and fabrics",
          "value": 3861234
         },
         {
          "group": "export",
          "partner": "colonies",
          "product": "Silk threads and fabrics",
          "value": 625748
         },
         {
          "group": "export",
          "partner": "Fraude ?",
          "product": "Silk threads and fabrics",
          "value": 995027.7100499999
         },
         {
          "group": "import",
          "partner": "France",
          "product": "Other industrial products",
          "value": 4017321.76462729
         },
         {
          "group": "import",
          "partner": "Monde",
          "product": "Other industrial products",
          "value": 5202858.56769418
         },
         {
          "group": "export",
          "partner": "France",
          "product": "Other industrial products",
          "value": 6587101.314098859
         },
         {
          "group": "export",
          "partner": "Monde",
          "product": "Other industrial products",
          "value": 3591089.492147399
         },
         {
          "group": "export",
          "partner": "colonies",
          "product": "Other industrial products",
          "value": 4944139
         },
         {
          "group": "export",
          "partner": "Fraude ?",
          "product": "Other industrial products",
          "value": -5902149.47392479
         },
         {
          "group": "import",
          "partner": "France",
          "product": "Oils",
          "value": 2051079.4332270217
         },
         {
          "group": "import",
          "partner": "Monde",
          "product": "Oils",
          "value": 20286512.494104
         },
         {
          "group": "export",
          "partner": "France",
          "product": "Oils",
          "value": 2551212.0919048693
         },
         {
          "group": "export",
          "partner": "Monde",
          "product": "Oils",
          "value": 1946411.9312804
         },
         {
          "group": "export",
          "partner": "colonies",
          "product": "Oils",
          "value": 956397
         },
         {
          "group": "export",
          "partner": "Fraude ?",
          "product": "Oils",
          "value": 16883570.904145755
         },
         {
          "group": "import",
          "partner": "France",
          "product": "Drinks and tobacco",
          "value": 2184185.82155777
         },
         {
          "group": "import",
          "partner": "Monde",
          "product": "Drinks and tobacco",
          "value": 506589.51558540005
         },
         {
          "group": "import",
          "partner": "colonies",
          "product": "Drinks and tobacco",
          "value": 75368
         },
         {
          "group": "export",
          "partner": "France",
          "product": "Drinks and tobacco",
          "value": 609342.8481674901
         },
         {
          "group": "export",
          "partner": "Monde",
          "product": "Drinks and tobacco",
          "value": 1287949.5667778999
         },
         {
          "group": "export",
          "partner": "colonies",
          "product": "Drinks and tobacco",
          "value": 1465042
         },
         {
          "group": "export",
          "partner": "Fraude ?",
          "product": "Drinks and tobacco",
          "value": -596191.0778022199
         },
         {
          "group": "import",
          "partner": "France",
          "product": "Precious metals",
          "value": 7270
         },
         {
          "group": "import",
          "partner": "Monde",
          "product": "Precious metals",
          "value": 31317
         },
         {
          "group": "export",
          "partner": "colonies",
          "product": "Precious metals",
          "value": 36989
         },
         {
          "group": "export",
          "partner": "France",
          "product": "Precious metals",
          "value": 3094
         },
         {
          "group": "export",
          "partner": "Fraude ?",
          "product": "Precious metals",
          "value": -1496
         },
         {
          "group": "import",
          "partner": "France",
          "product": "Other threads and fabrics",
          "value": 3041250.548556
         },
         {
          "group": "import",
          "partner": "Monde",
          "product": "Other threads and fabrics",
          "value": 1665776.808974
         },
         {
          "group": "export",
          "partner": "France",
          "product": "Other threads and fabrics",
          "value": 1622261.0098055003
         },
         {
          "group": "export",
          "partner": "Monde",
          "product": "Other threads and fabrics",
          "value": 989791.23367805
         },
         {
          "group": "export",
          "partner": "colonies",
          "product": "Other threads and fabrics",
          "value": 532181
         },
         {
          "group": "export",
          "partner": "Fraude ?",
          "product": "Other threads and fabrics",
          "value": 1562794.1140464493
         },
         {
          "group": "import",
          "partner": "France",
          "product": "Other foodstuffs and live animals",
          "value": 4494938.785433328
         },
         {
          "group": "import",
          "partner": "Monde",
          "product": "Other foodstuffs and live animals",
          "value": 17499895.61697713
         },
         {
          "group": "import",
          "partner": "colonies",
          "product": "Other foodstuffs and live animals",
          "value": 33390
         },
         {
          "group": "export",
          "partner": "France",
          "product": "Other foodstuffs and live animals",
          "value": 10980261.744417725
         },
         {
          "group": "export",
          "partner": "Monde",
          "product": "Other foodstuffs and live animals",
          "value": 4028625.077713261
         },
         {
          "group": "export",
          "partner": "colonies",
          "product": "Other foodstuffs and live animals",
          "value": 1299177
         },
         {
          "group": "export",
          "partner": "Fraude ?",
          "product": "Other foodstuffs and live animals",
          "value": 5720160.5802794695
         },
         {
          "group": "import",
          "partner": "France",
          "product": "Coton threads and fabrics",
          "value": 2234656.25
         },
         {
          "group": "import",
          "partner": "Monde",
          "product": "Coton threads and fabrics",
          "value": 5731464.2014916
         },
         {
          "group": "export",
          "partner": "France",
          "product": "Coton threads and fabrics",
          "value": 3228003.2908
         },
         {
          "group": "export",
          "partner": "Monde",
          "product": "Coton threads and fabrics",
          "value": 3551437.0063199997
         },
         {
          "group": "export",
          "partner": "colonies",
          "product": "Coton threads and fabrics",
          "value": 2211244
         },
         {
          "group": "export",
          "partner": "Fraude ?",
          "product": "Coton threads and fabrics",
          "value": -1024563.8456283994
         }
        ]
       },
       "spacing": 0,
       "title": "Répartition des imports/exports de Marseille en 1789 par produits (SITC simpl)",
       "vconcat": [
        {
         "hconcat": [
          {
           "encoding": {
            "color": {
             "field": "partner",
             "scale": {
              "domain": [
               "colonies",
               "Monde",
               "France",
               "Fraude ?",
               "Re-exp ou fraude ?"
              ]
             },
             "sort": [
              "colonies",
              "Monde",
              "France",
              "Fraude ?",
              "Re-exp ou fraude ?"
             ],
             "type": "nominal"
            },
            "x": {
             "field": "value",
             "sort": "descending",
             "title": "Valeur (Lt)",
             "type": "quantitative"
            },
            "y": {
             "field": "product",
             "sort": "-x",
             "title": null,
             "type": "ordinal"
            }
           },
           "mark": {
            "tooltip": {
             "content": "data"
            },
            "type": "bar"
           },
           "title": "import",
           "transform": [
            {
             "filter": {
              "equal": "import",
              "field": "group"
             }
            }
           ]
          },
          {
           "encoding": {
            "color": {
             "field": "partner",
             "scale": {
              "domain": [
               "colonies",
               "Monde",
               "France",
               "Fraude ?",
               "Re-exp ou fraude ?"
              ]
             },
             "sort": [
              "colonies",
              "Monde",
              "France",
              "Fraude ?",
              "Re-exp ou fraude ?"
             ],
             "type": "nominal"
            },
            "x": {
             "field": "value",
             "sort": "ascending",
             "title": "Valeur (Lt)",
             "type": "quantitative"
            },
            "y": {
             "axis": null,
             "field": "product",
             "sort": "-x",
             "title": null,
             "type": "ordinal"
            }
           },
           "mark": {
            "tooltip": {
             "content": "data"
            },
            "type": "bar"
           },
           "title": "export",
           "transform": [
            {
             "filter": {
              "equal": "export",
              "field": "group"
             }
            }
           ]
          }
         ]
        },
        {
         "hconcat": [
          {
           "encoding": {
            "color": {
             "field": "partner",
             "scale": {
              "domain": [
               "colonies",
               "Monde",
               "France",
               "Fraude ?",
               "Re-exp ou fraude ?"
              ]
             },
             "sort": [
              "colonies",
              "Monde",
              "France",
              "Fraude ?",
              "Re-exp ou fraude ?"
             ],
             "type": "nominal"
            },
            "x": {
             "field": "total_value",
             "sort": "descending",
             "title": "Valeur tous produits (Lt)",
             "type": "quantitative"
            },
            "y": {
             "field": "partner",
             "sort": [
              "colonies",
              "Monde",
              "France",
              "Fraude ?",
              "Re-exp ou fraude ?"
             ],
             "title": null,
             "type": "ordinal"
            }
           },
           "mark": {
            "tooltip": {
             "content": "data"
            },
            "type": "bar"
           },
           "transform": [
            {
             "filter": {
              "equal": "import",
              "field": "group"
             }
            },
            {
             "aggregate": [
              {
               "as": "total_value",
               "field": "value",
               "op": "sum"
              }
             ],
             "groupby": [
              "partner"
             ]
            }
           ]
          },
          {
           "encoding": {
            "color": {
             "field": "partner",
             "scale": {
              "domain": [
               "colonies",
               "Monde",
               "France",
               "Fraude ?",
               "Re-exp ou fraude ?"
              ]
             },
             "sort": [
              "colonies",
              "Monde",
              "France",
              "Fraude ?",
              "Re-exp ou fraude ?"
             ],
             "type": "nominal"
            },
            "x": {
             "field": "total_value",
             "sort": "ascending",
             "title": "Valeur tous produits (Lt)",
             "type": "quantitative"
            },
            "y": {
             "axis": {
              "orient": "right"
             },
             "field": "partner",
             "sort": [
              "colonies",
              "Monde",
              "France",
              "Fraude ?",
              "Re-exp ou fraude ?"
             ],
             "title": null,
             "type": "ordinal"
            }
           },
           "mark": {
            "tooltip": {
             "content": "data"
            },
            "type": "bar"
           },
           "transform": [
            {
             "filter": {
              "equal": "export",
              "field": "group"
             }
            },
            {
             "aggregate": [
              {
               "as": "total_value",
               "field": "value",
               "op": "sum"
              }
             ],
             "groupby": [
              "partner"
             ]
            }
           ]
          }
         ]
        }
       ]
      },
      "image/png": "[encoded data removed]"
     },
     "metadata": {},
     "output_type": "display_data"
    },
    {
     "data": {
      "application/vnd.vegalite.v4+json": {
       "data": {
        "values": [
         {
          "group": "import",
          "partner": "France",
          "product": "Chemical products",
          "value": 280877.01974728
         },
         {
          "group": "import",
          "partner": "Monde",
          "product": "Chemical products",
          "value": 508907
         },
         {
          "group": "import",
          "partner": "colonies",
          "product": "Chemical products",
          "value": 89556
         },
         {
          "group": "export",
          "partner": "France",
          "product": "Chemical products",
          "value": 110962.29001099999
         },
         {
          "group": "export",
          "partner": "Monde",
          "product": "Chemical products",
          "value": 101042
         },
         {
          "group": "export",
          "partner": "colonies",
          "product": "Chemical products",
          "value": 16237
         },
         {
          "group": "export",
          "partner": "Re-exp ou fraude ?",
          "product": "Chemical products",
          "value": 651098.72973628
         },
         {
          "group": "import",
          "partner": "France",
          "product": "Crude materials, inedible, except combustibles",
          "value": 331649.11263924994
         },
         {
          "group": "import",
          "partner": "Monde",
          "product": "Crude materials, inedible, except combustibles",
          "value": 2490363
         },
         {
          "group": "import",
          "partner": "colonies",
          "product": "Crude materials, inedible, except combustibles",
          "value": 1101518
         },
         {
          "group": "export",
          "partner": "France",
          "product": "Crude materials, inedible, except combustibles",
          "value": 1340701.5201395
         },
         {
          "group": "export",
          "partner": "Monde",
          "product": "Crude materials, inedible, except combustibles",
          "value": 719051
         },
         {
          "group": "export",
          "partner": "colonies",
          "product": "Crude materials, inedible, except combustibles",
          "value": 6630
         },
         {
          "group": "export",
          "partner": "Re-exp ou fraude ?",
          "product": "Crude materials, inedible, except combustibles",
          "value": 1857147.5924997497
         },
         {
          "group": "import",
          "partner": "France",
          "product": "Wool threads and fabrics",
          "value": 123728
         },
         {
          "group": "import",
          "partner": "Monde",
          "product": "Wool threads and fabrics",
          "value": 1721100
         },
         {
          "group": "export",
          "partner": "colonies",
          "product": "Wool threads and fabrics",
          "value": 71104
         },
         {
          "group": "export",
          "partner": "France",
          "product": "Wool threads and fabrics",
          "value": 1376
         },
         {
          "group": "export",
          "partner": "Re-exp ou fraude ?",
          "product": "Wool threads and fabrics",
          "value": 1772348
         },
         {
          "group": "import",
          "partner": "France",
          "product": "Leather, wood and paper products",
          "value": 103605.74532503
         },
         {
          "group": "import",
          "partner": "Monde",
          "product": "Leather, wood and paper products",
          "value": 664528
         },
         {
          "group": "import",
          "partner": "colonies",
          "product": "Leather, wood and paper products",
          "value": 61376
         },
         {
          "group": "export",
          "partner": "France",
          "product": "Leather, wood and paper products",
          "value": 155250.65
         },
         {
          "group": "export",
          "partner": "colonies",
          "product": "Leather, wood and paper products",
          "value": 32319
         },
         {
          "group": "export",
          "partner": "Re-exp ou fraude ?",
          "product": "Leather, wood and paper products",
          "value": 641940.09532503
         },
         {
          "group": "import",
          "partner": "France",
          "product": "Plantation foodstuffs",
          "value": 42550
         },
         {
          "group": "import",
          "partner": "colonies",
          "product": "Plantation foodstuffs",
          "value": 7345722
         },
         {
          "group": "import",
          "partner": "Monde",
          "product": "Plantation foodstuffs",
          "value": 1649675
         },
         {
          "group": "export",
          "partner": "France",
          "product": "Plantation foodstuffs",
          "value": 57275
         },
         {
          "group": "export",
          "partner": "Monde",
          "product": "Plantation foodstuffs",
          "value": 3394711
         },
         {
          "group": "export",
          "partner": "colonies",
          "product": "Plantation foodstuffs",
          "value": 436
         },
         {
          "group": "export",
          "partner": "Fraude ?",
          "product": "Plantation foodstuffs",
          "value": 5585525
         },
         {
          "group": "import",
          "partner": "France",
          "product": "Other",
          "value": 212659
         },
         {
          "group": "import",
          "partner": "Monde",
          "product": "Other",
          "value": 760882
         },
         {
          "group": "import",
          "partner": "colonies",
          "product": "Other",
          "value": 1353
         },
         {
          "group": "export",
          "partner": "France",
          "product": "Other",
          "value": 14282.32008
         },
         {
          "group": "export",
          "partner": "colonies",
          "product": "Other",
          "value": 8932
         },
         {
          "group": "export",
          "partner": "Re-exp ou fraude ?",
          "product": "Other",
          "value": 951679.67992
         },
         {
          "group": "import",
          "partner": "France",
          "product": "Silk threads and fabrics",
          "value": 218180
         },
         {
          "group": "import",
          "partner": "Monde",
          "product": "Silk threads and fabrics",
          "value": 960770
         },
         {
          "group": "export",
          "partner": "colonies",
          "product": "Silk threads and fabrics",
          "value": 2100
         },
         {
          "group": "export",
          "partner": "Re-exp ou fraude ?",
          "product": "Silk threads and fabrics",
          "value": 1176850
         },
         {
          "group": "import",
          "partner": "France",
          "product": "Other industrial products",
          "value": 314846.200145
         },
         {
          "group": "import",
          "partner": "Monde",
          "product": "Other industrial products",
          "value": 2999118
         },
         {
          "group": "export",
          "partner": "France",
          "product": "Other industrial products",
          "value": 141543.23926685
         },
         {
          "group": "export",
          "partner": "colonies",
          "product": "Other industrial products",
          "value": 313967
         },
         {
          "group": "export",
          "partner": "Re-exp ou fraude ?",
          "product": "Other industrial products",
          "value": 2858453.96087815
         },
         {
          "group": "import",
          "partner": "France",
          "product": "Oils",
          "value": 67874.50041114
         },
         {
          "group": "import",
          "partner": "Monde",
          "product": "Oils",
          "value": 537431
         },
         {
          "group": "export",
          "partner": "France",
          "product": "Oils",
          "value": 23526.56986543
         },
         {
          "group": "export",
          "partner": "colonies",
          "product": "Oils",
          "value": 14793
         },
         {
          "group": "export",
          "partner": "Re-exp ou fraude ?",
          "product": "Oils",
          "value": 566985.93054571
         },
         {
          "group": "import",
          "partner": "France",
          "product": "Drinks and tobacco",
          "value": 1386671.6049512897
         },
         {
          "group": "import",
          "partner": "Monde",
          "product": "Drinks and tobacco",
          "value": 4440210
         },
         {
          "group": "import",
          "partner": "colonies",
          "product": "Drinks and tobacco",
          "value": 68894
         },
         {
          "group": "export",
          "partner": "France",
          "product": "Drinks and tobacco",
          "value": 130892.10000436002
         },
         {
          "group": "export",
          "partner": "Monde",
          "product": "Drinks and tobacco",
          "value": 345721
         },
         {
          "group": "export",
          "partner": "colonies",
          "product": "Drinks and tobacco",
          "value": 93596
         },
         {
          "group": "export",
          "partner": "Re-exp ou fraude ?",
          "product": "Drinks and tobacco",
          "value": 5325566.504946929
         },
         {
          "group": "export",
          "partner": "Re-exp ou fraude ?",
          "product": "Precious metals",
          "value": 0
         },
         {
          "group": "import",
          "partner": "France",
          "product": "Other threads and fabrics",
          "value": 543957
         },
         {
          "group": "import",
          "partner": "Monde",
          "product": "Other threads and fabrics",
          "value": 5767681
         },
         {
          "group": "export",
          "partner": "France",
          "product": "Other threads and fabrics",
          "value": 27063.59978
         },
         {
          "group": "export",
          "partner": "colonies",
          "product": "Other threads and fabrics",
          "value": 411933
         },
         {
          "group": "export",
          "partner": "Re-exp ou fraude ?",
          "product": "Other threads and fabrics",
          "value": 5872641.40022
         },
         {
          "group": "import",
          "partner": "France",
          "product": "Other foodstuffs and live animals",
          "value": 369295.38427342597
         },
         {
          "group": "import",
          "partner": "Monde",
          "product": "Other foodstuffs and live animals",
          "value": 6929264
         },
         {
          "group": "import",
          "partner": "colonies",
          "product": "Other foodstuffs and live animals",
          "value": 1736
         },
         {
          "group": "export",
          "partner": "France",
          "product": "Other foodstuffs and live animals",
          "value": 1184400.059786
         },
         {
          "group": "export",
          "partner": "colonies",
          "product": "Other foodstuffs and live animals",
          "value": 390372
         },
         {
          "group": "export",
          "partner": "Re-exp ou fraude ?",
          "product": "Other foodstuffs and live animals",
          "value": 5725523.324487425
         },
         {
          "group": "import",
          "partner": "France",
          "product": "Coton threads and fabrics",
          "value": 99571
         },
         {
          "group": "import",
          "partner": "Monde",
          "product": "Coton threads and fabrics",
          "value": 4831856
         },
         {
          "group": "export",
          "partner": "colonies",
          "product": "Coton threads and fabrics",
          "value": 49084
         },
         {
          "group": "export",
          "partner": "France",
          "product": "Coton threads and fabrics",
          "value": 547605
         },
         {
          "group": "export",
          "partner": "Re-exp ou fraude ?",
          "product": "Coton threads and fabrics",
          "value": 4334738
         }
        ]
       },
       "spacing": 0,
       "title": "Répartition des imports/exports de Dunkerque en 1789 par produits (SITC simpl)",
       "vconcat": [
        {
         "hconcat": [
          {
           "encoding": {
            "color": {
             "field": "partner",
             "scale": {
              "domain": [
               "colonies",
               "Monde",
               "France",
               "Fraude ?",
               "Re-exp ou fraude ?"
              ]
             },
             "sort": [
              "colonies",
              "Monde",
              "France",
              "Fraude ?",
              "Re-exp ou fraude ?"
             ],
             "type": "nominal"
            },
            "x": {
             "field": "value",
             "sort": "descending",
             "title": "Valeur (Lt)",
             "type": "quantitative"
            },
            "y": {
             "field": "product",
             "sort": "-x",
             "title": null,
             "type": "ordinal"
            }
           },
           "mark": {
            "tooltip": {
             "content": "data"
            },
            "type": "bar"
           },
           "title": "import",
           "transform": [
            {
             "filter": {
              "equal": "import",
              "field": "group"
             }
            }
           ]
          },
          {
           "encoding": {
            "color": {
             "field": "partner",
             "scale": {
              "domain": [
               "colonies",
               "Monde",
               "France",
               "Fraude ?",
               "Re-exp ou fraude ?"
              ]
             },
             "sort": [
              "colonies",
              "Monde",
              "France",
              "Fraude ?",
              "Re-exp ou fraude ?"
             ],
             "type": "nominal"
            },
            "x": {
             "field": "value",
             "sort": "ascending",
             "title": "Valeur (Lt)",
             "type": "quantitative"
            },
            "y": {
             "axis": null,
             "field": "product",
             "sort": "-x",
             "title": null,
             "type": "ordinal"
            }
           },
           "mark": {
            "tooltip": {
             "content": "data"
            },
            "type": "bar"
           },
           "title": "export",
           "transform": [
            {
             "filter": {
              "equal": "export",
              "field": "group"
             }
            }
           ]
          }
         ]
        },
        {
         "hconcat": [
          {
           "encoding": {
            "color": {
             "field": "partner",
             "scale": {
              "domain": [
               "colonies",
               "Monde",
               "France",
               "Fraude ?",
               "Re-exp ou fraude ?"
              ]
             },
             "sort": [
              "colonies",
              "Monde",
              "France",
              "Fraude ?",
              "Re-exp ou fraude ?"
             ],
             "type": "nominal"
            },
            "x": {
             "field": "total_value",
             "sort": "descending",
             "title": "Valeur tous produits (Lt)",
             "type": "quantitative"
            },
            "y": {
             "field": "partner",
             "sort": [
              "colonies",
              "Monde",
              "France",
              "Fraude ?",
              "Re-exp ou fraude ?"
             ],
             "title": null,
             "type": "ordinal"
            }
           },
           "mark": {
            "tooltip": {
             "content": "data"
            },
            "type": "bar"
           },
           "transform": [
            {
             "filter": {
              "equal": "import",
              "field": "group"
             }
            },
            {
             "aggregate": [
              {
               "as": "total_value",
               "field": "value",
               "op": "sum"
              }
             ],
             "groupby": [
              "partner"
             ]
            }
           ]
          },
          {
           "encoding": {
            "color": {
             "field": "partner",
             "scale": {
              "domain": [
               "colonies",
               "Monde",
               "France",
               "Fraude ?",
               "Re-exp ou fraude ?"
              ]
             },
             "sort": [
              "colonies",
              "Monde",
              "France",
              "Fraude ?",
              "Re-exp ou fraude ?"
             ],
             "type": "nominal"
            },
            "x": {
             "field": "total_value",
             "sort": "ascending",
             "title": "Valeur tous produits (Lt)",
             "type": "quantitative"
            },
            "y": {
             "axis": {
              "orient": "right"
             },
             "field": "partner",
             "sort": [
              "colonies",
              "Monde",
              "France",
              "Fraude ?",
              "Re-exp ou fraude ?"
             ],
             "title": null,
             "type": "ordinal"
            }
           },
           "mark": {
            "tooltip": {
             "content": "data"
            },
            "type": "bar"
           },
           "transform": [
            {
             "filter": {
              "equal": "export",
              "field": "group"
             }
            },
            {
             "aggregate": [
              {
               "as": "total_value",
               "field": "value",
               "op": "sum"
              }
             ],
             "groupby": [
              "partner"
             ]
            }
           ]
          }
         ]
        }
       ]
      },
      "image/png": "[encoded data removed]"
     },
     "metadata": {},
     "output_type": "display_data"
    }
   ],
   "source": [
    "pyramide_port_franc(\"Marseille\", data)\n",
    "pyramide_port_franc(\"Dunkerque\", data)"
   ]
  },
  {
   "cell_type": "code",
   "execution_count": null,
   "id": "5f22ba2c-f497-4743-9d5d-cca7e2aad10d",
   "metadata": {},
   "outputs": [],
   "source": [
    "ajouter la valeur totale pour tout le graphique pour chacun des 5 (6 avecceux dont on est sûrs que c'est de la fraude) partners\n",
    "entrepôt ou fraude (résidu) - pour la première ligne c'est sûr que c'est de la fraude\n",
    "regarder navigo :peut-on distinguer entre entrepôt légitime et fraude ? Y a-t-il suffisamment de navires (quel tonnage ?) qui partent avec ce genre de produits ?  --> voir qui travaille là-dessus\n",
    "pour les autres ports francs on a les exports, donc pas besoin de calculer un résidu  --> plus facile de distinguer la fraude de l'entrepôt\n",
    "regarder quand commence cet entrepôt / fraude --> lire la thèse de Christian p. 167 - 169, d'après Christian on pourrait mettre en évidence que ça commence vers 1730\n",
    "Plusieurs séries temporelles ?"
   ]
  },
  {
   "cell_type": "code",
   "execution_count": null,
   "id": "ed1ba3b0-7c1a-4e91-8a2c-b5027694817c",
   "metadata": {},
   "outputs": [],
   "source": []
  }
 ],
 "metadata": {
  "kernelspec": {
   "display_name": "Python 3 (ipykernel)",
   "language": "python",
   "name": "python3"
  },
  "language_info": {
   "codemirror_mode": {
    "name": "ipython",
    "version": 3
   },
   "file_extension": ".py",
   "mimetype": "text/x-python",
   "name": "python",
   "nbconvert_exporter": "python",
   "pygments_lexer": "ipython3",
   "version": "3.8.0"
  }
 },
 "nbformat": 4,
 "nbformat_minor": 5
}
