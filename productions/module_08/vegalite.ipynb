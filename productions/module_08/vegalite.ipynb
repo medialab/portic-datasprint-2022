{
 "cells": [
  {
   "cell_type": "code",
   "execution_count": 1,
   "id": "aa751e41-a63b-4525-a950-97c9d86f75f5",
   "metadata": {},
   "outputs": [],
   "source": [
    "from IPython.display import display\n",
    "import pandas as pd\n",
    "\n",
    "def VegaLite(spec):\n",
    "    bundle = {}\n",
    "    bundle['application/vnd.vegalite.v4+json'] = spec\n",
    "    display(bundle, raw=True)"
   ]
  },
  {
   "cell_type": "code",
   "execution_count": 2,
   "id": "2d6a8fd8-1384-46cf-aecf-18d03d95a3b8",
   "metadata": {},
   "outputs": [],
   "source": [
    "import json\n",
    "\n",
    "with open(\"data/import_export_ports_francs.json\", \"r\") as f:\n",
    "    data = json.load(f)"
   ]
  },
  {
   "cell_type": "code",
   "execution_count": 3,
   "id": "e5536b8c-a4ea-4e73-9a47-ff4a0f762ef7",
   "metadata": {},
   "outputs": [],
   "source": [
    "SORT_LABELS = [\"colonies\", \"Monde\", \"France\", \"Fraude ?\", \"Re-exp ou fraude ?\"]\n",
    "PALETTE = [\"purple\", \"darkblue\", \"olive\", \"lightgrey\", \"darkgrey\"]"
   ]
  },
  {
   "cell_type": "code",
   "execution_count": 13,
   "id": "20855502-91ae-4478-bf88-68385eaad198",
   "metadata": {},
   "outputs": [
    {
     "data": {
      "application/vnd.vegalite.v4+json": {
       "data": {
        "values": [
         {
          "group": "import",
          "partner": "France",
          "product": "Silk threads and fabrics",
          "value": 218180
         },
         {
          "group": "import",
          "partner": "Monde",
          "product": "Silk threads and fabrics",
          "value": 960770
         },
         {
          "group": "export",
          "partner": "colonies",
          "product": "Silk threads and fabrics",
          "value": 2100
         },
         {
          "group": "export",
          "partner": "Re-exp ou fraude ?",
          "product": "Silk threads and fabrics",
          "value": 1176850
         },
         {
          "group": "import",
          "partner": "France",
          "product": "Other industrial products",
          "value": 314846.200145
         },
         {
          "group": "import",
          "partner": "Monde",
          "product": "Other industrial products",
          "value": 2999118
         },
         {
          "group": "export",
          "partner": "France",
          "product": "Other industrial products",
          "value": 141543.23926685
         },
         {
          "group": "export",
          "partner": "colonies",
          "product": "Other industrial products",
          "value": 313967
         },
         {
          "group": "export",
          "partner": "Re-exp ou fraude ?",
          "product": "Other industrial products",
          "value": 2858453.96087815
         },
         {
          "group": "import",
          "partner": "France",
          "product": "Oils",
          "value": 67874.50041114
         },
         {
          "group": "import",
          "partner": "Monde",
          "product": "Oils",
          "value": 537431
         },
         {
          "group": "export",
          "partner": "France",
          "product": "Oils",
          "value": 23526.56986543
         },
         {
          "group": "export",
          "partner": "colonies",
          "product": "Oils",
          "value": 14793
         },
         {
          "group": "export",
          "partner": "Re-exp ou fraude ?",
          "product": "Oils",
          "value": 566985.93054571
         },
         {
          "group": "import",
          "partner": "France",
          "product": "Other threads and fabrics",
          "value": 543957
         },
         {
          "group": "import",
          "partner": "Monde",
          "product": "Other threads and fabrics",
          "value": 5767681
         },
         {
          "group": "export",
          "partner": "France",
          "product": "Other threads and fabrics",
          "value": 27063.59978
         },
         {
          "group": "export",
          "partner": "colonies",
          "product": "Other threads and fabrics",
          "value": 411933
         },
         {
          "group": "export",
          "partner": "Re-exp ou fraude ?",
          "product": "Other threads and fabrics",
          "value": 5872641.40022
         },
         {
          "group": "import",
          "partner": "France",
          "product": "Leather, wood and paper products",
          "value": 103605.74532503
         },
         {
          "group": "import",
          "partner": "Monde",
          "product": "Leather, wood and paper products",
          "value": 664528
         },
         {
          "group": "import",
          "partner": "colonies",
          "product": "Leather, wood and paper products",
          "value": 61376
         },
         {
          "group": "export",
          "partner": "France",
          "product": "Leather, wood and paper products",
          "value": 155250.65
         },
         {
          "group": "export",
          "partner": "colonies",
          "product": "Leather, wood and paper products",
          "value": 32319
         },
         {
          "group": "export",
          "partner": "Re-exp ou fraude ?",
          "product": "Leather, wood and paper products",
          "value": 641940.09532503
         },
         {
          "group": "import",
          "partner": "France",
          "product": "Wool threads and fabrics",
          "value": 123728
         },
         {
          "group": "import",
          "partner": "Monde",
          "product": "Wool threads and fabrics",
          "value": 1721100
         },
         {
          "group": "export",
          "partner": "colonies",
          "product": "Wool threads and fabrics",
          "value": 71104
         },
         {
          "group": "export",
          "partner": "France",
          "product": "Wool threads and fabrics",
          "value": 1376
         },
         {
          "group": "export",
          "partner": "Re-exp ou fraude ?",
          "product": "Wool threads and fabrics",
          "value": 1772348
         },
         {
          "group": "import",
          "partner": "France",
          "product": "Drinks and tobacco",
          "value": 1386671.6049512897
         },
         {
          "group": "import",
          "partner": "Monde",
          "product": "Drinks and tobacco",
          "value": 4440210
         },
         {
          "group": "import",
          "partner": "colonies",
          "product": "Drinks and tobacco",
          "value": 68894
         },
         {
          "group": "export",
          "partner": "France",
          "product": "Drinks and tobacco",
          "value": 130892.10000436002
         },
         {
          "group": "export",
          "partner": "Monde",
          "product": "Drinks and tobacco",
          "value": 345721
         },
         {
          "group": "export",
          "partner": "colonies",
          "product": "Drinks and tobacco",
          "value": 93596
         },
         {
          "group": "export",
          "partner": "Re-exp ou fraude ?",
          "product": "Drinks and tobacco",
          "value": 5325566.504946929
         },
         {
          "group": "import",
          "partner": "France",
          "product": "Other foodstuffs and live animals",
          "value": 369295.38427342597
         },
         {
          "group": "import",
          "partner": "Monde",
          "product": "Other foodstuffs and live animals",
          "value": 6929264
         },
         {
          "group": "import",
          "partner": "colonies",
          "product": "Other foodstuffs and live animals",
          "value": 1736
         },
         {
          "group": "export",
          "partner": "France",
          "product": "Other foodstuffs and live animals",
          "value": 1184400.059786
         },
         {
          "group": "export",
          "partner": "colonies",
          "product": "Other foodstuffs and live animals",
          "value": 390372
         },
         {
          "group": "export",
          "partner": "Re-exp ou fraude ?",
          "product": "Other foodstuffs and live animals",
          "value": 5725523.324487425
         },
         {
          "group": "import",
          "partner": "France",
          "product": "Plantation foodstuffs",
          "value": 42550
         },
         {
          "group": "import",
          "partner": "colonies",
          "product": "Plantation foodstuffs",
          "value": 7345722
         },
         {
          "group": "import",
          "partner": "Monde",
          "product": "Plantation foodstuffs",
          "value": 1649675
         },
         {
          "group": "export",
          "partner": "France",
          "product": "Plantation foodstuffs",
          "value": 57275
         },
         {
          "group": "export",
          "partner": "Monde",
          "product": "Plantation foodstuffs",
          "value": 3394711
         },
         {
          "group": "export",
          "partner": "colonies",
          "product": "Plantation foodstuffs",
          "value": 436
         },
         {
          "group": "export",
          "partner": "Fraude ?",
          "product": "Plantation foodstuffs",
          "value": 5585525
         },
         {
          "group": "import",
          "partner": "France",
          "product": "Coton threads and fabrics",
          "value": 99571
         },
         {
          "group": "import",
          "partner": "Monde",
          "product": "Coton threads and fabrics",
          "value": 4831856
         },
         {
          "group": "export",
          "partner": "colonies",
          "product": "Coton threads and fabrics",
          "value": 49084
         },
         {
          "group": "export",
          "partner": "France",
          "product": "Coton threads and fabrics",
          "value": 547605
         },
         {
          "group": "export",
          "partner": "Re-exp ou fraude ?",
          "product": "Coton threads and fabrics",
          "value": 4334738
         },
         {
          "group": "import",
          "partner": "France",
          "product": "Chemical products",
          "value": 280877.01974728
         },
         {
          "group": "import",
          "partner": "Monde",
          "product": "Chemical products",
          "value": 508907
         },
         {
          "group": "import",
          "partner": "colonies",
          "product": "Chemical products",
          "value": 89556
         },
         {
          "group": "export",
          "partner": "France",
          "product": "Chemical products",
          "value": 110962.29001099999
         },
         {
          "group": "export",
          "partner": "Monde",
          "product": "Chemical products",
          "value": 101042
         },
         {
          "group": "export",
          "partner": "colonies",
          "product": "Chemical products",
          "value": 16237
         },
         {
          "group": "export",
          "partner": "Re-exp ou fraude ?",
          "product": "Chemical products",
          "value": 651098.72973628
         },
         {
          "group": "import",
          "partner": "France",
          "product": "Crude materials, inedible, except combustibles",
          "value": 331649.11263924994
         },
         {
          "group": "import",
          "partner": "Monde",
          "product": "Crude materials, inedible, except combustibles",
          "value": 2490363
         },
         {
          "group": "import",
          "partner": "colonies",
          "product": "Crude materials, inedible, except combustibles",
          "value": 1101518
         },
         {
          "group": "export",
          "partner": "France",
          "product": "Crude materials, inedible, except combustibles",
          "value": 1340701.5201395
         },
         {
          "group": "export",
          "partner": "Monde",
          "product": "Crude materials, inedible, except combustibles",
          "value": 719051
         },
         {
          "group": "export",
          "partner": "colonies",
          "product": "Crude materials, inedible, except combustibles",
          "value": 6630
         },
         {
          "group": "export",
          "partner": "Re-exp ou fraude ?",
          "product": "Crude materials, inedible, except combustibles",
          "value": 1857147.5924997497
         },
         {
          "group": "import",
          "partner": "France",
          "product": "Other",
          "value": 212659
         },
         {
          "group": "import",
          "partner": "Monde",
          "product": "Other",
          "value": 760882
         },
         {
          "group": "import",
          "partner": "colonies",
          "product": "Other",
          "value": 1353
         },
         {
          "group": "export",
          "partner": "France",
          "product": "Other",
          "value": 14282.32008
         },
         {
          "group": "export",
          "partner": "colonies",
          "product": "Other",
          "value": 8932
         },
         {
          "group": "export",
          "partner": "Re-exp ou fraude ?",
          "product": "Other",
          "value": 951679.67992
         }
        ]
       },
       "encoding": {
        "color": {
         "field": "partner",
         "scale": {
          "domain": [
           "colonies",
           "Monde",
           "France",
           "Fraude ?",
           "Re-exp ou fraude ?"
          ],
          "range": [
           "purple",
           "darkblue",
           "olive",
           "lightgrey",
           "darkgrey"
          ]
         },
         "sort": [
          "colonies",
          "Monde",
          "France",
          "Fraude ?",
          "Re-exp ou fraude ?"
         ],
         "type": "nominal"
        },
        "column": {
         "field": "group"
        },
        "x": {
         "field": "value",
         "title": "Valeur (Lt)",
         "type": "quantitative"
        },
        "y": {
         "field": "product",
         "sort": "-x",
         "title": "Produits"
        }
       },
       "mark": {
        "tooltip": {
         "content": "data"
        },
        "type": "bar"
       },
       "title": "Répartition des imports/exports de Dunkerque en 1789 par produits (SITC simpl)"
      }
     },
     "metadata": {},
     "output_type": "display_data"
    }
   ],
   "source": [
    "VegaLite({\n",
    "  \"title\": \"Répartition des imports/exports de Dunkerque en 1789 par produits (SITC simpl)\",\n",
    "  \"data\": {\"values\": data[\"Dunkerque\"]},\n",
    "  \"mark\": {\"type\":\"bar\", \"tooltip\": {\"content\": \"data\"}},\n",
    "  \"encoding\": {\n",
    "    \"x\": {\"field\": \"value\", \"type\": \"quantitative\", \"title\": \"Valeur (Lt)\"},\n",
    "    \"column\": {\"field\": \"group\"},\n",
    "    \"y\": {\"field\": \"product\", \"sort\": \"-x\", \"title\": \"Produits\"},\n",
    "    \"color\": {\n",
    "        \"field\": \"partner\", \n",
    "        \"scale\": {\n",
    "            \"domain\": SORT_LABELS,\n",
    "            \"range\": PALETTE\n",
    "        },\n",
    "        \"sort\": SORT_LABELS,\n",
    "        \"type\": \"nominal\"\n",
    "    }\n",
    "  }\n",
    "})"
   ]
  },
  {
   "cell_type": "code",
   "execution_count": 5,
   "id": "6169eee7-7b08-4d7f-b6c1-0d6853797296",
   "metadata": {},
   "outputs": [
    {
     "data": {
      "application/vnd.vegalite.v4+json": {
       "data": {
        "values": [
         {
          "group": "import",
          "partner": "France",
          "product": "Silk threads and fabrics",
          "value": 218180
         },
         {
          "group": "import",
          "partner": "Monde",
          "product": "Silk threads and fabrics",
          "value": 960770
         },
         {
          "group": "export",
          "partner": "colonies",
          "product": "Silk threads and fabrics",
          "value": 2100
         },
         {
          "group": "export",
          "partner": "Re-exp ou fraude ?",
          "product": "Silk threads and fabrics",
          "value": 1176850
         },
         {
          "group": "import",
          "partner": "France",
          "product": "Other industrial products",
          "value": 314846.200145
         },
         {
          "group": "import",
          "partner": "Monde",
          "product": "Other industrial products",
          "value": 2999118
         },
         {
          "group": "export",
          "partner": "France",
          "product": "Other industrial products",
          "value": 141543.23926685
         },
         {
          "group": "export",
          "partner": "colonies",
          "product": "Other industrial products",
          "value": 313967
         },
         {
          "group": "export",
          "partner": "Re-exp ou fraude ?",
          "product": "Other industrial products",
          "value": 2858453.96087815
         },
         {
          "group": "import",
          "partner": "France",
          "product": "Oils",
          "value": 67874.50041114
         },
         {
          "group": "import",
          "partner": "Monde",
          "product": "Oils",
          "value": 537431
         },
         {
          "group": "export",
          "partner": "France",
          "product": "Oils",
          "value": 23526.56986543
         },
         {
          "group": "export",
          "partner": "colonies",
          "product": "Oils",
          "value": 14793
         },
         {
          "group": "export",
          "partner": "Re-exp ou fraude ?",
          "product": "Oils",
          "value": 566985.93054571
         },
         {
          "group": "import",
          "partner": "France",
          "product": "Other threads and fabrics",
          "value": 543957
         },
         {
          "group": "import",
          "partner": "Monde",
          "product": "Other threads and fabrics",
          "value": 5767681
         },
         {
          "group": "export",
          "partner": "France",
          "product": "Other threads and fabrics",
          "value": 27063.59978
         },
         {
          "group": "export",
          "partner": "colonies",
          "product": "Other threads and fabrics",
          "value": 411933
         },
         {
          "group": "export",
          "partner": "Re-exp ou fraude ?",
          "product": "Other threads and fabrics",
          "value": 5872641.40022
         },
         {
          "group": "import",
          "partner": "France",
          "product": "Leather, wood and paper products",
          "value": 103605.74532503
         },
         {
          "group": "import",
          "partner": "Monde",
          "product": "Leather, wood and paper products",
          "value": 664528
         },
         {
          "group": "import",
          "partner": "colonies",
          "product": "Leather, wood and paper products",
          "value": 61376
         },
         {
          "group": "export",
          "partner": "France",
          "product": "Leather, wood and paper products",
          "value": 155250.65
         },
         {
          "group": "export",
          "partner": "colonies",
          "product": "Leather, wood and paper products",
          "value": 32319
         },
         {
          "group": "export",
          "partner": "Re-exp ou fraude ?",
          "product": "Leather, wood and paper products",
          "value": 641940.09532503
         },
         {
          "group": "import",
          "partner": "France",
          "product": "Wool threads and fabrics",
          "value": 123728
         },
         {
          "group": "import",
          "partner": "Monde",
          "product": "Wool threads and fabrics",
          "value": 1721100
         },
         {
          "group": "export",
          "partner": "colonies",
          "product": "Wool threads and fabrics",
          "value": 71104
         },
         {
          "group": "export",
          "partner": "France",
          "product": "Wool threads and fabrics",
          "value": 1376
         },
         {
          "group": "export",
          "partner": "Re-exp ou fraude ?",
          "product": "Wool threads and fabrics",
          "value": 1772348
         },
         {
          "group": "import",
          "partner": "France",
          "product": "Drinks and tobacco",
          "value": 1386671.6049512897
         },
         {
          "group": "import",
          "partner": "Monde",
          "product": "Drinks and tobacco",
          "value": 4440210
         },
         {
          "group": "import",
          "partner": "colonies",
          "product": "Drinks and tobacco",
          "value": 68894
         },
         {
          "group": "export",
          "partner": "France",
          "product": "Drinks and tobacco",
          "value": 130892.10000436002
         },
         {
          "group": "export",
          "partner": "Monde",
          "product": "Drinks and tobacco",
          "value": 345721
         },
         {
          "group": "export",
          "partner": "colonies",
          "product": "Drinks and tobacco",
          "value": 93596
         },
         {
          "group": "export",
          "partner": "Re-exp ou fraude ?",
          "product": "Drinks and tobacco",
          "value": 5325566.504946929
         },
         {
          "group": "import",
          "partner": "France",
          "product": "Other foodstuffs and live animals",
          "value": 369295.38427342597
         },
         {
          "group": "import",
          "partner": "Monde",
          "product": "Other foodstuffs and live animals",
          "value": 6929264
         },
         {
          "group": "import",
          "partner": "colonies",
          "product": "Other foodstuffs and live animals",
          "value": 1736
         },
         {
          "group": "export",
          "partner": "France",
          "product": "Other foodstuffs and live animals",
          "value": 1184400.059786
         },
         {
          "group": "export",
          "partner": "colonies",
          "product": "Other foodstuffs and live animals",
          "value": 390372
         },
         {
          "group": "export",
          "partner": "Re-exp ou fraude ?",
          "product": "Other foodstuffs and live animals",
          "value": 5725523.324487425
         },
         {
          "group": "import",
          "partner": "France",
          "product": "Plantation foodstuffs",
          "value": 42550
         },
         {
          "group": "import",
          "partner": "colonies",
          "product": "Plantation foodstuffs",
          "value": 7345722
         },
         {
          "group": "import",
          "partner": "Monde",
          "product": "Plantation foodstuffs",
          "value": 1649675
         },
         {
          "group": "export",
          "partner": "France",
          "product": "Plantation foodstuffs",
          "value": 57275
         },
         {
          "group": "export",
          "partner": "Monde",
          "product": "Plantation foodstuffs",
          "value": 3394711
         },
         {
          "group": "export",
          "partner": "colonies",
          "product": "Plantation foodstuffs",
          "value": 436
         },
         {
          "group": "export",
          "partner": "Fraude ?",
          "product": "Plantation foodstuffs",
          "value": 5585525
         },
         {
          "group": "import",
          "partner": "France",
          "product": "Coton threads and fabrics",
          "value": 99571
         },
         {
          "group": "import",
          "partner": "Monde",
          "product": "Coton threads and fabrics",
          "value": 4831856
         },
         {
          "group": "export",
          "partner": "colonies",
          "product": "Coton threads and fabrics",
          "value": 49084
         },
         {
          "group": "export",
          "partner": "France",
          "product": "Coton threads and fabrics",
          "value": 547605
         },
         {
          "group": "export",
          "partner": "Re-exp ou fraude ?",
          "product": "Coton threads and fabrics",
          "value": 4334738
         },
         {
          "group": "import",
          "partner": "France",
          "product": "Chemical products",
          "value": 280877.01974728
         },
         {
          "group": "import",
          "partner": "Monde",
          "product": "Chemical products",
          "value": 508907
         },
         {
          "group": "import",
          "partner": "colonies",
          "product": "Chemical products",
          "value": 89556
         },
         {
          "group": "export",
          "partner": "France",
          "product": "Chemical products",
          "value": 110962.29001099999
         },
         {
          "group": "export",
          "partner": "Monde",
          "product": "Chemical products",
          "value": 101042
         },
         {
          "group": "export",
          "partner": "colonies",
          "product": "Chemical products",
          "value": 16237
         },
         {
          "group": "export",
          "partner": "Re-exp ou fraude ?",
          "product": "Chemical products",
          "value": 651098.72973628
         },
         {
          "group": "import",
          "partner": "France",
          "product": "Crude materials, inedible, except combustibles",
          "value": 331649.11263924994
         },
         {
          "group": "import",
          "partner": "Monde",
          "product": "Crude materials, inedible, except combustibles",
          "value": 2490363
         },
         {
          "group": "import",
          "partner": "colonies",
          "product": "Crude materials, inedible, except combustibles",
          "value": 1101518
         },
         {
          "group": "export",
          "partner": "France",
          "product": "Crude materials, inedible, except combustibles",
          "value": 1340701.5201395
         },
         {
          "group": "export",
          "partner": "Monde",
          "product": "Crude materials, inedible, except combustibles",
          "value": 719051
         },
         {
          "group": "export",
          "partner": "colonies",
          "product": "Crude materials, inedible, except combustibles",
          "value": 6630
         },
         {
          "group": "export",
          "partner": "Re-exp ou fraude ?",
          "product": "Crude materials, inedible, except combustibles",
          "value": 1857147.5924997497
         },
         {
          "group": "import",
          "partner": "France",
          "product": "Other",
          "value": 212659
         },
         {
          "group": "import",
          "partner": "Monde",
          "product": "Other",
          "value": 760882
         },
         {
          "group": "import",
          "partner": "colonies",
          "product": "Other",
          "value": 1353
         },
         {
          "group": "export",
          "partner": "France",
          "product": "Other",
          "value": 14282.32008
         },
         {
          "group": "export",
          "partner": "colonies",
          "product": "Other",
          "value": 8932
         },
         {
          "group": "export",
          "partner": "Re-exp ou fraude ?",
          "product": "Other",
          "value": 951679.67992
         }
        ]
       },
       "encoding": {
        "color": {
         "field": "partner",
         "scale": {
          "domain": [
           "colonies",
           "Monde",
           "France",
           "Fraude ?",
           "Re-exp ou fraude ?"
          ],
          "range": [
           "purple",
           "darkblue",
           "olive",
           "lightgrey",
           "darkgrey"
          ]
         },
         "sort": [
          "colonies",
          "Monde",
          "France",
          "Fraude ?",
          "Re-exp ou fraude ?"
         ],
         "type": "nominal"
        },
        "x": {
         "field": "total_product",
         "title": "Valeur (Lt)",
         "type": "quantitative"
        },
        "y": {
         "field": "partner",
         "sort": [
          "colonies",
          "Monde",
          "France",
          "Fraude ?",
          "Re-exp ou fraude ?"
         ],
         "title": "Partner"
        }
       },
       "mark": {
        "tooltip": {
         "content": "data"
        },
        "type": "bar"
       },
       "transform": [
        {
         "aggregate": [
          {
           "as": "total_product",
           "field": "value",
           "op": "sum"
          }
         ],
         "groupby": [
          "partner"
         ]
        }
       ]
      }
     },
     "metadata": {},
     "output_type": "display_data"
    }
   ],
   "source": [
    "VegaLite({\n",
    "  \"data\": {\"values\": data[\"Dunkerque\"]},\n",
    "  \"transform\": [{\n",
    "      \"aggregate\": [{\n",
    "       \"op\": \"sum\",\n",
    "       \"field\": \"value\",\n",
    "       \"as\": \"total_product\"\n",
    "      }],\n",
    "      \"groupby\": [\"partner\"]\n",
    "  }],\n",
    "  \"mark\": {\"type\":\"bar\", \"tooltip\": {\"content\": \"data\"}},\n",
    "  \"encoding\": {\n",
    "    \"x\": {\"field\": \"total_product\", \"type\": \"quantitative\", \"title\": \"Valeur (Lt)\"},\n",
    "    \"y\": {\"field\": \"partner\", \"sort\": SORT_LABELS, \"title\": \"Partner\"},\n",
    "    \"color\": {\n",
    "        \"field\": \"partner\", \n",
    "        \"sort\": SORT_LABELS, \n",
    "        \"type\": \"nominal\", \n",
    "        \"scale\": {\n",
    "            \"domain\": SORT_LABELS,\n",
    "            \"range\": PALETTE\n",
    "        }\n",
    "    }\n",
    "  }\n",
    "})"
   ]
  },
  {
   "cell_type": "code",
   "execution_count": 71,
   "id": "0c46e8b3-4b0b-48f7-9102-0576468e9942",
   "metadata": {},
   "outputs": [],
   "source": [
    "from itertools import groupby\n",
    "\n",
    "def pyramide_port_franc(port_franc, data):\n",
    "    report = data[port_franc]\n",
    "    key = lambda d: (d['group'], d['partner'])\n",
    "    sd = sorted(report, key=key)\n",
    "    max_scale = max([sum(t[\"value\"] for t in totals) for group, totals in groupby(sd, key=key)])\n",
    "    max_total = max([sum(t[\"value\"] for t in totals) for exp_imp, totals in groupby(sd, key=lambda d: d['group'])])\n",
    "    VegaLite({\n",
    "      \"title\": \"{}\\n Répartition des imports/exports en 1789 par produits (SITC simpl)\".format(port_franc.upper()),\n",
    "      \"data\": {\"values\": report},\n",
    "      \"spacing\": 0,\n",
    "      \"vconcat\": [{\"hconcat\": [{\n",
    "            \"transform\": [{\n",
    "              \"filter\": {\"field\": \"group\", \"equal\": \"import\"}\n",
    "            }],\n",
    "            \"title\": \"import\",\n",
    "            \"mark\": {\"type\":\"bar\", \"tooltip\": {\"content\": \"data\"}},\n",
    "            \"encoding\": {\n",
    "              \"y\": {\n",
    "                \"field\": \"product\", \"title\": None, \"sort\": \"-x\", \"type\": \"ordinal\"\n",
    "              },\n",
    "              \"x\": {\n",
    "                \"field\": \"value\",\n",
    "                \"type\": \"quantitative\",\n",
    "                \"title\": \"Valeur (Lt)\",\n",
    "                  \"sort\": \"descending\"\n",
    "              },\n",
    "              \"color\": {\n",
    "                \"field\": \"partner\",\n",
    "                \"type\": \"nominal\", \n",
    "                \"sort\": SORT_LABELS, \n",
    "                \"scale\": {\n",
    "                    \"domain\": SORT_LABELS,\n",
    "                    \"range\": PALETTE\n",
    "                },\n",
    "\n",
    "              }\n",
    "            }\n",
    "          },\n",
    "          {\n",
    "            \"transform\": [{\n",
    "              \"filter\": {\"field\": \"group\", \"equal\": \"export\"}\n",
    "            }],\n",
    "            \"title\": \"export\",\n",
    "            \"mark\": {\"type\":\"bar\", \"tooltip\": {\"content\": \"data\"}},\n",
    "            \"encoding\": {\n",
    "              \"y\": {\n",
    "                \"field\": \"product\", \"sort\": \"-x\", \"title\": None, \"axis\": None, \"type\": \"ordinal\"\n",
    "\n",
    "              },\n",
    "              \"x\": {\n",
    "                \"field\": \"value\",\n",
    "                \"type\": \"quantitative\",\n",
    "                \"title\": \"Valeur (Lt)\",\n",
    "                \"sort\": \"ascending\"\n",
    "              },\n",
    "              \"color\": {\n",
    "                \"field\": \"partner\",\n",
    "                \"type\": \"nominal\", \n",
    "                \"sort\": SORT_LABELS, \n",
    "                \"scale\": {\n",
    "                    \"domain\": SORT_LABELS,\n",
    "                    \"range\": PALETTE\n",
    "                },\n",
    "              }\n",
    "            }\n",
    "          }\n",
    "          ]}, {\"hconcat\": [{\n",
    "            \"transform\": [\n",
    "                {\n",
    "              \"filter\": {\"field\": \"group\", \"equal\": \"import\"}\n",
    "            },\n",
    "            {\n",
    "                  \"aggregate\": [{\n",
    "                   \"op\": \"sum\",\n",
    "                   \"field\": \"value\",\n",
    "                   \"as\": \"total_value\"\n",
    "                  }],\n",
    "                  \"groupby\": [\"partner\"]\n",
    "            }\n",
    "            ],\n",
    "            \"mark\": {\"type\":\"bar\", \"tooltip\": {\"content\": \"data\"}},\n",
    "            \"encoding\": {\n",
    "              \"y\": {\n",
    "                \"field\": \"partner\", \n",
    "                \"title\": None, \n",
    "                \"type\": \"ordinal\",\n",
    "                \"sort\": SORT_LABELS,\n",
    "                \"scale\": {\"domain\": SORT_LABELS},\n",
    "\n",
    "              },\n",
    "              \"x\": {\n",
    "                \"field\": \"total_value\",\n",
    "                \"type\": \"quantitative\",\n",
    "                \"title\": \"Valeur tous produits (Lt)\",\n",
    "                \"sort\": \"descending\",\n",
    "                \"scale\": {\"domain\": [0, max_scale]}\n",
    "              },\n",
    "              \"color\": {\n",
    "                \"field\": \"partner\",\n",
    "                \"type\": \"nominal\", \n",
    "                \"sort\": SORT_LABELS, \n",
    "                \"scale\": {\n",
    "                    \"domain\": SORT_LABELS,\n",
    "                    \"range\": PALETTE\n",
    "                },\n",
    "              }\n",
    "            }\n",
    "          },\n",
    "          {\n",
    "            \"transform\": [\n",
    "                {\n",
    "              \"filter\": {\"field\": \"group\", \"equal\": \"export\"}\n",
    "            },\n",
    "            {\n",
    "                  \"aggregate\": [{\n",
    "                   \"op\": \"sum\",\n",
    "                   \"field\": \"value\",\n",
    "                   \"as\": \"total_value\"\n",
    "                  }],\n",
    "                  \"groupby\": [\"partner\"]\n",
    "            }\n",
    "            ],\n",
    "            \"mark\": {\"type\":\"bar\", \"tooltip\": {\"content\": \"data\"}},\n",
    "            \"encoding\": {\n",
    "              \"y\": {\n",
    "                \"field\": \"partner\", \n",
    "                \"title\": None, \n",
    "                \"axis\": None, \n",
    "                \"type\": \"ordinal\",\n",
    "                \"sort\": SORT_LABELS,\n",
    "                \"scale\": {\"domain\": SORT_LABELS},\n",
    "\n",
    "              },\n",
    "              \"x\": {\n",
    "                \"field\": \"total_value\",\n",
    "                \"type\": \"quantitative\",\n",
    "                \"title\": \"Valeur tous produits (Lt)\",\n",
    "                \"sort\": \"ascending\", \n",
    "                \"scale\": {\"domain\": [0, max_scale]}\n",
    "              },\n",
    "              \"color\": {\n",
    "                \"field\": \"partner\",\n",
    "                \"type\": \"nominal\", \n",
    "                \"sort\": SORT_LABELS, \n",
    "                \"scale\": {\n",
    "                    \"domain\": SORT_LABELS,\n",
    "                    \"range\": PALETTE\n",
    "                },\n",
    "              }\n",
    "            }\n",
    "          }\n",
    "          ]},\n",
    "          {\"hconcat\": [{\n",
    "            \"transform\": [\n",
    "            {\n",
    "              \"filter\": {\"field\": \"group\", \"equal\": \"import\"}\n",
    "            },\n",
    "                        {\n",
    "              \"filter\": \"indexof(datum.partner,'?')==-1\"\n",
    "            },\n",
    "\n",
    "            {\n",
    "                  \"aggregate\": [{\n",
    "                   \"op\": \"sum\",\n",
    "                   \"field\": \"value\",\n",
    "                   \"as\": \"total_value\"\n",
    "                  }]\n",
    "            }\n",
    "            ],\n",
    "            \"mark\": {\"type\":\"bar\", \"tooltip\": {\"content\": \"data\"}},\n",
    "            \"encoding\": {\n",
    "              \"x\": {\n",
    "                \"field\": \"total_value\",\n",
    "                \"type\": \"quantitative\",\n",
    "                \"title\": \"Valeur tous produits (Lt)\",\n",
    "                \"sort\": \"descending\",\n",
    "                 \"scale\": {\"domain\": [0, max_total]}\n",
    "              },\n",
    "            }\n",
    "          },\n",
    "          {\n",
    "            \"transform\": [\n",
    "            {\n",
    "              \"filter\": {\"field\": \"group\", \"equal\": \"export\"}\n",
    "            },\n",
    "                {\n",
    "              \"filter\": \"indexof(datum.partner,'?')==-1\"\n",
    "            },\n",
    "            {\n",
    "                  \"aggregate\": [{\n",
    "                   \"op\": \"sum\",\n",
    "                   \"field\": \"value\",\n",
    "                   \"as\": \"total_value\"\n",
    "                  }]\n",
    "            }\n",
    "            ],\n",
    "            \"mark\": {\"type\":\"bar\", \"tooltip\": {\"content\": \"data\"}},\n",
    "            \"encoding\": {\n",
    "              \"x\": {\n",
    "                \"field\": \"total_value\",\n",
    "                \"type\": \"quantitative\",\n",
    "                \"title\": \"Totaux (Lt)\",\n",
    "                \"sort\": \"ascending\",\n",
    "                \"scale\": {\"domain\": [0, max_total]}\n",
    "              }\n",
    "            }\n",
    "          }\n",
    "          ]},\n",
    "          \n",
    "        ]\n",
    "    }\n",
    "    )"
   ]
  },
  {
   "cell_type": "code",
   "execution_count": 72,
   "id": "c19eb72b-d3ee-4419-b046-e068bafe79ed",
   "metadata": {},
   "outputs": [
    {
     "data": {
      "application/vnd.vegalite.v4+json": {
       "data": {
        "values": [
         {
          "group": "import",
          "partner": "France",
          "product": "Silk threads and fabrics",
          "value": 218180
         },
         {
          "group": "import",
          "partner": "Monde",
          "product": "Silk threads and fabrics",
          "value": 960770
         },
         {
          "group": "export",
          "partner": "colonies",
          "product": "Silk threads and fabrics",
          "value": 2100
         },
         {
          "group": "export",
          "partner": "Re-exp ou fraude ?",
          "product": "Silk threads and fabrics",
          "value": 1176850
         },
         {
          "group": "import",
          "partner": "France",
          "product": "Other industrial products",
          "value": 314846.200145
         },
         {
          "group": "import",
          "partner": "Monde",
          "product": "Other industrial products",
          "value": 2999118
         },
         {
          "group": "export",
          "partner": "France",
          "product": "Other industrial products",
          "value": 141543.23926685
         },
         {
          "group": "export",
          "partner": "colonies",
          "product": "Other industrial products",
          "value": 313967
         },
         {
          "group": "export",
          "partner": "Re-exp ou fraude ?",
          "product": "Other industrial products",
          "value": 2858453.96087815
         },
         {
          "group": "import",
          "partner": "France",
          "product": "Oils",
          "value": 67874.50041114
         },
         {
          "group": "import",
          "partner": "Monde",
          "product": "Oils",
          "value": 537431
         },
         {
          "group": "export",
          "partner": "France",
          "product": "Oils",
          "value": 23526.56986543
         },
         {
          "group": "export",
          "partner": "colonies",
          "product": "Oils",
          "value": 14793
         },
         {
          "group": "export",
          "partner": "Re-exp ou fraude ?",
          "product": "Oils",
          "value": 566985.93054571
         },
         {
          "group": "import",
          "partner": "France",
          "product": "Other threads and fabrics",
          "value": 543957
         },
         {
          "group": "import",
          "partner": "Monde",
          "product": "Other threads and fabrics",
          "value": 5767681
         },
         {
          "group": "export",
          "partner": "France",
          "product": "Other threads and fabrics",
          "value": 27063.59978
         },
         {
          "group": "export",
          "partner": "colonies",
          "product": "Other threads and fabrics",
          "value": 411933
         },
         {
          "group": "export",
          "partner": "Re-exp ou fraude ?",
          "product": "Other threads and fabrics",
          "value": 5872641.40022
         },
         {
          "group": "import",
          "partner": "France",
          "product": "Leather, wood and paper products",
          "value": 103605.74532503
         },
         {
          "group": "import",
          "partner": "Monde",
          "product": "Leather, wood and paper products",
          "value": 664528
         },
         {
          "group": "import",
          "partner": "colonies",
          "product": "Leather, wood and paper products",
          "value": 61376
         },
         {
          "group": "export",
          "partner": "France",
          "product": "Leather, wood and paper products",
          "value": 155250.65
         },
         {
          "group": "export",
          "partner": "colonies",
          "product": "Leather, wood and paper products",
          "value": 32319
         },
         {
          "group": "export",
          "partner": "Re-exp ou fraude ?",
          "product": "Leather, wood and paper products",
          "value": 641940.09532503
         },
         {
          "group": "import",
          "partner": "France",
          "product": "Wool threads and fabrics",
          "value": 123728
         },
         {
          "group": "import",
          "partner": "Monde",
          "product": "Wool threads and fabrics",
          "value": 1721100
         },
         {
          "group": "export",
          "partner": "colonies",
          "product": "Wool threads and fabrics",
          "value": 71104
         },
         {
          "group": "export",
          "partner": "France",
          "product": "Wool threads and fabrics",
          "value": 1376
         },
         {
          "group": "export",
          "partner": "Re-exp ou fraude ?",
          "product": "Wool threads and fabrics",
          "value": 1772348
         },
         {
          "group": "import",
          "partner": "France",
          "product": "Drinks and tobacco",
          "value": 1386671.6049512897
         },
         {
          "group": "import",
          "partner": "Monde",
          "product": "Drinks and tobacco",
          "value": 4440210
         },
         {
          "group": "import",
          "partner": "colonies",
          "product": "Drinks and tobacco",
          "value": 68894
         },
         {
          "group": "export",
          "partner": "France",
          "product": "Drinks and tobacco",
          "value": 130892.10000436002
         },
         {
          "group": "export",
          "partner": "Monde",
          "product": "Drinks and tobacco",
          "value": 345721
         },
         {
          "group": "export",
          "partner": "colonies",
          "product": "Drinks and tobacco",
          "value": 93596
         },
         {
          "group": "export",
          "partner": "Re-exp ou fraude ?",
          "product": "Drinks and tobacco",
          "value": 5325566.504946929
         },
         {
          "group": "import",
          "partner": "France",
          "product": "Other foodstuffs and live animals",
          "value": 369295.38427342597
         },
         {
          "group": "import",
          "partner": "Monde",
          "product": "Other foodstuffs and live animals",
          "value": 6929264
         },
         {
          "group": "import",
          "partner": "colonies",
          "product": "Other foodstuffs and live animals",
          "value": 1736
         },
         {
          "group": "export",
          "partner": "France",
          "product": "Other foodstuffs and live animals",
          "value": 1184400.059786
         },
         {
          "group": "export",
          "partner": "colonies",
          "product": "Other foodstuffs and live animals",
          "value": 390372
         },
         {
          "group": "export",
          "partner": "Re-exp ou fraude ?",
          "product": "Other foodstuffs and live animals",
          "value": 5725523.324487425
         },
         {
          "group": "import",
          "partner": "France",
          "product": "Plantation foodstuffs",
          "value": 42550
         },
         {
          "group": "import",
          "partner": "colonies",
          "product": "Plantation foodstuffs",
          "value": 7345722
         },
         {
          "group": "import",
          "partner": "Monde",
          "product": "Plantation foodstuffs",
          "value": 1649675
         },
         {
          "group": "export",
          "partner": "France",
          "product": "Plantation foodstuffs",
          "value": 57275
         },
         {
          "group": "export",
          "partner": "Monde",
          "product": "Plantation foodstuffs",
          "value": 3394711
         },
         {
          "group": "export",
          "partner": "colonies",
          "product": "Plantation foodstuffs",
          "value": 436
         },
         {
          "group": "export",
          "partner": "Fraude ?",
          "product": "Plantation foodstuffs",
          "value": 5585525
         },
         {
          "group": "import",
          "partner": "France",
          "product": "Coton threads and fabrics",
          "value": 99571
         },
         {
          "group": "import",
          "partner": "Monde",
          "product": "Coton threads and fabrics",
          "value": 4831856
         },
         {
          "group": "export",
          "partner": "colonies",
          "product": "Coton threads and fabrics",
          "value": 49084
         },
         {
          "group": "export",
          "partner": "France",
          "product": "Coton threads and fabrics",
          "value": 547605
         },
         {
          "group": "export",
          "partner": "Re-exp ou fraude ?",
          "product": "Coton threads and fabrics",
          "value": 4334738
         },
         {
          "group": "import",
          "partner": "France",
          "product": "Chemical products",
          "value": 280877.01974728
         },
         {
          "group": "import",
          "partner": "Monde",
          "product": "Chemical products",
          "value": 508907
         },
         {
          "group": "import",
          "partner": "colonies",
          "product": "Chemical products",
          "value": 89556
         },
         {
          "group": "export",
          "partner": "France",
          "product": "Chemical products",
          "value": 110962.29001099999
         },
         {
          "group": "export",
          "partner": "Monde",
          "product": "Chemical products",
          "value": 101042
         },
         {
          "group": "export",
          "partner": "colonies",
          "product": "Chemical products",
          "value": 16237
         },
         {
          "group": "export",
          "partner": "Re-exp ou fraude ?",
          "product": "Chemical products",
          "value": 651098.72973628
         },
         {
          "group": "import",
          "partner": "France",
          "product": "Crude materials, inedible, except combustibles",
          "value": 331649.11263924994
         },
         {
          "group": "import",
          "partner": "Monde",
          "product": "Crude materials, inedible, except combustibles",
          "value": 2490363
         },
         {
          "group": "import",
          "partner": "colonies",
          "product": "Crude materials, inedible, except combustibles",
          "value": 1101518
         },
         {
          "group": "export",
          "partner": "France",
          "product": "Crude materials, inedible, except combustibles",
          "value": 1340701.5201395
         },
         {
          "group": "export",
          "partner": "Monde",
          "product": "Crude materials, inedible, except combustibles",
          "value": 719051
         },
         {
          "group": "export",
          "partner": "colonies",
          "product": "Crude materials, inedible, except combustibles",
          "value": 6630
         },
         {
          "group": "export",
          "partner": "Re-exp ou fraude ?",
          "product": "Crude materials, inedible, except combustibles",
          "value": 1857147.5924997497
         },
         {
          "group": "import",
          "partner": "France",
          "product": "Other",
          "value": 212659
         },
         {
          "group": "import",
          "partner": "Monde",
          "product": "Other",
          "value": 760882
         },
         {
          "group": "import",
          "partner": "colonies",
          "product": "Other",
          "value": 1353
         },
         {
          "group": "export",
          "partner": "France",
          "product": "Other",
          "value": 14282.32008
         },
         {
          "group": "export",
          "partner": "colonies",
          "product": "Other",
          "value": 8932
         },
         {
          "group": "export",
          "partner": "Re-exp ou fraude ?",
          "product": "Other",
          "value": 951679.67992
         }
        ]
       },
       "spacing": 0,
       "title": "DUNKERQUE\n Répartition des imports/exports en 1789 par produits (SITC simpl)",
       "vconcat": [
        {
         "hconcat": [
          {
           "encoding": {
            "color": {
             "field": "partner",
             "scale": {
              "domain": [
               "colonies",
               "Monde",
               "France",
               "Fraude ?",
               "Re-exp ou fraude ?"
              ],
              "range": [
               "purple",
               "darkblue",
               "olive",
               "lightgrey",
               "darkgrey"
              ]
             },
             "sort": [
              "colonies",
              "Monde",
              "France",
              "Fraude ?",
              "Re-exp ou fraude ?"
             ],
             "type": "nominal"
            },
            "x": {
             "field": "value",
             "sort": "descending",
             "title": "Valeur (Lt)",
             "type": "quantitative"
            },
            "y": {
             "field": "product",
             "sort": "-x",
             "title": null,
             "type": "ordinal"
            }
           },
           "mark": {
            "tooltip": {
             "content": "data"
            },
            "type": "bar"
           },
           "title": "import",
           "transform": [
            {
             "filter": {
              "equal": "import",
              "field": "group"
             }
            }
           ]
          },
          {
           "encoding": {
            "color": {
             "field": "partner",
             "scale": {
              "domain": [
               "colonies",
               "Monde",
               "France",
               "Fraude ?",
               "Re-exp ou fraude ?"
              ],
              "range": [
               "purple",
               "darkblue",
               "olive",
               "lightgrey",
               "darkgrey"
              ]
             },
             "sort": [
              "colonies",
              "Monde",
              "France",
              "Fraude ?",
              "Re-exp ou fraude ?"
             ],
             "type": "nominal"
            },
            "x": {
             "field": "value",
             "sort": "ascending",
             "title": "Valeur (Lt)",
             "type": "quantitative"
            },
            "y": {
             "axis": null,
             "field": "product",
             "sort": "-x",
             "title": null,
             "type": "ordinal"
            }
           },
           "mark": {
            "tooltip": {
             "content": "data"
            },
            "type": "bar"
           },
           "title": "export",
           "transform": [
            {
             "filter": {
              "equal": "export",
              "field": "group"
             }
            }
           ]
          }
         ]
        },
        {
         "hconcat": [
          {
           "encoding": {
            "color": {
             "field": "partner",
             "scale": {
              "domain": [
               "colonies",
               "Monde",
               "France",
               "Fraude ?",
               "Re-exp ou fraude ?"
              ],
              "range": [
               "purple",
               "darkblue",
               "olive",
               "lightgrey",
               "darkgrey"
              ]
             },
             "sort": [
              "colonies",
              "Monde",
              "France",
              "Fraude ?",
              "Re-exp ou fraude ?"
             ],
             "type": "nominal"
            },
            "x": {
             "field": "total_value",
             "scale": {
              "domain": [
               0,
               34261785
              ]
             },
             "sort": "descending",
             "title": "Valeur tous produits (Lt)",
             "type": "quantitative"
            },
            "y": {
             "field": "partner",
             "scale": {
              "domain": [
               "colonies",
               "Monde",
               "France",
               "Fraude ?",
               "Re-exp ou fraude ?"
              ]
             },
             "sort": [
              "colonies",
              "Monde",
              "France",
              "Fraude ?",
              "Re-exp ou fraude ?"
             ],
             "title": null,
             "type": "ordinal"
            }
           },
           "mark": {
            "tooltip": {
             "content": "data"
            },
            "type": "bar"
           },
           "transform": [
            {
             "filter": {
              "equal": "import",
              "field": "group"
             }
            },
            {
             "aggregate": [
              {
               "as": "total_value",
               "field": "value",
               "op": "sum"
              }
             ],
             "groupby": [
              "partner"
             ]
            }
           ]
          },
          {
           "encoding": {
            "color": {
             "field": "partner",
             "scale": {
              "domain": [
               "colonies",
               "Monde",
               "France",
               "Fraude ?",
               "Re-exp ou fraude ?"
              ],
              "range": [
               "purple",
               "darkblue",
               "olive",
               "lightgrey",
               "darkgrey"
              ]
             },
             "sort": [
              "colonies",
              "Monde",
              "France",
              "Fraude ?",
              "Re-exp ou fraude ?"
             ],
             "type": "nominal"
            },
            "x": {
             "field": "total_value",
             "scale": {
              "domain": [
               0,
               34261785
              ]
             },
             "sort": "ascending",
             "title": "Valeur tous produits (Lt)",
             "type": "quantitative"
            },
            "y": {
             "axis": null,
             "field": "partner",
             "scale": {
              "domain": [
               "colonies",
               "Monde",
               "France",
               "Fraude ?",
               "Re-exp ou fraude ?"
              ]
             },
             "sort": [
              "colonies",
              "Monde",
              "France",
              "Fraude ?",
              "Re-exp ou fraude ?"
             ],
             "title": null,
             "type": "ordinal"
            }
           },
           "mark": {
            "tooltip": {
             "content": "data"
            },
            "type": "bar"
           },
           "transform": [
            {
             "filter": {
              "equal": "export",
              "field": "group"
             }
            },
            {
             "aggregate": [
              {
               "as": "total_value",
               "field": "value",
               "op": "sum"
              }
             ],
             "groupby": [
              "partner"
             ]
            }
           ]
          }
         ]
        },
        {
         "hconcat": [
          {
           "encoding": {
            "x": {
             "field": "total_value",
             "scale": {
              "domain": [
               0,
               47027404.56749242
              ]
             },
             "sort": "descending",
             "title": "Valeur tous produits (Lt)",
             "type": "quantitative"
            }
           },
           "mark": {
            "tooltip": {
             "content": "data"
            },
            "type": "bar"
           },
           "transform": [
            {
             "filter": {
              "equal": "import",
              "field": "group"
             }
            },
            {
             "filter": "indexof(datum.partner,'?')==-1"
            },
            {
             "aggregate": [
              {
               "as": "total_value",
               "field": "value",
               "op": "sum"
              }
             ]
            }
           ]
          },
          {
           "encoding": {
            "x": {
             "field": "total_value",
             "scale": {
              "domain": [
               0,
               47027404.56749242
              ]
             },
             "sort": "ascending",
             "title": "Totaux (Lt)",
             "type": "quantitative"
            }
           },
           "mark": {
            "tooltip": {
             "content": "data"
            },
            "type": "bar"
           },
           "transform": [
            {
             "filter": {
              "equal": "export",
              "field": "group"
             }
            },
            {
             "filter": "indexof(datum.partner,'?')==-1"
            },
            {
             "aggregate": [
              {
               "as": "total_value",
               "field": "value",
               "op": "sum"
              }
             ]
            }
           ]
          }
         ]
        }
       ]
      }
     },
     "metadata": {},
     "output_type": "display_data"
    },
    {
     "data": {
      "application/vnd.vegalite.v4+json": {
       "data": {
        "values": [
         {
          "group": "export",
          "partner": "France",
          "product": "Precious metals",
          "value": 1170
         },
         {
          "group": "import",
          "partner": "Fraude ?",
          "product": "Precious metals",
          "value": 1170
         },
         {
          "group": "import",
          "partner": "France",
          "product": "Silk threads and fabrics",
          "value": 19938
         },
         {
          "group": "export",
          "partner": "France",
          "product": "Silk threads and fabrics",
          "value": 2725
         },
         {
          "group": "export",
          "partner": "Fraude ?",
          "product": "Silk threads and fabrics",
          "value": 17213
         },
         {
          "group": "import",
          "partner": "France",
          "product": "Other industrial products",
          "value": 121375.16002042001
         },
         {
          "group": "export",
          "partner": "colonies",
          "product": "Other industrial products",
          "value": 77318
         },
         {
          "group": "export",
          "partner": "France",
          "product": "Other industrial products",
          "value": 383083.0205796601
         },
         {
          "group": "import",
          "partner": "Fraude ?",
          "product": "Other industrial products",
          "value": 339025.8605592401
         },
         {
          "group": "import",
          "partner": "France",
          "product": "Oils",
          "value": 146947.0365
         },
         {
          "group": "export",
          "partner": "colonies",
          "product": "Oils",
          "value": 4616
         },
         {
          "group": "export",
          "partner": "France",
          "product": "Oils",
          "value": 91361.2003012
         },
         {
          "group": "export",
          "partner": "Fraude ?",
          "product": "Oils",
          "value": 50969.83619879998
         },
         {
          "group": "import",
          "partner": "France",
          "product": "Other threads and fabrics",
          "value": 241124.60021559
         },
         {
          "group": "export",
          "partner": "colonies",
          "product": "Other threads and fabrics",
          "value": 58800
         },
         {
          "group": "export",
          "partner": "France",
          "product": "Other threads and fabrics",
          "value": 13021
         },
         {
          "group": "export",
          "partner": "Fraude ?",
          "product": "Other threads and fabrics",
          "value": 169303.60021559
         },
         {
          "group": "import",
          "partner": "France",
          "product": "Leather, wood and paper products",
          "value": 78956.59880792
         },
         {
          "group": "import",
          "partner": "colonies",
          "product": "Leather, wood and paper products",
          "value": 34875
         },
         {
          "group": "export",
          "partner": "France",
          "product": "Leather, wood and paper products",
          "value": 183089
         },
         {
          "group": "export",
          "partner": "colonies",
          "product": "Leather, wood and paper products",
          "value": 1626
         },
         {
          "group": "import",
          "partner": "Fraude ?",
          "product": "Leather, wood and paper products",
          "value": 70883.40119208
         },
         {
          "group": "import",
          "partner": "France",
          "product": "Wool threads and fabrics",
          "value": 50212
         },
         {
          "group": "export",
          "partner": "France",
          "product": "Wool threads and fabrics",
          "value": 5550
         },
         {
          "group": "export",
          "partner": "Fraude ?",
          "product": "Wool threads and fabrics",
          "value": 44662
         },
         {
          "group": "import",
          "partner": "France",
          "product": "Drinks and tobacco",
          "value": 701461.47997965
         },
         {
          "group": "import",
          "partner": "colonies",
          "product": "Drinks and tobacco",
          "value": 4566
         },
         {
          "group": "export",
          "partner": "France",
          "product": "Drinks and tobacco",
          "value": 159128.61599999998
         },
         {
          "group": "export",
          "partner": "colonies",
          "product": "Drinks and tobacco",
          "value": 162777
         },
         {
          "group": "export",
          "partner": "Fraude ?",
          "product": "Drinks and tobacco",
          "value": 384121.86397965
         },
         {
          "group": "import",
          "partner": "France",
          "product": "Other foodstuffs and live animals",
          "value": 1538176.2249276056
         },
         {
          "group": "import",
          "partner": "colonies",
          "product": "Other foodstuffs and live animals",
          "value": 4885
         },
         {
          "group": "export",
          "partner": "France",
          "product": "Other foodstuffs and live animals",
          "value": 1373671.42923328
         },
         {
          "group": "export",
          "partner": "colonies",
          "product": "Other foodstuffs and live animals",
          "value": 173532
         },
         {
          "group": "import",
          "partner": "Fraude ?",
          "product": "Other foodstuffs and live animals",
          "value": 4142.204305674415
         },
         {
          "group": "import",
          "partner": "France",
          "product": "Plantation foodstuffs",
          "value": 4491.8
         },
         {
          "group": "import",
          "partner": "colonies",
          "product": "Plantation foodstuffs",
          "value": 830921
         },
         {
          "group": "export",
          "partner": "France",
          "product": "Plantation foodstuffs",
          "value": 265170.3
         },
         {
          "group": "export",
          "partner": "Fraude ?",
          "product": "Plantation foodstuffs",
          "value": 570242.5
         },
         {
          "group": "import",
          "partner": "France",
          "product": "Coton threads and fabrics",
          "value": 12451.5
         },
         {
          "group": "export",
          "partner": "France",
          "product": "Coton threads and fabrics",
          "value": 166344
         },
         {
          "group": "import",
          "partner": "Fraude ?",
          "product": "Coton threads and fabrics",
          "value": 153892.5
         },
         {
          "group": "import",
          "partner": "France",
          "product": "Chemical products",
          "value": 184943.54957104998
         },
         {
          "group": "import",
          "partner": "colonies",
          "product": "Chemical products",
          "value": 5548
         },
         {
          "group": "export",
          "partner": "France",
          "product": "Chemical products",
          "value": 97102.750006
         },
         {
          "group": "export",
          "partner": "colonies",
          "product": "Chemical products",
          "value": 8341
         },
         {
          "group": "export",
          "partner": "Fraude ?",
          "product": "Chemical products",
          "value": 85047.79956504998
         },
         {
          "group": "import",
          "partner": "France",
          "product": "Crude materials, inedible, except combustibles",
          "value": 279819.4556017225
         },
         {
          "group": "import",
          "partner": "colonies",
          "product": "Crude materials, inedible, except combustibles",
          "value": 9513
         },
         {
          "group": "export",
          "partner": "France",
          "product": "Crude materials, inedible, except combustibles",
          "value": 2423786.98905262
         },
         {
          "group": "export",
          "partner": "colonies",
          "product": "Crude materials, inedible, except combustibles",
          "value": 10473
         },
         {
          "group": "import",
          "partner": "Fraude ?",
          "product": "Crude materials, inedible, except combustibles",
          "value": 2144927.5334508973
         },
         {
          "group": "import",
          "partner": "France",
          "product": "Other",
          "value": 27674
         },
         {
          "group": "import",
          "partner": "colonies",
          "product": "Other",
          "value": 300
         },
         {
          "group": "export",
          "partner": "France",
          "product": "Other",
          "value": 11355.600050000001
         },
         {
          "group": "export",
          "partner": "colonies",
          "product": "Other",
          "value": 2681
         },
         {
          "group": "export",
          "partner": "Fraude ?",
          "product": "Other",
          "value": 13937.399949999999
         }
        ]
       },
       "spacing": 0,
       "title": "BAYONNE\n Répartition des imports/exports en 1789 par produits (SITC simpl)",
       "vconcat": [
        {
         "hconcat": [
          {
           "encoding": {
            "color": {
             "field": "partner",
             "scale": {
              "domain": [
               "colonies",
               "Monde",
               "France",
               "Fraude ?",
               "Re-exp ou fraude ?"
              ],
              "range": [
               "purple",
               "darkblue",
               "olive",
               "lightgrey",
               "darkgrey"
              ]
             },
             "sort": [
              "colonies",
              "Monde",
              "France",
              "Fraude ?",
              "Re-exp ou fraude ?"
             ],
             "type": "nominal"
            },
            "x": {
             "field": "value",
             "sort": "descending",
             "title": "Valeur (Lt)",
             "type": "quantitative"
            },
            "y": {
             "field": "product",
             "sort": "-x",
             "title": null,
             "type": "ordinal"
            }
           },
           "mark": {
            "tooltip": {
             "content": "data"
            },
            "type": "bar"
           },
           "title": "import",
           "transform": [
            {
             "filter": {
              "equal": "import",
              "field": "group"
             }
            }
           ]
          },
          {
           "encoding": {
            "color": {
             "field": "partner",
             "scale": {
              "domain": [
               "colonies",
               "Monde",
               "France",
               "Fraude ?",
               "Re-exp ou fraude ?"
              ],
              "range": [
               "purple",
               "darkblue",
               "olive",
               "lightgrey",
               "darkgrey"
              ]
             },
             "sort": [
              "colonies",
              "Monde",
              "France",
              "Fraude ?",
              "Re-exp ou fraude ?"
             ],
             "type": "nominal"
            },
            "x": {
             "field": "value",
             "sort": "ascending",
             "title": "Valeur (Lt)",
             "type": "quantitative"
            },
            "y": {
             "axis": null,
             "field": "product",
             "sort": "-x",
             "title": null,
             "type": "ordinal"
            }
           },
           "mark": {
            "tooltip": {
             "content": "data"
            },
            "type": "bar"
           },
           "title": "export",
           "transform": [
            {
             "filter": {
              "equal": "export",
              "field": "group"
             }
            }
           ]
          }
         ]
        },
        {
         "hconcat": [
          {
           "encoding": {
            "color": {
             "field": "partner",
             "scale": {
              "domain": [
               "colonies",
               "Monde",
               "France",
               "Fraude ?",
               "Re-exp ou fraude ?"
              ],
              "range": [
               "purple",
               "darkblue",
               "olive",
               "lightgrey",
               "darkgrey"
              ]
             },
             "sort": [
              "colonies",
              "Monde",
              "France",
              "Fraude ?",
              "Re-exp ou fraude ?"
             ],
             "type": "nominal"
            },
            "x": {
             "field": "total_value",
             "scale": {
              "domain": [
               0,
               5176558.90522276
              ]
             },
             "sort": "descending",
             "title": "Valeur tous produits (Lt)",
             "type": "quantitative"
            },
            "y": {
             "field": "partner",
             "scale": {
              "domain": [
               "colonies",
               "Monde",
               "France",
               "Fraude ?",
               "Re-exp ou fraude ?"
              ]
             },
             "sort": [
              "colonies",
              "Monde",
              "France",
              "Fraude ?",
              "Re-exp ou fraude ?"
             ],
             "title": null,
             "type": "ordinal"
            }
           },
           "mark": {
            "tooltip": {
             "content": "data"
            },
            "type": "bar"
           },
           "transform": [
            {
             "filter": {
              "equal": "import",
              "field": "group"
             }
            },
            {
             "aggregate": [
              {
               "as": "total_value",
               "field": "value",
               "op": "sum"
              }
             ],
             "groupby": [
              "partner"
             ]
            }
           ]
          },
          {
           "encoding": {
            "color": {
             "field": "partner",
             "scale": {
              "domain": [
               "colonies",
               "Monde",
               "France",
               "Fraude ?",
               "Re-exp ou fraude ?"
              ],
              "range": [
               "purple",
               "darkblue",
               "olive",
               "lightgrey",
               "darkgrey"
              ]
             },
             "sort": [
              "colonies",
              "Monde",
              "France",
              "Fraude ?",
              "Re-exp ou fraude ?"
             ],
             "type": "nominal"
            },
            "x": {
             "field": "total_value",
             "scale": {
              "domain": [
               0,
               5176558.90522276
              ]
             },
             "sort": "ascending",
             "title": "Valeur tous produits (Lt)",
             "type": "quantitative"
            },
            "y": {
             "axis": null,
             "field": "partner",
             "scale": {
              "domain": [
               "colonies",
               "Monde",
               "France",
               "Fraude ?",
               "Re-exp ou fraude ?"
              ]
             },
             "sort": [
              "colonies",
              "Monde",
              "France",
              "Fraude ?",
              "Re-exp ou fraude ?"
             ],
             "title": null,
             "type": "ordinal"
            }
           },
           "mark": {
            "tooltip": {
             "content": "data"
            },
            "type": "bar"
           },
           "transform": [
            {
             "filter": {
              "equal": "export",
              "field": "group"
             }
            },
            {
             "aggregate": [
              {
               "as": "total_value",
               "field": "value",
               "op": "sum"
              }
             ],
             "groupby": [
              "partner"
             ]
            }
           ]
          }
         ]
        },
        {
         "hconcat": [
          {
           "encoding": {
            "x": {
             "field": "total_value",
             "scale": {
              "domain": [
               0,
               7012220.905131849
              ]
             },
             "sort": "descending",
             "title": "Valeur tous produits (Lt)",
             "type": "quantitative"
            }
           },
           "mark": {
            "tooltip": {
             "content": "data"
            },
            "type": "bar"
           },
           "transform": [
            {
             "filter": {
              "equal": "import",
              "field": "group"
             }
            },
            {
             "filter": "indexof(datum.partner,'?')==-1"
            },
            {
             "aggregate": [
              {
               "as": "total_value",
               "field": "value",
               "op": "sum"
              }
             ]
            }
           ]
          },
          {
           "encoding": {
            "x": {
             "field": "total_value",
             "scale": {
              "domain": [
               0,
               7012220.905131849
              ]
             },
             "sort": "ascending",
             "title": "Totaux (Lt)",
             "type": "quantitative"
            }
           },
           "mark": {
            "tooltip": {
             "content": "data"
            },
            "type": "bar"
           },
           "transform": [
            {
             "filter": {
              "equal": "export",
              "field": "group"
             }
            },
            {
             "filter": "indexof(datum.partner,'?')==-1"
            },
            {
             "aggregate": [
              {
               "as": "total_value",
               "field": "value",
               "op": "sum"
              }
             ]
            }
           ]
          }
         ]
        }
       ]
      }
     },
     "metadata": {},
     "output_type": "display_data"
    },
    {
     "data": {
      "application/vnd.vegalite.v4+json": {
       "data": {
        "values": [
         {
          "group": "import",
          "partner": "France",
          "product": "Precious metals",
          "value": 7270
         },
         {
          "group": "import",
          "partner": "Monde",
          "product": "Precious metals",
          "value": 31317
         },
         {
          "group": "export",
          "partner": "colonies",
          "product": "Precious metals",
          "value": 36989
         },
         {
          "group": "export",
          "partner": "Fraude ?",
          "product": "Precious metals",
          "value": 1598
         },
         {
          "group": "import",
          "partner": "France",
          "product": "Silk threads and fabrics",
          "value": 4812631.71005
         },
         {
          "group": "import",
          "partner": "Monde",
          "product": "Silk threads and fabrics",
          "value": 5348675
         },
         {
          "group": "export",
          "partner": "France",
          "product": "Silk threads and fabrics",
          "value": 4673978
         },
         {
          "group": "export",
          "partner": "Monde",
          "product": "Silk threads and fabrics",
          "value": 3861234
         },
         {
          "group": "export",
          "partner": "colonies",
          "product": "Silk threads and fabrics",
          "value": 625748
         },
         {
          "group": "export",
          "partner": "Fraude ?",
          "product": "Silk threads and fabrics",
          "value": 1000346.7100499999
         },
         {
          "group": "import",
          "partner": "France",
          "product": "Other industrial products",
          "value": 4017321.76462729
         },
         {
          "group": "import",
          "partner": "Monde",
          "product": "Other industrial products",
          "value": 5202858.56769418
         },
         {
          "group": "export",
          "partner": "France",
          "product": "Other industrial products",
          "value": 2822071.7303139996
         },
         {
          "group": "export",
          "partner": "Monde",
          "product": "Other industrial products",
          "value": 3591089.492147399
         },
         {
          "group": "export",
          "partner": "colonies",
          "product": "Other industrial products",
          "value": 4944139
         },
         {
          "group": "import",
          "partner": "Fraude ?",
          "product": "Other industrial products",
          "value": 2137119.89013993
         },
         {
          "group": "import",
          "partner": "France",
          "product": "Oils",
          "value": 2051079.4332270217
         },
         {
          "group": "import",
          "partner": "Monde",
          "product": "Oils",
          "value": 20286512.494104
         },
         {
          "group": "export",
          "partner": "Monde",
          "product": "Oils",
          "value": 1946411.9312804
         },
         {
          "group": "export",
          "partner": "France",
          "product": "Oils",
          "value": 157687.06999625
         },
         {
          "group": "export",
          "partner": "colonies",
          "product": "Oils",
          "value": 956397
         },
         {
          "group": "export",
          "partner": "Fraude ?",
          "product": "Oils",
          "value": 19277095.926054373
         },
         {
          "group": "import",
          "partner": "France",
          "product": "Other threads and fabrics",
          "value": 3041250.548556
         },
         {
          "group": "import",
          "partner": "Monde",
          "product": "Other threads and fabrics",
          "value": 1665776.808974
         },
         {
          "group": "export",
          "partner": "France",
          "product": "Other threads and fabrics",
          "value": 1494270.7499775
         },
         {
          "group": "export",
          "partner": "Monde",
          "product": "Other threads and fabrics",
          "value": 989791.23367805
         },
         {
          "group": "export",
          "partner": "colonies",
          "product": "Other threads and fabrics",
          "value": 532181
         },
         {
          "group": "export",
          "partner": "Fraude ?",
          "product": "Other threads and fabrics",
          "value": 1690784.3738744496
         },
         {
          "group": "import",
          "partner": "France",
          "product": "Leather, wood and paper products",
          "value": 1516085.3104912823
         },
         {
          "group": "import",
          "partner": "Monde",
          "product": "Leather, wood and paper products",
          "value": 3286488.0620812
         },
         {
          "group": "import",
          "partner": "colonies",
          "product": "Leather, wood and paper products",
          "value": 317375
         },
         {
          "group": "export",
          "partner": "France",
          "product": "Leather, wood and paper products",
          "value": 61921.050339999994
         },
         {
          "group": "export",
          "partner": "Monde",
          "product": "Leather, wood and paper products",
          "value": 1209533.2867897
         },
         {
          "group": "export",
          "partner": "colonies",
          "product": "Leather, wood and paper products",
          "value": 460315
         },
         {
          "group": "export",
          "partner": "Fraude ?",
          "product": "Leather, wood and paper products",
          "value": 3388179.0354427826
         },
         {
          "group": "import",
          "partner": "France",
          "product": "Wool threads and fabrics",
          "value": 13455862.5
         },
         {
          "group": "import",
          "partner": "Monde",
          "product": "Wool threads and fabrics",
          "value": 6242776.5901420005
         },
         {
          "group": "export",
          "partner": "France",
          "product": "Wool threads and fabrics",
          "value": 13184925.5
         },
         {
          "group": "export",
          "partner": "Monde",
          "product": "Wool threads and fabrics",
          "value": 11583111.699996203
         },
         {
          "group": "export",
          "partner": "colonies",
          "product": "Wool threads and fabrics",
          "value": 197015
         },
         {
          "group": "import",
          "partner": "Fraude ?",
          "product": "Wool threads and fabrics",
          "value": 5266413.109854203
         },
         {
          "group": "import",
          "partner": "France",
          "product": "Drinks and tobacco",
          "value": 2184185.82155777
         },
         {
          "group": "import",
          "partner": "Monde",
          "product": "Drinks and tobacco",
          "value": 506589.51558540005
         },
         {
          "group": "import",
          "partner": "colonies",
          "product": "Drinks and tobacco",
          "value": 75368
         },
         {
          "group": "export",
          "partner": "Monde",
          "product": "Drinks and tobacco",
          "value": 1287949.5667778999
         },
         {
          "group": "export",
          "partner": "France",
          "product": "Drinks and tobacco",
          "value": 150982.81710644
         },
         {
          "group": "export",
          "partner": "colonies",
          "product": "Drinks and tobacco",
          "value": 1465042
         },
         {
          "group": "import",
          "partner": "Fraude ?",
          "product": "Drinks and tobacco",
          "value": 137831.0467411694
         },
         {
          "group": "import",
          "partner": "France",
          "product": "Other foodstuffs and live animals",
          "value": 4494938.785433328
         },
         {
          "group": "import",
          "partner": "Monde",
          "product": "Other foodstuffs and live animals",
          "value": 17499895.61697713
         },
         {
          "group": "import",
          "partner": "colonies",
          "product": "Other foodstuffs and live animals",
          "value": 33390
         },
         {
          "group": "export",
          "partner": "France",
          "product": "Other foodstuffs and live animals",
          "value": 232275.48307003
         },
         {
          "group": "export",
          "partner": "Monde",
          "product": "Other foodstuffs and live animals",
          "value": 4028625.077713261
         },
         {
          "group": "export",
          "partner": "colonies",
          "product": "Other foodstuffs and live animals",
          "value": 1299177
         },
         {
          "group": "export",
          "partner": "Fraude ?",
          "product": "Other foodstuffs and live animals",
          "value": 16468146.841627164
         },
         {
          "group": "import",
          "partner": "colonies",
          "product": "Plantation foodstuffs",
          "value": 29202350
         },
         {
          "group": "import",
          "partner": "Monde",
          "product": "Plantation foodstuffs",
          "value": 2351110.62477975
         },
         {
          "group": "import",
          "partner": "France",
          "product": "Plantation foodstuffs",
          "value": 16869.6
         },
         {
          "group": "export",
          "partner": "Monde",
          "product": "Plantation foodstuffs",
          "value": 23252475.2031105
         },
         {
          "group": "export",
          "partner": "France",
          "product": "Plantation foodstuffs",
          "value": 41364
         },
         {
          "group": "export",
          "partner": "colonies",
          "product": "Plantation foodstuffs",
          "value": 67219
         },
         {
          "group": "export",
          "partner": "Fraude ?",
          "product": "Plantation foodstuffs",
          "value": 8209272.02166925
         },
         {
          "group": "import",
          "partner": "France",
          "product": "Coton threads and fabrics",
          "value": 2234656.25
         },
         {
          "group": "import",
          "partner": "Monde",
          "product": "Coton threads and fabrics",
          "value": 5731464.2014916
         },
         {
          "group": "export",
          "partner": "France",
          "product": "Coton threads and fabrics",
          "value": 1682571.7508
         },
         {
          "group": "export",
          "partner": "Monde",
          "product": "Coton threads and fabrics",
          "value": 3551437.0063199997
         },
         {
          "group": "export",
          "partner": "colonies",
          "product": "Coton threads and fabrics",
          "value": 2211244
         },
         {
          "group": "export",
          "partner": "Fraude ?",
          "product": "Coton threads and fabrics",
          "value": 520867.6943715997
         },
         {
          "group": "import",
          "partner": "France",
          "product": "Chemical products",
          "value": 775525.70312688
         },
         {
          "group": "import",
          "partner": "colonies",
          "product": "Chemical products",
          "value": 812862
         },
         {
          "group": "import",
          "partner": "Monde",
          "product": "Chemical products",
          "value": 7492131.653461499
         },
         {
          "group": "export",
          "partner": "Monde",
          "product": "Chemical products",
          "value": 6301990.0234013
         },
         {
          "group": "export",
          "partner": "France",
          "product": "Chemical products",
          "value": 374389.96968
         },
         {
          "group": "export",
          "partner": "colonies",
          "product": "Chemical products",
          "value": 1697334
         },
         {
          "group": "export",
          "partner": "Fraude ?",
          "product": "Chemical products",
          "value": 706805.363507078
         },
         {
          "group": "import",
          "partner": "France",
          "product": "Crude materials, inedible, except combustibles",
          "value": 1109980.995850666
         },
         {
          "group": "import",
          "partner": "Monde",
          "product": "Crude materials, inedible, except combustibles",
          "value": 22946971.777691305
         },
         {
          "group": "import",
          "partner": "colonies",
          "product": "Crude materials, inedible, except combustibles",
          "value": 1187898
         },
         {
          "group": "export",
          "partner": "Monde",
          "product": "Crude materials, inedible, except combustibles",
          "value": 2951822.4185500015
         },
         {
          "group": "export",
          "partner": "France",
          "product": "Crude materials, inedible, except combustibles",
          "value": 181257.27047775002
         },
         {
          "group": "export",
          "partner": "colonies",
          "product": "Crude materials, inedible, except combustibles",
          "value": 184365
         },
         {
          "group": "export",
          "partner": "Fraude ?",
          "product": "Crude materials, inedible, except combustibles",
          "value": 21927406.08451422
         },
         {
          "group": "import",
          "partner": "France",
          "product": "Other",
          "value": 3157255.64217973
         },
         {
          "group": "import",
          "partner": "Monde",
          "product": "Other",
          "value": 351292.23803380004
         },
         {
          "group": "import",
          "partner": "colonies",
          "product": "Other",
          "value": 17782
         },
         {
          "group": "export",
          "partner": "France",
          "product": "Other",
          "value": 1293795.90053
         },
         {
          "group": "export",
          "partner": "Monde",
          "product": "Other",
          "value": 873680.1504149999
         },
         {
          "group": "export",
          "partner": "colonies",
          "product": "Other",
          "value": 1934464
         },
         {
          "group": "import",
          "partner": "Fraude ?",
          "product": "Other",
          "value": 575610.17073147
         }
        ]
       },
       "spacing": 0,
       "title": "MARSEILLE\n Répartition des imports/exports en 1789 par produits (SITC simpl)",
       "vconcat": [
        {
         "hconcat": [
          {
           "encoding": {
            "color": {
             "field": "partner",
             "scale": {
              "domain": [
               "colonies",
               "Monde",
               "France",
               "Fraude ?",
               "Re-exp ou fraude ?"
              ],
              "range": [
               "purple",
               "darkblue",
               "olive",
               "lightgrey",
               "darkgrey"
              ]
             },
             "sort": [
              "colonies",
              "Monde",
              "France",
              "Fraude ?",
              "Re-exp ou fraude ?"
             ],
             "type": "nominal"
            },
            "x": {
             "field": "value",
             "sort": "descending",
             "title": "Valeur (Lt)",
             "type": "quantitative"
            },
            "y": {
             "field": "product",
             "sort": "-x",
             "title": null,
             "type": "ordinal"
            }
           },
           "mark": {
            "tooltip": {
             "content": "data"
            },
            "type": "bar"
           },
           "title": "import",
           "transform": [
            {
             "filter": {
              "equal": "import",
              "field": "group"
             }
            }
           ]
          },
          {
           "encoding": {
            "color": {
             "field": "partner",
             "scale": {
              "domain": [
               "colonies",
               "Monde",
               "France",
               "Fraude ?",
               "Re-exp ou fraude ?"
              ],
              "range": [
               "purple",
               "darkblue",
               "olive",
               "lightgrey",
               "darkgrey"
              ]
             },
             "sort": [
              "colonies",
              "Monde",
              "France",
              "Fraude ?",
              "Re-exp ou fraude ?"
             ],
             "type": "nominal"
            },
            "x": {
             "field": "value",
             "sort": "ascending",
             "title": "Valeur (Lt)",
             "type": "quantitative"
            },
            "y": {
             "axis": null,
             "field": "product",
             "sort": "-x",
             "title": null,
             "type": "ordinal"
            }
           },
           "mark": {
            "tooltip": {
             "content": "data"
            },
            "type": "bar"
           },
           "title": "export",
           "transform": [
            {
             "filter": {
              "equal": "export",
              "field": "group"
             }
            }
           ]
          }
         ]
        },
        {
         "hconcat": [
          {
           "encoding": {
            "color": {
             "field": "partner",
             "scale": {
              "domain": [
               "colonies",
               "Monde",
               "France",
               "Fraude ?",
               "Re-exp ou fraude ?"
              ],
              "range": [
               "purple",
               "darkblue",
               "olive",
               "lightgrey",
               "darkgrey"
              ]
             },
             "sort": [
              "colonies",
              "Monde",
              "France",
              "Fraude ?",
              "Re-exp ou fraude ?"
             ],
             "type": "nominal"
            },
            "x": {
             "field": "total_value",
             "scale": {
              "domain": [
               0,
               98943860.15101588
              ]
             },
             "sort": "descending",
             "title": "Valeur tous produits (Lt)",
             "type": "quantitative"
            },
            "y": {
             "field": "partner",
             "scale": {
              "domain": [
               "colonies",
               "Monde",
               "France",
               "Fraude ?",
               "Re-exp ou fraude ?"
              ]
             },
             "sort": [
              "colonies",
              "Monde",
              "France",
              "Fraude ?",
              "Re-exp ou fraude ?"
             ],
             "title": null,
             "type": "ordinal"
            }
           },
           "mark": {
            "tooltip": {
             "content": "data"
            },
            "type": "bar"
           },
           "transform": [
            {
             "filter": {
              "equal": "import",
              "field": "group"
             }
            },
            {
             "aggregate": [
              {
               "as": "total_value",
               "field": "value",
               "op": "sum"
              }
             ],
             "groupby": [
              "partner"
             ]
            }
           ]
          },
          {
           "encoding": {
            "color": {
             "field": "partner",
             "scale": {
              "domain": [
               "colonies",
               "Monde",
               "France",
               "Fraude ?",
               "Re-exp ou fraude ?"
              ],
              "range": [
               "purple",
               "darkblue",
               "olive",
               "lightgrey",
               "darkgrey"
              ]
             },
             "sort": [
              "colonies",
              "Monde",
              "France",
              "Fraude ?",
              "Re-exp ou fraude ?"
             ],
             "type": "nominal"
            },
            "x": {
             "field": "total_value",
             "scale": {
              "domain": [
               0,
               98943860.15101588
              ]
             },
             "sort": "ascending",
             "title": "Valeur tous produits (Lt)",
             "type": "quantitative"
            },
            "y": {
             "axis": null,
             "field": "partner",
             "scale": {
              "domain": [
               "colonies",
               "Monde",
               "France",
               "Fraude ?",
               "Re-exp ou fraude ?"
              ]
             },
             "sort": [
              "colonies",
              "Monde",
              "France",
              "Fraude ?",
              "Re-exp ou fraude ?"
             ],
             "title": null,
             "type": "ordinal"
            }
           },
           "mark": {
            "tooltip": {
             "content": "data"
            },
            "type": "bar"
           },
           "transform": [
            {
             "filter": {
              "equal": "export",
              "field": "group"
             }
            },
            {
             "aggregate": [
              {
               "as": "total_value",
               "field": "value",
               "op": "sum"
              }
             ],
             "groupby": [
              "partner"
             ]
            }
           ]
          }
         ]
        },
        {
         "hconcat": [
          {
           "encoding": {
            "x": {
             "field": "total_value",
             "scale": {
              "domain": [
               0,
               181582773.4335826
              ]
             },
             "sort": "descending",
             "title": "Valeur tous produits (Lt)",
             "type": "quantitative"
            }
           },
           "mark": {
            "tooltip": {
             "content": "data"
            },
            "type": "bar"
           },
           "transform": [
            {
             "filter": {
              "equal": "import",
              "field": "group"
             }
            },
            {
             "filter": "indexof(datum.partner,'?')==-1"
            },
            {
             "aggregate": [
              {
               "as": "total_value",
               "field": "value",
               "op": "sum"
              }
             ]
            }
           ]
          },
          {
           "encoding": {
            "x": {
             "field": "total_value",
             "scale": {
              "domain": [
               0,
               181582773.4335826
              ]
             },
             "sort": "ascending",
             "title": "Totaux (Lt)",
             "type": "quantitative"
            }
           },
           "mark": {
            "tooltip": {
             "content": "data"
            },
            "type": "bar"
           },
           "transform": [
            {
             "filter": {
              "equal": "export",
              "field": "group"
             }
            },
            {
             "filter": "indexof(datum.partner,'?')==-1"
            },
            {
             "aggregate": [
              {
               "as": "total_value",
               "field": "value",
               "op": "sum"
              }
             ]
            }
           ]
          }
         ]
        }
       ]
      }
     },
     "metadata": {},
     "output_type": "display_data"
    },
    {
     "data": {
      "application/vnd.vegalite.v4+json": {
       "data": {
        "values": [
         {
          "group": "import",
          "partner": "France",
          "product": "Silk threads and fabrics",
          "value": 29407
         },
         {
          "group": "export",
          "partner": "Monde",
          "product": "Silk threads and fabrics",
          "value": 47451
         },
         {
          "group": "export",
          "partner": "France",
          "product": "Silk threads and fabrics",
          "value": 28975
         },
         {
          "group": "import",
          "partner": "Fraude ?",
          "product": "Silk threads and fabrics",
          "value": 47019
         },
         {
          "group": "import",
          "partner": "France",
          "product": "Other industrial products",
          "value": 97818.19009295
         },
         {
          "group": "import",
          "partner": "Monde",
          "product": "Other industrial products",
          "value": 1122852
         },
         {
          "group": "export",
          "partner": "Monde",
          "product": "Other industrial products",
          "value": 35168
         },
         {
          "group": "export",
          "partner": "France",
          "product": "Other industrial products",
          "value": 1422
         },
         {
          "group": "export",
          "partner": "Fraude ?",
          "product": "Other industrial products",
          "value": 1184080.19009295
         },
         {
          "group": "import",
          "partner": "France",
          "product": "Oils",
          "value": 16608.35
         },
         {
          "group": "import",
          "partner": "Monde",
          "product": "Oils",
          "value": 185741.7988
         },
         {
          "group": "export",
          "partner": "Monde",
          "product": "Oils",
          "value": 868.40002171
         },
         {
          "group": "export",
          "partner": "Fraude ?",
          "product": "Oils",
          "value": 201481.74877829
         },
         {
          "group": "import",
          "partner": "France",
          "product": "Other threads and fabrics",
          "value": 28690.5
         },
         {
          "group": "import",
          "partner": "Monde",
          "product": "Other threads and fabrics",
          "value": 35220
         },
         {
          "group": "export",
          "partner": "Monde",
          "product": "Other threads and fabrics",
          "value": 114902.5
         },
         {
          "group": "export",
          "partner": "France",
          "product": "Other threads and fabrics",
          "value": 26650
         },
         {
          "group": "import",
          "partner": "Fraude ?",
          "product": "Other threads and fabrics",
          "value": 77642
         },
         {
          "group": "import",
          "partner": "France",
          "product": "Leather, wood and paper products",
          "value": 36271.560097776
         },
         {
          "group": "import",
          "partner": "Monde",
          "product": "Leather, wood and paper products",
          "value": 73715
         },
         {
          "group": "export",
          "partner": "Monde",
          "product": "Leather, wood and paper products",
          "value": 54012.5
         },
         {
          "group": "export",
          "partner": "France",
          "product": "Leather, wood and paper products",
          "value": 12016
         },
         {
          "group": "export",
          "partner": "Fraude ?",
          "product": "Leather, wood and paper products",
          "value": 43958.060097776004
         },
         {
          "group": "import",
          "partner": "Monde",
          "product": "Wool threads and fabrics",
          "value": 35233
         },
         {
          "group": "import",
          "partner": "France",
          "product": "Wool threads and fabrics",
          "value": 3120
         },
         {
          "group": "export",
          "partner": "Fraude ?",
          "product": "Wool threads and fabrics",
          "value": 38353
         },
         {
          "group": "import",
          "partner": "France",
          "product": "Drinks and tobacco",
          "value": 155835.82080133999
         },
         {
          "group": "import",
          "partner": "Monde",
          "product": "Drinks and tobacco",
          "value": 513694
         },
         {
          "group": "export",
          "partner": "Monde",
          "product": "Drinks and tobacco",
          "value": 497943.25
         },
         {
          "group": "export",
          "partner": "France",
          "product": "Drinks and tobacco",
          "value": 349.5
         },
         {
          "group": "export",
          "partner": "Fraude ?",
          "product": "Drinks and tobacco",
          "value": 171237.07080134004
         },
         {
          "group": "import",
          "partner": "France",
          "product": "Other foodstuffs and live animals",
          "value": 67784.70121104
         },
         {
          "group": "import",
          "partner": "Monde",
          "product": "Other foodstuffs and live animals",
          "value": 297974.2
         },
         {
          "group": "export",
          "partner": "Monde",
          "product": "Other foodstuffs and live animals",
          "value": 82017
         },
         {
          "group": "export",
          "partner": "France",
          "product": "Other foodstuffs and live animals",
          "value": 3800.000095
         },
         {
          "group": "export",
          "partner": "Fraude ?",
          "product": "Other foodstuffs and live animals",
          "value": 279941.90111603995
         },
         {
          "group": "import",
          "partner": "France",
          "product": "Plantation foodstuffs",
          "value": 7649.3
         },
         {
          "group": "import",
          "partner": "Monde",
          "product": "Plantation foodstuffs",
          "value": 16000
         },
         {
          "group": "export",
          "partner": "Monde",
          "product": "Plantation foodstuffs",
          "value": 8450
         },
         {
          "group": "export",
          "partner": "Fraude ?",
          "product": "Plantation foodstuffs",
          "value": 15199.3
         },
         {
          "group": "import",
          "partner": "France",
          "product": "Coton threads and fabrics",
          "value": 9900
         },
         {
          "group": "import",
          "partner": "Monde",
          "product": "Coton threads and fabrics",
          "value": 49688
         },
         {
          "group": "export",
          "partner": "France",
          "product": "Coton threads and fabrics",
          "value": 5730.5
         },
         {
          "group": "export",
          "partner": "Fraude ?",
          "product": "Coton threads and fabrics",
          "value": 53857.5
         },
         {
          "group": "import",
          "partner": "France",
          "product": "Chemical products",
          "value": 116345.64945
         },
         {
          "group": "import",
          "partner": "Monde",
          "product": "Chemical products",
          "value": 9470
         },
         {
          "group": "export",
          "partner": "Monde",
          "product": "Chemical products",
          "value": 30861
         },
         {
          "group": "export",
          "partner": "France",
          "product": "Chemical products",
          "value": 1177.5
         },
         {
          "group": "export",
          "partner": "Fraude ?",
          "product": "Chemical products",
          "value": 93777.14945
         },
         {
          "group": "import",
          "partner": "France",
          "product": "Crude materials, inedible, except combustibles",
          "value": 23047.900076100002
         },
         {
          "group": "import",
          "partner": "Monde",
          "product": "Crude materials, inedible, except combustibles",
          "value": 411793
         },
         {
          "group": "export",
          "partner": "Monde",
          "product": "Crude materials, inedible, except combustibles",
          "value": 180017.035
         },
         {
          "group": "export",
          "partner": "France",
          "product": "Crude materials, inedible, except combustibles",
          "value": 119.999998
         },
         {
          "group": "export",
          "partner": "Fraude ?",
          "product": "Crude materials, inedible, except combustibles",
          "value": 254703.8650781
         },
         {
          "group": "import",
          "partner": "France",
          "product": "Other",
          "value": 18784
         },
         {
          "group": "import",
          "partner": "Monde",
          "product": "Other",
          "value": 83491
         },
         {
          "group": "export",
          "partner": "Monde",
          "product": "Other",
          "value": 514040
         },
         {
          "group": "export",
          "partner": "France",
          "product": "Other",
          "value": 216
         },
         {
          "group": "export",
          "partner": "colonies",
          "product": "Other",
          "value": 1067534
         },
         {
          "group": "import",
          "partner": "Fraude ?",
          "product": "Other",
          "value": 1479515
         }
        ]
       },
       "spacing": 0,
       "title": "LORIENT\n Répartition des imports/exports en 1789 par produits (SITC simpl)",
       "vconcat": [
        {
         "hconcat": [
          {
           "encoding": {
            "color": {
             "field": "partner",
             "scale": {
              "domain": [
               "colonies",
               "Monde",
               "France",
               "Fraude ?",
               "Re-exp ou fraude ?"
              ],
              "range": [
               "purple",
               "darkblue",
               "olive",
               "lightgrey",
               "darkgrey"
              ]
             },
             "sort": [
              "colonies",
              "Monde",
              "France",
              "Fraude ?",
              "Re-exp ou fraude ?"
             ],
             "type": "nominal"
            },
            "x": {
             "field": "value",
             "sort": "descending",
             "title": "Valeur (Lt)",
             "type": "quantitative"
            },
            "y": {
             "field": "product",
             "sort": "-x",
             "title": null,
             "type": "ordinal"
            }
           },
           "mark": {
            "tooltip": {
             "content": "data"
            },
            "type": "bar"
           },
           "title": "import",
           "transform": [
            {
             "filter": {
              "equal": "import",
              "field": "group"
             }
            }
           ]
          },
          {
           "encoding": {
            "color": {
             "field": "partner",
             "scale": {
              "domain": [
               "colonies",
               "Monde",
               "France",
               "Fraude ?",
               "Re-exp ou fraude ?"
              ],
              "range": [
               "purple",
               "darkblue",
               "olive",
               "lightgrey",
               "darkgrey"
              ]
             },
             "sort": [
              "colonies",
              "Monde",
              "France",
              "Fraude ?",
              "Re-exp ou fraude ?"
             ],
             "type": "nominal"
            },
            "x": {
             "field": "value",
             "sort": "ascending",
             "title": "Valeur (Lt)",
             "type": "quantitative"
            },
            "y": {
             "axis": null,
             "field": "product",
             "sort": "-x",
             "title": null,
             "type": "ordinal"
            }
           },
           "mark": {
            "tooltip": {
             "content": "data"
            },
            "type": "bar"
           },
           "title": "export",
           "transform": [
            {
             "filter": {
              "equal": "export",
              "field": "group"
             }
            }
           ]
          }
         ]
        },
        {
         "hconcat": [
          {
           "encoding": {
            "color": {
             "field": "partner",
             "scale": {
              "domain": [
               "colonies",
               "Monde",
               "France",
               "Fraude ?",
               "Re-exp ou fraude ?"
              ],
              "range": [
               "purple",
               "darkblue",
               "olive",
               "lightgrey",
               "darkgrey"
              ]
             },
             "sort": [
              "colonies",
              "Monde",
              "France",
              "Fraude ?",
              "Re-exp ou fraude ?"
             ],
             "type": "nominal"
            },
            "x": {
             "field": "total_value",
             "scale": {
              "domain": [
               0,
               2834871.9988
              ]
             },
             "sort": "descending",
             "title": "Valeur tous produits (Lt)",
             "type": "quantitative"
            },
            "y": {
             "field": "partner",
             "scale": {
              "domain": [
               "colonies",
               "Monde",
               "France",
               "Fraude ?",
               "Re-exp ou fraude ?"
              ]
             },
             "sort": [
              "colonies",
              "Monde",
              "France",
              "Fraude ?",
              "Re-exp ou fraude ?"
             ],
             "title": null,
             "type": "ordinal"
            }
           },
           "mark": {
            "tooltip": {
             "content": "data"
            },
            "type": "bar"
           },
           "transform": [
            {
             "filter": {
              "equal": "import",
              "field": "group"
             }
            },
            {
             "aggregate": [
              {
               "as": "total_value",
               "field": "value",
               "op": "sum"
              }
             ],
             "groupby": [
              "partner"
             ]
            }
           ]
          },
          {
           "encoding": {
            "color": {
             "field": "partner",
             "scale": {
              "domain": [
               "colonies",
               "Monde",
               "France",
               "Fraude ?",
               "Re-exp ou fraude ?"
              ],
              "range": [
               "purple",
               "darkblue",
               "olive",
               "lightgrey",
               "darkgrey"
              ]
             },
             "sort": [
              "colonies",
              "Monde",
              "France",
              "Fraude ?",
              "Re-exp ou fraude ?"
             ],
             "type": "nominal"
            },
            "x": {
             "field": "total_value",
             "scale": {
              "domain": [
               0,
               2834871.9988
              ]
             },
             "sort": "ascending",
             "title": "Valeur tous produits (Lt)",
             "type": "quantitative"
            },
            "y": {
             "axis": null,
             "field": "partner",
             "scale": {
              "domain": [
               "colonies",
               "Monde",
               "France",
               "Fraude ?",
               "Re-exp ou fraude ?"
              ]
             },
             "sort": [
              "colonies",
              "Monde",
              "France",
              "Fraude ?",
              "Re-exp ou fraude ?"
             ],
             "title": null,
             "type": "ordinal"
            }
           },
           "mark": {
            "tooltip": {
             "content": "data"
            },
            "type": "bar"
           },
           "transform": [
            {
             "filter": {
              "equal": "export",
              "field": "group"
             }
            },
            {
             "aggregate": [
              {
               "as": "total_value",
               "field": "value",
               "op": "sum"
              }
             ],
             "groupby": [
              "partner"
             ]
            }
           ]
          }
         ]
        },
        {
         "hconcat": [
          {
           "encoding": {
            "x": {
             "field": "total_value",
             "scale": {
              "domain": [
               0,
               5050310.970529206
              ]
             },
             "sort": "descending",
             "title": "Valeur tous produits (Lt)",
             "type": "quantitative"
            }
           },
           "mark": {
            "tooltip": {
             "content": "data"
            },
            "type": "bar"
           },
           "transform": [
            {
             "filter": {
              "equal": "import",
              "field": "group"
             }
            },
            {
             "filter": "indexof(datum.partner,'?')==-1"
            },
            {
             "aggregate": [
              {
               "as": "total_value",
               "field": "value",
               "op": "sum"
              }
             ]
            }
           ]
          },
          {
           "encoding": {
            "x": {
             "field": "total_value",
             "scale": {
              "domain": [
               0,
               5050310.970529206
              ]
             },
             "sort": "ascending",
             "title": "Totaux (Lt)",
             "type": "quantitative"
            }
           },
           "mark": {
            "tooltip": {
             "content": "data"
            },
            "type": "bar"
           },
           "transform": [
            {
             "filter": {
              "equal": "export",
              "field": "group"
             }
            },
            {
             "filter": "indexof(datum.partner,'?')==-1"
            },
            {
             "aggregate": [
              {
               "as": "total_value",
               "field": "value",
               "op": "sum"
              }
             ]
            }
           ]
          }
         ]
        }
       ]
      }
     },
     "metadata": {},
     "output_type": "display_data"
    }
   ],
   "source": [
    "for city in [\"Dunkerque\", \"Bayonne\", \"Marseille\", \"Lorient\"]:\n",
    "    pyramide_port_franc(city, data)"
   ]
  },
  {
   "cell_type": "markdown",
   "id": "d68a0afa-dc31-4c90-8e3f-79620fef5d9c",
   "metadata": {},
   "source": [
    "# Continuations\n",
    "\n",
    "ajouter la valeur totale pour tout le graphique pour chacun des 5 (6 avec ceux dont on est sûrs que c'est de la fraude) partners\n",
    "entrepôt ou fraude (résidu) - pour la première ligne c'est sûr que c'est de la fraude\n",
    "\n",
    "regarder navigo :peut-on distinguer entre entrepôt légitime et fraude ? Y a-t-il suffisamment de navires (quel tonnage ?) qui partent avec ce genre de produits ?  --> voir qui travaille là-dessus\n",
    "\n",
    "pour les autres ports francs on a les exports, donc pas besoin de calculer un résidu  --> plus facile de distinguer la fraude de l'entrepôt\n",
    "\n",
    "regarder quand commence cet entrepôt / fraude --> lire la thèse de Christian p. 167 - 169, d'après Christian on pourrait mettre en évidence que ça commence vers 1730\n",
    "\n",
    "Plusieurs séries temporelles ?"
   ]
  },
  {
   "cell_type": "code",
   "execution_count": null,
   "id": "ed1ba3b0-7c1a-4e91-8a2c-b5027694817c",
   "metadata": {},
   "outputs": [],
   "source": []
  }
 ],
 "metadata": {
  "kernelspec": {
   "display_name": "Python 3",
   "language": "python",
   "name": "python3"
  },
  "language_info": {
   "codemirror_mode": {
    "name": "ipython",
    "version": 3
   },
   "file_extension": ".py",
   "mimetype": "text/x-python",
   "name": "python",
   "nbconvert_exporter": "python",
   "pygments_lexer": "ipython3",
   "version": "3.9.9"
  }
 },
 "nbformat": 4,
 "nbformat_minor": 5
}
