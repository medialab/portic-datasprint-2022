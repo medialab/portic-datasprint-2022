{
 "cells": [
  {
   "cell_type": "code",
   "execution_count": null,
   "id": "aa751e41-a63b-4525-a950-97c9d86f75f5",
   "metadata": {},
   "outputs": [],
   "source": [
    "from IPython.display import display\n",
    "import pandas as pd\n",
    "\n",
    "def VegaLite(spec):\n",
    "    bundle = {}\n",
    "    bundle['application/vnd.vegalite.v4+json'] = spec\n",
    "    display(bundle, raw=True)"
   ]
  },
  {
   "cell_type": "code",
   "execution_count": null,
   "id": "cb0a0cea-55ad-47b2-9aef-fe6fa145c2af",
   "metadata": {},
   "outputs": [],
   "source": [
    "report_dk = [{\"value\": 27, \"product\": \"Subsistances\", \"destination\": \"fr\"}, \n",
    "             {\"value\": 7, \"product\": \"Subsistances\", \"destination\": \"colonies\"}, \n",
    "             {\"value\": 37, \"product\": \"Matières premières\", \"destination\": \"fr\"}, \n",
    "             {\"value\": 70, \"product\": \"Matières premières\", \"destination\": \"colonies\"}, \n",
    "             {\"value\": 20, \"product\": \"Drogues\", \"destination\": \"fr\"}, \n",
    "             {\"value\": 29, \"product\": \"Drogues\", \"destination\": \"colonies\"}, \n",
    "            ]\n",
    "my_other_source = [{\"value\": 27, \"product\": \"Subsistances\", \"destination\": \"fr\"}, \n",
    "             {\"value\": 7, \"product\": \"Subsistances\", \"destination\": \"colonies\"}, \n",
    "             {\"value\": 20, \"product\": \"Matières premières\", \"destination\": \"fr\"}, \n",
    "             {\"value\": 70, \"product\": \"Matières premières\", \"destination\": \"other_field\"}, \n",
    "             {\"value\": 40, \"product\": \"Drogues\", \"destination\": \"fr\"}, \n",
    "             {\"value\": 32, \"product\": \"Drogues\", \"destination\": \"other_field\"}, \n",
    "            ]"
   ]
  },
  {
   "cell_type": "code",
   "execution_count": null,
   "id": "f74f241e-7ce2-4ddd-8c86-67f8d6d8da90",
   "metadata": {},
   "outputs": [],
   "source": [
    "for row in report_dk:\n",
    "    row[\"group\"] = \"import\"\n",
    "for row in my_other_source:\n",
    "    row[\"group\"] = \"export\"\n",
    "all_data = report_dk + my_other_source"
   ]
  },
  {
   "cell_type": "code",
   "execution_count": 89,
   "id": "2d6a8fd8-1384-46cf-aecf-18d03d95a3b8",
   "metadata": {},
   "outputs": [],
   "source": [
    "import json\n",
    "\n",
    "with open(\"data/export_dunkerque_entreprôt.json\", \"r\") as f:\n",
    "    report_dk = json.load(f)"
   ]
  },
  {
   "cell_type": "code",
   "execution_count": 90,
   "id": "62521f5c-4e48-45fc-b4a0-92a5e759dfd8",
   "metadata": {},
   "outputs": [
    {
     "data": {
      "text/plain": [
       "[{'value': 5872641.40022,\n",
       "  'product': 'Other threads and fabrics',\n",
       "  'partner': 'entrepôt',\n",
       "  'group': 'export'},\n",
       " {'value': 27063.59978,\n",
       "  'product': 'Other threads and fabrics',\n",
       "  'partner': 'France',\n",
       "  'group': 'export'}]"
      ]
     },
     "execution_count": 90,
     "metadata": {},
     "output_type": "execute_result"
    }
   ],
   "source": [
    "report_dk[:2]"
   ]
  },
  {
   "cell_type": "code",
   "execution_count": 91,
   "id": "20855502-91ae-4478-bf88-68385eaad198",
   "metadata": {},
   "outputs": [
    {
     "data": {
      "application/vnd.vegalite.v4+json": {
       "data": {
        "values": [
         {
          "group": "export",
          "partner": "entrepôt",
          "product": "Other threads and fabrics",
          "value": 5872641.40022
         },
         {
          "group": "export",
          "partner": "France",
          "product": "Other threads and fabrics",
          "value": 27063.59978
         },
         {
          "group": "export",
          "partner": "colonies ou re-exp",
          "product": "Other threads and fabrics",
          "value": 411933
         },
         {
          "group": "import",
          "partner": "France",
          "product": "Other threads and fabrics",
          "value": 543957
         },
         {
          "group": "import",
          "partner": "Monde",
          "product": "Other threads and fabrics",
          "value": 5767681
         },
         {
          "group": "export",
          "partner": "entrepôt",
          "product": "Crude materials, inedible, except combustibles",
          "value": 1857147.5924997497
         },
         {
          "group": "export",
          "partner": "France",
          "product": "Crude materials, inedible, except combustibles",
          "value": 1340701.5201395
         },
         {
          "group": "export",
          "partner": "colonies ou re-exp",
          "product": "Crude materials, inedible, except combustibles",
          "value": 725681
         },
         {
          "group": "import",
          "partner": "France",
          "product": "Crude materials, inedible, except combustibles",
          "value": 331649.11263924994
         },
         {
          "group": "import",
          "partner": "Monde",
          "product": "Crude materials, inedible, except combustibles",
          "value": 2490363
         },
         {
          "group": "import",
          "partner": "colonies",
          "product": "Crude materials, inedible, except combustibles",
          "value": 1101518
         },
         {
          "group": "export",
          "partner": "entrepôt",
          "product": "Wool threads and fabrics",
          "value": 1772348
         },
         {
          "group": "export",
          "partner": "France",
          "product": "Wool threads and fabrics",
          "value": 1376
         },
         {
          "group": "export",
          "partner": "colonies ou re-exp",
          "product": "Wool threads and fabrics",
          "value": 71104
         },
         {
          "group": "import",
          "partner": "France",
          "product": "Wool threads and fabrics",
          "value": 123728
         },
         {
          "group": "import",
          "partner": "Monde",
          "product": "Wool threads and fabrics",
          "value": 1721100
         },
         {
          "group": "export",
          "partner": "entrepôt",
          "product": "Oils",
          "value": 566985.93054571
         },
         {
          "group": "export",
          "partner": "France",
          "product": "Oils",
          "value": 23526.56986543
         },
         {
          "group": "export",
          "partner": "colonies ou re-exp",
          "product": "Oils",
          "value": 14793
         },
         {
          "group": "import",
          "partner": "France",
          "product": "Oils",
          "value": 67874.50041114
         },
         {
          "group": "import",
          "partner": "Monde",
          "product": "Oils",
          "value": 537431
         },
         {
          "group": "export",
          "partner": "entrepôt",
          "product": "Other",
          "value": 951679.67992
         },
         {
          "group": "export",
          "partner": "France",
          "product": "Other",
          "value": 14282.320080000001
         },
         {
          "group": "export",
          "partner": "colonies ou re-exp",
          "product": "Other",
          "value": 8932
         },
         {
          "group": "import",
          "partner": "France",
          "product": "Other",
          "value": 212659
         },
         {
          "group": "import",
          "partner": "Monde",
          "product": "Other",
          "value": 760882
         },
         {
          "group": "import",
          "partner": "colonies",
          "product": "Other",
          "value": 1353
         },
         {
          "group": "export",
          "partner": "entrepôt",
          "product": "Other industrial products",
          "value": 2858453.96087815
         },
         {
          "group": "export",
          "partner": "France",
          "product": "Other industrial products",
          "value": 141543.23926685
         },
         {
          "group": "export",
          "partner": "colonies ou re-exp",
          "product": "Other industrial products",
          "value": 313967
         },
         {
          "group": "import",
          "partner": "France",
          "product": "Other industrial products",
          "value": 314846.200145
         },
         {
          "group": "import",
          "partner": "Monde",
          "product": "Other industrial products",
          "value": 2999118
         },
         {
          "group": "export",
          "partner": "entrepôt",
          "product": "Coton threads and fabrics",
          "value": 4334738
         },
         {
          "group": "export",
          "partner": "France",
          "product": "Coton threads and fabrics",
          "value": 547605
         },
         {
          "group": "export",
          "partner": "colonies ou re-exp",
          "product": "Coton threads and fabrics",
          "value": 49084
         },
         {
          "group": "import",
          "partner": "France",
          "product": "Coton threads and fabrics",
          "value": 99571
         },
         {
          "group": "import",
          "partner": "Monde",
          "product": "Coton threads and fabrics",
          "value": 4831856
         },
         {
          "group": "export",
          "partner": "entrepôt",
          "product": "Leather, wood and paper products",
          "value": 641940.09532503
         },
         {
          "group": "export",
          "partner": "France",
          "product": "Leather, wood and paper products",
          "value": 155250.65
         },
         {
          "group": "export",
          "partner": "colonies ou re-exp",
          "product": "Leather, wood and paper products",
          "value": 32319
         },
         {
          "group": "import",
          "partner": "France",
          "product": "Leather, wood and paper products",
          "value": 103605.74532503
         },
         {
          "group": "import",
          "partner": "Monde",
          "product": "Leather, wood and paper products",
          "value": 664528
         },
         {
          "group": "import",
          "partner": "colonies",
          "product": "Leather, wood and paper products",
          "value": 61376
         },
         {
          "group": "export",
          "partner": "entrepôt",
          "product": "Drinks and tobacco",
          "value": 5325566.504946929
         },
         {
          "group": "export",
          "partner": "France",
          "product": "Drinks and tobacco",
          "value": 130892.10000436002
         },
         {
          "group": "export",
          "partner": "colonies ou re-exp",
          "product": "Drinks and tobacco",
          "value": 439317
         },
         {
          "group": "import",
          "partner": "France",
          "product": "Drinks and tobacco",
          "value": 1386671.6049512897
         },
         {
          "group": "import",
          "partner": "Monde",
          "product": "Drinks and tobacco",
          "value": 4440210
         },
         {
          "group": "import",
          "partner": "colonies",
          "product": "Drinks and tobacco",
          "value": 68894
         },
         {
          "group": "export",
          "partner": "entrepôt",
          "product": "Chemical products",
          "value": 651098.72973628
         },
         {
          "group": "export",
          "partner": "France",
          "product": "Chemical products",
          "value": 110962.29001099999
         },
         {
          "group": "export",
          "partner": "colonies ou re-exp",
          "product": "Chemical products",
          "value": 117279
         },
         {
          "group": "import",
          "partner": "France",
          "product": "Chemical products",
          "value": 280877.01974728
         },
         {
          "group": "import",
          "partner": "Monde",
          "product": "Chemical products",
          "value": 508907
         },
         {
          "group": "import",
          "partner": "colonies",
          "product": "Chemical products",
          "value": 89556
         },
         {
          "group": "export",
          "partner": "entrepôt",
          "product": "Other foodstuffs and live animals",
          "value": 5725523.324487425
         },
         {
          "group": "export",
          "partner": "France",
          "product": "Other foodstuffs and live animals",
          "value": 1184400.059786
         },
         {
          "group": "export",
          "partner": "colonies ou re-exp",
          "product": "Other foodstuffs and live animals",
          "value": 390372
         },
         {
          "group": "import",
          "partner": "France",
          "product": "Other foodstuffs and live animals",
          "value": 369295.38427342597
         },
         {
          "group": "import",
          "partner": "Monde",
          "product": "Other foodstuffs and live animals",
          "value": 6929264
         },
         {
          "group": "import",
          "partner": "colonies",
          "product": "Other foodstuffs and live animals",
          "value": 1736
         },
         {
          "group": "export",
          "partner": "entrepôt",
          "product": "Silk threads and fabrics",
          "value": 1176850
         },
         {
          "group": "export",
          "partner": "France",
          "product": "Silk threads and fabrics",
          "value": 0
         },
         {
          "group": "export",
          "partner": "colonies ou re-exp",
          "product": "Silk threads and fabrics",
          "value": 2100
         },
         {
          "group": "import",
          "partner": "France",
          "product": "Silk threads and fabrics",
          "value": 218180
         },
         {
          "group": "import",
          "partner": "Monde",
          "product": "Silk threads and fabrics",
          "value": 960770
         },
         {
          "group": "export",
          "partner": "entrepôt",
          "product": "Plantation foodstuffs",
          "value": 5585525
         },
         {
          "group": "export",
          "partner": "France",
          "product": "Plantation foodstuffs",
          "value": 57275
         },
         {
          "group": "export",
          "partner": "colonies ou re-exp",
          "product": "Plantation foodstuffs",
          "value": 3395147
         },
         {
          "group": "import",
          "partner": "France",
          "product": "Plantation foodstuffs",
          "value": 42550
         },
         {
          "group": "import",
          "partner": "colonies",
          "product": "Plantation foodstuffs",
          "value": 7345722
         },
         {
          "group": "import",
          "partner": "Monde",
          "product": "Plantation foodstuffs",
          "value": 1649675
         }
        ]
       },
       "encoding": {
        "color": {
         "field": "partner"
        },
        "column": {
         "field": "group"
        },
        "x": {
         "field": "value",
         "title": "Valeur (Lt)",
         "type": "quantitative"
        },
        "y": {
         "field": "product",
         "sort": "-x",
         "title": "Produits"
        }
       },
       "mark": {
        "tooltip": {
         "content": "data"
        },
        "type": "bar"
       },
       "title": "À refaire"
      },
      "image/png": "[encoded data removed]"
     },
     "metadata": {},
     "output_type": "display_data"
    }
   ],
   "source": [
    "VegaLite({\n",
    "  \"title\": \"À refaire\",\n",
    "  \"data\": {\"values\": report_dk},\n",
    "  \"mark\": {\"type\":\"bar\", \"tooltip\": {\"content\": \"data\"}},\n",
    "  \"encoding\": {\n",
    "    \"x\": {\"field\": \"value\", \"type\": \"quantitative\", \"title\": \"Valeur (Lt)\"},\n",
    "    \"column\": {\"field\": \"group\"},\n",
    "    \"y\": {\"field\": \"product\", \"sort\": \"-x\", \"title\": \"Produits\"},\n",
    "    \"color\": {\"field\": \"partner\"}\n",
    "  }\n",
    "})"
   ]
  },
  {
   "cell_type": "code",
   "execution_count": 105,
   "id": "e5536b8c-a4ea-4e73-9a47-ff4a0f762ef7",
   "metadata": {},
   "outputs": [
    {
     "data": {
      "application/vnd.vegalite.v4+json": {
       "data": {
        "values": [
         {
          "group": "export",
          "partner": "entrepôt",
          "product": "Other threads and fabrics",
          "value": 5872641.40022
         },
         {
          "group": "export",
          "partner": "France",
          "product": "Other threads and fabrics",
          "value": 27063.59978
         },
         {
          "group": "export",
          "partner": "colonies ou re-exp",
          "product": "Other threads and fabrics",
          "value": 411933
         },
         {
          "group": "import",
          "partner": "France",
          "product": "Other threads and fabrics",
          "value": 543957
         },
         {
          "group": "import",
          "partner": "Monde",
          "product": "Other threads and fabrics",
          "value": 5767681
         },
         {
          "group": "export",
          "partner": "entrepôt",
          "product": "Crude materials, inedible, except combustibles",
          "value": 1857147.5924997497
         },
         {
          "group": "export",
          "partner": "France",
          "product": "Crude materials, inedible, except combustibles",
          "value": 1340701.5201395
         },
         {
          "group": "export",
          "partner": "colonies ou re-exp",
          "product": "Crude materials, inedible, except combustibles",
          "value": 725681
         },
         {
          "group": "import",
          "partner": "France",
          "product": "Crude materials, inedible, except combustibles",
          "value": 331649.11263924994
         },
         {
          "group": "import",
          "partner": "Monde",
          "product": "Crude materials, inedible, except combustibles",
          "value": 2490363
         },
         {
          "group": "import",
          "partner": "colonies",
          "product": "Crude materials, inedible, except combustibles",
          "value": 1101518
         },
         {
          "group": "export",
          "partner": "entrepôt",
          "product": "Wool threads and fabrics",
          "value": 1772348
         },
         {
          "group": "export",
          "partner": "France",
          "product": "Wool threads and fabrics",
          "value": 1376
         },
         {
          "group": "export",
          "partner": "colonies ou re-exp",
          "product": "Wool threads and fabrics",
          "value": 71104
         },
         {
          "group": "import",
          "partner": "France",
          "product": "Wool threads and fabrics",
          "value": 123728
         },
         {
          "group": "import",
          "partner": "Monde",
          "product": "Wool threads and fabrics",
          "value": 1721100
         },
         {
          "group": "export",
          "partner": "entrepôt",
          "product": "Oils",
          "value": 566985.93054571
         },
         {
          "group": "export",
          "partner": "France",
          "product": "Oils",
          "value": 23526.56986543
         },
         {
          "group": "export",
          "partner": "colonies ou re-exp",
          "product": "Oils",
          "value": 14793
         },
         {
          "group": "import",
          "partner": "France",
          "product": "Oils",
          "value": 67874.50041114
         },
         {
          "group": "import",
          "partner": "Monde",
          "product": "Oils",
          "value": 537431
         },
         {
          "group": "export",
          "partner": "entrepôt",
          "product": "Other",
          "value": 951679.67992
         },
         {
          "group": "export",
          "partner": "France",
          "product": "Other",
          "value": 14282.320080000001
         },
         {
          "group": "export",
          "partner": "colonies ou re-exp",
          "product": "Other",
          "value": 8932
         },
         {
          "group": "import",
          "partner": "France",
          "product": "Other",
          "value": 212659
         },
         {
          "group": "import",
          "partner": "Monde",
          "product": "Other",
          "value": 760882
         },
         {
          "group": "import",
          "partner": "colonies",
          "product": "Other",
          "value": 1353
         },
         {
          "group": "export",
          "partner": "entrepôt",
          "product": "Other industrial products",
          "value": 2858453.96087815
         },
         {
          "group": "export",
          "partner": "France",
          "product": "Other industrial products",
          "value": 141543.23926685
         },
         {
          "group": "export",
          "partner": "colonies ou re-exp",
          "product": "Other industrial products",
          "value": 313967
         },
         {
          "group": "import",
          "partner": "France",
          "product": "Other industrial products",
          "value": 314846.200145
         },
         {
          "group": "import",
          "partner": "Monde",
          "product": "Other industrial products",
          "value": 2999118
         },
         {
          "group": "export",
          "partner": "entrepôt",
          "product": "Coton threads and fabrics",
          "value": 4334738
         },
         {
          "group": "export",
          "partner": "France",
          "product": "Coton threads and fabrics",
          "value": 547605
         },
         {
          "group": "export",
          "partner": "colonies ou re-exp",
          "product": "Coton threads and fabrics",
          "value": 49084
         },
         {
          "group": "import",
          "partner": "France",
          "product": "Coton threads and fabrics",
          "value": 99571
         },
         {
          "group": "import",
          "partner": "Monde",
          "product": "Coton threads and fabrics",
          "value": 4831856
         },
         {
          "group": "export",
          "partner": "entrepôt",
          "product": "Leather, wood and paper products",
          "value": 641940.09532503
         },
         {
          "group": "export",
          "partner": "France",
          "product": "Leather, wood and paper products",
          "value": 155250.65
         },
         {
          "group": "export",
          "partner": "colonies ou re-exp",
          "product": "Leather, wood and paper products",
          "value": 32319
         },
         {
          "group": "import",
          "partner": "France",
          "product": "Leather, wood and paper products",
          "value": 103605.74532503
         },
         {
          "group": "import",
          "partner": "Monde",
          "product": "Leather, wood and paper products",
          "value": 664528
         },
         {
          "group": "import",
          "partner": "colonies",
          "product": "Leather, wood and paper products",
          "value": 61376
         },
         {
          "group": "export",
          "partner": "entrepôt",
          "product": "Drinks and tobacco",
          "value": 5325566.504946929
         },
         {
          "group": "export",
          "partner": "France",
          "product": "Drinks and tobacco",
          "value": 130892.10000436002
         },
         {
          "group": "export",
          "partner": "colonies ou re-exp",
          "product": "Drinks and tobacco",
          "value": 439317
         },
         {
          "group": "import",
          "partner": "France",
          "product": "Drinks and tobacco",
          "value": 1386671.6049512897
         },
         {
          "group": "import",
          "partner": "Monde",
          "product": "Drinks and tobacco",
          "value": 4440210
         },
         {
          "group": "import",
          "partner": "colonies",
          "product": "Drinks and tobacco",
          "value": 68894
         },
         {
          "group": "export",
          "partner": "entrepôt",
          "product": "Chemical products",
          "value": 651098.72973628
         },
         {
          "group": "export",
          "partner": "France",
          "product": "Chemical products",
          "value": 110962.29001099999
         },
         {
          "group": "export",
          "partner": "colonies ou re-exp",
          "product": "Chemical products",
          "value": 117279
         },
         {
          "group": "import",
          "partner": "France",
          "product": "Chemical products",
          "value": 280877.01974728
         },
         {
          "group": "import",
          "partner": "Monde",
          "product": "Chemical products",
          "value": 508907
         },
         {
          "group": "import",
          "partner": "colonies",
          "product": "Chemical products",
          "value": 89556
         },
         {
          "group": "export",
          "partner": "entrepôt",
          "product": "Other foodstuffs and live animals",
          "value": 5725523.324487425
         },
         {
          "group": "export",
          "partner": "France",
          "product": "Other foodstuffs and live animals",
          "value": 1184400.059786
         },
         {
          "group": "export",
          "partner": "colonies ou re-exp",
          "product": "Other foodstuffs and live animals",
          "value": 390372
         },
         {
          "group": "import",
          "partner": "France",
          "product": "Other foodstuffs and live animals",
          "value": 369295.38427342597
         },
         {
          "group": "import",
          "partner": "Monde",
          "product": "Other foodstuffs and live animals",
          "value": 6929264
         },
         {
          "group": "import",
          "partner": "colonies",
          "product": "Other foodstuffs and live animals",
          "value": 1736
         },
         {
          "group": "export",
          "partner": "entrepôt",
          "product": "Silk threads and fabrics",
          "value": 1176850
         },
         {
          "group": "export",
          "partner": "France",
          "product": "Silk threads and fabrics",
          "value": 0
         },
         {
          "group": "export",
          "partner": "colonies ou re-exp",
          "product": "Silk threads and fabrics",
          "value": 2100
         },
         {
          "group": "import",
          "partner": "France",
          "product": "Silk threads and fabrics",
          "value": 218180
         },
         {
          "group": "import",
          "partner": "Monde",
          "product": "Silk threads and fabrics",
          "value": 960770
         },
         {
          "group": "export",
          "partner": "entrepôt",
          "product": "Plantation foodstuffs",
          "value": 5585525
         },
         {
          "group": "export",
          "partner": "France",
          "product": "Plantation foodstuffs",
          "value": 57275
         },
         {
          "group": "export",
          "partner": "colonies ou re-exp",
          "product": "Plantation foodstuffs",
          "value": 3395147
         },
         {
          "group": "import",
          "partner": "France",
          "product": "Plantation foodstuffs",
          "value": 42550
         },
         {
          "group": "import",
          "partner": "colonies",
          "product": "Plantation foodstuffs",
          "value": 7345722
         },
         {
          "group": "import",
          "partner": "Monde",
          "product": "Plantation foodstuffs",
          "value": 1649675
         }
        ]
       },
       "hconcat": [
        {
         "encoding": {
          "color": {
           "field": "partner"
          },
          "x": {
           "field": "value",
           "sort": "descending",
           "title": "Valeur (Lt)",
           "type": "quantitative"
          },
          "y": {
           "field": "product",
           "sort": "-x",
           "title": null
          }
         },
         "mark": "bar",
         "title": "import",
         "transform": [
          {
           "filter": {
            "equal": "import",
            "field": "group"
           }
          }
         ]
        },
        {
         "encoding": {
          "color": {
           "field": "partner"
          },
          "x": {
           "field": "value",
           "sort": "ascending",
           "title": "Valeur (Lt)",
           "type": "quantitative"
          },
          "y": {
           "axis": null,
           "field": "product",
           "sort": "-x",
           "title": null
          }
         },
         "mark": "bar",
         "title": "export",
         "transform": [
          {
           "filter": {
            "equal": "export",
            "field": "group"
           }
          }
         ]
        }
       ],
       "spacing": 0,
       "title": "Répartition des exports depuis Dunkerque par destination"
      },
      "image/png": "[encoded data removed]"
     },
     "metadata": {},
     "output_type": "display_data"
    }
   ],
   "source": [
    "VegaLite({\n",
    "  \"title\": \"Répartition des exports depuis Dunkerque par destination\",\n",
    "  \"data\": {\"values\": report_dk},\n",
    "  \"spacing\": 0,\n",
    "  \"hconcat\": [{\n",
    "    \"transform\": [{\n",
    "      \"filter\": {\"field\": \"group\", \"equal\": \"import\"}\n",
    "    }],\n",
    "    \"title\": \"import\",\n",
    "    \"mark\": \"bar\",\n",
    "    \"encoding\": {\n",
    "      \"y\": {\n",
    "        \"field\": \"product\", \"title\": None, \"sort\": \"-x\"\n",
    "      },\n",
    "      \"x\": {\n",
    "        \"field\": \"value\",\n",
    "        \"type\": \"quantitative\",\n",
    "        \"title\": \"Valeur (Lt)\",\n",
    "          \"sort\": \"descending\"\n",
    "      },\n",
    "      \"color\": {\n",
    "        \"field\": \"partner\",\n",
    "      }\n",
    "    }\n",
    "  },\n",
    "  {\n",
    "    \"transform\": [{\n",
    "      \"filter\": {\"field\": \"group\", \"equal\": \"export\"}\n",
    "    }],\n",
    "    \"title\": \"export\",\n",
    "    \"mark\": \"bar\",\n",
    "    \"encoding\": {\n",
    "      \"y\": {\n",
    "        \"field\": \"product\", \"sort\": \"-x\", \"title\": None, \"axis\": None\n",
    "\n",
    "      },\n",
    "      \"x\": {\n",
    "        \"field\": \"value\",\n",
    "        \"type\": \"quantitative\",\n",
    "        \"title\": \"Valeur (Lt)\",\n",
    "        \"sort\": \"ascending\"\n",
    "      },\n",
    "      \"color\": {\n",
    "        \"field\": \"partner\",\n",
    "      }\n",
    "    }\n",
    "  }\n",
    "  ]\n",
    "}\n",
    ")"
   ]
  },
  {
   "cell_type": "code",
   "execution_count": null,
   "id": "6169eee7-7b08-4d7f-b6c1-0d6853797296",
   "metadata": {},
   "outputs": [],
   "source": [
    "\"Javascript Error: Invalid specification {\"view\":{\"stroke\":null},\"width\":20}. Make sure the specification includes at least one of the following properties: \"mark\", \"layer\", \"facet\", \"hconcat\", \"vconcat\", \"concat\", or \"repeat\"."
   ]
  }
 ],
 "metadata": {
  "kernelspec": {
   "display_name": "Python 3 (ipykernel)",
   "language": "python",
   "name": "python3"
  },
  "language_info": {
   "codemirror_mode": {
    "name": "ipython",
    "version": 3
   },
   "file_extension": ".py",
   "mimetype": "text/x-python",
   "name": "python",
   "nbconvert_exporter": "python",
   "pygments_lexer": "ipython3",
   "version": "3.8.0"
  }
 },
 "nbformat": 4,
 "nbformat_minor": 5
}
