{
 "cells": [
  {
   "cell_type": "code",
   "execution_count": null,
   "id": "fe681792-4aee-4cd1-91a0-dfbdbd45b4fc",
   "metadata": {},
   "outputs": [],
   "source": [
    "import csv\n",
    "import json\n",
    "from collections import defaultdict\n",
    "import sys\n",
    "\n",
    "if sys.version_info >= (3, 8):\n",
    "    from typing import TypedDict  # pylint: disable=no-name-in-module\n",
    "else:\n",
    "    from typing_extensions import TypedDict"
   ]
  },
  {
   "cell_type": "code",
   "execution_count": null,
   "id": "25c8eb84-5d62-45f4-b53b-1fc39c2a0449",
   "metadata": {},
   "outputs": [],
   "source": [
    "file = \"../../data/navigo_all_flows_1789.csv\"\n",
    "cargo_fields = [\"commodity_purpose\", \"commodity_purpose2\", \"commodity_purpose3\", \"commodity_purpose4\"]"
   ]
  },
  {
   "cell_type": "code",
   "execution_count": null,
   "id": "e1554996-aee6-4509-b0f3-71cf44851626",
   "metadata": {},
   "outputs": [],
   "source": [
    "travels_from_dunkerque = []\n",
    "destinations_states = set()\n",
    "products = set()\n",
    "\n",
    "with open(file, \"r\") as f:\n",
    "    reader = csv.DictReader(f)\n",
    "    for flow in reader:\n",
    "        if flow[\"departure\"] == \"Dunkerque\" and flow['departure_function'] == 'O':\n",
    "            destinations_states.add(flow[\"destination_state_1789_fr\"])\n",
    "            for field in [\"commodity_standardized_fr\", \"commodity_standardized2_fr\", \"commodity_standardized3_fr\", \"commodity_standardized4_fr\"]:\n",
    "                products.add(flow[field])\n",
    "            travels_from_dunkerque.append(flow)\n",
    "print(str(len(travels_from_dunkerque)) + \" travels from dunkerque\")\n",
    "print('\\n')\n",
    "print(\"destination states :\")\n",
    "print('\\n'.join(list(destinations_states)))\n",
    "print('\\n')\n",
    "print('products :')\n",
    "print('\\n'.join(sorted(list(products))))"
   ]
  },
  {
   "cell_type": "code",
   "execution_count": null,
   "id": "92a992c3-cddc-4d51-9acb-0b2150aecf74",
   "metadata": {},
   "outputs": [],
   "source": [
    "import pandas as pd\n",
    "# overview of cargos\n",
    "number_of_commodity_purposes = {}\n",
    "for flow in travels_from_dunkerque: \n",
    "    number_of_cargos = 0\n",
    "    tonnage = float(flow[\"tonnage\"]) if flow[\"tonnage\"] != \"\" else 0.0\n",
    "    for field in cargo_fields:\n",
    "        if flow[field] != \"\":\n",
    "            number_of_cargos = number_of_cargos + 1\n",
    "    if number_of_cargos in number_of_commodity_purposes:\n",
    "        number_of_commodity_purposes[number_of_cargos][\"number of flows\"] += 1        \n",
    "        number_of_commodity_purposes[number_of_cargos][\"tonnage\"] += tonnage\n",
    "    else:\n",
    "        number_of_commodity_purposes[number_of_cargos] = {\n",
    "            \"number of flows\": 1,\n",
    "            \"tonnage\": tonnage\n",
    "        }\n",
    "\n",
    "print('Verification of the number of distinct cargos by trip:')\n",
    "pd.DataFrame([{\"number of cargos\": nb, **detail} for (nb, detail) in number_of_commodity_purposes.items()])"
   ]
  },
  {
   "cell_type": "code",
   "execution_count": null,
   "id": "3f7a0910-78c5-4642-9bb9-4474c62b5ee1",
   "metadata": {},
   "outputs": [],
   "source": [
    "by_product_and_country = {}\n",
    "for flow in travels_from_dunkerque:\n",
    "    for field in cargo_fields:\n",
    "        if flow[field] != '':\n",
    "            product = flow[field]\n",
    "            tonnage = float(flow['tonnage']) if flow['tonnage'] != '' else 0.0\n",
    "            state = flow['destination_state_1789_fr']\n",
    "            if product not in by_product_and_country:\n",
    "                by_product_and_country[product] = {}\n",
    "            if state not in by_product_and_country[product]:\n",
    "                by_product_and_country[product][state] = {\n",
    "                    \"nb_flows\": 0,\n",
    "                    \"tonnage\": 0\n",
    "                }\n",
    "            by_product_and_country[product][state]['nb_flows'] += 1            \n",
    "            by_product_and_country[product][state]['tonnage'] += tonnage\n",
    "\n",
    "by_product_and_country_flat = []\n",
    "for (product, rest) in by_product_and_country.items():\n",
    "    for (state, metrics) in rest.items():\n",
    "        by_product_and_country_flat.append({\n",
    "            \"product\": product,\n",
    "            \"state\": state,\n",
    "            **metrics\n",
    "        })"
   ]
  },
  {
   "cell_type": "code",
   "execution_count": null,
   "id": "c4cda98a-3d22-4341-b80f-27560fed0809",
   "metadata": {},
   "outputs": [],
   "source": [
    "from IPython.display import display\n",
    "import pandas as pd\n",
    "\n",
    "def VegaLite(spec):\n",
    "    bundle = {}\n",
    "    bundle['application/vnd.vegalite.v4+json'] = spec\n",
    "    display(bundle, raw=True)"
   ]
  },
  {
   "cell_type": "code",
   "execution_count": null,
   "id": "3ab22200-abe7-4c7c-b4b7-480ef2326f1a",
   "metadata": {},
   "outputs": [],
   "source": [
    "STOP_STATES = ['', 'Grande-Bretagne']\n",
    "STOP_PRODUCTS = ['Lège', 'Etc.']\n",
    "\n",
    "VegaLite({\n",
    "  \"title\": \"Valeurs par produit et partenaire pour les trajets au départ de Dunkerque\",\n",
    "  \"data\": {\n",
    "      \"values\": [f for f in by_product_and_country_flat if f['state'] not in STOP_STATES and f['product'] not in STOP_PRODUCTS and 'pêche' not in f['product'].lower()]\n",
    "         },\n",
    "  \"mark\": {\"type\":\"bar\", \"tooltip\": {\"content\": \"data\"}},\n",
    "  \"encoding\": {\n",
    "    \"x\": {\"field\": \"tonnage\", \"type\": \"quantitative\", \"title\": \"tonnage cumulé\"},\n",
    "    \"y\": {\"field\": \"product\", \"sort\": \"-x\", \"title\": \"Produits\"},\n",
    "    \"color\": {\n",
    "        \"field\": \"state\",\n",
    "        \"type\": \"nominal\"\n",
    "    }\n",
    "  }\n",
    "})"
   ]
  },
  {
   "cell_type": "code",
   "execution_count": null,
   "id": "5408f53d-b7ee-4439-a3ba-1ee0d421fd89",
   "metadata": {},
   "outputs": [],
   "source": [
    "# convert commodity purposes in toflit18\n",
    "from dunkerquesprint import get_pointcalls_commodity_purposes_as_toflit_product\n",
    "\n",
    "with_toflit18_products = get_pointcalls_commodity_purposes_as_toflit_product(from_dunkerque)"
   ]
  }
 ],
 "metadata": {
  "kernelspec": {
   "display_name": "Python 3 (ipykernel)",
   "language": "python",
   "name": "python3"
  },
  "language_info": {
   "codemirror_mode": {
    "name": "ipython",
    "version": 3
   },
   "file_extension": ".py",
   "mimetype": "text/x-python",
   "name": "python",
   "nbconvert_exporter": "python",
   "pygments_lexer": "ipython3",
   "version": "3.7.7"
  }
 },
 "nbformat": 4,
 "nbformat_minor": 5
}
