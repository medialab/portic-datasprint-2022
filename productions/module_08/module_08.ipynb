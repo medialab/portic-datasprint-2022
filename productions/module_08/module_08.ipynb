{
 "cells": [
  {
   "cell_type": "code",
   "execution_count": 4,
   "id": "f04bc4c6-5afd-4a41-a795-09e0097c766c",
   "metadata": {},
   "outputs": [],
   "source": [
    "import csv\n",
    "import json\n",
    "from typing import TypedDict\n",
    "from collections import defaultdict"
   ]
  },
  {
   "cell_type": "code",
   "execution_count": 2,
   "id": "7eabbc9f-1b59-467c-ad9b-1dfc9ae54bb2",
   "metadata": {},
   "outputs": [],
   "source": [
    "file = \"../../data/toflit18_all_flows.csv\"\n",
    "product_classification = \"product_sitc_simplEN\"\n",
    "\n",
    "port_francs = [\"Lorient\", \"Bayonne\", \"Marseille\", \"Dunkerque\"]\n",
    "\n",
    "data_by_port_francs = {p:{} for p in port_francs}"
   ]
  },
  {
   "cell_type": "code",
   "execution_count": 5,
   "id": "71011f00-d0dc-459b-b69c-949a61e066d1",
   "metadata": {},
   "outputs": [],
   "source": [
    "class DataPoint(TypedDict):\n",
    "    product: str \n",
    "    import_dk: int\n",
    "    import_dkb: int\n",
    "    export_dk: int\n",
    "    export_dkb: int"
   ]
  },
  {
   "cell_type": "code",
   "execution_count": 36,
   "id": "6d3b6640-df06-4c1c-8888-c6a81a2e4cda",
   "metadata": {},
   "outputs": [],
   "source": [
    "report_port_francs = {p:defaultdict(dict) for p in port_francs}\n",
    "report_others = {p:defaultdict(dict) for p in port_francs}\n",
    "import_by_product_by_partner = {p:defaultdict(dict) for p in port_francs}\n",
    "export_by_product_by_partner  = {p:defaultdict(dict) for p in port_francs}\n",
    "def import_partner_class(partner):\n",
    "    if partner in [\"Asie\", \"Afrique\", \"Amériques\"]:\n",
    "        return \"colonies\"\n",
    "    if partner == \"France\":\n",
    "        return \"France\"\n",
    "    return 'Monde'\n",
    "\n",
    "regions = set()\n",
    "partners = set()\n",
    "with open(file, \"r\") as muerte:\n",
    "    reader = csv.DictReader(muerte)\n",
    "    for i, row in enumerate(reader):\n",
    "        if row[\"year\"] == \"1789\":\n",
    "            product = row[product_classification]\n",
    "            region = row[\"customs_region_grouping\"]\n",
    "            partner = row[\"partner_simplification\"]\n",
    "\n",
    "            value = float(row[\"value\"]) if row[\"value\"] else 0.0\n",
    "            # process mirrors flows : France imports from Dunkerque \n",
    "            if row[\"export_import\"] == \"Imports\" and partner in port_francs:\n",
    "                regions.add(region)\n",
    "\n",
    "                if product:\n",
    "                    if region not in report_others[partner][product]:\n",
    "                        report_others[partner][product][region] = {}\n",
    "                    report_others[partner][product][region][\"product\"] = product\n",
    "                    report_others[partner][product][region][\"region\"] = region\n",
    "                    report_others[partner][product][region][\"import\"] = report_others[partner][product][region].get(\"import\", 0) + value\n",
    "            # process mirrors flows : France exports to Dunkerque\n",
    "            if row[\"export_import\"] == \"Exports\" and partner in port_francs:\n",
    "                if product:\n",
    "                    import_by_product_by_partner[partner][product][\"France\"] = import_by_product_by_partner[partner][product].get(\"France\", 0 ) + value\n",
    "\n",
    "            office = row[\"customs_office\"] if row[\"customs_office\"] != \"Port franc De Bayonne\" else \"Bayonne\"\n",
    "            if row[\"customs_office\"] in port_francs:\n",
    "                if product:\n",
    "                    report_port_francs[office][product][\"product\"] = product\n",
    "                    partner = import_partner_class(row[\"partner_grouping\"])\n",
    "                    if row[\"export_import\"] == \"Exports\":\n",
    "                        report_port_francs[office][product][\"export_dk\"] = report_port_francs[office][product].get(\"export_dk\", 0) + value\n",
    "                        export_by_product_by_partner[office][product][partner] = export_by_product_by_partner[office][product].get(partner,0) + value\n",
    "                    elif row[\"export_import\"] == \"Imports\":\n",
    "                        report_port_francs[office][product][\"import_dk\"] = report_port_francs[office][product].get(\"import_dk\", 0) + value       \n",
    "                        import_by_product_by_partner[office][product][partner] = import_by_product_by_partner[office][product].get(partner,0) + value\n",
    "                   "
   ]
  },
  {
   "cell_type": "code",
   "execution_count": null,
   "id": "74b0a468",
   "metadata": {},
   "outputs": [],
   "source": [
    "import_by_product_by_partner\n",
    "# partners"
   ]
  },
  {
   "cell_type": "code",
   "execution_count": 48,
   "id": "0f8d5e7c-076c-4694-9ff5-5da4285113a0",
   "metadata": {},
   "outputs": [],
   "source": [
    "all_data = {p:[] for p in port_francs}\n",
    "all_exp_to_fr = 0\n",
    "get_products = lambda d: set([p for (port,product_dict) in d.items() for p in product_dict.keys()])\n",
    "products = get_products(report_port_francs) | get_products(report_others)\n",
    "\n",
    "for product in products:\n",
    "    for port in port_francs:\n",
    "        flows = report_port_francs[port][product] if product in report_port_francs[port] else {}\n",
    "        is_colonial = False\n",
    "        # IMPORTS\n",
    "        total_declared_import = flows.get(\"import_dk\",0) + import_by_product_by_partner[port][product].get(\"France\",0)\n",
    "        if product in import_by_product_by_partner:\n",
    "            for (partner, value) in import_by_product_by_partner[product].items():\n",
    "                if partner == \"colonies\":\n",
    "                    is_colonial = value/total_declared_import >= 0.5\n",
    "                all_data[port].append({\"value\":value, \"product\": product, \"partner\" : partner, \"group\": \"import\"})\n",
    "\n",
    "        if product in export_by_product_by_partner[port]:\n",
    "            for (partner, value) in export_by_product_by_partner[port][product].items():\n",
    "                all_data[port].append({\"value\":value, \"product\": product, \"partner\" : partner, \"group\": \"import\"})\n",
    "        \n",
    "        export_to_fr = sum([dp['import'] for (region,dp) in report_others[port].get(product,{}).items()])\n",
    "        all_data[port].append({\"value\":export_to_fr, \"product\": product, \"partner\" : \"France\", \"group\": \"export\"})\n",
    "        \n",
    "        total_declared_export = flows.get(\"export_dk\", 0)\n",
    "        total_declared_import = flows.get(\"import_dk\",0) + import_by_product_by_partner[port][product].get(\"France\",0)\n",
    "        unknown_export = total_declared_import - total_declared_export\n",
    "\n",
    "        if port != \"Dunkerque\":\n",
    "            all_data[port].append({\"value\":unknown_export , \"product\": product, \"partner\" : \"Fraude ?\", \"group\": \"export\"})\n",
    "        else:\n",
    "            if is_colonial:\n",
    "                all_data[port].append({\"value\":unknown_export , \"product\": product, \"partner\" : \"Fraude ?\", \"group\": \"export\"})\n",
    "            else:\n",
    "                all_data[port].append({\"value\":unknown_export , \"product\": product, \"partner\" : \"Re-exp ou fraude ?\", \"group\": \"export\"})\n"
   ]
  },
  {
   "cell_type": "code",
   "execution_count": null,
   "id": "887734bf",
   "metadata": {},
   "outputs": [],
   "source": [
    "all_data"
   ]
  },
  {
   "cell_type": "code",
   "execution_count": null,
   "id": "d9bec00f-7108-42f7-8567-460f75fcc0a3",
   "metadata": {},
   "outputs": [],
   "source": [
    "with open(\"data/report_dunkerque.json\", \"w\") as f:\n",
    "    json.dump(report_dk, f)"
   ]
  },
  {
   "cell_type": "code",
   "execution_count": null,
   "id": "9153fa26-2a15-4800-a2d1-5f679a6c5be2",
   "metadata": {},
   "outputs": [],
   "source": [
    "with open(\"data/report_other_regions.json\", \"w\") as f:\n",
    "    json.dump(report_others, f)"
   ]
  },
  {
   "cell_type": "code",
   "execution_count": 47,
   "id": "bada79ad",
   "metadata": {},
   "outputs": [],
   "source": []
  }
 ],
 "metadata": {
  "kernelspec": {
   "display_name": "Python 3 (ipykernel)",
   "language": "python",
   "name": "python3"
  },
  "language_info": {
   "codemirror_mode": {
    "name": "ipython",
    "version": 3
   },
   "file_extension": ".py",
   "mimetype": "text/x-python",
   "name": "python",
   "nbconvert_exporter": "python",
   "pygments_lexer": "ipython3",
   "version": "3.8.3"
  }
 },
 "nbformat": 4,
 "nbformat_minor": 5
}
