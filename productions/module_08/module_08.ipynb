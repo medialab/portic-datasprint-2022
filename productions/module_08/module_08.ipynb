{
 "cells": [
  {
   "cell_type": "code",
   "execution_count": 1,
   "id": "f04bc4c6-5afd-4a41-a795-09e0097c766c",
   "metadata": {},
   "outputs": [],
   "source": [
    "import csv\n",
    "import json\n",
    "from typing import TypedDict\n",
    "from collections import defaultdict"
   ]
  },
  {
   "cell_type": "code",
   "execution_count": 18,
   "id": "7eabbc9f-1b59-467c-ad9b-1dfc9ae54bb2",
   "metadata": {},
   "outputs": [],
   "source": [
    "file = \"../../data/toflit18_all_flows.csv\"\n",
    "product_classification = \"product_sitc_simplEN\""
   ]
  },
  {
   "cell_type": "code",
   "execution_count": 3,
   "id": "71011f00-d0dc-459b-b69c-949a61e066d1",
   "metadata": {},
   "outputs": [],
   "source": [
    "class DataPoint(TypedDict):\n",
    "    product: str \n",
    "    import_dk: int\n",
    "    import_dkb: int\n",
    "    export_dk: int\n",
    "    export_dkb: int"
   ]
  },
  {
   "cell_type": "code",
   "execution_count": 46,
   "id": "6d3b6640-df06-4c1c-8888-c6a81a2e4cda",
   "metadata": {},
   "outputs": [],
   "source": [
    "report_dk = defaultdict(dict)\n",
    "report_others = defaultdict(dict)\n",
    "regions = set()\n",
    "partners = set()\n",
    "with open(file, \"r\") as muerte:\n",
    "    reader = csv.DictReader(muerte)\n",
    "    for i, row in enumerate(reader):\n",
    "        if row[\"year\"] == \"1789\":\n",
    "            # process mirrors flows : France imports from Dunkerque \n",
    "            if row[\"export_import\"] == \"Imports\":\n",
    "                partners.add(row['partner'])\n",
    "            if row[\"export_import\"] == \"Imports\" and row[\"partner_simplification\"] == \"Dunkerque\":\n",
    "                regions.add(row[\"customs_region_grouping\"])\n",
    "                if row[product_classification]:\n",
    "                    value = float(row[\"value\"]) if row[\"value\"] else 0.0\n",
    "                    if row[\"customs_region_grouping\"] not in report_others[row[product_classification]]:\n",
    "                        report_others[row[product_classification]][row[\"customs_region_grouping\"]] = {}\n",
    "                    report_others[row[product_classification]][row[\"customs_region_grouping\"]][\"product\"] = row[product_classification]\n",
    "                    report_others[row[product_classification]][row[\"customs_region_grouping\"]][\"region\"] = row[\"customs_region_grouping\"]\n",
    "                    report_others[row[product_classification]][row[\"customs_region_grouping\"]][\"import\"] = report_others[row[product_classification]][row[\"customs_region_grouping\"]].get(\"import\", 0) + value\n",
    "                else:\n",
    "                    print((\"unknown product\", row['value'], row[\"customs_region_grouping\"]))\n",
    "            if row[\"customs_region_grouping\"] == \"Flandre\" and row[\"customs_office\"] in ['Dunkerque', 'Dunkerque-Basseville']:\n",
    "                if row[product_classification]:\n",
    "                    value = float(row[\"value\"]) if row[\"value\"] else 0.0\n",
    "                    report_dk[row[product_classification]][\"product\"] = row[product_classification]\n",
    "                    if row[\"customs_office\"] == 'Dunkerque':\n",
    "                        if row[\"export_import\"] == \"Exports\":\n",
    "                            report_dk[row[product_classification]][\"export_dk\"] = report_dk[row[product_classification]].get(\"export_dk\", 0) + value\n",
    "                        elif row[\"export_import\"] == \"Imports\":\n",
    "                            report_dk[row[product_classification]][\"import_dk\"] = report_dk[row[product_classification]].get(\"import_dk\", 0) + value\n",
    "                    elif row[\"customs_office\"] == 'Dunkerque-Basseville':\n",
    "                        if row[\"export_import\"] == \"Exports\":\n",
    "                            report_dk[row[product_classification]][\"export_dkb\"] = report_dk[row[product_classification]].get(\"export_dkb\", 0) + value\n",
    "                        elif row[\"export_import\"] == \"Imports\":\n",
    "                            report_dk[row[product_classification]][\"import_dkb\"] = report_dk[row[product_classification]].get(\"import_dkb\", 0) + value"
   ]
  },
  {
   "cell_type": "code",
   "execution_count": 48,
   "id": "74b0a468",
   "metadata": {},
   "outputs": [
    {
     "data": {
      "text/plain": [
       "{'Amiens',\n",
       " 'Bordeaux',\n",
       " 'Caen',\n",
       " 'Flandre',\n",
       " 'La Rochelle',\n",
       " 'Marseille',\n",
       " 'Montpellier',\n",
       " 'Nantes',\n",
       " 'Rennes',\n",
       " 'Rouen'}"
      ]
     },
     "execution_count": 48,
     "metadata": {},
     "output_type": "execute_result"
    }
   ],
   "source": [
    "regions"
   ]
  },
  {
   "cell_type": "code",
   "execution_count": 50,
   "id": "0f8d5e7c-076c-4694-9ff5-5da4285113a0",
   "metadata": {},
   "outputs": [],
   "source": [
    "all_data = []\n",
    "all_exp_to_fr = 0\n",
    "products = report_dk.keys() | report_others.keys()\n",
    "\n",
    "for product in products:\n",
    "    flows = report_dk[product] if product in report_dk else {}\n",
    "    export_to_fr = sum([dp['import'] for (region,dp) in report_others.get(product,{}).items()])\n",
    "    all_exp_to_fr += export_to_fr\n",
    "    export_to_colonies = flows.get(\"export_dk\", 0)\n",
    "    total = flows.get(\"import_dk\",0)\n",
    "\n",
    "    all_data.append({\"value\":total - export_to_fr - export_to_colonies, \"product\": product, \"destination\" : \"entrepôt\"})\n",
    "    all_data.append({\"value\":export_to_fr, \"product\": product, \"destination\" : \"France\"})\n",
    "    all_data.append({\"value\":export_to_colonies, \"product\": product, \"destination\" : \"colonies ou re-exp\"})\n"
   ]
  },
  {
   "cell_type": "code",
   "execution_count": 51,
   "id": "887734bf",
   "metadata": {},
   "outputs": [
    {
     "data": {
      "text/plain": [
       "3734878.34893314"
      ]
     },
     "execution_count": 51,
     "metadata": {},
     "output_type": "execute_result"
    }
   ],
   "source": [
    "# print(json.dumps(report_others, indent=2))\n",
    "all_exp_to_fr"
   ]
  },
  {
   "cell_type": "code",
   "execution_count": null,
   "id": "d9bec00f-7108-42f7-8567-460f75fcc0a3",
   "metadata": {},
   "outputs": [],
   "source": [
    "with open(\"data/report_dunkerque.json\", \"w\") as f:\n",
    "    json.dump(report_dk, f)"
   ]
  },
  {
   "cell_type": "code",
   "execution_count": null,
   "id": "9153fa26-2a15-4800-a2d1-5f679a6c5be2",
   "metadata": {},
   "outputs": [],
   "source": [
    "with open(\"data/report_other_regions.json\", \"w\") as f:\n",
    "    json.dump(report_others, f)"
   ]
  },
  {
   "cell_type": "code",
   "execution_count": 52,
   "id": "bada79ad",
   "metadata": {},
   "outputs": [],
   "source": [
    "with open(\"data/export_dunkerque_entreprôt.json\", \"w\") as f:\n",
    "    json.dump(all_data, f)"
   ]
  }
 ],
 "metadata": {
  "kernelspec": {
   "display_name": "Python 3 (ipykernel)",
   "language": "python",
   "name": "python3"
  },
  "language_info": {
   "codemirror_mode": {
    "name": "ipython",
    "version": 3
   },
   "file_extension": ".py",
   "mimetype": "text/x-python",
   "name": "python",
   "nbconvert_exporter": "python",
   "pygments_lexer": "ipython3",
   "version": "3.8.3"
  }
 },
 "nbformat": 4,
 "nbformat_minor": 5
}
