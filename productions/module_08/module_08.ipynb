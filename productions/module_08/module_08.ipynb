{
 "cells": [
  {
   "cell_type": "code",
   "execution_count": null,
   "id": "f04bc4c6-5afd-4a41-a795-09e0097c766c",
   "metadata": {},
   "outputs": [],
   "source": [
    "import csv\n",
    "import json\n",
    "from typing import TypedDict\n",
    "from collections import defaultdict"
   ]
  },
  {
   "cell_type": "code",
   "execution_count": null,
   "id": "7eabbc9f-1b59-467c-ad9b-1dfc9ae54bb2",
   "metadata": {},
   "outputs": [],
   "source": [
    "file = \"../../data/toflit18_all_flows.csv\""
   ]
  },
  {
   "cell_type": "code",
   "execution_count": null,
   "id": "71011f00-d0dc-459b-b69c-949a61e066d1",
   "metadata": {},
   "outputs": [],
   "source": [
    "class DataPoint(TypedDict):\n",
    "    product: str \n",
    "    import_dk: int\n",
    "    import_dkb: int\n",
    "    export_dk: int\n",
    "    export_dkb: int"
   ]
  },
  {
   "cell_type": "code",
   "execution_count": null,
   "id": "6d3b6640-df06-4c1c-8888-c6a81a2e4cda",
   "metadata": {},
   "outputs": [],
   "source": [
    "report_dk = defaultdict(dict)\n",
    "report_others = defaultdict(dict)\n",
    "\n",
    "with open(file, \"r\") as muerte:\n",
    "    reader = csv.DictReader(muerte)\n",
    "    for i, row in enumerate(reader):\n",
    "        if row[\"year\"] == \"1789\":\n",
    "            if row[\"export_import\"] == \"Imports\" and row[\"partner\"] == \"Dunkerque\":\n",
    "                if row[\"product_RE_aggregate\"]:\n",
    "                    value = float(row[\"value\"]) if row[\"value\"] else 0.0\n",
    "                    if row[\"customs_region_grouping\"] not in report_others[row[\"product_RE_aggregate\"]]:\n",
    "                        report_others[row[\"product_RE_aggregate\"]][row[\"customs_region_grouping\"]] = {}\n",
    "                    report_others[row[\"product_RE_aggregate\"]][row[\"customs_region_grouping\"]][\"product\"] = row[\"product_RE_aggregate\"]\n",
    "                    report_others[row[\"product_RE_aggregate\"]][row[\"customs_region_grouping\"]][\"region\"] = row[\"customs_region_grouping\"]\n",
    "                    report_others[row[\"product_RE_aggregate\"]][row[\"customs_region_grouping\"]][\"import\"] = report_dk[row[\"product_RE_aggregate\"]].get(\"import\", 0) + value\n",
    "\n",
    "            if row[\"customs_region_grouping\"] == \"Flandre\" and row[\"customs_office\"] in ['Dunkerque', 'Dunkerque-Basseville']:\n",
    "                if row[\"product_RE_aggregate\"]:\n",
    "                    value = float(row[\"value\"]) if row[\"value\"] else 0.0\n",
    "                    report_dk[row[\"product_RE_aggregate\"]][\"product\"] = row[\"product_RE_aggregate\"]\n",
    "                    if row[\"customs_office\"] == 'Dunkerque':\n",
    "                        if row[\"export_import\"] == \"Exports\":\n",
    "                            report_dk[row[\"product_RE_aggregate\"]][\"export_dk\"] = report_dk[row[\"product_RE_aggregate\"]].get(\"export_dk\", 0) + value\n",
    "                        elif row[\"export_import\"] == \"Imports\":\n",
    "                            report_dk[row[\"product_RE_aggregate\"]][\"import_dk\"] = report_dk[row[\"product_RE_aggregate\"]].get(\"import_dk\", 0) + value\n",
    "                    elif row[\"customs_office\"] == 'Dunkerque-Basseville':\n",
    "                        if row[\"export_import\"] == \"Exports\":\n",
    "                            report_dk[row[\"product_RE_aggregate\"]][\"export_dkb\"] = report_dk[row[\"product_RE_aggregate\"]].get(\"export_dkb\", 0) + value\n",
    "                        elif row[\"export_import\"] == \"Imports\":\n",
    "                            report_dk[row[\"product_RE_aggregate\"]][\"import_dkb\"] = report_dk[row[\"product_RE_aggregate\"]].get(\"import_dkb\", 0) + value"
   ]
  },
  {
   "cell_type": "code",
   "execution_count": null,
   "id": "0f8d5e7c-076c-4694-9ff5-5da4285113a0",
   "metadata": {},
   "outputs": [],
   "source": [
    "report_others.keys()"
   ]
  },
  {
   "cell_type": "code",
   "execution_count": null,
   "id": "d9bec00f-7108-42f7-8567-460f75fcc0a3",
   "metadata": {},
   "outputs": [],
   "source": [
    "with open(\"data/report_dunkerque.json\", \"w\") as f:\n",
    "    json.dump(report_dk, f)"
   ]
  },
  {
   "cell_type": "code",
   "execution_count": null,
   "id": "9153fa26-2a15-4800-a2d1-5f679a6c5be2",
   "metadata": {},
   "outputs": [],
   "source": [
    "with open(\"data/report_other_regions.json\", \"w\") as f:\n",
    "    json.dump(report_others, f)"
   ]
  }
 ],
 "metadata": {
  "kernelspec": {
   "display_name": "Python 3 (ipykernel)",
   "language": "python",
   "name": "python3"
  },
  "language_info": {
   "codemirror_mode": {
    "name": "ipython",
    "version": 3
   },
   "file_extension": ".py",
   "mimetype": "text/x-python",
   "name": "python",
   "nbconvert_exporter": "python",
   "pygments_lexer": "ipython3",
   "version": "3.8.0"
  }
 },
 "nbformat": 4,
 "nbformat_minor": 5
}
