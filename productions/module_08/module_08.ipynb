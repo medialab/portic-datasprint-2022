{
 "cells": [
  {
   "cell_type": "code",
   "execution_count": 1,
   "id": "f04bc4c6-5afd-4a41-a795-09e0097c766c",
   "metadata": {},
   "outputs": [],
   "source": [
    "import csv\n",
    "import json\n",
    "from typing import TypedDict\n",
    "from collections import defaultdict"
   ]
  },
  {
   "cell_type": "code",
   "execution_count": 18,
   "id": "7eabbc9f-1b59-467c-ad9b-1dfc9ae54bb2",
   "metadata": {},
   "outputs": [],
   "source": [
    "file = \"../../data/toflit18_all_flows.csv\"\n",
    "product_classification = \"product_sitc_simplEN\""
   ]
  },
  {
   "cell_type": "code",
   "execution_count": 3,
   "id": "71011f00-d0dc-459b-b69c-949a61e066d1",
   "metadata": {},
   "outputs": [],
   "source": [
    "class DataPoint(TypedDict):\n",
    "    product: str \n",
    "    import_dk: int\n",
    "    import_dkb: int\n",
    "    export_dk: int\n",
    "    export_dkb: int"
   ]
  },
  {
   "cell_type": "code",
   "execution_count": 64,
   "id": "6d3b6640-df06-4c1c-8888-c6a81a2e4cda",
   "metadata": {},
   "outputs": [],
   "source": [
    "report_dk = defaultdict(dict)\n",
    "report_others = defaultdict(dict)\n",
    "import_dk_by_product_by_partner = defaultdict(dict)\n",
    "def import_partner_class(partner):\n",
    "    if partner in [\"Asie\", \"Afrique\", \"Amériques\"]:\n",
    "        return \"colonies\"\n",
    "    if partner == \"France\":\n",
    "        print(partner)\n",
    "        return \"France\"\n",
    "    return 'Monde'\n",
    "\n",
    "regions = set()\n",
    "partners = set()\n",
    "with open(file, \"r\") as muerte:\n",
    "    reader = csv.DictReader(muerte)\n",
    "    for i, row in enumerate(reader):\n",
    "        if row[\"year\"] == \"1789\":\n",
    "            product = row[product_classification]\n",
    "            region = row[\"customs_region_grouping\"]\n",
    "\n",
    "            value = float(row[\"value\"]) if row[\"value\"] else 0.0\n",
    "            # process mirrors flows : France imports from Dunkerque \n",
    "            if row[\"export_import\"] == \"Imports\" and row[\"partner_simplification\"] == \"Dunkerque\":\n",
    "                regions.add(region)\n",
    "                if product:\n",
    "                    if region not in report_others[product]:\n",
    "                        report_others[product][region] = {}\n",
    "                    report_others[product][region][\"product\"] = product\n",
    "                    report_others[product][region][\"region\"] = region\n",
    "                    report_others[product][region][\"import\"] = report_others[product][region].get(\"import\", 0) + value\n",
    "            # process mirrors flows : France exports to Dunkerque\n",
    "            if row[\"export_import\"] == \"Exports\" and row[\"partner_simplification\"] == \"Dunkerque\":\n",
    "                if product:\n",
    "                    import_dk_by_product_by_partner[product][\"France\"] = import_dk_by_product_by_partner[product].get(\"France\", 0 ) + value\n",
    "\n",
    "            if row[\"customs_office\"] in ['Dunkerque', 'Dunkerque-Basseville']:\n",
    "                if product:\n",
    "                    report_dk[product][\"product\"] = product\n",
    "                    if row[\"customs_office\"] == 'Dunkerque':\n",
    "                        if row[\"export_import\"] == \"Exports\":\n",
    "                            report_dk[product][\"export_dk\"] = report_dk[product].get(\"export_dk\", 0) + value\n",
    "                        elif row[\"export_import\"] == \"Imports\":\n",
    "                            report_dk[product][\"import_dk\"] = report_dk[product].get(\"import_dk\", 0) + value\n",
    "                            partners.add(row['partner_grouping'])\n",
    "                            partner = import_partner_class(row[\"partner_grouping\"])\n",
    "                            import_dk_by_product_by_partner[product][partner] = import_dk_by_product_by_partner[product].get(partner,0) + value\n",
    "                    elif row[\"customs_office\"] == 'Dunkerque-Basseville':\n",
    "                        if row[\"export_import\"] == \"Exports\":\n",
    "                            report_dk[product][\"export_dkb\"] = report_dk[product].get(\"export_dkb\", 0) + value\n",
    "                        elif row[\"export_import\"] == \"Imports\":\n",
    "                            report_dk[product][\"import_dkb\"] = report_dk[product].get(\"import_dkb\", 0) + value"
   ]
  },
  {
   "cell_type": "code",
   "execution_count": null,
   "id": "74b0a468",
   "metadata": {},
   "outputs": [],
   "source": [
    "import_dk_by_product_by_partner\n",
    "# partners"
   ]
  },
  {
   "cell_type": "code",
   "execution_count": 73,
   "id": "0f8d5e7c-076c-4694-9ff5-5da4285113a0",
   "metadata": {},
   "outputs": [],
   "source": [
    "all_data = []\n",
    "all_exp_to_fr = 0\n",
    "products = report_dk.keys() | report_others.keys()\n",
    "\n",
    "for product in products:\n",
    "    flows = report_dk[product] if product in report_dk else {}\n",
    "    export_to_fr = sum([dp['import'] for (region,dp) in report_others.get(product,{}).items()])\n",
    "    all_exp_to_fr += export_to_fr\n",
    "    export_to_colonies = flows.get(\"export_dk\", 0)\n",
    "    total = flows.get(\"import_dk\",0) + import_dk_by_product_by_partner[product].get(\"France\",0)\n",
    "\n",
    "    all_data.append({\"value\":total - export_to_fr - export_to_colonies, \"product\": product, \"partner\" : \"entrepôt (estimation)\", \"group\": \"export\"})\n",
    "    all_data.append({\"value\":export_to_fr, \"product\": product, \"partner\" : \"France\", \"group\": \"export\"})\n",
    "    all_data.append({\"value\":export_to_colonies, \"product\": product, \"partner\" : \"colonies ou re-exp\", \"group\": \"export\"})\n",
    "\n",
    "    if product in import_dk_by_product_by_partner:\n",
    "        for (partner, value) in import_dk_by_product_by_partner[product].items():\n",
    "            all_data.append({\"value\":value, \"product\": product, \"partner\" : partner, \"group\": \"import\"})\n"
   ]
  },
  {
   "cell_type": "code",
   "execution_count": null,
   "id": "887734bf",
   "metadata": {},
   "outputs": [],
   "source": [
    "all_data"
   ]
  },
  {
   "cell_type": "code",
   "execution_count": null,
   "id": "d9bec00f-7108-42f7-8567-460f75fcc0a3",
   "metadata": {},
   "outputs": [],
   "source": [
    "with open(\"data/report_dunkerque.json\", \"w\") as f:\n",
    "    json.dump(report_dk, f)"
   ]
  },
  {
   "cell_type": "code",
   "execution_count": null,
   "id": "9153fa26-2a15-4800-a2d1-5f679a6c5be2",
   "metadata": {},
   "outputs": [],
   "source": [
    "with open(\"data/report_other_regions.json\", \"w\") as f:\n",
    "    json.dump(report_others, f)"
   ]
  },
  {
   "cell_type": "code",
   "execution_count": 75,
   "id": "bada79ad",
   "metadata": {},
   "outputs": [],
   "source": [
    "with open(\"data/export_dunkerque_entreprôt.json\", \"w\") as f:\n",
    "    json.dump(all_data, f)"
   ]
  }
 ],
 "metadata": {
  "kernelspec": {
   "display_name": "Python 3 (ipykernel)",
   "language": "python",
   "name": "python3"
  },
  "language_info": {
   "codemirror_mode": {
    "name": "ipython",
    "version": 3
   },
   "file_extension": ".py",
   "mimetype": "text/x-python",
   "name": "python",
   "nbconvert_exporter": "python",
   "pygments_lexer": "ipython3",
   "version": "3.8.3"
  }
 },
 "nbformat": 4,
 "nbformat_minor": 5
}
