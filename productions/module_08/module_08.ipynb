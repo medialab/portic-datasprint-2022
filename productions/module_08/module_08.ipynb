{
 "cells": [
  {
   "cell_type": "code",
   "execution_count": 1,
   "id": "f04bc4c6-5afd-4a41-a795-09e0097c766c",
   "metadata": {},
   "outputs": [],
   "source": [
    "import csv\n",
    "import json\n",
    "from typing import TypedDict\n",
    "from collections import defaultdict"
   ]
  },
  {
   "cell_type": "code",
   "execution_count": 2,
   "id": "7eabbc9f-1b59-467c-ad9b-1dfc9ae54bb2",
   "metadata": {},
   "outputs": [],
   "source": [
    "file = \"../../data/toflit18_all_flows.csv\""
   ]
  },
  {
   "cell_type": "code",
   "execution_count": 3,
   "id": "71011f00-d0dc-459b-b69c-949a61e066d1",
   "metadata": {},
   "outputs": [],
   "source": [
    "class DataPoint(TypedDict):\n",
    "    product: str \n",
    "    import_dk: int\n",
    "    import_dkb: int\n",
    "    export_dk: int\n",
    "    export_dkb: int"
   ]
  },
  {
   "cell_type": "code",
   "execution_count": 4,
   "id": "6d3b6640-df06-4c1c-8888-c6a81a2e4cda",
   "metadata": {},
   "outputs": [],
   "source": [
    "report_dk = defaultdict(dict)\n",
    "report_others = defaultdict(dict)\n",
    "\n",
    "with open(file, \"r\") as muerte:\n",
    "    reader = csv.DictReader(muerte)\n",
    "    for i, row in enumerate(reader):\n",
    "        if row[\"year\"] == \"1789\":\n",
    "            if row[\"export_import\"] == \"Imports\" and row[\"partner\"] == \"Dunkerque\":\n",
    "                if row[\"product_RE_aggregate\"]:\n",
    "                    value = float(row[\"value\"]) if row[\"value\"] else 0.0\n",
    "                    if row[\"customs_region_grouping\"] not in report_others[row[\"product_RE_aggregate\"]]:\n",
    "                        report_others[row[\"product_RE_aggregate\"]][row[\"customs_region_grouping\"]] = {}\n",
    "                    report_others[row[\"product_RE_aggregate\"]][row[\"customs_region_grouping\"]][\"product\"] = row[\"product_RE_aggregate\"]\n",
    "                    report_others[row[\"product_RE_aggregate\"]][row[\"customs_region_grouping\"]][\"region\"] = row[\"customs_region_grouping\"]\n",
    "                    report_others[row[\"product_RE_aggregate\"]][row[\"customs_region_grouping\"]][\"import\"] = report_dk[row[\"product_RE_aggregate\"]].get(\"import\", 0) + value\n",
    "\n",
    "            if row[\"customs_region_grouping\"] == \"Flandre\" and row[\"customs_office\"] in ['Dunkerque', 'Dunkerque-Basseville']:\n",
    "                if row[\"product_RE_aggregate\"]:\n",
    "                    value = float(row[\"value\"]) if row[\"value\"] else 0.0\n",
    "                    report_dk[row[\"product_RE_aggregate\"]][\"product\"] = row[\"product_RE_aggregate\"]\n",
    "                    if row[\"customs_office\"] == 'Dunkerque':\n",
    "                        if row[\"export_import\"] == \"Exports\":\n",
    "                            report_dk[row[\"product_RE_aggregate\"]][\"export_dk\"] = report_dk[row[\"product_RE_aggregate\"]].get(\"export_dk\", 0) + value\n",
    "                        elif row[\"export_import\"] == \"Imports\":\n",
    "                            report_dk[row[\"product_RE_aggregate\"]][\"import_dk\"] = report_dk[row[\"product_RE_aggregate\"]].get(\"import_dk\", 0) + value\n",
    "                    elif row[\"customs_office\"] == 'Dunkerque-Basseville':\n",
    "                        if row[\"export_import\"] == \"Exports\":\n",
    "                            report_dk[row[\"product_RE_aggregate\"]][\"export_dkb\"] = report_dk[row[\"product_RE_aggregate\"]].get(\"export_dkb\", 0) + value\n",
    "                        elif row[\"export_import\"] == \"Imports\":\n",
    "                            report_dk[row[\"product_RE_aggregate\"]][\"import_dkb\"] = report_dk[row[\"product_RE_aggregate\"]].get(\"import_dkb\", 0) + value"
   ]
  },
  {
   "cell_type": "code",
   "execution_count": 9,
   "id": "0f8d5e7c-076c-4694-9ff5-5da4285113a0",
   "metadata": {},
   "outputs": [],
   "source": [
    "all_data = []\n",
    "for (product, flows) in report_dk.items():\n",
    "    export_to_fr = sum([dp['import'] for (region,dp) in report_others[product].items()])\n",
    "    export_to_colonies = flows.get(\"export_dk\", 0)\n",
    "    total = flows.get(\"import_dk\",0)\n",
    "\n",
    "    all_data.append({\"value\":total - export_to_fr - export_to_colonies, \"product\": product, \"destination\" : \"entrepôt\"})\n",
    "    all_data.append({\"value\":export_to_fr, \"product\": product, \"destination\" : \"France\"})\n",
    "    all_data.append({\"value\":export_to_colonies, \"product\": product, \"destination\" : \"colonies ou re-exp\"})"
   ]
  },
  {
   "cell_type": "code",
   "execution_count": 10,
   "id": "887734bf",
   "metadata": {},
   "outputs": [
    {
     "data": {
      "text/plain": [
       "[{'value': 14934610.600140002,\n",
       "  'product': 'Subsistances',\n",
       "  'destination': 'entrepôt'},\n",
       " {'value': 15432.399860000001,\n",
       "  'product': 'Subsistances',\n",
       "  'destination': 'France'},\n",
       " {'value': 4175686.0,\n",
       "  'product': 'Subsistances',\n",
       "  'destination': 'colonies ou re-exp'},\n",
       " {'value': 5275812.000006,\n",
       "  'product': 'Matières premières',\n",
       "  'destination': 'entrepôt'},\n",
       " {'value': 10319.999994,\n",
       "  'product': 'Matières premières',\n",
       "  'destination': 'France'},\n",
       " {'value': 904212.0,\n",
       "  'product': 'Matières premières',\n",
       "  'destination': 'colonies ou re-exp'},\n",
       " {'value': 80596.0, 'product': 'Drogues', 'destination': 'entrepôt'},\n",
       " {'value': 241.0, 'product': 'Drogues', 'destination': 'France'},\n",
       " {'value': 5542.0, 'product': 'Drogues', 'destination': 'colonies ou re-exp'},\n",
       " {'value': 590607.0, 'product': 'Divers', 'destination': 'entrepôt'},\n",
       " {'value': 937.0, 'product': 'Divers', 'destination': 'France'},\n",
       " {'value': 1108.0, 'product': 'Divers', 'destination': 'colonies ou re-exp'},\n",
       " {'value': 2865507.58014371,\n",
       "  'product': 'Industrie française et étrangère',\n",
       "  'destination': 'entrepôt'},\n",
       " {'value': 11241.419856289998,\n",
       "  'product': 'Industrie française et étrangère',\n",
       "  'destination': 'France'},\n",
       " {'value': 315963.0,\n",
       "  'product': 'Industrie française et étrangère',\n",
       "  'destination': 'colonies ou re-exp'},\n",
       " {'value': 144751.4998655, 'product': 'Métaux', 'destination': 'entrepôt'},\n",
       " {'value': 5984.500134499999, 'product': 'Métaux', 'destination': 'France'},\n",
       " {'value': 1150.0, 'product': 'Métaux', 'destination': 'colonies ou re-exp'},\n",
       " {'value': 71659.0,\n",
       "  'product': 'Drogues médicinales',\n",
       "  'destination': 'entrepôt'},\n",
       " {'value': 153.0, 'product': 'Drogues médicinales', 'destination': 'France'},\n",
       " {'value': 4660.0,\n",
       "  'product': 'Drogues médicinales',\n",
       "  'destination': 'colonies ou re-exp'},\n",
       " {'value': 12922601.40022,\n",
       "  'product': 'Objets manufacturés',\n",
       "  'destination': 'entrepôt'},\n",
       " {'value': 21101.59978,\n",
       "  'product': 'Objets manufacturés',\n",
       "  'destination': 'France'},\n",
       " {'value': 563257.0,\n",
       "  'product': 'Objets manufacturés',\n",
       "  'destination': 'colonies ou re-exp'},\n",
       " {'value': 456.0,\n",
       "  'product': \"Matières d'or et d'argent\",\n",
       "  'destination': 'entrepôt'},\n",
       " {'value': 0, 'product': \"Matières d'or et d'argent\", 'destination': 'France'},\n",
       " {'value': 450.0,\n",
       "  'product': \"Matières d'or et d'argent\",\n",
       "  'destination': 'colonies ou re-exp'},\n",
       " {'value': 7900.0, 'product': 'Bêtes de somme', 'destination': 'entrepôt'},\n",
       " {'value': 0, 'product': 'Bêtes de somme', 'destination': 'France'},\n",
       " {'value': 0,\n",
       "  'product': 'Bêtes de somme',\n",
       "  'destination': 'colonies ou re-exp'}]"
      ]
     },
     "execution_count": 10,
     "metadata": {},
     "output_type": "execute_result"
    }
   ],
   "source": [
    "all_data"
   ]
  },
  {
   "cell_type": "code",
   "execution_count": null,
   "id": "d9bec00f-7108-42f7-8567-460f75fcc0a3",
   "metadata": {},
   "outputs": [],
   "source": [
    "with open(\"data/report_dunkerque.json\", \"w\") as f:\n",
    "    json.dump(report_dk, f)"
   ]
  },
  {
   "cell_type": "code",
   "execution_count": null,
   "id": "9153fa26-2a15-4800-a2d1-5f679a6c5be2",
   "metadata": {},
   "outputs": [],
   "source": [
    "with open(\"data/report_other_regions.json\", \"w\") as f:\n",
    "    json.dump(report_others, f)"
   ]
  },
  {
   "cell_type": "code",
   "execution_count": null,
   "id": "bada79ad",
   "metadata": {},
   "outputs": [],
   "source": [
    "with open(\"data/export_dunkerque_entreprôt.json\", \"w\") as f:\n",
    "    json.dump(all_data, f)"
   ]
  }
 ],
 "metadata": {
  "kernelspec": {
   "display_name": "Python 3 (ipykernel)",
   "language": "python",
   "name": "python3"
  },
  "language_info": {
   "codemirror_mode": {
    "name": "ipython",
    "version": 3
   },
   "file_extension": ".py",
   "mimetype": "text/x-python",
   "name": "python",
   "nbconvert_exporter": "python",
   "pygments_lexer": "ipython3",
   "version": "3.8.3"
  }
 },
 "nbformat": 4,
 "nbformat_minor": 5
}
